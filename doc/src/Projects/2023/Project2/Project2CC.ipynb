{
 "cells": [
  {
   "cell_type": "markdown",
   "id": "8eacbc8f",
   "metadata": {
    "editable": true
   },
   "source": [
    "<!-- HTML file automatically generated from DocOnce source (https://github.com/doconce/doconce/)\n",
    "doconce format html Project2CC.do.txt  -->\n",
    "<!-- dom:TITLE: FYS4411/9411 Project 2, Coupled cluster studies of electronic systems. Deadline May 31 -->"
   ]
  },
  {
   "cell_type": "markdown",
   "id": "297c494a",
   "metadata": {
    "editable": true
   },
   "source": [
    "# FYS4411/9411 Project 2, Coupled cluster studies of electronic systems. Deadline May 31\n",
    "**[Computational Physics II FYS4411/FYS9411](http://www.uio.no/studier/emner/matnat/fys/FYS4411/index-eng.html)**, Department of Physics, University of Oslo, Norway\n",
    "\n",
    "Date: **Spring semester 2023**"
   ]
  },
  {
   "cell_type": "markdown",
   "id": "e9376e9e",
   "metadata": {
    "editable": true
   },
   "source": [
    "## Introduction\n",
    "\n",
    "The aim of this project is to use the coupled cluster method\n",
    "method to evaluate \n",
    "the ground state energy of \n",
    "quantum dots with $N=2$, $N=6$, $N=12$ and $N=20$ electrons. These are so-called closed shell systems.\n",
    "These systems can however be changed to other ones. This is a project which favors people who have studied many-body physics at the level of FYS4480/9480."
   ]
  },
  {
   "cell_type": "markdown",
   "id": "42765fb4",
   "metadata": {
    "editable": true
   },
   "source": [
    "## Theoretical background and description of the physical system\n",
    "\n",
    "We consider a system of electrons confined in a pure two-dimensional \n",
    "isotropic harmonic oscillator potential, with an idealized  total Hamiltonian given by"
   ]
  },
  {
   "cell_type": "markdown",
   "id": "effc839a",
   "metadata": {
    "editable": true
   },
   "source": [
    "<!-- Equation labels as ordinary links -->\n",
    "<div id=\"eq:finalH\"></div>\n",
    "\n",
    "$$\n",
    "\\begin{equation}\n",
    "\\label{eq:finalH} \\tag{1}\n",
    "\\hat{H}=\\sum_{i=1}^{N} \\left(  -\\frac{1}{2} \\nabla_i^2 + \\frac{1}{2} \\omega^2r_i^2  \\right)+\\sum_{i<j}^{N}\\frac{1}{r_{ij}},\n",
    "\\end{equation}\n",
    "$$"
   ]
  },
  {
   "cell_type": "markdown",
   "id": "b362f5ca",
   "metadata": {
    "editable": true
   },
   "source": [
    "where natural units ($\\hbar=c=e=m_e=1$) are used and all energies are in so-called atomic units a.u. We will study systems of many electrons $N$ as functions of the oscillator frequency  $\\omega$ using the above Hamiltonian.  The Hamiltonian includes a standard harmonic oscillator part"
   ]
  },
  {
   "cell_type": "markdown",
   "id": "50589101",
   "metadata": {
    "editable": true
   },
   "source": [
    "$$\n",
    "\\hat{H}_0=\\sum_{i=1}^{N} \\left(  -\\frac{1}{2} \\nabla_i^2 + \\frac{1}{2} \\omega^2r_i^2  \\right),\n",
    "$$"
   ]
  },
  {
   "cell_type": "markdown",
   "id": "a16cb8fe",
   "metadata": {
    "editable": true
   },
   "source": [
    "and the repulsive interaction between two electrons given by"
   ]
  },
  {
   "cell_type": "markdown",
   "id": "a5bc3687",
   "metadata": {
    "editable": true
   },
   "source": [
    "$$\n",
    "\\hat{H}_I=\\sum_{i < j}^{N}\\frac{1}{r_{ij}},\n",
    "$$"
   ]
  },
  {
   "cell_type": "markdown",
   "id": "d5563474",
   "metadata": {
    "editable": true
   },
   "source": [
    "with the distance between electrons given by $r_{ij}=\\sqrt{\\boldsymbol{r}_1-\\boldsymbol{r}_2}$. We define the \n",
    "modulus of the positions of the electrons (for a given electron $i$) as $r_i = \\sqrt{r_{i_x}^2+r_{i_y}^2}$.\n",
    "There is no spin-orbit part in the two-body Hamiltonian and the different parts of the Hamiltonian have no spin operators. This means that the spin of a single-particle state or a many-particle state is a conserved quantity. \n",
    "\n",
    "If only the harmonic oscillator part of the Hamiltonian,\n",
    "the so-called unperturbed part is given by"
   ]
  },
  {
   "cell_type": "markdown",
   "id": "cffa3944",
   "metadata": {
    "editable": true
   },
   "source": [
    "$$\n",
    "\\hat{H}_0=\\sum_{i=1}^{N} \\left(  -\\frac{1}{2} \\nabla_i^2 + \\frac{1}{2} \\omega^2r_i^2  \\right).\n",
    "$$"
   ]
  },
  {
   "cell_type": "markdown",
   "id": "07e97766",
   "metadata": {
    "editable": true
   },
   "source": [
    "The wave function for one electron in an oscillator potential in two dimensions is"
   ]
  },
  {
   "cell_type": "markdown",
   "id": "b38f4b42",
   "metadata": {
    "editable": true
   },
   "source": [
    "$$\n",
    "\\phi_{n_x,n_y}(x,y) = A H_{n_x}(\\sqrt{\\omega}x)H_{n_y}(\\sqrt{\\omega}y)\\exp{(-\\omega(x^2+y^2)/2}.\n",
    "$$"
   ]
  },
  {
   "cell_type": "markdown",
   "id": "6b0f47fe",
   "metadata": {
    "editable": true
   },
   "source": [
    "The functions $H_{n_x}(\\sqrt{\\omega}x)$ are so-called Hermite polynomials, discussed in the appendix while $A$ is a normalization constant. \n",
    "For the lowest-lying state we have $n_x=n_y=0$ and an energy $\\epsilon_{n_x,n_y}=\\omega(n_x+n_y+1) = \\omega$.\n",
    "\n",
    "In our case the single-particle basis is provided by the harmonic oscillator functions. The first part of this project deals thus with the setup of the basis functions and the computation of matrix elements for the Coulomb interaction."
   ]
  },
  {
   "cell_type": "markdown",
   "id": "6c22113d",
   "metadata": {
    "editable": true
   },
   "source": [
    "### Getting started\n",
    "\n",
    "Make a program that sets up all the quantum numbers for the single-particle basis using a harmonic oscillator in two dimensions. The list should contain the quantum numbers $n_x$ and $n_y$, spin and its projection and the single particle energies in atomic units. Define a cutoff in the list according to the harmonic oscillator excitation energy. The table here lists the first four harmonic oscillator shells, with its pertinent degeneracies, and the total number of electrons which can be accomodated up to a given energy. These numbers are the so-called *magic numbers* for a two-dimensional quantum dot. The degeneracies take into account the two spin values an electron can take. Convince yourself about the correctness of this table and use it to check that your code is running correctly.\n",
    "\n",
    "<table class=\"dotable\" border=\"1\">\n",
    "<thead>\n",
    "<tr><th align=\"center\">Shell number</th> <th align=\"center\">           $(n_x, n_y)$           </th> <th align=\"center\">    Energy    </th> <th align=\"center\">Degeneracy</th> <th align=\"center\">$N$</th> </tr>\n",
    "</thead>\n",
    "<tbody>\n",
    "<tr><td align=\"center\">   1               </td> <td align=\"center\">   $(0,0)$                               </td> <td align=\"center\">   $\\hbar\\omega$     </td> <td align=\"center\">   2             </td> <td align=\"center\">   2      </td> </tr>\n",
    "<tr><td align=\"center\">   2               </td> <td align=\"center\">   $(1,0)$, $(0,1)$                      </td> <td align=\"center\">   $2\\hbar\\omega$    </td> <td align=\"center\">   4             </td> <td align=\"center\">   6      </td> </tr>\n",
    "<tr><td align=\"center\">   3               </td> <td align=\"center\">   $(2,0)$, $(0,2)$, $(1,1)$             </td> <td align=\"center\">   $3\\hbar\\omega$    </td> <td align=\"center\">   6             </td> <td align=\"center\">   12     </td> </tr>\n",
    "<tr><td align=\"center\">   3               </td> <td align=\"center\">   $(3,0)$, $(0,3)$, $(2,1)$, $(1,2)$    </td> <td align=\"center\">   $4\\hbar\\omega$    </td> <td align=\"center\">   8             </td> <td align=\"center\">   20     </td> </tr>\n",
    "</tbody>\n",
    "</table>\n",
    "\n",
    "Convince yourself that the unperturbed lowest-lying energy for the two-electron system  is simply $2\\omega$. Similarly, find the corresponding energies for $N=6$, $N=12$, $N=20$ and $N=30$ electrons.\n",
    "These results will turn out to be very useful when you need to check your programs."
   ]
  },
  {
   "cell_type": "markdown",
   "id": "a687b0b6",
   "metadata": {
    "editable": true
   },
   "source": [
    "### Setting up the single-particle basis\n",
    "\n",
    "With the single-particle basis from the previous step, you should now write a class which encodes the information about the harmonic oscillator single-particle basis. This should include the single-particle energies, spin and its projections as well as the harmonic oscillator  functions that depend on $n_x$ and $n_y$."
   ]
  },
  {
   "cell_type": "markdown",
   "id": "5aba577e",
   "metadata": {
    "editable": true
   },
   "source": [
    "### Computing the two-body matrix elements\n",
    "\n",
    "In order to set up the two-body matrix elements, we need to define the so-called direct and exchange matrix elements. This leads to what we call an anti-symmetrized matrix element.\n",
    "\n",
    "We introduce the following shorthands for the  integrals"
   ]
  },
  {
   "cell_type": "markdown",
   "id": "f1ec40e2",
   "metadata": {
    "editable": true
   },
   "source": [
    "$$\n",
    "\\langle pq|\\hat{v}|rs\\rangle =  \\int \\psi_{p}^*(x_i)\\psi_{q}^*(x_j)V(r_{ij})\\psi_{r}(x_i)\\psi_{s}(x_j)\n",
    "    dx_idx_j,\n",
    "$$"
   ]
  },
  {
   "cell_type": "markdown",
   "id": "a0d7f019",
   "metadata": {
    "editable": true
   },
   "source": [
    "which defines the so-called direct matrix element \n",
    "and"
   ]
  },
  {
   "cell_type": "markdown",
   "id": "50a98f3d",
   "metadata": {
    "editable": true
   },
   "source": [
    "$$\n",
    "\\langle pq|\\hat{v}|sr\\rangle = \\int \\psi_{p}^*(x_i)\\psi_{q}^*(x_j)\n",
    "  V(r_{ij})\\psi_{s}(x_i)\\psi_{r}(x_j)\n",
    "  dx_idx_j,\n",
    "$$"
   ]
  },
  {
   "cell_type": "markdown",
   "id": "5009ef81",
   "metadata": {
    "editable": true
   },
   "source": [
    "which defines the exchange element. The variables $pqrs$ define all the single-particle quantum numbers. In our case these are $n_x$, $n_y$ and spin and its projections.\n",
    "\n",
    "These matrix elements are defined in terms of two-body quantum numbers. Which quantum numbers are conserved?\n",
    "Which are  the possible values the total spin of a two-body state can have?\n",
    "\n",
    "The direct and exchange matrix elements can be  brought together if we define the anti-symmetrized matrix element"
   ]
  },
  {
   "cell_type": "markdown",
   "id": "e7a1ad11",
   "metadata": {
    "editable": true
   },
   "source": [
    "$$\n",
    "\\langle pq|\\hat{v}|rs\\rangle_{\\mathrm{AS}}= \\langle pq|\\hat{v}|rs\\rangle-\\langle pq|\\hat{v}|sr\\rangle.\n",
    "$$"
   ]
  },
  {
   "cell_type": "markdown",
   "id": "b7347fbf",
   "metadata": {
    "editable": true
   },
   "source": [
    "It has the symmetry property"
   ]
  },
  {
   "cell_type": "markdown",
   "id": "d3d1d96b",
   "metadata": {
    "editable": true
   },
   "source": [
    "$$\n",
    "\\langle pq|\\hat{v}|rs\\rangle_{\\mathrm{AS}}= -\\langle pq|\\hat{v}|sr\\rangle_{\\mathrm{AS}}=-\\langle qp|\\hat{v}|rs\\rangle_{\\mathrm{AS}},\n",
    "$$"
   ]
  },
  {
   "cell_type": "markdown",
   "id": "4ec7197d",
   "metadata": {
    "editable": true
   },
   "source": [
    "and"
   ]
  },
  {
   "cell_type": "markdown",
   "id": "cb77b0e7",
   "metadata": {
    "editable": true
   },
   "source": [
    "$$\n",
    "\\langle pq|\\hat{v}|rs\\rangle_{\\mathrm{AS}}= \\langle qp|\\hat{v}|sr\\rangle_{\\mathrm{AS}}.\n",
    "$$"
   ]
  },
  {
   "cell_type": "markdown",
   "id": "d53e0dc8",
   "metadata": {
    "editable": true
   },
   "source": [
    "Your task is to write a function which calculates the integral"
   ]
  },
  {
   "cell_type": "markdown",
   "id": "e29531d1",
   "metadata": {
    "editable": true
   },
   "source": [
    "$$\n",
    "\\langle pq|\\hat{v}|rs\\rangle =  \\int \\psi_{p}^*(x_i)\\psi_{q}^*(x_j)V(r_{ij})\\psi_{r}(x_i)\\psi_{s}(x_j)\n",
    "    dx_idx_j,\n",
    "$$"
   ]
  },
  {
   "cell_type": "markdown",
   "id": "fbd4fb85",
   "metadata": {
    "editable": true
   },
   "source": [
    "and then assemble the direct and exchange terms in order to construct\n",
    "the anti-symmetrized matrix elements to be used as inputs to the\n",
    "coupled cluster code. The integral needs to be parallelized.\n",
    "[Chapter\n",
    "five](https://github.com/CompPhysics/ComputationalPhysics2/blob/gh-pages/doc/Literature/lectures2015.pdf)\n",
    "of the lecture notes discusses Gaussian quadrature. You may find it\n",
    "convenient to use Hermite polynomials in order to set up the\n",
    "integration points and weights."
   ]
  },
  {
   "cell_type": "markdown",
   "id": "6b682636",
   "metadata": {
    "editable": true
   },
   "source": [
    "### Coupled Cluster theory\n",
    "\n",
    "The aim of this project is to develop a coupled cluster doubles (CCD)\n",
    "code, where $2p-2h$ excitations are included only.\n",
    "\n",
    "We will start with a two-electron problem and compare our results to those of Taut, see reference [1] below. \n",
    "\n",
    "The ansatz for the ground state  is given by"
   ]
  },
  {
   "cell_type": "markdown",
   "id": "817711ab",
   "metadata": {
    "editable": true
   },
   "source": [
    "$$\n",
    "\\vert \\Psi_0\\rangle = \\vert \\Psi_{CC}\\rangle = e^{\\hat{T}} \\vert\n",
    "     \\Phi_0\\rangle = \\left( \\sum_{n=1}^{N} \\frac{1}{n!} \\hat{T}^n\n",
    "     \\right) \\vert \\Phi_0\\rangle,\n",
    "$$"
   ]
  },
  {
   "cell_type": "markdown",
   "id": "9fc85b23",
   "metadata": {
    "editable": true
   },
   "source": [
    "where $N$ represents the maximum number of particle-hole excitations\n",
    "  and $\\hat{T}$ is the cluster operator defined as"
   ]
  },
  {
   "cell_type": "markdown",
   "id": "ce989a2b",
   "metadata": {
    "editable": true
   },
   "source": [
    "$$\n",
    "\\begin{align*}\n",
    "              \\hat{T} &= \\hat{T}_1 + \\hat{T}_2 + \\ldots + \\hat{T}_N\n",
    "              \\\\ \\hat{T}_n &= \\left(\\frac{1}{n!}\\right)^2\n",
    "              \\sum_{\\substack{ i_1,i_2,\\ldots i_n \\\\ a_1,a_2,\\ldots\n",
    "                  a_n}} t_{i_1i_2\\ldots i_n}^{a_1a_2\\ldots a_n}\n",
    "              a_{a_1}^\\dagger a_{a_2}^\\dagger \\ldots a_{a_n}^\\dagger\n",
    "              a_{i_n} \\ldots a_{i_2} a_{i_1}.\n",
    "          \\end{align*}\n",
    "$$"
   ]
  },
  {
   "cell_type": "markdown",
   "id": "0ac1104a",
   "metadata": {
    "editable": true
   },
   "source": [
    "The energy is given by"
   ]
  },
  {
   "cell_type": "markdown",
   "id": "3cf0cfc2",
   "metadata": {
    "editable": true
   },
   "source": [
    "$$\n",
    "E_{\\mathrm{CC}} = \\langle\\Phi_0\\vert \\overline{H}\\vert\n",
    "          \\Phi_0\\rangle,\n",
    "$$"
   ]
  },
  {
   "cell_type": "markdown",
   "id": "5f3e63f0",
   "metadata": {
    "editable": true
   },
   "source": [
    "where $\\overline{H}$ is a similarity transformed Hamiltonian"
   ]
  },
  {
   "cell_type": "markdown",
   "id": "89565036",
   "metadata": {
    "editable": true
   },
   "source": [
    "$$\n",
    "\\begin{align*}\n",
    "          \\overline{H}&= e^{-\\hat{T}} \\hat{H}_N e^{\\hat{T}}\n",
    "          \\\\ \\hat{H}_N &= \\hat{H} - \\langle\\Phi_0\\vert \\hat{H} \\vert\n",
    "          \\Phi_0\\rangle.\n",
    "      \\end{align*}\n",
    "$$"
   ]
  },
  {
   "cell_type": "markdown",
   "id": "8daf8993",
   "metadata": {
    "editable": true
   },
   "source": [
    "The coupled cluster energy is a function of the unknown cluster\n",
    "      amplitudes $t_{i_1i_2\\ldots i_n}^{a_1a_2\\ldots a_n}$, given by\n",
    "      the solutions to the amplitude equations"
   ]
  },
  {
   "cell_type": "markdown",
   "id": "c92389e1",
   "metadata": {
    "editable": true
   },
   "source": [
    "<!-- Equation labels as ordinary links -->\n",
    "<div id=\"eq:amplitudeeq\"></div>\n",
    "\n",
    "$$\n",
    "\\begin{equation}\\label{eq:amplitudeeq} \\tag{2}\n",
    "          0 = \\langle\\Phi_{i_1 \\ldots i_n}^{a_1 \\ldots a_n}\\vert\n",
    "          \\overline{H}\\vert \\Phi_0\\rangle.\n",
    "      \\end{equation}\n",
    "$$"
   ]
  },
  {
   "cell_type": "markdown",
   "id": "5ab95a60",
   "metadata": {
    "editable": true
   },
   "source": [
    "In order to set up the above equations, \n",
    "the similarity transformed Hamiltonian $\\overline{H}$ is expanded\n",
    "  using the Baker-Campbell-Hausdorff expression,"
   ]
  },
  {
   "cell_type": "markdown",
   "id": "6a8e7198",
   "metadata": {
    "editable": true
   },
   "source": [
    "<!-- Equation labels as ordinary links -->\n",
    "<div id=\"eq:bch\"></div>\n",
    "\n",
    "$$\n",
    "\\begin{equation}\\label{eq:bch} \\tag{3}\n",
    "          \\overline{H}= \\hat{H}_N + \\left[ \\hat{H}_N, \\hat{T} \\right]\n",
    "          + \\frac{1}{2} \\left[\\left[ \\hat{H}_N, \\hat{T} \\right],\n",
    "            \\hat{T}\\right] + \\ldots + \\frac{1}{n!} \\left[\n",
    "            \\ldots \\left[ \\hat{H}_N, \\hat{T} \\right], \\ldots \\hat{T}\n",
    "            \\right] +\\dots\n",
    "      \\end{equation}\n",
    "$$"
   ]
  },
  {
   "cell_type": "markdown",
   "id": "7100ac81",
   "metadata": {
    "editable": true
   },
   "source": [
    "and simplified using the connected cluster theorem"
   ]
  },
  {
   "cell_type": "markdown",
   "id": "c4184cfb",
   "metadata": {
    "editable": true
   },
   "source": [
    "$$\n",
    "\\overline{H}= \\hat{H}_N + \\left( \\hat{H}_N \\hat{T}\\right)_c\n",
    "          + \\frac{1}{2} \\left( \\hat{H}_N \\hat{T}^2\\right)_c + \\dots +\n",
    "          \\frac{1}{n!} \\left( \\hat{H}_N \\hat{T}^n\\right)_c +\\dots\n",
    "$$"
   ]
  },
  {
   "cell_type": "markdown",
   "id": "689b74eb",
   "metadata": {
    "editable": true
   },
   "source": [
    "We will discuss parts of the the derivation below.\n",
    "\n",
    "  We will now approximate the cluster operator $\\hat{T}$ to include\n",
    "  only $2p-2h$ correlations. This leads to the so-called CCD\n",
    "  approximation, that is"
   ]
  },
  {
   "cell_type": "markdown",
   "id": "448b71a9",
   "metadata": {
    "editable": true
   },
   "source": [
    "$$\n",
    "\\hat{T}\\approx\n",
    "  \\hat{T}_2=\\frac{1}{4}\\sum_{abij}t_{ij}^{ab}a^{\\dagger}_aa^{\\dagger}_ba_ja_i,\n",
    "$$"
   ]
  },
  {
   "cell_type": "markdown",
   "id": "fcb28e4f",
   "metadata": {
    "editable": true
   },
   "source": [
    "meaning that we have"
   ]
  },
  {
   "cell_type": "markdown",
   "id": "fcc46af4",
   "metadata": {
    "editable": true
   },
   "source": [
    "$$\n",
    "\\vert \\Psi_0 \\rangle \\approx \\vert \\Psi_{CCD} \\rangle =\n",
    "  \\exp{\\left(\\hat{T}_2\\right)}\\vert \\Phi_0\\rangle.\n",
    "$$"
   ]
  },
  {
   "cell_type": "markdown",
   "id": "70cbeec5",
   "metadata": {
    "editable": true
   },
   "source": [
    "Inserting these equations in the expression for the computation of\n",
    "  the energy we have, with a Hamiltonian defined with respect to a\n",
    "  general reference vacuum"
   ]
  },
  {
   "cell_type": "markdown",
   "id": "b4169fd1",
   "metadata": {
    "editable": true
   },
   "source": [
    "$$\n",
    "\\hat{H}=\\hat{H}_N+E_{\\mathrm{ref}},\n",
    "$$"
   ]
  },
  {
   "cell_type": "markdown",
   "id": "cbcf0c84",
   "metadata": {
    "editable": true
   },
   "source": [
    "with"
   ]
  },
  {
   "cell_type": "markdown",
   "id": "1273d650",
   "metadata": {
    "editable": true
   },
   "source": [
    "$$\n",
    "\\hat{H}_N=\\sum_{pq}\\langle p \\vert \\hat{f} \\vert q \\rangle\n",
    "  a^{\\dagger}_pa_q + \\frac{1}{4}\\sum_{pqrs}\\langle pq \\vert \\hat{v}\n",
    "  \\vert rs \\rangle a^{\\dagger}_pa^{\\dagger}_qa_sa_r,\n",
    "$$"
   ]
  },
  {
   "cell_type": "markdown",
   "id": "37b60f08",
   "metadata": {
    "editable": true
   },
   "source": [
    "we obtain that the energy can be written as"
   ]
  },
  {
   "cell_type": "markdown",
   "id": "7c34c4ca",
   "metadata": {
    "editable": true
   },
   "source": [
    "$$\n",
    "\\langle \\Phi_0 \\vert\n",
    "  \\exp{\\left(-\\hat{T}_2\\right)}\\hat{H}_N\\exp{\\left(\\hat{T}_2\\right)}\\vert\n",
    "  \\Phi_0\\rangle = \\langle \\Phi_0 \\vert \\hat{H}_N(1+\\hat{T}_2)\\vert\n",
    "  \\Phi_0\\rangle = E_{CCD}.\n",
    "$$"
   ]
  },
  {
   "cell_type": "markdown",
   "id": "7f11722e",
   "metadata": {
    "editable": true
   },
   "source": [
    "This quantity becomes"
   ]
  },
  {
   "cell_type": "markdown",
   "id": "938ee19e",
   "metadata": {
    "editable": true
   },
   "source": [
    "$$\n",
    "E_{CCD}=E_{\\mathrm{ref}}+\\frac{1}{4}\\sum_{abij}\\langle ij \\vert\n",
    "  \\hat{v} \\vert ab \\rangle t_{ij}^{ab},\n",
    "$$"
   ]
  },
  {
   "cell_type": "markdown",
   "id": "1d18eac1",
   "metadata": {
    "editable": true
   },
   "source": [
    "where the latter is the correlation energy from this level of\n",
    "  approximation of coupled cluster  theory.  Similarly, the expression for the\n",
    "  amplitudes reads"
   ]
  },
  {
   "cell_type": "markdown",
   "id": "2af89db2",
   "metadata": {
    "editable": true
   },
   "source": [
    "$$\n",
    "\\langle \\Phi_{ij}^{ab} \\vert\n",
    "  \\exp{\\left(-\\hat{T}_2\\right)}\\hat{H}_N\\exp{\\left(\\hat{T}_2\\right)}\\vert\n",
    "  \\Phi_0\\rangle = 0.\n",
    "$$"
   ]
  },
  {
   "cell_type": "markdown",
   "id": "b27ca220",
   "metadata": {
    "editable": true
   },
   "source": [
    "These equations can be reduced to (after several applications of\n",
    "  Wick's theorem), for all $i > j$ and all $a > b$,"
   ]
  },
  {
   "cell_type": "markdown",
   "id": "506f82bf",
   "metadata": {
    "editable": true
   },
   "source": [
    "$$\n",
    "0 = \\langle ab \\vert \\hat{v} \\vert ij \\rangle +\n",
    "  \\left(\\epsilon_a+\\epsilon_b-\\epsilon_i-\\epsilon_j\\right)t_{ij}^{ab}+\\frac{1}{2}\\sum_{cd} \\langle ab \\vert \\hat{v} \\vert\n",
    "  cd \\rangle t_{ij}^{cd}+\\frac{1}{2}\\sum_{kl} \\langle kl \\vert \\hat{v}\n",
    "  \\vert ij \\rangle t_{kl}^{ab}+\\hat{P}(ij\\vert ab)\\sum_{kc} \\langle kb\n",
    "  \\vert \\hat{v} \\vert cj \\rangle t_{ik}^{ac}  \\nonumber\n",
    "$$"
   ]
  },
  {
   "cell_type": "markdown",
   "id": "bbe67210",
   "metadata": {
    "editable": true
   },
   "source": [
    "<!-- Equation labels as ordinary links -->\n",
    "<div id=\"eq:ccd\"></div>\n",
    "\n",
    "$$\n",
    "\\begin{equation}  +\\frac{1}{4}\\sum_{klcd} \\langle kl \\vert \\hat{v} \\vert cd \\rangle\n",
    "  t_{ij}^{cd}t_{kl}^{ab}+\\hat{P}(ij)\\sum_{klcd} \\langle kl \\vert\n",
    "  \\hat{v} \\vert cd \\rangle t_{ik}^{ac}t_{jl}^{bd}-\\frac{1}{2}\\hat{P}(ij)\\sum_{klcd} \\langle kl \\vert \\hat{v} \\vert\n",
    "  cd \\rangle t_{ik}^{dc}t_{lj}^{ab}-\\frac{1}{2}\\hat{P}(ab)\\sum_{klcd}\n",
    "  \\langle kl \\vert \\hat{v} \\vert cd \\rangle t_{lk}^{ac}t_{ij}^{db},\n",
    "  \\label{eq:ccd} \\tag{4}\n",
    "  \\end{equation}\n",
    "$$"
   ]
  },
  {
   "cell_type": "markdown",
   "id": "2556c324",
   "metadata": {
    "editable": true
   },
   "source": [
    "where we have defined"
   ]
  },
  {
   "cell_type": "markdown",
   "id": "60dc4599",
   "metadata": {
    "editable": true
   },
   "source": [
    "$$\n",
    "\\hat{P}\\left(ab\\right)= 1-\\hat{P}_{ab},\n",
    "$$"
   ]
  },
  {
   "cell_type": "markdown",
   "id": "a005af2a",
   "metadata": {
    "editable": true
   },
   "source": [
    "where $\\hat{P}_{ab}$ interchanges two particles occupying the\n",
    "  quantum numbers $a$ and $b$.  The operator $\\hat{P}(ij\\vert ab)$ is\n",
    "  defined as"
   ]
  },
  {
   "cell_type": "markdown",
   "id": "a842a519",
   "metadata": {
    "editable": true
   },
   "source": [
    "$$\n",
    "\\hat{P}(ij\\vert ab) = (1-\\hat{P}_{ij})(1-\\hat{P}_{ab}).\n",
    "$$"
   ]
  },
  {
   "cell_type": "markdown",
   "id": "44c929f7",
   "metadata": {
    "editable": true
   },
   "source": [
    "The single-particle energies $\\epsilon_p$ are normally taken to be either plain harmonic oscillator ones or Hartree-Fock single-particle energies.\n",
    "  Recall also that the unknown amplitudes $t_{ij}^{ab}$ represent\n",
    "  anti-symmetrized matrix elements, meaning that they obey the same\n",
    "  symmetry relations as the two-body interaction, that is"
   ]
  },
  {
   "cell_type": "markdown",
   "id": "c94cd49b",
   "metadata": {
    "editable": true
   },
   "source": [
    "$$\n",
    "t_{ij}^{ab}=-t_{ji}^{ab}=-t_{ij}^{ba}=t_{ji}^{ba}.\n",
    "$$"
   ]
  },
  {
   "cell_type": "markdown",
   "id": "02f85872",
   "metadata": {
    "editable": true
   },
   "source": [
    "The two-body matrix elements are also anti-symmetrized, meaning that"
   ]
  },
  {
   "cell_type": "markdown",
   "id": "b9959cf0",
   "metadata": {
    "editable": true
   },
   "source": [
    "$$\n",
    "\\langle ab \\vert \\hat{v} \\vert ij \\rangle = -\\langle ab \\vert\n",
    "  \\hat{v} \\vert ji \\rangle= -\\langle ba \\vert \\hat{v} \\vert ij\n",
    "  \\rangle=\\langle ba \\vert \\hat{v} \\vert ji \\rangle.\n",
    "$$"
   ]
  },
  {
   "cell_type": "markdown",
   "id": "5c96be63",
   "metadata": {
    "editable": true
   },
   "source": [
    "The non-linear equations for the unknown amplitudes $t_{ij}^{ab}$\n",
    "  are solved iteratively. \n",
    "\n",
    "In order to develop a program, chapter 8 of the recent [Lecture Notes in Physics (volume 936)](http://www.springer.com/us/book/9783319533353) is highly recommended as literature.\n",
    "All material is available from the [source site](https://github.com/ManyBodyPhysics/LectureNotesPhysics/blob/master/doc/src/lnp.pdf). Example of CCD codes are available from the [program site](https://github.com/ManyBodyPhysics/LectureNotesPhysics/tree/master/Programs/Chapter8-programs/cpp/CCD). These can be used to benchmark your own program."
   ]
  },
  {
   "cell_type": "markdown",
   "id": "258d1bde",
   "metadata": {
    "editable": true
   },
   "source": [
    "### Project 2 a):\n",
    "\n",
    "Here you should feel free to use either a plain harmonic oscillator basis or Hartree-Fock basis.\n",
    "If you have performed Hartree-Fock calculations and are familiar with these, the Hartree-Fock basis defines the so-called reference energy"
   ]
  },
  {
   "cell_type": "markdown",
   "id": "89739f37",
   "metadata": {
    "editable": true
   },
   "source": [
    "<!-- Equation labels as ordinary links -->\n",
    "<div id=\"_auto1\"></div>\n",
    "\n",
    "$$\n",
    "\\begin{equation}\n",
    "  E_{\\mathrm{ref}} = \\sum_{i\\le F} \\sum_{\\alpha\\beta}\n",
    "  C^*_{i\\alpha}C_{i\\beta}\\langle \\alpha | h | \\beta \\rangle +\n",
    "  \\frac{1}{2}\\sum_{ij\\le F}\\sum_{{\\alpha\\beta\\gamma\\delta}}\n",
    "  C^*_{i\\alpha}C^*_{j\\beta}C_{i\\gamma}C_{j\\delta}\\langle\n",
    "  \\alpha\\beta|\\hat{v}|\\gamma\\delta\\rangle. \n",
    "\\label{_auto1} \\tag{5}\n",
    "\\end{equation}\n",
    "$$"
   ]
  },
  {
   "cell_type": "markdown",
   "id": "25069e58",
   "metadata": {
    "editable": true
   },
   "source": [
    "If you plan to use Hartree-Fock based matrix elements,\n",
    "you will need to transform the matrix elements from the harmonic oscillator basis to the Hartree-Fock basis.\n",
    "The first step is to program"
   ]
  },
  {
   "cell_type": "markdown",
   "id": "94cf6594",
   "metadata": {
    "editable": true
   },
   "source": [
    "<!-- Equation labels as ordinary links -->\n",
    "<div id=\"_auto2\"></div>\n",
    "\n",
    "$$\n",
    "\\begin{equation}\n",
    "  \\langle pq \\vert \\hat{v} \\vert rs\\rangle_{AS}=\n",
    "  \\sum_{{\\alpha\\beta\\gamma\\delta}}\n",
    "  C^*_{p\\alpha}C^*_{q\\beta}C_{r\\gamma}C_{s\\delta}\\langle\n",
    "  \\alpha\\beta|\\hat{v}|\\gamma\\delta\\rangle_{AS}, \n",
    "\\label{_auto2} \\tag{6}\n",
    "\\end{equation}\n",
    "$$"
   ]
  },
  {
   "cell_type": "markdown",
   "id": "d83c30cd",
   "metadata": {
    "editable": true
   },
   "source": [
    "where the coefficients are those from the last Hartree-Fock iteration and the matrix elements are all anti-symmetrized.\n",
    "You can extend your Hartree-Fock program to write out these matrix elements after the last Hartree-Fock iteration.\n",
    "Make sure that your matrix elements are structured according to conserved quantum numbers, avoiding thereby the write out of many zeros. \n",
    "\n",
    "To test that your matrix elements are set up correctly, when you read in these matrix elements in the CCD code, make sure that the reference energy from your Hartree-Fock calculations are reproduced. Alternatively, you can just use the standard harmonic oscillator one-body and two-body matrix elements."
   ]
  },
  {
   "cell_type": "markdown",
   "id": "90dd732b",
   "metadata": {
    "editable": true
   },
   "source": [
    "### Project 2 b):\n",
    "\n",
    "Set up a code which solves the CCD equation by encoding the equations as they stand, that is follow the mathematical expressions and perform the sums over all single-particle states.  Compute the energy of the two-electron systems using \n",
    "all single-particle states. Compare these with Taut's results for $\\omega=1$ a.u.  Since you do not include singles you will not get the exact result. If you wish to include singles, you will able to obtain the exact results in a basis with at least ten major oscillator shells.  \n",
    "Perform also calculations with $N=6$, $N=12$ and $N=20$ electrons and compare with reference [2] of Pedersen et al below."
   ]
  },
  {
   "cell_type": "markdown",
   "id": "d0c8c8f9",
   "metadata": {
    "editable": true
   },
   "source": [
    "### Project 2 c):\n",
    "\n",
    "The next step consists in rewriting the equations in terms of matrix-matrix multiplications and subdividing \n",
    "the matrix elements and operations in terms of two-particle configuration that conserve total spin projection and projection of the orbital momentum. Rewrite also the equations in terms of so-called intermediates, as detailed \n",
    "in section 8.7 of [Lietz et al](https://github.com/ManyBodyPhysics/LectureNotesPhysics/blob/master/doc/src/lnp.pdf).\n",
    "This section gives a detailed description on how to build a coupled cluster code and is highly recommended. \n",
    "\n",
    "Rerun your calculations for $=2$, $N=6$, $N=12$ and $N=20$ electrons using your optimal Hartree-Fock basis. Make sure your results from 2b) stay the same. \n",
    "\n",
    "Calculate as well ground state energies for $\\omega=0.5$ and $\\omega=0.1$. Try to compare with eventual variational\n",
    "Monte Carlo results from other students, if possible."
   ]
  },
  {
   "cell_type": "markdown",
   "id": "96ddece0",
   "metadata": {
    "editable": true
   },
   "source": [
    "### Project 2 d):\n",
    "\n",
    "The final step is to parallelize your CCD code using either OpenMP or MPI and do a performance analysis. Use the $N=6$ case. Make a performance analysis by timing your serial code\n",
    "with and without vectorization. Perform several runs and compute an average timing analysis\n",
    "with and without vectorization. Comment your results. \n",
    "\n",
    "Compare thereafter your serial code(s)  with the speedup you get by parallelizing your code, running either OpenMP or MPI or both.\n",
    "Do you get a near $100\\%$ speedup with the parallel version? Comment again your results and perform timing benchmarks several times in order \n",
    "to extract  an average performance time."
   ]
  },
  {
   "cell_type": "markdown",
   "id": "45498752",
   "metadata": {
    "editable": true
   },
   "source": [
    "# Additional material on Hermite polynomials\n",
    "\n",
    "The Hermite polynomials are the solutions of the following differential\n",
    "equation"
   ]
  },
  {
   "cell_type": "markdown",
   "id": "ba78aeb8",
   "metadata": {
    "editable": true
   },
   "source": [
    "<!-- Equation labels as ordinary links -->\n",
    "<div id=\"eq:hermite\"></div>\n",
    "\n",
    "$$\n",
    "\\begin{equation}\n",
    "   \\frac{d^2H(x)}{dx^2}-2x\\frac{dH(x)}{dx}+\n",
    "       (\\lambda-1)H(x)=0.\n",
    "\\label{eq:hermite} \\tag{7}\n",
    "\\end{equation}\n",
    "$$"
   ]
  },
  {
   "cell_type": "markdown",
   "id": "eab486af",
   "metadata": {
    "editable": true
   },
   "source": [
    "The first few polynomials are"
   ]
  },
  {
   "cell_type": "markdown",
   "id": "c644b394",
   "metadata": {
    "editable": true
   },
   "source": [
    "$$\n",
    "H_0(x)=1,\n",
    "$$"
   ]
  },
  {
   "cell_type": "markdown",
   "id": "72887046",
   "metadata": {
    "editable": true
   },
   "source": [
    "$$\n",
    "H_1(x)=2x,\n",
    "$$"
   ]
  },
  {
   "cell_type": "markdown",
   "id": "57bfc953",
   "metadata": {
    "editable": true
   },
   "source": [
    "$$\n",
    "H_2(x)=4x^2-2,\n",
    "$$"
   ]
  },
  {
   "cell_type": "markdown",
   "id": "c0e0824e",
   "metadata": {
    "editable": true
   },
   "source": [
    "$$\n",
    "H_3(x)=8x^3-12x,\n",
    "$$"
   ]
  },
  {
   "cell_type": "markdown",
   "id": "3d4e8bd2",
   "metadata": {
    "editable": true
   },
   "source": [
    "and"
   ]
  },
  {
   "cell_type": "markdown",
   "id": "9f48a073",
   "metadata": {
    "editable": true
   },
   "source": [
    "$$\n",
    "H_4(x)=16x^4-48x^2+12.\n",
    "$$"
   ]
  },
  {
   "cell_type": "markdown",
   "id": "511c2373",
   "metadata": {
    "editable": true
   },
   "source": [
    "They fulfil the orthogonality relation"
   ]
  },
  {
   "cell_type": "markdown",
   "id": "02efc8e3",
   "metadata": {
    "editable": true
   },
   "source": [
    "$$\n",
    "\\int_{-\\infty}^{\\infty}e^{-x^2}H_n(x)^2dx=2^nn!\\sqrt{\\pi},\n",
    "$$"
   ]
  },
  {
   "cell_type": "markdown",
   "id": "5ae86962",
   "metadata": {
    "editable": true
   },
   "source": [
    "and the recursion relation"
   ]
  },
  {
   "cell_type": "markdown",
   "id": "39bec9f5",
   "metadata": {
    "editable": true
   },
   "source": [
    "$$\n",
    "H_{n+1}(x)=2xH_{n}(x)-2nH_{n-1}(x).\n",
    "$$"
   ]
  },
  {
   "cell_type": "markdown",
   "id": "67766bf8",
   "metadata": {
    "editable": true
   },
   "source": [
    "### Literature\n",
    "\n",
    "1. M. Taut, Phys. Rev. A **48**, 3561 - 3566 (1993).\n",
    "\n",
    "2. M. L. Pedersen, G. Hagen, M. Hjorth-Jensen, S. Kvaal,  and F. Pederiva, Phys. Rev. B **84**, 115302 (2011)\n",
    "\n",
    "c. S. Riemann and M. Manninen, Reviews of Modern Physics **74**, 1283 (2002)."
   ]
  },
  {
   "cell_type": "markdown",
   "id": "d63a1b94",
   "metadata": {
    "editable": true
   },
   "source": [
    "## Introduction to numerical projects\n",
    "\n",
    "Here follows a brief recipe and recommendation on how to write a report for each\n",
    "project.\n",
    "\n",
    "  * Give a short description of the nature of the problem and the eventual  numerical methods you have used.\n",
    "\n",
    "  * Describe the algorithm you have used and/or developed. Here you may find it convenient to use pseudocoding. In many cases you can describe the algorithm in the program itself.\n",
    "\n",
    "  * Include the source code of your program. Comment your program properly.\n",
    "\n",
    "  * If possible, try to find analytic solutions, or known limits in order to test your program when developing the code.\n",
    "\n",
    "  * Include your results either in figure form or in a table. Remember to label your results. All tables and figures should have relevant captions and labels on the axes.\n",
    "\n",
    "  * Try to evaluate the reliabilty and numerical stability/precision of your results. If possible, include a qualitative and/or quantitative discussion of the numerical stability, eventual loss of precision etc.\n",
    "\n",
    "  * Try to give an interpretation of you results in your answers to  the problems.\n",
    "\n",
    "  * Critique: if possible include your comments and reflections about the  exercise, whether you felt you learnt something, ideas for improvements and  other thoughts you've made when solving the exercise. We wish to keep this course at the interactive level and your comments can help us improve it.\n",
    "\n",
    "  * Try to establish a practice where you log your work at the  computerlab. You may find such a logbook very handy at later stages in your work, especially when you don't properly remember  what a previous test version  of your program did. Here you could also record  the time spent on solving the exercise, various algorithms you may have tested or other topics which you feel worthy of mentioning."
   ]
  },
  {
   "cell_type": "markdown",
   "id": "e4a94314",
   "metadata": {
    "editable": true
   },
   "source": [
    "## Format for electronic delivery of report and programs\n",
    "\n",
    "The preferred format for the report is a PDF file. You can also use DOC or postscript formats or as an ipython notebook file.  As programming language we prefer that you choose between C/C++, Fortran2008 or Python. The following prescription should be followed when preparing the report:\n",
    "\n",
    "  * Use Devilry to hand in your projects, log in  at  <http://devilry.ifi.uio.no> with your normal UiO username and password.\n",
    "\n",
    "  * Upload **only** the report file!  For the source code file(s) you have developed please provide us with your link to your github domain.  The report file should include all of your discussions and a list of the codes you have developed.  The full version of the codes should be in your github repository.\n",
    "\n",
    "  * In your github repository, please include a folder which contains selected results. These can be in the form of output from your code for a selected set of runs and input parameters.\n",
    "\n",
    "  * Still in your github make a folder where you place your codes. \n",
    "\n",
    "  * In this and all later projects, you should include tests (for example unit tests) of your code(s).\n",
    "\n",
    "  * Comments  from us on your projects, approval or not, corrections to be made  etc can be found under your Devilry domain and are only visible to you and the teachers of the course.\n",
    "\n",
    "Finally, \n",
    "we encourage you to work two and two together. Optimal working groups consist of \n",
    "2-3 students. You can then hand in a common report."
   ]
  }
 ],
 "metadata": {},
 "nbformat": 4,
 "nbformat_minor": 5
}
