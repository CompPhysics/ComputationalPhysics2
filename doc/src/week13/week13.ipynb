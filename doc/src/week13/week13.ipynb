{
 "cells": [
  {
   "cell_type": "markdown",
   "id": "9834a1f9",
   "metadata": {
    "editable": true
   },
   "source": [
    "<!-- HTML file automatically generated from DocOnce source (https://github.com/doconce/doconce/)\n",
    "doconce format html week13.do.txt --no_mako --no_abort -->\n",
    "<!-- dom:TITLE: Discussion of Slater determinants and project 2 -->"
   ]
  },
  {
   "cell_type": "markdown",
   "id": "9c0d1a82",
   "metadata": {
    "editable": true
   },
   "source": [
    "# Discussion of Slater determinants and project 2\n",
    "**Morten Hjorth-Jensen  Email morten.hjorth-jensen@fys.uio.no**, Department of Physics and Center fo Computing in Science Education, University of Oslo, Oslo, Norway and Department of Physics and Astronomy and Facility for Rare Ion Beams, Michigan State University, East Lansing, Michigan, USA\n",
    "\n",
    "Date: **April 15-19**"
   ]
  },
  {
   "cell_type": "markdown",
   "id": "380694b2",
   "metadata": {
    "editable": true
   },
   "source": [
    "## Overview of week April 15-19\n",
    "\n",
    "1. Discussion of Slater determinants and project 2\n",
    "\n",
    "<!-- !bblock -->\n",
    "<!-- * [Video of lecture TBA](https://youtu.be/SibaquLChg8) -->\n",
    "<!-- * [Handwritten notes](https://github.com/CompPhysics/ComputationalPhysics2/blob/gh-pages/doc/HandWrittenNotes/2023/NotesApril20.pdf) -->\n",
    "<!-- !eblock -->"
   ]
  }
 ],
 "metadata": {},
 "nbformat": 4,
 "nbformat_minor": 5
}
