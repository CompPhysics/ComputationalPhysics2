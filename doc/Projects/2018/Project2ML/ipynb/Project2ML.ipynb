{
 "cells": [
  {
   "cell_type": "markdown",
   "metadata": {},
   "source": [
    "<!-- dom:TITLE: Project 2, The restricted Boltzmannn machine applied to the quantum many body problem. Deadline June 8 -->\n",
    "# Project 2, The restricted Boltzmannn machine applied to the quantum many body problem. Deadline June 8\n",
    "<!-- dom:AUTHOR: [Computational Physics II FYS4411/FYS9411](http://www.uio.no/studier/emner/matnat/fys/FYS4411/index-eng.html) at Department of Physics, University of Oslo, Norway -->\n",
    "<!-- Author: -->  \n",
    "**[Computational Physics II FYS4411/FYS9411](http://www.uio.no/studier/emner/matnat/fys/FYS4411/index-eng.html)**, Department of Physics, University of Oslo, Norway\n",
    "\n",
    "Date: **May 24, 2018**\n",
    "\n",
    "Copyright 1999-2018, [Computational Physics II FYS4411/FYS9411](http://www.uio.no/studier/emner/matnat/fys/FYS4411/index-eng.html). Released under CC Attribution-NonCommercial 4.0 license\n",
    "\n",
    "\n",
    "\n",
    "## Introduction\n",
    "The idea of representing the wave function with\n",
    "a restricted Boltzmann machine (RBM) was presented recently by [G. Carleo and M. Troyer, Science **355**, Issue 6325, pp. 602-606 (2017)](http://science.sciencemag.org/content/355/6325/602). They\n",
    "named such a wave function/network a \\textit{neural network quantum\n",
    "state} (NQS). In their article they apply it to the quantum mechanical\n",
    "spin lattice systems of the Ising model and Heisenberg model, with\n",
    "encouraging results. To further test the applicability of RBM's to\n",
    "quantum mechanics we will in this project apply it to a system of\n",
    "two interacting electrons (or bosons) confined to move in a harmonic oscillator trap.\n",
    "\n",
    "\n",
    "\n",
    "\n",
    "## Theoretical background and description of the physical system\n",
    "We consider a system of electrons confined in a pure two-dimensional \n",
    "isotropic harmonic oscillator potential, with an idealized  total Hamiltonian given by"
   ]
  },
  {
   "cell_type": "markdown",
   "metadata": {},
   "source": [
    "<!-- Equation labels as ordinary links -->\n",
    "<div id=\"eq:finalH\"></div>\n",
    "\n",
    "$$\n",
    "\\begin{equation}\n",
    "\\label{eq:finalH} \\tag{1}\n",
    "\\hat{H}=\\sum_{i=1}^{N} \\left(  -\\frac{1}{2} \\nabla_i^2 + \\frac{1}{2} \\omega^2r_i^2  \\right)+\\sum_{i<j}\\frac{1}{r_{ij}},\n",
    "\\end{equation}\n",
    "$$"
   ]
  },
  {
   "cell_type": "markdown",
   "metadata": {},
   "source": [
    "where natural units ($\\hbar=c=e=m_e=1$) are used and all energies are in so-called atomic units a.u. We will study systems of many electrons $N$ as functions of the oscillator frequency  $\\omega$ using the above Hamiltonian.  The Hamiltonian includes a standard harmonic oscillator part"
   ]
  },
  {
   "cell_type": "markdown",
   "metadata": {},
   "source": [
    "$$\n",
    "\\hat{H}_0=\\sum_{i=1}^{N} \\left(  -\\frac{1}{2} \\nabla_i^2 + \\frac{1}{2} \\omega^2r_i^2  \\right),\n",
    "$$"
   ]
  },
  {
   "cell_type": "markdown",
   "metadata": {},
   "source": [
    "and the repulsive interaction between two electrons given by"
   ]
  },
  {
   "cell_type": "markdown",
   "metadata": {},
   "source": [
    "$$\n",
    "\\hat{H}_1=\\sum_{i<j}\\frac{1}{r_{ij}},\n",
    "$$"
   ]
  },
  {
   "cell_type": "markdown",
   "metadata": {},
   "source": [
    "with the distance between electrons given by $r_{ij}=\\vert \\boldsymbol{r}_1-\\boldsymbol{r}_2\\vert$. We define the \n",
    "modulus of the positions of the electrons (for a given electron $i$) as $r_i = \\sqrt{r_{i_x}^2+r_{i_y}^2}$.\n",
    "\n",
    "In this project  we will deal only with a system of\n",
    "two electrons in a quantum dot with a frequency of $\\hbar\\omega = 1$. \n",
    "The reason for this is that we have exact closed form expressions \n",
    "for the ground state energy from Taut's work for selected values of $\\omega$, \n",
    "see M. Taut, Phys. Rev. A \\textbf{48}, 3561 (1993).\n",
    "The energy is given by $3$ a.u.  (atomic units) when the interaction between the electrons is included. We can however easily extend our system to say interacting bosons as in project 1.\n",
    "\n",
    "If only the harmonic oscillator part of the Hamiltonian is included,\n",
    "the so-called unperturbed part,"
   ]
  },
  {
   "cell_type": "markdown",
   "metadata": {},
   "source": [
    "$$\n",
    "\\hat{H}_0=\\sum_{i=1}^{N} \\left(  -\\frac{1}{2} \\nabla_i^2 + \\frac{1}{2} \\omega^2r_i^2  \\right),\n",
    "$$"
   ]
  },
  {
   "cell_type": "markdown",
   "metadata": {},
   "source": [
    "the energy is $2$ a.u.\n",
    "The wave function for one electron in an oscillator potential in two dimensions is"
   ]
  },
  {
   "cell_type": "markdown",
   "metadata": {},
   "source": [
    "$$\n",
    "\\phi_{n_x,n_y}(x,y) = A H_{n_x}(\\sqrt{\\omega}x)H_{n_y}(\\sqrt{\\omega}y)\\exp{(-\\omega(x^2+y^2)/2}.\n",
    "$$"
   ]
  },
  {
   "cell_type": "markdown",
   "metadata": {},
   "source": [
    "The functions $H_{n_x}(\\sqrt{\\omega}x)$ are so-called Hermite polynomials  while $A$ is a normalization constant. \n",
    "For the lowest-lying state we have $n_x=n_y=0$ and an energy $\\epsilon_{n_x,n_y}=\\omega(n_x+n_y+1) = \\omega$.\n",
    "Convince yourself that the lowest-lying energy for the two-electron system  is simply $2\\omega$.\n",
    "\n",
    "The unperturbed wave function for the ground state of the two-electron system is given by"
   ]
  },
  {
   "cell_type": "markdown",
   "metadata": {},
   "source": [
    "$$\n",
    "\\Phi(\\boldsymbol{r}_1,\\boldsymbol{r}_2) = C\\exp{\\left(-\\omega(r_1^2+r_2^2)/2\\right)},\n",
    "$$"
   ]
  },
  {
   "cell_type": "markdown",
   "metadata": {},
   "source": [
    "with $C$ being a normalization constant and $r_i = \\sqrt{r_{i_x}^2+r_{i_y}^2}$. Note that the vector $\\boldsymbol{r}_i$ \n",
    "refers to the $x$ and $y$ position for a given particle.\n",
    "What is the total spin of this wave function? Find arguments for why the ground state should have\n",
    "this specific total spin. \n",
    "\n",
    "\n",
    "### Representing the wave function with a neural network\n",
    "\n",
    "Our neural network of choice is the restricted Boltzmann machine. It\n",
    "is a two layer net where one is called the layer of visible nodes and\n",
    "the other the layer of hidden nodes. It is called restricted because\n",
    "there are no connections between nodes in the same layer. Meaning\n",
    "there's only a connection between two nodes if one is visible and the\n",
    "other hidden. These type of networks constitute the building blocks of\n",
    "the deep belief networks. The RBM is a\n",
    "generative network, meaning that the idea is for it to learn a\n",
    "\\textit{probability distribution}. Thus the network does not produce\n",
    "an output directly, but a probability distribution from which we can\n",
    "generate an output. In our case this distribution corresponds to the\n",
    "wave function and the output we wish to generate are the positions\n",
    "taken by the particles in our system.\n",
    "\n",
    "Neural networks are referred to as falling\n",
    "under either supervised or unsupervised learning. Here we are not\n",
    "working with training data, thus it is not supervised. It's rather\n",
    "called reinforcement learning. From the variational principle we know\n",
    "that the NQS wave fucntion represents the ground state once the\n",
    "quantum mechanical energy is minimized. This information is used to\n",
    "optimize the weights and biases of the network.\n",
    "\n",
    "For more information and practical guides to the RBM, check out the links in the literature section.\n",
    "\n",
    "When working with the restricted Boltzmann machine we are given the joint probability distribution between the hidden and visible nodes.\n",
    "\n",
    "### Restricted Boltzmann Machine (RBM)\n",
    "\n",
    "The joint probability distribution is defined as"
   ]
  },
  {
   "cell_type": "markdown",
   "metadata": {},
   "source": [
    "<!-- Equation labels as ordinary links -->\n",
    "<div id=\"_auto1\"></div>\n",
    "\n",
    "$$\n",
    "\\begin{equation}\n",
    "\tF_{rbm}(\\mathbf{X},\\mathbf{H}) = \\frac{1}{Z} e^{-\\frac{1}{T_0}E(\\mathbf{X},\\mathbf{H})}\n",
    "\\label{_auto1} \\tag{2}\n",
    "\\end{equation}\n",
    "$$"
   ]
  },
  {
   "cell_type": "markdown",
   "metadata": {},
   "source": [
    "where $Z$ is the partition function/normalization constant"
   ]
  },
  {
   "cell_type": "markdown",
   "metadata": {},
   "source": [
    "<!-- Equation labels as ordinary links -->\n",
    "<div id=\"_auto2\"></div>\n",
    "\n",
    "$$\n",
    "\\begin{equation}\n",
    "\tZ = \\int \\int \\frac{1}{Z} e^{-\\frac{1}{T_0}E(\\mathbf{x},\\mathbf{h})} d\\mathbf{x} d\\mathbf{h}\n",
    "\\label{_auto2} \\tag{3}\n",
    "\\end{equation}\n",
    "$$"
   ]
  },
  {
   "cell_type": "markdown",
   "metadata": {},
   "source": [
    "It is common to ignore $T_0$ by setting it to one. Here $E$ is known\n",
    "as the energy of a configuration of the nodes. Do not confuse this\n",
    "with the energy of the quantum mechanical system. Here it is a\n",
    "function which gives the specifics of the relation between the hidden\n",
    "and visible nodes. Different versions of RBMs will implement the\n",
    "energy function differently.\n",
    "\n",
    "### Gaussian-Binary RBM\n",
    "\n",
    "The original and most common version of an RBM is called \"binary-binary\", meaning both visible and hidden nodes only take on binary values. In our case we wish to model continuous values (positions), thus the visible nodes should be continuous. We therefore choose an RBM called \"Gaussian-binary\"."
   ]
  },
  {
   "cell_type": "markdown",
   "metadata": {},
   "source": [
    "<!-- Equation labels as ordinary links -->\n",
    "<div id=\"_auto3\"></div>\n",
    "\n",
    "$$\n",
    "\\begin{equation}\n",
    "\tE(\\mathbf{X}, \\mathbf{H}) = \\sum_i^M \\frac{(X_i - a_i)^2}{2\\sigma_i^2} - \\sum_j^N b_j H_j - \\sum_{i,j}^{M,N} \\frac{X_i w_{ij} H_j}{\\sigma_i^2} \n",
    "\\label{_auto3} \\tag{4}\n",
    "\\end{equation}\n",
    "$$"
   ]
  },
  {
   "cell_type": "markdown",
   "metadata": {},
   "source": [
    "If $\\sigma_i = \\sigma$ then"
   ]
  },
  {
   "cell_type": "markdown",
   "metadata": {},
   "source": [
    "<!-- Equation labels as ordinary links -->\n",
    "<div id=\"_auto4\"></div>\n",
    "\n",
    "$$\n",
    "\\begin{equation}\n",
    "\tE(\\mathbf{X}, \\mathbf{H})= \\frac{||\\mathbf{X} - \\mathbf{a}||^2}{2\\sigma^2} - \\mathbf{b}^T \\mathbf{H} - \\frac{\\mathbf{X}^T \\mathbf{W} \\mathbf{H}}{\\sigma^2}\n",
    "\\label{_auto4} \\tag{5}\n",
    "\\end{equation}\n",
    "$$"
   ]
  },
  {
   "cell_type": "markdown",
   "metadata": {},
   "source": [
    "Here $\\mathbf{X}$ are the visible nodes (the position coordinates), $\\mathbf{H}$ are the hidden nodes, $\\mathbf{a}$ are the visible biases, $\\mathbf{b}$ are the hidden biases and $\\mathbf{W}$ is a matrix containing the weights characterizing the connection of each visible node to a hidden node.\n",
    "\n",
    "### The Wave Function\n",
    "\n",
    "To find the marginal probability $F_{rbm}(X)$ we set:"
   ]
  },
  {
   "cell_type": "markdown",
   "metadata": {},
   "source": [
    "<!-- Equation labels as ordinary links -->\n",
    "<div id=\"_auto5\"></div>\n",
    "\n",
    "$$\n",
    "\\begin{equation}\n",
    "\tF_{rbm}(\\mathbf{X}) = \\sum_\\mathbf{h} F_{rbm}(\\mathbf{X}, \\mathbf{h}) \n",
    "\\label{_auto5} \\tag{6}\n",
    "\\end{equation}\n",
    "$$"
   ]
  },
  {
   "cell_type": "markdown",
   "metadata": {},
   "source": [
    "<!-- Equation labels as ordinary links -->\n",
    "<div id=\"_auto6\"></div>\n",
    "\n",
    "$$\n",
    "\\begin{equation} \n",
    "\t\t\t\t= \\frac{1}{Z}\\sum_\\mathbf{h} e^{-E(\\mathbf{X}, \\mathbf{h})}\n",
    "\\label{_auto6} \\tag{7}\n",
    "\\end{equation}\n",
    "$$"
   ]
  },
  {
   "cell_type": "markdown",
   "metadata": {},
   "source": [
    "This is used to represent the wave function:"
   ]
  },
  {
   "cell_type": "markdown",
   "metadata": {},
   "source": [
    "<!-- Equation labels as ordinary links -->\n",
    "<div id=\"_auto7\"></div>\n",
    "\n",
    "$$\n",
    "\\begin{equation}\n",
    "\\Psi (\\mathbf{X}) = F_{rbm}(\\mathbf{X}) \n",
    "\\label{_auto7} \\tag{8}\n",
    "\\end{equation}\n",
    "$$"
   ]
  },
  {
   "cell_type": "markdown",
   "metadata": {},
   "source": [
    "<!-- Equation labels as ordinary links -->\n",
    "<div id=\"_auto8\"></div>\n",
    "\n",
    "$$\n",
    "\\begin{equation} \n",
    "= \\frac{1}{Z}\\sum_{\\{h_j\\}} e^{-E(\\mathbf{X}, \\mathbf{h})} \n",
    "\\label{_auto8} \\tag{9}\n",
    "\\end{equation}\n",
    "$$"
   ]
  },
  {
   "cell_type": "markdown",
   "metadata": {},
   "source": [
    "<!-- Equation labels as ordinary links -->\n",
    "<div id=\"_auto9\"></div>\n",
    "\n",
    "$$\n",
    "\\begin{equation} \n",
    "= \\frac{1}{Z} \\sum_{\\{h_j\\}} e^{-\\sum_i^M \\frac{(X_i - a_i)^2}{2\\sigma^2} + \\sum_j^N b_j h_j + \\sum_{i,j}^{M,N} \\frac{X_i w_{ij} h_j}{\\sigma^2}} \n",
    "\\label{_auto9} \\tag{10}\n",
    "\\end{equation}\n",
    "$$"
   ]
  },
  {
   "cell_type": "markdown",
   "metadata": {},
   "source": [
    "<!-- Equation labels as ordinary links -->\n",
    "<div id=\"_auto10\"></div>\n",
    "\n",
    "$$\n",
    "\\begin{equation} \n",
    "= \\frac{1}{Z} e^{-\\sum_i^M \\frac{(X_i - a_i)^2}{2\\sigma^2}} \\prod_j^N (1 + e^{b_j + \\sum_i^M \\frac{X_i w_{ij}}{\\sigma^2}}) \n",
    "\\label{_auto10} \\tag{11}\n",
    "\\end{equation}\n",
    "$$"
   ]
  },
  {
   "cell_type": "markdown",
   "metadata": {},
   "source": [
    "<!-- Equation labels as ordinary links -->\n",
    "<div id=\"_auto11\"></div>\n",
    "\n",
    "$$\n",
    "\\begin{equation} \n",
    "\\label{_auto11} \\tag{12}\n",
    "\\end{equation}\n",
    "$$"
   ]
  },
  {
   "cell_type": "markdown",
   "metadata": {},
   "source": [
    "### The Monte Carlo procedure\n",
    "\n",
    "In many aspects, the procedure of optimizing the NQS wave function\n",
    "will be very similar to the VMC method in project one. However, it\n",
    "requires a heavier emphasis on the minimization process. Whereas in\n",
    "project one you only had one or two parameters to optimize and could\n",
    "even determine them analytically, in this situation the biases and\n",
    "weights quickly add up to a high number of parameters to optimize, and\n",
    "it's hard, if possible at all, to determine them analytically. Thus\n",
    "minimizing the quantum mechanical energy and optimizing the parameters\n",
    "is important from the beginning. Still, the structure of the process\n",
    "is similar. You set up an initial guess of the NQS wave function by\n",
    "giving the weights and biases random, preferably small values. The\n",
    "process then follows the same structure as the VMC method.\n",
    "\n",
    "\n",
    "### Project 2 a): Analytical expressions\n",
    "\n",
    "Once again you should start by analytically determining the local energy, given by"
   ]
  },
  {
   "cell_type": "markdown",
   "metadata": {},
   "source": [
    "<!-- Equation labels as ordinary links -->\n",
    "<div id=\"_auto12\"></div>\n",
    "\n",
    "$$\n",
    "\\begin{equation}\n",
    "\tE_L = \\frac{1}{\\Psi} \\hat{\\mathbf{H}} \\Psi\n",
    "\\label{_auto12} \\tag{13}\n",
    "\\end{equation}\n",
    "$$"
   ]
  },
  {
   "cell_type": "markdown",
   "metadata": {},
   "source": [
    "using the NQS $\\Psi$ and the Hamiltonian as defined earlier.\n",
    "\n",
    "If your minimization method of choice is for example stochastic gradient descent (when using this method for neural network training, the step size is often referred to as the learning rate), you will also need the gradient of the local energy with respect to the RBM parameters $\\mathbf{\\alpha}$ ($\\mathbf{a}$, $\\mathbf{b}$ and $\\mathbf{W}$). It is given by"
   ]
  },
  {
   "cell_type": "markdown",
   "metadata": {},
   "source": [
    "<!-- Equation labels as ordinary links -->\n",
    "<div id=\"_auto13\"></div>\n",
    "\n",
    "$$\n",
    "\\begin{equation}\n",
    "\tG_i = \\frac{\\partial \\langle E_L \\rangle}{\\partial \\alpha_i}\n",
    "\t= 2(\\langle E_L \\frac{1}{\\Psi}\\frac{\\partial \\Psi}{\\partial \\alpha_i} \\rangle - \\langle E_L \\rangle \\langle \\frac{1}{\\Psi}\\frac{\\partial \\Psi}{\\partial \\alpha_i} \\rangle )\n",
    "\\label{_auto13} \\tag{14}\n",
    "\\end{equation}\n",
    "$$"
   ]
  },
  {
   "cell_type": "markdown",
   "metadata": {},
   "source": [
    "where $\\alpha_i = a_1,...,a_M,b_1,...,b_N,w_{11},...,w_{MN}$.\n",
    "\n",
    "In addition to $E_L$ then you will also need to find the expression for\n",
    "$\\frac{\\partial \\Psi}{\\partial \\alpha_i}$.\n",
    "\n",
    "You see here that the visible nodes (the position coordinates) and the corresponding visible biases are vectors of length $M$. The hidden nodes and the corresponding hidden biases are vectors of length $N$. The weight matrix is of size $M\\times N$. While the number of hidden nodes (that is, $N$) is your own choice and should be experimented with, the number of visible nodes ($M$) should correspond to the number of particles ($P$) and the number of dimensions ($D$) in the system, that is $M = P \\cdot D$.\n",
    "\n",
    "\n",
    "### Project 2 b): Initial code\n",
    "\n",
    "Now implement the code. The structure of the code (how you organize\n",
    "your classes) can (probably) imitate what you did in project 1.  Use\n",
    "standard Metropolis sampling and ignore interaction. This means\n",
    "excluding the repulsive interaction from your Hamiltonian and local\n",
    "energy calculations. In this case the analytically correct energy of\n",
    "the system is given by $E=\\frac{1}{2}P\\cdot D$.  Optimize the NQS and\n",
    "compute the energy of 1 particle in 1D with 2 hidden units as\n",
    "accurately as you can. Experiment with the learning rate. What\n",
    "precision do you achieve?  Eventually you may also experiment with\n",
    "changing the number of hidden units. Document your findings.\n",
    "\n",
    "### Project 2 c): Importance sampling\n",
    "\n",
    "Add importance sampling to improve your method. Document the results and compare them to the brute force method.\n",
    "\n",
    "### Project 2 d): Statistical analysis\n",
    "\n",
    "Include a proper statistical analysis by use of the blocking method for your results.\n",
    "\n",
    "### Project 2 e): From Metropolis to Gibbs sampling\n",
    "\n",
    "For a system such as the one we currently study, where we know that\n",
    "the wave function is positive definite, we may use a sampling method\n",
    "called Gibbs sampling. In this case we represent the wave function as\n",
    "$\\Psi(x) = \\sqrt(F_{rbm})$ rather than $\\Psi(x) = F_{rbm}(x)$.\n",
    "\n",
    "In this method we sample from the joint probability of $\\mathbf{x}$ and\n",
    "$\\mathbf{h}$, in the form of a two step sampling process. The samples $\\mathbf{x}$\n",
    "by themselves then model the probability density $|\\Psi(\\mathbf{x})|^2$ as we\n",
    "wish.  The updated samples are generated according to the conditional\n",
    "probabilities $P(X_i|\\mathbf{h})$ and $P(H_j|\\mathbf{x})$ respectively and accepted\n",
    "with the probability of $1$."
   ]
  },
  {
   "cell_type": "markdown",
   "metadata": {},
   "source": [
    "<!-- Equation labels as ordinary links -->\n",
    "<div id=\"_auto14\"></div>\n",
    "\n",
    "$$\n",
    "\\begin{equation}\n",
    "\tP(X_i|\\mathbf{h}) = \\mathcal{N}(X_i; a_i+\\mathbf{w}_{i*} \\mathbf{h}, \\sigma^2) \n",
    "\\label{_auto14} \\tag{15}\n",
    "\\end{equation}\n",
    "$$"
   ]
  },
  {
   "cell_type": "markdown",
   "metadata": {},
   "source": [
    "<!-- Equation labels as ordinary links -->\n",
    "<div id=\"_auto15\"></div>\n",
    "\n",
    "$$\n",
    "\\begin{equation} \n",
    "\tP(\\mathbf{X}|\\mathbf{h}) = \\prod_i^M \\mathcal{N}(X_i; a_i+\\mathbf{w}_{i*} \\mathbf{h}, \\sigma^2) \n",
    "\\label{_auto15} \\tag{16}\n",
    "\\end{equation}\n",
    "$$"
   ]
  },
  {
   "cell_type": "markdown",
   "metadata": {},
   "source": [
    "<!-- Equation labels as ordinary links -->\n",
    "<div id=\"_auto16\"></div>\n",
    "\n",
    "$$\n",
    "\\begin{equation} \n",
    "\t= \\mathcal{N} (\\mathbf{X}; \\mathbf{a}+\\mathbf{W}\\mathbf{h},\\sigma^2)\n",
    "\\label{_auto16} \\tag{17}\n",
    "\\end{equation}\n",
    "$$"
   ]
  },
  {
   "cell_type": "markdown",
   "metadata": {},
   "source": [
    "and"
   ]
  },
  {
   "cell_type": "markdown",
   "metadata": {},
   "source": [
    "<!-- Equation labels as ordinary links -->\n",
    "<div id=\"_auto17\"></div>\n",
    "\n",
    "$$\n",
    "\\begin{equation}\n",
    "\tP(H_j|\\mathbf{x}) = \\frac{e^{(b_j+\\frac{\\mathbf{x}^T\\mathbf{w}_{*j}}{\\sigma^2})H_j}}{\\sum_{h_j}e^{(b_j+\\frac{\\mathbf{x}^T\\mathbf{w}_{*j}}{\\sigma^2})h_j}} \n",
    "\\label{_auto17} \\tag{18}\n",
    "\\end{equation}\n",
    "$$"
   ]
  },
  {
   "cell_type": "markdown",
   "metadata": {},
   "source": [
    "<!-- Equation labels as ordinary links -->\n",
    "<div id=\"_auto18\"></div>\n",
    "\n",
    "$$\n",
    "\\begin{equation} \n",
    "\t= \\frac{e^{(b_j+\\frac{\\mathbf{v}^T\\mathbf{w}_{*j}}{\\sigma^2})H_j}}{1+e^{b_j+\\frac{\\mathbf{x}^T\\mathbf{w}_{*j}}{\\sigma^2}}} \n",
    "\\label{_auto18} \\tag{19}\n",
    "\\end{equation}\n",
    "$$"
   ]
  },
  {
   "cell_type": "markdown",
   "metadata": {},
   "source": [
    "<!-- Equation labels as ordinary links -->\n",
    "<div id=\"_auto19\"></div>\n",
    "\n",
    "$$\n",
    "\\begin{equation} \n",
    "\tP(\\mathbf{H}|\\mathbf{x}) = \\prod_j^N \\frac{e^{(b_j+\\frac{\\mathbf{x}^T\\mathbf{w}_{*j}}{\\sigma^2})H_j}}{1+e^{b_j+\\frac{\\mathbf{x}^T\\mathbf{w}_{*j}}{\\sigma^2}}} \n",
    "\\label{_auto19} \\tag{20}\n",
    "\\end{equation}\n",
    "$$"
   ]
  },
  {
   "cell_type": "markdown",
   "metadata": {},
   "source": [
    "<!-- Equation labels as ordinary links -->\n",
    "<div id=\"_auto20\"></div>\n",
    "\n",
    "$$\n",
    "\\begin{equation} \n",
    "\\label{_auto20} \\tag{21}\n",
    "\\end{equation}\n",
    "$$"
   ]
  },
  {
   "cell_type": "markdown",
   "metadata": {},
   "source": [
    "Meaning"
   ]
  },
  {
   "cell_type": "markdown",
   "metadata": {},
   "source": [
    "<!-- Equation labels as ordinary links -->\n",
    "<div id=\"_auto21\"></div>\n",
    "\n",
    "$$\n",
    "\\begin{equation}\n",
    "\tP(H_j=1|\\mathbf{x}) = \\frac{e^{b_j+\\frac{\\mathbf{x}^T\\mathbf{w}_{*j}}{\\sigma^2}}}{1+e^{b_j+\\frac{\\mathbf{x}^T\\mathbf{w}_{*j}}{\\sigma^2}}} \n",
    "\\label{_auto21} \\tag{22}\n",
    "\\end{equation}\n",
    "$$"
   ]
  },
  {
   "cell_type": "markdown",
   "metadata": {},
   "source": [
    "<!-- Equation labels as ordinary links -->\n",
    "<div id=\"_auto22\"></div>\n",
    "\n",
    "$$\n",
    "\\begin{equation} \n",
    "\t= \\frac{1}{1+e^{-b_j-\\frac{\\mathbf{x}^T\\mathbf{w}_{*j}}{\\sigma^2}}} \n",
    "\\label{_auto22} \\tag{23}\n",
    "\\end{equation}\n",
    "$$"
   ]
  },
  {
   "cell_type": "markdown",
   "metadata": {},
   "source": [
    "<!-- Equation labels as ordinary links -->\n",
    "<div id=\"_auto23\"></div>\n",
    "\n",
    "$$\n",
    "\\begin{equation} \n",
    "\tP(H_j=0|\\mathbf{x}) = \\frac{1}{1+e^{b_j+\\frac{\\mathbf{x}^T\\mathbf{w}_{*j}}{\\sigma^2}}} \n",
    "\\label{_auto23} \\tag{24}\n",
    "\\end{equation}\n",
    "$$"
   ]
  },
  {
   "cell_type": "markdown",
   "metadata": {},
   "source": [
    "Recalculate the values needed for the local energy and its gradient with the form of the wave function given by $\\Psi(x) = \\sqrt(F_{rbm})$.\n",
    "\n",
    "\\paragraph{Project 2 f): Gibbs sampling}\n",
    "Implement a Gibbs sampling method as an alternative to the Metropolis sampling. Reproduce the energy of the same system as in b), document your results. Again experiment with the learning rate and the number of hidden values. Experiment with changing the $\\sigma$ of the neural netwrok. Comment. Eventually you may increase the number of particles and dimensions. Do the produced energy compare well with the analytical values?\n",
    "\n",
    "### Project 2 g): Interaction\n",
    "\n",
    "Include the interaction. Remember that for the interacting case we\n",
    "have an analytical answer when we look at two particles in two\n",
    "dimensions (the energy shoud be 3 a.u.). Also, in the interacting case\n",
    "it does not make sense to look at more than two particles since we are\n",
    "currently looking at fermions and have not accounted for the Pauli\n",
    "exclusion principle.  As before, experiment with the learning rate and\n",
    "number of hidden values and document how well the network reproduces\n",
    "the analytical value.\n",
    "\n",
    "\n",
    "\n",
    "### Literature\n",
    "\n",
    " 1. [M. Taut, Phys. Rev. A **48**, 3561 - 3566 (1993)](https://journals.aps.org/pra/abstract/10.1103/PhysRevA.48.3561)\n",
    "\n",
    " 2. [G. Carleo and M. Troyer, Science **355**, Issue 6325, pp. 602-606 (2017)](http://science.sciencemag.org/content/355/6325/602)\n",
    "\n",
    " 3. [A Beginner’s Tutorial for Restricted Boltzmann Machines](https://deeplearning4j.org/restrictedboltzmannmachine)\n",
    "\n",
    " 4. [A Practical Guide to Training Restricted Boltzmann Machines](https://www.cs.toronto.edu/~hinton/absps/guideTR.pdf)\n",
    "\n",
    "## Introduction to numerical projects\n",
    "\n",
    "Here follows a brief recipe and recommendation on how to write a report for each\n",
    "project.\n",
    "\n",
    "  * Give a short description of the nature of the problem and the eventual  numerical methods you have used.\n",
    "\n",
    "  * Describe the algorithm you have used and/or developed. Here you may find it convenient to use pseudocoding. In many cases you can describe the algorithm in the program itself.\n",
    "\n",
    "  * Include the source code of your program. Comment your program properly.\n",
    "\n",
    "  * If possible, try to find analytic solutions, or known limits in order to test your program when developing the code.\n",
    "\n",
    "  * Include your results either in figure form or in a table. Remember to label your results. All tables and figures should have relevant captions and labels on the axes.\n",
    "\n",
    "  * Try to evaluate the reliabilty and numerical stability/precision of your results. If possible, include a qualitative and/or quantitative discussion of the numerical stability, eventual loss of precision etc.\n",
    "\n",
    "  * Try to give an interpretation of you results in your answers to  the problems.\n",
    "\n",
    "  * Critique: if possible include your comments and reflections about the  exercise, whether you felt you learnt something, ideas for improvements and  other thoughts you've made when solving the exercise. We wish to keep this course at the interactive level and your comments can help us improve it.\n",
    "\n",
    "  * Try to establish a practice where you log your work at the  computerlab. You may find such a logbook very handy at later stages in your work, especially when you don't properly remember  what a previous test version  of your program did. Here you could also record  the time spent on solving the exercise, various algorithms you may have tested or other topics which you feel worthy of mentioning.\n",
    "\n",
    "## Format for electronic delivery of report and programs\n",
    "\n",
    "The preferred format for the report is a PDF file. You can also use DOC or postscript formats or as an ipython notebook file.  As programming language we prefer that you choose between C/C++, Fortran2008 or Python. The following prescription should be followed when preparing the report:\n",
    "\n",
    "  * Use Devilry to hand in your projects, log in  at  <http://devilry.ifi.uio.no> with your normal UiO username and password.\n",
    "\n",
    "  * Upload **only** the report file!  For the source code file(s) you have developed please provide us with your link to your github domain.  The report file should include all of your discussions and a list of the codes you have developed.  The full version of the codes should be in your github repository.\n",
    "\n",
    "  * In your github repository, please include a folder which contains selected results. These can be in the form of output from your code for a selected set of runs and input parameters.\n",
    "\n",
    "  * Still in your github make a folder where you place your codes. \n",
    "\n",
    "  * In this and all later projects, you should include tests (for example unit tests) of your code(s).\n",
    "\n",
    "  * Comments  from us on your projects, approval or not, corrections to be made  etc can be found under your Devilry domain and are only visible to you and the teachers of the course.\n",
    "\n",
    "Finally, \n",
    "we encourage you to work two and two together. Optimal working groups consist of \n",
    "2-3 students. You can then hand in a common report."
   ]
  }
 ],
 "metadata": {},
 "nbformat": 4,
 "nbformat_minor": 2
}
