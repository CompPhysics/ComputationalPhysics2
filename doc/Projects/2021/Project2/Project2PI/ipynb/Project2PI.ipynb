{
 "cells": [
  {
   "cell_type": "markdown",
   "id": "18e215be",
   "metadata": {
    "editable": true
   },
   "source": [
    "<!-- HTML file automatically generated from DocOnce source (https://github.com/doconce/doconce/)\n",
    "doconce format html Project2PI.do.txt  -->\n",
    "<!-- dom:TITLE: Project 2, Path integral formalism. Deadline June 1, Spring 2022 -->"
   ]
  },
  {
   "cell_type": "markdown",
   "id": "da555f69",
   "metadata": {
    "editable": true
   },
   "source": [
    "# Project 2, Path integral formalism. Deadline June 1, Spring 2022\n",
    "**[Computational Physics II FYS4411/FYS9411](http://www.uio.no/studier/emner/matnat/fys/FYS4411/index-eng.html)**, Department of Physics, University of Oslo, Norway\n",
    "\n",
    "Date: **Apr 21, 2022**\n",
    "\n",
    "Copyright 1999-2022, [Computational Physics II FYS4411/FYS9411](http://www.uio.no/studier/emner/matnat/fys/FYS4411/index-eng.html). Released under CC Attribution-NonCommercial 4.0 license"
   ]
  },
  {
   "cell_type": "markdown",
   "id": "164c44c6",
   "metadata": {
    "editable": true
   },
   "source": [
    "## Path Integrals: Concepts and Formalism\n",
    "\n",
    "The aim of this project is to study the path integral formalism applied first to a Harmonic oscillator problem.\n",
    "\n",
    "In the path integral formalism the evolution from a state $\\vert x_i\\rangle$\n",
    "to a state $\\vert  x_f\\rangle$ from time $t_i$ to time $t_f$ is given by:"
   ]
  },
  {
   "cell_type": "markdown",
   "id": "58165c45",
   "metadata": {
    "editable": true
   },
   "source": [
    "$$\n",
    "\\langle x_f\\vert e^{-\\hat{H}(t_f-t_i)}\\vert x_i\\rangle = \\int \\D x(t) e^{-S[x]}\n",
    "$$"
   ]
  },
  {
   "cell_type": "markdown",
   "id": "9c83d3b7",
   "metadata": {
    "editable": true
   },
   "source": [
    "On the left-hand side we have the standard quantum mechanical time\n",
    "evolution operator with $\\hat{H}$ being the Hamiltonian operator of\n",
    "the system, the right-hand side represents the path integral of all possible paths\n",
    "x(t) from $x_i$ to $x_f$ with $t = t_i \\rightarrow t_f$ weighted with\n",
    "the classical action $S[x]$:"
   ]
  },
  {
   "cell_type": "markdown",
   "id": "2710db22",
   "metadata": {
    "editable": true
   },
   "source": [
    "$$\n",
    "S[x] = \\int_{t_i}^{t_f} dt L(x,\\dot{x}) =  \\int_{t_i}^{t_f} dt \\left( \\frac{m\\dot{x}(t)^2}{2} - V(x(t))\\right),\n",
    "$$"
   ]
  },
  {
   "cell_type": "markdown",
   "id": "3d4539d6",
   "metadata": {
    "editable": true
   },
   "source": [
    "and  knowledge of the propagator gives full information about the system.\n",
    "\n",
    "In a simple one dimensional case the path integral can be written as"
   ]
  },
  {
   "cell_type": "markdown",
   "id": "5e9e4d27",
   "metadata": {
    "editable": true
   },
   "source": [
    "$$\n",
    "\\int \\D x(t) \\rightarrow \\int_{-\\infty}^{\\infty} dx_1dx_2\\dots dx_{N-1}\n",
    "$$"
   ]
  },
  {
   "cell_type": "markdown",
   "id": "47b08c94",
   "metadata": {
    "editable": true
   },
   "source": [
    "where time has been discretized in $N$ slices from $t_i = t_0$ to $t_f = t_N$. Consequently $x_i = x(t_i)$.  \n",
    "\n",
    "Given some functional $\\Gamma[x]$ that represents an observable at\n",
    "intermediate times of the evolution of the system we can write its\n",
    "expectation value as:"
   ]
  },
  {
   "cell_type": "markdown",
   "id": "b3145aa2",
   "metadata": {
    "editable": true
   },
   "source": [
    "$$\n",
    "\\braket{\\Gamma[x]} = \\frac{1}{Z} \\int \\D x(t) \\Gamma[x] e^{-S[x]}\n",
    "$$"
   ]
  },
  {
   "cell_type": "markdown",
   "id": "2d2c4006",
   "metadata": {
    "editable": true
   },
   "source": [
    "where the normalization $Z$ is given by"
   ]
  },
  {
   "cell_type": "markdown",
   "id": "d7e221b6",
   "metadata": {
    "editable": true
   },
   "source": [
    "$$\n",
    "Z = \\int \\D x(t) e^{-S[x]}\n",
    "$$"
   ]
  },
  {
   "cell_type": "markdown",
   "id": "054d0765",
   "metadata": {
    "editable": true
   },
   "source": [
    "This can be computed using a set of configurations $x^{(k)} =\n",
    "\\{x^{(k)}_1x^{(k)}_2\\dots x^{(k)}_{N-1} \\}$ for $k = 1,2,\\dots\n",
    "N_{cf}$. The Monte Carlo estimator then becomes:"
   ]
  },
  {
   "cell_type": "markdown",
   "id": "5e711618",
   "metadata": {
    "editable": true
   },
   "source": [
    "$$\n",
    "\\braket{\\Gamma[x]} \\approx \\bar{\\Gamma} = \\frac{1}{N_{cf}} \\sum_{k = 1}^k \\Gamma[x^{(k)}]\n",
    "$$"
   ]
  },
  {
   "cell_type": "markdown",
   "id": "d68e08d8",
   "metadata": {
    "editable": true
   },
   "source": [
    "As and aside, if we wish to  generalize our theory to a four dimensional\n",
    "euclidean space time an observable that depends on a scalar field can\n",
    "be computed in a very similar fashion"
   ]
  },
  {
   "cell_type": "markdown",
   "id": "5730e2ef",
   "metadata": {
    "editable": true
   },
   "source": [
    "$$\n",
    "\\braket{\\Gamma[\\phi]} = \\frac{1}{Z} \\int \\D \\phi \\Gamma[\\phi] e^{-S[\\phi]}\n",
    "$$"
   ]
  },
  {
   "cell_type": "markdown",
   "id": "28e5f53b",
   "metadata": {
    "editable": true
   },
   "source": [
    "where the normalization $Z$ is given again by"
   ]
  },
  {
   "cell_type": "markdown",
   "id": "01deaa54",
   "metadata": {
    "editable": true
   },
   "source": [
    "$$\n",
    "Z = \\int \\D \\phi e^{-S[\\phi]}\n",
    "$$"
   ]
  },
  {
   "cell_type": "markdown",
   "id": "6d494fe7",
   "metadata": {
    "editable": true
   },
   "source": [
    "But this time the path integral can be computed numerically by discretizing the 4 dimensional space in a lattice:"
   ]
  },
  {
   "cell_type": "markdown",
   "id": "5aa473c5",
   "metadata": {
    "editable": true
   },
   "source": [
    "$$\n",
    "\\int \\D \\phi \\rightarrow \\int \\prod_{x_i \\in lattice} d\\phi(x_i)\n",
    "$$"
   ]
  },
  {
   "cell_type": "markdown",
   "id": "feb71525",
   "metadata": {
    "editable": true
   },
   "source": [
    "## The Harmonic Oscillator: a Simple Example"
   ]
  },
  {
   "cell_type": "markdown",
   "id": "a9f48391",
   "metadata": {
    "editable": true
   },
   "source": [
    "### Project 2 a):\n",
    "\n",
    "A first example of the path integral solution of quantum mechanical\n",
    "systems is the one-dimensional harmonic oscillator. It is particularly\n",
    "well suited because of:\n",
    "\n",
    "1. simple dimensional discretization\n",
    "\n",
    "2. well-known results for expectation values\n",
    "\n",
    "3. fast analytical analysis, implementation and runs \n",
    "\n",
    "The classical action for the harmonic oscillator is given by"
   ]
  },
  {
   "cell_type": "markdown",
   "id": "4cd088b1",
   "metadata": {
    "editable": true
   },
   "source": [
    "$$\n",
    "S[x] = \\int_{t_i}^{t_f} \\left[ \\frac{m\\dot{x}(t)^2}{2} + \\frac{1}{2}\\omega x(t)^2\\right] dt.\n",
    "$$"
   ]
  },
  {
   "cell_type": "markdown",
   "id": "2763a17d",
   "metadata": {
    "editable": true
   },
   "source": [
    "We can discretize the time domain into $N$ slices of step $a$, which\n",
    "imposes us to discretize the time derivative of the position as\n",
    "well. When considering the integral between time $t_j$ and $t_{j+1}$\n",
    "the action becomes"
   ]
  },
  {
   "cell_type": "markdown",
   "id": "7129a8b9",
   "metadata": {
    "editable": true
   },
   "source": [
    "$$\n",
    "S_{j} \\approx a\\left[ \\frac{m(x_{j+1}-x_j)^2}{2a^2} + \\frac{1}{4}\\omega (x_{j+1} - x_j)^2 \\right] dt.\n",
    "$$"
   ]
  },
  {
   "cell_type": "markdown",
   "id": "93fd2d12",
   "metadata": {
    "editable": true
   },
   "source": [
    "When summing over all time slices (and applying periodic boundary conditions) we get"
   ]
  },
  {
   "cell_type": "markdown",
   "id": "0e1a732c",
   "metadata": {
    "editable": true
   },
   "source": [
    "$$\n",
    "S_{latt} = \\sum_{j = 0}^{N-1} \\left[ \\frac{m}{2a}(x_{j+1}-x_j)^2 + \\frac{a}{2} x_j^2 \\right]\n",
    "$$"
   ]
  },
  {
   "cell_type": "markdown",
   "id": "a048254e",
   "metadata": {
    "editable": true
   },
   "source": [
    "In order to extract information from the system we need to construct\n",
    "and study an observable. We can look at a two point correlator of the\n",
    "form $\\langle x(t_2)x(t_1) \\rangle$.  In the continuum this is\n",
    "equivalent to the calculation of the ratio of path integrals"
   ]
  },
  {
   "cell_type": "markdown",
   "id": "93db524c",
   "metadata": {
    "editable": true
   },
   "source": [
    "$$\n",
    "\\langle x(t_2)x(t_1) \\rangle = \\frac{\\int \\D x(t) x(t_2) x(t_1) e^{-S[x]}}{\\int \\D x(t) e^{-S[x]}}\n",
    "$$"
   ]
  },
  {
   "cell_type": "markdown",
   "id": "ad950e08",
   "metadata": {
    "editable": true
   },
   "source": [
    "In quantum mechanics the numerator (using the definition of the path integral) is equal to"
   ]
  },
  {
   "cell_type": "markdown",
   "id": "80b4c30d",
   "metadata": {
    "editable": true
   },
   "source": [
    "$$\n",
    "v\t\\int dx \\langle x\\vert  e^{\\bar{H}(t_f-t2)} \\tilde{x} e^{\\bar{H}(t_2-t1)} \\tilde{x} e^{\\bar{H}(t_1-ti)} \\vert x\\rangle,\n",
    "$$"
   ]
  },
  {
   "cell_type": "markdown",
   "id": "3f59e450",
   "metadata": {
    "editable": true
   },
   "source": [
    "If we look at the full integral, let the hamiltionian operator act on\n",
    "the states leaving the spectral decomposition of them, and substitute\n",
    "$T = t_f-Ti$ and $t = t_2 - t_1$ we get to"
   ]
  },
  {
   "cell_type": "markdown",
   "id": "29355845",
   "metadata": {
    "editable": true
   },
   "source": [
    "$$\n",
    "\\langle x(t_2)x(t_1) \\rangle = \\frac{\\sum e^{-E_n T} \\langle E_n\\vert \\tilde{x} e^{-(\\bar{H}-E_n)t}  \\tilde{x}\\vert E_n\\rangle }{\\sum e^{-E_n T }}\n",
    "$$"
   ]
  },
  {
   "cell_type": "markdown",
   "id": "e6ac3f70",
   "metadata": {
    "editable": true
   },
   "source": [
    "and for $T \\gg t$ the ground state will dominate the summation:"
   ]
  },
  {
   "cell_type": "markdown",
   "id": "55e7e397",
   "metadata": {
    "editable": true
   },
   "source": [
    "$$\n",
    "G(t) = \\langle x(t_2)x(t_1)\\rangle \\rightarrow  \\langle E_0\\vert \\tilde{x} e^{-(\\bar{H}-E_0)t}  \\tilde{x}\\vert E_0\\rangle,\n",
    "$$"
   ]
  },
  {
   "cell_type": "markdown",
   "id": "601522ed",
   "metadata": {
    "editable": true
   },
   "source": [
    "and letting $t$ to be large as well the propagator ends up linking the two lowest energy states"
   ]
  },
  {
   "cell_type": "markdown",
   "id": "8953b0ab",
   "metadata": {
    "editable": true
   },
   "source": [
    "$$\n",
    "G(t) \\rightarrow  |\\langle E_0\\vert \\tilde{x} \\vert E_1\\rangle|^2e^{-(E_1-E_0)t}.\n",
    "$$"
   ]
  },
  {
   "cell_type": "markdown",
   "id": "4a4ffa56",
   "metadata": {
    "editable": true
   },
   "source": [
    "We can now extract the first excitation energy of the quantum mechanical harmonic oscillator, in the limit of $t$ large, as"
   ]
  },
  {
   "cell_type": "markdown",
   "id": "277dd663",
   "metadata": {
    "editable": true
   },
   "source": [
    "$$\n",
    "\\log\\left( \\frac{G(t)}{G(t+\\Delta t)}\\right) = (E_1 - E_0)\\Delta t.\n",
    "$$"
   ]
  },
  {
   "cell_type": "markdown",
   "id": "d59cbbf8",
   "metadata": {
    "editable": true
   },
   "source": [
    "On our discretized lattice the correlator can be obtained numerically by directly computing the average value of the operator"
   ]
  },
  {
   "cell_type": "markdown",
   "id": "e1776163",
   "metadata": {
    "editable": true
   },
   "source": [
    "$$\n",
    "G(t) = \\frac{1}{N}\\sum_j\\langle\\braket{x(t_j+t)x(t_j)}\\rangle,\n",
    "$$"
   ]
  },
  {
   "cell_type": "markdown",
   "id": "55022734",
   "metadata": {
    "editable": true
   },
   "source": [
    "for all $t$ in $0, a, 2a\\dots (N-1)a$. This might look trivial at a first glance, but it is the key point of the whole algorithm.\n",
    "\n",
    "The computational algorithm required to compute the correlator is\n",
    "based on the idea of creating a Markov chain of possible paths for the\n",
    "harmonic oscillator, via subsequent updates. This procedure is called\n",
    "Metropolis algorithm:\n",
    "\n",
    "1. initialize an array of $N$ position values for each time point (for example set everything to 0)\n",
    "\n",
    "2. suggest a new random configuration starting from the current one\n",
    "\n",
    "3. accept or reject the update, based on the action difference\n",
    "\n",
    "4. compute the correlator for the current configuration\n",
    "\n",
    "5. repeat the process $N_{cf}$ times, sufficiently large to have a statistically relevant ensemble.\n",
    "\n",
    "In order to limit the auto correlation between data, the observable is\n",
    "only computed once every $N_{corr}$ updates.  The rule for accepting\n",
    "an update is: $\\exp(-\\Delta S) > \\xi$. Where $\\xi \\in [0,1]$, a\n",
    "randomly chosen number. This implies that if the classical action is\n",
    "reduced the update is automatically accepted, if it is positive, a\n",
    "random number $\\xi$ is generated and compared with the exponential of\n",
    "the action. This condition allows the system to explore all the phase\n",
    "space and not get stuck in a local minimum for example.\n",
    "\n",
    "Your task is to\n",
    "run for the harmonic oscillator  using $10^5-10^7$ configurations ($N_{conf}$), skipping 20\n",
    "updates between every measurement ($N_{corr}$). The time axis is\n",
    "discretized into 20 nodes. Data, to improve the estimate of the error can be resampled using the bootstrap or the blocking\n",
    "techniques.  The result that is physically relevant is the first\n",
    "excitation energy, which we expect to be $1\\hbar\\omega$. For\n",
    "simplicity we set $\\hbar=\\omega=1$ and the lattice spacing parameter\n",
    "$a = 0.5$.\n",
    "\n",
    "Implement statistical bootstrapping and blocking. \n",
    "Estimate energy and how it relates  with the correlation time."
   ]
  },
  {
   "cell_type": "markdown",
   "id": "2017a9d5",
   "metadata": {
    "editable": true
   },
   "source": [
    "### Project 2 b) Simulating with the Langevin Equation and Hybrid Monte Carlo:\n",
    "\n",
    "The expectation value of a quantity $A$ evaluated with path integrals is:"
   ]
  },
  {
   "cell_type": "markdown",
   "id": "80c77cd3",
   "metadata": {
    "editable": true
   },
   "source": [
    "$$\n",
    "\\braket{A} = \\frac{1}{Z}\\int \\D[\\phi] A[\\phi]e^{-S[\\phi]}.\n",
    "$$"
   ]
  },
  {
   "cell_type": "markdown",
   "id": "bb9b15f1",
   "metadata": {
    "editable": true
   },
   "source": [
    "One can sample this with Monte Carlo integration by considering\n",
    "$e^{-S[\\phi]}$ as a Boltzmann weight and use it as a\n",
    "\\textit{probability measure}. One than chooses a set of random\n",
    "configurations $\\{\\phi_i\\}$ according to the probability distribution:"
   ]
  },
  {
   "cell_type": "markdown",
   "id": "4e3ba4dd",
   "metadata": {
    "editable": true
   },
   "source": [
    "$$\n",
    "dP[\\phi] = \\frac{e^{-S[\\phi]}\\D[\\phi]}{\\int \\D[\\phi] e^{-S[\\phi]}}.\n",
    "$$"
   ]
  },
  {
   "cell_type": "markdown",
   "id": "5385e4c9",
   "metadata": {
    "editable": true
   },
   "source": [
    "The expectation value is then approximated as"
   ]
  },
  {
   "cell_type": "markdown",
   "id": "83cdd192",
   "metadata": {
    "editable": true
   },
   "source": [
    "$$\n",
    "\\braket{A} \\approx \\frac{1}{N_{conf}} \\sum_{i=1}^{N_{conf}} A[\\phi_i].\n",
    "$$"
   ]
  },
  {
   "cell_type": "markdown",
   "id": "4e609392",
   "metadata": {
    "editable": true
   },
   "source": [
    "As done in the previous parts and in project 1, we normally employ Markov processes and the Metropolis algorithm.\n",
    "\n",
    "The Langevin equation can be used to model \\textit{Brownian motion}. In its simplest form it reads:"
   ]
  },
  {
   "cell_type": "markdown",
   "id": "cb526fee",
   "metadata": {
    "editable": true
   },
   "source": [
    "$$\n",
    "\\frac{dx}{dt} = -\\frac{\\partial V(x)}{\\partial x} + \\eta(t)\n",
    "$$"
   ]
  },
  {
   "cell_type": "markdown",
   "id": "b1905872",
   "metadata": {
    "editable": true
   },
   "source": [
    "where $V(x)$ is some potential (hermonic oscillator) and $\\eta(t)$ are random noise variables distributed according to a Gaussian PDF. \n",
    "It generates a time-dependent probability distribution for the vector $x$, from which an observable $O[x]$ can be evaluated as:"
   ]
  },
  {
   "cell_type": "markdown",
   "id": "8eef004e",
   "metadata": {
    "editable": true
   },
   "source": [
    "$$\n",
    "\\langle O[x(t)] \\rangle = \\int P(x, t) O(x)dx\n",
    "$$"
   ]
  },
  {
   "cell_type": "markdown",
   "id": "e4486756",
   "metadata": {
    "editable": true
   },
   "source": [
    "As discussed in connection with project 1, the probability\n",
    "distribution of the Langevin equation has an associated Fokker-Planck\n",
    "equation"
   ]
  },
  {
   "cell_type": "markdown",
   "id": "fdc6af2f",
   "metadata": {
    "editable": true
   },
   "source": [
    "$$\n",
    "\\frac{\\partial P(x,t)}{\\partial t} = \\frac{1}{2} \\frac{\\partial}{\\partial x_i}\\left[ \\Omega \\frac{\\partial P}{\\partial x_i} + V(x)P\\right]\n",
    ".\n",
    "$$"
   ]
  },
  {
   "cell_type": "markdown",
   "id": "9fabfd58",
   "metadata": {
    "editable": true
   },
   "source": [
    "This is a deterministic equation for the time dependent $P(x,t)$. It\n",
    "is possible to relate this to the euclidean transporter in quantum\n",
    "mechanics.\n",
    "\n",
    "Using the same trick for the Hybrid Monte Carlo (HMC) discussed below,\n",
    "see $S[\\phi]$ as a potential of some fictitious hamiltonian, so that"
   ]
  },
  {
   "cell_type": "markdown",
   "id": "4a279195",
   "metadata": {
    "editable": true
   },
   "source": [
    "$$\n",
    "\\frac{d\\phi(x)}{dt} = -\\frac{\\partial S[\\phi(x)]}{\\partial x} + \\eta(t).\n",
    "$$"
   ]
  },
  {
   "cell_type": "markdown",
   "id": "ee8317b6",
   "metadata": {
    "editable": true
   },
   "source": [
    "The numerical algorithm is straightforward:"
   ]
  },
  {
   "cell_type": "markdown",
   "id": "e65ff17c",
   "metadata": {
    "editable": true
   },
   "source": [
    "$$\n",
    "\\phi_{t+1}(x) = \\phi_t(x) - \\epsilon \\frac{\\partial S[\\phi_t(x)]}{\\partial x} + \\sqrt{2\\epsilon}\\eta(t).\n",
    "$$"
   ]
  },
  {
   "cell_type": "markdown",
   "id": "eacbd2ba",
   "metadata": {
    "editable": true
   },
   "source": [
    "This method can lead to huge errors in discretization. Can be improved\n",
    "with Metropolis Adjusted Langevin Dynamics (MALA), by adding some\n",
    "metropolis tests during the integration.\n",
    "\n",
    "The Hybrid Monte Carlo  is based upon considering the Hamiltonian"
   ]
  },
  {
   "cell_type": "markdown",
   "id": "74855b31",
   "metadata": {
    "editable": true
   },
   "source": [
    "$$\n",
    "H[\\phi,\\pi] = \\frac{\\pi^2}{2} + S[\\phi]\n",
    "$$"
   ]
  },
  {
   "cell_type": "markdown",
   "id": "8c8ed099",
   "metadata": {
    "editable": true
   },
   "source": [
    "and integrating numerically the equations of motion:"
   ]
  },
  {
   "cell_type": "markdown",
   "id": "0124145d",
   "metadata": {
    "editable": true
   },
   "source": [
    "$$\n",
    "\\frac{\\partial \\phi}{\\partial t } = \\pi, ~~~~~~~ \\frac{\\partial \\pi}{\\partial t } = -\\frac{\\partial S[\\phi]}{\\partial \\phi}.\n",
    "$$"
   ]
  },
  {
   "cell_type": "markdown",
   "id": "9266233a",
   "metadata": {
    "editable": true
   },
   "source": [
    "Then to correct for integration errors one performs metropolis tests\n",
    "using the weight $e^{-\\Delta H}$ to fulfill ergodicity and make\n",
    "the algorithm exact.  Note that it is a reversible algorithm,\n",
    "it satisfies detailed balance (we can use $\\pi \\rightarrow - \\pi$ as\n",
    "it only comes squared in the hamiltonian)\n",
    "\n",
    "We can extend the HMC algorithm by considering the stochastic evolution equations:"
   ]
  },
  {
   "cell_type": "markdown",
   "id": "b84a2f12",
   "metadata": {
    "editable": true
   },
   "source": [
    "$$\n",
    "\\frac{\\partial \\phi}{\\partial t } = \\pi,\n",
    "$$"
   ]
  },
  {
   "cell_type": "markdown",
   "id": "6d471f87",
   "metadata": {
    "editable": true
   },
   "source": [
    "and"
   ]
  },
  {
   "cell_type": "markdown",
   "id": "b3f6dacd",
   "metadata": {
    "editable": true
   },
   "source": [
    "$$\n",
    "\\frac{\\partial \\pi}{\\partial t } = -\\frac{\\partial S[\\phi]}{\\partial \\phi} - 2\\mu_0\\pi + \\eta(t)\n",
    "$$"
   ]
  },
  {
   "cell_type": "markdown",
   "id": "ccba4c6f",
   "metadata": {
    "editable": true
   },
   "source": [
    "where $\\eta(t)$ is again white noise and $\\mu_0 > 0$ is a \"mass\n",
    "term\". This reduces to Stochastic Molecular Dynamics (a variation of\n",
    "HMC) for $\\mu_0 \\rightarrow 0$. In the second order form:"
   ]
  },
  {
   "cell_type": "markdown",
   "id": "23d7e332",
   "metadata": {
    "editable": true
   },
   "source": [
    "$$\n",
    "\\frac{\\partial^2 \\phi}{\\partial t^2 } + 2\\mu_0\\frac{\\partial \\phi}{\\partial t} = -\\frac{\\partial S[\\phi]}{\\partial \\phi}  + \\eta(t),\n",
    "$$"
   ]
  },
  {
   "cell_type": "markdown",
   "id": "03942b71",
   "metadata": {
    "editable": true
   },
   "source": [
    "for large $\\mu_0$ (after redefining time as $'=2\\mu_0t$) this form recovers Langevin equation.\n",
    "Why is this interesting? \n",
    "1. Langevin methods have been proven to be \\textit{renormalizable} a long time ago\n",
    "\n",
    "2. HMC has been proven to be \\textit{not renormalizable}\n",
    "\n",
    "3. But the existence of a parameter $\\mu_0$ that interpolates between the two could suggest that they are in the \\textit{same universality class}, hence have similar behavior when approaching the continuum limit. \n",
    "\n",
    "For an algorithm to be renormalizable we mean that the autocorrelation function of the Markov Process has a finite scaling exponent when approaching the continuum theory (smaller lattice spacing).\n",
    "For example, the Metropolis algorithm scales as $d^2$ ($d$ is the dimensionality of the system, degrees of freedom), while Langevin as $d^{4/3}$.\n",
    "For very long trajectories the HMC scales as $d^{5/4}$, better than Langevin, but this is not true in general\n",
    "Potentially renormalizable algorithms could be more efficient than the HMC near the continuum limit.\n",
    "\n",
    "Let us  again consider the harmonic oscillator in one dimension with action:"
   ]
  },
  {
   "cell_type": "markdown",
   "id": "d4a714ae",
   "metadata": {
    "editable": true
   },
   "source": [
    "$$\n",
    "S[x] = \\sum_{i=1}^{N-1}\\left[\\frac{m}{2a}(x_i - x_{i+1})^2 + \\frac{a}{2}\\left(V(x_i) + V(x_{i+1})\\right)\\right],\n",
    "$$"
   ]
  },
  {
   "cell_type": "markdown",
   "id": "5fce7939",
   "metadata": {
    "editable": true
   },
   "source": [
    "and try to sample the ground state energy defined as $E=\\langle x^2\\rangle$ using the Metropolis, the HMC and Langevin algorithms. \n",
    "\n",
    "The autocorrelation function is defined as:"
   ]
  },
  {
   "cell_type": "markdown",
   "id": "58184876",
   "metadata": {
    "editable": true
   },
   "source": [
    "$$\n",
    "\\Gamma(t) = \\Gamma(-t) = \\langle (x_i - \\bar x)(x_{i+t} - \\bar x)\\rangle \\approx \\frac{1}{N-t}\\sum_{i=1}^{N-t}  (x_i - \\bar x)(x_{i+t} - \\bar x),\n",
    "$$"
   ]
  },
  {
   "cell_type": "markdown",
   "id": "eb1080ca",
   "metadata": {
    "editable": true
   },
   "source": [
    "where $t$ is the \"lag\" between two points. The integrated autocorrelation time is given by:"
   ]
  },
  {
   "cell_type": "markdown",
   "id": "85c6e60c",
   "metadata": {
    "editable": true
   },
   "source": [
    "$$\n",
    "\\tau_{int} = \\frac{1}{2} \\sum_{t=1}^\\infty \\frac{\\Gamma(t)}{\\Gamma(0)} = \\frac{1}{2} \\sum_{t=1}^\\infty \\rho(t).\n",
    "$$"
   ]
  },
  {
   "cell_type": "markdown",
   "id": "4d87bac2",
   "metadata": {
    "editable": true
   },
   "source": [
    "In order to truncate the infinite summation one can look at the deviation squared of $\\rho(t)$:"
   ]
  },
  {
   "cell_type": "markdown",
   "id": "b206da19",
   "metadata": {
    "editable": true
   },
   "source": [
    "$$\n",
    "\\langle \\delta \\rho(t)^2\\rangle \\approx \\frac{1}{N} \\sum_{k=1}^\\infty \\left[ \\rho(k+t) + \\rho(k-t) - 2\\rho(k)\\rho(t)\\right]^2.\n",
    "$$"
   ]
  },
  {
   "cell_type": "markdown",
   "id": "21a24bad",
   "metadata": {
    "editable": true
   },
   "source": [
    "All these terms, for a sufficiently large value of $k$ should all\n",
    "vanish, hence one can choose a cutoff $\\Lambda$ and truncate the sum\n",
    "up to $t+\\Lambda$. The integrated autocorrelation time, if the\n",
    "deviations of $\\rho(t)$ become small, plateaus.\n",
    "\n",
    "We choose a cutoff $W$ such that:"
   ]
  },
  {
   "cell_type": "markdown",
   "id": "db222be3",
   "metadata": {
    "editable": true
   },
   "source": [
    "<!-- Equation labels as ordinary links -->\n",
    "<div id=\"autocorr_time\"></div>\n",
    "\n",
    "$$\n",
    "\\tau_{int} = \\frac{1}{2} \\sum_{t=1}^W \\rho(t),\n",
    "    \\label{autocorr_time} \\tag{1}\n",
    "$$"
   ]
  },
  {
   "cell_type": "markdown",
   "id": "718a225c",
   "metadata": {
    "editable": true
   },
   "source": [
    "where $W$ is the first lag $t$ for which $\\rho(t) < \\sqrt{ (\\langle\n",
    "\\delta \\rho(t)^2\\rangle}$, when the contribution to the integration of\n",
    "$\\tau_{int}$ from that lag become smaller than the deviation of that\n",
    "same lag. \\\\ An approximate error estimate of the integrated\n",
    "autocorrelation time can be defined as"
   ]
  },
  {
   "cell_type": "markdown",
   "id": "5590821f",
   "metadata": {
    "editable": true
   },
   "source": [
    "$$\n",
    "\\sigma^2(\\tau_{int}) \\approx \\frac{2(2W+1)}{N}\\tau_{int}^2.\n",
    "$$"
   ]
  },
  {
   "cell_type": "markdown",
   "id": "90b34698",
   "metadata": {
    "editable": true
   },
   "source": [
    "### Project 2 c):\n",
    "\n",
    "Here the aim is to explore the Heisenberg-model in one and two\n",
    "dimensions, by use of stochastic series expansion (SSE). Hopefully, we\n",
    "will be able to calculate the critical temperature for the continious\n",
    "phase transition. With this value the critical exponents for the\n",
    "system can also be obtained.  The results should be compared with the\n",
    "relevant literature as provided in the references.\n",
    "\n",
    "Implementation of SSE for 1D Heisenberg model with periodic bound- ary conditions.\n",
    "1. Add external field and anisotropy dependencies.\n",
    "\n",
    "2. 2D implementation, again with periodic boundary conditions.\n",
    "\n",
    "a. Study the temperature dependent phase transition and calculate the critical exponents for the system. By studying the system the follow- ing values should be attainable; $M$, $M^2$, $E$, $\\xi$, $C_V$ , $C(r)$, where $M$ is magnetization, $E$ is the energy, $\\xi$ is the magnetic suceptibility, $C_V$ is the heat capacity and $C(r)$ is the correlation length."
   ]
  },
  {
   "cell_type": "markdown",
   "id": "b7fca5b2",
   "metadata": {
    "editable": true
   },
   "source": [
    "### Literature\n",
    "\n",
    "1. M. L{\\\"{u}}scher , S. Schaefer, Non-renormalizability of the HMC algorithm,(2011), Journal of High Energy Physics\n",
    "\n",
    "2. R. M. Neal, MCMC using Hamiltonian dynamics, Chapter 5 of the Handbook of Markov Chain Monte Carlo\n",
    "\n",
    "3. A. W. Sandvik. Finite-size scaling of the ground-state parameters of the two-dimensional heisenberg model. Phys. Rev. B, 56:11678–11690, Nov 1997.\n",
    "\n",
    "4. A. W. Sandvik. Stochastic series expansion method with operator-loop update. Phys. Rev. B, 59:R14157–R14160, Jun 1999.\n",
    "\n",
    "5. O. F. Syljuasen and A. W. Sandvik. Quantum Monte Carlo with directed loops. Phys. Rev. E, 66:046701, Oct 2002.~"
   ]
  },
  {
   "cell_type": "markdown",
   "id": "e71ad16b",
   "metadata": {
    "editable": true
   },
   "source": [
    "## Introduction to numerical projects\n",
    "\n",
    "Here follows a brief recipe and recommendation on how to write a report for each\n",
    "project.\n",
    "\n",
    "  * Give a short description of the nature of the problem and the eventual  numerical methods you have used.\n",
    "\n",
    "  * Describe the algorithm you have used and/or developed. Here you may find it convenient to use pseudocoding. In many cases you can describe the algorithm in the program itself.\n",
    "\n",
    "  * Include the source code of your program. Comment your program properly.\n",
    "\n",
    "  * If possible, try to find analytic solutions, or known limits in order to test your program when developing the code.\n",
    "\n",
    "  * Include your results either in figure form or in a table. Remember to        label your results. All tables and figures should have relevant captions        and labels on the axes.\n",
    "\n",
    "  * Try to evaluate the reliabilty and numerical stability/precision of your results. If possible, include a qualitative and/or quantitative discussion of the numerical stability, eventual loss of precision etc.\n",
    "\n",
    "  * Try to give an interpretation of you results in your answers to  the problems.\n",
    "\n",
    "  * Critique: if possible include your comments and reflections about the  exercise, whether you felt you learnt something, ideas for improvements and  other thoughts you've made when solving the exercise. We wish to keep this course at the interactive level and your comments can help us improve it.\n",
    "\n",
    "  * Try to establish a practice where you log your work at the  computerlab. You may find such a logbook very handy at later stages in your work, especially when you don't properly remember  what a previous test version  of your program did. Here you could also record  the time spent on solving the exercise, various algorithms you may have tested or other topics which you feel worthy of mentioning."
   ]
  },
  {
   "cell_type": "markdown",
   "id": "3ae1c791",
   "metadata": {
    "editable": true
   },
   "source": [
    "## Format for electronic delivery of report and programs\n",
    "\n",
    "The preferred format for the report is a PDF file. You can also use DOC or postscript formats or as an ipython notebook file.  As programming language we prefer that you choose between C/C++, Fortran2008 or Python. The following prescription should be followed when preparing the report:\n",
    "\n",
    "  * Use canvas to hand in your projects, log in  at  <http://canvas.uio.no> with your normal UiO username and password.\n",
    "\n",
    "  * Upload **only** the report file!  For the source code file(s) you have developed please provide us with your link to your github domain.  The report file should include all of your discussions and a list of the codes you have developed.  The full version of the codes should be in your github repository.\n",
    "\n",
    "  * In your github repository, please include a folder which contains selected results. These can be in the form of output from your code for a selected set of runs and input parameters.\n",
    "\n",
    "  * Still in your github make a folder where you place your codes. \n",
    "\n",
    "  * In this and all later projects, you should include tests (for example unit tests) of your code(s).\n",
    "\n",
    "  * Comments  from us on your projects, approval or not, corrections to be made  etc can be found under your Devilry domain and are only visible to you and the teachers of the course.\n",
    "\n",
    "Finally, \n",
    "we encourage you to work two and two together. Optimal working groups consist of \n",
    "2-3 students. You can then hand in a common report."
   ]
  }
 ],
 "metadata": {},
 "nbformat": 4,
 "nbformat_minor": 5
}
