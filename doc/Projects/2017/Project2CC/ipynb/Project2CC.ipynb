{
 "cells": [
  {
   "cell_type": "markdown",
   "metadata": {},
   "source": [
    "<!-- dom:TITLE: Project 2, Variational Monte Carlo studies of electronic systems. Deadline May 31   -->\n",
    "# Project 2, Variational Monte Carlo studies of electronic systems. Deadline May 31  \n",
    "<!-- dom:AUTHOR: [Computational Physics II FYS4411/FYS9411](http://www.uio.no/studier/emner/matnat/fys/FYS4411/index-eng.html) at Department of Physics, University of Oslo, Norway -->\n",
    "<!-- Author: --> **[Computational Physics II FYS4411/FYS9411](http://www.uio.no/studier/emner/matnat/fys/FYS4411/index-eng.html)**, Department of Physics, University of Oslo, Norway\n",
    "\n",
    "Date: **Spring semester 2017**\n",
    "\n",
    "## Introduction\n",
    "\n",
    "The aim of this project is to use the coupled cluster method\n",
    "method to evaluate \n",
    "the ground state energy of \n",
    "quantum dots with $N=2$, $N=6$, $N=12$ and $N=20$ electrons. These are so-called closed shell systems.\n",
    "\n",
    "\n",
    "## Theoretical background and description of the physical system\n",
    "\n",
    "We consider a system of electrons confined in a pure two-dimensional \n",
    "isotropic harmonic oscillator potential, with an idealized  total Hamiltonian given by"
   ]
  },
  {
   "cell_type": "markdown",
   "metadata": {},
   "source": [
    "<!-- Equation labels as ordinary links -->\n",
    "<div id=\"eq:finalH\"></div>\n",
    "\n",
    "$$\n",
    "\\begin{equation}\n",
    "\\label{eq:finalH} \\tag{1}\n",
    "\\hat{H}=\\sum_{i=1}^{N} \\left(  -\\frac{1}{2} \\nabla_i^2 + \\frac{1}{2} \\omega^2r_i^2  \\right)+\\sum_{i<j}\\frac{1}{r_{ij}},\n",
    "\\end{equation}\n",
    "$$"
   ]
  },
  {
   "cell_type": "markdown",
   "metadata": {},
   "source": [
    "where natural units ($\\hbar=c=e=m_e=1$) are used and all energies are in so-called atomic units a.u. We will study systems of many electrons $N$ as functions of the oscillator frequency  $\\omega$ using the above Hamiltonian.  The Hamiltonian includes a standard harmonic oscillator part"
   ]
  },
  {
   "cell_type": "markdown",
   "metadata": {},
   "source": [
    "$$\n",
    "\\hat{H}_0=\\sum_{i=1}^{N} \\left(  -\\frac{1}{2} \\nabla_i^2 + \\frac{1}{2} \\omega^2r_i^2  \\right),\n",
    "$$"
   ]
  },
  {
   "cell_type": "markdown",
   "metadata": {},
   "source": [
    "and the repulsive interaction between two electrons given by"
   ]
  },
  {
   "cell_type": "markdown",
   "metadata": {},
   "source": [
    "$$\n",
    "\\hat{H}_1=\\sum_{i<j}\\frac{1}{r_{ij}},\n",
    "$$"
   ]
  },
  {
   "cell_type": "markdown",
   "metadata": {},
   "source": [
    "with the distance between electrons given by $r_{ij}=\\vert \\boldsymbol{r}_1-\\boldsymbol{r}_2\\vert$. We define the \n",
    "modulus of the positions of the electrons (for a given electron $i$) as $r_i = \\sqrt{r_{i_x}^2+r_{i_y}^2}$.\n",
    "\n",
    "The aim of this project is to develop a coupled cluster doubles (CCD) code, where $2p-2h$ excitations are included only.\n",
    "\n",
    "We will start with a two-electron problem and compare our results to those of Taut, see reference [1] below. \n",
    "\n",
    "The ansatz for the ground state  is given by"
   ]
  },
  {
   "cell_type": "markdown",
   "metadata": {},
   "source": [
    "$$\n",
    "\\vert \\Psi_0\\rangle = \\vert \\Psi_{CC}\\rangle = e^{\\hat{T}} \\vert\n",
    "     \\Phi_0\\rangle = \\left( \\sum_{n=1}^{N} \\frac{1}{n!} \\hat{T}^n\n",
    "     \\right) \\vert \\Phi_0\\rangle,\n",
    "$$"
   ]
  },
  {
   "cell_type": "markdown",
   "metadata": {},
   "source": [
    "where $N$ represents the maximum number of particle-hole excitations\n",
    "  and $\\hat{T}$ is the cluster operator defined as"
   ]
  },
  {
   "cell_type": "markdown",
   "metadata": {},
   "source": [
    "$$\n",
    "\\begin{align*}\n",
    "              \\hat{T} &= \\hat{T}_1 + \\hat{T}_2 + \\ldots + \\hat{T}_N\n",
    "              \\\\ \\hat{T}_n &= \\left(\\frac{1}{n!}\\right)^2\n",
    "              \\sum_{\\substack{ i_1,i_2,\\ldots i_n \\\\ a_1,a_2,\\ldots\n",
    "                  a_n}} t_{i_1i_2\\ldots i_n}^{a_1a_2\\ldots a_n}\n",
    "              a_{a_1}^\\dagger a_{a_2}^\\dagger \\ldots a_{a_n}^\\dagger\n",
    "              a_{i_n} \\ldots a_{i_2} a_{i_1}.\n",
    "          \\end{align*}\n",
    "$$"
   ]
  },
  {
   "cell_type": "markdown",
   "metadata": {},
   "source": [
    "The energy is given by"
   ]
  },
  {
   "cell_type": "markdown",
   "metadata": {},
   "source": [
    "$$\n",
    "E_{\\mathrm{CC}} = \\langle\\Phi_0\\vert \\overline{H}\\vert\n",
    "          \\Phi_0\\rangle,\n",
    "$$"
   ]
  },
  {
   "cell_type": "markdown",
   "metadata": {},
   "source": [
    "where $\\overline{H}$ is a similarity transformed Hamiltonian"
   ]
  },
  {
   "cell_type": "markdown",
   "metadata": {},
   "source": [
    "$$\n",
    "\\begin{align*}\n",
    "          \\overline{H}&= e^{-\\hat{T}} \\hat{H}_N e^{\\hat{T}}\n",
    "          \\\\ \\hat{H}_N &= \\hat{H} - \\langle\\Phi_0\\vert \\hat{H} \\vert\n",
    "          \\Phi_0\\rangle.\n",
    "      \\end{align*}\n",
    "$$"
   ]
  },
  {
   "cell_type": "markdown",
   "metadata": {},
   "source": [
    "The coupled cluster energy is a function of the unknown cluster\n",
    "      amplitudes $t_{i_1i_2\\ldots i_n}^{a_1a_2\\ldots a_n}$, given by\n",
    "      the solutions to the amplitude equations"
   ]
  },
  {
   "cell_type": "markdown",
   "metadata": {},
   "source": [
    "<!-- Equation labels as ordinary links -->\n",
    "<div id=\"eq:amplitudeeq\"></div>\n",
    "\n",
    "$$\n",
    "\\begin{equation}\\label{eq:amplitudeeq} \\tag{2}\n",
    "          0 = \\langle\\Phi_{i_1 \\ldots i_n}^{a_1 \\ldots a_n}\\vert\n",
    "          \\overline{H}\\vert \\Phi_0\\rangle.\n",
    "      \\end{equation}\n",
    "$$"
   ]
  },
  {
   "cell_type": "markdown",
   "metadata": {},
   "source": [
    "In order to set up the above equations, \n",
    "the similarity transformed Hamiltonian $\\overline{H}$ is expanded\n",
    "  using the Baker-Campbell-Hausdorff expression,"
   ]
  },
  {
   "cell_type": "markdown",
   "metadata": {},
   "source": [
    "<!-- Equation labels as ordinary links -->\n",
    "<div id=\"eq:bch\"></div>\n",
    "\n",
    "$$\n",
    "\\begin{equation}\\label{eq:bch} \\tag{3}\n",
    "          \\overline{H}= \\hat{H}_N + \\left[ \\hat{H}_N, \\hat{T} \\right]\n",
    "          + \\frac{1}{2} \\left[\\left[ \\hat{H}_N, \\hat{T} \\right],\n",
    "            \\hat{T}\\right] + \\ldots + \\frac{1}{n!} \\left[\n",
    "            \\ldots \\left[ \\hat{H}_N, \\hat{T} \\right], \\ldots \\hat{T}\n",
    "            \\right] +\\dots\n",
    "      \\end{equation}\n",
    "$$"
   ]
  },
  {
   "cell_type": "markdown",
   "metadata": {},
   "source": [
    "and simplified using the connected cluster theorem"
   ]
  },
  {
   "cell_type": "markdown",
   "metadata": {},
   "source": [
    "$$\n",
    "\\overline{H}= \\hat{H}_N + \\left( \\hat{H}_N \\hat{T}\\right)_c\n",
    "          + \\frac{1}{2} \\left( \\hat{H}_N \\hat{T}^2\\right)_c + \\dots +\n",
    "          \\frac{1}{n!} \\left( \\hat{H}_N \\hat{T}^n\\right)_c +\\dots\n",
    "$$"
   ]
  },
  {
   "cell_type": "markdown",
   "metadata": {},
   "source": [
    "We will discuss parts of the the derivation below.\n",
    "\n",
    "\n",
    "\n",
    "\n",
    "  We will now approximate the cluster operator $\\hat{T}$ to include\n",
    "  only $2p-2h$ correlations. This leads to the so-called CCD\n",
    "  approximation, that is"
   ]
  },
  {
   "cell_type": "markdown",
   "metadata": {},
   "source": [
    "$$\n",
    "\\hat{T}\\approx\n",
    "  \\hat{T}_2=\\frac{1}{4}\\sum_{abij}t_{ij}^{ab}a^{\\dagger}_aa^{\\dagger}_ba_ja_i,\n",
    "$$"
   ]
  },
  {
   "cell_type": "markdown",
   "metadata": {},
   "source": [
    "meaning that we have"
   ]
  },
  {
   "cell_type": "markdown",
   "metadata": {},
   "source": [
    "$$\n",
    "\\vert \\Psi_0 \\rangle \\approx \\vert \\Psi_{CCD} \\rangle =\n",
    "  \\exp{\\left(\\hat{T}_2\\right)}\\vert \\Phi_0\\rangle.\n",
    "$$"
   ]
  },
  {
   "cell_type": "markdown",
   "metadata": {},
   "source": [
    "Inserting these equations in the expression for the computation of\n",
    "  the energy we have, with a Hamiltonian defined with respect to a\n",
    "  general reference vacuum"
   ]
  },
  {
   "cell_type": "markdown",
   "metadata": {},
   "source": [
    "$$\n",
    "\\hat{H}=\\hat{H}_N+E_{\\mathrm{ref}},\n",
    "$$"
   ]
  },
  {
   "cell_type": "markdown",
   "metadata": {},
   "source": [
    "with"
   ]
  },
  {
   "cell_type": "markdown",
   "metadata": {},
   "source": [
    "$$\n",
    "\\hat{H}_N=\\sum_{pq}\\langle p \\vert \\hat{f} \\vert q \\rangle\n",
    "  a^{\\dagger}_pa_q + \\frac{1}{4}\\sum_{pqrs}\\langle pq \\vert \\hat{v}\n",
    "  \\vert rs \\rangle a^{\\dagger}_pa^{\\dagger}_qa_sa_r,\n",
    "$$"
   ]
  },
  {
   "cell_type": "markdown",
   "metadata": {},
   "source": [
    "we obtain that the energy can be written as"
   ]
  },
  {
   "cell_type": "markdown",
   "metadata": {},
   "source": [
    "$$\n",
    "\\langle \\Phi_0 \\vert\n",
    "  \\exp{\\left(-\\hat{T}_2\\right)}\\hat{H}_N\\exp{\\left(\\hat{T}_2\\right)}\\vert\n",
    "  \\Phi_0\\rangle = \\langle \\Phi_0 \\vert \\hat{H}_N(1+\\hat{T}_2)\\vert\n",
    "  \\Phi_0\\rangle = E_{CCD}.\n",
    "$$"
   ]
  },
  {
   "cell_type": "markdown",
   "metadata": {},
   "source": [
    "This quantity becomes"
   ]
  },
  {
   "cell_type": "markdown",
   "metadata": {},
   "source": [
    "$$\n",
    "E_{CCD}=E_{\\mathrm{ref}}+\\frac{1}{4}\\sum_{abij}\\langle ij \\vert\n",
    "  \\hat{v} \\vert ab \\rangle t_{ij}^{ab},\n",
    "$$"
   ]
  },
  {
   "cell_type": "markdown",
   "metadata": {},
   "source": [
    "where the latter is the correlation energy from this level of\n",
    "  approximation of coupled cluster  theory.  Similarly, the expression for the\n",
    "  amplitudes reads"
   ]
  },
  {
   "cell_type": "markdown",
   "metadata": {},
   "source": [
    "$$\n",
    "\\langle \\Phi_{ij}^{ab} \\vert\n",
    "  \\exp{\\left(-\\hat{T}_2\\right)}\\hat{H}_N\\exp{\\left(\\hat{T}_2\\right)}\\vert\n",
    "  \\Phi_0\\rangle = 0.\n",
    "$$"
   ]
  },
  {
   "cell_type": "markdown",
   "metadata": {},
   "source": [
    "These equations can be reduced to (after several applications of\n",
    "  Wick's theorem), for all $i > j$ and all $a > b$,"
   ]
  },
  {
   "cell_type": "markdown",
   "metadata": {},
   "source": [
    "$$\n",
    "0 = \\langle ab \\vert \\hat{v} \\vert ij \\rangle +\n",
    "  \\left(\\epsilon_a+\\epsilon_b-\\epsilon_i-\\epsilon_j\\right)t_{ij}^{ab}+\\frac{1}{2}\\sum_{cd} \\langle ab \\vert \\hat{v} \\vert\n",
    "  cd \\rangle t_{ij}^{cd}+\\frac{1}{2}\\sum_{kl} \\langle kl \\vert \\hat{v}\n",
    "  \\vert ij \\rangle t_{kl}^{ab}+\\hat{P}(ij\\vert ab)\\sum_{kc} \\langle kb\n",
    "  \\vert \\hat{v} \\vert cj \\rangle t_{ik}^{ac}  \\nonumber\n",
    "$$"
   ]
  },
  {
   "cell_type": "markdown",
   "metadata": {},
   "source": [
    "<!-- Equation labels as ordinary links -->\n",
    "<div id=\"eq:ccd\"></div>\n",
    "\n",
    "$$\n",
    "\\begin{equation}  +\\frac{1}{4}\\sum_{klcd} \\langle kl \\vert \\hat{v} \\vert cd \\rangle\n",
    "  t_{ij}^{cd}t_{kl}^{ab}+\\hat{P}(ij)\\sum_{klcd} \\langle kl \\vert\n",
    "  \\hat{v} \\vert cd \\rangle t_{ik}^{ac}t_{jl}^{bd}-\\frac{1}{2}\\hat{P}(ij)\\sum_{klcd} \\langle kl \\vert \\hat{v} \\vert\n",
    "  cd \\rangle t_{ik}^{dc}t_{lj}^{ab}-\\frac{1}{2}\\hat{P}(ab)\\sum_{klcd}\n",
    "  \\langle kl \\vert \\hat{v} \\vert cd \\rangle t_{lk}^{ac}t_{ij}^{db},\n",
    "  \\label{eq:ccd} \\tag{4}\n",
    "  \\end{equation}\n",
    "$$"
   ]
  },
  {
   "cell_type": "markdown",
   "metadata": {},
   "source": [
    "where we have defined"
   ]
  },
  {
   "cell_type": "markdown",
   "metadata": {},
   "source": [
    "$$\n",
    "\\hat{P}\\left(ab\\right)= 1-\\hat{P}_{ab},\n",
    "$$"
   ]
  },
  {
   "cell_type": "markdown",
   "metadata": {},
   "source": [
    "where $\\hat{P}_{ab}$ interchanges two particles occupying the\n",
    "  quantum numbers $a$ and $b$.  The operator $\\hat{P}(ij\\vert ab)$ is\n",
    "  defined as"
   ]
  },
  {
   "cell_type": "markdown",
   "metadata": {},
   "source": [
    "$$\n",
    "\\hat{P}(ij\\vert ab) = (1-\\hat{P}_{ij})(1-\\hat{P}_{ab}).\n",
    "$$"
   ]
  },
  {
   "cell_type": "markdown",
   "metadata": {},
   "source": [
    "The single-particle energies $\\epsilon_p$ are normally taken to be Hartree-Fock single-particle energies.\n",
    "  Recall also that the unknown amplitudes $t_{ij}^{ab}$ represent\n",
    "  anti-symmetrized matrix elements, meaning that they obey the same\n",
    "  symmetry relations as the two-body interaction, that is"
   ]
  },
  {
   "cell_type": "markdown",
   "metadata": {},
   "source": [
    "$$\n",
    "t_{ij}^{ab}=-t_{ji}^{ab}=-t_{ij}^{ba}=t_{ji}^{ba}.\n",
    "$$"
   ]
  },
  {
   "cell_type": "markdown",
   "metadata": {},
   "source": [
    "The two-body matrix elements are also anti-symmetrized, meaning that"
   ]
  },
  {
   "cell_type": "markdown",
   "metadata": {},
   "source": [
    "$$\n",
    "\\langle ab \\vert \\hat{v} \\vert ij \\rangle = -\\langle ab \\vert\n",
    "  \\hat{v} \\vert ji \\rangle= -\\langle ba \\vert \\hat{v} \\vert ij\n",
    "  \\rangle=\\langle ba \\vert \\hat{v} \\vert ji \\rangle.\n",
    "$$"
   ]
  },
  {
   "cell_type": "markdown",
   "metadata": {},
   "source": [
    "The non-linear equations for the unknown amplitudes $t_{ij}^{ab}$\n",
    "  are solved iteratively. \n",
    "\n",
    "In order to develop a program, chapter 8 of the recent [Lecture Notes in Physics (volume 936)](http://www.springer.com/us/book/9783319533353) is highly recommended as literature.\n",
    "All material is available from the [source site](https://github.com/ManyBodyPhysics/LectureNotesPhysics/blob/master/doc/src/lnp.pdf). Example of CCD codes are available from the [program site](https://github.com/ManyBodyPhysics/LectureNotesPhysics/tree/master/Programs/Chapter8-programs/cpp/CCD). These can be used to benchmark your own program.\n",
    "\n",
    "### Project 2 a):\n",
    "\n",
    "We will use our Hartree-Fock basis from project 1 to define matrix elements and the single-particle energies to be used in the CCD equations. The Hartree-Fock basis defines the so-called reference energy"
   ]
  },
  {
   "cell_type": "markdown",
   "metadata": {},
   "source": [
    "<!-- Equation labels as ordinary links -->\n",
    "<div id=\"_auto1\"></div>\n",
    "\n",
    "$$\n",
    "\\begin{equation}\n",
    "  E_{\\mathrm{ref}} = \\sum_{i\\le F} \\sum_{\\alpha\\beta}\n",
    "  C^*_{i\\alpha}C_{i\\beta}\\langle \\alpha | h | \\beta \\rangle +\n",
    "  \\frac{1}{2}\\sum_{ij\\le F}\\sum_{{\\alpha\\beta\\gamma\\delta}}\n",
    "  C^*_{i\\alpha}C^*_{j\\beta}C_{i\\gamma}C_{j\\delta}\\langle\n",
    "  \\alpha\\beta|\\hat{v}|\\gamma\\delta\\rangle. \n",
    "\\label{_auto1} \\tag{5}\n",
    "\\end{equation}\n",
    "$$"
   ]
  },
  {
   "cell_type": "markdown",
   "metadata": {},
   "source": [
    "You will need to transform the matrix elements from the harmonic oscillator basis to the Hartree-Fock basis.\n",
    "The first step is to program"
   ]
  },
  {
   "cell_type": "markdown",
   "metadata": {},
   "source": [
    "<!-- Equation labels as ordinary links -->\n",
    "<div id=\"_auto2\"></div>\n",
    "\n",
    "$$\n",
    "\\begin{equation}\n",
    "  \\langle pq \\vert \\hat{v} \\vert rs\\rangle_{AS}=\n",
    "  \\sum_{{\\alpha\\beta\\gamma\\delta}}\n",
    "  C^*_{p\\alpha}C^*_{q\\beta}C_{r\\gamma}C_{s\\delta}\\langle\n",
    "  \\alpha\\beta|\\hat{v}|\\gamma\\delta\\rangle_{AS}, \n",
    "\\label{_auto2} \\tag{6}\n",
    "\\end{equation}\n",
    "$$"
   ]
  },
  {
   "cell_type": "markdown",
   "metadata": {},
   "source": [
    "where the coefficients are those from the last Hartree-Fock iteration and the matrix elements are all anti-symmetrized.\n",
    "You can extend your Hartree-Fock program to write out these matrix elements after the last Hartree-Fock iteration.\n",
    "Make sure that your matrix elements are structured according to conserved quantum numbers, avoiding thereby the write out of many zeros. \n",
    "\n",
    "To test that your matrix elements are set up correctly, when you read in these matrix elements in the CCD code, make sure that the reference energy from your Hartree-Fock calculations are reproduced. \n",
    "\n",
    "\n",
    "### Project 2 b):\n",
    "\n",
    "Set up a code which solves the CCD equation by encoding the equations as they stand, that is follow the mathematical expressions and perform the sums over all single-particle states.  Compute the energy of the two-electron systems using \n",
    "all single-particle states that were needed in order to obtain the Hartree-Fock limit. Compare these with Taut's results for $\\omega=1$ a.u.  Since you do not include singles you will not get the exact result. If you wish to include singles, you will able to obtain the exact results in a basis with at least ten major oscillator shells.  \n",
    "Perform also calculations with $N=6$, $N=12$ and $N=20$ electrons and compare with reference [2] of Pedersen et al below.\n",
    "\n",
    "### Project 2 c):\n",
    "\n",
    "The next step consists in rewriting the equations in terms of matrix-matrix multiplications and subdividing \n",
    "the matrix elements and operations in terms of two-particle configuration that conserve total spin projection and projection of the orbital momentum. Rewrite also the equations in terms of so-called intermediates, as detailed \n",
    "in section 8.7 of [Lietz et al](https://github.com/ManyBodyPhysics/LectureNotesPhysics/blob/master/doc/src/lnp.pdf).\n",
    "This section gives a detailed description on how to build a coupled cluster code and is highly recommended. \n",
    "\n",
    "Rerun your calculations for $=2$, $N=6$, $N=12$ and $N=20$ electrons using your optimal Hartree-Fock basis. Make sure your results from 2b) stay the same. \n",
    "\n",
    "Calculate as well ground state energies for $\\omega=0.5$ and $\\omega=0.1$. Try to compare with eventual variational\n",
    "Monte Carlo results from other students, if possible. \n",
    "\n",
    "### Project 2 d):\n",
    "\n",
    "The final step is to parallelize your CCD code using either OpenMP or MPI and do a performance analysis. Use the $N=6$ case. Make a performance analysis by timing your serial code\n",
    "with and without vectorization. Perform several runs and compute an average timing analysis\n",
    "with and without vectorization. Comment your results. \n",
    "\n",
    "Compare thereafter your serial code(s)  with the speedup you get by parallelizing your code, running either OpenMP or MPI or both.\n",
    "Do you get a near $100\\%$ speedup with the parallel version? Comment again your results and perform timing benchmarks several times in order \n",
    "to extract  an average performance time. \n",
    "\n",
    "\n",
    "\n",
    "### Literature\n",
    "\n",
    " 1. M. Taut, Phys. Rev. A **48**, 3561 - 3566 (1993).\n",
    "\n",
    " 2. M. L. Pedersen, G. Hagen, M. Hjorth-Jensen, S. Kvaal,  and F. Pederiva, Phys. Rev. B **84**, 115302 (2011)\n",
    "\n",
    "## Introduction to numerical projects\n",
    "\n",
    "Here follows a brief recipe and recommendation on how to write a report for each\n",
    "project.\n",
    "\n",
    "  * Give a short description of the nature of the problem and the eventual  numerical methods you have used.\n",
    "\n",
    "  * Describe the algorithm you have used and/or developed. Here you may find it convenient to use pseudocoding. In many cases you can describe the algorithm in the program itself.\n",
    "\n",
    "  * Include the source code of your program. Comment your program properly.\n",
    "\n",
    "  * If possible, try to find analytic solutions, or known limits in order to test your program when developing the code.\n",
    "\n",
    "  * Include your results either in figure form or in a table. Remember to label your results. All tables and figures should have relevant captions and labels on the axes.\n",
    "\n",
    "  * Try to evaluate the reliabilty and numerical stability/precision of your results. If possible, include a qualitative and/or quantitative discussion of the numerical stability, eventual loss of precision etc.\n",
    "\n",
    "  * Try to give an interpretation of you results in your answers to  the problems.\n",
    "\n",
    "  * Critique: if possible include your comments and reflections about the  exercise, whether you felt you learnt something, ideas for improvements and  other thoughts you've made when solving the exercise. We wish to keep this course at the interactive level and your comments can help us improve it.\n",
    "\n",
    "  * Try to establish a practice where you log your work at the  computerlab. You may find such a logbook very handy at later stages in your work, especially when you don't properly remember  what a previous test version  of your program did. Here you could also record  the time spent on solving the exercise, various algorithms you may have tested or other topics which you feel worthy of mentioning.\n",
    "\n",
    "## Format for electronic delivery of report and programs\n",
    "\n",
    "The preferred format for the report is a PDF file. You can also use DOC or postscript formats or as an ipython notebook file.  As programming language we prefer that you choose between C/C++, Fortran2008 or Python. The following prescription should be followed when preparing the report:\n",
    "\n",
    "  * Use Devilry to hand in your projects, log in  at  <http://devilry.ifi.uio.no> with your normal UiO username and password.\n",
    "\n",
    "  * Upload **only** the report file!  For the source code file(s) you have developed please provide us with your link to your github domain.  The report file should include all of your discussions and a list of the codes you have developed.  The full version of the codes should be in your github repository.\n",
    "\n",
    "  * In your github repository, please include a folder which contains selected results. These can be in the form of output from your code for a selected set of runs and input parameters.\n",
    "\n",
    "  * Still in your github make a folder where you place your codes. \n",
    "\n",
    "  * In this and all later projects, you should include tests (for example unit tests) of your code(s).\n",
    "\n",
    "  * Comments  from us on your projects, approval or not, corrections to be made  etc can be found under your Devilry domain and are only visible to you and the teachers of the course.\n",
    "\n",
    "Finally, \n",
    "we encourage you to work two and two together. Optimal working groups consist of \n",
    "2-3 students. You can then hand in a common report."
   ]
  }
 ],
 "metadata": {},
 "nbformat": 4,
 "nbformat_minor": 0
}
