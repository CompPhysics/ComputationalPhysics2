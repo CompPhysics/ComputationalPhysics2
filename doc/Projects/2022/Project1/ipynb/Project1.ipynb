{
 "cells": [
  {
   "cell_type": "markdown",
   "id": "5e5be825",
   "metadata": {
    "editable": true
   },
   "source": [
    "<!-- HTML file automatically generated from DocOnce source (https://github.com/doconce/doconce/)\n",
    "doconce format html Project1.do.txt  -->\n",
    "<!-- dom:TITLE: Project 1, deadline  March 31, 2022  -->"
   ]
  },
  {
   "cell_type": "markdown",
   "id": "a2ca91ba",
   "metadata": {
    "editable": true
   },
   "source": [
    "# Project 1, deadline  March 31, 2022 \n",
    "**[Computational Physics I FYS4411/FYS9411](http://www.uio.no/studier/emner/matnat/fys/FYS4411/index-eng.html)**, Department of Physics, University of Oslo, Norway\n",
    "\n",
    "Date: **Jan 19, 2022**\n",
    "\n",
    "Copyright 1999-2022, [Computational Physics I FYS4411/FYS9411](http://www.uio.no/studier/emner/matnat/fys/FYS4411/index-eng.html). Released under CC Attribution-NonCommercial 4.0 license"
   ]
  },
  {
   "cell_type": "markdown",
   "id": "9d3e2c92",
   "metadata": {
    "editable": true
   },
   "source": [
    "## Introduction\n",
    "\n",
    " The spectacular demonstration of Bose-Einstein condensation (BEC) in gases of\n",
    " alkali atoms $^{87}$Rb, $^{23}$Na, $^7$Li confined in magnetic\n",
    " traps has led to an explosion of interest in\n",
    " confined Bose systems. Of interest is the fraction of condensed atoms, the\n",
    " nature of the condensate, the excitations above the condensate, the atomic\n",
    " density in the trap as a function of Temperature and the critical temperature of BEC,\n",
    " $T_c$. \n",
    "\n",
    " A key feature of the trapped alkali and atomic hydrogen systems is that they are\n",
    " dilute. The characteristic dimensions of a typical trap for $^{87}$Rb is\n",
    " $a_{h0}=\\left( {\\hbar}/{m\\omega_\\perp}\\right)^\\frac{1}{2}=1-2 \\times 10^4$\n",
    " \\AA\\ . The interaction between $^{87}$Rb atoms can be well represented\n",
    " by its s-wave scattering length, $a_{Rb}$. This scattering length lies in the\n",
    " range $85 a_0 < a_{Rb} < 140 a_0$ where $a_0 = 0.5292$ \\AA\\ is the Bohr radius.\n",
    " The definite value $a_{Rb} = 100 a_0$ is usually selected and\n",
    " for calculations the definite ratio of atom size to trap size \n",
    " $a_{Rb}/a_{h0} = 4.33 \\times 10^{-3}$ \n",
    " is usually chosen. A typical $^{87}$Rb atom\n",
    " density in the trap is $n \\simeq 10^{12}- 10^{14}$ atoms per cubic cm, giving an\n",
    " inter-atom spacing $\\ell \\simeq 10^4$ \\AA. Thus the effective atom size is small\n",
    " compared to both the trap size and the inter-atom spacing, the condition\n",
    " for diluteness ($na^3_{Rb} \\simeq 10^{-6}$ where $n = N/V$ is the number\n",
    " density). \n",
    "\n",
    "Many theoretical studies of Bose-Einstein condensates (BEC) in gases\n",
    "of alkali atoms confined in magnetic or optical traps have been\n",
    "conducted in the framework of the Gross-Pitaevskii (GP) equation.  The\n",
    "key point for the validity of this description is the dilute condition\n",
    "of these systems, that is, the average distance between the atoms is\n",
    "much larger than the range of the inter-atomic interaction. In this\n",
    "situation the physics is dominated by two-body collisions, well\n",
    "described in terms of the $s$-wave scattering length $a$.  The crucial\n",
    "parameter defining the condition for diluteness is the gas parameter\n",
    "$x(\\mathbf{r})= n(\\mathbf{r}) a^3$, where $n(\\mathbf{r})$ is the local density\n",
    "of the system. For low values of the average gas parameter $x_{av}\\le 10^{-3}$, the mean field Gross-Pitaevskii equation does an excellent\n",
    "job.  However,\n",
    "in recent experiments, the local gas parameter may well exceed this\n",
    "value due to the possibility of tuning the scattering length in the\n",
    "presence of a so-called Feshbach resonance.\n",
    "\n",
    "Thus, improved many-body methods like Monte Carlo calculations may be\n",
    "needed.\n",
    "\n",
    "The aim of this project is to use the Variational Monte Carlo\n",
    "(VMC) method and evaluate the ground state energy of a trapped, hard\n",
    "sphere Bose gas for different numbers of particles with a specific\n",
    "trial wave function.\n",
    "\n",
    " This trial wave function is used to study the sensitivity of\n",
    " condensate and non-condensate properties to the hard sphere radius\n",
    " and the number of particles.  The trap we will use is a spherical (S)\n",
    " or an elliptical (E) harmonic trap in one, two and finally three\n",
    " dimensions, with the latter given by"
   ]
  },
  {
   "cell_type": "markdown",
   "id": "23152a88",
   "metadata": {
    "editable": true
   },
   "source": [
    "<!-- Equation labels as ordinary links -->\n",
    "<div id=\"trap_eqn\"></div>\n",
    "\n",
    "$$\n",
    "\\begin{equation}\n",
    " V_{ext}(\\mathbf{r}) = \n",
    " \\Bigg\\{\n",
    " \\begin{array}{ll}\n",
    "\t \\frac{1}{2}m\\omega_{ho}^2r^2 & (S)\\\\\n",
    " \\strut\n",
    "\t \\frac{1}{2}m[\\omega_{ho}^2(x^2+y^2) + \\omega_z^2z^2] & (E)\n",
    "\\label{trap_eqn} \\tag{1}\n",
    " \\end{array}\n",
    " \\end{equation}\n",
    "$$"
   ]
  },
  {
   "cell_type": "markdown",
   "id": "b3e5c51d",
   "metadata": {
    "editable": true
   },
   "source": [
    "where (S) stands for spherical and"
   ]
  },
  {
   "cell_type": "markdown",
   "id": "95f5d7af",
   "metadata": {
    "editable": true
   },
   "source": [
    "<!-- Equation labels as ordinary links -->\n",
    "<div id=\"_auto1\"></div>\n",
    "\n",
    "$$\n",
    "\\begin{equation}\n",
    "     H = \\sum_i^N \\left(\\frac{-\\hbar^2}{2m}{\\bigtriangledown }_{i}^2 +V_{ext}({\\mathbf{r}}_i)\\right)  +\n",
    "\t \\sum_{i<j}^{N} V_{int}({\\mathbf{r}}_i,{\\mathbf{r}}_j),\n",
    "\\label{_auto1} \\tag{2}\n",
    "\\end{equation}\n",
    "$$"
   ]
  },
  {
   "cell_type": "markdown",
   "id": "8eb90f53",
   "metadata": {
    "editable": true
   },
   "source": [
    "as the two-body Hamiltonian of the system.  Here $\\omega_{ho}^2$\n",
    " defines the trap potential strength.  In the case of the elliptical\n",
    " trap, $V_{ext}(x,y,z)$, $\\omega_{ho}=\\omega_{\\perp}$ is the trap\n",
    " frequency in the perpendicular or $xy$ plane and $\\omega_z$ the\n",
    " frequency in the $z$ direction.  The mean square vibrational\n",
    " amplitude of a single boson at $T=0K$ in the trap ([1](#trap_eqn)) is\n",
    " $\\langle x^2\\rangle=(\\hbar/2m\\omega_{ho})$ so that $a_{ho} \\equiv\n",
    " (\\hbar/m\\omega_{ho})^{\\frac{1}{2}}$ defines the characteristic length\n",
    " of the trap.  The ratio of the frequencies is denoted\n",
    " $\\lambda=\\omega_z/\\omega_{\\perp}$ leading to a ratio of the trap\n",
    " lengths $(a_{\\perp}/a_z)=(\\omega_z/\\omega_{\\perp})^{\\frac{1}{2}} =\n",
    " \\sqrt{\\lambda}$. Note that we use the shorthand notation"
   ]
  },
  {
   "cell_type": "markdown",
   "id": "b81be9bb",
   "metadata": {
    "editable": true
   },
   "source": [
    "<!-- Equation labels as ordinary links -->\n",
    "<div id=\"_auto2\"></div>\n",
    "\n",
    "$$\n",
    "\\begin{equation}\n",
    "    \\sum_{i < j}^{N} V_{ij} \\equiv \\sum_{i = 1}^{N}\\sum_{j = i + 1}^{N} V_{ij},\n",
    "\\label{_auto2} \\tag{3}\n",
    "\\end{equation}\n",
    "$$"
   ]
  },
  {
   "cell_type": "markdown",
   "id": "9a9ba0d8",
   "metadata": {
    "editable": true
   },
   "source": [
    "that is, the notation $i < j$ under the summation sign signifies a double sum\n",
    " running over all pairwise interactions once.\n",
    "\n",
    " We will represent the inter-boson interaction by a pairwise,\n",
    " repulsive potential"
   ]
  },
  {
   "cell_type": "markdown",
   "id": "bfc2c281",
   "metadata": {
    "editable": true
   },
   "source": [
    "<!-- Equation labels as ordinary links -->\n",
    "<div id=\"_auto3\"></div>\n",
    "\n",
    "$$\n",
    "\\begin{equation}\n",
    " V_{int}(|\\mathbf{r}_i-\\mathbf{r}_j|) =  \\Bigg\\{\n",
    " \\begin{array}{ll}\n",
    "\t \\infty & {|\\mathbf{r}_i-\\mathbf{r}_j|} \\leq {a}\\\\\n",
    "\t 0 & {|\\mathbf{r}_i-\\mathbf{r}_j|} > {a}\n",
    " \\end{array}\n",
    "\\label{_auto3} \\tag{4}\n",
    "\\end{equation}\n",
    "$$"
   ]
  },
  {
   "cell_type": "markdown",
   "id": "f1a31805",
   "metadata": {
    "editable": true
   },
   "source": [
    "where $a$ is the so-called hard-core diameter of the bosons.\n",
    " Clearly, $V_{int}(|\\mathbf{r}_i-\\mathbf{r}_j|)$ is zero if the bosons are\n",
    " separated by a distance $|\\mathbf{r}_i-\\mathbf{r}_j|$ greater than $a$ but\n",
    " infinite if they attempt to come within a distance $|\\mathbf{r}_i-\\mathbf{r}_j| \\leq a$.\n",
    "\n",
    " Our trial wave function for the ground state with $N$ atoms is given by"
   ]
  },
  {
   "cell_type": "markdown",
   "id": "5c426c01",
   "metadata": {
    "editable": true
   },
   "source": [
    "<!-- Equation labels as ordinary links -->\n",
    "<div id=\"eq:trialwf\"></div>\n",
    "\n",
    "$$\n",
    "\\begin{equation}\n",
    " \\Psi_T(\\mathbf{r})=\\Psi_T(\\mathbf{r}_1, \\mathbf{r}_2, \\dots \\mathbf{r}_N,\\alpha,\\beta)\n",
    " =\\left[\n",
    "    \\prod_i g(\\alpha,\\beta,\\mathbf{r}_i)\n",
    " \\right]\n",
    " \\left[\n",
    "    \\prod_{j<k}f(a,|\\mathbf{r}_j-\\mathbf{r}_k|)\n",
    " \\right],\n",
    "\\label{eq:trialwf} \\tag{5}\n",
    " \\end{equation}\n",
    "$$"
   ]
  },
  {
   "cell_type": "markdown",
   "id": "b01e7d26",
   "metadata": {
    "editable": true
   },
   "source": [
    "where $\\alpha$ and $\\beta$ are variational parameters. The\n",
    " single-particle wave function is proportional to the harmonic\n",
    " oscillator function for the ground state, i.e.,"
   ]
  },
  {
   "cell_type": "markdown",
   "id": "6ce7959d",
   "metadata": {
    "editable": true
   },
   "source": [
    "<!-- Equation labels as ordinary links -->\n",
    "<div id=\"_auto4\"></div>\n",
    "\n",
    "$$\n",
    "\\begin{equation}\n",
    "    g(\\alpha,\\beta,\\mathbf{r}_i)= \\exp{[-\\alpha(x_i^2+y_i^2+\\beta z_i^2)]}.\n",
    "\\label{_auto4} \\tag{6}\n",
    "\\end{equation}\n",
    "$$"
   ]
  },
  {
   "cell_type": "markdown",
   "id": "4ac9d97a",
   "metadata": {
    "editable": true
   },
   "source": [
    "For spherical traps we have $\\beta = 1$ and for non-interacting\n",
    " bosons ($a=0$) we have $\\alpha = 1/2a_{ho}^2$.  The correlation wave\n",
    " function is"
   ]
  },
  {
   "cell_type": "markdown",
   "id": "eb34eada",
   "metadata": {
    "editable": true
   },
   "source": [
    "<!-- Equation labels as ordinary links -->\n",
    "<div id=\"_auto5\"></div>\n",
    "\n",
    "$$\n",
    "\\begin{equation}\n",
    "    f(a,|\\mathbf{r}_i-\\mathbf{r}_j|)=\\Bigg\\{\n",
    " \\begin{array}{ll}\n",
    "\t 0 & {|\\mathbf{r}_i-\\mathbf{r}_j|} \\leq {a}\\\\\n",
    "\t (1-\\frac{a}{|\\mathbf{r}_i-\\mathbf{r}_j|}) & {|\\mathbf{r}_i-\\mathbf{r}_j|} > {a}.\n",
    " \\end{array}\n",
    "\\label{_auto5} \\tag{7}\n",
    "\\end{equation}\n",
    "$$"
   ]
  },
  {
   "cell_type": "markdown",
   "id": "f0a099f8",
   "metadata": {
    "editable": true
   },
   "source": [
    "### Project 1 a): Local energy\n",
    "\n",
    "Find the analytic expressions for the local energy"
   ]
  },
  {
   "cell_type": "markdown",
   "id": "445fc238",
   "metadata": {
    "editable": true
   },
   "source": [
    "<!-- Equation labels as ordinary links -->\n",
    "<div id=\"eq:locale\"></div>\n",
    "\n",
    "$$\n",
    "\\begin{equation}\n",
    "    E_L(\\mathbf{r})=\\frac{1}{\\Psi_T(\\mathbf{r})}H\\Psi_T(\\mathbf{r}),\n",
    "\\label{eq:locale} \\tag{8}\n",
    " \\end{equation}\n",
    "$$"
   ]
  },
  {
   "cell_type": "markdown",
   "id": "9ebc0d03",
   "metadata": {
    "editable": true
   },
   "source": [
    "for the above \n",
    " trial wave function of Eq. (5) and defined by the terms in Eqs. (6) and (7). \n",
    "\n",
    "Find first the local energy the case with only the harmonic oscillator potential, that is we set $a=0$ and discard totally the two-body potential.\n",
    "\n",
    "Use first that $\\beta =1$ and find the relevant local energies in one, two and three dimensions for one and\n",
    "$N$ particles with the same mass. \n",
    "\n",
    " Compute also the analytic expression for the drift force to be used in importance sampling"
   ]
  },
  {
   "cell_type": "markdown",
   "id": "76b3a70f",
   "metadata": {
    "editable": true
   },
   "source": [
    "<!-- Equation labels as ordinary links -->\n",
    "<div id=\"_auto6\"></div>\n",
    "\n",
    "$$\n",
    "\\begin{equation}\n",
    "   F = \\frac{2\\nabla \\Psi_T}{\\Psi_T}.\n",
    "\\label{_auto6} \\tag{9}\n",
    "\\end{equation}\n",
    "$$"
   ]
  },
  {
   "cell_type": "markdown",
   "id": "fd54c1f1",
   "metadata": {
    "editable": true
   },
   "source": [
    "Find first the equivalent expressions for the just the harmonic oscillator part in one, two and three dimensions\n",
    "with $\\beta=1$. \n",
    "\n",
    "Our next step involves the calculation of local energy for the full problem in three dimensions.\n",
    "The tricky part is to find an analytic expressions for the derivative of the trial wave function"
   ]
  },
  {
   "cell_type": "markdown",
   "id": "f8d9b9e7",
   "metadata": {
    "editable": true
   },
   "source": [
    "$$\n",
    "\\frac{1}{\\Psi_T(\\mathbf{r})}\\sum_i^{N}\\nabla_i^2\\Psi_T(\\mathbf{r}),\n",
    "$$"
   ]
  },
  {
   "cell_type": "markdown",
   "id": "b9ec7fde",
   "metadata": {
    "editable": true
   },
   "source": [
    "with the above \n",
    "trial wave function of Eq. (5).\n",
    "We rewrite"
   ]
  },
  {
   "cell_type": "markdown",
   "id": "a3c90d49",
   "metadata": {
    "editable": true
   },
   "source": [
    "$$\n",
    "\\Psi_T(\\mathbf{r})=\\Psi_T(\\mathbf{r}_1, \\mathbf{r}_2, \\dots \\mathbf{r}_N,\\alpha,\\beta)\n",
    "=\\left[\n",
    "    \\prod_i g(\\alpha,\\beta,\\mathbf{r}_i)\n",
    "\\right]\n",
    "\\left[\n",
    "    \\prod_{j<k}f(a,|\\mathbf{r}_j-\\mathbf{r}_k|)\n",
    "\\right],\n",
    "$$"
   ]
  },
  {
   "cell_type": "markdown",
   "id": "44553fb7",
   "metadata": {
    "editable": true
   },
   "source": [
    "as"
   ]
  },
  {
   "cell_type": "markdown",
   "id": "1b2ad1b6",
   "metadata": {
    "editable": true
   },
   "source": [
    "$$\n",
    "\\Psi_T(\\mathbf{r})=\\left[\n",
    "    \\prod_i g(\\alpha,\\beta,\\mathbf{r}_i)\n",
    "\\right]\n",
    "\\exp{\\left(\\sum_{j<k}u(r_{jk})\\right)}\n",
    "$$"
   ]
  },
  {
   "cell_type": "markdown",
   "id": "a6f9bb71",
   "metadata": {
    "editable": true
   },
   "source": [
    "where we have defined $r_{ij}=|\\mathbf{r}_i-\\mathbf{r}_j|$\n",
    "and"
   ]
  },
  {
   "cell_type": "markdown",
   "id": "0fa04179",
   "metadata": {
    "editable": true
   },
   "source": [
    "$$\n",
    "f(r_{ij})= \\exp{\\left(u(r_{ij})\\right)},\n",
    "$$"
   ]
  },
  {
   "cell_type": "markdown",
   "id": "7521e16a",
   "metadata": {
    "editable": true
   },
   "source": [
    "with $u(r_{ij})=\\ln{f(r_{ij})}$.\n",
    "We have also"
   ]
  },
  {
   "cell_type": "markdown",
   "id": "d94bd6f3",
   "metadata": {
    "editable": true
   },
   "source": [
    "$$\n",
    "g(\\alpha,\\beta,\\mathbf{r}_i) = \\exp{\\left[-\\alpha(x_i^2+y_i^2+\\beta\n",
    "    z_i^2)\\right]}= \\phi(\\mathbf{r}_i).\n",
    "$$"
   ]
  },
  {
   "cell_type": "markdown",
   "id": "11d88416",
   "metadata": {
    "editable": true
   },
   "source": [
    "Show that the first  derivative for particle $k$ is"
   ]
  },
  {
   "cell_type": "markdown",
   "id": "4187c4f1",
   "metadata": {
    "editable": true
   },
   "source": [
    "$$\n",
    "\\begin{align*}\n",
    "  \\nabla_k\\Psi_T(\\mathbf{r}) &= \\nabla_k\\phi(\\mathbf{r}_k)\\left[\\prod_{i\\ne k}\\phi(\\mathbf{r}_i)\\right]\\exp{\\left(\\sum_{j<m}u(r_{jm})\\right)}\n",
    "  \\\\\n",
    "  &\\qquad\n",
    "  +  \\left[\\prod_i\\phi(\\mathbf{r}_i)\\right]\n",
    "  \\exp{\\left(\\sum_{j<m}u(r_{jm})\\right)}\\sum_{l\\ne k}\\nabla_k u(r_{kl}),\n",
    "\\end{align*}\n",
    "$$"
   ]
  },
  {
   "cell_type": "markdown",
   "id": "5ef93f4b",
   "metadata": {
    "editable": true
   },
   "source": [
    "and find the final expression for our specific trial function.\n",
    "The expression for the second derivative is (show this)"
   ]
  },
  {
   "cell_type": "markdown",
   "id": "dbeb24d8",
   "metadata": {
    "editable": true
   },
   "source": [
    "$$\n",
    "\\begin{align*}\n",
    "   \\frac{1}{\\Psi_T(\\mathbf{r})}\\nabla_k^2\\Psi_T(\\mathbf{r})\n",
    "   &= \\frac{\\nabla_k^2\\phi(\\mathbf{r}_k)}{\\phi(\\mathbf{r}_k)}\n",
    "   + 2\\frac{\\nabla_k\\phi(\\mathbf{r}_k)}{\\phi(\\mathbf{r}_k)}\n",
    "   \\left(\\sum_{j\\ne k}\\frac{(\\mathbf{r}_k-\\mathbf{r}_j)}{r_{kj}}u'(r_{kj})\\right)\n",
    "   \\\\\n",
    "   &\\qquad\n",
    "   + \\sum_{i\\ne k}\\sum_{j \\ne k}\\frac{(\\mathbf{r}_k-\\mathbf{r}_i)(\\mathbf{r}_k-\\mathbf{r}_j)}{r_{ki}r_{kj}}u'(r_{ki})u'(r_{kj})\n",
    "   \\\\\n",
    "   &\\qquad\n",
    "   + \\sum_{j\\ne k}\\left( u''(r_{kj})+\\frac{2}{r_{kj}}u'(r_{kj})\\right).\n",
    "\\end{align*}\n",
    "$$"
   ]
  },
  {
   "cell_type": "markdown",
   "id": "61634eeb",
   "metadata": {
    "editable": true
   },
   "source": [
    "Use this expression to find the final second derivative entering the definition of the local energy. \n",
    "You need to get the analytic expression for this expression using the harmonic oscillator wave functions\n",
    "and the correlation term defined in the project.\n",
    "\n",
    "**Note**: In parts 1b, 1c, 1d, 1e and 1f you will develop all\n",
    "computational ingredients needed by studying only the non-interacting\n",
    "case. We add the repulsive interaction in the final two parts, 1g and\n",
    "1h. The reason for doing so is that we can develop all programming\n",
    "ingredients and compare our results against exact analytical results."
   ]
  },
  {
   "cell_type": "markdown",
   "id": "d66baf47",
   "metadata": {
    "editable": true
   },
   "source": [
    "### Project 1 b): Developing the code\n",
    "\n",
    "Write a Variational Monte Carlo program which uses standard\n",
    "   Metropolis sampling and compute the ground state energy of a\n",
    "   spherical harmonic oscillator ($\\beta = 1$) with no interaction and\n",
    "   one dimension.  Use natural units and make an analysis of your\n",
    "   calculations using both the analytic expression for the local\n",
    "   energy and a numerical calculation of the kinetic energy using\n",
    "   numerical derivation.  Compare the CPU time difference.  The only\n",
    "   variational parameter is $\\alpha$. Perform these calculations for\n",
    "   $N=1$, $N=10$, $100$ and $500$ atoms. Compare your results with the\n",
    "   exact answer.  Extend then your results to two and three dimensions\n",
    "   and compare with the analytical results."
   ]
  },
  {
   "cell_type": "markdown",
   "id": "81fd449d",
   "metadata": {
    "editable": true
   },
   "source": [
    "### Project 1 c): Adding importance sampling\n",
    "\n",
    "We repeat part b), but now we replace the brute force Metropolis algorithm with\n",
    "importance sampling based on the Fokker-Planck and the Langevin equations. \n",
    "Discuss your results and comment on eventual differences between importance sampling and brute force sampling.\n",
    "Run the calculations for the one, two and three-dimensional systems only and without the repulsive potential. \n",
    "Study the dependence of the results as a function of the time step $\\delta t$.  \n",
    "Compare the results with those obtained under b) and comment eventual differences."
   ]
  },
  {
   "cell_type": "markdown",
   "id": "d7249fde",
   "metadata": {
    "editable": true
   },
   "source": [
    "### Project 1 d): Finding the best parameter(s)\n",
    "\n",
    "When we performed the calculations in parts 1b) and 1c), we simply\n",
    "plotted the expectation value of the energy as a function of the\n",
    "parameter $\\alpha$. For large systems, this means that we end up with\n",
    "spending equally many Monte Carlo cycles for values of the energy away\n",
    "from the minimum. We can improve upon this by using various optimization algorithms.\n",
    "The aim of this part, still using only the non-interacting case, is to add to our code either a steepest descent algorithm or a stochastic gradient optmization algorithm in order to obtain the best\n",
    "possible parameter $\\alpha$ which minimized the expectation value of the energy."
   ]
  },
  {
   "cell_type": "markdown",
   "id": "ccf08d3c",
   "metadata": {
    "editable": true
   },
   "source": [
    "### Project 1 e): A better statistical analysis\n",
    "\n",
    "In performing the Monte Carlo analysis we will use the blocking and\n",
    "  bootstrap techniques to make the final statistical analysis of the\n",
    "  numerical data. Present your results with a proper evaluation of the\n",
    "  statistical errors. Repeat the calculations from part  d) (or c)  and\n",
    "  include a proper error analysis. Limit yourself to the\n",
    "  three-dimensional case only.\n",
    "\n",
    "A useful strategy here is to write your expectation values to file and\n",
    "then have a Python code which does the final statistical\n",
    "analysis. Alternatively, you can obviously write addition functions to\n",
    "be used by your main program and perform the final statistical\n",
    "analysis within the same code."
   ]
  },
  {
   "cell_type": "markdown",
   "id": "db58871a",
   "metadata": {
    "editable": true
   },
   "source": [
    "### Project 1 f): Parallelizing your code\n",
    "\n",
    "Before we add the two-body interaction, our final computational ingredient is to parallelize our code.\n",
    "With this last ingredient we have obtained a code framework which contains the essential elements used in a Variational Monte Carlo approach to a many-body problem. Dealing with a non-interacting case only till now allows us to continuously check our results against exact solutions.\n",
    "\n",
    "You should parallelize your code using MPI or OpenMP."
   ]
  },
  {
   "cell_type": "markdown",
   "id": "f2400e56",
   "metadata": {
    "editable": true
   },
   "source": [
    "### Project 1 g): The repulsive interaction\n",
    "\n",
    "We are now ready to include the repulsive two-body interaction. \n",
    "\n",
    "We turn to the elliptic trap with a repulsive\n",
    "   interaction.  We fix, as in Refs. [1,2] below,\n",
    "   $a/a_{ho}=0.0043$. We introduce lengths in units of $a_{ho}$,\n",
    "   $r\\rightarrow r/a_{ho}$ and energy in units of $\\hbar\\omega_{ho}$.\n",
    "   Show then that the original Hamiltonian can be rewritten as"
   ]
  },
  {
   "cell_type": "markdown",
   "id": "27f819ea",
   "metadata": {
    "editable": true
   },
   "source": [
    "$$\n",
    "H=\\sum_{i=1}^N\\frac{1}{2}\\left(-\\nabla^2_i+x_i^2+y_i^2+\\gamma^2z_i^2\\right)+\\sum_{i<j}V_{int}(|\\mathbf{r}_i-\\mathbf{r}_j|).\n",
    "$$"
   ]
  },
  {
   "cell_type": "markdown",
   "id": "6f97767d",
   "metadata": {
    "editable": true
   },
   "source": [
    "What is the expression for $\\gamma$?  Choose the initial value for\n",
    " $\\beta=\\gamma = 2.82843$ and compute \n",
    " ground state energy using the trial wave function of\n",
    " Eq. (5)  using only $\\alpha$ as variational\n",
    " parameter.  Vary again the parameter\n",
    " $\\alpha$ in order to find a minimum.\n",
    " Perform the calculations for\n",
    " $N=10,50$ and $N=100$ and compare your results to those from the\n",
    " ideal case in the previous exercises.  In actual calculations\n",
    " employing the Metropolis algorithm, all moves are recast into the\n",
    " chosen simulation cell with periodic boundary conditions. To carry\n",
    " out consistently the Metropolis moves, it has to be assumed that the\n",
    " correlation function has a range shorter than $L/2$. Then, to decide\n",
    " if a move of a single particle is accepted or not, only the set of\n",
    " particles contained in a sphere of radius $L/2$ centered at the\n",
    " referred particle have to be considered.  Benchmark your results with\n",
    " those of Refs. [1,2]."
   ]
  },
  {
   "cell_type": "markdown",
   "id": "4ae7b762",
   "metadata": {
    "editable": true
   },
   "source": [
    "### Project 1 h): Onebody densities\n",
    "\n",
    "With the optimal parameters for the ground state wave function,\n",
    "compute again the onebody density with and without the Jastrow factor.\n",
    "How important are the correlations induced by the Jastrow factor?"
   ]
  },
  {
   "cell_type": "markdown",
   "id": "5838fa13",
   "metadata": {
    "editable": true
   },
   "source": [
    "# Literature\n",
    "\n",
    "1. J. L. DuBois and H. R. Glyde, H. R., *Bose-Einstein condensation in trapped bosons: A variational Monte Carlo analysis*, Phys. Rev. A **63**, 023602 (2001).\n",
    "\n",
    "2. J. K. Nilsen,  J. Mur-Petit, M. Guilleumas, M. Hjorth-Jensen, and A. Polls, *Vortices in atomic Bose-Einstein condensates in the large-gas-parameter region*, Phys. Rev. A **71**, 053610 (2005)."
   ]
  },
  {
   "cell_type": "markdown",
   "id": "42be412b",
   "metadata": {
    "editable": true
   },
   "source": [
    "## Introduction to numerical projects\n",
    "\n",
    "Here follows a brief recipe and recommendation on how to write a report for each\n",
    "project.\n",
    "\n",
    "  * Give a short description of the nature of the problem and the eventual  numerical methods you have used.\n",
    "\n",
    "  * Describe the algorithm you have used and/or developed. Here you may find it convenient to use pseudocoding. In many cases you can describe the algorithm in the program itself.\n",
    "\n",
    "  * Include the source code of your program. Comment your program properly.\n",
    "\n",
    "  * If possible, try to find analytic solutions, or known limits in order to test your program when developing the code.\n",
    "\n",
    "  * Include your results either in figure form or in a table. Remember to        label your results. All tables and figures should have relevant captions        and labels on the axes.\n",
    "\n",
    "  * Try to evaluate the reliabilty and numerical stability/precision of your results. If possible, include a qualitative and/or quantitative discussion of the numerical stability, eventual loss of precision etc.\n",
    "\n",
    "  * Try to give an interpretation of you results in your answers to  the problems.\n",
    "\n",
    "  * Critique: if possible include your comments and reflections about the  exercise, whether you felt you learnt something, ideas for improvements and  other thoughts you've made when solving the exercise. We wish to keep this course at the interactive level and your comments can help us improve it.\n",
    "\n",
    "  * Try to establish a practice where you log your work at the  computerlab. You may find such a logbook very handy at later stages in your work, especially when you don't properly remember  what a previous test version  of your program did. Here you could also record  the time spent on solving the exercise, various algorithms you may have tested or other topics which you feel worthy of mentioning."
   ]
  },
  {
   "cell_type": "markdown",
   "id": "d300984f",
   "metadata": {
    "editable": true
   },
   "source": [
    "## Format for electronic delivery of report and programs\n",
    "\n",
    "The preferred format for the report is a PDF file. You can also use DOC or postscript formats or as an ipython notebook file.  As programming language we prefer that you choose between C/C++, Fortran2008 or Python. The following prescription should be followed when preparing the report:\n",
    "\n",
    "  * Use canvas to hand in your projects, log in  at  <http://canvas.uio.no> with your normal UiO username and password.\n",
    "\n",
    "  * Upload **only** the report file!  For the source code file(s) you have developed please provide us with your link to your github domain.  The report file should include all of your discussions and a list of the codes you have developed.  The full version of the codes should be in your github repository.\n",
    "\n",
    "  * In your github repository, please include a folder which contains selected results. These can be in the form of output from your code for a selected set of runs and input parameters.\n",
    "\n",
    "  * Still in your github make a folder where you place your codes. \n",
    "\n",
    "  * In this and all later projects, you should include tests (for example unit tests) of your code(s).\n",
    "\n",
    "  * Comments  from us on your projects, approval or not, corrections to be made  etc can be found under your Devilry domain and are only visible to you and the teachers of the course.\n",
    "\n",
    "Finally, \n",
    "we encourage you to work two and two together. Optimal working groups consist of \n",
    "2-3 students. You can then hand in a common report."
   ]
  }
 ],
 "metadata": {},
 "nbformat": 4,
 "nbformat_minor": 5
}
