{
 "cells": [
  {
   "cell_type": "markdown",
   "metadata": {},
   "source": [
    "# Work, Energy, Momentum and Conservation laws\n",
    "\n",
    "Energy conservation is most convenient as a strategy for addressing\n",
    "problems where time does not appear. For example, a particle goes\n",
    "from position $x_0$ with speed $v_0$, to position $x_f$; what is its\n",
    "new speed? However, it can also be applied to problems where time\n",
    "does appear, such as in solving for the trajectory $x(t)$, or\n",
    "equivalently $t(x)$.\n",
    "\n",
    "\n",
    "\n",
    "## Work and Energy\n",
    "\n",
    "Material to be added here.\n",
    "\n",
    "\n",
    "\n",
    "## Energy Conservation\n",
    "Energy is conserved in the case where the potential energy, $V(\\boldsymbol{r})$, depends only on position, and not on time. The force is determined by $V$,"
   ]
  },
  {
   "cell_type": "markdown",
   "metadata": {},
   "source": [
    "<!-- Equation labels as ordinary links -->\n",
    "<div id=\"_auto1\"></div>\n",
    "\n",
    "$$\n",
    "\\begin{equation}\n",
    "\\boldsymbol{F}(\\boldsymbol{r})=-\\nabla V(\\boldsymbol{r}).\n",
    "\\label{_auto1} \\tag{1}\n",
    "\\end{equation}\n",
    "$$"
   ]
  },
  {
   "cell_type": "markdown",
   "metadata": {},
   "source": [
    "The net energy, $E=V+K$ where $K$ is the kinetic energy, is then conserved,"
   ]
  },
  {
   "cell_type": "markdown",
   "metadata": {},
   "source": [
    "$$\n",
    "\\begin{eqnarray}\n",
    "\\frac{d}{dt}(K+V)&=&\\frac{d}{dt}\\left(\\frac{m}{2}(v_x^2+v_y^2+v_z^2)+V(\\boldsymbol{r})\\right)\\\\\n",
    "\\nonumber\n",
    "&=&m\\left(v_x\\frac{dv_x}{dt}+v_y\\frac{dv_y}{dt}+v_z\\frac{dv_z}{dt}\\right)\n",
    "+\\partial_xV\\frac{dx}{dt}+\\partial_yV\\frac{dy}{dt}+\\partial_zV\\frac{dz}{dt}\\\\\n",
    "\\nonumber\n",
    "&=&v_xF_x+v_yF_y+v_zF_z-F_xv_x-F_yv_y-F_zv_z=0.\n",
    "\\end{eqnarray}\n",
    "$$"
   ]
  },
  {
   "cell_type": "markdown",
   "metadata": {},
   "source": [
    "The same proof can be written more compactly with vector notation,"
   ]
  },
  {
   "cell_type": "markdown",
   "metadata": {},
   "source": [
    "$$\n",
    "\\begin{eqnarray}\n",
    "\\frac{d}{dt}\\left(\\frac{m}{2}v^2+V(\\boldsymbol{r})\\right)\n",
    "&=&m\\boldsymbol{v}\\cdot\\dot{\\boldsymbol{v}}+\\nabla V(\\boldsymbol{r})\\cdot\\dot{\\boldsymbol{r}}\\\\\n",
    "\\nonumber\n",
    "&=&\\boldsymbol{v}\\cdot\\boldsymbol{F}-\\boldsymbol{F}\\cdot\\boldsymbol{v}=0.\n",
    "\\end{eqnarray}\n",
    "$$"
   ]
  },
  {
   "cell_type": "markdown",
   "metadata": {},
   "source": [
    "Inverting the expression for kinetic energy,"
   ]
  },
  {
   "cell_type": "markdown",
   "metadata": {},
   "source": [
    "<!-- Equation labels as ordinary links -->\n",
    "<div id=\"_auto2\"></div>\n",
    "\n",
    "$$\n",
    "\\begin{equation}\n",
    "v=\\sqrt{2K/m}=\\sqrt{2(E-V)/m},\n",
    "\\label{_auto2} \\tag{2}\n",
    "\\end{equation}\n",
    "$$"
   ]
  },
  {
   "cell_type": "markdown",
   "metadata": {},
   "source": [
    "allows one to solve for the one-dimensional trajectory $x(t)$, by finding $t(x)$,"
   ]
  },
  {
   "cell_type": "markdown",
   "metadata": {},
   "source": [
    "<!-- Equation labels as ordinary links -->\n",
    "<div id=\"_auto3\"></div>\n",
    "\n",
    "$$\n",
    "\\begin{equation}\n",
    "t=\\int_{x_0}^x \\frac{dx'}{v(x')}=\\int_{x_0}^x\\frac{dx'}{\\sqrt{2(E-V(x'))/m}}.\n",
    "\\label{_auto3} \\tag{3}\n",
    "\\end{equation}\n",
    "$$"
   ]
  },
  {
   "cell_type": "markdown",
   "metadata": {},
   "source": [
    "Note this would be much more difficult in higher dimensions, because\n",
    "you would have to determine which points, $x,y,z$, the particles might\n",
    "reach in the trajectory, whereas in one dimension you can typically\n",
    "tell by simply seeing whether the kinetic energy is positive at every\n",
    "point between the old position and the new position.\n",
    "\n",
    "\n",
    "Consider a simple harmonic oscillator potential, $V(x)=kx^2/2$, with a particle emitted from $x=0$ with velocity $v_0$. Solve for the trajectory $t(x)$,"
   ]
  },
  {
   "cell_type": "markdown",
   "metadata": {},
   "source": [
    "$$\n",
    "\\begin{eqnarray}\n",
    "t&=&\\int_{0}^x \\frac{dx'}{\\sqrt{2(E-kx^2/2)/m}}\\\\\n",
    "\\nonumber\n",
    "&=&\\sqrt{m/k}\\int_0^x~\\frac{dx'}{\\sqrt{x_{\\rm max}^2-x^{\\prime 2}}},~~~x_{\\rm max}^2=2E/k.\n",
    "\\end{eqnarray}\n",
    "$$"
   ]
  },
  {
   "cell_type": "markdown",
   "metadata": {},
   "source": [
    "Here $E=mv_0^2/2$ and $x_{\\rm max}$ is defined as the maximum\n",
    "displacement before the particle turns around. This integral is done\n",
    "by the substitution $\\sin\\theta=x/x_{\\rm max}$."
   ]
  },
  {
   "cell_type": "markdown",
   "metadata": {},
   "source": [
    "$$\n",
    "\\begin{eqnarray}\n",
    "(k/m)^{1/2}t&=&\\sin^{-1}(x/x_{\\rm max}),\\\\\n",
    "\\nonumber\n",
    "x&=&x_{\\rm max}\\sin\\omega t,~~~\\omega=\\sqrt{k/m}.\n",
    "\\end{eqnarray}\n",
    "$$"
   ]
  },
  {
   "cell_type": "markdown",
   "metadata": {},
   "source": [
    "## Conservation of Momentum\n",
    "\n",
    "\n",
    "Newton's third law which we met earlier states that **For every action there is an equal and opposite reaction**, is more accurately stated as\n",
    "**If two bodies exert forces on each other, these forces are equal in magnitude and opposite in direction**.\n",
    "\n",
    "This means that for two bodies $i$ and $j$, if the force on $i$ due to $j$ is called $\\boldsymbol{F}_{ij}$, then"
   ]
  },
  {
   "cell_type": "markdown",
   "metadata": {},
   "source": [
    "<!-- Equation labels as ordinary links -->\n",
    "<div id=\"_auto4\"></div>\n",
    "\n",
    "$$\n",
    "\\begin{equation}\n",
    "\\boldsymbol{F}_{ij}=-\\boldsymbol{F}_{ji}. \n",
    "\\label{_auto4} \\tag{4}\n",
    "\\end{equation}\n",
    "$$"
   ]
  },
  {
   "cell_type": "markdown",
   "metadata": {},
   "source": [
    "Newton's second law, $\\boldsymbol{F}=m\\boldsymbol{a}$, can be written for a particle $i$ as"
   ]
  },
  {
   "cell_type": "markdown",
   "metadata": {},
   "source": [
    "<!-- Equation labels as ordinary links -->\n",
    "<div id=\"_auto5\"></div>\n",
    "\n",
    "$$\n",
    "\\begin{equation}\n",
    "\\boldsymbol{F}_i=\\sum_{j\\ne i} \\boldsymbol{F}_{ij}=m_i\\boldsymbol{a}_i,\n",
    "\\label{_auto5} \\tag{5}\n",
    "\\end{equation}\n",
    "$$"
   ]
  },
  {
   "cell_type": "markdown",
   "metadata": {},
   "source": [
    "where $\\boldsymbol{F}_i$ (a single subscript) denotes the net force acting on $i$. Because the mass of $i$ is fixed, one can see that"
   ]
  },
  {
   "cell_type": "markdown",
   "metadata": {},
   "source": [
    "<!-- Equation labels as ordinary links -->\n",
    "<div id=\"_auto6\"></div>\n",
    "\n",
    "$$\n",
    "\\begin{equation}\n",
    "\\boldsymbol{F}_i=\\frac{d}{dt}m_i\\boldsymbol{v}_i=\\sum_{j\\ne i}\\boldsymbol{F}_{ij}.\n",
    "\\label{_auto6} \\tag{6}\n",
    "\\end{equation}\n",
    "$$"
   ]
  },
  {
   "cell_type": "markdown",
   "metadata": {},
   "source": [
    "Now, one can sum over all the particles and obtain"
   ]
  },
  {
   "cell_type": "markdown",
   "metadata": {},
   "source": [
    "$$\n",
    "\\begin{eqnarray}\n",
    "\\frac{d}{dt}\\sum_i m_iv_i&=&\\sum_{ij, i\\ne j}\\boldsymbol{F}_{ij}\\\\\n",
    "\\nonumber\n",
    "&=&0.\n",
    "\\end{eqnarray}\n",
    "$$"
   ]
  },
  {
   "cell_type": "markdown",
   "metadata": {},
   "source": [
    "The last step made use of the fact that for every term $ij$, there is\n",
    "an equivalent term $ji$ with opposite force. Because the momentum is\n",
    "defined as $m\\boldsymbol{v}$, for a system of particles,"
   ]
  },
  {
   "cell_type": "markdown",
   "metadata": {},
   "source": [
    "<!-- Equation labels as ordinary links -->\n",
    "<div id=\"_auto7\"></div>\n",
    "\n",
    "$$\n",
    "\\begin{equation}\n",
    "\\frac{d}{dt}\\sum_im_i\\boldsymbol{v}_i=0,~~{\\rm for~isolated~particles}.\n",
    "\\label{_auto7} \\tag{7}\n",
    "\\end{equation}\n",
    "$$"
   ]
  },
  {
   "cell_type": "markdown",
   "metadata": {},
   "source": [
    "By \"isolated\" one means that the only force acting on any particle $i$\n",
    "are those originating from other particles in the sum, i.e. \"no\n",
    "external\" forces. Thus, Newton's third law leads to the conservation\n",
    "of total momentum,"
   ]
  },
  {
   "cell_type": "markdown",
   "metadata": {},
   "source": [
    "$$\n",
    "\\begin{eqnarray}\n",
    "\\boldsymbol{P}&=&\\sum_i m_i\\boldsymbol{v}_i,\\\\\n",
    "\\nonumber\n",
    "\\frac{d}{dt}\\boldsymbol{P}&=&0.\n",
    "\\end{eqnarray}\n",
    "$$"
   ]
  },
  {
   "cell_type": "markdown",
   "metadata": {},
   "source": [
    "Consider the rocket of mass $M$ moving with velocity $v$. After a\n",
    "brief instant, the velocity of the rocket is $v+\\Delta v$ and the mass\n",
    "is $M-\\Delta M$. Momentum conservation gives"
   ]
  },
  {
   "cell_type": "markdown",
   "metadata": {},
   "source": [
    "$$\n",
    "\\begin{eqnarray*}\n",
    "Mv&=&(M-\\Delta M)(v+\\Delta v)+\\Delta M(v-v_e)\\\\\n",
    "0&=&-\\Delta Mv+M\\Delta v+\\Delta M(v-v_e),\\\\\n",
    "0&=&M\\Delta v-\\Delta Mv_e.\n",
    "\\end{eqnarray*}\n",
    "$$"
   ]
  },
  {
   "cell_type": "markdown",
   "metadata": {},
   "source": [
    "In the second step we ignored the term $\\Delta M\\Delta v$ because it is doubly small. The last equation gives"
   ]
  },
  {
   "cell_type": "markdown",
   "metadata": {},
   "source": [
    "$$\n",
    "\\begin{eqnarray}\n",
    "\\Delta v&=&\\frac{v_e}{M}\\Delta M,\\\\\n",
    "\\nonumber\n",
    "\\frac{dv}{dt}&=&\\frac{v_e}{M}\\frac{dM}{dt}.\n",
    "\\end{eqnarray}\n",
    "$$"
   ]
  },
  {
   "cell_type": "markdown",
   "metadata": {},
   "source": [
    "Integrating the expression with lower limits $v_0=0$ and $M_0$, one finds"
   ]
  },
  {
   "cell_type": "markdown",
   "metadata": {},
   "source": [
    "$$\n",
    "\\begin{eqnarray*}\n",
    "v&=&v_e\\int_{M_0}^M \\frac{dM'}{M'}\\\\\n",
    "v&=&-v_e\\ln(M/M_0)\\\\\n",
    "&=&-v_e\\ln[(M_0-\\alpha t)/M_0].\n",
    "\\end{eqnarray*}\n",
    "$$"
   ]
  },
  {
   "cell_type": "markdown",
   "metadata": {},
   "source": [
    "Because the total momentum of an isolated system is constant, one can\n",
    "also quickly see that the center of mass of an isolated system is also\n",
    "constant. The center of mass is the average position of a set of\n",
    "masses weighted by the mass,"
   ]
  },
  {
   "cell_type": "markdown",
   "metadata": {},
   "source": [
    "<!-- Equation labels as ordinary links -->\n",
    "<div id=\"_auto8\"></div>\n",
    "\n",
    "$$\n",
    "\\begin{equation}\n",
    "\\bar{x}=\\frac{\\sum_im_ix_i}{\\sum_i m_i}.\n",
    "\\label{_auto8} \\tag{8}\n",
    "\\end{equation}\n",
    "$$"
   ]
  },
  {
   "cell_type": "markdown",
   "metadata": {},
   "source": [
    "The rate of change of $\\bar{x}$ is"
   ]
  },
  {
   "cell_type": "markdown",
   "metadata": {},
   "source": [
    "$$\n",
    "\\begin{eqnarray}\n",
    "\\dot{\\bar{x}}&=&\\frac{1}{M}\\sum_i m_i\\dot{x}_i=\\frac{1}{M}P_x.\n",
    "\\end{eqnarray}\n",
    "$$"
   ]
  },
  {
   "cell_type": "markdown",
   "metadata": {},
   "source": [
    "Thus if the total momentum is constant the center of mass moves at a\n",
    "constant velocity, and if the total momentum is zero the center of\n",
    "mass is fixed.\n",
    "\n",
    "\n",
    "\n",
    "## Conservation of Angular Momentum\n",
    "\n",
    "\n",
    "Consider a case where the force always points radially,"
   ]
  },
  {
   "cell_type": "markdown",
   "metadata": {},
   "source": [
    "<!-- Equation labels as ordinary links -->\n",
    "<div id=\"_auto9\"></div>\n",
    "\n",
    "$$\n",
    "\\begin{equation}\n",
    "\\boldsymbol{F}(\\boldsymbol{r})=F(r)\\hat{r},\n",
    "\\label{_auto9} \\tag{9}\n",
    "\\end{equation}\n",
    "$$"
   ]
  },
  {
   "cell_type": "markdown",
   "metadata": {},
   "source": [
    "where $\\hat{r}$ is a unit vector pointing outward from the origin. The angular momentum is defined as"
   ]
  },
  {
   "cell_type": "markdown",
   "metadata": {},
   "source": [
    "<!-- Equation labels as ordinary links -->\n",
    "<div id=\"_auto10\"></div>\n",
    "\n",
    "$$\n",
    "\\begin{equation}\n",
    "\\boldsymbol{L}=\\boldsymbol{r}\\times\\boldsymbol{p}=m\\boldsymbol{r}\\times\\boldsymbol{v}.\n",
    "\\label{_auto10} \\tag{10}\n",
    "\\end{equation}\n",
    "$$"
   ]
  },
  {
   "cell_type": "markdown",
   "metadata": {},
   "source": [
    "The rate of change of the angular momentum is"
   ]
  },
  {
   "cell_type": "markdown",
   "metadata": {},
   "source": [
    "$$\n",
    "\\begin{eqnarray}\n",
    "\\frac{d\\boldsymbol{L}}{dt}&=&m\\boldsymbol{v}\\times\\boldsymbol{v}+m\\boldsymbol{r}\\times\\dot{\\boldsymbol{v}}\\\\\n",
    "\\nonumber\n",
    "&=&m\\boldsymbol{v}\\times\\boldsymbol{v}+\\boldsymbol{r}\\times{\\boldsymbol{F}}=0.\n",
    "\\end{eqnarray}\n",
    "$$"
   ]
  },
  {
   "cell_type": "markdown",
   "metadata": {},
   "source": [
    "The first term is zero because $\\boldsymbol{v}$ is parallel to itself, and the\n",
    "second term is zero because $\\boldsymbol{F}$ is parallel to $\\boldsymbol{r}$.\n",
    "\n",
    "As an aside, one can see from the Levi-Civita symbol that the cross\n",
    "product of a vector with itself is zero. Here, we consider a vector"
   ]
  },
  {
   "cell_type": "markdown",
   "metadata": {},
   "source": [
    "$$\n",
    "\\begin{eqnarray}\n",
    "\\boldsymbol{V}&=&\\boldsymbol{A}\\times\\boldsymbol{A},\\\\\n",
    "\\nonumber\n",
    "V_i&=&(\\boldsymbol{A}\\times\\boldsymbol{A})_i=\\sum_{jk}\\epsilon_{ijk}A_jA_k.\n",
    "\\end{eqnarray}\n",
    "$$"
   ]
  },
  {
   "cell_type": "markdown",
   "metadata": {},
   "source": [
    "For any term $i$, there are two contributions. For example, for $i$\n",
    "denoting the $x$ direction, either $j$ denotes the $y$ direction and\n",
    "$k$ denotes the $z$ direction, or vice versa, so"
   ]
  },
  {
   "cell_type": "markdown",
   "metadata": {},
   "source": [
    "<!-- Equation labels as ordinary links -->\n",
    "<div id=\"_auto11\"></div>\n",
    "\n",
    "$$\n",
    "\\begin{equation}\n",
    "V_1=\\epsilon_{123}A_2A_3+\\epsilon_{132}A_3A_2.\n",
    "\\label{_auto11} \\tag{11}\n",
    "\\end{equation}\n",
    "$$"
   ]
  },
  {
   "cell_type": "markdown",
   "metadata": {},
   "source": [
    "This is zero by the antisymmetry of $\\epsilon$ under permutations.\n",
    "\n",
    "If the force is not radial, $\\boldsymbol{r}\\times\\boldsymbol{F}\\ne 0$ as above, and angular momentum is no longer conserved,"
   ]
  },
  {
   "cell_type": "markdown",
   "metadata": {},
   "source": [
    "<!-- Equation labels as ordinary links -->\n",
    "<div id=\"_auto12\"></div>\n",
    "\n",
    "$$\n",
    "\\begin{equation}\n",
    "\\frac{d\\boldsymbol{L}}{dt}=\\boldsymbol{r}\\times\\boldsymbol{F}\\equiv\\boldsymbol{\\tau},\n",
    "\\label{_auto12} \\tag{12}\n",
    "\\end{equation}\n",
    "$$"
   ]
  },
  {
   "cell_type": "markdown",
   "metadata": {},
   "source": [
    "where $\\boldsymbol{\\tau}$ is the torque.\n",
    "\n",
    "For a system of isolated particles, one can write"
   ]
  },
  {
   "cell_type": "markdown",
   "metadata": {},
   "source": [
    "$$\n",
    "\\begin{eqnarray}\n",
    "\\frac{d}{dt}\\sum_i\\boldsymbol{L}_i&=&\\sum_{i\\ne j}\\boldsymbol{r}_i\\times \\boldsymbol{F}_{ij}\\\\\n",
    "\\nonumber\n",
    "&=&\\frac{1}{2}\\sum_{i\\ne j} \\boldsymbol{r}_i\\times \\boldsymbol{F}_{ij}+\\boldsymbol{r}_j\\times\\boldsymbol{F}_{ji}\\\\\n",
    "\\nonumber\n",
    "&=&\\frac{1}{2}\\sum_{i\\ne j} (\\boldsymbol{r}_i-\\boldsymbol{r}_j)\\times\\boldsymbol{F}_{ij}=0,\n",
    "\\end{eqnarray}\n",
    "$$"
   ]
  },
  {
   "cell_type": "markdown",
   "metadata": {},
   "source": [
    "where the last step used Newton's third law,\n",
    "$\\boldsymbol{F}_{ij}=-\\boldsymbol{F}_{ji}$. If the forces between the particles are\n",
    "radial, i.e. $\\boldsymbol{F}_{ij} ~||~ (\\boldsymbol{r}_i-\\boldsymbol{r}_j)$, then each term in\n",
    "the sum is zero and the net angular momentum is fixed. Otherwise, you\n",
    "could imagine an isolated system that would start spinning\n",
    "spontaneously.\n",
    "\n",
    "One can write the torque about a given axis, which we will denote as $\\hat{z}$, in polar coordinates, where"
   ]
  },
  {
   "cell_type": "markdown",
   "metadata": {},
   "source": [
    "$$\n",
    "\\begin{eqnarray}\n",
    "x&=&r\\sin\\theta\\cos\\phi,~~y=r\\sin\\theta\\cos\\phi,~~z=r\\cos\\theta,\n",
    "\\end{eqnarray}\n",
    "$$"
   ]
  },
  {
   "cell_type": "markdown",
   "metadata": {},
   "source": [
    "to find the $z$ component of the torque,"
   ]
  },
  {
   "cell_type": "markdown",
   "metadata": {},
   "source": [
    "$$\n",
    "\\begin{eqnarray}\n",
    "\\tau_z&=&xF_y-yF_x\\\\\n",
    "\\nonumber\n",
    "&=&-r\\sin\\theta\\left\\{\\cos\\phi \\partial_y-\\sin\\phi \\partial_x\\right\\}V(x,y,z).\n",
    "\\end{eqnarray}\n",
    "$$"
   ]
  },
  {
   "cell_type": "markdown",
   "metadata": {},
   "source": [
    "One can use the chain rule to write the partial derivative w.r.t. $\\phi$ (keeping $r$ and $\\theta$ fixed),"
   ]
  },
  {
   "cell_type": "markdown",
   "metadata": {},
   "source": [
    "$$\n",
    "\\begin{eqnarray}\n",
    "\\partial_\\phi&=&\\frac{\\partial x}{\\partial\\phi}\\partial_x+\\frac{\\partial_y}{\\partial\\phi}\\partial_y\n",
    "+\\frac{\\partial z}{\\partial\\phi}\\partial_z\\\\\n",
    "\\nonumber\n",
    "&=&-r\\sin\\theta\\sin\\phi\\partial_x+\\sin\\theta\\cos\\phi\\partial_y.\n",
    "\\end{eqnarray}\n",
    "$$"
   ]
  },
  {
   "cell_type": "markdown",
   "metadata": {},
   "source": [
    "Combining the two equations,"
   ]
  },
  {
   "cell_type": "markdown",
   "metadata": {},
   "source": [
    "$$\n",
    "\\begin{eqnarray}\n",
    "\\tau_z&=&-\\partial_\\phi V(r,\\theta,\\phi).\n",
    "\\end{eqnarray}\n",
    "$$"
   ]
  },
  {
   "cell_type": "markdown",
   "metadata": {},
   "source": [
    "Thus, if the potential is independent of the azimuthal angle $\\phi$,\n",
    "there is no torque about the $z$ axis and $L_z$ is conserved.\n",
    "\n",
    "\n",
    "\n",
    "## Symmetries and Conservation Laws\n",
    "\n",
    "When we derived the conservation of energy, we assumed that the\n",
    "potential depended only on position, not on time. If it depended\n",
    "explicitly on time, one can quickly see that the energy would have\n",
    "changed at a rate $\\partial_tV(x,y,z,t)$. Note that if there is no\n",
    "explicit dependence on time, i.e. $V(x,y,z)$, the potential energy can\n",
    "depend on time through the variations of $x,y,z$ with time. However,\n",
    "that variation does not lead to energy non-conservation. Further, we\n",
    "just saw that if a potential does not depend on the azimuthal angle\n",
    "about some axis, $\\phi$, that the angular momentum about that axis is\n",
    "conserved.\n",
    "\n",
    "Now, we relate momentum conservation to translational\n",
    "invariance. Considering a system of particles with positions,\n",
    "$\\boldsymbol{r}_i$, if one changed the coordinate system by a translation by a\n",
    "differential distance $\\boldsymbol{\\epsilon}$, the net potential would change\n",
    "by"
   ]
  },
  {
   "cell_type": "markdown",
   "metadata": {},
   "source": [
    "$$\n",
    "\\begin{eqnarray}\n",
    "\\delta V(\\boldsymbol{r}_1,\\boldsymbol{r}_2\\cdots)&=&\\sum_i \\boldsymbol{\\epsilon}\\cdot\\nabla_i V(\\boldsymbol{r}_1,\\boldsymbol{r}_2,\\cdots)\\\\\n",
    "\\nonumber\n",
    "&=&-\\sum_i \\boldsymbol{\\epsilon}\\cdot\\boldsymbol{F}_i\\\\\n",
    "\\nonumber\n",
    "&=&-\\frac{d}{dt}\\sum_i \\boldsymbol{\\epsilon}\\cdot\\boldsymbol{p}_i.\n",
    "\\end{eqnarray}\n",
    "$$"
   ]
  },
  {
   "cell_type": "markdown",
   "metadata": {},
   "source": [
    "Thus, if the potential is unchanged by a translation of the coordinate\n",
    "system, the total momentum is conserved. If the potential is\n",
    "translationally invariant in a given direction, defined by a unit\n",
    "vector, $\\hat{\\epsilon}$ in the $\\boldsymbol{\\epsilon}$ direction, one can see\n",
    "that"
   ]
  },
  {
   "cell_type": "markdown",
   "metadata": {},
   "source": [
    "$$\n",
    "\\begin{eqnarray}\n",
    "\\hat{\\epsilon}\\cdot\\nabla_i V(\\boldsymbol{r}_i)&=&0.\n",
    "\\end{eqnarray}\n",
    "$$"
   ]
  },
  {
   "cell_type": "markdown",
   "metadata": {},
   "source": [
    "The component of the total momentum along that axis is conserved. This\n",
    "is rather obvious for a single particle. If $V(\\boldsymbol{r})$ does not\n",
    "depend on some coordinate $x$, then the force in the $x$ direction is\n",
    "$F_x=-\\partial_xV=0$, and momentum along the $x$ direction is\n",
    "constant.\n",
    "\n",
    "We showed how the total momentum of an isolated system of particle was conserved, even if the particles feel internal forces in all directions. In that case the potential energy could be written"
   ]
  },
  {
   "cell_type": "markdown",
   "metadata": {},
   "source": [
    "$$\n",
    "\\begin{eqnarray}\n",
    "V=\\sum_{i,j\\le i}V_{ij}(\\boldsymbol{r}_i-\\boldsymbol{r}_j).\n",
    "\\end{eqnarray}\n",
    "$$"
   ]
  },
  {
   "cell_type": "markdown",
   "metadata": {},
   "source": [
    "In this case, a translation leads to $\\boldsymbol{r}_i\\rightarrow\n",
    "\\boldsymbol{r}_i+\\boldsymbol{\\epsilon}$, with the translation equally affecting the\n",
    "coordinates of each particle. Because the potential depends only on\n",
    "the relative coordinates, $\\delta V$ is manifestly zero. If one were\n",
    "to go through the exercise of calculating $\\delta V$ for small\n",
    "$\\boldsymbol{\\epsilon}$, one would find that the term\n",
    "$\\nabla_i V(\\boldsymbol{r}_i-\\boldsymbol{r}_j)$ would be canceled by the term\n",
    "$\\nabla_jV(\\boldsymbol{r}_i-\\boldsymbol{r}_j)$.\n",
    "\n",
    "The relation between symmetries of the potential and conserved\n",
    "quantities (also called constants of motion) is one of the most\n",
    "profound concepts one should gain from this course. It plays a\n",
    "critical role in all fields of physics. This is especially true in\n",
    "quantum mechanics, where a quantity $A$ is conserved if its operator\n",
    "commutes with the Hamiltonian. For example if the momentum operator\n",
    "$-i\\hbar\\partial_x$ commutes with the Hamiltonian, momentum is\n",
    "conserved, and clearly this operator commutes if the Hamiltonian\n",
    "(which represents the total energy, not just the potential) does not\n",
    "depend on $x$. Also in quantum mechanics the angular momentum operator\n",
    "is $L_z=-i\\hbar\\partial_\\phi$. In fact, if the potential is unchanged\n",
    "by rotations about some axis, angular momentum about that axis is\n",
    "conserved. We return to this concept, from a more formal perspective,\n",
    "later in the course when Lagrangian mechanics is presented.\n",
    "\n",
    "\n",
    "## Bulding a code for the Earth-Sun system\n",
    "\n",
    "We will now venture into a study of a system which is energy\n",
    "conserving. The aim is to see if we (since it is not possible to solve\n",
    "the general equations analytically) we can develop stable numerical\n",
    "algorithms whose results we can trust!\n",
    "\n",
    "We solve the equations of motion numerically. We will also compute\n",
    "quantities like the energy numerically.\n",
    "\n",
    "We start with a simpler case first, the Earth-Sun system  in two dimensions only.  The gravitational force $F_G$ on the earth from the sun is"
   ]
  },
  {
   "cell_type": "markdown",
   "metadata": {},
   "source": [
    "$$\n",
    "\\boldsymbol{F}_G=-\\frac{GM_{\\odot}M_E}{r^3}\\boldsymbol{r},\n",
    "$$"
   ]
  },
  {
   "cell_type": "markdown",
   "metadata": {},
   "source": [
    "where $G$ is the gravitational constant,"
   ]
  },
  {
   "cell_type": "markdown",
   "metadata": {},
   "source": [
    "$$\n",
    "M_E=6\\times 10^{24}\\mathrm{Kg},\n",
    "$$"
   ]
  },
  {
   "cell_type": "markdown",
   "metadata": {},
   "source": [
    "the mass of Earth,"
   ]
  },
  {
   "cell_type": "markdown",
   "metadata": {},
   "source": [
    "$$\n",
    "M_{\\odot}=2\\times 10^{30}\\mathrm{Kg},\n",
    "$$"
   ]
  },
  {
   "cell_type": "markdown",
   "metadata": {},
   "source": [
    "the mass of the Sun and"
   ]
  },
  {
   "cell_type": "markdown",
   "metadata": {},
   "source": [
    "$$\n",
    "r=1.5\\times 10^{11}\\mathrm{m},\n",
    "$$"
   ]
  },
  {
   "cell_type": "markdown",
   "metadata": {},
   "source": [
    "is the distance between Earth and the Sun. The latter defines what we call an astronomical unit **AU**.\n",
    "From Newton's second law we have then for the $x$ direction"
   ]
  },
  {
   "cell_type": "markdown",
   "metadata": {},
   "source": [
    "$$\n",
    "\\frac{d^2x}{dt^2}=-\\frac{F_{x}}{M_E},\n",
    "$$"
   ]
  },
  {
   "cell_type": "markdown",
   "metadata": {},
   "source": [
    "and"
   ]
  },
  {
   "cell_type": "markdown",
   "metadata": {},
   "source": [
    "$$\n",
    "\\frac{d^2y}{dt^2}=-\\frac{F_{y}}{M_E},\n",
    "$$"
   ]
  },
  {
   "cell_type": "markdown",
   "metadata": {},
   "source": [
    "for the $y$ direction.\n",
    "\n",
    "Here we will use  that  $x=r\\cos{(\\theta)}$, $y=r\\sin{(\\theta)}$ and"
   ]
  },
  {
   "cell_type": "markdown",
   "metadata": {},
   "source": [
    "$$\n",
    "r = \\sqrt{x^2+y^2}.\n",
    "$$"
   ]
  },
  {
   "cell_type": "markdown",
   "metadata": {},
   "source": [
    "We can rewrite"
   ]
  },
  {
   "cell_type": "markdown",
   "metadata": {},
   "source": [
    "$$\n",
    "F_{x}=-\\frac{GM_{\\odot}M_E}{r^2}\\cos{(\\theta)}=-\\frac{GM_{\\odot}M_E}{r^3}x,\n",
    "$$"
   ]
  },
  {
   "cell_type": "markdown",
   "metadata": {},
   "source": [
    "and"
   ]
  },
  {
   "cell_type": "markdown",
   "metadata": {},
   "source": [
    "$$\n",
    "F_{y}=-\\frac{GM_{\\odot}M_E}{r^2}\\sin{(\\theta)}=-\\frac{GM_{\\odot}M_E}{r^3}y,\n",
    "$$"
   ]
  },
  {
   "cell_type": "markdown",
   "metadata": {},
   "source": [
    "for the $y$ direction.\n",
    "\n",
    "\n",
    "We can rewrite these two equations"
   ]
  },
  {
   "cell_type": "markdown",
   "metadata": {},
   "source": [
    "$$\n",
    "F_{x}=-\\frac{GM_{\\odot}M_E}{r^2}\\cos{(\\theta)}=-\\frac{GM_{\\odot}M_E}{r^3}x,\n",
    "$$"
   ]
  },
  {
   "cell_type": "markdown",
   "metadata": {},
   "source": [
    "and"
   ]
  },
  {
   "cell_type": "markdown",
   "metadata": {},
   "source": [
    "$$\n",
    "F_{y}=-\\frac{GM_{\\odot}M_E}{r^2}\\sin{(\\theta)}=-\\frac{GM_{\\odot}M_E}{r^3}y,\n",
    "$$"
   ]
  },
  {
   "cell_type": "markdown",
   "metadata": {},
   "source": [
    "as four first-order coupled differential equations"
   ]
  },
  {
   "cell_type": "markdown",
   "metadata": {},
   "source": [
    "4\n",
    "3\n",
    " \n",
    "<\n",
    "<\n",
    "<\n",
    "!\n",
    "!\n",
    "M\n",
    "A\n",
    "T\n",
    "H\n",
    "_\n",
    "B\n",
    "L\n",
    "O\n",
    "C\n",
    "K"
   ]
  },
  {
   "cell_type": "markdown",
   "metadata": {},
   "source": [
    "4\n",
    "4\n",
    " \n",
    "<\n",
    "<\n",
    "<\n",
    "!\n",
    "!\n",
    "M\n",
    "A\n",
    "T\n",
    "H\n",
    "_\n",
    "B\n",
    "L\n",
    "O\n",
    "C\n",
    "K"
   ]
  },
  {
   "cell_type": "markdown",
   "metadata": {},
   "source": [
    "4\n",
    "5\n",
    " \n",
    "<\n",
    "<\n",
    "<\n",
    "!\n",
    "!\n",
    "M\n",
    "A\n",
    "T\n",
    "H\n",
    "_\n",
    "B\n",
    "L\n",
    "O\n",
    "C\n",
    "K"
   ]
  },
  {
   "cell_type": "markdown",
   "metadata": {},
   "source": [
    "$$\n",
    "\\frac{dy}{dt}=v_y.\n",
    "$$"
   ]
  },
  {
   "cell_type": "markdown",
   "metadata": {},
   "source": [
    "## Building a code for the solar system, final coupled equations\n",
    "\n",
    "The four coupled differential equations"
   ]
  },
  {
   "cell_type": "markdown",
   "metadata": {},
   "source": [
    "4\n",
    "7\n",
    " \n",
    "<\n",
    "<\n",
    "<\n",
    "!\n",
    "!\n",
    "M\n",
    "A\n",
    "T\n",
    "H\n",
    "_\n",
    "B\n",
    "L\n",
    "O\n",
    "C\n",
    "K"
   ]
  },
  {
   "cell_type": "markdown",
   "metadata": {},
   "source": [
    "4\n",
    "8\n",
    " \n",
    "<\n",
    "<\n",
    "<\n",
    "!\n",
    "!\n",
    "M\n",
    "A\n",
    "T\n",
    "H\n",
    "_\n",
    "B\n",
    "L\n",
    "O\n",
    "C\n",
    "K"
   ]
  },
  {
   "cell_type": "markdown",
   "metadata": {},
   "source": [
    "4\n",
    "9\n",
    " \n",
    "<\n",
    "<\n",
    "<\n",
    "!\n",
    "!\n",
    "M\n",
    "A\n",
    "T\n",
    "H\n",
    "_\n",
    "B\n",
    "L\n",
    "O\n",
    "C\n",
    "K"
   ]
  },
  {
   "cell_type": "markdown",
   "metadata": {},
   "source": [
    "$$\n",
    "\\frac{dy}{dt}=v_y,\n",
    "$$"
   ]
  },
  {
   "cell_type": "markdown",
   "metadata": {},
   "source": [
    "can be turned into dimensionless equations or we can introduce astronomical units with $1$ AU = $1.5\\times 10^{11}$. \n",
    "\n",
    "Using the equations from circular motion (with $r =1\\mathrm{AU}$)"
   ]
  },
  {
   "cell_type": "markdown",
   "metadata": {},
   "source": [
    "$$\n",
    "\\frac{M_E v^2}{r} = F = \\frac{GM_{\\odot}M_E}{r^2},\n",
    "$$"
   ]
  },
  {
   "cell_type": "markdown",
   "metadata": {},
   "source": [
    "we have"
   ]
  },
  {
   "cell_type": "markdown",
   "metadata": {},
   "source": [
    "$$\n",
    "GM_{\\odot}=v^2r,\n",
    "$$"
   ]
  },
  {
   "cell_type": "markdown",
   "metadata": {},
   "source": [
    "and using that the velocity of Earth (assuming circular motion) is\n",
    "$v = 2\\pi r/\\mathrm{yr}=2\\pi\\mathrm{AU}/\\mathrm{yr}$, we have"
   ]
  },
  {
   "cell_type": "markdown",
   "metadata": {},
   "source": [
    "$$\n",
    "GM_{\\odot}= v^2r = 4\\pi^2 \\frac{(\\mathrm{AU})^3}{\\mathrm{yr}^2}.\n",
    "$$"
   ]
  },
  {
   "cell_type": "markdown",
   "metadata": {},
   "source": [
    "## Building a code for the solar system, discretized equations\n",
    "\n",
    "The four coupled differential equations can then be discretized using Euler's method as (with step length $h$)"
   ]
  },
  {
   "cell_type": "markdown",
   "metadata": {},
   "source": [
    "5\n",
    "4\n",
    " \n",
    "<\n",
    "<\n",
    "<\n",
    "!\n",
    "!\n",
    "M\n",
    "A\n",
    "T\n",
    "H\n",
    "_\n",
    "B\n",
    "L\n",
    "O\n",
    "C\n",
    "K"
   ]
  },
  {
   "cell_type": "markdown",
   "metadata": {},
   "source": [
    "5\n",
    "5\n",
    " \n",
    "<\n",
    "<\n",
    "<\n",
    "!\n",
    "!\n",
    "M\n",
    "A\n",
    "T\n",
    "H\n",
    "_\n",
    "B\n",
    "L\n",
    "O\n",
    "C\n",
    "K"
   ]
  },
  {
   "cell_type": "markdown",
   "metadata": {},
   "source": [
    "5\n",
    "6\n",
    " \n",
    "<\n",
    "<\n",
    "<\n",
    "!\n",
    "!\n",
    "M\n",
    "A\n",
    "T\n",
    "H\n",
    "_\n",
    "B\n",
    "L\n",
    "O\n",
    "C\n",
    "K"
   ]
  },
  {
   "cell_type": "markdown",
   "metadata": {},
   "source": [
    "$$\n",
    "y_{i+1}=y_i+hv_{y,i},\n",
    "$$"
   ]
  },
  {
   "cell_type": "markdown",
   "metadata": {},
   "source": [
    "## Code Example with Euler's Method\n",
    "\n",
    "The code here implements Euler's method for the Earth-Sun system using a more compact way of representing the vectors. Alternatively, you could have spelled out all the variables $v_x$, $v_y$, $x$ and $y$ as one-dimensional arrays."
   ]
  },
  {
   "cell_type": "code",
   "execution_count": 1,
   "metadata": {
    "collapsed": false
   },
   "outputs": [],
   "source": [
    "%matplotlib inline\n",
    "\n",
    "# Common imports\n",
    "import numpy as np\n",
    "import pandas as pd\n",
    "from math import *\n",
    "import matplotlib.pyplot as plt\n",
    "import os\n",
    "\n",
    "# Where to save the figures and data files\n",
    "PROJECT_ROOT_DIR = \"Results\"\n",
    "FIGURE_ID = \"Results/FigureFiles\"\n",
    "DATA_ID = \"DataFiles/\"\n",
    "\n",
    "if not os.path.exists(PROJECT_ROOT_DIR):\n",
    "    os.mkdir(PROJECT_ROOT_DIR)\n",
    "\n",
    "if not os.path.exists(FIGURE_ID):\n",
    "    os.makedirs(FIGURE_ID)\n",
    "\n",
    "if not os.path.exists(DATA_ID):\n",
    "    os.makedirs(DATA_ID)\n",
    "\n",
    "def image_path(fig_id):\n",
    "    return os.path.join(FIGURE_ID, fig_id)\n",
    "\n",
    "def data_path(dat_id):\n",
    "    return os.path.join(DATA_ID, dat_id)\n",
    "\n",
    "def save_fig(fig_id):\n",
    "    plt.savefig(image_path(fig_id) + \".png\", format='png')\n",
    "\n",
    "\n",
    "DeltaT = 0.001\n",
    "#set up arrays \n",
    "tfinal = 10 # in years\n",
    "n = ceil(tfinal/DeltaT)\n",
    "# set up arrays for t, a, v, and x\n",
    "t = np.zeros(n)\n",
    "v = np.zeros((n,2))\n",
    "r = np.zeros((n,2))\n",
    "# Initial conditions as compact 2-dimensional arrays\n",
    "r0 = np.array([1.0,0.0])\n",
    "v0 = np.array([0.0,2*pi])\n",
    "r[0] = r0\n",
    "v[0] = v0\n",
    "Fourpi2 = 4*pi*pi\n",
    "# Start integrating using Euler's method\n",
    "for i in range(n-1):\n",
    "    # Set up the acceleration\n",
    "    # Here you could have defined your own function for this\n",
    "    rabs = sqrt(sum(r[i]*r[i]))\n",
    "    a =  -Fourpi2*r[i]/(rabs**3)\n",
    "    # update velocity, time and position using Euler's forward method\n",
    "    v[i+1] = v[i] + DeltaT*a\n",
    "    r[i+1] = r[i] + DeltaT*v[i]\n",
    "    t[i+1] = t[i] + DeltaT\n",
    "# Plot position as function of time    \n",
    "fig, ax = plt.subplots()\n",
    "#ax.set_xlim(0, tfinal)\n",
    "ax.set_ylabel('x[m]')\n",
    "ax.set_xlabel('y[m]')\n",
    "ax.plot(r[:,0], r[:,1])\n",
    "fig.tight_layout()\n",
    "save_fig(\"EarthSunEuler\")\n",
    "plt.show()"
   ]
  },
  {
   "cell_type": "markdown",
   "metadata": {},
   "source": [
    "## Problems with Euler's Method\n",
    "\n",
    "We notice here that Euler's method doesn't give a stable orbit. It\n",
    "means that we cannot trust Euler's method. In a deeper way, as we will\n",
    "see in homework 5, Euler's method does not conserve energy. It is an\n",
    "example of an integrator which is not\n",
    "[symplectic](https://en.wikipedia.org/wiki/Symplectic_integrator).\n",
    "\n",
    "Here we present thus two methods, which with simple changes allow us to avoid these pitfalls. The simplest possible extension is the so-called Euler-Cromer method.\n",
    "The changes we need to make to our code are indeed marginal here.\n",
    "We need simply to replace"
   ]
  },
  {
   "cell_type": "code",
   "execution_count": 2,
   "metadata": {
    "collapsed": false
   },
   "outputs": [],
   "source": [
    "    r[i+1] = r[i] + DeltaT*v[i]"
   ]
  },
  {
   "cell_type": "markdown",
   "metadata": {},
   "source": [
    "in the above code with the velocity at the new time $t_{i+1}$"
   ]
  },
  {
   "cell_type": "code",
   "execution_count": 3,
   "metadata": {
    "collapsed": false
   },
   "outputs": [],
   "source": [
    "    r[i+1] = r[i] + DeltaT*v[i+1]"
   ]
  },
  {
   "cell_type": "markdown",
   "metadata": {},
   "source": [
    "By this simple caveat we get stable orbits.\n",
    "Below we derive the Euler-Cromer method as well as one of the most utlized algorithms for sovling the above type of problems, the so-called Velocity-Verlet method. \n",
    "\n",
    "\n",
    "## Deriving the Euler-Cromer Method\n",
    "\n",
    "Let us repeat Euler's method.\n",
    "We have a differential equation"
   ]
  },
  {
   "cell_type": "markdown",
   "metadata": {},
   "source": [
    "<!-- Equation labels as ordinary links -->\n",
    "<div id=\"_auto13\"></div>\n",
    "\n",
    "$$\n",
    "\\begin{equation}\n",
    "y'(t_i)=f(t_i,y_i)   \n",
    "\\label{_auto13} \\tag{13}\n",
    "\\end{equation}\n",
    "$$"
   ]
  },
  {
   "cell_type": "markdown",
   "metadata": {},
   "source": [
    "and if we truncate at the first derivative, we have from the Taylor expansion"
   ]
  },
  {
   "cell_type": "markdown",
   "metadata": {},
   "source": [
    "<!-- Equation labels as ordinary links -->\n",
    "<div id=\"eq:euler\"></div>\n",
    "\n",
    "$$\n",
    "\\begin{equation}\n",
    "y_{i+1}=y(t_i) + (\\Delta t) f(t_i,y_i) + O(\\Delta t^2), \\label{eq:euler} \\tag{14}\n",
    "\\end{equation}\n",
    "$$"
   ]
  },
  {
   "cell_type": "markdown",
   "metadata": {},
   "source": [
    "which when complemented with $t_{i+1}=t_i+\\Delta t$ forms\n",
    "the algorithm for the well-known Euler method. \n",
    "Note that at every step we make an approximation error\n",
    "of the order of $O(\\Delta t^2)$, however the total error is the sum over all\n",
    "steps $N=(b-a)/(\\Delta t)$ for $t\\in [a,b]$, yielding thus a global error which goes like\n",
    "$NO(\\Delta t^2)\\approx O(\\Delta t)$. \n",
    "\n",
    "To make Euler's method more precise we can obviously\n",
    "decrease $\\Delta t$ (increase $N$), but this can lead to loss of numerical precision.\n",
    "Euler's method is not recommended for precision calculation,\n",
    "although it is handy to use in order to get a first\n",
    "view on how a solution may look like.\n",
    "\n",
    "Euler's method is asymmetric in time, since it uses information about the derivative at the beginning\n",
    "of the time interval. This means that we evaluate the position at $y_1$ using the velocity\n",
    "at $v_0$. A simple variation is to determine $x_{n+1}$ using the velocity at\n",
    "$v_{n+1}$, that is (in a slightly more generalized form)"
   ]
  },
  {
   "cell_type": "markdown",
   "metadata": {},
   "source": [
    "<!-- Equation labels as ordinary links -->\n",
    "<div id=\"_auto14\"></div>\n",
    "\n",
    "$$\n",
    "\\begin{equation} \n",
    "y_{n+1}=y_{n}+ v_{n+1}+O(\\Delta t^2)\n",
    "\\label{_auto14} \\tag{15}\n",
    "\\end{equation}\n",
    "$$"
   ]
  },
  {
   "cell_type": "markdown",
   "metadata": {},
   "source": [
    "and"
   ]
  },
  {
   "cell_type": "markdown",
   "metadata": {},
   "source": [
    "<!-- Equation labels as ordinary links -->\n",
    "<div id=\"_auto15\"></div>\n",
    "\n",
    "$$\n",
    "\\begin{equation}\n",
    "v_{n+1}=v_{n}+(\\Delta t) a_{n}+O(\\Delta t^2).\n",
    "\\label{_auto15} \\tag{16}\n",
    "\\end{equation}\n",
    "$$"
   ]
  },
  {
   "cell_type": "markdown",
   "metadata": {},
   "source": [
    "The acceleration $a_n$ is a function of $a_n(y_n, v_n, t_n)$ and needs to be evaluated\n",
    "as well. This is the Euler-Cromer method.\n",
    "\n",
    "**Exercise**: go back to the above code with Euler's method and add the Euler-Cromer method. \n",
    "\n",
    "\n",
    "\n",
    "## Deriving the Velocity-Verlet Method\n",
    "\n",
    "Let us stay with $x$ (position) and $v$ (velocity) as the quantities we are interested in.\n",
    "\n",
    "We have the Taylor expansion for the position given by"
   ]
  },
  {
   "cell_type": "markdown",
   "metadata": {},
   "source": [
    "$$\n",
    "x_{i+1} = x_i+(\\Delta t)v_i+\\frac{(\\Delta t)^2}{2}a_i+O((\\Delta t)^3).\n",
    "$$"
   ]
  },
  {
   "cell_type": "markdown",
   "metadata": {},
   "source": [
    "The corresponding expansion for the velocity is"
   ]
  },
  {
   "cell_type": "markdown",
   "metadata": {},
   "source": [
    "$$\n",
    "v_{i+1} = v_i+(\\Delta t)a_i+\\frac{(\\Delta t)^2}{2}v^{(2)}_i+O((\\Delta t)^3).\n",
    "$$"
   ]
  },
  {
   "cell_type": "markdown",
   "metadata": {},
   "source": [
    "Via Newton's second law we have normally an analytical expression for the derivative of the velocity, namely"
   ]
  },
  {
   "cell_type": "markdown",
   "metadata": {},
   "source": [
    "$$\n",
    "a_i= \\frac{d^2 x}{dt^2}\\vert_{i}=\\frac{d v}{dt}\\vert_{i}= \\frac{F(x_i,v_i,t_i)}{m}.\n",
    "$$"
   ]
  },
  {
   "cell_type": "markdown",
   "metadata": {},
   "source": [
    "If we add to this the corresponding expansion for the derivative of the velocity"
   ]
  },
  {
   "cell_type": "markdown",
   "metadata": {},
   "source": [
    "$$\n",
    "v^{(1)}_{i+1} = a_{i+1}= a_i+(\\Delta t)v^{(2)}_i+O((\\Delta t)^2)=a_i+(\\Delta t)v^{(2)}_i+O((\\Delta t)^2),\n",
    "$$"
   ]
  },
  {
   "cell_type": "markdown",
   "metadata": {},
   "source": [
    "and retain only terms up to the second derivative of the velocity since our error goes as $O(h^3)$, we have"
   ]
  },
  {
   "cell_type": "markdown",
   "metadata": {},
   "source": [
    "$$\n",
    "(\\Delta t)v^{(2)}_i\\approx a_{i+1}-a_i.\n",
    "$$"
   ]
  },
  {
   "cell_type": "markdown",
   "metadata": {},
   "source": [
    "We can then rewrite the Taylor expansion for the velocity as"
   ]
  },
  {
   "cell_type": "markdown",
   "metadata": {},
   "source": [
    "$$\n",
    "v_{i+1} = v_i+\\frac{(\\Delta t)}{2}\\left( a_{i+1}+a_{i}\\right)+O((\\Delta t)^3).\n",
    "$$"
   ]
  },
  {
   "cell_type": "markdown",
   "metadata": {},
   "source": [
    "## The velocity Verlet method\n",
    "\n",
    "Our final equations for the position and the velocity become then"
   ]
  },
  {
   "cell_type": "markdown",
   "metadata": {},
   "source": [
    "$$\n",
    "x_{i+1} = x_i+(\\Delta t)v_i+\\frac{(\\Delta t)^2}{2}a_{i}+O((\\Delta t)^3),\n",
    "$$"
   ]
  },
  {
   "cell_type": "markdown",
   "metadata": {},
   "source": [
    "and"
   ]
  },
  {
   "cell_type": "markdown",
   "metadata": {},
   "source": [
    "$$\n",
    "v_{i+1} = v_i+\\frac{(\\Delta t)}{2}\\left(a_{i+1}+a_{i}\\right)+O((\\Delta t)^3).\n",
    "$$"
   ]
  },
  {
   "cell_type": "markdown",
   "metadata": {},
   "source": [
    "Note well that the term $a_{i+1}$ depends on the position at $x_{i+1}$. This means that you need to calculate \n",
    "the position at the updated time $t_{i+1}$ before the computing the next velocity.  Note also that the derivative of the velocity at the time\n",
    "$t_i$ used in the updating of the position can be reused in the calculation of the velocity update as well. \n",
    "\n",
    "\n",
    "\n",
    "## Adding the Velocity-Verlet Method\n",
    "\n",
    "We can now easily add the Verlet method to our original code as"
   ]
  },
  {
   "cell_type": "code",
   "execution_count": 4,
   "metadata": {
    "collapsed": false
   },
   "outputs": [],
   "source": [
    "DeltaT = 0.01\n",
    "#set up arrays \n",
    "tfinal = 10\n",
    "n = ceil(tfinal/DeltaT)\n",
    "# set up arrays for t, a, v, and x\n",
    "t = np.zeros(n)\n",
    "v = np.zeros((n,2))\n",
    "r = np.zeros((n,2))\n",
    "# Initial conditions as compact 2-dimensional arrays\n",
    "r0 = np.array([1.0,0.0])\n",
    "v0 = np.array([0.0,2*pi])\n",
    "r[0] = r0\n",
    "v[0] = v0\n",
    "Fourpi2 = 4*pi*pi\n",
    "# Start integrating using the Velocity-Verlet  method\n",
    "for i in range(n-1):\n",
    "    # Set up forces, air resistance FD, note now that we need the norm of the vecto\n",
    "    # Here you could have defined your own function for this\n",
    "    rabs = sqrt(sum(r[i]*r[i]))\n",
    "    a =  -Fourpi2*r[i]/(rabs**3)\n",
    "    # update velocity, time and position using the Velocity-Verlet method\n",
    "    r[i+1] = r[i] + DeltaT*v[i]+0.5*(DeltaT**2)*a\n",
    "    rabs = sqrt(sum(r[i+1]*r[i+1]))\n",
    "    anew = -4*(pi**2)*r[i+1]/(rabs**3)\n",
    "    v[i+1] = v[i] + 0.5*DeltaT*(a+anew)\n",
    "    t[i+1] = t[i] + DeltaT\n",
    "# Plot position as function of time    \n",
    "fig, ax = plt.subplots()\n",
    "ax.set_ylabel('x[m]')\n",
    "ax.set_xlabel('y[m]')\n",
    "ax.plot(r[:,0], r[:,1])\n",
    "fig.tight_layout()\n",
    "save_fig(\"EarthSunVV\")\n",
    "plt.show()"
   ]
  },
  {
   "cell_type": "markdown",
   "metadata": {},
   "source": [
    "You can easily generalize the calculation of the forces by defining a function\n",
    "which takes in as input the various variables. We leave this as a challenge to you.\n",
    "\n",
    "\n",
    "## Studying Energy Conservation\n",
    "\n",
    "In order to study the conservation of energy, we will need to perform\n",
    "a numerical integration, unless we can integrate analytically. Here we\n",
    "present the Trapezoidal rule as a the simplest possible approximation.\n",
    "\n",
    "\n",
    "\n",
    "\n",
    "\n",
    "## Numerical Integration\n",
    "\n",
    "It is also useful to consider methods to integrate numerically.\n",
    "Let us consider the following case.\n",
    "We have  classical electron which moves in the $x$-direction along a surface. The force from the surface is"
   ]
  },
  {
   "cell_type": "markdown",
   "metadata": {},
   "source": [
    "$$\n",
    "\\boldsymbol{F}(x)=-F_0\\sin{(\\frac{2\\pi x}{b})}\\boldsymbol{e}_x.\n",
    "$$"
   ]
  },
  {
   "cell_type": "markdown",
   "metadata": {},
   "source": [
    "The constant $b$ represents the distance between atoms at the surface of the material, $F_0$ is a constant and $x$ is the position of the electron.\n",
    " Using the work-energy theorem we can find the work $W$ done when moving an electron from a position $x_0$ to a final position $x$ through the\n",
    " integral"
   ]
  },
  {
   "cell_type": "markdown",
   "metadata": {},
   "source": [
    "$$\n",
    "W=-\\int_{x_0}^x \\boldsymbol{F}(x')dx' =  \\int_{x_0}^x F_0\\sin{(\\frac{2\\pi x'}{b})} dx',\n",
    "$$"
   ]
  },
  {
   "cell_type": "markdown",
   "metadata": {},
   "source": [
    "which results in"
   ]
  },
  {
   "cell_type": "markdown",
   "metadata": {},
   "source": [
    "$$\n",
    "W=\\frac{F_0b}{2\\pi}\\left[\\cos{(\\frac{2\\pi x}{b})}-\\cos{(\\frac{2\\pi x_0}{b})}\\right].\n",
    "$$"
   ]
  },
  {
   "cell_type": "markdown",
   "metadata": {},
   "source": [
    "## Numerical Integration\n",
    "\n",
    "There are several numerical algorithms for finding an integral\n",
    "numerically. The more familiar ones like the rectangular rule or the\n",
    "trapezoidal rule have simple geometric interpretations.\n",
    "\n",
    "Let us look at the mathematical details of what are called equal-step methods, also known as Newton-Cotes quadrature.\n",
    "\n",
    "\n",
    "## Newton-Cotes Quadrature or equal-step methods\n",
    "The integral"
   ]
  },
  {
   "cell_type": "markdown",
   "metadata": {},
   "source": [
    "<!-- Equation labels as ordinary links -->\n",
    "<div id=\"eq:integraldef\"></div>\n",
    "\n",
    "$$\n",
    "\\begin{equation}\n",
    "   I=\\int_a^bf(x) dx\n",
    "\\label{eq:integraldef} \\tag{17}\n",
    "\\end{equation}\n",
    "$$"
   ]
  },
  {
   "cell_type": "markdown",
   "metadata": {},
   "source": [
    "has a very simple meaning. The integral is the\n",
    "area enscribed by the function $f(x)$ starting from $x=a$ to  $x=b$. It is subdivided in several smaller areas whose evaluation is to  be approximated by different techniques. The areas under the curve can for example  be approximated by rectangular boxes or trapezoids.\n",
    "\n",
    "\n",
    "\n",
    "\n",
    "## Basic philosophy of equal-step methods\n",
    "In considering equal step  methods, our basic approach is that of approximating\n",
    "a function $f(x)$ with a polynomial of at most \n",
    "degree $N-1$, given $N$ integration points. If our polynomial is of degree $1$,\n",
    "the function will be approximated with $f(x)\\approx a_0+a_1x$.\n",
    "\n",
    "\n",
    "\n",
    "\n",
    "## Simple algorithm for equal step methods\n",
    "The algorithm for these integration methods  is rather simple, and the number of approximations perhaps  unlimited!\n",
    "\n",
    "* Choose a step size $h=(b-a)/N$  where $N$ is the number of steps and $a$ and $b$ the lower and upper limits of integration.\n",
    "\n",
    "* With a given step length we rewrite the integral as"
   ]
  },
  {
   "cell_type": "markdown",
   "metadata": {},
   "source": [
    "$$\n",
    "\\int_a^bf(x) dx= \\int_a^{a+h}f(x)dx + \\int_{a+h}^{a+2h}f(x)dx+\\dots \\int_{b-h}^{b}f(x)dx.\n",
    "$$"
   ]
  },
  {
   "cell_type": "markdown",
   "metadata": {},
   "source": [
    "* The strategy then is to find a reliable polynomial approximation   for $f(x)$ in the various intervals.  Choosing a given approximation for  $f(x)$, we obtain a specific approximation to the  integral.\n",
    "\n",
    "* With this approximation to $f(x)$ we perform the integration by computing the integrals over all subintervals.\n",
    "\n",
    "## Simple algorithm for equal step methods\n",
    "\n",
    "One possible strategy then is to find a reliable polynomial expansion for $f(x)$ in the smaller\n",
    "subintervals. Consider for example evaluating"
   ]
  },
  {
   "cell_type": "markdown",
   "metadata": {},
   "source": [
    "$$\n",
    "\\int_a^{a+2h}f(x)dx,\n",
    "$$"
   ]
  },
  {
   "cell_type": "markdown",
   "metadata": {},
   "source": [
    "which we rewrite as"
   ]
  },
  {
   "cell_type": "markdown",
   "metadata": {},
   "source": [
    "<!-- Equation labels as ordinary links -->\n",
    "<div id=\"eq:hhint\"></div>\n",
    "\n",
    "$$\n",
    "\\begin{equation}\n",
    "\\int_a^{a+2h}f(x)dx=\\int_{x_0-h}^{x_0+h}f(x)dx.\n",
    "\\label{eq:hhint} \\tag{18}\n",
    "\\end{equation}\n",
    "$$"
   ]
  },
  {
   "cell_type": "markdown",
   "metadata": {},
   "source": [
    "We have chosen a midpoint $x_0$ and have defined $x_0=a+h$.\n",
    "\n",
    "\n",
    "\n",
    "\n",
    "## The rectangle method\n",
    "\n",
    "A very simple approach is the so-called midpoint or rectangle method.\n",
    "In this case the integration area is split in a given number of rectangles with length $h$ and height given by the mid-point value of the function.  This gives the following simple rule for approximating an integral"
   ]
  },
  {
   "cell_type": "markdown",
   "metadata": {},
   "source": [
    "<!-- Equation labels as ordinary links -->\n",
    "<div id=\"eq:rectangle\"></div>\n",
    "\n",
    "$$\n",
    "\\begin{equation}\n",
    "I=\\int_a^bf(x) dx \\approx  h\\sum_{i=1}^N f(x_{i-1/2}), \n",
    "\\label{eq:rectangle} \\tag{19}\n",
    "\\end{equation}\n",
    "$$"
   ]
  },
  {
   "cell_type": "markdown",
   "metadata": {},
   "source": [
    "where $f(x_{i-1/2})$ is the midpoint value of $f$ for a given rectangle. We will discuss its truncation \n",
    "error below.  It is easy to implement this algorithm,  as shown below\n",
    "\n",
    "\n",
    "## Truncation error for the rectangular rule\n",
    "\n",
    "The correct mathematical expression for the local error for the rectangular rule $R_i(h)$ for element $i$ is"
   ]
  },
  {
   "cell_type": "markdown",
   "metadata": {},
   "source": [
    "$$\n",
    "\\int_{-h}^hf(x)dx - R_i(h)=-\\frac{h^3}{24}f^{(2)}(\\xi),\n",
    "$$"
   ]
  },
  {
   "cell_type": "markdown",
   "metadata": {},
   "source": [
    "and the global error reads"
   ]
  },
  {
   "cell_type": "markdown",
   "metadata": {},
   "source": [
    "$$\n",
    "\\int_a^bf(x)dx -R_h(f)=-\\frac{b-a}{24}h^2f^{(2)}(\\xi),\n",
    "$$"
   ]
  },
  {
   "cell_type": "markdown",
   "metadata": {},
   "source": [
    "where $R_h$ is the result obtained with rectangular rule and $\\xi \\in [a,b]$.\n",
    "\n",
    "\n",
    "\n",
    "## Codes for the Rectangular rule\n",
    "\n",
    "We go back to our simple example above and set $F_0=b=1$ and choose $x_0=0$ and $x=1/2$, and have"
   ]
  },
  {
   "cell_type": "markdown",
   "metadata": {},
   "source": [
    "$$\n",
    "W=\\frac{1}{\\pi}.\n",
    "$$"
   ]
  },
  {
   "cell_type": "markdown",
   "metadata": {},
   "source": [
    "The code here computes the integral using the rectangle rule and $n=100$ integration points we have a relative error of\n",
    "$10^{-5}$."
   ]
  },
  {
   "cell_type": "code",
   "execution_count": 5,
   "metadata": {
    "collapsed": false
   },
   "outputs": [],
   "source": [
    "from math import sin, pi\n",
    "import numpy as np\n",
    "from sympy import Symbol, integrate\n",
    "# function for the Rectangular rule                                                                                        \n",
    "def Rectangular(a,b,f,n):\n",
    "   h = (b-a)/float(n)\n",
    "   s = 0\n",
    "   for i in range(0,n,1):\n",
    "       x = (i+0.5)*h\n",
    "       s = s+ f(x)\n",
    "   return h*s\n",
    "# function to integrate\n",
    "def function(x):\n",
    "    return sin(2*pi*x)\n",
    "# define integration limits and integration points                                                                         \n",
    "a = 0.0; b = 0.5;\n",
    "n = 100\n",
    "Exact = 1./pi\n",
    "print(\"Relative error= \", abs( (Rectangular(a,b,function,n)-Exact)/Exact))"
   ]
  },
  {
   "cell_type": "markdown",
   "metadata": {},
   "source": [
    "## The trapezoidal rule\n",
    "\n",
    "The other integral gives"
   ]
  },
  {
   "cell_type": "markdown",
   "metadata": {},
   "source": [
    "$$\n",
    "\\int_{x_0-h}^{x_0}f(x)dx=\\frac{h}{2}\\left(f(x_0) + f(x_0-h)\\right)+O(h^3),\n",
    "$$"
   ]
  },
  {
   "cell_type": "markdown",
   "metadata": {},
   "source": [
    "and adding up we obtain"
   ]
  },
  {
   "cell_type": "markdown",
   "metadata": {},
   "source": [
    "<!-- Equation labels as ordinary links -->\n",
    "<div id=\"eq:trapez\"></div>\n",
    "\n",
    "$$\n",
    "\\begin{equation}\n",
    "   \\int_{x_0-h}^{x_0+h}f(x)dx=\\frac{h}{2}\\left(f(x_0+h) + 2f(x_0) + f(x_0-h)\\right)+O(h^3),\n",
    "\\label{eq:trapez} \\tag{20}\n",
    "\\end{equation}\n",
    "$$"
   ]
  },
  {
   "cell_type": "markdown",
   "metadata": {},
   "source": [
    "which is the well-known trapezoidal rule.  Concerning the error in the approximation made,\n",
    "$O(h^3)=O((b-a)^3/N^3)$, you should  note \n",
    "that this is the local error.  Since we are splitting the integral from\n",
    "$a$ to $b$ in $N$ pieces, we will have to perform approximately $N$ \n",
    "such operations.\n",
    "\n",
    "This means that the *global error* goes like $\\approx O(h^2)$. \n",
    "The trapezoidal reads then"
   ]
  },
  {
   "cell_type": "markdown",
   "metadata": {},
   "source": [
    "<!-- Equation labels as ordinary links -->\n",
    "<div id=\"eq:trapez1\"></div>\n",
    "\n",
    "$$\n",
    "\\begin{equation}\n",
    "   I=\\int_a^bf(x) dx=h\\left(f(a)/2 + f(a+h) +f(a+2h)+\n",
    "                          \\dots +f(b-h)+ f_{b}/2\\right),\n",
    "\\label{eq:trapez1} \\tag{21}\n",
    "\\end{equation}\n",
    "$$"
   ]
  },
  {
   "cell_type": "markdown",
   "metadata": {},
   "source": [
    "with a global error which goes like $O(h^2)$. \n",
    "\n",
    "Hereafter we use the shorthand notations $f_{-h}=f(x_0-h)$, $f_{0}=f(x_0)$\n",
    "and $f_{h}=f(x_0+h)$.\n",
    "\n",
    "\n",
    "## Error in the trapezoidal rule\n",
    "\n",
    "The correct mathematical expression for the local error for the trapezoidal rule is"
   ]
  },
  {
   "cell_type": "markdown",
   "metadata": {},
   "source": [
    "$$\n",
    "\\int_a^bf(x)dx -\\frac{b-a}{2}\\left[f(a)+f(b)\\right]=-\\frac{h^3}{12}f^{(2)}(\\xi),\n",
    "$$"
   ]
  },
  {
   "cell_type": "markdown",
   "metadata": {},
   "source": [
    "and the global error reads"
   ]
  },
  {
   "cell_type": "markdown",
   "metadata": {},
   "source": [
    "$$\n",
    "\\int_a^bf(x)dx -T_h(f)=-\\frac{b-a}{12}h^2f^{(2)}(\\xi),\n",
    "$$"
   ]
  },
  {
   "cell_type": "markdown",
   "metadata": {},
   "source": [
    "where $T_h$ is the trapezoidal result and $\\xi \\in [a,b]$.\n",
    "\n",
    "\n",
    "\n",
    "## Algorithm for the trapezoidal rule\n",
    "The trapezoidal rule is easy to  implement numerically \n",
    "through the following simple algorithm\n",
    "\n",
    "  * Choose the number of mesh points and fix the step length.\n",
    "\n",
    "  * calculate $f(a)$ and $f(b)$ and multiply with $h/2$.\n",
    "\n",
    "  * Perform a loop over $n=1$ to $n-1$ ($f(a)$ and $f(b)$ are known) and sum up  the terms $f(a+h) +f(a+2h)+f(a+3h)+\\dots +f(b-h)$. Each step in the loop  corresponds to a given value $a+nh$.\n",
    "\n",
    "  * Multiply the final result by $h$ and add $hf(a)/2$ and $hf(b)/2$.\n",
    "\n",
    "\n",
    "\n",
    "\n",
    "\n",
    "\n",
    "## Trapezoidal Rule\n",
    "\n",
    "We use the same function and integrate now using the trapoezoidal rule."
   ]
  },
  {
   "cell_type": "code",
   "execution_count": 6,
   "metadata": {
    "collapsed": false
   },
   "outputs": [],
   "source": [
    "import numpy as np\n",
    "from sympy import Symbol, integrate\n",
    "# function for the trapezoidal rule\n",
    "def Trapez(a,b,f,n):\n",
    "   h = (b-a)/float(n)\n",
    "   s = 0\n",
    "   x = a\n",
    "   for i in range(1,n,1):\n",
    "       x = x+h\n",
    "       s = s+ f(x)\n",
    "   s = 0.5*(f(a)+f(b)) +s\n",
    "   return h*s\n",
    "# function to integrate\n",
    "def function(x):\n",
    "    return sin(2*pi*x)\n",
    "# define integration limits and integration points                                                                         \n",
    "a = 0.0; b = 0.5;\n",
    "n = 100\n",
    "Exact = 1./pi\n",
    "print(\"Relative error= \", abs( (Trapez(a,b,function,n)-Exact)/Exact))"
   ]
  },
  {
   "cell_type": "markdown",
   "metadata": {},
   "source": [
    "## Simpsons' rule\n",
    "\n",
    "Instead of using the above first-order polynomials \n",
    "approximations for $f$, we attempt at using a second-order polynomials.\n",
    "In this case we need three points in order to define a second-order \n",
    "polynomial approximation"
   ]
  },
  {
   "cell_type": "markdown",
   "metadata": {},
   "source": [
    "$$\n",
    "f(x) \\approx P_2(x)=a_0+a_1x+a_2x^2.\n",
    "$$"
   ]
  },
  {
   "cell_type": "markdown",
   "metadata": {},
   "source": [
    "Using again Lagrange's interpolation formula we have"
   ]
  },
  {
   "cell_type": "markdown",
   "metadata": {},
   "source": [
    "$$\n",
    "P_2(x)=\\frac{(x-x_0)(x-x_1)}{(x_2-x_0)(x_2-x_1)}y_2+\n",
    "            \\frac{(x-x_0)(x-x_2)}{(x_1-x_0)(x_1-x_2)}y_1+\n",
    "            \\frac{(x-x_1)(x-x_2)}{(x_0-x_1)(x_0-x_2)}y_0.\n",
    "$$"
   ]
  },
  {
   "cell_type": "markdown",
   "metadata": {},
   "source": [
    "Inserting this formula in the integral of Eq.  ([18](#eq:hhint)) we obtain"
   ]
  },
  {
   "cell_type": "markdown",
   "metadata": {},
   "source": [
    "$$\n",
    "\\int_{-h}^{+h}f(x)dx=\\frac{h}{3}\\left(f_h + 4f_0 + f_{-h}\\right)+O(h^5),\n",
    "$$"
   ]
  },
  {
   "cell_type": "markdown",
   "metadata": {},
   "source": [
    "which is Simpson's rule. \n",
    "\n",
    "\n",
    "\n",
    "## Simpson's rule\n",
    "Note that the improved accuracy in the evaluation of\n",
    "the derivatives gives a better error approximation, $O(h^5)$ vs.\\ $O(h^3)$ .\n",
    "But this is again the *local error approximation*. \n",
    "Using Simpson's rule we can easily compute\n",
    "the integral     of Eq.  ([17](#eq:integraldef)) to be"
   ]
  },
  {
   "cell_type": "markdown",
   "metadata": {},
   "source": [
    "<!-- Equation labels as ordinary links -->\n",
    "<div id=\"eq:simpson\"></div>\n",
    "\n",
    "$$\n",
    "\\begin{equation}\n",
    "   I=\\int_a^bf(x) dx=\\frac{h}{3}\\left(f(a) + 4f(a+h) +2f(a+2h)+\n",
    "                          \\dots +4f(b-h)+ f_{b}\\right),\n",
    "\\label{eq:simpson} \\tag{22}\n",
    "\\end{equation}\n",
    "$$"
   ]
  },
  {
   "cell_type": "markdown",
   "metadata": {},
   "source": [
    "with a global error which goes like $O(h^4)$. \n",
    "\n",
    "\n",
    "\n",
    "## Mathematical expressions for the truncation error\n",
    "More formal expressions for the local and global errors are for the local error"
   ]
  },
  {
   "cell_type": "markdown",
   "metadata": {},
   "source": [
    "$$\n",
    "\\int_a^bf(x)dx -\\frac{b-a}{6}\\left[f(a)+4f((a+b)/2)+f(b)\\right]=-\\frac{h^5}{90}f^{(4)}(\\xi),\n",
    "$$"
   ]
  },
  {
   "cell_type": "markdown",
   "metadata": {},
   "source": [
    "and for the global error"
   ]
  },
  {
   "cell_type": "markdown",
   "metadata": {},
   "source": [
    "$$\n",
    "\\int_a^bf(x)dx -S_h(f)=-\\frac{b-a}{180}h^4f^{(4)}(\\xi).\n",
    "$$"
   ]
  },
  {
   "cell_type": "markdown",
   "metadata": {},
   "source": [
    "with $\\xi\\in[a,b]$ and $S_h$ the results obtained with Simpson's method.\n",
    "\n",
    "\n",
    "\n",
    "## Algorithm for Simpson's rule\n",
    "The method \n",
    "can easily be implemented numerically through the following simple algorithm\n",
    "\n",
    "  * Choose the number of mesh points and fix the step.\n",
    "\n",
    "  * calculate $f(a)$ and $f(b)$\n",
    "\n",
    "  * Perform a loop over $n=1$ to $n-1$ ($f(a)$ and $f(b)$ are known) and sum up   the terms $4f(a+h) +2f(a+2h)+4f(a+3h)+\\dots +4f(b-h)$. Each step in the loop  corresponds to a given value $a+nh$. Odd values of $n$ give $4$ as factor  while even values yield $2$ as factor.\n",
    "\n",
    "  * Multiply the final result by $\\frac{h}{3}$.\n",
    "\n",
    "## Code example"
   ]
  },
  {
   "cell_type": "code",
   "execution_count": 7,
   "metadata": {
    "collapsed": false
   },
   "outputs": [],
   "source": [
    "from math import sin, pi\n",
    "import numpy as np\n",
    "from sympy import Symbol, integrate\n",
    "# function for the trapezoidal rule                                                                                        \n",
    "def Simpson(a,b,f,n):\n",
    "   h = (b-a)/float(n)\n",
    "   sum = f(a)/float(2);\n",
    "   for i in range(1,n):\n",
    "       sum = sum + f(a+i*h)*(3+(-1)**(i+1))\n",
    "   sum = sum + f(b)/float(2)\n",
    "   return sum*h/3.0\n",
    "# function to integrate                                                                                                    \n",
    "def function(x):\n",
    "    return sin(2*pi*x)\n",
    "# define integration limits and integration points                                                                         \n",
    "a = 0.0; b = 0.5;\n",
    "n = 100\n",
    "Exact = 1./pi\n",
    "print(\"Relative error= \", abs( (Simpson(a,b,function,n)-Exact)/Exact))"
   ]
  },
  {
   "cell_type": "markdown",
   "metadata": {},
   "source": [
    "We see that Simpson's rule gives a much better estimation of the relative error with the same amount of points as we had for the Rectangle rule and the Trapezoidal rule."
   ]
  }
 ],
 "metadata": {},
 "nbformat": 4,
 "nbformat_minor": 4
}
