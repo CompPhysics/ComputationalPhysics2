{
 "cells": [
  {
   "cell_type": "markdown",
   "metadata": {},
   "source": [
    "# Optimization and Vectorization\n",
    "\n",
    "\n",
    "## Optimization and profiling\n",
    "\n",
    "\n",
    "Till now we have not paid much attention to speed and possible optimization possibilities\n",
    "inherent in the various compilers. We have compiled and linked as"
   ]
  },
  {
   "cell_type": "markdown",
   "metadata": {},
   "source": [
    "        c++  -c  mycode.cpp\n",
    "        c++  -o  mycode.exe  mycode.o\n"
   ]
  },
  {
   "cell_type": "markdown",
   "metadata": {},
   "source": [
    "For Fortran replace with for example **gfortran** or **ifort**.\n",
    "This is what we call a flat compiler option and should be used when we develop the code.\n",
    "It produces normally a very large and slow code when translated to machine instructions.\n",
    "We use this option for debugging and for establishing the correct program output because\n",
    "every operation is done precisely as the user specified it.\n",
    "\n",
    "It is instructive to look up the compiler manual for further instructions by writing"
   ]
  },
  {
   "cell_type": "markdown",
   "metadata": {},
   "source": [
    "        man c++\n"
   ]
  },
  {
   "cell_type": "markdown",
   "metadata": {},
   "source": [
    "## More on optimization\n",
    "We have additional compiler options for optimization. These may include procedure inlining where \n",
    "performance may be improved, moving constants inside loops outside the loop, \n",
    "identify potential parallelism, include automatic vectorization or replace a division with a reciprocal\n",
    "and a multiplication if this speeds up the code."
   ]
  },
  {
   "cell_type": "markdown",
   "metadata": {},
   "source": [
    "        c++  -O3 -c  mycode.cpp\n",
    "        c++  -O3 -o  mycode.exe  mycode.o\n"
   ]
  },
  {
   "cell_type": "markdown",
   "metadata": {},
   "source": [
    "This (other options are -O2 or -Ofast) is the recommended option.\n",
    "\n",
    "\n",
    "\n",
    "## Optimization and profiling\n",
    "It is also useful to profile your program under the development stage.\n",
    "You would then compile with"
   ]
  },
  {
   "cell_type": "markdown",
   "metadata": {},
   "source": [
    "        c++  -pg -O3 -c  mycode.cpp\n",
    "        c++  -pg -O3 -o  mycode.exe  mycode.o\n"
   ]
  },
  {
   "cell_type": "markdown",
   "metadata": {},
   "source": [
    "After you have run the code you can obtain the profiling information via"
   ]
  },
  {
   "cell_type": "markdown",
   "metadata": {},
   "source": [
    "        gprof mycode.exe >  ProfileOutput\n"
   ]
  },
  {
   "cell_type": "markdown",
   "metadata": {},
   "source": [
    "When you have profiled properly your code, you must take out this option as it \n",
    "slows down performance.\n",
    "For memory tests use [valgrind](http://www.valgrind.org). An excellent environment for all these aspects, and much  more, is  Qt creator.\n",
    "\n",
    "\n",
    "\n",
    "\n",
    "## Optimization and debugging\n",
    "Adding debugging options is a very useful alternative under the development stage of a program.\n",
    "You would then compile with"
   ]
  },
  {
   "cell_type": "markdown",
   "metadata": {},
   "source": [
    "        c++  -g -O0 -c  mycode.cpp\n",
    "        c++  -g -O0 -o  mycode.exe  mycode.o\n"
   ]
  },
  {
   "cell_type": "markdown",
   "metadata": {},
   "source": [
    "This option generates debugging information allowing you to trace for example if an array is properly allocated. Some compilers work best with the no optimization option **-O0**.\n",
    "\n",
    "\n",
    "**Other optimization flags.**\n",
    "\n",
    "Depending on the compiler, one can add flags which generate code that catches integer overflow errors. \n",
    "The flag **-ftrapv** does this for the CLANG compiler on OS X operating systems.\n",
    "\n",
    "\n",
    "\n",
    "\n",
    "\n",
    "\n",
    "## Other hints\n",
    "In general, irrespective of compiler options, it is useful to\n",
    "* avoid if tests or call to functions inside loops, if possible. \n",
    "\n",
    "* avoid multiplication with constants inside loops if possible\n",
    "\n",
    "Here is an example of a part of a program where specific operations lead to a slower code"
   ]
  },
  {
   "cell_type": "markdown",
   "metadata": {},
   "source": [
    "        k = n-1;\n",
    "        for (i = 0; i < n; i++){\n",
    "            a[i] = b[i] +c*d;\n",
    "            e = g[k];\n",
    "        }\n"
   ]
  },
  {
   "cell_type": "markdown",
   "metadata": {},
   "source": [
    "A better code is"
   ]
  },
  {
   "cell_type": "markdown",
   "metadata": {},
   "source": [
    "        temp = c*d;\n",
    "        for (i = 0; i < n; i++){\n",
    "            a[i] = b[i] + temp;\n",
    "        }\n",
    "        e = g[n-1];\n"
   ]
  },
  {
   "cell_type": "markdown",
   "metadata": {},
   "source": [
    "Here we avoid a repeated multiplication inside a loop. \n",
    "Most compilers, depending on compiler flags, identify and optimize such bottlenecks on their own, without requiring any particular action by the programmer. However, it is always useful to single out and avoid code examples like the first one discussed here.\n",
    "\n",
    "\n",
    "\n",
    "\n",
    "## Vectorization and the basic idea behind parallel computing\n",
    "Present CPUs are highly parallel processors with varying levels of parallelism. The typical situation can be described via the following three statements.\n",
    "* Pursuit of shorter computation time and larger simulation size gives rise to parallel computing.\n",
    "\n",
    "* Multiple processors are involved to solve a global problem.\n",
    "\n",
    "* The essence is to divide the entire computation evenly among collaborative processors.  Divide and conquer.\n",
    "\n",
    "Before we proceed with a more detailed discussion of topics like vectorization and parallelization, we need to remind ourselves about some basic features of different hardware models.\n",
    "\n",
    "\n",
    "\n",
    "\n",
    "## A rough classification of hardware models\n",
    "\n",
    "* Conventional single-processor computers are named SISD (single-instruction-single-data) machines.\n",
    "\n",
    "* SIMD (single-instruction-multiple-data) machines incorporate the idea of parallel processing, using a large number of processing units to execute the same instruction on different data.\n",
    "\n",
    "* Modern parallel computers are so-called MIMD (multiple-instruction-multiple-data) machines and can execute different instruction streams in parallel on different data.\n",
    "\n",
    "\n",
    "\n",
    "## Shared memory and distributed memory\n",
    "One way of categorizing modern parallel computers is to look at the memory configuration.\n",
    "* In shared memory systems the CPUs share the same address space. Any CPU can access any data in the global memory.\n",
    "\n",
    "* In distributed memory systems each CPU has its own memory.\n",
    "\n",
    "The CPUs are connected by some network and may exchange messages.\n",
    "\n",
    "\n",
    "\n",
    "\n",
    "## Different parallel programming paradigms\n",
    "\n",
    "* **Task parallelism**:  the work of a global problem can be divided into a number of independent tasks, which rarely need to synchronize.  Monte Carlo simulations represent a typical situation. Integration is another. However this paradigm is of limited use.\n",
    "\n",
    "* **Data parallelism**:  use of multiple threads (e.g. one or more threads per processor) to dissect loops over arrays etc.  Communication and synchronization between processors are often hidden, thus easy to program. However, the user surrenders much control to a specialized compiler. Examples of data parallelism are compiler-based parallelization and OpenMP directives.\n",
    "\n",
    "\n",
    "\n",
    "## Different parallel programming paradigms\n",
    "\n",
    "* **Message passing**:  all involved processors have an independent memory address space. The user is responsible for  partitioning the data/work of a global problem and distributing the  subproblems to the processors. Collaboration between processors is achieved by explicit message passing, which is used for data transfer plus synchronization.\n",
    "\n",
    "* This paradigm is the most general one where the user has full control. Better parallel efficiency is usually achieved by explicit message passing. However, message-passing programming is more difficult.\n",
    "\n",
    "\n",
    "\n",
    "\n",
    "\n",
    "## What is vectorization?\n",
    "Vectorization is a special\n",
    "case of **Single Instructions Multiple Data** (SIMD) to denote a single\n",
    "instruction stream capable of operating on multiple data elements in\n",
    "parallel. \n",
    "We can think of vectorization as the unrolling of loops accompanied with SIMD instructions.\n",
    "\n",
    "Vectorization is the process of converting an algorithm that performs scalar operations\n",
    "(typically one operation at the time) to vector operations where a single operation can refer to many simultaneous operations.\n",
    "Consider the following example"
   ]
  },
  {
   "cell_type": "markdown",
   "metadata": {},
   "source": [
    "        for (i = 0; i < n; i++){\n",
    "            a[i] = b[i] + c[i];\n",
    "        }\n"
   ]
  },
  {
   "cell_type": "markdown",
   "metadata": {},
   "source": [
    "If the code is not vectorized, the compiler will simply start with the first element and \n",
    "then perform subsequent additions operating on one address in memory at the time. \n",
    "\n",
    "\n",
    "## Number of elements that can acted upon\n",
    "A SIMD instruction can operate  on multiple data elements in one single instruction.\n",
    "It uses the so-called 128-bit SIMD floating-point register. \n",
    "In this sense, vectorization adds some form of parallelism since one instruction is applied  \n",
    "to many parts of say a vector.\n",
    "\n",
    "The number of elements which can be operated on in parallel\n",
    "range from four single-precision floating point data elements in so-called \n",
    "Streaming SIMD Extensions and two double-precision floating-point data\n",
    "elements in Streaming SIMD Extensions 2 to sixteen byte operations in\n",
    "a 128-bit register in Streaming SIMD Extensions 2. Thus, vector-length\n",
    "ranges from 2 to 16, depending on the instruction extensions used and\n",
    "on the data type. \n",
    "\n",
    "IN summary, our instructions  operate on 128 bit (16 byte) operands\n",
    "* 4 floats or ints\n",
    "\n",
    "* 2 doubles\n",
    "\n",
    "* Data paths 128 bits vide for vector unit\n",
    "\n",
    "## Number of elements that can acted upon, examples\n",
    "We start with the simple scalar operations given by"
   ]
  },
  {
   "cell_type": "markdown",
   "metadata": {},
   "source": [
    "        for (i = 0; i < n; i++){\n",
    "            a[i] = b[i] + c[i];\n",
    "        }\n"
   ]
  },
  {
   "cell_type": "markdown",
   "metadata": {},
   "source": [
    "If the code is not vectorized  and we have a 128-bit register to store a 32 bits floating point number,\n",
    "it means that we have $3\\times 32$ bits that are not used. For the first element we have\n",
    "\n",
    "\n",
    "<table border=\"1\">\n",
    "<thead>\n",
    "<tr><th align=\"center\">  0  </th> <th align=\"center\">   1    </th> <th align=\"center\">   2    </th> <th align=\"center\">   3    </th> </tr>\n",
    "</thead>\n",
    "<tbody>\n",
    "<tr><td align=\"center\">   a[0]=    </td> <td align=\"center\">   not used    </td> <td align=\"center\">   not used    </td> <td align=\"center\">   not used    </td> </tr>\n",
    "<tr><td align=\"center\">   b[0]+    </td> <td align=\"center\">   not used    </td> <td align=\"center\">   not used    </td> <td align=\"center\">   not used    </td> </tr>\n",
    "<tr><td align=\"center\">   c[0]     </td> <td align=\"center\">   not used    </td> <td align=\"center\">   not used    </td> <td align=\"center\">   not used    </td> </tr>\n",
    "</tbody>\n",
    "</table>\n",
    "We have thus unused space in our SIMD registers. These registers could hold three additional integers.\n",
    "\n",
    "\n",
    "\n",
    "## Operation counts for scalar operation\n",
    "The code"
   ]
  },
  {
   "cell_type": "markdown",
   "metadata": {},
   "source": [
    "        for (i = 0; i < n; i++){\n",
    "            a[i] = b[i] + c[i];\n",
    "        }\n"
   ]
  },
  {
   "cell_type": "markdown",
   "metadata": {},
   "source": [
    "has for $n$ repeats\n",
    "1. one load for $c[i]$ in address 1\n",
    "\n",
    "2. one load for $b[i]$ in address 2\n",
    "\n",
    "3. add $c[i]$ and $b[i]$ to give $a[i]$\n",
    "\n",
    "4. store $a[i]$ in address 2\n",
    "\n",
    "## Number of elements that can acted upon, examples\n",
    "If we vectorize the code, we can perform, with a 128-bit register four simultaneous operations, that is\n",
    "we have"
   ]
  },
  {
   "cell_type": "markdown",
   "metadata": {},
   "source": [
    "        for (i = 0; i < n; i+=4){\n",
    "            a[i] = b[i] + c[i];\n",
    "            a[i+1] = b[i+1] + c[i+1];\n",
    "            a[i+2] = b[i+2] + c[i+2];\n",
    "            a[i+3] = b[i+3] + c[i+3];\n",
    "        }\n"
   ]
  },
  {
   "cell_type": "markdown",
   "metadata": {},
   "source": [
    "displayed here as\n",
    "\n",
    "<table border=\"1\">\n",
    "<thead>\n",
    "<tr><th align=\"center\">  0  </th> <th align=\"center\">  1  </th> <th align=\"center\">  2  </th> <th align=\"center\">  3  </th> </tr>\n",
    "</thead>\n",
    "<tbody>\n",
    "<tr><td align=\"center\">   a[0]=    </td> <td align=\"center\">   a[1]=    </td> <td align=\"center\">   a[2]=    </td> <td align=\"center\">   a[3]=    </td> </tr>\n",
    "<tr><td align=\"center\">   b[0]+    </td> <td align=\"center\">   b[1]+    </td> <td align=\"center\">   b[2]+    </td> <td align=\"center\">   b[3]+    </td> </tr>\n",
    "<tr><td align=\"center\">   c[0]     </td> <td align=\"center\">   c[1]     </td> <td align=\"center\">   c[2]     </td> <td align=\"center\">   c[3]     </td> </tr>\n",
    "</tbody>\n",
    "</table>\n",
    "Four additions are now done in a single step.\n",
    "\n",
    "\n",
    "## Number of operations when vectorized\n",
    "For $n/4$ repeats assuming floats or integers\n",
    "1. one vector load for $c[i]$ in address 1\n",
    "\n",
    "2. one load for $b[i]$ in address 2\n",
    "\n",
    "3. add $c[i]$ and $b[i]$ to give $a[i]$\n",
    "\n",
    "4. store $a[i]$ in address 2\n",
    "\n",
    "## [A simple test case with and without vectorization](https://github.com/CompPhysics/ComputationalPhysicsMSU/blob/master/doc/Programs/LecturePrograms/programs/Classes/cpp/program7.cpp)\n",
    "We implement these operations in a simple c++ program that computes at the end the norm of a vector."
   ]
  },
  {
   "cell_type": "markdown",
   "metadata": {},
   "source": [
    "        #include <cstdlib>\n",
    "        #include <iostream>\n",
    "        #include <cmath>\n",
    "        #include <iomanip>\n",
    "        #include \"time.h\"\n",
    "        \n",
    "        using namespace std; // note use of namespace\n",
    "        int main (int argc, char* argv[])\n",
    "        {\n",
    "          // read in dimension of square matrix\n",
    "          int n = atoi(argv[1]);\n",
    "          double s = 1.0/sqrt( (double) n);\n",
    "          double *a, *b, *c;\n",
    "          // Start timing\n",
    "          clock_t start, finish;\n",
    "          start = clock();\n",
    "        // Allocate space for the vectors to be used\n",
    "            a = new double [n]; b = new double [n]; c = new double [n];\n",
    "          // Define parallel region\n",
    "          // Set up values for vectors  a and b\n",
    "          for (int i = 0; i < n; i++){\n",
    "            double angle = 2.0*M_PI*i/ (( double ) n);\n",
    "            a[i] = s*(sin(angle) + cos(angle));\n",
    "            b[i] =  s*sin(2.0*angle);\n",
    "            c[i] = 0.0;\n",
    "          }\n",
    "          // Then perform the vector addition\n",
    "          for (int i = 0; i < n; i++){\n",
    "            c[i] += a[i]+b[i];\n",
    "          }\n",
    "          // Compute now the norm-2\n",
    "          double Norm2 = 0.0;\n",
    "          for (int i = 0; i < n; i++){\n",
    "            Norm2  += c[i]*c[i];\n",
    "          }\n",
    "          finish = clock();\n",
    "          double timeused = (double) (finish - start)/(CLOCKS_PER_SEC );\n",
    "          cout << setiosflags(ios::showpoint | ios::uppercase);\n",
    "          cout << setprecision(10) << setw(20) << \"Time used  for norm computation=\" << timeused  << endl;\n",
    "          cout << \"  Norm-2  = \" << Norm2 << endl;\n",
    "          // Free up space\n",
    "          delete[] a;\n",
    "          delete[] b;\n",
    "          delete[] c;\n",
    "          return 0;\n",
    "        }\n",
    "        \n",
    "        \n",
    "        \n",
    "        \n"
   ]
  },
  {
   "cell_type": "markdown",
   "metadata": {},
   "source": [
    "## Compiling with and without vectorization\n",
    "We can compile and link without vectorization using the clang c++ compiler"
   ]
  },
  {
   "cell_type": "markdown",
   "metadata": {},
   "source": [
    "        clang -o novec.x vecexample.cpp\n"
   ]
  },
  {
   "cell_type": "markdown",
   "metadata": {},
   "source": [
    "and with vectorization (and additional optimizations)"
   ]
  },
  {
   "cell_type": "markdown",
   "metadata": {},
   "source": [
    "        clang++ -O3 -Rpass=loop-vectorize -o  vec.x vecexample.cpp \n"
   ]
  },
  {
   "cell_type": "markdown",
   "metadata": {},
   "source": [
    "The speedup depends on the size of the vectors. In the example here we have run with $10^7$ elements.\n",
    "The example here was run on an IMac17.1 with OSX El Capitan (10.11.4) as operating system and an Intel i5 3.3 GHz CPU."
   ]
  },
  {
   "cell_type": "markdown",
   "metadata": {},
   "source": [
    "        Compphys:~ hjensen$ ./vec.x 10000000\n",
    "        Time used  for norm computation=0.04720500000\n",
    "        Compphys:~ hjensen$ ./novec.x 10000000\n",
    "        Time used  for norm computation=0.03311700000\n"
   ]
  },
  {
   "cell_type": "markdown",
   "metadata": {},
   "source": [
    "This particular C++ compiler speeds up the above loop operations with a factor of 1.5 \n",
    "Performing the same operations for $10^9$ elements results in a smaller speedup since reading from main memory is required. The non-vectorized code is seemingly faster."
   ]
  },
  {
   "cell_type": "markdown",
   "metadata": {},
   "source": [
    "        Compphys:~ hjensen$ ./vec.x 1000000000\n",
    "        Time used  for norm computation=58.41391100\n",
    "        Compphys:~ hjensen$ ./novec.x 1000000000\n",
    "        Time used  for norm computation=46.51295300\n"
   ]
  },
  {
   "cell_type": "markdown",
   "metadata": {},
   "source": [
    "We will discuss these issues further in the next slides.  \n",
    "\n",
    "\n",
    "\n",
    "## Compiling with and without vectorization using clang\n",
    "We can compile and link without vectorization with clang compiler"
   ]
  },
  {
   "cell_type": "markdown",
   "metadata": {},
   "source": [
    "        clang++ -o -fno-vectorize novec.x vecexample.cpp\n"
   ]
  },
  {
   "cell_type": "markdown",
   "metadata": {},
   "source": [
    "and with vectorization"
   ]
  },
  {
   "cell_type": "markdown",
   "metadata": {},
   "source": [
    "        clang++ -O3 -Rpass=loop-vectorize -o  vec.x vecexample.cpp \n"
   ]
  },
  {
   "cell_type": "markdown",
   "metadata": {},
   "source": [
    "We can also add vectorization analysis, see for example"
   ]
  },
  {
   "cell_type": "markdown",
   "metadata": {},
   "source": [
    "        clang++ -O3 -Rpass-analysis=loop-vectorize -o  vec.x vecexample.cpp \n"
   ]
  },
  {
   "cell_type": "markdown",
   "metadata": {},
   "source": [
    "or figure out if vectorization was missed"
   ]
  },
  {
   "cell_type": "markdown",
   "metadata": {},
   "source": [
    "        clang++ -O3 -Rpass-missed=loop-vectorize -o  vec.x vecexample.cpp \n"
   ]
  },
  {
   "cell_type": "markdown",
   "metadata": {},
   "source": [
    "## Automatic vectorization and vectorization inhibitors, criteria\n",
    "\n",
    "Not all loops can be vectorized, as discussed in [Intel's guide to vectorization](https://software.intel.com/en-us/articles/a-guide-to-auto-vectorization-with-intel-c-compilers)\n",
    "\n",
    "An important criteria is that the loop counter $n$ is known at the entry of the loop."
   ]
  },
  {
   "cell_type": "markdown",
   "metadata": {},
   "source": [
    "          for (int j = 0; j < n; j++) {\n",
    "            a[j] = cos(j*1.0);\n",
    "          }\n"
   ]
  },
  {
   "cell_type": "markdown",
   "metadata": {},
   "source": [
    "The variable $n$ does need to be known at compile time. However, this variable must stay the same for the entire duration of the loop. It implies that an exit statement inside the loop cannot be data dependent.\n",
    "\n",
    "\n",
    "## Automatic vectorization and vectorization inhibitors, exit criteria\n",
    "\n",
    "An exit statement should in general be avoided. \n",
    "If the exit statement contains data-dependent conditions, the loop cannot be vectorized. \n",
    "The following is an example of a non-vectorizable loop"
   ]
  },
  {
   "cell_type": "markdown",
   "metadata": {},
   "source": [
    "          for (int j = 0; j < n; j++) {\n",
    "            a[j] = cos(j*1.0);\n",
    "            if (a[j] < 0 ) break;\n",
    "          }\n"
   ]
  },
  {
   "cell_type": "markdown",
   "metadata": {},
   "source": [
    "Avoid loop termination conditions and opt for a single entry loop variable $n$. The lower and upper bounds have to be kept fixed within the loop. \n",
    "\n",
    "\n",
    "## Automatic vectorization and vectorization inhibitors, straight-line code\n",
    "\n",
    "SIMD instructions perform the same type of operations multiple times. \n",
    "A **switch** statement leads thus to a non-vectorizable loop since different statemens cannot branch.\n",
    "The following code can however be vectorized since the **if** statement is implemented as a masked assignment."
   ]
  },
  {
   "cell_type": "markdown",
   "metadata": {},
   "source": [
    "          for (int j = 0; j < n; j++) {\n",
    "            double x  = cos(j*1.0);\n",
    "            if (x > 0 ) {\n",
    "               a[j] =  x*sin(j*2.0); \n",
    "            }\n",
    "            else {\n",
    "               a[j] = 0.0;\n",
    "            }\n",
    "          }\n"
   ]
  },
  {
   "cell_type": "markdown",
   "metadata": {},
   "source": [
    "These operations can be performed for all data elements but only those elements which the mask evaluates as true are stored. In general, one should avoid branches such as **switch**, **go to**, or **return** statements or **if** constructs that cannot be treated as masked assignments. \n",
    "\n",
    "\n",
    "\n",
    "## Automatic vectorization and vectorization inhibitors, nested loops\n",
    "\n",
    "Only the innermost loop of the following example is vectorized"
   ]
  },
  {
   "cell_type": "markdown",
   "metadata": {},
   "source": [
    "          for (int i = 0; i < n; i++) {\n",
    "              for (int j = 0; j < n; j++) {\n",
    "                   a[i][j] += b[i][j];\n",
    "              }  \n",
    "          }\n"
   ]
  },
  {
   "cell_type": "markdown",
   "metadata": {},
   "source": [
    "The exception is if an original outer loop is transformed into an inner loop as the result of compiler optimizations.\n",
    "\n",
    "\n",
    "\n",
    "## Automatic vectorization and vectorization inhibitors, function calls\n",
    "\n",
    "Calls to programmer defined functions ruin vectorization. However, calls to intrinsic functions like\n",
    "$\\sin{x}$, $\\cos{x}$, $\\exp{x}$ etc are allowed since they are normally efficiently vectorized. \n",
    "The following example is fully vectorizable"
   ]
  },
  {
   "cell_type": "markdown",
   "metadata": {},
   "source": [
    "          for (int i = 0; i < n; i++) {\n",
    "              a[i] = log10(i)*cos(i);\n",
    "          }\n"
   ]
  },
  {
   "cell_type": "markdown",
   "metadata": {},
   "source": [
    "Similarly, **inline** functions defined by the programmer, allow for vectorization since the function statements are glued into the actual place where the function is called. \n",
    "\n",
    "\n",
    "\n",
    "## Automatic vectorization and vectorization inhibitors, data dependencies\n",
    "\n",
    "One has to keep in mind that vectorization changes the order of operations inside a loop. A so-called\n",
    "read-after-write statement with an explicit flow dependency cannot be vectorized. The following code"
   ]
  },
  {
   "cell_type": "markdown",
   "metadata": {},
   "source": [
    "          double b = 15.;\n",
    "          for (int i = 1; i < n; i++) {\n",
    "              a[i] = a[i-1] + b;\n",
    "          }\n"
   ]
  },
  {
   "cell_type": "markdown",
   "metadata": {},
   "source": [
    "is an example of flow dependency and results in wrong numerical results if vectorized. For a scalar operation, the value $a[i-1]$ computed during the iteration is loaded into the right-hand side and the results are fine. In vector mode however, with a vector length of four, the values $a[0]$, $a[1]$, $a[2]$ and $a[3]$ from the previous loop will be loaded into the right-hand side and produce wrong results. That is, we have"
   ]
  },
  {
   "cell_type": "markdown",
   "metadata": {},
   "source": [
    "           a[1] = a[0] + b;\n",
    "           a[2] = a[1] + b;\n",
    "           a[3] = a[2] + b;\n",
    "           a[4] = a[3] + b;\n"
   ]
  },
  {
   "cell_type": "markdown",
   "metadata": {},
   "source": [
    "and if the two first iterations are  executed at the same by the SIMD instruction, the value of say $a[1]$ could be used by the second iteration before it has been calculated by the first iteration, leading thereby to wrong results.\n",
    "\n",
    "\n",
    "## Automatic vectorization and vectorization inhibitors, more data dependencies\n",
    "\n",
    "On the other hand,  a so-called \n",
    "write-after-read statement can be vectorized. The following code"
   ]
  },
  {
   "cell_type": "markdown",
   "metadata": {},
   "source": [
    "          double b = 15.;\n",
    "          for (int i = 1; i < n; i++) {\n",
    "              a[i-1] = a[i] + b;\n",
    "          }\n"
   ]
  },
  {
   "cell_type": "markdown",
   "metadata": {},
   "source": [
    "is an example of flow dependency that can be vectorized since no iteration with a higher value of $i$\n",
    "can complete before an iteration with a lower value of $i$. However, such code leads to problems with parallelization.\n",
    "\n",
    "\n",
    "\n",
    "## Automatic vectorization and vectorization inhibitors, memory stride\n",
    "\n",
    "\n",
    "For C++ programmers  it is also worth keeping in mind that an array notation is preferred to the more compact use of pointers to access array elements. The compiler can often not tell if it is safe to vectorize the code. \n",
    "\n",
    "When dealing with arrays, you should also avoid memory stride, since this slows down considerably vectorization. When you access array element, write for example the inner loop to vectorize using unit stride, that is, access successively the next array element in memory, as shown here"
   ]
  },
  {
   "cell_type": "markdown",
   "metadata": {},
   "source": [
    "          for (int i = 0; i < n; i++) {\n",
    "              for (int j = 0; j < n; j++) {\n",
    "                   a[i][j] += b[i][j];\n",
    "              }  \n",
    "          }\n"
   ]
  },
  {
   "cell_type": "markdown",
   "metadata": {},
   "source": [
    "## Memory management\n",
    "The main memory contains the program data\n",
    "1. Cache memory contains a copy of the main memory data\n",
    "\n",
    "2. Cache is faster but consumes more space and power. It is normally assumed to be much faster than main memory\n",
    "\n",
    "3. Registers contain working data only\n",
    "\n",
    " * Modern CPUs perform most or all operations only on data in register\n",
    "\n",
    "\n",
    "4. Multiple Cache memories contain a copy of the main memory data\n",
    "\n",
    " * Cache items accessed by their address in main memory\n",
    "\n",
    " * L1 cache is the fastest but has the least capacity\n",
    "\n",
    " * L2, L3 provide intermediate performance/size tradeoffs\n",
    "\n",
    "\n",
    "Loads and stores to memory can be as important as floating point operations when we measure performance.\n",
    "\n",
    "\n",
    "\n",
    "## Memory and communication\n",
    "\n",
    "\n",
    "1. Most communication in a computer is carried out in chunks, blocks of bytes of data that move together\n",
    "\n",
    "2. In the memory hierarchy, data moves between memory and cache, and between different levels of cache, in groups called lines\n",
    "\n",
    " * Lines are typically 64-128 bytes, or 8-16 double precision words\n",
    "\n",
    " * Even if you do not use the data, it is moved and occupies space in the cache\n",
    "\n",
    "\n",
    "Many of these  performance features are not captured in most programming languages.\n",
    "\n",
    "\n",
    "\n",
    "## Measuring performance\n",
    "\n",
    "How do we measure performance? What is wrong with this code to time a loop?"
   ]
  },
  {
   "cell_type": "markdown",
   "metadata": {},
   "source": [
    "          clock_t start, finish;\n",
    "          start = clock();\n",
    "          for (int j = 0; j < i; j++) {\n",
    "            a[j] = b[j]+b[j]*c[j];\n",
    "          }\n",
    "          finish = clock();\n",
    "          double timeused = (double) (finish - start)/(CLOCKS_PER_SEC );\n"
   ]
  },
  {
   "cell_type": "markdown",
   "metadata": {},
   "source": [
    "## Problems with measuring time\n",
    "1. Timers are not infinitely accurate\n",
    "\n",
    "2. All clocks have a granularity, the minimum time that they can measure\n",
    "\n",
    "3. The error in a time measurement, even if everything is perfect, may be the size of this granularity (sometimes called a clock tick)\n",
    "\n",
    "4. Always know what your clock granularity is\n",
    "\n",
    "5. Ensure that your measurement is for a long enough duration (say 100 times the **tick**)\n",
    "\n",
    "## Problems with cold start\n",
    "\n",
    "What happens when the code is executed? The assumption is that the code is ready to\n",
    "execute. But\n",
    "1. Code may still be on disk, and not even read into memory.\n",
    "\n",
    "2. Data may be in slow memory rather than fast (which may be wrong or right for what you are measuring)\n",
    "\n",
    "3. Multiple tests often necessary to ensure that cold start effects are not present\n",
    "\n",
    "4. Special effort often required to ensure data in the intended part of the memory hierarchy.\n",
    "\n",
    "## Problems with smart compilers\n",
    "\n",
    "1. If the result of the computation is not used, the compiler may eliminate the code\n",
    "\n",
    "2. Performance will look impossibly fantastic\n",
    "\n",
    "3. Even worse, eliminate some of the code so the performance looks plausible\n",
    "\n",
    "4. Ensure that the results are (or may be) used.\n",
    "\n",
    "## Problems with interference\n",
    "1. Other activities are sharing your processor\n",
    "\n",
    "  * Operating system, system demons, other users\n",
    "\n",
    "  * Some parts of the hardware do not always perform with exactly the same performance\n",
    "\n",
    "\n",
    "2. Make multiple tests and report\n",
    "\n",
    "3. Easy choices include\n",
    "\n",
    "  * Average tests represent what users might observe over time\n",
    "\n",
    "\n",
    "## Problems with measuring performance\n",
    "1. Accurate, reproducible performance measurement is hard\n",
    "\n",
    "2. Think carefully about your experiment:\n",
    "\n",
    "3. What is it, precisely, that you want to measure?\n",
    "\n",
    "4. How representative is your test to the situation that you are trying to measure?\n",
    "\n",
    "## Thomas algorithm for tridiagonal linear algebra equations"
   ]
  },
  {
   "cell_type": "markdown",
   "metadata": {},
   "source": [
    "$$\n",
    "\\left( \\begin{array}{ccccc}\n",
    "        b_0 & c_0 &        &         &         \\\\\n",
    "\ta_0 &  b_1 &  c_1    &         &         \\\\\n",
    "\t   &    & \\ddots  &         &         \\\\\n",
    "\t      &\t    & a_{m-3} & b_{m-2} & c_{m-2} \\\\\n",
    "\t         &    &         & a_{m-2} & b_{m-1}\n",
    "   \\end{array} \\right)\n",
    "\\left( \\begin{array}{c}\n",
    "       x_0     \\\\\n",
    "       x_1     \\\\\n",
    "       \\vdots  \\\\\n",
    "       x_{m-2} \\\\\n",
    "       x_{m-1}\n",
    "   \\end{array} \\right)=\\left( \\begin{array}{c}\n",
    "       f_0     \\\\\n",
    "       f_1     \\\\\n",
    "       \\vdots  \\\\\n",
    "       f_{m-2} \\\\\n",
    "       f_{m-1} \\\\\n",
    "   \\end{array} \\right)\n",
    "$$"
   ]
  },
  {
   "cell_type": "markdown",
   "metadata": {},
   "source": [
    "## Thomas algorithm, forward substitution\n",
    "The first step is to multiply the first row by $a_0/b_0$ and subtract it from the second row.  This is known as the forward substitution step. We obtain then"
   ]
  },
  {
   "cell_type": "markdown",
   "metadata": {},
   "source": [
    "$$\n",
    "a_i = 0,\n",
    "$$"
   ]
  },
  {
   "cell_type": "markdown",
   "metadata": {},
   "source": [
    "$$\n",
    "b_i = b_i - \\frac{a_{i-1}}{b_{i-1}}c_{i-1},\n",
    "$$"
   ]
  },
  {
   "cell_type": "markdown",
   "metadata": {},
   "source": [
    "and"
   ]
  },
  {
   "cell_type": "markdown",
   "metadata": {},
   "source": [
    "$$\n",
    "f_i = f_i - \\frac{a_{i-1}}{b_{i-1}}f_{i-1}.\n",
    "$$"
   ]
  },
  {
   "cell_type": "markdown",
   "metadata": {},
   "source": [
    "At this point the simplified equation, with only an upper triangular matrix takes the form"
   ]
  },
  {
   "cell_type": "markdown",
   "metadata": {},
   "source": [
    "$$\n",
    "\\left( \\begin{array}{ccccc}\n",
    "    b_0 & c_0 &        &         &         \\\\\n",
    "       & b_1 &  c_1    &         &         \\\\\n",
    "          &    & \\ddots &         &         \\\\\n",
    "\t     &     &        & b_{m-2} & c_{m-2} \\\\\n",
    "\t        &    &        &         & b_{m-1}\n",
    "   \\end{array} \\right)\\left( \\begin{array}{c}\n",
    "       x_0     \\\\\n",
    "       x_1     \\\\\n",
    "       \\vdots  \\\\\n",
    "       x_{m-2} \\\\\n",
    "       x_{m-1}\n",
    "   \\end{array} \\right)=\\left( \\begin{array}{c}\n",
    "       f_0     \\\\\n",
    "       f_1     \\\\\n",
    "       \\vdots  \\\\\n",
    "       f_{m-2} \\\\\n",
    "       f_{m-1} \\\\\n",
    "   \\end{array} \\right)\n",
    "$$"
   ]
  },
  {
   "cell_type": "markdown",
   "metadata": {},
   "source": [
    "## Thomas algorithm, backward substitution\n",
    "The next step is  the backward substitution step.  The last row is multiplied by $c_{N-3}/b_{N-2}$ and subtracted from the second to last row, thus eliminating $c_{N-3}$ from the last row.  The general backward substitution procedure is"
   ]
  },
  {
   "cell_type": "markdown",
   "metadata": {},
   "source": [
    "$$\n",
    "c_i = 0,\n",
    "$$"
   ]
  },
  {
   "cell_type": "markdown",
   "metadata": {},
   "source": [
    "and"
   ]
  },
  {
   "cell_type": "markdown",
   "metadata": {},
   "source": [
    "$$\n",
    "f_{i-1} = f_{i-1} - \\frac{c_{i-1}}{b_i}f_i\n",
    "$$"
   ]
  },
  {
   "cell_type": "markdown",
   "metadata": {},
   "source": [
    "All that ramains to be computed is the solution, which is the very straight forward process of"
   ]
  },
  {
   "cell_type": "markdown",
   "metadata": {},
   "source": [
    "$$\n",
    "x_i = \\frac{f_i}{b_i}\n",
    "$$"
   ]
  },
  {
   "cell_type": "markdown",
   "metadata": {},
   "source": [
    "## Thomas algorithm and counting of operations (floating point and memory)\n",
    "\n",
    "\n",
    "<table border=\"1\">\n",
    "<thead>\n",
    "<tr><th align=\"center\">   Operation   </th> <th align=\"center\">Floating Point</th> </tr>\n",
    "</thead>\n",
    "<tbody>\n",
    "<tr><td align=\"center\">   Memory Reads       </td> <td align=\"center\">   $14(N-2)$         </td> </tr>\n",
    "<tr><td align=\"center\">   Memory Writes      </td> <td align=\"center\">   $4(N-2)$          </td> </tr>\n",
    "<tr><td align=\"center\">   Subtractions       </td> <td align=\"center\">   $3(N-2)$          </td> </tr>\n",
    "<tr><td align=\"center\">   Multiplications    </td> <td align=\"center\">   $3(N-2)$          </td> </tr>\n",
    "<tr><td align=\"center\">   Divisions          </td> <td align=\"center\">   $4(N-2)$          </td> </tr>\n",
    "</tbody>\n",
    "</table>"
   ]
  },
  {
   "cell_type": "markdown",
   "metadata": {},
   "source": [
    "        // Forward substitution    \n",
    "        // Note that we can simplify by precalculating a[i-1]/b[i-1]\n",
    "          for (int i=1; i < n; i++) {\n",
    "             b[i] = b[i] - (a[i-1]*c[i-1])/b[i-1];\n",
    "             f[i] = g[i] - (a[i-1]*f[i-1])/b[i-1];\n",
    "          }\n",
    "          x[n-1] = f[n-1] / b[n-1];\n",
    "          // Backwards substitution                                                           \n",
    "          for (int i = n-2; i >= 0; i--) {\n",
    "             f[i] = f[i] - c[i]*f[i+1]/b[i+1];\n",
    "             x[i] = f[i]/b[i];\n",
    "          }\n"
   ]
  },
  {
   "cell_type": "markdown",
   "metadata": {},
   "source": [
    "## [Example: Transpose of a matrix](https://github.com/CompPhysics/ComputationalPhysicsMSU/blob/master/doc/Programs/LecturePrograms/programs/Classes/cpp/program8.cpp)"
   ]
  },
  {
   "cell_type": "markdown",
   "metadata": {},
   "source": [
    "        #include <cstdlib>\n",
    "        #include <iostream>\n",
    "        #include <cmath>\n",
    "        #include <iomanip>\n",
    "        #include \"time.h\"\n",
    "        \n",
    "        using namespace std; // note use of namespace\n",
    "        int main (int argc, char* argv[])\n",
    "        {\n",
    "          // read in dimension of square matrix\n",
    "          int n = atoi(argv[1]);\n",
    "          double **A, **B;\n",
    "          // Allocate space for the two matrices\n",
    "          A = new double*[n]; B = new double*[n];\n",
    "          for (int i = 0; i < n; i++){\n",
    "            A[i] = new double[n];\n",
    "            B[i] = new double[n];\n",
    "          }\n",
    "          // Set up values for matrix A\n",
    "          for (int i = 0; i < n; i++){\n",
    "            for (int j = 0; j < n; j++) {\n",
    "              A[i][j] =  cos(i*1.0)*sin(j*3.0);\n",
    "            }\n",
    "          }\n",
    "          clock_t start, finish;\n",
    "          start = clock();\n",
    "          // Then compute the transpose\n",
    "          for (int i = 0; i < n; i++){\n",
    "            for (int j = 0; j < n; j++) {\n",
    "              B[i][j]= A[j][i];\n",
    "            }\n",
    "          }\n",
    "        \n",
    "          finish = clock();\n",
    "          double timeused = (double) (finish - start)/(CLOCKS_PER_SEC );\n",
    "          cout << setiosflags(ios::showpoint | ios::uppercase);\n",
    "          cout << setprecision(10) << setw(20) << \"Time used  for setting up transpose of matrix=\" << timeused  << endl;\n",
    "        \n",
    "          // Free up space\n",
    "          for (int i = 0; i < n; i++){\n",
    "            delete[] A[i];\n",
    "            delete[] B[i];\n",
    "          }\n",
    "          delete[] A;\n",
    "          delete[] B;\n",
    "          return 0;\n",
    "        }\n",
    "        \n"
   ]
  },
  {
   "cell_type": "markdown",
   "metadata": {},
   "source": [
    "## [Matrix-matrix multiplication](https://github.com/CompPhysics/ComputationalPhysicsMSU/blob/master/doc/Programs/LecturePrograms/programs/Classes/cpp/program9.cpp)\n",
    "This the matrix-matrix multiplication code with plain c++ memory allocation. It computes at the end the Frobenius norm."
   ]
  },
  {
   "cell_type": "markdown",
   "metadata": {},
   "source": [
    "        #include <cstdlib>\n",
    "        #include <iostream>\n",
    "        #include <cmath>\n",
    "        #include <iomanip>\n",
    "        #include \"time.h\"\n",
    "        \n",
    "        using namespace std; // note use of namespace\n",
    "        int main (int argc, char* argv[])\n",
    "        {\n",
    "          // read in dimension of square matrix\n",
    "          int n = atoi(argv[1]);\n",
    "          double s = 1.0/sqrt( (double) n);\n",
    "          double **A, **B, **C;\n",
    "          // Start timing\n",
    "          clock_t start, finish;\n",
    "          start = clock();\n",
    "          // Allocate space for the two matrices\n",
    "          A = new double*[n]; B = new double*[n]; C = new double*[n];\n",
    "          for (int i = 0; i < n; i++){\n",
    "            A[i] = new double[n];\n",
    "            B[i] = new double[n];\n",
    "            C[i] = new double[n];\n",
    "          }\n",
    "          // Set up values for matrix A and B and zero matrix C\n",
    "          for (int i = 0; i < n; i++){\n",
    "            for (int j = 0; j < n; j++) {\n",
    "              double angle = 2.0*M_PI*i*j/ (( double ) n);\n",
    "              A[i][j] = s * ( sin ( angle ) + cos ( angle ) );\n",
    "              B[j][i] =  A[i][j];\n",
    "            }\n",
    "          }\n",
    "          // Then perform the matrix-matrix multiplication\n",
    "          for (int i = 0; i < n; i++){\n",
    "            for (int j = 0; j < n; j++) {\n",
    "              double sum = 0.0;\n",
    "               for (int k = 0; k < n; k++) {\n",
    "                   sum += B[i][k]*A[k][j];\n",
    "               }\n",
    "               C[i][j] = sum;\n",
    "            }\n",
    "          }\n",
    "          // Compute now the Frobenius norm\n",
    "          double Fsum = 0.0;\n",
    "          for (int i = 0; i < n; i++){\n",
    "            for (int j = 0; j < n; j++) {\n",
    "              Fsum += C[i][j]*C[i][j];\n",
    "            }\n",
    "          }\n",
    "          Fsum = sqrt(Fsum);\n",
    "          finish = clock();\n",
    "          double timeused = (double) (finish - start)/(CLOCKS_PER_SEC );\n",
    "          cout << setiosflags(ios::showpoint | ios::uppercase);\n",
    "          cout << setprecision(10) << setw(20) << \"Time used  for matrix-matrix multiplication=\" << timeused  << endl;\n",
    "          cout << \"  Frobenius norm  = \" << Fsum << endl;\n",
    "          // Free up space\n",
    "          for (int i = 0; i < n; i++){\n",
    "            delete[] A[i];\n",
    "            delete[] B[i];\n",
    "            delete[] C[i];\n",
    "          }\n",
    "          delete[] A;\n",
    "          delete[] B;\n",
    "          delete[] C;\n",
    "          return 0;\n",
    "        }\n"
   ]
  },
  {
   "cell_type": "markdown",
   "metadata": {},
   "source": [
    "## How do we define speedup? Simplest form\n",
    "* Speedup measures the ratio of performance between two objects\n",
    "\n",
    "* Versions of same code, with different number of processors\n",
    "\n",
    "* Serial and vector versions\n",
    "\n",
    "* Try different programing languages, c++ and Fortran\n",
    "\n",
    "* Two algorithms computing the **same** result\n",
    "\n",
    "\n",
    "\n",
    "\n",
    "## How do we define speedup? Correct baseline\n",
    "The key is choosing the correct baseline for comparison\n",
    "* For our serial vs. vectorization examples, using compiler-provided vectorization, the baseline is simple; the same code, with vectorization turned off\n",
    "\n",
    " * For parallel applications, this is much harder:\n",
    "\n",
    "  * Choice of algorithm, decomposition, performance of baseline case etc.\n",
    "\n",
    "\n",
    "\n",
    "\n",
    "\n",
    "## Parallel  speedup\n",
    "For parallel applications, speedup  is typically defined as\n",
    "* Speedup $=T_1/T_p$\n",
    "\n",
    "Here  $T_1$ is the time on one processor and $T_p$ is the time using $p$ processors.\n",
    " * Can the speedup become larger than  $p$? That means using $p$ processors is more than $p$ times faster than using one processor.\n",
    "\n",
    "\n",
    "\n",
    "\n",
    "\n",
    "## Speedup and memory\n",
    "The speedup on $p$ processors can\n",
    "be greater than $p$ if memory usage is optimal!\n",
    "Consider the case of a memorybound computation with $M$ words of memory\n",
    " * If $M/p$ fits into cache while $M$ does not, the time to access memory will be different in the two cases:\n",
    "\n",
    " * $T_1$ uses the main memory bandwidth\n",
    "\n",
    " * $T_p$ uses the appropriate cache bandwidth\n",
    "\n",
    "\n",
    "\n",
    "\n",
    "\n",
    "## Upper bounds on speedup\n",
    "Assume that almost all parts of a code are perfectly\n",
    "parallelizable (fraction $f$). The remainder,\n",
    "fraction $(1-f)$ cannot be parallelized at all.\n",
    "\n",
    "That is, there is work that takes time $W$ on one process; a fraction $f$ of that work will take\n",
    "time $Wf/p$ on $p$ processors. \n",
    "* What is the maximum possible speedup as a function of $f$?\n",
    "\n",
    "\n",
    "\n",
    "\n",
    "\n",
    "## Amdahl's law\n",
    "On one processor we have"
   ]
  },
  {
   "cell_type": "markdown",
   "metadata": {},
   "source": [
    "$$\n",
    "T_1 = (1-f)W + fW = W\n",
    "$$"
   ]
  },
  {
   "cell_type": "markdown",
   "metadata": {},
   "source": [
    "On $p$ processors we have"
   ]
  },
  {
   "cell_type": "markdown",
   "metadata": {},
   "source": [
    "$$\n",
    "T_p = (1-f)W + \\frac{fW}{p},\n",
    "$$"
   ]
  },
  {
   "cell_type": "markdown",
   "metadata": {},
   "source": [
    "resulting in a speedup of"
   ]
  },
  {
   "cell_type": "markdown",
   "metadata": {},
   "source": [
    "$$\n",
    "\\frac{T_1}{T_p} = \\frac{W}{(1-f)W+fW/p}\n",
    "$$"
   ]
  },
  {
   "cell_type": "markdown",
   "metadata": {},
   "source": [
    "As $p$ goes to infinity, $fW/p$ goes to zero, and the maximum speedup is"
   ]
  },
  {
   "cell_type": "markdown",
   "metadata": {},
   "source": [
    "$$\n",
    "\\frac{1}{1-f},\n",
    "$$"
   ]
  },
  {
   "cell_type": "markdown",
   "metadata": {},
   "source": [
    "meaning that if \n",
    "if $f = 0.99$ (all but $1\\%$ parallelizable), the maximum speedup\n",
    "is $1/(1-.99)=100$!"
   ]
  }
 ],
 "metadata": {},
 "nbformat": 4,
 "nbformat_minor": 4
}