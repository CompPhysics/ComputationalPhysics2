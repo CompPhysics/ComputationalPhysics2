{
 "cells": [
  {
   "cell_type": "markdown",
   "metadata": {},
   "source": [
    "# Quantum Computing\n",
    "\n",
    "**text to come**"
   ]
  },
  {
   "cell_type": "markdown",
   "metadata": {},
   "source": [
    "<!-- Equation labels as ordinary links -->\n",
    "<div id=\"_auto1\"></div>\n",
    "\n",
    "$$\n",
    "\\begin{equation}\n",
    "   \\Psi(x,t)=\\Psi(x,t)_a+\\Psi(x,t)_b,\n",
    "\\label{_auto1} \\tag{1}\n",
    "\\end{equation}\n",
    "$$"
   ]
  },
  {
   "cell_type": "markdown",
   "metadata": {},
   "source": [
    "<!-- Equation labels as ordinary links -->\n",
    "<div id=\"_auto2\"></div>\n",
    "\n",
    "$$\n",
    "\\begin{equation}\n",
    "    |q\\rangle = \\alpha \\vert 0 \\rangle + \\beta |1\\rangle,\n",
    "\\label{_auto2} \\tag{2}\n",
    "\\end{equation}\n",
    "$$"
   ]
  },
  {
   "cell_type": "markdown",
   "metadata": {},
   "source": [
    "<!-- Equation labels as ordinary links -->\n",
    "<div id=\"_auto3\"></div>\n",
    "\n",
    "$$\n",
    "\\begin{equation}\n",
    "    |q\\rangle = \\frac{1}{\\sqrt{2}}(\\vert 0 \\rangle + |1\\rangle),\n",
    "\\label{_auto3} \\tag{3}\n",
    "\\end{equation}\n",
    "$$"
   ]
  },
  {
   "cell_type": "markdown",
   "metadata": {},
   "source": [
    "<!-- Equation labels as ordinary links -->\n",
    "<div id=\"eq:dataord\"></div>\n",
    "\n",
    "$$\n",
    "\\begin{equation}\n",
    "    |\\psi\\rangle = a_0|\\psi\\rangle_0+a_1|\\psi\\rangle_1+a_2|\\psi\\rangle_2+a_3|\\psi\\rangle_3+a_4|\\psi\\rangle_4+a_5|\\psi\\rangle_5+a_6|\\psi\\rangle_6+a_7|\\psi\\rangle_7,\n",
    "\\label{eq:dataord} \\tag{4}\n",
    "\\end{equation}\n",
    "$$"
   ]
  },
  {
   "cell_type": "markdown",
   "metadata": {},
   "source": [
    "<!-- Equation labels as ordinary links -->\n",
    "<div id=\"_auto4\"></div>\n",
    "\n",
    "$$\n",
    "\\begin{equation}\n",
    "    \\hat{H}\\vert 0 \\rangle=\n",
    "    \\frac{1}{\\sqrt{2}}(\\vert 0 \\rangle +|1\\rangle),\n",
    "\\label{_auto4} \\tag{5}\n",
    "\\end{equation}\n",
    "$$"
   ]
  },
  {
   "cell_type": "markdown",
   "metadata": {},
   "source": [
    "<!-- Equation labels as ordinary links -->\n",
    "<div id=\"_auto5\"></div>\n",
    "\n",
    "$$\n",
    "\\begin{equation}\n",
    "    \\hat{H}|1\\rangle=\n",
    "    \\frac{1}{\\sqrt{2}}(\\vert 0 \\rangle -|1\\rangle).\n",
    "\\label{_auto5} \\tag{6}\n",
    "\\end{equation}\n",
    "$$"
   ]
  },
  {
   "cell_type": "markdown",
   "metadata": {},
   "source": [
    "<!-- Equation labels as ordinary links -->\n",
    "<div id=\"_auto6\"></div>\n",
    "\n",
    "$$\n",
    "\\begin{equation}\n",
    "    \\hat{H}\\hat{H}\\vert 0 \\rangle=\n",
    "    \\hat{H}\\frac{1}{\\sqrt{2}}(\\vert 0 \\rangle +|1\\rangle)\n",
    "    =\\vert 0 \\rangle,\n",
    "\\label{_auto6} \\tag{7}\n",
    "\\end{equation}\n",
    "$$"
   ]
  },
  {
   "cell_type": "markdown",
   "metadata": {},
   "source": [
    "<!-- Equation labels as ordinary links -->\n",
    "<div id=\"_auto7\"></div>\n",
    "\n",
    "$$\n",
    "\\begin{equation}\n",
    "    \\hat{H}\\hat{H}|1\\rangle=\n",
    "    \\hat{H}\\frac{1}{\\sqrt{2}}(\\vert 0 \\rangle -|1\\rangle)\n",
    "    =|1\\rangle.\n",
    "\\label{_auto7} \\tag{8}\n",
    "\\end{equation}\n",
    "$$"
   ]
  },
  {
   "cell_type": "markdown",
   "metadata": {},
   "source": [
    "<!-- Equation labels as ordinary links -->\n",
    "<div id=\"_auto8\"></div>\n",
    "\n",
    "$$\n",
    "\\begin{equation}\n",
    "   \\vert 0 \\rangle=\\left(\\begin{array}{c} 1 \\\\ 0\\end{array}   \\right),\n",
    "\\label{_auto8} \\tag{9}\n",
    "\\end{equation}\n",
    "$$"
   ]
  },
  {
   "cell_type": "markdown",
   "metadata": {},
   "source": [
    "<!-- Equation labels as ordinary links -->\n",
    "<div id=\"_auto9\"></div>\n",
    "\n",
    "$$\n",
    "\\begin{equation}\n",
    "   |1\\rangle=\\left(\\begin{array}{c} 0 \\\\ 1\\end{array}   \\right),\n",
    "\\label{_auto9} \\tag{10}\n",
    "\\end{equation}\n",
    "$$"
   ]
  },
  {
   "cell_type": "markdown",
   "metadata": {},
   "source": [
    "og"
   ]
  },
  {
   "cell_type": "markdown",
   "metadata": {},
   "source": [
    "<!-- Equation labels as ordinary links -->\n",
    "<div id=\"_auto10\"></div>\n",
    "\n",
    "$$\n",
    "\\begin{equation}\n",
    "   \\hat{H}=\\frac{1}{\\sqrt{2}}\n",
    "   \\left(\\begin{array}{cc} 1 & 1 \\\\ 1& -1\\end{array}   \\right).\n",
    "\\label{_auto10} \\tag{11}\n",
    "\\end{equation}\n",
    "$$"
   ]
  },
  {
   "cell_type": "markdown",
   "metadata": {},
   "source": [
    "<!-- Equation labels as ordinary links -->\n",
    "<div id=\"_auto11\"></div>\n",
    "\n",
    "$$\n",
    "\\begin{equation}\n",
    "   \\hat{H}_{\\mathrm{NOT}}=   \n",
    "   \\left(\\begin{array}{cc} 0 & 1 \\\\ 1& 0\\end{array}   \\right).\n",
    "\\label{_auto11} \\tag{12}\n",
    "\\end{equation}\n",
    "$$"
   ]
  },
  {
   "cell_type": "markdown",
   "metadata": {},
   "source": [
    "<!-- Equation labels as ordinary links -->\n",
    "<div id=\"_auto12\"></div>\n",
    "\n",
    "$$\n",
    "\\begin{equation}\n",
    "   \\hat{H}_{\\mathrm{NOT}}\\vert 0 \\rangle=   \n",
    "   \\left(\\begin{array}{cc} 0 & 1 \\\\ 1& 0\\end{array}\\right)\n",
    "   \\left(\\begin{array}{c} 1 \\\\ 0\\end{array}   \\right)=\n",
    "   \\left(\\begin{array}{c} 0 \\\\ 1\\end{array}   \\right)=|1\\rangle,\n",
    "\\label{_auto12} \\tag{13}\n",
    "\\end{equation}\n",
    "$$"
   ]
  },
  {
   "cell_type": "markdown",
   "metadata": {},
   "source": [
    "<!-- Equation labels as ordinary links -->\n",
    "<div id=\"_auto13\"></div>\n",
    "\n",
    "$$\n",
    "\\begin{equation}\n",
    "   \\hat{H}_{\\mathrm{NOT}}|1\\rangle=   \n",
    "   \\left(\\begin{array}{cc} 0 & 1 \\\\ 1& 0\\end{array}\\right)\n",
    "   \\left(\\begin{array}{c} 0 \\\\ 1\\end{array}   \\right)=\n",
    "   \\left(\\begin{array}{c} 1 \\\\ 0\\end{array}   \\right)=\\vert 0 \\rangle.\n",
    "\\label{_auto13} \\tag{14}\n",
    "\\end{equation}\n",
    "$$"
   ]
  },
  {
   "cell_type": "markdown",
   "metadata": {},
   "source": [
    "<!-- Equation labels as ordinary links -->\n",
    "<div id=\"_auto14\"></div>\n",
    "\n",
    "$$\n",
    "\\begin{equation}\n",
    "   \\hat{H}_{\\Phi}\\vert 0 \\rangle=e^{i\\phi}\\vert 0 \\rangle,\n",
    "\\label{_auto14} \\tag{15}\n",
    "\\end{equation}\n",
    "$$"
   ]
  },
  {
   "cell_type": "markdown",
   "metadata": {},
   "source": [
    "og"
   ]
  },
  {
   "cell_type": "markdown",
   "metadata": {},
   "source": [
    "<!-- Equation labels as ordinary links -->\n",
    "<div id=\"_auto15\"></div>\n",
    "\n",
    "$$\n",
    "\\begin{equation}\n",
    "   \\hat{H}_{\\Phi}|1\\rangle=|1\\rangle,\n",
    "\\label{_auto15} \\tag{16}\n",
    "\\end{equation}\n",
    "$$"
   ]
  },
  {
   "cell_type": "markdown",
   "metadata": {},
   "source": [
    "<!-- Equation labels as ordinary links -->\n",
    "<div id=\"_auto16\"></div>\n",
    "\n",
    "$$\n",
    "\\begin{equation}\n",
    "   \\hat{H}_{\\Phi}=   \n",
    "   \\left(\\begin{array}{cc} e^{i\\phi} & 0 \\\\ 0& 1\\end{array}   \\right).\n",
    "\\label{_auto16} \\tag{17}\n",
    "\\end{equation}\n",
    "$$"
   ]
  },
  {
   "cell_type": "markdown",
   "metadata": {},
   "source": [
    "<!-- Equation labels as ordinary links -->\n",
    "<div id=\"_auto17\"></div>\n",
    "\n",
    "$$\n",
    "\\begin{equation}\n",
    "    |q\\rangle_{in} = \\alpha \\vert 0 \\rangle_{in} + \\beta |1\\rangle_{in},\n",
    "\\label{_auto17} \\tag{18}\n",
    "\\end{equation}\n",
    "$$"
   ]
  },
  {
   "cell_type": "markdown",
   "metadata": {},
   "source": [
    "<!-- Equation labels as ordinary links -->\n",
    "<div id=\"_auto18\"></div>\n",
    "\n",
    "$$\n",
    "\\begin{equation}\n",
    "    |q\\rangle_{ut}=\\hat{H}|q\\rangle_{in} = \n",
    "    \\frac{1}{\\sqrt{2}}((\\alpha+\\beta)\\vert 0 \\rangle_{ut} + \n",
    "    (\\alpha-\\beta)|1\\rangle_{ut}),\n",
    "\\label{_auto18} \\tag{19}\n",
    "\\end{equation}\n",
    "$$"
   ]
  },
  {
   "cell_type": "markdown",
   "metadata": {},
   "source": [
    "<!-- Equation labels as ordinary links -->\n",
    "<div id=\"_auto19\"></div>\n",
    "\n",
    "$$\n",
    "\\begin{equation} \n",
    "   |q\\rangle_{ut}=\\hat{H}\\hat{H}|q\\rangle_{in}=|q\\rangle_{in}.\n",
    "\\label{_auto19} \\tag{20}\n",
    "\\end{equation}\n",
    "$$"
   ]
  },
  {
   "cell_type": "markdown",
   "metadata": {},
   "source": [
    "<!-- Equation labels as ordinary links -->\n",
    "<div id=\"_auto20\"></div>\n",
    "\n",
    "$$\n",
    "\\begin{equation} \n",
    "   \\hat{H}\\hat{\\Phi}\\hat{H}\\vert 0 \\rangle,\n",
    "\\label{_auto20} \\tag{21}\n",
    "\\end{equation}\n",
    "$$"
   ]
  },
  {
   "cell_type": "markdown",
   "metadata": {},
   "source": [
    "<!-- Equation labels as ordinary links -->\n",
    "<div id=\"_auto21\"></div>\n",
    "\n",
    "$$\n",
    "\\begin{equation}\n",
    "    \\frac{1}{\\sqrt{2}}((e^{i\\phi}+1)\\vert 0 \\rangle + \n",
    "    (e^{i\\phi}-1)|1\\rangle).\n",
    "\\label{_auto21} \\tag{22}\n",
    "\\end{equation}\n",
    "$$"
   ]
  },
  {
   "cell_type": "markdown",
   "metadata": {},
   "source": [
    "<!-- Equation labels as ordinary links -->\n",
    "<div id=\"eq:superent\"></div>\n",
    "\n",
    "$$\n",
    "\\begin{equation}\n",
    "   \\frac{\\vert 0 \\rangle_1 |1\\rangle_2 + |1\\rangle_1\\vert 0 \\rangle_2}{\\sqrt{2}},\n",
    "\\label{eq:superent} \\tag{23}\n",
    "\\end{equation}\n",
    "$$"
   ]
  },
  {
   "cell_type": "markdown",
   "metadata": {},
   "source": [
    "<!-- Equation labels as ordinary links -->\n",
    "<div id=\"eq:superent1\"></div>\n",
    "\n",
    "$$\n",
    "\\begin{equation}\n",
    "   \\frac{|+\\rangle_1 |-\\rangle_2 - |-\\rangle_1|+\\rangle_2}{\\sqrt{2}},\n",
    "\\label{eq:superent1} \\tag{24}\n",
    "\\end{equation}\n",
    "$$"
   ]
  },
  {
   "cell_type": "markdown",
   "metadata": {},
   "source": [
    "<!-- Equation labels as ordinary links -->\n",
    "<div id=\"_auto22\"></div>\n",
    "\n",
    "$$\n",
    "\\begin{equation}\n",
    "    |q\\rangle_{1} = \\alpha_1 \\vert 0 \\rangle_{1} + \\beta_1 |1\\rangle_{1},\n",
    "\\label{_auto22} \\tag{25}\n",
    "\\end{equation}\n",
    "$$"
   ]
  },
  {
   "cell_type": "markdown",
   "metadata": {},
   "source": [
    "<!-- Equation labels as ordinary links -->\n",
    "<div id=\"_auto23\"></div>\n",
    "\n",
    "$$\n",
    "\\begin{equation}\n",
    "     |q\\rangle_{12}= |q\\rangle_{1} |q\\rangle_{2}\n",
    "\\label{_auto23} \\tag{26}\n",
    "\\end{equation}\n",
    "$$"
   ]
  },
  {
   "cell_type": "markdown",
   "metadata": {},
   "source": [
    "eller"
   ]
  },
  {
   "cell_type": "markdown",
   "metadata": {},
   "source": [
    "<!-- Equation labels as ordinary links -->\n",
    "<div id=\"_auto24\"></div>\n",
    "\n",
    "$$\n",
    "\\begin{equation}\n",
    "   |q\\rangle_{12}=\\alpha_1 \\alpha_2\\vert 0 \\rangle_1\\vert 0 \\rangle_2 +\n",
    "                  \\alpha_1 \\beta_2\\vert 0 \\rangle_1|1\\rangle_2 +\n",
    "                  \\beta_1 \\alpha_2|1\\rangle_1\\vert 0 \\rangle_2 +\n",
    "                  \\beta_1 \\beta_2|1\\rangle_1|1\\rangle_2,\n",
    "\\label{_auto24} \\tag{27}\n",
    "\\end{equation}\n",
    "$$"
   ]
  },
  {
   "cell_type": "markdown",
   "metadata": {},
   "source": [
    "<!-- Equation labels as ordinary links -->\n",
    "<div id=\"_auto25\"></div>\n",
    "\n",
    "$$\n",
    "\\begin{equation} \n",
    "   |q\\rangle_{ut}=\\hat{H}|q\\rangle_{in},\n",
    "\\label{_auto25} \\tag{28}\n",
    "\\end{equation}\n",
    "$$"
   ]
  },
  {
   "cell_type": "markdown",
   "metadata": {},
   "source": [
    "$\\hat{H}^{\\dagger}=\\hat{H}$ og $\\hat{H}^{\\dagger}\\hat{H}=1$,"
   ]
  },
  {
   "cell_type": "markdown",
   "metadata": {},
   "source": [
    "<!-- Equation labels as ordinary links -->\n",
    "<div id=\"_auto26\"></div>\n",
    "\n",
    "$$\n",
    "\\begin{equation} \n",
    "   \\hat{H}^{\\dagger}|q\\rangle_{ut}=\\hat{H}^{\\dagger}\\hat{H}|q\\rangle_{in}=\n",
    "   |q\\rangle_{in}.\n",
    "\\label{_auto26} \\tag{29}\n",
    "\\end{equation}\n",
    "$$"
   ]
  },
  {
   "cell_type": "markdown",
   "metadata": {},
   "source": [
    "<!-- Equation labels as ordinary links -->\n",
    "<div id=\"_auto27\"></div>\n",
    "\n",
    "$$\n",
    "\\begin{equation}\n",
    "   \\vert 0 \\rangle_{c}  \\vert 0 \\rangle_{t}\\rightarrow\n",
    "   \\vert 0 \\rangle_{c}  \\vert 0 \\rangle_{t},\n",
    "\\label{_auto27} \\tag{30}\n",
    "\\end{equation}\n",
    "$$"
   ]
  },
  {
   "cell_type": "markdown",
   "metadata": {},
   "source": [
    "<!-- Equation labels as ordinary links -->\n",
    "<div id=\"_auto28\"></div>\n",
    "\n",
    "$$\n",
    "\\begin{equation}\n",
    "   \\vert 0 \\rangle_{c}  |1\\rangle_{t}\\rightarrow\n",
    "   \\vert 0 \\rangle_{c}  |1\\rangle_{t},\n",
    "\\label{_auto28} \\tag{31}\n",
    "\\end{equation}\n",
    "$$"
   ]
  },
  {
   "cell_type": "markdown",
   "metadata": {},
   "source": [
    "<!-- Equation labels as ordinary links -->\n",
    "<div id=\"_auto29\"></div>\n",
    "\n",
    "$$\n",
    "\\begin{equation}\n",
    "   |1\\rangle_{c}  \\vert 0 \\rangle_{t}\\rightarrow\n",
    "   |1\\rangle_{c}  |1\\rangle_{t},\n",
    "\\label{_auto29} \\tag{32}\n",
    "\\end{equation}\n",
    "$$"
   ]
  },
  {
   "cell_type": "markdown",
   "metadata": {},
   "source": [
    "<!-- Equation labels as ordinary links -->\n",
    "<div id=\"_auto30\"></div>\n",
    "\n",
    "$$\n",
    "\\begin{equation}\n",
    "   |1\\rangle_{c}  |1\\rangle_{t}\\rightarrow\n",
    "   |1\\rangle_{c}  \\vert 0 \\rangle_{t}.\n",
    "\\label{_auto30} \\tag{33}\n",
    "\\end{equation}\n",
    "$$"
   ]
  },
  {
   "cell_type": "markdown",
   "metadata": {},
   "source": [
    "<!-- Equation labels as ordinary links -->\n",
    "<div id=\"_auto31\"></div>\n",
    "\n",
    "$$\n",
    "\\begin{equation}\n",
    "   \\hat{H}_{\\mathrm{CNOT}}=\n",
    "    \\left(\\begin{array}{cccc} 1 & 0 & 0 &0  \\\\ \n",
    "                              0 & 1 & 0 &0  \\\\\n",
    "                              0& 0 & 0 &1  \\\\\n",
    "                              0 & 0 & 1 &0\\end{array}\\right),\n",
    "\\label{_auto31} \\tag{34}\n",
    "\\end{equation}\n",
    "$$"
   ]
  },
  {
   "cell_type": "markdown",
   "metadata": {},
   "source": [
    "$\\vert 0 \\rangle_c\\vert 0 \\rangle_t$, $\\vert 0 \\rangle_c|1\\rangle_t$, $|1\\rangle_c\\vert 0 \\rangle_t$ \n",
    "$|1\\rangle_c|1\\rangle_t$."
   ]
  },
  {
   "cell_type": "markdown",
   "metadata": {},
   "source": [
    "<!-- Equation labels as ordinary links -->\n",
    "<div id=\"_auto32\"></div>\n",
    "\n",
    "$$\n",
    "\\begin{equation}\n",
    "   \\vert 0 \\rangle_c\\vert 0 \\rangle_t=\\left(\\begin{array}{c} 1  \\\\ \n",
    "                                                 0  \\\\\n",
    "                                                 0  \\\\\n",
    "                                                 0  \\end{array}\\right),\n",
    "\\label{_auto32} \\tag{35}\n",
    "\\end{equation}\n",
    "$$"
   ]
  },
  {
   "cell_type": "markdown",
   "metadata": {},
   "source": [
    "<!-- Equation labels as ordinary links -->\n",
    "<div id=\"_auto33\"></div>\n",
    "\n",
    "$$\n",
    "\\begin{equation}\n",
    "   \\vert 0 \\rangle_c|1\\rangle_t=\\left(\\begin{array}{c} 0  \\\\ \n",
    "                                                 1  \\\\\n",
    "                                                 0  \\\\\n",
    "                                                 0  \\end{array}\\right),\n",
    "\\label{_auto33} \\tag{36}\n",
    "\\end{equation}\n",
    "$$"
   ]
  },
  {
   "cell_type": "markdown",
   "metadata": {},
   "source": [
    "<!-- Equation labels as ordinary links -->\n",
    "<div id=\"_auto34\"></div>\n",
    "\n",
    "$$\n",
    "\\begin{equation}\n",
    "   |1\\rangle_c\\vert 0 \\rangle_t=\\left(\\begin{array}{c} 0  \\\\ \n",
    "                                                 0  \\\\\n",
    "                                                 1  \\\\\n",
    "                                                 0  \\end{array}\\right),\n",
    "\\label{_auto34} \\tag{37}\n",
    "\\end{equation}\n",
    "$$"
   ]
  },
  {
   "cell_type": "markdown",
   "metadata": {},
   "source": [
    "og"
   ]
  },
  {
   "cell_type": "markdown",
   "metadata": {},
   "source": [
    "<!-- Equation labels as ordinary links -->\n",
    "<div id=\"_auto35\"></div>\n",
    "\n",
    "$$\n",
    "\\begin{equation}\n",
    "   |1\\rangle_c|1\\rangle_t=\\left(\\begin{array}{c} 0  \\\\ \n",
    "                                                 0  \\\\\n",
    "                                                 0  \\\\\n",
    "                                                 1  \\end{array}\\right).\n",
    "\\label{_auto35} \\tag{38}\n",
    "\\end{equation}\n",
    "$$"
   ]
  },
  {
   "cell_type": "markdown",
   "metadata": {},
   "source": [
    "<!-- Equation labels as ordinary links -->\n",
    "<div id=\"_auto36\"></div>\n",
    "\n",
    "$$\n",
    "\\begin{equation}\n",
    "   \\hat{H}_{\\mathrm{CNOT}}|1\\rangle_c|1\\rangle_t=\n",
    "    \\left(\\begin{array}{cccc} 1 & 0 & 0 &0  \\\\ \n",
    "                              0 & 1 & 0 &0  \\\\\n",
    "                              0& 0 & 0 &1  \\\\\n",
    "                              0 & 0 & 1 &0\\end{array}\\right)\n",
    "                              \\left(\\begin{array}{c} 0  \\\\ \n",
    "                                                 0  \\\\\n",
    "                                                 0  \\\\\n",
    "                                                 1  \\end{array}\\right)=\n",
    "\\left(\\begin{array}{c} 0  \\\\ \n",
    "                                                 0  \\\\\n",
    "                                                 1  \\\\\n",
    "                                                 0  \\end{array}\\right),\n",
    "\\label{_auto36} \\tag{39}\n",
    "\\end{equation}\n",
    "$$"
   ]
  },
  {
   "cell_type": "markdown",
   "metadata": {},
   "source": [
    "$|1\\rangle_c\\vert 0 \\rangle_t$, dvs. target-biten forandrer verdi fra bit '1'\n",
    "til bit '0' når kontroll-biten har verdi bit '1'.\n",
    "\n",
    "\n",
    "\n",
    "\n",
    "## Hamiltonians\n",
    "\n",
    "A general two-body Hamiltonian for fermionic system \n",
    "can be written as"
   ]
  },
  {
   "cell_type": "markdown",
   "metadata": {},
   "source": [
    "<!-- Equation labels as ordinary links -->\n",
    "<div id=\"eq:twobodyH\"></div>\n",
    "\n",
    "$$\n",
    "\\begin{equation}\n",
    "\\label{eq:twobodyH} \\tag{40}\n",
    "H = E_0 + \\sum_{ij=1} E_{ij} a^\\dag_i a_j\n",
    "+\\sum_{ijkl = 1} V_{ijkl} a^\\dag_i a^\\dag_j a_l a_k,\n",
    "\\end{equation}\n",
    "$$"
   ]
  },
  {
   "cell_type": "markdown",
   "metadata": {},
   "source": [
    "where $E_0$ is a constant energy term, $E_{ij}$ represent all the\n",
    "one-particle terms, allowing for non-diagonal terms as well. The\n",
    "one-body term can represent \n",
    "a chosen single-particle potential, the kinetic energy or other more\n",
    "specialized terms such as  \n",
    "those discussed in connection with the Hubbard model or the pairing Hamiltonian  \n",
    "discussed below.\n",
    "The two-body interaction part is given by $V_{ijkl}$ and can be any\n",
    "two-body interaction, from \n",
    "Coulomb interaction to the interaction between nucleons.  \n",
    "The sums run over all possible single-particle levels $N$. \n",
    "Note that\n",
    "this model includes particle numbers from zero to the number of\n",
    "available quantum levels, $n$. To simulate states with fixed numbers\n",
    "of fermions one would have to either rewrite the Hamiltonian or\n",
    "generate specialized input states in the simulation.\n",
    "\n",
    "The algorithm which we will develop in this section and in\n",
    "However, \n",
    "in our demonstrations of the quantum computing algorithm, we will limit ourselves to\n",
    "two simple models, which however capture much of the important physics\n",
    "in quantum mechanical \n",
    "many-body systems. We will also limit ourselves to spin $j=1/2$\n",
    "systems, although our algorithm \n",
    "can also simulate  higher $j$-values, such as those which occur in nuclear, atomic and\n",
    "molecular physics, it simply uses one qubit for every available\n",
    "quantum state.   \n",
    "These simple models are the Hubbard model and a pairing\n",
    "Hamiltonian.\n",
    "We start with the spin $1/2$ Hubbard model, described by the following Hamiltonian"
   ]
  },
  {
   "cell_type": "markdown",
   "metadata": {},
   "source": [
    "<!-- Equation labels as ordinary links -->\n",
    "<div id=\"_auto37\"></div>\n",
    "\n",
    "$$\n",
    "\\begin{equation}\n",
    "H_H = \\epsilon \\sum_{i, \\sigma} a_{i\\sigma}^\\dag a_{i\\sigma} \n",
    "-t \\sum_{i, \\sigma} \\left(a^\\dag_{i+1, \\sigma}a_{i, \\sigma}\n",
    "+a^\\dag_{i, \\sigma}a_{i+1, \\sigma} \\right) \\notag \n",
    "\\label{_auto37} \\tag{41}\n",
    "\\end{equation}\n",
    "$$"
   ]
  },
  {
   "cell_type": "markdown",
   "metadata": {},
   "source": [
    "<!-- Equation labels as ordinary links -->\n",
    "<div id=\"eq:hubbard\"></div>\n",
    "\n",
    "$$\n",
    "\\begin{equation} \n",
    " + U \\sum_{i=1} a_{i+}^\\dag a_{i-}^\\dag a_{i-}a_{i+},\n",
    "\\label{eq:hubbard} \\tag{42}\n",
    "\\end{equation}\n",
    "$$"
   ]
  },
  {
   "cell_type": "markdown",
   "metadata": {},
   "source": [
    "where $a^{\\dagger}$ and $a$ are fermion creation and annihilation operators, respectively.\n",
    "This is a chain of sites where each site has room for one spin up\n",
    "fermion and one spin down fermion. \n",
    "The number of sites is $N$, and the sums over $\\sigma$ are sums over\n",
    "spin up and down only.\n",
    "Each site has a single-particle\n",
    "energy $\\epsilon$. There is a repulsive term $U$ if there is a pair\n",
    "of particles at the same site. It is energetically favourable to tunnel to\n",
    "neighbouring sites, described by \n",
    "the hopping terms with coupling constant $-t$.\n",
    "\n",
    "The second model-Hamiltonian is the simple pairing Hamiltonian"
   ]
  },
  {
   "cell_type": "markdown",
   "metadata": {},
   "source": [
    "<!-- Equation labels as ordinary links -->\n",
    "<div id=\"eq:pairing\"></div>\n",
    "\n",
    "$$\n",
    "\\begin{equation}\n",
    "   H_P=\\sum_i \\varepsilon_i a^{\\dagger}_i a_i -\\frac{1}{2} g\\sum_{ij>0}\n",
    "           a^{\\dagger}_{i}\n",
    "     a^{\\dagger}_{\\bar{\\imath}}a_{\\bar{\\jmath}}a_{j},\n",
    "\\label{eq:pairing} \\tag{43}\n",
    "\\end{equation}\n",
    "$$"
   ]
  },
  {
   "cell_type": "markdown",
   "metadata": {},
   "source": [
    "The indices $i$ and $j$ run over the number of levels $N$, and the label $\\bar{\\imath}$ \n",
    "stands for a time-reversed state. The parameter $g$ is the strength of the pairing force \n",
    "while $\\varepsilon_i$ is the single-particle energy of level $i$. \n",
    "In our case\n",
    "we assume that the single-particle levels are equidistant (or\n",
    "degenerate) with a fixed spacing $d$. \n",
    "Moreover, in our simple model, the degeneracy of the single-particle\n",
    "levels is set to $2j+1=2$, with $j=1/2$  \n",
    "being the spin of the particle. This gives a set of single-particle\n",
    "states with the same spin projections as \n",
    "for the Hubbard model.  Whereas in the Hubbard model we operate with\n",
    "different sites with  \n",
    "spin up or spin down particles, our pairing models deals thus with\n",
    "levels  with double degeneracy. \n",
    "Introducing the pair-creation operator \n",
    "$S^+_i=a^{\\dagger}_{im}a^{\\dagger}_{i-m}$,\n",
    "one can rewrite the Hamiltonian in \n",
    "Eq. ([43](#eq:pairing)) as"
   ]
  },
  {
   "cell_type": "markdown",
   "metadata": {},
   "source": [
    "$$\n",
    "H_P=d\\sum_iiN_i+\n",
    "     \\frac{1}{2} G\\sum_{ij>0}S^+_iS^-_j,\n",
    "$$"
   ]
  },
  {
   "cell_type": "markdown",
   "metadata": {},
   "source": [
    "where  $N_i=a^{\\dagger}_i a_i$\n",
    "is the number operator, and \n",
    "$\\varepsilon_i = id$ so that the single-particle orbitals \n",
    "are equally spaced at intervals $d$. The latter commutes with the \n",
    "Hamiltonian $H$. In this model, quantum numbers like seniority \n",
    "$\\cal{S}$ are good quantum numbers, and the eigenvalue problem \n",
    "can be rewritten in terms of blocks with good seniority. \n",
    "Loosely \n",
    "speaking, the seniority quantum number $\\cal{S}$ is equal to \n",
    "the number of unpaired particles.\n",
    "Furthermore, in  a series of papers, Richardson\n",
    "obtained the exact solution of the pairing Hamiltonian, with \n",
    "semi-analytic (since there is still the need for a numerical solution) \n",
    "expressions for the eigenvalues and eigenvectors. The exact solutions\n",
    "have had important consequences for several fields, from Bose condensates to\n",
    "nuclear superconductivity and is currently a very active field of studies, see for example\n",
    "Finally, for particle numbers up to $P \\sim 20$, the above model can be \n",
    "solved exactly through numerical diagonalization and one can obtain all eigenvalues.\n",
    "It serves therefore also as an excellent ground for comparison with our algorithm based\n",
    "on models from quantum computing.\n",
    "\n",
    "\n",
    "## Basic quantum  gates\n",
    "\n",
    "Benioff showed that one could make a quantum mechanical Turing machine\n",
    "by using various  unitary operations on a quantum system.\n",
    "Benioff  demonstrated \n",
    "that a quantum computer can calculate anything a\n",
    "classical computer can. To do this one needs a quantum system and\n",
    "basic operations that can approximate all unitary operations\n",
    "on the chosen many-body system. We describe in this subsection the basic ingredients entering \n",
    "our algorithms.\n",
    "\n",
    "### Qubits, gates and circuits\n",
    "\n",
    "In this article we will use the standard model of quantum information,\n",
    "where\n",
    "the basic unit of information is the qubit, the quantum bit. \n",
    "As mentioned in the introduction, any\n",
    "suitable \n",
    "two-level quantum system can be a qubit, \n",
    "it is the smallest system there is with the\n",
    "least complex dynamics.\n",
    "Qubits are both abstract measures of information and physical objects.\n",
    "Actual physical qubits can be ions trapped in magnetic fields where\n",
    "lasers can access only two energy levels or  the nuclear spins of some of\n",
    "the atoms in molecules accessed and manipulated by an NMR machine.\n",
    "Several other ideas have been proposed and some tested.\n",
    "\n",
    "The computational basis for one qubit is ${\\ensuremath{\\vert 0 \\rangle}}$ (representing for example bit $0$) \n",
    "for the first state\n",
    "and ${\\ensuremath{|1\\rangle}}$ (representing bit $1$) for the second, and for a set of qubits  \n",
    "the tensor products of\n",
    "these basis states for each qubit form a product basis. Below we write out the different\n",
    "basis states for a system of $n$ qubits."
   ]
  },
  {
   "cell_type": "markdown",
   "metadata": {},
   "source": [
    "<!-- Equation labels as ordinary links -->\n",
    "<div id=\"eq:compBasis\"></div>\n",
    "\n",
    "$$\n",
    "\\begin{equation}\n",
    "\\label{eq:compBasis} \\tag{44}\n",
    "{\\ensuremath{\\vert 0 \\rangle}} \\equiv {\\ensuremath{\\vert 00\\cdots 0 \\rangle}} =\n",
    "      {\\ensuremath{\\vert 0 \\rangle}} \\otimes {\\ensuremath{| 0 \\rangle}} \\otimes\n",
    "          \\cdots \n",
    "\\otimes {\\ensuremath{\\vert 0 \\rangle}} \n",
    "\\notag \n",
    "\\end{equation}\n",
    "$$"
   ]
  },
  {
   "cell_type": "markdown",
   "metadata": {},
   "source": [
    "<!-- Equation labels as ordinary links -->\n",
    "<div id=\"_auto38\"></div>\n",
    "\n",
    "$$\n",
    "\\begin{equation} \n",
    "{\\ensuremath{|1\\rangle}} \\equiv {\\ensuremath{\\vert 00\\cdots 1\\rangle}} =\n",
    "    {\\ensuremath{\\vert 0 \\rangle}} \\otimes {\\ensuremath{| 0 \\rangle}} \\otimes\n",
    "        \\cdots \n",
    "\\otimes {\\ensuremath{|1\\rangle}} \n",
    "\\notag \n",
    "\\label{_auto38} \\tag{45}\n",
    "\\end{equation}\n",
    "$$"
   ]
  },
  {
   "cell_type": "markdown",
   "metadata": {},
   "source": [
    "<!-- Equation labels as ordinary links -->\n",
    "<div id=\"_auto39\"></div>\n",
    "\n",
    "$$\n",
    "\\begin{equation} \n",
    "\\vdots \\notag \n",
    "\\label{_auto39} \\tag{46}\n",
    "\\end{equation}\n",
    "$$"
   ]
  },
  {
   "cell_type": "markdown",
   "metadata": {},
   "source": [
    "<!-- Equation labels as ordinary links -->\n",
    "<div id=\"_auto40\"></div>\n",
    "\n",
    "$$\n",
    "\\begin{equation} \n",
    "{\\ensuremath{|2^n-1\\rangle}} \\equiv {\\ensuremath{|11\\cdots 1\\rangle}} =\n",
    "    {\\ensuremath{|1\\rangle}} \\otimes {\\ensuremath{| 1\\rangle}} \\otimes \n",
    "\\cdots \\otimes {\\ensuremath{|1 \\rangle}}.\n",
    "\\notag \n",
    "\\label{_auto40} \\tag{47}\n",
    "\\end{equation}\n",
    "$$"
   ]
  },
  {
   "cell_type": "markdown",
   "metadata": {},
   "source": [
    "<!-- Equation labels as ordinary links -->\n",
    "<div id=\"_auto41\"></div>\n",
    "\n",
    "$$\n",
    "\\begin{equation} \n",
    "\\label{_auto41} \\tag{48}\n",
    "\\end{equation}\n",
    "$$"
   ]
  },
  {
   "cell_type": "markdown",
   "metadata": {},
   "source": [
    "This is a $2^n$-dimensional system and we number the different basis\n",
    "states using binary numbers corresponding to the order in which they appear in the\n",
    "tensor product.\n",
    "\n",
    "Quantum computing means to  manipulate and measure  qubits in such a\n",
    "way that the results from a measurement yield the solutions to  a given problem. \n",
    "The quantum operations we need to be able to perform our simulations are \n",
    "a small set of elementary single-qubit\n",
    "operations, or single-qubit gates, and one universal two-qubit gate,\n",
    "in our case the so-called CNOT gate defined below.\n",
    "\n",
    "To represent quantum computer algorithms graphically we use circuit\n",
    "diagrams. In a circuit diagram each qubit is represented by a line,\n",
    "and operations on the different qubits are represented by boxes.\n",
    "\n",
    "## Number of work qubits versus number of simulation qubits\n",
    "\n",
    "The largest possible amount of different eigenvalues is $2^s$, where\n",
    "$s$ is the number of simulation qubits. The resolution in the energy\n",
    "spectrum we get from measuring upon the work qubits is $2^w$, with $w$ the number of\n",
    "work qubits.\n",
    "Therefore the resolution per eigenvalue in a non-degenerate system is\n",
    "$2^{w-s}$. The higher the degeneracy the less work qubits are needed. \n",
    "\n",
    "\n",
    "\n",
    "\n",
    "## Number of operations\n",
    "\n",
    "Counting the number of single-qubit and $\\sigma_z\\sigma_z$ operations\n",
    "for different sizes of systems simulated gives us an indication of the\n",
    "decoherence time needed for different physical realizations of a\n",
    "quantum simulator or computer. The decoherence time is an average time\n",
    "in which the state of the qubits will be destroyed by noise, also called \n",
    "decoherence, while the operation time is the average time an operation takes\n",
    "to perform on the given system. Their fraction is the number of\n",
    "operations possible to perform before decoherence destroys the\n",
    "computation. In table  we have listed the number of\n",
    "gates used for the pairing model, $H_P$, and the Hubbard model, $H_H$,\n",
    "for different number of simulation qubits. \n",
    "\n",
    "<table border=\"1\">\n",
    "<thead>\n",
    "<tr><th align=\"center\">     </th> <th align=\"center\">$s=2$</th> <th align=\"center\">$s=4$</th> <th align=\"center\">$s=6$</th> <th align=\"center\">$s=8$</th> <th align=\"center\">$s=10$</th> <th align=\"center\">$s=12$</th> </tr>\n",
    "</thead>\n",
    "<tbody>\n",
    "<tr><td align=\"left\">   $H_P$    </td> <td align=\"center\">   9        </td> <td align=\"center\">   119      </td> <td align=\"center\">   333      </td> <td align=\"center\">   651      </td> <td align=\"center\">   1073      </td> <td align=\"center\">   1598      </td> </tr>\n",
    "<tr><td align=\"left\">   $H_H$    </td> <td align=\"center\">   9        </td> <td align=\"center\">   51       </td> <td align=\"center\">   93       </td> <td align=\"center\">   135      </td> <td align=\"center\">   177       </td> <td align=\"center\">   219       </td> </tr>\n",
    "</tbody>\n",
    "</table>\n",
    "Number of two-qubit gates used in simulating the time\n",
    "  evolution operator of the pairing model, $H_P$, and the Hubbard\n",
    "  model, $H_H$, for different number of simulation qubits $s$.\n",
    "\n",
    "\n",
    "\n",
    "We list here some useful relations involving different $\\sigma$ matrices,"
   ]
  },
  {
   "cell_type": "markdown",
   "metadata": {},
   "source": [
    "<!-- Equation labels as ordinary links -->\n",
    "<div id=\"_auto42\"></div>\n",
    "\n",
    "$$\n",
    "\\begin{equation}\n",
    "\\sigma_x \\sigma_z = -i\\sigma_y, \\quad\n",
    "\\sigma_z \\sigma_x = i\\sigma_y, \\quad [\\sigma_x, \\sigma_z]=-2i\\sigma_y,\n",
    "\\label{_auto42} \\tag{49}\n",
    "\\end{equation}\n",
    "$$"
   ]
  },
  {
   "cell_type": "markdown",
   "metadata": {},
   "source": [
    "<!-- Equation labels as ordinary links -->\n",
    "<div id=\"_auto43\"></div>\n",
    "\n",
    "$$\n",
    "\\begin{equation}\n",
    "\\sigma_x \\sigma_y = i\\sigma_z, \\quad\n",
    "\\sigma_y \\sigma_x = -i\\sigma_z, \\quad [\\sigma_x, \\sigma_y]=2i\\sigma_z,\n",
    "\\label{_auto43} \\tag{50}\n",
    "\\end{equation}\n",
    "$$"
   ]
  },
  {
   "cell_type": "markdown",
   "metadata": {},
   "source": [
    "and"
   ]
  },
  {
   "cell_type": "markdown",
   "metadata": {},
   "source": [
    "<!-- Equation labels as ordinary links -->\n",
    "<div id=\"_auto44\"></div>\n",
    "\n",
    "$$\n",
    "\\begin{equation}\n",
    "\\sigma_y \\sigma_z = i\\sigma_x, \\quad\n",
    "\\sigma_z \\sigma_y = -i\\sigma_x, \\quad [\\sigma_y, \\sigma_z]=2i\\sigma_x.\n",
    "\\label{_auto44} \\tag{51}\n",
    "\\end{equation}\n",
    "$$"
   ]
  },
  {
   "cell_type": "markdown",
   "metadata": {},
   "source": [
    "For any two non-equal $\\sigma$-matrices $a$ and $b$ we have"
   ]
  },
  {
   "cell_type": "markdown",
   "metadata": {},
   "source": [
    "<!-- Equation labels as ordinary links -->\n",
    "<div id=\"_auto45\"></div>\n",
    "\n",
    "$$\n",
    "\\begin{equation}\n",
    "aba = -b.\n",
    "\\label{_auto45} \\tag{52}\n",
    "\\end{equation}\n",
    "$$"
   ]
  },
  {
   "cell_type": "markdown",
   "metadata": {},
   "source": [
    "The Hermitian $\\sigma$-matrices $\\sigma_x$, $\\sigma_y$ and $\\sigma_z$\n",
    "result in the identity matrix when squared"
   ]
  },
  {
   "cell_type": "markdown",
   "metadata": {},
   "source": [
    "<!-- Equation labels as ordinary links -->\n",
    "<div id=\"_auto46\"></div>\n",
    "\n",
    "$$\n",
    "\\begin{equation}\n",
    "\\sigma_x^2 = _1_,\\quad \n",
    "\\sigma_y^2 = _1_,\\quad \n",
    "\\sigma_z^2 = _1_,\\quad \n",
    "\\label{_auto46} \\tag{53}\n",
    "\\end{equation}\n",
    "$$"
   ]
  },
  {
   "cell_type": "markdown",
   "metadata": {},
   "source": [
    "which can be used to obtain  simplified expressions for exponential functions involving $\\sigma$-matrices"
   ]
  },
  {
   "cell_type": "markdown",
   "metadata": {},
   "source": [
    "<!-- Equation labels as ordinary links -->\n",
    "<div id=\"_auto47\"></div>\n",
    "\n",
    "$$\n",
    "\\begin{equation}\n",
    "e^{\\pm i\\alpha \\sigma}=\\cos(\\alpha) _1_ \\pm i \\sin(\\alpha) \\sigma. \n",
    "\\label{_auto47} \\tag{54}\n",
    "\\end{equation}\n",
    "$$"
   ]
  },
  {
   "cell_type": "markdown",
   "metadata": {},
   "source": [
    "The equations we list below are necessary for the relation between  a general unitary\n",
    "transformation on a set of qubits with  a product of two-qubit unitary\n",
    "transformations. We have the general equation for $a,b \\in \\{\\sigma_x,\\sigma_y, \\sigma_z\\}$, where $a\\neq b$."
   ]
  },
  {
   "cell_type": "markdown",
   "metadata": {},
   "source": [
    "<!-- Equation labels as ordinary links -->\n",
    "<div id=\"_auto48\"></div>\n",
    "\n",
    "$$\n",
    "\\begin{equation}\n",
    "  e^{-i\\pi/4a} b e^{i\\pi/4a} = \\frac{1}{2} (_1_ -ia) b ( _1_ + ia)\n",
    "  \\notag\n",
    "\\label{_auto48} \\tag{55}\n",
    "\\end{equation}\n",
    "$$"
   ]
  },
  {
   "cell_type": "markdown",
   "metadata": {},
   "source": [
    "<!-- Equation labels as ordinary links -->\n",
    "<div id=\"_auto49\"></div>\n",
    "\n",
    "$$\n",
    "\\begin{equation}  \n",
    "  =  \\frac{1}{2} (b + aba + i[b,a]) \\notag\n",
    "\\label{_auto49} \\tag{56}\n",
    "\\end{equation}\n",
    "$$"
   ]
  },
  {
   "cell_type": "markdown",
   "metadata": {},
   "source": [
    "<!-- Equation labels as ordinary links -->\n",
    "<div id=\"_auto50\"></div>\n",
    "\n",
    "$$\n",
    "\\begin{equation} \n",
    "  = \\frac{i}{2}[b,a].\n",
    "\\label{_auto50} \\tag{57}\n",
    "\\end{equation}\n",
    "$$"
   ]
  },
  {
   "cell_type": "markdown",
   "metadata": {},
   "source": [
    "The more specialized equations read"
   ]
  },
  {
   "cell_type": "markdown",
   "metadata": {},
   "source": [
    "<!-- Equation labels as ordinary links -->\n",
    "<div id=\"eq:rotations1\"></div>\n",
    "\n",
    "$$\n",
    "\\begin{equation}\n",
    "\\label{eq:rotations1} \\tag{58}\n",
    "  e^{-i\\pi/4 \\sigma_x} \\sigma_z e^{i\\pi/4 \\sigma_x} = -\\sigma_y, \n",
    "\\end{equation}\n",
    "$$"
   ]
  },
  {
   "cell_type": "markdown",
   "metadata": {},
   "source": [
    "<!-- Equation labels as ordinary links -->\n",
    "<div id=\"eq:rotations2\"></div>\n",
    "\n",
    "$$\n",
    "\\begin{equation} \n",
    "\\label{eq:rotations2} \\tag{59}\n",
    "  e^{-i\\pi/4 \\sigma_y} \\sigma_z e^{i\\pi/4 \\sigma_y} = \\sigma_x, \n",
    "\\end{equation}\n",
    "$$"
   ]
  },
  {
   "cell_type": "markdown",
   "metadata": {},
   "source": [
    "<!-- Equation labels as ordinary links -->\n",
    "<div id=\"eq:rotations3\"></div>\n",
    "\n",
    "$$\n",
    "\\begin{equation} \n",
    "\\label{eq:rotations3} \\tag{60}\n",
    "  e^{-i\\pi/4 \\sigma_z} \\sigma_x e^{i\\pi/4 \\sigma_z} = \\sigma_y, \n",
    "\\end{equation}\n",
    "$$"
   ]
  },
  {
   "cell_type": "markdown",
   "metadata": {},
   "source": [
    "<!-- Equation labels as ordinary links -->\n",
    "<div id=\"eq:rotations4\"></div>\n",
    "\n",
    "$$\n",
    "\\begin{equation} \n",
    "\\label{eq:rotations4} \\tag{61}\n",
    "  e^{-i\\pi/4 \\sigma_z} \\sigma_y e^{i\\pi/4 \\sigma_z} = -\\sigma_x. \n",
    "\\end{equation}\n",
    "$$"
   ]
  },
  {
   "cell_type": "markdown",
   "metadata": {},
   "source": [
    "We need also different products of the operator$\\sigma_z$  with the  raising and lowering operators"
   ]
  },
  {
   "cell_type": "markdown",
   "metadata": {},
   "source": [
    "<!-- Equation labels as ordinary links -->\n",
    "<div id=\"eq:pmzs\"></div>\n",
    "\n",
    "$$\n",
    "\\begin{equation}\n",
    "\\label{eq:pmzs} \\tag{62}\n",
    "  \\sigma_+ \\sigma_z = -\\sigma_+ \n",
    "\\end{equation}\n",
    "$$"
   ]
  },
  {
   "cell_type": "markdown",
   "metadata": {},
   "source": [
    "<!-- Equation labels as ordinary links -->\n",
    "<div id=\"_auto51\"></div>\n",
    "\n",
    "$$\n",
    "\\begin{equation} \n",
    "  \\sigma_z \\sigma_+ = \\sigma_+, \n",
    "\\label{_auto51} \\tag{63}\n",
    "\\end{equation}\n",
    "$$"
   ]
  },
  {
   "cell_type": "markdown",
   "metadata": {},
   "source": [
    "<!-- Equation labels as ordinary links -->\n",
    "<div id=\"_auto52\"></div>\n",
    "\n",
    "$$\n",
    "\\begin{equation} \n",
    "  \\sigma_- \\sigma_z = \\sigma_-, \n",
    "\\label{_auto52} \\tag{64}\n",
    "\\end{equation}\n",
    "$$"
   ]
  },
  {
   "cell_type": "markdown",
   "metadata": {},
   "source": [
    "<!-- Equation labels as ordinary links -->\n",
    "<div id=\"_auto53\"></div>\n",
    "\n",
    "$$\n",
    "\\begin{equation} \n",
    "  \\sigma_z \\sigma_- = -\\sigma_-. \n",
    "\\label{_auto53} \\tag{65}\n",
    "\\end{equation}\n",
    "$$"
   ]
  },
  {
   "cell_type": "markdown",
   "metadata": {},
   "source": [
    "<!-- Equation labels as ordinary links -->\n",
    "<div id=\"_auto54\"></div>\n",
    "\n",
    "$$\n",
    "\\begin{equation} \n",
    "\\label{_auto54} \\tag{66}\n",
    "\\end{equation}\n",
    "$$"
   ]
  }
 ],
 "metadata": {},
 "nbformat": 4,
 "nbformat_minor": 4
}