{
 "cells": [
  {
   "cell_type": "markdown",
   "metadata": {},
   "source": [
    "# Neural Networks\n",
    "\n",
    "\n",
    "## Introduction\n",
    "\n",
    "Artificial neural networks are computational systems that can learn to\n",
    "perform tasks by considering examples, generally without being\n",
    "programmed with any task-specific rules. It is supposed to mimic a\n",
    "biological system, wherein neurons interact by sending signals in the\n",
    "form of mathematical functions between layers. All layers can contain\n",
    "an arbitrary number of neurons, and each connection is represented by\n",
    "a weight variable.\n",
    "\n",
    "\n",
    "The field of artificial neural networks has a long history of\n",
    "development, and is closely connected with the advancement of computer\n",
    "science and computers in general. A model of artificial neurons was\n",
    "first developed by McCulloch and Pitts in 1943 to study signal\n",
    "processing in the brain and has later been refined by others. The\n",
    "general idea is to mimic neural networks in the human brain, which is\n",
    "composed of billions of neurons that communicate with each other by\n",
    "sending electrical signals.  Each neuron accumulates its incoming\n",
    "signals, which must exceed an activation threshold to yield an\n",
    "output. If the threshold is not overcome, the neuron remains inactive,\n",
    "i.e. has zero output.\n",
    "\n",
    "This behaviour has inspired a simple mathematical model for an artificial neuron."
   ]
  },
  {
   "cell_type": "markdown",
   "metadata": {},
   "source": [
    "<!-- Equation labels as ordinary links -->\n",
    "<div id=\"artificialNeuron\"></div>\n",
    "\n",
    "$$\n",
    "\\begin{equation}\n",
    " y = f\\left(\\sum_{i=1}^n w_ix_i\\right) = f(u)\n",
    "\\label{artificialNeuron} \\tag{1}\n",
    "\\end{equation}\n",
    "$$"
   ]
  },
  {
   "cell_type": "markdown",
   "metadata": {},
   "source": [
    "Here, the output $y$ of the neuron is the value of its activation function, which have as input\n",
    "a weighted sum of signals $x_i, \\dots ,x_n$ received by $n$ other neurons.\n",
    "\n",
    "Conceptually, it is helpful to divide neural networks into four\n",
    "categories:\n",
    "1. general purpose neural networks for supervised learning,\n",
    "\n",
    "2. neural networks designed specifically for image processing, the most prominent example of this class being Convolutional Neural Networks (CNNs),\n",
    "\n",
    "3. neural networks for sequential data such as Recurrent Neural Networks (RNNs), and\n",
    "\n",
    "4. neural networks for unsupervised learning such as Deep Boltzmann Machines.\n",
    "\n",
    "In natural science, DNNs and CNNs have already found numerous\n",
    "applications. In statistical physics, they have been applied to detect\n",
    "phase transitions in 2D Ising and Potts models, lattice gauge\n",
    "theories, and different phases of polymers, or solving the\n",
    "Navier-Stokes equation in weather forecasting.  Deep learning has also\n",
    "found interesting applications in quantum physics. Various quantum\n",
    "phase transitions can be detected and studied using DNNs and CNNs,\n",
    "topological phases, and even non-equilibrium many-body\n",
    "localization. Representing quantum states as DNNs quantum state\n",
    "tomography are among some of the impressive achievements to reveal the\n",
    "potential of DNNs to facilitate the study of quantum systems.\n",
    "\n",
    "In quantum information theory, it has been shown that one can perform\n",
    "gate decompositions with the help of neural. \n",
    "\n",
    "The applications are not limited to the natural sciences. There is a\n",
    "plethora of applications in essentially all disciplines, from the\n",
    "humanities to life science and medicine.\n",
    "\n",
    "\n",
    "An artificial neural network (ANN), is a computational model that\n",
    "consists of layers of connected neurons, or nodes or units.  We will\n",
    "refer to these interchangeably as units or nodes, and sometimes as\n",
    "neurons.\n",
    "\n",
    "It is supposed to mimic a biological nervous system by letting each\n",
    "neuron interact with other neurons by sending signals in the form of\n",
    "mathematical functions between layers.  A wide variety of different\n",
    "ANNs have been developed, but most of them consist of an input layer,\n",
    "an output layer and eventual layers in-between, called *hidden\n",
    "layers*. All layers can contain an arbitrary number of nodes, and each\n",
    "connection between two nodes is associated with a weight variable.\n",
    "\n",
    "Neural networks (also called neural nets) are neural-inspired\n",
    "nonlinear models for supervised learning.  As we will see, neural nets\n",
    "can be viewed as natural, more powerful extensions of supervised\n",
    "learning methods such as linear and logistic regression and soft-max\n",
    "methods we discussed earlier.\n",
    "\n",
    "\n",
    "\n",
    "### Feed-forward neural networks\n",
    "\n",
    "The feed-forward neural network (FFNN) was the first and simplest type\n",
    "of ANNs that were devised. In this network, the information moves in\n",
    "only one direction: forward through the layers.\n",
    "\n",
    "Nodes are represented by circles, while the arrows display the\n",
    "connections between the nodes, including the direction of information\n",
    "flow. Additionally, each arrow corresponds to a weight variable\n",
    "(figure to come).  We observe that each node in a layer is connected\n",
    "to *all* nodes in the subsequent layer, making this a so-called\n",
    "*fully-connected* FFNN.\n",
    "\n",
    "\n",
    "\n",
    "\n",
    "### Convolutional Neural Network\n",
    "\n",
    "A different variant of FFNNs are *convolutional neural networks*\n",
    "(CNNs), which have a connectivity pattern inspired by the animal\n",
    "visual cortex. Individual neurons in the visual cortex only respond to\n",
    "stimuli from small sub-regions of the visual field, called a receptive\n",
    "field. This makes the neurons well-suited to exploit the strong\n",
    "spatially local correlation present in natural images. The response of\n",
    "each neuron can be approximated mathematically as a convolution\n",
    "operation.  (figure to come)\n",
    "\n",
    "Convolutional neural networks emulate the behaviour of neurons in the\n",
    "visual cortex by enforcing a *local* connectivity pattern between\n",
    "nodes of adjacent layers: Each node in a convolutional layer is\n",
    "connected only to a subset of the nodes in the previous layer, in\n",
    "contrast to the fully-connected FFNN.  Often, CNNs consist of several\n",
    "convolutional layers that learn local features of the input, with a\n",
    "fully-connected layer at the end, which gathers all the local data and\n",
    "produces the outputs. They have wide applications in image and video\n",
    "recognition.\n",
    "\n",
    "\n",
    "### Recurrent neural networks\n",
    "\n",
    "So far we have only mentioned ANNs where information flows in one\n",
    "direction: forward. *Recurrent neural networks* on the other hand,\n",
    "have connections between nodes that form directed *cycles*. This\n",
    "creates a form of internal memory which are able to capture\n",
    "information on what has been calculated before; the output is\n",
    "dependent on the previous computations. Recurrent NNs make use of\n",
    "sequential information by performing the same task for every element\n",
    "in a sequence, where each element depends on previous elements. An\n",
    "example of such information is sentences, making recurrent NNs\n",
    "especially well-suited for handwriting and speech recognition.\n",
    "\n",
    "\n",
    "### Other types of networks\n",
    "\n",
    "There are many other kinds of ANNs that have been developed. One type\n",
    "that is specifically designed for interpolation in multidimensional\n",
    "space is the radial basis function (RBF) network. RBFs are typically\n",
    "made up of three layers: an input layer, a hidden layer with\n",
    "non-linear radial symmetric activation functions and a linear output\n",
    "layer (''linear'' here means that each node in the output layer has a\n",
    "linear activation function). The layers are normally fully-connected\n",
    "and there are no cycles, thus RBFs can be viewed as a type of\n",
    "fully-connected FFNN. They are however usually treated as a separate\n",
    "type of NN due the unusual activation functions.\n",
    "\n",
    "\n",
    "## Multilayer perceptrons\n",
    "\n",
    "One uses often so-called fully-connected feed-forward neural networks\n",
    "with three or more layers (an input layer, one or more hidden layers\n",
    "and an output layer) consisting of neurons that have non-linear\n",
    "activation functions.\n",
    "\n",
    "Such networks are often called *multilayer perceptrons* (MLPs).\n",
    "\n",
    "\n",
    "According to the *Universal approximation theorem*, a feed-forward\n",
    "neural network with just a single hidden layer containing a finite\n",
    "number of neurons can approximate a continuous multidimensional\n",
    "function to arbitrary accuracy, assuming the activation function for\n",
    "the hidden layer is a **non-constant, bounded and\n",
    "monotonically-increasing continuous function**.\n",
    "\n",
    "Note that the requirements on the activation function only applies to\n",
    "the hidden layer, the output nodes are always assumed to be linear, so\n",
    "as to not restrict the range of output values.\n",
    "\n",
    "\n",
    "\n",
    "\n",
    "The output $y$ is produced via the activation function $f$"
   ]
  },
  {
   "cell_type": "markdown",
   "metadata": {},
   "source": [
    "$$\n",
    "y = f\\left(\\sum_{i=1}^n w_ix_i + b_i\\right) = f(z),\n",
    "$$"
   ]
  },
  {
   "cell_type": "markdown",
   "metadata": {},
   "source": [
    "This function receives $x_i$ as inputs.\n",
    "Here the activation $z=(\\sum_{i=1}^n w_ix_i+b_i)$. \n",
    "In an FFNN of such neurons, the *inputs* $x_i$ are the *outputs* of\n",
    "the neurons in the preceding layer. Furthermore, an MLP is\n",
    "fully-connected, which means that each neuron receives a weighted sum\n",
    "of the outputs of *all* neurons in the previous layer.\n",
    "\n",
    "\n",
    "\n",
    "First, for each node $i$ in the first hidden layer, we calculate a weighted sum $z_i^1$ of the input coordinates $x_j$,"
   ]
  },
  {
   "cell_type": "markdown",
   "metadata": {},
   "source": [
    "<!-- Equation labels as ordinary links -->\n",
    "<div id=\"_auto1\"></div>\n",
    "\n",
    "$$\n",
    "\\begin{equation} z_i^1 = \\sum_{j=1}^{M} w_{ij}^1 x_j + b_i^1\n",
    "\\label{_auto1} \\tag{2}\n",
    "\\end{equation}\n",
    "$$"
   ]
  },
  {
   "cell_type": "markdown",
   "metadata": {},
   "source": [
    "Here $b_i$ is the so-called bias which is normally needed in\n",
    "case of zero activation weights or inputs. How to fix the biases and\n",
    "the weights will be discussed below.  The value of $z_i^1$ is the\n",
    "argument to the activation function $f_i$ of each node $i$, The\n",
    "variable $M$ stands for all possible inputs to a given node $i$ in the\n",
    "first layer.  We define  the output $y_i^1$ of all neurons in layer 1 as"
   ]
  },
  {
   "cell_type": "markdown",
   "metadata": {},
   "source": [
    "<!-- Equation labels as ordinary links -->\n",
    "<div id=\"outputLayer1\"></div>\n",
    "\n",
    "$$\n",
    "\\begin{equation}\n",
    " y_i^1 = f(z_i^1) = f\\left(\\sum_{j=1}^M w_{ij}^1 x_j  + b_i^1\\right)\n",
    "\\label{outputLayer1} \\tag{3}\n",
    "\\end{equation}\n",
    "$$"
   ]
  },
  {
   "cell_type": "markdown",
   "metadata": {},
   "source": [
    "where we assume that all nodes in the same layer have identical\n",
    "activation functions, hence the notation $f$. In general, we could assume in the more general case that different layers have different activation functions.\n",
    "In this case we would identify these functions with a superscript $l$ for the $l$-th layer,"
   ]
  },
  {
   "cell_type": "markdown",
   "metadata": {},
   "source": [
    "<!-- Equation labels as ordinary links -->\n",
    "<div id=\"generalLayer\"></div>\n",
    "\n",
    "$$\n",
    "\\begin{equation}\n",
    " y_i^l = f^l(u_i^l) = f^l\\left(\\sum_{j=1}^{N_{l-1}} w_{ij}^l y_j^{l-1} + b_i^l\\right)\n",
    "\\label{generalLayer} \\tag{4}\n",
    "\\end{equation}\n",
    "$$"
   ]
  },
  {
   "cell_type": "markdown",
   "metadata": {},
   "source": [
    "where $N_l$ is the number of nodes in layer $l$. When the output of\n",
    "all the nodes in the first hidden layer are computed, the values of\n",
    "the subsequent layer can be calculated and so forth until the output\n",
    "is obtained.\n",
    "\n",
    "\n",
    "\n",
    "The output of neuron $i$ in layer 2 is thus,"
   ]
  },
  {
   "cell_type": "markdown",
   "metadata": {},
   "source": [
    "<!-- Equation labels as ordinary links -->\n",
    "<div id=\"_auto2\"></div>\n",
    "\n",
    "$$\n",
    "\\begin{equation}\n",
    " y_i^2 = f^2\\left(\\sum_{j=1}^N w_{ij}^2 y_j^1 + b_i^2\\right) \n",
    "\\label{_auto2} \\tag{5}\n",
    "\\end{equation}\n",
    "$$"
   ]
  },
  {
   "cell_type": "markdown",
   "metadata": {},
   "source": [
    "<!-- Equation labels as ordinary links -->\n",
    "<div id=\"outputLayer2\"></div>\n",
    "\n",
    "$$\n",
    "\\begin{equation} \n",
    " = f^2\\left[\\sum_{j=1}^N w_{ij}^2f^1\\left(\\sum_{k=1}^M w_{jk}^1 x_k + b_j^1\\right) + b_i^2\\right]\n",
    "\\label{outputLayer2} \\tag{6}\n",
    "\\end{equation}\n",
    "$$"
   ]
  },
  {
   "cell_type": "markdown",
   "metadata": {},
   "source": [
    "where we have substituted $y_k^1$ with the inputs $x_k$. Finally, the ANN output reads"
   ]
  },
  {
   "cell_type": "markdown",
   "metadata": {},
   "source": [
    "<!-- Equation labels as ordinary links -->\n",
    "<div id=\"_auto3\"></div>\n",
    "\n",
    "$$\n",
    "\\begin{equation}\n",
    " y_i^3 = f^3\\left(\\sum_{j=1}^N w_{ij}^3 y_j^2 + b_i^3\\right) \n",
    "\\label{_auto3} \\tag{7}\n",
    "\\end{equation}\n",
    "$$"
   ]
  },
  {
   "cell_type": "markdown",
   "metadata": {},
   "source": [
    "<!-- Equation labels as ordinary links -->\n",
    "<div id=\"_auto4\"></div>\n",
    "\n",
    "$$\n",
    "\\begin{equation} \n",
    " = f_3\\left[\\sum_{j} w_{ij}^3 f^2\\left(\\sum_{k} w_{jk}^2 f^1\\left(\\sum_{m} w_{km}^1 x_m + b_k^1\\right) + b_j^2\\right)\n",
    "  + b_1^3\\right]\n",
    "\\label{_auto4} \\tag{8}\n",
    "\\end{equation}\n",
    "$$"
   ]
  },
  {
   "cell_type": "markdown",
   "metadata": {},
   "source": [
    "We can generalize this expression to an MLP with $l$ hidden\n",
    "layers. The complete functional form is,"
   ]
  },
  {
   "cell_type": "markdown",
   "metadata": {},
   "source": [
    "<!-- Equation labels as ordinary links -->\n",
    "<div id=\"completeNN\"></div>\n",
    "\n",
    "$$\n",
    "\\begin{equation}\n",
    "y^{l+1}_i = f^{l+1}\\left[\\!\\sum_{j=1}^{N_l} w_{ij}^3 f^l\\left(\\sum_{k=1}^{N_{l-1}}w_{jk}^{l-1}\\left(\\dots f^1\\left(\\sum_{n=1}^{N_0} w_{mn}^1 x_n+ b_m^1\\right)\\dots\\right)+b_k^2\\right)+b_1^3\\right] \n",
    "\\label{completeNN} \\tag{9}\n",
    "\\end{equation}\n",
    "$$"
   ]
  },
  {
   "cell_type": "markdown",
   "metadata": {},
   "source": [
    "which illustrates a basic property of MLPs: The only independent\n",
    "variables are the input values $x_n$.\n",
    "\n",
    "\n",
    "\n",
    "This confirms that an MLP, despite its quite convoluted mathematical\n",
    "form, is nothing more than an analytic function, specifically a\n",
    "mapping of real-valued vectors $\\hat{x} \\in \\mathbb{R}^n \\rightarrow\n",
    "\\hat{y} \\in \\mathbb{R}^m$.\n",
    "\n",
    "Furthermore, the flexibility and universality of an MLP can be\n",
    "illustrated by realizing that the expression is essentially a nested\n",
    "sum of scaled activation functions of the form"
   ]
  },
  {
   "cell_type": "markdown",
   "metadata": {},
   "source": [
    "<!-- Equation labels as ordinary links -->\n",
    "<div id=\"_auto5\"></div>\n",
    "\n",
    "$$\n",
    "\\begin{equation}\n",
    " f(x) = c_1 f(c_2 x + c_3) + c_4\n",
    "\\label{_auto5} \\tag{10}\n",
    "\\end{equation}\n",
    "$$"
   ]
  },
  {
   "cell_type": "markdown",
   "metadata": {},
   "source": [
    "where the parameters $c_i$ are weights and biases. By adjusting these\n",
    "parameters, the activation functions can be shifted up and down or\n",
    "left and right, change slope or be rescaled which is the key to the\n",
    "flexibility of a neural network.\n",
    "\n",
    "\n",
    "We can introduce a more convenient notation for the activations in an A NN. \n",
    "\n",
    "Additionally, we can represent the biases and activations\n",
    "as layer-wise column vectors $\\hat{b}_l$ and $\\hat{y}_l$, so that the $i$-th element of each vector \n",
    "is the bias $b_i^l$ and activation $y_i^l$ of node $i$ in layer $l$ respectively. \n",
    "\n",
    "We have that $\\mathrm{W}_l$ is an $N_{l-1} \\times N_l$ matrix, while $\\hat{b}_l$ and $\\hat{y}_l$ are $N_l \\times 1$ column vectors. \n",
    "With this notation, the sum becomes a matrix-vector multiplication, and we can write\n",
    "the equation for the activations of hidden layer 2 (assuming three nodes for simplicity) as"
   ]
  },
  {
   "cell_type": "markdown",
   "metadata": {},
   "source": [
    "<!-- Equation labels as ordinary links -->\n",
    "<div id=\"_auto6\"></div>\n",
    "\n",
    "$$\n",
    "\\begin{equation}\n",
    " \\hat{y}_2 = f_2(\\mathrm{W}_2 \\hat{y}_{1} + \\hat{b}_{2}) = \n",
    " f_2\\left(\\left[\\begin{array}{ccc}\n",
    "    w^2_{11} &w^2_{12} &w^2_{13} \\\\\n",
    "    w^2_{21} &w^2_{22} &w^2_{23} \\\\\n",
    "    w^2_{31} &w^2_{32} &w^2_{33} \\\\\n",
    "    \\end{array} \\right] \\cdot\n",
    "    \\left[\\begin{array}{c}\n",
    "           y^1_1 \\\\\n",
    "           y^1_2 \\\\\n",
    "           y^1_3 \\\\\n",
    "          \\end{array}\\right] + \n",
    "    \\left[\\begin{array}{c}\n",
    "           b^2_1 \\\\\n",
    "           b^2_2 \\\\\n",
    "           b^2_3 \\\\\n",
    "          \\end{array}\\right]\\right).\n",
    "\\label{_auto6} \\tag{11}\n",
    "\\end{equation}\n",
    "$$"
   ]
  },
  {
   "cell_type": "markdown",
   "metadata": {},
   "source": [
    "The activation of node $i$ in layer 2 is"
   ]
  },
  {
   "cell_type": "markdown",
   "metadata": {},
   "source": [
    "<!-- Equation labels as ordinary links -->\n",
    "<div id=\"_auto7\"></div>\n",
    "\n",
    "$$\n",
    "\\begin{equation}\n",
    " y^2_i = f_2\\Bigr(w^2_{i1}y^1_1 + w^2_{i2}y^1_2 + w^2_{i3}y^1_3 + b^2_i\\Bigr) = \n",
    " f_2\\left(\\sum_{j=1}^3 w^2_{ij} y_j^1 + b^2_i\\right).\n",
    "\\label{_auto7} \\tag{12}\n",
    "\\end{equation}\n",
    "$$"
   ]
  },
  {
   "cell_type": "markdown",
   "metadata": {},
   "source": [
    "This is not just a convenient and compact notation, but also a useful\n",
    "and intuitive way to think about MLPs: The output is calculated by a\n",
    "series of matrix-vector multiplications and vector additions that are\n",
    "used as input to the activation functions. For each operation\n",
    "$\\mathrm{W}_l \\hat{y}_{l-1}$ we move forward one layer.\n",
    "\n",
    "\n",
    "\n",
    "### Activation functions\n",
    "\n",
    "A property that characterizes a neural network, other than its\n",
    "connectivity, is the choice of activation function(s).  As described\n",
    "in, the following restrictions are imposed on an activation function\n",
    "for a FFNN to fulfill the universal approximation theorem\n",
    "\n",
    "  * Non-constant\n",
    "\n",
    "  * Bounded\n",
    "\n",
    "  * Monotonically-increasing\n",
    "\n",
    "  * Continuous\n",
    "\n",
    "The second requirement excludes all linear functions. Furthermore, in\n",
    "a MLP with only linear activation functions, each layer simply\n",
    "performs a linear transformation of its inputs.\n",
    "\n",
    "Regardless of the number of layers, the output of the NN will be\n",
    "nothing but a linear function of the inputs. Thus we need to introduce\n",
    "some kind of non-linearity to the NN to be able to fit non-linear\n",
    "functions Typical examples are the logistic *Sigmoid*"
   ]
  },
  {
   "cell_type": "markdown",
   "metadata": {},
   "source": [
    "$$\n",
    "f(x) = \\frac{1}{1 + e^{-x}},\n",
    "$$"
   ]
  },
  {
   "cell_type": "markdown",
   "metadata": {},
   "source": [
    "and the *hyperbolic tangent* function"
   ]
  },
  {
   "cell_type": "markdown",
   "metadata": {},
   "source": [
    "$$\n",
    "f(x) = \\tanh(x)\n",
    "$$"
   ]
  },
  {
   "cell_type": "markdown",
   "metadata": {},
   "source": [
    "The *sigmoid* function are more biologically plausible because the\n",
    "output of inactive neurons are zero. Such activation function are\n",
    "called *one-sided*. However, it has been shown that the hyperbolic\n",
    "tangent performs better than the sigmoid for training MLPs.  has\n",
    "become the most popular for *deep neural networks*"
   ]
  },
  {
   "cell_type": "code",
   "execution_count": 1,
   "metadata": {
    "collapsed": false,
    "editable": true
   },
   "outputs": [
    {
     "data": {
      "image/png": "[encoded data removed]",
      "text/plain": [
       "<Figure size 640x480 with 1 Axes>"
      ]
     },
     "metadata": {
      "filenames": {
       "image/png": "/Users/mhjensen/Teaching/ComputationalPhysics2/doc/LectureNotes/_build/jupyter_execute/neuralnetworks_29_0.png"
      }
     },
     "output_type": "display_data"
    },
    {
     "data": {
      "image/png": "[encoded data removed]",
      "text/plain": [
       "<Figure size 640x480 with 1 Axes>"
      ]
     },
     "metadata": {
      "filenames": {
       "image/png": "/Users/mhjensen/Teaching/ComputationalPhysics2/doc/LectureNotes/_build/jupyter_execute/neuralnetworks_29_1.png"
      }
     },
     "output_type": "display_data"
    },
    {
     "data": {
      "image/png": "[encoded data removed]",
      "text/plain": [
       "<Figure size 640x480 with 1 Axes>"
      ]
     },
     "metadata": {
      "filenames": {
       "image/png": "/Users/mhjensen/Teaching/ComputationalPhysics2/doc/LectureNotes/_build/jupyter_execute/neuralnetworks_29_2.png"
      }
     },
     "output_type": "display_data"
    },
    {
     "data": {
      "image/png": "[encoded data removed]",
      "text/plain": [
       "<Figure size 640x480 with 1 Axes>"
      ]
     },
     "metadata": {
      "filenames": {
       "image/png": "/Users/mhjensen/Teaching/ComputationalPhysics2/doc/LectureNotes/_build/jupyter_execute/neuralnetworks_29_3.png"
      }
     },
     "output_type": "display_data"
    }
   ],
   "source": [
    "%matplotlib inline\n",
    "\n",
    "\"\"\"The sigmoid function (or the logistic curve) is a \n",
    "function that takes any real number, z, and outputs a number (0,1).\n",
    "It is useful in neural networks for assigning weights on a relative scale.\n",
    "The value z is the weighted sum of parameters involved in the learning algorithm.\"\"\"\n",
    "\n",
    "import numpy\n",
    "import matplotlib.pyplot as plt\n",
    "import math as mt\n",
    "\n",
    "z = numpy.arange(-5, 5, .1)\n",
    "sigma_fn = numpy.vectorize(lambda z: 1/(1+numpy.exp(-z)))\n",
    "sigma = sigma_fn(z)\n",
    "\n",
    "fig = plt.figure()\n",
    "ax = fig.add_subplot(111)\n",
    "ax.plot(z, sigma)\n",
    "ax.set_ylim([-0.1, 1.1])\n",
    "ax.set_xlim([-5,5])\n",
    "ax.grid(True)\n",
    "ax.set_xlabel('z')\n",
    "ax.set_title('sigmoid function')\n",
    "\n",
    "plt.show()\n",
    "\n",
    "\"\"\"Step Function\"\"\"\n",
    "z = numpy.arange(-5, 5, .02)\n",
    "step_fn = numpy.vectorize(lambda z: 1.0 if z >= 0.0 else 0.0)\n",
    "step = step_fn(z)\n",
    "\n",
    "fig = plt.figure()\n",
    "ax = fig.add_subplot(111)\n",
    "ax.plot(z, step)\n",
    "ax.set_ylim([-0.5, 1.5])\n",
    "ax.set_xlim([-5,5])\n",
    "ax.grid(True)\n",
    "ax.set_xlabel('z')\n",
    "ax.set_title('step function')\n",
    "\n",
    "plt.show()\n",
    "\n",
    "\"\"\"Sine Function\"\"\"\n",
    "z = numpy.arange(-2*mt.pi, 2*mt.pi, 0.1)\n",
    "t = numpy.sin(z)\n",
    "\n",
    "fig = plt.figure()\n",
    "ax = fig.add_subplot(111)\n",
    "ax.plot(z, t)\n",
    "ax.set_ylim([-1.0, 1.0])\n",
    "ax.set_xlim([-2*mt.pi,2*mt.pi])\n",
    "ax.grid(True)\n",
    "ax.set_xlabel('z')\n",
    "ax.set_title('sine function')\n",
    "\n",
    "plt.show()\n",
    "\n",
    "\"\"\"Plots a graph of the squashing function used by a rectified linear\n",
    "unit\"\"\"\n",
    "z = numpy.arange(-2, 2, .1)\n",
    "zero = numpy.zeros(len(z))\n",
    "y = numpy.max([zero, z], axis=0)\n",
    "\n",
    "fig = plt.figure()\n",
    "ax = fig.add_subplot(111)\n",
    "ax.plot(z, y)\n",
    "ax.set_ylim([-2.0, 2.0])\n",
    "ax.set_xlim([-2.0, 2.0])\n",
    "ax.grid(True)\n",
    "ax.set_xlabel('z')\n",
    "ax.set_title('Rectified linear unit')\n",
    "\n",
    "plt.show()"
   ]
  },
  {
   "cell_type": "markdown",
   "metadata": {},
   "source": [
    "## The multilayer  perceptron (MLP)\n",
    "\n",
    "The multilayer perceptron is a very popular, and easy to implement approach, to deep learning. It consists of\n",
    "1. A neural network with one or more layers of nodes between the input and the output nodes.\n",
    "\n",
    "2. The multilayer network structure, or architecture, or topology, consists of an input layer, one or more hidden layers, and one output layer.\n",
    "\n",
    "3. The input nodes pass values to the first hidden layer, its nodes pass the information on to the second and so on till we reach the output layer.\n",
    "\n",
    "As a convention it is normal to call  a  network with one layer of input units, one layer of hidden\n",
    "units and one layer of output units as  a two-layer network. A network with two layers of hidden units is called a three-layer network etc etc.\n",
    "\n",
    "For an MLP network there is no direct connection between the output nodes/neurons/units and  the input nodes/neurons/units.\n",
    "Hereafter we will call the various entities of a layer for nodes.\n",
    "There are also no connections within a single layer.\n",
    "\n",
    "The number of input nodes does not need to equal the number of output\n",
    "nodes. This applies also to the hidden layers. Each layer may have its\n",
    "own number of nodes and activation functions.\n",
    "\n",
    "The hidden layers have their name from the fact that they are not\n",
    "linked to observables and as we will see below when we define the\n",
    "so-called activation $\\hat{z}$, we can think of this as a basis\n",
    "expansion of the original inputs $\\hat{x}$. The difference however\n",
    "between neural networks and say linear regression is that now these\n",
    "basis functions (which will correspond to the weights in the network)\n",
    "are learned from data. This results in  an important difference between\n",
    "neural networks and deep learning approaches on one side and methods\n",
    "like logistic regression or linear regression and their modifications on the other side.\n",
    "\n",
    "\n",
    "\n",
    "### From one to many layers, the universal approximation theorem\n",
    "\n",
    "A neural network with only one layer, what we called the simple\n",
    "perceptron, is best suited if we have a standard binary model with\n",
    "clear (linear) boundaries between the outcomes. As such it could\n",
    "equally well be replaced by standard linear regression or logistic\n",
    "regression. Networks with one or more hidden layers approximate\n",
    "systems with more complex boundaries.\n",
    "\n",
    "As stated earlier, \n",
    "an important theorem in studies of neural networks, restated without\n",
    "proof here, is the [universal approximation\n",
    "theorem](http://citeseerx.ist.psu.edu/viewdoc/download?doi=10.1.1.441.7873&rep=rep1&type=pdf).\n",
    "\n",
    "It states that a feed-forward network with a single hidden layer\n",
    "containing a finite number of neurons can approximate continuous\n",
    "functions on compact subsets of real functions. The theorem thus\n",
    "states that simple neural networks can represent a wide variety of\n",
    "interesting functions when given appropriate parameters. It is the\n",
    "multilayer feedforward architecture itself which gives neural networks\n",
    "the potential of being universal approximators.\n",
    "\n",
    "\n",
    "\n",
    "## Deriving the back propagation code for a multilayer perceptron model\n",
    "\n",
    "\n",
    "\n",
    "As we have seen now in a feed forward network, we can express the final output of our network in terms of basic matrix-vector multiplications.\n",
    "The unknowwn quantities are our weights $w_{ij}$ and we need to find an algorithm for changing them so that our errors are as small as possible.\n",
    "This leads us to the famous [back propagation algorithm](https://www.nature.com/articles/323533a0).\n",
    "\n",
    "The questions we want to ask are how do changes in the biases and the\n",
    "weights in our network change the cost function and how can we use the\n",
    "final output to modify the weights?\n",
    "\n",
    "To derive these equations let us start with a plain regression problem\n",
    "and define our cost function as"
   ]
  },
  {
   "cell_type": "markdown",
   "metadata": {},
   "source": [
    "$$\n",
    "{\\cal C}(\\hat{W})  =  \\frac{1}{2}\\sum_{i=1}^n\\left(y_i - t_i\\right)^2,\n",
    "$$"
   ]
  },
  {
   "cell_type": "markdown",
   "metadata": {},
   "source": [
    "where the $t_i$s are our $n$ targets (the values we want to\n",
    "reproduce), while the outputs of the network after having propagated\n",
    "all inputs $\\hat{x}$ are given by $y_i$.  Below we will demonstrate\n",
    "how the basic equations arising from the back propagation algorithm\n",
    "can be modified in order to study classification problems with $K$\n",
    "classes.\n",
    "\n",
    "\n",
    "\n",
    "With our definition of the targets $\\hat{t}$, the outputs of the\n",
    "network $\\hat{y}$ and the inputs $\\hat{x}$ we\n",
    "define now the activation $z_j^l$ of node/neuron/unit $j$ of the\n",
    "$l$-th layer as a function of the bias, the weights which add up from\n",
    "the previous layer $l-1$ and the forward passes/outputs\n",
    "$\\hat{a}^{l-1}$ from the previous layer as"
   ]
  },
  {
   "cell_type": "markdown",
   "metadata": {},
   "source": [
    "$$\n",
    "z_j^l = \\sum_{i=1}^{M_{l-1}}w_{ij}^la_i^{l-1}+b_j^l,\n",
    "$$"
   ]
  },
  {
   "cell_type": "markdown",
   "metadata": {},
   "source": [
    "where $b_k^l$ are the biases from layer $l$.  Here $M_{l-1}$\n",
    "represents the total number of nodes/neurons/units of layer $l-1$. The\n",
    "figure here illustrates this equation.  We can rewrite this in a more\n",
    "compact form as the matrix-vector products we discussed earlier,"
   ]
  },
  {
   "cell_type": "markdown",
   "metadata": {},
   "source": [
    "$$\n",
    "\\hat{z}^l = \\left(\\hat{W}^l\\right)^T\\hat{a}^{l-1}+\\hat{b}^l.\n",
    "$$"
   ]
  },
  {
   "cell_type": "markdown",
   "metadata": {},
   "source": [
    "With the activation values $\\hat{z}^l$ we can in turn define the\n",
    "output of layer $l$ as $\\hat{a}^l = f(\\hat{z}^l)$ where $f$ is our\n",
    "activation function. In the examples here we will use the sigmoid\n",
    "function discussed in our logistic regression lectures. We will also use the same activation function $f$ for all layers\n",
    "and their nodes.  It means we have"
   ]
  },
  {
   "cell_type": "markdown",
   "metadata": {},
   "source": [
    "$$\n",
    "a_j^l = f(z_j^l) = \\frac{1}{1+\\exp{-(z_j^l)}}.\n",
    "$$"
   ]
  },
  {
   "cell_type": "markdown",
   "metadata": {},
   "source": [
    "From the definition of the activation $z_j^l$ we have"
   ]
  },
  {
   "cell_type": "markdown",
   "metadata": {},
   "source": [
    "$$\n",
    "\\frac{\\partial z_j^l}{\\partial w_{ij}^l} = a_i^{l-1},\n",
    "$$"
   ]
  },
  {
   "cell_type": "markdown",
   "metadata": {},
   "source": [
    "and"
   ]
  },
  {
   "cell_type": "markdown",
   "metadata": {},
   "source": [
    "$$\n",
    "\\frac{\\partial z_j^l}{\\partial a_i^{l-1}} = w_{ji}^l.\n",
    "$$"
   ]
  },
  {
   "cell_type": "markdown",
   "metadata": {},
   "source": [
    "With our definition of the activation function we have that (note that this function depends only on $z_j^l$)"
   ]
  },
  {
   "cell_type": "markdown",
   "metadata": {},
   "source": [
    "$$\n",
    "\\frac{\\partial a_j^l}{\\partial z_j^{l}} = a_j^l(1-a_j^l)=f(z_j^l)(1-f(z_j^l)).\n",
    "$$"
   ]
  },
  {
   "cell_type": "markdown",
   "metadata": {},
   "source": [
    "With these definitions we can now compute the derivative of the cost function in terms of the weights.\n",
    "\n",
    "Let us specialize to the output layer $l=L$. Our cost function is"
   ]
  },
  {
   "cell_type": "markdown",
   "metadata": {},
   "source": [
    "$$\n",
    "{\\cal C}(\\hat{W^L})  =  \\frac{1}{2}\\sum_{i=1}^n\\left(y_i - t_i\\right)^2=\\frac{1}{2}\\sum_{i=1}^n\\left(a_i^L - t_i\\right)^2,\n",
    "$$"
   ]
  },
  {
   "cell_type": "markdown",
   "metadata": {},
   "source": [
    "The derivative of this function with respect to the weights is"
   ]
  },
  {
   "cell_type": "markdown",
   "metadata": {},
   "source": [
    "$$\n",
    "\\frac{\\partial{\\cal C}(\\hat{W^L})}{\\partial w_{jk}^L}  =  \\left(a_j^L - t_j\\right)\\frac{\\partial a_j^L}{\\partial w_{jk}^{L}},\n",
    "$$"
   ]
  },
  {
   "cell_type": "markdown",
   "metadata": {},
   "source": [
    "The last partial derivative can easily be computed and reads (by applying the chain rule)"
   ]
  },
  {
   "cell_type": "markdown",
   "metadata": {},
   "source": [
    "$$\n",
    "\\frac{\\partial a_j^L}{\\partial w_{jk}^{L}} = \\frac{\\partial a_j^L}{\\partial z_{j}^{L}}\\frac{\\partial z_j^L}{\\partial w_{jk}^{L}}=a_j^L(1-a_j^L)a_k^{L-1},\n",
    "$$"
   ]
  },
  {
   "cell_type": "markdown",
   "metadata": {},
   "source": [
    "We have thus"
   ]
  },
  {
   "cell_type": "markdown",
   "metadata": {},
   "source": [
    "$$\n",
    "\\frac{\\partial{\\cal C}(\\hat{W^L})}{\\partial w_{jk}^L}  =  \\left(a_j^L - t_j\\right)a_j^L(1-a_j^L)a_k^{L-1},\n",
    "$$"
   ]
  },
  {
   "cell_type": "markdown",
   "metadata": {},
   "source": [
    "Defining"
   ]
  },
  {
   "cell_type": "markdown",
   "metadata": {},
   "source": [
    "$$\n",
    "\\delta_j^L = a_j^L(1-a_j^L)\\left(a_j^L - t_j\\right) = f'(z_j^L)\\frac{\\partial {\\cal C}}{\\partial (a_j^L)},\n",
    "$$"
   ]
  },
  {
   "cell_type": "markdown",
   "metadata": {},
   "source": [
    "and using the Hadamard product of two vectors we can write this as"
   ]
  },
  {
   "cell_type": "markdown",
   "metadata": {},
   "source": [
    "$$\n",
    "\\hat{\\delta}^L = f'(\\hat{z}^L)\\circ\\frac{\\partial {\\cal C}}{\\partial (\\hat{a}^L)}.\n",
    "$$"
   ]
  },
  {
   "cell_type": "markdown",
   "metadata": {},
   "source": [
    "This is an important expression. The second term on the right handside\n",
    "measures how fast the cost function is changing as a function of the $j$th\n",
    "output activation.  If, for example, the cost function doesn't depend\n",
    "much on a particular output node $j$, then $\\delta_j^L$ will be small,\n",
    "which is what we would expect. The first term on the right, measures\n",
    "how fast the activation function $f$ is changing at a given activation\n",
    "value $z_j^L$.\n",
    "\n",
    "Notice that everything in the above equations is easily computed.  In\n",
    "particular, we compute $z_j^L$ while computing the behaviour of the\n",
    "network, and it is only a small additional overhead to compute\n",
    "$f'(z^L_j)$.  The exact form of the derivative with respect to the\n",
    "output depends on the form of the cost function.\n",
    "However, provided the cost function is known there should be little\n",
    "trouble in calculating"
   ]
  },
  {
   "cell_type": "markdown",
   "metadata": {},
   "source": [
    "$$\n",
    "\\frac{\\partial {\\cal C}}{\\partial (a_j^L)}\n",
    "$$"
   ]
  },
  {
   "cell_type": "markdown",
   "metadata": {},
   "source": [
    "With the definition of $\\delta_j^L$ we have a more compact definition of the derivative of the cost function in terms of the weights, namely"
   ]
  },
  {
   "cell_type": "markdown",
   "metadata": {},
   "source": [
    "$$\n",
    "\\frac{\\partial{\\cal C}(\\hat{W^L})}{\\partial w_{jk}^L}  =  \\delta_j^La_k^{L-1}.\n",
    "$$"
   ]
  },
  {
   "cell_type": "markdown",
   "metadata": {},
   "source": [
    "It is also easy to see that our previous equation can be written as"
   ]
  },
  {
   "cell_type": "markdown",
   "metadata": {},
   "source": [
    "$$\n",
    "\\delta_j^L =\\frac{\\partial {\\cal C}}{\\partial z_j^L}= \\frac{\\partial {\\cal C}}{\\partial a_j^L}\\frac{\\partial a_j^L}{\\partial z_j^L},\n",
    "$$"
   ]
  },
  {
   "cell_type": "markdown",
   "metadata": {},
   "source": [
    "which can also be interpreted as the partial derivative of the cost function with respect to the biases $b_j^L$, namely"
   ]
  },
  {
   "cell_type": "markdown",
   "metadata": {},
   "source": [
    "$$\n",
    "\\delta_j^L = \\frac{\\partial {\\cal C}}{\\partial b_j^L}\\frac{\\partial b_j^L}{\\partial z_j^L}=\\frac{\\partial {\\cal C}}{\\partial b_j^L},\n",
    "$$"
   ]
  },
  {
   "cell_type": "markdown",
   "metadata": {},
   "source": [
    "That is, the error $\\delta_j^L$ is exactly equal to the rate of change of the cost function as a function of the bias. \n",
    "\n",
    "\n",
    "We have now three equations that are essential for the computations of the derivatives of the cost function at the output layer. These equations are needed to start the algorithm and they are\n",
    "\n",
    "**The starting equations.**"
   ]
  },
  {
   "cell_type": "markdown",
   "metadata": {},
   "source": [
    "<!-- Equation labels as ordinary links -->\n",
    "<div id=\"_auto8\"></div>\n",
    "\n",
    "$$\n",
    "\\begin{equation}\n",
    "\\frac{\\partial{\\cal C}(\\hat{W^L})}{\\partial w_{jk}^L}  =  \\delta_j^La_k^{L-1},\n",
    "\\label{_auto8} \\tag{13}\n",
    "\\end{equation}\n",
    "$$"
   ]
  },
  {
   "cell_type": "markdown",
   "metadata": {},
   "source": [
    "and"
   ]
  },
  {
   "cell_type": "markdown",
   "metadata": {},
   "source": [
    "<!-- Equation labels as ordinary links -->\n",
    "<div id=\"_auto9\"></div>\n",
    "\n",
    "$$\n",
    "\\begin{equation}\n",
    "\\delta_j^L = f'(z_j^L)\\frac{\\partial {\\cal C}}{\\partial (a_j^L)},\n",
    "\\label{_auto9} \\tag{14}\n",
    "\\end{equation}\n",
    "$$"
   ]
  },
  {
   "cell_type": "markdown",
   "metadata": {},
   "source": [
    "and"
   ]
  },
  {
   "cell_type": "markdown",
   "metadata": {},
   "source": [
    "<!-- Equation labels as ordinary links -->\n",
    "<div id=\"_auto10\"></div>\n",
    "\n",
    "$$\n",
    "\\begin{equation}\n",
    "\\delta_j^L = \\frac{\\partial {\\cal C}}{\\partial b_j^L},\n",
    "\\label{_auto10} \\tag{15}\n",
    "\\end{equation}\n",
    "$$"
   ]
  },
  {
   "cell_type": "markdown",
   "metadata": {},
   "source": [
    "An interesting consequence of the above equations is that when the\n",
    "activation $a_k^{L-1}$ is small, the gradient term, that is the\n",
    "derivative of the cost function with respect to the weights, will also\n",
    "tend to be small. We say then that the weight learns slowly, meaning\n",
    "that it changes slowly when we minimize the weights via say gradient\n",
    "descent. In this case we say the system learns slowly.\n",
    "\n",
    "Another interesting feature is that is when the activation function,\n",
    "represented by the sigmoid function here, is rather flat when we move towards\n",
    "its end values $0$ and $1$ (see the above Python codes). In these\n",
    "cases, the derivatives of the activation function will also be close\n",
    "to zero, meaning again that the gradients will be small and the\n",
    "network learns slowly again.\n",
    "\n",
    "\n",
    "\n",
    "We need a fourth equation and we are set. We are going to propagate\n",
    "backwards in order to the determine the weights and biases. In order\n",
    "to do so we need to represent the error in the layer before the final\n",
    "one $L-1$ in terms of the errors in the final output layer.\n",
    "\n",
    "\n",
    "\n",
    "We have that (replacing $L$ with a general layer $l$)"
   ]
  },
  {
   "cell_type": "markdown",
   "metadata": {},
   "source": [
    "$$\n",
    "\\delta_j^l =\\frac{\\partial {\\cal C}}{\\partial z_j^l}.\n",
    "$$"
   ]
  },
  {
   "cell_type": "markdown",
   "metadata": {},
   "source": [
    "We want to express this in terms of the equations for layer $l+1$. Using the chain rule and summing over all $k$ entries we have"
   ]
  },
  {
   "cell_type": "markdown",
   "metadata": {},
   "source": [
    "$$\n",
    "\\delta_j^l =\\sum_k \\frac{\\partial {\\cal C}}{\\partial z_k^{l+1}}\\frac{\\partial z_k^{l+1}}{\\partial z_j^{l}}=\\sum_k \\delta_k^{l+1}\\frac{\\partial z_k^{l+1}}{\\partial z_j^{l}},\n",
    "$$"
   ]
  },
  {
   "cell_type": "markdown",
   "metadata": {},
   "source": [
    "and recalling that"
   ]
  },
  {
   "cell_type": "markdown",
   "metadata": {},
   "source": [
    "$$\n",
    "z_j^{l+1} = \\sum_{i=1}^{M_{l}}w_{ij}^{l+1}a_i^{l}+b_j^{l+1},\n",
    "$$"
   ]
  },
  {
   "cell_type": "markdown",
   "metadata": {},
   "source": [
    "with $M_l$ being the number of nodes in layer $l$, we obtain"
   ]
  },
  {
   "cell_type": "markdown",
   "metadata": {},
   "source": [
    "$$\n",
    "\\delta_j^l =\\sum_k \\delta_k^{l+1}w_{kj}^{l+1}f'(z_j^l),\n",
    "$$"
   ]
  },
  {
   "cell_type": "markdown",
   "metadata": {},
   "source": [
    "This is our final equation.\n",
    "\n",
    "We are now ready to set up the algorithm for back propagation and learning the weights and biases.\n",
    "\n",
    "\n",
    "## Setting up the Back propagation algorithm\n",
    "\n",
    "\n",
    "\n",
    "The four equations  provide us with a way of computing the gradient of the cost function. Let us write this out in the form of an algorithm.\n",
    "\n",
    "First, we set up the input data $\\hat{x}$ and the activations\n",
    "$\\hat{z}_1$ of the input layer and compute the activation function and\n",
    "the pertinent outputs $\\hat{a}^1$.\n",
    "\n",
    "\n",
    "\n",
    "Secondly, we perform then the feed forward till we reach the output\n",
    "layer and compute all $\\hat{z}_l$ of the input layer and compute the\n",
    "activation function and the pertinent outputs $\\hat{a}^l$ for\n",
    "$l=2,3,\\dots,L$.\n",
    "\n",
    "\n",
    "\n",
    "Thereafter we compute the ouput error $\\hat{\\delta}^L$ by computing all"
   ]
  },
  {
   "cell_type": "markdown",
   "metadata": {},
   "source": [
    "$$\n",
    "\\delta_j^L = f'(z_j^L)\\frac{\\partial {\\cal C}}{\\partial (a_j^L)}.\n",
    "$$"
   ]
  },
  {
   "cell_type": "markdown",
   "metadata": {},
   "source": [
    "Then we compute the back propagate error for each $l=L-1,L-2,\\dots,2$ as"
   ]
  },
  {
   "cell_type": "markdown",
   "metadata": {},
   "source": [
    "$$\n",
    "\\delta_j^l = \\sum_k \\delta_k^{l+1}w_{kj}^{l+1}f'(z_j^l).\n",
    "$$"
   ]
  },
  {
   "cell_type": "markdown",
   "metadata": {},
   "source": [
    "Finally, we update the weights and the biases using gradient descent for each $l=L-1,L-2,\\dots,2$ and update the weights and biases according to the rules"
   ]
  },
  {
   "cell_type": "markdown",
   "metadata": {},
   "source": [
    "$$\n",
    "w_{jk}^l\\leftarrow  = w_{jk}^l- \\eta \\delta_j^la_k^{l-1},\n",
    "$$"
   ]
  },
  {
   "cell_type": "markdown",
   "metadata": {},
   "source": [
    "$$\n",
    "b_j^l \\leftarrow b_j^l-\\eta \\frac{\\partial {\\cal C}}{\\partial b_j^l}=b_j^l-\\eta \\delta_j^l,\n",
    "$$"
   ]
  },
  {
   "cell_type": "markdown",
   "metadata": {},
   "source": [
    "The parameter $\\eta$ is the learning parameter discussed in connection with the gradient descent methods.\n",
    "Here it is convenient to use stochastic gradient descent (see the examples below) with mini-batches with an outer loop that steps through multiple epochs of training.\n",
    "\n",
    "\n",
    "\n",
    "\n",
    "\n",
    "## Setting up a Multi-layer perceptron model for classification\n",
    "\n",
    "We are now gong to develop an example based on the MNIST data\n",
    "base. This is a classification problem and we need to use our\n",
    "cross-entropy function we discussed in connection with logistic\n",
    "regression. The cross-entropy defines our cost function for the\n",
    "classificaton problems with neural networks.\n",
    "\n",
    "In binary classification with two classes $(0, 1)$ we define the\n",
    "logistic/sigmoid function as the probability that a particular input\n",
    "is in class $0$ or $1$.  This is possible because the logistic\n",
    "function takes any input from the real numbers and inputs a number\n",
    "between 0 and 1, and can therefore be interpreted as a probability. It\n",
    "also has other nice properties, such as a derivative that is simple to\n",
    "calculate.\n",
    "\n",
    "For an input $\\boldsymbol{a}$ from the hidden layer, the probability that the input $\\boldsymbol{x}$\n",
    "is in class 0 or 1 is just. We let $\\theta$ represent the unknown weights and biases to be adjusted by our equations). The variable $x$\n",
    "represents our activation values $z$. We have"
   ]
  },
  {
   "cell_type": "markdown",
   "metadata": {},
   "source": [
    "$$\n",
    "P(y = 0 \\mid \\hat{x}, \\hat{\\theta}) = \\frac{1}{1 + \\exp{(- \\hat{x}})} ,\n",
    "$$"
   ]
  },
  {
   "cell_type": "markdown",
   "metadata": {},
   "source": [
    "and"
   ]
  },
  {
   "cell_type": "markdown",
   "metadata": {},
   "source": [
    "$$\n",
    "P(y = 1 \\mid \\hat{x}, \\hat{\\theta}) = 1 - P(y = 0 \\mid \\hat{x}, \\hat{\\theta}) ,\n",
    "$$"
   ]
  },
  {
   "cell_type": "markdown",
   "metadata": {},
   "source": [
    "where $y \\in \\{0, 1\\}$  and $\\hat{\\theta}$ represents the weights and biases\n",
    "of our network.\n",
    "\n",
    "\n",
    "\n",
    "Our cost function is given as (see the Logistic regression lectures)"
   ]
  },
  {
   "cell_type": "markdown",
   "metadata": {},
   "source": [
    "$$\n",
    "\\mathcal{C}(\\hat{\\theta}) = - \\ln P(\\mathcal{D} \\mid \\hat{\\theta}) = - \\sum_{i=1}^n\n",
    "y_i \\ln[P(y_i = 0)] + (1 - y_i) \\ln [1 - P(y_i = 0)] = \\sum_{i=1}^n \\mathcal{L}_i(\\hat{\\theta}) .\n",
    "$$"
   ]
  },
  {
   "cell_type": "markdown",
   "metadata": {},
   "source": [
    "This last equality means that we can interpret our *cost* function as a sum over the *loss* function\n",
    "for each point in the dataset $\\mathcal{L}_i(\\hat{\\theta})$.  \n",
    "The negative sign is just so that we can think about our algorithm as minimizing a positive number, rather\n",
    "than maximizing a negative number.  \n",
    "\n",
    "In *multiclass* classification it is common to treat each integer label as a so called *one-hot* vector:  \n",
    "\n",
    "$y = 5 \\quad \\rightarrow \\quad \\hat{y} = (0, 0, 0, 0, 0, 1, 0, 0, 0, 0) ,$ and\n",
    "\n",
    "\n",
    "$y = 1 \\quad \\rightarrow \\quad \\hat{y} = (0, 1, 0, 0, 0, 0, 0, 0, 0, 0) ,$ \n",
    "\n",
    "\n",
    "i.e. a binary bit string of length $C$, where $C = 10$ is the number of classes in the MNIST dataset (numbers from $0$ to $9$)..  \n",
    "\n",
    "If $\\hat{x}_i$ is the $i$-th input (image), $y_{ic}$ refers to the $c$-th component of the $i$-th\n",
    "output vector $\\hat{y}_i$.  \n",
    "The probability of $\\hat{x}_i$ being in class $c$ will be given by the softmax function:"
   ]
  },
  {
   "cell_type": "markdown",
   "metadata": {},
   "source": [
    "$$\n",
    "P(y_{ic} = 1 \\mid \\hat{x}_i, \\hat{\\theta}) = \\frac{\\exp{((\\hat{a}_i^{hidden})^T \\hat{w}_c)}}\n",
    "{\\sum_{c'=0}^{C-1} \\exp{((\\hat{a}_i^{hidden})^T \\hat{w}_{c'})}} ,\n",
    "$$"
   ]
  },
  {
   "cell_type": "markdown",
   "metadata": {},
   "source": [
    "which reduces to the logistic function in the binary case.  \n",
    "The likelihood of this $C$-class classifier\n",
    "is now given as:"
   ]
  },
  {
   "cell_type": "markdown",
   "metadata": {},
   "source": [
    "$$\n",
    "P(\\mathcal{D} \\mid \\hat{\\theta}) = \\prod_{i=1}^n \\prod_{c=0}^{C-1} [P(y_{ic} = 1)]^{y_{ic}} .\n",
    "$$"
   ]
  },
  {
   "cell_type": "markdown",
   "metadata": {},
   "source": [
    "Again we take the negative log-likelihood to define our cost function:"
   ]
  },
  {
   "cell_type": "markdown",
   "metadata": {},
   "source": [
    "$$\n",
    "\\mathcal{C}(\\hat{\\theta}) = - \\log{P(\\mathcal{D} \\mid \\hat{\\theta})}.\n",
    "$$"
   ]
  },
  {
   "cell_type": "markdown",
   "metadata": {},
   "source": [
    "See the logistic regression lectures for a full definition of the cost function.\n",
    "\n",
    "The back propagation equations need now only a small change, namely the definition of a new cost function. We are thus ready to use the same equations as before!\n",
    "\n",
    "\n",
    "### Example: binary classification problem\n",
    "\n",
    "As an example of the above, relevant for project 2 as well, let us consider a binary class. As discussed in our logistic regression lectures, we defined a cost function in terms of the parameters $\\beta$ as"
   ]
  },
  {
   "cell_type": "markdown",
   "metadata": {},
   "source": [
    "$$\n",
    "\\mathcal{C}(\\hat{\\beta}) = - \\sum_{i=1}^n \\left(y_i\\log{p(y_i \\vert x_i,\\hat{\\beta})}+(1-y_i)\\log{1-p(y_i \\vert x_i,\\hat{\\beta})}\\right),\n",
    "$$"
   ]
  },
  {
   "cell_type": "markdown",
   "metadata": {},
   "source": [
    "where we had defined the logistic (sigmoid) function"
   ]
  },
  {
   "cell_type": "markdown",
   "metadata": {},
   "source": [
    "$$\n",
    "p(y_i =1\\vert x_i,\\hat{\\beta})=\\frac{\\exp{(\\beta_0+\\beta_1 x_i)}}{1+\\exp{(\\beta_0+\\beta_1 x_i)}},\n",
    "$$"
   ]
  },
  {
   "cell_type": "markdown",
   "metadata": {},
   "source": [
    "and"
   ]
  },
  {
   "cell_type": "markdown",
   "metadata": {},
   "source": [
    "$$\n",
    "p(y_i =0\\vert x_i,\\hat{\\beta})=1-p(y_i =1\\vert x_i,\\hat{\\beta}).\n",
    "$$"
   ]
  },
  {
   "cell_type": "markdown",
   "metadata": {},
   "source": [
    "The parameters $\\hat{\\beta}$ were defined using a minimization method like gradient descent or Newton-Raphson's method. \n",
    "\n",
    "Now we replace $x_i$ with the activation $z_i^l$ for a given layer $l$ and the outputs as $y_i=a_i^l=f(z_i^l)$, with $z_i^l$ now being a function of the weights $w_{ij}^l$ and biases $b_i^l$. \n",
    "We have then"
   ]
  },
  {
   "cell_type": "markdown",
   "metadata": {},
   "source": [
    "$$\n",
    "a_i^l = y_i = \\frac{\\exp{(z_i^l)}}{1+\\exp{(z_i^l)}},\n",
    "$$"
   ]
  },
  {
   "cell_type": "markdown",
   "metadata": {},
   "source": [
    "with"
   ]
  },
  {
   "cell_type": "markdown",
   "metadata": {},
   "source": [
    "$$\n",
    "z_i^l = \\sum_{j}w_{ij}^l a_j^{l-1}+b_i^l,\n",
    "$$"
   ]
  },
  {
   "cell_type": "markdown",
   "metadata": {},
   "source": [
    "where the superscript $l-1$ indicates that these are the outputs from layer $l-1$.\n",
    "Our cost function at the final layer $l=L$ is now"
   ]
  },
  {
   "cell_type": "markdown",
   "metadata": {},
   "source": [
    "$$\n",
    "\\mathcal{C}(\\hat{W}) = - \\sum_{i=1}^n \\left(t_i\\log{a_i^L}+(1-t_i)\\log{(1-a_i^L)}\\right),\n",
    "$$"
   ]
  },
  {
   "cell_type": "markdown",
   "metadata": {},
   "source": [
    "where we have defined the targets $t_i$. The derivatives of the cost function with respect to the output $a_i^L$ are then easily calculated and we get"
   ]
  },
  {
   "cell_type": "markdown",
   "metadata": {},
   "source": [
    "$$\n",
    "\\frac{\\partial \\mathcal{C}(\\hat{W})}{\\partial a_i^L} = \\frac{a_i^L-t_i}{a_i^L(1-a_i^L)}.\n",
    "$$"
   ]
  },
  {
   "cell_type": "markdown",
   "metadata": {},
   "source": [
    "In case we use another activation function than the logistic one, we need to evaluate other derivatives. \n",
    "\n",
    "\n",
    "\n",
    "### The Softmax function\n",
    "\n",
    "In case we employ the more general case given by the Softmax equation, we need to evaluate the derivative of the activation function with respect to the activation $z_i^l$, that is we need"
   ]
  },
  {
   "cell_type": "markdown",
   "metadata": {},
   "source": [
    "$$\n",
    "\\frac{\\partial f(z_i^l)}{\\partial w_{jk}^l} =\n",
    "\\frac{\\partial f(z_i^l)}{\\partial z_j^l} \\frac{\\partial z_j^l}{\\partial w_{jk}^l}= \\frac{\\partial f(z_i^l)}{\\partial z_j^l}a_k^{l-1}.\n",
    "$$"
   ]
  },
  {
   "cell_type": "markdown",
   "metadata": {},
   "source": [
    "For the Softmax function we have"
   ]
  },
  {
   "cell_type": "markdown",
   "metadata": {},
   "source": [
    "$$\n",
    "f(z_i^l) = \\frac{\\exp{(z_i^l)}}{\\sum_{m=1}^K\\exp{(z_m^l)}}.\n",
    "$$"
   ]
  },
  {
   "cell_type": "markdown",
   "metadata": {},
   "source": [
    "Its derivative with respect to $z_j^l$ gives"
   ]
  },
  {
   "cell_type": "markdown",
   "metadata": {},
   "source": [
    "$$\n",
    "\\frac{\\partial f(z_i^l)}{\\partial z_j^l}= f(z_i^l)\\left(\\delta_{ij}-f(z_j^l)\\right),\n",
    "$$"
   ]
  },
  {
   "cell_type": "markdown",
   "metadata": {},
   "source": [
    "which in case of the simply binary model reduces to  having $i=j$. \n",
    "\n",
    "\n",
    "### Developing a code for doing neural networks with back propagation\n",
    "\n",
    "One can identify a set of key steps when using neural networks to solve supervised learning problems:  \n",
    "\n",
    "1. Collect and pre-process data  \n",
    "\n",
    "2. Define model and architecture  \n",
    "\n",
    "3. Choose cost function and optimizer  \n",
    "\n",
    "4. Train the model  \n",
    "\n",
    "5. Evaluate model performance on test data  \n",
    "\n",
    "6. Adjust hyperparameters (if necessary, network architecture)\n",
    "\n",
    "### Collect and pre-process data\n",
    "\n",
    "Here we will be using the MNIST dataset, which is readily available through the **scikit-learn**\n",
    "package. You may also find it for example [here](http://yann.lecun.com/exdb/mnist/).  \n",
    "The *MNIST* (Modified National Institute of Standards and Technology) database is a large database\n",
    "of handwritten digits that is commonly used for training various image processing systems.  \n",
    "The MNIST dataset consists of 70 000 images of size $28\\times 28$ pixels, each labeled from 0 to 9.  \n",
    "The scikit-learn dataset we will use consists of a selection of 1797 images of size $8\\times 8$ collected and processed from this database.  \n",
    "\n",
    "To feed data into a feed-forward neural network we need to represent\n",
    "the inputs as a design/feature matrix $X = (n_{inputs}, n_{features})$.  Each\n",
    "row represents an *input*, in this case a handwritten digit, and\n",
    "each column represents a *feature*, in this case a pixel.  The\n",
    "correct answers, also known as *labels* or *targets* are\n",
    "represented as a 1D array of integers \n",
    "$Y = (n_{inputs}) = (5, 3, 1, 8,...)$.\n",
    "\n",
    "As an example, say we want to build a neural network using supervised learning to predict Body-Mass Index (BMI) from\n",
    "measurements of height (in m)  \n",
    "and weight (in kg). If we have measurements of 5 people the design/feature matrix could be for example:  \n",
    "\n",
    "$$ X = \\begin{bmatrix}\n",
    "1.85 & 81\\\\\n",
    "1.71 & 65\\\\\n",
    "1.95 & 103\\\\\n",
    "1.55 & 42\\\\\n",
    "1.63 & 56\n",
    "\\end{bmatrix} ,$$  \n",
    "\n",
    "and the targets would be:  \n",
    "\n",
    "$$ Y = (23.7, 22.2, 27.1, 17.5, 21.1) $$  \n",
    "\n",
    "Since each input image is a 2D matrix, we need to flatten the image\n",
    "(i.e. \"unravel\" the 2D matrix into a 1D array) to turn the data into a\n",
    "design/feature matrix. This means we lose all spatial information in the\n",
    "image, such as locality and translational invariance. More complicated\n",
    "architectures such as Convolutional Neural Networks can take advantage\n",
    "of such information, and are most commonly applied when analyzing\n",
    "images."
   ]
  },
  {
   "cell_type": "code",
   "execution_count": 2,
   "metadata": {
    "collapsed": false,
    "editable": true
   },
   "outputs": [
    {
     "name": "stdout",
     "output_type": "stream",
     "text": [
      "inputs = (n_inputs, pixel_width, pixel_height) = (1797, 8, 8)\n",
      "labels = (n_inputs) = (1797,)\n",
      "X = (n_inputs, n_features) = (1797, 64)\n"
     ]
    },
    {
     "data": {
      "image/png": "[encoded data removed]",
      "text/plain": [
       "<Figure size 1200x1200 with 5 Axes>"
      ]
     },
     "metadata": {
      "filenames": {
       "image/png": "/Users/mhjensen/Teaching/ComputationalPhysics2/doc/LectureNotes/_build/jupyter_execute/neuralnetworks_118_1.png"
      }
     },
     "output_type": "display_data"
    }
   ],
   "source": [
    "# import necessary packages\n",
    "import numpy as np\n",
    "import matplotlib.pyplot as plt\n",
    "from sklearn import datasets\n",
    "\n",
    "\n",
    "# ensure the same random numbers appear every time\n",
    "np.random.seed(0)\n",
    "\n",
    "# display images in notebook\n",
    "%matplotlib inline\n",
    "plt.rcParams['figure.figsize'] = (12,12)\n",
    "\n",
    "\n",
    "# download MNIST dataset\n",
    "digits = datasets.load_digits()\n",
    "\n",
    "# define inputs and labels\n",
    "inputs = digits.images\n",
    "labels = digits.target\n",
    "\n",
    "print(\"inputs = (n_inputs, pixel_width, pixel_height) = \" + str(inputs.shape))\n",
    "print(\"labels = (n_inputs) = \" + str(labels.shape))\n",
    "\n",
    "\n",
    "# flatten the image\n",
    "# the value -1 means dimension is inferred from the remaining dimensions: 8x8 = 64\n",
    "n_inputs = len(inputs)\n",
    "inputs = inputs.reshape(n_inputs, -1)\n",
    "print(\"X = (n_inputs, n_features) = \" + str(inputs.shape))\n",
    "\n",
    "\n",
    "# choose some random images to display\n",
    "indices = np.arange(n_inputs)\n",
    "random_indices = np.random.choice(indices, size=5)\n",
    "\n",
    "for i, image in enumerate(digits.images[random_indices]):\n",
    "    plt.subplot(1, 5, i+1)\n",
    "    plt.axis('off')\n",
    "    plt.imshow(image, cmap=plt.cm.gray_r, interpolation='nearest')\n",
    "    plt.title(\"Label: %d\" % digits.target[random_indices[i]])\n",
    "plt.show()"
   ]
  },
  {
   "cell_type": "markdown",
   "metadata": {},
   "source": [
    "### Train and test datasets\n",
    "\n",
    "Performing analysis before partitioning the dataset is a major error, that can lead to incorrect conclusions.  \n",
    "\n",
    "We will reserve $80 \\%$ of our dataset for training and $20 \\%$ for testing.  \n",
    "\n",
    "It is important that the train and test datasets are drawn randomly from our dataset, to ensure\n",
    "no bias in the sampling.  \n",
    "Say you are taking measurements of weather data to predict the weather in the coming 5 days.\n",
    "You don't want to train your model on measurements taken from the hours 00.00 to 12.00, and then test it on data\n",
    "collected from 12.00 to 24.00."
   ]
  },
  {
   "cell_type": "code",
   "execution_count": 3,
   "metadata": {
    "collapsed": false,
    "editable": true
   },
   "outputs": [
    {
     "name": "stdout",
     "output_type": "stream",
     "text": [
      "Number of training images: 1437\n",
      "Number of test images: 360\n"
     ]
    }
   ],
   "source": [
    "from sklearn.model_selection import train_test_split\n",
    "\n",
    "# one-liner from scikit-learn library\n",
    "train_size = 0.8\n",
    "test_size = 1 - train_size\n",
    "X_train, X_test, Y_train, Y_test = train_test_split(inputs, labels, train_size=train_size,\n",
    "                                                    test_size=test_size)\n",
    "\n",
    "# equivalently in numpy\n",
    "def train_test_split_numpy(inputs, labels, train_size, test_size):\n",
    "    n_inputs = len(inputs)\n",
    "    inputs_shuffled = inputs.copy()\n",
    "    labels_shuffled = labels.copy()\n",
    "    \n",
    "    np.random.shuffle(inputs_shuffled)\n",
    "    np.random.shuffle(labels_shuffled)\n",
    "    \n",
    "    train_end = int(n_inputs*train_size)\n",
    "    X_train, X_test = inputs_shuffled[:train_end], inputs_shuffled[train_end:]\n",
    "    Y_train, Y_test = labels_shuffled[:train_end], labels_shuffled[train_end:]\n",
    "    \n",
    "    return X_train, X_test, Y_train, Y_test\n",
    "\n",
    "#X_train, X_test, Y_train, Y_test = train_test_split_numpy(inputs, labels, train_size, test_size)\n",
    "\n",
    "print(\"Number of training images: \" + str(len(X_train)))\n",
    "print(\"Number of test images: \" + str(len(X_test)))"
   ]
  },
  {
   "cell_type": "markdown",
   "metadata": {},
   "source": [
    "### Define model and architecture\n",
    "\n",
    "Our simple feed-forward neural network will consist of an *input* layer, a single *hidden* layer and an *output* layer. The activation $y$ of each neuron is a weighted sum of inputs, passed through an activation function. In case of the simple perceptron model we have \n",
    "\n",
    "$$ z = \\sum_{i=1}^n w_i a_i ,$$\n",
    "\n",
    "$$ y = f(z) ,$$\n",
    "\n",
    "where $f$ is the activation function, $a_i$ represents input from neuron $i$ in the preceding layer\n",
    "and $w_i$ is the weight to input $i$.  \n",
    "The activation of the neurons in the input layer is just the features (e.g. a pixel value).  \n",
    "\n",
    "The simplest activation function for a neuron is the *Heaviside* function:\n",
    "\n",
    "$$ f(z) = \n",
    "\\begin{cases}\n",
    "1,  &  z > 0\\\\\n",
    "0,  & \\text{otherwise}\n",
    "\\end{cases}\n",
    "$$\n",
    "\n",
    "A feed-forward neural network with this activation is known as a *perceptron*.  \n",
    "For a binary classifier (i.e. two classes, 0 or 1, dog or not-dog) we can also use this in our output layer.  \n",
    "This activation can be generalized to $k$ classes (using e.g. the *one-against-all* strategy), \n",
    "and we call these architectures *multiclass perceptrons*.  \n",
    "\n",
    "However, it is now common to use the terms Single Layer Perceptron (SLP) (1 hidden layer) and  \n",
    "Multilayer Perceptron (MLP) (2 or more hidden layers) to refer to feed-forward neural networks with any activation function.  \n",
    "\n",
    "Typical choices for activation functions include the sigmoid function, hyperbolic tangent, and Rectified Linear Unit (ReLU).  \n",
    "We will be using the sigmoid function $\\sigma(x)$:  \n",
    "\n",
    "$$ f(x) = \\sigma(x) = \\frac{1}{1 + e^{-x}} ,$$\n",
    "\n",
    "which is inspired by probability theory (see logistic regression) and was most commonly used until about 2011. See the discussion below concerning other activation functions.\n",
    "\n",
    "\n",
    "### Layers\n",
    "\n",
    "* Input \n",
    "\n",
    "Since each input image has 8x8 = 64 pixels or features, we have an input layer of 64 neurons.  \n",
    "\n",
    "* Hidden layer\n",
    "\n",
    "We will use 50 neurons in the hidden layer receiving input from the neurons in the input layer.  \n",
    "Since each neuron in the hidden layer is connected to the 64 inputs we have 64x50 = 3200 weights to the hidden layer.  \n",
    "\n",
    "* Output\n",
    "\n",
    "If we were building a binary classifier, it would be sufficient with a single neuron in the output layer,\n",
    "which could output 0 or 1 according to the Heaviside function. This would be an example of a *hard* classifier, meaning it outputs the class of the input directly. However, if we are dealing with noisy data it is often beneficial to use a *soft* classifier, which outputs the probability of being in class 0 or 1.  \n",
    "\n",
    "For a soft binary classifier, we could use a single neuron and interpret the output as either being the probability of being in class 0 or the probability of being in class 1. Alternatively we could use 2 neurons, and interpret each neuron as the probability of being in each class.  \n",
    "\n",
    "Since we are doing multiclass classification, with 10 categories, it is natural to use 10 neurons in the output layer. We number the neurons $j = 0,1,...,9$. The activation of each output neuron $j$ will be according to the *softmax* function:  \n",
    "\n",
    "$$ P(\\text{class $j$} \\mid \\text{input $\\hat{a}$}) = \\frac{\\exp{(\\hat{a}^T \\hat{w}_j)}}\n",
    "{\\sum_{c=0}^{9} \\exp{(\\hat{a}^T \\hat{w}_c)}} ,$$  \n",
    "\n",
    "i.e. each neuron $j$ outputs the probability of being in class $j$ given an input from the hidden layer $\\hat{a}$, with $\\hat{w}_j$ the weights of neuron $j$ to the inputs.  \n",
    "The denominator is a normalization factor to ensure the outputs (probabilities) sum up to 1.  \n",
    "The exponent is just the weighted sum of inputs as before:  \n",
    "\n",
    "$$ z_j = \\sum_{i=1}^n w_ {ij} a_i+b_j.$$  \n",
    "\n",
    "Since each neuron in the output layer is connected to the 50 inputs from the hidden layer we have 50x10 = 500\n",
    "weights to the output layer.\n",
    "\n",
    "\n",
    "### Weights and biases\n",
    "\n",
    "Typically weights are initialized with small values distributed around zero, drawn from a uniform\n",
    "or normal distribution. Setting all weights to zero means all neurons give the same output, making the network useless.  \n",
    "\n",
    "Adding a bias value to the weighted sum of inputs allows the neural network to represent a greater range\n",
    "of values. Without it, any input with the value 0 will be mapped to zero (before being passed through the activation). The bias unit has an output of 1, and a weight to each neuron $j$, $b_j$:  \n",
    "\n",
    "$$ z_j = \\sum_{i=1}^n w_ {ij} a_i + b_j.$$  \n",
    "\n",
    "The bias weights $\\hat{b}$ are often initialized to zero, but a small value like $0.01$ ensures all neurons have some output which can be backpropagated in the first training cycle."
   ]
  },
  {
   "cell_type": "code",
   "execution_count": 4,
   "metadata": {
    "collapsed": false,
    "editable": true
   },
   "outputs": [],
   "source": [
    "# building our neural network\n",
    "\n",
    "n_inputs, n_features = X_train.shape\n",
    "n_hidden_neurons = 50\n",
    "n_categories = 10\n",
    "\n",
    "# we make the weights normally distributed using numpy.random.randn\n",
    "\n",
    "# weights and bias in the hidden layer\n",
    "hidden_weights = np.random.randn(n_features, n_hidden_neurons)\n",
    "hidden_bias = np.zeros(n_hidden_neurons) + 0.01\n",
    "\n",
    "# weights and bias in the output layer\n",
    "output_weights = np.random.randn(n_hidden_neurons, n_categories)\n",
    "output_bias = np.zeros(n_categories) + 0.01"
   ]
  },
  {
   "cell_type": "markdown",
   "metadata": {},
   "source": [
    "### Feed-forward pass\n",
    "\n",
    "Denote $F$ the number of features, $H$ the number of hidden neurons and $C$ the number of categories.  \n",
    "For each input image we calculate a weighted sum of input features (pixel values) to each neuron $j$ in the hidden layer $l$:  \n",
    "\n",
    "$$ z_{j}^{l} = \\sum_{i=1}^{F} w_{ij}^{l} x_i + b_{j}^{l},$$\n",
    "\n",
    "this is then passed through our activation function  \n",
    "\n",
    "$$ a_{j}^{l} = f(z_{j}^{l}) .$$  \n",
    "\n",
    "We calculate a weighted sum of inputs (activations in the hidden layer) to each neuron $j$ in the output layer:  \n",
    "\n",
    "$$ z_{j}^{L} = \\sum_{i=1}^{H} w_{ij}^{L} a_{i}^{l} + b_{j}^{L}.$$  \n",
    "\n",
    "Finally we calculate the output of neuron $j$ in the output layer using the softmax function:  \n",
    "\n",
    "$$ a_{j}^{L} = \\frac{\\exp{(z_j^{L})}}\n",
    "{\\sum_{c=0}^{C-1} \\exp{(z_c^{L})}} .$$  \n",
    "\n",
    "\n",
    "### Matrix multiplications\n",
    "\n",
    "Since our data has the dimensions $X = (n_{inputs}, n_{features})$ and our weights to the hidden\n",
    "layer have the dimensions  \n",
    "$W_{hidden} = (n_{features}, n_{hidden})$,\n",
    "we can easily feed the network all our training data in one go by taking the matrix product  \n",
    "\n",
    "$$ X W^{h} = (n_{inputs}, n_{hidden}),$$ \n",
    "\n",
    "and obtain a matrix that holds the weighted sum of inputs to the hidden layer\n",
    "for each input image and each hidden neuron.    \n",
    "We also add the bias to obtain a matrix of weighted sums to the hidden layer $Z^{h}$:  \n",
    "\n",
    "$$ \\hat{z}^{l} = \\hat{X} \\hat{W}^{l} + \\hat{b}^{l} ,$$\n",
    "\n",
    "meaning the same bias (1D array with size equal number of hidden neurons) is added to each input image.  \n",
    "This is then passed through the activation:  \n",
    "\n",
    "$$ \\hat{a}^{l} = f(\\hat{z}^l) .$$  \n",
    "\n",
    "This is fed to the output layer:  \n",
    "\n",
    "$$ \\hat{z}^{L} = \\hat{a}^{L} \\hat{W}^{L} + \\hat{b}^{L} .$$\n",
    "\n",
    "Finally we receive our output values for each image and each category by passing it through the softmax function:  \n",
    "\n",
    "$$ output = softmax (\\hat{z}^{L}) = (n_{inputs}, n_{categories}) .$$"
   ]
  },
  {
   "cell_type": "code",
   "execution_count": 5,
   "metadata": {
    "collapsed": false,
    "editable": true
   },
   "outputs": [
    {
     "name": "stdout",
     "output_type": "stream",
     "text": [
      "probabilities = (n_inputs, n_categories) = (1437, 10)\n",
      "probability that image 0 is in category 0,1,2,...,9 = \n",
      "[5.41511965e-04 2.17174962e-03 8.84355903e-03 1.44970586e-03\n",
      " 1.10378326e-04 5.08318298e-09 2.03256632e-04 1.92507116e-03\n",
      " 9.84443254e-01 3.11507992e-04]\n",
      "probabilities sum up to: 1.0\n",
      "\n",
      "predictions = (n_inputs) = (1437,)\n",
      "prediction for image 0: 8\n",
      "correct label for image 0: 6\n"
     ]
    }
   ],
   "source": [
    "# setup the feed-forward pass, subscript h = hidden layer\n",
    "\n",
    "def sigmoid(x):\n",
    "    return 1/(1 + np.exp(-x))\n",
    "\n",
    "def feed_forward(X):\n",
    "    # weighted sum of inputs to the hidden layer\n",
    "    z_h = np.matmul(X, hidden_weights) + hidden_bias\n",
    "    # activation in the hidden layer\n",
    "    a_h = sigmoid(z_h)\n",
    "    \n",
    "    # weighted sum of inputs to the output layer\n",
    "    z_o = np.matmul(a_h, output_weights) + output_bias\n",
    "    # softmax output\n",
    "    # axis 0 holds each input and axis 1 the probabilities of each category\n",
    "    exp_term = np.exp(z_o)\n",
    "    probabilities = exp_term / np.sum(exp_term, axis=1, keepdims=True)\n",
    "    \n",
    "    return probabilities\n",
    "\n",
    "probabilities = feed_forward(X_train)\n",
    "print(\"probabilities = (n_inputs, n_categories) = \" + str(probabilities.shape))\n",
    "print(\"probability that image 0 is in category 0,1,2,...,9 = \\n\" + str(probabilities[0]))\n",
    "print(\"probabilities sum up to: \" + str(probabilities[0].sum()))\n",
    "print()\n",
    "\n",
    "# we obtain a prediction by taking the class with the highest likelihood\n",
    "def predict(X):\n",
    "    probabilities = feed_forward(X)\n",
    "    return np.argmax(probabilities, axis=1)\n",
    "\n",
    "predictions = predict(X_train)\n",
    "print(\"predictions = (n_inputs) = \" + str(predictions.shape))\n",
    "print(\"prediction for image 0: \" + str(predictions[0]))\n",
    "print(\"correct label for image 0: \" + str(Y_train[0]))"
   ]
  },
  {
   "cell_type": "markdown",
   "metadata": {},
   "source": [
    "### Choose cost function and optimizer\n",
    "\n",
    "To measure how well our neural network is doing we need to introduce a cost function.  \n",
    "We will call the function that gives the error of a single sample output the *loss* function, and the function\n",
    "that gives the total error of our network across all samples the *cost* function.\n",
    "A typical choice for multiclass classification is the *cross-entropy* loss, also known as the negative log likelihood.  \n",
    "\n",
    "In *multiclass* classification it is common to treat each integer label as a so called *one-hot* vector:  \n",
    "\n",
    "$$ y = 5 \\quad \\rightarrow \\quad \\hat{y} = (0, 0, 0, 0, 0, 1, 0, 0, 0, 0) ,$$  \n",
    "\n",
    "\n",
    "$$ y = 1 \\quad \\rightarrow \\quad \\hat{y} = (0, 1, 0, 0, 0, 0, 0, 0, 0, 0) ,$$  \n",
    "\n",
    "\n",
    "i.e. a binary bit string of length $C$, where $C = 10$ is the number of classes in the MNIST dataset.  \n",
    "\n",
    "Let $y_{ic}$ denote the $c$-th component of the $i$-th one-hot vector.  \n",
    "We define the cost function $\\mathcal{C}$ as a sum over the cross-entropy loss for each point $\\hat{x}_i$ in the dataset.\n",
    "\n",
    "In the one-hot representation only one of the terms in the loss function is non-zero, namely the\n",
    "probability of the correct category $c'$  \n",
    "(i.e. the category $c'$ such that $y_{ic'} = 1$). This means that the cross entropy loss only punishes you for how wrong\n",
    "you got the correct label. The probability of category $c$ is given by the softmax function. The vector $\\hat{\\theta}$ represents the parameters of our network, i.e. all the weights and biases.  \n",
    "\n",
    "\n",
    "\n",
    "### Optimizing the cost function\n",
    "\n",
    "The network is trained by finding the weights and biases that minimize the cost function. One of the most widely used classes of methods is *gradient descent* and its generalizations. The idea behind gradient descent\n",
    "is simply to adjust the weights in the direction where the gradient of the cost function is large and negative. This ensures we flow toward a *local* minimum of the cost function.  \n",
    "Each parameter $\\theta$ is iteratively adjusted according to the rule  \n",
    "\n",
    "$$ \\theta_{i+1} = \\theta_i - \\eta \\nabla \\mathcal{C}(\\theta_i) ,$$\n",
    "\n",
    "where $\\eta$ is known as the *learning rate*, which controls how big a step we take towards the minimum.  \n",
    "This update can be repeated for any number of iterations, or until we are satisfied with the result.  \n",
    "\n",
    "A simple and effective improvement is a variant called *Batch Gradient Descent*.  \n",
    "Instead of calculating the gradient on the whole dataset, we calculate an approximation of the gradient\n",
    "on a subset of the data called a *minibatch*.  \n",
    "If there are $N$ data points and we have a minibatch size of $M$, the total number of batches\n",
    "is $N/M$.  \n",
    "We denote each minibatch $B_k$, with $k = 1, 2,...,N/M$. The gradient then becomes:  \n",
    "\n",
    "$$ \\nabla \\mathcal{C}(\\theta) = \\frac{1}{N} \\sum_{i=1}^N \\nabla \\mathcal{L}_i(\\theta) \\quad \\rightarrow \\quad\n",
    "\\frac{1}{M} \\sum_{i \\in B_k} \\nabla \\mathcal{L}_i(\\theta) ,$$\n",
    "\n",
    "i.e. instead of averaging the loss over the entire dataset, we average over a minibatch.  \n",
    "\n",
    "This has two important benefits:  \n",
    "1. Introducing stochasticity decreases the chance that the algorithm becomes stuck in a local minima.  \n",
    "\n",
    "2. It significantly speeds up the calculation, since we do not have to use the entire dataset to calculate the gradient.  \n",
    "\n",
    "The various optmization  methods, with codes and algorithms,  are discussed in our lectures on [Gradient descent approaches](https://compphysics.github.io/MachineLearning/doc/pub/Splines/html/Splines-bs.html).\n",
    "\n",
    "\n",
    "### Regularization\n",
    "\n",
    "It is common to add an extra term to the cost function, proportional\n",
    "to the size of the weights.  This is equivalent to constraining the\n",
    "size of the weights, so that they do not grow out of control.\n",
    "Constraining the size of the weights means that the weights cannot\n",
    "grow arbitrarily large to fit the training data, and in this way\n",
    "reduces *overfitting*.\n",
    "\n",
    "We will measure the size of the weights using the so called *L2-norm*, meaning our cost function becomes:  \n",
    "\n",
    "$$  \\mathcal{C}(\\theta) = \\frac{1}{N} \\sum_{i=1}^N \\mathcal{L}_i(\\theta) \\quad \\rightarrow \\quad\n",
    "\\frac{1}{N} \\sum_{i=1}^N  \\mathcal{L}_i(\\theta) + \\lambda \\lvert \\lvert \\hat{w} \\rvert \\rvert_2^2 \n",
    "= \\frac{1}{N} \\sum_{i=1}^N  \\mathcal{L}(\\theta) + \\lambda \\sum_{ij} w_{ij}^2,$$  \n",
    "\n",
    "i.e. we sum up all the weights squared. The factor $\\lambda$ is known as a regularization parameter.\n",
    "\n",
    "\n",
    "In order to train the model, we need to calculate the derivative of\n",
    "the cost function with respect to every bias and weight in the\n",
    "network.  In total our network has $(64 + 1)\\times 50=3250$ weights in\n",
    "the hidden layer and $(50 + 1)\\times 10=510$ weights to the output\n",
    "layer ($+1$ for the bias), and the gradient must be calculated for\n",
    "every parameter.  We use the *backpropagation* algorithm discussed\n",
    "above. This is a clever use of the chain rule that allows us to\n",
    "calculate the gradient efficently. \n",
    "\n",
    "\n",
    "\n",
    "### Matrix  multiplication\n",
    "\n",
    "To more efficently train our network these equations are implemented using matrix operations.  \n",
    "The error in the output layer is calculated simply as, with $\\hat{t}$ being our targets,  \n",
    "\n",
    "$$ \\delta_L = \\hat{t} - \\hat{y} = (n_{inputs}, n_{categories}) .$$  \n",
    "\n",
    "The gradient for the output weights is calculated as  \n",
    "\n",
    "$$ \\nabla W_{L} = \\hat{a}^T \\delta_L   = (n_{hidden}, n_{categories}) ,$$\n",
    "\n",
    "where $\\hat{a} = (n_{inputs}, n_{hidden})$. This simply means that we are summing up the gradients for each input.  \n",
    "Since we are going backwards we have to transpose the activation matrix.  \n",
    "\n",
    "The gradient with respect to the output bias is then  \n",
    "\n",
    "$$ \\nabla \\hat{b}_{L} = \\sum_{i=1}^{n_{inputs}} \\delta_L = (n_{categories}) .$$  \n",
    "\n",
    "The error in the hidden layer is  \n",
    "\n",
    "$$ \\Delta_h = \\delta_L W_{L}^T \\circ f'(z_{h}) = \\delta_L W_{L}^T \\circ a_{h} \\circ (1 - a_{h}) = (n_{inputs}, n_{hidden}) ,$$  \n",
    "\n",
    "where $f'(a_{h})$ is the derivative of the activation in the hidden layer. The matrix products mean\n",
    "that we are summing up the products for each neuron in the output layer. The symbol $\\circ$ denotes\n",
    "the *Hadamard product*, meaning element-wise multiplication.  \n",
    "\n",
    "This again gives us the gradients in the hidden layer:  \n",
    "\n",
    "$$ \\nabla W_{h} = X^T \\delta_h = (n_{features}, n_{hidden}) ,$$  \n",
    "\n",
    "$$ \\nabla b_{h} = \\sum_{i=1}^{n_{inputs}} \\delta_h = (n_{hidden}) .$$"
   ]
  },
  {
   "cell_type": "code",
   "execution_count": 6,
   "metadata": {
    "collapsed": false,
    "editable": true
   },
   "outputs": [
    {
     "name": "stdout",
     "output_type": "stream",
     "text": [
      "Old accuracy on training data: 0.1440501043841336\n"
     ]
    },
    {
     "name": "stderr",
     "output_type": "stream",
     "text": [
      "/var/folders/td/3yk470mj5p931p9dtkk0y6jw0000gn/T/ipykernel_67844/953065564.py:4: RuntimeWarning: overflow encountered in exp\n",
      "  return 1/(1 + np.exp(-x))\n"
     ]
    },
    {
     "name": "stdout",
     "output_type": "stream",
     "text": [
      "New accuracy on training data: 0.09951287404314545\n"
     ]
    }
   ],
   "source": [
    "# to categorical turns our integer vector into a onehot representation\n",
    "from sklearn.metrics import accuracy_score\n",
    "\n",
    "# one-hot in numpy\n",
    "def to_categorical_numpy(integer_vector):\n",
    "    n_inputs = len(integer_vector)\n",
    "    n_categories = np.max(integer_vector) + 1\n",
    "    onehot_vector = np.zeros((n_inputs, n_categories))\n",
    "    onehot_vector[range(n_inputs), integer_vector] = 1\n",
    "    \n",
    "    return onehot_vector\n",
    "\n",
    "#Y_train_onehot, Y_test_onehot = to_categorical(Y_train), to_categorical(Y_test)\n",
    "Y_train_onehot, Y_test_onehot = to_categorical_numpy(Y_train), to_categorical_numpy(Y_test)\n",
    "\n",
    "def feed_forward_train(X):\n",
    "    # weighted sum of inputs to the hidden layer\n",
    "    z_h = np.matmul(X, hidden_weights) + hidden_bias\n",
    "    # activation in the hidden layer\n",
    "    a_h = sigmoid(z_h)\n",
    "    \n",
    "    # weighted sum of inputs to the output layer\n",
    "    z_o = np.matmul(a_h, output_weights) + output_bias\n",
    "    # softmax output\n",
    "    # axis 0 holds each input and axis 1 the probabilities of each category\n",
    "    exp_term = np.exp(z_o)\n",
    "    probabilities = exp_term / np.sum(exp_term, axis=1, keepdims=True)\n",
    "    \n",
    "    # for backpropagation need activations in hidden and output layers\n",
    "    return a_h, probabilities\n",
    "\n",
    "def backpropagation(X, Y):\n",
    "    a_h, probabilities = feed_forward_train(X)\n",
    "    \n",
    "    # error in the output layer\n",
    "    error_output = probabilities - Y\n",
    "    # error in the hidden layer\n",
    "    error_hidden = np.matmul(error_output, output_weights.T) * a_h * (1 - a_h)\n",
    "    \n",
    "    # gradients for the output layer\n",
    "    output_weights_gradient = np.matmul(a_h.T, error_output)\n",
    "    output_bias_gradient = np.sum(error_output, axis=0)\n",
    "    \n",
    "    # gradient for the hidden layer\n",
    "    hidden_weights_gradient = np.matmul(X.T, error_hidden)\n",
    "    hidden_bias_gradient = np.sum(error_hidden, axis=0)\n",
    "\n",
    "    return output_weights_gradient, output_bias_gradient, hidden_weights_gradient, hidden_bias_gradient\n",
    "\n",
    "print(\"Old accuracy on training data: \" + str(accuracy_score(predict(X_train), Y_train)))\n",
    "\n",
    "eta = 0.01\n",
    "lmbd = 0.01\n",
    "for i in range(1000):\n",
    "    # calculate gradients\n",
    "    dWo, dBo, dWh, dBh = backpropagation(X_train, Y_train_onehot)\n",
    "    \n",
    "    # regularization term gradients\n",
    "    dWo += lmbd * output_weights\n",
    "    dWh += lmbd * hidden_weights\n",
    "    \n",
    "    # update weights and biases\n",
    "    output_weights -= eta * dWo\n",
    "    output_bias -= eta * dBo\n",
    "    hidden_weights -= eta * dWh\n",
    "    hidden_bias -= eta * dBh\n",
    "\n",
    "print(\"New accuracy on training data: \" + str(accuracy_score(predict(X_train), Y_train)))"
   ]
  },
  {
   "cell_type": "markdown",
   "metadata": {},
   "source": [
    "### Improving performance\n",
    "\n",
    "As we can see the network does not seem to be learning at all. It seems to be just guessing the label for each image.  \n",
    "In order to obtain a network that does something useful, we will have to do a bit more work.  \n",
    "\n",
    "The choice of *hyperparameters* such as learning rate and regularization parameter is hugely influential for the performance of the network. Typically a *grid-search* is performed, wherein we test different hyperparameters separated by orders of magnitude. For example we could test the learning rates $\\eta = 10^{-6}, 10^{-5},...,10^{-1}$ with different regularization parameters $\\lambda = 10^{-6},...,10^{-0}$.  \n",
    "\n",
    "Next, we haven't implemented minibatching yet, which introduces stochasticity and is though to act as an important regularizer on the weights. We call a feed-forward + backward pass with a minibatch an *iteration*, and a full training period\n",
    "going through the entire dataset ($n/M$ batches) an *epoch*.\n",
    "\n",
    "If this does not improve network performance, you may want to consider altering the network architecture, adding more neurons or hidden layers.  \n",
    "Andrew Ng goes through some of these considerations in this [video](https://youtu.be/F1ka6a13S9I). You can find a summary of the video [here](https://kevinzakka.github.io/2016/09/26/applying-deep-learning/).  \n",
    "\n",
    "\n",
    "### Full object-oriented implementation\n",
    "\n",
    "It is very natural to think of the network as an object, with specific instances of the network\n",
    "being realizations of this object with different hyperparameters. An implementation using Python classes provides a clean structure and interface, and the full implementation of our neural network is given below."
   ]
  },
  {
   "cell_type": "code",
   "execution_count": 7,
   "metadata": {
    "collapsed": false,
    "editable": true
   },
   "outputs": [],
   "source": [
    "class NeuralNetwork:\n",
    "    def __init__(\n",
    "            self,\n",
    "            X_data,\n",
    "            Y_data,\n",
    "            n_hidden_neurons=50,\n",
    "            n_categories=10,\n",
    "            epochs=10,\n",
    "            batch_size=100,\n",
    "            eta=0.1,\n",
    "            lmbd=0.0):\n",
    "\n",
    "        self.X_data_full = X_data\n",
    "        self.Y_data_full = Y_data\n",
    "\n",
    "        self.n_inputs = X_data.shape[0]\n",
    "        self.n_features = X_data.shape[1]\n",
    "        self.n_hidden_neurons = n_hidden_neurons\n",
    "        self.n_categories = n_categories\n",
    "\n",
    "        self.epochs = epochs\n",
    "        self.batch_size = batch_size\n",
    "        self.iterations = self.n_inputs // self.batch_size\n",
    "        self.eta = eta\n",
    "        self.lmbd = lmbd\n",
    "\n",
    "        self.create_biases_and_weights()\n",
    "\n",
    "    def create_biases_and_weights(self):\n",
    "        self.hidden_weights = np.random.randn(self.n_features, self.n_hidden_neurons)\n",
    "        self.hidden_bias = np.zeros(self.n_hidden_neurons) + 0.01\n",
    "\n",
    "        self.output_weights = np.random.randn(self.n_hidden_neurons, self.n_categories)\n",
    "        self.output_bias = np.zeros(self.n_categories) + 0.01\n",
    "\n",
    "    def feed_forward(self):\n",
    "        # feed-forward for training\n",
    "        self.z_h = np.matmul(self.X_data, self.hidden_weights) + self.hidden_bias\n",
    "        self.a_h = sigmoid(self.z_h)\n",
    "\n",
    "        self.z_o = np.matmul(self.a_h, self.output_weights) + self.output_bias\n",
    "\n",
    "        exp_term = np.exp(self.z_o)\n",
    "        self.probabilities = exp_term / np.sum(exp_term, axis=1, keepdims=True)\n",
    "\n",
    "    def feed_forward_out(self, X):\n",
    "        # feed-forward for output\n",
    "        z_h = np.matmul(X, self.hidden_weights) + self.hidden_bias\n",
    "        a_h = sigmoid(z_h)\n",
    "\n",
    "        z_o = np.matmul(a_h, self.output_weights) + self.output_bias\n",
    "        \n",
    "        exp_term = np.exp(z_o)\n",
    "        probabilities = exp_term / np.sum(exp_term, axis=1, keepdims=True)\n",
    "        return probabilities\n",
    "\n",
    "    def backpropagation(self):\n",
    "        error_output = self.probabilities - self.Y_data\n",
    "        error_hidden = np.matmul(error_output, self.output_weights.T) * self.a_h * (1 - self.a_h)\n",
    "\n",
    "        self.output_weights_gradient = np.matmul(self.a_h.T, error_output)\n",
    "        self.output_bias_gradient = np.sum(error_output, axis=0)\n",
    "\n",
    "        self.hidden_weights_gradient = np.matmul(self.X_data.T, error_hidden)\n",
    "        self.hidden_bias_gradient = np.sum(error_hidden, axis=0)\n",
    "\n",
    "        if self.lmbd > 0.0:\n",
    "            self.output_weights_gradient += self.lmbd * self.output_weights\n",
    "            self.hidden_weights_gradient += self.lmbd * self.hidden_weights\n",
    "\n",
    "        self.output_weights -= self.eta * self.output_weights_gradient\n",
    "        self.output_bias -= self.eta * self.output_bias_gradient\n",
    "        self.hidden_weights -= self.eta * self.hidden_weights_gradient\n",
    "        self.hidden_bias -= self.eta * self.hidden_bias_gradient\n",
    "\n",
    "    def predict(self, X):\n",
    "        probabilities = self.feed_forward_out(X)\n",
    "        return np.argmax(probabilities, axis=1)\n",
    "\n",
    "    def predict_probabilities(self, X):\n",
    "        probabilities = self.feed_forward_out(X)\n",
    "        return probabilities\n",
    "\n",
    "    def train(self):\n",
    "        data_indices = np.arange(self.n_inputs)\n",
    "\n",
    "        for i in range(self.epochs):\n",
    "            for j in range(self.iterations):\n",
    "                # pick datapoints with replacement\n",
    "                chosen_datapoints = np.random.choice(\n",
    "                    data_indices, size=self.batch_size, replace=False\n",
    "                )\n",
    "\n",
    "                # minibatch training data\n",
    "                self.X_data = self.X_data_full[chosen_datapoints]\n",
    "                self.Y_data = self.Y_data_full[chosen_datapoints]\n",
    "\n",
    "                self.feed_forward()\n",
    "                self.backpropagation()"
   ]
  },
  {
   "cell_type": "markdown",
   "metadata": {},
   "source": [
    "### Evaluate model performance on test data\n",
    "\n",
    "To measure the performance of our network we evaluate how well it does it data it has never seen before, i.e. the test data.  \n",
    "We measure the performance of the network using the *accuracy* score.  \n",
    "The accuracy is as you would expect just the number of images correctly labeled divided by the total number of images. A perfect classifier will have an accuracy score of $1$.  \n",
    "\n",
    "$$ \\text{Accuracy} = \\frac{\\sum_{i=1}^n I(\\hat{y}_i = y_i)}{n} ,$$  \n",
    "\n",
    "where $I$ is the indicator function, $1$ if $\\hat{y}_i = y_i$ and $0$ otherwise."
   ]
  },
  {
   "cell_type": "code",
   "execution_count": 8,
   "metadata": {
    "collapsed": false,
    "editable": true
   },
   "outputs": [
    {
     "name": "stdout",
     "output_type": "stream",
     "text": [
      "Accuracy score on test set:  0.9444444444444444\n"
     ]
    }
   ],
   "source": [
    "epochs = 100\n",
    "batch_size = 100\n",
    "\n",
    "dnn = NeuralNetwork(X_train, Y_train_onehot, eta=eta, lmbd=lmbd, epochs=epochs, batch_size=batch_size,\n",
    "                    n_hidden_neurons=n_hidden_neurons, n_categories=n_categories)\n",
    "dnn.train()\n",
    "test_predict = dnn.predict(X_test)\n",
    "\n",
    "# accuracy score from scikit library\n",
    "print(\"Accuracy score on test set: \", accuracy_score(Y_test, test_predict))\n",
    "\n",
    "# equivalent in numpy\n",
    "def accuracy_score_numpy(Y_test, Y_pred):\n",
    "    return np.sum(Y_test == Y_pred) / len(Y_test)\n",
    "\n",
    "#print(\"Accuracy score on test set: \", accuracy_score_numpy(Y_test, test_predict))"
   ]
  },
  {
   "cell_type": "markdown",
   "metadata": {},
   "source": [
    "### Adjust hyperparameters\n",
    "\n",
    "We now perform a grid search to find the optimal hyperparameters for the network.  \n",
    "Note that we are only using 1 layer with 50 neurons, and human performance is estimated to be around $98\\%$ ($2\\%$ error rate)."
   ]
  },
  {
   "cell_type": "code",
   "execution_count": 9,
   "metadata": {
    "collapsed": false,
    "editable": true
   },
   "outputs": [
    {
     "name": "stdout",
     "output_type": "stream",
     "text": [
      "Learning rate  =  1e-05\n",
      "Lambda =  1e-05\n",
      "Accuracy score on test set:  0.11666666666666667\n",
      "\n"
     ]
    },
    {
     "name": "stdout",
     "output_type": "stream",
     "text": [
      "Learning rate  =  1e-05\n",
      "Lambda =  0.0001\n",
      "Accuracy score on test set:  0.20833333333333334\n",
      "\n"
     ]
    },
    {
     "name": "stdout",
     "output_type": "stream",
     "text": [
      "Learning rate  =  1e-05\n",
      "Lambda =  0.001\n",
      "Accuracy score on test set:  0.12222222222222222\n",
      "\n"
     ]
    },
    {
     "name": "stdout",
     "output_type": "stream",
     "text": [
      "Learning rate  =  1e-05\n",
      "Lambda =  0.01\n",
      "Accuracy score on test set:  0.14722222222222223\n",
      "\n"
     ]
    },
    {
     "name": "stdout",
     "output_type": "stream",
     "text": [
      "Learning rate  =  1e-05\n",
      "Lambda =  0.1\n",
      "Accuracy score on test set:  0.17777777777777778\n",
      "\n"
     ]
    },
    {
     "name": "stdout",
     "output_type": "stream",
     "text": [
      "Learning rate  =  1e-05\n",
      "Lambda =  1.0\n",
      "Accuracy score on test set:  0.16111111111111112\n",
      "\n"
     ]
    },
    {
     "name": "stdout",
     "output_type": "stream",
     "text": [
      "Learning rate  =  1e-05\n",
      "Lambda =  10.0\n",
      "Accuracy score on test set:  0.20277777777777778\n",
      "\n"
     ]
    },
    {
     "name": "stdout",
     "output_type": "stream",
     "text": [
      "Learning rate  =  0.0001\n",
      "Lambda =  1e-05\n",
      "Accuracy score on test set:  0.5305555555555556\n",
      "\n"
     ]
    },
    {
     "name": "stdout",
     "output_type": "stream",
     "text": [
      "Learning rate  =  0.0001\n",
      "Lambda =  0.0001\n",
      "Accuracy score on test set:  0.5944444444444444\n",
      "\n"
     ]
    },
    {
     "name": "stdout",
     "output_type": "stream",
     "text": [
      "Learning rate  =  0.0001\n",
      "Lambda =  0.001\n",
      "Accuracy score on test set:  0.5888888888888889\n",
      "\n"
     ]
    },
    {
     "name": "stdout",
     "output_type": "stream",
     "text": [
      "Learning rate  =  0.0001\n",
      "Lambda =  0.01\n",
      "Accuracy score on test set:  0.6111111111111112\n",
      "\n"
     ]
    },
    {
     "name": "stdout",
     "output_type": "stream",
     "text": [
      "Learning rate  =  0.0001\n",
      "Lambda =  0.1\n",
      "Accuracy score on test set:  0.5222222222222223\n",
      "\n"
     ]
    },
    {
     "name": "stdout",
     "output_type": "stream",
     "text": [
      "Learning rate  =  0.0001\n",
      "Lambda =  1.0\n",
      "Accuracy score on test set:  0.5555555555555556\n",
      "\n"
     ]
    },
    {
     "name": "stdout",
     "output_type": "stream",
     "text": [
      "Learning rate  =  0.0001\n",
      "Lambda =  10.0\n",
      "Accuracy score on test set:  0.8055555555555556\n",
      "\n"
     ]
    },
    {
     "name": "stdout",
     "output_type": "stream",
     "text": [
      "Learning rate  =  0.001\n",
      "Lambda =  1e-05\n",
      "Accuracy score on test set:  0.85\n",
      "\n"
     ]
    },
    {
     "name": "stdout",
     "output_type": "stream",
     "text": [
      "Learning rate  =  0.001\n",
      "Lambda =  0.0001\n",
      "Accuracy score on test set:  0.85\n",
      "\n"
     ]
    },
    {
     "name": "stdout",
     "output_type": "stream",
     "text": [
      "Learning rate  =  0.001\n",
      "Lambda =  0.001\n",
      "Accuracy score on test set:  0.875\n",
      "\n"
     ]
    },
    {
     "name": "stdout",
     "output_type": "stream",
     "text": [
      "Learning rate  =  0.001\n",
      "Lambda =  0.01\n",
      "Accuracy score on test set:  0.8666666666666667\n",
      "\n"
     ]
    },
    {
     "name": "stdout",
     "output_type": "stream",
     "text": [
      "Learning rate  =  0.001\n",
      "Lambda =  0.1\n",
      "Accuracy score on test set:  0.8638888888888889\n",
      "\n"
     ]
    },
    {
     "name": "stdout",
     "output_type": "stream",
     "text": [
      "Learning rate  =  0.001\n",
      "Lambda =  1.0\n",
      "Accuracy score on test set:  0.9555555555555556\n",
      "\n"
     ]
    },
    {
     "name": "stdout",
     "output_type": "stream",
     "text": [
      "Learning rate  =  0.001\n",
      "Lambda =  10.0\n",
      "Accuracy score on test set:  0.925\n",
      "\n"
     ]
    },
    {
     "name": "stdout",
     "output_type": "stream",
     "text": [
      "Learning rate  =  0.01\n",
      "Lambda =  1e-05\n",
      "Accuracy score on test set:  0.9472222222222222\n",
      "\n"
     ]
    },
    {
     "name": "stdout",
     "output_type": "stream",
     "text": [
      "Learning rate  =  0.01\n",
      "Lambda =  0.0001\n",
      "Accuracy score on test set:  0.9277777777777778\n",
      "\n"
     ]
    },
    {
     "name": "stdout",
     "output_type": "stream",
     "text": [
      "Learning rate  =  0.01\n",
      "Lambda =  0.001\n",
      "Accuracy score on test set:  0.9472222222222222\n",
      "\n"
     ]
    },
    {
     "name": "stdout",
     "output_type": "stream",
     "text": [
      "Learning rate  =  0.01\n",
      "Lambda =  0.01\n",
      "Accuracy score on test set:  0.9305555555555556\n",
      "\n"
     ]
    },
    {
     "name": "stdout",
     "output_type": "stream",
     "text": [
      "Learning rate  =  0.01\n",
      "Lambda =  0.1\n",
      "Accuracy score on test set:  0.9555555555555556\n",
      "\n"
     ]
    },
    {
     "name": "stdout",
     "output_type": "stream",
     "text": [
      "Learning rate  =  0.01\n",
      "Lambda =  1.0\n",
      "Accuracy score on test set:  0.7694444444444445\n",
      "\n"
     ]
    },
    {
     "name": "stdout",
     "output_type": "stream",
     "text": [
      "Learning rate  =  0.01\n",
      "Lambda =  10.0\n",
      "Accuracy score on test set:  0.19166666666666668\n",
      "\n"
     ]
    },
    {
     "name": "stderr",
     "output_type": "stream",
     "text": [
      "/var/folders/td/3yk470mj5p931p9dtkk0y6jw0000gn/T/ipykernel_67844/953065564.py:4: RuntimeWarning: overflow encountered in exp\n",
      "  return 1/(1 + np.exp(-x))\n"
     ]
    },
    {
     "name": "stdout",
     "output_type": "stream",
     "text": [
      "Learning rate  =  0.1\n",
      "Lambda =  1e-05\n",
      "Accuracy score on test set:  0.10555555555555556\n",
      "\n"
     ]
    },
    {
     "name": "stderr",
     "output_type": "stream",
     "text": [
      "/var/folders/td/3yk470mj5p931p9dtkk0y6jw0000gn/T/ipykernel_67844/953065564.py:4: RuntimeWarning: overflow encountered in exp\n",
      "  return 1/(1 + np.exp(-x))\n"
     ]
    },
    {
     "name": "stdout",
     "output_type": "stream",
     "text": [
      "Learning rate  =  0.1\n",
      "Lambda =  0.0001\n",
      "Accuracy score on test set:  0.08611111111111111\n",
      "\n"
     ]
    },
    {
     "name": "stderr",
     "output_type": "stream",
     "text": [
      "/var/folders/td/3yk470mj5p931p9dtkk0y6jw0000gn/T/ipykernel_67844/953065564.py:4: RuntimeWarning: overflow encountered in exp\n",
      "  return 1/(1 + np.exp(-x))\n"
     ]
    },
    {
     "name": "stdout",
     "output_type": "stream",
     "text": [
      "Learning rate  =  0.1\n",
      "Lambda =  0.001\n",
      "Accuracy score on test set:  0.10555555555555556\n",
      "\n"
     ]
    },
    {
     "name": "stderr",
     "output_type": "stream",
     "text": [
      "/var/folders/td/3yk470mj5p931p9dtkk0y6jw0000gn/T/ipykernel_67844/953065564.py:4: RuntimeWarning: overflow encountered in exp\n",
      "  return 1/(1 + np.exp(-x))\n"
     ]
    },
    {
     "name": "stdout",
     "output_type": "stream",
     "text": [
      "Learning rate  =  0.1\n",
      "Lambda =  0.01\n",
      "Accuracy score on test set:  0.08888888888888889\n",
      "\n"
     ]
    },
    {
     "name": "stderr",
     "output_type": "stream",
     "text": [
      "/var/folders/td/3yk470mj5p931p9dtkk0y6jw0000gn/T/ipykernel_67844/953065564.py:4: RuntimeWarning: overflow encountered in exp\n",
      "  return 1/(1 + np.exp(-x))\n"
     ]
    },
    {
     "name": "stdout",
     "output_type": "stream",
     "text": [
      "Learning rate  =  0.1\n",
      "Lambda =  0.1\n",
      "Accuracy score on test set:  0.08611111111111111\n",
      "\n"
     ]
    },
    {
     "name": "stderr",
     "output_type": "stream",
     "text": [
      "/var/folders/td/3yk470mj5p931p9dtkk0y6jw0000gn/T/ipykernel_67844/953065564.py:4: RuntimeWarning: overflow encountered in exp\n",
      "  return 1/(1 + np.exp(-x))\n"
     ]
    },
    {
     "name": "stdout",
     "output_type": "stream",
     "text": [
      "Learning rate  =  0.1\n",
      "Lambda =  1.0\n",
      "Accuracy score on test set:  0.08888888888888889\n",
      "\n"
     ]
    },
    {
     "name": "stderr",
     "output_type": "stream",
     "text": [
      "/var/folders/td/3yk470mj5p931p9dtkk0y6jw0000gn/T/ipykernel_67844/953065564.py:4: RuntimeWarning: overflow encountered in exp\n",
      "  return 1/(1 + np.exp(-x))\n"
     ]
    },
    {
     "name": "stdout",
     "output_type": "stream",
     "text": [
      "Learning rate  =  0.1\n",
      "Lambda =  10.0\n",
      "Accuracy score on test set:  0.09166666666666666\n",
      "\n"
     ]
    },
    {
     "name": "stderr",
     "output_type": "stream",
     "text": [
      "/var/folders/td/3yk470mj5p931p9dtkk0y6jw0000gn/T/ipykernel_67844/953065564.py:4: RuntimeWarning: overflow encountered in exp\n",
      "  return 1/(1 + np.exp(-x))\n",
      "/var/folders/td/3yk470mj5p931p9dtkk0y6jw0000gn/T/ipykernel_67844/1630775253.py:43: RuntimeWarning: overflow encountered in exp\n",
      "  exp_term = np.exp(self.z_o)\n",
      "/var/folders/td/3yk470mj5p931p9dtkk0y6jw0000gn/T/ipykernel_67844/1630775253.py:44: RuntimeWarning: invalid value encountered in true_divide\n",
      "  self.probabilities = exp_term / np.sum(exp_term, axis=1, keepdims=True)\n"
     ]
    },
    {
     "name": "stdout",
     "output_type": "stream",
     "text": [
      "Learning rate  =  1.0\n",
      "Lambda =  1e-05\n",
      "Accuracy score on test set:  0.07777777777777778\n",
      "\n"
     ]
    },
    {
     "name": "stderr",
     "output_type": "stream",
     "text": [
      "/var/folders/td/3yk470mj5p931p9dtkk0y6jw0000gn/T/ipykernel_67844/953065564.py:4: RuntimeWarning: overflow encountered in exp\n",
      "  return 1/(1 + np.exp(-x))\n",
      "/var/folders/td/3yk470mj5p931p9dtkk0y6jw0000gn/T/ipykernel_67844/1630775253.py:43: RuntimeWarning: overflow encountered in exp\n",
      "  exp_term = np.exp(self.z_o)\n",
      "/var/folders/td/3yk470mj5p931p9dtkk0y6jw0000gn/T/ipykernel_67844/1630775253.py:44: RuntimeWarning: invalid value encountered in true_divide\n",
      "  self.probabilities = exp_term / np.sum(exp_term, axis=1, keepdims=True)\n"
     ]
    },
    {
     "name": "stdout",
     "output_type": "stream",
     "text": [
      "Learning rate  =  1.0\n",
      "Lambda =  0.0001\n",
      "Accuracy score on test set:  0.07777777777777778\n",
      "\n"
     ]
    },
    {
     "name": "stderr",
     "output_type": "stream",
     "text": [
      "/var/folders/td/3yk470mj5p931p9dtkk0y6jw0000gn/T/ipykernel_67844/953065564.py:4: RuntimeWarning: overflow encountered in exp\n",
      "  return 1/(1 + np.exp(-x))\n",
      "/var/folders/td/3yk470mj5p931p9dtkk0y6jw0000gn/T/ipykernel_67844/1630775253.py:43: RuntimeWarning: overflow encountered in exp\n",
      "  exp_term = np.exp(self.z_o)\n",
      "/var/folders/td/3yk470mj5p931p9dtkk0y6jw0000gn/T/ipykernel_67844/1630775253.py:44: RuntimeWarning: invalid value encountered in true_divide\n",
      "  self.probabilities = exp_term / np.sum(exp_term, axis=1, keepdims=True)\n"
     ]
    },
    {
     "name": "stdout",
     "output_type": "stream",
     "text": [
      "Learning rate  =  1.0\n",
      "Lambda =  0.001\n",
      "Accuracy score on test set:  0.07777777777777778\n",
      "\n"
     ]
    },
    {
     "name": "stderr",
     "output_type": "stream",
     "text": [
      "/var/folders/td/3yk470mj5p931p9dtkk0y6jw0000gn/T/ipykernel_67844/953065564.py:4: RuntimeWarning: overflow encountered in exp\n",
      "  return 1/(1 + np.exp(-x))\n",
      "/var/folders/td/3yk470mj5p931p9dtkk0y6jw0000gn/T/ipykernel_67844/1630775253.py:43: RuntimeWarning: overflow encountered in exp\n",
      "  exp_term = np.exp(self.z_o)\n",
      "/var/folders/td/3yk470mj5p931p9dtkk0y6jw0000gn/T/ipykernel_67844/1630775253.py:44: RuntimeWarning: invalid value encountered in true_divide\n",
      "  self.probabilities = exp_term / np.sum(exp_term, axis=1, keepdims=True)\n"
     ]
    },
    {
     "name": "stdout",
     "output_type": "stream",
     "text": [
      "Learning rate  =  1.0\n",
      "Lambda =  0.01\n",
      "Accuracy score on test set:  0.07777777777777778\n",
      "\n"
     ]
    },
    {
     "name": "stderr",
     "output_type": "stream",
     "text": [
      "/var/folders/td/3yk470mj5p931p9dtkk0y6jw0000gn/T/ipykernel_67844/953065564.py:4: RuntimeWarning: overflow encountered in exp\n",
      "  return 1/(1 + np.exp(-x))\n",
      "/var/folders/td/3yk470mj5p931p9dtkk0y6jw0000gn/T/ipykernel_67844/1630775253.py:43: RuntimeWarning: overflow encountered in exp\n",
      "  exp_term = np.exp(self.z_o)\n",
      "/var/folders/td/3yk470mj5p931p9dtkk0y6jw0000gn/T/ipykernel_67844/1630775253.py:44: RuntimeWarning: invalid value encountered in true_divide\n",
      "  self.probabilities = exp_term / np.sum(exp_term, axis=1, keepdims=True)\n"
     ]
    },
    {
     "name": "stdout",
     "output_type": "stream",
     "text": [
      "Learning rate  =  1.0\n",
      "Lambda =  0.1\n",
      "Accuracy score on test set:  0.07777777777777778\n",
      "\n"
     ]
    },
    {
     "name": "stderr",
     "output_type": "stream",
     "text": [
      "/var/folders/td/3yk470mj5p931p9dtkk0y6jw0000gn/T/ipykernel_67844/953065564.py:4: RuntimeWarning: overflow encountered in exp\n",
      "  return 1/(1 + np.exp(-x))\n"
     ]
    },
    {
     "name": "stdout",
     "output_type": "stream",
     "text": [
      "Learning rate  =  1.0\n",
      "Lambda =  1.0\n",
      "Accuracy score on test set:  0.10555555555555556\n",
      "\n"
     ]
    },
    {
     "name": "stderr",
     "output_type": "stream",
     "text": [
      "/var/folders/td/3yk470mj5p931p9dtkk0y6jw0000gn/T/ipykernel_67844/953065564.py:4: RuntimeWarning: overflow encountered in exp\n",
      "  return 1/(1 + np.exp(-x))\n",
      "/var/folders/td/3yk470mj5p931p9dtkk0y6jw0000gn/T/ipykernel_67844/1630775253.py:43: RuntimeWarning: overflow encountered in exp\n",
      "  exp_term = np.exp(self.z_o)\n",
      "/var/folders/td/3yk470mj5p931p9dtkk0y6jw0000gn/T/ipykernel_67844/1630775253.py:44: RuntimeWarning: invalid value encountered in true_divide\n",
      "  self.probabilities = exp_term / np.sum(exp_term, axis=1, keepdims=True)\n"
     ]
    },
    {
     "name": "stdout",
     "output_type": "stream",
     "text": [
      "Learning rate  =  1.0\n",
      "Lambda =  10.0\n",
      "Accuracy score on test set:  0.07777777777777778\n",
      "\n"
     ]
    },
    {
     "name": "stderr",
     "output_type": "stream",
     "text": [
      "/var/folders/td/3yk470mj5p931p9dtkk0y6jw0000gn/T/ipykernel_67844/953065564.py:4: RuntimeWarning: overflow encountered in exp\n",
      "  return 1/(1 + np.exp(-x))\n",
      "/var/folders/td/3yk470mj5p931p9dtkk0y6jw0000gn/T/ipykernel_67844/1630775253.py:43: RuntimeWarning: overflow encountered in exp\n",
      "  exp_term = np.exp(self.z_o)\n",
      "/var/folders/td/3yk470mj5p931p9dtkk0y6jw0000gn/T/ipykernel_67844/1630775253.py:44: RuntimeWarning: invalid value encountered in true_divide\n",
      "  self.probabilities = exp_term / np.sum(exp_term, axis=1, keepdims=True)\n"
     ]
    },
    {
     "name": "stdout",
     "output_type": "stream",
     "text": [
      "Learning rate  =  10.0\n",
      "Lambda =  1e-05\n",
      "Accuracy score on test set:  0.07777777777777778\n",
      "\n"
     ]
    },
    {
     "name": "stderr",
     "output_type": "stream",
     "text": [
      "/var/folders/td/3yk470mj5p931p9dtkk0y6jw0000gn/T/ipykernel_67844/953065564.py:4: RuntimeWarning: overflow encountered in exp\n",
      "  return 1/(1 + np.exp(-x))\n",
      "/var/folders/td/3yk470mj5p931p9dtkk0y6jw0000gn/T/ipykernel_67844/1630775253.py:43: RuntimeWarning: overflow encountered in exp\n",
      "  exp_term = np.exp(self.z_o)\n",
      "/var/folders/td/3yk470mj5p931p9dtkk0y6jw0000gn/T/ipykernel_67844/1630775253.py:44: RuntimeWarning: invalid value encountered in true_divide\n",
      "  self.probabilities = exp_term / np.sum(exp_term, axis=1, keepdims=True)\n"
     ]
    },
    {
     "name": "stdout",
     "output_type": "stream",
     "text": [
      "Learning rate  =  10.0\n",
      "Lambda =  0.0001\n",
      "Accuracy score on test set:  0.07777777777777778\n",
      "\n"
     ]
    },
    {
     "name": "stderr",
     "output_type": "stream",
     "text": [
      "/var/folders/td/3yk470mj5p931p9dtkk0y6jw0000gn/T/ipykernel_67844/953065564.py:4: RuntimeWarning: overflow encountered in exp\n",
      "  return 1/(1 + np.exp(-x))\n",
      "/var/folders/td/3yk470mj5p931p9dtkk0y6jw0000gn/T/ipykernel_67844/1630775253.py:43: RuntimeWarning: overflow encountered in exp\n",
      "  exp_term = np.exp(self.z_o)\n",
      "/var/folders/td/3yk470mj5p931p9dtkk0y6jw0000gn/T/ipykernel_67844/1630775253.py:44: RuntimeWarning: invalid value encountered in true_divide\n",
      "  self.probabilities = exp_term / np.sum(exp_term, axis=1, keepdims=True)\n"
     ]
    },
    {
     "name": "stdout",
     "output_type": "stream",
     "text": [
      "Learning rate  =  10.0\n",
      "Lambda =  0.001\n",
      "Accuracy score on test set:  0.07777777777777778\n",
      "\n"
     ]
    },
    {
     "name": "stderr",
     "output_type": "stream",
     "text": [
      "/var/folders/td/3yk470mj5p931p9dtkk0y6jw0000gn/T/ipykernel_67844/953065564.py:4: RuntimeWarning: overflow encountered in exp\n",
      "  return 1/(1 + np.exp(-x))\n",
      "/var/folders/td/3yk470mj5p931p9dtkk0y6jw0000gn/T/ipykernel_67844/1630775253.py:43: RuntimeWarning: overflow encountered in exp\n",
      "  exp_term = np.exp(self.z_o)\n",
      "/var/folders/td/3yk470mj5p931p9dtkk0y6jw0000gn/T/ipykernel_67844/1630775253.py:44: RuntimeWarning: invalid value encountered in true_divide\n",
      "  self.probabilities = exp_term / np.sum(exp_term, axis=1, keepdims=True)\n"
     ]
    },
    {
     "name": "stdout",
     "output_type": "stream",
     "text": [
      "Learning rate  =  10.0\n",
      "Lambda =  0.01\n",
      "Accuracy score on test set:  0.07777777777777778\n",
      "\n"
     ]
    },
    {
     "name": "stderr",
     "output_type": "stream",
     "text": [
      "/var/folders/td/3yk470mj5p931p9dtkk0y6jw0000gn/T/ipykernel_67844/953065564.py:4: RuntimeWarning: overflow encountered in exp\n",
      "  return 1/(1 + np.exp(-x))\n",
      "/var/folders/td/3yk470mj5p931p9dtkk0y6jw0000gn/T/ipykernel_67844/1630775253.py:43: RuntimeWarning: overflow encountered in exp\n",
      "  exp_term = np.exp(self.z_o)\n",
      "/var/folders/td/3yk470mj5p931p9dtkk0y6jw0000gn/T/ipykernel_67844/1630775253.py:44: RuntimeWarning: invalid value encountered in true_divide\n",
      "  self.probabilities = exp_term / np.sum(exp_term, axis=1, keepdims=True)\n"
     ]
    },
    {
     "name": "stdout",
     "output_type": "stream",
     "text": [
      "Learning rate  =  10.0\n",
      "Lambda =  0.1\n",
      "Accuracy score on test set:  0.07777777777777778\n",
      "\n"
     ]
    },
    {
     "name": "stderr",
     "output_type": "stream",
     "text": [
      "/var/folders/td/3yk470mj5p931p9dtkk0y6jw0000gn/T/ipykernel_67844/953065564.py:4: RuntimeWarning: overflow encountered in exp\n",
      "  return 1/(1 + np.exp(-x))\n",
      "/var/folders/td/3yk470mj5p931p9dtkk0y6jw0000gn/T/ipykernel_67844/1630775253.py:43: RuntimeWarning: overflow encountered in exp\n",
      "  exp_term = np.exp(self.z_o)\n",
      "/var/folders/td/3yk470mj5p931p9dtkk0y6jw0000gn/T/ipykernel_67844/1630775253.py:44: RuntimeWarning: invalid value encountered in true_divide\n",
      "  self.probabilities = exp_term / np.sum(exp_term, axis=1, keepdims=True)\n"
     ]
    },
    {
     "name": "stdout",
     "output_type": "stream",
     "text": [
      "Learning rate  =  10.0\n",
      "Lambda =  1.0\n",
      "Accuracy score on test set:  0.07777777777777778\n",
      "\n"
     ]
    },
    {
     "name": "stderr",
     "output_type": "stream",
     "text": [
      "/var/folders/td/3yk470mj5p931p9dtkk0y6jw0000gn/T/ipykernel_67844/953065564.py:4: RuntimeWarning: overflow encountered in exp\n",
      "  return 1/(1 + np.exp(-x))\n",
      "/var/folders/td/3yk470mj5p931p9dtkk0y6jw0000gn/T/ipykernel_67844/1630775253.py:43: RuntimeWarning: overflow encountered in exp\n",
      "  exp_term = np.exp(self.z_o)\n",
      "/var/folders/td/3yk470mj5p931p9dtkk0y6jw0000gn/T/ipykernel_67844/1630775253.py:44: RuntimeWarning: invalid value encountered in true_divide\n",
      "  self.probabilities = exp_term / np.sum(exp_term, axis=1, keepdims=True)\n"
     ]
    },
    {
     "name": "stdout",
     "output_type": "stream",
     "text": [
      "Learning rate  =  10.0\n",
      "Lambda =  10.0\n",
      "Accuracy score on test set:  0.07777777777777778\n",
      "\n"
     ]
    }
   ],
   "source": [
    "eta_vals = np.logspace(-5, 1, 7)\n",
    "lmbd_vals = np.logspace(-5, 1, 7)\n",
    "# store the models for later use\n",
    "DNN_numpy = np.zeros((len(eta_vals), len(lmbd_vals)), dtype=object)\n",
    "\n",
    "# grid search\n",
    "for i, eta in enumerate(eta_vals):\n",
    "    for j, lmbd in enumerate(lmbd_vals):\n",
    "        dnn = NeuralNetwork(X_train, Y_train_onehot, eta=eta, lmbd=lmbd, epochs=epochs, batch_size=batch_size,\n",
    "                            n_hidden_neurons=n_hidden_neurons, n_categories=n_categories)\n",
    "        dnn.train()\n",
    "        \n",
    "        DNN_numpy[i][j] = dnn\n",
    "        \n",
    "        test_predict = dnn.predict(X_test)\n",
    "        \n",
    "        print(\"Learning rate  = \", eta)\n",
    "        print(\"Lambda = \", lmbd)\n",
    "        print(\"Accuracy score on test set: \", accuracy_score(Y_test, test_predict))\n",
    "        print()"
   ]
  },
  {
   "cell_type": "markdown",
   "metadata": {},
   "source": [
    "### Visualization"
   ]
  },
  {
   "cell_type": "code",
   "execution_count": 10,
   "metadata": {
    "collapsed": false,
    "editable": true
   },
   "outputs": [
    {
     "name": "stderr",
     "output_type": "stream",
     "text": [
      "/var/folders/td/3yk470mj5p931p9dtkk0y6jw0000gn/T/ipykernel_67844/953065564.py:4: RuntimeWarning: overflow encountered in exp\n",
      "  return 1/(1 + np.exp(-x))\n",
      "/var/folders/td/3yk470mj5p931p9dtkk0y6jw0000gn/T/ipykernel_67844/953065564.py:4: RuntimeWarning: overflow encountered in exp\n",
      "  return 1/(1 + np.exp(-x))\n",
      "/var/folders/td/3yk470mj5p931p9dtkk0y6jw0000gn/T/ipykernel_67844/953065564.py:4: RuntimeWarning: overflow encountered in exp\n",
      "  return 1/(1 + np.exp(-x))\n",
      "/var/folders/td/3yk470mj5p931p9dtkk0y6jw0000gn/T/ipykernel_67844/953065564.py:4: RuntimeWarning: overflow encountered in exp\n",
      "  return 1/(1 + np.exp(-x))\n",
      "/var/folders/td/3yk470mj5p931p9dtkk0y6jw0000gn/T/ipykernel_67844/953065564.py:4: RuntimeWarning: overflow encountered in exp\n",
      "  return 1/(1 + np.exp(-x))\n"
     ]
    },
    {
     "data": {
      "image/png": "[encoded data removed]",
      "text/plain": [
       "<Figure size 1000x1000 with 2 Axes>"
      ]
     },
     "metadata": {
      "filenames": {
       "image/png": "/Users/mhjensen/Teaching/ComputationalPhysics2/doc/LectureNotes/_build/jupyter_execute/neuralnetworks_134_1.png"
      }
     },
     "output_type": "display_data"
    },
    {
     "data": {
      "image/png": "[encoded data removed]",
      "text/plain": [
       "<Figure size 1000x1000 with 2 Axes>"
      ]
     },
     "metadata": {
      "filenames": {
       "image/png": "/Users/mhjensen/Teaching/ComputationalPhysics2/doc/LectureNotes/_build/jupyter_execute/neuralnetworks_134_2.png"
      }
     },
     "output_type": "display_data"
    }
   ],
   "source": [
    "# visual representation of grid search\n",
    "# uses seaborn heatmap, you can also do this with matplotlib imshow\n",
    "import seaborn as sns\n",
    "\n",
    "sns.set()\n",
    "\n",
    "train_accuracy = np.zeros((len(eta_vals), len(lmbd_vals)))\n",
    "test_accuracy = np.zeros((len(eta_vals), len(lmbd_vals)))\n",
    "\n",
    "for i in range(len(eta_vals)):\n",
    "    for j in range(len(lmbd_vals)):\n",
    "        dnn = DNN_numpy[i][j]\n",
    "        \n",
    "        train_pred = dnn.predict(X_train) \n",
    "        test_pred = dnn.predict(X_test)\n",
    "\n",
    "        train_accuracy[i][j] = accuracy_score(Y_train, train_pred)\n",
    "        test_accuracy[i][j] = accuracy_score(Y_test, test_pred)\n",
    "\n",
    "        \n",
    "fig, ax = plt.subplots(figsize = (10, 10))\n",
    "sns.heatmap(train_accuracy, annot=True, ax=ax, cmap=\"viridis\")\n",
    "ax.set_title(\"Training Accuracy\")\n",
    "ax.set_ylabel(\"$\\eta$\")\n",
    "ax.set_xlabel(\"$\\lambda$\")\n",
    "plt.show()\n",
    "\n",
    "fig, ax = plt.subplots(figsize = (10, 10))\n",
    "sns.heatmap(test_accuracy, annot=True, ax=ax, cmap=\"viridis\")\n",
    "ax.set_title(\"Test Accuracy\")\n",
    "ax.set_ylabel(\"$\\eta$\")\n",
    "ax.set_xlabel(\"$\\lambda$\")\n",
    "plt.show()"
   ]
  },
  {
   "cell_type": "markdown",
   "metadata": {},
   "source": [
    "### scikit-learn implementation\n",
    "\n",
    "**scikit-learn** focuses more\n",
    "on traditional machine learning methods, such as regression,\n",
    "clustering, decision trees, etc. As such, it has only two types of\n",
    "neural networks: Multi Layer Perceptron outputting continuous values,\n",
    "*MPLRegressor*, and Multi Layer Perceptron outputting labels,\n",
    "*MLPClassifier*. We will see how simple it is to use these classes.\n",
    "\n",
    "**scikit-learn** implements a few improvements from our neural network,\n",
    "such as early stopping, a varying learning rate, different\n",
    "optimization methods, etc. We would therefore expect a better\n",
    "performance overall."
   ]
  },
  {
   "cell_type": "code",
   "execution_count": 11,
   "metadata": {
    "collapsed": false,
    "editable": true
   },
   "outputs": [
    {
     "name": "stderr",
     "output_type": "stream",
     "text": [
      "/Users/mhjensen/miniforge3/envs/myenv/lib/python3.9/site-packages/sklearn/neural_network/_multilayer_perceptron.py:692: ConvergenceWarning: Stochastic Optimizer: Maximum iterations (100) reached and the optimization hasn't converged yet.\n",
      "  warnings.warn(\n"
     ]
    },
    {
     "name": "stdout",
     "output_type": "stream",
     "text": [
      "Learning rate  =  1e-05\n",
      "Lambda =  1e-05\n",
      "Accuracy score on test set:  0.18333333333333332\n",
      "\n"
     ]
    },
    {
     "name": "stderr",
     "output_type": "stream",
     "text": [
      "/Users/mhjensen/miniforge3/envs/myenv/lib/python3.9/site-packages/sklearn/neural_network/_multilayer_perceptron.py:692: ConvergenceWarning: Stochastic Optimizer: Maximum iterations (100) reached and the optimization hasn't converged yet.\n",
      "  warnings.warn(\n"
     ]
    },
    {
     "name": "stdout",
     "output_type": "stream",
     "text": [
      "Learning rate  =  1e-05\n",
      "Lambda =  0.0001\n",
      "Accuracy score on test set:  0.18611111111111112\n",
      "\n"
     ]
    },
    {
     "name": "stderr",
     "output_type": "stream",
     "text": [
      "/Users/mhjensen/miniforge3/envs/myenv/lib/python3.9/site-packages/sklearn/neural_network/_multilayer_perceptron.py:692: ConvergenceWarning: Stochastic Optimizer: Maximum iterations (100) reached and the optimization hasn't converged yet.\n",
      "  warnings.warn(\n"
     ]
    },
    {
     "name": "stdout",
     "output_type": "stream",
     "text": [
      "Learning rate  =  1e-05\n",
      "Lambda =  0.001\n",
      "Accuracy score on test set:  0.13055555555555556\n",
      "\n"
     ]
    },
    {
     "name": "stderr",
     "output_type": "stream",
     "text": [
      "/Users/mhjensen/miniforge3/envs/myenv/lib/python3.9/site-packages/sklearn/neural_network/_multilayer_perceptron.py:692: ConvergenceWarning: Stochastic Optimizer: Maximum iterations (100) reached and the optimization hasn't converged yet.\n",
      "  warnings.warn(\n"
     ]
    },
    {
     "name": "stdout",
     "output_type": "stream",
     "text": [
      "Learning rate  =  1e-05\n",
      "Lambda =  0.01\n",
      "Accuracy score on test set:  0.24444444444444444\n",
      "\n"
     ]
    },
    {
     "name": "stderr",
     "output_type": "stream",
     "text": [
      "/Users/mhjensen/miniforge3/envs/myenv/lib/python3.9/site-packages/sklearn/neural_network/_multilayer_perceptron.py:692: ConvergenceWarning: Stochastic Optimizer: Maximum iterations (100) reached and the optimization hasn't converged yet.\n",
      "  warnings.warn(\n"
     ]
    },
    {
     "name": "stdout",
     "output_type": "stream",
     "text": [
      "Learning rate  =  1e-05\n",
      "Lambda =  0.1\n",
      "Accuracy score on test set:  0.23333333333333334\n",
      "\n"
     ]
    },
    {
     "name": "stderr",
     "output_type": "stream",
     "text": [
      "/Users/mhjensen/miniforge3/envs/myenv/lib/python3.9/site-packages/sklearn/neural_network/_multilayer_perceptron.py:692: ConvergenceWarning: Stochastic Optimizer: Maximum iterations (100) reached and the optimization hasn't converged yet.\n",
      "  warnings.warn(\n"
     ]
    },
    {
     "name": "stdout",
     "output_type": "stream",
     "text": [
      "Learning rate  =  1e-05\n",
      "Lambda =  1.0\n",
      "Accuracy score on test set:  0.12777777777777777\n",
      "\n"
     ]
    },
    {
     "name": "stderr",
     "output_type": "stream",
     "text": [
      "/Users/mhjensen/miniforge3/envs/myenv/lib/python3.9/site-packages/sklearn/neural_network/_multilayer_perceptron.py:692: ConvergenceWarning: Stochastic Optimizer: Maximum iterations (100) reached and the optimization hasn't converged yet.\n",
      "  warnings.warn(\n"
     ]
    },
    {
     "name": "stdout",
     "output_type": "stream",
     "text": [
      "Learning rate  =  1e-05\n",
      "Lambda =  10.0\n",
      "Accuracy score on test set:  0.1527777777777778\n",
      "\n"
     ]
    },
    {
     "name": "stderr",
     "output_type": "stream",
     "text": [
      "/Users/mhjensen/miniforge3/envs/myenv/lib/python3.9/site-packages/sklearn/neural_network/_multilayer_perceptron.py:692: ConvergenceWarning: Stochastic Optimizer: Maximum iterations (100) reached and the optimization hasn't converged yet.\n",
      "  warnings.warn(\n"
     ]
    },
    {
     "name": "stdout",
     "output_type": "stream",
     "text": [
      "Learning rate  =  0.0001\n",
      "Lambda =  1e-05\n",
      "Accuracy score on test set:  0.9111111111111111\n",
      "\n"
     ]
    },
    {
     "name": "stderr",
     "output_type": "stream",
     "text": [
      "/Users/mhjensen/miniforge3/envs/myenv/lib/python3.9/site-packages/sklearn/neural_network/_multilayer_perceptron.py:692: ConvergenceWarning: Stochastic Optimizer: Maximum iterations (100) reached and the optimization hasn't converged yet.\n",
      "  warnings.warn(\n"
     ]
    },
    {
     "name": "stdout",
     "output_type": "stream",
     "text": [
      "Learning rate  =  0.0001\n",
      "Lambda =  0.0001\n",
      "Accuracy score on test set:  0.8888888888888888\n",
      "\n"
     ]
    },
    {
     "name": "stderr",
     "output_type": "stream",
     "text": [
      "/Users/mhjensen/miniforge3/envs/myenv/lib/python3.9/site-packages/sklearn/neural_network/_multilayer_perceptron.py:692: ConvergenceWarning: Stochastic Optimizer: Maximum iterations (100) reached and the optimization hasn't converged yet.\n",
      "  warnings.warn(\n"
     ]
    },
    {
     "name": "stdout",
     "output_type": "stream",
     "text": [
      "Learning rate  =  0.0001\n",
      "Lambda =  0.001\n",
      "Accuracy score on test set:  0.8722222222222222\n",
      "\n"
     ]
    },
    {
     "name": "stderr",
     "output_type": "stream",
     "text": [
      "/Users/mhjensen/miniforge3/envs/myenv/lib/python3.9/site-packages/sklearn/neural_network/_multilayer_perceptron.py:692: ConvergenceWarning: Stochastic Optimizer: Maximum iterations (100) reached and the optimization hasn't converged yet.\n",
      "  warnings.warn(\n"
     ]
    },
    {
     "name": "stdout",
     "output_type": "stream",
     "text": [
      "Learning rate  =  0.0001\n",
      "Lambda =  0.01\n",
      "Accuracy score on test set:  0.8305555555555556\n",
      "\n"
     ]
    },
    {
     "name": "stderr",
     "output_type": "stream",
     "text": [
      "/Users/mhjensen/miniforge3/envs/myenv/lib/python3.9/site-packages/sklearn/neural_network/_multilayer_perceptron.py:692: ConvergenceWarning: Stochastic Optimizer: Maximum iterations (100) reached and the optimization hasn't converged yet.\n",
      "  warnings.warn(\n"
     ]
    },
    {
     "name": "stdout",
     "output_type": "stream",
     "text": [
      "Learning rate  =  0.0001\n",
      "Lambda =  0.1\n",
      "Accuracy score on test set:  0.8888888888888888\n",
      "\n"
     ]
    },
    {
     "name": "stderr",
     "output_type": "stream",
     "text": [
      "/Users/mhjensen/miniforge3/envs/myenv/lib/python3.9/site-packages/sklearn/neural_network/_multilayer_perceptron.py:692: ConvergenceWarning: Stochastic Optimizer: Maximum iterations (100) reached and the optimization hasn't converged yet.\n",
      "  warnings.warn(\n"
     ]
    },
    {
     "name": "stdout",
     "output_type": "stream",
     "text": [
      "Learning rate  =  0.0001\n",
      "Lambda =  1.0\n",
      "Accuracy score on test set:  0.8805555555555555\n",
      "\n"
     ]
    },
    {
     "name": "stderr",
     "output_type": "stream",
     "text": [
      "/Users/mhjensen/miniforge3/envs/myenv/lib/python3.9/site-packages/sklearn/neural_network/_multilayer_perceptron.py:692: ConvergenceWarning: Stochastic Optimizer: Maximum iterations (100) reached and the optimization hasn't converged yet.\n",
      "  warnings.warn(\n"
     ]
    },
    {
     "name": "stdout",
     "output_type": "stream",
     "text": [
      "Learning rate  =  0.0001\n",
      "Lambda =  10.0\n",
      "Accuracy score on test set:  0.8944444444444445\n",
      "\n"
     ]
    },
    {
     "name": "stderr",
     "output_type": "stream",
     "text": [
      "/Users/mhjensen/miniforge3/envs/myenv/lib/python3.9/site-packages/sklearn/neural_network/_multilayer_perceptron.py:692: ConvergenceWarning: Stochastic Optimizer: Maximum iterations (100) reached and the optimization hasn't converged yet.\n",
      "  warnings.warn(\n"
     ]
    },
    {
     "name": "stdout",
     "output_type": "stream",
     "text": [
      "Learning rate  =  0.001\n",
      "Lambda =  1e-05\n",
      "Accuracy score on test set:  0.975\n",
      "\n"
     ]
    },
    {
     "name": "stderr",
     "output_type": "stream",
     "text": [
      "/Users/mhjensen/miniforge3/envs/myenv/lib/python3.9/site-packages/sklearn/neural_network/_multilayer_perceptron.py:692: ConvergenceWarning: Stochastic Optimizer: Maximum iterations (100) reached and the optimization hasn't converged yet.\n",
      "  warnings.warn(\n"
     ]
    },
    {
     "name": "stdout",
     "output_type": "stream",
     "text": [
      "Learning rate  =  0.001\n",
      "Lambda =  0.0001\n",
      "Accuracy score on test set:  0.9777777777777777\n",
      "\n"
     ]
    },
    {
     "name": "stderr",
     "output_type": "stream",
     "text": [
      "/Users/mhjensen/miniforge3/envs/myenv/lib/python3.9/site-packages/sklearn/neural_network/_multilayer_perceptron.py:692: ConvergenceWarning: Stochastic Optimizer: Maximum iterations (100) reached and the optimization hasn't converged yet.\n",
      "  warnings.warn(\n"
     ]
    },
    {
     "name": "stdout",
     "output_type": "stream",
     "text": [
      "Learning rate  =  0.001\n",
      "Lambda =  0.001\n",
      "Accuracy score on test set:  0.9805555555555555\n",
      "\n"
     ]
    },
    {
     "name": "stderr",
     "output_type": "stream",
     "text": [
      "/Users/mhjensen/miniforge3/envs/myenv/lib/python3.9/site-packages/sklearn/neural_network/_multilayer_perceptron.py:692: ConvergenceWarning: Stochastic Optimizer: Maximum iterations (100) reached and the optimization hasn't converged yet.\n",
      "  warnings.warn(\n"
     ]
    },
    {
     "name": "stdout",
     "output_type": "stream",
     "text": [
      "Learning rate  =  0.001\n",
      "Lambda =  0.01\n",
      "Accuracy score on test set:  0.9861111111111112\n",
      "\n"
     ]
    },
    {
     "name": "stderr",
     "output_type": "stream",
     "text": [
      "/Users/mhjensen/miniforge3/envs/myenv/lib/python3.9/site-packages/sklearn/neural_network/_multilayer_perceptron.py:692: ConvergenceWarning: Stochastic Optimizer: Maximum iterations (100) reached and the optimization hasn't converged yet.\n",
      "  warnings.warn(\n"
     ]
    },
    {
     "name": "stdout",
     "output_type": "stream",
     "text": [
      "Learning rate  =  0.001\n",
      "Lambda =  0.1\n",
      "Accuracy score on test set:  0.9805555555555555\n",
      "\n"
     ]
    },
    {
     "name": "stderr",
     "output_type": "stream",
     "text": [
      "/Users/mhjensen/miniforge3/envs/myenv/lib/python3.9/site-packages/sklearn/neural_network/_multilayer_perceptron.py:692: ConvergenceWarning: Stochastic Optimizer: Maximum iterations (100) reached and the optimization hasn't converged yet.\n",
      "  warnings.warn(\n"
     ]
    },
    {
     "name": "stdout",
     "output_type": "stream",
     "text": [
      "Learning rate  =  0.001\n",
      "Lambda =  1.0\n",
      "Accuracy score on test set:  0.9777777777777777\n",
      "\n"
     ]
    },
    {
     "name": "stderr",
     "output_type": "stream",
     "text": [
      "/Users/mhjensen/miniforge3/envs/myenv/lib/python3.9/site-packages/sklearn/neural_network/_multilayer_perceptron.py:692: ConvergenceWarning: Stochastic Optimizer: Maximum iterations (100) reached and the optimization hasn't converged yet.\n",
      "  warnings.warn(\n"
     ]
    },
    {
     "name": "stdout",
     "output_type": "stream",
     "text": [
      "Learning rate  =  0.001\n",
      "Lambda =  10.0\n",
      "Accuracy score on test set:  0.9444444444444444\n",
      "\n"
     ]
    },
    {
     "name": "stderr",
     "output_type": "stream",
     "text": [
      "/Users/mhjensen/miniforge3/envs/myenv/lib/python3.9/site-packages/sklearn/neural_network/_multilayer_perceptron.py:692: ConvergenceWarning: Stochastic Optimizer: Maximum iterations (100) reached and the optimization hasn't converged yet.\n",
      "  warnings.warn(\n"
     ]
    },
    {
     "name": "stdout",
     "output_type": "stream",
     "text": [
      "Learning rate  =  0.01\n",
      "Lambda =  1e-05\n",
      "Accuracy score on test set:  0.9861111111111112\n",
      "\n"
     ]
    },
    {
     "name": "stdout",
     "output_type": "stream",
     "text": [
      "Learning rate  =  0.01\n",
      "Lambda =  0.0001\n",
      "Accuracy score on test set:  0.9888888888888889\n",
      "\n"
     ]
    },
    {
     "name": "stdout",
     "output_type": "stream",
     "text": [
      "Learning rate  =  0.01\n",
      "Lambda =  0.001\n",
      "Accuracy score on test set:  0.9888888888888889\n",
      "\n"
     ]
    },
    {
     "name": "stdout",
     "output_type": "stream",
     "text": [
      "Learning rate  =  0.01\n",
      "Lambda =  0.01\n",
      "Accuracy score on test set:  0.9861111111111112\n",
      "\n"
     ]
    },
    {
     "name": "stdout",
     "output_type": "stream",
     "text": [
      "Learning rate  =  0.01\n",
      "Lambda =  0.1\n",
      "Accuracy score on test set:  0.9888888888888889\n",
      "\n",
      "Learning rate  =  0.01\n",
      "Lambda =  1.0\n",
      "Accuracy score on test set:  0.9722222222222222\n",
      "\n"
     ]
    },
    {
     "name": "stdout",
     "output_type": "stream",
     "text": [
      "Learning rate  =  0.01\n",
      "Lambda =  10.0\n",
      "Accuracy score on test set:  0.9527777777777777\n",
      "\n",
      "Learning rate  =  0.1\n",
      "Lambda =  1e-05\n",
      "Accuracy score on test set:  0.9027777777777778\n",
      "\n"
     ]
    },
    {
     "name": "stdout",
     "output_type": "stream",
     "text": [
      "Learning rate  =  0.1\n",
      "Lambda =  0.0001\n",
      "Accuracy score on test set:  0.8583333333333333\n",
      "\n",
      "Learning rate  =  0.1\n",
      "Lambda =  0.001\n",
      "Accuracy score on test set:  0.8722222222222222\n",
      "\n"
     ]
    },
    {
     "name": "stdout",
     "output_type": "stream",
     "text": [
      "Learning rate  =  0.1\n",
      "Lambda =  0.01\n",
      "Accuracy score on test set:  0.9055555555555556\n",
      "\n",
      "Learning rate  =  0.1\n",
      "Lambda =  0.1\n",
      "Accuracy score on test set:  0.8805555555555555\n",
      "\n",
      "Learning rate  =  0.1\n",
      "Lambda =  1.0\n",
      "Accuracy score on test set:  0.8722222222222222\n",
      "\n"
     ]
    },
    {
     "name": "stdout",
     "output_type": "stream",
     "text": [
      "Learning rate  =  0.1\n",
      "Lambda =  10.0\n",
      "Accuracy score on test set:  0.8666666666666667\n",
      "\n",
      "Learning rate  =  1.0\n",
      "Lambda =  1e-05\n",
      "Accuracy score on test set:  0.08611111111111111\n",
      "\n",
      "Learning rate  =  1.0\n",
      "Lambda =  0.0001\n",
      "Accuracy score on test set:  0.10555555555555556\n",
      "\n"
     ]
    },
    {
     "name": "stdout",
     "output_type": "stream",
     "text": [
      "Learning rate  =  1.0\n",
      "Lambda =  0.001\n",
      "Accuracy score on test set:  0.10555555555555556\n",
      "\n",
      "Learning rate  =  1.0\n",
      "Lambda =  0.01\n",
      "Accuracy score on test set:  0.17777777777777778\n",
      "\n",
      "Learning rate  =  1.0\n",
      "Lambda =  0.1\n",
      "Accuracy score on test set:  0.08333333333333333\n",
      "\n",
      "Learning rate  =  1.0\n",
      "Lambda =  1.0\n",
      "Accuracy score on test set:  0.08888888888888889\n",
      "\n"
     ]
    },
    {
     "name": "stdout",
     "output_type": "stream",
     "text": [
      "Learning rate  =  1.0\n",
      "Lambda =  10.0\n",
      "Accuracy score on test set:  0.09444444444444444\n",
      "\n",
      "Learning rate  =  10.0\n",
      "Lambda =  1e-05\n",
      "Accuracy score on test set:  0.17222222222222222\n",
      "\n",
      "Learning rate  =  10.0\n",
      "Lambda =  0.0001\n",
      "Accuracy score on test set:  0.11666666666666667\n",
      "\n",
      "Learning rate  =  10.0\n",
      "Lambda =  0.001\n",
      "Accuracy score on test set:  0.10555555555555556\n",
      "\n"
     ]
    },
    {
     "name": "stdout",
     "output_type": "stream",
     "text": [
      "Learning rate  =  10.0\n",
      "Lambda =  0.01\n",
      "Accuracy score on test set:  0.1388888888888889\n",
      "\n",
      "Learning rate  =  10.0\n",
      "Lambda =  0.1\n",
      "Accuracy score on test set:  0.11388888888888889\n",
      "\n"
     ]
    },
    {
     "name": "stdout",
     "output_type": "stream",
     "text": [
      "Learning rate  =  10.0\n",
      "Lambda =  1.0\n",
      "Accuracy score on test set:  0.10555555555555556\n",
      "\n",
      "Learning rate  =  10.0\n",
      "Lambda =  10.0\n",
      "Accuracy score on test set:  0.09444444444444444\n",
      "\n"
     ]
    }
   ],
   "source": [
    "from sklearn.neural_network import MLPClassifier\n",
    "# store models for later use\n",
    "DNN_scikit = np.zeros((len(eta_vals), len(lmbd_vals)), dtype=object)\n",
    "\n",
    "for i, eta in enumerate(eta_vals):\n",
    "    for j, lmbd in enumerate(lmbd_vals):\n",
    "        dnn = MLPClassifier(hidden_layer_sizes=(n_hidden_neurons), activation='logistic',\n",
    "                            alpha=lmbd, learning_rate_init=eta, max_iter=epochs)\n",
    "        dnn.fit(X_train, Y_train)\n",
    "        \n",
    "        DNN_scikit[i][j] = dnn\n",
    "        \n",
    "        print(\"Learning rate  = \", eta)\n",
    "        print(\"Lambda = \", lmbd)\n",
    "        print(\"Accuracy score on test set: \", dnn.score(X_test, Y_test))\n",
    "        print()"
   ]
  },
  {
   "cell_type": "markdown",
   "metadata": {},
   "source": [
    "### Visualization"
   ]
  },
  {
   "cell_type": "code",
   "execution_count": 12,
   "metadata": {
    "collapsed": false,
    "editable": true
   },
   "outputs": [
    {
     "data": {
      "image/png": "[encoded data removed]",
      "text/plain": [
       "<Figure size 1000x1000 with 2 Axes>"
      ]
     },
     "metadata": {
      "filenames": {
       "image/png": "/Users/mhjensen/Teaching/ComputationalPhysics2/doc/LectureNotes/_build/jupyter_execute/neuralnetworks_138_0.png"
      }
     },
     "output_type": "display_data"
    },
    {
     "data": {
      "image/png": "[encoded data removed]",
      "text/plain": [
       "<Figure size 1000x1000 with 2 Axes>"
      ]
     },
     "metadata": {
      "filenames": {
       "image/png": "/Users/mhjensen/Teaching/ComputationalPhysics2/doc/LectureNotes/_build/jupyter_execute/neuralnetworks_138_1.png"
      }
     },
     "output_type": "display_data"
    }
   ],
   "source": [
    "# optional\n",
    "# visual representation of grid search\n",
    "# uses seaborn heatmap, could probably do this in matplotlib\n",
    "import seaborn as sns\n",
    "\n",
    "sns.set()\n",
    "\n",
    "train_accuracy = np.zeros((len(eta_vals), len(lmbd_vals)))\n",
    "test_accuracy = np.zeros((len(eta_vals), len(lmbd_vals)))\n",
    "\n",
    "for i in range(len(eta_vals)):\n",
    "    for j in range(len(lmbd_vals)):\n",
    "        dnn = DNN_scikit[i][j]\n",
    "        \n",
    "        train_pred = dnn.predict(X_train) \n",
    "        test_pred = dnn.predict(X_test)\n",
    "\n",
    "        train_accuracy[i][j] = accuracy_score(Y_train, train_pred)\n",
    "        test_accuracy[i][j] = accuracy_score(Y_test, test_pred)\n",
    "\n",
    "        \n",
    "fig, ax = plt.subplots(figsize = (10, 10))\n",
    "sns.heatmap(train_accuracy, annot=True, ax=ax, cmap=\"viridis\")\n",
    "ax.set_title(\"Training Accuracy\")\n",
    "ax.set_ylabel(\"$\\eta$\")\n",
    "ax.set_xlabel(\"$\\lambda$\")\n",
    "plt.show()\n",
    "\n",
    "fig, ax = plt.subplots(figsize = (10, 10))\n",
    "sns.heatmap(test_accuracy, annot=True, ax=ax, cmap=\"viridis\")\n",
    "ax.set_title(\"Test Accuracy\")\n",
    "ax.set_ylabel(\"$\\eta$\")\n",
    "ax.set_xlabel(\"$\\lambda$\")\n",
    "plt.show()"
   ]
  },
  {
   "cell_type": "markdown",
   "metadata": {},
   "source": [
    "## Building neural networks in Tensorflow and Keras\n",
    "\n",
    "Now we want  to build on the experience gained from our neural network implementation in NumPy and scikit-learn\n",
    "and use it to construct a neural network in Tensorflow. Once we have constructed a neural network in NumPy\n",
    "and Tensorflow, building one in Keras is really quite trivial, though the performance may suffer.  \n",
    "\n",
    "In our previous example we used only one hidden layer, and in this we will use two. From this it should be quite\n",
    "clear how to build one using an arbitrary number of hidden layers, using data structures such as Python lists or\n",
    "NumPy arrays.\n",
    "\n",
    "\n",
    "Tensorflow is an open source library machine learning library\n",
    "developed by the Google Brain team for internal use. It was released\n",
    "under the Apache 2.0 open source license in November 9, 2015.\n",
    "\n",
    "Tensorflow is a computational framework that allows you to construct\n",
    "machine learning models at different levels of abstraction, from\n",
    "high-level, object-oriented APIs like Keras, down to the C++ kernels\n",
    "that Tensorflow is built upon. The higher levels of abstraction are\n",
    "simpler to use, but less flexible, and our choice of implementation\n",
    "should reflect the problems we are trying to solve.\n",
    "\n",
    "[Tensorflow uses](https://www.tensorflow.org/guide/graphs) so-called graphs to represent your computation\n",
    "in terms of the dependencies between individual operations, such that you first build a Tensorflow *graph*\n",
    "to represent your model, and then create a Tensorflow *session* to run the graph.\n",
    "\n",
    "In this guide we will analyze the same data as we did in our NumPy and\n",
    "scikit-learn tutorial, gathered from the MNIST database of images. We\n",
    "will give an introduction to the lower level Python Application\n",
    "Program Interfaces (APIs), and see how we use them to build our graph.\n",
    "Then we will build (effectively) the same graph in Keras, to see just\n",
    "how simple solving a machine learning problem can be.\n",
    "\n",
    "To install tensorflow on Unix/Linux systems, use pip as"
   ]
  },
  {
   "cell_type": "code",
   "execution_count": 13,
   "metadata": {
    "collapsed": false,
    "editable": true
   },
   "outputs": [
    {
     "ename": "SyntaxError",
     "evalue": "invalid syntax (2357089093.py, line 1)",
     "output_type": "error",
     "traceback": [
      "\u001b[0;36m  Input \u001b[0;32mIn [13]\u001b[0;36m\u001b[0m\n\u001b[0;31m    pip3 install tensorflow\u001b[0m\n\u001b[0m         ^\u001b[0m\n\u001b[0;31mSyntaxError\u001b[0m\u001b[0;31m:\u001b[0m invalid syntax\n"
     ]
    }
   ],
   "source": [
    "pip3 install tensorflow"
   ]
  },
  {
   "cell_type": "markdown",
   "metadata": {},
   "source": [
    "and/or if you use **anaconda**, just write (or install from the graphical user interface)\n",
    "(current release of CPU-only TensorFlow)"
   ]
  },
  {
   "cell_type": "code",
   "execution_count": null,
   "metadata": {
    "collapsed": false,
    "editable": true
   },
   "outputs": [],
   "source": [
    "conda create -n tf tensorflow\n",
    "conda activate tf"
   ]
  },
  {
   "cell_type": "markdown",
   "metadata": {},
   "source": [
    "To install the current release of GPU TensorFlow"
   ]
  },
  {
   "cell_type": "code",
   "execution_count": null,
   "metadata": {
    "collapsed": false,
    "editable": true
   },
   "outputs": [],
   "source": [
    "conda create -n tf-gpu tensorflow-gpu\n",
    "conda activate tf-gpu"
   ]
  },
  {
   "cell_type": "markdown",
   "metadata": {},
   "source": [
    "Keras is a high level [neural network](https://en.wikipedia.org/wiki/Application_programming_interface)\n",
    "that supports Tensorflow, CTNK and Theano as backends.  \n",
    "If you have Anaconda installed you may run the following command"
   ]
  },
  {
   "cell_type": "code",
   "execution_count": null,
   "metadata": {
    "collapsed": false,
    "editable": true
   },
   "outputs": [],
   "source": [
    "conda install keras"
   ]
  },
  {
   "cell_type": "markdown",
   "metadata": {},
   "source": [
    "You can look up the [instructions here](https://keras.io/) for more information.\n",
    "\n",
    "We will to a large extent use **keras** in this course. \n",
    "\n",
    "\n",
    "\n",
    "Let us look again at the MINST data set."
   ]
  },
  {
   "cell_type": "code",
   "execution_count": null,
   "metadata": {
    "collapsed": false,
    "editable": true
   },
   "outputs": [],
   "source": [
    "# import necessary packages\n",
    "import numpy as np\n",
    "import matplotlib.pyplot as plt\n",
    "import tensorflow as tf\n",
    "from sklearn import datasets\n",
    "\n",
    "\n",
    "# ensure the same random numbers appear every time\n",
    "np.random.seed(0)\n",
    "\n",
    "# display images in notebook\n",
    "%matplotlib inline\n",
    "plt.rcParams['figure.figsize'] = (12,12)\n",
    "\n",
    "\n",
    "# download MNIST dataset\n",
    "digits = datasets.load_digits()\n",
    "\n",
    "# define inputs and labels\n",
    "inputs = digits.images\n",
    "labels = digits.target\n",
    "\n",
    "print(\"inputs = (n_inputs, pixel_width, pixel_height) = \" + str(inputs.shape))\n",
    "print(\"labels = (n_inputs) = \" + str(labels.shape))\n",
    "\n",
    "\n",
    "# flatten the image\n",
    "# the value -1 means dimension is inferred from the remaining dimensions: 8x8 = 64\n",
    "n_inputs = len(inputs)\n",
    "inputs = inputs.reshape(n_inputs, -1)\n",
    "print(\"X = (n_inputs, n_features) = \" + str(inputs.shape))\n",
    "\n",
    "\n",
    "# choose some random images to display\n",
    "indices = np.arange(n_inputs)\n",
    "random_indices = np.random.choice(indices, size=5)\n",
    "\n",
    "for i, image in enumerate(digits.images[random_indices]):\n",
    "    plt.subplot(1, 5, i+1)\n",
    "    plt.axis('off')\n",
    "    plt.imshow(image, cmap=plt.cm.gray_r, interpolation='nearest')\n",
    "    plt.title(\"Label: %d\" % digits.target[random_indices[i]])\n",
    "plt.show()"
   ]
  },
  {
   "cell_type": "code",
   "execution_count": null,
   "metadata": {
    "collapsed": false,
    "editable": true
   },
   "outputs": [],
   "source": [
    "from tensorflow.keras.layers import Input\n",
    "from tensorflow.keras.models import Sequential      #This allows appending layers to existing models\n",
    "from tensorflow.keras.layers import Dense           #This allows defining the characteristics of a particular layer\n",
    "from tensorflow.keras import optimizers             #This allows using whichever optimiser we want (sgd,adam,RMSprop)\n",
    "from tensorflow.keras import regularizers           #This allows using whichever regularizer we want (l1,l2,l1_l2)\n",
    "from tensorflow.keras.utils import to_categorical   #This allows using categorical cross entropy as the cost function\n",
    "\n",
    "from sklearn.model_selection import train_test_split\n",
    "\n",
    "# one-hot representation of labels\n",
    "labels = to_categorical(labels)\n",
    "\n",
    "# split into train and test data\n",
    "train_size = 0.8\n",
    "test_size = 1 - train_size\n",
    "X_train, X_test, Y_train, Y_test = train_test_split(inputs, labels, train_size=train_size,\n",
    "                                                    test_size=test_size)"
   ]
  },
  {
   "cell_type": "code",
   "execution_count": null,
   "metadata": {
    "collapsed": false,
    "editable": true
   },
   "outputs": [],
   "source": [
    "\n",
    "epochs = 100\n",
    "batch_size = 100\n",
    "n_neurons_layer1 = 100\n",
    "n_neurons_layer2 = 50\n",
    "n_categories = 10\n",
    "eta_vals = np.logspace(-5, 1, 7)\n",
    "lmbd_vals = np.logspace(-5, 1, 7)\n",
    "def create_neural_network_keras(n_neurons_layer1, n_neurons_layer2, n_categories, eta, lmbd):\n",
    "    model = Sequential()\n",
    "    model.add(Dense(n_neurons_layer1, activation='sigmoid', kernel_regularizer=regularizers.l2(lmbd)))\n",
    "    model.add(Dense(n_neurons_layer2, activation='sigmoid', kernel_regularizer=regularizers.l2(lmbd)))\n",
    "    model.add(Dense(n_categories, activation='softmax'))\n",
    "    \n",
    "    sgd = optimizers.SGD(lr=eta)\n",
    "    model.compile(loss='categorical_crossentropy', optimizer=sgd, metrics=['accuracy'])\n",
    "    \n",
    "    return model"
   ]
  },
  {
   "cell_type": "code",
   "execution_count": null,
   "metadata": {
    "collapsed": false,
    "editable": true
   },
   "outputs": [],
   "source": [
    "DNN_keras = np.zeros((len(eta_vals), len(lmbd_vals)), dtype=object)\n",
    "        \n",
    "for i, eta in enumerate(eta_vals):\n",
    "    for j, lmbd in enumerate(lmbd_vals):\n",
    "        DNN = create_neural_network_keras(n_neurons_layer1, n_neurons_layer2, n_categories,\n",
    "                                         eta=eta, lmbd=lmbd)\n",
    "        DNN.fit(X_train, Y_train, epochs=epochs, batch_size=batch_size, verbose=0)\n",
    "        scores = DNN.evaluate(X_test, Y_test)\n",
    "        \n",
    "        DNN_keras[i][j] = DNN\n",
    "        \n",
    "        print(\"Learning rate = \", eta)\n",
    "        print(\"Lambda = \", lmbd)\n",
    "        print(\"Test accuracy: %.3f\" % scores[1])\n",
    "        print()"
   ]
  },
  {
   "cell_type": "code",
   "execution_count": null,
   "metadata": {
    "collapsed": false,
    "editable": true
   },
   "outputs": [],
   "source": [
    "# optional\n",
    "# visual representation of grid search\n",
    "# uses seaborn heatmap, could probably do this in matplotlib\n",
    "import seaborn as sns\n",
    "\n",
    "sns.set()\n",
    "\n",
    "train_accuracy = np.zeros((len(eta_vals), len(lmbd_vals)))\n",
    "test_accuracy = np.zeros((len(eta_vals), len(lmbd_vals)))\n",
    "\n",
    "for i in range(len(eta_vals)):\n",
    "    for j in range(len(lmbd_vals)):\n",
    "        DNN = DNN_keras[i][j]\n",
    "\n",
    "        train_accuracy[i][j] = DNN.evaluate(X_train, Y_train)[1]\n",
    "        test_accuracy[i][j] = DNN.evaluate(X_test, Y_test)[1]\n",
    "\n",
    "        \n",
    "fig, ax = plt.subplots(figsize = (10, 10))\n",
    "sns.heatmap(train_accuracy, annot=True, ax=ax, cmap=\"viridis\")\n",
    "ax.set_title(\"Training Accuracy\")\n",
    "ax.set_ylabel(\"$\\eta$\")\n",
    "ax.set_xlabel(\"$\\lambda$\")\n",
    "plt.show()\n",
    "\n",
    "fig, ax = plt.subplots(figsize = (10, 10))\n",
    "sns.heatmap(test_accuracy, annot=True, ax=ax, cmap=\"viridis\")\n",
    "ax.set_title(\"Test Accuracy\")\n",
    "ax.set_ylabel(\"$\\eta$\")\n",
    "ax.set_xlabel(\"$\\lambda$\")\n",
    "plt.show()"
   ]
  },
  {
   "cell_type": "markdown",
   "metadata": {},
   "source": [
    "### The Breast Cancer Data, now with Keras"
   ]
  },
  {
   "cell_type": "code",
   "execution_count": null,
   "metadata": {
    "collapsed": false,
    "editable": true
   },
   "outputs": [],
   "source": [
    "\n",
    "import tensorflow as tf\n",
    "from tensorflow.keras.layers import Input\n",
    "from tensorflow.keras.models import Sequential      #This allows appending layers to existing models\n",
    "from tensorflow.keras.layers import Dense           #This allows defining the characteristics of a particular layer\n",
    "from tensorflow.keras import optimizers             #This allows using whichever optimiser we want (sgd,adam,RMSprop)\n",
    "from tensorflow.keras import regularizers           #This allows using whichever regularizer we want (l1,l2,l1_l2)\n",
    "from tensorflow.keras.utils import to_categorical   #This allows using categorical cross entropy as the cost function\n",
    "import numpy as np\n",
    "import matplotlib.pyplot as plt\n",
    "import seaborn as sns\n",
    "from sklearn.model_selection import train_test_split as splitter\n",
    "from sklearn.datasets import load_breast_cancer\n",
    "import pickle\n",
    "import os \n",
    "\n",
    "\n",
    "\"\"\"Load breast cancer dataset\"\"\"\n",
    "\n",
    "np.random.seed(0)        #create same seed for random number every time\n",
    "\n",
    "cancer=load_breast_cancer()      #Download breast cancer dataset\n",
    "\n",
    "inputs=cancer.data                     #Feature matrix of 569 rows (samples) and 30 columns (parameters)\n",
    "outputs=cancer.target                  #Label array of 569 rows (0 for benign and 1 for malignant)\n",
    "labels=cancer.feature_names[0:30]\n",
    "\n",
    "print('The content of the breast cancer dataset is:')      #Print information about the datasets\n",
    "print(labels)\n",
    "print('-------------------------')\n",
    "print(\"inputs =  \" + str(inputs.shape))\n",
    "print(\"outputs =  \" + str(outputs.shape))\n",
    "print(\"labels =  \"+ str(labels.shape))\n",
    "\n",
    "x=inputs      #Reassign the Feature and Label matrices to other variables\n",
    "y=outputs\n",
    "\n",
    "#%% \n",
    "\n",
    "# Visualisation of dataset (for correlation analysis)\n",
    "\n",
    "plt.figure()\n",
    "plt.scatter(x[:,0],x[:,2],s=40,c=y,cmap=plt.cm.Spectral)\n",
    "plt.xlabel('Mean radius',fontweight='bold')\n",
    "plt.ylabel('Mean perimeter',fontweight='bold')\n",
    "plt.show()\n",
    "\n",
    "plt.figure()\n",
    "plt.scatter(x[:,5],x[:,6],s=40,c=y, cmap=plt.cm.Spectral)\n",
    "plt.xlabel('Mean compactness',fontweight='bold')\n",
    "plt.ylabel('Mean concavity',fontweight='bold')\n",
    "plt.show()\n",
    "\n",
    "\n",
    "plt.figure()\n",
    "plt.scatter(x[:,0],x[:,1],s=40,c=y,cmap=plt.cm.Spectral)\n",
    "plt.xlabel('Mean radius',fontweight='bold')\n",
    "plt.ylabel('Mean texture',fontweight='bold')\n",
    "plt.show()\n",
    "\n",
    "plt.figure()\n",
    "plt.scatter(x[:,2],x[:,1],s=40,c=y,cmap=plt.cm.Spectral)\n",
    "plt.xlabel('Mean perimeter',fontweight='bold')\n",
    "plt.ylabel('Mean compactness',fontweight='bold')\n",
    "plt.show()\n",
    "\n",
    "\n",
    "# Generate training and testing datasets\n",
    "\n",
    "#Select features relevant to classification (texture,perimeter,compactness and symmetery) \n",
    "#and add to input matrix\n",
    "\n",
    "temp1=np.reshape(x[:,1],(len(x[:,1]),1))\n",
    "temp2=np.reshape(x[:,2],(len(x[:,2]),1))\n",
    "X=np.hstack((temp1,temp2))      \n",
    "temp=np.reshape(x[:,5],(len(x[:,5]),1))\n",
    "X=np.hstack((X,temp))       \n",
    "temp=np.reshape(x[:,8],(len(x[:,8]),1))\n",
    "X=np.hstack((X,temp))       \n",
    "\n",
    "X_train,X_test,y_train,y_test=splitter(X,y,test_size=0.1)   #Split datasets into training and testing\n",
    "\n",
    "y_train=to_categorical(y_train)     #Convert labels to categorical when using categorical cross entropy\n",
    "y_test=to_categorical(y_test)\n",
    "\n",
    "del temp1,temp2,temp\n",
    "\n",
    "# %%\n",
    "\n",
    "# Define tunable parameters\"\n",
    "\n",
    "eta=np.logspace(-3,-1,3)                    #Define vector of learning rates (parameter to SGD optimiser)\n",
    "lamda=0.01                                  #Define hyperparameter\n",
    "n_layers=2                                  #Define number of hidden layers in the model\n",
    "n_neuron=np.logspace(0,3,4,dtype=int)       #Define number of neurons per layer\n",
    "epochs=100                                   #Number of reiterations over the input data\n",
    "batch_size=100                              #Number of samples per gradient update\n",
    "\n",
    "# %%\n",
    "\n",
    "\"\"\"Define function to return Deep Neural Network model\"\"\"\n",
    "\n",
    "def NN_model(inputsize,n_layers,n_neuron,eta,lamda):\n",
    "    model=Sequential()      \n",
    "    for i in range(n_layers):       #Run loop to add hidden layers to the model\n",
    "        if (i==0):                  #First layer requires input dimensions\n",
    "            model.add(Dense(n_neuron,activation='relu',kernel_regularizer=regularizers.l2(lamda),input_dim=inputsize))\n",
    "        else:                       #Subsequent layers are capable of automatic shape inferencing\n",
    "            model.add(Dense(n_neuron,activation='relu',kernel_regularizer=regularizers.l2(lamda)))\n",
    "    model.add(Dense(2,activation='softmax'))  #2 outputs - ordered and disordered (softmax for prob)\n",
    "    sgd=optimizers.SGD(lr=eta)\n",
    "    model.compile(loss='categorical_crossentropy',optimizer=sgd,metrics=['accuracy'])\n",
    "    return model\n",
    "\n",
    "    \n",
    "Train_accuracy=np.zeros((len(n_neuron),len(eta)))      #Define matrices to store accuracy scores as a function\n",
    "Test_accuracy=np.zeros((len(n_neuron),len(eta)))       #of learning rate and number of hidden neurons for \n",
    "\n",
    "for i in range(len(n_neuron)):     #run loops over hidden neurons and learning rates to calculate \n",
    "    for j in range(len(eta)):      #accuracy scores \n",
    "        DNN_model=NN_model(X_train.shape[1],n_layers,n_neuron[i],eta[j],lamda)\n",
    "        DNN_model.fit(X_train,y_train,epochs=epochs,batch_size=batch_size,verbose=1)\n",
    "        Train_accuracy[i,j]=DNN_model.evaluate(X_train,y_train)[1]\n",
    "        Test_accuracy[i,j]=DNN_model.evaluate(X_test,y_test)[1]\n",
    "               \n",
    "\n",
    "def plot_data(x,y,data,title=None):\n",
    "\n",
    "    # plot results\n",
    "    fontsize=16\n",
    "\n",
    "\n",
    "    fig = plt.figure()\n",
    "    ax = fig.add_subplot(111)\n",
    "    cax = ax.matshow(data, interpolation='nearest', vmin=0, vmax=1)\n",
    "    \n",
    "    cbar=fig.colorbar(cax)\n",
    "    cbar.ax.set_ylabel('accuracy (%)',rotation=90,fontsize=fontsize)\n",
    "    cbar.set_ticks([0,.2,.4,0.6,0.8,1.0])\n",
    "    cbar.set_ticklabels(['0%','20%','40%','60%','80%','100%'])\n",
    "\n",
    "    # put text on matrix elements\n",
    "    for i, x_val in enumerate(np.arange(len(x))):\n",
    "        for j, y_val in enumerate(np.arange(len(y))):\n",
    "            c = \"${0:.1f}\\\\%$\".format( 100*data[j,i])  \n",
    "            ax.text(x_val, y_val, c, va='center', ha='center')\n",
    "\n",
    "    # convert axis vaues to to string labels\n",
    "    x=[str(i) for i in x]\n",
    "    y=[str(i) for i in y]\n",
    "\n",
    "\n",
    "    ax.set_xticklabels(['']+x)\n",
    "    ax.set_yticklabels(['']+y)\n",
    "\n",
    "    ax.set_xlabel('$\\\\mathrm{learning\\\\ rate}$',fontsize=fontsize)\n",
    "    ax.set_ylabel('$\\\\mathrm{hidden\\\\ neurons}$',fontsize=fontsize)\n",
    "    if title is not None:\n",
    "        ax.set_title(title)\n",
    "\n",
    "    plt.tight_layout()\n",
    "\n",
    "    plt.show()\n",
    "    \n",
    "plot_data(eta,n_neuron,Train_accuracy, 'training')\n",
    "plot_data(eta,n_neuron,Test_accuracy, 'testing')"
   ]
  },
  {
   "cell_type": "markdown",
   "metadata": {},
   "source": [
    "## Fine-tuning neural network hyperparameters\n",
    "\n",
    "The flexibility of neural networks is also one of their main\n",
    "drawbacks: there are many hyperparameters to tweak. Not only can you\n",
    "use any imaginable network topology (how neurons/nodes are interconnected),\n",
    "but even in a simple FFNN you can change the number of layers, the\n",
    "number of neurons per layer, the type of activation function to use in\n",
    "each layer, the weight initialization logic, the stochastic gradient optmized and much more. How do you\n",
    "know what combination of hyperparameters is the best for your task?\n",
    "\n",
    "* You can use grid search with cross-validation to find the right hyperparameters.\n",
    "\n",
    "However,since there are many hyperparameters to tune, and since\n",
    "training a neural network on a large dataset takes a lot of time, you\n",
    "will only be able to explore a tiny part of the hyperparameter space.\n",
    "\n",
    "\n",
    "* You can use randomized search.\n",
    "\n",
    "* Or use tools like [Oscar](http://oscar.calldesk.ai/), which implements more complex algorithms to help you find a good set of hyperparameters quickly.  \n",
    "\n",
    "### Hidden layers\n",
    "\n",
    "For many problems you can start with just one or two hidden layers and it will work just fine.\n",
    "For the MNIST data set you ca easily get a high accuracy using just one hidden layer with a\n",
    "few hundred neurons.\n",
    "You can reach for this data set above 98% accuracy using two hidden layers with the same total amount of\n",
    "neurons, in roughly the same amount of training time. \n",
    "\n",
    "For more complex problems, you can gradually\n",
    "ramp up the number of hidden layers, until you start overfitting the training set. Very complex tasks, such\n",
    "as large image classification or speech recognition, typically require networks with dozens of layers\n",
    "and they need a huge amount\n",
    "of training data. However, you will rarely have to train such networks from scratch: it is much more\n",
    "common to reuse parts of a pretrained state-of-the-art network that performs a similar task.\n",
    "\n",
    "\n",
    "\n",
    "\n",
    "\n",
    "### Which activation function should I use?\n",
    "\n",
    "The Back propagation algorithm we derived above works by going from\n",
    "the output layer to the input layer, propagating the error gradient on\n",
    "the way. Once the algorithm has computed the gradient of the cost\n",
    "function with regards to each parameter in the network, it uses these\n",
    "gradients to update each parameter with a Gradient Descent (GD) step.\n",
    "\n",
    "\n",
    "Unfortunately for us, the gradients often get smaller and smaller as the\n",
    "algorithm progresses down to the first hidden layers. As a result, the\n",
    "GD update leaves the lower layer connection weights\n",
    "virtually unchanged, and training never converges to a good\n",
    "solution. This is known in the literature as \n",
    "**the vanishing gradients problem**. \n",
    "\n",
    "In other cases, the opposite can happen, namely the the gradients can grow bigger and\n",
    "bigger. The result is that many of the layers get large updates of the \n",
    "weights the\n",
    "algorithm diverges. This is the **exploding gradients problem**, which is\n",
    "mostly encountered in recurrent neural networks. More generally, deep\n",
    "neural networks suffer from unstable gradients, different layers may\n",
    "learn at widely different speeds\n",
    "\n",
    "\n",
    "\n",
    "\n",
    "### Is the Logistic activation function (Sigmoid)  our choice?\n",
    "\n",
    "Although this unfortunate behavior has been empirically observed for\n",
    "quite a while (it was one of the reasons why deep neural networks were\n",
    "mostly abandoned for a long time), it is only around 2010 that\n",
    "significant progress was made in understanding it.\n",
    "\n",
    "A paper titled [Understanding the Difficulty of Training Deep\n",
    "Feedforward Neural Networks by Xavier Glorot and Yoshua Bengio](http://proceedings.mlr.press/v9/glorot10a.html) found that\n",
    "the problems with the popular logistic\n",
    "sigmoid activation function and the weight initialization technique\n",
    "that was most popular at the time, namely random initialization using\n",
    "a normal distribution with a mean of 0 and a standard deviation of\n",
    "1. \n",
    "\n",
    "They showed that with this activation function and this\n",
    "initialization scheme, the variance of the outputs of each layer is\n",
    "much greater than the variance of its inputs. Going forward in the\n",
    "network, the variance keeps increasing after each layer until the\n",
    "activation function saturates at the top layers. This is actually made\n",
    "worse by the fact that the logistic function has a mean of 0.5, not 0\n",
    "(the hyperbolic tangent function has a mean of 0 and behaves slightly\n",
    "better than the logistic function in deep networks).\n",
    "\n",
    "\n",
    "\n",
    "### The derivative of the Logistic funtion\n",
    "\n",
    "Looking at the logistic activation function, when inputs become large\n",
    "(negative or positive), the function saturates at 0 or 1, with a\n",
    "derivative extremely close to 0. Thus when backpropagation kicks in,\n",
    "it has virtually no gradient to propagate back through the network,\n",
    "and what little gradient exists keeps getting diluted as\n",
    "backpropagation progresses down through the top layers, so there is\n",
    "really nothing left for the lower layers.\n",
    "\n",
    "In their paper, Glorot and Bengio propose a way to significantly\n",
    "alleviate this problem. We need the signal to flow properly in both\n",
    "directions: in the forward direction when making predictions, and in\n",
    "the reverse direction when backpropagating gradients. We don’t want\n",
    "the signal to die out, nor do we want it to explode and saturate. For\n",
    "the signal to flow properly, the authors argue that we need the\n",
    "variance of the outputs of each layer to be equal to the variance of\n",
    "its inputs, and we also need the gradients to have equal variance\n",
    "before and after flowing through a layer in the reverse direction.\n",
    "\n",
    "\n",
    "\n",
    "One of the insights in the 2010 paper by Glorot and Bengio was that\n",
    "the vanishing/exploding gradients problems were in part due to a poor\n",
    "choice of activation function. Until then most people had assumed that\n",
    "if Nature had chosen to use roughly sigmoid activation functions in\n",
    "biological neurons, they must be an excellent choice. But it turns out\n",
    "that other activation functions behave much better in deep neural\n",
    "networks, in particular the ReLU activation function, mostly because\n",
    "it does not saturate for positive values (and also because it is quite\n",
    "fast to compute).\n",
    "\n",
    "\n",
    "\n",
    "### The RELU function family\n",
    "\n",
    "The ReLU activation function suffers from a problem known as the dying\n",
    "ReLUs: during training, some neurons effectively die, meaning they\n",
    "stop outputting anything other than 0.\n",
    "\n",
    "In some cases, you may find that half of your network’s neurons are\n",
    "dead, especially if you used a large learning rate. During training,\n",
    "if a neuron’s weights get updated such that the weighted sum of the\n",
    "neuron’s inputs is negative, it will start outputting 0. When this\n",
    "happen, the neuron is unlikely to come back to life since the gradient\n",
    "of the ReLU function is 0 when its input is negative.\n",
    "\n",
    "To solve this problem, nowadays practitioners use a  variant of the ReLU\n",
    "function, such as the leaky ReLU discussed above or the so-called\n",
    "exponential linear unit (ELU) function"
   ]
  },
  {
   "cell_type": "markdown",
   "metadata": {},
   "source": [
    "$$\n",
    "ELU(z) = \\left\\{\\begin{array}{cc} \\alpha\\left( \\exp{(z)}-1\\right) & z < 0,\\\\  z & z \\ge 0.\\end{array}\\right.\n",
    "$$"
   ]
  },
  {
   "cell_type": "markdown",
   "metadata": {},
   "source": [
    "### Which activation function should we use?\n",
    "\n",
    "In general it seems that the ELU activation function is better than\n",
    "the leaky ReLU function (and its variants), which is better than\n",
    "ReLU. ReLU performs better than $\\tanh$ which in turn performs better\n",
    "than the logistic function. \n",
    "\n",
    "If runtime\n",
    "performance is an issue, then you may opt for the  leaky ReLU function  over the \n",
    "ELU function If you don’t\n",
    "want to tweak yet another hyperparameter, you may just use the default\n",
    "$\\alpha$ of $0.01$ for the leaky ReLU, and $1$ for ELU. If you have\n",
    "spare time and computing power, you can use cross-validation or\n",
    "bootstrap to evaluate other activation functions.\n",
    "\n",
    "\n",
    "In most cases you can use the ReLU activation function in the hidden layers (or one of its variants).\n",
    "\n",
    "It is a bit faster to compute than other activation functions, and the gradient descent optimization does in general not get stuck.\n",
    "\n",
    "**For the output layer:**\n",
    "\n",
    "* For classification the softmax activation function is generally a good choice for classification tasks (when the classes are mutually exclusive).\n",
    "\n",
    "* For regression tasks, you can simply use no activation function at all.\n",
    "\n",
    "### Batch Normalization\n",
    "\n",
    "Batch Normalization\n",
    "aims to address the vanishing/exploding gradients problems, and more generally the problem that the\n",
    "distribution of each layer’s inputs changes during training, as the parameters of the previous layers change.\n",
    "\n",
    "The technique consists of adding an operation in the model just before the activation function of each\n",
    "layer, simply zero-centering and normalizing the inputs, then scaling and shifting the result using two new\n",
    "parameters per layer (one for scaling, the other for shifting). In other words, this operation lets the model\n",
    "learn the optimal scale and mean of the inputs for each layer.\n",
    "In order to zero-center and normalize the inputs, the algorithm needs to estimate the inputs’ mean and\n",
    "standard deviation. It does so by evaluating the mean and standard deviation of the inputs over the current\n",
    "mini-batch, from this the name batch normalization.\n",
    "\n",
    "\n",
    "### Dropout\n",
    "\n",
    "It is a fairly simple algorithm: at every training step, every neuron (including the input neurons but\n",
    "excluding the output neurons) has a probability $p$ of being temporarily dropped out, meaning it will be\n",
    "entirely ignored during this training step, but it may be active during the next step.\n",
    "\n",
    "The\n",
    "hyperparameter $p$ is called the dropout rate, and it is typically set to 50%. After training, the neurons are not dropped anymore.\n",
    " It is viewed as one of the most popular regularization techniques.\n",
    "\n",
    "\n",
    "### Gradient Clipping\n",
    "\n",
    "A popular technique to lessen the exploding gradients problem is to simply clip the gradients during\n",
    "backpropagation so that they never exceed some threshold (this is mostly useful for recurrent neural\n",
    "networks).\n",
    "\n",
    "This technique is called Gradient Clipping.\n",
    "\n",
    "In general however, Batch\n",
    "Normalization is preferred.\n",
    "\n",
    "\n",
    "## A top-down perspective on Neural networks\n",
    "\n",
    "\n",
    "The first thing we would like to do is divide the data into two or three\n",
    "parts. A training set, a validation or dev (development) set, and a\n",
    "test set. The test set is the data on which we want to make\n",
    "predictions. The dev set is a subset of the training data we use to\n",
    "check how well we are doing out-of-sample, after training the model on\n",
    "the training dataset. We use the validation error as a proxy for the\n",
    "test error in order to make tweaks to our model. It is crucial that we\n",
    "do not use any of the test data to train the algorithm. This is a\n",
    "cardinal sin in ML. Then:\n",
    "\n",
    "\n",
    "* Estimate optimal error rate\n",
    "\n",
    "* Minimize underfitting (bias) on training data set.\n",
    "\n",
    "* Make sure you are not overfitting.\n",
    "\n",
    "If the validation and test sets are drawn from the same distributions,\n",
    "then a good performance on the validation set should lead to similarly\n",
    "good performance on the test set. \n",
    "\n",
    "However, sometimes\n",
    "the training data and test data differ in subtle ways because, for\n",
    "example, they are collected using slightly different methods, or\n",
    "because it is cheaper to collect data in one way versus another. In\n",
    "this case, there can be a mismatch between the training and test\n",
    "data. This can lead to the neural network overfitting these small\n",
    "differences between the test and training sets, and a poor performance\n",
    "on the test set despite having a good performance on the validation\n",
    "set. To rectify this, Andrew Ng suggests making two validation or dev\n",
    "sets, one constructed from the training data and one constructed from\n",
    "the test data. The difference between the performance of the algorithm\n",
    "on these two validation sets quantifies the train-test mismatch. This\n",
    "can serve as another important diagnostic when using DNNs for\n",
    "supervised learning.\n",
    "\n",
    "\n",
    "### Limitations of supervised learning with deep networks\n",
    "\n",
    "Like all statistical methods, supervised learning using neural\n",
    "networks has important limitations. This is especially important when\n",
    "one seeks to apply these methods, especially to physics problems. Like\n",
    "all tools, DNNs are not a universal solution. Often, the same or\n",
    "better performance on a task can be achieved by using a few\n",
    "hand-engineered features (or even a collection of random\n",
    "features). \n",
    "\n",
    "Here we list some of the important limitations of supervised neural network based models. \n",
    "\n",
    "\n",
    "\n",
    "* **Need labeled data**. All supervised learning methods, DNNs for supervised learning require labeled data. Often, labeled data is harder to acquire than unlabeled data (e.g. one must pay for human experts to label images).\n",
    "\n",
    "* **Supervised neural networks are extremely data intensive.** DNNs are data hungry. They perform best when data is plentiful. This is doubly so for supervised methods where the data must also be labeled. The utility of DNNs is extremely limited if data is hard to acquire or the datasets are small (hundreds to a few thousand samples). In this case, the performance of other methods that utilize hand-engineered features can exceed that of DNNs.\n",
    "\n",
    "* **Homogeneous data.** Almost all DNNs deal with homogeneous data of one type. It is very hard to design architectures that mix and match data types (i.e. some continuous variables, some discrete variables, some time series). In applications beyond images, video, and language, this is often what is required. In contrast, ensemble models like random forests or gradient-boosted trees have no difficulty handling mixed data types.\n",
    "\n",
    "* **Many problems are not about prediction.** In natural science we are often interested in learning something about the underlying distribution that generates the data. In this case, it is often difficult to cast these ideas in a supervised learning setting. While the problems are related, it is possible to make good predictions with a *wrong* model. The model might or might not be useful for understanding the underlying science.\n",
    "\n",
    "Some of these remarks are particular to DNNs, others are shared by all supervised learning methods. This motivates the use of unsupervised methods which in part circumvent these problems."
   ]
  }
 ],
 "metadata": {
  "language_info": {
   "codemirror_mode": {
    "name": "ipython",
    "version": 3
   },
   "file_extension": ".py",
   "mimetype": "text/x-python",
   "name": "python",
   "nbconvert_exporter": "python",
   "pygments_lexer": "ipython3",
   "version": "3.9.10"
  }
 },
 "nbformat": 4,
 "nbformat_minor": 4
}