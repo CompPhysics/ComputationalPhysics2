{
 "cells": [
  {
   "cell_type": "markdown",
   "id": "e8e967dc",
   "metadata": {
    "editable": true
   },
   "source": [
    "<!-- HTML file automatically generated from DocOnce source (https://github.com/doconce/doconce/)\n",
    "doconce format html vmcdmc.do.txt  -->"
   ]
  },
  {
   "cell_type": "markdown",
   "id": "85104ce0",
   "metadata": {
    "editable": true
   },
   "source": [
    "# Variational Monte Carlo methods"
   ]
  },
  {
   "cell_type": "markdown",
   "id": "1efbe61f",
   "metadata": {
    "editable": true
   },
   "source": [
    "## Quantum Monte Carlo Motivation\n",
    "\n",
    "We start with the variational principle.\n",
    "Given a hamiltonian $H$ and a trial wave function $\\Psi_T$, the variational principle states that the expectation value of $\\langle H \\rangle$, defined through"
   ]
  },
  {
   "cell_type": "markdown",
   "id": "3b1435e6",
   "metadata": {
    "editable": true
   },
   "source": [
    "$$\n",
    "E[H]= \\langle H \\rangle =\n",
    "   \\frac{\\int d\\boldsymbol{R}\\Psi^{\\ast}_T(\\boldsymbol{R})H(\\boldsymbol{R})\\Psi_T(\\boldsymbol{R})}\n",
    "        {\\int d\\boldsymbol{R}\\Psi^{\\ast}_T(\\boldsymbol{R})\\Psi_T(\\boldsymbol{R})},\n",
    "$$"
   ]
  },
  {
   "cell_type": "markdown",
   "id": "1301057b",
   "metadata": {
    "editable": true
   },
   "source": [
    "is an upper bound to the ground state energy $E_0$ of the hamiltonian $H$, that is"
   ]
  },
  {
   "cell_type": "markdown",
   "id": "a6d79c07",
   "metadata": {
    "editable": true
   },
   "source": [
    "$$\n",
    "E_0 \\le \\langle H \\rangle .\n",
    "$$"
   ]
  },
  {
   "cell_type": "markdown",
   "id": "e770e1de",
   "metadata": {
    "editable": true
   },
   "source": [
    "In general, the integrals involved in the calculation of various  expectation values  are multi-dimensional ones. Traditional integration methods such as the Gauss-Legendre will not be adequate for say the  computation of the energy of a many-body system.\n",
    "\n",
    "The trial wave function can be expanded in the eigenstates of the hamiltonian since they form a complete set, viz.,"
   ]
  },
  {
   "cell_type": "markdown",
   "id": "cd668862",
   "metadata": {
    "editable": true
   },
   "source": [
    "$$\n",
    "\\Psi_T(\\boldsymbol{R})=\\sum_i a_i\\Psi_i(\\boldsymbol{R}),\n",
    "$$"
   ]
  },
  {
   "cell_type": "markdown",
   "id": "051fbf36",
   "metadata": {
    "editable": true
   },
   "source": [
    "and assuming the set of eigenfunctions to be normalized one obtains"
   ]
  },
  {
   "cell_type": "markdown",
   "id": "1eb5bab8",
   "metadata": {
    "editable": true
   },
   "source": [
    "$$\n",
    "\\frac{\\sum_{nm}a^*_ma_n \\int d\\boldsymbol{R}\\Psi^{\\ast}_m(\\boldsymbol{R})H(\\boldsymbol{R})\\Psi_n(\\boldsymbol{R})}\n",
    "        {\\sum_{nm}a^*_ma_n \\int d\\boldsymbol{R}\\Psi^{\\ast}_m(\\boldsymbol{R})\\Psi_n(\\boldsymbol{R})} =\\frac{\\sum_{n}a^2_n E_n}\n",
    "        {\\sum_{n}a^2_n} \\ge E_0,\n",
    "$$"
   ]
  },
  {
   "cell_type": "markdown",
   "id": "ffa7232b",
   "metadata": {
    "editable": true
   },
   "source": [
    "where we used that $H(\\boldsymbol{R})\\Psi_n(\\boldsymbol{R})=E_n\\Psi_n(\\boldsymbol{R})$.\n",
    "In general, the integrals involved in the calculation of various  expectation\n",
    "values  are multi-dimensional ones. \n",
    "The variational principle yields the lowest state of a given symmetry.\n",
    "\n",
    "In most cases, a wave function has only small values in large parts of \n",
    "configuration space, and a straightforward procedure which uses\n",
    "homogenously distributed random points in configuration space \n",
    "will most likely lead to poor results. This may suggest that some kind\n",
    "of importance sampling combined with e.g., the Metropolis algorithm \n",
    "may be  a more efficient way of obtaining the ground state energy.\n",
    "The hope is then that those regions of configurations space where\n",
    "the wave function assumes appreciable values are sampled more \n",
    "efficiently. \n",
    "\n",
    "The tedious part in a VMC calculation is the search for the variational\n",
    "minimum. A good knowledge of the system is required in order to carry out\n",
    "reasonable VMC calculations. This is not always the case, \n",
    "and often VMC calculations \n",
    "serve rather as the starting\n",
    "point for so-called diffusion Monte Carlo calculations (DMC). DMC is a way of\n",
    "solving exactly the many-body Schroedinger equation by means of \n",
    "a stochastic procedure. A good guess on the binding energy\n",
    "and its wave function is however necessary. \n",
    "A carefully performed VMC calculation can aid in this context. \n",
    "\n",
    "The basic recipe in a VMC calculation consists of the following elements:\n",
    "\n",
    "* Construct first a trial wave function $\\psi_T(\\boldsymbol{R},\\boldsymbol{\\alpha})$,  for a many-body system consisting of $N$ particles located at positions  $\\boldsymbol{R}=(\\boldsymbol{R}_1,\\dots ,\\boldsymbol{R}_N)$. The trial wave function depends on $\\alpha$ variational parameters $\\boldsymbol{\\alpha}=(\\alpha_1,\\dots ,\\alpha_M)$.\n",
    "\n",
    "* Then we evaluate the expectation value of the hamiltonian $H$"
   ]
  },
  {
   "cell_type": "markdown",
   "id": "ea7ccb21",
   "metadata": {
    "editable": true
   },
   "source": [
    "$$\n",
    "E[H]=\\langle H \\rangle =\n",
    "   \\frac{\\int d\\boldsymbol{R}\\Psi^{\\ast}_{T}(\\boldsymbol{R},\\boldsymbol{\\alpha})H(\\boldsymbol{R})\\Psi_{T}(\\boldsymbol{R},\\boldsymbol{\\alpha})}\n",
    "        {\\int d\\boldsymbol{R}\\Psi^{\\ast}_{T}(\\boldsymbol{R},\\boldsymbol{\\alpha})\\Psi_{T}(\\boldsymbol{R},\\boldsymbol{\\alpha})}.\n",
    "$$"
   ]
  },
  {
   "cell_type": "markdown",
   "id": "dce2be81",
   "metadata": {
    "editable": true
   },
   "source": [
    "* Thereafter we vary $\\alpha$ according to some minimization algorithm and return to the first step.\n",
    "\n",
    "With a trial wave function $\\psi_T(\\boldsymbol{R})$ we can in turn construct the quantum mechanical probability distribution"
   ]
  },
  {
   "cell_type": "markdown",
   "id": "945643b7",
   "metadata": {
    "editable": true
   },
   "source": [
    "$$\n",
    "P(\\boldsymbol{R})= \\frac{\\left|\\psi_T(\\boldsymbol{R})\\right|^2}{\\int \\left|\\psi_T(\\boldsymbol{R})\\right|^2d\\boldsymbol{R}}.\n",
    "$$"
   ]
  },
  {
   "cell_type": "markdown",
   "id": "c0943079",
   "metadata": {
    "editable": true
   },
   "source": [
    "This is our new probability distribution function  (PDF).\n",
    "The approximation to the expectation value of the Hamiltonian is now"
   ]
  },
  {
   "cell_type": "markdown",
   "id": "1db9bf4b",
   "metadata": {
    "editable": true
   },
   "source": [
    "$$\n",
    "E[H(\\boldsymbol{\\alpha})] = \n",
    "   \\frac{\\int d\\boldsymbol{R}\\Psi^{\\ast}_T(\\boldsymbol{R},\\boldsymbol{\\alpha})H(\\boldsymbol{R})\\Psi_T(\\boldsymbol{R},\\boldsymbol{\\alpha})}\n",
    "        {\\int d\\boldsymbol{R}\\Psi^{\\ast}_T(\\boldsymbol{R},\\boldsymbol{\\alpha})\\Psi_T(\\boldsymbol{R},\\boldsymbol{\\alpha})}.\n",
    "$$"
   ]
  },
  {
   "cell_type": "markdown",
   "id": "6aa2b5ce",
   "metadata": {
    "editable": true
   },
   "source": [
    "Define a new quantity"
   ]
  },
  {
   "cell_type": "markdown",
   "id": "e6d1c14a",
   "metadata": {
    "editable": true
   },
   "source": [
    "<!-- Equation labels as ordinary links -->\n",
    "<div id=\"eq:locale1\"></div>\n",
    "\n",
    "$$\n",
    "E_L(\\boldsymbol{R},\\boldsymbol{\\alpha})=\\frac{1}{\\psi_T(\\boldsymbol{R},\\boldsymbol{\\alpha})}H\\psi_T(\\boldsymbol{R},\\boldsymbol{\\alpha}),\n",
    "\\label{eq:locale1} \\tag{1}\n",
    "$$"
   ]
  },
  {
   "cell_type": "markdown",
   "id": "afaa0e71",
   "metadata": {
    "editable": true
   },
   "source": [
    "called the local energy, which, together with our trial PDF yields"
   ]
  },
  {
   "cell_type": "markdown",
   "id": "d4080f13",
   "metadata": {
    "editable": true
   },
   "source": [
    "<!-- Equation labels as ordinary links -->\n",
    "<div id=\"eq:vmc1\"></div>\n",
    "\n",
    "$$\n",
    "E[H(\\boldsymbol{\\alpha})]=\\int P(\\boldsymbol{R})E_L(\\boldsymbol{R}) d\\boldsymbol{R}\\approx \\frac{1}{N}\\sum_{i=1}^NP(\\boldsymbol{R_i},\\boldsymbol{\\alpha})E_L(\\boldsymbol{R_i},\\boldsymbol{\\alpha})\n",
    "\\label{eq:vmc1} \\tag{2}\n",
    "$$"
   ]
  },
  {
   "cell_type": "markdown",
   "id": "a4af20f2",
   "metadata": {
    "editable": true
   },
   "source": [
    "with $N$ being the number of Monte Carlo samples.\n",
    "\n",
    "The Algorithm for performing a variational Monte Carlo calculations runs thus as this\n",
    "\n",
    "   * Initialisation: Fix the number of Monte Carlo steps. Choose an initial $\\boldsymbol{R}$ and variational parameters $\\alpha$ and calculate $\\left|\\psi_T^{\\alpha}(\\boldsymbol{R})\\right|^2$. \n",
    "\n",
    "   * Initialise the energy and the variance and start the Monte Carlo calculation.\n",
    "\n",
    "      * Calculate  a trial position  $\\boldsymbol{R}_p=\\boldsymbol{R}+r*step$ where $r$ is a random variable $r \\in [0,1]$.\n",
    "\n",
    "      * Metropolis algorithm to accept or reject this move  $w = P(\\boldsymbol{R}_p)/P(\\boldsymbol{R})$.\n",
    "\n",
    "      * If the step is accepted, then we set $\\boldsymbol{R}=\\boldsymbol{R}_p$. \n",
    "\n",
    "      * Update averages\n",
    "\n",
    "   * Finish and compute final averages.\n",
    "\n",
    "Observe that the jumping in space is governed by the variable *step*. This is Called brute-force sampling.\n",
    "Need importance sampling to get more relevant sampling, see lectures below."
   ]
  },
  {
   "cell_type": "markdown",
   "id": "7254eed4",
   "metadata": {
    "editable": true
   },
   "source": [
    "### Quantum Monte Carlo: hydrogen atom\n",
    "\n",
    "The radial Schroedinger equation for the hydrogen atom can be\n",
    "written as"
   ]
  },
  {
   "cell_type": "markdown",
   "id": "c05e9f34",
   "metadata": {
    "editable": true
   },
   "source": [
    "$$\n",
    "-\\frac{\\hbar^2}{2m}\\frac{\\partial^2 u(r)}{\\partial r^2}-\n",
    "\\left(\\frac{ke^2}{r}-\\frac{\\hbar^2l(l+1)}{2mr^2}\\right)u(r)=Eu(r),\n",
    "$$"
   ]
  },
  {
   "cell_type": "markdown",
   "id": "340bcb76",
   "metadata": {
    "editable": true
   },
   "source": [
    "or with dimensionless variables"
   ]
  },
  {
   "cell_type": "markdown",
   "id": "aa509ca3",
   "metadata": {
    "editable": true
   },
   "source": [
    "<!-- Equation labels as ordinary links -->\n",
    "<div id=\"eq:hydrodimless1\"></div>\n",
    "\n",
    "$$\n",
    "-\\frac{1}{2}\\frac{\\partial^2 u(\\rho)}{\\partial \\rho^2}-\n",
    "\\frac{u(\\rho)}{\\rho}+\\frac{l(l+1)}{2\\rho^2}u(\\rho)-\\lambda u(\\rho)=0,\n",
    "\\label{eq:hydrodimless1} \\tag{3}\n",
    "$$"
   ]
  },
  {
   "cell_type": "markdown",
   "id": "d7499ce0",
   "metadata": {
    "editable": true
   },
   "source": [
    "with the hamiltonian"
   ]
  },
  {
   "cell_type": "markdown",
   "id": "c3f9a231",
   "metadata": {
    "editable": true
   },
   "source": [
    "$$\n",
    "H=-\\frac{1}{2}\\frac{\\partial^2 }{\\partial \\rho^2}-\n",
    "\\frac{1}{\\rho}+\\frac{l(l+1)}{2\\rho^2}.\n",
    "$$"
   ]
  },
  {
   "cell_type": "markdown",
   "id": "7a24bc91",
   "metadata": {
    "editable": true
   },
   "source": [
    "Use variational parameter $\\alpha$ in the trial\n",
    "wave function"
   ]
  },
  {
   "cell_type": "markdown",
   "id": "4c757cad",
   "metadata": {
    "editable": true
   },
   "source": [
    "<!-- Equation labels as ordinary links -->\n",
    "<div id=\"eq:trialhydrogen\"></div>\n",
    "\n",
    "$$\n",
    "u_T^{\\alpha}(\\rho)=\\alpha\\rho e^{-\\alpha\\rho}. \n",
    "\\label{eq:trialhydrogen} \\tag{4}\n",
    "$$"
   ]
  },
  {
   "cell_type": "markdown",
   "id": "d0eea2ea",
   "metadata": {
    "editable": true
   },
   "source": [
    "Inserting this wave function into the expression for the\n",
    "local energy $E_L$ gives"
   ]
  },
  {
   "cell_type": "markdown",
   "id": "0c586d5a",
   "metadata": {
    "editable": true
   },
   "source": [
    "$$\n",
    "E_L(\\rho)=-\\frac{1}{\\rho}-\n",
    "              \\frac{\\alpha}{2}\\left(\\alpha-\\frac{2}{\\rho}\\right).\n",
    "$$"
   ]
  },
  {
   "cell_type": "markdown",
   "id": "f553408c",
   "metadata": {
    "editable": true
   },
   "source": [
    "A simple variational Monte Carlo calculation results in\n",
    "<table class=\"dotable\" border=\"1\">\n",
    "<thead>\n",
    "<tr><th align=\"center\">  $\\alpha$ </th> <th align=\"center\">$\\langle H \\rangle $</th> <th align=\"center\"> $\\sigma^2$</th> <th align=\"center\">$\\sigma/\\sqrt{N}$</th> </tr>\n",
    "</thead>\n",
    "<tbody>\n",
    "<tr><td align=\"center\">   7.00000E-01    </td> <td align=\"center\">   -4.57759E-01            </td> <td align=\"center\">   4.51201E-02    </td> <td align=\"center\">   6.71715E-04          </td> </tr>\n",
    "<tr><td align=\"center\">   8.00000E-01    </td> <td align=\"center\">   -4.81461E-01            </td> <td align=\"center\">   3.05736E-02    </td> <td align=\"center\">   5.52934E-04          </td> </tr>\n",
    "<tr><td align=\"center\">   9.00000E-01    </td> <td align=\"center\">   -4.95899E-01            </td> <td align=\"center\">   8.20497E-03    </td> <td align=\"center\">   2.86443E-04          </td> </tr>\n",
    "<tr><td align=\"center\">   1.00000E-00    </td> <td align=\"center\">   -5.00000E-01            </td> <td align=\"center\">   0.00000E+00    </td> <td align=\"center\">   0.00000E+00          </td> </tr>\n",
    "<tr><td align=\"center\">   1.10000E+00    </td> <td align=\"center\">   -4.93738E-01            </td> <td align=\"center\">   1.16989E-02    </td> <td align=\"center\">   3.42036E-04          </td> </tr>\n",
    "<tr><td align=\"center\">   1.20000E+00    </td> <td align=\"center\">   -4.75563E-01            </td> <td align=\"center\">   8.85899E-02    </td> <td align=\"center\">   9.41222E-04          </td> </tr>\n",
    "<tr><td align=\"center\">   1.30000E+00    </td> <td align=\"center\">   -4.54341E-01            </td> <td align=\"center\">   1.45171E-01    </td> <td align=\"center\">   1.20487E-03          </td> </tr>\n",
    "</tbody>\n",
    "</table>\n",
    "\n",
    "We note that at $\\alpha=1$ we obtain the exact\n",
    "result, and the variance is zero, as it should. The reason is that \n",
    "we then have the exact wave function, and the action of the hamiltionan\n",
    "on the wave function"
   ]
  },
  {
   "cell_type": "markdown",
   "id": "e051f3f7",
   "metadata": {
    "editable": true
   },
   "source": [
    "$$\n",
    "H\\psi = \\mathrm{constant}\\times \\psi,\n",
    "$$"
   ]
  },
  {
   "cell_type": "markdown",
   "id": "f5fcfa92",
   "metadata": {
    "editable": true
   },
   "source": [
    "yields just a constant. The integral which defines various \n",
    "expectation values involving moments of the hamiltonian becomes then"
   ]
  },
  {
   "cell_type": "markdown",
   "id": "bc5324ea",
   "metadata": {
    "editable": true
   },
   "source": [
    "$$\n",
    "\\langle H^n \\rangle =\n",
    "   \\frac{\\int d\\boldsymbol{R}\\Psi^{\\ast}_T(\\boldsymbol{R})H^n(\\boldsymbol{R})\\Psi_T(\\boldsymbol{R})}\n",
    "        {\\int d\\boldsymbol{R}\\Psi^{\\ast}_T(\\boldsymbol{R})\\Psi_T(\\boldsymbol{R})}=\n",
    "\\mathrm{constant}\\times\\frac{\\int d\\boldsymbol{R}\\Psi^{\\ast}_T(\\boldsymbol{R})\\Psi_T(\\boldsymbol{R})}\n",
    "        {\\int d\\boldsymbol{R}\\Psi^{\\ast}_T(\\boldsymbol{R})\\Psi_T(\\boldsymbol{R})}=\\mathrm{constant}.\n",
    "$$"
   ]
  },
  {
   "cell_type": "markdown",
   "id": "b156758b",
   "metadata": {
    "editable": true
   },
   "source": [
    "**This gives an important information: the exact wave function leads to zero variance!**\n",
    "Variation is then performed by minimizing both the energy and the variance.\n",
    "\n",
    "For bosons in a harmonic oscillator-like  trap we will use is a spherical (S)\n",
    " or an elliptical (E) harmonic trap in one, two and finally three\n",
    " dimensions, with the latter given by"
   ]
  },
  {
   "cell_type": "markdown",
   "id": "b8db65fa",
   "metadata": {
    "editable": true
   },
   "source": [
    "<!-- Equation labels as ordinary links -->\n",
    "<div id=\"trap_eqn\"></div>\n",
    "\n",
    "$$\n",
    "\\begin{equation}\n",
    " V_{ext}(\\mathbf{r}) = \\Bigg\\{\n",
    " \\begin{array}{ll}\n",
    "\t \\frac{1}{2}m\\omega_{ho}^2r^2 & (S)\\\\\n",
    " \\strut\n",
    "\t \\frac{1}{2}m[\\omega_{ho}^2(x^2+y^2) + \\omega_z^2z^2] & (E)\n",
    "\\label{trap_eqn} \\tag{5}\n",
    " \\end{array}\n",
    " \\end{equation}\n",
    "$$"
   ]
  },
  {
   "cell_type": "markdown",
   "id": "8a24c171",
   "metadata": {
    "editable": true
   },
   "source": [
    "where (S) stands for symmetric and"
   ]
  },
  {
   "cell_type": "markdown",
   "id": "45f0a05d",
   "metadata": {
    "editable": true
   },
   "source": [
    "<!-- Equation labels as ordinary links -->\n",
    "<div id=\"_auto1\"></div>\n",
    "\n",
    "$$\n",
    "\\begin{equation}\n",
    "     \\hat{H} = \\sum_i^N \\left(\n",
    "\t \\frac{-\\hbar^2}{2m}\n",
    "\t { \\bigtriangledown }_{i}^2 +\n",
    "\t V_{ext}({\\bf{r}}_i)\\right)  +\n",
    "\t \\sum_{i<j}^{N} V_{int}({\\bf{r}}_i,{\\bf{r}}_j),\n",
    "\\label{_auto1} \\tag{6}\n",
    "\\end{equation}\n",
    "$$"
   ]
  },
  {
   "cell_type": "markdown",
   "id": "f22699e1",
   "metadata": {
    "editable": true
   },
   "source": [
    "as the two-body Hamiltonian of the system.  \n",
    "\n",
    " We will represent the inter-boson interaction by a pairwise, repulsive potential"
   ]
  },
  {
   "cell_type": "markdown",
   "id": "94b0ffcc",
   "metadata": {
    "editable": true
   },
   "source": [
    "<!-- Equation labels as ordinary links -->\n",
    "<div id=\"_auto2\"></div>\n",
    "\n",
    "$$\n",
    "\\begin{equation}\n",
    " V_{int}(|\\mathbf{r}_i-\\mathbf{r}_j|) =  \\Bigg\\{\n",
    " \\begin{array}{ll}\n",
    "\t \\infty & {|\\mathbf{r}_i-\\mathbf{r}_j|} \\leq {a}\\\\\n",
    "\t 0 & {|\\mathbf{r}_i-\\mathbf{r}_j|} > {a}\n",
    " \\end{array}\n",
    "\\label{_auto2} \\tag{7}\n",
    "\\end{equation}\n",
    "$$"
   ]
  },
  {
   "cell_type": "markdown",
   "id": "a1d4f817",
   "metadata": {
    "editable": true
   },
   "source": [
    "where $a$ is the so-called hard-core diameter of the bosons.\n",
    " Clearly, $V_{int}(|\\mathbf{r}_i-\\mathbf{r}_j|)$ is zero if the bosons are\n",
    " separated by a distance $|\\mathbf{r}_i-\\mathbf{r}_j|$ greater than $a$ but\n",
    " infinite if they attempt to come within a distance $|\\mathbf{r}_i-\\mathbf{r}_j| \\leq a$.\n",
    "\n",
    " Our trial wave function for the ground state with $N$ atoms is given by"
   ]
  },
  {
   "cell_type": "markdown",
   "id": "a4306544",
   "metadata": {
    "editable": true
   },
   "source": [
    "<!-- Equation labels as ordinary links -->\n",
    "<div id=\"eq:trialwf\"></div>\n",
    "\n",
    "$$\n",
    "\\begin{equation}\n",
    " \\Psi_T(\\mathbf{R})=\\Psi_T(\\mathbf{r}_1, \\mathbf{r}_2, \\dots \\mathbf{r}_N,\\alpha,\\beta)=\\prod_i g(\\alpha,\\beta,\\mathbf{r}_i)\\prod_{i<j}f(a,|\\mathbf{r}_i-\\mathbf{r}_j|),\n",
    "\\label{eq:trialwf} \\tag{8}\n",
    " \\end{equation}\n",
    "$$"
   ]
  },
  {
   "cell_type": "markdown",
   "id": "c9e00d5c",
   "metadata": {
    "editable": true
   },
   "source": [
    "where $\\alpha$ and $\\beta$ are variational parameters. The\n",
    " single-particle wave function is proportional to the harmonic\n",
    " oscillator function for the ground state"
   ]
  },
  {
   "cell_type": "markdown",
   "id": "95710336",
   "metadata": {
    "editable": true
   },
   "source": [
    "<!-- Equation labels as ordinary links -->\n",
    "<div id=\"_auto3\"></div>\n",
    "\n",
    "$$\n",
    "\\begin{equation}\n",
    "    g(\\alpha,\\beta,\\mathbf{r}_i)= \\exp{[-\\alpha(x_i^2+y_i^2+\\beta z_i^2)]}.\n",
    "\\label{_auto3} \\tag{9}\n",
    "\\end{equation}\n",
    "$$"
   ]
  },
  {
   "cell_type": "markdown",
   "id": "e467fcfb",
   "metadata": {
    "editable": true
   },
   "source": [
    "For spherical traps we have $\\beta = 1$ and for non-interacting\n",
    "bosons ($a=0$) we have $\\alpha = 1/2a_{ho}^2$.  The correlation wave\n",
    " function is"
   ]
  },
  {
   "cell_type": "markdown",
   "id": "8c4d8ee7",
   "metadata": {
    "editable": true
   },
   "source": [
    "<!-- Equation labels as ordinary links -->\n",
    "<div id=\"_auto4\"></div>\n",
    "\n",
    "$$\n",
    "\\begin{equation}\n",
    "    f(a,|\\mathbf{r}_i-\\mathbf{r}_j|)=\\Bigg\\{\n",
    " \\begin{array}{ll}\n",
    "\t 0 & {|\\mathbf{r}_i-\\mathbf{r}_j|} \\leq {a}\\\\\n",
    "\t (1-\\frac{a}{|\\mathbf{r}_i-\\mathbf{r}_j|}) & {|\\mathbf{r}_i-\\mathbf{r}_j|} > {a}.\n",
    " \\end{array}\n",
    "\\label{_auto4} \\tag{10}\n",
    "\\end{equation}\n",
    "$$"
   ]
  },
  {
   "cell_type": "markdown",
   "id": "cce77dee",
   "metadata": {
    "editable": true
   },
   "source": [
    "### A simple Python code that solves the two-boson or two-fermion case in two-dimensions"
   ]
  },
  {
   "cell_type": "code",
   "execution_count": 1,
   "id": "f5a4e0b7",
   "metadata": {
    "collapsed": false,
    "editable": true
   },
   "outputs": [
    {
     "ename": "KeyboardInterrupt",
     "evalue": "",
     "output_type": "error",
     "traceback": [
      "\u001b[0;31m---------------------------------------------------------------------------\u001b[0m",
      "\u001b[0;31mKeyboardInterrupt\u001b[0m                         Traceback (most recent call last)",
      "\u001b[0;32m<ipython-input-1-161f25e018f3>\u001b[0m in \u001b[0;36m<module>\u001b[0;34m\u001b[0m\n\u001b[1;32m     88\u001b[0m \u001b[0mAlphaValues\u001b[0m \u001b[0;34m=\u001b[0m \u001b[0mnp\u001b[0m\u001b[0;34m.\u001b[0m\u001b[0mzeros\u001b[0m\u001b[0;34m(\u001b[0m\u001b[0mMaxVariations\u001b[0m\u001b[0;34m)\u001b[0m\u001b[0;34m\u001b[0m\u001b[0;34m\u001b[0m\u001b[0m\n\u001b[1;32m     89\u001b[0m \u001b[0mBetaValues\u001b[0m \u001b[0;34m=\u001b[0m \u001b[0mnp\u001b[0m\u001b[0;34m.\u001b[0m\u001b[0mzeros\u001b[0m\u001b[0;34m(\u001b[0m\u001b[0mMaxVariations\u001b[0m\u001b[0;34m)\u001b[0m\u001b[0;34m\u001b[0m\u001b[0;34m\u001b[0m\u001b[0m\n\u001b[0;32m---> 90\u001b[0;31m \u001b[0;34m(\u001b[0m\u001b[0mEnergies\u001b[0m\u001b[0;34m,\u001b[0m \u001b[0mAlphaValues\u001b[0m\u001b[0;34m,\u001b[0m \u001b[0mBetaValues\u001b[0m\u001b[0;34m)\u001b[0m \u001b[0;34m=\u001b[0m \u001b[0mMonteCarloSampling\u001b[0m\u001b[0;34m(\u001b[0m\u001b[0;34m)\u001b[0m\u001b[0;34m\u001b[0m\u001b[0;34m\u001b[0m\u001b[0m\n\u001b[0m\u001b[1;32m     91\u001b[0m \u001b[0;34m\u001b[0m\u001b[0m\n\u001b[1;32m     92\u001b[0m \u001b[0;31m# Prepare for plots\u001b[0m\u001b[0;34m\u001b[0m\u001b[0;34m\u001b[0m\u001b[0m\n",
      "\u001b[0;32m<ipython-input-1-161f25e018f3>\u001b[0m in \u001b[0;36mMonteCarloSampling\u001b[0;34m()\u001b[0m\n\u001b[1;32m     68\u001b[0m                    \u001b[0mPositionOld\u001b[0m \u001b[0;34m=\u001b[0m \u001b[0mPositionNew\u001b[0m\u001b[0;34m.\u001b[0m\u001b[0mcopy\u001b[0m\u001b[0;34m(\u001b[0m\u001b[0;34m)\u001b[0m\u001b[0;34m\u001b[0m\u001b[0;34m\u001b[0m\u001b[0m\n\u001b[1;32m     69\u001b[0m                    \u001b[0mwfold\u001b[0m \u001b[0;34m=\u001b[0m \u001b[0mwfnew\u001b[0m\u001b[0;34m\u001b[0m\u001b[0;34m\u001b[0m\u001b[0m\n\u001b[0;32m---> 70\u001b[0;31m                    \u001b[0mDeltaE\u001b[0m \u001b[0;34m=\u001b[0m \u001b[0mLocalEnergy\u001b[0m\u001b[0;34m(\u001b[0m\u001b[0mPositionOld\u001b[0m\u001b[0;34m,\u001b[0m\u001b[0malpha\u001b[0m\u001b[0;34m,\u001b[0m\u001b[0mbeta\u001b[0m\u001b[0;34m)\u001b[0m\u001b[0;34m\u001b[0m\u001b[0;34m\u001b[0m\u001b[0m\n\u001b[0m\u001b[1;32m     71\u001b[0m                 \u001b[0menergy\u001b[0m \u001b[0;34m+=\u001b[0m \u001b[0mDeltaE\u001b[0m\u001b[0;34m\u001b[0m\u001b[0;34m\u001b[0m\u001b[0m\n\u001b[1;32m     72\u001b[0m                 \u001b[0menergy2\u001b[0m \u001b[0;34m+=\u001b[0m \u001b[0mDeltaE\u001b[0m\u001b[0;34m**\u001b[0m\u001b[0;36m2\u001b[0m\u001b[0;34m\u001b[0m\u001b[0;34m\u001b[0m\u001b[0m\n",
      "\u001b[0;32m<ipython-input-1-161f25e018f3>\u001b[0m in \u001b[0;36mLocalEnergy\u001b[0;34m(r, alpha, beta)\u001b[0m\n\u001b[1;32m     27\u001b[0m     \u001b[0mdeno\u001b[0m \u001b[0;34m=\u001b[0m \u001b[0;36m1.0\u001b[0m\u001b[0;34m/\u001b[0m\u001b[0;34m(\u001b[0m\u001b[0;36m1\u001b[0m\u001b[0;34m+\u001b[0m\u001b[0mbeta\u001b[0m\u001b[0;34m*\u001b[0m\u001b[0mr12\u001b[0m\u001b[0;34m)\u001b[0m\u001b[0;34m\u001b[0m\u001b[0;34m\u001b[0m\u001b[0m\n\u001b[1;32m     28\u001b[0m     \u001b[0mdeno2\u001b[0m \u001b[0;34m=\u001b[0m \u001b[0mdeno\u001b[0m\u001b[0;34m*\u001b[0m\u001b[0mdeno\u001b[0m\u001b[0;34m\u001b[0m\u001b[0;34m\u001b[0m\u001b[0m\n\u001b[0;32m---> 29\u001b[0;31m     \u001b[0;32mreturn\u001b[0m \u001b[0;36m0.5\u001b[0m\u001b[0;34m*\u001b[0m\u001b[0;34m(\u001b[0m\u001b[0;36m1\u001b[0m\u001b[0;34m-\u001b[0m\u001b[0malpha\u001b[0m\u001b[0;34m*\u001b[0m\u001b[0malpha\u001b[0m\u001b[0;34m)\u001b[0m\u001b[0;34m*\u001b[0m\u001b[0;34m(\u001b[0m\u001b[0mr1\u001b[0m \u001b[0;34m+\u001b[0m \u001b[0mr2\u001b[0m\u001b[0;34m)\u001b[0m \u001b[0;34m+\u001b[0m\u001b[0;36m2.0\u001b[0m\u001b[0;34m*\u001b[0m\u001b[0malpha\u001b[0m \u001b[0;34m+\u001b[0m \u001b[0;36m1.0\u001b[0m\u001b[0;34m/\u001b[0m\u001b[0mr12\u001b[0m\u001b[0;34m+\u001b[0m\u001b[0mdeno2\u001b[0m\u001b[0;34m*\u001b[0m\u001b[0;34m(\u001b[0m\u001b[0malpha\u001b[0m\u001b[0;34m*\u001b[0m\u001b[0mr12\u001b[0m\u001b[0;34m-\u001b[0m\u001b[0mdeno2\u001b[0m\u001b[0;34m+\u001b[0m\u001b[0;36m2\u001b[0m\u001b[0;34m*\u001b[0m\u001b[0mbeta\u001b[0m\u001b[0;34m*\u001b[0m\u001b[0mdeno\u001b[0m\u001b[0;34m-\u001b[0m\u001b[0;36m1.0\u001b[0m\u001b[0;34m/\u001b[0m\u001b[0mr12\u001b[0m\u001b[0;34m)\u001b[0m\u001b[0;34m\u001b[0m\u001b[0;34m\u001b[0m\u001b[0m\n\u001b[0m\u001b[1;32m     30\u001b[0m \u001b[0;34m\u001b[0m\u001b[0m\n\u001b[1;32m     31\u001b[0m \u001b[0;31m# The Monte Carlo sampling with the Metropolis algo\u001b[0m\u001b[0;34m\u001b[0m\u001b[0;34m\u001b[0m\u001b[0m\n",
      "\u001b[0;31mKeyboardInterrupt\u001b[0m: "
     ]
    }
   ],
   "source": [
    "%matplotlib inline\n",
    "\n",
    "# Importing various packages\n",
    "from math import exp, sqrt\n",
    "from random import random, seed\n",
    "import numpy as np\n",
    "import matplotlib.pyplot as plt\n",
    "from mpl_toolkits.mplot3d import Axes3D\n",
    "from matplotlib import cm\n",
    "from matplotlib.ticker import LinearLocator, FormatStrFormatter\n",
    "import sys\n",
    "\n",
    "#Trial wave function for quantum dots in two dims\n",
    "def WaveFunction(r,alpha,beta):\n",
    "    r1 = r[0,0]**2 + r[0,1]**2\n",
    "    r2 = r[1,0]**2 + r[1,1]**2\n",
    "    r12 = sqrt((r[0,0]-r[1,0])**2 + (r[0,1]-r[1,1])**2)\n",
    "    deno = r12/(1+beta*r12)\n",
    "    return exp(-0.5*alpha*(r1+r2)+deno)\n",
    "\n",
    "#Local energy  for quantum dots in two dims, using analytical local energy\n",
    "def LocalEnergy(r,alpha,beta):\n",
    "    \n",
    "    r1 = (r[0,0]**2 + r[0,1]**2)\n",
    "    r2 = (r[1,0]**2 + r[1,1]**2)\n",
    "    r12 = sqrt((r[0,0]-r[1,0])**2 + (r[0,1]-r[1,1])**2)\n",
    "    deno = 1.0/(1+beta*r12)\n",
    "    deno2 = deno*deno\n",
    "    return 0.5*(1-alpha*alpha)*(r1 + r2) +2.0*alpha + 1.0/r12+deno2*(alpha*r12-deno2+2*beta*deno-1.0/r12)\n",
    "\n",
    "# The Monte Carlo sampling with the Metropolis algo\n",
    "def MonteCarloSampling():\n",
    "\n",
    "    NumberMCcycles= 100000\n",
    "    StepSize = 1.0\n",
    "    # positions\n",
    "    PositionOld = np.zeros((NumberParticles,Dimension), np.double)\n",
    "    PositionNew = np.zeros((NumberParticles,Dimension), np.double)\n",
    "    # seed for rng generator\n",
    "    seed()\n",
    "    # start variational parameter\n",
    "    alpha = 0.9\n",
    "    for ia in range(MaxVariations):\n",
    "        alpha += .025\n",
    "        AlphaValues[ia] = alpha\n",
    "        beta = 0.2 \n",
    "        for jb in range(MaxVariations):\n",
    "            beta += .01\n",
    "            BetaValues[jb] = beta\n",
    "            energy = energy2 = 0.0\n",
    "            DeltaE = 0.0\n",
    "            #Initial position\n",
    "            for i in range(NumberParticles):\n",
    "                for j in range(Dimension):\n",
    "                    PositionOld[i,j] = StepSize * (random() - .5)\n",
    "            wfold = WaveFunction(PositionOld,alpha,beta)\n",
    "\n",
    "            #Loop over MC MCcycles\n",
    "            for MCcycle in range(NumberMCcycles):\n",
    "                #Trial position\n",
    "                for i in range(NumberParticles):\n",
    "                    for j in range(Dimension):\n",
    "                        PositionNew[i,j] = PositionOld[i,j] + StepSize * (random() - .5)\n",
    "                wfnew = WaveFunction(PositionNew,alpha,beta)\n",
    "\n",
    "                #Metropolis test to see whether we accept the move\n",
    "                if random() < wfnew**2 / wfold**2:\n",
    "                   PositionOld = PositionNew.copy()\n",
    "                   wfold = wfnew\n",
    "                   DeltaE = LocalEnergy(PositionOld,alpha,beta)\n",
    "                energy += DeltaE\n",
    "                energy2 += DeltaE**2\n",
    "\n",
    "            #We calculate mean, variance and error ...\n",
    "            energy /= NumberMCcycles\n",
    "            energy2 /= NumberMCcycles\n",
    "            variance = energy2 - energy**2\n",
    "            error = sqrt(variance/NumberMCcycles)\n",
    "            Energies[ia,jb] = energy    \n",
    "    return Energies, AlphaValues, BetaValues\n",
    "\n",
    "\n",
    "#Here starts the main program with variable declarations\n",
    "NumberParticles = 2\n",
    "Dimension = 2\n",
    "MaxVariations = 10\n",
    "Energies = np.zeros((MaxVariations,MaxVariations))\n",
    "AlphaValues = np.zeros(MaxVariations)\n",
    "BetaValues = np.zeros(MaxVariations)\n",
    "(Energies, AlphaValues, BetaValues) = MonteCarloSampling()\n",
    "\n",
    "# Prepare for plots\n",
    "fig = plt.figure()\n",
    "ax = fig.gca(projection='3d')\n",
    "# Plot the surface.\n",
    "X, Y = np.meshgrid(AlphaValues, BetaValues)\n",
    "surf = ax.plot_surface(X, Y, Energies,cmap=cm.coolwarm,linewidth=0, antialiased=False)\n",
    "# Customize the z axis.\n",
    "zmin = np.matrix(Energies).min()\n",
    "zmax = np.matrix(Energies).max()\n",
    "ax.set_zlim(zmin, zmax)\n",
    "ax.set_xlabel(r'$\\alpha$')\n",
    "ax.set_ylabel(r'$\\beta$')\n",
    "ax.set_zlabel(r'$\\langle E \\rangle$')\n",
    "ax.zaxis.set_major_locator(LinearLocator(10))\n",
    "ax.zaxis.set_major_formatter(FormatStrFormatter('%.02f'))\n",
    "# Add a color bar which maps values to colors.\n",
    "fig.colorbar(surf, shrink=0.5, aspect=5)\n",
    "plt.show()"
   ]
  },
  {
   "cell_type": "markdown",
   "id": "6720d5d5",
   "metadata": {
    "editable": true
   },
   "source": [
    "## Quantum Monte Carlo: the helium atom\n",
    "\n",
    "The helium atom consists of two electrons and a nucleus with\n",
    "charge $Z=2$. \n",
    "The contribution  \n",
    "to the potential energy due to the attraction from the nucleus is"
   ]
  },
  {
   "cell_type": "markdown",
   "id": "5f3003bc",
   "metadata": {
    "editable": true
   },
   "source": [
    "$$\n",
    "-\\frac{2ke^2}{r_1}-\\frac{2ke^2}{r_2},\n",
    "$$"
   ]
  },
  {
   "cell_type": "markdown",
   "id": "b1c96742",
   "metadata": {
    "editable": true
   },
   "source": [
    "and if we add the repulsion arising from the two \n",
    "interacting electrons, we obtain the potential energy"
   ]
  },
  {
   "cell_type": "markdown",
   "id": "427d6a50",
   "metadata": {
    "editable": true
   },
   "source": [
    "$$\n",
    "V(r_1, r_2)=-\\frac{2ke^2}{r_1}-\\frac{2ke^2}{r_2}+\n",
    "               \\frac{ke^2}{r_{12}},\n",
    "$$"
   ]
  },
  {
   "cell_type": "markdown",
   "id": "8dac930a",
   "metadata": {
    "editable": true
   },
   "source": [
    "with the electrons separated at a distance \n",
    "$r_{12}=|\\boldsymbol{r}_1-\\boldsymbol{r}_2|$.\n",
    "\n",
    "The hamiltonian becomes then"
   ]
  },
  {
   "cell_type": "markdown",
   "id": "c302d9af",
   "metadata": {
    "editable": true
   },
   "source": [
    "$$\n",
    "\\hat{H}=-\\frac{\\hbar^2\\nabla_1^2}{2m}-\\frac{\\hbar^2\\nabla_2^2}{2m}\n",
    "          -\\frac{2ke^2}{r_1}-\\frac{2ke^2}{r_2}+\n",
    "               \\frac{ke^2}{r_{12}},\n",
    "$$"
   ]
  },
  {
   "cell_type": "markdown",
   "id": "184ba0ac",
   "metadata": {
    "editable": true
   },
   "source": [
    "and  Schroedingers equation reads"
   ]
  },
  {
   "cell_type": "markdown",
   "id": "f8469e29",
   "metadata": {
    "editable": true
   },
   "source": [
    "$$\n",
    "\\hat{H}\\psi=E\\psi.\n",
    "$$"
   ]
  },
  {
   "cell_type": "markdown",
   "id": "461161f3",
   "metadata": {
    "editable": true
   },
   "source": [
    "All observables are evaluated with respect to the probability distribution"
   ]
  },
  {
   "cell_type": "markdown",
   "id": "e9a5d6ee",
   "metadata": {
    "editable": true
   },
   "source": [
    "$$\n",
    "P(\\boldsymbol{R})= \\frac{\\left|\\psi_T(\\boldsymbol{R})\\right|^2}{\\int \\left|\\psi_T(\\boldsymbol{R})\\right|^2d\\boldsymbol{R}}.\n",
    "$$"
   ]
  },
  {
   "cell_type": "markdown",
   "id": "1be0ba25",
   "metadata": {
    "editable": true
   },
   "source": [
    "generated by the trial wave function.   \n",
    "The trial wave function must approximate an exact \n",
    "eigenstate in order that accurate results are to be obtained. \n",
    "\n",
    "Choice of trial wave function for Helium:\n",
    "Assume $r_1 \\rightarrow 0$."
   ]
  },
  {
   "cell_type": "markdown",
   "id": "2b8ba4e9",
   "metadata": {
    "editable": true
   },
   "source": [
    "$$\n",
    "E_L(\\boldsymbol{R})=\\frac{1}{\\psi_T(\\boldsymbol{R})}H\\psi_T(\\boldsymbol{R})=\n",
    "     \\frac{1}{\\psi_T(\\boldsymbol{R})}\\left(-\\frac{1}{2}\\nabla^2_1\n",
    "     -\\frac{Z}{r_1}\\right)\\psi_T(\\boldsymbol{R}) + \\mathrm{finite \\hspace{0.1cm}terms}.\n",
    "$$"
   ]
  },
  {
   "cell_type": "markdown",
   "id": "739104f9",
   "metadata": {
    "editable": true
   },
   "source": [
    "$$\n",
    "E_L(R)=\n",
    "    \\frac{1}{\\mathbf{R}_T(r_1)}\\left(-\\frac{1}{2}\\frac{d^2}{dr_1^2}-\n",
    "     \\frac{1}{r_1}\\frac{d}{dr_1}\n",
    "     -\\frac{Z}{r_1}\\right)\\mathbf{R}_T(r_1) + \\mathrm{finite\\hspace{0.1cm} terms}\n",
    "$$"
   ]
  },
  {
   "cell_type": "markdown",
   "id": "ab8f74e6",
   "metadata": {
    "editable": true
   },
   "source": [
    "For small values of $r_1$, the terms which dominate are"
   ]
  },
  {
   "cell_type": "markdown",
   "id": "809d5635",
   "metadata": {
    "editable": true
   },
   "source": [
    "$$\n",
    "\\lim_{r_1 \\rightarrow 0}E_L(R)=\n",
    "    \\frac{1}{\\mathbf{R}_T(r_1)}\\left(-\n",
    "     \\frac{1}{r_1}\\frac{d}{dr_1}\n",
    "     -\\frac{Z}{r_1}\\right)\\mathbf{R}_T(r_1),\n",
    "$$"
   ]
  },
  {
   "cell_type": "markdown",
   "id": "fa6212d0",
   "metadata": {
    "editable": true
   },
   "source": [
    "since the second derivative does not diverge due to the finiteness of  $\\Psi$ at the origin.\n",
    "\n",
    "This results in"
   ]
  },
  {
   "cell_type": "markdown",
   "id": "f7cdbed8",
   "metadata": {
    "editable": true
   },
   "source": [
    "$$\n",
    "\\frac{1}{\\mathbf{R}_T(r_1)}\\frac{d \\mathbf{R}_T(r_1)}{dr_1}=-Z,\n",
    "$$"
   ]
  },
  {
   "cell_type": "markdown",
   "id": "d2775959",
   "metadata": {
    "editable": true
   },
   "source": [
    "and"
   ]
  },
  {
   "cell_type": "markdown",
   "id": "7ebcf754",
   "metadata": {
    "editable": true
   },
   "source": [
    "$$\n",
    "\\mathbf{R}_T(r_1)\\propto e^{-Zr_1}.\n",
    "$$"
   ]
  },
  {
   "cell_type": "markdown",
   "id": "1bed1c34",
   "metadata": {
    "editable": true
   },
   "source": [
    "A similar condition applies to electron 2 as well. \n",
    "For orbital momenta $l > 0$ we have"
   ]
  },
  {
   "cell_type": "markdown",
   "id": "60dce9ba",
   "metadata": {
    "editable": true
   },
   "source": [
    "$$\n",
    "\\frac{1}{\\mathbf{R}_T(r)}\\frac{d \\mathbf{R}_T(r)}{dr}=-\\frac{Z}{l+1}.\n",
    "$$"
   ]
  },
  {
   "cell_type": "markdown",
   "id": "63370621",
   "metadata": {
    "editable": true
   },
   "source": [
    "Similarly, studying the case $r_{12}\\rightarrow 0$ we can write \n",
    "a possible trial wave function as"
   ]
  },
  {
   "cell_type": "markdown",
   "id": "49d8182d",
   "metadata": {
    "editable": true
   },
   "source": [
    "<!-- Equation labels as ordinary links -->\n",
    "<div id=\"eq:wavehelium2\"></div>\n",
    "\n",
    "$$\n",
    "\\psi_T(\\boldsymbol{R})=e^{-\\alpha(r_1+r_2)}e^{\\beta r_{12}}.\n",
    "\\label{eq:wavehelium2} \\tag{11}\n",
    "$$"
   ]
  },
  {
   "cell_type": "markdown",
   "id": "6a9ac691",
   "metadata": {
    "editable": true
   },
   "source": [
    "The last equation can be generalized to"
   ]
  },
  {
   "cell_type": "markdown",
   "id": "bc1618d2",
   "metadata": {
    "editable": true
   },
   "source": [
    "$$\n",
    "\\psi_T(\\boldsymbol{R})=\\phi(\\boldsymbol{r}_1)\\phi(\\boldsymbol{r}_2)\\dots\\phi(\\boldsymbol{r}_N)\n",
    "                   \\prod_{i < j}f(r_{ij}),\n",
    "$$"
   ]
  },
  {
   "cell_type": "markdown",
   "id": "5878cbd5",
   "metadata": {
    "editable": true
   },
   "source": [
    "for a system with $N$ electrons or particles. \n",
    "\n",
    "During the development of our code we need to make several checks. It is also very instructive to compute a closed form expression for the local energy. Since our wave function is rather simple  it is straightforward\n",
    "to find an analytic expressions.  Consider first the case of the simple helium function"
   ]
  },
  {
   "cell_type": "markdown",
   "id": "f4266d30",
   "metadata": {
    "editable": true
   },
   "source": [
    "$$\n",
    "\\Psi_T(\\boldsymbol{r}_1,\\boldsymbol{r}_2) = e^{-\\alpha(r_1+r_2)}\n",
    "$$"
   ]
  },
  {
   "cell_type": "markdown",
   "id": "6da2b958",
   "metadata": {
    "editable": true
   },
   "source": [
    "The local energy is for this case"
   ]
  },
  {
   "cell_type": "markdown",
   "id": "4b58a878",
   "metadata": {
    "editable": true
   },
   "source": [
    "$$\n",
    "E_{L1} = \\left(\\alpha-Z\\right)\\left(\\frac{1}{r_1}+\\frac{1}{r_2}\\right)+\\frac{1}{r_{12}}-\\alpha^2\n",
    "$$"
   ]
  },
  {
   "cell_type": "markdown",
   "id": "388e6554",
   "metadata": {
    "editable": true
   },
   "source": [
    "which gives an expectation value for the local energy given by"
   ]
  },
  {
   "cell_type": "markdown",
   "id": "fc666417",
   "metadata": {
    "editable": true
   },
   "source": [
    "$$\n",
    "\\langle E_{L1} \\rangle = \\alpha^2-2\\alpha\\left(Z-\\frac{5}{16}\\right)\n",
    "$$"
   ]
  },
  {
   "cell_type": "markdown",
   "id": "a9931dab",
   "metadata": {
    "editable": true
   },
   "source": [
    "With closed form formulae we  can speed up the computation of the correlation. In our case\n",
    "we write it as"
   ]
  },
  {
   "cell_type": "markdown",
   "id": "2d4dc80b",
   "metadata": {
    "editable": true
   },
   "source": [
    "$$\n",
    "\\Psi_C= \\exp{\\left\\{\\sum_{i < j}\\frac{ar_{ij}}{1+\\beta r_{ij}}\\right\\}},\n",
    "$$"
   ]
  },
  {
   "cell_type": "markdown",
   "id": "896f8a6a",
   "metadata": {
    "editable": true
   },
   "source": [
    "which means that the gradient needed for the so-called quantum force and local energy \n",
    "can be calculated analytically.\n",
    "This will speed up your code since the computation of the correlation part and the Slater determinant are the most \n",
    "time consuming parts in your code.  \n",
    "\n",
    "We will refer to this correlation function as $\\Psi_C$ or the *linear Pade-Jastrow*.\n",
    "\n",
    "We can test this by computing the local energy for our helium wave function"
   ]
  },
  {
   "cell_type": "markdown",
   "id": "ac10a77e",
   "metadata": {
    "editable": true
   },
   "source": [
    "$$\n",
    "\\psi_{T}(\\boldsymbol{r}_1,\\boldsymbol{r}_2) = \n",
    "   \\exp{\\left(-\\alpha(r_1+r_2)\\right)}\n",
    "   \\exp{\\left(\\frac{r_{12}}{2(1+\\beta r_{12})}\\right)},\n",
    "$$"
   ]
  },
  {
   "cell_type": "markdown",
   "id": "26079ba3",
   "metadata": {
    "editable": true
   },
   "source": [
    "with $\\alpha$ and $\\beta$ as variational parameters.\n",
    "\n",
    "The local energy is for this case"
   ]
  },
  {
   "cell_type": "markdown",
   "id": "83918d3a",
   "metadata": {
    "editable": true
   },
   "source": [
    "$$\n",
    "E_{L2} = E_{L1}+\\frac{1}{2(1+\\beta r_{12})^2}\\left\\{\\frac{\\alpha(r_1+r_2)}{r_{12}}(1-\\frac{\\boldsymbol{r}_1\\boldsymbol{r}_2}{r_1r_2})-\\frac{1}{2(1+\\beta r_{12})^2}-\\frac{2}{r_{12}}+\\frac{2\\beta}{1+\\beta r_{12}}\\right\\}\n",
    "$$"
   ]
  },
  {
   "cell_type": "markdown",
   "id": "c6b41002",
   "metadata": {
    "editable": true
   },
   "source": [
    "It is very useful to test your code against these expressions. It means also that you don't need to\n",
    "compute a derivative numerically as discussed in the code example below. \n",
    "\n",
    "For the computation of various derivatives with different types of wave functions, you will find it useful to use python with symbolic python, that is sympy, see [online manual](http://docs.sympy.org/latest/index.html).  Using sympy allows you autogenerate both Latex code as well c++, python or Fortran codes. Here you will find some simple examples. We choose \n",
    "the $2s$ hydrogen-orbital  (not normalized) as an example"
   ]
  },
  {
   "cell_type": "markdown",
   "id": "ff5fd89c",
   "metadata": {
    "editable": true
   },
   "source": [
    "$$\n",
    "\\phi_{2s}(\\boldsymbol{r}) = (Zr - 2)\\exp{-(\\frac{1}{2}Zr)},\n",
    "$$"
   ]
  },
  {
   "cell_type": "markdown",
   "id": "cd52ba00",
   "metadata": {
    "editable": true
   },
   "source": [
    "with $ r^2 = x^2 + y^2 + z^2$."
   ]
  },
  {
   "cell_type": "code",
   "execution_count": 2,
   "id": "ee67b83d",
   "metadata": {
    "collapsed": false,
    "editable": true
   },
   "outputs": [],
   "source": [
    "from sympy import symbols, diff, exp, sqrt\n",
    "x, y, z, Z = symbols('x y z Z')\n",
    "r = sqrt(x*x + y*y + z*z)\n",
    "r\n",
    "phi = (Z*r - 2)*exp(-Z*r/2)\n",
    "phi\n",
    "diff(phi, x)"
   ]
  },
  {
   "cell_type": "markdown",
   "id": "53b13d7c",
   "metadata": {
    "editable": true
   },
   "source": [
    "This doesn't look very nice, but sympy provides several functions that allow for improving and simplifying the output.\n",
    "\n",
    "We can improve our output by factorizing and substituting expressions"
   ]
  },
  {
   "cell_type": "code",
   "execution_count": 3,
   "id": "643ea1a3",
   "metadata": {
    "collapsed": false,
    "editable": true
   },
   "outputs": [],
   "source": [
    "from sympy import symbols, diff, exp, sqrt, factor, Symbol, printing\n",
    "x, y, z, Z = symbols('x y z Z')\n",
    "r = sqrt(x*x + y*y + z*z)\n",
    "phi = (Z*r - 2)*exp(-Z*r/2)\n",
    "R = Symbol('r') #Creates a symbolic equivalent of r\n",
    "#print latex and c++ code\n",
    "print printing.latex(diff(phi, x).factor().subs(r, R))\n",
    "print printing.ccode(diff(phi, x).factor().subs(r, R))"
   ]
  },
  {
   "cell_type": "markdown",
   "id": "d9fc2a9e",
   "metadata": {
    "editable": true
   },
   "source": [
    "We can in turn look at second derivatives"
   ]
  },
  {
   "cell_type": "code",
   "execution_count": 4,
   "id": "83711b88",
   "metadata": {
    "collapsed": false,
    "editable": true
   },
   "outputs": [],
   "source": [
    "from sympy import symbols, diff, exp, sqrt, factor, Symbol, printing\n",
    "x, y, z, Z = symbols('x y z Z')\n",
    "r = sqrt(x*x + y*y + z*z)\n",
    "phi = (Z*r - 2)*exp(-Z*r/2)\n",
    "R = Symbol('r') #Creates a symbolic equivalent of r\n",
    "(diff(diff(phi, x), x) + diff(diff(phi, y), y) + diff(diff(phi, z), z)).factor().subs(r, R)\n",
    "# Collect the Z values\n",
    "(diff(diff(phi, x), x) + diff(diff(phi, y), y) +diff(diff(phi, z), z)).factor().collect(Z).subs(r, R)\n",
    "# Factorize also the r**2 terms\n",
    "(diff(diff(phi, x), x) + diff(diff(phi, y), y) + diff(diff(phi, z), z)).factor().collect(Z).subs(r, R).subs(r**2, R**2).factor()\n",
    "print printing.ccode((diff(diff(phi, x), x) + diff(diff(phi, y), y) + diff(diff(phi, z), z)).factor().collect(Z).subs(r, R).subs(r**2, R**2).factor())"
   ]
  },
  {
   "cell_type": "markdown",
   "id": "0217a12b",
   "metadata": {
    "editable": true
   },
   "source": [
    "With some practice this allows one to be able to check one's own calculation and translate automatically into code lines."
   ]
  },
  {
   "cell_type": "markdown",
   "id": "94d12e95",
   "metadata": {
    "editable": true
   },
   "source": [
    "## The Metropolis algorithm\n",
    "\n",
    "The Metropolis algorithm , see [the original article](http://scitation.aip.org/content/aip/journal/jcp/21/6/10.1063/1.1699114) was invented by Metropolis et. al\n",
    "and is often simply called the Metropolis algorithm.\n",
    "It is a method to sample a normalized probability\n",
    "distribution by a stochastic process. We define $\\mathbf{P}_i^{(n)}$ to\n",
    "be the probability for finding the system in the state $i$ at step $n$.\n",
    "The algorithm is then\n",
    "\n",
    "* Sample a possible new state $j$ with some probability $T_{i\\rightarrow j}$.\n",
    "\n",
    "* Accept the new state $j$ with probability $A_{i \\rightarrow j}$ and use it as the next sample. With probability $1-A_{i\\rightarrow j}$ the move is rejected and the original state $i$ is used again as a sample.\n",
    "\n",
    "We wish to derive the required properties of $T$ and $A$ such that\n",
    "$\\mathbf{P}_i^{(n\\rightarrow \\infty)} \\rightarrow p_i$ so that starting\n",
    "from any distribution, the method converges to the correct distribution.\n",
    "Note that the description here is for a discrete probability distribution.\n",
    "Replacing probabilities $p_i$ with expressions like $p(x_i)dx_i$ will\n",
    "take all of these over to the corresponding continuum expressions.\n",
    "\n",
    "The dynamical equation for $\\mathbf{P}_i^{(n)}$ can be written directly from\n",
    "the description above. The probability of being in the state $i$ at step $n$\n",
    "is given by the probability of being in any state $j$ at the previous step,\n",
    "and making an accepted transition to $i$ added to the probability of\n",
    "being in the state $i$, making a transition to any state $j$ and\n",
    "rejecting the move:"
   ]
  },
  {
   "cell_type": "markdown",
   "id": "fa13c92d",
   "metadata": {
    "editable": true
   },
   "source": [
    "$$\n",
    "\\mathbf{P}^{(n)}_i = \\sum_j \\left [\n",
    "\\mathbf{P}^{(n-1)}_jT_{j\\rightarrow i} A_{j\\rightarrow i} \n",
    "+\\mathbf{P}^{(n-1)}_iT_{i\\rightarrow j}\\left ( 1- A_{i\\rightarrow j} \\right)\n",
    "\\right ] \\,.\n",
    "$$"
   ]
  },
  {
   "cell_type": "markdown",
   "id": "d8559527",
   "metadata": {
    "editable": true
   },
   "source": [
    "Since the probability of making some transition must be 1,\n",
    "$\\sum_j T_{i\\rightarrow j} = 1$, and the above equation becomes"
   ]
  },
  {
   "cell_type": "markdown",
   "id": "129f6e4f",
   "metadata": {
    "editable": true
   },
   "source": [
    "$$\n",
    "\\mathbf{P}^{(n)}_i = \\mathbf{P}^{(n-1)}_i +\n",
    " \\sum_j \\left [\n",
    "\\mathbf{P}^{(n-1)}_jT_{j\\rightarrow i} A_{j\\rightarrow i} \n",
    "-\\mathbf{P}^{(n-1)}_iT_{i\\rightarrow j}A_{i\\rightarrow j}\n",
    "\\right ] \\,.\n",
    "$$"
   ]
  },
  {
   "cell_type": "markdown",
   "id": "88115bb8",
   "metadata": {
    "editable": true
   },
   "source": [
    "For large $n$ we require that $\\mathbf{P}^{(n\\rightarrow \\infty)}_i = p_i$,\n",
    "the desired probability distribution. Taking this limit, gives the\n",
    "balance requirement"
   ]
  },
  {
   "cell_type": "markdown",
   "id": "464df026",
   "metadata": {
    "editable": true
   },
   "source": [
    "$$\n",
    "\\sum_j \\left [\n",
    "p_jT_{j\\rightarrow i} A_{j\\rightarrow i}\n",
    "-p_iT_{i\\rightarrow j}A_{i\\rightarrow j}\n",
    "\\right ] = 0 \\,.\n",
    "$$"
   ]
  },
  {
   "cell_type": "markdown",
   "id": "41348bbf",
   "metadata": {
    "editable": true
   },
   "source": [
    "The balance requirement is very weak. Typically the much stronger detailed\n",
    "balance requirement is enforced, that is rather than the sum being\n",
    "set to zero, we set each term separately to zero and use this\n",
    "to determine the acceptance probabilities. Rearranging, the result is"
   ]
  },
  {
   "cell_type": "markdown",
   "id": "344ffa1e",
   "metadata": {
    "editable": true
   },
   "source": [
    "$$\n",
    "\\frac{ A_{j\\rightarrow i}}{A_{i\\rightarrow j}}\n",
    "= \\frac{p_iT_{i\\rightarrow j}}{ p_jT_{j\\rightarrow i}} \\,.\n",
    "$$"
   ]
  },
  {
   "cell_type": "markdown",
   "id": "16186604",
   "metadata": {
    "editable": true
   },
   "source": [
    "The Metropolis choice is to maximize the $A$ values, that is"
   ]
  },
  {
   "cell_type": "markdown",
   "id": "ae29c726",
   "metadata": {
    "editable": true
   },
   "source": [
    "$$\n",
    "A_{j \\rightarrow i} = \\min \\left ( 1,\n",
    "\\frac{p_iT_{i\\rightarrow j}}{ p_jT_{j\\rightarrow i}}\\right ).\n",
    "$$"
   ]
  },
  {
   "cell_type": "markdown",
   "id": "991af113",
   "metadata": {
    "editable": true
   },
   "source": [
    "Other choices are possible, but they all correspond to multilplying\n",
    "$A_{i\\rightarrow j}$ and $A_{j\\rightarrow i}$ by the same constant\n",
    "smaller than unity.\\footnote{The penalty function method uses just such\n",
    "a factor to compensate for $p_i$ that are evaluated stochastically\n",
    "and are therefore noisy.}\n",
    "\n",
    "Having chosen the acceptance probabilities, we have guaranteed that\n",
    "if the  $\\mathbf{P}_i^{(n)}$ has equilibrated, that is if it is equal to $p_i$,\n",
    "it will remain equilibrated. Next we need to find the circumstances for\n",
    "convergence to equilibrium.\n",
    "\n",
    "The dynamical equation can be written as"
   ]
  },
  {
   "cell_type": "markdown",
   "id": "99fa3ce7",
   "metadata": {
    "editable": true
   },
   "source": [
    "$$\n",
    "\\mathbf{P}^{(n)}_i = \\sum_j M_{ij}\\mathbf{P}^{(n-1)}_j\n",
    "$$"
   ]
  },
  {
   "cell_type": "markdown",
   "id": "b59d6048",
   "metadata": {
    "editable": true
   },
   "source": [
    "with the matrix $M$ given by"
   ]
  },
  {
   "cell_type": "markdown",
   "id": "1eb38f5c",
   "metadata": {
    "editable": true
   },
   "source": [
    "$$\n",
    "M_{ij} = \\delta_{ij}\\left [ 1 -\\sum_k T_{i\\rightarrow k} A_{i \\rightarrow k}\n",
    "\\right ] + T_{j\\rightarrow i} A_{j\\rightarrow i} \\,.\n",
    "$$"
   ]
  },
  {
   "cell_type": "markdown",
   "id": "358a4f78",
   "metadata": {
    "editable": true
   },
   "source": [
    "Summing over $i$ shows that $\\sum_i M_{ij} = 1$, and since\n",
    "$\\sum_k T_{i\\rightarrow k} = 1$, and $A_{i \\rightarrow k} \\leq 1$, the\n",
    "elements of the matrix satisfy $M_{ij} \\geq 0$. The matrix $M$ is therefore\n",
    "a stochastic matrix.\n",
    "\n",
    "The Metropolis method is simply the power method for computing the\n",
    "right eigenvector of $M$ with the largest magnitude eigenvalue.\n",
    "By construction, the correct probability distribution is a right eigenvector\n",
    "with eigenvalue 1. Therefore, for the Metropolis method to converge\n",
    "to this result, we must show that $M$ has only one eigenvalue with this\n",
    "magnitude, and all other eigenvalues are smaller."
   ]
  },
  {
   "cell_type": "markdown",
   "id": "c1922c91",
   "metadata": {
    "editable": true
   },
   "source": [
    "## Importance sampling\n",
    "\n",
    "We need to replace the brute force\n",
    "Metropolis algorithm with a walk in coordinate space biased by the trial wave function.\n",
    "This approach is based on the Fokker-Planck equation and the Langevin equation for generating a trajectory in coordinate space.  The link between the Fokker-Planck equation and the Langevin equations are explained, only partly, in the slides below.\n",
    "An excellent reference on topics like Brownian motion, Markov chains, the Fokker-Planck equation and the Langevin equation is the text by  [Van Kampen](http://www.elsevier.com/books/stochastic-processes-in-physics-and-chemistry/van-kampen/978-0-444-52965-7)\n",
    "Here we will focus first on the implementation part first.\n",
    "\n",
    "For a diffusion process characterized by a time-dependent probability density $P(x,t)$ in one dimension the Fokker-Planck\n",
    "equation reads (for one particle /walker)"
   ]
  },
  {
   "cell_type": "markdown",
   "id": "da6ef256",
   "metadata": {
    "editable": true
   },
   "source": [
    "$$\n",
    "\\frac{\\partial P}{\\partial t} = D\\frac{\\partial }{\\partial x}\\left(\\frac{\\partial }{\\partial x} -F\\right)P(x,t),\n",
    "$$"
   ]
  },
  {
   "cell_type": "markdown",
   "id": "e7e25788",
   "metadata": {
    "editable": true
   },
   "source": [
    "where $F$ is a drift term and $D$ is the diffusion coefficient. \n",
    "\n",
    "The new positions in coordinate space are given as the solutions of the Langevin equation using Euler's method, namely,\n",
    "we go from the Langevin equation"
   ]
  },
  {
   "cell_type": "markdown",
   "id": "acfc696d",
   "metadata": {
    "editable": true
   },
   "source": [
    "$$\n",
    "\\frac{\\partial x(t)}{\\partial t} = DF(x(t)) +\\eta,\n",
    "$$"
   ]
  },
  {
   "cell_type": "markdown",
   "id": "a61387f5",
   "metadata": {
    "editable": true
   },
   "source": [
    "with $\\eta$ a random variable,\n",
    "yielding a new position"
   ]
  },
  {
   "cell_type": "markdown",
   "id": "67e9cbde",
   "metadata": {
    "editable": true
   },
   "source": [
    "$$\n",
    "y = x+DF(x)\\Delta t +\\xi\\sqrt{\\Delta t},\n",
    "$$"
   ]
  },
  {
   "cell_type": "markdown",
   "id": "13dc100b",
   "metadata": {
    "editable": true
   },
   "source": [
    "where $\\xi$ is gaussian random variable and $\\Delta t$ is a chosen time step. \n",
    "The quantity $D$ is, in atomic units, equal to $1/2$ and comes from the factor $1/2$ in the kinetic energy operator. Note that $\\Delta t$ is to be viewed as a parameter. Values of $\\Delta t \\in [0.001,0.01]$ yield in general rather stable values of the ground state energy.  \n",
    "\n",
    "The process of isotropic diffusion characterized by a time-dependent probability density $P(\\mathbf{x},t)$ obeys (as an approximation) the so-called Fokker-Planck equation"
   ]
  },
  {
   "cell_type": "markdown",
   "id": "4548f264",
   "metadata": {
    "editable": true
   },
   "source": [
    "$$\n",
    "\\frac{\\partial P}{\\partial t} = \\sum_i D\\frac{\\partial }{\\partial \\mathbf{x_i}}\\left(\\frac{\\partial }{\\partial \\mathbf{x_i}} -\\mathbf{F_i}\\right)P(\\mathbf{x},t),\n",
    "$$"
   ]
  },
  {
   "cell_type": "markdown",
   "id": "87aee988",
   "metadata": {
    "editable": true
   },
   "source": [
    "where $\\mathbf{F_i}$ is the $i^{th}$ component of the drift term (drift velocity) caused by an external potential, and $D$ is the diffusion coefficient. The convergence to a stationary probability density can be obtained by setting the left hand side to zero. The resulting equation will be satisfied if and only if all the terms of the sum are equal zero,"
   ]
  },
  {
   "cell_type": "markdown",
   "id": "dabf7a10",
   "metadata": {
    "editable": true
   },
   "source": [
    "$$\n",
    "\\frac{\\partial^2 P}{\\partial {\\mathbf{x_i}^2}} = P\\frac{\\partial}{\\partial {\\mathbf{x_i}}}\\mathbf{F_i} + \\mathbf{F_i}\\frac{\\partial}{\\partial {\\mathbf{x_i}}}P.\n",
    "$$"
   ]
  },
  {
   "cell_type": "markdown",
   "id": "2d10cea8",
   "metadata": {
    "editable": true
   },
   "source": [
    "The drift vector should be of the form $\\mathbf{F} = g(\\mathbf{x}) \\frac{\\partial P}{\\partial \\mathbf{x}}$. Then,"
   ]
  },
  {
   "cell_type": "markdown",
   "id": "231f6822",
   "metadata": {
    "editable": true
   },
   "source": [
    "$$\n",
    "\\frac{\\partial^2 P}{\\partial {\\mathbf{x_i}^2}} = P\\frac{\\partial g}{\\partial P}\\left( \\frac{\\partial P}{\\partial {\\mathbf{x}_i}}  \\right)^2 + P g \\frac{\\partial ^2 P}{\\partial {\\mathbf{x}_i^2}}  + g \\left( \\frac{\\partial P}{\\partial {\\mathbf{x}_i}}  \\right)^2.\n",
    "$$"
   ]
  },
  {
   "cell_type": "markdown",
   "id": "fa01bce0",
   "metadata": {
    "editable": true
   },
   "source": [
    "The condition of stationary density means that the left hand side equals zero. In other words, the terms containing first and second derivatives have to cancel each other. It is possible only if $g = \\frac{1}{P}$, which yields"
   ]
  },
  {
   "cell_type": "markdown",
   "id": "c74da95a",
   "metadata": {
    "editable": true
   },
   "source": [
    "$$\n",
    "\\mathbf{F} = 2\\frac{1}{\\Psi_T}\\nabla\\Psi_T,\n",
    "$$"
   ]
  },
  {
   "cell_type": "markdown",
   "id": "6a9af911",
   "metadata": {
    "editable": true
   },
   "source": [
    "which is known as the so-called *quantum force*. This term is responsible for pushing the walker towards regions of configuration space where the trial wave function is large, increasing the efficiency of the simulation in contrast to the Metropolis algorithm where the walker has the same probability of moving in every direction.\n",
    "\n",
    "The Fokker-Planck equation yields a (the solution to the equation) transition probability given by the Green's function"
   ]
  },
  {
   "cell_type": "markdown",
   "id": "c3dbaf1e",
   "metadata": {
    "editable": true
   },
   "source": [
    "$$\n",
    "G(y,x,\\Delta t) = \\frac{1}{(4\\pi D\\Delta t)^{3N/2}} \\exp{\\left(-(y-x-D\\Delta t F(x))^2/4D\\Delta t\\right)}\n",
    "$$"
   ]
  },
  {
   "cell_type": "markdown",
   "id": "4d1d0902",
   "metadata": {
    "editable": true
   },
   "source": [
    "which in turn means that our brute force Metropolis algorithm"
   ]
  },
  {
   "cell_type": "markdown",
   "id": "0b96926c",
   "metadata": {
    "editable": true
   },
   "source": [
    "$$\n",
    "A(y,x) = \\mathrm{min}(1,q(y,x))),\n",
    "$$"
   ]
  },
  {
   "cell_type": "markdown",
   "id": "1917441b",
   "metadata": {
    "editable": true
   },
   "source": [
    "with $q(y,x) = |\\Psi_T(y)|^2/|\\Psi_T(x)|^2$ is now replaced by the [Metropolis-Hastings algorithm](http://scitation.aip.org/content/aip/journal/jcp/21/6/10.1063/1.1699114) as well as [Hasting's article](http://biomet.oxfordjournals.org/content/57/1/97.abstract),"
   ]
  },
  {
   "cell_type": "markdown",
   "id": "29fa5eeb",
   "metadata": {
    "editable": true
   },
   "source": [
    "$$\n",
    "q(y,x) = \\frac{G(x,y,\\Delta t)|\\Psi_T(y)|^2}{G(y,x,\\Delta t)|\\Psi_T(x)|^2}\n",
    "$$"
   ]
  },
  {
   "cell_type": "markdown",
   "id": "2e1e14af",
   "metadata": {
    "editable": true
   },
   "source": [
    "## Importance sampling, program elements\n",
    "\n",
    "The general derivative formula of the Jastrow factor is (the subscript $C$ stands for Correlation)"
   ]
  },
  {
   "cell_type": "markdown",
   "id": "ee744d6e",
   "metadata": {
    "editable": true
   },
   "source": [
    "$$\n",
    "\\frac{1}{\\Psi_C}\\frac{\\partial \\Psi_C}{\\partial x_k} =\n",
    "\\sum_{i=1}^{k-1}\\frac{\\partial g_{ik}}{\\partial x_k}\n",
    "+\n",
    "\\sum_{i=k+1}^{N}\\frac{\\partial g_{ki}}{\\partial x_k}\n",
    "$$"
   ]
  },
  {
   "cell_type": "markdown",
   "id": "6132a390",
   "metadata": {
    "editable": true
   },
   "source": [
    "However, \n",
    "with our written in way which can be reused later as"
   ]
  },
  {
   "cell_type": "markdown",
   "id": "b50b13f3",
   "metadata": {
    "editable": true
   },
   "source": [
    "$$\n",
    "\\Psi_C=\\prod_{i< j}g(r_{ij})= \\exp{\\left\\{\\sum_{i<j}f(r_{ij})\\right\\}},\n",
    "$$"
   ]
  },
  {
   "cell_type": "markdown",
   "id": "3925b45b",
   "metadata": {
    "editable": true
   },
   "source": [
    "the gradient needed for the quantum force and local energy is easy to compute.  \n",
    "The function $f(r_{ij})$ will depends on the system under study. In the equations below we will keep this general form.\n",
    "\n",
    "In the Metropolis/Hasting algorithm, the *acceptance ratio* determines the probability for a particle  to be accepted at a new position. The ratio of the trial wave functions evaluated at the new and current positions is given by ($OB$ for the onebody  part)"
   ]
  },
  {
   "cell_type": "markdown",
   "id": "9d9a10c4",
   "metadata": {
    "editable": true
   },
   "source": [
    "$$\n",
    "R \\equiv \\frac{\\Psi_{T}^{new}}{\\Psi_{T}^{old}} = \n",
    "\\frac{\\Psi_{OB}^{new}}{\\Psi_{OB}^{old}}\\frac{\\Psi_{C}^{new}}{\\Psi_{C}^{old}}\n",
    "$$"
   ]
  },
  {
   "cell_type": "markdown",
   "id": "03e113c0",
   "metadata": {
    "editable": true
   },
   "source": [
    "Here $\\Psi_{OB}$ is our onebody part (Slater determinant or product of boson single-particle states)  while $\\Psi_{C}$ is our correlation function, or Jastrow factor. \n",
    "We need to optimize the $\\nabla \\Psi_T / \\Psi_T$ ratio and the second derivative as well, that is\n",
    "the $\\mathbf{\\nabla}^2 \\Psi_T/\\Psi_T$ ratio. The first is needed when we compute the so-called quantum force in importance sampling.\n",
    "The second is needed when we compute the kinetic energy term of the local energy."
   ]
  },
  {
   "cell_type": "markdown",
   "id": "785e6d33",
   "metadata": {
    "editable": true
   },
   "source": [
    "$$\n",
    "\\frac{\\mathbf{\\mathbf{\\nabla}}  \\Psi}{\\Psi}  = \\frac{\\mathbf{\\nabla}  (\\Psi_{OB} \\, \\Psi_{C})}{\\Psi_{OB} \\, \\Psi_{C}}  =  \\frac{ \\Psi_C \\mathbf{\\nabla}  \\Psi_{OB} + \\Psi_{OB} \\mathbf{\\nabla}  \\Psi_{C}}{\\Psi_{OB} \\Psi_{C}} = \\frac{\\mathbf{\\nabla}  \\Psi_{OB}}{\\Psi_{OB}} + \\frac{\\mathbf{\\nabla}   \\Psi_C}{ \\Psi_C}\n",
    "$$"
   ]
  },
  {
   "cell_type": "markdown",
   "id": "114b563c",
   "metadata": {
    "editable": true
   },
   "source": [
    "The expectation value of the kinetic energy expressed in atomic units for electron $i$ is"
   ]
  },
  {
   "cell_type": "markdown",
   "id": "46b21e7e",
   "metadata": {
    "editable": true
   },
   "source": [
    "$$\n",
    "\\langle \\hat{K}_i \\rangle = -\\frac{1}{2}\\frac{\\langle\\Psi|\\mathbf{\\nabla}_{i}^2|\\Psi \\rangle}{\\langle\\Psi|\\Psi \\rangle},\n",
    "$$"
   ]
  },
  {
   "cell_type": "markdown",
   "id": "15b5d46f",
   "metadata": {
    "editable": true
   },
   "source": [
    "$$\n",
    "\\hat{K}_i = -\\frac{1}{2}\\frac{\\mathbf{\\nabla}_{i}^{2} \\Psi}{\\Psi}.\n",
    "$$"
   ]
  },
  {
   "cell_type": "markdown",
   "id": "36fa01f6",
   "metadata": {
    "editable": true
   },
   "source": [
    "The second derivative which enters the definition of the local energy is"
   ]
  },
  {
   "cell_type": "markdown",
   "id": "2ec507d0",
   "metadata": {
    "editable": true
   },
   "source": [
    "$$\n",
    "\\frac{\\mathbf{\\nabla}^2 \\Psi}{\\Psi}=\\frac{\\mathbf{\\nabla}^2 \\Psi_{OB}}{\\Psi_{OB}} + \\frac{\\mathbf{\\nabla}^2  \\Psi_C}{ \\Psi_C} + 2 \\frac{\\mathbf{\\nabla}  \\Psi_{OB}}{\\Psi_{OB}}\\cdot\\frac{\\mathbf{\\nabla}   \\Psi_C}{ \\Psi_C}\n",
    "$$"
   ]
  },
  {
   "cell_type": "markdown",
   "id": "dac81500",
   "metadata": {
    "editable": true
   },
   "source": [
    "We discuss here how to calculate these quantities in an optimal way,\n",
    "\n",
    "We have defined the correlated function as"
   ]
  },
  {
   "cell_type": "markdown",
   "id": "c2be78d6",
   "metadata": {
    "editable": true
   },
   "source": [
    "$$\n",
    "\\Psi_C=\\prod_{i< j}g(r_{ij})=\\prod_{i< j}^Ng(r_{ij})= \\prod_{i=1}^N\\prod_{j=i+1}^Ng(r_{ij}),\n",
    "$$"
   ]
  },
  {
   "cell_type": "markdown",
   "id": "6b612d3c",
   "metadata": {
    "editable": true
   },
   "source": [
    "with \n",
    "$r_{ij}=|\\mathbf{r}_i-\\mathbf{r}_j|=\\sqrt{(x_i-x_j)^2+(y_i-y_j)^2+(z_i-z_j)^2}$ in three dimensions or\n",
    "$r_{ij}=|\\mathbf{r}_i-\\mathbf{r}_j|=\\sqrt{(x_i-x_j)^2+(y_i-y_j)^2}$ if we work with two-dimensional systems.\n",
    "\n",
    "In our particular case we have"
   ]
  },
  {
   "cell_type": "markdown",
   "id": "6a721d38",
   "metadata": {
    "editable": true
   },
   "source": [
    "$$\n",
    "\\Psi_C=\\prod_{i< j}g(r_{ij})=\\exp{\\left\\{\\sum_{i<j}f(r_{ij})\\right\\}}.\n",
    "$$"
   ]
  },
  {
   "cell_type": "markdown",
   "id": "042b23e5",
   "metadata": {
    "editable": true
   },
   "source": [
    "The total number of different relative distances $r_{ij}$ is $N(N-1)/2$. In a matrix storage format, the relative distances  form a strictly upper triangular matrix"
   ]
  },
  {
   "cell_type": "markdown",
   "id": "c5c5f981",
   "metadata": {
    "editable": true
   },
   "source": [
    "$$\n",
    "\\mathbf{r} \\equiv \\begin{pmatrix}\n",
    "  0 & r_{1,2} & r_{1,3} & \\cdots & r_{1,N} \\\\\n",
    "  \\vdots & 0       & r_{2,3} & \\cdots & r_{2,N} \\\\\n",
    "  \\vdots & \\vdots  & 0  & \\ddots & \\vdots  \\\\\n",
    "  \\vdots & \\vdots  & \\vdots  & \\ddots  & r_{N-1,N} \\\\\n",
    "  0 & 0  & 0  & \\cdots  & 0\n",
    " \\end{pmatrix}.\n",
    "$$"
   ]
  },
  {
   "cell_type": "markdown",
   "id": "6773d2f1",
   "metadata": {
    "editable": true
   },
   "source": [
    "This applies to  $\\mathbf{g} = \\mathbf{g}(r_{ij})$ as well. \n",
    "\n",
    "In our algorithm we will move one particle  at the time, say the $kth$-particle.  This sampling will be seen to be particularly efficient when we are going to compute a Slater determinant. \n",
    "\n",
    "We have that the ratio between Jastrow factors $R_C$ is given by"
   ]
  },
  {
   "cell_type": "markdown",
   "id": "9c26676d",
   "metadata": {
    "editable": true
   },
   "source": [
    "$$\n",
    "R_{C} = \\frac{\\Psi_{C}^\\mathrm{new}}{\\Psi_{C}^\\mathrm{cur}} =\n",
    "\\prod_{i=1}^{k-1}\\frac{g_{ik}^\\mathrm{new}}{g_{ik}^\\mathrm{cur}}\n",
    "\\prod_{i=k+1}^{N}\\frac{ g_{ki}^\\mathrm{new}} {g_{ki}^\\mathrm{cur}}.\n",
    "$$"
   ]
  },
  {
   "cell_type": "markdown",
   "id": "e756908a",
   "metadata": {
    "editable": true
   },
   "source": [
    "For the Pade-Jastrow form"
   ]
  },
  {
   "cell_type": "markdown",
   "id": "356ddcef",
   "metadata": {
    "editable": true
   },
   "source": [
    "$$\n",
    "R_{C} = \\frac{\\Psi_{C}^\\mathrm{new}}{\\Psi_{C}^\\mathrm{cur}} = \n",
    "\\frac{\\exp{U_{new}}}{\\exp{U_{cur}}} = \\exp{\\Delta U},\n",
    "$$"
   ]
  },
  {
   "cell_type": "markdown",
   "id": "dc2bdacb",
   "metadata": {
    "editable": true
   },
   "source": [
    "where"
   ]
  },
  {
   "cell_type": "markdown",
   "id": "05e9e4f1",
   "metadata": {
    "editable": true
   },
   "source": [
    "$$\n",
    "\\Delta U =\n",
    "\\sum_{i=1}^{k-1}\\big(f_{ik}^\\mathrm{new}-f_{ik}^\\mathrm{cur}\\big)\n",
    "+\n",
    "\\sum_{i=k+1}^{N}\\big(f_{ki}^\\mathrm{new}-f_{ki}^\\mathrm{cur}\\big)\n",
    "$$"
   ]
  },
  {
   "cell_type": "markdown",
   "id": "cfa96e0f",
   "metadata": {
    "editable": true
   },
   "source": [
    "One needs to develop a special algorithm \n",
    "that runs only through the elements of the upper triangular\n",
    "matrix $\\mathbf{g}$ and have $k$ as an index. \n",
    "\n",
    "The expression to be derived in the following is of interest when computing the quantum force and the kinetic energy. It has the form"
   ]
  },
  {
   "cell_type": "markdown",
   "id": "f5079974",
   "metadata": {
    "editable": true
   },
   "source": [
    "$$\n",
    "\\frac{\\mathbf{\\nabla}_i\\Psi_C}{\\Psi_C} = \\frac{1}{\\Psi_C}\\frac{\\partial \\Psi_C}{\\partial x_i},\n",
    "$$"
   ]
  },
  {
   "cell_type": "markdown",
   "id": "e4928fb1",
   "metadata": {
    "editable": true
   },
   "source": [
    "for all dimensions and with $i$ running over all particles.\n",
    "\n",
    "For the first derivative only $N-1$ terms survive the ratio because the $g$-terms that are not differentiated cancel with their corresponding ones in the denominator. Then,"
   ]
  },
  {
   "cell_type": "markdown",
   "id": "c14b44cd",
   "metadata": {
    "editable": true
   },
   "source": [
    "$$\n",
    "\\frac{1}{\\Psi_C}\\frac{\\partial \\Psi_C}{\\partial x_k} =\n",
    "\\sum_{i=1}^{k-1}\\frac{1}{g_{ik}}\\frac{\\partial g_{ik}}{\\partial x_k}\n",
    "+\n",
    "\\sum_{i=k+1}^{N}\\frac{1}{g_{ki}}\\frac{\\partial g_{ki}}{\\partial x_k}.\n",
    "$$"
   ]
  },
  {
   "cell_type": "markdown",
   "id": "654982ae",
   "metadata": {
    "editable": true
   },
   "source": [
    "An equivalent equation is obtained for the exponential form after replacing $g_{ij}$ by $\\exp(f_{ij})$, yielding:"
   ]
  },
  {
   "cell_type": "markdown",
   "id": "cb91a7db",
   "metadata": {
    "editable": true
   },
   "source": [
    "$$\n",
    "\\frac{1}{\\Psi_C}\\frac{\\partial \\Psi_C}{\\partial x_k} =\n",
    "\\sum_{i=1}^{k-1}\\frac{\\partial g_{ik}}{\\partial x_k}\n",
    "+\n",
    "\\sum_{i=k+1}^{N}\\frac{\\partial g_{ki}}{\\partial x_k},\n",
    "$$"
   ]
  },
  {
   "cell_type": "markdown",
   "id": "0be23794",
   "metadata": {
    "editable": true
   },
   "source": [
    "with both expressions scaling as $\\mathcal{O}(N)$.\n",
    "\n",
    "Using the identity"
   ]
  },
  {
   "cell_type": "markdown",
   "id": "e7718733",
   "metadata": {
    "editable": true
   },
   "source": [
    "$$\n",
    "\\frac{\\partial}{\\partial x_i}g_{ij} = -\\frac{\\partial}{\\partial x_j}g_{ij},\n",
    "$$"
   ]
  },
  {
   "cell_type": "markdown",
   "id": "6346d562",
   "metadata": {
    "editable": true
   },
   "source": [
    "we get expressions where all the derivatives acting on the particle  are represented by the *second* index of $g$:"
   ]
  },
  {
   "cell_type": "markdown",
   "id": "8b4066f9",
   "metadata": {
    "editable": true
   },
   "source": [
    "$$\n",
    "\\frac{1}{\\Psi_C}\\frac{\\partial \\Psi_C}{\\partial x_k} =\n",
    "\\sum_{i=1}^{k-1}\\frac{1}{g_{ik}}\\frac{\\partial g_{ik}}{\\partial x_k}\n",
    "-\\sum_{i=k+1}^{N}\\frac{1}{g_{ki}}\\frac{\\partial g_{ki}}{\\partial x_i},\n",
    "$$"
   ]
  },
  {
   "cell_type": "markdown",
   "id": "d58f79cd",
   "metadata": {
    "editable": true
   },
   "source": [
    "and for the exponential case:"
   ]
  },
  {
   "cell_type": "markdown",
   "id": "2c980517",
   "metadata": {
    "editable": true
   },
   "source": [
    "$$\n",
    "\\frac{1}{\\Psi_C}\\frac{\\partial \\Psi_C}{\\partial x_k} =\n",
    "\\sum_{i=1}^{k-1}\\frac{\\partial g_{ik}}{\\partial x_k}\n",
    "-\\sum_{i=k+1}^{N}\\frac{\\partial g_{ki}}{\\partial x_i}.\n",
    "$$"
   ]
  },
  {
   "cell_type": "markdown",
   "id": "fb88933d",
   "metadata": {
    "editable": true
   },
   "source": [
    "For correlation forms depending only on the scalar distances $r_{ij}$ we can use the chain rule. Noting that"
   ]
  },
  {
   "cell_type": "markdown",
   "id": "3a64c1e8",
   "metadata": {
    "editable": true
   },
   "source": [
    "$$\n",
    "\\frac{\\partial g_{ij}}{\\partial x_j} = \\frac{\\partial g_{ij}}{\\partial r_{ij}} \\frac{\\partial r_{ij}}{\\partial x_j} = \\frac{x_j - x_i}{r_{ij}} \\frac{\\partial g_{ij}}{\\partial r_{ij}},\n",
    "$$"
   ]
  },
  {
   "cell_type": "markdown",
   "id": "325fa8e7",
   "metadata": {
    "editable": true
   },
   "source": [
    "we arrive at"
   ]
  },
  {
   "cell_type": "markdown",
   "id": "b2c739b3",
   "metadata": {
    "editable": true
   },
   "source": [
    "$$\n",
    "\\frac{1}{\\Psi_C}\\frac{\\partial \\Psi_C}{\\partial x_k} = \n",
    "\\sum_{i=1}^{k-1}\\frac{1}{g_{ik}} \\frac{\\mathbf{r_{ik}}}{r_{ik}} \\frac{\\partial g_{ik}}{\\partial r_{ik}}\n",
    "-\\sum_{i=k+1}^{N}\\frac{1}{g_{ki}}\\frac{\\mathbf{r_{ki}}}{r_{ki}}\\frac{\\partial g_{ki}}{\\partial r_{ki}}.\n",
    "$$"
   ]
  },
  {
   "cell_type": "markdown",
   "id": "67f37ac7",
   "metadata": {
    "editable": true
   },
   "source": [
    "Note that for the Pade-Jastrow form we can set $g_{ij} \\equiv g(r_{ij}) = e^{f(r_{ij})} = e^{f_{ij}}$ and"
   ]
  },
  {
   "cell_type": "markdown",
   "id": "5763664a",
   "metadata": {
    "editable": true
   },
   "source": [
    "$$\n",
    "\\frac{\\partial g_{ij}}{\\partial r_{ij}} = g_{ij} \\frac{\\partial f_{ij}}{\\partial r_{ij}}.\n",
    "$$"
   ]
  },
  {
   "cell_type": "markdown",
   "id": "d5260b73",
   "metadata": {
    "editable": true
   },
   "source": [
    "Therefore,"
   ]
  },
  {
   "cell_type": "markdown",
   "id": "81fb4fbd",
   "metadata": {
    "editable": true
   },
   "source": [
    "$$\n",
    "\\frac{1}{\\Psi_{C}}\\frac{\\partial \\Psi_{C}}{\\partial x_k} =\n",
    "\\sum_{i=1}^{k-1}\\frac{\\mathbf{r_{ik}}}{r_{ik}}\\frac{\\partial f_{ik}}{\\partial r_{ik}}\n",
    "-\\sum_{i=k+1}^{N}\\frac{\\mathbf{r_{ki}}}{r_{ki}}\\frac{\\partial f_{ki}}{\\partial r_{ki}},\n",
    "$$"
   ]
  },
  {
   "cell_type": "markdown",
   "id": "11a3d49a",
   "metadata": {
    "editable": true
   },
   "source": [
    "where"
   ]
  },
  {
   "cell_type": "markdown",
   "id": "e8c8cfbe",
   "metadata": {
    "editable": true
   },
   "source": [
    "$$\n",
    "\\mathbf{r}_{ij} = |\\mathbf{r}_j - \\mathbf{r}_i| = (x_j - x_i)\\mathbf{e}_1 + (y_j - y_i)\\mathbf{e}_2 + (z_j - z_i)\\mathbf{e}_3\n",
    "$$"
   ]
  },
  {
   "cell_type": "markdown",
   "id": "8acd663e",
   "metadata": {
    "editable": true
   },
   "source": [
    "is the relative distance. \n",
    "\n",
    "The second derivative of the Jastrow factor divided by the Jastrow factor (the way it enters the kinetic energy) is"
   ]
  },
  {
   "cell_type": "markdown",
   "id": "de1da39e",
   "metadata": {
    "editable": true
   },
   "source": [
    "$$\n",
    "\\left[\\frac{\\mathbf{\\nabla}^2 \\Psi_C}{\\Psi_C}\\right]_x =\\  \n",
    "2\\sum_{k=1}^{N}\n",
    "\\sum_{i=1}^{k-1}\\frac{\\partial^2 g_{ik}}{\\partial x_k^2}\\ +\\ \n",
    "\\sum_{k=1}^N\n",
    "\\left(\n",
    "\\sum_{i=1}^{k-1}\\frac{\\partial g_{ik}}{\\partial x_k} -\n",
    "\\sum_{i=k+1}^{N}\\frac{\\partial g_{ki}}{\\partial x_i}\n",
    "\\right)^2\n",
    "$$"
   ]
  },
  {
   "cell_type": "markdown",
   "id": "3ab3ec56",
   "metadata": {
    "editable": true
   },
   "source": [
    "But we have a simple form for the function, namely"
   ]
  },
  {
   "cell_type": "markdown",
   "id": "c1c1d496",
   "metadata": {
    "editable": true
   },
   "source": [
    "$$\n",
    "\\Psi_{C}=\\prod_{i< j}\\exp{f(r_{ij})},\n",
    "$$"
   ]
  },
  {
   "cell_type": "markdown",
   "id": "22d99ab9",
   "metadata": {
    "editable": true
   },
   "source": [
    "and it is easy to see that for particle  $k$\n",
    "we have"
   ]
  },
  {
   "cell_type": "markdown",
   "id": "b0fdc3f3",
   "metadata": {
    "editable": true
   },
   "source": [
    "$$\n",
    "\\frac{\\mathbf{\\nabla}^2_k \\Psi_C}{\\Psi_C }=\n",
    "\\sum_{ij\\ne k}\\frac{(\\mathbf{r}_k-\\mathbf{r}_i)(\\mathbf{r}_k-\\mathbf{r}_j)}{r_{ki}r_{kj}}f'(r_{ki})f'(r_{kj})+\n",
    "\\sum_{j\\ne k}\\left( f''(r_{kj})+\\frac{2}{r_{kj}}f'(r_{kj})\\right)\n",
    "$$"
   ]
  },
  {
   "cell_type": "markdown",
   "id": "5425d335",
   "metadata": {
    "editable": true
   },
   "source": [
    "## Importance sampling, Fokker-Planck and Langevin equations\n",
    "\n",
    "A stochastic process is simply a function of two variables, one is the time,\n",
    "the other is a stochastic variable $X$, defined by specifying\n",
    "* the set $\\left\\{x\\right\\}$ of possible values for $X$;\n",
    "\n",
    "* the probability distribution, $w_X(x)$,  over this set, or briefly $w(x)$\n",
    "\n",
    "The set of values $\\left\\{x\\right\\}$ for $X$ \n",
    "may be discrete, or continuous. If the set of\n",
    "values is continuous, then $w_X (x)$ is a probability density so that \n",
    "$w_X (x)dx$\n",
    "is the probability that one finds the stochastic variable $X$ to have values\n",
    "in the range $[x, x + dx]$ .\n",
    "\n",
    "     An arbitrary number of other stochastic variables may be derived from\n",
    "$X$. For example, any $Y$ given by a mapping of $X$, is also a stochastic\n",
    "variable. The mapping may also be time-dependent, that is, the mapping\n",
    "depends on an additional variable $t$"
   ]
  },
  {
   "cell_type": "markdown",
   "id": "cc0a7f6e",
   "metadata": {
    "editable": true
   },
   "source": [
    "$$\n",
    "Y_X (t) = f (X, t) .\n",
    "$$"
   ]
  },
  {
   "cell_type": "markdown",
   "id": "513ae80b",
   "metadata": {
    "editable": true
   },
   "source": [
    "The quantity $Y_X (t)$ is called a random function, or, since $t$ often is time,\n",
    "a stochastic process. A stochastic process is a function of two variables,\n",
    "one is the time, the other is a stochastic variable $X$. Let $x$ be one of the\n",
    "possible values of $X$ then"
   ]
  },
  {
   "cell_type": "markdown",
   "id": "e0e69646",
   "metadata": {
    "editable": true
   },
   "source": [
    "$$\n",
    "y(t) = f (x, t),\n",
    "$$"
   ]
  },
  {
   "cell_type": "markdown",
   "id": "a394cfb8",
   "metadata": {
    "editable": true
   },
   "source": [
    "is a function of $t$, called a sample function or realization of the process.\n",
    "In physics one considers the stochastic process to be an ensemble of such\n",
    "sample functions.\n",
    "\n",
    "     For many physical systems initial distributions of a stochastic \n",
    "variable $y$ tend to equilibrium distributions: $w(y, t)\\rightarrow w_0(y)$ \n",
    "as $t\\rightarrow\\infty$. In\n",
    "equilibrium detailed balance constrains the transition rates"
   ]
  },
  {
   "cell_type": "markdown",
   "id": "c3a41a64",
   "metadata": {
    "editable": true
   },
   "source": [
    "$$\n",
    "W(y\\rightarrow y')w(y ) = W(y'\\rightarrow y)w_0 (y),\n",
    "$$"
   ]
  },
  {
   "cell_type": "markdown",
   "id": "654ee431",
   "metadata": {
    "editable": true
   },
   "source": [
    "where $W(y'\\rightarrow y)$ \n",
    "is the probability, per unit time, that the system changes\n",
    "from a state $|y\\rangle$ , characterized by the value $y$ \n",
    "for the stochastic variable $Y$ , to a state $|y'\\rangle$.\n",
    "\n",
    "Note that for a system in equilibrium the transition rate \n",
    "$W(y'\\rightarrow y)$ and\n",
    "the reverse $W(y\\rightarrow y')$ may be very different. \n",
    "\n",
    "Consider, for instance, a simple\n",
    "system that has only two energy levels $\\epsilon_0 = 0$ and \n",
    "$\\epsilon_1 = \\Delta E$. \n",
    "\n",
    "For a system governed by the Boltzmann distribution we find (the partition function has been taken out)"
   ]
  },
  {
   "cell_type": "markdown",
   "id": "1e99b332",
   "metadata": {
    "editable": true
   },
   "source": [
    "$$\n",
    "W(0\\rightarrow 1)\\exp{-(\\epsilon_0/kT)} = W(1\\rightarrow 0)\\exp{-(\\epsilon_1/kT)}\n",
    "$$"
   ]
  },
  {
   "cell_type": "markdown",
   "id": "7b96c47c",
   "metadata": {
    "editable": true
   },
   "source": [
    "We get then"
   ]
  },
  {
   "cell_type": "markdown",
   "id": "6b7068ed",
   "metadata": {
    "editable": true
   },
   "source": [
    "$$\n",
    "\\frac{W(1\\rightarrow 0)}{W(0 \\rightarrow 1)}=\\exp{-(\\Delta E/kT)},\n",
    "$$"
   ]
  },
  {
   "cell_type": "markdown",
   "id": "7038930a",
   "metadata": {
    "editable": true
   },
   "source": [
    "which goes to zero when $T$ tends to zero.\n",
    "\n",
    "If we assume a discrete set of events,\n",
    "our initial probability\n",
    "distribution function can be  given by"
   ]
  },
  {
   "cell_type": "markdown",
   "id": "4d7fefac",
   "metadata": {
    "editable": true
   },
   "source": [
    "$$\n",
    "w_i(0) = \\delta_{i,0},\n",
    "$$"
   ]
  },
  {
   "cell_type": "markdown",
   "id": "277659d3",
   "metadata": {
    "editable": true
   },
   "source": [
    "and its time-development after a given time step $\\Delta t=\\epsilon$ is"
   ]
  },
  {
   "cell_type": "markdown",
   "id": "8b1a1001",
   "metadata": {
    "editable": true
   },
   "source": [
    "$$\n",
    "w_i(t) = \\sum_{j}W(j\\rightarrow i)w_j(t=0).\n",
    "$$"
   ]
  },
  {
   "cell_type": "markdown",
   "id": "089b7a50",
   "metadata": {
    "editable": true
   },
   "source": [
    "The continuous analog to $w_i(0)$ is"
   ]
  },
  {
   "cell_type": "markdown",
   "id": "e519b400",
   "metadata": {
    "editable": true
   },
   "source": [
    "$$\n",
    "w(\\mathbf{x})\\rightarrow \\delta(\\mathbf{x}),\n",
    "$$"
   ]
  },
  {
   "cell_type": "markdown",
   "id": "fdfd85ff",
   "metadata": {
    "editable": true
   },
   "source": [
    "where we now have generalized the one-dimensional position $x$ to a generic-dimensional  \n",
    "vector $\\mathbf{x}$. The Kroenecker $\\delta$ function is replaced by the $\\delta$ distribution\n",
    "function $\\delta(\\mathbf{x})$ at  $t=0$.  \n",
    "\n",
    "The transition from a state $j$ to a state $i$ is now replaced by a transition\n",
    "to a state with position $\\mathbf{y}$ from a state with position $\\mathbf{x}$. \n",
    "The discrete sum of transition probabilities can then be replaced by an integral\n",
    "and we obtain the new distribution at a time $t+\\Delta t$ as"
   ]
  },
  {
   "cell_type": "markdown",
   "id": "3a3364b6",
   "metadata": {
    "editable": true
   },
   "source": [
    "$$\n",
    "w(\\mathbf{y},t+\\Delta t)= \\int W(\\mathbf{y},t+\\Delta t| \\mathbf{x},t)w(\\mathbf{x},t)d\\mathbf{x},\n",
    "$$"
   ]
  },
  {
   "cell_type": "markdown",
   "id": "0eafef6b",
   "metadata": {
    "editable": true
   },
   "source": [
    "and after $m$ time steps we have"
   ]
  },
  {
   "cell_type": "markdown",
   "id": "c26a1487",
   "metadata": {
    "editable": true
   },
   "source": [
    "$$\n",
    "w(\\mathbf{y},t+m\\Delta t)= \\int W(\\mathbf{y},t+m\\Delta t| \\mathbf{x},t)w(\\mathbf{x},t)d\\mathbf{x}.\n",
    "$$"
   ]
  },
  {
   "cell_type": "markdown",
   "id": "cd382cea",
   "metadata": {
    "editable": true
   },
   "source": [
    "When equilibrium is reached we have"
   ]
  },
  {
   "cell_type": "markdown",
   "id": "81107b03",
   "metadata": {
    "editable": true
   },
   "source": [
    "$$\n",
    "w(\\mathbf{y})= \\int W(\\mathbf{y}|\\mathbf{x}, t)w(\\mathbf{x})d\\mathbf{x},\n",
    "$$"
   ]
  },
  {
   "cell_type": "markdown",
   "id": "11e00f5f",
   "metadata": {
    "editable": true
   },
   "source": [
    "that is no time-dependence. Note our change of notation for $W$\n",
    "\n",
    "We can solve the equation for $w(\\mathbf{y},t)$ by making a Fourier transform to\n",
    "momentum space. \n",
    "The PDF $w(\\mathbf{x},t)$ is related to its Fourier transform\n",
    "$\\tilde{w}(\\mathbf{k},t)$ through"
   ]
  },
  {
   "cell_type": "markdown",
   "id": "51c64872",
   "metadata": {
    "editable": true
   },
   "source": [
    "$$\n",
    "w(\\mathbf{x},t) = \\int_{-\\infty}^{\\infty}d\\mathbf{k} \\exp{(i\\mathbf{kx})}\\tilde{w}(\\mathbf{k},t),\n",
    "$$"
   ]
  },
  {
   "cell_type": "markdown",
   "id": "dbe47864",
   "metadata": {
    "editable": true
   },
   "source": [
    "and using the definition of the \n",
    "$\\delta$-function"
   ]
  },
  {
   "cell_type": "markdown",
   "id": "8c0f1054",
   "metadata": {
    "editable": true
   },
   "source": [
    "$$\n",
    "\\delta(\\mathbf{x}) = \\frac{1}{2\\pi} \\int_{-\\infty}^{\\infty}d\\mathbf{k} \\exp{(i\\mathbf{kx})},\n",
    "$$"
   ]
  },
  {
   "cell_type": "markdown",
   "id": "35a23110",
   "metadata": {
    "editable": true
   },
   "source": [
    "we see that"
   ]
  },
  {
   "cell_type": "markdown",
   "id": "1fca6b9b",
   "metadata": {
    "editable": true
   },
   "source": [
    "$$\n",
    "\\tilde{w}(\\mathbf{k},0)=1/2\\pi.\n",
    "$$"
   ]
  },
  {
   "cell_type": "markdown",
   "id": "89949e1b",
   "metadata": {
    "editable": true
   },
   "source": [
    "We can then use the Fourier-transformed diffusion equation"
   ]
  },
  {
   "cell_type": "markdown",
   "id": "b1c4a9bc",
   "metadata": {
    "editable": true
   },
   "source": [
    "$$\n",
    "\\frac{\\partial \\tilde{w}(\\mathbf{k},t)}{\\partial t} = -D\\mathbf{k}^2\\tilde{w}(\\mathbf{k},t),\n",
    "$$"
   ]
  },
  {
   "cell_type": "markdown",
   "id": "1094ba71",
   "metadata": {
    "editable": true
   },
   "source": [
    "with the obvious solution"
   ]
  },
  {
   "cell_type": "markdown",
   "id": "c1b4fd1c",
   "metadata": {
    "editable": true
   },
   "source": [
    "$$\n",
    "\\tilde{w}(\\mathbf{k},t)=\\tilde{w}(\\mathbf{k},0)\\exp{\\left[-(D\\mathbf{k}^2t)\\right)}=\n",
    "    \\frac{1}{2\\pi}\\exp{\\left[-(D\\mathbf{k}^2t)\\right]}.\n",
    "$$"
   ]
  },
  {
   "cell_type": "markdown",
   "id": "937e3afb",
   "metadata": {
    "editable": true
   },
   "source": [
    "With the Fourier transform we obtain"
   ]
  },
  {
   "cell_type": "markdown",
   "id": "03c5501c",
   "metadata": {
    "editable": true
   },
   "source": [
    "$$\n",
    "w(\\mathbf{x},t)=\\int_{-\\infty}^{\\infty}d\\mathbf{k} \\exp{\\left[i\\mathbf{kx}\\right]}\\frac{1}{2\\pi}\\exp{\\left[-(D\\mathbf{k}^2t)\\right]}=\n",
    "    \\frac{1}{\\sqrt{4\\pi Dt}}\\exp{\\left[-(\\mathbf{x}^2/4Dt)\\right]},\n",
    "$$"
   ]
  },
  {
   "cell_type": "markdown",
   "id": "19171721",
   "metadata": {
    "editable": true
   },
   "source": [
    "with the normalization condition"
   ]
  },
  {
   "cell_type": "markdown",
   "id": "82199446",
   "metadata": {
    "editable": true
   },
   "source": [
    "$$\n",
    "\\int_{-\\infty}^{\\infty}w(\\mathbf{x},t)d\\mathbf{x}=1.\n",
    "$$"
   ]
  },
  {
   "cell_type": "markdown",
   "id": "ae488938",
   "metadata": {
    "editable": true
   },
   "source": [
    "The solution represents the probability of finding\n",
    "our random walker at position $\\mathbf{x}$ at time $t$ if the initial distribution \n",
    "was placed at $\\mathbf{x}=0$ at $t=0$. \n",
    "\n",
    "There is another interesting feature worth observing. The discrete transition probability $W$\n",
    "itself is given by a binomial distribution.\n",
    "The results from the central limit theorem state that \n",
    "transition probability in the limit $n\\rightarrow \\infty$ converges to the normal \n",
    "distribution. It is then possible to show that"
   ]
  },
  {
   "cell_type": "markdown",
   "id": "b0e9c37b",
   "metadata": {
    "editable": true
   },
   "source": [
    "$$\n",
    "W(il-jl,n\\epsilon)\\rightarrow W(\\mathbf{y},t+\\Delta t|\\mathbf{x},t)=\n",
    "    \\frac{1}{\\sqrt{4\\pi D\\Delta t}}\\exp{\\left[-((\\mathbf{y}-\\mathbf{x})^2/4D\\Delta t)\\right]},\n",
    "$$"
   ]
  },
  {
   "cell_type": "markdown",
   "id": "21fbb0d4",
   "metadata": {
    "editable": true
   },
   "source": [
    "and that it satisfies the normalization condition and is itself a solution\n",
    "to the diffusion equation.\n",
    "\n",
    "Let us now assume that we have three PDFs for times $t_0 < t' < t$, that is\n",
    "$w(\\mathbf{x}_0,t_0)$, $w(\\mathbf{x}',t')$ and $w(\\mathbf{x},t)$.\n",
    "We have then"
   ]
  },
  {
   "cell_type": "markdown",
   "id": "7307f748",
   "metadata": {
    "editable": true
   },
   "source": [
    "$$\n",
    "w(\\mathbf{x},t)= \\int_{-\\infty}^{\\infty} W(\\mathbf{x}.t|\\mathbf{x}'.t')w(\\mathbf{x}',t')d\\mathbf{x}',\n",
    "$$"
   ]
  },
  {
   "cell_type": "markdown",
   "id": "b81dd9a2",
   "metadata": {
    "editable": true
   },
   "source": [
    "and"
   ]
  },
  {
   "cell_type": "markdown",
   "id": "25588c40",
   "metadata": {
    "editable": true
   },
   "source": [
    "$$\n",
    "w(\\mathbf{x},t)= \\int_{-\\infty}^{\\infty} W(\\mathbf{x}.t|\\mathbf{x}_0.t_0)w(\\mathbf{x}_0,t_0)d\\mathbf{x}_0,\n",
    "$$"
   ]
  },
  {
   "cell_type": "markdown",
   "id": "71f3da31",
   "metadata": {
    "editable": true
   },
   "source": [
    "and"
   ]
  },
  {
   "cell_type": "markdown",
   "id": "f5c2b55f",
   "metadata": {
    "editable": true
   },
   "source": [
    "$$\n",
    "w(\\mathbf{x}',t')= \\int_{-\\infty}^{\\infty} W(\\mathbf{x}'.t'|\\mathbf{x}_0,t_0)w(\\mathbf{x}_0,t_0)d\\mathbf{x}_0.\n",
    "$$"
   ]
  },
  {
   "cell_type": "markdown",
   "id": "77ce92ad",
   "metadata": {
    "editable": true
   },
   "source": [
    "We can combine these equations and arrive at the famous Einstein-Smoluchenski-Kolmogorov-Chapman (ESKC) relation"
   ]
  },
  {
   "cell_type": "markdown",
   "id": "3229807e",
   "metadata": {
    "editable": true
   },
   "source": [
    "$$\n",
    "W(\\mathbf{x}t|\\mathbf{x}_0t_0)  = \\int_{-\\infty}^{\\infty} W(\\mathbf{x},t|\\mathbf{x}',t')W(\\mathbf{x}',t'|\\mathbf{x}_0,t_0)d\\mathbf{x}'.\n",
    "$$"
   ]
  },
  {
   "cell_type": "markdown",
   "id": "7cad44c0",
   "metadata": {
    "editable": true
   },
   "source": [
    "We can replace the spatial dependence with a dependence upon say the velocity\n",
    "(or momentum), that is we have"
   ]
  },
  {
   "cell_type": "markdown",
   "id": "165f2490",
   "metadata": {
    "editable": true
   },
   "source": [
    "$$\n",
    "W(\\mathbf{v},t|\\mathbf{v}_0,t_0)  = \\int_{-\\infty}^{\\infty} W(\\mathbf{v},t|\\mathbf{v}',t')W(\\mathbf{v}',t'|\\mathbf{v}_0,t_0)d\\mathbf{x}'.\n",
    "$$"
   ]
  },
  {
   "cell_type": "markdown",
   "id": "a7a452fb",
   "metadata": {
    "editable": true
   },
   "source": [
    "We will now derive the Fokker-Planck equation. \n",
    "We start from the ESKC equation"
   ]
  },
  {
   "cell_type": "markdown",
   "id": "1385c65b",
   "metadata": {
    "editable": true
   },
   "source": [
    "$$\n",
    "W(\\mathbf{x},t|\\mathbf{x}_0,t_0)  = \\int_{-\\infty}^{\\infty} W(\\mathbf{x},t|\\mathbf{x}',t')W(\\mathbf{x}',t'|\\mathbf{x}_0,t_0)d\\mathbf{x}'.\n",
    "$$"
   ]
  },
  {
   "cell_type": "markdown",
   "id": "960fbaf6",
   "metadata": {
    "editable": true
   },
   "source": [
    "Define $s=t'-t_0$, $\\tau=t-t'$ and $t-t_0=s+\\tau$. We have then"
   ]
  },
  {
   "cell_type": "markdown",
   "id": "63094564",
   "metadata": {
    "editable": true
   },
   "source": [
    "$$\n",
    "W(\\mathbf{x},s+\\tau|\\mathbf{x}_0)  = \\int_{-\\infty}^{\\infty} W(\\mathbf{x},\\tau|\\mathbf{x}')W(\\mathbf{x}',s|\\mathbf{x}_0)d\\mathbf{x}'.\n",
    "$$"
   ]
  },
  {
   "cell_type": "markdown",
   "id": "f3d18ecf",
   "metadata": {
    "editable": true
   },
   "source": [
    "Assume now that $\\tau$ is very small so that we can make an expansion in terms of a small step $xi$, with $\\mathbf{x}'=\\mathbf{x}-\\xi$, that is"
   ]
  },
  {
   "cell_type": "markdown",
   "id": "158f3d21",
   "metadata": {
    "editable": true
   },
   "source": [
    "$$\n",
    "W(\\mathbf{x},s|\\mathbf{x}_0)+\\frac{\\partial W}{\\partial s}\\tau +O(\\tau^2) = \\int_{-\\infty}^{\\infty} W(\\mathbf{x},\\tau|\\mathbf{x}-\\xi)W(\\mathbf{x}-\\xi,s|\\mathbf{x}_0)d\\mathbf{x}'.\n",
    "$$"
   ]
  },
  {
   "cell_type": "markdown",
   "id": "9edbaf76",
   "metadata": {
    "editable": true
   },
   "source": [
    "We assume that $W(\\mathbf{x},\\tau|\\mathbf{x}-\\xi)$ takes non-negligible values only when $\\xi$ is small. This is just another way of stating the Master equation!!\n",
    "\n",
    "We say thus that $\\mathbf{x}$ changes only by a small amount in the time interval $\\tau$. \n",
    "This means that we can make a Taylor expansion in terms of $\\xi$, that is we\n",
    "expand"
   ]
  },
  {
   "cell_type": "markdown",
   "id": "bc61a72c",
   "metadata": {
    "editable": true
   },
   "source": [
    "$$\n",
    "W(\\mathbf{x},\\tau|\\mathbf{x}-\\xi)W(\\mathbf{x}-\\xi,s|\\mathbf{x}_0) =\n",
    "\\sum_{n=0}^{\\infty}\\frac{(-\\xi)^n}{n!}\\frac{\\partial^n}{\\partial x^n}\\left[W(\\mathbf{x}+\\xi,\\tau|\\mathbf{x})W(\\mathbf{x},s|\\mathbf{x}_0)\n",
    "\\right].\n",
    "$$"
   ]
  },
  {
   "cell_type": "markdown",
   "id": "dd8a3d2e",
   "metadata": {
    "editable": true
   },
   "source": [
    "We can then rewrite the ESKC equation as"
   ]
  },
  {
   "cell_type": "markdown",
   "id": "0f07f23e",
   "metadata": {
    "editable": true
   },
   "source": [
    "$$\n",
    "\\frac{\\partial W}{\\partial s}\\tau=-W(\\mathbf{x},s|\\mathbf{x}_0)+\n",
    "\\sum_{n=0}^{\\infty}\\frac{(-\\xi)^n}{n!}\\frac{\\partial^n}{\\partial x^n}\n",
    "\\left[W(\\mathbf{x},s|\\mathbf{x}_0)\\int_{-\\infty}^{\\infty} \\xi^nW(\\mathbf{x}+\\xi,\\tau|\\mathbf{x})d\\xi\\right].\n",
    "$$"
   ]
  },
  {
   "cell_type": "markdown",
   "id": "354d582f",
   "metadata": {
    "editable": true
   },
   "source": [
    "We have neglected higher powers of $\\tau$ and have used that for $n=0$ \n",
    "we get simply $W(\\mathbf{x},s|\\mathbf{x}_0)$ due to normalization.\n",
    "\n",
    "We say thus that $\\mathbf{x}$ changes only by a small amount in the time interval $\\tau$. \n",
    "This means that we can make a Taylor expansion in terms of $\\xi$, that is we\n",
    "expand"
   ]
  },
  {
   "cell_type": "markdown",
   "id": "7ffb43ab",
   "metadata": {
    "editable": true
   },
   "source": [
    "$$\n",
    "W(\\mathbf{x},\\tau|\\mathbf{x}-\\xi)W(\\mathbf{x}-\\xi,s|\\mathbf{x}_0) =\n",
    "\\sum_{n=0}^{\\infty}\\frac{(-\\xi)^n}{n!}\\frac{\\partial^n}{\\partial x^n}\\left[W(\\mathbf{x}+\\xi,\\tau|\\mathbf{x})W(\\mathbf{x},s|\\mathbf{x}_0)\n",
    "\\right].\n",
    "$$"
   ]
  },
  {
   "cell_type": "markdown",
   "id": "bdcd9cca",
   "metadata": {
    "editable": true
   },
   "source": [
    "We can then rewrite the ESKC equation as"
   ]
  },
  {
   "cell_type": "markdown",
   "id": "3f2d1592",
   "metadata": {
    "editable": true
   },
   "source": [
    "$$\n",
    "\\frac{\\partial W(\\mathbf{x},s|\\mathbf{x}_0)}{\\partial s}\\tau=-W(\\mathbf{x},s|\\mathbf{x}_0)+\n",
    "\\sum_{n=0}^{\\infty}\\frac{(-\\xi)^n}{n!}\\frac{\\partial^n}{\\partial x^n}\n",
    "\\left[W(\\mathbf{x},s|\\mathbf{x}_0)\\int_{-\\infty}^{\\infty} \\xi^nW(\\mathbf{x}+\\xi,\\tau|\\mathbf{x})d\\xi\\right].\n",
    "$$"
   ]
  },
  {
   "cell_type": "markdown",
   "id": "723c175d",
   "metadata": {
    "editable": true
   },
   "source": [
    "We have neglected higher powers of $\\tau$ and have used that for $n=0$ \n",
    "we get simply $W(\\mathbf{x},s|\\mathbf{x}_0)$ due to normalization.\n",
    "\n",
    "We simplify the above by introducing the moments"
   ]
  },
  {
   "cell_type": "markdown",
   "id": "106c8e89",
   "metadata": {
    "editable": true
   },
   "source": [
    "$$\n",
    "M_n=\\frac{1}{\\tau}\\int_{-\\infty}^{\\infty} \\xi^nW(\\mathbf{x}+\\xi,\\tau|\\mathbf{x})d\\xi=\n",
    "\\frac{\\langle [\\Delta x(\\tau)]^n\\rangle}{\\tau},\n",
    "$$"
   ]
  },
  {
   "cell_type": "markdown",
   "id": "126fc154",
   "metadata": {
    "editable": true
   },
   "source": [
    "resulting in"
   ]
  },
  {
   "cell_type": "markdown",
   "id": "8fb3839a",
   "metadata": {
    "editable": true
   },
   "source": [
    "$$\n",
    "\\frac{\\partial W(\\mathbf{x},s|\\mathbf{x}_0)}{\\partial s}=\n",
    "\\sum_{n=1}^{\\infty}\\frac{(-\\xi)^n}{n!}\\frac{\\partial^n}{\\partial x^n}\n",
    "\\left[W(\\mathbf{x},s|\\mathbf{x}_0)M_n\\right].\n",
    "$$"
   ]
  },
  {
   "cell_type": "markdown",
   "id": "8b860aab",
   "metadata": {
    "editable": true
   },
   "source": [
    "When $\\tau \\rightarrow 0$ we assume that $\\langle [\\Delta x(\\tau)]^n\\rangle \\rightarrow 0$ more rapidly than $\\tau$ itself if $n > 2$. \n",
    "When $\\tau$ is much larger than the standard correlation time of \n",
    "system then $M_n$ for $n > 2$ can normally be neglected.\n",
    "This means that fluctuations become negligible at large time scales.\n",
    "\n",
    "If we neglect such terms we can rewrite the ESKC equation as"
   ]
  },
  {
   "cell_type": "markdown",
   "id": "c1b31546",
   "metadata": {
    "editable": true
   },
   "source": [
    "$$\n",
    "\\frac{\\partial W(\\mathbf{x},s|\\mathbf{x}_0)}{\\partial s}=\n",
    "-\\frac{\\partial M_1W(\\mathbf{x},s|\\mathbf{x}_0)}{\\partial x}+\n",
    "\\frac{1}{2}\\frac{\\partial^2 M_2W(\\mathbf{x},s|\\mathbf{x}_0)}{\\partial x^2}.\n",
    "$$"
   ]
  },
  {
   "cell_type": "markdown",
   "id": "dd74fbc0",
   "metadata": {
    "editable": true
   },
   "source": [
    "In a more compact form we have"
   ]
  },
  {
   "cell_type": "markdown",
   "id": "39790909",
   "metadata": {
    "editable": true
   },
   "source": [
    "$$\n",
    "\\frac{\\partial W}{\\partial s}=\n",
    "-\\frac{\\partial M_1W}{\\partial x}+\n",
    "\\frac{1}{2}\\frac{\\partial^2 M_2W}{\\partial x^2},\n",
    "$$"
   ]
  },
  {
   "cell_type": "markdown",
   "id": "016c9048",
   "metadata": {
    "editable": true
   },
   "source": [
    "which is the Fokker-Planck equation!  It is trivial to replace \n",
    "position with velocity (momentum).\n",
    "\n",
    "Consider a particle  suspended in a liquid. On its path through the liquid it will continuously collide with the liquid molecules. Because on average the particle  will collide more often on the front side than on the back side, it will experience a systematic force proportional with its velocity, and directed opposite to its velocity. Besides this systematic force the particle  will experience a stochastic force  $\\mathbf{F}(t)$. \n",
    "The equations of motion are \n",
    "* $\\frac{d\\mathbf{r}}{dt}=\\mathbf{v}$ and \n",
    "\n",
    "* $\\frac{d\\mathbf{v}}{dt}=-\\xi \\mathbf{v}+\\mathbf{F}$.\n",
    "\n",
    "From hydrodynamics  we know that the friction constant  $\\xi$ is given by"
   ]
  },
  {
   "cell_type": "markdown",
   "id": "ae7c2397",
   "metadata": {
    "editable": true
   },
   "source": [
    "$$\n",
    "\\xi =6\\pi \\eta a/m\n",
    "$$"
   ]
  },
  {
   "cell_type": "markdown",
   "id": "491da5bd",
   "metadata": {
    "editable": true
   },
   "source": [
    "where $\\eta$ is the viscosity  of the solvent and a is the radius of the particle .\n",
    "\n",
    "Solving the second equation in the previous slide we get"
   ]
  },
  {
   "cell_type": "markdown",
   "id": "8381ad85",
   "metadata": {
    "editable": true
   },
   "source": [
    "$$\n",
    "\\mathbf{v}(t)=\\mathbf{v}_{0}e^{-\\xi t}+\\int_{0}^{t}d\\tau e^{-\\xi (t-\\tau )}\\mathbf{F }(\\tau ).\n",
    "$$"
   ]
  },
  {
   "cell_type": "markdown",
   "id": "2d18d955",
   "metadata": {
    "editable": true
   },
   "source": [
    "If we want to get some useful information out of this, we have to average over all possible realizations of \n",
    "$\\mathbf{F}(t)$, with the initial velocity as a condition. A useful quantity for example is"
   ]
  },
  {
   "cell_type": "markdown",
   "id": "d1dc34b0",
   "metadata": {
    "editable": true
   },
   "source": [
    "$$\n",
    "\\langle \\mathbf{v}(t)\\cdot \\mathbf{v}(t)\\rangle_{\\mathbf{v}_{0}}=v_{0}^{-\\xi 2t}\n",
    "+2\\int_{0}^{t}d\\tau e^{-\\xi (2t-\\tau)}\\mathbf{v}_{0}\\cdot \\langle \\mathbf{F}(\\tau )\\rangle_{\\mathbf{v}_{0}}\n",
    "$$"
   ]
  },
  {
   "cell_type": "markdown",
   "id": "00085846",
   "metadata": {
    "editable": true
   },
   "source": [
    "$$\n",
    "+\\int_{0}^{t}d\\tau ^{\\prime }\\int_{0}^{t}d\\tau e^{-\\xi (2t-\\tau -\\tau ^{\\prime })}\n",
    "\\langle \\mathbf{F}(\\tau )\\cdot \\mathbf{F}(\\tau ^{\\prime })\\rangle_{ \\mathbf{v}_{0}}.\n",
    "$$"
   ]
  },
  {
   "cell_type": "markdown",
   "id": "a54684ed",
   "metadata": {
    "editable": true
   },
   "source": [
    "In order to continue we have to make some assumptions about the conditional averages of the stochastic forces. \n",
    "In view of the chaotic character of the stochastic forces the following \n",
    "assumptions seem to be appropriate"
   ]
  },
  {
   "cell_type": "markdown",
   "id": "147d9965",
   "metadata": {
    "editable": true
   },
   "source": [
    "$$\n",
    "\\langle \\mathbf{F}(t)\\rangle=0,\n",
    "$$"
   ]
  },
  {
   "cell_type": "markdown",
   "id": "1f9b7cc2",
   "metadata": {
    "editable": true
   },
   "source": [
    "and"
   ]
  },
  {
   "cell_type": "markdown",
   "id": "de24a523",
   "metadata": {
    "editable": true
   },
   "source": [
    "$$\n",
    "\\langle \\mathbf{F}(t)\\cdot \\mathbf{F}(t^{\\prime })\\rangle_{\\mathbf{v}_{0}}=  C_{\\mathbf{v}_{0}}\\delta (t-t^{\\prime }).\n",
    "$$"
   ]
  },
  {
   "cell_type": "markdown",
   "id": "7c6e2f31",
   "metadata": {
    "editable": true
   },
   "source": [
    "We omit the subscript $\\mathbf{v}_{0}$, when the quantity of interest turns out to be independent of $\\mathbf{v}_{0}$. Using the last three equations we get"
   ]
  },
  {
   "cell_type": "markdown",
   "id": "7b5c578a",
   "metadata": {
    "editable": true
   },
   "source": [
    "$$\n",
    "\\langle \\mathbf{v}(t)\\cdot \\mathbf{v}(t)\\rangle_{\\mathbf{v}_{0}}=v_{0}^{2}e^{-2\\xi t}+\\frac{C_{\\mathbf{v}_{0}}}{2\\xi }(1-e^{-2\\xi t}).\n",
    "$$"
   ]
  },
  {
   "cell_type": "markdown",
   "id": "1fa38a95",
   "metadata": {
    "editable": true
   },
   "source": [
    "For large t this should be equal to 3kT/m, from which it follows that"
   ]
  },
  {
   "cell_type": "markdown",
   "id": "e4c7aa0b",
   "metadata": {
    "editable": true
   },
   "source": [
    "$$\n",
    "\\langle \\mathbf{F}(t)\\cdot \\mathbf{F}(t^{\\prime })\\rangle =6\\frac{kT}{m}\\xi \\delta (t-t^{\\prime }).\n",
    "$$"
   ]
  },
  {
   "cell_type": "markdown",
   "id": "17fd1aae",
   "metadata": {
    "editable": true
   },
   "source": [
    "This result is called the fluctuation-dissipation theorem .\n",
    "\n",
    "Integrating"
   ]
  },
  {
   "cell_type": "markdown",
   "id": "3bbdcbe3",
   "metadata": {
    "editable": true
   },
   "source": [
    "$$\n",
    "\\mathbf{v}(t)=\\mathbf{v}_{0}e^{-\\xi t}+\\int_{0}^{t}d\\tau e^{-\\xi (t-\\tau )}\\mathbf{F }(\\tau ),\n",
    "$$"
   ]
  },
  {
   "cell_type": "markdown",
   "id": "e75b5058",
   "metadata": {
    "editable": true
   },
   "source": [
    "we get"
   ]
  },
  {
   "cell_type": "markdown",
   "id": "0a937aed",
   "metadata": {
    "editable": true
   },
   "source": [
    "$$\n",
    "\\mathbf{r}(t)=\\mathbf{r}_{0}+\\mathbf{v}_{0}\\frac{1}{\\xi }(1-e^{-\\xi t})+\n",
    "\\int_0^td\\tau \\int_0^{\\tau}\\tau ^{\\prime } e^{-\\xi (\\tau -\\tau ^{\\prime })}\\mathbf{F}(\\tau ^{\\prime }),\n",
    "$$"
   ]
  },
  {
   "cell_type": "markdown",
   "id": "762d33f1",
   "metadata": {
    "editable": true
   },
   "source": [
    "from which we calculate the mean square displacement"
   ]
  },
  {
   "cell_type": "markdown",
   "id": "0bf6b10a",
   "metadata": {
    "editable": true
   },
   "source": [
    "$$\n",
    "\\langle ( \\mathbf{r}(t)-\\mathbf{r}_{0})^{2}\\rangle _{\\mathbf{v}_{0}}=\\frac{v_0^2}{\\xi}(1-e^{-\\xi t})^{2}+\\frac{3kT}{m\\xi ^{2}}(2\\xi t-3+4e^{-\\xi t}-e^{-2\\xi t}).\n",
    "$$"
   ]
  },
  {
   "cell_type": "markdown",
   "id": "91a85cdd",
   "metadata": {
    "editable": true
   },
   "source": [
    "For very large $t$ this becomes"
   ]
  },
  {
   "cell_type": "markdown",
   "id": "b5fd032f",
   "metadata": {
    "editable": true
   },
   "source": [
    "$$\n",
    "\\langle (\\mathbf{r}(t)-\\mathbf{r}_{0})^{2}\\rangle =\\frac{6kT}{m\\xi }t\n",
    "$$"
   ]
  },
  {
   "cell_type": "markdown",
   "id": "b1ab43f6",
   "metadata": {
    "editable": true
   },
   "source": [
    "from which we get the Einstein relation"
   ]
  },
  {
   "cell_type": "markdown",
   "id": "2e91c00d",
   "metadata": {
    "editable": true
   },
   "source": [
    "$$\n",
    "D= \\frac{kT}{m\\xi }\n",
    "$$"
   ]
  },
  {
   "cell_type": "markdown",
   "id": "219a219a",
   "metadata": {
    "editable": true
   },
   "source": [
    "where we have used $\\langle (\\mathbf{r}(t)-\\mathbf{r}_{0})^{2}\\rangle =6Dt$."
   ]
  },
  {
   "cell_type": "markdown",
   "id": "0f73774d",
   "metadata": {
    "editable": true
   },
   "source": [
    "## Code example for two electrons in a quantum dots"
   ]
  },
  {
   "cell_type": "code",
   "execution_count": 5,
   "id": "3d04bdbc",
   "metadata": {
    "collapsed": false,
    "editable": true
   },
   "outputs": [],
   "source": [
    "# 2-electron VMC code for 2dim quantum dot with importance sampling\n",
    "# Using gaussian rng for new positions and Metropolis- Hastings \n",
    "# No energy minimization\n",
    "from math import exp, sqrt\n",
    "from random import random, seed, normalvariate\n",
    "import numpy as np\n",
    "import matplotlib.pyplot as plt\n",
    "from mpl_toolkits.mplot3d import Axes3D\n",
    "from matplotlib import cm\n",
    "from matplotlib.ticker import LinearLocator, FormatStrFormatter\n",
    "import sys\n",
    "from numba import jit,njit\n",
    "\n",
    "\n",
    "#Read name of output file from command line\n",
    "if len(sys.argv) == 2:\n",
    "    outfilename = sys.argv[1]\n",
    "else:\n",
    "    print('\\nError: Name of output file must be given as command line argument.\\n')\n",
    "outfile = open(outfilename,'w')\n",
    "\n",
    "# Trial wave function for the 2-electron quantum dot in two dims\n",
    "def WaveFunction(r,alpha,beta):\n",
    "    r1 = r[0,0]**2 + r[0,1]**2\n",
    "    r2 = r[1,0]**2 + r[1,1]**2\n",
    "    r12 = sqrt((r[0,0]-r[1,0])**2 + (r[0,1]-r[1,1])**2)\n",
    "    deno = r12/(1+beta*r12)\n",
    "    return exp(-0.5*alpha*(r1+r2)+deno)\n",
    "\n",
    "# Local energy  for the 2-electron quantum dot in two dims, using analytical local energy\n",
    "def LocalEnergy(r,alpha,beta):\n",
    "    \n",
    "    r1 = (r[0,0]**2 + r[0,1]**2)\n",
    "    r2 = (r[1,0]**2 + r[1,1]**2)\n",
    "    r12 = sqrt((r[0,0]-r[1,0])**2 + (r[0,1]-r[1,1])**2)\n",
    "    deno = 1.0/(1+beta*r12)\n",
    "    deno2 = deno*deno\n",
    "    return 0.5*(1-alpha*alpha)*(r1 + r2) +2.0*alpha + 1.0/r12+deno2*(alpha*r12-deno2+2*beta*deno-1.0/r12)\n",
    "\n",
    "# Setting up the quantum force for the two-electron quantum dot, recall that it is a vector\n",
    "def QuantumForce(r,alpha,beta):\n",
    "\n",
    "    qforce = np.zeros((NumberParticles,Dimension), np.double)\n",
    "    r12 = sqrt((r[0,0]-r[1,0])**2 + (r[0,1]-r[1,1])**2)\n",
    "    deno = 1.0/(1+beta*r12)\n",
    "    qforce[0,:] = -2*r[0,:]*alpha*(r[0,:]-r[1,:])*deno*deno/r12\n",
    "    qforce[1,:] = -2*r[1,:]*alpha*(r[1,:]-r[0,:])*deno*deno/r12\n",
    "    return qforce\n",
    "    \n",
    "# The Monte Carlo sampling with the Metropolis algo\n",
    "# jit decorator tells Numba to compile this function.\n",
    "# The argument types will be inferred by Numba when function is called.\n",
    "@jit()\n",
    "def MonteCarloSampling():\n",
    "\n",
    "    NumberMCcycles= 100000\n",
    "    # Parameters in the Fokker-Planck simulation of the quantum force\n",
    "    D = 0.5\n",
    "    TimeStep = 0.05\n",
    "    # positions\n",
    "    PositionOld = np.zeros((NumberParticles,Dimension), np.double)\n",
    "    PositionNew = np.zeros((NumberParticles,Dimension), np.double)\n",
    "    # Quantum force\n",
    "    QuantumForceOld = np.zeros((NumberParticles,Dimension), np.double)\n",
    "    QuantumForceNew = np.zeros((NumberParticles,Dimension), np.double)\n",
    "\n",
    "    # seed for rng generator \n",
    "    seed()\n",
    "    # start variational parameter  loops, two parameters here\n",
    "    alpha = 0.9\n",
    "    for ia in range(MaxVariations):\n",
    "        alpha += .025\n",
    "        AlphaValues[ia] = alpha\n",
    "        beta = 0.2 \n",
    "        for jb in range(MaxVariations):\n",
    "            beta += .01\n",
    "            BetaValues[jb] = beta\n",
    "            energy = energy2 = 0.0\n",
    "            DeltaE = 0.0\n",
    "            #Initial position\n",
    "            for i in range(NumberParticles):\n",
    "                for j in range(Dimension):\n",
    "                    PositionOld[i,j] = normalvariate(0.0,1.0)*sqrt(TimeStep)\n",
    "            wfold = WaveFunction(PositionOld,alpha,beta)\n",
    "            QuantumForceOld = QuantumForce(PositionOld,alpha, beta)\n",
    "\n",
    "            #Loop over MC MCcycles\n",
    "            for MCcycle in range(NumberMCcycles):\n",
    "                #Trial position moving one particle at the time\n",
    "                for i in range(NumberParticles):\n",
    "                    for j in range(Dimension):\n",
    "                        PositionNew[i,j] = PositionOld[i,j]+normalvariate(0.0,1.0)*sqrt(TimeStep)+\\\n",
    "                                           QuantumForceOld[i,j]*TimeStep*D\n",
    "                    wfnew = WaveFunction(PositionNew,alpha,beta)\n",
    "                    QuantumForceNew = QuantumForce(PositionNew,alpha, beta)\n",
    "                    GreensFunction = 0.0\n",
    "                    for j in range(Dimension):\n",
    "                        GreensFunction += 0.5*(QuantumForceOld[i,j]+QuantumForceNew[i,j])*\\\n",
    "\t                              (D*TimeStep*0.5*(QuantumForceOld[i,j]-QuantumForceNew[i,j])-\\\n",
    "                                      PositionNew[i,j]+PositionOld[i,j])\n",
    "      \n",
    "                    GreensFunction = exp(GreensFunction)\n",
    "                    ProbabilityRatio = GreensFunction*wfnew**2/wfold**2\n",
    "                    #Metropolis-Hastings test to see whether we accept the move\n",
    "                    if random() <= ProbabilityRatio:\n",
    "                       for j in range(Dimension):\n",
    "                           PositionOld[i,j] = PositionNew[i,j]\n",
    "                           QuantumForceOld[i,j] = QuantumForceNew[i,j]\n",
    "                       wfold = wfnew\n",
    "                DeltaE = LocalEnergy(PositionOld,alpha,beta)\n",
    "                energy += DeltaE\n",
    "                energy2 += DeltaE**2\n",
    "            # We calculate mean, variance and error (no blocking applied)\n",
    "            energy /= NumberMCcycles\n",
    "            energy2 /= NumberMCcycles\n",
    "            variance = energy2 - energy**2\n",
    "            error = sqrt(variance/NumberMCcycles)\n",
    "            Energies[ia,jb] = energy    \n",
    "            outfile.write('%f %f %f %f %f\\n' %(alpha,beta,energy,variance,error))\n",
    "    return Energies, AlphaValues, BetaValues\n",
    "\n",
    "\n",
    "#Here starts the main program with variable declarations\n",
    "NumberParticles = 2\n",
    "Dimension = 2\n",
    "MaxVariations = 10\n",
    "Energies = np.zeros((MaxVariations,MaxVariations))\n",
    "AlphaValues = np.zeros(MaxVariations)\n",
    "BetaValues = np.zeros(MaxVariations)\n",
    "(Energies, AlphaValues, BetaValues) = MonteCarloSampling()\n",
    "outfile.close()\n",
    "# Prepare for plots\n",
    "fig = plt.figure()\n",
    "ax = fig.gca(projection='3d')\n",
    "# Plot the surface.\n",
    "X, Y = np.meshgrid(AlphaValues, BetaValues)\n",
    "surf = ax.plot_surface(X, Y, Energies,cmap=cm.coolwarm,linewidth=0, antialiased=False)\n",
    "# Customize the z axis.\n",
    "zmin = np.matrix(Energies).min()\n",
    "zmax = np.matrix(Energies).max()\n",
    "ax.set_zlim(zmin, zmax)\n",
    "ax.set_xlabel(r'$\\alpha$')\n",
    "ax.set_ylabel(r'$\\beta$')\n",
    "ax.set_zlabel(r'$\\langle E \\rangle$')\n",
    "ax.zaxis.set_major_locator(LinearLocator(10))\n",
    "ax.zaxis.set_major_formatter(FormatStrFormatter('%.02f'))\n",
    "# Add a color bar which maps values to colors.\n",
    "fig.colorbar(surf, shrink=0.5, aspect=5)\n",
    "plt.show()"
   ]
  },
  {
   "cell_type": "markdown",
   "id": "152f4dd4",
   "metadata": {
    "editable": true
   },
   "source": [
    "### Bringing the gradient optmization\n",
    "\n",
    "The simple one-particle case in a harmonic oscillator trap"
   ]
  },
  {
   "cell_type": "code",
   "execution_count": 6,
   "id": "ed1fd159",
   "metadata": {
    "collapsed": false,
    "editable": true
   },
   "outputs": [],
   "source": [
    "# Gradient descent stepping with analytical derivative\n",
    "import numpy as np\n",
    "from scipy.optimize import minimize\n",
    "def DerivativeE(x):\n",
    "    return x-1.0/(4*x*x*x);\n",
    "\n",
    "def Energy(x):\n",
    "   return x*x*0.5+1.0/(8*x*x);\n",
    "x0 = 1.0\n",
    "eta = 0.1\n",
    "Niterations = 100\n",
    "\n",
    "for iter in range(Niterations):\n",
    "    gradients = DerivativeE(x0)\n",
    "    x0 -= eta*gradients\n",
    "\n",
    "print(x0)"
   ]
  },
  {
   "cell_type": "code",
   "execution_count": 7,
   "id": "1aca503b",
   "metadata": {
    "collapsed": false,
    "editable": true
   },
   "outputs": [],
   "source": [
    "# 2-electron VMC code for 2dim quantum dot with importance sampling\n",
    "# Using gaussian rng for new positions and Metropolis- Hastings \n",
    "from math import exp, sqrt\n",
    "from random import random, seed, normalvariate\n",
    "import numpy as np\n",
    "import matplotlib.pyplot as plt\n",
    "from mpl_toolkits.mplot3d import Axes3D\n",
    "from matplotlib import cm\n",
    "from matplotlib.ticker import LinearLocator, FormatStrFormatter\n",
    "import sys\n",
    "from numba import jit\n",
    "\n",
    "\n",
    "# Trial wave function for the 2-electron quantum dot in two dims\n",
    "def WaveFunction(r,alpha):\n",
    "    r1 = r[0,0]**2 + r[0,1]**2\n",
    "    r2 = r[1,0]**2 + r[1,1]**2\n",
    "    return exp(-0.5*alpha*(r1+r2))\n",
    "\n",
    "# Local energy  for the 2-electron quantum dot in two dims, using analytical local energy\n",
    "def LocalEnergy(r,alpha):\n",
    "    \n",
    "    r1 = (r[0,0]**2 + r[0,1]**2)\n",
    "    r2 = (r[1,0]**2 + r[1,1]**2)\n",
    "    return 0.5*(1-alpha*alpha)*(r1 + r2) +2.0*alpha\n",
    "\n",
    "# Derivate of wave function ansatz as function of variational parameters\n",
    "def DerivativeWFansatz(r,alpha):\n",
    "    \n",
    "    r1 = (r[0,0]**2 + r[0,1]**2)\n",
    "    r2 = (r[1,0]**2 + r[1,1]**2)\n",
    "    WfDer = -(r1+r2)\n",
    "    return  WfDer\n",
    "\n",
    "# Setting up the quantum force for the two-electron quantum dot, recall that it is a vector\n",
    "def QuantumForce(r,alpha):\n",
    "\n",
    "    qforce = np.zeros((NumberParticles,Dimension), np.double)\n",
    "    qforce[0,:] = -2*r[0,:]*alpha\n",
    "    qforce[1,:] = -2*r[1,:]*alpha\n",
    "    return qforce\n",
    "    \n",
    "# Computing the derivative of the energy and the energy \n",
    "# jit decorator tells Numba to compile this function.\n",
    "# The argument types will be inferred by Numba when function is called.\n",
    "@jit\n",
    "def EnergyMinimization(alpha):\n",
    "\n",
    "    NumberMCcycles= 1000\n",
    "    # Parameters in the Fokker-Planck simulation of the quantum force\n",
    "    D = 0.5\n",
    "    TimeStep = 0.05\n",
    "    # positions\n",
    "    PositionOld = np.zeros((NumberParticles,Dimension), np.double)\n",
    "    PositionNew = np.zeros((NumberParticles,Dimension), np.double)\n",
    "    # Quantum force\n",
    "    QuantumForceOld = np.zeros((NumberParticles,Dimension), np.double)\n",
    "    QuantumForceNew = np.zeros((NumberParticles,Dimension), np.double)\n",
    "\n",
    "    # seed for rng generator \n",
    "    seed()\n",
    "    energy = 0.0\n",
    "    DeltaE = 0.0\n",
    "    EnergyDer = 0.0\n",
    "    DeltaPsi = 0.0\n",
    "    DerivativePsiE = 0.0\n",
    "    #Initial position\n",
    "    for i in range(NumberParticles):\n",
    "        for j in range(Dimension):\n",
    "            PositionOld[i,j] = normalvariate(0.0,1.0)*sqrt(TimeStep)\n",
    "    wfold = WaveFunction(PositionOld,alpha)\n",
    "    QuantumForceOld = QuantumForce(PositionOld,alpha)\n",
    "\n",
    "    #Loop over MC MCcycles\n",
    "    for MCcycle in range(NumberMCcycles):\n",
    "        #Trial position moving one particle at the time\n",
    "        for i in range(NumberParticles):\n",
    "            for j in range(Dimension):\n",
    "                PositionNew[i,j] = PositionOld[i,j]+normalvariate(0.0,1.0)*sqrt(TimeStep)+\\\n",
    "                                       QuantumForceOld[i,j]*TimeStep*D\n",
    "            wfnew = WaveFunction(PositionNew,alpha)\n",
    "            QuantumForceNew = QuantumForce(PositionNew,alpha)\n",
    "            GreensFunction = 0.0\n",
    "            for j in range(Dimension):\n",
    "                GreensFunction += 0.5*(QuantumForceOld[i,j]+QuantumForceNew[i,j])*\\\n",
    "\t                              (D*TimeStep*0.5*(QuantumForceOld[i,j]-QuantumForceNew[i,j])-\\\n",
    "                                      PositionNew[i,j]+PositionOld[i,j])\n",
    "      \n",
    "            GreensFunction = exp(GreensFunction)\n",
    "            ProbabilityRatio = GreensFunction*wfnew**2/wfold**2\n",
    "            #Metropolis-Hastings test to see whether we accept the move\n",
    "            if random() <= ProbabilityRatio:\n",
    "                for j in range(Dimension):\n",
    "                    PositionOld[i,j] = PositionNew[i,j]\n",
    "                    QuantumForceOld[i,j] = QuantumForceNew[i,j]\n",
    "                wfold = wfnew\n",
    "        DeltaE = LocalEnergy(PositionOld,alpha)\n",
    "        DeltaPsi = DerivativeWFansatz(PositionOld,alpha)\n",
    "        energy += DeltaE\n",
    "        DerivativePsiE += DeltaPsi*DeltaE\n",
    "            \n",
    "    # We calculate mean, variance and error (no blocking applied)\n",
    "    energy /= NumberMCcycles\n",
    "    DerivativePsiE /= NumberMCcycles\n",
    "    DeltaPsi /= NumberMCcycles\n",
    "    EnergyDer  = 2*(DerivativePsiE-DeltaPsi*energy)\n",
    "    return energy, EnergyDer\n",
    "\n",
    "\n",
    "#Here starts the main program with variable declarations\n",
    "NumberParticles = 2\n",
    "Dimension = 2\n",
    "# guess for variational parameters\n",
    "x0 = 1.5\n",
    "# Set up iteration using stochastic gradient method\n",
    "Energy =0 ; EnergyDer = 0\n",
    "Energy, EnergyDer = EnergyMinimization(x0)\n",
    "print(Energy, EnergyDer)\n",
    "\n",
    "eta = 0.01\n",
    "Niterations = 100\n",
    "\n",
    "for iter in range(Niterations):\n",
    "    gradients = EnergyDer\n",
    "    x0 -= eta*gradients\n",
    "    Energy, EnergyDer = EnergyMinimization(x0)\n",
    "\n",
    "print(x0)"
   ]
  },
  {
   "cell_type": "markdown",
   "id": "845df78d",
   "metadata": {
    "editable": true
   },
   "source": [
    "## VMC for fermions: Efficient calculation of Slater determinants\n",
    "The potentially most time-consuming part is the\n",
    "evaluation of the gradient and the Laplacian of an $N$-particle  Slater\n",
    "determinant. \n",
    "\n",
    "We have to differentiate the determinant with respect to\n",
    "all spatial coordinates of all particles. A brute force\n",
    "differentiation would involve $N\\cdot d$ evaluations of the entire\n",
    "determinant which would even worsen the already undesirable time\n",
    "scaling, making it $Nd\\cdot O(N^3)\\sim O(d\\cdot N^4)$.\n",
    "\n",
    "This poses serious hindrances to the overall efficiency of our code.\n",
    "\n",
    "The efficiency can be improved however if we move only one electron at the time.\n",
    "The Slater determinant matrix $\\hat{D}$ is defined by the matrix elements"
   ]
  },
  {
   "cell_type": "markdown",
   "id": "9fdb46d7",
   "metadata": {
    "editable": true
   },
   "source": [
    "$$\n",
    "d_{ij}=\\phi_j(x_i)\n",
    "$$"
   ]
  },
  {
   "cell_type": "markdown",
   "id": "171d0164",
   "metadata": {
    "editable": true
   },
   "source": [
    "where $\\phi_j(\\mathbf{r}_i)$ is a single particle  wave function.\n",
    "The columns correspond to the position of a given particle \n",
    "while the rows stand for the various quantum numbers.\n",
    "\n",
    "What we need to realize is that when differentiating a Slater\n",
    "determinant with respect to some given coordinate, only one row of the\n",
    "corresponding Slater matrix is changed. \n",
    "\n",
    "Therefore, by recalculating\n",
    "the whole determinant we risk producing redundant information. The\n",
    "solution turns out to be an algorithm that requires to keep track of\n",
    "the *inverse* of the Slater matrix.\n",
    "\n",
    "Let the current position in phase space be represented by the $(N\\cdot d)$-element \n",
    "vector $\\mathbf{r}^{\\mathrm{old}}$ and the new suggested\n",
    "position by the vector $\\mathbf{r}^{\\mathrm{new}}$.\n",
    "\n",
    "The inverse of $\\hat{D}$ can be expressed in terms of its\n",
    "cofactors $C_{ij}$ and its determinant (this our notation for a determinant) $\\vert\\hat{D}\\vert$:"
   ]
  },
  {
   "cell_type": "markdown",
   "id": "e5114fd4",
   "metadata": {
    "editable": true
   },
   "source": [
    "<!-- Equation labels as ordinary links -->\n",
    "<div id=\"eq:inverse_cofactor\"></div>\n",
    "\n",
    "$$\n",
    "\\begin{equation}\n",
    "d_{ij}^{-1} = \\frac{C_{ji}}{\\vert\\hat{D}\\vert}\n",
    "\\label{eq:inverse_cofactor} \\tag{12}\n",
    "\\end{equation}\n",
    "$$"
   ]
  },
  {
   "cell_type": "markdown",
   "id": "9f573e44",
   "metadata": {
    "editable": true
   },
   "source": [
    "Notice that the interchanged indices indicate that the matrix of cofactors is to be transposed.\n",
    "\n",
    "If $\\hat{D}$ is invertible, then we must obviously have $\\hat{D}^{-1}\\hat{D}= \\mathbf{1}$, or explicitly in terms of the individual\n",
    "elements of $\\hat{D}$ and $\\hat{D}^{-1}$:"
   ]
  },
  {
   "cell_type": "markdown",
   "id": "a043a729",
   "metadata": {
    "editable": true
   },
   "source": [
    "<!-- Equation labels as ordinary links -->\n",
    "<div id=\"eq:unity_explicitely\"></div>\n",
    "\n",
    "$$\n",
    "\\begin{equation}\n",
    "\\sum_{k=1}^N d_{ik}^{\\phantom X}d_{kj}^{-1} = \\delta_{ij}^{\\phantom X}\n",
    "\\label{eq:unity_explicitely} \\tag{13}\n",
    "\\end{equation}\n",
    "$$"
   ]
  },
  {
   "cell_type": "markdown",
   "id": "98472d49",
   "metadata": {
    "editable": true
   },
   "source": [
    "Consider the ratio, which we shall call $R$, between $\\vert\\hat{D}(\\mathbf{r}^{\\mathrm{new}})\\vert$ and $\\vert\\hat{D}(\\mathbf{r}^{\\mathrm{old}})\\vert$. \n",
    "By definition, each of these determinants can\n",
    "individually be expressed in terms of the *i*-th row of its cofactor\n",
    "matrix"
   ]
  },
  {
   "cell_type": "markdown",
   "id": "165c3cbb",
   "metadata": {
    "editable": true
   },
   "source": [
    "<!-- Equation labels as ordinary links -->\n",
    "<div id=\"eq:detratio_cofactors\"></div>\n",
    "\n",
    "$$\n",
    "\\begin{equation}\n",
    "R\\equiv\\frac{\\vert\\hat{D}(\\mathbf{r}^{\\mathrm{new}})\\vert}\n",
    "{\\vert\\hat{D}(\\mathbf{r}^{\\mathrm{old}})\\vert} =\n",
    "\\frac{\\sum_{j=1}^N d_{ij}(\\mathbf{r}^{\\mathrm{new}})\\,\n",
    "C_{ij}(\\mathbf{r}^{\\mathrm{new}})}\n",
    "{\\sum_{j=1}^N d_{ij}(\\mathbf{r}^{\\mathrm{old}})\\,\n",
    "C_{ij}(\\mathbf{r}^{\\mathrm{old}})}\n",
    "\\label{eq:detratio_cofactors} \\tag{14}\n",
    "\\end{equation}\n",
    "$$"
   ]
  },
  {
   "cell_type": "markdown",
   "id": "3015700b",
   "metadata": {
    "editable": true
   },
   "source": [
    "Suppose now that we move only one particle  at a time, meaning that\n",
    "$\\mathbf{r}^{\\mathrm{new}}$ differs from $\\mathbf{r}^{\\mathrm{old}}$ by the\n",
    "position of only one, say the *i*-th, particle . This means that $\\hat{D}(\\mathbf{r}^{\\mathrm{new}})$ and $\\hat{D}(\\mathbf{r}^{\\mathrm{old}})$ differ\n",
    "only by the entries of the *i*-th row.  Recall also that the *i*-th row\n",
    "of a cofactor matrix $\\hat{C}$ is independent of the entries of the\n",
    "*i*-th row of its corresponding matrix $\\hat{D}$. In this particular\n",
    "case we therefore get that the *i*-th row of $\\hat{C}(\\mathbf{r}^{\\mathrm{new}})$ \n",
    "and $\\hat{C}(\\mathbf{r}^{\\mathrm{old}})$ must be\n",
    "equal. Explicitly, we have:"
   ]
  },
  {
   "cell_type": "markdown",
   "id": "5c72c583",
   "metadata": {
    "editable": true
   },
   "source": [
    "<!-- Equation labels as ordinary links -->\n",
    "<div id=\"_auto5\"></div>\n",
    "\n",
    "$$\n",
    "\\begin{equation}\n",
    "C_{ij}(\\mathbf{r}^{\\mathrm{new}}) = C_{ij}(\\mathbf{r}^{\\mathrm{old}})\\quad\n",
    "\\forall\\ j\\in\\{1,\\dots,N\\}\n",
    "\\label{_auto5} \\tag{15}\n",
    "\\end{equation}\n",
    "$$"
   ]
  },
  {
   "cell_type": "markdown",
   "id": "2ce5b130",
   "metadata": {
    "editable": true
   },
   "source": [
    "Inserting this into the numerator of eq. ([14](#eq:detratio_cofactors))\n",
    "and using eq. ([12](#eq:inverse_cofactor)) to substitute the cofactors\n",
    "with the elements of the inverse matrix, we get:"
   ]
  },
  {
   "cell_type": "markdown",
   "id": "1fc11625",
   "metadata": {
    "editable": true
   },
   "source": [
    "<!-- Equation labels as ordinary links -->\n",
    "<div id=\"_auto6\"></div>\n",
    "\n",
    "$$\n",
    "\\begin{equation}\n",
    "R =\\frac{\\sum_{j=1}^N d_{ij}(\\mathbf{r}^{\\mathrm{new}})\\,\n",
    "C_{ij}(\\mathbf{r}^{\\mathrm{old}})}\n",
    "{\\sum_{j=1}^N d_{ij}(\\mathbf{r}^{\\mathrm{old}})\\,\n",
    "C_{ij}(\\mathbf{r}^{\\mathrm{old}})} =\n",
    "\\frac{\\sum_{j=1}^N d_{ij}(\\mathbf{r}^{\\mathrm{new}})\\,\n",
    "d_{ji}^{-1}(\\mathbf{r}^{\\mathrm{old}})}\n",
    "{\\sum_{j=1}^N d_{ij}(\\mathbf{r}^{\\mathrm{old}})\\,\n",
    "d_{ji}^{-1}(\\mathbf{r}^{\\mathrm{old}})}\n",
    "\\label{_auto6} \\tag{16}\n",
    "\\end{equation}\n",
    "$$"
   ]
  },
  {
   "cell_type": "markdown",
   "id": "665a0a63",
   "metadata": {
    "editable": true
   },
   "source": [
    "Now by eq. ([13](#eq:unity_explicitely)) the denominator of the rightmost\n",
    "expression must be unity, so that we finally arrive at:"
   ]
  },
  {
   "cell_type": "markdown",
   "id": "36be07e6",
   "metadata": {
    "editable": true
   },
   "source": [
    "<!-- Equation labels as ordinary links -->\n",
    "<div id=\"eq:detratio_inverse\"></div>\n",
    "\n",
    "$$\n",
    "\\begin{equation}\n",
    "R =\n",
    "\\sum_{j=1}^N d_{ij}(\\mathbf{r}^{\\mathrm{new}})\\,\n",
    "d_{ji}^{-1}(\\mathbf{r}^{\\mathrm{old}}) = \n",
    "\\sum_{j=1}^N \\phi_j(\\mathbf{r}_i^{\\mathrm{new}})\\,\n",
    "d_{ji}^{-1}(\\mathbf{r}^{\\mathrm{old}})\n",
    "\\label{eq:detratio_inverse} \\tag{17}\n",
    "\\end{equation}\n",
    "$$"
   ]
  },
  {
   "cell_type": "markdown",
   "id": "5eb5e00a",
   "metadata": {
    "editable": true
   },
   "source": [
    "What this means is that in order to get the ratio when only the *i*-th\n",
    "particle  has been moved, we only need to calculate the dot\n",
    "product of the vector $\\left(\\phi_1(\\mathbf{r}_i^\\mathrm{new}),\\,\\dots,\\,\\phi_N(\\mathbf{r}_i^\\mathrm{new})\\right)$ of single particle  wave functions\n",
    "evaluated at this new position with the *i*-th column of the inverse\n",
    "matrix $\\hat{D}^{-1}$ evaluated at the original position. Such\n",
    "an operation has a time scaling of $O(N)$. The only extra thing we\n",
    "need to do is to maintain the inverse matrix $\\hat{D}^{-1}(\\mathbf{x}^{\\mathrm{old}})$.\n",
    "\n",
    "If the new position $\\mathbf{r}^{\\mathrm{new}}$ is accepted, then the\n",
    "inverse matrix can by suitably updated by an algorithm having a time\n",
    "scaling of $O(N^2)$.  This algorithm goes as\n",
    "follows. First we update all but the *i*-th column of $\\hat{D}^{-1}$. For each column $j\\neq i$, we first calculate the quantity:"
   ]
  },
  {
   "cell_type": "markdown",
   "id": "5e0993b0",
   "metadata": {
    "editable": true
   },
   "source": [
    "<!-- Equation labels as ordinary links -->\n",
    "<div id=\"eq:inverse_update_1\"></div>\n",
    "\n",
    "$$\n",
    "\\begin{equation}\n",
    "S_j =\n",
    "(\\hat{D}(\\mathbf{r}^{\\mathrm{new}})\\times\n",
    "\\hat{D}^{-1}(\\mathbf{r}^{\\mathrm{old}}))_{ij} =\n",
    "\\sum_{l=1}^N d_{il}(\\mathbf{r}^{\\mathrm{new}})\\,\n",
    "d^{-1}_{lj}(\\mathbf{r}^{\\mathrm{old}})\n",
    "\\label{eq:inverse_update_1} \\tag{18}\n",
    "\\end{equation}\n",
    "$$"
   ]
  },
  {
   "cell_type": "markdown",
   "id": "5472e6e2",
   "metadata": {
    "editable": true
   },
   "source": [
    "The new elements of the *j*-th column of $\\hat{D}^{-1}$ are then given\n",
    "by:"
   ]
  },
  {
   "cell_type": "markdown",
   "id": "740c5a8f",
   "metadata": {
    "editable": true
   },
   "source": [
    "<!-- Equation labels as ordinary links -->\n",
    "<div id=\"eq:inverse_update_2\"></div>\n",
    "\n",
    "$$\n",
    "\\begin{equation}\n",
    "d_{kj}^{-1}(\\mathbf{r}^{\\mathrm{new}}) =\n",
    "d_{kj}^{-1}(\\mathbf{r}^{\\mathrm{old}}) -\n",
    "\\frac{S_j}{R}\\,d_{ki}^{-1}(\\mathbf{r}^{\\mathrm{old}})\\quad\n",
    "\\begin{array}{ll}\n",
    "\\forall\\ \\ k\\in\\{1,\\dots,N\\}\\\\j\\neq i\n",
    "\\end{array}\n",
    "\\label{eq:inverse_update_2} \\tag{19}\n",
    "\\end{equation}\n",
    "$$"
   ]
  },
  {
   "cell_type": "markdown",
   "id": "fb456391",
   "metadata": {
    "editable": true
   },
   "source": [
    "Finally the elements of the *i*-th column of $\\hat{D}^{-1}$ are updated\n",
    "simply as follows:"
   ]
  },
  {
   "cell_type": "markdown",
   "id": "0454fb66",
   "metadata": {
    "editable": true
   },
   "source": [
    "<!-- Equation labels as ordinary links -->\n",
    "<div id=\"eq:inverse_update_3\"></div>\n",
    "\n",
    "$$\n",
    "\\begin{equation}\n",
    "d_{ki}^{-1}(\\mathbf{r}^{\\mathrm{new}}) =\n",
    "\\frac{1}{R}\\,d_{ki}^{-1}(\\mathbf{r}^{\\mathrm{old}})\\quad\n",
    "\\forall\\ \\ k\\in\\{1,\\dots,N\\}\n",
    "\\label{eq:inverse_update_3} \\tag{20}\n",
    "\\end{equation}\n",
    "$$"
   ]
  },
  {
   "cell_type": "markdown",
   "id": "48ebe8ff",
   "metadata": {
    "editable": true
   },
   "source": [
    "We see from these formulas that the time scaling of an update of\n",
    "$\\hat{D}^{-1}$ after changing one row of $\\hat{D}$ is $O(N^2)$.\n",
    "\n",
    "The scheme is also applicable for the calculation of the ratios\n",
    "involving derivatives. It turns\n",
    "out that differentiating the Slater determinant with respect\n",
    "to the coordinates of a single particle  $\\mathbf{r}_i$ changes only the\n",
    "*i*-th row of the corresponding Slater matrix."
   ]
  },
  {
   "cell_type": "markdown",
   "id": "170d938d",
   "metadata": {
    "editable": true
   },
   "source": [
    "### The gradient and the Laplacian\n",
    "\n",
    "The gradient and the Laplacian can therefore be calculated as follows:"
   ]
  },
  {
   "cell_type": "markdown",
   "id": "9b0ad5b6",
   "metadata": {
    "editable": true
   },
   "source": [
    "$$\n",
    "\\frac{\\vec\\nabla_i\\vert\\hat{D}(\\mathbf{r})\\vert}{\\vert\\hat{D}(\\mathbf{r})\\vert} =\n",
    "\\sum_{j=1}^N \\vec\\nabla_i d_{ij}(\\mathbf{r})d_{ji}^{-1}(\\mathbf{r}) =\n",
    "\\sum_{j=1}^N \\vec\\nabla_i \\phi_j(\\mathbf{r}_i)d_{ji}^{-1}(\\mathbf{r})\n",
    "$$"
   ]
  },
  {
   "cell_type": "markdown",
   "id": "53cd40c5",
   "metadata": {
    "editable": true
   },
   "source": [
    "and"
   ]
  },
  {
   "cell_type": "markdown",
   "id": "3eba4806",
   "metadata": {
    "editable": true
   },
   "source": [
    "$$\n",
    "\\frac{\\nabla^2_i\\vert\\hat{D}(\\mathbf{r})\\vert}{\\vert\\hat{D}(\\mathbf{r})\\vert} =\n",
    "\\sum_{j=1}^N \\nabla^2_i d_{ij}(\\mathbf{r})d_{ji}^{-1}(\\mathbf{r}) =\n",
    "\\sum_{j=1}^N \\nabla^2_i \\phi_j(\\mathbf{r}_i)\\,d_{ji}^{-1}(\\mathbf{r})\n",
    "$$"
   ]
  },
  {
   "cell_type": "markdown",
   "id": "0727fc42",
   "metadata": {
    "editable": true
   },
   "source": [
    "Thus, to calculate all the derivatives of the Slater determinant, we\n",
    "only need the derivatives of the single particle  wave functions\n",
    "($\\vec\\nabla_i \\phi_j(\\mathbf{r}_i)$ and $\\nabla^2_i \\phi_j(\\mathbf{r}_i)$)\n",
    "and the elements of the corresponding inverse Slater matrix ($\\hat{D}^{-1}(\\mathbf{r}_i)$). A calculation of a single derivative is by the\n",
    "above result an $O(N)$ operation. Since there are $d\\cdot N$\n",
    "derivatives, the time scaling of the total evaluation becomes\n",
    "$O(d\\cdot N^2)$. With an $O(N^2)$ updating algorithm for the\n",
    "inverse matrix, the total scaling is no worse, which is far better\n",
    "than the brute force approach yielding $O(d\\cdot N^4)$.\n",
    "\n",
    "**Important note**: In most cases you end with closed form expressions for the single-particle  wave functions. It is then useful to calculate the various derivatives and make separate functions\n",
    "for them.\n",
    "\n",
    "The Slater determinant takes the form"
   ]
  },
  {
   "cell_type": "markdown",
   "id": "7de9f696",
   "metadata": {
    "editable": true
   },
   "source": [
    "$$\n",
    "\\Phi(\\mathbf{r}_1,\\mathbf{r}_2,,\\mathbf{r}_3,\\mathbf{r}_4, \\alpha,\\beta,\\gamma,\\delta)=\\frac{1}{\\sqrt{4!}}\n",
    "\\left| \\begin{array}{cccc} \\psi_{100\\uparrow}(\\mathbf{r}_1)& \\psi_{100\\uparrow}(\\mathbf{r}_2)& \\psi_{100\\uparrow}(\\mathbf{r}_3)&\\psi_{100\\uparrow}(\\mathbf{r}_4) \\\\\n",
    "\\psi_{100\\downarrow}(\\mathbf{r}_1)& \\psi_{100\\downarrow}(\\mathbf{r}_2)& \\psi_{100\\downarrow}(\\mathbf{r}_3)&\\psi_{100\\downarrow}(\\mathbf{r}_4) \\\\\n",
    "\\psi_{200\\uparrow}(\\mathbf{r}_1)& \\psi_{200\\uparrow}(\\mathbf{r}_2)& \\psi_{200\\uparrow}(\\mathbf{r}_3)&\\psi_{200\\uparrow}(\\mathbf{r}_4) \\\\\n",
    "\\psi_{200\\downarrow}(\\mathbf{r}_1)& \\psi_{200\\downarrow}(\\mathbf{r}_2)& \\psi_{200\\downarrow}(\\mathbf{r}_3)&\\psi_{200\\downarrow}(\\mathbf{r}_4) \\end{array} \\right|.\n",
    "$$"
   ]
  },
  {
   "cell_type": "markdown",
   "id": "b2eb8bb7",
   "metadata": {
    "editable": true
   },
   "source": [
    "The Slater determinant as written is zero since the spatial wave functions for the spin up and spin down \n",
    "states are equal.  \n",
    "But we can rewrite it as the product of two Slater determinants, one for spin up and one for spin down.\n",
    "\n",
    "We can rewrite it as"
   ]
  },
  {
   "cell_type": "markdown",
   "id": "5dae31de",
   "metadata": {
    "editable": true
   },
   "source": [
    "$$\n",
    "\\Phi(\\mathbf{r}_1,\\mathbf{r}_2,,\\mathbf{r}_3,\\mathbf{r}_4, \\alpha,\\beta,\\gamma,\\delta)=\\det\\uparrow(1,2)\\det\\downarrow(3,4)-\\det\\uparrow(1,3)\\det\\downarrow(2,4)\n",
    "$$"
   ]
  },
  {
   "cell_type": "markdown",
   "id": "1ef57f65",
   "metadata": {
    "editable": true
   },
   "source": [
    "$$\n",
    "-\\det\\uparrow(1,4)\\det\\downarrow(3,2)+\\det\\uparrow(2,3)\\det\\downarrow(1,4)-\\det\\uparrow(2,4)\\det\\downarrow(1,3)\n",
    "$$"
   ]
  },
  {
   "cell_type": "markdown",
   "id": "874d262f",
   "metadata": {
    "editable": true
   },
   "source": [
    "$$\n",
    "+\\det\\uparrow(3,4)\\det\\downarrow(1,2),\n",
    "$$"
   ]
  },
  {
   "cell_type": "markdown",
   "id": "40e5012a",
   "metadata": {
    "editable": true
   },
   "source": [
    "where we have defined"
   ]
  },
  {
   "cell_type": "markdown",
   "id": "423b6baf",
   "metadata": {
    "editable": true
   },
   "source": [
    "$$\n",
    "\\det\\uparrow(1,2)=\\frac{1}{\\sqrt{2}}\\left| \\begin{array}{cc} \\psi_{100\\uparrow}(\\mathbf{r}_1)& \\psi_{100\\uparrow}(\\mathbf{r}_2)\\\\\n",
    "\\psi_{200\\uparrow}(\\mathbf{r}_1)& \\psi_{200\\uparrow}(\\mathbf{r}_2) \\end{array} \\right|,\n",
    "$$"
   ]
  },
  {
   "cell_type": "markdown",
   "id": "f5482dae",
   "metadata": {
    "editable": true
   },
   "source": [
    "and"
   ]
  },
  {
   "cell_type": "markdown",
   "id": "10d0d7b5",
   "metadata": {
    "editable": true
   },
   "source": [
    "$$\n",
    "\\det\\downarrow(3,4)=\\frac{1}{\\sqrt{2}}\\left| \\begin{array}{cc} \\psi_{100\\downarrow}(\\mathbf{r}_3)& \\psi_{100\\downarrow}(\\mathbf{r}_4)\\\\\n",
    "\\psi_{200\\downarrow}(\\mathbf{r}_3)& \\psi_{200\\downarrow}(\\mathbf{r}_4) \\end{array} \\right|.\n",
    "$$"
   ]
  },
  {
   "cell_type": "markdown",
   "id": "09c2cf86",
   "metadata": {
    "editable": true
   },
   "source": [
    "We want to avoid to sum over spin variables, in particular when the interaction does not depend on spin.\n",
    "\n",
    "It can be shown, see for example Moskowitz and Kalos, [Int. J. Quantum Chem. **20** 1107 (1981)](http://onlinelibrary.wiley.com/doi/10.1002/qua.560200508/abstract), that for the variational energy\n",
    "we can approximate the Slater determinant as"
   ]
  },
  {
   "cell_type": "markdown",
   "id": "dd73c70b",
   "metadata": {
    "editable": true
   },
   "source": [
    "$$\n",
    "\\Phi(\\mathbf{r}_1,\\mathbf{r}_2,,\\mathbf{r}_3,\\mathbf{r}_4, \\alpha,\\beta,\\gamma,\\delta) \\propto \\det\\uparrow(1,2)\\det\\downarrow(3,4),\n",
    "$$"
   ]
  },
  {
   "cell_type": "markdown",
   "id": "5a867ffb",
   "metadata": {
    "editable": true
   },
   "source": [
    "or more generally as"
   ]
  },
  {
   "cell_type": "markdown",
   "id": "10c86b24",
   "metadata": {
    "editable": true
   },
   "source": [
    "$$\n",
    "\\Phi(\\mathbf{r}_1,\\mathbf{r}_2,\\dots \\mathbf{r}_N) \\propto \\det\\uparrow \\det\\downarrow,\n",
    "$$"
   ]
  },
  {
   "cell_type": "markdown",
   "id": "da12eba7",
   "metadata": {
    "editable": true
   },
   "source": [
    "where we have the Slater determinant as the product of a spin up part involving the number of electrons with spin up only (2 for beryllium and 5 for neon) and a spin down part involving the electrons with spin down.\n",
    "\n",
    "This ansatz is not antisymmetric under the exchange of electrons with  opposite spins but it can be shown (show this) that it gives the same\n",
    "expectation value for the energy as the full Slater determinant.\n",
    "\n",
    "As long as the Hamiltonian is spin independent, the above is correct. It is rather straightforward to see this if you go back to the equations for the energy discussed earlier  this semester.\n",
    "\n",
    "We will thus\n",
    "factorize the full determinant $\\vert\\hat{D}\\vert$ into two smaller ones, where \n",
    "each can be identified with $\\uparrow$ and $\\downarrow$\n",
    "respectively:"
   ]
  },
  {
   "cell_type": "markdown",
   "id": "02804512",
   "metadata": {
    "editable": true
   },
   "source": [
    "$$\n",
    "\\vert\\hat{D}\\vert = \\vert\\hat{D}\\vert_\\uparrow\\cdot \\vert\\hat{D}\\vert_\\downarrow\n",
    "$$"
   ]
  },
  {
   "cell_type": "markdown",
   "id": "fdf5ab6c",
   "metadata": {
    "editable": true
   },
   "source": [
    "The combined dimensionality of the two smaller determinants equals the\n",
    "dimensionality of the full determinant. Such a factorization is\n",
    "advantageous in that it makes it possible to perform the calculation\n",
    "of the ratio $R$ and the updating of the inverse matrix separately for\n",
    "$\\vert\\hat{D}\\vert_\\uparrow$ and $\\vert\\hat{D}\\vert_\\downarrow$:"
   ]
  },
  {
   "cell_type": "markdown",
   "id": "bfa69d8f",
   "metadata": {
    "editable": true
   },
   "source": [
    "$$\n",
    "\\frac{\\vert\\hat{D}\\vert^\\mathrm{new}}{\\vert\\hat{D}\\vert^\\mathrm{old}} =\n",
    "\\frac{\\vert\\hat{D}\\vert^\\mathrm{new}_\\uparrow}\n",
    "{\\vert\\hat{D}\\vert^\\mathrm{old}_\\uparrow}\\cdot\n",
    "\\frac{\\vert\\hat{D}\\vert^\\mathrm{new}_\\downarrow\n",
    "}{\\vert\\hat{D}\\vert^\\mathrm{old}_\\downarrow}\n",
    "$$"
   ]
  },
  {
   "cell_type": "markdown",
   "id": "e8ad4bac",
   "metadata": {
    "editable": true
   },
   "source": [
    "This reduces the calculation time by a constant factor. The maximal\n",
    "time reduction happens in a system of equal numbers of $\\uparrow$ and\n",
    "$\\downarrow$ particles, so that the two factorized determinants are\n",
    "half the size of the original one.\n",
    "\n",
    "Consider the case of moving only one particle  at a time which\n",
    "originally had the following time scaling for one transition:"
   ]
  },
  {
   "cell_type": "markdown",
   "id": "07d4a37f",
   "metadata": {
    "editable": true
   },
   "source": [
    "$$\n",
    "O_R(N)+O_\\mathrm{inverse}(N^2)\n",
    "$$"
   ]
  },
  {
   "cell_type": "markdown",
   "id": "4caf235e",
   "metadata": {
    "editable": true
   },
   "source": [
    "For the factorized determinants one of the two determinants is\n",
    "obviously unaffected by the change so that it cancels from the ratio\n",
    "$R$. \n",
    "\n",
    "Therefore, only one determinant of size $N/2$ is involved in each\n",
    "calculation of $R$ and update of the inverse matrix. The scaling of\n",
    "each transition then becomes:"
   ]
  },
  {
   "cell_type": "markdown",
   "id": "3f136e7e",
   "metadata": {
    "editable": true
   },
   "source": [
    "$$\n",
    "O_R(N/2)+O_\\mathrm{inverse}(N^2/4)\n",
    "$$"
   ]
  },
  {
   "cell_type": "markdown",
   "id": "21739b52",
   "metadata": {
    "editable": true
   },
   "source": [
    "and the time scaling when the transitions for all $N$ particles are\n",
    "put together:"
   ]
  },
  {
   "cell_type": "markdown",
   "id": "45273993",
   "metadata": {
    "editable": true
   },
   "source": [
    "$$\n",
    "O_R(N^2/2)+O_\\mathrm{inverse}(N^3/4)\n",
    "$$"
   ]
  },
  {
   "cell_type": "markdown",
   "id": "9bc4f732",
   "metadata": {
    "editable": true
   },
   "source": [
    "which gives the same reduction as in the case of moving all particles\n",
    "at once.\n",
    "\n",
    "Computing the ratios discussed above requires that we maintain \n",
    "the inverse of the Slater matrix evaluated at the current position. \n",
    "Each time a trial position is accepted, the row number $i$ of the Slater \n",
    "matrix changes and updating its inverse has to be carried out. \n",
    "Getting the inverse of an $N \\times N$ matrix by Gaussian elimination has a \n",
    "complexity of order of $\\mathcal{O}(N^3)$ operations, a luxury that we \n",
    "cannot afford for each time a particle  move is accepted.\n",
    "We will use the expression"
   ]
  },
  {
   "cell_type": "markdown",
   "id": "bcaa35f8",
   "metadata": {
    "editable": true
   },
   "source": [
    "<!-- Equation labels as ordinary links -->\n",
    "<div id=\"updatingInverse\"></div>\n",
    "\n",
    "$$\n",
    "\\label{updatingInverse} \\tag{21}\n",
    "d^{-1}_{kj}(\\mathbf{x^{new}}) = \\left\\{\\begin{array}{l l}\n",
    "  d^{-1}_{kj}(\\mathbf{x^{old}}) - \\frac{d^{-1}_{ki}(\\mathbf{x^{old}})}{R} \\sum_{l=1}^{N} d_{il}(\\mathbf{x^{new}})  d^{-1}_{lj}(\\mathbf{x^{old}}) & \\mbox{if $j \\neq i$}\\nonumber \\\\ \\\\\n",
    " \\frac{d^{-1}_{ki}(\\mathbf{x^{old}})}{R} \\sum_{l=1}^{N} d_{il}(\\mathbf{x^{old}}) d^{-1}_{lj}(\\mathbf{x^{old}}) & \\mbox{if $j=i$}\n",
    "\\end{array} \\right.\n",
    "$$"
   ]
  },
  {
   "cell_type": "markdown",
   "id": "96b5ea98",
   "metadata": {
    "editable": true
   },
   "source": [
    "This equation scales as $O(N^2)$.\n",
    "The evaluation of the determinant of an $N \\times N$ matrix by standard Gaussian elimination \n",
    "requires $\\mathbf{O}(N^3)$\n",
    "calculations. \n",
    "As there are $Nd$ independent coordinates we need to evaluate $Nd$ Slater determinants \n",
    "for the gradient (quantum force) and $Nd$ for the Laplacian (kinetic energy). \n",
    "With the updating algorithm we need only to invert the Slater \n",
    "determinant matrix once. This can be done by standard LU decomposition methods."
   ]
  },
  {
   "cell_type": "markdown",
   "id": "c33e7f9d",
   "metadata": {
    "editable": true
   },
   "source": [
    "### Expectation value of the kinetic energy\n",
    "\n",
    "The expectation value of the kinetic energy expressed in atomic units for electron $i$ is"
   ]
  },
  {
   "cell_type": "markdown",
   "id": "e810e7ec",
   "metadata": {
    "editable": true
   },
   "source": [
    "$$\n",
    "\\langle \\hat{K}_i \\rangle = -\\frac{1}{2}\\frac{\\langle\\Psi|\\nabla_{i}^2|\\Psi \\rangle}{\\langle\\Psi|\\Psi \\rangle},\n",
    "$$"
   ]
  },
  {
   "cell_type": "markdown",
   "id": "2a27f074",
   "metadata": {
    "editable": true
   },
   "source": [
    "<!-- Equation labels as ordinary links -->\n",
    "<div id=\"kineticE\"></div>\n",
    "\n",
    "$$\n",
    "\\begin{equation}\n",
    "\\label{kineticE} \\tag{22}\n",
    "K_i = -\\frac{1}{2}\\frac{\\nabla_{i}^{2} \\Psi}{\\Psi}.\n",
    "\\end{equation}\n",
    "$$"
   ]
  },
  {
   "cell_type": "markdown",
   "id": "e984114f",
   "metadata": {
    "editable": true
   },
   "source": [
    "$$\n",
    "\\frac{\\nabla^2 \\Psi}{\\Psi}  =  \\frac{\\nabla^2 ({\\Psi_{D} \\,  \\Psi_C})}{\\Psi_{D} \\,  \\Psi_C} = \\frac{\\nabla  \\cdot [\\nabla  {(\\Psi_{D} \\,  \\Psi_C)}]}{\\Psi_{D} \\,  \\Psi_C} = \\frac{\\nabla  \\cdot [ \\Psi_C \\nabla  \\Psi_{D} + \\Psi_{D} \\nabla   \\Psi_C]}{\\Psi_{D} \\,  \\Psi_C}\\nonumber\n",
    "$$"
   ]
  },
  {
   "cell_type": "markdown",
   "id": "b3d2d6a3",
   "metadata": {
    "editable": true
   },
   "source": [
    "$$\n",
    "=  \\frac{\\nabla   \\Psi_C \\cdot \\nabla  \\Psi_{D} +  \\Psi_C \\nabla^2 \\Psi_{D} + \\nabla  \\Psi_{D} \\cdot \\nabla   \\Psi_C + \\Psi_{D} \\nabla^2  \\Psi_C}{\\Psi_{D} \\,  \\Psi_C}\\nonumber\n",
    "$$"
   ]
  },
  {
   "cell_type": "markdown",
   "id": "350ea243",
   "metadata": {
    "editable": true
   },
   "source": [
    "<!-- Equation labels as ordinary links -->\n",
    "<div id=\"_auto7\"></div>\n",
    "\n",
    "$$\n",
    "\\begin{equation} \n",
    "\\label{_auto7} \\tag{23}\n",
    "\\end{equation}\n",
    "$$"
   ]
  },
  {
   "cell_type": "markdown",
   "id": "ce11307b",
   "metadata": {
    "editable": true
   },
   "source": [
    "<!-- Equation labels as ordinary links -->\n",
    "<div id=\"_auto8\"></div>\n",
    "\n",
    "$$\n",
    "\\begin{equation}\n",
    "\\frac{\\nabla^2 \\Psi}{\\Psi}\n",
    " =  \\frac{\\nabla^2 \\Psi_{D}}{\\Psi_{D}} + \\frac{\\nabla^2  \\Psi_C}{ \\Psi_C} + 2 \\frac{\\nabla  \\Psi_{D}}{\\Psi_{D}}\\cdot\\frac{\\nabla   \\Psi_C}{ \\Psi_C}\n",
    "\\label{_auto8} \\tag{24}\n",
    "\\end{equation}\n",
    "$$"
   ]
  },
  {
   "cell_type": "markdown",
   "id": "29a134cc",
   "metadata": {
    "editable": true
   },
   "source": [
    "The second derivative of the Jastrow factor divided by the Jastrow factor (the way it enters the kinetic energy) is"
   ]
  },
  {
   "cell_type": "markdown",
   "id": "08aee803",
   "metadata": {
    "editable": true
   },
   "source": [
    "$$\n",
    "\\left[\\frac{\\nabla^2 \\Psi_C}{\\Psi_C}\\right]_x =\\  \n",
    "2\\sum_{k=1}^{N}\n",
    "\\sum_{i=1}^{k-1}\\frac{\\partial^2 g_{ik}}{\\partial x_k^2}\\ +\\ \n",
    "\\sum_{k=1}^N\n",
    "\\left(\n",
    "\\sum_{i=1}^{k-1}\\frac{\\partial g_{ik}}{\\partial x_k} -\n",
    "\\sum_{i=k+1}^{N}\\frac{\\partial g_{ki}}{\\partial x_i}\n",
    "\\right)^2\n",
    "$$"
   ]
  },
  {
   "cell_type": "markdown",
   "id": "3cd90547",
   "metadata": {
    "editable": true
   },
   "source": [
    "But we have a simple form for the function, namely"
   ]
  },
  {
   "cell_type": "markdown",
   "id": "84e53960",
   "metadata": {
    "editable": true
   },
   "source": [
    "$$\n",
    "\\Psi_{C}=\\prod_{i< j}\\exp{f(r_{ij})}= \\exp{\\left\\{\\sum_{i<j}\\frac{ar_{ij}}{1+\\beta r_{ij}}\\right\\}},\n",
    "$$"
   ]
  },
  {
   "cell_type": "markdown",
   "id": "1f3640dc",
   "metadata": {
    "editable": true
   },
   "source": [
    "and it is easy to see that for particle  $k$\n",
    "we have"
   ]
  },
  {
   "cell_type": "markdown",
   "id": "a4d8b55d",
   "metadata": {
    "editable": true
   },
   "source": [
    "$$\n",
    "\\frac{\\nabla^2_k \\Psi_C}{\\Psi_C }=\n",
    "\\sum_{ij\\ne k}\\frac{(\\mathbf{r}_k-\\mathbf{r}_i)(\\mathbf{r}_k-\\mathbf{r}_j)}{r_{ki}r_{kj}}f'(r_{ki})f'(r_{kj})+\n",
    "\\sum_{j\\ne k}\\left( f''(r_{kj})+\\frac{2}{r_{kj}}f'(r_{kj})\\right)\n",
    "$$"
   ]
  },
  {
   "cell_type": "markdown",
   "id": "9af1d3d0",
   "metadata": {
    "editable": true
   },
   "source": [
    "Using"
   ]
  },
  {
   "cell_type": "markdown",
   "id": "020e9cee",
   "metadata": {
    "editable": true
   },
   "source": [
    "$$\n",
    "f(r_{ij})= \\frac{ar_{ij}}{1+\\beta r_{ij}},\n",
    "$$"
   ]
  },
  {
   "cell_type": "markdown",
   "id": "c3aac76f",
   "metadata": {
    "editable": true
   },
   "source": [
    "and $g'(r_{kj})=dg(r_{kj})/dr_{kj}$ and \n",
    "$g''(r_{kj})=d^2g(r_{kj})/dr_{kj}^2$  we find that for particle  $k$\n",
    "we have"
   ]
  },
  {
   "cell_type": "markdown",
   "id": "3f6ad9c7",
   "metadata": {
    "editable": true
   },
   "source": [
    "$$\n",
    "\\frac{\\nabla^2_k \\Psi_C}{\\Psi_C }=\n",
    "\\sum_{ij\\ne k}\\frac{(\\mathbf{r}_k-\\mathbf{r}_i)(\\mathbf{r}_k-\\mathbf{r}_j)}{r_{ki}r_{kj}}\\frac{a}{(1+\\beta r_{ki})^2}\n",
    "\\frac{a}{(1+\\beta r_{kj})^2}+\n",
    "\\sum_{j\\ne k}\\left(\\frac{2a}{r_{kj}(1+\\beta r_{kj})^2}-\\frac{2a\\beta}{(1+\\beta r_{kj})^3}\\right)\n",
    "$$"
   ]
  },
  {
   "cell_type": "markdown",
   "id": "9e966688",
   "metadata": {
    "editable": true
   },
   "source": [
    "The gradient and\n",
    "Laplacian can be calculated as follows:"
   ]
  },
  {
   "cell_type": "markdown",
   "id": "ed12dcc5",
   "metadata": {
    "editable": true
   },
   "source": [
    "$$\n",
    "\\frac{\\mathbf{\\nabla}_i\\vert\\hat{D}(\\mathbf{r})\\vert}\n",
    "{\\vert\\hat{D}(\\mathbf{r})\\vert} =\n",
    "\\sum_{j=1}^N \\vec\\nabla_i d_{ij}(\\mathbf{r})\\,\n",
    "d_{ji}^{-1}(\\mathbf{r}) =\n",
    "\\sum_{j=1}^N \\vec\\nabla_i \\phi_j(\\mathbf{r}_i)\\,\n",
    "d_{ji}^{-1}(\\mathbf{r})\n",
    "$$"
   ]
  },
  {
   "cell_type": "markdown",
   "id": "f349c0cc",
   "metadata": {
    "editable": true
   },
   "source": [
    "and"
   ]
  },
  {
   "cell_type": "markdown",
   "id": "18947c91",
   "metadata": {
    "editable": true
   },
   "source": [
    "$$\n",
    "\\frac{\\nabla^2_i\\vert\\hat{D}(\\mathbf{r})\\vert}\n",
    "{\\vert\\hat{D}(\\mathbf{r})\\vert} =\n",
    "\\sum_{j=1}^N \\nabla^2_i d_{ij}(\\mathbf{r})\\,\n",
    "d_{ji}^{-1}(\\mathbf{r}) =\n",
    "\\sum_{j=1}^N \\nabla^2_i \\phi_j(\\mathbf{r}_i)\\,\n",
    "d_{ji}^{-1}(\\mathbf{r})\n",
    "$$"
   ]
  },
  {
   "cell_type": "markdown",
   "id": "2e413de4",
   "metadata": {
    "editable": true
   },
   "source": [
    "The gradient for the determinant is"
   ]
  },
  {
   "cell_type": "markdown",
   "id": "d879bc70",
   "metadata": {
    "editable": true
   },
   "source": [
    "$$\n",
    "\\frac{\\mathbf{\\nabla}_i\\vert\\hat{D}(\\mathbf{r})\\vert}\n",
    "{\\vert\\hat{D}(\\mathbf{r})\\vert} =\n",
    "\\sum_{j=1}^N \\mathbf{\\nabla}_i d_{ij}(\\mathbf{r})\\,\n",
    "d_{ji}^{-1}(\\mathbf{r}) =\n",
    "\\sum_{j=1}^N \\mathbf{\\nabla}_i \\phi_j(\\mathbf{r}_i)\\,\n",
    "d_{ji}^{-1}(\\mathbf{r}).\n",
    "$$"
   ]
  },
  {
   "cell_type": "markdown",
   "id": "b92d156f",
   "metadata": {
    "editable": true
   },
   "source": [
    "We have"
   ]
  },
  {
   "cell_type": "markdown",
   "id": "fd1a6c90",
   "metadata": {
    "editable": true
   },
   "source": [
    "$$\n",
    "\\Psi_C=\\prod_{i< j}g(r_{ij})= \\exp{\\left\\{\\sum_{i<j}\\frac{ar_{ij}}{1+\\beta r_{ij}}\\right\\}},\n",
    "$$"
   ]
  },
  {
   "cell_type": "markdown",
   "id": "02752df4",
   "metadata": {
    "editable": true
   },
   "source": [
    "the gradient needed for the quantum force and local energy is easy to compute.  \n",
    "We get for particle  $k$"
   ]
  },
  {
   "cell_type": "markdown",
   "id": "23deb537",
   "metadata": {
    "editable": true
   },
   "source": [
    "$$\n",
    "\\frac{ \\nabla_k \\Psi_C}{ \\Psi_C }= \\sum_{j\\ne k}\\frac{\\mathbf{r}_{kj}}{r_{kj}}\\frac{a}{(1+\\beta r_{kj})^2},\n",
    "$$"
   ]
  },
  {
   "cell_type": "markdown",
   "id": "df3ade3c",
   "metadata": {
    "editable": true
   },
   "source": [
    "which is rather easy to code.  Remember to sum over all particles  when you compute the local energy.\n",
    "\n",
    "We need to compute the ratio between wave functions, in particular  for the Slater determinants."
   ]
  },
  {
   "cell_type": "markdown",
   "id": "7eb0a45e",
   "metadata": {
    "editable": true
   },
   "source": [
    "$$\n",
    "R =\\sum_{j=1}^N d_{ij}(\\mathbf{r}^{\\mathrm{new}})\\,\n",
    "d_{ji}^{-1}(\\mathbf{r}^{\\mathrm{old}}) = \n",
    "\\sum_{j=1}^N \\phi_j(\\mathbf{r}_i^{\\mathrm{new}})\\,\n",
    "d_{ji}^{-1}(\\mathbf{r}^{\\mathrm{old}})\n",
    "$$"
   ]
  },
  {
   "cell_type": "markdown",
   "id": "3da13aa4",
   "metadata": {
    "editable": true
   },
   "source": [
    "What this means is that in order to get the ratio when only the *i*-th\n",
    "particle  has been moved, we only need to calculate the dot\n",
    "product of the vector $\\left(\\phi_1(\\mathbf{r}_i^\\mathrm{new}),\\,\\dots,\\,\n",
    "\\phi_N(\\mathbf{r}_i^\\mathrm{new})\\right)$ of single particle  wave functions\n",
    "evaluated at this new position with the *i*-th column of the inverse\n",
    "matrix $\\hat{D}^{-1}$ evaluated at the original position. Such\n",
    "an operation has a time scaling of $O(N)$. The only extra thing we\n",
    "need to do is to maintain the inverse matrix \n",
    "$\\hat{D}^{-1}(\\mathbf{x}^{\\mathrm{old}})$."
   ]
  }
 ],
 "metadata": {
  "language_info": {
   "codemirror_mode": {
    "name": "ipython",
    "version": 3
   },
   "file_extension": ".py",
   "mimetype": "text/x-python",
   "name": "python",
   "nbconvert_exporter": "python",
   "pygments_lexer": "ipython3",
   "version": "3.9.10"
  }
 },
 "nbformat": 4,
 "nbformat_minor": 5
}