{
 "cells": [
  {
   "cell_type": "markdown",
   "metadata": {},
   "source": [
    "# Boltzmann Machines\n",
    "\n",
    "Why use a generative model rather than the more well known discriminative deep neural networks (DNN)? \n",
    "\n",
    "* Discriminitave methods have several limitations: They are mainly supervised learning methods, thus requiring labeled data. And there are tasks they cannot accomplish, like drawing new examples from an unknown probability distribution.\n",
    "\n",
    "* A generative model can learn to represent and sample from a probability distribution. The core idea is to learn a parametric model of the probability distribution from which the training data was drawn. As an example\n",
    "\n",
    "a. A model for images could learn to draw new examples of cats and dogs, given a training dataset of images of cats and dogs.\n",
    "\n",
    "b. Generate a sample of an ordered or disordered Ising model phase, having been given samples of such phases.\n",
    "\n",
    "c. Model the trial function for Monte Carlo calculations\n",
    "\n",
    "\n",
    "4. Both use gradient-descent based learning procedures for minimizing cost functions\n",
    "\n",
    "5. Energy based models don't use backpropagation and automatic differentiation for computing gradients, instead turning to Markov Chain Monte Carlo methods.\n",
    "\n",
    "6. DNNs often have several hidden layers. A restricted Boltzmann machine has only one hidden layer, however several RBMs can be stacked to make up Deep Belief Networks, of which they constitute the building blocks.\n",
    "\n",
    "History: The RBM was developed by amongst others Geoffrey Hinton, called by some the \"Godfather of Deep Learning\", working with the University of Toronto and Google.\n",
    "\n",
    "\n",
    "\n",
    "A BM is what we would call an undirected probabilistic graphical model\n",
    "with stochastic continuous or discrete units.\n",
    "\n",
    "\n",
    "It is interpreted as a stochastic recurrent neural network where the\n",
    "state of each unit(neurons/nodes) depends on the units it is connected\n",
    "to. The weights in the network represent thus the strength of the\n",
    "interaction between various units/nodes.\n",
    "\n",
    "\n",
    "It turns into a Hopfield network if we choose deterministic rather\n",
    "than stochastic units. In contrast to a Hopfield network, a BM is a\n",
    "so-called generative model. It allows us to generate new samples from\n",
    "the learned distribution.\n",
    "\n",
    "\n",
    "\n",
    "A standard BM network is divided into a set of observable and visible units $\\hat{x}$ and a set of unknown hidden units/nodes $\\hat{h}$.\n",
    "\n",
    "\n",
    "\n",
    "Additionally there can be bias nodes for the hidden and visible layers. These biases are normally set to $1$.\n",
    "\n",
    "\n",
    "\n",
    "BMs are stackable, meaning they cwe can train a BM which serves as input to another BM. We can construct deep networks for learning complex PDFs. The layers can be trained one after another, a feature which makes them popular in deep learning\n",
    "\n",
    "\n",
    "\n",
    "However, they are often hard to train. This leads to the introduction of so-called restricted BMs, or RBMS.\n",
    "Here we take away all lateral connections between nodes in the visible layer as well as connections between nodes in the hidden layer. The network is illustrated in the figure below.\n",
    "\n",
    "<!-- dom:FIGURE: [figures/RBM.png, width=800 frac=1.0] -->\n",
    "<!-- begin figure -->\n",
    "<img src=\"figures/RBM.png\" width=800><p style=\"font-size: 0.9em\"><i>Figure 1: </i></p><!-- end figure -->\n",
    "\n",
    "\n",
    "\n",
    "\n",
    "\n",
    "## The network\n",
    "\n",
    "**The network layers**:\n",
    "1. A function $\\mathbf{x}$ that represents the visible layer, a vector of $M$ elements (nodes). This layer represents both what the RBM might be given as training input, and what we want it to be able to reconstruct. This might for example be the pixels of an image, the spin values of the Ising model, or coefficients representing speech.\n",
    "\n",
    "2. The function $\\mathbf{h}$ represents the hidden, or latent, layer. A vector of $N$ elements (nodes). Also called \"feature detectors\".\n",
    "\n",
    "The goal of the hidden layer is to increase the model's expressive power. We encode complex interactions between visible variables by introducing additional, hidden variables that interact with visible degrees of freedom in a simple manner, yet still reproduce the complex correlations between visible degrees in the data once marginalized over (integrated out).\n",
    "\n",
    "Examples of this trick being employed in physics: \n",
    "1. The Hubbard-Stratonovich transformation\n",
    "\n",
    "2. The introduction of ghost fields in gauge theory\n",
    "\n",
    "3. Shadow wave functions in Quantum Monte Carlo simulations\n",
    "\n",
    "**The network parameters, to be optimized/learned**:\n",
    "1. $\\mathbf{a}$ represents the visible bias, a vector of same length as $\\mathbf{x}$.\n",
    "\n",
    "2. $\\mathbf{b}$ represents the hidden bias, a vector of same lenght as $\\mathbf{h}$.\n",
    "\n",
    "3. $W$ represents the interaction weights, a matrix of size $M\\times N$.\n",
    "\n",
    "### Joint distribution\n",
    "\n",
    "The restricted Boltzmann machine is described by a Bolztmann distribution"
   ]
  },
  {
   "cell_type": "markdown",
   "metadata": {},
   "source": [
    "<!-- Equation labels as ordinary links -->\n",
    "<div id=\"_auto1\"></div>\n",
    "\n",
    "$$\n",
    "\\begin{equation}\n",
    "\tP_{rbm}(\\mathbf{x},\\mathbf{h}) = \\frac{1}{Z} e^{-\\frac{1}{T_0}E(\\mathbf{x},\\mathbf{h})},\n",
    "\\label{_auto1} \\tag{1}\n",
    "\\end{equation}\n",
    "$$"
   ]
  },
  {
   "cell_type": "markdown",
   "metadata": {},
   "source": [
    "where $Z$ is the normalization constant or partition function, defined as"
   ]
  },
  {
   "cell_type": "markdown",
   "metadata": {},
   "source": [
    "<!-- Equation labels as ordinary links -->\n",
    "<div id=\"_auto2\"></div>\n",
    "\n",
    "$$\n",
    "\\begin{equation}\n",
    "\tZ = \\int \\int e^{-\\frac{1}{T_0}E(\\mathbf{x},\\mathbf{h})} d\\mathbf{x} d\\mathbf{h}.\n",
    "\\label{_auto2} \\tag{2}\n",
    "\\end{equation}\n",
    "$$"
   ]
  },
  {
   "cell_type": "markdown",
   "metadata": {},
   "source": [
    "It is common to ignore $T_0$ by setting it to one. \n",
    "\n",
    "\n",
    "### Network Elements, the energy function\n",
    "\n",
    "The function $E(\\mathbf{x},\\mathbf{h})$ gives the **energy** of a\n",
    "configuration (pair of vectors) $(\\mathbf{x}, \\mathbf{h})$. The lower\n",
    "the energy of a configuration, the higher the probability of it. This\n",
    "function also depends on the parameters $\\mathbf{a}$, $\\mathbf{b}$ and\n",
    "$W$. Thus, when we adjust them during the learning procedure, we are\n",
    "adjusting the energy function to best fit our problem.\n",
    "\n",
    "\n",
    "\n",
    "### Defining different types of RBMs\n",
    "\n",
    "There are different variants of RBMs, and the differences lie in the types of visible and hidden units we choose as well as in the implementation of the energy function $E(\\mathbf{x},\\mathbf{h})$. The connection between the nodes in the two layers is given by the weights $w_{ij}$. \n",
    "\n",
    "**Binary-Binary RBM:**\n",
    "\n",
    "\n",
    "RBMs were first developed using binary units in both the visible and hidden layer. The corresponding energy function is defined as follows:"
   ]
  },
  {
   "cell_type": "markdown",
   "metadata": {},
   "source": [
    "<!-- Equation labels as ordinary links -->\n",
    "<div id=\"_auto3\"></div>\n",
    "\n",
    "$$\n",
    "\\begin{equation}\n",
    "\tE(\\mathbf{x}, \\mathbf{h}) = - \\sum_i^M x_i a_i- \\sum_j^N b_j h_j - \\sum_{i,j}^{M,N} x_i w_{ij} h_j,\n",
    "\\label{_auto3} \\tag{3}\n",
    "\\end{equation}\n",
    "$$"
   ]
  },
  {
   "cell_type": "markdown",
   "metadata": {},
   "source": [
    "where the binary values taken on by the nodes are most commonly 0 and 1.\n",
    "\n",
    "\n",
    "**Gaussian-Binary RBM:**\n",
    "\n",
    "\n",
    "Another varient is the RBM where the visible units are Gaussian while the hidden units remain binary:"
   ]
  },
  {
   "cell_type": "markdown",
   "metadata": {},
   "source": [
    "<!-- Equation labels as ordinary links -->\n",
    "<div id=\"_auto4\"></div>\n",
    "\n",
    "$$\n",
    "\\begin{equation}\n",
    "\tE(\\mathbf{x}, \\mathbf{h}) = \\sum_i^M \\frac{(x_i - a_i)^2}{2\\sigma_i^2} - \\sum_j^N b_j h_j - \\sum_{i,j}^{M,N} \\frac{x_i w_{ij} h_j}{\\sigma_i^2}. \n",
    "\\label{_auto4} \\tag{4}\n",
    "\\end{equation}\n",
    "$$"
   ]
  },
  {
   "cell_type": "markdown",
   "metadata": {},
   "source": [
    "1. RBMs are Useful when we model continuous data (i.e., we wish $\\mathbf{x}$ to be continuous)\n",
    "\n",
    "2. Requires a smaller learning rate, since there's no upper bound to the value a component might take in the reconstruction\n",
    "\n",
    "Other types of units include:\n",
    "1. Softmax and multinomial units\n",
    "\n",
    "2. Gaussian visible and hidden units\n",
    "\n",
    "3. Binomial units\n",
    "\n",
    "4. Rectified linear units\n",
    "\n",
    "### Cost function\n",
    "\n",
    "When working with a training dataset, the most common training approach is maximizing the log-likelihood of the training data. The log likelihood characterizes the log-probability of generating the observed data using our generative model. Using this method our cost function is chosen as the negative log-likelihood. The learning then consists of trying to find parameters that maximize the probability of the dataset, and is known as Maximum Likelihood Estimation (MLE).\n",
    "Denoting the parameters as $\\boldsymbol{\\theta} = a_1,...,a_M,b_1,...,b_N,w_{11},...,w_{MN}$, the log-likelihood is given by"
   ]
  },
  {
   "cell_type": "markdown",
   "metadata": {},
   "source": [
    "<!-- Equation labels as ordinary links -->\n",
    "<div id=\"_auto5\"></div>\n",
    "\n",
    "$$\n",
    "\\begin{equation}\n",
    "\t\\mathcal{L}(\\{ \\theta_i \\}) = \\langle \\text{log} P_\\theta(\\boldsymbol{x}) \\rangle_{data} \n",
    "\\label{_auto5} \\tag{5}\n",
    "\\end{equation}\n",
    "$$"
   ]
  },
  {
   "cell_type": "markdown",
   "metadata": {},
   "source": [
    "<!-- Equation labels as ordinary links -->\n",
    "<div id=\"_auto6\"></div>\n",
    "\n",
    "$$\n",
    "\\begin{equation} \n",
    "\t= - \\langle E(\\boldsymbol{x}; \\{ \\theta_i\\}) \\rangle_{data} - \\text{log} Z(\\{ \\theta_i\\}),\n",
    "\\label{_auto6} \\tag{6}\n",
    "\\end{equation}\n",
    "$$"
   ]
  },
  {
   "cell_type": "markdown",
   "metadata": {},
   "source": [
    "where we used that the normalization constant does not depend on the data, $\\langle \\text{log} Z(\\{ \\theta_i\\}) \\rangle = \\text{log} Z(\\{ \\theta_i\\})$\n",
    "Our cost function is the negative log-likelihood, $\\mathcal{C}(\\{ \\theta_i \\}) = - \\mathcal{L}(\\{ \\theta_i \\})$\n",
    "\n",
    "### Optimization / Training\n",
    "\n",
    "The training procedure of choice often is Stochastic Gradient Descent (SGD). It consists of a series of iterations where we update the parameters according to the equation"
   ]
  },
  {
   "cell_type": "markdown",
   "metadata": {},
   "source": [
    "<!-- Equation labels as ordinary links -->\n",
    "<div id=\"_auto7\"></div>\n",
    "\n",
    "$$\n",
    "\\begin{equation}\n",
    "\t\\boldsymbol{\\theta}_{k+1} = \\boldsymbol{\\theta}_k - \\eta \\nabla \\mathcal{C} (\\boldsymbol{\\theta}_k)\n",
    "\\label{_auto7} \\tag{7}\n",
    "\\end{equation}\n",
    "$$"
   ]
  },
  {
   "cell_type": "markdown",
   "metadata": {},
   "source": [
    "at each $k$-th iteration. There are a range of variants of the algorithm which aim at making the learning rate $\\eta$ more adaptive so the method might be more efficient while remaining stable.\n",
    "\n",
    "We now need the gradient of the cost function in order to minimize it. We find that"
   ]
  },
  {
   "cell_type": "markdown",
   "metadata": {},
   "source": [
    "<!-- Equation labels as ordinary links -->\n",
    "<div id=\"_auto8\"></div>\n",
    "\n",
    "$$\n",
    "\\begin{equation}\n",
    "\t\\frac{\\partial \\mathcal{C}(\\{ \\theta_i\\})}{\\partial \\theta_i}\n",
    "\t= \\langle \\frac{\\partial E(\\boldsymbol{x}; \\theta_i)}{\\partial \\theta_i} \\rangle_{data}\n",
    "\t+ \\frac{\\partial \\text{log} Z(\\{ \\theta_i\\})}{\\partial \\theta_i} \n",
    "\\label{_auto8} \\tag{8}\n",
    "\\end{equation}\n",
    "$$"
   ]
  },
  {
   "cell_type": "markdown",
   "metadata": {},
   "source": [
    "<!-- Equation labels as ordinary links -->\n",
    "<div id=\"_auto9\"></div>\n",
    "\n",
    "$$\n",
    "\\begin{equation} \n",
    "\t= \\langle O_i(\\boldsymbol{x}) \\rangle_{data} - \\langle O_i(\\boldsymbol{x}) \\rangle_{model},\n",
    "\\label{_auto9} \\tag{9}\n",
    "\\end{equation}\n",
    "$$"
   ]
  },
  {
   "cell_type": "markdown",
   "metadata": {},
   "source": [
    "where in order to simplify notation we defined the \"operator\""
   ]
  },
  {
   "cell_type": "markdown",
   "metadata": {},
   "source": [
    "<!-- Equation labels as ordinary links -->\n",
    "<div id=\"_auto10\"></div>\n",
    "\n",
    "$$\n",
    "\\begin{equation}\n",
    "\tO_i(\\boldsymbol{x}) = \\frac{\\partial E(\\boldsymbol{x}; \\theta_i)}{\\partial \\theta_i}, \n",
    "\\label{_auto10} \\tag{10}\n",
    "\\end{equation}\n",
    "$$"
   ]
  },
  {
   "cell_type": "markdown",
   "metadata": {},
   "source": [
    "and used the statistical mechanics relationship between expectation values and the log-partition function:"
   ]
  },
  {
   "cell_type": "markdown",
   "metadata": {},
   "source": [
    "<!-- Equation labels as ordinary links -->\n",
    "<div id=\"_auto11\"></div>\n",
    "\n",
    "$$\n",
    "\\begin{equation}\n",
    "\t\\langle O_i(\\boldsymbol{x}) \\rangle_{model} = \\text{Tr} P_\\theta(\\boldsymbol{x})O_i(\\boldsymbol{x}) = - \\frac{\\partial \\text{log} Z(\\{ \\theta_i\\})}{\\partial \\theta_i}.\n",
    "\\label{_auto11} \\tag{11}\n",
    "\\end{equation}\n",
    "$$"
   ]
  },
  {
   "cell_type": "markdown",
   "metadata": {},
   "source": [
    "The data-dependent term in the gradient is known as the positive phase\n",
    "of the gradient, while the model-dependent term is known as the\n",
    "negative phase of the gradient. The aim of the training is to lower\n",
    "the energy of configurations that are near observed data points\n",
    "(increasing their probability), and raising the energy of\n",
    "configurations that are far from observed data points (decreasing\n",
    "their probability).\n",
    "\n",
    "The gradient of the negative log-likelihood cost function of a Binary-Binary RBM is then"
   ]
  },
  {
   "cell_type": "markdown",
   "metadata": {},
   "source": [
    "<!-- Equation labels as ordinary links -->\n",
    "<div id=\"_auto12\"></div>\n",
    "\n",
    "$$\n",
    "\\begin{equation}\n",
    "\t\\frac{\\partial \\mathcal{C} (w_{ij}, a_i, b_j)}{\\partial w_{ij}} = \\langle x_i h_j \\rangle_{data} - \\langle x_i h_j \\rangle_{model} \n",
    "\\label{_auto12} \\tag{12}\n",
    "\\end{equation}\n",
    "$$"
   ]
  },
  {
   "cell_type": "markdown",
   "metadata": {},
   "source": [
    "<!-- Equation labels as ordinary links -->\n",
    "<div id=\"_auto13\"></div>\n",
    "\n",
    "$$\n",
    "\\begin{equation} \n",
    "\t\\frac{\\partial \\mathcal{C} (w_{ij}, a_i, b_j)}{\\partial a_{ij}} = \\langle x_i \\rangle_{data} - \\langle x_i \\rangle_{model} \n",
    "\\label{_auto13} \\tag{13}\n",
    "\\end{equation}\n",
    "$$"
   ]
  },
  {
   "cell_type": "markdown",
   "metadata": {},
   "source": [
    "<!-- Equation labels as ordinary links -->\n",
    "<div id=\"_auto14\"></div>\n",
    "\n",
    "$$\n",
    "\\begin{equation} \n",
    "\t\\frac{\\partial \\mathcal{C} (w_{ij}, a_i, b_j)}{\\partial b_{ij}} = \\langle h_i \\rangle_{data} - \\langle h_i \\rangle_{model}. \n",
    "\\label{_auto14} \\tag{14}\n",
    "\\end{equation}\n",
    "$$"
   ]
  },
  {
   "cell_type": "markdown",
   "metadata": {},
   "source": [
    "<!-- Equation labels as ordinary links -->\n",
    "<div id=\"_auto15\"></div>\n",
    "\n",
    "$$\n",
    "\\begin{equation} \n",
    "\\label{_auto15} \\tag{15}\n",
    "\\end{equation}\n",
    "$$"
   ]
  },
  {
   "cell_type": "markdown",
   "metadata": {},
   "source": [
    "To get the expectation values with respect to the *data*, we set the visible units to each of the observed samples in the training data, then update the hidden units according to the conditional probability found before. We then average over all samples in the training data to calculate expectation values with respect to the data. \n",
    "\n",
    "\n",
    "\n",
    "\n",
    "### Kullback-Leibler relative entropy\n",
    "\n",
    "When the goal of the training is to approximate a probability\n",
    "distribution, as it is in generative modeling, another relevant\n",
    "measure is the **Kullback-Leibler divergence**, also known as the\n",
    "relative entropy or Shannon entropy. It is a non-symmetric measure of the\n",
    "dissimilarity between two probability density functions $p$ and\n",
    "$q$. If $p$ is the unkown probability which we approximate with $q$,\n",
    "we can measure the difference by"
   ]
  },
  {
   "cell_type": "markdown",
   "metadata": {},
   "source": [
    "<!-- Equation labels as ordinary links -->\n",
    "<div id=\"_auto16\"></div>\n",
    "\n",
    "$$\n",
    "\\begin{equation}\n",
    "\t\\text{KL}(p||q) = \\int_{-\\infty}^{\\infty} p (\\boldsymbol{x}) \\log \\frac{p(\\boldsymbol{x})}{q(\\boldsymbol{x})}  d\\boldsymbol{x}.\n",
    "\\label{_auto16} \\tag{16}\n",
    "\\end{equation}\n",
    "$$"
   ]
  },
  {
   "cell_type": "markdown",
   "metadata": {},
   "source": [
    "Thus, the Kullback-Leibler divergence between the distribution of the\n",
    "training data $f(\\boldsymbol{x})$ and the model distribution $p(\\boldsymbol{x}|\n",
    "\\boldsymbol{\\theta})$ is"
   ]
  },
  {
   "cell_type": "markdown",
   "metadata": {},
   "source": [
    "<!-- Equation labels as ordinary links -->\n",
    "<div id=\"_auto17\"></div>\n",
    "\n",
    "$$\n",
    "\\begin{equation}\n",
    "\t\\text{KL} (f(\\boldsymbol{x})|| p(\\boldsymbol{x}| \\boldsymbol{\\theta})) = \\int_{-\\infty}^{\\infty}\n",
    "\tf (\\boldsymbol{x}) \\log \\frac{f(\\boldsymbol{x})}{p(\\boldsymbol{x}| \\boldsymbol{\\theta})} d\\boldsymbol{x} \n",
    "\\label{_auto17} \\tag{17}\n",
    "\\end{equation}\n",
    "$$"
   ]
  },
  {
   "cell_type": "markdown",
   "metadata": {},
   "source": [
    "<!-- Equation labels as ordinary links -->\n",
    "<div id=\"_auto18\"></div>\n",
    "\n",
    "$$\n",
    "\\begin{equation} \n",
    "\t= \\int_{-\\infty}^{\\infty} f(\\boldsymbol{x}) \\log f(\\boldsymbol{x}) d\\boldsymbol{x} - \\int_{-\\infty}^{\\infty} f(\\boldsymbol{x}) \\log\n",
    "\tp(\\boldsymbol{x}| \\boldsymbol{\\theta}) d\\boldsymbol{x} \n",
    "\\label{_auto18} \\tag{18}\n",
    "\\end{equation}\n",
    "$$"
   ]
  },
  {
   "cell_type": "markdown",
   "metadata": {},
   "source": [
    "<!-- Equation labels as ordinary links -->\n",
    "<div id=\"_auto19\"></div>\n",
    "\n",
    "$$\n",
    "\\begin{equation} \n",
    "\t%= \\mathbb{E}_{f(\\boldsymbol{x})} (\\log f(\\boldsymbol{x})) - \\mathbb{E}_{f(\\boldsymbol{x})} (\\log p(\\boldsymbol{x}| \\boldsymbol{\\theta}))\n",
    "\t= \\langle \\log f(\\boldsymbol{x}) \\rangle_{f(\\boldsymbol{x})} - \\langle \\log p(\\boldsymbol{x}| \\boldsymbol{\\theta}) \\rangle_{f(\\boldsymbol{x})} \n",
    "\\label{_auto19} \\tag{19}\n",
    "\\end{equation}\n",
    "$$"
   ]
  },
  {
   "cell_type": "markdown",
   "metadata": {},
   "source": [
    "<!-- Equation labels as ordinary links -->\n",
    "<div id=\"_auto20\"></div>\n",
    "\n",
    "$$\n",
    "\\begin{equation} \n",
    "\t= \\langle \\log f(\\boldsymbol{x}) \\rangle_{data} + \\langle E(\\boldsymbol{x}) \\rangle_{data} + \\log Z \n",
    "\\label{_auto20} \\tag{20}\n",
    "\\end{equation}\n",
    "$$"
   ]
  },
  {
   "cell_type": "markdown",
   "metadata": {},
   "source": [
    "<!-- Equation labels as ordinary links -->\n",
    "<div id=\"_auto21\"></div>\n",
    "\n",
    "$$\n",
    "\\begin{equation} \n",
    "\t= \\langle \\log f(\\boldsymbol{x}) \\rangle_{data} + \\mathcal{C}_{LL} .\n",
    "\\label{_auto21} \\tag{21}\n",
    "\\end{equation}\n",
    "$$"
   ]
  },
  {
   "cell_type": "markdown",
   "metadata": {},
   "source": [
    "The first term is constant with respect to $\\boldsymbol{\\theta}$ since $f(\\boldsymbol{x})$ is independent of $\\boldsymbol{\\theta}$. Thus the Kullback-Leibler Divergence is minimal when the second term is minimal. The second term is the log-likelihood cost function, hence minimizing the Kullback-Leibler divergence is equivalent to maximizing the log-likelihood.\n",
    "\n",
    "\n",
    "To further understand generative models it is useful to study the\n",
    "gradient of the cost function which is needed in order to minimize it\n",
    "using methods like stochastic gradient descent. \n",
    "\n",
    "The partition function is the generating function of\n",
    "expectation values, in particular there are mathematical relationships\n",
    "between expectation values and the log-partition function. In this\n",
    "case we have"
   ]
  },
  {
   "cell_type": "markdown",
   "metadata": {},
   "source": [
    "<!-- Equation labels as ordinary links -->\n",
    "<div id=\"_auto22\"></div>\n",
    "\n",
    "$$\n",
    "\\begin{equation}\n",
    "\t\\langle \\frac{ \\partial E(\\boldsymbol{x}; \\theta_i) } { \\partial \\theta_i} \\rangle_{model}\n",
    "\t= \\int p(\\boldsymbol{x}| \\boldsymbol{\\theta}) \\frac{ \\partial E(\\boldsymbol{x}; \\theta_i) } { \\partial \\theta_i} d\\boldsymbol{x} \n",
    "\t= -\\frac{\\partial \\log Z(\\theta_i)}{ \\partial  \\theta_i} .\n",
    "\\label{_auto22} \\tag{22}\n",
    "\\end{equation}\n",
    "$$"
   ]
  },
  {
   "cell_type": "markdown",
   "metadata": {},
   "source": [
    "Here $\\langle \\cdot \\rangle_{model}$ is the expectation value over the model probability distribution $p(\\boldsymbol{x}| \\boldsymbol{\\theta})$.\n",
    "\n",
    "## Setting up for gradient descent calculations\n",
    "\n",
    "Using the previous relationship we can express the gradient of the cost function as"
   ]
  },
  {
   "cell_type": "markdown",
   "metadata": {},
   "source": [
    "<!-- Equation labels as ordinary links -->\n",
    "<div id=\"_auto23\"></div>\n",
    "\n",
    "$$\n",
    "\\begin{equation}\n",
    "\t\\frac{\\partial \\mathcal{C}_{LL}}{\\partial \\theta_i}\n",
    "\t= \\langle \\frac{ \\partial E(\\boldsymbol{x}; \\theta_i) } { \\partial \\theta_i} \\rangle_{data} + \\frac{\\partial \\log Z(\\theta_i)}{ \\partial  \\theta_i} \n",
    "\\label{_auto23} \\tag{23}\n",
    "\\end{equation}\n",
    "$$"
   ]
  },
  {
   "cell_type": "markdown",
   "metadata": {},
   "source": [
    "<!-- Equation labels as ordinary links -->\n",
    "<div id=\"_auto24\"></div>\n",
    "\n",
    "$$\n",
    "\\begin{equation} \n",
    "\t= \\langle \\frac{ \\partial E(\\boldsymbol{x}; \\theta_i) } { \\partial \\theta_i} \\rangle_{data} - \\langle \\frac{ \\partial E(\\boldsymbol{x}; \\theta_i) } { \\partial \\theta_i} \\rangle_{model} \n",
    "\\label{_auto24} \\tag{24}\n",
    "\\end{equation}\n",
    "$$"
   ]
  },
  {
   "cell_type": "markdown",
   "metadata": {},
   "source": [
    "<!-- Equation labels as ordinary links -->\n",
    "<div id=\"_auto25\"></div>\n",
    "\n",
    "$$\n",
    "\\begin{equation} \n",
    "\t%= \\langle O_i(\\boldsymbol{x}) \\rangle_{data} - \\langle O_i(\\boldsymbol{x}) \\rangle_{model}\n",
    "\\label{_auto25} \\tag{25}\n",
    "\\end{equation}\n",
    "$$"
   ]
  },
  {
   "cell_type": "markdown",
   "metadata": {},
   "source": [
    "This expression shows that the gradient of the log-likelihood cost\n",
    "function is a **difference of moments**, with one calculated from\n",
    "the data and one calculated from the model. The data-dependent term is\n",
    "called the **positive phase** and the model-dependent term is\n",
    "called the **negative phase** of the gradient. We see now that\n",
    "minimizing the cost function results in lowering the energy of\n",
    "configurations $\\boldsymbol{x}$ near points in the training data and\n",
    "increasing the energy of configurations not observed in the training\n",
    "data. That means we increase the model's probability of configurations\n",
    "similar to those in the training data.\n",
    "\n",
    "\n",
    "The gradient of the cost function also demonstrates why gradients of\n",
    "unsupervised, generative models must be computed differently from for\n",
    "those of for example FNNs. While the data-dependent expectation value\n",
    "is easily calculated based on the samples $\\boldsymbol{x}_i$ in the training\n",
    "data, we must sample from the model in order to generate samples from\n",
    "which to caclulate the model-dependent term. We sample from the model\n",
    "by using MCMC-based methods. We can not sample from the model directly\n",
    "because the partition function $Z$ is generally intractable.\n",
    "\n",
    "As in supervised machine learning problems, the goal is also here to\n",
    "perform well on **unseen** data, that is to have good\n",
    "generalization from the training data. The distribution $f(x)$ we\n",
    "approximate is not the **true** distribution we wish to estimate,\n",
    "it is limited to the training data. Hence, in unsupervised training as\n",
    "well it is important to prevent overfitting to the training data. Thus\n",
    "it is common to add regularizers to the cost function in the same\n",
    "manner as we discussed for say linear regression.\n",
    "\n",
    "\n",
    "\n",
    "## RBMs for the quantum many body problem\n",
    "\n",
    "The idea of applying RBMs to quantum many body problems was presented by G. Carleo and M. Troyer, working with ETH Zurich and Microsoft Research.\n",
    "\n",
    "Some of their motivation included\n",
    "\n",
    "* The wave function $\\Psi$ is a monolithic mathematical quantity that contains all the information on a quantum state, be it a single particle or a complex molecule. In principle, an exponential amount of information is needed to fully encode a generic many-body quantum state.\n",
    "\n",
    "* There are still interesting open problems, including fundamental questions ranging from the dynamical properties of high-dimensional systems to the exact ground-state properties of strongly interacting fermions.\n",
    "\n",
    "* The difficulty lies in finding a general strategy to reduce the exponential complexity of the full many-body wave function down to its most essential features. That is\n",
    "\n",
    "a. Dimensional reduction\n",
    "\n",
    "b. Feature extraction\n",
    "\n",
    "\n",
    "* Among the most successful techniques to attack these challenges, artifical neural networks play a prominent role.\n",
    "\n",
    "* Want to understand whether an artifical neural network may adapt to describe a quantum system.\n",
    "\n",
    "Carleo and Troyer applied the RBM to the quantum mechanical spin lattice systems of the Ising model and Heisenberg model, with encouraging results. Our goal is to test the method on systems of moving particles. For the spin lattice systems it was natural to use a binary-binary RBM, with the nodes taking values of 1 and -1. For moving particles, on the other hand, we want the visible nodes to be continuous, representing position coordinates. Thus, we start by choosing a Gaussian-binary RBM, where the visible nodes are continuous and hidden nodes take on values of 0 or 1. If eventually we would like the hidden nodes to be continuous as well the rectified linear units seem like the most relevant choice.\n",
    "\n",
    "\n",
    "\n",
    "\n",
    "## Representing the wave function\n",
    "\n",
    "The wavefunction should be a probability amplitude depending on\n",
    " $\\boldsymbol{x}$. The RBM model is given by the joint distribution of\n",
    " $\\boldsymbol{x}$ and $\\boldsymbol{h}$"
   ]
  },
  {
   "cell_type": "markdown",
   "metadata": {},
   "source": [
    "<!-- Equation labels as ordinary links -->\n",
    "<div id=\"_auto26\"></div>\n",
    "\n",
    "$$\n",
    "\\begin{equation}\n",
    "        F_{rbm}(\\mathbf{x},\\mathbf{h}) = \\frac{1}{Z} e^{-\\frac{1}{T_0}E(\\mathbf{x},\\mathbf{h})}.\n",
    "\\label{_auto26} \\tag{26}\n",
    "\\end{equation}\n",
    "$$"
   ]
  },
  {
   "cell_type": "markdown",
   "metadata": {},
   "source": [
    "To find the marginal distribution of $\\boldsymbol{x}$ we set:"
   ]
  },
  {
   "cell_type": "markdown",
   "metadata": {},
   "source": [
    "<!-- Equation labels as ordinary links -->\n",
    "<div id=\"_auto27\"></div>\n",
    "\n",
    "$$\n",
    "\\begin{equation}\n",
    "        F_{rbm}(\\mathbf{x}) = \\sum_\\mathbf{h} F_{rbm}(\\mathbf{x}, \\mathbf{h}) \n",
    "\\label{_auto27} \\tag{27}\n",
    "\\end{equation}\n",
    "$$"
   ]
  },
  {
   "cell_type": "markdown",
   "metadata": {},
   "source": [
    "<!-- Equation labels as ordinary links -->\n",
    "<div id=\"_auto28\"></div>\n",
    "\n",
    "$$\n",
    "\\begin{equation} \n",
    "                                = \\frac{1}{Z}\\sum_\\mathbf{h} e^{-E(\\mathbf{x}, \\mathbf{h})}.\n",
    "\\label{_auto28} \\tag{28}\n",
    "\\end{equation}\n",
    "$$"
   ]
  },
  {
   "cell_type": "markdown",
   "metadata": {},
   "source": [
    "Now this is what we use to represent the wave function, calling it a neural-network quantum state (NQS)"
   ]
  },
  {
   "cell_type": "markdown",
   "metadata": {},
   "source": [
    "<!-- Equation labels as ordinary links -->\n",
    "<div id=\"_auto29\"></div>\n",
    "\n",
    "$$\n",
    "\\begin{equation}\n",
    "        \\Psi (\\mathbf{X}) = F_{rbm}(\\mathbf{x}) \n",
    "\\label{_auto29} \\tag{29}\n",
    "\\end{equation}\n",
    "$$"
   ]
  },
  {
   "cell_type": "markdown",
   "metadata": {},
   "source": [
    "<!-- Equation labels as ordinary links -->\n",
    "<div id=\"_auto30\"></div>\n",
    "\n",
    "$$\n",
    "\\begin{equation} \n",
    "        = \\frac{1}{Z}\\sum_{\\boldsymbol{h}} e^{-E(\\mathbf{x}, \\mathbf{h})} \n",
    "\\label{_auto30} \\tag{30}\n",
    "\\end{equation}\n",
    "$$"
   ]
  },
  {
   "cell_type": "markdown",
   "metadata": {},
   "source": [
    "<!-- Equation labels as ordinary links -->\n",
    "<div id=\"_auto31\"></div>\n",
    "\n",
    "$$\n",
    "\\begin{equation} \n",
    "        = \\frac{1}{Z} \\sum_{\\{h_j\\}} e^{-\\sum_i^M \\frac{(x_i - a_i)^2}{2\\sigma^2} + \\sum_j^N b_j h_j + \\sum_\\\n",
    "{i,j}^{M,N} \\frac{x_i w_{ij} h_j}{\\sigma^2}} \n",
    "\\label{_auto31} \\tag{31}\n",
    "\\end{equation}\n",
    "$$"
   ]
  },
  {
   "cell_type": "markdown",
   "metadata": {},
   "source": [
    "<!-- Equation labels as ordinary links -->\n",
    "<div id=\"_auto32\"></div>\n",
    "\n",
    "$$\n",
    "\\begin{equation} \n",
    "        = \\frac{1}{Z} e^{-\\sum_i^M \\frac{(x_i - a_i)^2}{2\\sigma^2}} \\prod_j^N (1 + e^{b_j + \\sum_i^M \\frac{x\\\n",
    "_i w_{ij}}{\\sigma^2}}). \n",
    "\\label{_auto32} \\tag{32}\n",
    "\\end{equation}\n",
    "$$"
   ]
  },
  {
   "cell_type": "markdown",
   "metadata": {},
   "source": [
    "<!-- Equation labels as ordinary links -->\n",
    "<div id=\"_auto33\"></div>\n",
    "\n",
    "$$\n",
    "\\begin{equation} \n",
    "\\label{_auto33} \\tag{33}\n",
    "\\end{equation}\n",
    "$$"
   ]
  },
  {
   "cell_type": "markdown",
   "metadata": {},
   "source": [
    "## Choose the cost function\n",
    "\n",
    "Now we don't necessarily have training data (unless we generate it by using some other method). However, what we do have is the variational principle which allows us to obtain the ground state wave function by minimizing the expectation value of the energy of a trial wavefunction (corresponding to the untrained NQS). Similarly to the traditional variational Monte Carlo method then, it is the local energy we wish to minimize. The gradient to use for the stochastic gradient descent procedure is"
   ]
  },
  {
   "cell_type": "markdown",
   "metadata": {},
   "source": [
    "<!-- Equation labels as ordinary links -->\n",
    "<div id=\"_auto34\"></div>\n",
    "\n",
    "$$\n",
    "\\begin{equation}\n",
    "\tC_i = \\frac{\\partial \\langle E_L \\rangle}{\\partial \\theta_i}\n",
    "\t= 2(\\langle E_L \\frac{1}{\\Psi}\\frac{\\partial \\Psi}{\\partial \\theta_i} \\rangle - \\langle E_L \\rangle \\langle \\frac{1}{\\Psi}\\frac{\\partial \\Psi}{\\partial \\theta_i} \\rangle ),\n",
    "\\label{_auto34} \\tag{34}\n",
    "\\end{equation}\n",
    "$$"
   ]
  },
  {
   "cell_type": "markdown",
   "metadata": {},
   "source": [
    "where the local energy is given by"
   ]
  },
  {
   "cell_type": "markdown",
   "metadata": {},
   "source": [
    "<!-- Equation labels as ordinary links -->\n",
    "<div id=\"_auto35\"></div>\n",
    "\n",
    "$$\n",
    "\\begin{equation}\n",
    "\tE_L = \\frac{1}{\\Psi} \\hat{\\mathbf{H}} \\Psi.\n",
    "\\label{_auto35} \\tag{35}\n",
    "\\end{equation}\n",
    "$$"
   ]
  },
  {
   "cell_type": "markdown",
   "metadata": {},
   "source": [
    "### Mathematical details\n",
    "\n",
    "Because we are restricted to potential functions which are positive it\n",
    "is convenient to express them as exponentials, so that"
   ]
  },
  {
   "cell_type": "markdown",
   "metadata": {},
   "source": [
    "<!-- Equation labels as ordinary links -->\n",
    "<div id=\"_auto36\"></div>\n",
    "\n",
    "$$\n",
    "\\begin{equation}\n",
    "\t\\phi_C (\\boldsymbol{x}_C) = e^{-E_C(\\boldsymbol{x}_C)}\n",
    "\\label{_auto36} \\tag{36}\n",
    "\\end{equation}\n",
    "$$"
   ]
  },
  {
   "cell_type": "markdown",
   "metadata": {},
   "source": [
    "where $E(\\boldsymbol{x}_C)$ is called an *energy function*, and the\n",
    "exponential representation is the *Boltzmann distribution*. The\n",
    "joint distribution is defined as the product of potentials.\n",
    "\n",
    "The joint distribution of the random variables is then"
   ]
  },
  {
   "cell_type": "markdown",
   "metadata": {},
   "source": [
    "$$\n",
    "p(\\boldsymbol{x}) = \\frac{1}{Z} \\prod_C \\phi_C (\\boldsymbol{x}_C) \\nonumber\n",
    "$$"
   ]
  },
  {
   "cell_type": "markdown",
   "metadata": {},
   "source": [
    "$$\n",
    "= \\frac{1}{Z} \\prod_C e^{-E_C(\\boldsymbol{x}_C)} \\nonumber\n",
    "$$"
   ]
  },
  {
   "cell_type": "markdown",
   "metadata": {},
   "source": [
    "$$\n",
    "= \\frac{1}{Z} e^{-\\sum_C E_C(\\boldsymbol{x}_C)} \\nonumber\n",
    "$$"
   ]
  },
  {
   "cell_type": "markdown",
   "metadata": {},
   "source": [
    "3\n",
    "9\n",
    " \n",
    "<\n",
    "<\n",
    "<\n",
    "!\n",
    "!\n",
    "M\n",
    "A\n",
    "T\n",
    "H\n",
    "_\n",
    "B\n",
    "L\n",
    "O\n",
    "C\n",
    "K"
   ]
  },
  {
   "cell_type": "markdown",
   "metadata": {},
   "source": [
    "<!-- Equation labels as ordinary links -->\n",
    "<div id=\"_auto38\"></div>\n",
    "\n",
    "$$\n",
    "\\begin{equation}\n",
    "\tp_{BM}(\\boldsymbol{x}, \\boldsymbol{h}) = \\frac{1}{Z_{BM}} e^{-\\frac{1}{T}E_{BM}(\\boldsymbol{x}, \\boldsymbol{h})} ,\n",
    "\\label{_auto38} \\tag{38}\n",
    "\\end{equation}\n",
    "$$"
   ]
  },
  {
   "cell_type": "markdown",
   "metadata": {},
   "source": [
    "with the partition function"
   ]
  },
  {
   "cell_type": "markdown",
   "metadata": {},
   "source": [
    "<!-- Equation labels as ordinary links -->\n",
    "<div id=\"_auto39\"></div>\n",
    "\n",
    "$$\n",
    "\\begin{equation}\n",
    "\tZ_{BM} = \\int \\int e^{-\\frac{1}{T} E_{BM}(\\tilde{\\boldsymbol{x}}, \\tilde{\\boldsymbol{h}})} d\\tilde{\\boldsymbol{x}} d\\tilde{\\boldsymbol{h}} .\n",
    "\\label{_auto39} \\tag{39}\n",
    "\\end{equation}\n",
    "$$"
   ]
  },
  {
   "cell_type": "markdown",
   "metadata": {},
   "source": [
    "$T$ is a physics-inspired parameter named temperature and will be assumed to be 1 unless otherwise stated. The energy function of the Boltzmann machine determines the interactions between the nodes and is defined"
   ]
  },
  {
   "cell_type": "markdown",
   "metadata": {},
   "source": [
    "$$\n",
    "E_{BM}(\\boldsymbol{x}, \\boldsymbol{h}) = - \\sum_{i, k}^{M, K} a_i^k \\alpha_i^k (x_i)\n",
    "\t- \\sum_{j, l}^{N, L} b_j^l \\beta_j^l (h_j) \n",
    "\t- \\sum_{i,j,k,l}^{M,N,K,L} \\alpha_i^k (x_i) w_{ij}^{kl} \\beta_j^l (h_j) \\nonumber\n",
    "$$"
   ]
  },
  {
   "cell_type": "markdown",
   "metadata": {},
   "source": [
    "<!-- Equation labels as ordinary links -->\n",
    "<div id=\"_auto40\"></div>\n",
    "\n",
    "$$\n",
    "\\begin{equation} \n",
    "\t- \\sum_{i, m=i+1, k}^{M, M, K} \\alpha_i^k (x_i) v_{im}^k \\alpha_m^k (x_m)\n",
    "\t- \\sum_{j,n=j+1,l}^{N,N,L} \\beta_j^l (h_j) u_{jn}^l \\beta_n^l (h_n).\n",
    "\\label{_auto40} \\tag{40}\n",
    "\\end{equation}\n",
    "$$"
   ]
  },
  {
   "cell_type": "markdown",
   "metadata": {},
   "source": [
    "Here $\\alpha_i^k (x_i)$ and $\\beta_j^l (h_j)$ are one-dimensional\n",
    "transfer functions or mappings from the given input value to the\n",
    "desired feature value. They can be arbitrary functions of the input\n",
    "variables and are independent of the parameterization (parameters\n",
    "referring to weight and biases), meaning they are not affected by\n",
    "training of the model. The indices $k$ and $l$ indicate that there can\n",
    "be multiple transfer functions per variable.  Furthermore, $a_i^k$ and\n",
    "$b_j^l$ are the visible and hidden bias. $w_{ij}^{kl}$ are weights of\n",
    "the \\textbf{inter-layer} connection terms which connect visible and\n",
    "hidden units. $ v_{im}^k$ and $u_{jn}^l$ are weights of the\n",
    "\\textbf{intra-layer} connection terms which connect the visible units\n",
    "to each other and the hidden units to each other, respectively.\n",
    "\n",
    "\n",
    "\n",
    "We remove the intra-layer connections by setting $v_{im}$ and $u_{jn}$\n",
    "to zero. The expression for the energy of the RBM is then"
   ]
  },
  {
   "cell_type": "markdown",
   "metadata": {},
   "source": [
    "<!-- Equation labels as ordinary links -->\n",
    "<div id=\"_auto41\"></div>\n",
    "\n",
    "$$\n",
    "\\begin{equation}\n",
    "\tE_{RBM}(\\boldsymbol{x}, \\boldsymbol{h}) = - \\sum_{i, k}^{M, K} a_i^k \\alpha_i^k (x_i)\n",
    "\t- \\sum_{j, l}^{N, L} b_j^l \\beta_j^l (h_j) \n",
    "\t- \\sum_{i,j,k,l}^{M,N,K,L} \\alpha_i^k (x_i) w_{ij}^{kl} \\beta_j^l (h_j). \n",
    "\\label{_auto41} \\tag{41}\n",
    "\\end{equation}\n",
    "$$"
   ]
  },
  {
   "cell_type": "markdown",
   "metadata": {},
   "source": [
    "resulting in"
   ]
  },
  {
   "cell_type": "markdown",
   "metadata": {},
   "source": [
    "$$\n",
    "P_{RBM} (\\boldsymbol{x}) = \\int P_{RBM} (\\boldsymbol{x}, \\tilde{\\boldsymbol{h}})  d \\tilde{\\boldsymbol{h}} \\nonumber\n",
    "$$"
   ]
  },
  {
   "cell_type": "markdown",
   "metadata": {},
   "source": [
    "$$\n",
    "= \\frac{1}{Z_{RBM}} \\int e^{-E_{RBM} (\\boldsymbol{x}, \\tilde{\\boldsymbol{h}}) } d\\tilde{\\boldsymbol{h}} \\nonumber\n",
    "$$"
   ]
  },
  {
   "cell_type": "markdown",
   "metadata": {},
   "source": [
    "$$\n",
    "= \\frac{1}{Z_{RBM}} \\int e^{\\sum_{i, k} a_i^k \\alpha_i^k (x_i)\n",
    "\t+ \\sum_{j, l} b_j^l \\beta_j^l (\\tilde{h}_j) \n",
    "\t+ \\sum_{i,j,k,l} \\alpha_i^k (x_i) w_{ij}^{kl} \\beta_j^l (\\tilde{h}_j)} \n",
    "\td\\tilde{\\boldsymbol{h}} \\nonumber\n",
    "$$"
   ]
  },
  {
   "cell_type": "markdown",
   "metadata": {},
   "source": [
    "$$\n",
    "= \\frac{1}{Z_{RBM}} e^{\\sum_{i, k} a_i^k \\alpha_i^k (x_i)}\n",
    "\t\\int \\prod_j^N e^{\\sum_l b_j^l \\beta_j^l (\\tilde{h}_j) \n",
    "\t+ \\sum_{i,k,l} \\alpha_i^k (x_i) w_{ij}^{kl} \\beta_j^l (\\tilde{h}_j)} d\\tilde{\\boldsymbol{h}} \\nonumber\n",
    "$$"
   ]
  },
  {
   "cell_type": "markdown",
   "metadata": {},
   "source": [
    "$$\n",
    "= \\frac{1}{Z_{RBM}} e^{\\sum_{i, k} a_i^k \\alpha_i^k (x_i)}\n",
    "\t\\biggl( \\int e^{\\sum_l b_1^l \\beta_1^l (\\tilde{h}_1) + \\sum_{i,k,l} \\alpha_i^k (x_i) w_{i1}^{kl} \\beta_1^l (\\tilde{h}_1)} d \\tilde{h}_1 \\nonumber\n",
    "$$"
   ]
  },
  {
   "cell_type": "markdown",
   "metadata": {},
   "source": [
    "$$\n",
    "\\times \\int e^{\\sum_l b_2^l \\beta_2^l (\\tilde{h}_2) + \\sum_{i,k,l} \\alpha_i^k (x_i) w_{i2}^{kl} \\beta_2^l (\\tilde{h}_2)} d \\tilde{h}_2 \\nonumber\n",
    "$$"
   ]
  },
  {
   "cell_type": "markdown",
   "metadata": {},
   "source": [
    "$$\n",
    "\\times ... \\nonumber\n",
    "$$"
   ]
  },
  {
   "cell_type": "markdown",
   "metadata": {},
   "source": [
    "$$\n",
    "\\times \\int e^{\\sum_l b_N^l \\beta_N^l (\\tilde{h}_N) + \\sum_{i,k,l} \\alpha_i^k (x_i) w_{iN}^{kl} \\beta_N^l (\\tilde{h}_N)} d \\tilde{h}_N \\biggr) \\nonumber\n",
    "$$"
   ]
  },
  {
   "cell_type": "markdown",
   "metadata": {},
   "source": [
    "<!-- Equation labels as ordinary links -->\n",
    "<div id=\"_auto42\"></div>\n",
    "\n",
    "$$\n",
    "\\begin{equation} \n",
    "\t= \\frac{1}{Z_{RBM}} e^{\\sum_{i, k} a_i^k \\alpha_i^k (x_i)}\n",
    "\t\\prod_j^N \\int e^{\\sum_l b_j^l \\beta_j^l (\\tilde{h}_j) + \\sum_{i,k,l} \\alpha_i^k (x_i) w_{ij}^{kl} \\beta_j^l (\\tilde{h}_j)}  d\\tilde{h}_j\n",
    "\\label{_auto42} \\tag{42}\n",
    "\\end{equation}\n",
    "$$"
   ]
  },
  {
   "cell_type": "markdown",
   "metadata": {},
   "source": [
    "Similarly"
   ]
  },
  {
   "cell_type": "markdown",
   "metadata": {},
   "source": [
    "$$\n",
    "P_{RBM} (\\boldsymbol{h}) = \\frac{1}{Z_{RBM}} \\int e^{-E_{RBM} (\\tilde{\\boldsymbol{x}}, \\boldsymbol{h})} d\\tilde{\\boldsymbol{x}} \\nonumber\n",
    "$$"
   ]
  },
  {
   "cell_type": "markdown",
   "metadata": {},
   "source": [
    "<!-- Equation labels as ordinary links -->\n",
    "<div id=\"_auto43\"></div>\n",
    "\n",
    "$$\n",
    "\\begin{equation} \n",
    "\t= \\frac{1}{Z_{RBM}} e^{\\sum_{j, l} b_j^l \\beta_j^l (h_j)}\n",
    "\t\\prod_i^M \\int e^{\\sum_k a_i^k \\alpha_i^k (\\tilde{x}_i)\n",
    "\t+ \\sum_{j,k,l} \\alpha_i^k (\\tilde{x}_i) w_{ij}^{kl} \\beta_j^l (h_j)} d\\tilde{x}_i\n",
    "\\label{_auto43} \\tag{43}\n",
    "\\end{equation}\n",
    "$$"
   ]
  },
  {
   "cell_type": "markdown",
   "metadata": {},
   "source": [
    "Using Bayes theorem"
   ]
  },
  {
   "cell_type": "markdown",
   "metadata": {},
   "source": [
    "$$\n",
    "P_{RBM} (\\boldsymbol{h}|\\boldsymbol{x}) = \\frac{P_{RBM} (\\boldsymbol{x}, \\boldsymbol{h})}{P_{RBM} (\\boldsymbol{x})} \\nonumber\n",
    "$$"
   ]
  },
  {
   "cell_type": "markdown",
   "metadata": {},
   "source": [
    "$$\n",
    "= \\frac{\\frac{1}{Z_{RBM}} e^{\\sum_{i, k} a_i^k \\alpha_i^k (x_i)\n",
    "\t+ \\sum_{j, l} b_j^l \\beta_j^l (h_j) \n",
    "\t+ \\sum_{i,j,k,l} \\alpha_i^k (x_i) w_{ij}^{kl} \\beta_j^l (h_j)}}\n",
    "\t{\\frac{1}{Z_{RBM}} e^{\\sum_{i, k} a_i^k \\alpha_i^k (x_i)}\n",
    "\t\\prod_j^N \\int e^{\\sum_l b_j^l \\beta_j^l (\\tilde{h}_j) + \\sum_{i,k,l} \\alpha_i^k (x_i) w_{ij}^{kl} \\beta_j^l (\\tilde{h}_j)}  d\\tilde{h}_j} \\nonumber\n",
    "$$"
   ]
  },
  {
   "cell_type": "markdown",
   "metadata": {},
   "source": [
    "<!-- Equation labels as ordinary links -->\n",
    "<div id=\"_auto44\"></div>\n",
    "\n",
    "$$\n",
    "\\begin{equation} \n",
    "\t= \\prod_j^N \\frac{e^{\\sum_l b_j^l \\beta_j^l (h_j) + \\sum_{i,k,l} \\alpha_i^k (x_i) w_{ij}^{kl} \\beta_j^l (h_j)} }\n",
    "\t{\\int e^{\\sum_l b_j^l \\beta_j^l (\\tilde{h}_j) + \\sum_{i,k,l} \\alpha_i^k (x_i) w_{ij}^{kl} \\beta_j^l (\\tilde{h}_j)}  d\\tilde{h}_j}\n",
    "\\label{_auto44} \\tag{44}\n",
    "\\end{equation}\n",
    "$$"
   ]
  },
  {
   "cell_type": "markdown",
   "metadata": {},
   "source": [
    "Similarly"
   ]
  },
  {
   "cell_type": "markdown",
   "metadata": {},
   "source": [
    "$$\n",
    "P_{RBM} (\\boldsymbol{x}|\\boldsymbol{h}) =  \\frac{P_{RBM} (\\boldsymbol{x}, \\boldsymbol{h})}{P_{RBM} (\\boldsymbol{h})} \\nonumber\n",
    "$$"
   ]
  },
  {
   "cell_type": "markdown",
   "metadata": {},
   "source": [
    "<!-- Equation labels as ordinary links -->\n",
    "<div id=\"_auto45\"></div>\n",
    "\n",
    "$$\n",
    "\\begin{equation} \n",
    "\t= \\prod_i^M \\frac{e^{\\sum_k a_i^k \\alpha_i^k (x_i)\n",
    "\t+ \\sum_{j,k,l} \\alpha_i^k (x_i) w_{ij}^{kl} \\beta_j^l (h_j)}}\n",
    "\t{\\int e^{\\sum_k a_i^k \\alpha_i^k (\\tilde{x}_i)\n",
    "\t+ \\sum_{j,k,l} \\alpha_i^k (\\tilde{x}_i) w_{ij}^{kl} \\beta_j^l (h_j)} d\\tilde{x}_i}\n",
    "\\label{_auto45} \\tag{45}\n",
    "\\end{equation}\n",
    "$$"
   ]
  },
  {
   "cell_type": "markdown",
   "metadata": {},
   "source": [
    "The original RBM had binary visible and hidden nodes. They were\n",
    "showned to be universal approximators of discrete distributions.\n",
    "It was also shown that adding hidden units yields\n",
    "strictly improved modelling power. The common choice of binary values\n",
    "are 0 and 1. However, in some physics applications, -1 and 1 might be\n",
    "a more natural choice. We will here use 0 and 1."
   ]
  },
  {
   "cell_type": "markdown",
   "metadata": {},
   "source": [
    "<!-- Equation labels as ordinary links -->\n",
    "<div id=\"_auto46\"></div>\n",
    "\n",
    "$$\n",
    "\\begin{equation}\n",
    "\tE_{BB}(\\boldsymbol{x}, \\mathbf{h}) = - \\sum_i^M x_i a_i- \\sum_j^N b_j h_j - \\sum_{i,j}^{M,N} x_i w_{ij} h_j.\n",
    "\\label{_auto46} \\tag{46}\n",
    "\\end{equation}\n",
    "$$"
   ]
  },
  {
   "cell_type": "markdown",
   "metadata": {},
   "source": [
    "<!-- Equation labels as ordinary links -->\n",
    "<div id=\"_auto47\"></div>\n",
    "\n",
    "$$\n",
    "\\begin{equation}\n",
    "\tp_{BB}(\\boldsymbol{x}, \\boldsymbol{h}) = \\frac{1}{Z_{BB}} e^{\\sum_i^M a_i x_i + \\sum_j^N b_j h_j + \\sum_{ij}^{M,N} x_i w_{ij} h_j} \n",
    "\\label{_auto47} \\tag{47}\n",
    "\\end{equation}\n",
    "$$"
   ]
  },
  {
   "cell_type": "markdown",
   "metadata": {},
   "source": [
    "<!-- Equation labels as ordinary links -->\n",
    "<div id=\"_auto48\"></div>\n",
    "\n",
    "$$\n",
    "\\begin{equation} \n",
    "\t= \\frac{1}{Z_{BB}} e^{\\boldsymbol{x}^T \\boldsymbol{a} + \\boldsymbol{b}^T \\boldsymbol{h} + \\boldsymbol{x}^T \\boldsymbol{W} \\boldsymbol{h}}\n",
    "\\label{_auto48} \\tag{48}\n",
    "\\end{equation}\n",
    "$$"
   ]
  },
  {
   "cell_type": "markdown",
   "metadata": {},
   "source": [
    "with the partition function"
   ]
  },
  {
   "cell_type": "markdown",
   "metadata": {},
   "source": [
    "<!-- Equation labels as ordinary links -->\n",
    "<div id=\"_auto49\"></div>\n",
    "\n",
    "$$\n",
    "\\begin{equation}\n",
    "\tZ_{BB} = \\sum_{\\boldsymbol{x}, \\boldsymbol{h}} e^{\\boldsymbol{x}^T \\boldsymbol{a} + \\boldsymbol{b}^T \\boldsymbol{h} + \\boldsymbol{x}^T \\boldsymbol{W} \\boldsymbol{h}} .\n",
    "\\label{_auto49} \\tag{49}\n",
    "\\end{equation}\n",
    "$$"
   ]
  },
  {
   "cell_type": "markdown",
   "metadata": {},
   "source": [
    "### Marginal Probability Density Functions\n",
    "\n",
    "In order to find the probability of any configuration of the visible units we derive the marginal probability density function."
   ]
  },
  {
   "cell_type": "markdown",
   "metadata": {},
   "source": [
    "<!-- Equation labels as ordinary links -->\n",
    "<div id=\"_auto50\"></div>\n",
    "\n",
    "$$\n",
    "\\begin{equation}\n",
    "\tp_{BB} (\\boldsymbol{x}) = \\sum_{\\boldsymbol{h}} p_{BB} (\\boldsymbol{x}, \\boldsymbol{h}) \n",
    "\\label{_auto50} \\tag{50}\n",
    "\\end{equation}\n",
    "$$"
   ]
  },
  {
   "cell_type": "markdown",
   "metadata": {},
   "source": [
    "$$\n",
    "= \\frac{1}{Z_{BB}} \\sum_{\\boldsymbol{h}} e^{\\boldsymbol{x}^T \\boldsymbol{a} + \\boldsymbol{b}^T \\boldsymbol{h} + \\boldsymbol{x}^T \\boldsymbol{W} \\boldsymbol{h}} \\nonumber\n",
    "$$"
   ]
  },
  {
   "cell_type": "markdown",
   "metadata": {},
   "source": [
    "$$\n",
    "= \\frac{1}{Z_{BB}} e^{\\boldsymbol{x}^T \\boldsymbol{a}} \\sum_{\\boldsymbol{h}} e^{\\sum_j^N (b_j + \\boldsymbol{x}^T \\boldsymbol{w}_{\\ast j})h_j} \\nonumber\n",
    "$$"
   ]
  },
  {
   "cell_type": "markdown",
   "metadata": {},
   "source": [
    "$$\n",
    "= \\frac{1}{Z_{BB}} e^{\\boldsymbol{x}^T \\boldsymbol{a}} \\sum_{\\boldsymbol{h}} \\prod_j^N e^{ (b_j + \\boldsymbol{x}^T \\boldsymbol{w}_{\\ast j})h_j} \\nonumber\n",
    "$$"
   ]
  },
  {
   "cell_type": "markdown",
   "metadata": {},
   "source": [
    "$$\n",
    "= \\frac{1}{Z_{BB}} e^{\\boldsymbol{x}^T \\boldsymbol{a}} \\bigg ( \\sum_{h_1} e^{(b_1 + \\boldsymbol{x}^T \\boldsymbol{w}_{\\ast 1})h_1}\n",
    "\t\\times \\sum_{h_2} e^{(b_2 + \\boldsymbol{x}^T \\boldsymbol{w}_{\\ast 2})h_2} \\times \\nonumber\n",
    "$$"
   ]
  },
  {
   "cell_type": "markdown",
   "metadata": {},
   "source": [
    "$$\n",
    "... \\times \\sum_{h_2} e^{(b_N + \\boldsymbol{x}^T \\boldsymbol{w}_{\\ast N})h_N} \\bigg ) \\nonumber\n",
    "$$"
   ]
  },
  {
   "cell_type": "markdown",
   "metadata": {},
   "source": [
    "$$\n",
    "= \\frac{1}{Z_{BB}} e^{\\boldsymbol{x}^T \\boldsymbol{a}} \\prod_j^N \\sum_{h_j} e^{(b_j + \\boldsymbol{x}^T \\boldsymbol{w}_{\\ast j}) h_j} \\nonumber\n",
    "$$"
   ]
  },
  {
   "cell_type": "markdown",
   "metadata": {},
   "source": [
    "<!-- Equation labels as ordinary links -->\n",
    "<div id=\"_auto51\"></div>\n",
    "\n",
    "$$\n",
    "\\begin{equation} \n",
    "\t= \\frac{1}{Z_{BB}} e^{\\boldsymbol{x}^T \\boldsymbol{a}} \\prod_j^N (1 + e^{b_j + \\boldsymbol{x}^T \\boldsymbol{w}_{\\ast j}}) .\n",
    "\\label{_auto51} \\tag{51}\n",
    "\\end{equation}\n",
    "$$"
   ]
  },
  {
   "cell_type": "markdown",
   "metadata": {},
   "source": [
    "A similar derivation yields the marginal probability of the hidden units"
   ]
  },
  {
   "cell_type": "markdown",
   "metadata": {},
   "source": [
    "<!-- Equation labels as ordinary links -->\n",
    "<div id=\"_auto52\"></div>\n",
    "\n",
    "$$\n",
    "\\begin{equation}\n",
    "\tp_{BB} (\\boldsymbol{h}) = \\frac{1}{Z_{BB}} e^{\\boldsymbol{b}^T \\boldsymbol{h}} \\prod_i^M (1 + e^{a_i + \\boldsymbol{w}_{i\\ast}^T \\boldsymbol{h}}) .\n",
    "\\label{_auto52} \\tag{52}\n",
    "\\end{equation}\n",
    "$$"
   ]
  },
  {
   "cell_type": "markdown",
   "metadata": {},
   "source": [
    "### Conditional Probability Density Functions\n",
    "\n",
    "We derive the probability of the hidden units given the visible units using Bayes' rule"
   ]
  },
  {
   "cell_type": "markdown",
   "metadata": {},
   "source": [
    "$$\n",
    "p_{BB} (\\boldsymbol{h}|\\boldsymbol{x}) = \\frac{p_{BB} (\\boldsymbol{x}, \\boldsymbol{h})}{p_{BB} (\\boldsymbol{x})} \\nonumber\n",
    "$$"
   ]
  },
  {
   "cell_type": "markdown",
   "metadata": {},
   "source": [
    "$$\n",
    "= \\frac{ \\frac{1}{Z_{BB}}  e^{\\boldsymbol{x}^T \\boldsymbol{a} + \\boldsymbol{b}^T \\boldsymbol{h} + \\boldsymbol{x}^T \\boldsymbol{W} \\boldsymbol{h}} }\n",
    "\t        {\\frac{1}{Z_{BB}} e^{\\boldsymbol{x}^T \\boldsymbol{a}} \\prod_j^N (1 + e^{b_j + \\boldsymbol{x}^T \\boldsymbol{w}_{\\ast j}})} \\nonumber\n",
    "$$"
   ]
  },
  {
   "cell_type": "markdown",
   "metadata": {},
   "source": [
    "$$\n",
    "= \\frac{  e^{\\boldsymbol{x}^T \\boldsymbol{a}} e^{ \\sum_j^N (b_j + \\boldsymbol{x}^T \\boldsymbol{w}_{\\ast j} ) h_j} }\n",
    "\t        { e^{\\boldsymbol{x}^T \\boldsymbol{a}} \\prod_j^N (1 + e^{b_j + \\boldsymbol{x}^T \\boldsymbol{w}_{\\ast j}})} \\nonumber\n",
    "$$"
   ]
  },
  {
   "cell_type": "markdown",
   "metadata": {},
   "source": [
    "$$\n",
    "= \\prod_j^N \\frac{ e^{(b_j + \\boldsymbol{x}^T \\boldsymbol{w}_{\\ast j} ) h_j}  }\n",
    "\t{1 + e^{b_j + \\boldsymbol{x}^T \\boldsymbol{w}_{\\ast j}}} \\nonumber\n",
    "$$"
   ]
  },
  {
   "cell_type": "markdown",
   "metadata": {},
   "source": [
    "<!-- Equation labels as ordinary links -->\n",
    "<div id=\"_auto53\"></div>\n",
    "\n",
    "$$\n",
    "\\begin{equation} \n",
    "\t= \\prod_j^N p_{BB} (h_j| \\boldsymbol{x}) .\n",
    "\\label{_auto53} \\tag{53}\n",
    "\\end{equation}\n",
    "$$"
   ]
  },
  {
   "cell_type": "markdown",
   "metadata": {},
   "source": [
    "From this we find the probability of a hidden unit being \"on\" or \"off\":"
   ]
  },
  {
   "cell_type": "markdown",
   "metadata": {},
   "source": [
    "<!-- Equation labels as ordinary links -->\n",
    "<div id=\"_auto54\"></div>\n",
    "\n",
    "$$\n",
    "\\begin{equation}\n",
    "\tp_{BB} (h_j=1 | \\boldsymbol{x}) =   \\frac{ e^{(b_j + \\boldsymbol{x}^T \\boldsymbol{w}_{\\ast j} ) h_j}  }\n",
    "\t{1 + e^{b_j + \\boldsymbol{x}^T \\boldsymbol{w}_{\\ast j}}} \n",
    "\\label{_auto54} \\tag{54}\n",
    "\\end{equation}\n",
    "$$"
   ]
  },
  {
   "cell_type": "markdown",
   "metadata": {},
   "source": [
    "<!-- Equation labels as ordinary links -->\n",
    "<div id=\"_auto55\"></div>\n",
    "\n",
    "$$\n",
    "\\begin{equation} \n",
    "\t=  \\frac{ e^{(b_j + \\boldsymbol{x}^T \\boldsymbol{w}_{\\ast j} )}  }\n",
    "\t{1 + e^{b_j + \\boldsymbol{x}^T \\boldsymbol{w}_{\\ast j}}} \n",
    "\\label{_auto55} \\tag{55}\n",
    "\\end{equation}\n",
    "$$"
   ]
  },
  {
   "cell_type": "markdown",
   "metadata": {},
   "source": [
    "<!-- Equation labels as ordinary links -->\n",
    "<div id=\"_auto56\"></div>\n",
    "\n",
    "$$\n",
    "\\begin{equation} \n",
    "\t=  \\frac{ 1 }{1 + e^{-(b_j + \\boldsymbol{x}^T \\boldsymbol{w}_{\\ast j})} } ,\n",
    "\\label{_auto56} \\tag{56}\n",
    "\\end{equation}\n",
    "$$"
   ]
  },
  {
   "cell_type": "markdown",
   "metadata": {},
   "source": [
    "and"
   ]
  },
  {
   "cell_type": "markdown",
   "metadata": {},
   "source": [
    "<!-- Equation labels as ordinary links -->\n",
    "<div id=\"_auto57\"></div>\n",
    "\n",
    "$$\n",
    "\\begin{equation}\n",
    "\tp_{BB} (h_j=0 | \\boldsymbol{x}) =\\frac{ 1 }{1 + e^{b_j + \\boldsymbol{x}^T \\boldsymbol{w}_{\\ast j}} } .\n",
    "\\label{_auto57} \\tag{57}\n",
    "\\end{equation}\n",
    "$$"
   ]
  },
  {
   "cell_type": "markdown",
   "metadata": {},
   "source": [
    "Similarly we have that the conditional probability of the visible units given the hidden are"
   ]
  },
  {
   "cell_type": "markdown",
   "metadata": {},
   "source": [
    "<!-- Equation labels as ordinary links -->\n",
    "<div id=\"_auto58\"></div>\n",
    "\n",
    "$$\n",
    "\\begin{equation}\n",
    "\tp_{BB} (\\boldsymbol{x}|\\boldsymbol{h}) = \\prod_i^M \\frac{ e^{ (a_i + \\boldsymbol{w}_{i\\ast}^T \\boldsymbol{h}) x_i} }{ 1 + e^{a_i + \\boldsymbol{w}_{i\\ast}^T \\boldsymbol{h}} } \n",
    "\\label{_auto58} \\tag{58}\n",
    "\\end{equation}\n",
    "$$"
   ]
  },
  {
   "cell_type": "markdown",
   "metadata": {},
   "source": [
    "<!-- Equation labels as ordinary links -->\n",
    "<div id=\"_auto59\"></div>\n",
    "\n",
    "$$\n",
    "\\begin{equation} \n",
    "\t= \\prod_i^M p_{BB} (x_i | \\boldsymbol{h}) .\n",
    "\\label{_auto59} \\tag{59}\n",
    "\\end{equation}\n",
    "$$"
   ]
  },
  {
   "cell_type": "markdown",
   "metadata": {},
   "source": [
    "<!-- Equation labels as ordinary links -->\n",
    "<div id=\"_auto60\"></div>\n",
    "\n",
    "$$\n",
    "\\begin{equation}\n",
    "\tp_{BB} (x_i=1 | \\boldsymbol{h}) = \\frac{1}{1 + e^{-(a_i + \\boldsymbol{w}_{i\\ast}^T \\boldsymbol{h} )}} \n",
    "\\label{_auto60} \\tag{60}\n",
    "\\end{equation}\n",
    "$$"
   ]
  },
  {
   "cell_type": "markdown",
   "metadata": {},
   "source": [
    "<!-- Equation labels as ordinary links -->\n",
    "<div id=\"_auto61\"></div>\n",
    "\n",
    "$$\n",
    "\\begin{equation} \n",
    "\tp_{BB} (x_i=0 | \\boldsymbol{h}) = \\frac{1}{1 + e^{a_i + \\boldsymbol{w}_{i\\ast}^T \\boldsymbol{h} }} .\n",
    "\\label{_auto61} \\tag{61}\n",
    "\\end{equation}\n",
    "$$"
   ]
  },
  {
   "cell_type": "markdown",
   "metadata": {},
   "source": [
    "### Gaussian-Binary Restricted Boltzmann Machines\n",
    "\n",
    "Inserting into the expression for $E_{RBM}(\\boldsymbol{x},\\boldsymbol{h})$ in equation  results in the energy"
   ]
  },
  {
   "cell_type": "markdown",
   "metadata": {},
   "source": [
    "$$\n",
    "E_{GB}(\\boldsymbol{x}, \\boldsymbol{h}) = \\sum_i^M \\frac{(x_i - a_i)^2}{2\\sigma_i^2}\n",
    "\t- \\sum_j^N b_j h_j \n",
    "\t-\\sum_{ij}^{M,N} \\frac{x_i w_{ij} h_j}{\\sigma_i^2} \\nonumber\n",
    "$$"
   ]
  },
  {
   "cell_type": "markdown",
   "metadata": {},
   "source": [
    "<!-- Equation labels as ordinary links -->\n",
    "<div id=\"_auto62\"></div>\n",
    "\n",
    "$$\n",
    "\\begin{equation} \n",
    "\t= \\vert\\vert\\frac{\\boldsymbol{x} -\\boldsymbol{a}}{2\\boldsymbol{\\sigma}}\\vert\\vert^2 - \\boldsymbol{b}^T \\boldsymbol{h} \n",
    "\t- (\\frac{\\boldsymbol{x}}{\\boldsymbol{\\sigma}^2})^T \\boldsymbol{W}\\boldsymbol{h} . \n",
    "\\label{_auto62} \\tag{62}\n",
    "\\end{equation}\n",
    "$$"
   ]
  },
  {
   "cell_type": "markdown",
   "metadata": {},
   "source": [
    "### Joint Probability Density Function"
   ]
  },
  {
   "cell_type": "markdown",
   "metadata": {},
   "source": [
    "$$\n",
    "p_{GB} (\\boldsymbol{x}, \\boldsymbol{h}) = \\frac{1}{Z_{GB}} e^{-\\vert\\vert\\frac{\\boldsymbol{x} -\\boldsymbol{a}}{2\\boldsymbol{\\sigma}}\\vert\\vert^2 + \\boldsymbol{b}^T \\boldsymbol{h} \n",
    "\t+ (\\frac{\\boldsymbol{x}}{\\boldsymbol{\\sigma}^2})^T \\boldsymbol{W}\\boldsymbol{h}} \\nonumber\n",
    "$$"
   ]
  },
  {
   "cell_type": "markdown",
   "metadata": {},
   "source": [
    "$$\n",
    "= \\frac{1}{Z_{GB}} e^{- \\sum_i^M \\frac{(x_i - a_i)^2}{2\\sigma_i^2}\n",
    "\t+ \\sum_j^N b_j h_j \n",
    "\t+\\sum_{ij}^{M,N} \\frac{x_i w_{ij} h_j}{\\sigma_i^2}} \\nonumber\n",
    "$$"
   ]
  },
  {
   "cell_type": "markdown",
   "metadata": {},
   "source": [
    "<!-- Equation labels as ordinary links -->\n",
    "<div id=\"_auto63\"></div>\n",
    "\n",
    "$$\n",
    "\\begin{equation} \n",
    "\t= \\frac{1}{Z_{GB}} \\prod_{ij}^{M,N} e^{-\\frac{(x_i - a_i)^2}{2\\sigma_i^2}\n",
    "\t+ b_j h_j \n",
    "\t+\\frac{x_i w_{ij} h_j}{\\sigma_i^2}} ,\n",
    "\\label{_auto63} \\tag{63}\n",
    "\\end{equation}\n",
    "$$"
   ]
  },
  {
   "cell_type": "markdown",
   "metadata": {},
   "source": [
    "with the partition function given by"
   ]
  },
  {
   "cell_type": "markdown",
   "metadata": {},
   "source": [
    "<!-- Equation labels as ordinary links -->\n",
    "<div id=\"_auto64\"></div>\n",
    "\n",
    "$$\n",
    "\\begin{equation}\n",
    "\tZ_{GB} = \\int \\sum_{\\tilde{\\boldsymbol{h}}}^{\\tilde{\\boldsymbol{H}}} e^{-\\vert\\vert\\frac{\\tilde{\\boldsymbol{x}} -\\boldsymbol{a}}{2\\boldsymbol{\\sigma}}\\vert\\vert^2 + \\boldsymbol{b}^T \\tilde{\\boldsymbol{h}} \n",
    "\t+ (\\frac{\\tilde{\\boldsymbol{x}}}{\\boldsymbol{\\sigma}^2})^T \\boldsymbol{W}\\tilde{\\boldsymbol{h}}} d\\tilde{\\boldsymbol{x}} .\n",
    "\\label{_auto64} \\tag{64}\n",
    "\\end{equation}\n",
    "$$"
   ]
  },
  {
   "cell_type": "markdown",
   "metadata": {},
   "source": [
    "### Marginal Probability Density Functions\n",
    "\n",
    "We proceed to find the marginal probability densitites of the\n",
    "Gaussian-binary RBM. We first marginalize over the binary hidden units\n",
    "to find $p_{GB} (\\boldsymbol{x})$"
   ]
  },
  {
   "cell_type": "markdown",
   "metadata": {},
   "source": [
    "$$\n",
    "p_{GB} (\\boldsymbol{x}) = \\sum_{\\tilde{\\boldsymbol{h}}}^{\\tilde{\\boldsymbol{H}}} p_{GB} (\\boldsymbol{x}, \\tilde{\\boldsymbol{h}}) \\nonumber\n",
    "$$"
   ]
  },
  {
   "cell_type": "markdown",
   "metadata": {},
   "source": [
    "$$\n",
    "= \\frac{1}{Z_{GB}} \\sum_{\\tilde{\\boldsymbol{h}}}^{\\tilde{\\boldsymbol{H}}} \n",
    "\te^{-\\vert\\vert\\frac{\\boldsymbol{x} -\\boldsymbol{a}}{2\\boldsymbol{\\sigma}}\\vert\\vert^2 + \\boldsymbol{b}^T \\tilde{\\boldsymbol{h}} \n",
    "\t+ (\\frac{\\boldsymbol{x}}{\\boldsymbol{\\sigma}^2})^T \\boldsymbol{W}\\tilde{\\boldsymbol{h}}} \\nonumber\n",
    "$$"
   ]
  },
  {
   "cell_type": "markdown",
   "metadata": {},
   "source": [
    "<!-- Equation labels as ordinary links -->\n",
    "<div id=\"_auto65\"></div>\n",
    "\n",
    "$$\n",
    "\\begin{equation} \n",
    "\t= \\frac{1}{Z_{GB}} e^{-\\vert\\vert\\frac{\\boldsymbol{x} -\\boldsymbol{a}}{2\\boldsymbol{\\sigma}}\\vert\\vert^2}\n",
    "\t\\prod_j^N (1 + e^{b_j + (\\frac{\\boldsymbol{x}}{\\boldsymbol{\\sigma}^2})^T \\boldsymbol{w}_{\\ast j}} ) .\n",
    "\\label{_auto65} \\tag{65}\n",
    "\\end{equation}\n",
    "$$"
   ]
  },
  {
   "cell_type": "markdown",
   "metadata": {},
   "source": [
    "We next marginalize over the visible units. This is the first time we\n",
    "marginalize over continuous values. We rewrite the exponential factor\n",
    "dependent on $\\boldsymbol{x}$ as a Gaussian function before we integrate in\n",
    "the last step."
   ]
  },
  {
   "cell_type": "markdown",
   "metadata": {},
   "source": [
    "$$\n",
    "p_{GB} (\\boldsymbol{h}) = \\int p_{GB} (\\tilde{\\boldsymbol{x}}, \\boldsymbol{h}) d\\tilde{\\boldsymbol{x}} \\nonumber\n",
    "$$"
   ]
  },
  {
   "cell_type": "markdown",
   "metadata": {},
   "source": [
    "$$\n",
    "= \\frac{1}{Z_{GB}} \\int e^{-\\vert\\vert\\frac{\\tilde{\\boldsymbol{x}} -\\boldsymbol{a}}{2\\boldsymbol{\\sigma}}\\vert\\vert^2 + \\boldsymbol{b}^T \\boldsymbol{h} \n",
    "\t+ (\\frac{\\tilde{\\boldsymbol{x}}}{\\boldsymbol{\\sigma}^2})^T \\boldsymbol{W}\\boldsymbol{h}} d\\tilde{\\boldsymbol{x}} \\nonumber\n",
    "$$"
   ]
  },
  {
   "cell_type": "markdown",
   "metadata": {},
   "source": [
    "$$\n",
    "= \\frac{1}{Z_{GB}} e^{\\boldsymbol{b}^T \\boldsymbol{h} } \\int \\prod_i^M\n",
    "\te^{- \\frac{(\\tilde{x}_i - a_i)^2}{2\\sigma_i^2} + \\frac{\\tilde{x}_i \\boldsymbol{w}_{i\\ast}^T \\boldsymbol{h}}{\\sigma_i^2} } d\\tilde{\\boldsymbol{x}} \\nonumber\n",
    "$$"
   ]
  },
  {
   "cell_type": "markdown",
   "metadata": {},
   "source": [
    "$$\n",
    "= \\frac{1}{Z_{GB}} e^{\\boldsymbol{b}^T \\boldsymbol{h} }\n",
    "\t\\biggl( \\int e^{- \\frac{(\\tilde{x}_1 - a_1)^2}{2\\sigma_1^2} + \\frac{\\tilde{x}_1 \\boldsymbol{w}_{1\\ast}^T \\boldsymbol{h}}{\\sigma_1^2} } d\\tilde{x}_1 \\nonumber\n",
    "$$"
   ]
  },
  {
   "cell_type": "markdown",
   "metadata": {},
   "source": [
    "$$\n",
    "\\times \\int e^{- \\frac{(\\tilde{x}_2 - a_2)^2}{2\\sigma_2^2} + \\frac{\\tilde{x}_2 \\boldsymbol{w}_{2\\ast}^T \\boldsymbol{h}}{\\sigma_2^2} } d\\tilde{x}_2 \\nonumber\n",
    "$$"
   ]
  },
  {
   "cell_type": "markdown",
   "metadata": {},
   "source": [
    "$$\n",
    "\\times ... \\nonumber\n",
    "$$"
   ]
  },
  {
   "cell_type": "markdown",
   "metadata": {},
   "source": [
    "$$\n",
    "\\times \\int e^{- \\frac{(\\tilde{x}_M - a_M)^2}{2\\sigma_M^2} + \\frac{\\tilde{x}_M \\boldsymbol{w}_{M\\ast}^T \\boldsymbol{h}}{\\sigma_M^2} } d\\tilde{x}_M \\biggr) \\nonumber\n",
    "$$"
   ]
  },
  {
   "cell_type": "markdown",
   "metadata": {},
   "source": [
    "$$\n",
    "= \\frac{1}{Z_{GB}} e^{\\boldsymbol{b}^T \\boldsymbol{h}} \\prod_i^M\n",
    "\t\\int e^{- \\frac{(\\tilde{x}_i - a_i)^2 - 2\\tilde{x}_i \\boldsymbol{w}_{i\\ast}^T \\boldsymbol{h}}{2\\sigma_i^2} } d\\tilde{x}_i \\nonumber\n",
    "$$"
   ]
  },
  {
   "cell_type": "markdown",
   "metadata": {},
   "source": [
    "$$\n",
    "= \\frac{1}{Z_{GB}} e^{\\boldsymbol{b}^T \\boldsymbol{h}} \\prod_i^M\n",
    "\t\\int e^{- \\frac{\\tilde{x}_i^2 - 2\\tilde{x}_i(a_i + \\tilde{x}_i \\boldsymbol{w}_{i\\ast}^T \\boldsymbol{h}) + a_i^2}{2\\sigma_i^2} } d\\tilde{x}_i \\nonumber\n",
    "$$"
   ]
  },
  {
   "cell_type": "markdown",
   "metadata": {},
   "source": [
    "$$\n",
    "= \\frac{1}{Z_{GB}} e^{\\boldsymbol{b}^T \\boldsymbol{h}} \\prod_i^M\n",
    "\t\\int e^{- \\frac{\\tilde{x}_i^2 - 2\\tilde{x}_i(a_i + \\boldsymbol{w}_{i\\ast}^T \\boldsymbol{h}) + (a_i + \\boldsymbol{w}_{i\\ast}^T \\boldsymbol{h})^2 - (a_i + \\boldsymbol{w}_{i\\ast}^T \\boldsymbol{h})^2 + a_i^2}{2\\sigma_i^2} } d\\tilde{x}_i \\nonumber\n",
    "$$"
   ]
  },
  {
   "cell_type": "markdown",
   "metadata": {},
   "source": [
    "$$\n",
    "= \\frac{1}{Z_{GB}} e^{\\boldsymbol{b}^T \\boldsymbol{h}} \\prod_i^M\n",
    "\t\\int e^{- \\frac{(\\tilde{x}_i - (a_i + \\boldsymbol{w}_{i\\ast}^T \\boldsymbol{h}))^2 - a_i^2 -2a_i \\boldsymbol{w}_{i\\ast}^T \\boldsymbol{h} - (\\boldsymbol{w}_{i\\ast}^T \\boldsymbol{h})^2 + a_i^2}{2\\sigma_i^2} } d\\tilde{x}_i \\nonumber\n",
    "$$"
   ]
  },
  {
   "cell_type": "markdown",
   "metadata": {},
   "source": [
    "$$\n",
    "= \\frac{1}{Z_{GB}} e^{\\boldsymbol{b}^T \\boldsymbol{h}} \\prod_i^M\n",
    "\te^{\\frac{2a_i \\boldsymbol{w}_{i\\ast}^T \\boldsymbol{h} +(\\boldsymbol{w}_{i\\ast}^T \\boldsymbol{h})^2 }{2\\sigma_i^2}}\n",
    "\t\\int e^{- \\frac{(\\tilde{x}_i - a_i - \\boldsymbol{w}_{i\\ast}^T \\boldsymbol{h})^2}{2\\sigma_i^2}}\n",
    "\td\\tilde{x}_i \\nonumber\n",
    "$$"
   ]
  },
  {
   "cell_type": "markdown",
   "metadata": {},
   "source": [
    "<!-- Equation labels as ordinary links -->\n",
    "<div id=\"_auto66\"></div>\n",
    "\n",
    "$$\n",
    "\\begin{equation} \n",
    "\t= \\frac{1}{Z_{GB}} e^{\\boldsymbol{b}^T \\boldsymbol{h}} \\prod_i^M\n",
    "\t\\sqrt{2\\pi \\sigma_i^2}\n",
    "\te^{\\frac{2a_i \\boldsymbol{w}_{i\\ast}^T \\boldsymbol{h} +(\\boldsymbol{w}_{i\\ast}^T \\boldsymbol{h})^2 }{2\\sigma_i^2}} .\n",
    "\\label{_auto66} \\tag{66}\n",
    "\\end{equation}\n",
    "$$"
   ]
  },
  {
   "cell_type": "markdown",
   "metadata": {},
   "source": [
    "### Conditional Probability Density Functions\n",
    "\n",
    "We finish by deriving the conditional probabilities."
   ]
  },
  {
   "cell_type": "markdown",
   "metadata": {},
   "source": [
    "$$\n",
    "p_{GB} (\\boldsymbol{h}| \\boldsymbol{x}) = \\frac{p_{GB} (\\boldsymbol{x}, \\boldsymbol{h})}{p_{GB} (\\boldsymbol{x})} \\nonumber\n",
    "$$"
   ]
  },
  {
   "cell_type": "markdown",
   "metadata": {},
   "source": [
    "$$\n",
    "= \\frac{\\frac{1}{Z_{GB}} e^{-\\vert\\vert\\frac{\\boldsymbol{x} -\\boldsymbol{a}}{2\\boldsymbol{\\sigma}}\\vert\\vert^2 + \\boldsymbol{b}^T \\boldsymbol{h} \n",
    "\t+ (\\frac{\\boldsymbol{x}}{\\boldsymbol{\\sigma}^2})^T \\boldsymbol{W}\\boldsymbol{h}}}\n",
    "\t{\\frac{1}{Z_{GB}} e^{-\\vert\\vert\\frac{\\boldsymbol{x} -\\boldsymbol{a}}{2\\boldsymbol{\\sigma}}\\vert\\vert^2}\n",
    "\t\\prod_j^N (1 + e^{b_j + (\\frac{\\boldsymbol{x}}{\\boldsymbol{\\sigma}^2})^T \\boldsymbol{w}_{\\ast j}} ) }\n",
    "\t\\nonumber\n",
    "$$"
   ]
  },
  {
   "cell_type": "markdown",
   "metadata": {},
   "source": [
    "$$\n",
    "= \\prod_j^N \\frac{e^{(b_j + (\\frac{\\boldsymbol{x}}{\\boldsymbol{\\sigma}^2})^T \\boldsymbol{w}_{\\ast j})h_j } }\n",
    "\t{1 + e^{b_j + (\\frac{\\boldsymbol{x}}{\\boldsymbol{\\sigma}^2})^T \\boldsymbol{w}_{\\ast j}}} \\nonumber\n",
    "$$"
   ]
  },
  {
   "cell_type": "markdown",
   "metadata": {},
   "source": [
    "<!-- Equation labels as ordinary links -->\n",
    "<div id=\"_auto67\"></div>\n",
    "\n",
    "$$\n",
    "\\begin{equation} \n",
    "\t= \\prod_j^N p_{GB} (h_j|\\boldsymbol{x}).\n",
    "\\label{_auto67} \\tag{67}\n",
    "\\end{equation}\n",
    "$$"
   ]
  },
  {
   "cell_type": "markdown",
   "metadata": {},
   "source": [
    "The conditional probability of a binary hidden unit $h_j$ being on or off again takes the form of a sigmoid function"
   ]
  },
  {
   "cell_type": "markdown",
   "metadata": {},
   "source": [
    "$$\n",
    "p_{GB} (h_j =1 | \\boldsymbol{x}) = \\frac{e^{b_j + (\\frac{\\boldsymbol{x}}{\\boldsymbol{\\sigma}^2})^T \\boldsymbol{w}_{\\ast j} } }\n",
    "\t{1 + e^{b_j + (\\frac{\\boldsymbol{x}}{\\boldsymbol{\\sigma}^2})^T \\boldsymbol{w}_{\\ast j}}} \\nonumber\n",
    "$$"
   ]
  },
  {
   "cell_type": "markdown",
   "metadata": {},
   "source": [
    "<!-- Equation labels as ordinary links -->\n",
    "<div id=\"_auto68\"></div>\n",
    "\n",
    "$$\n",
    "\\begin{equation} \n",
    "\t= \\frac{1}{1 + e^{-b_j - (\\frac{\\boldsymbol{x}}{\\boldsymbol{\\sigma}^2})^T \\boldsymbol{w}_{\\ast j}}} \n",
    "\\label{_auto68} \\tag{68}\n",
    "\\end{equation}\n",
    "$$"
   ]
  },
  {
   "cell_type": "markdown",
   "metadata": {},
   "source": [
    "<!-- Equation labels as ordinary links -->\n",
    "<div id=\"_auto69\"></div>\n",
    "\n",
    "$$\n",
    "\\begin{equation} \n",
    "\tp_{GB} (h_j =0 | \\boldsymbol{x}) =\n",
    "\t\\frac{1}{1 + e^{b_j +(\\frac{\\boldsymbol{x}}{\\boldsymbol{\\sigma}^2})^T \\boldsymbol{w}_{\\ast j}}} .\n",
    "\\label{_auto69} \\tag{69}\n",
    "\\end{equation}\n",
    "$$"
   ]
  },
  {
   "cell_type": "markdown",
   "metadata": {},
   "source": [
    "The conditional probability of the continuous $\\boldsymbol{x}$ now has another form, however."
   ]
  },
  {
   "cell_type": "markdown",
   "metadata": {},
   "source": [
    "$$\n",
    "p_{GB} (\\boldsymbol{x}|\\boldsymbol{h})\n",
    "\t= \\frac{p_{GB} (\\boldsymbol{x}, \\boldsymbol{h})}{p_{GB} (\\boldsymbol{h})} \\nonumber\n",
    "$$"
   ]
  },
  {
   "cell_type": "markdown",
   "metadata": {},
   "source": [
    "$$\n",
    "= \\frac{\\frac{1}{Z_{GB}} e^{-\\vert\\vert\\frac{\\boldsymbol{x} -\\boldsymbol{a}}{2\\boldsymbol{\\sigma}}\\vert\\vert^2 + \\boldsymbol{b}^T \\boldsymbol{h} \n",
    "\t+ (\\frac{\\boldsymbol{x}}{\\boldsymbol{\\sigma}^2})^T \\boldsymbol{W}\\boldsymbol{h}}}\n",
    "\t{\\frac{1}{Z_{GB}} e^{\\boldsymbol{b}^T \\boldsymbol{h}} \\prod_i^M\n",
    "\t\\sqrt{2\\pi \\sigma_i^2}\n",
    "\te^{\\frac{2a_i \\boldsymbol{w}_{i\\ast}^T \\boldsymbol{h} +(\\boldsymbol{w}_{i\\ast}^T \\boldsymbol{h})^2 }{2\\sigma_i^2}}}\n",
    "\t\\nonumber\n",
    "$$"
   ]
  },
  {
   "cell_type": "markdown",
   "metadata": {},
   "source": [
    "$$\n",
    "= \\prod_i^M \\frac{1}{\\sqrt{2\\pi \\sigma_i^2}}\n",
    "\t\\frac{e^{- \\frac{(x_i - a_i)^2}{2\\sigma_i^2} + \\frac{x_i \\boldsymbol{w}_{i\\ast}^T \\boldsymbol{h}}{2\\sigma_i^2} }}\n",
    "\t{e^{\\frac{2a_i \\boldsymbol{w}_{i\\ast}^T \\boldsymbol{h} +(\\boldsymbol{w}_{i\\ast}^T \\boldsymbol{h})^2 }{2\\sigma_i^2}}}\n",
    "\t\\nonumber\n",
    "$$"
   ]
  },
  {
   "cell_type": "markdown",
   "metadata": {},
   "source": [
    "$$\n",
    "= \\prod_i^M \\frac{1}{\\sqrt{2\\pi \\sigma_i^2}}\n",
    "\t\\frac{e^{-\\frac{x_i^2 - 2a_i x_i + a_i^2 - 2x_i \\boldsymbol{w}_{i\\ast}^T\\boldsymbol{h} }{2\\sigma_i^2} } }\n",
    "\t{e^{\\frac{2a_i \\boldsymbol{w}_{i\\ast}^T \\boldsymbol{h} +(\\boldsymbol{w}_{i\\ast}^T \\boldsymbol{h})^2 }{2\\sigma_i^2}}}\n",
    "\t\\nonumber\n",
    "$$"
   ]
  },
  {
   "cell_type": "markdown",
   "metadata": {},
   "source": [
    "$$\n",
    "= \\prod_i^M \\frac{1}{\\sqrt{2\\pi \\sigma_i^2}}\n",
    "\te^{- \\frac{x_i^2 - 2a_i x_i + a_i^2 - 2x_i \\boldsymbol{w}_{i\\ast}^T\\boldsymbol{h}\n",
    "\t+ 2a_i \\boldsymbol{w}_{i\\ast}^T \\boldsymbol{h} +(\\boldsymbol{w}_{i\\ast}^T \\boldsymbol{h})^2}\n",
    "\t{2\\sigma_i^2} }\n",
    "\t\\nonumber\n",
    "$$"
   ]
  },
  {
   "cell_type": "markdown",
   "metadata": {},
   "source": [
    "$$\n",
    "= \\prod_i^M \\frac{1}{\\sqrt{2\\pi \\sigma_i^2}}\n",
    "\te^{ - \\frac{(x_i - b_i - \\boldsymbol{w}_{i\\ast}^T \\boldsymbol{h})^2}{2\\sigma_i^2}} \\nonumber\n",
    "$$"
   ]
  },
  {
   "cell_type": "markdown",
   "metadata": {},
   "source": [
    "<!-- Equation labels as ordinary links -->\n",
    "<div id=\"_auto70\"></div>\n",
    "\n",
    "$$\n",
    "\\begin{equation} \n",
    "\t= \\prod_i^M \\mathcal{N}\n",
    "\t(x_i | b_i + \\boldsymbol{w}_{i\\ast}^T \\boldsymbol{h}, \\sigma_i^2) \n",
    "\\label{_auto70} \\tag{70}\n",
    "\\end{equation}\n",
    "$$"
   ]
  },
  {
   "cell_type": "markdown",
   "metadata": {},
   "source": [
    "<!-- Equation labels as ordinary links -->\n",
    "<div id=\"_auto71\"></div>\n",
    "\n",
    "$$\n",
    "\\begin{equation} \n",
    "\t\\Rightarrow p_{GB} (x_i|\\boldsymbol{h}) = \\mathcal{N}\n",
    "\t(x_i | b_i + \\boldsymbol{w}_{i\\ast}^T \\boldsymbol{h}, \\sigma_i^2) .\n",
    "\\label{_auto71} \\tag{71}\n",
    "\\end{equation}\n",
    "$$"
   ]
  },
  {
   "cell_type": "markdown",
   "metadata": {},
   "source": [
    "The form of these conditional probabilities explains the name\n",
    "\"Gaussian\" and the form of the Gaussian-binary energy function. We see\n",
    "that the conditional probability of $x_i$ given $\\boldsymbol{h}$ is a normal\n",
    "distribution with mean $b_i + \\boldsymbol{w}_{i\\ast}^T \\boldsymbol{h}$ and variance\n",
    "$\\sigma_i^2$.\n",
    "\n",
    "\n",
    "## Neural Quantum States\n",
    "\n",
    "\n",
    "The wavefunction should be a probability amplitude depending on $\\boldsymbol{x}$. The RBM model is given by the joint distribution of $\\boldsymbol{x}$ and $\\boldsymbol{h}$"
   ]
  },
  {
   "cell_type": "markdown",
   "metadata": {},
   "source": [
    "<!-- Equation labels as ordinary links -->\n",
    "<div id=\"_auto72\"></div>\n",
    "\n",
    "$$\n",
    "\\begin{equation}\n",
    "\tF_{rbm}(\\boldsymbol{x},\\mathbf{h}) = \\frac{1}{Z} e^{-\\frac{1}{T_0}E(\\boldsymbol{x},\\mathbf{h})}\n",
    "\\label{_auto72} \\tag{72}\n",
    "\\end{equation}\n",
    "$$"
   ]
  },
  {
   "cell_type": "markdown",
   "metadata": {},
   "source": [
    "To find the marginal distribution of $\\boldsymbol{x}$ we set:"
   ]
  },
  {
   "cell_type": "markdown",
   "metadata": {},
   "source": [
    "<!-- Equation labels as ordinary links -->\n",
    "<div id=\"_auto73\"></div>\n",
    "\n",
    "$$\n",
    "\\begin{equation}\n",
    "\tF_{rbm}(\\mathbf{x}) = \\sum_\\mathbf{h} F_{rbm}(\\mathbf{x}, \\mathbf{h}) \n",
    "\\label{_auto73} \\tag{73}\n",
    "\\end{equation}\n",
    "$$"
   ]
  },
  {
   "cell_type": "markdown",
   "metadata": {},
   "source": [
    "<!-- Equation labels as ordinary links -->\n",
    "<div id=\"_auto74\"></div>\n",
    "\n",
    "$$\n",
    "\\begin{equation} \n",
    "\t\t\t\t= \\frac{1}{Z}\\sum_\\mathbf{h} e^{-E(\\mathbf{x}, \\mathbf{h})}\n",
    "\\label{_auto74} \\tag{74}\n",
    "\\end{equation}\n",
    "$$"
   ]
  },
  {
   "cell_type": "markdown",
   "metadata": {},
   "source": [
    "Now this is what we use to represent the wave function, calling it a neural-network quantum state (NQS)"
   ]
  },
  {
   "cell_type": "markdown",
   "metadata": {},
   "source": [
    "<!-- Equation labels as ordinary links -->\n",
    "<div id=\"_auto75\"></div>\n",
    "\n",
    "$$\n",
    "\\begin{equation}\n",
    "\t\\Psi (\\mathbf{X}) = F_{rbm}(\\mathbf{x}) \n",
    "\\label{_auto75} \\tag{75}\n",
    "\\end{equation}\n",
    "$$"
   ]
  },
  {
   "cell_type": "markdown",
   "metadata": {},
   "source": [
    "<!-- Equation labels as ordinary links -->\n",
    "<div id=\"_auto76\"></div>\n",
    "\n",
    "$$\n",
    "\\begin{equation} \n",
    "\t= \\frac{1}{Z}\\sum_{\\boldsymbol{h}} e^{-E(\\mathbf{x}, \\mathbf{h})} \n",
    "\\label{_auto76} \\tag{76}\n",
    "\\end{equation}\n",
    "$$"
   ]
  },
  {
   "cell_type": "markdown",
   "metadata": {},
   "source": [
    "<!-- Equation labels as ordinary links -->\n",
    "<div id=\"_auto77\"></div>\n",
    "\n",
    "$$\n",
    "\\begin{equation} \n",
    "\t= \\frac{1}{Z} \\sum_{\\{h_j\\}} e^{-\\sum_i^M \\frac{(x_i - a_i)^2}{2\\sigma^2} + \\sum_j^N b_j h_j + \\sum_{i,j}^{M,N} \\frac{x_i w_{ij} h_j}{\\sigma^2}} \n",
    "\\label{_auto77} \\tag{77}\n",
    "\\end{equation}\n",
    "$$"
   ]
  },
  {
   "cell_type": "markdown",
   "metadata": {},
   "source": [
    "<!-- Equation labels as ordinary links -->\n",
    "<div id=\"_auto78\"></div>\n",
    "\n",
    "$$\n",
    "\\begin{equation} \n",
    "\t= \\frac{1}{Z} e^{-\\sum_i^M \\frac{(x_i - a_i)^2}{2\\sigma^2}} \\prod_j^N (1 + e^{b_j + \\sum_i^M \\frac{x_i w_{ij}}{\\sigma^2}}) \n",
    "\\label{_auto78} \\tag{78}\n",
    "\\end{equation}\n",
    "$$"
   ]
  },
  {
   "cell_type": "markdown",
   "metadata": {},
   "source": [
    "<!-- Equation labels as ordinary links -->\n",
    "<div id=\"_auto79\"></div>\n",
    "\n",
    "$$\n",
    "\\begin{equation} \n",
    "\\label{_auto79} \\tag{79}\n",
    "\\end{equation}\n",
    "$$"
   ]
  },
  {
   "cell_type": "markdown",
   "metadata": {},
   "source": [
    "The above wavefunction is the most general one because it allows for\n",
    "complex valued wavefunctions. However it fundamentally changes the\n",
    "probabilistic foundation of the RBM, because what is usually a\n",
    "probability in the RBM framework is now a an amplitude. This means\n",
    "that a lot of the theoretical framework usually used to interpret the\n",
    "model, i.e. graphical models, conditional probabilities, and Markov\n",
    "random fields, breaks down. If we assume the wavefunction to be\n",
    "postive definite, however, we can use the RBM to represent the squared\n",
    "wavefunction, and thereby a probability. This also makes it possible\n",
    "to sample from the model using Gibbs sampling, because we can obtain\n",
    "the conditional probabilities."
   ]
  },
  {
   "cell_type": "markdown",
   "metadata": {},
   "source": [
    "<!-- Equation labels as ordinary links -->\n",
    "<div id=\"_auto80\"></div>\n",
    "\n",
    "$$\n",
    "\\begin{equation}\n",
    "\t|\\Psi (\\mathbf{X})|^2 = F_{rbm}(\\mathbf{X}) \n",
    "\\label{_auto80} \\tag{80}\n",
    "\\end{equation}\n",
    "$$"
   ]
  },
  {
   "cell_type": "markdown",
   "metadata": {},
   "source": [
    "<!-- Equation labels as ordinary links -->\n",
    "<div id=\"_auto81\"></div>\n",
    "\n",
    "$$\n",
    "\\begin{equation} \n",
    "\t\\Rightarrow \\Psi (\\mathbf{X}) = \\sqrt{F_{rbm}(\\mathbf{X})} \n",
    "\\label{_auto81} \\tag{81}\n",
    "\\end{equation}\n",
    "$$"
   ]
  },
  {
   "cell_type": "markdown",
   "metadata": {},
   "source": [
    "<!-- Equation labels as ordinary links -->\n",
    "<div id=\"_auto82\"></div>\n",
    "\n",
    "$$\n",
    "\\begin{equation} \n",
    "\t= \\frac{1}{\\sqrt{Z}}\\sqrt{\\sum_{\\{h_j\\}} e^{-E(\\mathbf{X}, \\mathbf{h})}} \n",
    "\\label{_auto82} \\tag{82}\n",
    "\\end{equation}\n",
    "$$"
   ]
  },
  {
   "cell_type": "markdown",
   "metadata": {},
   "source": [
    "<!-- Equation labels as ordinary links -->\n",
    "<div id=\"_auto83\"></div>\n",
    "\n",
    "$$\n",
    "\\begin{equation} \n",
    "\t= \\frac{1}{\\sqrt{Z}} \\sqrt{\\sum_{\\{h_j\\}} e^{-\\sum_i^M \\frac{(X_i - a_i)^2}{2\\sigma^2} + \\sum_j^N b_j h_j + \\sum_{i,j}^{M,N} \\frac{X_i w_{ij} h_j}{\\sigma^2}} }\n",
    "\\label{_auto83} \\tag{83}\n",
    "\\end{equation}\n",
    "$$"
   ]
  },
  {
   "cell_type": "markdown",
   "metadata": {},
   "source": [
    "<!-- Equation labels as ordinary links -->\n",
    "<div id=\"_auto84\"></div>\n",
    "\n",
    "$$\n",
    "\\begin{equation} \n",
    "\t= \\frac{1}{\\sqrt{Z}} e^{-\\sum_i^M \\frac{(X_i - a_i)^2}{4\\sigma^2}} \\sqrt{\\sum_{\\{h_j\\}} \\prod_j^N e^{b_j h_j + \\sum_i^M \\frac{X_i w_{ij} h_j}{\\sigma^2}}} \n",
    "\\label{_auto84} \\tag{84}\n",
    "\\end{equation}\n",
    "$$"
   ]
  },
  {
   "cell_type": "markdown",
   "metadata": {},
   "source": [
    "<!-- Equation labels as ordinary links -->\n",
    "<div id=\"_auto85\"></div>\n",
    "\n",
    "$$\n",
    "\\begin{equation} \n",
    "\t= \\frac{1}{\\sqrt{Z}} e^{-\\sum_i^M \\frac{(X_i - a_i)^2}{4\\sigma^2}} \\sqrt{\\prod_j^N \\sum_{h_j}  e^{b_j h_j + \\sum_i^M \\frac{X_i w_{ij} h_j}{\\sigma^2}}} \n",
    "\\label{_auto85} \\tag{85}\n",
    "\\end{equation}\n",
    "$$"
   ]
  },
  {
   "cell_type": "markdown",
   "metadata": {},
   "source": [
    "<!-- Equation labels as ordinary links -->\n",
    "<div id=\"_auto86\"></div>\n",
    "\n",
    "$$\n",
    "\\begin{equation} \n",
    "\t= \\frac{1}{\\sqrt{Z}} e^{-\\sum_i^M \\frac{(X_i - a_i)^2}{4\\sigma^2}} \\prod_j^N \\sqrt{e^0 + e^{b_j + \\sum_i^M \\frac{X_i w_{ij}}{\\sigma^2}}} \n",
    "\\label{_auto86} \\tag{86}\n",
    "\\end{equation}\n",
    "$$"
   ]
  },
  {
   "cell_type": "markdown",
   "metadata": {},
   "source": [
    "<!-- Equation labels as ordinary links -->\n",
    "<div id=\"_auto87\"></div>\n",
    "\n",
    "$$\n",
    "\\begin{equation} \n",
    "\t= \\frac{1}{\\sqrt{Z}} e^{-\\sum_i^M \\frac{(X_i - a_i)^2}{4\\sigma^2}} \\prod_j^N \\sqrt{1 + e^{b_j + \\sum_i^M \\frac{X_i w_{ij}}{\\sigma^2}}} \n",
    "\\label{_auto87} \\tag{87}\n",
    "\\end{equation}\n",
    "$$"
   ]
  },
  {
   "cell_type": "markdown",
   "metadata": {},
   "source": [
    "<!-- Equation labels as ordinary links -->\n",
    "<div id=\"_auto88\"></div>\n",
    "\n",
    "$$\n",
    "\\begin{equation} \n",
    "\\label{_auto88} \\tag{88}\n",
    "\\end{equation}\n",
    "$$"
   ]
  },
  {
   "cell_type": "markdown",
   "metadata": {},
   "source": [
    "### Cost function\n",
    "\n",
    "This is where we deviate from what is common in machine\n",
    "learning. Rather than defining a cost function based on some dataset,\n",
    "our cost function is the energy of the quantum mechanical system. From\n",
    "the variational principle we know that minizing this energy should\n",
    "lead to the ground state wavefunction. As stated previously the local\n",
    "energy is given by"
   ]
  },
  {
   "cell_type": "markdown",
   "metadata": {},
   "source": [
    "<!-- Equation labels as ordinary links -->\n",
    "<div id=\"_auto89\"></div>\n",
    "\n",
    "$$\n",
    "\\begin{equation}\n",
    "\tE_L = \\frac{1}{\\Psi} \\hat{\\mathbf{H}} \\Psi,\n",
    "\\label{_auto89} \\tag{89}\n",
    "\\end{equation}\n",
    "$$"
   ]
  },
  {
   "cell_type": "markdown",
   "metadata": {},
   "source": [
    "and the gradient is"
   ]
  },
  {
   "cell_type": "markdown",
   "metadata": {},
   "source": [
    "<!-- Equation labels as ordinary links -->\n",
    "<div id=\"_auto90\"></div>\n",
    "\n",
    "$$\n",
    "\\begin{equation}\n",
    "\tG_i = \\frac{\\partial \\langle E_L \\rangle}{\\partial \\alpha_i}\n",
    "\t= 2(\\langle E_L \\frac{1}{\\Psi}\\frac{\\partial \\Psi}{\\partial \\alpha_i} \\rangle - \\langle E_L \\rangle \\langle \\frac{1}{\\Psi}\\frac{\\partial \\Psi}{\\partial \\alpha_i} \\rangle ),\n",
    "\\label{_auto90} \\tag{90}\n",
    "\\end{equation}\n",
    "$$"
   ]
  },
  {
   "cell_type": "markdown",
   "metadata": {},
   "source": [
    "where $\\alpha_i = a_1,...,a_M,b_1,...,b_N,w_{11},...,w_{MN}$.\n",
    "\n",
    "\n",
    "We use that $\\frac{1}{\\Psi}\\frac{\\partial \\Psi}{\\partial \\alpha_i} \n",
    "\t= \\frac{\\partial \\ln{\\Psi}}{\\partial \\alpha_i}$,\n",
    "and find"
   ]
  },
  {
   "cell_type": "markdown",
   "metadata": {},
   "source": [
    "<!-- Equation labels as ordinary links -->\n",
    "<div id=\"_auto91\"></div>\n",
    "\n",
    "$$\n",
    "\\begin{equation}\n",
    "\t\\ln{\\Psi({\\mathbf{X}})} = -\\ln{Z} - \\sum_m^M \\frac{(X_m - a_m)^2}{2\\sigma^2}\n",
    "\t+ \\sum_n^N \\ln({1 + e^{b_n + \\sum_i^M \\frac{X_i w_{in}}{\\sigma^2}})}.\n",
    "\\label{_auto91} \\tag{91}\n",
    "\\end{equation}\n",
    "$$"
   ]
  },
  {
   "cell_type": "markdown",
   "metadata": {},
   "source": [
    "This gives"
   ]
  },
  {
   "cell_type": "markdown",
   "metadata": {},
   "source": [
    "<!-- Equation labels as ordinary links -->\n",
    "<div id=\"_auto92\"></div>\n",
    "\n",
    "$$\n",
    "\\begin{equation}\n",
    "\t\\frac{\\partial }{\\partial a_m} \\ln\\Psi\n",
    "\t= \t\\frac{1}{\\sigma^2} (X_m - a_m) \n",
    "\\label{_auto92} \\tag{92}\n",
    "\\end{equation}\n",
    "$$"
   ]
  },
  {
   "cell_type": "markdown",
   "metadata": {},
   "source": [
    "<!-- Equation labels as ordinary links -->\n",
    "<div id=\"_auto93\"></div>\n",
    "\n",
    "$$\n",
    "\\begin{equation} \n",
    "\t\\frac{\\partial }{\\partial b_n} \\ln\\Psi\n",
    "\t=\n",
    "\t\\frac{1}{e^{-b_n-\\frac{1}{\\sigma^2}\\sum_i^M X_i w_{in}} + 1} \n",
    "\\label{_auto93} \\tag{93}\n",
    "\\end{equation}\n",
    "$$"
   ]
  },
  {
   "cell_type": "markdown",
   "metadata": {},
   "source": [
    "<!-- Equation labels as ordinary links -->\n",
    "<div id=\"_auto94\"></div>\n",
    "\n",
    "$$\n",
    "\\begin{equation} \n",
    "\t\\frac{\\partial }{\\partial w_{mn}} \\ln\\Psi\n",
    "\t= \\frac{X_m}{\\sigma^2(e^{-b_n-\\frac{1}{\\sigma^2}\\sum_i^M X_i w_{in}} + 1)}.\n",
    "\\label{_auto94} \\tag{94}\n",
    "\\end{equation}\n",
    "$$"
   ]
  },
  {
   "cell_type": "markdown",
   "metadata": {},
   "source": [
    "If $\\Psi = \\sqrt{F_{rbm}}$ we have"
   ]
  },
  {
   "cell_type": "markdown",
   "metadata": {},
   "source": [
    "<!-- Equation labels as ordinary links -->\n",
    "<div id=\"_auto95\"></div>\n",
    "\n",
    "$$\n",
    "\\begin{equation}\n",
    "\t\\ln{\\Psi({\\mathbf{X}})} = -\\frac{1}{2}\\ln{Z} - \\sum_m^M \\frac{(X_m - a_m)^2}{4\\sigma^2}\n",
    "\t+ \\frac{1}{2}\\sum_n^N \\ln({1 + e^{b_n + \\sum_i^M \\frac{X_i w_{in}}{\\sigma^2}})},\n",
    "\\label{_auto95} \\tag{95}\n",
    "\\end{equation}\n",
    "$$"
   ]
  },
  {
   "cell_type": "markdown",
   "metadata": {},
   "source": [
    "which results in"
   ]
  },
  {
   "cell_type": "markdown",
   "metadata": {},
   "source": [
    "<!-- Equation labels as ordinary links -->\n",
    "<div id=\"_auto96\"></div>\n",
    "\n",
    "$$\n",
    "\\begin{equation}\n",
    "\t\\frac{\\partial }{\\partial a_m} \\ln\\Psi\n",
    "\t= \t\\frac{1}{2\\sigma^2} (X_m - a_m) \n",
    "\\label{_auto96} \\tag{96}\n",
    "\\end{equation}\n",
    "$$"
   ]
  },
  {
   "cell_type": "markdown",
   "metadata": {},
   "source": [
    "<!-- Equation labels as ordinary links -->\n",
    "<div id=\"_auto97\"></div>\n",
    "\n",
    "$$\n",
    "\\begin{equation} \n",
    "\t\\frac{\\partial }{\\partial b_n} \\ln\\Psi\n",
    "\t=\n",
    "\t\\frac{1}{2(e^{-b_n-\\frac{1}{\\sigma^2}\\sum_i^M X_i w_{in}} + 1)} \n",
    "\\label{_auto97} \\tag{97}\n",
    "\\end{equation}\n",
    "$$"
   ]
  },
  {
   "cell_type": "markdown",
   "metadata": {},
   "source": [
    "<!-- Equation labels as ordinary links -->\n",
    "<div id=\"_auto98\"></div>\n",
    "\n",
    "$$\n",
    "\\begin{equation} \n",
    "\t\\frac{\\partial }{\\partial w_{mn}} \\ln\\Psi\n",
    "\t= \\frac{X_m}{2\\sigma^2(e^{-b_n-\\frac{1}{\\sigma^2}\\sum_i^M X_i w_{in}} + 1)}.\n",
    "\\label{_auto98} \\tag{98}\n",
    "\\end{equation}\n",
    "$$"
   ]
  },
  {
   "cell_type": "markdown",
   "metadata": {},
   "source": [
    "Let us assume again that our Hamiltonian is"
   ]
  },
  {
   "cell_type": "markdown",
   "metadata": {},
   "source": [
    "<!-- Equation labels as ordinary links -->\n",
    "<div id=\"_auto99\"></div>\n",
    "\n",
    "$$\n",
    "\\begin{equation}\n",
    "\t\\hat{\\mathbf{H}} = \\sum_p^P (-\\frac{1}{2}\\nabla_p^2 + \\frac{1}{2}\\omega^2 r_p^2 ) + \\sum_{p<q} \\frac{1}{r_{pq}},\n",
    "\\label{_auto99} \\tag{99}\n",
    "\\end{equation}\n",
    "$$"
   ]
  },
  {
   "cell_type": "markdown",
   "metadata": {},
   "source": [
    "where the first summation term represents the standard harmonic\n",
    "oscillator part and the latter the repulsive interaction between two\n",
    "electrons. Natural units ($\\hbar=c=e=m_e=1$) are used, and $P$ is the\n",
    "number of particles. This gives us the following expression for the\n",
    "local energy ($D$ being the number of dimensions)"
   ]
  },
  {
   "cell_type": "markdown",
   "metadata": {},
   "source": [
    "<!-- Equation labels as ordinary links -->\n",
    "<div id=\"_auto100\"></div>\n",
    "\n",
    "$$\n",
    "\\begin{equation}\n",
    "\tE_L = \\frac{1}{\\Psi} \\mathbf{H} \\Psi \n",
    "\\label{_auto100} \\tag{100}\n",
    "\\end{equation}\n",
    "$$"
   ]
  },
  {
   "cell_type": "markdown",
   "metadata": {},
   "source": [
    "<!-- Equation labels as ordinary links -->\n",
    "<div id=\"_auto101\"></div>\n",
    "\n",
    "$$\n",
    "\\begin{equation} \n",
    "\t= \\frac{1}{\\Psi} (\\sum_p^P (-\\frac{1}{2}\\nabla_p^2 + \\frac{1}{2}\\omega^2 r_p^2 ) + \\sum_{p<q} \\frac{1}{r_{pq}}) \\Psi \n",
    "\\label{_auto101} \\tag{101}\n",
    "\\end{equation}\n",
    "$$"
   ]
  },
  {
   "cell_type": "markdown",
   "metadata": {},
   "source": [
    "<!-- Equation labels as ordinary links -->\n",
    "<div id=\"_auto102\"></div>\n",
    "\n",
    "$$\n",
    "\\begin{equation} \n",
    "\t= -\\frac{1}{2}\\frac{1}{\\Psi} \\sum_p^P \\nabla_p^2 \\Psi \n",
    "\t+ \\frac{1}{2}\\omega^2 \\sum_p^P  r_p^2  + \\sum_{p<q} \\frac{1}{r_{pq}} \n",
    "\\label{_auto102} \\tag{102}\n",
    "\\end{equation}\n",
    "$$"
   ]
  },
  {
   "cell_type": "markdown",
   "metadata": {},
   "source": [
    "<!-- Equation labels as ordinary links -->\n",
    "<div id=\"_auto103\"></div>\n",
    "\n",
    "$$\n",
    "\\begin{equation} \n",
    "\t= -\\frac{1}{2}\\frac{1}{\\Psi} \\sum_p^P \\sum_d^D \\frac{\\partial^2 \\Psi}{\\partial x_{pd}^2} + \\frac{1}{2}\\omega^2 \\sum_p^P  r_p^2  + \\sum_{p<q} \\frac{1}{r_{pq}} \n",
    "\\label{_auto103} \\tag{103}\n",
    "\\end{equation}\n",
    "$$"
   ]
  },
  {
   "cell_type": "markdown",
   "metadata": {},
   "source": [
    "<!-- Equation labels as ordinary links -->\n",
    "<div id=\"_auto104\"></div>\n",
    "\n",
    "$$\n",
    "\\begin{equation} \n",
    "\t= \\frac{1}{2} \\sum_p^P \\sum_d^D (-(\\frac{\\partial}{\\partial x_{pd}} \\ln\\Psi)^2 -\\frac{\\partial^2}{\\partial x_{pd}^2} \\ln\\Psi + \\omega^2 x_{pd}^2)  + \\sum_{p<q} \\frac{1}{r_{pq}}. \n",
    "\\label{_auto104} \\tag{104}\n",
    "\\end{equation}\n",
    "$$"
   ]
  },
  {
   "cell_type": "markdown",
   "metadata": {},
   "source": [
    "<!-- Equation labels as ordinary links -->\n",
    "<div id=\"_auto105\"></div>\n",
    "\n",
    "$$\n",
    "\\begin{equation} \n",
    "\\label{_auto105} \\tag{105}\n",
    "\\end{equation}\n",
    "$$"
   ]
  },
  {
   "cell_type": "markdown",
   "metadata": {},
   "source": [
    "Letting each visible node in the Boltzmann machine \n",
    "represent one coordinate of one particle, we obtain"
   ]
  },
  {
   "cell_type": "markdown",
   "metadata": {},
   "source": [
    "<!-- Equation labels as ordinary links -->\n",
    "<div id=\"_auto106\"></div>\n",
    "\n",
    "$$\n",
    "\\begin{equation}\n",
    "\tE_L =\n",
    "\t\\frac{1}{2} \\sum_m^M (-(\\frac{\\partial}{\\partial v_m} \\ln\\Psi)^2 -\\frac{\\partial^2}{\\partial v_m^2} \\ln\\Psi + \\omega^2 v_m^2)  + \\sum_{p<q} \\frac{1}{r_{pq}},\n",
    "\\label{_auto106} \\tag{106}\n",
    "\\end{equation}\n",
    "$$"
   ]
  },
  {
   "cell_type": "markdown",
   "metadata": {},
   "source": [
    "where we have that"
   ]
  },
  {
   "cell_type": "markdown",
   "metadata": {},
   "source": [
    "<!-- Equation labels as ordinary links -->\n",
    "<div id=\"_auto107\"></div>\n",
    "\n",
    "$$\n",
    "\\begin{equation}\n",
    "\t\\frac{\\partial}{\\partial x_m} \\ln\\Psi\n",
    "\t= - \\frac{1}{\\sigma^2}(x_m - a_m) + \\frac{1}{\\sigma^2} \\sum_n^N \\frac{w_{mn}}{e^{-b_n - \\frac{1}{\\sigma^2}\\sum_i^M x_i w_{in}} + 1} \n",
    "\\label{_auto107} \\tag{107}\n",
    "\\end{equation}\n",
    "$$"
   ]
  },
  {
   "cell_type": "markdown",
   "metadata": {},
   "source": [
    "<!-- Equation labels as ordinary links -->\n",
    "<div id=\"_auto108\"></div>\n",
    "\n",
    "$$\n",
    "\\begin{equation} \n",
    "\t\\frac{\\partial^2}{\\partial x_m^2} \\ln\\Psi\n",
    "\t= - \\frac{1}{\\sigma^2} + \\frac{1}{\\sigma^4}\\sum_n^N \\omega_{mn}^2 \\frac{e^{b_n + \\frac{1}{\\sigma^2}\\sum_i^M x_i w_{in}}}{(e^{b_n + \\frac{1}{\\sigma^2}\\sum_i^M x_i w_{in}} + 1)^2}.\n",
    "\\label{_auto108} \\tag{108}\n",
    "\\end{equation}\n",
    "$$"
   ]
  },
  {
   "cell_type": "markdown",
   "metadata": {},
   "source": [
    "We now have all the expressions neeeded to calculate the gradient of\n",
    "the expected local energy with respect to the RBM parameters\n",
    "$\\frac{\\partial \\langle E_L \\rangle}{\\partial \\alpha_i}$.\n",
    "\n",
    "If we use $\\Psi = \\sqrt{F_{rbm}}$ we obtain"
   ]
  },
  {
   "cell_type": "markdown",
   "metadata": {},
   "source": [
    "<!-- Equation labels as ordinary links -->\n",
    "<div id=\"_auto109\"></div>\n",
    "\n",
    "$$\n",
    "\\begin{equation}\n",
    "\t\\frac{\\partial}{\\partial x_m} \\ln\\Psi\n",
    "\t= - \\frac{1}{2\\sigma^2}(x_m - a_m) + \\frac{1}{2\\sigma^2} \\sum_n^N\n",
    " \t\\frac{w_{mn}}{e^{-b_n-\\frac{1}{\\sigma^2}\\sum_i^M x_i w_{in}} + 1}\n",
    "\t\n",
    "\\label{_auto109} \\tag{109}\n",
    "\\end{equation}\n",
    "$$"
   ]
  },
  {
   "cell_type": "markdown",
   "metadata": {},
   "source": [
    "<!-- Equation labels as ordinary links -->\n",
    "<div id=\"_auto110\"></div>\n",
    "\n",
    "$$\n",
    "\\begin{equation} \n",
    "\t\\frac{\\partial^2}{\\partial x_m^2} \\ln\\Psi\n",
    "\t= - \\frac{1}{2\\sigma^2} + \\frac{1}{2\\sigma^4}\\sum_n^N \\omega_{mn}^2 \\frac{e^{b_n + \\frac{1}{\\sigma^2}\\sum_i^M x_i w_{in}}}{(e^{b_n + \\frac{1}{\\sigma^2}\\sum_i^M x_i w_{in}} + 1)^2}.\n",
    "\\label{_auto110} \\tag{110}\n",
    "\\end{equation}\n",
    "$$"
   ]
  },
  {
   "cell_type": "markdown",
   "metadata": {},
   "source": [
    "The difference between this equation and the previous one is that we multiply by a factor $1/2$.\n",
    "\n",
    "\n",
    "\n",
    "\n",
    "\n",
    "## Python version for the two non-interacting particles"
   ]
  },
  {
   "cell_type": "code",
   "execution_count": 1,
   "metadata": {},
   "outputs": [
    {
     "name": "stdout",
     "output_type": "stream",
     "text": [
      "Energy: 2.0000630829037047\n",
      "Energy: 1.9999881454696569\n",
      "Energy: 1.9997666516811194\n",
      "Energy: 2.0001271294641167\n",
      "Energy: 2.0000111258590043\n",
      "Energy: 1.999979751842394\n",
      "Energy: 2.0000003271335594\n",
      "Energy: 2.0000304586181206\n",
      "Energy: 1.9999524198366825\n",
      "Energy: 2.000072948885529\n",
      "Energy: 2.0000428391754523\n",
      "Energy: 2.0000932589116767\n",
      "Energy: 1.999872715819742\n",
      "Energy: 1.9998738368078128\n",
      "Energy: 2.000022396310401\n",
      "Energy: 1.999962662347309\n",
      "Energy: 1.999908592521273\n",
      "Energy: 2.000040866103198\n",
      "Energy: 2.0000522706336246\n",
      "Energy: 2.0000586072466002\n",
      "Energy: 1.9998836011578962\n",
      "Energy: 2.0000161898978135\n",
      "Energy: 2.000073285987422\n",
      "Energy: 1.9999929486968808\n",
      "Energy: 2.0000096055116834\n",
      "Energy: 2.0000229376686423\n",
      "Energy: 1.9999933308283202\n",
      "Energy: 2.0000370970407384\n",
      "Energy: 1.9999162539741835\n",
      "Energy: 1.9999524628749132\n",
      "Energy: 1.9999846034973245\n",
      "Energy: 2.0000059933751153\n",
      "Energy: 1.9999966570987389\n",
      "Energy: 2.0000717104419725\n",
      "Energy: 2.0000941158626215\n",
      "Energy: 2.0000653979856806\n",
      "Energy: 2.000041771532088\n",
      "Energy: 1.9999444391794448\n",
      "Energy: 1.9999016459856092\n",
      "Energy: 2.0000613669119716\n",
      "Energy: 2.0000495673985306\n",
      "Energy: 2.0000415100421205\n",
      "Energy: 2.0000785973798423\n",
      "Energy: 2.000041993876655\n",
      "Energy: 1.9998799396389872\n",
      "Energy: 1.9998900068936407\n",
      "Energy: 1.9999982731223924\n",
      "Energy: 2.0000210474104776\n",
      "Energy: 2.000064994588194\n",
      "Energy: 1.9999274860518963\n",
      "      Energy\n",
      "0   2.000063\n",
      "1   1.999988\n",
      "2   1.999767\n",
      "3   2.000127\n",
      "4   2.000011\n",
      "5   1.999980\n",
      "6   2.000000\n",
      "7   2.000030\n",
      "8   1.999952\n",
      "9   2.000073\n",
      "10  2.000043\n",
      "11  2.000093\n",
      "12  1.999873\n",
      "13  1.999874\n",
      "14  2.000022\n",
      "15  1.999963\n",
      "16  1.999909\n",
      "17  2.000041\n",
      "18  2.000052\n",
      "19  2.000059\n",
      "20  1.999884\n",
      "21  2.000016\n",
      "22  2.000073\n",
      "23  1.999993\n",
      "24  2.000010\n",
      "25  2.000023\n",
      "26  1.999993\n",
      "27  2.000037\n",
      "28  1.999916\n",
      "29  1.999952\n",
      "30  1.999985\n",
      "31  2.000006\n",
      "32  1.999997\n",
      "33  2.000072\n",
      "34  2.000094\n",
      "35  2.000065\n",
      "36  2.000042\n",
      "37  1.999944\n",
      "38  1.999902\n",
      "39  2.000061\n",
      "40  2.000050\n",
      "41  2.000042\n",
      "42  2.000079\n",
      "43  2.000042\n",
      "44  1.999880\n",
      "45  1.999890\n",
      "46  1.999998\n",
      "47  2.000021\n",
      "48  2.000065\n",
      "49  1.999927\n"
     ]
    }
   ],
   "source": [
    "%matplotlib inline\n",
    "\n",
    "# 2-electron VMC code for 2dim quantum dot with importance sampling\n",
    "# Using gaussian rng for new positions and Metropolis- Hastings \n",
    "# Added restricted boltzmann machine method for dealing with the wavefunction\n",
    "# RBM code based heavily off of:\n",
    "# https://github.com/CompPhysics/ComputationalPhysics2/tree/gh-pages/doc/Programs/BoltzmannMachines/MLcpp/src/CppCode/ob\n",
    "from math import exp, sqrt\n",
    "from random import random, seed, normalvariate\n",
    "import numpy as np\n",
    "import matplotlib.pyplot as plt\n",
    "from mpl_toolkits.mplot3d import Axes3D\n",
    "from matplotlib import cm\n",
    "from matplotlib.ticker import LinearLocator, FormatStrFormatter\n",
    "import sys\n",
    "\n",
    "\n",
    "\n",
    "# Trial wave function for the 2-electron quantum dot in two dims\n",
    "def WaveFunction(r,a,b,w):\n",
    "    sigma=1.0\n",
    "    sig2 = sigma**2\n",
    "    Psi1 = 0.0\n",
    "    Psi2 = 1.0\n",
    "    Q = Qfac(r,b,w)\n",
    "    \n",
    "    for iq in range(NumberParticles):\n",
    "        for ix in range(Dimension):\n",
    "            Psi1 += (r[iq,ix]-a[iq,ix])**2\n",
    "            \n",
    "    for ih in range(NumberHidden):\n",
    "        Psi2 *= (1.0 + np.exp(Q[ih]))\n",
    "        \n",
    "    Psi1 = np.exp(-Psi1/(2*sig2))\n",
    "\n",
    "    return Psi1*Psi2\n",
    "\n",
    "# Local energy  for the 2-electron quantum dot in two dims, using analytical local energy\n",
    "def LocalEnergy(r,a,b,w):\n",
    "    sigma=1.0\n",
    "    sig2 = sigma**2\n",
    "    locenergy = 0.0\n",
    "    \n",
    "    Q = Qfac(r,b,w)\n",
    "\n",
    "    for iq in range(NumberParticles):\n",
    "        for ix in range(Dimension):\n",
    "            sum1 = 0.0\n",
    "            sum2 = 0.0\n",
    "            for ih in range(NumberHidden):\n",
    "                sum1 += w[iq,ix,ih]/(1+np.exp(-Q[ih]))\n",
    "                sum2 += w[iq,ix,ih]**2 * np.exp(Q[ih]) / (1.0 + np.exp(Q[ih]))**2\n",
    "    \n",
    "            dlnpsi1 = -(r[iq,ix] - a[iq,ix]) /sig2 + sum1/sig2\n",
    "            dlnpsi2 = -1/sig2 + sum2/sig2**2\n",
    "            locenergy += 0.5*(-dlnpsi1*dlnpsi1 - dlnpsi2 + r[iq,ix]**2)\n",
    "            \n",
    "    if(interaction==True):\n",
    "        for iq1 in range(NumberParticles):\n",
    "            for iq2 in range(iq1):\n",
    "                distance = 0.0\n",
    "                for ix in range(Dimension):\n",
    "                    distance += (r[iq1,ix] - r[iq2,ix])**2\n",
    "                    \n",
    "                locenergy += 1/sqrt(distance)\n",
    "                \n",
    "    return locenergy\n",
    "\n",
    "# Derivate of wave function ansatz as function of variational parameters\n",
    "def DerivativeWFansatz(r,a,b,w):\n",
    "    \n",
    "    sigma=1.0\n",
    "    sig2 = sigma**2\n",
    "    \n",
    "    Q = Qfac(r,b,w)\n",
    "    \n",
    "    WfDer = np.empty((3,),dtype=object)\n",
    "    WfDer = [np.copy(a),np.copy(b),np.copy(w)]\n",
    "    \n",
    "    WfDer[0] = (r-a)/sig2\n",
    "    WfDer[1] = 1 / (1 + np.exp(-Q))\n",
    "    \n",
    "    for ih in range(NumberHidden):\n",
    "        WfDer[2][:,:,ih] = w[:,:,ih] / (sig2*(1+np.exp(-Q[ih])))\n",
    "            \n",
    "    return  WfDer\n",
    "\n",
    "# Setting up the quantum force for the two-electron quantum dot, recall that it is a vector\n",
    "def QuantumForce(r,a,b,w):\n",
    "\n",
    "    sigma=1.0\n",
    "    sig2 = sigma**2\n",
    "    \n",
    "    qforce = np.zeros((NumberParticles,Dimension), np.double)\n",
    "    sum1 = np.zeros((NumberParticles,Dimension), np.double)\n",
    "    \n",
    "    Q = Qfac(r,b,w)\n",
    "    \n",
    "    for ih in range(NumberHidden):\n",
    "        sum1 += w[:,:,ih]/(1+np.exp(-Q[ih]))\n",
    "    \n",
    "    qforce = 2*(-(r-a)/sig2 + sum1/sig2)\n",
    "    \n",
    "    return qforce\n",
    "    \n",
    "def Qfac(r,b,w):\n",
    "    Q = np.zeros((NumberHidden), np.double)\n",
    "    temp = np.zeros((NumberHidden), np.double)\n",
    "    \n",
    "    for ih in range(NumberHidden):\n",
    "        temp[ih] = (r*w[:,:,ih]).sum()\n",
    "        \n",
    "    Q = b + temp\n",
    "    \n",
    "    return Q\n",
    "    \n",
    "# Computing the derivative of the energy and the energy \n",
    "def EnergyMinimization(a,b,w):\n",
    "\n",
    "    NumberMCcycles= 10000\n",
    "    # Parameters in the Fokker-Planck simulation of the quantum force\n",
    "    D = 0.5\n",
    "    TimeStep = 0.05\n",
    "    # positions\n",
    "    PositionOld = np.zeros((NumberParticles,Dimension), np.double)\n",
    "    PositionNew = np.zeros((NumberParticles,Dimension), np.double)\n",
    "    # Quantum force\n",
    "    QuantumForceOld = np.zeros((NumberParticles,Dimension), np.double)\n",
    "    QuantumForceNew = np.zeros((NumberParticles,Dimension), np.double)\n",
    "\n",
    "    # seed for rng generator \n",
    "    seed()\n",
    "    energy = 0.0\n",
    "    DeltaE = 0.0\n",
    "\n",
    "    EnergyDer = np.empty((3,),dtype=object)\n",
    "    DeltaPsi = np.empty((3,),dtype=object)\n",
    "    DerivativePsiE = np.empty((3,),dtype=object)\n",
    "    EnergyDer = [np.copy(a),np.copy(b),np.copy(w)]\n",
    "    DeltaPsi = [np.copy(a),np.copy(b),np.copy(w)]\n",
    "    DerivativePsiE = [np.copy(a),np.copy(b),np.copy(w)]\n",
    "    for i in range(3): EnergyDer[i].fill(0.0)\n",
    "    for i in range(3): DeltaPsi[i].fill(0.0)\n",
    "    for i in range(3): DerivativePsiE[i].fill(0.0)\n",
    "\n",
    "    \n",
    "    #Initial position\n",
    "    for i in range(NumberParticles):\n",
    "        for j in range(Dimension):\n",
    "            PositionOld[i,j] = normalvariate(0.0,1.0)*sqrt(TimeStep)\n",
    "    wfold = WaveFunction(PositionOld,a,b,w)\n",
    "    QuantumForceOld = QuantumForce(PositionOld,a,b,w)\n",
    "\n",
    "    #Loop over MC MCcycles\n",
    "    for MCcycle in range(NumberMCcycles):\n",
    "        #Trial position moving one particle at the time\n",
    "        for i in range(NumberParticles):\n",
    "            for j in range(Dimension):\n",
    "                PositionNew[i,j] = PositionOld[i,j]+normalvariate(0.0,1.0)*sqrt(TimeStep)+\\\n",
    "                                       QuantumForceOld[i,j]*TimeStep*D\n",
    "            wfnew = WaveFunction(PositionNew,a,b,w)\n",
    "            QuantumForceNew = QuantumForce(PositionNew,a,b,w)\n",
    "            \n",
    "            GreensFunction = 0.0\n",
    "            for j in range(Dimension):\n",
    "                GreensFunction += 0.5*(QuantumForceOld[i,j]+QuantumForceNew[i,j])*\\\n",
    "                                      (D*TimeStep*0.5*(QuantumForceOld[i,j]-QuantumForceNew[i,j])-\\\n",
    "                                      PositionNew[i,j]+PositionOld[i,j])\n",
    "      \n",
    "            GreensFunction = exp(GreensFunction)\n",
    "            ProbabilityRatio = GreensFunction*wfnew**2/wfold**2\n",
    "            #Metropolis-Hastings test to see whether we accept the move\n",
    "            if random() <= ProbabilityRatio:\n",
    "                for j in range(Dimension):\n",
    "                    PositionOld[i,j] = PositionNew[i,j]\n",
    "                    QuantumForceOld[i,j] = QuantumForceNew[i,j]\n",
    "                wfold = wfnew\n",
    "        #print(\"wf new:        \", wfnew)\n",
    "        #print(\"force on 1 new:\", QuantumForceNew[0,:])\n",
    "        #print(\"pos of 1 new:  \", PositionNew[0,:])\n",
    "        #print(\"force on 2 new:\", QuantumForceNew[1,:])\n",
    "        #print(\"pos of 2 new:  \", PositionNew[1,:])\n",
    "        DeltaE = LocalEnergy(PositionOld,a,b,w)\n",
    "        DerPsi = DerivativeWFansatz(PositionOld,a,b,w)\n",
    "        \n",
    "        DeltaPsi[0] += DerPsi[0]\n",
    "        DeltaPsi[1] += DerPsi[1]\n",
    "        DeltaPsi[2] += DerPsi[2]\n",
    "        \n",
    "        energy += DeltaE\n",
    "\n",
    "        DerivativePsiE[0] += DerPsi[0]*DeltaE\n",
    "        DerivativePsiE[1] += DerPsi[1]*DeltaE\n",
    "        DerivativePsiE[2] += DerPsi[2]*DeltaE\n",
    "            \n",
    "    # We calculate mean values\n",
    "    energy /= NumberMCcycles\n",
    "    DerivativePsiE[0] /= NumberMCcycles\n",
    "    DerivativePsiE[1] /= NumberMCcycles\n",
    "    DerivativePsiE[2] /= NumberMCcycles\n",
    "    DeltaPsi[0] /= NumberMCcycles\n",
    "    DeltaPsi[1] /= NumberMCcycles\n",
    "    DeltaPsi[2] /= NumberMCcycles\n",
    "    EnergyDer[0]  = 2*(DerivativePsiE[0]-DeltaPsi[0]*energy)\n",
    "    EnergyDer[1]  = 2*(DerivativePsiE[1]-DeltaPsi[1]*energy)\n",
    "    EnergyDer[2]  = 2*(DerivativePsiE[2]-DeltaPsi[2]*energy)\n",
    "    return energy, EnergyDer\n",
    "\n",
    "\n",
    "#Here starts the main program with variable declarations\n",
    "NumberParticles = 2\n",
    "Dimension = 2\n",
    "NumberHidden = 2\n",
    "\n",
    "interaction=False\n",
    "\n",
    "# guess for parameters\n",
    "a=np.random.normal(loc=0.0, scale=0.001, size=(NumberParticles,Dimension))\n",
    "b=np.random.normal(loc=0.0, scale=0.001, size=(NumberHidden))\n",
    "w=np.random.normal(loc=0.0, scale=0.001, size=(NumberParticles,Dimension,NumberHidden))\n",
    "# Set up iteration using stochastic gradient method\n",
    "Energy = 0\n",
    "EDerivative = np.empty((3,),dtype=object)\n",
    "EDerivative = [np.copy(a),np.copy(b),np.copy(w)]\n",
    "# Learning rate eta, max iterations, need to change to adaptive learning rate\n",
    "eta = 0.001\n",
    "MaxIterations = 50\n",
    "iter = 0\n",
    "np.seterr(invalid='raise')\n",
    "Energies = np.zeros(MaxIterations)\n",
    "EnergyDerivatives1 = np.zeros(MaxIterations)\n",
    "EnergyDerivatives2 = np.zeros(MaxIterations)\n",
    "\n",
    "while iter < MaxIterations:\n",
    "    Energy, EDerivative = EnergyMinimization(a,b,w)\n",
    "    agradient = EDerivative[0]\n",
    "    bgradient = EDerivative[1]\n",
    "    wgradient = EDerivative[2]\n",
    "    a -= eta*agradient\n",
    "    b -= eta*bgradient \n",
    "    w -= eta*wgradient \n",
    "    Energies[iter] = Energy\n",
    "    print(\"Energy:\",Energy)\n",
    "    #EnergyDerivatives1[iter] = EDerivative[0] \n",
    "    #EnergyDerivatives2[iter] = EDerivative[1]\n",
    "    #EnergyDerivatives3[iter] = EDerivative[2] \n",
    "\n",
    "\n",
    "    iter += 1\n",
    "\n",
    "#nice printout with Pandas\n",
    "import pandas as pd\n",
    "from pandas import DataFrame\n",
    "pd.set_option('max_columns', 6)\n",
    "data ={'Energy':Energies}#,'A Derivative':EnergyDerivatives1,'B Derivative':EnergyDerivatives2,'Weights Derivative':EnergyDerivatives3}\n",
    "\n",
    "frame = pd.DataFrame(data)\n",
    "print(frame)"
   ]
  },
  {
   "cell_type": "code",
   "execution_count": null,
   "metadata": {},
   "outputs": [],
   "source": []
  }
 ],
 "metadata": {
  "kernelspec": {
   "display_name": "Python 3 (ipykernel)",
   "language": "python",
   "name": "python3"
  },
  "language_info": {
   "codemirror_mode": {
    "name": "ipython",
    "version": 3
   },
   "file_extension": ".py",
   "mimetype": "text/x-python",
   "name": "python",
   "nbconvert_exporter": "python",
   "pygments_lexer": "ipython3",
   "version": "3.9.12"
  }
 },
 "nbformat": 4,
 "nbformat_minor": 4
}
