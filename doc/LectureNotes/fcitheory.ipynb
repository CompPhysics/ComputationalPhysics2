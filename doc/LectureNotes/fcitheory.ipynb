{
 "cells": [
  {
   "cell_type": "markdown",
   "metadata": {},
   "source": [
    "# Full configuration interaction theory\n",
    "\n",
    "\n",
    "\n",
    "\n",
    "## Slater determinants as basis states, Repetition\n",
    "The simplest possible choice for many-body wavefunctions are **product** wavefunctions.\n",
    "That is"
   ]
  },
  {
   "cell_type": "markdown",
   "metadata": {},
   "source": [
    "$$\n",
    "\\Psi(x_1, x_2, x_3, \\ldots, x_A) \\approx \\phi_1(x_1) \\phi_2(x_2) \\phi_3(x_3) \\ldots\n",
    "$$"
   ]
  },
  {
   "cell_type": "markdown",
   "metadata": {},
   "source": [
    "because we are really only good  at thinking about one particle at a time. Such \n",
    "product wavefunctions, without correlations, are easy to \n",
    "work with; for example, if the single-particle states $\\phi_i(x)$ are orthonormal, then \n",
    "the product wavefunctions are easy to orthonormalize.   \n",
    "\n",
    "Similarly, computing matrix elements of operators are relatively easy, because the \n",
    "integrals factorize.\n",
    "\n",
    "\n",
    "The price we pay is the lack of correlations, which we must build up by using many, many product \n",
    "wavefunctions. (Thus we have a trade-off: compact representation of correlations but \n",
    "difficult integrals versus easy integrals but many states required.)\n",
    "\n",
    "\n",
    "\n",
    "\n",
    "## Slater determinants as basis states, repetition\n",
    "Because we have fermions, we are required to have antisymmetric wavefunctions, e.g."
   ]
  },
  {
   "cell_type": "markdown",
   "metadata": {},
   "source": [
    "$$\n",
    "\\Psi(x_1, x_2, x_3, \\ldots, x_A) = - \\Psi(x_2, x_1, x_3, \\ldots, x_A)\n",
    "$$"
   ]
  },
  {
   "cell_type": "markdown",
   "metadata": {},
   "source": [
    "etc. This is accomplished formally by using the determinantal formalism"
   ]
  },
  {
   "cell_type": "markdown",
   "metadata": {},
   "source": [
    "$$\n",
    "\\Psi(x_1, x_2, \\ldots, x_A) \n",
    "= \\frac{1}{\\sqrt{A!}} \n",
    "\\det \\left | \n",
    "\\begin{array}{cccc}\n",
    "\\phi_1(x_1) & \\phi_1(x_2) & \\ldots & \\phi_1(x_A) \\\\\n",
    "\\phi_2(x_1) & \\phi_2(x_2) & \\ldots & \\phi_2(x_A) \\\\\n",
    " \\vdots & & &  \\\\\n",
    "\\phi_A(x_1) & \\phi_A(x_2) & \\ldots & \\phi_A(x_A) \n",
    "\\end{array}\n",
    "\\right |\n",
    "$$"
   ]
  },
  {
   "cell_type": "markdown",
   "metadata": {},
   "source": [
    "Product wavefunction + antisymmetry = Slater determinant.\n",
    "\n",
    "\n",
    "\n",
    "\n",
    "## Slater determinants as basis states"
   ]
  },
  {
   "cell_type": "markdown",
   "metadata": {},
   "source": [
    "$$\n",
    "\\Psi(x_1, x_2, \\ldots, x_A) \n",
    "= \\frac{1}{\\sqrt{A!}} \n",
    "\\det \\left | \n",
    "\\begin{array}{cccc}\n",
    "\\phi_1(x_1) & \\phi_1(x_2) & \\ldots & \\phi_1(x_A) \\\\\n",
    "\\phi_2(x_1) & \\phi_2(x_2) & \\ldots & \\phi_2(x_A) \\\\\n",
    " \\vdots & & &  \\\\\n",
    "\\phi_A(x_1) & \\phi_A(x_2) & \\ldots & \\phi_A(x_A) \n",
    "\\end{array}\n",
    "\\right |\n",
    "$$"
   ]
  },
  {
   "cell_type": "markdown",
   "metadata": {},
   "source": [
    "Properties of the determinant (interchange of any two rows or \n",
    "any two columns yields a change in sign; thus no two rows and no \n",
    "two columns can be the same) lead to the Pauli principle:\n",
    "\n",
    "* No two particles can be at the same place (two columns the same); and\n",
    "\n",
    "* No two particles can be in the same state (two rows the same).\n",
    "\n",
    "\n",
    "\n",
    "\n",
    "\n",
    "## Slater determinants as basis states\n",
    "As a practical matter, however, Slater determinants beyond $N=4$ quickly become \n",
    "unwieldy. Thus we turn to the **occupation representation** or **second quantization** to simplify calculations. \n",
    "\n",
    "The occupation representation or number representation, using fermion **creation** and **annihilation** \n",
    "operators, is compact and efficient. It is also abstract and, at first encounter, not easy to \n",
    "internalize. It is inspired by other operator formalism, such as the ladder operators for \n",
    "the harmonic oscillator or for angular momentum, but unlike those cases, the operators **do not have coordinate space representations**.\n",
    "\n",
    "Instead, one can think of fermion creation/annihilation operators as a game of symbols that \n",
    "compactly reproduces what one would do, albeit clumsily, with full coordinate-space Slater \n",
    "determinants.\n",
    "\n",
    "\n",
    "\n",
    "\n",
    "## Quick repetition of the occupation representation\n",
    "We start with a set of orthonormal single-particle states $\\{ \\phi_i(x) \\}$. \n",
    "(Note: this requirement, and others, can be relaxed, but leads to a \n",
    "more involved formalism.) **Any** orthonormal set will do. \n",
    "\n",
    "To each single-particle state $\\phi_i(x)$ we associate a creation operator \n",
    "$\\hat{a}^\\dagger_i$ and an annihilation operator $\\hat{a}_i$. \n",
    "\n",
    "When acting on the vacuum state $| 0 \\rangle$, the creation operator $\\hat{a}^\\dagger_i$ causes \n",
    "a particle to occupy the single-particle state $\\phi_i(x)$:"
   ]
  },
  {
   "cell_type": "markdown",
   "metadata": {},
   "source": [
    "$$\n",
    "\\phi_i(x) \\rightarrow \\hat{a}^\\dagger_i |0 \\rangle\n",
    "$$"
   ]
  },
  {
   "cell_type": "markdown",
   "metadata": {},
   "source": [
    "## Quick repetition  of the occupation representation\n",
    "But with multiple creation operators we can occupy multiple states:"
   ]
  },
  {
   "cell_type": "markdown",
   "metadata": {},
   "source": [
    "$$\n",
    "\\phi_i(x) \\phi_j(x^\\prime) \\phi_k(x^{\\prime \\prime}) \n",
    "\\rightarrow \\hat{a}^\\dagger_i \\hat{a}^\\dagger_j \\hat{a}^\\dagger_k |0 \\rangle.\n",
    "$$"
   ]
  },
  {
   "cell_type": "markdown",
   "metadata": {},
   "source": [
    "Now we impose antisymmetry, by having the fermion operators satisfy  **anticommutation relations**:"
   ]
  },
  {
   "cell_type": "markdown",
   "metadata": {},
   "source": [
    "$$\n",
    "\\hat{a}^\\dagger_i \\hat{a}^\\dagger_j + \\hat{a}^\\dagger_j \\hat{a}^\\dagger_i\n",
    "= [ \\hat{a}^\\dagger_i ,\\hat{a}^\\dagger_j ]_+ \n",
    "= \\{ \\hat{a}^\\dagger_i ,\\hat{a}^\\dagger_j \\} = 0\n",
    "$$"
   ]
  },
  {
   "cell_type": "markdown",
   "metadata": {},
   "source": [
    "so that"
   ]
  },
  {
   "cell_type": "markdown",
   "metadata": {},
   "source": [
    "$$\n",
    "\\hat{a}^\\dagger_i \\hat{a}^\\dagger_j = - \\hat{a}^\\dagger_j \\hat{a}^\\dagger_i\n",
    "$$"
   ]
  },
  {
   "cell_type": "markdown",
   "metadata": {},
   "source": [
    "## Quick repetition  of the occupation representation\n",
    "Because of this property, automatically $\\hat{a}^\\dagger_i \\hat{a}^\\dagger_i = 0$, \n",
    "enforcing the Pauli exclusion principle.  Thus when writing a Slater determinant \n",
    "using creation operators,"
   ]
  },
  {
   "cell_type": "markdown",
   "metadata": {},
   "source": [
    "$$\n",
    "\\hat{a}^\\dagger_i \\hat{a}^\\dagger_j \\hat{a}^\\dagger_k \\ldots |0 \\rangle\n",
    "$$"
   ]
  },
  {
   "cell_type": "markdown",
   "metadata": {},
   "source": [
    "each index $i,j,k, \\ldots$ must be unique.\n",
    "\n",
    "For some relevant exercises with solutions see chapter 8 of [Lecture Notes in Physics, volume 936](http://www.springer.com/us/book/9783319533353).\n",
    "\n",
    "\n",
    "\n",
    "\n",
    "\n",
    "## Full Configuration Interaction Theory\n",
    "We have defined the ansatz for the ground state as"
   ]
  },
  {
   "cell_type": "markdown",
   "metadata": {},
   "source": [
    "$$\n",
    "|\\Phi_0\\rangle = \\left(\\prod_{i\\le F}\\hat{a}_{i}^{\\dagger}\\right)|0\\rangle,\n",
    "$$"
   ]
  },
  {
   "cell_type": "markdown",
   "metadata": {},
   "source": [
    "where the index $i$ defines different single-particle states up to the Fermi level. We have assumed that we have $N$ fermions. \n",
    "A given one-particle-one-hole ($1p1h$) state can be written as"
   ]
  },
  {
   "cell_type": "markdown",
   "metadata": {},
   "source": [
    "$$\n",
    "|\\Phi_i^a\\rangle = \\hat{a}_{a}^{\\dagger}\\hat{a}_i|\\Phi_0\\rangle,\n",
    "$$"
   ]
  },
  {
   "cell_type": "markdown",
   "metadata": {},
   "source": [
    "while a $2p2h$ state can be written as"
   ]
  },
  {
   "cell_type": "markdown",
   "metadata": {},
   "source": [
    "$$\n",
    "|\\Phi_{ij}^{ab}\\rangle = \\hat{a}_{a}^{\\dagger}\\hat{a}_{b}^{\\dagger}\\hat{a}_j\\hat{a}_i|\\Phi_0\\rangle,\n",
    "$$"
   ]
  },
  {
   "cell_type": "markdown",
   "metadata": {},
   "source": [
    "and a general $NpNh$ state as"
   ]
  },
  {
   "cell_type": "markdown",
   "metadata": {},
   "source": [
    "$$\n",
    "|\\Phi_{ijk\\dots}^{abc\\dots}\\rangle = \\hat{a}_{a}^{\\dagger}\\hat{a}_{b}^{\\dagger}\\hat{a}_{c}^{\\dagger}\\dots\\hat{a}_k\\hat{a}_j\\hat{a}_i|\\Phi_0\\rangle.\n",
    "$$"
   ]
  },
  {
   "cell_type": "markdown",
   "metadata": {},
   "source": [
    "## Full Configuration Interaction Theory\n",
    "We can then expand our exact state function for the ground state \n",
    "as"
   ]
  },
  {
   "cell_type": "markdown",
   "metadata": {},
   "source": [
    "$$\n",
    "|\\Psi_0\\rangle=C_0|\\Phi_0\\rangle+\\sum_{ai}C_i^a|\\Phi_i^a\\rangle+\\sum_{abij}C_{ij}^{ab}|\\Phi_{ij}^{ab}\\rangle+\\dots\n",
    "=(C_0+\\hat{C})|\\Phi_0\\rangle,\n",
    "$$"
   ]
  },
  {
   "cell_type": "markdown",
   "metadata": {},
   "source": [
    "where we have introduced the so-called correlation operator"
   ]
  },
  {
   "cell_type": "markdown",
   "metadata": {},
   "source": [
    "$$\n",
    "\\hat{C}=\\sum_{ai}C_i^a\\hat{a}_{a}^{\\dagger}\\hat{a}_i  +\\sum_{abij}C_{ij}^{ab}\\hat{a}_{a}^{\\dagger}\\hat{a}_{b}^{\\dagger}\\hat{a}_j\\hat{a}_i+\\dots\n",
    "$$"
   ]
  },
  {
   "cell_type": "markdown",
   "metadata": {},
   "source": [
    "Since the normalization of $\\Psi_0$ is at our disposal and since $C_0$ is by hypothesis non-zero, we may arbitrarily set $C_0=1$ with \n",
    "corresponding proportional changes in all other coefficients. Using this so-called intermediate normalization we have"
   ]
  },
  {
   "cell_type": "markdown",
   "metadata": {},
   "source": [
    "$$\n",
    "\\langle \\Psi_0 | \\Phi_0 \\rangle = \\langle \\Phi_0 | \\Phi_0 \\rangle = 1,\n",
    "$$"
   ]
  },
  {
   "cell_type": "markdown",
   "metadata": {},
   "source": [
    "resulting in"
   ]
  },
  {
   "cell_type": "markdown",
   "metadata": {},
   "source": [
    "$$\n",
    "|\\Psi_0\\rangle=(1+\\hat{C})|\\Phi_0\\rangle.\n",
    "$$"
   ]
  },
  {
   "cell_type": "markdown",
   "metadata": {},
   "source": [
    "## Full Configuration Interaction Theory\n",
    "We rewrite"
   ]
  },
  {
   "cell_type": "markdown",
   "metadata": {},
   "source": [
    "$$\n",
    "|\\Psi_0\\rangle=C_0|\\Phi_0\\rangle+\\sum_{ai}C_i^a|\\Phi_i^a\\rangle+\\sum_{abij}C_{ij}^{ab}|\\Phi_{ij}^{ab}\\rangle+\\dots,\n",
    "$$"
   ]
  },
  {
   "cell_type": "markdown",
   "metadata": {},
   "source": [
    "in a more compact form as"
   ]
  },
  {
   "cell_type": "markdown",
   "metadata": {},
   "source": [
    "$$\n",
    "|\\Psi_0\\rangle=\\sum_{PH}C_H^P\\Phi_H^P=\\left(\\sum_{PH}C_H^P\\hat{A}_H^P\\right)|\\Phi_0\\rangle,\n",
    "$$"
   ]
  },
  {
   "cell_type": "markdown",
   "metadata": {},
   "source": [
    "where $H$ stands for $0,1,\\dots,n$ hole states and $P$ for $0,1,\\dots,n$ particle states. \n",
    "Our requirement of unit normalization gives"
   ]
  },
  {
   "cell_type": "markdown",
   "metadata": {},
   "source": [
    "$$\n",
    "\\langle \\Psi_0 | \\Phi_0 \\rangle = \\sum_{PH}|C_H^P|^2= 1,\n",
    "$$"
   ]
  },
  {
   "cell_type": "markdown",
   "metadata": {},
   "source": [
    "and the energy can be written as"
   ]
  },
  {
   "cell_type": "markdown",
   "metadata": {},
   "source": [
    "$$\n",
    "E= \\langle \\Psi_0 | \\hat{H} |\\Phi_0 \\rangle= \\sum_{PP'HH'}C_H^{*P}\\langle \\Phi_H^P | \\hat{H} |\\Phi_{H'}^{P'} \\rangle C_{H'}^{P'}.\n",
    "$$"
   ]
  },
  {
   "cell_type": "markdown",
   "metadata": {},
   "source": [
    "## Full Configuration Interaction Theory\n",
    "Normally"
   ]
  },
  {
   "cell_type": "markdown",
   "metadata": {},
   "source": [
    "$$\n",
    "E= \\langle \\Psi_0 | \\hat{H} |\\Phi_0 \\rangle= \\sum_{PP'HH'}C_H^{*P}\\langle \\Phi_H^P | \\hat{H} |\\Phi_{H'}^{P'} \\rangle C_{H'}^{P'},\n",
    "$$"
   ]
  },
  {
   "cell_type": "markdown",
   "metadata": {},
   "source": [
    "is solved by diagonalization setting up the Hamiltonian matrix defined by the basis of all possible Slater determinants. A diagonalization\n",
    "<!-- to do: add text about Rayleigh-Ritz -->\n",
    "is equivalent to finding the variational minimum   of"
   ]
  },
  {
   "cell_type": "markdown",
   "metadata": {},
   "source": [
    "$$\n",
    "\\langle \\Psi_0 | \\hat{H} |\\Phi_0 \\rangle-\\lambda \\langle \\Psi_0 |\\Phi_0 \\rangle,\n",
    "$$"
   ]
  },
  {
   "cell_type": "markdown",
   "metadata": {},
   "source": [
    "where $\\lambda$ is a variational multiplier to be identified with the energy of the system.\n",
    "The minimization process results in"
   ]
  },
  {
   "cell_type": "markdown",
   "metadata": {},
   "source": [
    "2\n",
    "3\n",
    " \n",
    "<\n",
    "<\n",
    "<\n",
    "!\n",
    "!\n",
    "M\n",
    "A\n",
    "T\n",
    "H\n",
    "_\n",
    "B\n",
    "L\n",
    "O\n",
    "C\n",
    "K"
   ]
  },
  {
   "cell_type": "markdown",
   "metadata": {},
   "source": [
    "$$\n",
    "\\sum_{P'H'}\\left\\{\\delta[C_H^{*P}]\\langle \\Phi_H^P | \\hat{H} |\\Phi_{H'}^{P'} \\rangle C_{H'}^{P'}+\n",
    "C_H^{*P}\\langle \\Phi_H^P | \\hat{H} |\\Phi_{H'}^{P'} \\rangle \\delta[C_{H'}^{P'}]-\n",
    "\\lambda( \\delta[C_H^{*P}]C_{H'}^{P'}+C_H^{*P}\\delta[C_{H'}^{P'}]\\right\\} = 0.\n",
    "$$"
   ]
  },
  {
   "cell_type": "markdown",
   "metadata": {},
   "source": [
    "Since the coefficients $\\delta[C_H^{*P}]$ and $\\delta[C_{H'}^{P'}]$ are complex conjugates it is necessary and sufficient to require the quantities that multiply with $\\delta[C_H^{*P}]$ to vanish.\n",
    "\n",
    "\n",
    "\n",
    "\n",
    "\n",
    "\n",
    "## Full Configuration Interaction Theory\n",
    "\n",
    "This leads to"
   ]
  },
  {
   "cell_type": "markdown",
   "metadata": {},
   "source": [
    "$$\n",
    "\\sum_{P'H'}\\langle \\Phi_H^P | \\hat{H} |\\Phi_{H'}^{P'} \\rangle C_{H'}^{P'}-\\lambda C_H^{P}=0,\n",
    "$$"
   ]
  },
  {
   "cell_type": "markdown",
   "metadata": {},
   "source": [
    "for all sets of $P$ and $H$.\n",
    "\n",
    "If we then multiply by the corresponding $C_H^{*P}$ and sum over $PH$ we obtain"
   ]
  },
  {
   "cell_type": "markdown",
   "metadata": {},
   "source": [
    "$$\n",
    "\\sum_{PP'HH'}C_H^{*P}\\langle \\Phi_H^P | \\hat{H} |\\Phi_{H'}^{P'} \\rangle C_{H'}^{P'}-\\lambda\\sum_{PH}|C_H^P|^2=0,\n",
    "$$"
   ]
  },
  {
   "cell_type": "markdown",
   "metadata": {},
   "source": [
    "leading to the identification $\\lambda = E$. This means that we have for all $PH$ sets"
   ]
  },
  {
   "cell_type": "markdown",
   "metadata": {},
   "source": [
    "<!-- Equation labels as ordinary links -->\n",
    "<div id=\"eq:fullci\"></div>\n",
    "\n",
    "$$\n",
    "\\begin{equation}\n",
    "\\sum_{P'H'}\\langle \\Phi_H^P | \\hat{H} -E|\\Phi_{H'}^{P'} \\rangle = 0. \\label{eq:fullci} \\tag{1}\n",
    "\\end{equation}\n",
    "$$"
   ]
  },
  {
   "cell_type": "markdown",
   "metadata": {},
   "source": [
    "## Full Configuration Interaction Theory\n",
    "An alternative way to derive the last equation is to start from"
   ]
  },
  {
   "cell_type": "markdown",
   "metadata": {},
   "source": [
    "$$\n",
    "(\\hat{H} -E)|\\Psi_0\\rangle = (\\hat{H} -E)\\sum_{P'H'}C_{H'}^{P'}|\\Phi_{H'}^{P'} \\rangle=0,\n",
    "$$"
   ]
  },
  {
   "cell_type": "markdown",
   "metadata": {},
   "source": [
    "and if this equation is successively projected against all $\\Phi_H^P$ in the expansion of $\\Psi$, then the last equation on the previous slide\n",
    "results.   As stated previously, one solves this equation normally by diagonalization. If we are able to solve this equation exactly (that is\n",
    "numerically exactly) in a large Hilbert space (it will be truncated in terms of the number of single-particle states included in the definition\n",
    "of Slater determinants), it can then serve as a benchmark for other many-body methods which approximate the correlation operator\n",
    "$\\hat{C}$.\n",
    "\n",
    "\n",
    "\n",
    "\n",
    "\n",
    "## Example of a Hamiltonian matrix\n",
    "Suppose, as an example, that we have six fermions below the Fermi level.\n",
    "This means that we can make at most $6p-6h$ excitations. If we have an infinity of single particle states above the Fermi level, we will obviously have an infinity of say $2p-2h$ excitations. Each such way to configure the particles is called a **configuration**. We will always have to truncate in the basis of single-particle states.\n",
    "This gives us a finite number of possible Slater determinants. Our Hamiltonian matrix would then look like (where each block can have a large dimensionalities):\n",
    "\n",
    "<table border=\"1\">\n",
    "<thead>\n",
    "<tr><th align=\"center\">       </th> <th align=\"center\">$0p-0h$</th> <th align=\"center\">$1p-1h$</th> <th align=\"center\">$2p-2h$</th> <th align=\"center\">$3p-3h$</th> <th align=\"center\">$4p-4h$</th> <th align=\"center\">$5p-5h$</th> <th align=\"center\">$6p-6h$</th> </tr>\n",
    "</thead>\n",
    "<tbody>\n",
    "<tr><td align=\"center\">   $0p-0h$    </td> <td align=\"center\">   x          </td> <td align=\"center\">   x          </td> <td align=\"center\">   x          </td> <td align=\"center\">   0          </td> <td align=\"center\">   0          </td> <td align=\"center\">   0          </td> <td align=\"center\">   0          </td> </tr>\n",
    "<tr><td align=\"center\">   $1p-1h$    </td> <td align=\"center\">   x          </td> <td align=\"center\">   x          </td> <td align=\"center\">   x          </td> <td align=\"center\">   x          </td> <td align=\"center\">   0          </td> <td align=\"center\">   0          </td> <td align=\"center\">   0          </td> </tr>\n",
    "<tr><td align=\"center\">   $2p-2h$    </td> <td align=\"center\">   x          </td> <td align=\"center\">   x          </td> <td align=\"center\">   x          </td> <td align=\"center\">   x          </td> <td align=\"center\">   x          </td> <td align=\"center\">   0          </td> <td align=\"center\">   0          </td> </tr>\n",
    "<tr><td align=\"center\">   $3p-3h$    </td> <td align=\"center\">   0          </td> <td align=\"center\">   x          </td> <td align=\"center\">   x          </td> <td align=\"center\">   x          </td> <td align=\"center\">   x          </td> <td align=\"center\">   x          </td> <td align=\"center\">   0          </td> </tr>\n",
    "<tr><td align=\"center\">   $4p-4h$    </td> <td align=\"center\">   0          </td> <td align=\"center\">   0          </td> <td align=\"center\">   x          </td> <td align=\"center\">   x          </td> <td align=\"center\">   x          </td> <td align=\"center\">   x          </td> <td align=\"center\">   x          </td> </tr>\n",
    "<tr><td align=\"center\">   $5p-5h$    </td> <td align=\"center\">   0          </td> <td align=\"center\">   0          </td> <td align=\"center\">   0          </td> <td align=\"center\">   x          </td> <td align=\"center\">   x          </td> <td align=\"center\">   x          </td> <td align=\"center\">   x          </td> </tr>\n",
    "<tr><td align=\"center\">   $6p-6h$    </td> <td align=\"center\">   0          </td> <td align=\"center\">   0          </td> <td align=\"center\">   0          </td> <td align=\"center\">   0          </td> <td align=\"center\">   x          </td> <td align=\"center\">   x          </td> <td align=\"center\">   x          </td> </tr>\n",
    "</tbody>\n",
    "</table>\n",
    "with a two-body force. Why are there non-zero blocks of elements?\n",
    "\n",
    "\n",
    "\n",
    "\n",
    "## Example of a Hamiltonian matrix with a Hartree-Fock basis\n",
    "If we use a Hartree-Fock basis, this corresponds to a particular unitary transformation where matrix elements of the type $\\langle 0p-0h \\vert \\hat{H} \\vert 1p-1h\\rangle =\\langle \\Phi_0 | \\hat{H}|\\Phi_{i}^{a}\\rangle=0$ and our Hamiltonian matrix becomes \n",
    "\n",
    "<table border=\"1\">\n",
    "<thead>\n",
    "<tr><th align=\"center\">       </th> <th align=\"center\">  $0p-0h$  </th> <th align=\"center\">  $1p-1h$  </th> <th align=\"center\">  $2p-2h$  </th> <th align=\"center\">  $3p-3h$  </th> <th align=\"center\">  $4p-4h$  </th> <th align=\"center\">  $5p-5h$  </th> <th align=\"center\">  $6p-6h$  </th> </tr>\n",
    "</thead>\n",
    "<tbody>\n",
    "<tr><td align=\"center\">   $0p-0h$    </td> <td align=\"center\">   $\\tilde{x}$    </td> <td align=\"center\">   0              </td> <td align=\"center\">   $\\tilde{x}$    </td> <td align=\"center\">   0              </td> <td align=\"center\">   0              </td> <td align=\"center\">   0              </td> <td align=\"center\">   0              </td> </tr>\n",
    "<tr><td align=\"center\">   $1p-1h$    </td> <td align=\"center\">   0              </td> <td align=\"center\">   $\\tilde{x}$    </td> <td align=\"center\">   $\\tilde{x}$    </td> <td align=\"center\">   $\\tilde{x}$    </td> <td align=\"center\">   0              </td> <td align=\"center\">   0              </td> <td align=\"center\">   0              </td> </tr>\n",
    "<tr><td align=\"center\">   $2p-2h$    </td> <td align=\"center\">   $\\tilde{x}$    </td> <td align=\"center\">   $\\tilde{x}$    </td> <td align=\"center\">   $\\tilde{x}$    </td> <td align=\"center\">   $\\tilde{x}$    </td> <td align=\"center\">   $\\tilde{x}$    </td> <td align=\"center\">   0              </td> <td align=\"center\">   0              </td> </tr>\n",
    "<tr><td align=\"center\">   $3p-3h$    </td> <td align=\"center\">   0              </td> <td align=\"center\">   $\\tilde{x}$    </td> <td align=\"center\">   $\\tilde{x}$    </td> <td align=\"center\">   $\\tilde{x}$    </td> <td align=\"center\">   $\\tilde{x}$    </td> <td align=\"center\">   $\\tilde{x}$    </td> <td align=\"center\">   0              </td> </tr>\n",
    "<tr><td align=\"center\">   $4p-4h$    </td> <td align=\"center\">   0              </td> <td align=\"center\">   0              </td> <td align=\"center\">   $\\tilde{x}$    </td> <td align=\"center\">   $\\tilde{x}$    </td> <td align=\"center\">   $\\tilde{x}$    </td> <td align=\"center\">   $\\tilde{x}$    </td> <td align=\"center\">   $\\tilde{x}$    </td> </tr>\n",
    "<tr><td align=\"center\">   $5p-5h$    </td> <td align=\"center\">   0              </td> <td align=\"center\">   0              </td> <td align=\"center\">   0              </td> <td align=\"center\">   $\\tilde{x}$    </td> <td align=\"center\">   $\\tilde{x}$    </td> <td align=\"center\">   $\\tilde{x}$    </td> <td align=\"center\">   $\\tilde{x}$    </td> </tr>\n",
    "<tr><td align=\"center\">   $6p-6h$    </td> <td align=\"center\">   0              </td> <td align=\"center\">   0              </td> <td align=\"center\">   0              </td> <td align=\"center\">   0              </td> <td align=\"center\">   $\\tilde{x}$    </td> <td align=\"center\">   $\\tilde{x}$    </td> <td align=\"center\">   $\\tilde{x}$    </td> </tr>\n",
    "</tbody>\n",
    "</table>\n",
    "\n",
    "\n",
    "\n",
    "\n",
    "\n",
    "## Shell-model jargon\n",
    "If we do not make any truncations in the possible sets of Slater determinants (many-body states) we can make by distributing $A$ nucleons among $n$ single-particle states, we call such a calculation for **Full configuration interaction theory**\n",
    "\n",
    "If we make truncations, we have different possibilities\n",
    "\n",
    "* The standard nuclear shell-model. Here we define an effective Hilbert space with respect to a given core. The calculations are normally then performed for all many-body states that can be constructed from the effective Hilbert spaces. This approach requires a properly defined effective Hamiltonian\n",
    "\n",
    "* We can truncate in the number of excitations. For example, we can limit the possible Slater determinants to only $1p-1h$ and $2p-2h$ excitations. This is called a configuration interaction calculation at the level of singles and doubles excitations, or just CISD. \n",
    "\n",
    "* We can limit the number of excitations in terms of the excitation energies. If we do not define a core, this defines normally what is called the no-core shell-model approach. \n",
    "\n",
    "What happens if we have a three-body interaction and a Hartree-Fock basis?\n",
    "\n",
    "\n",
    "\n",
    "\n",
    "## FCI and the exponential growth\n",
    "Full configuration interaction theory calculations provide in principle, if we can diagonalize numerically, all states of interest. The dimensionality of the problem explodes however quickly.\n",
    "\n",
    "The total number of Slater determinants which can be built with say $N$ neutrons distributed among $n$ single particle states is"
   ]
  },
  {
   "cell_type": "markdown",
   "metadata": {},
   "source": [
    "$$\n",
    "\\left (\\begin{array}{c} n \\\\ N\\end{array} \\right) =\\frac{n!}{(n-N)!N!}.\n",
    "$$"
   ]
  },
  {
   "cell_type": "markdown",
   "metadata": {},
   "source": [
    "For a model space which comprises the first for major shells only $0s$, $0p$, $1s0d$ and $1p0f$ we have $40$ single particle states for neutrons and protons.  For the eight neutrons of oxygen-16 we would then have"
   ]
  },
  {
   "cell_type": "markdown",
   "metadata": {},
   "source": [
    "$$\n",
    "\\left (\\begin{array}{c} 40 \\\\ 8\\end{array} \\right) =\\frac{40!}{(32)!8!}\\sim 10^{9},\n",
    "$$"
   ]
  },
  {
   "cell_type": "markdown",
   "metadata": {},
   "source": [
    "and multiplying this with the number of proton Slater determinants we end up with approximately with a dimensionality $d$ of $d\\sim 10^{18}$.\n",
    "\n",
    "\n",
    "\n",
    "\n",
    "\n",
    "## Exponential wall\n",
    "This number can be reduced if we look at specific symmetries only. However, the dimensionality explodes quickly!\n",
    "\n",
    "* For Hamiltonian matrices of dimensionalities  which are smaller than $d\\sim 10^5$, we would use so-called direct methods for diagonalizing the Hamiltonian matrix\n",
    "\n",
    "* For larger dimensionalities iterative eigenvalue solvers like Lanczos' method are used. The most efficient codes at present can handle matrices of $d\\sim 10^{10}$.\n",
    "\n",
    "\n",
    "\n",
    "\n",
    "\n",
    "## A non-practical way of solving the eigenvalue problem\n",
    "To see this, we look at the contributions arising from"
   ]
  },
  {
   "cell_type": "markdown",
   "metadata": {},
   "source": [
    "$$\n",
    "\\langle \\Phi_H^P | = \\langle \\Phi_0|\n",
    "$$"
   ]
  },
  {
   "cell_type": "markdown",
   "metadata": {},
   "source": [
    "in  Eq. ([1](#eq:fullci)), that is we multiply with $\\langle \\Phi_0 |$\n",
    "from the left in"
   ]
  },
  {
   "cell_type": "markdown",
   "metadata": {},
   "source": [
    "$$\n",
    "(\\hat{H} -E)\\sum_{P'H'}C_{H'}^{P'}|\\Phi_{H'}^{P'} \\rangle=0.\n",
    "$$"
   ]
  },
  {
   "cell_type": "markdown",
   "metadata": {},
   "source": [
    "If we assume that we have a two-body operator at most, Slater's rule gives then an equation for the \n",
    "correlation energy in terms of $C_i^a$ and $C_{ij}^{ab}$ only.  We get then"
   ]
  },
  {
   "cell_type": "markdown",
   "metadata": {},
   "source": [
    "$$\n",
    "\\langle \\Phi_0 | \\hat{H} -E| \\Phi_0\\rangle + \\sum_{ai}\\langle \\Phi_0 | \\hat{H} -E|\\Phi_{i}^{a} \\rangle C_{i}^{a}+\n",
    "\\sum_{abij}\\langle \\Phi_0 | \\hat{H} -E|\\Phi_{ij}^{ab} \\rangle C_{ij}^{ab}=0,\n",
    "$$"
   ]
  },
  {
   "cell_type": "markdown",
   "metadata": {},
   "source": [
    "or"
   ]
  },
  {
   "cell_type": "markdown",
   "metadata": {},
   "source": [
    "$$\n",
    "E-E_0 =\\Delta E=\\sum_{ai}\\langle \\Phi_0 | \\hat{H}|\\Phi_{i}^{a} \\rangle C_{i}^{a}+\n",
    "\\sum_{abij}\\langle \\Phi_0 | \\hat{H}|\\Phi_{ij}^{ab} \\rangle C_{ij}^{ab},\n",
    "$$"
   ]
  },
  {
   "cell_type": "markdown",
   "metadata": {},
   "source": [
    "where the energy $E_0$ is the reference energy and $\\Delta E$ defines the so-called correlation energy.\n",
    "The single-particle basis functions  could be the results of a Hartree-Fock calculation or just the eigenstates of the non-interacting part of the Hamiltonian.\n",
    "\n",
    "\n",
    "\n",
    "\n",
    "\n",
    "## A non-practical way of solving the eigenvalue problem\n",
    "To see this, we look at the contributions arising from"
   ]
  },
  {
   "cell_type": "markdown",
   "metadata": {},
   "source": [
    "$$\n",
    "\\langle \\Phi_H^P | = \\langle \\Phi_0|\n",
    "$$"
   ]
  },
  {
   "cell_type": "markdown",
   "metadata": {},
   "source": [
    "in  Eq. ([1](#eq:fullci)), that is we multiply with $\\langle \\Phi_0 |$\n",
    "from the left in"
   ]
  },
  {
   "cell_type": "markdown",
   "metadata": {},
   "source": [
    "$$\n",
    "(\\hat{H} -E)\\sum_{P'H'}C_{H'}^{P'}|\\Phi_{H'}^{P'} \\rangle=0.\n",
    "$$"
   ]
  },
  {
   "cell_type": "markdown",
   "metadata": {},
   "source": [
    "## A non-practical way of solving the eigenvalue problem\n",
    "If we assume that we have a two-body operator at most, Slater's rule gives then an equation for the \n",
    "correlation energy in terms of $C_i^a$ and $C_{ij}^{ab}$ only.  We get then"
   ]
  },
  {
   "cell_type": "markdown",
   "metadata": {},
   "source": [
    "$$\n",
    "\\langle \\Phi_0 | \\hat{H} -E| \\Phi_0\\rangle + \\sum_{ai}\\langle \\Phi_0 | \\hat{H} -E|\\Phi_{i}^{a} \\rangle C_{i}^{a}+\n",
    "\\sum_{abij}\\langle \\Phi_0 | \\hat{H} -E|\\Phi_{ij}^{ab} \\rangle C_{ij}^{ab}=0,\n",
    "$$"
   ]
  },
  {
   "cell_type": "markdown",
   "metadata": {},
   "source": [
    "or"
   ]
  },
  {
   "cell_type": "markdown",
   "metadata": {},
   "source": [
    "$$\n",
    "E-E_0 =\\Delta E=\\sum_{ai}\\langle \\Phi_0 | \\hat{H}|\\Phi_{i}^{a} \\rangle C_{i}^{a}+\n",
    "\\sum_{abij}\\langle \\Phi_0 | \\hat{H}|\\Phi_{ij}^{ab} \\rangle C_{ij}^{ab},\n",
    "$$"
   ]
  },
  {
   "cell_type": "markdown",
   "metadata": {},
   "source": [
    "where the energy $E_0$ is the reference energy and $\\Delta E$ defines the so-called correlation energy.\n",
    "The single-particle basis functions  could be the results of a Hartree-Fock calculation or just the eigenstates of the non-interacting part of the Hamiltonian.\n",
    "\n",
    "\n",
    "\n",
    "\n",
    "\n",
    "\n",
    "## Rewriting the FCI equation\n",
    "In our notes on Hartree-Fock calculations, \n",
    "we have already computed the matrix $\\langle \\Phi_0 | \\hat{H}|\\Phi_{i}^{a}\\rangle $ and $\\langle \\Phi_0 | \\hat{H}|\\Phi_{ij}^{ab}\\rangle$.  If we are using a Hartree-Fock basis, then the matrix elements\n",
    "$\\langle \\Phi_0 | \\hat{H}|\\Phi_{i}^{a}\\rangle=0$ and we are left with a *correlation energy* given by"
   ]
  },
  {
   "cell_type": "markdown",
   "metadata": {},
   "source": [
    "$$\n",
    "E-E_0 =\\Delta E^{HF}=\\sum_{abij}\\langle \\Phi_0 | \\hat{H}|\\Phi_{ij}^{ab} \\rangle C_{ij}^{ab}.\n",
    "$$"
   ]
  },
  {
   "cell_type": "markdown",
   "metadata": {},
   "source": [
    "## Rewriting the FCI equation\n",
    "Inserting the various matrix elements we can rewrite the previous equation as"
   ]
  },
  {
   "cell_type": "markdown",
   "metadata": {},
   "source": [
    "$$\n",
    "\\Delta E=\\sum_{ai}\\langle i| \\hat{f}|a \\rangle C_{i}^{a}+\n",
    "\\sum_{abij}\\langle ij | \\hat{v}| ab \\rangle C_{ij}^{ab}.\n",
    "$$"
   ]
  },
  {
   "cell_type": "markdown",
   "metadata": {},
   "source": [
    "This equation determines the correlation energy but not the coefficients $C$.\n",
    "\n",
    "\n",
    "\n",
    "\n",
    "## Rewriting the FCI equation, does not stop here\n",
    "We need more equations. Our next step is to set up"
   ]
  },
  {
   "cell_type": "markdown",
   "metadata": {},
   "source": [
    "$$\n",
    "\\langle \\Phi_i^a | \\hat{H} -E| \\Phi_0\\rangle + \\sum_{bj}\\langle \\Phi_i^a | \\hat{H} -E|\\Phi_{j}^{b} \\rangle C_{j}^{b}+\n",
    "\\sum_{bcjk}\\langle \\Phi_i^a | \\hat{H} -E|\\Phi_{jk}^{bc} \\rangle C_{jk}^{bc}+\n",
    "\\sum_{bcdjkl}\\langle \\Phi_i^a | \\hat{H} -E|\\Phi_{jkl}^{bcd} \\rangle C_{jkl}^{bcd}=0,\n",
    "$$"
   ]
  },
  {
   "cell_type": "markdown",
   "metadata": {},
   "source": [
    "as this equation will allow us to find an expression for the coefficents $C_i^a$ since we can rewrite this equation as"
   ]
  },
  {
   "cell_type": "markdown",
   "metadata": {},
   "source": [
    "$$\n",
    "\\langle i | \\hat{f}| a\\rangle +\\langle \\Phi_i^a | \\hat{H}|\\Phi_{i}^{a} \\rangle C_{i}^{a}+ \\sum_{bj\\ne ai}\\langle \\Phi_i^a | \\hat{H}|\\Phi_{j}^{b} \\rangle C_{j}^{b}+\n",
    "\\sum_{bcjk}\\langle \\Phi_i^a | \\hat{H}|\\Phi_{jk}^{bc} \\rangle C_{jk}^{bc}+\n",
    "\\sum_{bcdjkl}\\langle \\Phi_i^a | \\hat{H}|\\Phi_{jkl}^{bcd} \\rangle C_{jkl}^{bcd}=EC_i^a.\n",
    "$$"
   ]
  },
  {
   "cell_type": "markdown",
   "metadata": {},
   "source": [
    "## Rewriting the FCI equation, please stop here\n",
    "We see that on the right-hand side we have the energy $E$. This leads to a non-linear equation in the unknown coefficients. \n",
    "These equations are normally solved iteratively ( that is we can start with a guess for the coefficients $C_i^a$). A common choice is to use perturbation theory for the first guess, setting thereby"
   ]
  },
  {
   "cell_type": "markdown",
   "metadata": {},
   "source": [
    "$$\n",
    "C_{i}^{a}=\\frac{\\langle i | \\hat{f}| a\\rangle}{\\epsilon_i-\\epsilon_a}.\n",
    "$$"
   ]
  },
  {
   "cell_type": "markdown",
   "metadata": {},
   "source": [
    "## Rewriting the FCI equation, more to add\n",
    "The observant reader will however see that we need an equation for $C_{jk}^{bc}$ and $C_{jkl}^{bcd}$ as well.\n",
    "To find equations for these coefficients we need then to continue our multiplications from the left with the various\n",
    "$\\Phi_{H}^P$ terms. \n",
    "\n",
    "\n",
    "For $C_{jk}^{bc}$ we need then"
   ]
  },
  {
   "cell_type": "markdown",
   "metadata": {},
   "source": [
    "4\n",
    "4\n",
    " \n",
    "<\n",
    "<\n",
    "<\n",
    "!\n",
    "!\n",
    "M\n",
    "A\n",
    "T\n",
    "H\n",
    "_\n",
    "B\n",
    "L\n",
    "O\n",
    "C\n",
    "K"
   ]
  },
  {
   "cell_type": "markdown",
   "metadata": {},
   "source": [
    "$$\n",
    "\\sum_{cdkl}\\langle \\Phi_{ij}^{ab} | \\hat{H} -E|\\Phi_{kl}^{cd} \\rangle C_{kl}^{cd}+\\sum_{cdeklm}\\langle \\Phi_{ij}^{ab} | \\hat{H} -E|\\Phi_{klm}^{cde} \\rangle C_{klm}^{cde}+\\sum_{cdefklmn}\\langle \\Phi_{ij}^{ab} | \\hat{H} -E|\\Phi_{klmn}^{cdef} \\rangle C_{klmn}^{cdef}=0,\n",
    "$$"
   ]
  },
  {
   "cell_type": "markdown",
   "metadata": {},
   "source": [
    "and we can isolate the coefficients $C_{kl}^{cd}$ in a similar way as we did for the coefficients $C_{i}^{a}$.\n",
    "\n",
    "\n",
    "\n",
    "\n",
    "\n",
    "\n",
    "## Rewriting the FCI equation, more to add\n",
    "A standard choice for the first iteration is to set"
   ]
  },
  {
   "cell_type": "markdown",
   "metadata": {},
   "source": [
    "$$\n",
    "C_{ij}^{ab} =\\frac{\\langle ij \\vert \\hat{v} \\vert ab \\rangle}{\\epsilon_i+\\epsilon_j-\\epsilon_a-\\epsilon_b}.\n",
    "$$"
   ]
  },
  {
   "cell_type": "markdown",
   "metadata": {},
   "source": [
    "At the end we can rewrite our solution of the Schroedinger equation in terms of $n$ coupled equations for the coefficients $C_H^P$.\n",
    "This is a very cumbersome way of solving the equation. However, by using this iterative scheme we can illustrate how we can compute the\n",
    "various terms in the wave operator or correlation operator $\\hat{C}$. We will later identify the calculation of the various terms $C_H^P$\n",
    "as parts of different many-body approximations to full CI. In particular, we can  relate this non-linear scheme with Coupled Cluster theory and\n",
    "many-body perturbation theory.\n",
    "\n",
    "\n",
    "\n",
    "\n",
    "\n",
    "## Summarizing FCI and bringing in approximative methods\n",
    "\n",
    "If we can diagonalize large matrices, FCI is the method of choice since:\n",
    "* It gives all eigenvalues, ground state and excited states\n",
    "\n",
    "* The eigenvectors are obtained directly from the coefficients $C_H^P$ which result from the diagonalization\n",
    "\n",
    "* We can compute easily expectation values of other operators, as well as transition probabilities\n",
    "\n",
    "* Correlations are easy to understand in terms of contributions to a given operator beyond the Hartree-Fock contribution. This is the standard approach in  many-body theory.\n",
    "\n",
    "\n",
    "\n",
    "\n",
    "## Definition of the correlation energy\n",
    "The correlation energy is defined as, with a two-body Hamiltonian,"
   ]
  },
  {
   "cell_type": "markdown",
   "metadata": {},
   "source": [
    "$$\n",
    "\\Delta E=\\sum_{ai}\\langle i| \\hat{f}|a \\rangle C_{i}^{a}+\n",
    "\\sum_{abij}\\langle ij | \\hat{v}| ab \\rangle C_{ij}^{ab}.\n",
    "$$"
   ]
  },
  {
   "cell_type": "markdown",
   "metadata": {},
   "source": [
    "The coefficients $C$ result from the solution of the eigenvalue problem. \n",
    "The energy of say the ground state is then"
   ]
  },
  {
   "cell_type": "markdown",
   "metadata": {},
   "source": [
    "$$\n",
    "E=E_{ref}+\\Delta E,\n",
    "$$"
   ]
  },
  {
   "cell_type": "markdown",
   "metadata": {},
   "source": [
    "where the so-called reference energy is the energy we obtain from a Hartree-Fock calculation, that is"
   ]
  },
  {
   "cell_type": "markdown",
   "metadata": {},
   "source": [
    "$$\n",
    "E_{ref}=\\langle \\Phi_0 \\vert \\hat{H} \\vert \\Phi_0 \\rangle.\n",
    "$$"
   ]
  },
  {
   "cell_type": "markdown",
   "metadata": {},
   "source": [
    "## FCI equation and the coefficients\n",
    "\n",
    "However, as we have seen, even for a small case like the four first major shells and a nucleus like oxygen-16, the dimensionality becomes quickly intractable. If we wish to include single-particle states that reflect weakly bound systems, we need a much larger single-particle basis. We need thus approximative methods that sum specific correlations to infinite order. \n",
    "\n",
    "Popular methods are\n",
    "* [Many-body perturbation theory (in essence a Taylor expansion)](http://www.sciencedirect.com/science/article/pii/0370157395000126)\n",
    "\n",
    "* [Coupled cluster theory (coupled non-linear equations)](http://iopscience.iop.org/article/10.1088/0034-4885/77/9/096302/meta)\n",
    "\n",
    "* Green's function approaches (matrix inversion)\n",
    "\n",
    "* [Similarity group transformation methods (coupled ordinary differential equations)](http://journals.aps.org/prl/abstract/10.1103/PhysRevLett.106.222502)\n",
    "\n",
    "All these methods start normally with a Hartree-Fock basis as the calculational basis.\n",
    "\n",
    "\n",
    "\n",
    "\n",
    "## Important ingredients to have in codes\n",
    "\n",
    "* Be able to validate and verify  the  algorithms. \n",
    "\n",
    "* Include concepts like unit testing. Gives the possibility to test and validate several or all parts of the code.\n",
    "\n",
    "* Validation and verification are then included *naturally* and one can develop a better attitude to what is meant with an ethically sound scientific approach.\n",
    "\n",
    "\n",
    "\n",
    "\n",
    "\n",
    "\n",
    "## A structured approach to solving problems\n",
    "In the steps that lead to the development of clean code you should  think of \n",
    "1. How to structure a code in terms of functions  (use IDEs or advanced text editors like sublime or atom)\n",
    "\n",
    "2. How to make a module\n",
    "\n",
    "3. How to read input data flexibly from the command line or files\n",
    "\n",
    "4. How to create graphical/web user interfaces\n",
    "\n",
    "5. How to write unit tests  \n",
    "\n",
    "6. How to refactor code in terms of classes (instead of functions only)\n",
    "\n",
    "7. How to conduct and automate large-scale numerical experiments\n",
    "\n",
    "8. How to write scientific reports in various formats (LaTeX, HTML, doconce)\n",
    "\n",
    "\n",
    "\n",
    "\n",
    "\n",
    "## Additional benefits\n",
    "Many of the above aspetcs  will save you a lot of time when you incrementally extend software over time from simpler to more complicated problems. In particular, you will benefit from many good habits:\n",
    "1. New code is added in a modular fashion to a library (modules)\n",
    "\n",
    "2. Programs are run through convenient user interfaces\n",
    "\n",
    "3. It takes one quick command to let all your code undergo heavy testing \n",
    "\n",
    "4. Tedious manual work with running programs is automated,\n",
    "\n",
    "5. Your scientific investigations are reproducible, scientific reports with top quality typesetting are produced both for paper and electronic devices. Use version control software like [git](https://git-scm.com/) and repositories like [github](https://github.com/)\n",
    "\n",
    "\n",
    "\n",
    "\n",
    "\n",
    "\n",
    "## Unit Testing\n",
    "Unit Testing is the practice of testing the smallest testable parts,\n",
    "called units, of an application individually and independently to\n",
    "determine if they behave exactly as expected. \n",
    "\n",
    "Unit tests (short code\n",
    "fragments) are usually written such that they can be preformed at any\n",
    "time during the development to continually verify the behavior of the\n",
    "code. \n",
    "\n",
    "In this way, possible bugs will be identified early in the\n",
    "development cycle, making the debugging at later stages much\n",
    "easier.\n",
    "\n",
    "\n",
    "\n",
    "\n",
    "## Unit Testing, benefits\n",
    "There are many benefits associated with Unit Testing, such as\n",
    "  * It increases confidence in changing and maintaining code. Big changes can be made to the code quickly, since the tests will ensure that everything still is working properly.\n",
    "\n",
    "  * Since the code needs to be modular to make Unit Testing possible, the code will be easier to reuse. This improves the code design.\n",
    "\n",
    "  * Debugging is easier, since when a test fails, only the latest changes need to be debugged.\n",
    "\n",
    "   * Different parts of a project can be tested without the need to wait for the other parts to be available.\n",
    "\n",
    "\n",
    "  * A unit test can serve as a documentation on the functionality of a unit of the code.\n",
    "\n",
    "\n",
    "\n",
    "\n",
    "\n",
    "## Simple example of unit test\n",
    "Look up the guide on how to install unit tests for c++ at course webpage. This is the version with classes."
   ]
  },
  {
   "cell_type": "markdown",
   "metadata": {},
   "source": [
    "        #include <unittest++/UnitTest++.h>\n",
    "        \n",
    "        class MyMultiplyClass{\n",
    "        public:\n",
    "            double multiply(double x, double y) {\n",
    "                return x * y;\n",
    "            }\n",
    "        };\n",
    "        \n",
    "        TEST(MyMath) {\n",
    "            MyMultiplyClass my;\n",
    "            CHECK_EQUAL(56, my.multiply(7,8));\n",
    "        }\n",
    "        \n",
    "        int main()\n",
    "        {\n",
    "            return UnitTest::RunAllTests();\n",
    "        }\n"
   ]
  },
  {
   "cell_type": "markdown",
   "metadata": {},
   "source": [
    "## Simple example of unit test\n",
    "And without classes"
   ]
  },
  {
   "cell_type": "markdown",
   "metadata": {},
   "source": [
    "        #include <unittest++/UnitTest++.h>\n",
    "        \n",
    "        \n",
    "        double multiply(double x, double y) {\n",
    "            return x * y;\n",
    "        }\n",
    "        \n",
    "        TEST(MyMath) {\n",
    "            CHECK_EQUAL(56, multiply(7,8));\n",
    "        }\n",
    "        \n",
    "        int main()\n",
    "        {\n",
    "            return UnitTest::RunAllTests();\n",
    "        } \n"
   ]
  },
  {
   "cell_type": "markdown",
   "metadata": {},
   "source": [
    "For Fortran users, the link at <http://sourceforge.net/projects/fortranxunit/> contains a similar\n",
    "software for unit testing. For Python go to <https://docs.python.org/2/library/unittest.html>.\n",
    "\n",
    "\n",
    "\n",
    "\n",
    "\n",
    "\n",
    "\n",
    "\n",
    "## [Unit tests](https://github.com/philsquared/Catch/blob/master/docs/tutorial.md)\n",
    "There are many types of **unit test** libraries. One which is very popular with C++ programmers is [Catch](https://github.com/philsquared/Catch/blob/master/docs/tutorial.md)\n",
    "\n",
    "Catch is header only. All you need to do is drop the file(s) somewhere reachable from your project - either in some central location you can set your header search path to find, or directly into your project tree itself! \n",
    "\n",
    "This is a particularly good option for other Open-Source projects that want to use Catch for their test suite.\n",
    "\n",
    "\n",
    "\n",
    "\n",
    "## Examples\n",
    "\n",
    "Computing factorials"
   ]
  },
  {
   "cell_type": "markdown",
   "metadata": {},
   "source": [
    "        inline unsigned int Factorial( unsigned int number ) {\n",
    "          return number > 1 ? Factorial(number-1)*number : 1;\n",
    "        }\n"
   ]
  },
  {
   "cell_type": "markdown",
   "metadata": {},
   "source": [
    "## Factorial Example\n",
    "\n",
    "Simple test where we put everything in a single file"
   ]
  },
  {
   "cell_type": "markdown",
   "metadata": {},
   "source": [
    "        #define CATCH_CONFIG_MAIN  // This tells Catch to provide a main()\n",
    "        #include \"catch.hpp\"\n",
    "        inline unsigned int Factorial( unsigned int number ) {\n",
    "          return number > 1 ? Factorial(number-1)*number : 1;\n",
    "        }\n",
    "        \n",
    "        TEST_CASE( \"Factorials are computed\", \"[factorial]\" ) {\n",
    "            REQUIRE( Factorial(0) == 1 );\n",
    "            REQUIRE( Factorial(1) == 1 );\n",
    "            REQUIRE( Factorial(2) == 2 );\n",
    "            REQUIRE( Factorial(3) == 6 );\n",
    "            REQUIRE( Factorial(10) == 3628800 );\n",
    "        }\n",
    "        \n"
   ]
  },
  {
   "cell_type": "markdown",
   "metadata": {},
   "source": [
    "This will compile to a complete executable which responds to command line arguments. If you just run it with no arguments it will execute all test cases (in this case there is just one), report any failures, report a summary of how many tests passed and failed and return the number of failed tests.\n",
    "\n",
    "\n",
    "## What did we do (1)?\n",
    "All we did was"
   ]
  },
  {
   "cell_type": "markdown",
   "metadata": {},
   "source": [
    "        #define \n"
   ]
  },
  {
   "cell_type": "markdown",
   "metadata": {},
   "source": [
    "one identifier and"
   ]
  },
  {
   "cell_type": "markdown",
   "metadata": {},
   "source": [
    "        #include \n"
   ]
  },
  {
   "cell_type": "markdown",
   "metadata": {},
   "source": [
    "one header and we got everything - even an implementation of main() that will respond to command line arguments. \n",
    "Once you have more than one file with unit tests in you'll just need to"
   ]
  },
  {
   "cell_type": "markdown",
   "metadata": {},
   "source": [
    "        #include \"catch.hpp\" \n"
   ]
  },
  {
   "cell_type": "markdown",
   "metadata": {},
   "source": [
    "and go. Usually it's a good idea to have a dedicated implementation file that just has"
   ]
  },
  {
   "cell_type": "markdown",
   "metadata": {},
   "source": [
    "        #define CATCH_CONFIG_MAIN \n",
    "        #include \"catch.hpp\". \n"
   ]
  },
  {
   "cell_type": "markdown",
   "metadata": {},
   "source": [
    "You can also provide your own implementation of main and drive Catch yourself.\n",
    "\n",
    "\n",
    "\n",
    "## What did we do (2)?\n",
    "We introduce test cases with the"
   ]
  },
  {
   "cell_type": "markdown",
   "metadata": {},
   "source": [
    "        TEST_CASE \n"
   ]
  },
  {
   "cell_type": "markdown",
   "metadata": {},
   "source": [
    "macro.\n",
    "\n",
    "The test name must be unique. You can run sets of tests by specifying a wildcarded test name or a tag expression. \n",
    "All we did was **define** one identifier and **include** one header and we got everything.\n",
    "\n",
    "We write our individual test assertions using the"
   ]
  },
  {
   "cell_type": "markdown",
   "metadata": {},
   "source": [
    "        REQUIRE \n"
   ]
  },
  {
   "cell_type": "markdown",
   "metadata": {},
   "source": [
    "macro.\n",
    "\n",
    "\n",
    "\n",
    "## Unit test summary and testing approach\n",
    "Three levels of tests\n",
    "1. Microscopic level: testing small parts of code, use often unit test libraries\n",
    "\n",
    "2. Mesoscopic level: testing the integration of various parts  of your code\n",
    "\n",
    "3. Macroscopic level: testing that the final result is ok\n",
    "\n",
    " \n",
    "\n",
    "\n",
    "\n",
    "\n",
    "## Coding Recommendations\n",
    "Writing clean and clear code is an art and reflects \n",
    "your understanding of \n",
    "\n",
    "1. derivation, verification, and implementation of algorithms\n",
    "\n",
    "2. what can go wrong with algorithms\n",
    "\n",
    "3. overview of important, known algorithms\n",
    "\n",
    "4. how algorithms are used to solve mathematical problems\n",
    "\n",
    "5. reproducible science and ethics\n",
    "\n",
    "6. algorithmic thinking for gaining deeper insights about scientific problems\n",
    "\n",
    "Computing is understanding and your understanding is reflected in your abilities to\n",
    "write clear and clean code.\n",
    "\n",
    "\n",
    "\n",
    "## Summary and recommendations\n",
    "Some simple hints and tips in order to write clean and clear code\n",
    "1. Spell out the algorithm and have a top-down approach to the flow of data\n",
    "\n",
    "2. Start with coding as close as possible to eventual mathematical expressions\n",
    "\n",
    "3. Use meaningful names for variables\n",
    "\n",
    "4. Split tasks in simple functions and modules/classes\n",
    "\n",
    "5. Functions should return as few as possible variables\n",
    "\n",
    "6. Use unit tests and make sure your codes are producing the correct results\n",
    "\n",
    "7. Where possible use symbolic coding to autogenerate code and check results\n",
    "\n",
    "8. Make a proper timing of your algorithms\n",
    "\n",
    "9. Use version control and make your science reproducible\n",
    "\n",
    "10. Use IDEs or smart editors with debugging and analysis tools.\n",
    "\n",
    "11. Automatize your computations interfacing high-level and compiled languages like C++ and Fortran.\n",
    "\n",
    "12. .....\n",
    "\n",
    "## Building a many-body basis\n",
    "Here we will discuss how we can set up a single-particle basis which we can use in the various parts of our projects, from the simple pairing model to infinite nuclear matter. We will use here the simple pairing model to illustrate in particular how to set up a single-particle basis. We will also use this do discuss standard FCI approaches like:\n",
    "1. Standard shell-model basis in one or two major shells\n",
    "\n",
    "2. Full CI in a given basis and no truncations\n",
    "\n",
    "3. CISD and CISDT approximations\n",
    "\n",
    "4. No-core shell model and truncation in excitation energy\n",
    "\n",
    "\n",
    "\n",
    "\n",
    "## Building a many-body basis\n",
    "An important step in an FCI code  is to construct the many-body basis.  \n",
    "\n",
    "While the formalism is independent of the choice of basis, the **effectiveness** of a calculation \n",
    "will certainly be basis dependent. \n",
    "\n",
    "Furthermore there are common conventions useful to know.\n",
    "\n",
    "First, the single-particle basis has angular momentum as a good quantum number.  You can \n",
    "imagine the single-particle wavefunctions being generated by a one-body Hamiltonian, \n",
    "for example a harmonic oscillator.  Modifications include harmonic oscillator plus \n",
    "spin-orbit splitting, or self-consistent mean-field potentials, or the Woods-Saxon potential which mocks \n",
    "up the self-consistent mean-field. \n",
    "For nuclei, the harmonic oscillator, modified by spin-orbit splitting, provides a useful language \n",
    "for describing single-particle states.\n",
    "\n",
    "\n",
    "\n",
    "\n",
    "## Building a many-body basis\n",
    "Each single-particle state is labeled by the following quantum numbers: \n",
    "\n",
    "* Orbital angular momentum $l$\n",
    "\n",
    "* Intrinsic spin $s$ = 1/2 for protons and neutrons\n",
    "\n",
    "* Angular momentum $j = l \\pm 1/2$\n",
    "\n",
    "* $z$-component $j_z$ (or $m$)\n",
    "\n",
    "* Some labeling of the radial wavefunction, typically $n$ the number of nodes in  the radial wavefunction, but in the case of harmonic oscillator one can also use the principal quantum number $N$, where the harmonic oscillator energy is $(N+3/2)\\hbar \\omega$.  \n",
    "\n",
    "In this format one labels states by $n(l)_j$, with $(l)$ replaced by a letter:\n",
    "$s$ for $l=0$, $p$ for $l=1$, $d$ for $l=2$, $f$ for $l=3$, and thenceforth alphabetical.\n",
    "\n",
    "\n",
    "\n",
    "\n",
    "## Building a many-body basis\n",
    " In practice the single-particle space has to be severely truncated.  This truncation is \n",
    "typically based upon the single-particle energies, which is the effective energy \n",
    "from a mean-field potential. \n",
    "\n",
    "Sometimes we freeze the core and only consider a valence space. For example, one \n",
    "may assume a frozen $^{4}\\mbox{He}$ core, with two protons and two neutrons in the $0s_{1/2}$ \n",
    "shell, and then only allow active particles in the $0p_{1/2}$ and $0p_{3/2}$ orbits. \n",
    "\n",
    "\n",
    "Another example is a frozen $^{16}\\mbox{O}$ core, with eight protons and eight neutrons filling the \n",
    "$0s_{1/2}$,  $0p_{1/2}$ and $0p_{3/2}$ orbits, with valence particles in the \n",
    "$0d_{5/2}, 1s_{1/2}$ and $0d_{3/2}$ orbits.\n",
    "\n",
    "\n",
    "Sometimes we refer to nuclei by the valence space where their last nucleons go.  \n",
    "So, for example, we call $^{12}\\mbox{C}$ a $p$-shell nucleus, while $^{26}\\mbox{Al}$ is an \n",
    "$sd$-shell nucleus and $^{56}\\mbox{Fe}$ is a $pf$-shell nucleus.\n",
    "\n",
    "\n",
    "\n",
    "\n",
    "\n",
    "## Building a many-body basis\n",
    "There are different kinds of truncations.\n",
    "\n",
    "* For example, one can start with `filled' orbits (almost always the lowest), and then  allow one, two, three... particles excited out of those filled orbits. These are called  1p-1h, 2p-2h, 3p-3h excitations. \n",
    "\n",
    "* Alternately, one can state a maximal orbit and allow all possible configurations with  particles occupying states up to that maximum. This is called *full configuration*.\n",
    "\n",
    "* Finally, for particular use in nuclear physics, there is the *energy* truncation, also  called the $N\\hbar\\Omega$ or $N_{max}$ truncation.\n",
    "\n",
    "\n",
    "\n",
    "\n",
    "## Building a many-body basis\n",
    "Here one works in a harmonic oscillator basis, with each major oscillator shell assigned  a principal quantum number $N=0,1,2,3,...$. \n",
    "The $N\\hbar\\Omega$ or $N_{max}$ truncation: Any configuration is given an noninteracting energy, which is the sum \n",
    "of the single-particle harmonic oscillator energies. (Thus this ignores \n",
    "spin-orbit splitting.)\n",
    "\n",
    "Excited state are labeled relative to the lowest configuration by the \n",
    "number of harmonic oscillator quanta.\n",
    "\n",
    "This truncation is useful because if one includes *all* configuration up to \n",
    "some $N_{max}$, and has a translationally invariant interaction, then the intrinsic \n",
    "motion and the center-of-mass motion factor. In other words, we can know exactly \n",
    "the center-of-mass wavefunction. \n",
    "\n",
    "In almost all cases, the many-body Hamiltonian is rotationally invariant. This means \n",
    "it commutes with the operators $\\hat{J}^2, \\hat{J}_z$ and so eigenstates will have \n",
    "good $J,M$. Furthermore, the eigenenergies do not depend upon the orientation $M$. \n",
    "\n",
    "\n",
    "Therefore we can choose to construct a many-body basis which has fixed $M$; this is \n",
    "called an $M$-scheme basis. \n",
    "\n",
    "\n",
    "Alternately, one can construct a many-body basis which has fixed $J$, or a $J$-scheme \n",
    "basis.\n",
    "\n",
    "\n",
    "\n",
    "\n",
    "## Building a many-body basis\n",
    "The Hamiltonian matrix will have smaller dimensions (a factor of 10 or more) in the $J$-scheme than in the $M$-scheme. \n",
    "On the other hand, as we'll show in the next slide, the $M$-scheme is very easy to \n",
    "construct with Slater determinants, while the $J$-scheme basis states, and thus the \n",
    "matrix elements, are more complicated, almost always being linear combinations of \n",
    "$M$-scheme states. $J$-scheme bases are important and useful, but we'll focus on the \n",
    "simpler $M$-scheme.\n",
    "\n",
    "The quantum number $m$ is additive (because the underlying group is Abelian): \n",
    "if a Slater determinant $\\hat{a}_i^\\dagger \\hat{a}^\\dagger_j \\hat{a}^\\dagger_k \\ldots | 0 \\rangle$ \n",
    "is built from single-particle states all with good $m$, then the total"
   ]
  },
  {
   "cell_type": "markdown",
   "metadata": {},
   "source": [
    "$$\n",
    "M = m_i + m_j + m_k + \\ldots\n",
    "$$"
   ]
  },
  {
   "cell_type": "markdown",
   "metadata": {},
   "source": [
    "This is *not* true of $J$, because the angular momentum group SU(2) is not Abelian.\n",
    "\n",
    "\n",
    "\n",
    "\n",
    "\n",
    "## Building a many-body basis\n",
    "\n",
    "The upshot is that \n",
    "* It is easy to construct a Slater determinant with good total $M$;\n",
    "\n",
    "* It is trivial to calculate $M$ for each Slater determinant;\n",
    "\n",
    "* So it is easy to construct an $M$-scheme basis with fixed total $M$.\n",
    "\n",
    "Note that the individual $M$-scheme basis states will *not*, in general, \n",
    "have good total $J$. \n",
    "Because the Hamiltonian is rotationally invariant, however, the eigenstates will \n",
    "have good $J$. (The situation is muddied when one has states of different $J$ that are \n",
    "nonetheless degenerate.)\n",
    "\n",
    "\n",
    "\n",
    "\n",
    "\n",
    "\n",
    "\n",
    "## Building a many-body basis\n",
    "Example: two $j=1/2$ orbits\n",
    "\n",
    "<table border=\"1\">\n",
    "<thead>\n",
    "<tr><th align=\"center\">Index</th> <th align=\"center\">$n$</th> <th align=\"center\">$l$</th> <th align=\"center\">$j$</th> <th align=\"center\">$m_j$</th> </tr>\n",
    "</thead>\n",
    "<tbody>\n",
    "<tr><td align=\"center\">   1        </td> <td align=\"center\">   0      </td> <td align=\"center\">   0      </td> <td align=\"center\">   1/2    </td> <td align=\"center\">   -1/2     </td> </tr>\n",
    "<tr><td align=\"center\">   2        </td> <td align=\"center\">   0      </td> <td align=\"center\">   0      </td> <td align=\"center\">   1/2    </td> <td align=\"center\">   1/2      </td> </tr>\n",
    "<tr><td align=\"center\">   3        </td> <td align=\"center\">   1      </td> <td align=\"center\">   0      </td> <td align=\"center\">   1/2    </td> <td align=\"center\">   -1/2     </td> </tr>\n",
    "<tr><td align=\"center\">   4        </td> <td align=\"center\">   1      </td> <td align=\"center\">   0      </td> <td align=\"center\">   1/2    </td> <td align=\"center\">   1/2      </td> </tr>\n",
    "</tbody>\n",
    "</table>\n",
    "Note that the order is arbitrary.\n",
    "\n",
    "\n",
    "\n",
    "\n",
    "## Building a many-body basis\n",
    "There are $\\left ( \\begin{array}{c} 4 \\\\ 2 \\end{array} \\right) = 6$ two-particle states, \n",
    "which we list with the total $M$:\n",
    "\n",
    "<table border=\"1\">\n",
    "<thead>\n",
    "<tr><th align=\"center\">Occupied</th> <th align=\"center\">$M$</th> </tr>\n",
    "</thead>\n",
    "<tbody>\n",
    "<tr><td align=\"center\">   1,2         </td> <td align=\"center\">   0      </td> </tr>\n",
    "<tr><td align=\"center\">   1,3         </td> <td align=\"center\">   -1     </td> </tr>\n",
    "<tr><td align=\"center\">   1,4         </td> <td align=\"center\">   0      </td> </tr>\n",
    "<tr><td align=\"center\">   2,3         </td> <td align=\"center\">   0      </td> </tr>\n",
    "<tr><td align=\"center\">   2,4         </td> <td align=\"center\">   1      </td> </tr>\n",
    "<tr><td align=\"center\">   3,4         </td> <td align=\"center\">   0      </td> </tr>\n",
    "</tbody>\n",
    "</table>\n",
    "There are 4 states with $M= 0$, \n",
    "and 1 each with $M = \\pm 1$.\n",
    "\n",
    "\n",
    "\n",
    "\n",
    "\n",
    "## Building a many-body basis\n",
    "As another example, consider using only single particle states from the $0d_{5/2}$ space. \n",
    "They have the following quantum numbers\n",
    "\n",
    "<table border=\"1\">\n",
    "<thead>\n",
    "<tr><th align=\"center\">Index</th> <th align=\"center\">$n$</th> <th align=\"center\">$l$</th> <th align=\"center\">$j$</th> <th align=\"center\">$m_j$</th> </tr>\n",
    "</thead>\n",
    "<tbody>\n",
    "<tr><td align=\"center\">   1        </td> <td align=\"center\">   0      </td> <td align=\"center\">   2      </td> <td align=\"center\">   5/2    </td> <td align=\"center\">   -5/2     </td> </tr>\n",
    "<tr><td align=\"center\">   2        </td> <td align=\"center\">   0      </td> <td align=\"center\">   2      </td> <td align=\"center\">   5/2    </td> <td align=\"center\">   -3/2     </td> </tr>\n",
    "<tr><td align=\"center\">   3        </td> <td align=\"center\">   0      </td> <td align=\"center\">   2      </td> <td align=\"center\">   5/2    </td> <td align=\"center\">   -1/2     </td> </tr>\n",
    "<tr><td align=\"center\">   4        </td> <td align=\"center\">   0      </td> <td align=\"center\">   2      </td> <td align=\"center\">   5/2    </td> <td align=\"center\">   1/2      </td> </tr>\n",
    "<tr><td align=\"center\">   5        </td> <td align=\"center\">   0      </td> <td align=\"center\">   2      </td> <td align=\"center\">   5/2    </td> <td align=\"center\">   3/2      </td> </tr>\n",
    "<tr><td align=\"center\">   6        </td> <td align=\"center\">   0      </td> <td align=\"center\">   2      </td> <td align=\"center\">   5/2    </td> <td align=\"center\">   5/2      </td> </tr>\n",
    "</tbody>\n",
    "</table>\n",
    "\n",
    "\n",
    "\n",
    "\n",
    "## Building a many-body basis\n",
    "There are $\\left ( \\begin{array}{c} 6 \\\\ 2 \\end{array} \\right) = 15$ two-particle states, \n",
    "which we list with the total $M$:\n",
    "\n",
    "<table border=\"1\">\n",
    "<thead>\n",
    "<tr><th align=\"center\">Occupied</th> <th align=\"center\">$M$</th> <th align=\"center\">Occupied</th> <th align=\"center\">$M$</th> <th align=\"center\">Occupied</th> <th align=\"center\">$M$</th> </tr>\n",
    "</thead>\n",
    "<tbody>\n",
    "<tr><td align=\"center\">   1,2         </td> <td align=\"center\">   -4     </td> <td align=\"center\">   2,3         </td> <td align=\"center\">   -2     </td> <td align=\"center\">   3,5         </td> <td align=\"center\">   1      </td> </tr>\n",
    "<tr><td align=\"center\">   1,3         </td> <td align=\"center\">   -3     </td> <td align=\"center\">   2,4         </td> <td align=\"center\">   -1     </td> <td align=\"center\">   3,6         </td> <td align=\"center\">   2      </td> </tr>\n",
    "<tr><td align=\"center\">   1,4         </td> <td align=\"center\">   -2     </td> <td align=\"center\">   2,5         </td> <td align=\"center\">   0      </td> <td align=\"center\">   4,5         </td> <td align=\"center\">   2      </td> </tr>\n",
    "<tr><td align=\"center\">   1,5         </td> <td align=\"center\">   -1     </td> <td align=\"center\">   2,6         </td> <td align=\"center\">   1      </td> <td align=\"center\">   4,6         </td> <td align=\"center\">   3      </td> </tr>\n",
    "<tr><td align=\"center\">   1,6         </td> <td align=\"center\">   0      </td> <td align=\"center\">   3,4         </td> <td align=\"center\">   0      </td> <td align=\"center\">   5,6         </td> <td align=\"center\">   4      </td> </tr>\n",
    "</tbody>\n",
    "</table>\n",
    "There are 3 states with $M= 0$, 2 with $M = 1$, and so on.\n",
    "\n",
    "\n",
    "\n",
    "\n",
    "\n",
    "\n",
    "\n",
    "\n",
    "\n",
    "\n",
    "\n",
    "\n",
    "\n",
    "## Shell-model project\n",
    "\n",
    "The first step  is to construct the $M$-scheme basis of Slater determinants.\n",
    "Here $M$-scheme means the total $J_z$ of the many-body states is fixed.\n",
    "\n",
    "The steps could be:\n",
    "\n",
    "* Read in a user-supplied file of single-particle states (examples can be given) or just code these internally;\n",
    "\n",
    "* Ask for the total $M$ of the system and the number of particles $N$;\n",
    "\n",
    "* Construct all the $N$-particle states with given $M$.  You will validate the code by  comparing both the number of states and specific states.\n",
    "\n",
    "\n",
    "\n",
    "\n",
    "## Shell-model project\n",
    "The format of a possible input  file could be\n",
    "<table border=\"1\">\n",
    "<thead>\n",
    "<tr><th align=\"center\">Index</th> <th align=\"center\">$n$</th> <th align=\"center\">$l$</th> <th align=\"center\">$2j$</th> <th align=\"center\">$2m_j$</th> </tr>\n",
    "</thead>\n",
    "<tbody>\n",
    "<tr><td align=\"center\">   1        </td> <td align=\"center\">   1      </td> <td align=\"center\">   0      </td> <td align=\"center\">   1       </td> <td align=\"center\">   -1        </td> </tr>\n",
    "<tr><td align=\"center\">   2        </td> <td align=\"center\">   1      </td> <td align=\"center\">   0      </td> <td align=\"center\">   1       </td> <td align=\"center\">   1         </td> </tr>\n",
    "<tr><td align=\"center\">   3        </td> <td align=\"center\">   0      </td> <td align=\"center\">   2      </td> <td align=\"center\">   3       </td> <td align=\"center\">   -3        </td> </tr>\n",
    "<tr><td align=\"center\">   4        </td> <td align=\"center\">   0      </td> <td align=\"center\">   2      </td> <td align=\"center\">   3       </td> <td align=\"center\">   -1        </td> </tr>\n",
    "<tr><td align=\"center\">   5        </td> <td align=\"center\">   0      </td> <td align=\"center\">   2      </td> <td align=\"center\">   3       </td> <td align=\"center\">   1         </td> </tr>\n",
    "<tr><td align=\"center\">   6        </td> <td align=\"center\">   0      </td> <td align=\"center\">   2      </td> <td align=\"center\">   3       </td> <td align=\"center\">   3         </td> </tr>\n",
    "<tr><td align=\"center\">   7        </td> <td align=\"center\">   0      </td> <td align=\"center\">   2      </td> <td align=\"center\">   5       </td> <td align=\"center\">   -5        </td> </tr>\n",
    "<tr><td align=\"center\">   8        </td> <td align=\"center\">   0      </td> <td align=\"center\">   2      </td> <td align=\"center\">   5       </td> <td align=\"center\">   -3        </td> </tr>\n",
    "<tr><td align=\"center\">   9        </td> <td align=\"center\">   0      </td> <td align=\"center\">   2      </td> <td align=\"center\">   5       </td> <td align=\"center\">   -1        </td> </tr>\n",
    "<tr><td align=\"center\">   10       </td> <td align=\"center\">   0      </td> <td align=\"center\">   2      </td> <td align=\"center\">   5       </td> <td align=\"center\">   1         </td> </tr>\n",
    "<tr><td align=\"center\">   11       </td> <td align=\"center\">   0      </td> <td align=\"center\">   2      </td> <td align=\"center\">   5       </td> <td align=\"center\">   3         </td> </tr>\n",
    "<tr><td align=\"center\">   12       </td> <td align=\"center\">   0      </td> <td align=\"center\">   2      </td> <td align=\"center\">   5       </td> <td align=\"center\">   5         </td> </tr>\n",
    "</tbody>\n",
    "</table>\n",
    "This represents the $1s_{1/2}0d_{3/2}0d_{5/2}$ valence space, or just the $sd$-space.  There are \n",
    "twelve single-particle states, labeled by an overall index, and which have associated quantum \n",
    "numbers the number of radial nodes, the orbital angular momentum $l$, and the \n",
    "angular momentum $j$ and third component $j_z$.  To keep everything as integers, we could store $2 \\times j$ and \n",
    "$2 \\times j_z$.\n",
    "\n",
    "\n",
    "\n",
    "\n",
    "## Shell-model project\n",
    "To read in the single-particle states you need to:\n",
    "* Open the file \n",
    "\n",
    " * Read the number of single-particle states (in the above example, 12);  allocate memory; all you need is a single array storing $2\\times j_z$ for each state, labeled by the index.\n",
    "\n",
    "\n",
    "* Read in the quantum numbers and store $2 \\times j_z$ (and anything else you happen to want).\n",
    "\n",
    "\n",
    "\n",
    "\n",
    "## Shell-model project\n",
    "\n",
    "The next step is to read in the number of particles $N$ and the fixed total $M$ (or, actually, $2 \\times M$). \n",
    "For this project we assume only a single species of particles, say neutrons, although this can be \n",
    "relaxed. **Note**: Although it is often a good idea to try to write a more general code, given the \n",
    "short time alloted we would suggest you keep your ambition in check, at least in the initial phases of the \n",
    "project.  \n",
    "\n",
    "\n",
    "You should probably write an error trap to make sure $N$ and $M$ are congruent; if $N$ is even, then \n",
    "$2 \\times M$ should be even, and if $N$ is odd then $2\\times M$ should be odd.\n",
    "\n",
    "\n",
    "\n",
    "\n",
    "## Shell-model project\n",
    "The final step is to generate the set of $N$-particle Slater determinants with fixed $M$. \n",
    "The Slater determinants will be stored in occupation representation.  Although in many codes\n",
    "this representation is done compactly in bit notation with ones and zeros, but for \n",
    "greater transparency and simplicity we will list the occupied single particle states.\n",
    "\n",
    " Hence we can \n",
    "store the Slater determinant basis states as $sd(i,j)$, that is an \n",
    "array of dimension $N_{SD}$, the number of Slater determinants, by $N$, the number of occupied \n",
    "state. So if for the 7th Slater determinant the 2nd, 3rd, and 9th single-particle states are occupied, \n",
    "then $sd(7,1) = 2$, $sd(7,2) = 3$, and $sd(7,3) = 9$.\n",
    "\n",
    "\n",
    "\n",
    "\n",
    "## Shell-model project\n",
    "\n",
    "We can construct an occupation representation of Slater determinants by the *odometer*\n",
    "method.  Consider $N_{sp} = 12$ and $N=4$. \n",
    "Start with the first 4 states occupied, that is:\n",
    "\n",
    "* $sd(1,:)= 1,2,3,4$ (also written as $|1,2,3,4 \\rangle$)\n",
    "\n",
    "Now increase the last occupancy recursively:\n",
    "* $sd(2,:)= 1,2,3,5$\n",
    "\n",
    "* $sd(3,:)= 1,2,3,6$\n",
    "\n",
    "* $sd(4,:)= 1,2,3,7$\n",
    "\n",
    "* $\\ldots$\n",
    "\n",
    "* $sd(9,:)= 1,2,3,12$\n",
    "\n",
    "Then start over with \n",
    "* $sd(10,:)= 1,2,4,5$\n",
    "\n",
    "and again increase the rightmost digit\n",
    "\n",
    "* $sd(11,:)= 1,2,4,6$\n",
    "\n",
    "* $sd(12,:)= 1,2,4,7$\n",
    "\n",
    "* $\\ldots$\n",
    "\n",
    "* $sd(17,:)= 1,2,4,12$\n",
    "\n",
    "\n",
    "\n",
    "\n",
    "## Shell-model project\n",
    "When we restrict ourselves to an $M$-scheme basis, we could choose two paths. \n",
    "The first is simplest (and simplest is often best, at \n",
    "least in the first draft of a code): generate all possible Slater determinants, \n",
    "and then extract from this initial list a list of those Slater determinants with a given \n",
    "$M$. (You will need to write a short function or routine that computes $M$ for any \n",
    "given occupation.)  \n",
    "\n",
    "\n",
    "Alternately, and not too difficult, is to run the odometer routine twice: each time, as \n",
    "as a Slater determinant is calculated, compute $M$, but do not store the Slater determinants \n",
    "except the current one. You can then count up the number of Slater determinants with a \n",
    "chosen $M$.  Then allocated storage for the Slater determinants, and run the odometer \n",
    "algorithm again, this time storing Slater determinants with the desired $M$ (this can be \n",
    "done with a simple logical flag).\n",
    "\n",
    "\n",
    "\n",
    "\n",
    "\n",
    "## Shell-model project\n",
    "\n",
    "*Some example solutions*:  Let's begin with a simple case, the $0d_{5/2}$ space containing six single-particle states\n",
    "\n",
    "<table border=\"1\">\n",
    "<thead>\n",
    "<tr><th align=\"center\">Index</th> <th align=\"center\">$n$</th> <th align=\"center\">$l$</th> <th align=\"center\">$j$</th> <th align=\"center\">$m_j$</th> </tr>\n",
    "</thead>\n",
    "<tbody>\n",
    "<tr><td align=\"center\">   1        </td> <td align=\"center\">   0      </td> <td align=\"center\">   2      </td> <td align=\"center\">   5/2    </td> <td align=\"center\">   -5/2     </td> </tr>\n",
    "<tr><td align=\"center\">   2        </td> <td align=\"center\">   0      </td> <td align=\"center\">   2      </td> <td align=\"center\">   5/2    </td> <td align=\"center\">   -3/2     </td> </tr>\n",
    "<tr><td align=\"center\">   3        </td> <td align=\"center\">   0      </td> <td align=\"center\">   2      </td> <td align=\"center\">   5/2    </td> <td align=\"center\">   -1/2     </td> </tr>\n",
    "<tr><td align=\"center\">   4        </td> <td align=\"center\">   0      </td> <td align=\"center\">   2      </td> <td align=\"center\">   5/2    </td> <td align=\"center\">   1/2      </td> </tr>\n",
    "<tr><td align=\"center\">   5        </td> <td align=\"center\">   0      </td> <td align=\"center\">   2      </td> <td align=\"center\">   5/2    </td> <td align=\"center\">   3/2      </td> </tr>\n",
    "<tr><td align=\"center\">   6        </td> <td align=\"center\">   0      </td> <td align=\"center\">   2      </td> <td align=\"center\">   5/2    </td> <td align=\"center\">   5/2      </td> </tr>\n",
    "</tbody>\n",
    "</table>\n",
    "For two particles, there are a total of 15 states, which we list here with the total $M$:\n",
    "* $\\vert 1,2 \\rangle$, $M= -4$,  $\\vert 1,3 \\rangle$, $M= -3$\n",
    "\n",
    "* $\\vert  1,4 \\rangle$, $M= -2$, $\\vert 1,5 \\rangle$, $M= -1$\n",
    "\n",
    "* $\\vert 1,5 \\rangle$, $M= 0$, $vert 2,3 \\rangle$, $M= -2$\n",
    "\n",
    "* $\\vert 2,4 \\rangle$, $M= -1$, $\\vert 2,5 \\rangle$, $M= 0$\n",
    "\n",
    "* $\\vert 2,6 \\rangle$, $M= 1$, $\\vert 3,4 \\rangle$, $M= 0$\n",
    "\n",
    "* $\\vert 3,5 \\rangle$, $M= 1$, $\\vert 3,6 \\rangle$, $M= 2$\n",
    "\n",
    "* $\\vert 4,5 \\rangle$, $M= 2$, $\\vert 4,6 \\rangle$, $M= 3$\n",
    "\n",
    "* $\\vert 5,6 \\rangle$, $M= 4$\n",
    "\n",
    "Of these, there are only 3 states with $M=0$.\n",
    "\n",
    "\n",
    "\n",
    "\n",
    "## Shell-model project\n",
    "*You should try* by hand to show that in this same single-particle space, that for \n",
    "$N=3$ there are 3 states with $M=1/2$ and for $N= 4$ there are also only 3 states with $M=0$. \n",
    "\n",
    "*To test your code*, confirm the above. \n",
    "\n",
    "Also, \n",
    "for the $sd$-space given above, for $N=2$ there are 14 states with $M=0$, for $N=3$ there are 37 \n",
    "states with $M=1/2$, for $N=4$ there are 81 states with $M=0$.\n",
    "\n",
    "\n",
    "\n",
    "\n",
    "## Shell-model project\n",
    "For our project, we will only consider the pairing model.\n",
    "A simple space is the $(1/2)^2$ space with four single-particle states\n",
    "\n",
    "<table border=\"1\">\n",
    "<thead>\n",
    "<tr><th align=\"center\">Index</th> <th align=\"center\">$n$</th> <th align=\"center\">$l$</th> <th align=\"center\">$s$</th> <th align=\"center\">$m_s$</th> </tr>\n",
    "</thead>\n",
    "<tbody>\n",
    "<tr><td align=\"center\">   1        </td> <td align=\"center\">   0      </td> <td align=\"center\">   0      </td> <td align=\"center\">   1/2    </td> <td align=\"center\">   -1/2     </td> </tr>\n",
    "<tr><td align=\"center\">   2        </td> <td align=\"center\">   0      </td> <td align=\"center\">   0      </td> <td align=\"center\">   1/2    </td> <td align=\"center\">   1/2      </td> </tr>\n",
    "<tr><td align=\"center\">   3        </td> <td align=\"center\">   1      </td> <td align=\"center\">   0      </td> <td align=\"center\">   1/2    </td> <td align=\"center\">   -1/2     </td> </tr>\n",
    "<tr><td align=\"center\">   4        </td> <td align=\"center\">   1      </td> <td align=\"center\">   0      </td> <td align=\"center\">   1/2    </td> <td align=\"center\">   1/2      </td> </tr>\n",
    "</tbody>\n",
    "</table>\n",
    "For $N=2$ there are 4 states with $M=0$; show this by hand and confirm your code reproduces it.\n",
    "\n",
    "\n",
    "\n",
    "\n",
    "## Shell-model project\n",
    "Another, slightly more challenging space is the $(1/2)^4$ space, that is, \n",
    "with eight  single-particle states we have\n",
    "\n",
    "<table border=\"1\">\n",
    "<thead>\n",
    "<tr><th align=\"center\">Index</th> <th align=\"center\">$n$</th> <th align=\"center\">$l$</th> <th align=\"center\">$s$</th> <th align=\"center\">$m_s$</th> </tr>\n",
    "</thead>\n",
    "<tbody>\n",
    "<tr><td align=\"center\">   1        </td> <td align=\"center\">   0      </td> <td align=\"center\">   0      </td> <td align=\"center\">   1/2    </td> <td align=\"center\">   -1/2     </td> </tr>\n",
    "<tr><td align=\"center\">   2        </td> <td align=\"center\">   0      </td> <td align=\"center\">   0      </td> <td align=\"center\">   1/2    </td> <td align=\"center\">   1/2      </td> </tr>\n",
    "<tr><td align=\"center\">   3        </td> <td align=\"center\">   1      </td> <td align=\"center\">   0      </td> <td align=\"center\">   1/2    </td> <td align=\"center\">   -1/2     </td> </tr>\n",
    "<tr><td align=\"center\">   4        </td> <td align=\"center\">   1      </td> <td align=\"center\">   0      </td> <td align=\"center\">   1/2    </td> <td align=\"center\">   1/2      </td> </tr>\n",
    "<tr><td align=\"center\">   5        </td> <td align=\"center\">   2      </td> <td align=\"center\">   0      </td> <td align=\"center\">   1/2    </td> <td align=\"center\">   -1/2     </td> </tr>\n",
    "<tr><td align=\"center\">   6        </td> <td align=\"center\">   2      </td> <td align=\"center\">   0      </td> <td align=\"center\">   1/2    </td> <td align=\"center\">   1/2      </td> </tr>\n",
    "<tr><td align=\"center\">   7        </td> <td align=\"center\">   3      </td> <td align=\"center\">   0      </td> <td align=\"center\">   1/2    </td> <td align=\"center\">   -1/2     </td> </tr>\n",
    "<tr><td align=\"center\">   8        </td> <td align=\"center\">   3      </td> <td align=\"center\">   0      </td> <td align=\"center\">   1/2    </td> <td align=\"center\">   1/2      </td> </tr>\n",
    "</tbody>\n",
    "</table>\n",
    "For $N=2$ there are 16 states with $M=0$; for $N=3$ there are 24 states with $M=1/2$, and for \n",
    "$N=4$ there are 36 states with $M=0$.\n",
    "\n",
    "\n",
    "\n",
    "\n",
    "## Shell-model project\n",
    "In the shell-model context we can interpret this as 4 $s_{1/2}$ levels, with $m = \\pm 1/2$, we can also think of these are simple four pairs,  $\\pm k, k = 1,2,3,4$. Later on we will \n",
    "assign single-particle energies,  depending on the radial quantum number $n$, that is, \n",
    "$\\epsilon_k = |k| \\delta$ so that they are equally spaced.\n",
    "\n",
    "\n",
    "\n",
    "\n",
    "## Shell-model project\n",
    "\n",
    "For application in the pairing model we can go further and consider only states with \n",
    "no \"broken pairs,\" that is, if $+k$ is filled (or $m = +1/2$, so is $-k$ ($m=-1/2$). \n",
    "If you want, you can write your code to accept only these, and obtain the following \n",
    "six states:\n",
    "\n",
    "* $|           1,           2 ,          3         ,       4  \\rangle , $\n",
    "\n",
    "* $|            1      ,     2        ,        5         ,       6 \\rangle , $\n",
    "\n",
    "* $|            1         ,       2     ,           7         ,       8  \\rangle , $\n",
    "\n",
    "* $|            3        ,        4      ,          5          ,      6  \\rangle , $\n",
    "\n",
    "* $|            3        ,        4      ,          7         ,       8  \\rangle , $\n",
    "\n",
    "* $|            5        ,        6     ,           7     ,           8  \\rangle $\n",
    "\n",
    "\n",
    "\n",
    "\n",
    "\n",
    "\n",
    "## Shell-model project\n",
    "**Hints for coding.**\n",
    "\n",
    "\n",
    "\n",
    "* Write small modules (routines/functions) ; avoid big functions  that do everything. (But not too small.)\n",
    "\n",
    "* Use Unit tests! Write lots of error traps, even for things that are `obvious.'\n",
    "\n",
    "* Document as you go along. The Unit tests serve as documentation. For each function write a header that includes: \n",
    "\n",
    "a. Main purpose of function and/or unit test\n",
    "\n",
    "b. names and  brief explanation of input variables, if any \n",
    "\n",
    "c. names and brief explanation of output variables, if any\n",
    "\n",
    "d. functions called by this function\n",
    "\n",
    "e. called by which functions\n",
    "\n",
    "\n",
    "\n",
    "\n",
    "## Shell-model project\n",
    "\n",
    "Hints for coding\n",
    "\n",
    "* Unit tests will save time. Use also IDEs for debugging. If you insist on brute force debugging, print out intermediate values. It's almost impossible to debug a  code by looking at it - the code will almost always win a `staring contest.'\n",
    "\n",
    "* Validate code with SIMPLE CASES. Validate early and often.  Unit tests!! \n",
    "\n",
    "The number one mistake is using a too complex a system to test. For example ,\n",
    "if you are computing particles in a potential in a box, try removing the potential - you should get \n",
    "particles in a box. And start with one particle, then two, then three... Don't start with \n",
    "eight particles.\n",
    "\n",
    "\n",
    "\n",
    "\n",
    "## Shell-model project\n",
    "\n",
    "Our recommended occupation representation, e.g. $| 1,2,4,8 \\rangle$, is \n",
    "easy to code, but numerically inefficient when one has hundreds of \n",
    "millions of Slater determinants.\n",
    "\n",
    "\n",
    "In state-of-the-art shell-model codes, one generally uses bit \n",
    "representation, i.e. $|1101000100... \\rangle$ where one stores \n",
    "the Slater determinant as a single (or a small number of) integer.\n",
    "\n",
    "\n",
    "This is much more compact, but more intricate to code with considerable \n",
    "more overhead. There exist \n",
    "bit-manipulation functions. We will discuss these in more detail at the beginning of the third week.\n",
    "\n",
    "\n",
    "\n",
    "\n",
    "## Example case: pairing Hamiltonian\n",
    "\n",
    "We consider a space with $2\\Omega$ single-particle states, with each \n",
    "state labeled by \n",
    "$k = 1, 2, 3, \\Omega$ and $m = \\pm 1/2$. The convention is that \n",
    "the state with $k>0$ has $m = + 1/2$ while $-k$ has $m = -1/2$.\n",
    "\n",
    "\n",
    "The Hamiltonian we consider is"
   ]
  },
  {
   "cell_type": "markdown",
   "metadata": {},
   "source": [
    "$$\n",
    "\\hat{H} = -G \\hat{P}_+ \\hat{P}_-,\n",
    "$$"
   ]
  },
  {
   "cell_type": "markdown",
   "metadata": {},
   "source": [
    "where"
   ]
  },
  {
   "cell_type": "markdown",
   "metadata": {},
   "source": [
    "$$\n",
    "\\hat{P}_+ = \\sum_{k > 0} \\hat{a}^\\dagger_k \\hat{a}^\\dagger_{-{k}}.\n",
    "$$"
   ]
  },
  {
   "cell_type": "markdown",
   "metadata": {},
   "source": [
    "and $\\hat{P}_- = ( \\hat{P}_+)^\\dagger$.\n",
    "\n",
    "This problem can be solved using what is called the quasi-spin formalism to obtain the \n",
    "exact results. Thereafter we will try again using the explicit Slater determinant formalism.\n",
    "\n",
    "\n",
    "\n",
    "\n",
    "\n",
    "\n",
    "## Example case: pairing Hamiltonian\n",
    "\n",
    "One can show (and this is part of the project) that"
   ]
  },
  {
   "cell_type": "markdown",
   "metadata": {},
   "source": [
    "$$\n",
    "\\left [ \\hat{P}_+, \\hat{P}_- \\right ] = \\sum_{k> 0} \\left( \\hat{a}^\\dagger_k \\hat{a}_k \n",
    "+ \\hat{a}^\\dagger_{-{k}} \\hat{a}_{-{k}} - 1 \\right) = \\hat{N} - \\Omega.\n",
    "$$"
   ]
  },
  {
   "cell_type": "markdown",
   "metadata": {},
   "source": [
    "Now define"
   ]
  },
  {
   "cell_type": "markdown",
   "metadata": {},
   "source": [
    "$$\n",
    "\\hat{P}_z = \\frac{1}{2} ( \\hat{N} -\\Omega).\n",
    "$$"
   ]
  },
  {
   "cell_type": "markdown",
   "metadata": {},
   "source": [
    "Finally you can show"
   ]
  },
  {
   "cell_type": "markdown",
   "metadata": {},
   "source": [
    "$$\n",
    "\\left [ \\hat{P}_z , \\hat{P}_\\pm \\right ] = \\pm \\hat{P}_\\pm.\n",
    "$$"
   ]
  },
  {
   "cell_type": "markdown",
   "metadata": {},
   "source": [
    "This means the operators $\\hat{P}_\\pm, \\hat{P}_z$ form a so-called  $SU(2)$ algebra, and we can \n",
    "use all our insights about angular momentum, even though there is no actual \n",
    "angular momentum involved.\n",
    "\n",
    "So we rewrite the Hamiltonian to make this explicit:"
   ]
  },
  {
   "cell_type": "markdown",
   "metadata": {},
   "source": [
    "$$\n",
    "\\hat{H} = -G \\hat{P}_+ \\hat{P}_- \n",
    "= -G \\left( \\hat{P}^2 - \\hat{P}_z^2 + \\hat{P}_z\\right)\n",
    "$$"
   ]
  },
  {
   "cell_type": "markdown",
   "metadata": {},
   "source": [
    "## Example case: pairing Hamiltonian\n",
    "\n",
    "Because of the SU(2) algebra, we know that the eigenvalues of \n",
    "$\\hat{P}^2$ must be of the form $p(p+1)$, with $p$ either integer or half-integer, and the eigenvalues of $\\hat{P}_z$ \n",
    "are $m_p$ with $p \\geq | m_p|$, with $m_p$ also integer or half-integer. \n",
    "\n",
    "\n",
    "But because $\\hat{P}_z = (1/2)(\\hat{N}-\\Omega)$, we know that for $N$ particles \n",
    "the value $m_p = (N-\\Omega)/2$. Furthermore, the values of $m_p$ range from \n",
    "$-\\Omega/2$ (for $N=0$) to $+\\Omega/2$ (for $N=2\\Omega$, with all states filled). \n",
    "\n",
    "We deduce the maximal $p = \\Omega/2$ and for a given $n$ the \n",
    "values range of $p$ range from $|N-\\Omega|/2$ to $\\Omega/2$ in steps of 1 \n",
    "(for an even number of particles) \n",
    "\n",
    "\n",
    "Following Racah we introduce the notation\n",
    "$p = (\\Omega - v)/2$\n",
    "where $v = 0, 2, 4,..., \\Omega - |N-\\Omega|$ \n",
    "With this it is easy to deduce that the eigenvalues of the pairing Hamiltonian are"
   ]
  },
  {
   "cell_type": "markdown",
   "metadata": {},
   "source": [
    "$$\n",
    "-G(N-v)(2\\Omega +2-N-v)/4\n",
    "$$"
   ]
  },
  {
   "cell_type": "markdown",
   "metadata": {},
   "source": [
    "This also works for $N$ odd, with $v= 1,3,5, \\dots$.\n",
    "\n",
    "\n",
    "\n",
    "\n",
    "\n",
    "## Example case: pairing Hamiltonian\n",
    "\n",
    "Let's take a specific example: $\\Omega = 3$ so there are 6 single-particle states, \n",
    "and $N = 3$, with $v= 1,3$. Therefore there are two distinct eigenvalues,"
   ]
  },
  {
   "cell_type": "markdown",
   "metadata": {},
   "source": [
    "$$\n",
    "E = -2G, 0\n",
    "$$"
   ]
  },
  {
   "cell_type": "markdown",
   "metadata": {},
   "source": [
    "Now let's work this out explicitly. The single particle degrees of freedom are defined as\n",
    "\n",
    "<table border=\"1\">\n",
    "<thead>\n",
    "<tr><th align=\"center\">Index</th> <th align=\"center\">$k$</th> <th align=\"center\">$m$ </th> </tr>\n",
    "</thead>\n",
    "<tbody>\n",
    "<tr><td align=\"center\">   1        </td> <td align=\"center\">   1      </td> <td align=\"center\">   -1/2    </td> </tr>\n",
    "<tr><td align=\"center\">   2        </td> <td align=\"center\">   -1     </td> <td align=\"center\">   1/2     </td> </tr>\n",
    "<tr><td align=\"center\">   3        </td> <td align=\"center\">   2      </td> <td align=\"center\">   -1/2    </td> </tr>\n",
    "<tr><td align=\"center\">   4        </td> <td align=\"center\">   -2     </td> <td align=\"center\">   1/2     </td> </tr>\n",
    "<tr><td align=\"center\">   5        </td> <td align=\"center\">   3      </td> <td align=\"center\">   -1/2    </td> </tr>\n",
    "<tr><td align=\"center\">   6        </td> <td align=\"center\">   -3     </td> <td align=\"center\">   1/2     </td> </tr>\n",
    "</tbody>\n",
    "</table>\n",
    " There are  $\\left( \\begin{array}{c}6 \\\\ 3 \\end{array} \\right) = 20$ three-particle states, but there \n",
    "are 9 states with $M = +1/2$, namely\n",
    "$| 1,2,3 \\rangle, |1,2,5\\rangle, | 1,4,6 \\rangle, | 2,3,4 \\rangle, |2,3,6 \\rangle, | 2,4,5 \\rangle, | 2, 5, 6 \\rangle, |3,4,6 \\rangle, | 4,5,6 \\rangle$.\n",
    "\n",
    "\n",
    "\n",
    "\n",
    "\n",
    "\n",
    "\n",
    "\n",
    "## Example case: pairing Hamiltonian\n",
    "\n",
    "In this basis, the operator"
   ]
  },
  {
   "cell_type": "markdown",
   "metadata": {},
   "source": [
    "$$\n",
    "\\hat{P}_+\n",
    "= \\hat{a}^\\dagger_1 \\hat{a}^\\dagger_2 + \\hat{a}^\\dagger_3 \\hat{a}^\\dagger_4 +\n",
    "\\hat{a}^\\dagger_5 \\hat{a}^\\dagger_6\n",
    "$$"
   ]
  },
  {
   "cell_type": "markdown",
   "metadata": {},
   "source": [
    "From this we can determine that"
   ]
  },
  {
   "cell_type": "markdown",
   "metadata": {},
   "source": [
    "$$\n",
    "\\hat{P}_- | 1, 4, 6 \\rangle = \\hat{P}_- | 2, 3, 6 \\rangle\n",
    "= \\hat{P}_- | 2, 4, 5 \\rangle = 0\n",
    "$$"
   ]
  },
  {
   "cell_type": "markdown",
   "metadata": {},
   "source": [
    "so those states all have eigenvalue 0.\n",
    "\n",
    "\n",
    "\n",
    "\n",
    "\n",
    "## Example case: pairing Hamiltonian\n",
    "Now for further example,"
   ]
  },
  {
   "cell_type": "markdown",
   "metadata": {},
   "source": [
    "$$\n",
    "\\hat{P}_- | 1,2,3 \\rangle = | 3 \\rangle\n",
    "$$"
   ]
  },
  {
   "cell_type": "markdown",
   "metadata": {},
   "source": [
    "so"
   ]
  },
  {
   "cell_type": "markdown",
   "metadata": {},
   "source": [
    "$$\n",
    "\\hat{P}_+ \\hat{P}_- | 1,2,3\\rangle = | 1,2,3\\rangle+ | 3,4,3\\rangle + | 5,6,3\\rangle\n",
    "$$"
   ]
  },
  {
   "cell_type": "markdown",
   "metadata": {},
   "source": [
    "The second term vanishes because state 3 is occupied twice, and reordering the last \n",
    "term we\n",
    "get"
   ]
  },
  {
   "cell_type": "markdown",
   "metadata": {},
   "source": [
    "$$\n",
    "\\hat{P}_+ \\hat{P}_- | 1,2,3\\rangle = | 1,2,3\\rangle+ |3, 5,6\\rangle\n",
    "$$"
   ]
  },
  {
   "cell_type": "markdown",
   "metadata": {},
   "source": [
    "without picking up a phase.\n",
    "\n",
    "\n",
    "\n",
    "\n",
    "## Example case: pairing Hamiltonian\n",
    "\n",
    "Continuing in this fashion, with the previous ordering of the many-body states\n",
    "(  $| 1,2,3 \\rangle, |1,2,5\\rangle, | 1,4,6 \\rangle, | 2,3,4 \\rangle, |2,3,6 \\rangle, | 2,4,5 \\rangle, | 2, 5, 6 \\rangle, |3,4,6 \\rangle, | 4,5,6 \\rangle$) the \n",
    "Hamiltonian matrix of this system is"
   ]
  },
  {
   "cell_type": "markdown",
   "metadata": {},
   "source": [
    "$$\n",
    "H = -G\\left( \n",
    "\\begin{array}{ccccccccc}\n",
    "1 & 0 & 0 & 0 & 0 & 0 & 0 & 0 & 1  \\\\\n",
    "0 & 1 & 0 & 0 & 0 & 0 & 0 & 1 & 0  \\\\\n",
    "0 & 0 & 0 & 0 & 0 & 0 & 0 & 0 & 0  \\\\\n",
    "0 & 0 & 0 & 1 & 0 & 0 & 1 & 0 & 0  \\\\\n",
    "0 & 0 & 0 & 0 & 0 & 0 & 0 & 0 & 0  \\\\\n",
    "0 & 0 & 0 & 0 & 0 & 0 & 0 & 0 & 0  \\\\\n",
    "0 & 0 & 0 & 1 & 0 & 0 & 1 & 0 & 0  \\\\\n",
    "0 & 0 & 0 & 0 & 0 & 0 & 0 & 0 & 0  \\\\\n",
    "0 & 1 & 0 & 0 & 0 & 0 & 0 & 1 & 0  \\\\\n",
    "1 & 0 & 0 & 0 & 0 & 0 & 0 & 0 & 1  \n",
    "\\end{array} \\right )\n",
    "$$"
   ]
  },
  {
   "cell_type": "markdown",
   "metadata": {},
   "source": [
    "This is useful for our project.  One can by hand confirm \n",
    "that there are 3 eigenvalues $-2G$ and 6 with value zero.\n",
    "\n",
    "\n",
    "\n",
    "\n",
    "## Example case: pairing Hamiltonian\n",
    "\n",
    "Another example\n",
    "Using the $(1/2)^4$ single-particle space, resulting in eight single-particle states\n",
    "\n",
    "<table border=\"1\">\n",
    "<thead>\n",
    "<tr><th align=\"center\">Index</th> <th align=\"center\">$n$</th> <th align=\"center\">$l$</th> <th align=\"center\">$s$</th> <th align=\"center\">$m_s$</th> </tr>\n",
    "</thead>\n",
    "<tbody>\n",
    "<tr><td align=\"center\">   1        </td> <td align=\"center\">   0      </td> <td align=\"center\">   0      </td> <td align=\"center\">   1/2    </td> <td align=\"center\">   -1/2     </td> </tr>\n",
    "<tr><td align=\"center\">   2        </td> <td align=\"center\">   0      </td> <td align=\"center\">   0      </td> <td align=\"center\">   1/2    </td> <td align=\"center\">   1/2      </td> </tr>\n",
    "<tr><td align=\"center\">   3        </td> <td align=\"center\">   1      </td> <td align=\"center\">   0      </td> <td align=\"center\">   1/2    </td> <td align=\"center\">   -1/2     </td> </tr>\n",
    "<tr><td align=\"center\">   4        </td> <td align=\"center\">   1      </td> <td align=\"center\">   0      </td> <td align=\"center\">   1/2    </td> <td align=\"center\">   1/2      </td> </tr>\n",
    "<tr><td align=\"center\">   5        </td> <td align=\"center\">   2      </td> <td align=\"center\">   0      </td> <td align=\"center\">   1/2    </td> <td align=\"center\">   -1/2     </td> </tr>\n",
    "<tr><td align=\"center\">   6        </td> <td align=\"center\">   2      </td> <td align=\"center\">   0      </td> <td align=\"center\">   1/2    </td> <td align=\"center\">   1/2      </td> </tr>\n",
    "<tr><td align=\"center\">   7        </td> <td align=\"center\">   3      </td> <td align=\"center\">   0      </td> <td align=\"center\">   1/2    </td> <td align=\"center\">   -1/2     </td> </tr>\n",
    "<tr><td align=\"center\">   8        </td> <td align=\"center\">   3      </td> <td align=\"center\">   0      </td> <td align=\"center\">   1/2    </td> <td align=\"center\">   1/2      </td> </tr>\n",
    "</tbody>\n",
    "</table>\n",
    "and then taking only 4-particle, $M=0$ states that have no `broken pairs', there are six basis Slater \n",
    "determinants:\n",
    "\n",
    "* $|           1,           2 ,          3         ,       4  \\rangle , $\n",
    "\n",
    "* $|            1      ,     2        ,        5         ,       6 \\rangle , $\n",
    "\n",
    "* $|            1         ,       2     ,           7         ,       8  \\rangle , $\n",
    "\n",
    "* $|            3        ,        4      ,          5          ,      6  \\rangle , $\n",
    "\n",
    "* $|            3        ,        4      ,          7         ,       8  \\rangle , $\n",
    "\n",
    "* $|            5        ,        6     ,           7     ,           8  \\rangle $\n",
    "\n",
    "\n",
    "\n",
    "\n",
    "## Example case: pairing Hamiltonian\n",
    "\n",
    "Now we take the following Hamiltonian"
   ]
  },
  {
   "cell_type": "markdown",
   "metadata": {},
   "source": [
    "$$\n",
    "\\hat{H} = \\sum_n n \\delta \\hat{N}_n  - G \\hat{P}^\\dagger \\hat{P}\n",
    "$$"
   ]
  },
  {
   "cell_type": "markdown",
   "metadata": {},
   "source": [
    "where"
   ]
  },
  {
   "cell_type": "markdown",
   "metadata": {},
   "source": [
    "$$\n",
    "\\hat{N}_n = \\hat{a}^\\dagger_{n, m=+1/2} \\hat{a}_{n, m=+1/2} +\n",
    "\\hat{a}^\\dagger_{n, m=-1/2} \\hat{a}_{n, m=-1/2}\n",
    "$$"
   ]
  },
  {
   "cell_type": "markdown",
   "metadata": {},
   "source": [
    "and"
   ]
  },
  {
   "cell_type": "markdown",
   "metadata": {},
   "source": [
    "$$\n",
    "\\hat{P}^\\dagger = \\sum_{n} \\hat{a}^\\dagger_{n, m=+1/2} \\hat{a}^\\dagger_{n, m=-1/2}\n",
    "$$"
   ]
  },
  {
   "cell_type": "markdown",
   "metadata": {},
   "source": [
    "We can write down the $ 6 \\times 6$  Hamiltonian in the basis from the prior slide:"
   ]
  },
  {
   "cell_type": "markdown",
   "metadata": {},
   "source": [
    "$$\n",
    "H = \\left ( \n",
    "\\begin{array}{cccccc}\n",
    "2\\delta -2G & -G & -G & -G & -G & 0 \\\\\n",
    " -G & 4\\delta -2G & -G & -G & -0 & -G \\\\\n",
    "-G & -G & 6\\delta -2G & 0 & -G & -G \\\\\n",
    " -G & -G & 0 & 6\\delta-2G & -G & -G \\\\\n",
    " -G & 0 & -G & -G & 8\\delta-2G & -G \\\\\n",
    "0 & -G & -G & -G & -G & 10\\delta -2G \n",
    "\\end{array} \\right )\n",
    "$$"
   ]
  },
  {
   "cell_type": "markdown",
   "metadata": {},
   "source": [
    "(You should check by hand that this is correct.) \n",
    "\n",
    "For $\\delta = 0$ we have the closed form solution of  the g.s. energy given by $-6G$.\n",
    "\n",
    "\n",
    "\n",
    "\n",
    "\n",
    "## Building a Hamiltonian matrix\n",
    "The goal is to compute the matrix elements of the Hamiltonian, specifically\n",
    "matrix elements between many-body states (Slater determinants) of two-body\n",
    "operators"
   ]
  },
  {
   "cell_type": "markdown",
   "metadata": {},
   "source": [
    "$$\n",
    "\\sum_{p < q, r < s}V_{pqr} \\hat{a}^\\dagger_p \\hat{a}^\\dagger_q\\hat{a}_s \\hat{a}_r\n",
    "$$"
   ]
  },
  {
   "cell_type": "markdown",
   "metadata": {},
   "source": [
    "In particular we will need to compute"
   ]
  },
  {
   "cell_type": "markdown",
   "metadata": {},
   "source": [
    "$$\n",
    "\\langle \\beta | \\hat{a}^\\dagger_p \\hat{a}^\\dagger_q\\hat{a}_s \\hat{a}_r |\\alpha \\rangle\n",
    "$$"
   ]
  },
  {
   "cell_type": "markdown",
   "metadata": {},
   "source": [
    "where $\\alpha, \\beta$ are indices labeling Slater determinants and $p,q,r,s$ label\n",
    "single-particle states.\n",
    "\n",
    "\n",
    "\n",
    "\n",
    "\n",
    "## Building a Hamiltonian matrix\n",
    "Note: there are other, more efficient ways to do this than the method we describe, \n",
    "but you will\n",
    "be able to produce a working code quickly.\n",
    "\n",
    "As we coded in the first step,\n",
    "a Slater determinant $| \\alpha \\rangle$ with index $\\alpha$ is a\n",
    "list of $N$ occupied single-particle states $i_1 < i_2 < i_3 \\ldots i_N$.\n",
    "\n",
    "\n",
    "Furthermore, for the two-body matrix elements $V_{pqrs}$ we normally assume\n",
    "$p < q$ and $r < s$. For our specific project, the interaction is much simpler and you can use this to simplify considerably the setup of a shell-model code for project 2.\n",
    "\n",
    "What follows here is a more general, but still brute force, approach.\n",
    "\n",
    "\n",
    "\n",
    "\n",
    "\n",
    "## Building a Hamiltonian matrix\n",
    "Write a function that:\n",
    "1. Has as input the single-particle indices $p,q,r,s$ for the two-body operator and the index $\\alpha$ for the ket Slater determinant;\n",
    "\n",
    "2. Returns the index $\\beta$ of the unique (if any) Slater determinant such that"
   ]
  },
  {
   "cell_type": "markdown",
   "metadata": {},
   "source": [
    "$$\n",
    "| \\beta \\rangle = \\pm \\hat{a}^\\dagger_p \\hat{a}^\\dagger_q\\hat{a}_s \\hat{a}_r |\\alpha \\rangle\n",
    "$$"
   ]
  },
  {
   "cell_type": "markdown",
   "metadata": {},
   "source": [
    "as well as the phase\n",
    "\n",
    "This is equivalent to computing"
   ]
  },
  {
   "cell_type": "markdown",
   "metadata": {},
   "source": [
    "$$\n",
    "\\langle \\beta | \\hat{a}^\\dagger_p \\hat{a}^\\dagger_q\\hat{a}_s \\hat{a}_r |\\alpha \\rangle\n",
    "$$"
   ]
  },
  {
   "cell_type": "markdown",
   "metadata": {},
   "source": [
    "## Building a Hamiltonian matrix, first step\n",
    "The first step can take as input an initial Slater determinant\n",
    "(whose position in the list of basis Slater determinants is $\\alpha$) written as an\n",
    "ordered listed of occupied single-particle states, e.g. $1,2,5,8$, and the\n",
    "indices $p,q,r,s$ from the two-body operator. \n",
    "\n",
    "It will return another final Slater determinant if the single-particle states $r$ and $s$ are occupied, else it will return an \n",
    "empty Slater determinant\n",
    "(all zeroes). \n",
    "\n",
    "If $r$ and $s$ are in the list of occupied single particle states, then\n",
    "replace the initial single-particle states $ij$ as $i \\rightarrow r$ and $j \\rightarrow r$.\n",
    "\n",
    "\n",
    "\n",
    "\n",
    "\n",
    "## Building a Hamiltonian matrix, second step\n",
    "The second step will take the final Slater determinant \n",
    "from the first step (if not empty),\n",
    "and then order by pairwise permutations (i.e., if the Slater determinant is\n",
    "$i_1, i_2, i_3, \\ldots$, then if $i_n > i_{n+1}$, interchange \n",
    "$i_n \\leftrightarrow i_{n+1}$.\n",
    "\n",
    "\n",
    "\n",
    "\n",
    "\n",
    "\n",
    "## Building a Hamiltonian matrix\n",
    "\n",
    "It will also output a phase.  If any two single-particle occupancies are repeated, \n",
    "the phase is\n",
    "0.  Otherwise it is +1 for an even permutation and -1 for an odd permutation to \n",
    "bring the final\n",
    "Slater determinant into ascending order, $j_1 < j_2 < j_3 \\ldots$.\n",
    "\n",
    "\n",
    "\n",
    "\n",
    "\n",
    "## Building a Hamiltonian matrix\n",
    "**Example**: Suppose in the $sd$ single-particle space that the initial \n",
    "Slater determinant\n",
    "is $1,3,9,12$. If $p,q,r,s = 2,8,1,12$, then after the first step the final Slater determinant\n",
    "is $2,3,9,8$.  The second step will return $2,3,8,9$ and a phase of -1, \n",
    "because an odd number  of interchanges is required.\n",
    "\n",
    "\n",
    "\n",
    "\n",
    "\n",
    "## Building a Hamiltonian matrix\n",
    "\n",
    "**Example**: Suppose in the $sd$ single-particle space that the initial \n",
    "Slater determinant\n",
    "is $1,3,9,12$. If $p,q,r,s = 3,8,1,12$, then after the first step the \n",
    "final  Slater determinant\n",
    "is $3,3,9,8$, but after the second step the phase is 0 \n",
    "because the single-particle state 3 is\n",
    "occupied twice.\n",
    "\n",
    "Lastly, the final step  takes the ordered final Slater determinant and \n",
    "we search through the basis list to\n",
    "determine its index in the many-body basis, that is, $\\beta$.\n",
    "\n",
    "\n",
    "\n",
    "\n",
    "\n",
    "## Building a Hamiltonian matrix\n",
    "\n",
    "The Hamiltonian is then stored as an $N_{SD} \\times N_{SD}$ array of real numbers, which\n",
    "can be allocated once you have created the many-body basis and know $N_{SD}$.\n",
    "\n",
    "\n",
    "\n",
    "\n",
    "\n",
    "## Building a Hamiltonian matrix\n",
    "\n",
    "1. Initialize $H(\\alpha,\\beta)=0.0$\n",
    "\n",
    "2. Set up an outer loop over $\\beta$\n",
    "\n",
    "3. Loop over $\\alpha = 1, NSD$\n",
    "\n",
    "4. For each $\\alpha$, loop over $a=1,ntbme$  and fetch $V(a)$ and the single-particle indices $p,q,r,s$ \n",
    "\n",
    "5. If $V(a) = 0$ skip.  Otherwise, apply $\\hat{a}^\\dagger_p\\hat{a}^\\dagger_q \\hat{a}_s \\hat{a}_r$ to the Slater determinant labeled by $\\alpha$.\n",
    "\n",
    "6. Find, if any, the label $\\beta$ of the resulting Slater determinant and the phase (which is 0, +1, -1).\n",
    "\n",
    "7. If phase $\\neq 0$, then update $H(\\alpha,\\beta)$  as $H(\\alpha,\\beta) + phase*V(a)$. The sum is important because multiple operators might contribute to the same matrix element.\n",
    "\n",
    "8. Continue loop over $a$\n",
    "\n",
    "9. Continue loop over $\\alpha$.\n",
    "\n",
    "10. End the outer loop over $\\beta$.\n",
    "\n",
    "You should force the resulting matrix $H$ to be symmetric. To do this, when\n",
    "updating $H(\\alpha,\\beta)$, if $\\alpha \\neq \\beta$, also update $H(\\beta,\\alpha)$.\n",
    "\n",
    "\n",
    "\n",
    "\n",
    "\n",
    "## Building a Hamiltonian matrix\n",
    "\n",
    "You will also need to include the single-particle energies. This is easy: they only\n",
    "contribute to diagonal matrix elements, that is, $H(\\alpha,\\alpha)$.  \n",
    "Simply find the occupied single-particle states $i$ and add the corresponding $\\epsilon(i)$.\n",
    "\n",
    "\n",
    "\n",
    "\n",
    "\n",
    "## Hamiltonian matrix without the bit representation\n",
    "\n",
    "Consider the many-body state $\\Psi_{\\lambda}$ expressed as linear combinations of\n",
    "Slater determinants ($SD$) of orthonormal single-particle states $\\phi({\\bf r})$:"
   ]
  },
  {
   "cell_type": "markdown",
   "metadata": {},
   "source": [
    "<!-- Equation labels as ordinary links -->\n",
    "<div id=\"_auto1\"></div>\n",
    "\n",
    "$$\n",
    "\\begin{equation}\n",
    "\\Psi_{\\lambda} = \\sum_i C_{\\lambda i} SD_i\n",
    "\\label{_auto1} \\tag{2}\n",
    "\\end{equation}\n",
    "$$"
   ]
  },
  {
   "cell_type": "markdown",
   "metadata": {},
   "source": [
    "Using the Slater-Condon rules the matrix elements of any one-body\n",
    "($\\cal{O}_1$) or two-body ($\\cal{O}_2$) operator expressed in the\n",
    "determinant space have simple expressions involving one- and two-fermion\n",
    "integrals in our given single-particle basis.\n",
    "The diagonal elements are given by:"
   ]
  },
  {
   "cell_type": "markdown",
   "metadata": {},
   "source": [
    "$$\n",
    "\\begin{eqnarray}\n",
    "  \\langle SD | \\cal{O}_1 | SD \\rangle & = & \\sum_{i \\in SD} \\langle \\phi_i | \\cal{O}_1 | \\phi_i \\rangle \\\\\n",
    "  \\langle SD | \\cal{O}_2 | SD \\rangle & = & \\frac{1}{2} \\sum_{(i,j) \\in SD}  \n",
    "      \\langle \\phi_i \\phi_j | \\cal{O}_2 | \\phi_i \\phi_j \\rangle - \\nonumber \\\\\n",
    " & & \n",
    "      \\langle \\phi_i \\phi_j | \\cal{O}_2 | \\phi_j \\phi_i \\rangle \\nonumber \n",
    "\\end{eqnarray}\n",
    "$$"
   ]
  },
  {
   "cell_type": "markdown",
   "metadata": {},
   "source": [
    "## Hamiltonian matrix without the bit representation, one and two-body operators\n",
    "\n",
    "For two determinants which differ only by the substitution of single-particle states $i$ with\n",
    "a single-particle state $j$:"
   ]
  },
  {
   "cell_type": "markdown",
   "metadata": {},
   "source": [
    "$$\n",
    "\\begin{eqnarray}\n",
    "  \\langle SD | \\cal{O}_1 | SD_i^j \\rangle & = & \\langle \\phi_i | \\cal{O}_1 | \\phi_j \\rangle \\\\\n",
    "  \\langle SD | \\cal{O}_2 | SD_i^j \\rangle & = & \\sum_{k \\in SD} \n",
    "      \\langle \\phi_i \\phi_k | \\cal{O}_2 | \\phi_j \\phi_k \\rangle - \n",
    "      \\langle \\phi_i \\phi_k | \\cal{O}_2 | \\phi_k \\phi_j \\rangle \\nonumber\n",
    "\\end{eqnarray}\n",
    "$$"
   ]
  },
  {
   "cell_type": "markdown",
   "metadata": {},
   "source": [
    "For two determinants which differ by two single-particle states"
   ]
  },
  {
   "cell_type": "markdown",
   "metadata": {},
   "source": [
    "$$\n",
    "\\begin{eqnarray}\n",
    "  \\langle SD | \\cal{O}_1 | SD_{ik}^{jl} \\rangle & = & 0 \\\\\n",
    "  \\langle SD | \\cal{O}_2 | SD_{ik}^{jl} \\rangle & = & \n",
    "      \\langle \\phi_i \\phi_k | \\cal{O}_2 | \\phi_j \\phi_l \\rangle -\n",
    "      \\langle \\phi_i \\phi_k | \\cal{O}_2 | \\phi_l \\phi_j \\rangle \\nonumber \n",
    "\\end{eqnarray}\n",
    "$$"
   ]
  },
  {
   "cell_type": "markdown",
   "metadata": {},
   "source": [
    "All other matrix elements involving determinants with more than two\n",
    "substitutions are zero.\n",
    "\n",
    "\n",
    "\n",
    "\n",
    "## Strategies for setting up an algorithm\n",
    "\n",
    "\n",
    "An efficient implementation of these rules requires\n",
    "\n",
    "* to find the number of single-particle state substitutions between two determinants\n",
    "\n",
    "* to find which single-particle states are involved in the substitution\n",
    "\n",
    "* to compute the phase factor if a reordering of the single-particle states has occured\n",
    "\n",
    "We can solve this problem using our odometric approach or alternatively using a bit representation as discussed below and in more detail in \n",
    "\n",
    "* [Scemama and Gimer's article (Fortran codes)](https://github.com/scemama/slater_condon)\n",
    "\n",
    "* [Simen Kvaal's article on how to build an FCI code (C++ code)](https://arxiv.org/abs/0810.2644)\n",
    "\n",
    "We recommend in particular the article by Simen Kvaal. It contains nice general classes for creation and annihilation operators as well as the calculation of the phase (see below).\n",
    "\n",
    "\n",
    "\n",
    "\n",
    "\n",
    "## Computing expectation values and transitions in the shell-model\n",
    "When we diagonalize the Hamiltonian matrix, the eigenvectors are the coefficients $C_{\\lambda i}$ used \n",
    "to express the many-body state $\\Psi_{\\lambda}$ in terms of  a linear combinations of\n",
    "Slater determinants ($SD$) of orthonormal single-particle states $\\phi({\\bf r})$.\n",
    "\n",
    "With these eigenvectors we can compute say the transition likelyhood of a one-body operator as"
   ]
  },
  {
   "cell_type": "markdown",
   "metadata": {},
   "source": [
    "$$\n",
    "\\langle \\Psi_{\\lambda} \\vert \\cal{O}_1 \\vert \\Psi_{\\sigma} \\rangle  = \n",
    "\\sum_{ij}C_{\\lambda i}^*C_{\\sigma j}  \\langle SD_i | \\cal{O}_1 | SD_j \\rangle .\n",
    "$$"
   ]
  },
  {
   "cell_type": "markdown",
   "metadata": {},
   "source": [
    "Writing the one-body operator in second quantization as"
   ]
  },
  {
   "cell_type": "markdown",
   "metadata": {},
   "source": [
    "$$\n",
    "\\cal{O}_1  = \\sum_{pq} \\langle p \\vert \\cal{o}_1 \\vert q\\rangle a_p^{\\dagger} a_q,\n",
    "$$"
   ]
  },
  {
   "cell_type": "markdown",
   "metadata": {},
   "source": [
    "we have"
   ]
  },
  {
   "cell_type": "markdown",
   "metadata": {},
   "source": [
    "$$\n",
    "\\langle \\Psi_{\\lambda} \\vert \\cal{O}_1 \\vert \\Psi_{\\sigma} \\rangle  = \n",
    "\\sum_{pq}\\langle p \\vert \\cal{o}_1 \\vert q\\rangle \\sum_{ij}C_{\\lambda i}^*C_{\\sigma j}  \\langle SD_i |a_p^{\\dagger} a_q | SD_j \\rangle .\n",
    "$$"
   ]
  },
  {
   "cell_type": "markdown",
   "metadata": {},
   "source": [
    "## Computing expectation values and transitions in the shell-model and spectroscopic factors\n",
    "The terms we need to evalute then are just the elements"
   ]
  },
  {
   "cell_type": "markdown",
   "metadata": {},
   "source": [
    "$$\n",
    "\\langle SD_i |a_p^{\\dagger} a_q | SD_j \\rangle,\n",
    "$$"
   ]
  },
  {
   "cell_type": "markdown",
   "metadata": {},
   "source": [
    "which can be rewritten in terms of spectroscopic factors by inserting a complete set of Slater determinats as"
   ]
  },
  {
   "cell_type": "markdown",
   "metadata": {},
   "source": [
    "$$\n",
    "\\langle SD_i |a_p^{\\dagger} a_q | SD_j \\rangle = \\sum_{l}\\langle SD_i \\vert a_p^{\\dagger}\\vert SD_l\\rangle \\langle SD_l \\vert  a_q \\vert SD_j \\rangle,\n",
    "$$"
   ]
  },
  {
   "cell_type": "markdown",
   "metadata": {},
   "source": [
    "where $\\langle SD_l\\vert a_q(a_p^{\\dagger})\\vert SD_j\\rangle$ are the spectroscopic factors. These can be easily evaluated in $m$-scheme. Using the Wigner-Eckart theorem we can transform these to a $J$-coupled scheme through so-called reduced matrix elements.\n",
    "\n",
    "\n",
    "\n",
    "\n",
    "\n",
    "\n",
    "\n",
    "## Operators in second quantization\n",
    "In the build-up of a shell-model or FCI code that is meant to tackle large dimensionalities\n",
    "we need to deal with the action of the Hamiltonian $\\hat{H}$ on a\n",
    "Slater determinant represented in second quantization as"
   ]
  },
  {
   "cell_type": "markdown",
   "metadata": {},
   "source": [
    "$$\n",
    "|\\alpha_1\\dots \\alpha_n\\rangle = a_{\\alpha_1}^{\\dagger} a_{\\alpha_2}^{\\dagger} \\dots a_{\\alpha_n}^{\\dagger} |0\\rangle.\n",
    "$$"
   ]
  },
  {
   "cell_type": "markdown",
   "metadata": {},
   "source": [
    "The time consuming part stems from the action of the Hamiltonian\n",
    "on the above determinant,"
   ]
  },
  {
   "cell_type": "markdown",
   "metadata": {},
   "source": [
    "$$\n",
    "\\left(\\sum_{\\alpha\\beta} \\langle \\alpha|t+u|\\beta\\rangle a_\\alpha^{\\dagger} a_\\beta + \\frac{1}{4} \\sum_{\\alpha\\beta\\gamma\\delta}\n",
    "                \\langle \\alpha \\beta|\\hat{v}|\\gamma \\delta\\rangle a_\\alpha^{\\dagger} a_\\beta^{\\dagger} a_\\delta a_\\gamma\\right)a_{\\alpha_1}^{\\dagger} a_{\\alpha_2}^{\\dagger} \\dots a_{\\alpha_n}^{\\dagger} |0\\rangle.\n",
    "$$"
   ]
  },
  {
   "cell_type": "markdown",
   "metadata": {},
   "source": [
    "A practically useful way to implement this action is to encode a Slater determinant as a bit pattern.\n",
    "\n",
    "\n",
    "\n",
    "\n",
    "\n",
    "## Operators in second quantization\n",
    "Assume that we have at our disposal $n$ different single-particle states\n",
    "$\\alpha_0,\\alpha_2,\\dots,\\alpha_{n-1}$ and that we can distribute  among these states $N\\le n$ particles.\n",
    "\n",
    "A Slater  determinant can then be coded as an integer of $n$ bits. As an example, if we have $n=16$ single-particle states\n",
    "$\\alpha_0,\\alpha_1,\\dots,\\alpha_{15}$ and $N=4$ fermions occupying the states $\\alpha_3$, $\\alpha_6$, $\\alpha_{10}$ and $\\alpha_{13}$\n",
    "we could write this Slater determinant as"
   ]
  },
  {
   "cell_type": "markdown",
   "metadata": {},
   "source": [
    "$$\n",
    "\\Phi_{\\Lambda} = a_{\\alpha_3}^{\\dagger} a_{\\alpha_6}^{\\dagger} a_{\\alpha_{10}}^{\\dagger} a_{\\alpha_{13}}^{\\dagger} |0\\rangle.\n",
    "$$"
   ]
  },
  {
   "cell_type": "markdown",
   "metadata": {},
   "source": [
    "The unoccupied single-particle states have bit value $0$ while the occupied ones are represented by bit state $1$. \n",
    "In the binary notation we would write this   16 bits long integer as"
   ]
  },
  {
   "cell_type": "markdown",
   "metadata": {},
   "source": [
    "$$\n",
    "\\begin{array}{cccccccccccccccc}\n",
    "{\\alpha_0}&{\\alpha_1}&{\\alpha_2}&{\\alpha_3}&{\\alpha_4}&{\\alpha_5}&{\\alpha_6}&{\\alpha_7} & {\\alpha_8} &{\\alpha_9} & {\\alpha_{10}} &{\\alpha_{11}} &{\\alpha_{12}} &{\\alpha_{13}} &{\\alpha_{14}} & {\\alpha_{15}} \\\\\n",
    "{0} & {0} &{0} &{1} &{0} &{0} &{1} &{0} &{0} &{0} &{1} &{0} &{0} &{1} &{0} & {0} \\\\\n",
    "\\end{array}\n",
    "$$"
   ]
  },
  {
   "cell_type": "markdown",
   "metadata": {},
   "source": [
    "which translates into the decimal number"
   ]
  },
  {
   "cell_type": "markdown",
   "metadata": {},
   "source": [
    "$$\n",
    "2^3+2^6+2^{10}+2^{13}=9288.\n",
    "$$"
   ]
  },
  {
   "cell_type": "markdown",
   "metadata": {},
   "source": [
    "We can thus encode a Slater determinant as a bit pattern.\n",
    "\n",
    "\n",
    "\n",
    "\n",
    "\n",
    "## Operators in second quantization\n",
    "With $N$ particles that can be distributed over $n$ single-particle states, the total number of Slater determinats (and defining thereby the dimensionality of the system) is"
   ]
  },
  {
   "cell_type": "markdown",
   "metadata": {},
   "source": [
    "$$\n",
    "\\mathrm{dim}(\\mathcal{H}) = \\left(\\begin{array}{c} n \\\\N\\end{array}\\right).\n",
    "$$"
   ]
  },
  {
   "cell_type": "markdown",
   "metadata": {},
   "source": [
    "The total number of bit patterns is $2^n$.\n",
    "\n",
    "\n",
    "\n",
    "\n",
    "## Operators in second quantization\n",
    "We assume again that we have at our disposal $n$ different single-particle orbits\n",
    "$\\alpha_0,\\alpha_2,\\dots,\\alpha_{n-1}$ and that we can distribute  among these orbits $N\\le n$ particles.\n",
    "The ordering among these states is important as it defines the order of the creation operators.\n",
    "We will write the determinant"
   ]
  },
  {
   "cell_type": "markdown",
   "metadata": {},
   "source": [
    "$$\n",
    "\\Phi_{\\Lambda} = a_{\\alpha_3}^{\\dagger} a_{\\alpha_6}^{\\dagger} a_{\\alpha_{10}}^{\\dagger} a_{\\alpha_{13}}^{\\dagger} |0\\rangle,\n",
    "$$"
   ]
  },
  {
   "cell_type": "markdown",
   "metadata": {},
   "source": [
    "in a more compact way as"
   ]
  },
  {
   "cell_type": "markdown",
   "metadata": {},
   "source": [
    "$$\n",
    "\\Phi_{3,6,10,13} = |0001001000100100\\rangle.\n",
    "$$"
   ]
  },
  {
   "cell_type": "markdown",
   "metadata": {},
   "source": [
    "The action of a creation operator is thus"
   ]
  },
  {
   "cell_type": "markdown",
   "metadata": {},
   "source": [
    "$$\n",
    "a^{\\dagger}_{\\alpha_4}\\Phi_{3,6,10,13} = a^{\\dagger}_{\\alpha_4}|0001001000100100\\rangle=a^{\\dagger}_{\\alpha_4}a_{\\alpha_3}^{\\dagger} a_{\\alpha_6}^{\\dagger} a_{\\alpha_{10}}^{\\dagger} a_{\\alpha_{13}}^{\\dagger} |0\\rangle,\n",
    "$$"
   ]
  },
  {
   "cell_type": "markdown",
   "metadata": {},
   "source": [
    "which becomes"
   ]
  },
  {
   "cell_type": "markdown",
   "metadata": {},
   "source": [
    "$$\n",
    "-a_{\\alpha_3}^{\\dagger} a^{\\dagger}_{\\alpha_4} a_{\\alpha_6}^{\\dagger} a_{\\alpha_{10}}^{\\dagger} a_{\\alpha_{13}}^{\\dagger} |0\\rangle=-|0001101000100100\\rangle.\n",
    "$$"
   ]
  },
  {
   "cell_type": "markdown",
   "metadata": {},
   "source": [
    "## Operators in second quantization\n",
    "Similarly"
   ]
  },
  {
   "cell_type": "markdown",
   "metadata": {},
   "source": [
    "$$\n",
    "a^{\\dagger}_{\\alpha_6}\\Phi_{3,6,10,13} = a^{\\dagger}_{\\alpha_6}|0001001000100100\\rangle=a^{\\dagger}_{\\alpha_6}a_{\\alpha_3}^{\\dagger} a_{\\alpha_6}^{\\dagger} a_{\\alpha_{10}}^{\\dagger} a_{\\alpha_{13}}^{\\dagger} |0\\rangle,\n",
    "$$"
   ]
  },
  {
   "cell_type": "markdown",
   "metadata": {},
   "source": [
    "which becomes"
   ]
  },
  {
   "cell_type": "markdown",
   "metadata": {},
   "source": [
    "$$\n",
    "-a^{\\dagger}_{\\alpha_4} (a_{\\alpha_6}^{\\dagger})^ 2 a_{\\alpha_{10}}^{\\dagger} a_{\\alpha_{13}}^{\\dagger} |0\\rangle=0!\n",
    "$$"
   ]
  },
  {
   "cell_type": "markdown",
   "metadata": {},
   "source": [
    "This gives a simple recipe:  \n",
    "* If one of the bits $b_j$ is $1$ and we act with a creation operator on this bit, we return a null vector\n",
    "\n",
    "* If $b_j=0$, we set it to $1$ and return a sign factor $(-1)^l$, where $l$ is the number of bits set before bit $j$.\n",
    "\n",
    "\n",
    "\n",
    "\n",
    "\n",
    "## Operators in second quantization\n",
    "Consider the action of $a^{\\dagger}_{\\alpha_2}$ on various slater determinants:"
   ]
  },
  {
   "cell_type": "markdown",
   "metadata": {},
   "source": [
    "$$\n",
    "\\begin{array}{ccc}\n",
    "a^{\\dagger}_{\\alpha_2}\\Phi_{00111}& = a^{\\dagger}_{\\alpha_2}|00111\\rangle&=0\\times |00111\\rangle\\\\\n",
    "a^{\\dagger}_{\\alpha_2}\\Phi_{01011}& = a^{\\dagger}_{\\alpha_2}|01011\\rangle&=(-1)\\times |01111\\rangle\\\\\n",
    "a^{\\dagger}_{\\alpha_2}\\Phi_{01101}& = a^{\\dagger}_{\\alpha_2}|01101\\rangle&=0\\times |01101\\rangle\\\\\n",
    "a^{\\dagger}_{\\alpha_2}\\Phi_{01110}& = a^{\\dagger}_{\\alpha_2}|01110\\rangle&=0\\times |01110\\rangle\\\\\n",
    "a^{\\dagger}_{\\alpha_2}\\Phi_{10011}& = a^{\\dagger}_{\\alpha_2}|10011\\rangle&=(-1)\\times |10111\\rangle\\\\\n",
    "a^{\\dagger}_{\\alpha_2}\\Phi_{10101}& = a^{\\dagger}_{\\alpha_2}|10101\\rangle&=0\\times |10101\\rangle\\\\\n",
    "a^{\\dagger}_{\\alpha_2}\\Phi_{10110}& = a^{\\dagger}_{\\alpha_2}|10110\\rangle&=0\\times |10110\\rangle\\\\\n",
    "a^{\\dagger}_{\\alpha_2}\\Phi_{11001}& = a^{\\dagger}_{\\alpha_2}|11001\\rangle&=(+1)\\times |11101\\rangle\\\\\n",
    "a^{\\dagger}_{\\alpha_2}\\Phi_{11010}& = a^{\\dagger}_{\\alpha_2}|11010\\rangle&=(+1)\\times |11110\\rangle\\\\\n",
    "\\end{array}\n",
    "$$"
   ]
  },
  {
   "cell_type": "markdown",
   "metadata": {},
   "source": [
    "What is the simplest way to obtain the phase when we act with one annihilation(creation) operator\n",
    "on the given Slater determinant representation?\n",
    "\n",
    "\n",
    "\n",
    "\n",
    "\n",
    "## Operators in second quantization\n",
    "We have an SD representation"
   ]
  },
  {
   "cell_type": "markdown",
   "metadata": {},
   "source": [
    "$$\n",
    "\\Phi_{\\Lambda} = a_{\\alpha_0}^{\\dagger} a_{\\alpha_3}^{\\dagger} a_{\\alpha_6}^{\\dagger} a_{\\alpha_{10}}^{\\dagger} a_{\\alpha_{13}}^{\\dagger} |0\\rangle,\n",
    "$$"
   ]
  },
  {
   "cell_type": "markdown",
   "metadata": {},
   "source": [
    "in a more compact way as"
   ]
  },
  {
   "cell_type": "markdown",
   "metadata": {},
   "source": [
    "$$\n",
    "\\Phi_{0,3,6,10,13} = |1001001000100100\\rangle.\n",
    "$$"
   ]
  },
  {
   "cell_type": "markdown",
   "metadata": {},
   "source": [
    "The action of"
   ]
  },
  {
   "cell_type": "markdown",
   "metadata": {},
   "source": [
    "$$\n",
    "a^{\\dagger}_{\\alpha_4}a_{\\alpha_0}\\Phi_{0,3,6,10,13} = a^{\\dagger}_{\\alpha_4}|0001001000100100\\rangle=a^{\\dagger}_{\\alpha_4}a_{\\alpha_3}^{\\dagger} a_{\\alpha_6}^{\\dagger} a_{\\alpha_{10}}^{\\dagger} a_{\\alpha_{13}}^{\\dagger} |0\\rangle,\n",
    "$$"
   ]
  },
  {
   "cell_type": "markdown",
   "metadata": {},
   "source": [
    "which becomes"
   ]
  },
  {
   "cell_type": "markdown",
   "metadata": {},
   "source": [
    "$$\n",
    "-a_{\\alpha_3}^{\\dagger} a^{\\dagger}_{\\alpha_4} a_{\\alpha_6}^{\\dagger} a_{\\alpha_{10}}^{\\dagger} a_{\\alpha_{13}}^{\\dagger} |0\\rangle=-|0001101000100100\\rangle.\n",
    "$$"
   ]
  },
  {
   "cell_type": "markdown",
   "metadata": {},
   "source": [
    "## Operators in second quantization\n",
    "The action"
   ]
  },
  {
   "cell_type": "markdown",
   "metadata": {},
   "source": [
    "$$\n",
    "a_{\\alpha_0}\\Phi_{0,3,6,10,13} = |0001001000100100\\rangle,\n",
    "$$"
   ]
  },
  {
   "cell_type": "markdown",
   "metadata": {},
   "source": [
    "can be obtained by subtracting the logical sum (AND operation) of $\\Phi_{0,3,6,10,13}$ and \n",
    "a word which represents only $\\alpha_0$, that is"
   ]
  },
  {
   "cell_type": "markdown",
   "metadata": {},
   "source": [
    "$$\n",
    "|1000000000000000\\rangle,\n",
    "$$"
   ]
  },
  {
   "cell_type": "markdown",
   "metadata": {},
   "source": [
    "from $\\Phi_{0,3,6,10,13}= |1001001000100100\\rangle$.\n",
    "\n",
    "This operation gives $|0001001000100100\\rangle$. \n",
    "\n",
    "Similarly, we can form $a^{\\dagger}_{\\alpha_4}a_{\\alpha_0}\\Phi_{0,3,6,10,13}$, say, by adding \n",
    "$|0000100000000000\\rangle$ to $a_{\\alpha_0}\\Phi_{0,3,6,10,13}$, first checking that their logical sum\n",
    "is zero in order to make sure that the state $\\alpha_4$ is not already occupied.\n",
    "\n",
    "\n",
    "\n",
    "\n",
    "\n",
    "\n",
    "\n",
    "## Operators in second quantization\n",
    "It is trickier however to get the phase $(-1)^l$. \n",
    "One possibility is as follows\n",
    "* Let $S_1$ be a word that represents the 1-bit to be removed and all others set to zero.\n",
    "\n",
    "In the previous example $S_1=|1000000000000000\\rangle$\n",
    "* Define $S_2$ as the similar word that represents the bit to be added, that is in our case\n",
    "\n",
    "$S_2=|0000100000000000\\rangle$.\n",
    "* Compute then $S=S_1-S_2$, which here becomes"
   ]
  },
  {
   "cell_type": "markdown",
   "metadata": {},
   "source": [
    "$$\n",
    "S=|0111000000000000\\rangle\n",
    "$$"
   ]
  },
  {
   "cell_type": "markdown",
   "metadata": {},
   "source": [
    "* Perform then the logical AND operation of $S$ with the word containing"
   ]
  },
  {
   "cell_type": "markdown",
   "metadata": {},
   "source": [
    "$$\n",
    "\\Phi_{0,3,6,10,13} = |1001001000100100\\rangle,\n",
    "$$"
   ]
  },
  {
   "cell_type": "markdown",
   "metadata": {},
   "source": [
    "which results in $|0001000000000000\\rangle$. Counting the number of 1-bits gives the phase.  Here you need however an algorithm for bitcounting.\n",
    "\n",
    "\n",
    "\n",
    "\n",
    "\n",
    "\n",
    "\n",
    "\n",
    "\n",
    "## Bit counting\n",
    "\n",
    "\n",
    "We include here a python program which may aid in this direction. It uses bit manipulation functions from <http://wiki.python.org/moin/BitManipulation>."
   ]
  },
  {
   "cell_type": "code",
   "execution_count": null,
   "metadata": {
    "collapsed": false,
    "editable": true
   },
   "outputs": [],
   "source": [
    "import math\n",
    "\n",
    "\"\"\"\n",
    "A simple Python class for Slater determinant manipulation\n",
    "Bit-manipulation stolen from:\n",
    "\n",
    "http://wiki.python.org/moin/BitManipulation\n",
    "\"\"\"\n",
    "\n",
    "# bitCount() counts the number of bits set (not an optimal function)\n",
    "\n",
    "def bitCount(int_type):\n",
    "    \"\"\" Count bits set in integer \"\"\"\n",
    "    count = 0\n",
    "    while(int_type):\n",
    "        int_type &= int_type - 1\n",
    "        count += 1\n",
    "    return(count)\n",
    "\n",
    "\n",
    "# testBit() returns a nonzero result, 2**offset, if the bit at 'offset' is one.\n",
    "\n",
    "def testBit(int_type, offset):\n",
    "    mask = 1 << offset\n",
    "    return(int_type & mask) >> offset\n",
    "\n",
    "# setBit() returns an integer with the bit at 'offset' set to 1.\n",
    "\n",
    "def setBit(int_type, offset):\n",
    "    mask = 1 << offset\n",
    "    return(int_type | mask)\n",
    "\n",
    "# clearBit() returns an integer with the bit at 'offset' cleared.\n",
    "\n",
    "def clearBit(int_type, offset):\n",
    "    mask = ~(1 << offset)\n",
    "    return(int_type & mask)\n",
    "\n",
    "# toggleBit() returns an integer with the bit at 'offset' inverted, 0 -> 1 and 1 -> 0.\n",
    "\n",
    "def toggleBit(int_type, offset):\n",
    "    mask = 1 << offset\n",
    "    return(int_type ^ mask)\n",
    "\n",
    "# binary string made from number\n",
    "\n",
    "def bin0(s):\n",
    "    return str(s) if s<=1 else bin0(s>>1) + str(s&1)\n",
    "\n",
    "def bin(s, L = 0):\n",
    "    ss = bin0(s)\n",
    "    if L > 0:\n",
    "        return '0'*(L-len(ss)) + ss\n",
    "    else:\n",
    "        return ss\n",
    "    \n",
    "    \n",
    "\n",
    "class Slater:\n",
    "    \"\"\" Class for Slater determinants \"\"\"\n",
    "    def __init__(self):\n",
    "        self.word = int(0)\n",
    "\n",
    "    def create(self, j):\n",
    "        print \"c^+_\" + str(j) + \" |\" + bin(self.word) + \">  = \",\n",
    "        # Assume bit j is set, then we return zero.\n",
    "        s = 0\n",
    "        # Check if bit j is set.\n",
    "        isset = testBit(self.word, j)\n",
    "        if isset == 0:\n",
    "            bits = bitCount(self.word & ((1<<j)-1))\n",
    "            s = pow(-1, bits)\n",
    "            self.word = setBit(self.word, j)\n",
    "\n",
    "        print str(s) + \" x |\" + bin(self.word) + \">\"\n",
    "        return s\n",
    "        \n",
    "    def annihilate(self, j):\n",
    "        print \"c_\" + str(j) + \" |\" + bin(self.word) + \">  = \",\n",
    "        # Assume bit j is not set, then we return zero.\n",
    "        s = 0\n",
    "        # Check if bit j is set.\n",
    "        isset = testBit(self.word, j)\n",
    "        if isset == 1:\n",
    "            bits = bitCount(self.word & ((1<<j)-1))\n",
    "            s = pow(-1, bits)\n",
    "            self.word = clearBit(self.word, j)\n",
    "\n",
    "        print str(s) + \" x |\" + bin(self.word) + \">\"\n",
    "        return s\n",
    "\n",
    "\n",
    "\n",
    "# Do some testing:\n",
    "\n",
    "phi = Slater()\n",
    "phi.create(0)\n",
    "phi.create(1)\n",
    "phi.create(2)\n",
    "phi.create(3)\n",
    "\n",
    "print\n",
    "\n",
    "\n",
    "s = phi.annihilate(2)\n",
    "s = phi.create(7)\n",
    "s = phi.annihilate(0)\n",
    "s = phi.create(200)"
   ]
  },
  {
   "cell_type": "markdown",
   "metadata": {},
   "source": [
    "## Eigenvalue problems, basic definitions\n",
    "Let us consider the matrix $\\mathbf{A}$ of dimension $n$. The eigenvalues of\n",
    "$\\mathbf{A}$ are defined through the matrix equation"
   ]
  },
  {
   "cell_type": "markdown",
   "metadata": {},
   "source": [
    "$$\n",
    "\\mathbf{A}\\mathbf{x}^{(\\nu)} = \\lambda^{(\\nu)}\\mathbf{x}^{(\\nu)},\n",
    "$$"
   ]
  },
  {
   "cell_type": "markdown",
   "metadata": {},
   "source": [
    "where $\\lambda^{(\\nu)}$ are the eigenvalues and $\\mathbf{x}^{(\\nu)}$ the\n",
    "corresponding eigenvectors.\n",
    "Unless otherwise stated, when we use the wording eigenvector we mean the\n",
    "right eigenvector. The left eigenvalue problem is defined as"
   ]
  },
  {
   "cell_type": "markdown",
   "metadata": {},
   "source": [
    "$$\n",
    "\\mathbf{x}^{(\\nu)}_L\\mathbf{A} = \\lambda^{(\\nu)}\\mathbf{x}^{(\\nu)}_L\n",
    "$$"
   ]
  },
  {
   "cell_type": "markdown",
   "metadata": {},
   "source": [
    "The above right eigenvector problem is equivalent to a set of $n$ equations with $n$ unknowns\n",
    "$x_i$.\n",
    "\n",
    "\n",
    "\n",
    "\n",
    "\n",
    "## Eigenvalue problems, basic definitions\n",
    "The eigenvalue problem can be rewritten as"
   ]
  },
  {
   "cell_type": "markdown",
   "metadata": {},
   "source": [
    "$$\n",
    "\\left( \\mathbf{A}-\\lambda^{(\\nu)} \\mathbf{I} \\right) \\mathbf{x}^{(\\nu)} = 0,\n",
    "$$"
   ]
  },
  {
   "cell_type": "markdown",
   "metadata": {},
   "source": [
    "with $\\mathbf{I}$ being the unity matrix. This equation provides\n",
    "a solution to the problem if and only if the determinant\n",
    "is zero, namely"
   ]
  },
  {
   "cell_type": "markdown",
   "metadata": {},
   "source": [
    "$$\n",
    "\\left| \\mathbf{A}-\\lambda^{(\\nu)}\\mathbf{I}\\right| = 0,\n",
    "$$"
   ]
  },
  {
   "cell_type": "markdown",
   "metadata": {},
   "source": [
    "which in turn means that the determinant is a polynomial\n",
    "of degree $n$ in $\\lambda$ and in general we will have \n",
    "$n$ distinct zeros.\n",
    "\n",
    "\n",
    "\n",
    "\n",
    "\n",
    "## Eigenvalue problems, basic definitions\n",
    "The eigenvalues of a matrix \n",
    "$\\mathbf{A}\\in {\\mathbb{C}}^{n\\times n}$\n",
    "are thus the $n$ roots of its characteristic polynomial"
   ]
  },
  {
   "cell_type": "markdown",
   "metadata": {},
   "source": [
    "$$\n",
    "P(\\lambda) = det(\\lambda\\mathbf{I}-\\mathbf{A}),\n",
    "$$"
   ]
  },
  {
   "cell_type": "markdown",
   "metadata": {},
   "source": [
    "or"
   ]
  },
  {
   "cell_type": "markdown",
   "metadata": {},
   "source": [
    "$$\n",
    "P(\\lambda)= \\prod_{i=1}^{n}\\left(\\lambda_i-\\lambda\\right).\n",
    "$$"
   ]
  },
  {
   "cell_type": "markdown",
   "metadata": {},
   "source": [
    "The set of these roots is called the spectrum and is denoted as\n",
    "$\\lambda(\\mathbf{A})$.\n",
    "If $\\lambda(\\mathbf{A})=\\left\\{\\lambda_1,\\lambda_2,\\dots ,\\lambda_n\\right\\}$ then we have"
   ]
  },
  {
   "cell_type": "markdown",
   "metadata": {},
   "source": [
    "$$\n",
    "det(\\mathbf{A})= \\lambda_1\\lambda_2\\dots\\lambda_n,\n",
    "$$"
   ]
  },
  {
   "cell_type": "markdown",
   "metadata": {},
   "source": [
    "and if we define the trace of $\\mathbf{A}$ as"
   ]
  },
  {
   "cell_type": "markdown",
   "metadata": {},
   "source": [
    "$$\n",
    "Tr(\\mathbf{A})=\\sum_{i=1}^n a_{ii}\n",
    "$$"
   ]
  },
  {
   "cell_type": "markdown",
   "metadata": {},
   "source": [
    "then"
   ]
  },
  {
   "cell_type": "markdown",
   "metadata": {},
   "source": [
    "$$\n",
    "Tr(\\mathbf{A})=\\lambda_1+\\lambda_2+\\dots+\\lambda_n.\n",
    "$$"
   ]
  },
  {
   "cell_type": "markdown",
   "metadata": {},
   "source": [
    "## Abel-Ruffini Impossibility Theorem\n",
    "The *Abel-Ruffini* theorem (also known as Abel's impossibility theorem) \n",
    "states that there is no general solution in radicals to polynomial equations of degree five or higher.\n",
    "\n",
    "The content of this theorem is frequently misunderstood. It does not assert that higher-degree polynomial equations are unsolvable. \n",
    "In fact, if the polynomial has real or complex coefficients, and we allow complex solutions, then every polynomial equation has solutions; this is the fundamental theorem of algebra. Although these solutions cannot always be computed exactly with radicals, they can be computed to any desired degree of accuracy using numerical methods such as the Newton-Raphson method or Laguerre method, and in this way they are no different from solutions to polynomial equations of the second, third, or fourth degrees.\n",
    "\n",
    "The theorem only concerns the form that such a solution must take. The content of the theorem is \n",
    "that the solution of a higher-degree equation cannot in all cases be expressed in terms of the polynomial coefficients with a finite number of operations of addition, subtraction, multiplication, division and root extraction. Some polynomials of arbitrary degree, of which the simplest nontrivial example is the monomial equation $ax^n = b$, are always solvable with a radical.\n",
    "\n",
    "\n",
    "\n",
    "\n",
    "\n",
    "## Abel-Ruffini Impossibility Theorem\n",
    "\n",
    "The *Abel-Ruffini* theorem says that there are some fifth-degree equations whose solution cannot be so expressed. \n",
    "The equation $x^5 - x + 1 = 0$ is an example. Some other fifth degree equations can be solved by radicals, \n",
    "for example $x^5 - x^4 - x + 1 = 0$. The precise criterion that distinguishes between those equations that can be solved \n",
    "by radicals and those that cannot was given by Galois and is now part of Galois theory: \n",
    "a polynomial equation can be solved by radicals if and only if its Galois group is a solvable group.\n",
    "\n",
    "Today, in the modern algebraic context, we say that second, third and fourth degree polynomial \n",
    "equations can always be solved by radicals because the symmetric groups $S_2, S_3$ and $S_4$ are solvable groups, \n",
    "whereas $S_n$ is not solvable for $n \\ge 5$.\n",
    "\n",
    "\n",
    "\n",
    "\n",
    "\n",
    "## Eigenvalue problems, basic definitions\n",
    "In the present discussion we assume that our matrix is real and symmetric, that is \n",
    "$\\mathbf{A}\\in {\\mathbb{R}}^{n\\times n}$.\n",
    "The matrix $\\mathbf{A}$ has $n$ eigenvalues\n",
    "$\\lambda_1\\dots \\lambda_n$ (distinct or not). Let $\\mathbf{D}$ be the\n",
    "diagonal matrix with the eigenvalues on the diagonal"
   ]
  },
  {
   "cell_type": "markdown",
   "metadata": {},
   "source": [
    "$$\n",
    "\\mathbf{D}=    \\left( \\begin{array}{ccccccc} \\lambda_1 & 0 & 0   & 0    & \\dots  &0     & 0 \\\\\n",
    "                                0 & \\lambda_2 & 0 & 0    & \\dots  &0     &0 \\\\\n",
    "                                0   & 0 & \\lambda_3 & 0  &0       &\\dots & 0\\\\\n",
    "                                \\dots  & \\dots & \\dots & \\dots  &\\dots      &\\dots & \\dots\\\\\n",
    "                                0   & \\dots & \\dots & \\dots  &\\dots       &\\lambda_{n-1} & \\\\\n",
    "                                0   & \\dots & \\dots & \\dots  &\\dots       &0 & \\lambda_n\n",
    "             \\end{array} \\right).\n",
    "$$"
   ]
  },
  {
   "cell_type": "markdown",
   "metadata": {},
   "source": [
    "If $\\mathbf{A}$ is real and symmetric then there exists a real orthogonal matrix $\\mathbf{S}$ such that"
   ]
  },
  {
   "cell_type": "markdown",
   "metadata": {},
   "source": [
    "$$\n",
    "\\mathbf{S}^T \\mathbf{A}\\mathbf{S}= \\mathrm{diag}(\\lambda_1,\\lambda_2,\\dots ,\\lambda_n),\n",
    "$$"
   ]
  },
  {
   "cell_type": "markdown",
   "metadata": {},
   "source": [
    "and for $j=1:n$ we have $\\mathbf{A}\\mathbf{S}(:,j) = \\lambda_j \\mathbf{S}(:,j)$.\n",
    "\n",
    "\n",
    "\n",
    "\n",
    "\n",
    "## Eigenvalue problems, basic definitions\n",
    "To obtain the eigenvalues of $\\mathbf{A}\\in {\\mathbb{R}}^{n\\times n}$,\n",
    "the strategy is to\n",
    "perform a series of similarity transformations on the original\n",
    "matrix $\\mathbf{A}$, in order to reduce it either into a  diagonal form as above\n",
    "or into a  tridiagonal form. \n",
    "\n",
    "We say that a matrix $\\mathbf{B}$ is a similarity\n",
    "transform  of  $\\mathbf{A}$ if"
   ]
  },
  {
   "cell_type": "markdown",
   "metadata": {},
   "source": [
    "$$\n",
    "\\mathbf{B}= \\mathbf{S}^T \\mathbf{A}\\mathbf{S}, \\hspace{1cm} \\mathrm{where} \\hspace{1cm}  \\mathbf{S}^T\\mathbf{S}=\\mathbf{S}^{-1}\\mathbf{S} =\\mathbf{I}.\n",
    "$$"
   ]
  },
  {
   "cell_type": "markdown",
   "metadata": {},
   "source": [
    "The importance of a similarity transformation lies in the fact that\n",
    "the resulting matrix has the same\n",
    "eigenvalues, but the eigenvectors are in general different.\n",
    "\n",
    "\n",
    "\n",
    "\n",
    "\n",
    "## Eigenvalue problems, basic definitions\n",
    "To prove this we\n",
    "start with  the eigenvalue problem and a similarity transformed matrix $\\mathbf{B}$."
   ]
  },
  {
   "cell_type": "markdown",
   "metadata": {},
   "source": [
    "$$\n",
    "\\mathbf{A}\\mathbf{x}=\\lambda\\mathbf{x} \\hspace{1cm} \\mathrm{and}\\hspace{1cm} \n",
    "    \\mathbf{B}= \\mathbf{S}^T \\mathbf{A}\\mathbf{S}.\n",
    "$$"
   ]
  },
  {
   "cell_type": "markdown",
   "metadata": {},
   "source": [
    "We multiply the first equation on the left by $\\mathbf{S}^T$ and insert\n",
    "$\\mathbf{S}^{T}\\mathbf{S} = \\mathbf{I}$ between $\\mathbf{A}$ and $\\mathbf{x}$. Then we get"
   ]
  },
  {
   "cell_type": "markdown",
   "metadata": {},
   "source": [
    "<!-- Equation labels as ordinary links -->\n",
    "<div id=\"_auto2\"></div>\n",
    "\n",
    "$$\n",
    "\\begin{equation}\n",
    "   (\\mathbf{S}^T\\mathbf{A}\\mathbf{S})(\\mathbf{S}^T\\mathbf{x})=\\lambda\\mathbf{S}^T\\mathbf{x} ,\n",
    "\\label{_auto2} \\tag{3}\n",
    "\\end{equation}\n",
    "$$"
   ]
  },
  {
   "cell_type": "markdown",
   "metadata": {},
   "source": [
    "which is the same as"
   ]
  },
  {
   "cell_type": "markdown",
   "metadata": {},
   "source": [
    "$$\n",
    "\\mathbf{B} \\left ( \\mathbf{S}^T\\mathbf{x} \\right ) = \\lambda \\left (\\mathbf{S}^T\\mathbf{x}\\right ).\n",
    "$$"
   ]
  },
  {
   "cell_type": "markdown",
   "metadata": {},
   "source": [
    "The variable  $\\lambda$ is an eigenvalue of $\\mathbf{B}$ as well, but with\n",
    "eigenvector $\\mathbf{S}^T\\mathbf{x}$.\n",
    "\n",
    "\n",
    "\n",
    "\n",
    "\n",
    "## Eigenvalue problems, basic definitions\n",
    "The basic philosophy is to\n",
    " * Either apply subsequent similarity transformations (direct method) so that"
   ]
  },
  {
   "cell_type": "markdown",
   "metadata": {},
   "source": [
    "<!-- Equation labels as ordinary links -->\n",
    "<div id=\"_auto3\"></div>\n",
    "\n",
    "$$\n",
    "\\begin{equation}\n",
    "   \\mathbf{S}_N^T\\dots \\mathbf{S}_1^T\\mathbf{A}\\mathbf{S}_1\\dots \\mathbf{S}_N=\\mathbf{D} ,\n",
    "\\label{_auto3} \\tag{4}\n",
    "\\end{equation}\n",
    "$$"
   ]
  },
  {
   "cell_type": "markdown",
   "metadata": {},
   "source": [
    "* Or apply subsequent similarity transformations so that $\\mathbf{A}$ becomes tridiagonal (Householder) or upper/lower triangular (the *QR* method to be discussed later). \n",
    "\n",
    " * Thereafter, techniques for obtaining eigenvalues from tridiagonal matrices can be used.\n",
    "\n",
    " * Or use so-called power methods\n",
    "\n",
    " * Or use iterative methods (Krylov, Lanczos, Arnoldi). These methods are popular for huge matrix problems.\n",
    "\n",
    "\n",
    "\n",
    "\n",
    "\n",
    "\n",
    "## Discussion of  methods for eigenvalues\n",
    "**The general overview.**\n",
    "\n",
    "\n",
    "One speaks normally of two main approaches to solving the eigenvalue problem.\n",
    " * The first is the formal method, involving determinants and the  characteristic polynomial. This proves how many eigenvalues  there are, and is the way most of you learned about how to solve the eigenvalue problem, but for matrices of dimensions greater than 2 or 3, it is rather impractical.\n",
    "\n",
    " * The other general approach is to use similarity or unitary tranformations  to reduce a matrix to diagonal form. This is normally done in two steps: first reduce to for example a *tridiagonal* form, and then to diagonal form. The main algorithms we will discuss in detail, Jacobi's and  Householder's  (so-called direct method) and Lanczos algorithms (an iterative method), follow this methodology.\n",
    "\n",
    "\n",
    "\n",
    "\n",
    "\n",
    "## Eigenvalues methods\n",
    "Direct or non-iterative methods  require for matrices of dimensionality $n\\times n$ typically $O(n^3)$ operations. These methods are normally called standard methods and are used for dimensionalities\n",
    "$n \\sim 10^5$ or smaller. A brief historical overview  \n",
    "\n",
    "<table border=\"1\">\n",
    "<thead>\n",
    "<tr><th align=\"center\">    Year   </th> <th align=\"center\">    $n$     </th> <th align=\"center\">                 </th> </tr>\n",
    "</thead>\n",
    "<tbody>\n",
    "<tr><td align=\"center\">   1950           </td> <td align=\"center\">   $n=20$          </td> <td align=\"center\">   (Wilkinson)          </td> </tr>\n",
    "<tr><td align=\"center\">   1965           </td> <td align=\"center\">   $n=200$         </td> <td align=\"center\">   (Forsythe et al.)    </td> </tr>\n",
    "<tr><td align=\"center\">   1980           </td> <td align=\"center\">   $n=2000$        </td> <td align=\"center\">   Linpack              </td> </tr>\n",
    "<tr><td align=\"center\">   1995           </td> <td align=\"center\">   $n=20000$       </td> <td align=\"center\">   Lapack               </td> </tr>\n",
    "<tr><td align=\"center\">   This decade    </td> <td align=\"center\">   $n\\sim 10^5$    </td> <td align=\"center\">   Lapack               </td> </tr>\n",
    "</tbody>\n",
    "</table>\n",
    "shows that in the course of 60 years the dimension that  direct diagonalization methods can handle  has increased by almost a factor of\n",
    "$10^4$ (note this is for serial versions). However, it pales beside the progress achieved by computer hardware, from flops to petaflops, a factor of almost $10^{15}$. We see clearly played out in history the $O(n^3)$ bottleneck  of direct matrix algorithms.\n",
    "\n",
    "Sloppily speaking, when  $n\\sim 10^4$ is cubed we have $O(10^{12})$ operations, which is smaller than the $10^{15}$ increase in flops.\n",
    "\n",
    "\n",
    "\n",
    "\n",
    "\n",
    "## Discussion of methods for eigenvalues\n",
    "If the matrix to diagonalize is large and sparse, direct methods simply become impractical, \n",
    "also because\n",
    "many of the direct methods tend to destroy sparsity. As a result large dense matrices may arise during the diagonalization procedure.  The idea behind iterative methods is to project the \n",
    "$n-$dimensional problem in smaller spaces, so-called Krylov subspaces. \n",
    "Given a matrix $\\mathbf{A}$ and a vector $\\mathbf{v}$, the associated Krylov sequences of vectors\n",
    "(and thereby subspaces) \n",
    "$\\mathbf{v}$, $\\mathbf{A}\\mathbf{v}$, $\\mathbf{A}^2\\mathbf{v}$, $\\mathbf{A}^3\\mathbf{v},\\dots$, represent\n",
    "successively larger Krylov subspaces. \n",
    "\n",
    "<table border=\"1\">\n",
    "<thead>\n",
    "<tr><th align=\"center\">           Matrix           </th> <th align=\"center\">$\\mathbf{A}\\mathbf{x}=\\mathbf{b}$</th> <th align=\"center\">$\\mathbf{A}\\mathbf{x}=\\lambda\\mathbf{x}$</th> </tr>\n",
    "</thead>\n",
    "<tbody>\n",
    "<tr><td align=\"left\">   $\\mathbf{A}=\\mathbf{A}^*$       </td> <td align=\"left\">   Conjugate gradient                   </td> <td align=\"left\">   Lanczos                                     </td> </tr>\n",
    "<tr><td align=\"left\">   $\\mathbf{A}\\ne \\mathbf{A}^*$    </td> <td align=\"left\">   GMRES etc                            </td> <td align=\"left\">   Arnoldi                                     </td> </tr>\n",
    "</tbody>\n",
    "</table>\n",
    "\n",
    "\n",
    "\n",
    "\n",
    "\n",
    "## Eigenvalues and Lanczos' method\n",
    "Basic features with a real symmetric matrix (and normally huge $n> 10^6$ and sparse) \n",
    "$\\hat{A}$ of dimension $n\\times n$:\n",
    "\n",
    "* Lanczos' algorithm generates a sequence of real tridiagonal matrices $T_k$ of dimension $k\\times k$ with $k\\le n$, with the property that the extremal eigenvalues of $T_k$ are progressively better estimates of $\\hat{A}$' extremal eigenvalues.* The method converges to the extremal eigenvalues.\n",
    "\n",
    "* The similarity transformation is"
   ]
  },
  {
   "cell_type": "markdown",
   "metadata": {},
   "source": [
    "$$\n",
    "\\hat{T}= \\hat{Q}^{T}\\hat{A}\\hat{Q},\n",
    "$$"
   ]
  },
  {
   "cell_type": "markdown",
   "metadata": {},
   "source": [
    "with the first vector $\\hat{Q}\\hat{e}_1=\\hat{q}_1$.\n",
    "\n",
    "We are going to solve iteratively"
   ]
  },
  {
   "cell_type": "markdown",
   "metadata": {},
   "source": [
    "$$\n",
    "\\hat{T}= \\hat{Q}^{T}\\hat{A}\\hat{Q},\n",
    "$$"
   ]
  },
  {
   "cell_type": "markdown",
   "metadata": {},
   "source": [
    "with the first vector $\\hat{Q}\\hat{e}_1=\\hat{q}_1$.\n",
    "We can write out the matrix $\\hat{Q}$ in terms of its column vectors"
   ]
  },
  {
   "cell_type": "markdown",
   "metadata": {},
   "source": [
    "$$\n",
    "\\hat{Q}=\\left[\\hat{q}_1\\hat{q}_2\\dots\\hat{q}_n\\right].\n",
    "$$"
   ]
  },
  {
   "cell_type": "markdown",
   "metadata": {},
   "source": [
    "## Eigenvalues and Lanczos' method, tridiagonal matrix\n",
    "The matrix"
   ]
  },
  {
   "cell_type": "markdown",
   "metadata": {},
   "source": [
    "$$\n",
    "\\hat{T}= \\hat{Q}^{T}\\hat{A}\\hat{Q},\n",
    "$$"
   ]
  },
  {
   "cell_type": "markdown",
   "metadata": {},
   "source": [
    "can be written as"
   ]
  },
  {
   "cell_type": "markdown",
   "metadata": {},
   "source": [
    "$$\n",
    "\\hat{T} = \\left(\\begin{array}{cccccc}\n",
    "                           \\alpha_1& \\beta_1 & 0 &\\dots   & \\dots &0 \\\\\n",
    "                           \\beta_1 & \\alpha_2 & \\beta_2 &0 &\\dots &0 \\\\\n",
    "                           0& \\beta_2 & \\alpha_3 & \\beta_3 & \\dots &0 \\\\\n",
    "                           \\dots& \\dots   & \\dots &\\dots   &\\dots & 0 \\\\\n",
    "                           \\dots&   &  &\\beta_{n-2}  &\\alpha_{n-1}& \\beta_{n-1} \\\\\n",
    "                           0&  \\dots  &\\dots  &0   &\\beta_{n-1} & \\alpha_{n} \\\\\n",
    "                      \\end{array} \\right)\n",
    "$$"
   ]
  },
  {
   "cell_type": "markdown",
   "metadata": {},
   "source": [
    "## Eigenvalues and Lanczos' method, tridiagonal and orthogonal matrices\n",
    "Using the fact that"
   ]
  },
  {
   "cell_type": "markdown",
   "metadata": {},
   "source": [
    "$$\n",
    "\\hat{Q}\\hat{Q}^T=\\hat{I},\n",
    "$$"
   ]
  },
  {
   "cell_type": "markdown",
   "metadata": {},
   "source": [
    "we can rewrite"
   ]
  },
  {
   "cell_type": "markdown",
   "metadata": {},
   "source": [
    "$$\n",
    "\\hat{T}= \\hat{Q}^{T}\\hat{A}\\hat{Q},\n",
    "$$"
   ]
  },
  {
   "cell_type": "markdown",
   "metadata": {},
   "source": [
    "as"
   ]
  },
  {
   "cell_type": "markdown",
   "metadata": {},
   "source": [
    "$$\n",
    "\\hat{Q}\\hat{T}= \\hat{A}\\hat{Q}.\n",
    "$$"
   ]
  },
  {
   "cell_type": "markdown",
   "metadata": {},
   "source": [
    "## Eigenvalues and Lanczos' method\n",
    "If we equate columns"
   ]
  },
  {
   "cell_type": "markdown",
   "metadata": {},
   "source": [
    "$$\n",
    "\\hat{T} = \\left(\\begin{array}{cccccc}\n",
    "        \\alpha_1& \\beta_1 & 0 &\\dots   & \\dots &0 \\\\\n",
    "        \\beta_1 & \\alpha_2 & \\beta_2 &0 &\\dots &0 \\\\\n",
    "        0& \\beta_2 & \\alpha_3 & \\beta_3 & \\dots &0 \\\\\n",
    "        \\dots& \\dots   & \\dots &\\dots   &\\dots & 0 \\\\\n",
    "        \\dots&   &  &\\beta_{n-2}  &\\alpha_{n-1}& \\beta_{n-1} \\\\\n",
    "        0&  \\dots  &\\dots  &0   &\\beta_{n-1} & \\alpha_{n} \\\\\n",
    "        \\end{array} \\right)\n",
    "$$"
   ]
  },
  {
   "cell_type": "markdown",
   "metadata": {},
   "source": [
    "we obtain"
   ]
  },
  {
   "cell_type": "markdown",
   "metadata": {},
   "source": [
    "$$\n",
    "\\hat{A}\\hat{q}_k=\\beta_{k-1}\\hat{q}_{k-1}+\\alpha_k\\hat{q}_k+\\beta_k\\hat{q}_{k+1}.\n",
    "$$"
   ]
  },
  {
   "cell_type": "markdown",
   "metadata": {},
   "source": [
    "## Eigenvalues and Lanczos' method, defining the Lanczos' vectors\n",
    "We have thus"
   ]
  },
  {
   "cell_type": "markdown",
   "metadata": {},
   "source": [
    "$$\n",
    "\\hat{A}\\hat{q}_k=\\beta_{k-1}\\hat{q}_{k-1}+\\alpha_k\\hat{q}_k+\\beta_k\\hat{q}_{k+1},\n",
    "$$"
   ]
  },
  {
   "cell_type": "markdown",
   "metadata": {},
   "source": [
    "with $\\beta_0\\hat{q}_0=0$ for $k=1:n-1$. Remember that the vectors $\\hat{q}_k$  are orthornormal and this implies"
   ]
  },
  {
   "cell_type": "markdown",
   "metadata": {},
   "source": [
    "$$\n",
    "\\alpha_k=\\hat{q}_k^T\\hat{A}\\hat{q}_k,\n",
    "$$"
   ]
  },
  {
   "cell_type": "markdown",
   "metadata": {},
   "source": [
    "and these vectors are called Lanczos vectors.\n",
    "\n",
    "\n",
    "\n",
    "\n",
    "## Eigenvalues and Lanczos' method, basic steps\n",
    "We have thus"
   ]
  },
  {
   "cell_type": "markdown",
   "metadata": {},
   "source": [
    "$$\n",
    "\\hat{A}\\hat{q}_k=\\beta_{k-1}\\hat{q}_{k-1}+\\alpha_k\\hat{q}_k+\\beta_k\\hat{q}_{k+1},\n",
    "$$"
   ]
  },
  {
   "cell_type": "markdown",
   "metadata": {},
   "source": [
    "with $\\beta_0\\hat{q}_0=0$ for $k=1:n-1$ and"
   ]
  },
  {
   "cell_type": "markdown",
   "metadata": {},
   "source": [
    "$$\n",
    "\\alpha_k=\\hat{q}_k^T\\hat{A}\\hat{q}_k.\n",
    "$$"
   ]
  },
  {
   "cell_type": "markdown",
   "metadata": {},
   "source": [
    "If"
   ]
  },
  {
   "cell_type": "markdown",
   "metadata": {},
   "source": [
    "$$\n",
    "\\hat{r}_k=(\\hat{A}-\\alpha_k\\hat{I})\\hat{q}_k-\\beta_{k-1}\\hat{q}_{k-1},\n",
    "$$"
   ]
  },
  {
   "cell_type": "markdown",
   "metadata": {},
   "source": [
    "is non-zero, then"
   ]
  },
  {
   "cell_type": "markdown",
   "metadata": {},
   "source": [
    "$$\n",
    "\\hat{q}_{k+1}=\\hat{r}_{k}/\\beta_k,\n",
    "$$"
   ]
  },
  {
   "cell_type": "markdown",
   "metadata": {},
   "source": [
    "with $\\beta_k=\\pm ||\\hat{r}_{k}||_2$."
   ]
  }
 ],
 "metadata": {},
 "nbformat": 4,
 "nbformat_minor": 4
}
