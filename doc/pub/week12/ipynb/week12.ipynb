{
 "cells": [
  {
   "cell_type": "markdown",
   "id": "8a5bb126",
   "metadata": {
    "editable": true
   },
   "source": [
    "<!-- HTML file automatically generated from DocOnce source (https://github.com/doconce/doconce/)\n",
    "doconce format html week12.do.txt --no_mako --no_abort -->\n",
    "<!-- dom:TITLE: Week 14 April 4-8: Neural networks and project 2 -->"
   ]
  },
  {
   "cell_type": "markdown",
   "id": "fa41c242",
   "metadata": {
    "editable": true
   },
   "source": [
    "# Week 14 April 4-8: Neural networks and project 2\n",
    "**Morten Hjorth-Jensen  Email morten.hjorth-jensen@fys.uio.no**, Department of Physics and Center fo Computing in Science Education, University of Oslo, Oslo, Norway and Department of Physics and Astronomy and Facility for Rare Ion Beams, Michigan State University, East Lansing, Michigan, USA\n",
    "\n",
    "Date: **Apr 7, 2022**\n",
    "\n",
    "Copyright 1999-2022, Morten Hjorth-Jensen  Email morten.hjorth-jensen@fys.uio.no. Released under CC Attribution-NonCommercial 4.0 license"
   ]
  },
  {
   "cell_type": "markdown",
   "id": "a1df7f2c",
   "metadata": {
    "editable": true
   },
   "source": [
    "## Overview of week 14, April 4-8\n",
    "* We have two project groups based on the selection below\n",
    "\n",
    "a. Neural Networks and Boltzmann Machines with [material](http://compphysics.github.io/ComputationalPhysics2/doc/LectureNotes/_build/html/boltzmannmachines.html)\n",
    "\n",
    "b. Path integral Monte Carlo project\n",
    "\n",
    "* [Video of lecture](https://youtu.be/EXOIsfPWxgk)\n",
    "\n",
    "* [Handwritten notes](https://github.com/CompPhysics/ComputationalPhysics2/blob/gh-pages/doc/HandWrittenNotes/2022/NotesApril7.pdf)\n",
    "\n",
    "**Schedule.**\n",
    "\n",
    "Since the majority of you plan to work on neural networks and Boltzmann machines, we will have lectures on this topic for the rest of the semester.\n",
    "We meet each Thursday at 2.15pm for theory lectures and discussions till approx 4pm. The remaining three hours are dedicated to project work."
   ]
  },
  {
   "cell_type": "markdown",
   "id": "4f71d85e",
   "metadata": {
    "editable": true
   },
   "source": [
    "## Alternatives for project 2\n",
    "1. Fermion VMC, continuation of project 1\n",
    "\n",
    "2. Deep learning applied to project 1, either neural networks or Boltzmann machines\n",
    "\n",
    "3. Hartree-Fock theory and time-dependent theories\n",
    "\n",
    "4. Many-body methods like coupled-cluster theory or other many-body methods\n",
    "\n",
    "5. Quantum computing and possibly quantum machine learning\n",
    "\n",
    "6. Suggestions from you"
   ]
  }
 ],
 "metadata": {},
 "nbformat": 4,
 "nbformat_minor": 5
}
