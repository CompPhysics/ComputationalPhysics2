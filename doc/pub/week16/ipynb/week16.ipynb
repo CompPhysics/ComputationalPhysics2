{
 "cells": [
  {
   "cell_type": "markdown",
   "id": "7775aaa3",
   "metadata": {
    "editable": true
   },
   "source": [
    "<!-- HTML file automatically generated from DocOnce source (https://github.com/doconce/doconce/)\n",
    "doconce format html week16.do.txt --no_mako --no_abort -->\n",
    "<!-- dom:TITLE: Summary of course and discussions of project two -->"
   ]
  },
  {
   "cell_type": "markdown",
   "id": "13a8d162",
   "metadata": {
    "editable": true
   },
   "source": [
    "# Summary of course and discussions of project two\n",
    "**Morten Hjorth-Jensen  Email morten.hjorth-jensen@fys.uio.no**, Department of Physics and Center fo Computing in Science Education, University of Oslo, Oslo, Norway\n",
    "\n",
    "Date: **May 16, 2025**"
   ]
  },
  {
   "cell_type": "markdown",
   "id": "2446bc30",
   "metadata": {
    "editable": true
   },
   "source": [
    "## Overview of week May 12-16\n",
    "1. Summary of course and work on project 2"
   ]
  }
 ],
 "metadata": {},
 "nbformat": 4,
 "nbformat_minor": 5
}
