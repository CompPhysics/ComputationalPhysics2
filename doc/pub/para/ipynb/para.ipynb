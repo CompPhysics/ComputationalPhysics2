{
 "cells": [
  {
   "cell_type": "markdown",
   "metadata": {},
   "source": [
    "<!-- dom:TITLE: Computational Physics Lectures: How to optimize codes, from vectorization to parallelization -->\n",
    "# Computational Physics Lectures: How to optimize codes, from vectorization to parallelization\n",
    "<!-- dom:AUTHOR: Morten Hjorth-Jensen at Department of Physics, University of Oslo & Department of Physics and Astronomy and National Superconducting Cyclotron Laboratory, Michigan State University -->\n",
    "<!-- Author: --> **Morten Hjorth-Jensen**, Department of Physics, University of Oslo and Department of Physics and Astronomy and National Superconducting Cyclotron Laboratory, Michigan State University\n",
    "\n",
    "Date: **2017**\n",
    "\n",
    "## Content\n",
    "* Simple compiler options \n",
    "\n",
    "* Tools to benchmark your code\n",
    "\n",
    "* Machine architectures\n",
    "\n",
    "* What is vectorization?\n",
    "\n",
    "* How to measure code performance\n",
    "\n",
    "* Parallelization with OpenMP\n",
    "\n",
    "* Parallelization with MPI\n",
    "\n",
    "* Vectorization and parallelization, examples\n",
    "\n",
    "## Optimization and profiling\n",
    "\n",
    "\n",
    "Till now we have not paid much attention to speed and possible optimization possibilities\n",
    "inherent in the various compilers. We have compiled and linked as"
   ]
  },
  {
   "cell_type": "markdown",
   "metadata": {},
   "source": [
    "        c++  -c  mycode.cpp\n",
    "        c++  -o  mycode.exe  mycode.o\n"
   ]
  },
  {
   "cell_type": "markdown",
   "metadata": {},
   "source": [
    "For Fortran replace with for example **gfortran** or **ifort**.\n",
    "This is what we call a flat compiler option and should be used when we develop the code.\n",
    "It produces normally a very large and slow code when translated to machine instructions.\n",
    "We use this option for debugging and for establishing the correct program output because\n",
    "every operation is done precisely as the user specified it.\n",
    "\n",
    "It is instructive to look up the compiler manual for further instructions by writing"
   ]
  },
  {
   "cell_type": "markdown",
   "metadata": {},
   "source": [
    "        man c++\n"
   ]
  },
  {
   "cell_type": "markdown",
   "metadata": {},
   "source": [
    "## More on optimization\n",
    "We have additional compiler options for optimization. These may include procedure inlining where \n",
    "performance may be improved, moving constants inside loops outside the loop, \n",
    "identify potential parallelism, include automatic vectorization or replace a division with a reciprocal\n",
    "and a multiplication if this speeds up the code."
   ]
  },
  {
   "cell_type": "markdown",
   "metadata": {},
   "source": [
    "        c++  -O3 -c  mycode.cpp\n",
    "        c++  -O3 -o  mycode.exe  mycode.o\n"
   ]
  },
  {
   "cell_type": "markdown",
   "metadata": {},
   "source": [
    "This (other options are -O2 or -Ofast) is the recommended option.\n",
    "\n",
    "\n",
    "## Optimization and profiling\n",
    "It is also useful to profile your program under the development stage.\n",
    "You would then compile with"
   ]
  },
  {
   "cell_type": "markdown",
   "metadata": {},
   "source": [
    "        c++  -pg -O3 -c  mycode.cpp\n",
    "        c++  -pg -O3 -o  mycode.exe  mycode.o\n"
   ]
  },
  {
   "cell_type": "markdown",
   "metadata": {},
   "source": [
    "After you have run the code you can obtain the profiling information via"
   ]
  },
  {
   "cell_type": "markdown",
   "metadata": {},
   "source": [
    "        gprof mycode.exe >  ProfileOutput\n"
   ]
  },
  {
   "cell_type": "markdown",
   "metadata": {},
   "source": [
    "When you have profiled properly your code, you must take out this option as it \n",
    "slows down performance.\n",
    "For memory tests use [valgrind](http://www.valgrind.org). An excellent environment for all these aspects, and much  more, is  Qt creator.\n",
    "\n",
    "\n",
    "\n",
    "## Optimization and debugging\n",
    "Adding debugging options is a very useful alternative under the development stage of a program.\n",
    "You would then compile with"
   ]
  },
  {
   "cell_type": "markdown",
   "metadata": {},
   "source": [
    "        c++  -g -O0 -c  mycode.cpp\n",
    "        c++  -g -O0 -o  mycode.exe  mycode.o\n"
   ]
  },
  {
   "cell_type": "markdown",
   "metadata": {},
   "source": [
    "This option generates debugging information allowing you to trace for example if an array is properly allocated. Some compilers work best with the no optimization option **-O0**.\n",
    "\n",
    "\n",
    "**Other optimization flags.**\n",
    "\n",
    "Depending on the compiler, one can add flags which generate code that catches integer overflow errors. \n",
    "The flag **-ftrapv** does this for the CLANG compiler on OS X operating systems.\n",
    "\n",
    "\n",
    "\n",
    "\n",
    "\n",
    "## Other hints\n",
    "In general, irrespective of compiler options, it is useful to\n",
    "* avoid if tests or call to functions inside loops, if possible. \n",
    "\n",
    "* avoid multiplication with constants inside loops if possible\n",
    "\n",
    "Here is an example of a part of a program where specific operations lead to a slower code"
   ]
  },
  {
   "cell_type": "markdown",
   "metadata": {},
   "source": [
    "        k = n-1;\n",
    "        for (i = 0; i < n; i++){\n",
    "            a[i] = b[i] +c*d;\n",
    "            e = g[k];\n",
    "        }\n"
   ]
  },
  {
   "cell_type": "markdown",
   "metadata": {},
   "source": [
    "A better code is"
   ]
  },
  {
   "cell_type": "markdown",
   "metadata": {},
   "source": [
    "        temp = c*d;\n",
    "        for (i = 0; i < n; i++){\n",
    "            a[i] = b[i] + temp;\n",
    "        }\n",
    "        e = g[n-1];\n"
   ]
  },
  {
   "cell_type": "markdown",
   "metadata": {},
   "source": [
    "Here we avoid a repeated multiplication inside a loop. \n",
    "Most compilers, depending on compiler flags, identify and optimize such bottlenecks on their own, without requiring any particular action by the programmer. However, it is always useful to single out and avoid code examples like the first one discussed here.\n",
    "\n",
    "\n",
    "\n",
    "## Vectorization and the basic idea behind parallel computing\n",
    "Present CPUs are highly parallel processors with varying levels of parallelism. The typical situation can be described via the following three statements.\n",
    "* Pursuit of shorter computation time and larger simulation size gives rise to parallel computing.\n",
    "\n",
    "* Multiple processors are involved to solve a global problem.\n",
    "\n",
    "* The essence is to divide the entire computation evenly among collaborative processors.  Divide and conquer.\n",
    "\n",
    "Before we proceed with a more detailed discussion of topics like vectorization and parallelization, we need to remind ourselves about some basic features of different hardware models.\n",
    "\n",
    "\n",
    "\n",
    "## A rough classification of hardware models\n",
    "\n",
    "* Conventional single-processor computers are named SISD (single-instruction-single-data) machines.\n",
    "\n",
    "* SIMD (single-instruction-multiple-data) machines incorporate the idea of parallel processing, using a large number of processing units to execute the same instruction on different data.\n",
    "\n",
    "* Modern parallel computers are so-called MIMD (multiple-instruction-multiple-data) machines and can execute different instruction streams in parallel on different data.\n",
    "\n",
    "\n",
    "## Shared memory and distributed memory\n",
    "One way of categorizing modern parallel computers is to look at the memory configuration.\n",
    "* In shared memory systems the CPUs share the same address space. Any CPU can access any data in the global memory.\n",
    "\n",
    "* In distributed memory systems each CPU has its own memory.\n",
    "\n",
    "The CPUs are connected by some network and may exchange messages.\n",
    "\n",
    "\n",
    "\n",
    "## Different parallel programming paradigms\n",
    "\n",
    "* **Task parallelism**:  the work of a global problem can be divided into a number of independent tasks, which rarely need to synchronize.  Monte Carlo simulations represent a typical situation. Integration is another. However this paradigm is of limited use.\n",
    "\n",
    "* **Data parallelism**:  use of multiple threads (e.g. one or more threads per processor) to dissect loops over arrays etc.  Communication and synchronization between processors are often hidden, thus easy to program. However, the user surrenders much control to a specialized compiler. Examples of data parallelism are compiler-based parallelization and OpenMP directives.\n",
    "\n",
    "\n",
    "## Different parallel programming paradigms\n",
    "\n",
    "* **Message passing**:  all involved processors have an independent memory address space. The user is responsible for  partitioning the data/work of a global problem and distributing the  subproblems to the processors. Collaboration between processors is achieved by explicit message passing, which is used for data transfer plus synchronization.\n",
    "\n",
    "* This paradigm is the most general one where the user has full control. Better parallel efficiency is usually achieved by explicit message passing. However, message-passing programming is more difficult.\n",
    "\n",
    "\n",
    "\n",
    "\n",
    "<!-- !split  -->\n",
    "## What is vectorization?\n",
    "Vectorization is a special\n",
    "case of **Single Instructions Multiple Data** (SIMD) to denote a single\n",
    "instruction stream capable of operating on multiple data elements in\n",
    "parallel. \n",
    "We can think of vectorization as the unrolling of loops accompanied with SIMD instructions.\n",
    "\n",
    "Vectorization is the process of converting an algorithm that performs scalar operations\n",
    "(typically one operation at the time) to vector operations where a single operation can refer to many simultaneous operations.\n",
    "Consider the following example"
   ]
  },
  {
   "cell_type": "markdown",
   "metadata": {},
   "source": [
    "        for (i = 0; i < n; i++){\n",
    "            a[i] = b[i] + c[i];\n",
    "        }\n"
   ]
  },
  {
   "cell_type": "markdown",
   "metadata": {},
   "source": [
    "If the code is not vectorized, the compiler will simply start with the first element and \n",
    "then perform subsequent additions operating on one address in memory at the time. \n",
    "\n",
    "<!-- !split  -->\n",
    "## Number of elements that can acted upon\n",
    "A SIMD instruction can operate  on multiple data elements in one single instruction.\n",
    "It uses the so-called 128-bit SIMD floating-point register. \n",
    "In this sense, vectorization adds some form of parallelism since one instruction is applied  \n",
    "to many parts of say a vector.\n",
    "\n",
    "The number of elements which can be operated on in parallel\n",
    "range from four single-precision floating point data elements in so-called \n",
    "Streaming SIMD Extensions and two double-precision floating-point data\n",
    "elements in Streaming SIMD Extensions 2 to sixteen byte operations in\n",
    "a 128-bit register in Streaming SIMD Extensions 2. Thus, vector-length\n",
    "ranges from 2 to 16, depending on the instruction extensions used and\n",
    "on the data type. \n",
    "\n",
    "IN summary, our instructions  operate on 128 bit (16 byte) operands\n",
    "* 4 floats or ints\n",
    "\n",
    "* 2 doubles\n",
    "\n",
    "* Data paths 128 bits vide for vector unit\n",
    "\n",
    "<!-- !split  -->\n",
    "## Number of elements that can acted upon, examples\n",
    "We start with the simple scalar operations given by"
   ]
  },
  {
   "cell_type": "markdown",
   "metadata": {},
   "source": [
    "        for (i = 0; i < n; i++){\n",
    "            a[i] = b[i] + c[i];\n",
    "        }\n"
   ]
  },
  {
   "cell_type": "markdown",
   "metadata": {},
   "source": [
    "If the code is not vectorized  and we have a 128-bit register to store a 32 bits floating point number,\n",
    "it means that we have $3\\times 32$ bits that are not used. For the first element we have\n",
    "\n",
    "\n",
    "<table border=\"1\">\n",
    "<thead>\n",
    "<tr><th align=\"center\">  0  </th> <th align=\"center\">   1    </th> <th align=\"center\">   2    </th> <th align=\"center\">   3    </th> </tr>\n",
    "</thead>\n",
    "<tbody>\n",
    "<tr><td align=\"center\">   a[0]=    </td> <td align=\"center\">   not used    </td> <td align=\"center\">   not used    </td> <td align=\"center\">   not used    </td> </tr>\n",
    "<tr><td align=\"center\">   b[0]+    </td> <td align=\"center\">   not used    </td> <td align=\"center\">   not used    </td> <td align=\"center\">   not used    </td> </tr>\n",
    "<tr><td align=\"center\">   c[0]     </td> <td align=\"center\">   not used    </td> <td align=\"center\">   not used    </td> <td align=\"center\">   not used    </td> </tr>\n",
    "</tbody>\n",
    "</table>\n",
    "We have thus unused space in our SIMD registers. These registers could hold three additional integers.\n",
    "\n",
    "\n",
    "<!-- !split  -->\n",
    "## Operation counts for scalar operation\n",
    "The code"
   ]
  },
  {
   "cell_type": "markdown",
   "metadata": {},
   "source": [
    "        for (i = 0; i < n; i++){\n",
    "            a[i] = b[i] + c[i];\n",
    "        }\n"
   ]
  },
  {
   "cell_type": "markdown",
   "metadata": {},
   "source": [
    "has for $n$ repeats\n",
    "1. one load for $c[i]$ in address 1\n",
    "\n",
    "2. one load for $b[i]$ in address 2\n",
    "\n",
    "3. add $c[i]$ and $b[i]$ to give $a[i]$\n",
    "\n",
    "4. store $a[i]$ in address 2\n",
    "\n",
    "<!-- !split  -->\n",
    "## Number of elements that can acted upon, examples\n",
    "If we vectorize the code, we can perform, with a 128-bit register four simultaneous operations, that is\n",
    "we have"
   ]
  },
  {
   "cell_type": "markdown",
   "metadata": {},
   "source": [
    "        for (i = 0; i < n; i+=4){\n",
    "            a[i] = b[i] + c[i];\n",
    "            a[i+1] = b[i+1] + c[i+1];\n",
    "            a[i+2] = b[i+2] + c[i+2];\n",
    "            a[i+3] = b[i+3] + c[i+3];\n",
    "        }\n"
   ]
  },
  {
   "cell_type": "markdown",
   "metadata": {},
   "source": [
    "displayed here as\n",
    "\n",
    "<table border=\"1\">\n",
    "<thead>\n",
    "<tr><th align=\"center\">  0  </th> <th align=\"center\">  1  </th> <th align=\"center\">  2  </th> <th align=\"center\">  3  </th> </tr>\n",
    "</thead>\n",
    "<tbody>\n",
    "<tr><td align=\"center\">   a[0]=    </td> <td align=\"center\">   a[1]=    </td> <td align=\"center\">   a[2]=    </td> <td align=\"center\">   a[3]=    </td> </tr>\n",
    "<tr><td align=\"center\">   b[0]+    </td> <td align=\"center\">   b[1]+    </td> <td align=\"center\">   b[2]+    </td> <td align=\"center\">   b[3]+    </td> </tr>\n",
    "<tr><td align=\"center\">   c[0]     </td> <td align=\"center\">   c[1]     </td> <td align=\"center\">   c[2]     </td> <td align=\"center\">   c[3]     </td> </tr>\n",
    "</tbody>\n",
    "</table>\n",
    "Four additions are now done in a single step.\n",
    "\n",
    "<!-- !split  -->\n",
    "## Number of operations when vectorized\n",
    "For $n/4$ repeats assuming floats or integers\n",
    "1. one vector load for $c[i]$ in address 1\n",
    "\n",
    "2. one load for $b[i]$ in address 2\n",
    "\n",
    "3. add $c[i]$ and $b[i]$ to give $a[i]$\n",
    "\n",
    "4. store $a[i]$ in address 2\n",
    "\n",
    "## [A simple test case with and without vectorization](https://github.com/CompPhysics/ComputationalPhysicsMSU/blob/master/doc/Programs/LecturePrograms/programs/Classes/cpp/program7.cpp)\n",
    "We implement these operations in a simple c++ program that computes at the end the norm of a vector."
   ]
  },
  {
   "cell_type": "markdown",
   "metadata": {},
   "source": [
    "        #include <cstdlib>\n",
    "        #include <iostream>\n",
    "        #include <cmath>\n",
    "        #include <iomanip>\n",
    "        #include \"time.h\"\n",
    "        \n",
    "        using namespace std; // note use of namespace\n",
    "        int main (int argc, char* argv[])\n",
    "        {\n",
    "          // read in dimension of square matrix\n",
    "          int n = atoi(argv[1]);\n",
    "          double s = 1.0/sqrt( (double) n);\n",
    "          double *a, *b, *c;\n",
    "          // Start timing\n",
    "          clock_t start, finish;\n",
    "          start = clock();\n",
    "        // Allocate space for the vectors to be used\n",
    "            a = new double [n]; b = new double [n]; c = new double [n];\n",
    "          // Define parallel region\n",
    "          // Set up values for vectors  a and b\n",
    "          for (int i = 0; i < n; i++){\n",
    "            double angle = 2.0*M_PI*i/ (( double ) n);\n",
    "            a[i] = s*(sin(angle) + cos(angle));\n",
    "            b[i] =  s*sin(2.0*angle);\n",
    "            c[i] = 0.0;\n",
    "          }\n",
    "          // Then perform the vector addition\n",
    "          for (int i = 0; i < n; i++){\n",
    "            c[i] += a[i]+b[i];\n",
    "          }\n",
    "          // Compute now the norm-2\n",
    "          double Norm2 = 0.0;\n",
    "          for (int i = 0; i < n; i++){\n",
    "            Norm2  += c[i]*c[i];\n",
    "          }\n",
    "          finish = clock();\n",
    "          double timeused = (double) (finish - start)/(CLOCKS_PER_SEC );\n",
    "          cout << setiosflags(ios::showpoint | ios::uppercase);\n",
    "          cout << setprecision(10) << setw(20) << \"Time used  for norm computation=\" << timeused  << endl;\n",
    "          cout << \"  Norm-2  = \" << Norm2 << endl;\n",
    "          // Free up space\n",
    "          delete[] a;\n",
    "          delete[] b;\n",
    "          delete[] c;\n",
    "          return 0;\n",
    "        }\n",
    "        \n",
    "        \n",
    "        \n",
    "        \n"
   ]
  },
  {
   "cell_type": "markdown",
   "metadata": {},
   "source": [
    "<!-- !split  -->\n",
    "## Compiling with and without vectorization\n",
    "We can compile and link without vectorization using the clang c++ compiler"
   ]
  },
  {
   "cell_type": "markdown",
   "metadata": {},
   "source": [
    "        clang -o novec.x vecexample.cpp\n"
   ]
  },
  {
   "cell_type": "markdown",
   "metadata": {},
   "source": [
    "and with vectorization (and additional optimizations)"
   ]
  },
  {
   "cell_type": "markdown",
   "metadata": {},
   "source": [
    "        clang++ -O3 -Rpass=loop-vectorize -o  vec.x vecexample.cpp \n"
   ]
  },
  {
   "cell_type": "markdown",
   "metadata": {},
   "source": [
    "The speedup depends on the size of the vectors. In the example here we have run with $10^7$ elements.\n",
    "The example here was run on an IMac17.1 with OSX El Capitan (10.11.4) as operating system and an Intel i5 3.3 GHz CPU."
   ]
  },
  {
   "cell_type": "markdown",
   "metadata": {},
   "source": [
    "        Compphys:~ hjensen$ ./vec.x 10000000\n",
    "        Time used  for norm computation=0.04720500000\n",
    "        Compphys:~ hjensen$ ./novec.x 10000000\n",
    "        Time used  for norm computation=0.03311700000\n"
   ]
  },
  {
   "cell_type": "markdown",
   "metadata": {},
   "source": [
    "This particular C++ compiler speeds up the above loop operations with a factor of 1.5 \n",
    "Performing the same operations for $10^9$ elements results in a smaller speedup since reading from main memory is required. The non-vectorized code is seemingly faster."
   ]
  },
  {
   "cell_type": "markdown",
   "metadata": {},
   "source": [
    "        Compphys:~ hjensen$ ./vec.x 1000000000\n",
    "        Time used  for norm computation=58.41391100\n",
    "        Compphys:~ hjensen$ ./novec.x 1000000000\n",
    "        Time used  for norm computation=46.51295300\n"
   ]
  },
  {
   "cell_type": "markdown",
   "metadata": {},
   "source": [
    "We will discuss these issues further in the next slides.  \n",
    "\n",
    "\n",
    "<!-- !split  -->\n",
    "## Compiling with and without vectorization using clang\n",
    "We can compile and link without vectorization with clang compiler"
   ]
  },
  {
   "cell_type": "markdown",
   "metadata": {},
   "source": [
    "        clang++ -o -fno-vectorize novec.x vecexample.cpp\n"
   ]
  },
  {
   "cell_type": "markdown",
   "metadata": {},
   "source": [
    "and with vectorization"
   ]
  },
  {
   "cell_type": "markdown",
   "metadata": {},
   "source": [
    "        clang++ -O3 -Rpass=loop-vectorize -o  vec.x vecexample.cpp \n"
   ]
  },
  {
   "cell_type": "markdown",
   "metadata": {},
   "source": [
    "We can also add vectorization analysis, see for example"
   ]
  },
  {
   "cell_type": "markdown",
   "metadata": {},
   "source": [
    "        clang++ -O3 -Rpass-analysis=loop-vectorize -o  vec.x vecexample.cpp \n"
   ]
  },
  {
   "cell_type": "markdown",
   "metadata": {},
   "source": [
    "or figure out if vectorization was missed"
   ]
  },
  {
   "cell_type": "markdown",
   "metadata": {},
   "source": [
    "        clang++ -O3 -Rpass-missed=loop-vectorize -o  vec.x vecexample.cpp \n"
   ]
  },
  {
   "cell_type": "markdown",
   "metadata": {},
   "source": [
    "## Automatic vectorization and vectorization inhibitors, criteria\n",
    "\n",
    "Not all loops can be vectorized, as discussed in [Intel's guide to vectorization](https://software.intel.com/en-us/articles/a-guide-to-auto-vectorization-with-intel-c-compilers)\n",
    "\n",
    "An important criteria is that the loop counter $n$ is known at the entry of the loop."
   ]
  },
  {
   "cell_type": "markdown",
   "metadata": {},
   "source": [
    "          for (int j = 0; j < n; j++) {\n",
    "            a[j] = cos(j*1.0);\n",
    "          }\n"
   ]
  },
  {
   "cell_type": "markdown",
   "metadata": {},
   "source": [
    "The variable $n$ does need to be known at compile time. However, this variable must stay the same for the entire duration of the loop. It implies that an exit statement inside the loop cannot be data dependent.\n",
    "\n",
    "## Automatic vectorization and vectorization inhibitors, exit criteria\n",
    "\n",
    "An exit statement should in general be avoided. \n",
    "If the exit statement contains data-dependent conditions, the loop cannot be vectorized. \n",
    "The following is an example of a non-vectorizable loop"
   ]
  },
  {
   "cell_type": "markdown",
   "metadata": {},
   "source": [
    "          for (int j = 0; j < n; j++) {\n",
    "            a[j] = cos(j*1.0);\n",
    "            if (a[j] < 0 ) break;\n",
    "          }\n"
   ]
  },
  {
   "cell_type": "markdown",
   "metadata": {},
   "source": [
    "Avoid loop termination conditions and opt for a single entry loop variable $n$. The lower and upper bounds have to be kept fixed within the loop. \n",
    "\n",
    "## Automatic vectorization and vectorization inhibitors, straight-line code\n",
    "\n",
    "SIMD instructions perform the same type of operations multiple times. \n",
    "A **switch** statement leads thus to a non-vectorizable loop since different statemens cannot branch.\n",
    "The following code can however be vectorized since the **if** statement is implemented as a masked assignment."
   ]
  },
  {
   "cell_type": "markdown",
   "metadata": {},
   "source": [
    "          for (int j = 0; j < n; j++) {\n",
    "            double x  = cos(j*1.0);\n",
    "            if (x > 0 ) {\n",
    "               a[j] =  x*sin(j*2.0); \n",
    "            }\n",
    "            else {\n",
    "               a[j] = 0.0;\n",
    "            }\n",
    "          }\n"
   ]
  },
  {
   "cell_type": "markdown",
   "metadata": {},
   "source": [
    "These operations can be performed for all data elements but only those elements which the mask evaluates as true are stored. In general, one should avoid branches such as **switch**, **go to**, or **return** statements or **if** constructs that cannot be treated as masked assignments. \n",
    "\n",
    "\n",
    "## Automatic vectorization and vectorization inhibitors, nested loops\n",
    "\n",
    "Only the innermost loop of the following example is vectorized"
   ]
  },
  {
   "cell_type": "markdown",
   "metadata": {},
   "source": [
    "          for (int i = 0; i < n; i++) {\n",
    "              for (int j = 0; j < n; j++) {\n",
    "                   a[i][j] += b[i][j];\n",
    "              }  \n",
    "          }\n"
   ]
  },
  {
   "cell_type": "markdown",
   "metadata": {},
   "source": [
    "The exception is if an original outer loop is transformed into an inner loop as the result of compiler optimizations.\n",
    "\n",
    "\n",
    "## Automatic vectorization and vectorization inhibitors, function calls\n",
    "\n",
    "Calls to programmer defined functions ruin vectorization. However, calls to intrinsic functions like\n",
    "$\\sin{x}$, $\\cos{x}$, $\\exp{x}$ etc are allowed since they are normally efficiently vectorized. \n",
    "The following example is fully vectorizable"
   ]
  },
  {
   "cell_type": "markdown",
   "metadata": {},
   "source": [
    "          for (int i = 0; i < n; i++) {\n",
    "              a[i] = log10(i)*cos(i);\n",
    "          }\n"
   ]
  },
  {
   "cell_type": "markdown",
   "metadata": {},
   "source": [
    "Similarly, **inline** functions defined by the programmer, allow for vectorization since the function statements are glued into the actual place where the function is called. \n",
    "\n",
    "\n",
    "## Automatic vectorization and vectorization inhibitors, data dependencies\n",
    "\n",
    "One has to keep in mind that vectorization changes the order of operations inside a loop. A so-called\n",
    "read-after-write statement with an explicit flow dependency cannot be vectorized. The following code"
   ]
  },
  {
   "cell_type": "markdown",
   "metadata": {},
   "source": [
    "          double b = 15.;\n",
    "          for (int i = 1; i < n; i++) {\n",
    "              a[i] = a[i-1] + b;\n",
    "          }\n"
   ]
  },
  {
   "cell_type": "markdown",
   "metadata": {},
   "source": [
    "is an example of flow dependency and results in wrong numerical results if vectorized. For a scalar operation, the value $a[i-1]$ computed during the iteration is loaded into the right-hand side and the results are fine. In vector mode however, with a vector length of four, the values $a[0]$, $a[1]$, $a[2]$ and $a[3]$ from the previous loop will be loaded into the right-hand side and produce wrong results. That is, we have"
   ]
  },
  {
   "cell_type": "markdown",
   "metadata": {},
   "source": [
    "           a[1] = a[0] + b;\n",
    "           a[2] = a[1] + b;\n",
    "           a[3] = a[2] + b;\n",
    "           a[4] = a[3] + b;\n"
   ]
  },
  {
   "cell_type": "markdown",
   "metadata": {},
   "source": [
    "and if the two first iterations are  executed at the same by the SIMD instruction, the value of say $a[1]$ could be used by the second iteration before it has been calculated by the first iteration, leading thereby to wrong results.\n",
    "\n",
    "## Automatic vectorization and vectorization inhibitors, more data dependencies\n",
    "\n",
    "On the other hand,  a so-called \n",
    "write-after-read statement can be vectorized. The following code"
   ]
  },
  {
   "cell_type": "markdown",
   "metadata": {},
   "source": [
    "          double b = 15.;\n",
    "          for (int i = 1; i < n; i++) {\n",
    "              a[i-1] = a[i] + b;\n",
    "          }\n"
   ]
  },
  {
   "cell_type": "markdown",
   "metadata": {},
   "source": [
    "is an example of flow dependency that can be vectorized since no iteration with a higher value of $i$\n",
    "can complete before an iteration with a lower value of $i$. However, such code leads to problems with parallelization.\n",
    "\n",
    "\n",
    "## Automatic vectorization and vectorization inhibitors, memory stride\n",
    "\n",
    "\n",
    "For C++ programmers  it is also worth keeping in mind that an array notation is preferred to the more compact use of pointers to access array elements. The compiler can often not tell if it is safe to vectorize the code. \n",
    "\n",
    "When dealing with arrays, you should also avoid memory stride, since this slows down considerably vectorization. When you access array element, write for example the inner loop to vectorize using unit stride, that is, access successively the next array element in memory, as shown here"
   ]
  },
  {
   "cell_type": "markdown",
   "metadata": {},
   "source": [
    "          for (int i = 0; i < n; i++) {\n",
    "              for (int j = 0; j < n; j++) {\n",
    "                   a[i][j] += b[i][j];\n",
    "              }  \n",
    "          }\n"
   ]
  },
  {
   "cell_type": "markdown",
   "metadata": {},
   "source": [
    "## Memory management\n",
    "The main memory contains the program data\n",
    "1. Cache memory contains a copy of the main memory data\n",
    "\n",
    "2. Cache is faster but consumes more space and power. It is normally assumed to be much faster than main memory\n",
    "\n",
    "3. Registers contain working data only\n",
    "\n",
    " * Modern CPUs perform most or all operations only on data in register\n",
    "\n",
    "\n",
    "4. Multiple Cache memories contain a copy of the main memory data\n",
    "\n",
    " * Cache items accessed by their address in main memory\n",
    "\n",
    " * L1 cache is the fastest but has the least capacity\n",
    "\n",
    " * L2, L3 provide intermediate performance/size tradeoffs\n",
    "\n",
    "\n",
    "Loads and stores to memory can be as important as floating point operations when we measure performance.\n",
    "\n",
    "\n",
    "## Memory and communication\n",
    "\n",
    "\n",
    "1. Most communication in a computer is carried out in chunks, blocks of bytes of data that move together\n",
    "\n",
    "2. In the memory hierarchy, data moves between memory and cache, and between different levels of cache, in groups called lines\n",
    "\n",
    " * Lines are typically 64-128 bytes, or 8-16 double precision words\n",
    "\n",
    " * Even if you do not use the data, it is moved and occupies space in the cache\n",
    "\n",
    "\n",
    "3. This performance feature is not captured in most programming languages\n",
    "\n",
    "## Measuring performance\n",
    "\n",
    "How do we measure performance? What is wrong with this code to time a loop?"
   ]
  },
  {
   "cell_type": "markdown",
   "metadata": {},
   "source": [
    "          clock_t start, finish;\n",
    "          start = clock();\n",
    "          for (int j = 0; j < i; j++) {\n",
    "            a[j] = b[j]+b[j]*c[j];\n",
    "          }\n",
    "          finish = clock();\n",
    "          double timeused = (double) (finish - start)/(CLOCKS_PER_SEC );\n"
   ]
  },
  {
   "cell_type": "markdown",
   "metadata": {},
   "source": [
    "## Problems with measuring time\n",
    "1. Timers are not infinitely accurate\n",
    "\n",
    "2. All clocks have a granularity, the minimum time that they can measure\n",
    "\n",
    "3. The error in a time measurement, even if everything is perfect, may be the size of this granularity (sometimes called a clock tick)\n",
    "\n",
    "4. Always know what your clock granularity is\n",
    "\n",
    "5. Ensure that your measurement is for a long enough duration (say 100 times the **tick**)\n",
    "\n",
    "## Problems with cold start\n",
    "\n",
    "What happens when the code is executed? The assumption is that the code is ready to\n",
    "execute. But\n",
    "1. Code may still be on disk, and not even read into memory.\n",
    "\n",
    "2. Data may be in slow memory rather than fast (which may be wrong or right for what you are measuring)\n",
    "\n",
    "3. Multiple tests often necessary to ensure that cold start effects are not present\n",
    "\n",
    "4. Special effort often required to ensure data in the intended part of the memory hierarchy.\n",
    "\n",
    "## Problems with smart compilers\n",
    "\n",
    "1. If the result of the computation is not used, the compiler may eliminate the code\n",
    "\n",
    "2. Performance will look impossibly fantastic\n",
    "\n",
    "3. Even worse, eliminate some of the code so the performance looks plausible\n",
    "\n",
    "4. Ensure that the results are (or may be) used.\n",
    "\n",
    "## Problems with interference\n",
    "1. Other activities are sharing your processor\n",
    "\n",
    "  * Operating system, system demons, other users\n",
    "\n",
    "  * Some parts of the hardware do not always perform with exactly the same performance\n",
    "\n",
    "\n",
    "2. Make multiple tests and report\n",
    "\n",
    "3. Easy choices include\n",
    "\n",
    "  * Average tests represent what users might observe over time\n",
    "\n",
    "\n",
    "## Problems with measuring performance\n",
    "1. Accurate, reproducible performance measurement is hard\n",
    "\n",
    "2. Think carefully about your experiment:\n",
    "\n",
    "3. What is it, precisely, that you want to measure?\n",
    "\n",
    "4. How representative is your test to the situation that you are trying to measure?\n",
    "\n",
    "## Thomas algorithm for tridiagonal linear algebra equations"
   ]
  },
  {
   "cell_type": "markdown",
   "metadata": {},
   "source": [
    "$$\n",
    "\\left( \\begin{array}{ccccc}\n",
    "        b_0 & c_0 &        &         &         \\\\\n",
    "\ta_0 &  b_1 &  c_1    &         &         \\\\\n",
    "\t   &    & \\ddots  &         &         \\\\\n",
    "\t      &\t    & a_{m-3} & b_{m-2} & c_{m-2} \\\\\n",
    "\t         &    &         & a_{m-2} & b_{m-1}\n",
    "   \\end{array} \\right)\n",
    "\\left( \\begin{array}{c}\n",
    "       x_0     \\\\\n",
    "       x_1     \\\\\n",
    "       \\vdots  \\\\\n",
    "       x_{m-2} \\\\\n",
    "       x_{m-1}\n",
    "   \\end{array} \\right)=\\left( \\begin{array}{c}\n",
    "       f_0     \\\\\n",
    "       f_1     \\\\\n",
    "       \\vdots  \\\\\n",
    "       f_{m-2} \\\\\n",
    "       f_{m-1} \\\\\n",
    "   \\end{array} \\right)\n",
    "$$"
   ]
  },
  {
   "cell_type": "markdown",
   "metadata": {},
   "source": [
    "## Thomas algorithm, forward substitution\n",
    "The first step is to multiply the first row by $a_0/b_0$ and subtract it from the second row.  This is known as the forward substitution step. We obtain then"
   ]
  },
  {
   "cell_type": "markdown",
   "metadata": {},
   "source": [
    "$$\n",
    "a_i = 0,\n",
    "$$"
   ]
  },
  {
   "cell_type": "markdown",
   "metadata": {},
   "source": [
    "$$\n",
    "b_i = b_i - \\frac{a_{i-1}}{b_{i-1}}c_{i-1},\n",
    "$$"
   ]
  },
  {
   "cell_type": "markdown",
   "metadata": {},
   "source": [
    "and"
   ]
  },
  {
   "cell_type": "markdown",
   "metadata": {},
   "source": [
    "$$\n",
    "f_i = f_i - \\frac{a_{i-1}}{b_{i-1}}f_{i-1}.\n",
    "$$"
   ]
  },
  {
   "cell_type": "markdown",
   "metadata": {},
   "source": [
    "At this point the simplified equation, with only an upper triangular matrix takes the form"
   ]
  },
  {
   "cell_type": "markdown",
   "metadata": {},
   "source": [
    "$$\n",
    "\\left( \\begin{array}{ccccc}\n",
    "    b_0 & c_0 &        &         &         \\\\\n",
    "       & b_1 &  c_1    &         &         \\\\\n",
    "          &    & \\ddots &         &         \\\\\n",
    "\t     &     &        & b_{m-2} & c_{m-2} \\\\\n",
    "\t        &    &        &         & b_{m-1}\n",
    "   \\end{array} \\right)\\left( \\begin{array}{c}\n",
    "       x_0     \\\\\n",
    "       x_1     \\\\\n",
    "       \\vdots  \\\\\n",
    "       x_{m-2} \\\\\n",
    "       x_{m-1}\n",
    "   \\end{array} \\right)=\\left( \\begin{array}{c}\n",
    "       f_0     \\\\\n",
    "       f_1     \\\\\n",
    "       \\vdots  \\\\\n",
    "       f_{m-2} \\\\\n",
    "       f_{m-1} \\\\\n",
    "   \\end{array} \\right)\n",
    "$$"
   ]
  },
  {
   "cell_type": "markdown",
   "metadata": {},
   "source": [
    "## Thomas algorithm, backward substitution\n",
    "The next step is  the backward substitution step.  The last row is multiplied by $c_{N-3}/b_{N-2}$ and subtracted from the second to last row, thus eliminating $c_{N-3}$ from the last row.  The general backward substitution procedure is"
   ]
  },
  {
   "cell_type": "markdown",
   "metadata": {},
   "source": [
    "$$\n",
    "c_i = 0,\n",
    "$$"
   ]
  },
  {
   "cell_type": "markdown",
   "metadata": {},
   "source": [
    "and"
   ]
  },
  {
   "cell_type": "markdown",
   "metadata": {},
   "source": [
    "$$\n",
    "f_{i-1} = f_{i-1} - \\frac{c_{i-1}}{b_i}f_i\n",
    "$$"
   ]
  },
  {
   "cell_type": "markdown",
   "metadata": {},
   "source": [
    "All that ramains to be computed is the solution, which is the very straight forward process of"
   ]
  },
  {
   "cell_type": "markdown",
   "metadata": {},
   "source": [
    "$$\n",
    "x_i = \\frac{f_i}{b_i}\n",
    "$$"
   ]
  },
  {
   "cell_type": "markdown",
   "metadata": {},
   "source": [
    "## Thomas algorithm and counting of operations (floating point and memory)\n",
    "\n",
    "\n",
    "<table border=\"1\">\n",
    "<thead>\n",
    "<tr><th align=\"center\">   Operation   </th> <th align=\"center\">Floating Point</th> </tr>\n",
    "</thead>\n",
    "<tbody>\n",
    "<tr><td align=\"center\">   Memory Reads       </td> <td align=\"center\">   $14(N-2)$         </td> </tr>\n",
    "<tr><td align=\"center\">   Memory Writes      </td> <td align=\"center\">   $4(N-2)$          </td> </tr>\n",
    "<tr><td align=\"center\">   Subtractions       </td> <td align=\"center\">   $3(N-2)$          </td> </tr>\n",
    "<tr><td align=\"center\">   Multiplications    </td> <td align=\"center\">   $3(N-2)$          </td> </tr>\n",
    "<tr><td align=\"center\">   Divisions          </td> <td align=\"center\">   $4(N-2)$          </td> </tr>\n",
    "</tbody>\n",
    "</table>"
   ]
  },
  {
   "cell_type": "markdown",
   "metadata": {},
   "source": [
    "        // Forward substitution    \n",
    "        // Note that we can simplify by precalculating a[i-1]/b[i-1]\n",
    "          for (int i=1; i < n; i++) {\n",
    "             b[i] = b[i] - (a[i-1]*c[i-1])/b[i-1];\n",
    "             f[i] = g[i] - (a[i-1]*f[i-1])/b[i-1];\n",
    "          }\n",
    "          x[n-1] = f[n-1] / b[n-1];\n",
    "          // Backwards substitution                                                           \n",
    "          for (int i = n-2; i >= 0; i--) {\n",
    "             f[i] = f[i] - c[i]*f[i+1]/b[i+1];\n",
    "             x[i] = f[i]/b[i];\n",
    "          }\n"
   ]
  },
  {
   "cell_type": "markdown",
   "metadata": {},
   "source": [
    "## [Example: Transpose of a matrix](https://github.com/CompPhysics/ComputationalPhysicsMSU/blob/master/doc/Programs/LecturePrograms/programs/Classes/cpp/program8.cpp)"
   ]
  },
  {
   "cell_type": "markdown",
   "metadata": {},
   "source": [
    "        #include <cstdlib>\n",
    "        #include <iostream>\n",
    "        #include <cmath>\n",
    "        #include <iomanip>\n",
    "        #include \"time.h\"\n",
    "        \n",
    "        using namespace std; // note use of namespace\n",
    "        int main (int argc, char* argv[])\n",
    "        {\n",
    "          // read in dimension of square matrix\n",
    "          int n = atoi(argv[1]);\n",
    "          double **A, **B;\n",
    "          // Allocate space for the two matrices\n",
    "          A = new double*[n]; B = new double*[n];\n",
    "          for (int i = 0; i < n; i++){\n",
    "            A[i] = new double[n];\n",
    "            B[i] = new double[n];\n",
    "          }\n",
    "          // Set up values for matrix A\n",
    "          for (int i = 0; i < n; i++){\n",
    "            for (int j = 0; j < n; j++) {\n",
    "              A[i][j] =  cos(i*1.0)*sin(j*3.0);\n",
    "            }\n",
    "          }\n",
    "          clock_t start, finish;\n",
    "          start = clock();\n",
    "          // Then compute the transpose\n",
    "          for (int i = 0; i < n; i++){\n",
    "            for (int j = 0; j < n; j++) {\n",
    "              B[i][j]= A[j][i];\n",
    "            }\n",
    "          }\n",
    "        \n",
    "          finish = clock();\n",
    "          double timeused = (double) (finish - start)/(CLOCKS_PER_SEC );\n",
    "          cout << setiosflags(ios::showpoint | ios::uppercase);\n",
    "          cout << setprecision(10) << setw(20) << \"Time used  for setting up transpose of matrix=\" << timeused  << endl;\n",
    "        \n",
    "          // Free up space\n",
    "          for (int i = 0; i < n; i++){\n",
    "            delete[] A[i];\n",
    "            delete[] B[i];\n",
    "          }\n",
    "          delete[] A;\n",
    "          delete[] B;\n",
    "          return 0;\n",
    "        }\n",
    "        \n"
   ]
  },
  {
   "cell_type": "markdown",
   "metadata": {},
   "source": [
    "## [Matrix-matrix multiplication](https://github.com/CompPhysics/ComputationalPhysicsMSU/blob/master/doc/Programs/LecturePrograms/programs/Classes/cpp/program9.cpp)\n",
    "This the matrix-matrix multiplication code with plain c++ memory allocation. It computes at the end the Frobenius norm."
   ]
  },
  {
   "cell_type": "markdown",
   "metadata": {},
   "source": [
    "        #include <cstdlib>\n",
    "        #include <iostream>\n",
    "        #include <cmath>\n",
    "        #include <iomanip>\n",
    "        #include \"time.h\"\n",
    "        \n",
    "        using namespace std; // note use of namespace\n",
    "        int main (int argc, char* argv[])\n",
    "        {\n",
    "          // read in dimension of square matrix\n",
    "          int n = atoi(argv[1]);\n",
    "          double s = 1.0/sqrt( (double) n);\n",
    "          double **A, **B, **C;\n",
    "          // Start timing\n",
    "          clock_t start, finish;\n",
    "          start = clock();\n",
    "          // Allocate space for the two matrices\n",
    "          A = new double*[n]; B = new double*[n]; C = new double*[n];\n",
    "          for (int i = 0; i < n; i++){\n",
    "            A[i] = new double[n];\n",
    "            B[i] = new double[n];\n",
    "            C[i] = new double[n];\n",
    "          }\n",
    "          // Set up values for matrix A and B and zero matrix C\n",
    "          for (int i = 0; i < n; i++){\n",
    "            for (int j = 0; j < n; j++) {\n",
    "              double angle = 2.0*M_PI*i*j/ (( double ) n);\n",
    "              A[i][j] = s * ( sin ( angle ) + cos ( angle ) );\n",
    "              B[j][i] =  A[i][j];\n",
    "            }\n",
    "          }\n",
    "          // Then perform the matrix-matrix multiplication\n",
    "          for (int i = 0; i < n; i++){\n",
    "            for (int j = 0; j < n; j++) {\n",
    "              double sum = 0.0;\n",
    "               for (int k = 0; k < n; k++) {\n",
    "                   sum += B[i][k]*A[k][j];\n",
    "               }\n",
    "               C[i][j] = sum;\n",
    "            }\n",
    "          }\n",
    "          // Compute now the Frobenius norm\n",
    "          double Fsum = 0.0;\n",
    "          for (int i = 0; i < n; i++){\n",
    "            for (int j = 0; j < n; j++) {\n",
    "              Fsum += C[i][j]*C[i][j];\n",
    "            }\n",
    "          }\n",
    "          Fsum = sqrt(Fsum);\n",
    "          finish = clock();\n",
    "          double timeused = (double) (finish - start)/(CLOCKS_PER_SEC );\n",
    "          cout << setiosflags(ios::showpoint | ios::uppercase);\n",
    "          cout << setprecision(10) << setw(20) << \"Time used  for matrix-matrix multiplication=\" << timeused  << endl;\n",
    "          cout << \"  Frobenius norm  = \" << Fsum << endl;\n",
    "          // Free up space\n",
    "          for (int i = 0; i < n; i++){\n",
    "            delete[] A[i];\n",
    "            delete[] B[i];\n",
    "            delete[] C[i];\n",
    "          }\n",
    "          delete[] A;\n",
    "          delete[] B;\n",
    "          delete[] C;\n",
    "          return 0;\n",
    "        }\n"
   ]
  },
  {
   "cell_type": "markdown",
   "metadata": {},
   "source": [
    "## How do we define speedup? Simplest form\n",
    "* Speedup measures the ratio of performance between two objects\n",
    "\n",
    "* Versions of same code, with different number of processors\n",
    "\n",
    "* Serial and vector versions\n",
    "\n",
    "* Try different programing languages, c++ and Fortran\n",
    "\n",
    "* Two algorithms computing the **same** result\n",
    "\n",
    "\n",
    "\n",
    "## How do we define speedup? Correct baseline\n",
    "The key is choosing the correct baseline for comparison\n",
    "* For our serial vs. vectorization examples, using compiler-provided vectorization, the baseline is simple; the same code, with vectorization turned off\n",
    "\n",
    " * For parallel applications, this is much harder:\n",
    "\n",
    "  * Choice of algorithm, decomposition, performance of baseline case etc.\n",
    "\n",
    "\n",
    "\n",
    "\n",
    "## Parallel  speedup\n",
    "For parallel applications, speeduo  is typically defined as\n",
    "* Speedup $=T_1/T_p$\n",
    "\n",
    "Here  $T_1$ is the time on one processor and $T_p$ is the time using $p$ processors.\n",
    " * Can the speedup become larger than  $p$? That means using $p$ processors is more than $p$ times faster than using one processor.\n",
    "\n",
    "\n",
    "\n",
    "\n",
    "## Speedup and memory\n",
    "The speedup on $p$ processors can\n",
    "be greater than $p$ if memory usage is optimal!\n",
    "Consider the case of a memorybound computation with $M$ words of memory\n",
    " * If $M/p$ fits into cache while $M$ does not, the time to access memory will be different in the two cases:\n",
    "\n",
    " * $T_1$ uses the main memory bandwidth\n",
    "\n",
    " * $T_p$ uses the appropriate cache bandwidth\n",
    "\n",
    "\n",
    "\n",
    "\n",
    "## Upper bounds on speedup\n",
    "Assume that almost all parts of a code are perfectly\n",
    "parallelizable (fraction $f$). The remainder,\n",
    "fraction $(1-f)$ cannot be parallelized at all.\n",
    "\n",
    "That is, there is work that takes time $W$ on one process; a fraction $f$ of that work will take\n",
    "time $Wf/p$ on $p$ processors. \n",
    "* What is the maximum possible speedup as a function of $f$?\n",
    "\n",
    "\n",
    "\n",
    "\n",
    "## Amdahl's law\n",
    "On one processor we have"
   ]
  },
  {
   "cell_type": "markdown",
   "metadata": {},
   "source": [
    "$$\n",
    "T_1 = (1-f)W + fW = W\n",
    "$$"
   ]
  },
  {
   "cell_type": "markdown",
   "metadata": {},
   "source": [
    "On $p$ processors we have"
   ]
  },
  {
   "cell_type": "markdown",
   "metadata": {},
   "source": [
    "$$\n",
    "T_p = (1-f)W + \\frac{fW}{p},\n",
    "$$"
   ]
  },
  {
   "cell_type": "markdown",
   "metadata": {},
   "source": [
    "resulting in a speedup of"
   ]
  },
  {
   "cell_type": "markdown",
   "metadata": {},
   "source": [
    "$$\n",
    "\\frac{T_1}{T_p} = \\frac{W}{(1-f)W+fW/p}\n",
    "$$"
   ]
  },
  {
   "cell_type": "markdown",
   "metadata": {},
   "source": [
    "As $p$ goes to infinity, $fW/p$ goes to zero, and the maximum speedup is"
   ]
  },
  {
   "cell_type": "markdown",
   "metadata": {},
   "source": [
    "$$\n",
    "\\frac{1}{1-f},\n",
    "$$"
   ]
  },
  {
   "cell_type": "markdown",
   "metadata": {},
   "source": [
    "meaning that if \n",
    "if $f = 0.99$ (all but $1\\%$ parallelizable), the maximum speedup\n",
    "is $1/(1-.99)=100$!\n",
    "\n",
    "\n",
    "\n",
    "\n",
    "## How much is parallelizable\n",
    "If any non-parallel code slips into the\n",
    "application, the parallel\n",
    "performance is limited. \n",
    "\n",
    "In many simulations, however, the fraction of non-parallelizable work\n",
    "is $10^{-6}$ or less due to large arrays or objects that are perfectly parallelizable.\n",
    "\n",
    "\n",
    "\n",
    "\n",
    "\n",
    "## Today's situation of parallel computing\n",
    "\n",
    "* Distributed memory is the dominant hardware configuration. There is a large diversity in these machines, from  MPP (massively parallel processing) systems to clusters of off-the-shelf PCs, which are very cost-effective.\n",
    "\n",
    "* Message-passing is a mature programming paradigm and widely accepted. It often provides an efficient match to the hardware. It is primarily used for the distributed memory systems, but can also be used on shared memory systems.\n",
    "\n",
    "* Modern nodes have nowadays several cores, which makes it interesting to use both shared memory (the given node) and distributed memory (several nodes with communication). This leads often to codes which use both MPI and OpenMP.\n",
    "\n",
    "Our lectures will focus on both MPI and OpenMP.\n",
    "\n",
    "\n",
    "\n",
    "## Overhead present in parallel computing\n",
    "\n",
    "* **Uneven load balance**:  not all the processors can perform useful work at all time.\n",
    "\n",
    "* **Overhead of synchronization**\n",
    "\n",
    "* **Overhead of communication**\n",
    "\n",
    "* **Extra computation due to parallelization**\n",
    "\n",
    "Due to the above overhead and that certain parts of a sequential\n",
    "algorithm cannot be parallelized we may not achieve an optimal parallelization.\n",
    "\n",
    "\n",
    "\n",
    "\n",
    "## Parallelizing a sequential algorithm\n",
    "\n",
    "* Identify the part(s) of a sequential algorithm that can be  executed in parallel. This is the difficult part,\n",
    "\n",
    "* Distribute the global work and data among $P$ processors.\n",
    "\n",
    "\n",
    "\n",
    "\n",
    "\n",
    "\n",
    "## Strategies\n",
    "* Develop codes locally, run with some few processes and test your codes.  Do benchmarking, timing and so forth on local nodes, for example your laptop or PC. \n",
    "\n",
    "* When you are convinced that your codes run correctly, you can start your production runs on available supercomputers.\n",
    "\n",
    "\n",
    "\n",
    "## How do I run MPI on a PC/Laptop? MPI\n",
    "To install MPI is rather easy on hardware running unix/linux as operating systems, follow simply the instructions from the [OpenMPI website](https://www.open-mpi.org/). See also subsequent slides.\n",
    "When you have made sure you have installed MPI on your PC/laptop, \n",
    "* Compile with mpicxx/mpic++ or mpif90"
   ]
  },
  {
   "cell_type": "markdown",
   "metadata": {},
   "source": [
    "          # Compile and link\n",
    "          mpic++ -O3 -o nameofprog.x nameofprog.cpp\n",
    "          #  run code with for example 8 processes using mpirun/mpiexec\n",
    "          mpiexec -n 8 ./nameofprog.x\n"
   ]
  },
  {
   "cell_type": "markdown",
   "metadata": {},
   "source": [
    "## Can I do it on my own PC/laptop? OpenMP installation\n",
    "If you wish to install MPI and OpenMP \n",
    "on your laptop/PC, we recommend the following:\n",
    "* For OpenMP, the compile option **-fopenmp** is included automatically in recent versions of the C++ compiler and Fortran compilers. For users of different Linux distributions, siply use the available C++ or Fortran compilers and add the above compiler instructions, see also code examples below. \n",
    "\n",
    "* For OS X users however, use for example"
   ]
  },
  {
   "cell_type": "markdown",
   "metadata": {},
   "source": [
    "          brew install clang-omp\n"
   ]
  },
  {
   "cell_type": "markdown",
   "metadata": {},
   "source": [
    "## Installing MPI\n",
    "For linux/ubuntu users, you need to install two packages (alternatively use the synaptic package manager)"
   ]
  },
  {
   "cell_type": "markdown",
   "metadata": {},
   "source": [
    "          sudo apt-get install libopenmpi-dev\n",
    "          sudo apt-get install openmpi-bin\n"
   ]
  },
  {
   "cell_type": "markdown",
   "metadata": {},
   "source": [
    "For OS X users, install brew (after having installed xcode and gcc, needed for the \n",
    "gfortran compiler of openmpi) and then install with brew"
   ]
  },
  {
   "cell_type": "markdown",
   "metadata": {},
   "source": [
    "           brew install openmpi\n"
   ]
  },
  {
   "cell_type": "markdown",
   "metadata": {},
   "source": [
    "When running an executable (code.x), run as"
   ]
  },
  {
   "cell_type": "markdown",
   "metadata": {},
   "source": [
    "          mpirun -n 10 ./code.x\n"
   ]
  },
  {
   "cell_type": "markdown",
   "metadata": {},
   "source": [
    "where we indicate that we want  the number of processes to be 10.\n",
    "\n",
    "\n",
    "\n",
    "\n",
    "## Installing MPI and using Qt\n",
    "With openmpi installed, when using Qt, add to your .pro file the instructions [here](http://dragly.org/2012/03/14/developing-mpi-applications-in-qt-creator/)\n",
    "\n",
    "You may need to tell Qt where openmpi is stored.\n",
    "\n",
    "For the machines at the computer lab, openmpi is located  at"
   ]
  },
  {
   "cell_type": "markdown",
   "metadata": {},
   "source": [
    "         /usr/lib64/openmpi/bin\n"
   ]
  },
  {
   "cell_type": "markdown",
   "metadata": {},
   "source": [
    "Add to your *.bashrc* file the following"
   ]
  },
  {
   "cell_type": "markdown",
   "metadata": {},
   "source": [
    "          export PATH=/usr/lib64/openmpi/bin:$PATH \n"
   ]
  },
  {
   "cell_type": "markdown",
   "metadata": {},
   "source": [
    "## Using [Smaug](http://comp-phys.net/cluster-info/using-smaug/), the CompPhys computing cluster\n",
    "For running on SMAUG, go to <http://comp-phys.net/> and click on the link internals and click on\n",
    "computing cluster.\n",
    "To get access to Smaug, you will need to send us an e-mail with your name, UiO username, phone number, room number and affiliation to the research group. In return, you will receive a password you may use to access the cluster.\n",
    "\n",
    "Here follows a simple recipe"
   ]
  },
  {
   "cell_type": "markdown",
   "metadata": {},
   "source": [
    "           log in as ssh -username tid.uio.no\n",
    "           ssh username@fyslab-compphys\n"
   ]
  },
  {
   "cell_type": "markdown",
   "metadata": {},
   "source": [
    "In the folder"
   ]
  },
  {
   "cell_type": "markdown",
   "metadata": {},
   "source": [
    "            shared/guides/starting_jobs \n"
   ]
  },
  {
   "cell_type": "markdown",
   "metadata": {},
   "source": [
    "you will find a simple example on how to set up a job and compile and run.\n",
    "This files are write protected. Copy them to your own folder and compile and run there. \n",
    "For more information see the [readme file under the program folder](https://github.com/CompPhysics/ComputationalPhysics2/tree/gh-pages/doc/Programs/ParallelizationMPI).\n",
    "\n",
    "\n",
    "\n",
    "\n",
    "## What is OpenMP\n",
    "* OpenMP provides high-level thread programming\n",
    "\n",
    "* Multiple cooperating threads are allowed to run simultaneously\n",
    "\n",
    "* Threads are created and destroyed dynamically in a fork-join pattern\n",
    "\n",
    "   * An OpenMP program consists of a number of parallel regions\n",
    "\n",
    "   * Between two parallel regions there is only one master thread\n",
    "\n",
    "   * In the beginning of a parallel region, a team of new threads is spawned\n",
    "\n",
    "\n",
    "  * The newly spawned threads work simultaneously with the master thread\n",
    "\n",
    "  * At the end of a parallel region, the new threads are destroyed\n",
    "\n",
    "Many good tutorials online and excellent textbook\n",
    "1. [Using OpenMP, by B. Chapman, G. Jost, and A. van der Pas](http://mitpress.mit.edu/books/using-openmp)\n",
    "\n",
    "2. Many tutorials online like [OpenMP official site](http://www.openmp.org)\n",
    "\n",
    "\n",
    "\n",
    "## Getting started, things to remember\n",
    " * Remember the header file"
   ]
  },
  {
   "cell_type": "markdown",
   "metadata": {},
   "source": [
    "        #include <omp.h>\n"
   ]
  },
  {
   "cell_type": "markdown",
   "metadata": {},
   "source": [
    "* Insert compiler directives in C++ syntax as"
   ]
  },
  {
   "cell_type": "markdown",
   "metadata": {},
   "source": [
    "        #pragma omp...\n"
   ]
  },
  {
   "cell_type": "markdown",
   "metadata": {},
   "source": [
    "* Compile with for example *c++ -fopenmp code.cpp*\n",
    "\n",
    "* Execute\n",
    "\n",
    "  * Remember to assign the environment variable **OMP NUM THREADS**\n",
    "\n",
    "  * It specifies the total number of threads inside a parallel region, if not otherwise overwritten\n",
    "\n",
    "\n",
    "\n",
    "## OpenMP syntax\n",
    "* Mostly directives"
   ]
  },
  {
   "cell_type": "markdown",
   "metadata": {},
   "source": [
    "        #pragma omp construct [ clause ...]\n"
   ]
  },
  {
   "cell_type": "markdown",
   "metadata": {},
   "source": [
    "* Some functions and types"
   ]
  },
  {
   "cell_type": "markdown",
   "metadata": {},
   "source": [
    "        #include <omp.h>\n"
   ]
  },
  {
   "cell_type": "markdown",
   "metadata": {},
   "source": [
    "* Most apply to a block of code\n",
    "\n",
    " * Specifically, a **structured block**\n",
    "\n",
    " * Enter at top, exit at bottom only, exit(), abort() permitted\n",
    "\n",
    "## Different OpenMP styles of parallelism\n",
    "OpenMP supports several different ways to specify thread parallelism\n",
    "\n",
    "* General parallel regions: All threads execute the code, roughly as if you made a routine of that region and created a thread to run that code\n",
    "\n",
    "* Parallel loops: Special case for loops, simplifies data parallel code\n",
    "\n",
    "* Task parallelism, new in OpenMP 3\n",
    "\n",
    "* Several ways to manage thread coordination, including Master regions and Locks\n",
    "\n",
    "* Memory model for shared data\n",
    "\n",
    "## General code structure"
   ]
  },
  {
   "cell_type": "markdown",
   "metadata": {},
   "source": [
    "        #include <omp.h>\n",
    "        main ()\n",
    "        {\n",
    "        int var1, var2, var3;\n",
    "        /* serial code */\n",
    "        /* ... */\n",
    "        /* start of a parallel region */\n",
    "        #pragma omp parallel private(var1, var2) shared(var3)\n",
    "        {\n",
    "        /* ... */\n",
    "        }\n",
    "        /* more serial code */\n",
    "        /* ... */\n",
    "        /* another parallel region */\n",
    "        #pragma omp parallel\n",
    "        {\n",
    "        /* ... */\n",
    "        }\n",
    "        }\n"
   ]
  },
  {
   "cell_type": "markdown",
   "metadata": {},
   "source": [
    "## Parallel region\n",
    "* A parallel region is a block of code that is executed by a team of threads\n",
    "\n",
    "* The following compiler directive creates a parallel region"
   ]
  },
  {
   "cell_type": "markdown",
   "metadata": {},
   "source": [
    "        #pragma omp parallel { ... }\n"
   ]
  },
  {
   "cell_type": "markdown",
   "metadata": {},
   "source": [
    "* Clauses can be added at the end of the directive\n",
    "\n",
    "* Most often used clauses:\n",
    "\n",
    " * **default(shared)** or **default(none)**\n",
    "\n",
    " * **public(list of variables)**\n",
    "\n",
    " * **private(list of variables)**\n",
    "\n",
    "\n",
    "\n",
    "## Hello world, not again, please!"
   ]
  },
  {
   "cell_type": "markdown",
   "metadata": {},
   "source": [
    "        #include <omp.h>\n",
    "        #include <cstdio>\n",
    "        int main (int argc, char *argv[])\n",
    "        {\n",
    "        int th_id, nthreads;\n",
    "        #pragma omp parallel private(th_id) shared(nthreads)\n",
    "        {\n",
    "        th_id = omp_get_thread_num();\n",
    "        printf(\"Hello World from thread %d\\n\", th_id);\n",
    "        #pragma omp barrier\n",
    "        if ( th_id == 0 ) {\n",
    "        nthreads = omp_get_num_threads();\n",
    "        printf(\"There are %d threads\\n\",nthreads);\n",
    "        }\n",
    "        }\n",
    "        return 0;\n",
    "        }\n"
   ]
  },
  {
   "cell_type": "markdown",
   "metadata": {},
   "source": [
    "## Hello world, yet another variant"
   ]
  },
  {
   "cell_type": "markdown",
   "metadata": {},
   "source": [
    "        #include <cstdio>\n",
    "        #include <omp.h>\n",
    "        int main(int argc, char *argv[]) \n",
    "        {\n",
    "         omp_set_num_threads(4); \n",
    "        #pragma omp parallel\n",
    "         {\n",
    "           int id = omp_get_thread_num();\n",
    "           int nproc = omp_get_num_threads(); \n",
    "           cout << \"Hello world with id number and processes \" <<  id <<  nproc << endl;\n",
    "         } \n",
    "        return 0;\n",
    "        }\n"
   ]
  },
  {
   "cell_type": "markdown",
   "metadata": {},
   "source": [
    "Variables declared outside of the parallel region are shared by all threads\n",
    "If a variable like **id** is  declared outside of the"
   ]
  },
  {
   "cell_type": "markdown",
   "metadata": {},
   "source": [
    "        #pragma omp parallel, \n"
   ]
  },
  {
   "cell_type": "markdown",
   "metadata": {},
   "source": [
    "it would have been shared by various the threads, possibly causing erroneous output\n",
    " * Why? What would go wrong? Why do we add  possibly?\n",
    "\n",
    "\n",
    "\n",
    "## Important OpenMP library routines\n",
    "\n",
    "* **int omp get num threads ()**, returns the number of threads inside a parallel region\n",
    "\n",
    "* **int omp get thread num ()**,  returns the  a thread for each thread inside a parallel region\n",
    "\n",
    "* **void omp set num threads (int)**, sets the number of threads to be used\n",
    "\n",
    "* **void omp set nested (int)**,  turns nested parallelism on/off\n",
    "\n",
    "\n",
    "\n",
    "## Private variables\n",
    "Private clause can be used to make thread- private versions of such variables:"
   ]
  },
  {
   "cell_type": "markdown",
   "metadata": {},
   "source": [
    "        #pragma omp parallel private(id)\n",
    "        {\n",
    "         int id = omp_get_thread_num();\n",
    "         cout << \"My thread num\" << id << endl; \n",
    "        }\n"
   ]
  },
  {
   "cell_type": "markdown",
   "metadata": {},
   "source": [
    "* What is their value on entry? Exit?\n",
    "\n",
    "* OpenMP provides ways to control that\n",
    "\n",
    "* Can use default(none) to require the sharing of each variable to be described\n",
    "\n",
    "\n",
    "\n",
    "## Master region\n",
    "It is often useful to have only one thread execute some of the code in a parallel region. I/O statements are a common example"
   ]
  },
  {
   "cell_type": "markdown",
   "metadata": {},
   "source": [
    "        #pragma omp parallel \n",
    "        {\n",
    "          #pragma omp master\n",
    "           {\n",
    "              int id = omp_get_thread_num();\n",
    "              cout << \"My thread num\" << id << endl; \n",
    "           } \n",
    "        }\n"
   ]
  },
  {
   "cell_type": "markdown",
   "metadata": {},
   "source": [
    "## Parallel for loop\n",
    " * Inside a parallel region, the following compiler directive can be used to parallelize a for-loop:"
   ]
  },
  {
   "cell_type": "markdown",
   "metadata": {},
   "source": [
    "        #pragma omp for\n"
   ]
  },
  {
   "cell_type": "markdown",
   "metadata": {},
   "source": [
    "* Clauses can be added, such as\n",
    "\n",
    "  * **schedule(static, chunk size)**\n",
    "\n",
    "  * **schedule(dynamic, chunk size)** \n",
    "\n",
    "  * **schedule(guided, chunk size)** (non-deterministic allocation)\n",
    "\n",
    "  * **schedule(runtime)**\n",
    "\n",
    "  * **private(list of variables)**\n",
    "\n",
    "  * **reduction(operator:variable)**\n",
    "\n",
    "  * **nowait**\n",
    "\n",
    "\n",
    "\n",
    "\n",
    "## Parallel computations and loops\n",
    "\n",
    "OpenMP provides an easy way to parallelize a loop"
   ]
  },
  {
   "cell_type": "markdown",
   "metadata": {},
   "source": [
    "        #pragma omp parallel for\n",
    "          for (i=0; i<n; i++) c[i] = a[i];\n"
   ]
  },
  {
   "cell_type": "markdown",
   "metadata": {},
   "source": [
    "OpenMP handles index variable (no need to declare in for loop or make private)\n",
    "\n",
    "Which thread does which values?  Several options.\n",
    "\n",
    "\n",
    "\n",
    "## Scheduling of  loop computations\n",
    "\n",
    "We can let  the OpenMP runtime decide. The decision is about how the loop iterates are scheduled\n",
    "and  OpenMP defines three choices of loop scheduling:\n",
    "1. Static: Predefined at compile time. Lowest overhead, predictable\n",
    "\n",
    "2. Dynamic: Selection made at runtime \n",
    "\n",
    "3. Guided: Special case of dynamic; attempts to reduce overhead\n",
    "\n",
    "\n",
    "\n",
    "## Example code for loop scheduling"
   ]
  },
  {
   "cell_type": "markdown",
   "metadata": {},
   "source": [
    "        #include <omp.h>\n",
    "        #define CHUNKSIZE 100\n",
    "        #define N 1000\n",
    "        int main (int argc, char *argv[])\n",
    "        {\n",
    "        int i, chunk;\n",
    "        float a[N], b[N], c[N];\n",
    "        for (i=0; i < N; i++) a[i] = b[i] = i * 1.0;\n",
    "        chunk = CHUNKSIZE;\n",
    "        #pragma omp parallel shared(a,b,c,chunk) private(i)\n",
    "        {\n",
    "        #pragma omp for schedule(dynamic,chunk)\n",
    "        for (i=0; i < N; i++) c[i] = a[i] + b[i];\n",
    "        } /* end of parallel region */\n",
    "        }\n"
   ]
  },
  {
   "cell_type": "markdown",
   "metadata": {},
   "source": [
    "## Example code for loop scheduling, guided instead of dynamic"
   ]
  },
  {
   "cell_type": "markdown",
   "metadata": {},
   "source": [
    "        #include <omp.h>\n",
    "        #define CHUNKSIZE 100\n",
    "        #define N 1000\n",
    "        int main (int argc, char *argv[])\n",
    "        {\n",
    "        int i, chunk;\n",
    "        float a[N], b[N], c[N];\n",
    "        for (i=0; i < N; i++) a[i] = b[i] = i * 1.0;\n",
    "        chunk = CHUNKSIZE;\n",
    "        #pragma omp parallel shared(a,b,c,chunk) private(i)\n",
    "        {\n",
    "        #pragma omp for schedule(guided,chunk)\n",
    "        for (i=0; i < N; i++) c[i] = a[i] + b[i];\n",
    "        } /* end of parallel region */\n",
    "        }\n"
   ]
  },
  {
   "cell_type": "markdown",
   "metadata": {},
   "source": [
    "## More on Parallel for loop\n",
    "* The number of loop iterations cannot be non-deterministic; break, return, exit, goto not allowed inside the for-loop\n",
    "\n",
    "* The loop index is private to each thread\n",
    "\n",
    "* A reduction variable is special\n",
    "\n",
    "  * During the for-loop there is a local private copy in each thread\n",
    "\n",
    "  * At the end of the for-loop, all the local copies are combined together by the reduction operation\n",
    "\n",
    "\n",
    "* Unless the nowait clause is used, an implicit barrier synchronization will be added at the end by the compiler"
   ]
  },
  {
   "cell_type": "markdown",
   "metadata": {},
   "source": [
    "        // #pragma omp parallel and #pragma omp for\n"
   ]
  },
  {
   "cell_type": "markdown",
   "metadata": {},
   "source": [
    "can be combined into"
   ]
  },
  {
   "cell_type": "markdown",
   "metadata": {},
   "source": [
    "        #pragma omp parallel for\n"
   ]
  },
  {
   "cell_type": "markdown",
   "metadata": {},
   "source": [
    "## What can happen with this loop?\n",
    "\n",
    "What happens with code like this"
   ]
  },
  {
   "cell_type": "markdown",
   "metadata": {},
   "source": [
    "        #pragma omp parallel for\n",
    "        for (i=0; i<n; i++) sum += a[i]*a[i];\n"
   ]
  },
  {
   "cell_type": "markdown",
   "metadata": {},
   "source": [
    "All threads can access the **sum** variable, but the addition is not atomic! It is important to avoid race between threads. So-called reductions in OpenMP are thus important for performance and for obtaining correct results.  OpenMP lets us indicate that a variable is used for a reduction with a particular operator. The above code becomes"
   ]
  },
  {
   "cell_type": "markdown",
   "metadata": {},
   "source": [
    "        sum = 0.0;\n",
    "        #pragma omp parallel for reduction(+:sum)\n",
    "        for (i=0; i<n; i++) sum += a[i]*a[i];\n"
   ]
  },
  {
   "cell_type": "markdown",
   "metadata": {},
   "source": [
    "## Inner product"
   ]
  },
  {
   "cell_type": "markdown",
   "metadata": {},
   "source": [
    "1\n",
    "2\n",
    " \n",
    "<\n",
    "<\n",
    "<\n",
    "!\n",
    "!\n",
    "M\n",
    "A\n",
    "T\n",
    "H\n",
    "_\n",
    "B\n",
    "L\n",
    "O\n",
    "C\n",
    "K"
   ]
  },
  {
   "cell_type": "markdown",
   "metadata": {},
   "source": [
    "        int i;\n",
    "        double sum = 0.;\n",
    "        /* allocating and initializing arrays */\n",
    "        /* ... */\n",
    "        #pragma omp parallel for default(shared) private(i) reduction(+:sum)\n",
    "         for (i=0; i<N; i++) sum += a[i]*b[i];\n",
    "        }\n"
   ]
  },
  {
   "cell_type": "markdown",
   "metadata": {},
   "source": [
    "## Different threads do different tasks\n",
    "\n",
    "Different threads do different tasks independently, each section is executed by one thread."
   ]
  },
  {
   "cell_type": "markdown",
   "metadata": {},
   "source": [
    "        #pragma omp parallel\n",
    "        {\n",
    "        #pragma omp sections\n",
    "        {\n",
    "        #pragma omp section\n",
    "        funcA ();\n",
    "        #pragma omp section\n",
    "        funcB ();\n",
    "        #pragma omp section\n",
    "        funcC ();\n",
    "        }\n",
    "        }\n"
   ]
  },
  {
   "cell_type": "markdown",
   "metadata": {},
   "source": [
    "## Single execution"
   ]
  },
  {
   "cell_type": "markdown",
   "metadata": {},
   "source": [
    "        #pragma omp single { ... }\n"
   ]
  },
  {
   "cell_type": "markdown",
   "metadata": {},
   "source": [
    "The code is executed by one thread only, no guarantee which thread\n",
    "\n",
    "Can introduce an implicit barrier at the end"
   ]
  },
  {
   "cell_type": "markdown",
   "metadata": {},
   "source": [
    "        #pragma omp master { ... }\n"
   ]
  },
  {
   "cell_type": "markdown",
   "metadata": {},
   "source": [
    "Code executed by the master thread, guaranteed and no implicit barrier at the end.\n",
    "\n",
    "\n",
    "\n",
    "\n",
    "## Coordination and synchronization"
   ]
  },
  {
   "cell_type": "markdown",
   "metadata": {},
   "source": [
    "        #pragma omp barrier\n"
   ]
  },
  {
   "cell_type": "markdown",
   "metadata": {},
   "source": [
    "Synchronization, must be encountered by all threads in a team (or none)"
   ]
  },
  {
   "cell_type": "markdown",
   "metadata": {},
   "source": [
    "        #pragma omp ordered { a block of codes }\n"
   ]
  },
  {
   "cell_type": "markdown",
   "metadata": {},
   "source": [
    "is another form of synchronization (in sequential order).\n",
    "The form"
   ]
  },
  {
   "cell_type": "markdown",
   "metadata": {},
   "source": [
    "        #pragma omp critical { a block of codes }\n"
   ]
  },
  {
   "cell_type": "markdown",
   "metadata": {},
   "source": [
    "and"
   ]
  },
  {
   "cell_type": "markdown",
   "metadata": {},
   "source": [
    "        #pragma omp atomic { single assignment statement }\n"
   ]
  },
  {
   "cell_type": "markdown",
   "metadata": {},
   "source": [
    "is  more efficient than"
   ]
  },
  {
   "cell_type": "markdown",
   "metadata": {},
   "source": [
    "        #pragma omp critical\n"
   ]
  },
  {
   "cell_type": "markdown",
   "metadata": {},
   "source": [
    "## Data scope\n",
    "* OpenMP data scope attribute clauses:\n",
    "\n",
    " * **shared**\n",
    "\n",
    " * **private**\n",
    "\n",
    " * **firstprivate**\n",
    "\n",
    " * **lastprivate**\n",
    "\n",
    " * **reduction**\n",
    "\n",
    "\n",
    "What are the purposes of these attributes\n",
    "* define how and which variables are transferred to a parallel region (and back)\n",
    "\n",
    "* define which variables are visible to all threads in a parallel region, and which variables are privately allocated to each thread\n",
    "\n",
    "\n",
    "\n",
    "\n",
    "## Some remarks\n",
    "\n",
    "* When entering a parallel region, the **private** clause ensures each thread having its own new variable instances. The new variables are assumed to be uninitialized.\n",
    "\n",
    "* A shared variable exists in only one memory location and all threads can read and write to that address. It is the programmer's responsibility to ensure that multiple threads properly access a shared variable.\n",
    "\n",
    "* The **firstprivate** clause combines the behavior of the private clause with automatic initialization.\n",
    "\n",
    "* The **lastprivate** clause combines the behavior of the private clause with a copy back (from the last loop iteration or section) to the original variable outside the parallel region.\n",
    "\n",
    "\n",
    "\n",
    "\n",
    "## Parallelizing nested for-loops\n",
    "\n",
    " * Serial code"
   ]
  },
  {
   "cell_type": "markdown",
   "metadata": {},
   "source": [
    "        for (i=0; i<100; i++)\n",
    "            for (j=0; j<100; j++)\n",
    "                a[i][j] = b[i][j] + c[i][j];\n",
    "            }\n",
    "        }\n"
   ]
  },
  {
   "cell_type": "markdown",
   "metadata": {},
   "source": [
    "* Parallelization"
   ]
  },
  {
   "cell_type": "markdown",
   "metadata": {},
   "source": [
    "        #pragma omp parallel for private(j)\n",
    "        for (i=0; i<100; i++)\n",
    "            for (j=0; j<100; j++)\n",
    "               a[i][j] = b[i][j] + c[i][j];\n",
    "            }\n",
    "        }\n"
   ]
  },
  {
   "cell_type": "markdown",
   "metadata": {},
   "source": [
    "* Why not parallelize the inner loop? to save overhead of repeated thread forks-joins\n",
    "\n",
    "* Why must **j** be private? To avoid race condition among the threads\n",
    "\n",
    "\n",
    "\n",
    "\n",
    "## Nested parallelism\n",
    "When a thread in a parallel region encounters another parallel construct, it\n",
    "may create a new team of threads and become the master of the new\n",
    "team."
   ]
  },
  {
   "cell_type": "markdown",
   "metadata": {},
   "source": [
    "        #pragma omp parallel num_threads(4)\n",
    "        {\n",
    "        /* .... */\n",
    "        #pragma omp parallel num_threads(2)\n",
    "        {\n",
    "        //  \n",
    "        }\n",
    "        }\n"
   ]
  },
  {
   "cell_type": "markdown",
   "metadata": {},
   "source": [
    "## Parallel tasks"
   ]
  },
  {
   "cell_type": "markdown",
   "metadata": {},
   "source": [
    "        #pragma omp task \n",
    "        #pragma omp parallel shared(p_vec) private(i)\n",
    "        {\n",
    "        #pragma omp single\n",
    "        {\n",
    "        for (i=0; i<N; i++) {\n",
    "          double r = random_number();\n",
    "          if (p_vec[i] > r) {\n",
    "        #pragma omp task\n",
    "           do_work (p_vec[i]);\n"
   ]
  },
  {
   "cell_type": "markdown",
   "metadata": {},
   "source": [
    "## Common mistakes\n",
    "Race condition"
   ]
  },
  {
   "cell_type": "markdown",
   "metadata": {},
   "source": [
    "        int nthreads;\n",
    "        #pragma omp parallel shared(nthreads)\n",
    "        {\n",
    "        nthreads = omp_get_num_threads();\n",
    "        }\n"
   ]
  },
  {
   "cell_type": "markdown",
   "metadata": {},
   "source": [
    "Deadlock"
   ]
  },
  {
   "cell_type": "markdown",
   "metadata": {},
   "source": [
    "        #pragma omp parallel\n",
    "        {\n",
    "        ...\n",
    "        #pragma omp critical\n",
    "        {\n",
    "        ...\n",
    "        #pragma omp barrier\n",
    "        }\n",
    "        }\n"
   ]
  },
  {
   "cell_type": "markdown",
   "metadata": {},
   "source": [
    "<!-- !split  -->\n",
    "## Not all computations are simple\n",
    "Not all computations are simple loops where the data can be evenly \n",
    "divided among threads without any dependencies between threads\n",
    "\n",
    "An example is finding the location and value of the largest element in an array"
   ]
  },
  {
   "cell_type": "markdown",
   "metadata": {},
   "source": [
    "        for (i=0; i<n; i++) { \n",
    "           if (x[i] > maxval) {\n",
    "              maxval = x[i];\n",
    "              maxloc = i; \n",
    "           }\n",
    "        }\n"
   ]
  },
  {
   "cell_type": "markdown",
   "metadata": {},
   "source": [
    "<!-- !split  -->\n",
    "## Not all computations are simple, competing threads\n",
    "All threads are potentially accessing and changing the same values, **maxloc** and **maxval**.\n",
    "1. OpenMP provides several ways to coordinate access to shared values"
   ]
  },
  {
   "cell_type": "markdown",
   "metadata": {},
   "source": [
    "        #pragma omp atomic\n"
   ]
  },
  {
   "cell_type": "markdown",
   "metadata": {},
   "source": [
    "1. Only one thread at a time can execute the following statement (not block). We can use the critical option"
   ]
  },
  {
   "cell_type": "markdown",
   "metadata": {},
   "source": [
    "        #pragma omp critical\n"
   ]
  },
  {
   "cell_type": "markdown",
   "metadata": {},
   "source": [
    "1. Only one thread at a time can execute the following block\n",
    "\n",
    "Atomic may be faster than critical but depends on hardware\n",
    "\n",
    "\n",
    "\n",
    "## How to find the max value using OpenMP\n",
    "Write down the simplest algorithm and look carefully for race conditions. How would you handle them? \n",
    "The first step would be to parallelize as"
   ]
  },
  {
   "cell_type": "markdown",
   "metadata": {},
   "source": [
    "        #pragma omp parallel for\n",
    "         for (i=0; i<n; i++) {\n",
    "            if (x[i] > maxval) {\n",
    "              maxval = x[i];\n",
    "              maxloc = i; \n",
    "            }\n",
    "        }\n"
   ]
  },
  {
   "cell_type": "markdown",
   "metadata": {},
   "source": [
    "## Then deal with the race conditions\n",
    "Write down the simplest algorithm and look carefully for race conditions. How would you handle them? \n",
    "The first step would be to parallelize as"
   ]
  },
  {
   "cell_type": "markdown",
   "metadata": {},
   "source": [
    "        #pragma omp parallel for\n",
    "         for (i=0; i<n; i++) {\n",
    "        #pragma omp critical\n",
    "          {\n",
    "             if (x[i] > maxval) {\n",
    "               maxval = x[i];\n",
    "               maxloc = i; \n",
    "             }\n",
    "          }\n",
    "        } \n"
   ]
  },
  {
   "cell_type": "markdown",
   "metadata": {},
   "source": [
    "Exercise: write a code which implements this and give an estimate on performance. Perform several runs,\n",
    "with a serial code only with and without vectorization and compare the serial code with the one that  uses OpenMP. Run on different archictectures if you can.\n",
    "\n",
    "\n",
    "## What can slow down OpenMP performance?\n",
    "Give it a thought!\n",
    "\n",
    "## What can slow down OpenMP performance?\n",
    "Performance poor because we insisted on keeping track of the maxval and location during the execution of the loop.\n",
    " * We do not care about the value during the execution of the loop, just the value at the end.\n",
    "\n",
    "This is a common source of performance issues, namely the description of the method used to compute a value imposes additional, unnecessary requirements or properties\n",
    "\n",
    "**Idea: Have each thread find the maxloc in its own data, then combine and use temporary arrays indexed by thread number to hold the values found by each thread**\n",
    "\n",
    "\n",
    "\n",
    "## Find the max location for each thread"
   ]
  },
  {
   "cell_type": "markdown",
   "metadata": {},
   "source": [
    "        int maxloc[MAX_THREADS], mloc;\n",
    "        double maxval[MAX_THREADS], mval; \n",
    "        #pragma omp parallel shared(maxval,maxloc)\n",
    "        {\n",
    "          int id = omp_get_thread_num(); \n",
    "          maxval[id] = -1.0e30;\n",
    "        #pragma omp for\n",
    "           for (int i=0; i<n; i++) {\n",
    "               if (x[i] > maxval[id]) { \n",
    "                   maxloc[id] = i;\n",
    "                   maxval[id] = x[i]; \n",
    "               }\n",
    "            }\n",
    "        }\n"
   ]
  },
  {
   "cell_type": "markdown",
   "metadata": {},
   "source": [
    "## Combine the values from each thread"
   ]
  },
  {
   "cell_type": "markdown",
   "metadata": {},
   "source": [
    "        #pragma omp flush (maxloc,maxval)\n",
    "        #pragma omp master\n",
    "          {\n",
    "            int nt = omp_get_num_threads(); \n",
    "            mloc = maxloc[0]; \n",
    "            mval = maxval[0]; \n",
    "            for (int i=1; i<nt; i++) {\n",
    "                if (maxval[i] > mval) { \n",
    "                   mval = maxval[i]; \n",
    "                   mloc = maxloc[i];\n",
    "                } \n",
    "             }\n",
    "           }\n"
   ]
  },
  {
   "cell_type": "markdown",
   "metadata": {},
   "source": [
    "Note that we let the master process perform the last operation.\n",
    "\n",
    "\n",
    "## [Matrix-matrix multiplication](https://github.com/CompPhysics/ComputationalPhysicsMSU/blob/master/doc/Programs/ParallelizationOpenMP/OpenMPvectornorm.cpp)\n",
    "This code computes the norm of a vector using OpenMp"
   ]
  },
  {
   "cell_type": "markdown",
   "metadata": {},
   "source": [
    "        //  OpenMP program to compute vector norm by adding two other vectors\n",
    "        #include <cstdlib>\n",
    "        #include <iostream>\n",
    "        #include <cmath>\n",
    "        #include <iomanip>\n",
    "        #include  <omp.h>\n",
    "        # include <ctime>\n",
    "        \n",
    "        using namespace std; // note use of namespace\n",
    "        int main (int argc, char* argv[])\n",
    "        {\n",
    "          // read in dimension of vector\n",
    "          int n = atoi(argv[1]);\n",
    "          double *a, *b, *c;\n",
    "          int i;\n",
    "          int thread_num;\n",
    "          double wtime, Norm2, s, angle;\n",
    "          cout << \"  Perform addition of two vectors and compute the norm-2.\" << endl;\n",
    "          omp_set_num_threads(4);\n",
    "          thread_num = omp_get_max_threads ();\n",
    "          cout << \"  The number of processors available = \" << omp_get_num_procs () << endl ;\n",
    "          cout << \"  The number of threads available    = \" << thread_num <<  endl;\n",
    "          cout << \"  The matrix order n                 = \" << n << endl;\n",
    "        \n",
    "          s = 1.0/sqrt( (double) n);\n",
    "          wtime = omp_get_wtime ( );\n",
    "          // Allocate space for the vectors to be used\n",
    "          a = new double [n]; b = new double [n]; c = new double [n];\n",
    "          // Define parallel region\n",
    "        # pragma omp parallel for default(shared) private (angle, i) reduction(+:Norm2)\n",
    "          // Set up values for vectors  a and b\n",
    "          for (i = 0; i < n; i++){\n",
    "              angle = 2.0*M_PI*i/ (( double ) n);\n",
    "              a[i] = s*(sin(angle) + cos(angle));\n",
    "              b[i] =  s*sin(2.0*angle);\n",
    "              c[i] = 0.0;\n",
    "          }\n",
    "          // Then perform the vector addition\n",
    "          for (i = 0; i < n; i++){\n",
    "             c[i] += a[i]+b[i];\n",
    "          }\n",
    "          // Compute now the norm-2\n",
    "          Norm2 = 0.0;\n",
    "          for (i = 0; i < n; i++){\n",
    "             Norm2  += c[i]*c[i];\n",
    "          }\n",
    "        // end parallel region\n",
    "          wtime = omp_get_wtime ( ) - wtime;\n",
    "          cout << setiosflags(ios::showpoint | ios::uppercase);\n",
    "          cout << setprecision(10) << setw(20) << \"Time used  for norm-2 computation=\" << wtime  << endl;\n",
    "          cout << \" Norm-2  = \" << Norm2 << endl;\n",
    "          // Free up space\n",
    "          delete[] a;\n",
    "          delete[] b;\n",
    "          delete[] c;\n",
    "          return 0;\n",
    "        }\n"
   ]
  },
  {
   "cell_type": "markdown",
   "metadata": {},
   "source": [
    "## [Matrix-matrix multiplication](https://github.com/CompPhysics/ComputationalPhysicsMSU/blob/master/doc/Programs/ParallelizationOpenMP/OpenMPmatrixmatrixmult.cpp)\n",
    "This the matrix-matrix multiplication code with plain c++ memory allocation using OpenMP"
   ]
  },
  {
   "cell_type": "markdown",
   "metadata": {},
   "source": [
    "        //  Matrix-matrix multiplication and Frobenius norm of a matrix with OpenMP\n",
    "        #include <cstdlib>\n",
    "        #include <iostream>\n",
    "        #include <cmath>\n",
    "        #include <iomanip>\n",
    "        #include  <omp.h>\n",
    "        # include <ctime>\n",
    "        \n",
    "        using namespace std; // note use of namespace\n",
    "        int main (int argc, char* argv[])\n",
    "        {\n",
    "          // read in dimension of square matrix\n",
    "          int n = atoi(argv[1]);\n",
    "          double **A, **B, **C;\n",
    "          int i, j, k;\n",
    "          int thread_num;\n",
    "          double wtime, Fsum, s, angle;\n",
    "          cout << \"  Compute matrix product C = A * B and Frobenius norm.\" << endl;\n",
    "          omp_set_num_threads(4);\n",
    "          thread_num = omp_get_max_threads ();\n",
    "          cout << \"  The number of processors available = \" << omp_get_num_procs () << endl ;\n",
    "          cout << \"  The number of threads available    = \" << thread_num <<  endl;\n",
    "          cout << \"  The matrix order n                 = \" << n << endl;\n",
    "        \n",
    "          s = 1.0/sqrt( (double) n);\n",
    "          wtime = omp_get_wtime ( );\n",
    "          // Allocate space for the two matrices\n",
    "          A = new double*[n]; B = new double*[n]; C = new double*[n];\n",
    "          for (i = 0; i < n; i++){\n",
    "            A[i] = new double[n];\n",
    "            B[i] = new double[n];\n",
    "            C[i] = new double[n];\n",
    "          }\n",
    "          // Define parallel region\n",
    "        # pragma omp parallel for default(shared) private (angle, i, j, k) reduction(+:Fsum)\n",
    "          // Set up values for matrix A and B and zero matrix C\n",
    "          for (i = 0; i < n; i++){\n",
    "            for (j = 0; j < n; j++) {\n",
    "              angle = 2.0*M_PI*i*j/ (( double ) n);\n",
    "              A[i][j] = s * ( sin ( angle ) + cos ( angle ) );\n",
    "              B[j][i] =  A[i][j];\n",
    "            }\n",
    "          }\n",
    "          // Then perform the matrix-matrix multiplication\n",
    "          for (i = 0; i < n; i++){\n",
    "            for (j = 0; j < n; j++) {\n",
    "               C[i][j] =  0.0;    \n",
    "               for (k = 0; k < n; k++) {\n",
    "                    C[i][j] += A[i][k]*B[k][j];\n",
    "               }\n",
    "            }\n",
    "          }\n",
    "          // Compute now the Frobenius norm\n",
    "          Fsum = 0.0;\n",
    "          for (i = 0; i < n; i++){\n",
    "            for (j = 0; j < n; j++) {\n",
    "              Fsum += C[i][j]*C[i][j];\n",
    "            }\n",
    "          }\n",
    "          Fsum = sqrt(Fsum);\n",
    "        // end parallel region and letting only one thread perform I/O\n",
    "          wtime = omp_get_wtime ( ) - wtime;\n",
    "          cout << setiosflags(ios::showpoint | ios::uppercase);\n",
    "          cout << setprecision(10) << setw(20) << \"Time used  for matrix-matrix multiplication=\" << wtime  << endl;\n",
    "          cout << \"  Frobenius norm  = \" << Fsum << endl;\n",
    "          // Free up space\n",
    "          for (int i = 0; i < n; i++){\n",
    "            delete[] A[i];\n",
    "            delete[] B[i];\n",
    "            delete[] C[i];\n",
    "          }\n",
    "          delete[] A;\n",
    "          delete[] B;\n",
    "          delete[] C;\n",
    "          return 0;\n",
    "        }\n",
    "        \n",
    "        \n"
   ]
  },
  {
   "cell_type": "markdown",
   "metadata": {},
   "source": [
    "## What is Message Passing Interface (MPI)?\n",
    "\n",
    "**MPI** is a library, not a language. It specifies the names, calling sequences and results of functions\n",
    "or subroutines to be called from C/C++ or Fortran programs, and the classes and methods that make up the MPI C++\n",
    "library. The programs that users write in Fortran, C or C++ are compiled with ordinary compilers and linked\n",
    "with the MPI library.\n",
    "\n",
    "MPI programs should be able to run\n",
    "on all possible machines and run all MPI implementetations without change.\n",
    "\n",
    "An MPI computation is a collection of processes communicating with messages.\n",
    "\n",
    "\n",
    "## Going Parallel with MPI\n",
    "**Task parallelism**: the work of a global problem can be divided\n",
    "into a number of independent tasks, which rarely need to synchronize. \n",
    "Monte Carlo simulations or numerical integration are examples of this.\n",
    "\n",
    "\n",
    "MPI is a message-passing library where all the routines\n",
    "have corresponding C/C++-binding"
   ]
  },
  {
   "cell_type": "markdown",
   "metadata": {},
   "source": [
    "           MPI_Command_name\n"
   ]
  },
  {
   "cell_type": "markdown",
   "metadata": {},
   "source": [
    "and Fortran-binding (routine names are in uppercase, but can also be in lower case)"
   ]
  },
  {
   "cell_type": "markdown",
   "metadata": {},
   "source": [
    "           MPI_COMMAND_NAME\n"
   ]
  },
  {
   "cell_type": "markdown",
   "metadata": {},
   "source": [
    "## MPI is a library\n",
    "MPI is a library specification for the message passing interface,\n",
    "proposed as a standard.\n",
    "\n",
    "* independent of hardware;\n",
    "\n",
    "* not a language or compiler specification;\n",
    "\n",
    "* not a specific implementation or product.\n",
    "\n",
    "A message passing standard for portability and ease-of-use. \n",
    "Designed for high performance.\n",
    "\n",
    "Insert communication and synchronization functions where necessary.\n",
    "\n",
    "\n",
    "\n",
    "\n",
    "\n",
    "## Bindings to MPI routines\n",
    "\n",
    "\n",
    "MPI is a message-passing library where all the routines\n",
    "have corresponding C/C++-binding"
   ]
  },
  {
   "cell_type": "markdown",
   "metadata": {},
   "source": [
    "           MPI_Command_name\n"
   ]
  },
  {
   "cell_type": "markdown",
   "metadata": {},
   "source": [
    "and Fortran-binding (routine names are in uppercase, but can also be in lower case)"
   ]
  },
  {
   "cell_type": "markdown",
   "metadata": {},
   "source": [
    "           MPI_COMMAND_NAME\n"
   ]
  },
  {
   "cell_type": "markdown",
   "metadata": {},
   "source": [
    "The discussion in these slides focuses on the C++ binding.\n",
    "\n",
    "\n",
    "\n",
    "\n",
    "## Communicator\n",
    "* A group of MPI processes with a name (context).\n",
    "\n",
    "* Any process is identified by its rank. The rank is only meaningful within a particular communicator.\n",
    "\n",
    "* By default the communicator contains all the MPI processes."
   ]
  },
  {
   "cell_type": "markdown",
   "metadata": {},
   "source": [
    "          MPI_COMM_WORLD \n"
   ]
  },
  {
   "cell_type": "markdown",
   "metadata": {},
   "source": [
    "* Mechanism to identify subset of processes.\n",
    "\n",
    "* Promotes modular design of parallel libraries.\n",
    "\n",
    "\n",
    "\n",
    "\n",
    "## Some of the most  important MPI functions\n",
    "\n",
    "\n",
    "\n",
    "* $MPI\\_Init$ - initiate an MPI computation\n",
    "\n",
    "* $MPI\\_Finalize$ - terminate the MPI computation and clean up\n",
    "\n",
    "* $MPI\\_Comm\\_size$ - how many processes participate in a given MPI communicator?\n",
    "\n",
    "* $MPI\\_Comm\\_rank$ - which one am I? (A number between 0 and size-1.)\n",
    "\n",
    "* $MPI\\_Send$ - send a message to a particular process within an MPI communicator\n",
    "\n",
    "* $MPI\\_Recv$ - receive a message from a particular process within an MPI communicator\n",
    "\n",
    "* $MPI\\_reduce$  or $MPI\\_Allreduce$, send and receive messages\n",
    "\n",
    "\n",
    "\n",
    "\n",
    "## [The first MPI C/C++ program](https://github.com/CompPhysics/ComputationalPhysics2/blob/gh-pages/doc/Programs/LecturePrograms/programs/MPI/chapter07/program2.cpp)\n",
    "\n",
    "\n",
    "Let every process write \"Hello world\" (oh not this program again!!) on the standard output."
   ]
  },
  {
   "cell_type": "markdown",
   "metadata": {},
   "source": [
    "        using namespace std;\n",
    "        #include <mpi.h>\n",
    "        #include <iostream>\n",
    "        int main (int nargs, char* args[])\n",
    "        {\n",
    "        int numprocs, my_rank;\n",
    "        //   MPI initializations\n",
    "        MPI_Init (&nargs, &args);\n",
    "        MPI_Comm_size (MPI_COMM_WORLD, &numprocs);\n",
    "        MPI_Comm_rank (MPI_COMM_WORLD, &my_rank);\n",
    "        cout << \"Hello world, I have  rank \" << my_rank << \" out of \" \n",
    "             << numprocs << endl;\n",
    "        //  End MPI\n",
    "        MPI_Finalize ();\n"
   ]
  },
  {
   "cell_type": "markdown",
   "metadata": {},
   "source": [
    "## The Fortran program"
   ]
  },
  {
   "cell_type": "markdown",
   "metadata": {},
   "source": [
    "        PROGRAM hello\n",
    "        INCLUDE \"mpif.h\"\n",
    "        INTEGER:: size, my_rank, ierr\n",
    "        \n",
    "        CALL  MPI_INIT(ierr)\n",
    "        CALL MPI_COMM_SIZE(MPI_COMM_WORLD, size, ierr)\n",
    "        CALL MPI_COMM_RANK(MPI_COMM_WORLD, my_rank, ierr)\n",
    "        WRITE(*,*)\"Hello world, I've rank \",my_rank,\" out of \",size\n",
    "        CALL MPI_FINALIZE(ierr)\n",
    "        \n",
    "        END PROGRAM hello\n"
   ]
  },
  {
   "cell_type": "markdown",
   "metadata": {},
   "source": [
    "## Note 1\n",
    "\n",
    "* The output to screen is not ordered since all processes are trying to write  to screen simultaneously.\n",
    "\n",
    "* It is the operating system which opts for an ordering.  \n",
    "\n",
    "* If we wish to have an organized output, starting from the first process, we may rewrite our program as in the next example.\n",
    "\n",
    "\n",
    "\n",
    "\n",
    "## [Ordered output with MPIBarrier](https://github.com/CompPhysics/ComputationalPhysics2/blob/gh-pages/doc/Programs/LecturePrograms/programs/MPI/chapter07/program3.cpp)"
   ]
  },
  {
   "cell_type": "markdown",
   "metadata": {},
   "source": [
    "        int main (int nargs, char* args[])\n",
    "        {\n",
    "         int numprocs, my_rank, i;\n",
    "         MPI_Init (&nargs, &args);\n",
    "         MPI_Comm_size (MPI_COMM_WORLD, &numprocs);\n",
    "         MPI_Comm_rank (MPI_COMM_WORLD, &my_rank);\n",
    "         for (i = 0; i < numprocs; i++) {}\n",
    "         MPI_Barrier (MPI_COMM_WORLD);\n",
    "         if (i == my_rank) {\n",
    "         cout << \"Hello world, I have  rank \" << my_rank << \n",
    "                \" out of \" << numprocs << endl;}\n",
    "              MPI_Finalize ();\n"
   ]
  },
  {
   "cell_type": "markdown",
   "metadata": {},
   "source": [
    "## Note 2\n",
    "* Here we have used the $MPI\\_Barrier$ function to ensure that that every process has completed  its set of instructions in  a particular order.\n",
    "\n",
    "* A barrier is a special collective operation that does not allow the processes to continue until all processes in the communicator (here $MPI\\_COMM\\_WORLD$) have called $MPI\\_Barrier$. \n",
    "\n",
    "* The barriers make sure that all processes have reached the same point in the code. Many of the collective operations like $MPI\\_ALLREDUCE$ to be discussed later, have the same property; that is, no process can exit the operation until all processes have started. \n",
    "\n",
    "However, this is slightly more time-consuming since the processes synchronize between themselves as many times as there\n",
    "are processes.  In the next Hello world example we use the send and receive functions in order to a have a synchronized\n",
    "action.\n",
    "\n",
    "\n",
    "\n",
    "\n",
    "## [Ordered output](https://github.com/CompPhysics/ComputationalPhysics2/blob/gh-pages/doc/Programs/LecturePrograms/programs/MPI/chapter07/program4.cpp)"
   ]
  },
  {
   "cell_type": "markdown",
   "metadata": {},
   "source": [
    "        .....\n",
    "        int numprocs, my_rank, flag;\n",
    "        MPI_Status status;\n",
    "        MPI_Init (&nargs, &args);\n",
    "        MPI_Comm_size (MPI_COMM_WORLD, &numprocs);\n",
    "        MPI_Comm_rank (MPI_COMM_WORLD, &my_rank);\n",
    "        if (my_rank > 0)\n",
    "        MPI_Recv (&flag, 1, MPI_INT, my_rank-1, 100, \n",
    "                   MPI_COMM_WORLD, &status);\n",
    "        cout << \"Hello world, I have  rank \" << my_rank << \" out of \" \n",
    "        << numprocs << endl;\n",
    "        if (my_rank < numprocs-1)\n",
    "        MPI_Send (&my_rank, 1, MPI_INT, my_rank+1, \n",
    "                  100, MPI_COMM_WORLD);\n",
    "        MPI_Finalize ();\n"
   ]
  },
  {
   "cell_type": "markdown",
   "metadata": {},
   "source": [
    "## Note 3\n",
    "\n",
    "\n",
    "The basic sending of messages is given by the function $MPI\\_SEND$, which in C/C++\n",
    "is defined as"
   ]
  },
  {
   "cell_type": "markdown",
   "metadata": {},
   "source": [
    "        int MPI_Send(void *buf, int count, \n",
    "                     MPI_Datatype datatype, \n",
    "                     int dest, int tag, MPI_Comm comm)}\n"
   ]
  },
  {
   "cell_type": "markdown",
   "metadata": {},
   "source": [
    "This single command allows the passing of any kind of variable, even a large array, to any group of tasks. \n",
    "The variable **buf** is the variable we wish to send while **count**\n",
    "is the  number of variables we are passing. If we are passing only a single value, this should be 1. \n",
    "\n",
    "If we transfer an array, it is  the overall size of the array. \n",
    "For example, if we want to send a 10 by 10 array, count would be $10\\times 10=100$ \n",
    "since we are  actually passing 100 values.\n",
    "\n",
    "\n",
    "\n",
    "\n",
    "## Note 4\n",
    "\n",
    "Once you have  sent a message, you must receive it on another task. The function $MPI\\_RECV$\n",
    "is similar to the send call."
   ]
  },
  {
   "cell_type": "markdown",
   "metadata": {},
   "source": [
    "        int MPI_Recv( void *buf, int count, MPI_Datatype datatype, \n",
    "                    int source, \n",
    "                    int tag, MPI_Comm comm, MPI_Status *status )\n"
   ]
  },
  {
   "cell_type": "markdown",
   "metadata": {},
   "source": [
    "The arguments that are different from those in MPI\\_SEND are\n",
    "**buf** which  is the name of the variable where you will  be storing the received data, \n",
    "**source** which  replaces the destination in the send command. This is the return ID of the sender.\n",
    "\n",
    "Finally,  we have used  $MPI\\_Status\\_status$,  \n",
    "where one can check if the receive was completed.\n",
    "\n",
    "The output of this code is the same as the previous example, but now\n",
    "process 0 sends a message to process 1, which forwards it further\n",
    "to process 2, and so forth.\n",
    "\n",
    "\n",
    "\n",
    "## [Numerical integration in parallel](https://github.com/CompPhysics/ComputationalPhysics2/blob/gh-pages/doc/Programs/LecturePrograms/programs/MPI/chapter07/program6.cpp)\n",
    "**Integrating $\\pi$.**\n",
    "\n",
    "\n",
    "* The code example computes $\\pi$ using the trapezoidal rules.\n",
    "\n",
    "* The trapezoidal rule"
   ]
  },
  {
   "cell_type": "markdown",
   "metadata": {},
   "source": [
    "$$\n",
    "I=\\int_a^bf(x) dx\\approx h\\left(f(a)/2 + f(a+h) +f(a+2h)+\\dots +f(b-h)+ f(b)/2\\right).\n",
    "$$"
   ]
  },
  {
   "cell_type": "markdown",
   "metadata": {},
   "source": [
    "Click [on this link](https://github.com/CompPhysics/ComputationalPhysics2/blob/gh-pages/doc/Programs/LecturePrograms/programs/MPI/chapter07/program6.cpp) for the full program.\n",
    "\n",
    "\n",
    "\n",
    "## Dissection of trapezoidal rule with $MPI\\_reduce$"
   ]
  },
  {
   "cell_type": "markdown",
   "metadata": {},
   "source": [
    "        //    Trapezoidal rule and numerical integration usign MPI\n",
    "        using namespace std;\n",
    "        #include <mpi.h>\n",
    "        #include <iostream>\n",
    "        \n",
    "        //     Here we define various functions called by the main program\n",
    "        \n",
    "        double int_function(double );\n",
    "        double trapezoidal_rule(double , double , int , double (*)(double));\n",
    "        \n",
    "        //   Main function begins here\n",
    "        int main (int nargs, char* args[])\n",
    "        {\n",
    "          int n, local_n, numprocs, my_rank; \n",
    "          double a, b, h, local_a, local_b, total_sum, local_sum;   \n",
    "          double  time_start, time_end, total_time;\n"
   ]
  },
  {
   "cell_type": "markdown",
   "metadata": {},
   "source": [
    "## Dissection of trapezoidal rule"
   ]
  },
  {
   "cell_type": "markdown",
   "metadata": {},
   "source": [
    "          //  MPI initializations\n",
    "          MPI_Init (&nargs, &args);\n",
    "          MPI_Comm_size (MPI_COMM_WORLD, &numprocs);\n",
    "          MPI_Comm_rank (MPI_COMM_WORLD, &my_rank);\n",
    "          time_start = MPI_Wtime();\n",
    "          //  Fixed values for a, b and n \n",
    "          a = 0.0 ; b = 1.0;  n = 1000;\n",
    "          h = (b-a)/n;    // h is the same for all processes \n",
    "          local_n = n/numprocs;  \n",
    "          // make sure n > numprocs, else integer division gives zero\n",
    "          // Length of each process' interval of\n",
    "          // integration = local_n*h.  \n",
    "          local_a = a + my_rank*local_n*h;\n",
    "          local_b = local_a + local_n*h;\n"
   ]
  },
  {
   "cell_type": "markdown",
   "metadata": {},
   "source": [
    "## Integrating with **MPI**"
   ]
  },
  {
   "cell_type": "markdown",
   "metadata": {},
   "source": [
    "          total_sum = 0.0;\n",
    "          local_sum = trapezoidal_rule(local_a, local_b, local_n, \n",
    "                                       &int_function); \n",
    "          MPI_Reduce(&local_sum, &total_sum, 1, MPI_DOUBLE, \n",
    "                      MPI_SUM, 0, MPI_COMM_WORLD);\n",
    "          time_end = MPI_Wtime();\n",
    "          total_time = time_end-time_start;\n",
    "          if ( my_rank == 0) {\n",
    "            cout << \"Trapezoidal rule = \" <<  total_sum << endl;\n",
    "            cout << \"Time = \" <<  total_time  \n",
    "                 << \" on number of processors: \"  << numprocs  << endl;\n",
    "          }\n",
    "          // End MPI\n",
    "          MPI_Finalize ();  \n",
    "          return 0;\n",
    "        }  // end of main program\n"
   ]
  },
  {
   "cell_type": "markdown",
   "metadata": {},
   "source": [
    "## How do I use $MPI\\_reduce$?\n",
    "\n",
    "Here we have used"
   ]
  },
  {
   "cell_type": "markdown",
   "metadata": {},
   "source": [
    "        MPI_reduce( void *senddata, void* resultdata, int count, \n",
    "             MPI_Datatype datatype, MPI_Op, int root, MPI_Comm comm)\n"
   ]
  },
  {
   "cell_type": "markdown",
   "metadata": {},
   "source": [
    "The two variables $senddata$ and $resultdata$ are obvious, besides the fact that one sends the address\n",
    "of the variable or the first element of an array.  If they are arrays they need to have the same size. \n",
    "The variable $count$ represents the total dimensionality, 1 in case of just one variable, \n",
    "while $MPI\\_Datatype$ \n",
    "defines the type of variable which is sent and received.  \n",
    "\n",
    "The new feature is $MPI\\_Op$. It defines the type\n",
    "of operation we want to do.\n",
    "\n",
    "\n",
    "\n",
    "## More on $MPI\\_Reduce$\n",
    "In our case, since we are summing\n",
    "the rectangle  contributions from every process we define  $MPI\\_Op = MPI\\_SUM$.\n",
    "If we have an array or matrix we can search for the largest og smallest element by sending either $MPI\\_MAX$ or \n",
    "$MPI\\_MIN$.  If we want the location as well (which array element) we simply transfer \n",
    "$MPI\\_MAXLOC$ or $MPI\\_MINOC$. If we want the product we write $MPI\\_PROD$. \n",
    "\n",
    "$MPI\\_Allreduce$ is defined as"
   ]
  },
  {
   "cell_type": "markdown",
   "metadata": {},
   "source": [
    "        MPI_Allreduce( void *senddata, void* resultdata, int count, \n",
    "                  MPI_Datatype datatype, MPI_Op, MPI_Comm comm)        \n"
   ]
  },
  {
   "cell_type": "markdown",
   "metadata": {},
   "source": [
    "## Dissection of trapezoidal rule\n",
    "\n",
    "We use $MPI\\_reduce$ to collect data from each process. Note also the use of the function \n",
    "$MPI\\_Wtime$."
   ]
  },
  {
   "cell_type": "markdown",
   "metadata": {},
   "source": [
    "        //  this function defines the function to integrate\n",
    "        double int_function(double x)\n",
    "        {\n",
    "          double value = 4./(1.+x*x);\n",
    "          return value;\n",
    "        } // end of function to evaluate\n",
    "        \n"
   ]
  },
  {
   "cell_type": "markdown",
   "metadata": {},
   "source": [
    "## Dissection of trapezoidal rule"
   ]
  },
  {
   "cell_type": "markdown",
   "metadata": {},
   "source": [
    "        //  this function defines the trapezoidal rule\n",
    "        double trapezoidal_rule(double a, double b, int n, \n",
    "                                 double (*func)(double))\n",
    "        {\n",
    "          double trapez_sum;\n",
    "          double fa, fb, x, step;\n",
    "          int    j;\n",
    "          step=(b-a)/((double) n);\n",
    "          fa=(*func)(a)/2. ;\n",
    "          fb=(*func)(b)/2. ;\n",
    "          trapez_sum=0.;\n",
    "          for (j=1; j <= n-1; j++){\n",
    "            x=j*step+a;\n",
    "            trapez_sum+=(*func)(x);\n",
    "          }\n",
    "          trapez_sum=(trapez_sum+fb+fa)*step;\n",
    "          return trapez_sum;\n",
    "        }  // end trapezoidal_rule \n"
   ]
  },
  {
   "cell_type": "markdown",
   "metadata": {},
   "source": [
    "## [The quantum dot program for two electrons](https://github.com/CompPhysics/ComputationalPhysics2/blob/master/doc/Programs/ParallelizationMPI/MPIvmcqdot.cpp)"
   ]
  },
  {
   "cell_type": "markdown",
   "metadata": {},
   "source": [
    "        // Variational Monte Carlo for atoms with importance sampling, slater det\n",
    "        // Test case for 2-electron quantum dot, no classes using Mersenne-Twister RNG\n",
    "        #include \"mpi.h\"\n",
    "        #include <cmath>\n",
    "        #include <random>\n",
    "        #include <string>\n",
    "        #include <iostream>\n",
    "        #include <fstream>\n",
    "        #include <iomanip>\n",
    "        #include \"vectormatrixclass.h\"\n",
    "        \n",
    "        using namespace  std;\n",
    "        // output file as global variable\n",
    "        ofstream ofile;  \n",
    "        // the step length and its squared inverse for the second derivative \n",
    "        //  Here we define global variables  used in various functions\n",
    "        //  These can be changed by using classes\n",
    "        int Dimension = 2; \n",
    "        int NumberParticles  = 2;  //  we fix also the number of electrons to be 2\n",
    "        \n",
    "        // declaration of functions \n",
    "        \n",
    "        // The Mc sampling for the variational Monte Carlo \n",
    "        void  MonteCarloSampling(int, double &, double &, Vector &);\n",
    "        \n",
    "        // The variational wave function\n",
    "        double  WaveFunction(Matrix &, Vector &);\n",
    "        \n",
    "        // The local energy \n",
    "        double  LocalEnergy(Matrix &, Vector &);\n",
    "        \n",
    "        // The quantum force\n",
    "        void  QuantumForce(Matrix &, Matrix &, Vector &);\n",
    "        \n",
    "        \n",
    "        // inline function for single-particle wave function\n",
    "        inline double SPwavefunction(double r, double alpha) { \n",
    "           return exp(-alpha*r*0.5);\n",
    "        }\n",
    "        \n",
    "        // inline function for derivative of single-particle wave function\n",
    "        inline double DerivativeSPwavefunction(double r, double alpha) { \n",
    "          return -r*alpha;\n",
    "        }\n",
    "        \n",
    "        // function for absolute value of relative distance\n",
    "        double RelativeDistance(Matrix &r, int i, int j) { \n",
    "              double r_ij = 0;  \n",
    "              for (int k = 0; k < Dimension; k++) { \n",
    "        \tr_ij += (r(i,k)-r(j,k))*(r(i,k)-r(j,k));\n",
    "              }\n",
    "              return sqrt(r_ij); \n",
    "        }\n",
    "        \n",
    "        // inline function for derivative of Jastrow factor\n",
    "        inline double JastrowDerivative(Matrix &r, double beta, int i, int j, int k){\n",
    "          return (r(i,k)-r(j,k))/(RelativeDistance(r, i, j)*pow(1.0+beta*RelativeDistance(r, i, j),2));\n",
    "        }\n",
    "        \n",
    "        // function for square of position of single particle\n",
    "        double singleparticle_pos2(Matrix &r, int i) { \n",
    "            double r_single_particle = 0;\n",
    "            for (int j = 0; j < Dimension; j++) { \n",
    "              r_single_particle  += r(i,j)*r(i,j);\n",
    "            }\n",
    "            return r_single_particle;\n",
    "        }\n",
    "        \n",
    "        void lnsrch(int n, Vector &xold, double fold, Vector &g, Vector &p, Vector &x,\n",
    "        \t\t double *f, double stpmax, int *check, double (*func)(Vector &p));\n",
    "        \n",
    "        void dfpmin(Vector &p, int n, double gtol, int *iter, double *fret,\n",
    "        \t    double(*func)(Vector &p), void (*dfunc)(Vector &p, Vector &g));\n",
    "        \n",
    "        static double sqrarg;\n",
    "        #define SQR(a) ((sqrarg=(a)) == 0.0 ? 0.0 : sqrarg*sqrarg)\n",
    "        \n",
    "        \n",
    "        static double maxarg1,maxarg2;\n",
    "        #define FMAX(a,b) (maxarg1=(a),maxarg2=(b),(maxarg1) > (maxarg2) ?\\\n",
    "                (maxarg1) : (maxarg2))\n",
    "        \n",
    "        \n",
    "        // Begin of main program   \n",
    "        \n",
    "        int main(int argc, char* argv[])\n",
    "        {\n",
    "        \n",
    "          //  MPI initializations\n",
    "          int NumberProcesses, MyRank, NumberMCsamples;\n",
    "          MPI_Init (&argc, &argv);\n",
    "          MPI_Comm_size (MPI_COMM_WORLD, &NumberProcesses);\n",
    "          MPI_Comm_rank (MPI_COMM_WORLD, &MyRank);\n",
    "          double StartTime = MPI_Wtime();\n",
    "          if (MyRank == 0 && argc <= 1) {\n",
    "            cout << \"Bad Usage: \" << argv[0] << \n",
    "              \" Read also output file on same line and number of Monte Carlo cycles\" << endl;\n",
    "          }\n",
    "          // Read filename and number of Monte Carlo cycles from the command line\n",
    "          if (MyRank == 0 && argc > 2) {\n",
    "            string filename = argv[1]; // first command line argument after name of program\n",
    "            NumberMCsamples  = atoi(argv[2]);\n",
    "            string fileout = filename;\n",
    "            string argument = to_string(NumberMCsamples);\n",
    "            // Final filename as filename+NumberMCsamples\n",
    "            fileout.append(argument);\n",
    "            ofile.open(fileout);\n",
    "          }\n",
    "          // broadcast the number of  Monte Carlo samples\n",
    "          MPI_Bcast (&NumberMCsamples, 1, MPI_INT, 0, MPI_COMM_WORLD);\n",
    "          // Two variational parameters only\n",
    "          Vector VariationalParameters(2);\n",
    "          int TotalNumberMCsamples = NumberMCsamples*NumberProcesses; \n",
    "          // Loop over variational parameters\n",
    "          for (double alpha = 0.5; alpha <= 1.5; alpha +=0.1){\n",
    "            for (double beta = 0.1; beta <= 0.5; beta +=0.05){\n",
    "              VariationalParameters(0) = alpha;  // value of alpha\n",
    "              VariationalParameters(1) = beta;  // value of beta\n",
    "              //  Do the mc sampling  and accumulate data with MPI_Reduce\n",
    "              double TotalEnergy, TotalEnergySquared, LocalProcessEnergy, LocalProcessEnergy2;\n",
    "              LocalProcessEnergy = LocalProcessEnergy2 = 0.0;\n",
    "              MonteCarloSampling(NumberMCsamples, LocalProcessEnergy, LocalProcessEnergy2, VariationalParameters);\n",
    "              //  Collect data in total averages\n",
    "              MPI_Reduce(&LocalProcessEnergy, &TotalEnergy, 1, MPI_DOUBLE, MPI_SUM, 0, MPI_COMM_WORLD);\n",
    "              MPI_Reduce(&LocalProcessEnergy2, &TotalEnergySquared, 1, MPI_DOUBLE, MPI_SUM, 0, MPI_COMM_WORLD);\n",
    "              // Print out results  in case of Master node, set to MyRank = 0\n",
    "              if ( MyRank == 0) {\n",
    "        \tdouble Energy = TotalEnergy/( (double)NumberProcesses);\n",
    "        \tdouble Variance = TotalEnergySquared/( (double)NumberProcesses)-Energy*Energy;\n",
    "        \tdouble StandardDeviation = sqrt(Variance/((double)TotalNumberMCsamples)); // over optimistic error\n",
    "        \tofile << setiosflags(ios::showpoint | ios::uppercase);\n",
    "        \tofile << setw(15) << setprecision(8) << VariationalParameters(0);\n",
    "        \tofile << setw(15) << setprecision(8) << VariationalParameters(1);\n",
    "        \tofile << setw(15) << setprecision(8) << Energy;\n",
    "        \tofile << setw(15) << setprecision(8) << Variance;\n",
    "        \tofile << setw(15) << setprecision(8) << StandardDeviation << endl;\n",
    "              }\n",
    "            }\n",
    "          }\n",
    "          double EndTime = MPI_Wtime();\n",
    "          double TotalTime = EndTime-StartTime;\n",
    "          if ( MyRank == 0 )  cout << \"Time = \" <<  TotalTime  << \" on number of processors: \"  << NumberProcesses  << endl;\n",
    "          if (MyRank == 0)  ofile.close();  // close output file\n",
    "          // End MPI\n",
    "          MPI_Finalize ();  \n",
    "          return 0;\n",
    "        }  //  end of main function\n",
    "        \n",
    "        \n",
    "        // Monte Carlo sampling with the Metropolis algorithm  \n",
    "        \n",
    "        void MonteCarloSampling(int NumberMCsamples, double &cumulative_e, double &cumulative_e2, Vector &VariationalParameters)\n",
    "        {\n",
    "        \n",
    "         // Initialize the seed and call the Mersienne algo\n",
    "          std::random_device rd;\n",
    "          std::mt19937_64 gen(rd());\n",
    "          // Set up the uniform distribution for x \\in [[0, 1]\n",
    "          std::uniform_real_distribution<double> UniformNumberGenerator(0.0,1.0);\n",
    "          std::normal_distribution<double> Normaldistribution(0.0,1.0);\n",
    "          // diffusion constant from Schroedinger equation\n",
    "          double D = 0.5; \n",
    "          double timestep = 0.05;  //  we fix the time step  for the gaussian deviate\n",
    "          // allocate matrices which contain the position of the particles  \n",
    "          Matrix OldPosition( NumberParticles, Dimension), NewPosition( NumberParticles, Dimension);\n",
    "          Matrix OldQuantumForce(NumberParticles, Dimension), NewQuantumForce(NumberParticles, Dimension);\n",
    "          double Energy = 0.0; double EnergySquared = 0.0; double DeltaE = 0.0;\n",
    "          //  initial trial positions\n",
    "          for (int i = 0; i < NumberParticles; i++) { \n",
    "            for (int j = 0; j < Dimension; j++) {\n",
    "              OldPosition(i,j) = Normaldistribution(gen)*sqrt(timestep);\n",
    "            }\n",
    "          }\n",
    "          double OldWaveFunction = WaveFunction(OldPosition, VariationalParameters);\n",
    "          QuantumForce(OldPosition, OldQuantumForce, VariationalParameters);\n",
    "          // loop over monte carlo cycles \n",
    "          for (int cycles = 1; cycles <= NumberMCsamples; cycles++){ \n",
    "            // new position \n",
    "            for (int i = 0; i < NumberParticles; i++) { \n",
    "              for (int j = 0; j < Dimension; j++) {\n",
    "        \t// gaussian deviate to compute new positions using a given timestep\n",
    "        \tNewPosition(i,j) = OldPosition(i,j) + Normaldistribution(gen)*sqrt(timestep)+OldQuantumForce(i,j)*timestep*D;\n",
    "        \t//\tNewPosition(i,j) = OldPosition(i,j) + gaussian_deviate(&idum)*sqrt(timestep)+OldQuantumForce(i,j)*timestep*D;\n",
    "              }  \n",
    "              //  for the other particles we need to set the position to the old position since\n",
    "              //  we move only one particle at the time\n",
    "              for (int k = 0; k < NumberParticles; k++) {\n",
    "        \tif ( k != i) {\n",
    "        \t  for (int j = 0; j < Dimension; j++) {\n",
    "        \t    NewPosition(k,j) = OldPosition(k,j);\n",
    "        \t  }\n",
    "        \t} \n",
    "              }\n",
    "              double NewWaveFunction = WaveFunction(NewPosition, VariationalParameters); \n",
    "              QuantumForce(NewPosition, NewQuantumForce, VariationalParameters);\n",
    "              //  we compute the log of the ratio of the greens functions to be used in the \n",
    "              //  Metropolis-Hastings algorithm\n",
    "              double GreensFunction = 0.0;            \n",
    "              for (int j = 0; j < Dimension; j++) {\n",
    "        \tGreensFunction += 0.5*(OldQuantumForce(i,j)+NewQuantumForce(i,j))*\n",
    "        \t  (D*timestep*0.5*(OldQuantumForce(i,j)-NewQuantumForce(i,j))-NewPosition(i,j)+OldPosition(i,j));\n",
    "              }\n",
    "              GreensFunction = exp(GreensFunction);\n",
    "              // The Metropolis test is performed by moving one particle at the time\n",
    "              if(UniformNumberGenerator(gen) <= GreensFunction*NewWaveFunction*NewWaveFunction/OldWaveFunction/OldWaveFunction ) { \n",
    "        \tfor (int  j = 0; j < Dimension; j++) {\n",
    "        \t  OldPosition(i,j) = NewPosition(i,j);\n",
    "        \t  OldQuantumForce(i,j) = NewQuantumForce(i,j);\n",
    "        \t}\n",
    "        \tOldWaveFunction = NewWaveFunction;\n",
    "              }\n",
    "            }  //  end of loop over particles\n",
    "            // compute local energy  \n",
    "            double DeltaE = LocalEnergy(OldPosition, VariationalParameters);\n",
    "            // update energies\n",
    "            Energy += DeltaE;\n",
    "            EnergySquared += DeltaE*DeltaE;\n",
    "          }   // end of loop over MC trials   \n",
    "          // update the energy average and its squared \n",
    "          cumulative_e = Energy/NumberMCsamples;\n",
    "          cumulative_e2 = EnergySquared/NumberMCsamples;\n",
    "        }   // end MonteCarloSampling function  \n",
    "        \n",
    "        \n",
    "        // Function to compute the squared wave function and the quantum force\n",
    "        \n",
    "        double  WaveFunction(Matrix &r, Vector &VariationalParameters)\n",
    "        {\n",
    "          double wf = 0.0;\n",
    "          // full Slater determinant for two particles, replace with Slater det for more particles \n",
    "          wf  = SPwavefunction(singleparticle_pos2(r, 0), VariationalParameters(0))*SPwavefunction(singleparticle_pos2(r, 1),VariationalParameters(0));\n",
    "          // contribution from Jastrow factor\n",
    "          for (int i = 0; i < NumberParticles-1; i++) { \n",
    "            for (int j = i+1; j < NumberParticles; j++) {\n",
    "              wf *= exp(RelativeDistance(r, i, j)/((1.0+VariationalParameters(1)*RelativeDistance(r, i, j))));\n",
    "            }\n",
    "          }\n",
    "          return wf;\n",
    "        }\n",
    "        \n",
    "        // Function to calculate the local energy without numerical derivation of kinetic energy\n",
    "        \n",
    "        double  LocalEnergy(Matrix &r, Vector &VariationalParameters)\n",
    "        {\n",
    "        \n",
    "          // compute the kinetic and potential energy from the single-particle part\n",
    "          // for a many-electron system this has to be replaced by a Slater determinant\n",
    "          // The absolute value of the interparticle length\n",
    "          Matrix length( NumberParticles, NumberParticles);\n",
    "          // Set up interparticle distance\n",
    "          for (int i = 0; i < NumberParticles-1; i++) { \n",
    "            for(int j = i+1; j < NumberParticles; j++){\n",
    "              length(i,j) = RelativeDistance(r, i, j);\n",
    "              length(j,i) =  length(i,j);\n",
    "            }\n",
    "          }\n",
    "          double KineticEnergy = 0.0;\n",
    "          // Set up kinetic energy from Slater and Jastrow terms\n",
    "          for (int i = 0; i < NumberParticles; i++) { \n",
    "            for (int k = 0; k < Dimension; k++) {\n",
    "              double sum1 = 0.0; \n",
    "              for(int j = 0; j < NumberParticles; j++){\n",
    "        \tif ( j != i) {\n",
    "        \t  sum1 += JastrowDerivative(r, VariationalParameters(1), i, j, k);\n",
    "        \t}\n",
    "              }\n",
    "              KineticEnergy += (sum1+DerivativeSPwavefunction(r(i,k),VariationalParameters(0)))*(sum1+DerivativeSPwavefunction(r(i,k),VariationalParameters(0)));\n",
    "            }\n",
    "          }\n",
    "          KineticEnergy += -2*VariationalParameters(0)*NumberParticles;\n",
    "          for (int i = 0; i < NumberParticles-1; i++) {\n",
    "              for (int j = i+1; j < NumberParticles; j++) {\n",
    "                KineticEnergy += 2.0/(pow(1.0 + VariationalParameters(1)*length(i,j),2))*(1.0/length(i,j)-2*VariationalParameters(1)/(1+VariationalParameters(1)*length(i,j)) );\n",
    "              }\n",
    "          }\n",
    "          KineticEnergy *= -0.5;\n",
    "          // Set up potential energy, external potential + eventual electron-electron repulsion\n",
    "          double PotentialEnergy = 0;\n",
    "          for (int i = 0; i < NumberParticles; i++) { \n",
    "            double DistanceSquared = singleparticle_pos2(r, i);\n",
    "            PotentialEnergy += 0.5*DistanceSquared;  // sp energy HO part, note it has the oscillator frequency set to 1!\n",
    "          }\n",
    "          // Add the electron-electron repulsion\n",
    "          for (int i = 0; i < NumberParticles-1; i++) { \n",
    "            for (int j = i+1; j < NumberParticles; j++) {\n",
    "              PotentialEnergy += 1.0/length(i,j);          \n",
    "            }\n",
    "          }\n",
    "          double LocalE = KineticEnergy+PotentialEnergy;\n",
    "          return LocalE;\n",
    "        }\n",
    "        \n",
    "        // Compute the analytical expression for the quantum force\n",
    "        void  QuantumForce(Matrix &r, Matrix &qforce, Vector &VariationalParameters)\n",
    "        {\n",
    "          // compute the first derivative \n",
    "          for (int i = 0; i < NumberParticles; i++) {\n",
    "            for (int k = 0; k < Dimension; k++) {\n",
    "              // single-particle part, replace with Slater det for larger systems\n",
    "              double sppart = DerivativeSPwavefunction(r(i,k),VariationalParameters(0));\n",
    "              //  Jastrow factor contribution\n",
    "              double Jsum = 0.0;\n",
    "              for (int j = 0; j < NumberParticles; j++) {\n",
    "        \tif ( j != i) {\n",
    "        \t  Jsum += JastrowDerivative(r, VariationalParameters(1), i, j, k);\n",
    "        \t}\n",
    "              }\n",
    "              qforce(i,k) = 2.0*(Jsum+sppart);\n",
    "            }\n",
    "          }\n",
    "        } // end of QuantumForce function\n",
    "        \n",
    "        \n",
    "        #define ITMAX 200\n",
    "        #define EPS 3.0e-8\n",
    "        #define TOLX (4*EPS)\n",
    "        #define STPMX 100.0\n",
    "        \n",
    "        void dfpmin(Vector &p, int n, double gtol, int *iter, double *fret,\n",
    "        \t    double(*func)(Vector &p), void (*dfunc)(Vector &p, Vector &g))\n",
    "        {\n",
    "        \n",
    "          int check,i,its,j;\n",
    "          double den,fac,fad,fae,fp,stpmax,sum=0.0,sumdg,sumxi,temp,test;\n",
    "          Vector dg(n), g(n), hdg(n), pnew(n), xi(n);\n",
    "          Matrix hessian(n,n);\n",
    "        \n",
    "          fp=(*func)(p);\n",
    "          (*dfunc)(p,g);\n",
    "          for (i = 0;i < n;i++) {\n",
    "            for (j = 0; j< n;j++) hessian(i,j)=0.0;\n",
    "            hessian(i,i)=1.0;\n",
    "            xi(i) = -g(i);\n",
    "            sum += p(i)*p(i);\n",
    "          }\n",
    "          stpmax=STPMX*FMAX(sqrt(sum),(double)n);\n",
    "          for (its=1;its<=ITMAX;its++) {\n",
    "            *iter=its;\n",
    "            lnsrch(n,p,fp,g,xi,pnew,fret,stpmax,&check,func);\n",
    "            fp = *fret;\n",
    "            for (i = 0; i< n;i++) {\n",
    "              xi(i)=pnew(i)-p(i);\n",
    "              p(i)=pnew(i);\n",
    "            }\n",
    "            test=0.0;\n",
    "            for (i = 0;i< n;i++) {\n",
    "              temp=fabs(xi(i))/FMAX(fabs(p(i)),1.0);\n",
    "              if (temp > test) test=temp;\n",
    "            }\n",
    "            if (test < TOLX) {\n",
    "              return;\n",
    "            }\n",
    "            for (i=0;i<n;i++) dg(i)=g(i);\n",
    "            (*dfunc)(p,g);\n",
    "            test=0.0;\n",
    "            den=FMAX(*fret,1.0);\n",
    "            for (i=0;i<n;i++) {\n",
    "              temp=fabs(g(i))*FMAX(fabs(p(i)),1.0)/den;\n",
    "              if (temp > test) test=temp;\n",
    "            }\n",
    "            if (test < gtol) {\n",
    "              return;\n",
    "            }\n",
    "            for (i=0;i<n;i++) dg(i)=g(i)-dg(i);\n",
    "            for (i=0;i<n;i++) {\n",
    "              hdg(i)=0.0;\n",
    "              for (j=0;j<n;j++) hdg(i) += hessian(i,j)*dg(j);\n",
    "            }\n",
    "            fac=fae=sumdg=sumxi=0.0;\n",
    "            for (i=0;i<n;i++) {\n",
    "              fac += dg(i)*xi(i);\n",
    "              fae += dg(i)*hdg(i);\n",
    "              sumdg += SQR(dg(i));\n",
    "              sumxi += SQR(xi(i));\n",
    "            }\n",
    "            if (fac*fac > EPS*sumdg*sumxi) {\n",
    "              fac=1.0/fac;\n",
    "              fad=1.0/fae;\n",
    "              for (i=0;i<n;i++) dg(i)=fac*xi(i)-fad*hdg(i);\n",
    "              for (i=0;i<n;i++) {\n",
    "        \tfor (j=0;j<n;j++) {\n",
    "        \t  hessian(i,j) += fac*xi(i)*xi(j)\n",
    "        \t    -fad*hdg(i)*hdg(j)+fae*dg(i)*dg(j);\n",
    "        \t}\n",
    "              }\n",
    "            }\n",
    "            for (i=0;i<n;i++) {\n",
    "              xi(i)=0.0;\n",
    "              for (j=0;j<n;j++) xi(i) -= hessian(i,j)*g(j);\n",
    "            }\n",
    "          }\n",
    "          cout << \"too many iterations in dfpmin\" << endl;\n",
    "        }\n",
    "        #undef ITMAX\n",
    "        #undef EPS\n",
    "        #undef TOLX\n",
    "        #undef STPMX\n",
    "        \n",
    "        #define ALF 1.0e-4\n",
    "        #define TOLX 1.0e-7\n",
    "        \n",
    "        void lnsrch(int n, Vector &xold, double fold, Vector &g, Vector &p, Vector &x,\n",
    "        \t    double *f, double stpmax, int *check, double (*func)(Vector &p))\n",
    "        {\n",
    "          int i;\n",
    "          double a,alam,alam2,alamin,b,disc,f2,fold2,rhs1,rhs2,slope,sum,temp,\n",
    "            test,tmplam;\n",
    "        \n",
    "          *check=0;\n",
    "          for (sum=0.0,i=0;i<n;i++) sum += p(i)*p(i);\n",
    "          sum=sqrt(sum);\n",
    "          if (sum > stpmax)\n",
    "            for (i=0;i<n;i++) p(i) *= stpmax/sum;\n",
    "          for (slope=0.0,i=0;i<n;i++)\n",
    "            slope += g(i)*p(i);\n",
    "          test=0.0;\n",
    "          for (i=0;i<n;i++) {\n",
    "            temp=fabs(p(i))/FMAX(fabs(xold(i)),1.0);\n",
    "            if (temp > test) test=temp;\n",
    "          }\n",
    "          alamin=TOLX/test;\n",
    "          alam=1.0;\n",
    "          for (;;) {\n",
    "            for (i=0;i<n;i++) x(i)=xold(i)+alam*p(i);\n",
    "            *f=(*func)(x);\n",
    "            if (alam < alamin) {\n",
    "              for (i=0;i<n;i++) x(i)=xold(i);\n",
    "              *check=1;\n",
    "              return;\n",
    "            } else if (*f <= fold+ALF*alam*slope) return;\n",
    "            else {\n",
    "              if (alam == 1.0)\n",
    "        \ttmplam = -slope/(2.0*(*f-fold-slope));\n",
    "              else {\n",
    "        \trhs1 = *f-fold-alam*slope;\n",
    "        \trhs2=f2-fold2-alam2*slope;\n",
    "        \ta=(rhs1/(alam*alam)-rhs2/(alam2*alam2))/(alam-alam2);\n",
    "        \tb=(-alam2*rhs1/(alam*alam)+alam*rhs2/(alam2*alam2))/(alam-alam2);\n",
    "        \tif (a == 0.0) tmplam = -slope/(2.0*b);\n",
    "        \telse {\n",
    "        \t  disc=b*b-3.0*a*slope;\n",
    "        \t  if (disc<0.0) cout << \"Roundoff problem in lnsrch.\" << endl;\n",
    "        \t  else tmplam=(-b+sqrt(disc))/(3.0*a);\n",
    "        \t}\n",
    "        \tif (tmplam>0.5*alam)\n",
    "        \t  tmplam=0.5*alam;\n",
    "              }\n",
    "            }\n",
    "            alam2=alam;\n",
    "            f2 = *f;\n",
    "            fold2=fold;\n",
    "            alam=FMAX(tmplam,0.1*alam);\n",
    "          }\n",
    "        }\n",
    "        #undef ALF\n",
    "        #undef TOLX\n",
    "        \n",
    "        \n",
    "        \n",
    "        \n",
    "        \n",
    "        \n",
    "        \n"
   ]
  }
 ],
 "metadata": {},
 "nbformat": 4,
 "nbformat_minor": 0
}
