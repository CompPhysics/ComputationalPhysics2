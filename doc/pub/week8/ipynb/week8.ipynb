{
 "cells": [
  {
   "cell_type": "markdown",
   "id": "9d031526",
   "metadata": {},
   "source": [
    "<!-- HTML file automatically generated from DocOnce source (https://github.com/doconce/doconce/)\n",
    "doconce format html week8.do.txt --no_mako --no_abort -->\n",
    "<!-- dom:TITLE: Week 10, March 4-8: Resampling Techniques, Bootstrap and Blocking -->"
   ]
  },
  {
   "cell_type": "markdown",
   "id": "a67a244d",
   "metadata": {},
   "source": [
    "# Week 10, March 4-8: Resampling Techniques, Bootstrap and Blocking\n",
    "**Morten Hjorth-Jensen  Email morten.hjorth-jensen@fys.uio.no**, Department of Physics and Center fo Computing in Science Education, University of Oslo, Oslo, Norway and Department of Physics and Astronomy and Facility for Rare Ion Beams, Michigan State University, East Lansing, Michigan, USA\n",
    "\n",
    "Date: **March 4-8**"
   ]
  },
  {
   "cell_type": "markdown",
   "id": "5c4798bf",
   "metadata": {},
   "source": [
    "## Overview of week 10, March 4-8\n",
    "**Topics.**\n",
    "\n",
    "1. Reminder on optimization methods and top-down approach to what we need to add\n",
    "\n",
    "2. Resampling Techniques and statistics: Bootstrap and Blocking\n",
    "\n",
    "3. Discussion of codes\n",
    "<!-- * [Video of lecture to be added](https://youtu.be/) -->\n",
    "<!-- * [Handwritten notes](https://github.com/CompPhysics/ComputationalPhysics2/blob/gh-pages/doc/HandWrittenNotes/2024/NotesMarch8.pdf) -->\n",
    "\n",
    "**Teaching Material, videos and written material.**\n",
    "\n",
    "* Overview video on the [Bootstrap method](https://www.youtube.com/watch?v=O_Fj4q8lgmc&ab_channel=MarinStatsLectures-RProgramming%26Statistics)\n",
    "\n",
    "* [Marius Johnson's Master thesis on the Blocking Method](https://www.duo.uio.no/bitstream/handle/10852/68360/PhysRevE.98.043304.pdf?sequence=2&isAllowed=y)"
   ]
  },
  {
   "cell_type": "markdown",
   "id": "e5dfb3b5",
   "metadata": {},
   "source": [
    "## Top-down approach, what we need to code"
   ]
  },
  {
   "cell_type": "markdown",
   "id": "c3690c08",
   "metadata": {},
   "source": [
    "### Final code for the two-electron case\n",
    "\n",
    "The code here uses the BFGS algorithm but performs now a\n",
    "production run and writes to file all average values of the\n",
    "energy."
   ]
  },
  {
   "cell_type": "code",
   "execution_count": 1,
   "id": "c4226679",
   "metadata": {},
   "outputs": [
    {
     "name": "stderr",
     "output_type": "stream",
     "text": [
      "/Users/mhjensen/miniforge3/envs/myenv/lib/python3.9/site-packages/scipy/optimize/_minimize.py:705: OptimizeWarning: Desired error not necessarily achieved due to precision loss.\n",
      "  res = _minimize_bfgs(fun, x0, args, jac, callback, **options)\n"
     ]
    },
    {
     "name": "stdout",
     "output_type": "stream",
     "text": [
      "         Current function value: 2.997648\n",
      "         Iterations: 3\n",
      "         Function evaluations: 23\n",
      "         Gradient evaluations: 11\n",
      "   Optimal Parameters  Final Energy\n",
      "0            0.996382      3.000432\n",
      "1            0.421734      3.000432\n"
     ]
    }
   ],
   "source": [
    "%matplotlib inline\n",
    "\n",
    "# 2-electron VMC code for 2dim quantum dot with importance sampling\n",
    "# Using gaussian rng for new positions and Metropolis- Hastings \n",
    "# Added energy minimization\n",
    "from math import exp, sqrt\n",
    "from random import random, seed, normalvariate\n",
    "import numpy as np\n",
    "import matplotlib.pyplot as plt\n",
    "from mpl_toolkits.mplot3d import Axes3D\n",
    "from matplotlib import cm\n",
    "from matplotlib.ticker import LinearLocator, FormatStrFormatter\n",
    "from scipy.optimize import minimize\n",
    "import sys\n",
    "import os\n",
    "\n",
    "# Where to save data files\n",
    "PROJECT_ROOT_DIR = \"Results\"\n",
    "DATA_ID = \"Results/EnergyMin\"\n",
    "\n",
    "if not os.path.exists(PROJECT_ROOT_DIR):\n",
    "    os.mkdir(PROJECT_ROOT_DIR)\n",
    "\n",
    "if not os.path.exists(DATA_ID):\n",
    "    os.makedirs(DATA_ID)\n",
    "\n",
    "def data_path(dat_id):\n",
    "    return os.path.join(DATA_ID, dat_id)\n",
    "\n",
    "outfile = open(data_path(\"Energies.dat\"),'w')\n",
    "\n",
    "\n",
    "# Trial wave function for the 2-electron quantum dot in two dims\n",
    "def WaveFunction(r,alpha,beta):\n",
    "    r1 = r[0,0]**2 + r[0,1]**2\n",
    "    r2 = r[1,0]**2 + r[1,1]**2\n",
    "    r12 = sqrt((r[0,0]-r[1,0])**2 + (r[0,1]-r[1,1])**2)\n",
    "    deno = r12/(1+beta*r12)\n",
    "    return exp(-0.5*alpha*(r1+r2)+deno)\n",
    "\n",
    "# Local energy  for the 2-electron quantum dot in two dims, using analytical local energy\n",
    "def LocalEnergy(r,alpha,beta):\n",
    "    \n",
    "    r1 = (r[0,0]**2 + r[0,1]**2)\n",
    "    r2 = (r[1,0]**2 + r[1,1]**2)\n",
    "    r12 = sqrt((r[0,0]-r[1,0])**2 + (r[0,1]-r[1,1])**2)\n",
    "    deno = 1.0/(1+beta*r12)\n",
    "    deno2 = deno*deno\n",
    "    return 0.5*(1-alpha*alpha)*(r1 + r2) +2.0*alpha + 1.0/r12+deno2*(alpha*r12-deno2+2*beta*deno-1.0/r12)\n",
    "\n",
    "# Derivate of wave function ansatz as function of variational parameters\n",
    "def DerivativeWFansatz(r,alpha,beta):\n",
    "    \n",
    "    WfDer  = np.zeros((2), np.double)\n",
    "    r1 = (r[0,0]**2 + r[0,1]**2)\n",
    "    r2 = (r[1,0]**2 + r[1,1]**2)\n",
    "    r12 = sqrt((r[0,0]-r[1,0])**2 + (r[0,1]-r[1,1])**2)\n",
    "    deno = 1.0/(1+beta*r12)\n",
    "    deno2 = deno*deno\n",
    "    WfDer[0] = -0.5*(r1+r2)\n",
    "    WfDer[1] = -r12*r12*deno2\n",
    "    return  WfDer\n",
    "\n",
    "# Setting up the quantum force for the two-electron quantum dot, recall that it is a vector\n",
    "def QuantumForce(r,alpha,beta):\n",
    "\n",
    "    qforce = np.zeros((NumberParticles,Dimension), np.double)\n",
    "    r12 = sqrt((r[0,0]-r[1,0])**2 + (r[0,1]-r[1,1])**2)\n",
    "    deno = 1.0/(1+beta*r12)\n",
    "    qforce[0,:] = -2*r[0,:]*alpha*(r[0,:]-r[1,:])*deno*deno/r12\n",
    "    qforce[1,:] = -2*r[1,:]*alpha*(r[1,:]-r[0,:])*deno*deno/r12\n",
    "    return qforce\n",
    "    \n",
    "\n",
    "# Computing the derivative of the energy and the energy \n",
    "def EnergyDerivative(x0):\n",
    "\n",
    "    \n",
    "    # Parameters in the Fokker-Planck simulation of the quantum force\n",
    "    D = 0.5\n",
    "    TimeStep = 0.05\n",
    "    # positions\n",
    "    PositionOld = np.zeros((NumberParticles,Dimension), np.double)\n",
    "    PositionNew = np.zeros((NumberParticles,Dimension), np.double)\n",
    "    # Quantum force\n",
    "    QuantumForceOld = np.zeros((NumberParticles,Dimension), np.double)\n",
    "    QuantumForceNew = np.zeros((NumberParticles,Dimension), np.double)\n",
    "\n",
    "    energy = 0.0\n",
    "    DeltaE = 0.0\n",
    "    alpha = x0[0]\n",
    "    beta = x0[1]\n",
    "    EnergyDer = 0.0\n",
    "    DeltaPsi = 0.0\n",
    "    DerivativePsiE = 0.0 \n",
    "    #Initial position\n",
    "    for i in range(NumberParticles):\n",
    "        for j in range(Dimension):\n",
    "            PositionOld[i,j] = normalvariate(0.0,1.0)*sqrt(TimeStep)\n",
    "    wfold = WaveFunction(PositionOld,alpha,beta)\n",
    "    QuantumForceOld = QuantumForce(PositionOld,alpha, beta)\n",
    "\n",
    "    #Loop over MC MCcycles\n",
    "    for MCcycle in range(NumberMCcycles):\n",
    "        #Trial position moving one particle at the time\n",
    "        for i in range(NumberParticles):\n",
    "            for j in range(Dimension):\n",
    "                PositionNew[i,j] = PositionOld[i,j]+normalvariate(0.0,1.0)*sqrt(TimeStep)+\\\n",
    "                                       QuantumForceOld[i,j]*TimeStep*D\n",
    "            wfnew = WaveFunction(PositionNew,alpha,beta)\n",
    "            QuantumForceNew = QuantumForce(PositionNew,alpha, beta)\n",
    "            GreensFunction = 0.0\n",
    "            for j in range(Dimension):\n",
    "                GreensFunction += 0.5*(QuantumForceOld[i,j]+QuantumForceNew[i,j])*\\\n",
    "\t                              (D*TimeStep*0.5*(QuantumForceOld[i,j]-QuantumForceNew[i,j])-\\\n",
    "                                      PositionNew[i,j]+PositionOld[i,j])\n",
    "      \n",
    "            GreensFunction = exp(GreensFunction)\n",
    "            ProbabilityRatio = GreensFunction*wfnew**2/wfold**2\n",
    "            #Metropolis-Hastings test to see whether we accept the move\n",
    "            if random() <= ProbabilityRatio:\n",
    "                for j in range(Dimension):\n",
    "                    PositionOld[i,j] = PositionNew[i,j]\n",
    "                    QuantumForceOld[i,j] = QuantumForceNew[i,j]\n",
    "                wfold = wfnew\n",
    "        DeltaE = LocalEnergy(PositionOld,alpha,beta)\n",
    "        DerPsi = DerivativeWFansatz(PositionOld,alpha,beta)\n",
    "        DeltaPsi += DerPsi\n",
    "        energy += DeltaE\n",
    "        DerivativePsiE += DerPsi*DeltaE\n",
    "            \n",
    "    # We calculate mean values\n",
    "    energy /= NumberMCcycles\n",
    "    DerivativePsiE /= NumberMCcycles\n",
    "    DeltaPsi /= NumberMCcycles\n",
    "    EnergyDer  = 2*(DerivativePsiE-DeltaPsi*energy)\n",
    "    return EnergyDer\n",
    "\n",
    "\n",
    "# Computing the expectation value of the local energy \n",
    "def Energy(x0):\n",
    "    # Parameters in the Fokker-Planck simulation of the quantum force\n",
    "    D = 0.5\n",
    "    TimeStep = 0.05\n",
    "    # positions\n",
    "    PositionOld = np.zeros((NumberParticles,Dimension), np.double)\n",
    "    PositionNew = np.zeros((NumberParticles,Dimension), np.double)\n",
    "    # Quantum force\n",
    "    QuantumForceOld = np.zeros((NumberParticles,Dimension), np.double)\n",
    "    QuantumForceNew = np.zeros((NumberParticles,Dimension), np.double)\n",
    "\n",
    "    energy = 0.0\n",
    "    DeltaE = 0.0\n",
    "    alpha = x0[0]\n",
    "    beta = x0[1]\n",
    "    #Initial position\n",
    "    for i in range(NumberParticles):\n",
    "        for j in range(Dimension):\n",
    "            PositionOld[i,j] = normalvariate(0.0,1.0)*sqrt(TimeStep)\n",
    "    wfold = WaveFunction(PositionOld,alpha,beta)\n",
    "    QuantumForceOld = QuantumForce(PositionOld,alpha, beta)\n",
    "\n",
    "    #Loop over MC MCcycles\n",
    "    for MCcycle in range(NumberMCcycles):\n",
    "        #Trial position moving one particle at the time\n",
    "        for i in range(NumberParticles):\n",
    "            for j in range(Dimension):\n",
    "                PositionNew[i,j] = PositionOld[i,j]+normalvariate(0.0,1.0)*sqrt(TimeStep)+\\\n",
    "                                       QuantumForceOld[i,j]*TimeStep*D\n",
    "            wfnew = WaveFunction(PositionNew,alpha,beta)\n",
    "            QuantumForceNew = QuantumForce(PositionNew,alpha, beta)\n",
    "            GreensFunction = 0.0\n",
    "            for j in range(Dimension):\n",
    "                GreensFunction += 0.5*(QuantumForceOld[i,j]+QuantumForceNew[i,j])*\\\n",
    "\t                              (D*TimeStep*0.5*(QuantumForceOld[i,j]-QuantumForceNew[i,j])-\\\n",
    "                                      PositionNew[i,j]+PositionOld[i,j])\n",
    "      \n",
    "            GreensFunction = exp(GreensFunction)\n",
    "            ProbabilityRatio = GreensFunction*wfnew**2/wfold**2\n",
    "            #Metropolis-Hastings test to see whether we accept the move\n",
    "            if random() <= ProbabilityRatio:\n",
    "                for j in range(Dimension):\n",
    "                    PositionOld[i,j] = PositionNew[i,j]\n",
    "                    QuantumForceOld[i,j] = QuantumForceNew[i,j]\n",
    "                wfold = wfnew\n",
    "        DeltaE = LocalEnergy(PositionOld,alpha,beta)\n",
    "        energy += DeltaE\n",
    "        if Printout: \n",
    "           outfile.write('%f\\n' %(energy/(MCcycle+1.0)))            \n",
    "    # We calculate mean values\n",
    "    energy /= NumberMCcycles\n",
    "    return energy\n",
    "\n",
    "#Here starts the main program with variable declarations\n",
    "NumberParticles = 2\n",
    "Dimension = 2\n",
    "# seed for rng generator \n",
    "seed()\n",
    "# Monte Carlo cycles for parameter optimization\n",
    "Printout = False\n",
    "NumberMCcycles= 10000\n",
    "# guess for variational parameters\n",
    "x0 = np.array([0.9,0.2])\n",
    "# Using Broydens method to find optimal parameters\n",
    "res = minimize(Energy, x0, method='BFGS', jac=EnergyDerivative, options={'gtol': 1e-4,'disp': True})\n",
    "x0 = res.x\n",
    "# Compute the energy again with the optimal parameters and increased number of Monte Cycles\n",
    "NumberMCcycles= 2**19\n",
    "Printout = True\n",
    "FinalEnergy = Energy(x0)\n",
    "EResult = np.array([FinalEnergy,FinalEnergy])\n",
    "outfile.close()\n",
    "#nice printout with Pandas\n",
    "import pandas as pd\n",
    "from pandas import DataFrame\n",
    "data ={'Optimal Parameters':x0, 'Final Energy':EResult}\n",
    "frame = pd.DataFrame(data)\n",
    "print(frame)"
   ]
  },
  {
   "cell_type": "markdown",
   "id": "98bfaa51",
   "metadata": {},
   "source": [
    "Note that the **minimize** function returns the final values for the\n",
    "variable $\\alpha=x0[0]$ and $\\beta=x0[1]$ in the array $x$.\n",
    "\n",
    "When we have found the minimum, we use these optimal parameters to\n",
    "perform a production run of energies.  The output is in turn written\n",
    "to file and is used, together with resampling methods like the\n",
    "**blocking method**, to obtain the best possible estimate for the\n",
    "standard deviation.  The optimal minimum is, even with our guess,\n",
    "rather close to the exact value of $3.0$ a.u.\n",
    "\n",
    "Our next step is to use the output values of the energy and\n",
    "perform a blocking analysis of the results in order to get\n",
    "a best possible estimate of the standard deviation."
   ]
  },
  {
   "cell_type": "markdown",
   "id": "a2f62575",
   "metadata": {},
   "source": [
    "## Resampling analysis\n",
    "\n",
    "The next step is then to use the above data sets and perform a\n",
    "resampling analysis, either using say the Bootstrap method or the\n",
    "Blocking method."
   ]
  },
  {
   "cell_type": "code",
   "execution_count": 4,
   "id": "0698ecef",
   "metadata": {},
   "outputs": [
    {
     "name": "stdout",
     "output_type": "stream",
     "text": [
      "Runtime: 3.57637 sec\n",
      "Bootstrap Statistics :\n",
      " 3.00034    2.64425e-07     2.06261e-05\n"
     ]
    }
   ],
   "source": [
    "# Common imports\n",
    "import os\n",
    "\n",
    "# Where to save the figures and data files\n",
    "DATA_ID = \"Results/EnergyMin\"\n",
    "\n",
    "def data_path(dat_id):\n",
    "    return os.path.join(DATA_ID, dat_id)\n",
    "\n",
    "infile = open(data_path(\"Energies.dat\"),'r')\n",
    "\n",
    "from numpy import std, mean, concatenate, arange, loadtxt, zeros, ceil\n",
    "from numpy.random import randint\n",
    "from time import time\n",
    "\n",
    "\n",
    "def tsboot(data,statistic,R,l):\n",
    "    t = zeros(R); n = len(data); k = int(ceil(float(n)/l));\n",
    "    inds = arange(n); t0 = time()\n",
    "    \n",
    "    # time series bootstrap\n",
    "    for i in range(R):\n",
    "        # construct bootstrap sample from\n",
    "        # k chunks of data. The chunksize is l\n",
    "        _data = concatenate([data[j:j+l] for j in randint(0,n-l,k)])[0:n];\n",
    "        t[i] = statistic(_data)\n",
    "\n",
    "    # analysis\n",
    "    print (\"Runtime: %g sec\" % (time()-t0)); print (\"Bootstrap Statistics :\")\n",
    "    print (\"%8g %14g %15g\" % (statistic(data), \\\n",
    "                             mean(t) - statistic(data), \\\n",
    "                             std(t) ))\n",
    "    \n",
    "#    print (\"Runtime: %g sec\" % (time()-t0)); print (\"Bootstrap Statistics :\")\n",
    "#    print (\"%8g %15g\" % (statistic(data), std(t) )\n",
    "    return t\n",
    "# Read in data\n",
    "X = loadtxt(infile)\n",
    "# statistic to be estimated. Takes two args.\n",
    "# arg1: the data\n",
    "def stat(data):\n",
    "    return mean(data)\n",
    "t = tsboot(X, stat, 2**12, 2**10)"
   ]
  },
  {
   "cell_type": "markdown",
   "id": "579ae7a7",
   "metadata": {},
   "source": [
    "The blocking code, based on the article of [Marius Jonsson](https://journals.aps.org/pre/abstract/10.1103/PhysRevE.98.043304) is given here"
   ]
  },
  {
   "cell_type": "code",
   "execution_count": 5,
   "id": "8e90c14e",
   "metadata": {},
   "outputs": [
    {
     "name": "stdout",
     "output_type": "stream",
     "text": [
      "           Mean     STDev\n",
      "Values  3.00034  0.000063\n"
     ]
    }
   ],
   "source": [
    "# Common imports\n",
    "import os\n",
    "\n",
    "# Where to save the figures and data files\n",
    "DATA_ID = \"Results/EnergyMin\"\n",
    "\n",
    "def data_path(dat_id):\n",
    "    return os.path.join(DATA_ID, dat_id)\n",
    "\n",
    "infile = open(data_path(\"Energies.dat\"),'r')\n",
    "\n",
    "from numpy import log2, zeros, mean, var, sum, loadtxt, arange, array, cumsum, dot, transpose, diagonal, sqrt\n",
    "from numpy.linalg import inv\n",
    "\n",
    "def block(x):\n",
    "    # preliminaries\n",
    "    n = len(x)\n",
    "    d = int(log2(n))\n",
    "    s, gamma = zeros(d), zeros(d)\n",
    "    mu = mean(x)\n",
    "\n",
    "    # estimate the auto-covariance and variances \n",
    "    # for each blocking transformation\n",
    "    for i in arange(0,d):\n",
    "        n = len(x)\n",
    "        # estimate autocovariance of x\n",
    "        gamma[i] = (n)**(-1)*sum( (x[0:(n-1)]-mu)*(x[1:n]-mu) )\n",
    "        # estimate variance of x\n",
    "        s[i] = var(x)\n",
    "        # perform blocking transformation\n",
    "        x = 0.5*(x[0::2] + x[1::2])\n",
    "   \n",
    "    # generate the test observator M_k from the theorem\n",
    "    M = (cumsum( ((gamma/s)**2*2**arange(1,d+1)[::-1])[::-1] )  )[::-1]\n",
    "\n",
    "    # we need a list of magic numbers\n",
    "    q =array([6.634897,9.210340, 11.344867, 13.276704, 15.086272, 16.811894, 18.475307, 20.090235, 21.665994, 23.209251, 24.724970, 26.216967, 27.688250, 29.141238, 30.577914, 31.999927, 33.408664, 34.805306, 36.190869, 37.566235, 38.932173, 40.289360, 41.638398, 42.979820, 44.314105, 45.641683, 46.962942, 48.278236, 49.587884, 50.892181])\n",
    "\n",
    "    # use magic to determine when we should have stopped blocking\n",
    "    for k in arange(0,d):\n",
    "        if(M[k] < q[k]):\n",
    "            break\n",
    "    if (k >= d-1):\n",
    "        print(\"Warning: Use more data\")\n",
    "    return mu, s[k]/2**(d-k)\n",
    "\n",
    "\n",
    "x = loadtxt(infile)\n",
    "(mean, var) = block(x) \n",
    "std = sqrt(var)\n",
    "import pandas as pd\n",
    "from pandas import DataFrame\n",
    "data ={'Mean':[mean], 'STDev':[std]}\n",
    "frame = pd.DataFrame(data,index=['Values'])\n",
    "print(frame)"
   ]
  },
  {
   "cell_type": "markdown",
   "id": "32a9be06",
   "metadata": {},
   "source": [
    "Why aren't the final averages from the MC sampling the same as those from the Blocking and Bootstrap analysis?\n",
    "\n",
    "Let us now go through some of the basic theory behind the Bootstrap\n",
    "and the Blocking methods. This means that we need to deal with\n",
    "so-called resampling methods."
   ]
  },
  {
   "cell_type": "markdown",
   "id": "03336daf",
   "metadata": {},
   "source": [
    "## Resampling methods\n",
    "Resampling methods are an indispensable tool in modern\n",
    "statistics. They involve repeatedly drawing samples from a training\n",
    "set and refitting a model of interest on each sample in order to\n",
    "obtain additional information about the fitted model. For example, in\n",
    "order to estimate the variability of a linear regression fit, we can\n",
    "repeatedly draw different samples from the training data, fit a linear\n",
    "regression to each new sample, and then examine the extent to which\n",
    "the resulting fits differ. Such an approach may allow us to obtain\n",
    "information that would not be available from fitting the model only\n",
    "once using the original training sample."
   ]
  },
  {
   "cell_type": "markdown",
   "id": "414ca8e2",
   "metadata": {},
   "source": [
    "## Resampling approaches can be computationally expensive\n",
    "Resampling approaches can be computationally expensive, because they\n",
    "involve fitting the same statistical method multiple times using\n",
    "different subsets of the training data. However, due to recent\n",
    "advances in computing power, the computational requirements of\n",
    "resampling methods generally are not prohibitive. In this chapter, we\n",
    "discuss two of the most commonly used resampling methods,\n",
    "cross-validation and the bootstrap. Both methods are important tools\n",
    "in the practical application of many statistical learning\n",
    "procedures. For example, cross-validation can be used to estimate the\n",
    "test error associated with a given statistical learning method in\n",
    "order to evaluate its performance, or to select the appropriate level\n",
    "of flexibility. The process of evaluating a model’s performance is\n",
    "known as model assessment, whereas the process of selecting the proper\n",
    "level of flexibility for a model is known as model selection. The\n",
    "bootstrap is widely used."
   ]
  },
  {
   "cell_type": "markdown",
   "id": "f2e09666",
   "metadata": {},
   "source": [
    "## Why resampling methods ?\n",
    "**Statistical analysis.**\n",
    "\n",
    "1. Our simulations can be treated as *computer experiments*. This is particularly the case for Monte Carlo methods\n",
    "\n",
    "2. The results can be analysed with the same statistical tools as we would use analysing experimental data.\n",
    "\n",
    "3. As in all experiments, we are looking for expectation values and an estimate of how accurate they are, i.e., possible sources for errors."
   ]
  },
  {
   "cell_type": "markdown",
   "id": "6cdfd44a",
   "metadata": {},
   "source": [
    "## Statistical analysis\n",
    "1. As in other experiments, many numerical  experiments have two classes of errors:\n",
    "\n",
    "a. Statistical errors\n",
    "\n",
    "b. Systematical errors\n",
    "\n",
    "Statistical errors can be estimated using standard tools from statistics.\n",
    "\n",
    "Systematical errors are method specific and must be treated differently from case to case."
   ]
  },
  {
   "cell_type": "markdown",
   "id": "93ba71c4",
   "metadata": {},
   "source": [
    "## Statistics\n",
    "The *probability distribution function (PDF)* is a function\n",
    "$p(x)$ on the domain which, in the discrete case, gives us the\n",
    "probability or relative frequency with which these values of $X$ occur:"
   ]
  },
  {
   "cell_type": "markdown",
   "id": "c9dac03d",
   "metadata": {},
   "source": [
    "$$\n",
    "p(x) = \\mathrm{prob}(X=x)\n",
    "$$"
   ]
  },
  {
   "cell_type": "markdown",
   "id": "dfb36d0c",
   "metadata": {},
   "source": [
    "In the continuous case, the PDF does not directly depict the\n",
    "actual probability. Instead we define the probability for the\n",
    "stochastic variable to assume any value on an infinitesimal interval\n",
    "around $x$ to be $p(x)dx$. The continuous function $p(x)$ then gives us\n",
    "the *density* of the probability rather than the probability\n",
    "itself. The probability for a stochastic variable to assume any value\n",
    "on a non-infinitesimal interval $[a,\\,b]$ is then just the integral:"
   ]
  },
  {
   "cell_type": "markdown",
   "id": "7b3c0e59",
   "metadata": {},
   "source": [
    "$$\n",
    "\\mathrm{prob}(a\\leq X\\leq b) = \\int_a^b p(x)dx\n",
    "$$"
   ]
  },
  {
   "cell_type": "markdown",
   "id": "91bfb23b",
   "metadata": {},
   "source": [
    "Qualitatively speaking, a stochastic variable represents the values of\n",
    "numbers chosen as if by chance from some specified PDF so that the\n",
    "selection of a large set of these numbers reproduces this PDF."
   ]
  },
  {
   "cell_type": "markdown",
   "id": "21b7d700",
   "metadata": {},
   "source": [
    "## Statistics, moments\n",
    "A particularly useful class of special expectation values are the\n",
    "*moments*. The $n$-th moment of the PDF $p$ is defined as\n",
    "follows:"
   ]
  },
  {
   "cell_type": "markdown",
   "id": "c8db5dda",
   "metadata": {},
   "source": [
    "$$\n",
    "\\langle x^n\\rangle \\equiv \\int\\! x^n p(x)\\,dx\n",
    "$$"
   ]
  },
  {
   "cell_type": "markdown",
   "id": "f361ac56",
   "metadata": {},
   "source": [
    "The zero-th moment $\\langle 1\\rangle$ is just the normalization condition of\n",
    "$p$. The first moment, $\\langle x\\rangle$, is called the *mean* of $p$\n",
    "and often denoted by the letter $\\mu$:"
   ]
  },
  {
   "cell_type": "markdown",
   "id": "efa8cda5",
   "metadata": {},
   "source": [
    "$$\n",
    "\\langle x\\rangle = \\mu \\equiv \\int\\! x p(x)\\,dx\n",
    "$$"
   ]
  },
  {
   "cell_type": "markdown",
   "id": "c7249846",
   "metadata": {},
   "source": [
    "## Statistics, central moments\n",
    "A special version of the moments is the set of *central moments*,\n",
    "the n-th central moment defined as:"
   ]
  },
  {
   "cell_type": "markdown",
   "id": "d24eca25",
   "metadata": {},
   "source": [
    "$$\n",
    "\\langle (x-\\langle x \\rangle )^n\\rangle \\equiv \\int\\! (x-\\langle x\\rangle)^n p(x)\\,dx\n",
    "$$"
   ]
  },
  {
   "cell_type": "markdown",
   "id": "652c9f7b",
   "metadata": {},
   "source": [
    "The zero-th and first central moments are both trivial, equal $1$ and\n",
    "$0$, respectively. But the second central moment, known as the\n",
    "*variance* of $p$, is of particular interest. For the stochastic\n",
    "variable $X$, the variance is denoted as $\\sigma^2_X$ or $\\mathrm{var}(X)$:"
   ]
  },
  {
   "cell_type": "markdown",
   "id": "ca7ae38e",
   "metadata": {},
   "source": [
    "<!-- Equation labels as ordinary links -->\n",
    "<div id=\"_auto1\"></div>\n",
    "\n",
    "$$\n",
    "\\begin{equation}\n",
    "\\sigma^2_X\\ \\ =\\ \\ \\mathrm{var}(X)  =  \\langle (x-\\langle x\\rangle)^2\\rangle =\n",
    "\\int\\! (x-\\langle x\\rangle)^2 p(x)\\,dx\n",
    "\\label{_auto1} \\tag{1}\n",
    "\\end{equation}\n",
    "$$"
   ]
  },
  {
   "cell_type": "markdown",
   "id": "70dfc80e",
   "metadata": {},
   "source": [
    "<!-- Equation labels as ordinary links -->\n",
    "<div id=\"_auto2\"></div>\n",
    "\n",
    "$$\n",
    "\\begin{equation} \n",
    " =  \\int\\! \\left(x^2 - 2 x \\langle x\\rangle^{2} +\n",
    "  \\langle x\\rangle^2\\right)p(x)\\,dx\n",
    "\\label{_auto2} \\tag{2}\n",
    "\\end{equation}\n",
    "$$"
   ]
  },
  {
   "cell_type": "markdown",
   "id": "29c81d6f",
   "metadata": {},
   "source": [
    "<!-- Equation labels as ordinary links -->\n",
    "<div id=\"_auto3\"></div>\n",
    "\n",
    "$$\n",
    "\\begin{equation} \n",
    " =  \\langle x^2\\rangle - 2 \\langle x\\rangle\\langle x\\rangle + \\langle x\\rangle^2\n",
    "\\label{_auto3} \\tag{3}\n",
    "\\end{equation}\n",
    "$$"
   ]
  },
  {
   "cell_type": "markdown",
   "id": "f056375d",
   "metadata": {},
   "source": [
    "<!-- Equation labels as ordinary links -->\n",
    "<div id=\"_auto4\"></div>\n",
    "\n",
    "$$\n",
    "\\begin{equation} \n",
    " =  \\langle x^2\\rangle - \\langle x\\rangle^2\n",
    "\\label{_auto4} \\tag{4}\n",
    "\\end{equation}\n",
    "$$"
   ]
  },
  {
   "cell_type": "markdown",
   "id": "ba0a20fb",
   "metadata": {},
   "source": [
    "The square root of the variance, $\\sigma =\\sqrt{\\langle (x-\\langle x\\rangle)^2\\rangle}$ is called the *standard deviation* of $p$. It is clearly just the RMS (root-mean-square)\n",
    "value of the deviation of the PDF from its mean value, interpreted\n",
    "qualitatively as the *spread* of $p$ around its mean."
   ]
  },
  {
   "cell_type": "markdown",
   "id": "571152c5",
   "metadata": {},
   "source": [
    "## Statistics, covariance\n",
    "Another important quantity is the so called covariance, a variant of\n",
    "the above defined variance. Consider again the set $\\{X_i\\}$ of $n$\n",
    "stochastic variables (not necessarily uncorrelated) with the\n",
    "multivariate PDF $P(x_1,\\dots,x_n)$. The *covariance* of two\n",
    "of the stochastic variables, $X_i$ and $X_j$, is defined as follows:"
   ]
  },
  {
   "cell_type": "markdown",
   "id": "c47a37c1",
   "metadata": {},
   "source": [
    "$$\n",
    "\\mathrm{cov}(X_i,\\,X_j) \\equiv \\langle (x_i-\\langle x_i\\rangle)(x_j-\\langle x_j\\rangle)\\rangle\n",
    "\\nonumber\n",
    "$$"
   ]
  },
  {
   "cell_type": "markdown",
   "id": "75432145",
   "metadata": {},
   "source": [
    "<!-- Equation labels as ordinary links -->\n",
    "<div id=\"eq:def_covariance\"></div>\n",
    "\n",
    "$$\n",
    "\\begin{equation} \n",
    "=\n",
    "\\int\\!\\cdots\\!\\int\\!(x_i-\\langle x_i \\rangle)(x_j-\\langle x_j \\rangle)\\,\n",
    "P(x_1,\\dots,x_n)\\,dx_1\\dots dx_n\n",
    "\\label{eq:def_covariance} \\tag{5}\n",
    "\\end{equation}\n",
    "$$"
   ]
  },
  {
   "cell_type": "markdown",
   "id": "08d06da2",
   "metadata": {},
   "source": [
    "with"
   ]
  },
  {
   "cell_type": "markdown",
   "id": "e721fa5c",
   "metadata": {},
   "source": [
    "$$\n",
    "\\langle x_i\\rangle =\n",
    "\\int\\!\\cdots\\!\\int\\!x_i\\,P(x_1,\\dots,x_n)\\,dx_1\\dots dx_n\n",
    "$$"
   ]
  },
  {
   "cell_type": "markdown",
   "id": "63a81b43",
   "metadata": {},
   "source": [
    "## Statistics, more covariance\n",
    "If we consider the above covariance as a matrix $C_{ij}=\\mathrm{cov}(X_i,\\,X_j)$, then the diagonal elements are just the familiar\n",
    "variances, $C_{ii} = \\mathrm{cov}(X_i,\\,X_i) = \\mathrm{var}(X_i)$. It turns out that\n",
    "all the off-diagonal elements are zero if the stochastic variables are\n",
    "uncorrelated. This is easy to show, keeping in mind the linearity of\n",
    "the expectation value. Consider the stochastic variables $X_i$ and\n",
    "$X_j$, ($i\\neq j$):"
   ]
  },
  {
   "cell_type": "markdown",
   "id": "8140d60f",
   "metadata": {},
   "source": [
    "<!-- Equation labels as ordinary links -->\n",
    "<div id=\"_auto5\"></div>\n",
    "\n",
    "$$\n",
    "\\begin{equation}\n",
    "\\mathrm{cov}(X_i,\\,X_j) = \\langle(x_i-\\langle x_i\\rangle)(x_j-\\langle x_j\\rangle)\\rangle\n",
    "\\label{_auto5} \\tag{6}\n",
    "\\end{equation}\n",
    "$$"
   ]
  },
  {
   "cell_type": "markdown",
   "id": "9d34a765",
   "metadata": {},
   "source": [
    "<!-- Equation labels as ordinary links -->\n",
    "<div id=\"_auto6\"></div>\n",
    "\n",
    "$$\n",
    "\\begin{equation} \n",
    "=\\langle x_i x_j - x_i\\langle x_j\\rangle - \\langle x_i\\rangle x_j + \\langle x_i\\rangle\\langle x_j\\rangle\\rangle \n",
    "\\label{_auto6} \\tag{7}\n",
    "\\end{equation}\n",
    "$$"
   ]
  },
  {
   "cell_type": "markdown",
   "id": "ecc6a3ad",
   "metadata": {},
   "source": [
    "<!-- Equation labels as ordinary links -->\n",
    "<div id=\"_auto7\"></div>\n",
    "\n",
    "$$\n",
    "\\begin{equation} \n",
    "=\\langle x_i x_j\\rangle - \\langle x_i\\langle x_j\\rangle\\rangle - \\langle \\langle x_i\\rangle x_j\\rangle +\n",
    "\\langle \\langle x_i\\rangle\\langle x_j\\rangle\\rangle\n",
    "\\label{_auto7} \\tag{8}\n",
    "\\end{equation}\n",
    "$$"
   ]
  },
  {
   "cell_type": "markdown",
   "id": "1b29cbd5",
   "metadata": {},
   "source": [
    "<!-- Equation labels as ordinary links -->\n",
    "<div id=\"_auto8\"></div>\n",
    "\n",
    "$$\n",
    "\\begin{equation} \n",
    "=\\langle x_i x_j\\rangle - \\langle x_i\\rangle\\langle x_j\\rangle - \\langle x_i\\rangle\\langle x_j\\rangle +\n",
    "\\langle x_i\\rangle\\langle x_j\\rangle\n",
    "\\label{_auto8} \\tag{9}\n",
    "\\end{equation}\n",
    "$$"
   ]
  },
  {
   "cell_type": "markdown",
   "id": "d98d4e37",
   "metadata": {},
   "source": [
    "<!-- Equation labels as ordinary links -->\n",
    "<div id=\"_auto9\"></div>\n",
    "\n",
    "$$\n",
    "\\begin{equation} \n",
    "=\\langle x_i x_j\\rangle - \\langle x_i\\rangle\\langle x_j\\rangle\n",
    "\\label{_auto9} \\tag{10}\n",
    "\\end{equation}\n",
    "$$"
   ]
  },
  {
   "cell_type": "markdown",
   "id": "efe6f067",
   "metadata": {},
   "source": [
    "## Statistics, independent variables\n",
    "If $X_i$ and $X_j$ are independent, we get \n",
    "$\\langle x_i x_j\\rangle =\\langle x_i\\rangle\\langle x_j\\rangle$, resulting in $\\mathrm{cov}(X_i, X_j) = 0\\ \\ (i\\neq j)$.\n",
    "\n",
    "Also useful for us is the covariance of linear combinations of\n",
    "stochastic variables. Let $\\{X_i\\}$ and $\\{Y_i\\}$ be two sets of\n",
    "stochastic variables. Let also $\\{a_i\\}$ and $\\{b_i\\}$ be two sets of\n",
    "scalars. Consider the linear combination:"
   ]
  },
  {
   "cell_type": "markdown",
   "id": "951a687b",
   "metadata": {},
   "source": [
    "$$\n",
    "U = \\sum_i a_i X_i \\qquad V = \\sum_j b_j Y_j\n",
    "$$"
   ]
  },
  {
   "cell_type": "markdown",
   "id": "b1c2773f",
   "metadata": {},
   "source": [
    "By the linearity of the expectation value"
   ]
  },
  {
   "cell_type": "markdown",
   "id": "0dabd11b",
   "metadata": {},
   "source": [
    "$$\n",
    "\\mathrm{cov}(U, V) = \\sum_{i,j}a_i b_j \\mathrm{cov}(X_i, Y_j)\n",
    "$$"
   ]
  },
  {
   "cell_type": "markdown",
   "id": "dbca4374",
   "metadata": {},
   "source": [
    "## Statistics, more variance\n",
    "Now, since the variance is just $\\mathrm{var}(X_i) = \\mathrm{cov}(X_i, X_i)$, we get\n",
    "the variance of the linear combination $U = \\sum_i a_i X_i$:"
   ]
  },
  {
   "cell_type": "markdown",
   "id": "4b3e49e4",
   "metadata": {},
   "source": [
    "<!-- Equation labels as ordinary links -->\n",
    "<div id=\"eq:variance_linear_combination\"></div>\n",
    "\n",
    "$$\n",
    "\\begin{equation}\n",
    "\\mathrm{var}(U) = \\sum_{i,j}a_i a_j \\mathrm{cov}(X_i, X_j)\n",
    "\\label{eq:variance_linear_combination} \\tag{11}\n",
    "\\end{equation}\n",
    "$$"
   ]
  },
  {
   "cell_type": "markdown",
   "id": "1a5a9367",
   "metadata": {},
   "source": [
    "And in the special case when the stochastic variables are\n",
    "uncorrelated, the off-diagonal elements of the covariance are as we\n",
    "know zero, resulting in:"
   ]
  },
  {
   "cell_type": "markdown",
   "id": "a8e7e58b",
   "metadata": {},
   "source": [
    "$$\n",
    "\\mathrm{var}(U) = \\sum_i a_i^2 \\mathrm{cov}(X_i, X_i) = \\sum_i a_i^2 \\mathrm{var}(X_i)\n",
    "$$"
   ]
  },
  {
   "cell_type": "markdown",
   "id": "d093fe46",
   "metadata": {},
   "source": [
    "$$\n",
    "\\mathrm{var}(\\sum_i a_i X_i) = \\sum_i a_i^2 \\mathrm{var}(X_i)\n",
    "$$"
   ]
  },
  {
   "cell_type": "markdown",
   "id": "7354f3ba",
   "metadata": {},
   "source": [
    "which will become very useful in our study of the error in the mean\n",
    "value of a set of measurements."
   ]
  },
  {
   "cell_type": "markdown",
   "id": "5ef74db3",
   "metadata": {},
   "source": [
    "## Statistics and stochastic processes\n",
    "A *stochastic process* is a process that produces sequentially a\n",
    "chain of values:"
   ]
  },
  {
   "cell_type": "markdown",
   "id": "aeef4251",
   "metadata": {},
   "source": [
    "$$\n",
    "\\{x_1, x_2,\\dots\\,x_k,\\dots\\}.\n",
    "$$"
   ]
  },
  {
   "cell_type": "markdown",
   "id": "d536b03f",
   "metadata": {},
   "source": [
    "We will call these\n",
    "values our *measurements* and the entire set as our measured\n",
    "*sample*.  The action of measuring all the elements of a sample\n",
    "we will call a stochastic *experiment* since, operationally,\n",
    "they are often associated with results of empirical observation of\n",
    "some physical or mathematical phenomena; precisely an experiment. We\n",
    "assume that these values are distributed according to some \n",
    "PDF $p_X^{\\phantom X}(x)$, where $X$ is just the formal symbol for the\n",
    "stochastic variable whose PDF is $p_X^{\\phantom X}(x)$. Instead of\n",
    "trying to determine the full distribution $p$ we are often only\n",
    "interested in finding the few lowest moments, like the mean\n",
    "$\\mu_X^{\\phantom X}$ and the variance $\\sigma_X^{\\phantom X}$."
   ]
  },
  {
   "cell_type": "markdown",
   "id": "97811993",
   "metadata": {},
   "source": [
    "## Statistics and sample variables\n",
    "In practical situations a sample is always of finite size. Let that\n",
    "size be $n$. The expectation value of a sample, the *sample mean*, is then defined as follows:"
   ]
  },
  {
   "cell_type": "markdown",
   "id": "a271eaee",
   "metadata": {},
   "source": [
    "$$\n",
    "\\bar{x}_n \\equiv \\frac{1}{n}\\sum_{k=1}^n x_k\n",
    "$$"
   ]
  },
  {
   "cell_type": "markdown",
   "id": "7d189d7a",
   "metadata": {},
   "source": [
    "The *sample variance* is:"
   ]
  },
  {
   "cell_type": "markdown",
   "id": "abf57a02",
   "metadata": {},
   "source": [
    "$$\n",
    "\\mathrm{var}(x) \\equiv \\frac{1}{n}\\sum_{k=1}^n (x_k - \\bar{x}_n)^2\n",
    "$$"
   ]
  },
  {
   "cell_type": "markdown",
   "id": "7123711c",
   "metadata": {},
   "source": [
    "its square root being the *standard deviation of the sample*. The\n",
    "*sample covariance* is:"
   ]
  },
  {
   "cell_type": "markdown",
   "id": "0cc14f43",
   "metadata": {},
   "source": [
    "$$\n",
    "\\mathrm{cov}(x)\\equiv\\frac{1}{n}\\sum_{kl}(x_k - \\bar{x}_n)(x_l - \\bar{x}_n)\n",
    "$$"
   ]
  },
  {
   "cell_type": "markdown",
   "id": "79f50f52",
   "metadata": {},
   "source": [
    "## Statistics, sample variance and covariance\n",
    "Note that the sample variance is the sample covariance without the\n",
    "cross terms. In a similar manner as the covariance in Eq. ([5](#eq:def_covariance)) is a measure of the correlation between\n",
    "two stochastic variables, the above defined sample covariance is a\n",
    "measure of the sequential correlation between succeeding measurements\n",
    "of a sample.\n",
    "\n",
    "These quantities, being known experimental values, differ\n",
    "significantly from and must not be confused with the similarly named\n",
    "quantities for stochastic variables, mean $\\mu_X$, variance $\\mathrm{var}(X)$\n",
    "and covariance $\\mathrm{cov}(X,Y)$."
   ]
  },
  {
   "cell_type": "markdown",
   "id": "ae55bc92",
   "metadata": {},
   "source": [
    "## Statistics, law of large numbers\n",
    "The law of large numbers\n",
    "states that as the size of our sample grows to infinity, the sample\n",
    "mean approaches the true mean $\\mu_X^{\\phantom X}$ of the chosen PDF:"
   ]
  },
  {
   "cell_type": "markdown",
   "id": "c2cfc109",
   "metadata": {},
   "source": [
    "$$\n",
    "\\lim_{n\\to\\infty}\\bar{x}_n = \\mu_X^{\\phantom X}\n",
    "$$"
   ]
  },
  {
   "cell_type": "markdown",
   "id": "25786376",
   "metadata": {},
   "source": [
    "The sample mean $\\bar{x}_n$ works therefore as an estimate of the true\n",
    "mean $\\mu_X^{\\phantom X}$.\n",
    "\n",
    "What we need to find out is how good an approximation $\\bar{x}_n$ is to\n",
    "$\\mu_X^{\\phantom X}$. In any stochastic measurement, an estimated\n",
    "mean is of no use to us without a measure of its error. A quantity\n",
    "that tells us how well we can reproduce it in another experiment. We\n",
    "are therefore interested in the PDF of the sample mean itself. Its\n",
    "standard deviation will be a measure of the spread of sample means,\n",
    "and we will simply call it the *error* of the sample mean, or\n",
    "just sample error, and denote it by $\\mathrm{err}_X^{\\phantom X}$. In\n",
    "practice, we will only be able to produce an *estimate* of the\n",
    "sample error since the exact value would require the knowledge of the\n",
    "true PDFs behind, which we usually do not have."
   ]
  },
  {
   "cell_type": "markdown",
   "id": "a060cc14",
   "metadata": {},
   "source": [
    "## Statistics, more on sample error\n",
    "Let us first take a look at what happens to the sample error as the\n",
    "size of the sample grows. In a sample, each of the measurements $x_i$\n",
    "can be associated with its own stochastic variable $X_i$. The\n",
    "stochastic variable $\\overline X_n$ for the sample mean $\\bar{x}_n$ is\n",
    "then just a linear combination, already familiar to us:"
   ]
  },
  {
   "cell_type": "markdown",
   "id": "f284837a",
   "metadata": {},
   "source": [
    "$$\n",
    "\\overline X_n = \\frac{1}{n}\\sum_{i=1}^n X_i\n",
    "$$"
   ]
  },
  {
   "cell_type": "markdown",
   "id": "469a404f",
   "metadata": {},
   "source": [
    "All the coefficients are just equal $1/n$. The PDF of $\\overline X_n$,\n",
    "denoted by $p_{\\overline X_n}(x)$ is the desired PDF of the sample\n",
    "means."
   ]
  },
  {
   "cell_type": "markdown",
   "id": "d41a79c8",
   "metadata": {},
   "source": [
    "## Statistics\n",
    "The probability density of obtaining a sample mean $\\bar x_n$\n",
    "is the product of probabilities of obtaining arbitrary values $x_1,\n",
    "x_2,\\dots,x_n$ with the constraint that the mean of the set $\\{x_i\\}$\n",
    "is $\\bar x_n$:"
   ]
  },
  {
   "cell_type": "markdown",
   "id": "7b0639ad",
   "metadata": {},
   "source": [
    "$$\n",
    "p_{\\overline X_n}(x) = \\int p_X^{\\phantom X}(x_1)\\cdots\n",
    "\\int p_X^{\\phantom X}(x_n)\\ \n",
    "\\delta\\!\\left(x - \\frac{x_1+x_2+\\dots+x_n}{n}\\right)dx_n \\cdots dx_1\n",
    "$$"
   ]
  },
  {
   "cell_type": "markdown",
   "id": "34f84003",
   "metadata": {},
   "source": [
    "And in particular we are interested in its variance $\\mathrm{var}(\\overline X_n)$."
   ]
  },
  {
   "cell_type": "markdown",
   "id": "5e0e7f53",
   "metadata": {},
   "source": [
    "## Statistics, central limit theorem\n",
    "It is generally not possible to express $p_{\\overline X_n}(x)$ in a\n",
    "closed form given an arbitrary PDF $p_X^{\\phantom X}$ and a number\n",
    "$n$. But for the limit $n\\to\\infty$ it is possible to make an\n",
    "approximation. The very important result is called *the central limit theorem*. It tells us that as $n$ goes to infinity,\n",
    "$p_{\\overline X_n}(x)$ approaches a Gaussian distribution whose mean\n",
    "and variance equal the true mean and variance, $\\mu_{X}^{\\phantom X}$\n",
    "and $\\sigma_{X}^{2}$, respectively:"
   ]
  },
  {
   "cell_type": "markdown",
   "id": "ca2db32b",
   "metadata": {},
   "source": [
    "<!-- Equation labels as ordinary links -->\n",
    "<div id=\"eq:central_limit_gaussian\"></div>\n",
    "\n",
    "$$\n",
    "\\begin{equation}\n",
    "\\lim_{n\\to\\infty} p_{\\overline X_n}(x) =\n",
    "\\left(\\frac{n}{2\\pi\\mathrm{var}(X)}\\right)^{1/2}\n",
    "e^{-\\frac{n(x-\\bar x_n)^2}{2\\mathrm{var}(X)}}\n",
    "\\label{eq:central_limit_gaussian} \\tag{12}\n",
    "\\end{equation}\n",
    "$$"
   ]
  },
  {
   "cell_type": "markdown",
   "id": "2fbb8ab5",
   "metadata": {},
   "source": [
    "## Statistics, more technicalities\n",
    "The desired variance\n",
    "$\\mathrm{var}(\\overline X_n)$, i.e. the sample error squared\n",
    "$\\mathrm{err}_X^2$, is given by:"
   ]
  },
  {
   "cell_type": "markdown",
   "id": "1491c4f8",
   "metadata": {},
   "source": [
    "<!-- Equation labels as ordinary links -->\n",
    "<div id=\"eq:error_exact\"></div>\n",
    "\n",
    "$$\n",
    "\\begin{equation}\n",
    "\\mathrm{err}_X^2 = \\mathrm{var}(\\overline X_n) = \\frac{1}{n^2}\n",
    "\\sum_{ij} \\mathrm{cov}(X_i, X_j)\n",
    "\\label{eq:error_exact} \\tag{13}\n",
    "\\end{equation}\n",
    "$$"
   ]
  },
  {
   "cell_type": "markdown",
   "id": "c64a3f52",
   "metadata": {},
   "source": [
    "We see now that in order to calculate the exact error of the sample\n",
    "with the above expression, we would need the true means\n",
    "$\\mu_{X_i}^{\\phantom X}$ of the stochastic variables $X_i$. To\n",
    "calculate these requires that we know the true multivariate PDF of all\n",
    "the $X_i$. But this PDF is unknown to us, we have only got the measurements of\n",
    "one sample. The best we can do is to let the sample itself be an\n",
    "estimate of the PDF of each of the $X_i$, estimating all properties of\n",
    "$X_i$ through the measurements of the sample."
   ]
  },
  {
   "cell_type": "markdown",
   "id": "1d855797",
   "metadata": {},
   "source": [
    "## Statistics\n",
    "Our estimate of $\\mu_{X_i}^{\\phantom X}$ is then the sample mean $\\bar x$\n",
    "itself, in accordance with the the central limit theorem:"
   ]
  },
  {
   "cell_type": "markdown",
   "id": "1f46375b",
   "metadata": {},
   "source": [
    "$$\n",
    "\\mu_{X_i}^{\\phantom X} = \\langle x_i\\rangle \\approx \\frac{1}{n}\\sum_{k=1}^n x_k = \\bar x\n",
    "$$"
   ]
  },
  {
   "cell_type": "markdown",
   "id": "8a8b58a8",
   "metadata": {},
   "source": [
    "Using $\\bar x$ in place of $\\mu_{X_i}^{\\phantom X}$ we can give an\n",
    "*estimate* of the covariance in Eq. ([13](#eq:error_exact))"
   ]
  },
  {
   "cell_type": "markdown",
   "id": "1cdeebb4",
   "metadata": {},
   "source": [
    "$$\n",
    "\\mathrm{cov}(X_i, X_j) = \\langle (x_i-\\langle x_i\\rangle)(x_j-\\langle x_j\\rangle)\\rangle\n",
    "\\approx\\langle (x_i - \\bar x)(x_j - \\bar{x})\\rangle,\n",
    "$$"
   ]
  },
  {
   "cell_type": "markdown",
   "id": "6d34b176",
   "metadata": {},
   "source": [
    "resulting in"
   ]
  },
  {
   "cell_type": "markdown",
   "id": "341d81d5",
   "metadata": {},
   "source": [
    "$$\n",
    "\\frac{1}{n} \\sum_{l}^n \\left(\\frac{1}{n}\\sum_{k}^n (x_k -\\bar x_n)(x_l - \\bar x_n)\\right)=\\frac{1}{n}\\frac{1}{n} \\sum_{kl} (x_k -\\bar x_n)(x_l - \\bar x_n)=\\frac{1}{n}\\mathrm{cov}(x)\n",
    "$$"
   ]
  },
  {
   "cell_type": "markdown",
   "id": "3a376f19",
   "metadata": {},
   "source": [
    "## Statistics and sample variance\n",
    "By the same procedure we can use the sample variance as an\n",
    "estimate of the variance of any of the stochastic variables $X_i$"
   ]
  },
  {
   "cell_type": "markdown",
   "id": "d61f643b",
   "metadata": {},
   "source": [
    "$$\n",
    "\\mathrm{var}(X_i)=\\langle x_i - \\langle x_i\\rangle\\rangle \\approx \\langle x_i - \\bar x_n\\rangle\\nonumber,\n",
    "$$"
   ]
  },
  {
   "cell_type": "markdown",
   "id": "c6f33b6d",
   "metadata": {},
   "source": [
    "which is approximated as"
   ]
  },
  {
   "cell_type": "markdown",
   "id": "4cd6e803",
   "metadata": {},
   "source": [
    "<!-- Equation labels as ordinary links -->\n",
    "<div id=\"eq:var_estimate_i_think\"></div>\n",
    "\n",
    "$$\n",
    "\\begin{equation}\n",
    "\\mathrm{var}(X_i)\\approx \\frac{1}{n}\\sum_{k=1}^n (x_k - \\bar x_n)=\\mathrm{var}(x)\n",
    "\\label{eq:var_estimate_i_think} \\tag{14}\n",
    "\\end{equation}\n",
    "$$"
   ]
  },
  {
   "cell_type": "markdown",
   "id": "717d423b",
   "metadata": {},
   "source": [
    "Now we can calculate an estimate of the error\n",
    "$\\mathrm{err}_X^{\\phantom X}$ of the sample mean $\\bar x_n$:"
   ]
  },
  {
   "cell_type": "markdown",
   "id": "4f29b23e",
   "metadata": {},
   "source": [
    "$$\n",
    "\\mathrm{err}_X^2\n",
    "=\\frac{1}{n^2}\\sum_{ij} \\mathrm{cov}(X_i, X_j) \\nonumber\n",
    "$$"
   ]
  },
  {
   "cell_type": "markdown",
   "id": "52d7335d",
   "metadata": {},
   "source": [
    "$$\n",
    "\\approx\\frac{1}{n^2}\\sum_{ij}\\frac{1}{n}\\mathrm{cov}(x) =\\frac{1}{n^2}n^2\\frac{1}{n}\\mathrm{cov}(x)\\nonumber\n",
    "$$"
   ]
  },
  {
   "cell_type": "markdown",
   "id": "3cb3a15e",
   "metadata": {},
   "source": [
    "<!-- Equation labels as ordinary links -->\n",
    "<div id=\"eq:error_estimate\"></div>\n",
    "\n",
    "$$\n",
    "\\begin{equation} \n",
    "=\\frac{1}{n}\\mathrm{cov}(x)\n",
    "\\label{eq:error_estimate} \\tag{15}\n",
    "\\end{equation}\n",
    "$$"
   ]
  },
  {
   "cell_type": "markdown",
   "id": "a108eebf",
   "metadata": {},
   "source": [
    "which is nothing but the sample covariance divided by the number of\n",
    "measurements in the sample."
   ]
  },
  {
   "cell_type": "markdown",
   "id": "315889d7",
   "metadata": {},
   "source": [
    "## Statistics, uncorrelated results\n",
    "\n",
    "In the special case that the measurements of the sample are\n",
    "uncorrelated (equivalently the stochastic variables $X_i$ are\n",
    "uncorrelated) we have that the off-diagonal elements of the covariance\n",
    "are zero. This gives the following estimate of the sample error:"
   ]
  },
  {
   "cell_type": "markdown",
   "id": "c312a5d7",
   "metadata": {},
   "source": [
    "$$\n",
    "\\mathrm{err}_X^2=\\frac{1}{n^2}\\sum_{ij} \\mathrm{cov}(X_i, X_j) =\n",
    "\\frac{1}{n^2} \\sum_i \\mathrm{var}(X_i),\n",
    "$$"
   ]
  },
  {
   "cell_type": "markdown",
   "id": "2c00c4b8",
   "metadata": {},
   "source": [
    "resulting in"
   ]
  },
  {
   "cell_type": "markdown",
   "id": "f74372ba",
   "metadata": {},
   "source": [
    "<!-- Equation labels as ordinary links -->\n",
    "<div id=\"eq:error_estimate_uncorrel\"></div>\n",
    "\n",
    "$$\n",
    "\\begin{equation}\n",
    "\\mathrm{err}_X^2\\approx \\frac{1}{n^2} \\sum_i \\mathrm{var}(x)= \\frac{1}{n}\\mathrm{var}(x)\n",
    "\\label{eq:error_estimate_uncorrel} \\tag{16}\n",
    "\\end{equation}\n",
    "$$"
   ]
  },
  {
   "cell_type": "markdown",
   "id": "f3366db1",
   "metadata": {},
   "source": [
    "where in the second step we have used Eq. ([14](#eq:var_estimate_i_think)).\n",
    "The error of the sample is then just its standard deviation divided by\n",
    "the square root of the number of measurements the sample contains.\n",
    "This is a very useful formula which is easy to compute. It acts as a\n",
    "first approximation to the error, but in numerical experiments, we\n",
    "cannot overlook the always present correlations."
   ]
  },
  {
   "cell_type": "markdown",
   "id": "68da61b5",
   "metadata": {},
   "source": [
    "## Statistics, computations\n",
    "For computational purposes one usually splits up the estimate of\n",
    "$\\mathrm{err}_X^2$, given by Eq. ([15](#eq:error_estimate)), into two\n",
    "parts"
   ]
  },
  {
   "cell_type": "markdown",
   "id": "2a18ccd6",
   "metadata": {},
   "source": [
    "$$\n",
    "\\mathrm{err}_X^2 = \\frac{1}{n}\\mathrm{var}(x) + \\frac{1}{n}(\\mathrm{cov}(x)-\\mathrm{var}(x)),\n",
    "$$"
   ]
  },
  {
   "cell_type": "markdown",
   "id": "6ecee814",
   "metadata": {},
   "source": [
    "which equals"
   ]
  },
  {
   "cell_type": "markdown",
   "id": "6148a961",
   "metadata": {},
   "source": [
    "<!-- Equation labels as ordinary links -->\n",
    "<div id=\"eq:error_estimate_split_up\"></div>\n",
    "\n",
    "$$\n",
    "\\begin{equation}\n",
    "\\frac{1}{n^2}\\sum_{k=1}^n (x_k - \\bar x_n)^2 +\\frac{2}{n^2}\\sum_{k<l} (x_k - \\bar x_n)(x_l - \\bar x_n)\n",
    "\\label{eq:error_estimate_split_up} \\tag{17}\n",
    "\\end{equation}\n",
    "$$"
   ]
  },
  {
   "cell_type": "markdown",
   "id": "10bc02c6",
   "metadata": {},
   "source": [
    "The first term is the same as the error in the uncorrelated case,\n",
    "Eq. ([16](#eq:error_estimate_uncorrel)). This means that the second\n",
    "term accounts for the error correction due to correlation between the\n",
    "measurements. For uncorrelated measurements this second term is zero."
   ]
  },
  {
   "cell_type": "markdown",
   "id": "af5f60e2",
   "metadata": {},
   "source": [
    "## Statistics, more on computations of errors\n",
    "Computationally the uncorrelated first term is much easier to treat\n",
    "efficiently than the second."
   ]
  },
  {
   "cell_type": "markdown",
   "id": "4c0e34d1",
   "metadata": {},
   "source": [
    "$$\n",
    "\\mathrm{var}(x) = \\frac{1}{n}\\sum_{k=1}^n (x_k - \\bar x_n)^2 =\n",
    "\\left(\\frac{1}{n}\\sum_{k=1}^n x_k^2\\right) - \\bar x_n^2\n",
    "$$"
   ]
  },
  {
   "cell_type": "markdown",
   "id": "9117edbd",
   "metadata": {},
   "source": [
    "We just accumulate separately the values $x^2$ and $x$ for every\n",
    "measurement $x$ we receive. The correlation term, though, has to be\n",
    "calculated at the end of the experiment since we need all the\n",
    "measurements to calculate the cross terms. Therefore, all measurements\n",
    "have to be stored throughout the experiment."
   ]
  },
  {
   "cell_type": "markdown",
   "id": "d64535e2",
   "metadata": {},
   "source": [
    "## Statistics, wrapping up 1\n",
    "Let us analyze the problem by splitting up the correlation term into\n",
    "partial sums of the form:"
   ]
  },
  {
   "cell_type": "markdown",
   "id": "5ca931d4",
   "metadata": {},
   "source": [
    "$$\n",
    "f_d = \\frac{1}{n-d}\\sum_{k=1}^{n-d}(x_k - \\bar x_n)(x_{k+d} - \\bar x_n)\n",
    "$$"
   ]
  },
  {
   "cell_type": "markdown",
   "id": "123e606e",
   "metadata": {},
   "source": [
    "The correlation term of the error can now be rewritten in terms of\n",
    "$f_d$"
   ]
  },
  {
   "cell_type": "markdown",
   "id": "4e04e6fc",
   "metadata": {},
   "source": [
    "$$\n",
    "\\frac{2}{n}\\sum_{k<l} (x_k - \\bar x_n)(x_l - \\bar x_n) =\n",
    "2\\sum_{d=1}^{n-1} f_d\n",
    "$$"
   ]
  },
  {
   "cell_type": "markdown",
   "id": "b9698e98",
   "metadata": {},
   "source": [
    "The value of $f_d$ reflects the correlation between measurements\n",
    "separated by the distance $d$ in the sample samples.  Notice that for\n",
    "$d=0$, $f$ is just the sample variance, $\\mathrm{var}(x)$. If we divide $f_d$\n",
    "by $\\mathrm{var}(x)$, we arrive at the so called *autocorrelation function*"
   ]
  },
  {
   "cell_type": "markdown",
   "id": "63aa51c1",
   "metadata": {},
   "source": [
    "$$\n",
    "\\kappa_d = \\frac{f_d}{\\mathrm{var}(x)}\n",
    "$$"
   ]
  },
  {
   "cell_type": "markdown",
   "id": "f7b503f1",
   "metadata": {},
   "source": [
    "which gives us a useful measure of pairwise correlations\n",
    "starting always at $1$ for $d=0$."
   ]
  },
  {
   "cell_type": "markdown",
   "id": "a676944c",
   "metadata": {},
   "source": [
    "## Statistics, final expression\n",
    "The sample error (see eq. ([17](#eq:error_estimate_split_up))) can now be\n",
    "written in terms of the autocorrelation function:"
   ]
  },
  {
   "cell_type": "markdown",
   "id": "19cd5829",
   "metadata": {},
   "source": [
    "$$\n",
    "\\mathrm{err}_X^2 =\n",
    "\\frac{1}{n}\\mathrm{var}(x)+\\frac{2}{n}\\cdot\\mathrm{var}(x)\\sum_{d=1}^{n-1}\n",
    "\\frac{f_d}{\\mathrm{var}(x)}\\nonumber\n",
    "$$"
   ]
  },
  {
   "cell_type": "markdown",
   "id": "689a08fa",
   "metadata": {},
   "source": [
    "$$\n",
    "=\n",
    "\\left(1+2\\sum_{d=1}^{n-1}\\kappa_d\\right)\\frac{1}{n}\\mathrm{var}(x)\\nonumber\n",
    "$$"
   ]
  },
  {
   "cell_type": "markdown",
   "id": "cb6e4e12",
   "metadata": {},
   "source": [
    "<!-- Equation labels as ordinary links -->\n",
    "<div id=\"eq:error_estimate_corr_time\"></div>\n",
    "\n",
    "$$\n",
    "\\begin{equation} \n",
    "=\\frac{\\tau}{n}\\cdot\\mathrm{var}(x)\n",
    "\\label{eq:error_estimate_corr_time} \\tag{18}\n",
    "\\end{equation}\n",
    "$$"
   ]
  },
  {
   "cell_type": "markdown",
   "id": "f0bc4423",
   "metadata": {},
   "source": [
    "and we see that $\\mathrm{err}_X$ can be expressed in terms the\n",
    "uncorrelated sample variance times a correction factor $\\tau$ which\n",
    "accounts for the correlation between measurements. We call this\n",
    "correction factor the *autocorrelation time*:"
   ]
  },
  {
   "cell_type": "markdown",
   "id": "b9d96f44",
   "metadata": {},
   "source": [
    "<!-- Equation labels as ordinary links -->\n",
    "<div id=\"eq:autocorrelation_time\"></div>\n",
    "\n",
    "$$\n",
    "\\begin{equation}\n",
    "\\tau = 1+2\\sum_{d=1}^{n-1}\\kappa_d\n",
    "\\label{eq:autocorrelation_time} \\tag{19}\n",
    "\\end{equation}\n",
    "$$"
   ]
  },
  {
   "cell_type": "markdown",
   "id": "ea77f643",
   "metadata": {},
   "source": [
    "## Statistics, effective number of correlations\n",
    "For a correlation free experiment, $\\tau$\n",
    "equals 1. From the point of view of\n",
    "eq. ([18](#eq:error_estimate_corr_time)) we can interpret a sequential\n",
    "correlation as an effective reduction of the number of measurements by\n",
    "a factor $\\tau$. The effective number of measurements becomes:"
   ]
  },
  {
   "cell_type": "markdown",
   "id": "8f107daf",
   "metadata": {},
   "source": [
    "$$\n",
    "n_\\mathrm{eff} = \\frac{n}{\\tau}\n",
    "$$"
   ]
  },
  {
   "cell_type": "markdown",
   "id": "75a5e1d7",
   "metadata": {},
   "source": [
    "To neglect the autocorrelation time $\\tau$ will always cause our\n",
    "simple uncorrelated estimate of $\\mathrm{err}_X^2\\approx \\mathrm{var}(x)/n$ to\n",
    "be less than the true sample error. The estimate of the error will be\n",
    "too *good*. On the other hand, the calculation of the full\n",
    "autocorrelation time poses an efficiency problem if the set of\n",
    "measurements is very large."
   ]
  },
  {
   "cell_type": "markdown",
   "id": "74f89419",
   "metadata": {},
   "source": [
    "## Can we understand this? Time Auto-correlation Function\n",
    "The so-called time-displacement autocorrelation $\\phi(t)$ for a quantity $\\mathbf{M}$ is given by"
   ]
  },
  {
   "cell_type": "markdown",
   "id": "95cbd7a7",
   "metadata": {},
   "source": [
    "$$\n",
    "\\phi(t) = \\int dt' \\left[\\mathbf{M}(t')-\\langle \\mathbf{M} \\rangle\\right]\\left[\\mathbf{M}(t'+t)-\\langle \\mathbf{M} \\rangle\\right],\n",
    "$$"
   ]
  },
  {
   "cell_type": "markdown",
   "id": "7145331a",
   "metadata": {},
   "source": [
    "which can be rewritten as"
   ]
  },
  {
   "cell_type": "markdown",
   "id": "94c4c0ec",
   "metadata": {},
   "source": [
    "$$\n",
    "\\phi(t) = \\int dt' \\left[\\mathbf{M}(t')\\mathbf{M}(t'+t)-\\langle \\mathbf{M} \\rangle^2\\right],\n",
    "$$"
   ]
  },
  {
   "cell_type": "markdown",
   "id": "0d2ff609",
   "metadata": {},
   "source": [
    "where $\\langle \\mathbf{M} \\rangle$ is the average value and\n",
    "$\\mathbf{M}(t)$ its instantaneous value. We can discretize this function as follows, where we used our\n",
    "set of computed values $\\mathbf{M}(t)$ for a set of discretized times (our Monte Carlo cycles corresponding to moving all electrons?)"
   ]
  },
  {
   "cell_type": "markdown",
   "id": "6ca6d43a",
   "metadata": {},
   "source": [
    "<!-- Equation labels as ordinary links -->\n",
    "<div id=\"eq:phitf\"></div>\n",
    "\n",
    "$$\n",
    "\\phi(t)  = \\frac{1}{t_{\\mathrm{max}}-t}\\sum_{t'=0}^{t_{\\mathrm{max}}-t}\\mathbf{M}(t')\\mathbf{M}(t'+t)\n",
    "-\\frac{1}{t_{\\mathrm{max}}-t}\\sum_{t'=0}^{t_{\\mathrm{max}}-t}\\mathbf{M}(t')\\times\n",
    "\\frac{1}{t_{\\mathrm{max}}-t}\\sum_{t'=0}^{t_{\\mathrm{max}}-t}\\mathbf{M}(t'+t).\n",
    "\\label{eq:phitf} \\tag{20}\n",
    "$$"
   ]
  },
  {
   "cell_type": "markdown",
   "id": "90e6e1ad",
   "metadata": {},
   "source": [
    "## Time Auto-correlation Function\n",
    "One should be careful with times close to $t_{\\mathrm{max}}$, the upper limit of the sums \n",
    "becomes small and we end up integrating over a rather small time interval. This means that the statistical\n",
    "error in $\\phi(t)$ due to the random nature of the fluctuations in $\\mathbf{M}(t)$ can become large.\n",
    "\n",
    "One should therefore choose $t \\ll t_{\\mathrm{max}}$.\n",
    "\n",
    "Note that the variable $\\mathbf{M}$ can be any expectation values of interest.\n",
    "\n",
    "The time-correlation function gives a measure of the correlation between the various values of the variable \n",
    "at a time $t'$ and a time $t'+t$. If we multiply the values of $\\mathbf{M}$ at these two different times,\n",
    "we will get a positive contribution if they are fluctuating in the same direction, or a negative value\n",
    "if they fluctuate in the opposite direction. If we then integrate over time, or use the discretized version of, the time correlation function $\\phi(t)$ should take a non-zero value if the fluctuations are \n",
    "correlated, else it should gradually go to zero. For times a long way apart \n",
    "the different values of $\\mathbf{M}$  are most likely \n",
    "uncorrelated and $\\phi(t)$ should be zero."
   ]
  },
  {
   "cell_type": "markdown",
   "id": "c1ae51a7",
   "metadata": {},
   "source": [
    "## Time Auto-correlation Function\n",
    "We can derive the correlation time by observing that our Metropolis algorithm is based on a random\n",
    "walk in the space of all  possible spin configurations. \n",
    "Our probability \n",
    "distribution function $\\mathbf{\\hat{w}}(t)$ after a given number of time steps $t$ could be written as"
   ]
  },
  {
   "cell_type": "markdown",
   "id": "6ed9a54c",
   "metadata": {},
   "source": [
    "$$\n",
    "\\mathbf{\\hat{w}}(t) = \\mathbf{\\hat{W}^t\\hat{w}}(0),\n",
    "$$"
   ]
  },
  {
   "cell_type": "markdown",
   "id": "63109f4f",
   "metadata": {},
   "source": [
    "with $\\mathbf{\\hat{w}}(0)$ the distribution at $t=0$ and $\\mathbf{\\hat{W}}$ representing the \n",
    "transition probability matrix. \n",
    "We can always expand $\\mathbf{\\hat{w}}(0)$ in terms of the right eigenvectors of \n",
    "$\\mathbf{\\hat{v}}$ of $\\mathbf{\\hat{W}}$ as"
   ]
  },
  {
   "cell_type": "markdown",
   "id": "d51909f8",
   "metadata": {},
   "source": [
    "$$\n",
    "\\mathbf{\\hat{w}}(0)  = \\sum_i\\alpha_i\\mathbf{\\hat{v}}_i,\n",
    "$$"
   ]
  },
  {
   "cell_type": "markdown",
   "id": "e8c1448e",
   "metadata": {},
   "source": [
    "resulting in"
   ]
  },
  {
   "cell_type": "markdown",
   "id": "c4ab4428",
   "metadata": {},
   "source": [
    "$$\n",
    "\\mathbf{\\hat{w}}(t) = \\mathbf{\\hat{W}}^t\\mathbf{\\hat{w}}(0)=\\mathbf{\\hat{W}}^t\\sum_i\\alpha_i\\mathbf{\\hat{v}}_i=\n",
    "\\sum_i\\lambda_i^t\\alpha_i\\mathbf{\\hat{v}}_i,\n",
    "$$"
   ]
  },
  {
   "cell_type": "markdown",
   "id": "68e4e8f1",
   "metadata": {},
   "source": [
    "with $\\lambda_i$ the $i^{\\mathrm{th}}$ eigenvalue corresponding to  \n",
    "the eigenvector $\\mathbf{\\hat{v}}_i$."
   ]
  },
  {
   "cell_type": "markdown",
   "id": "3f290984",
   "metadata": {},
   "source": [
    "## Time Auto-correlation Function\n",
    "If we assume that $\\lambda_0$ is the largest eigenvector we see that in the limit $t\\rightarrow \\infty$,\n",
    "$\\mathbf{\\hat{w}}(t)$ becomes proportional to the corresponding eigenvector \n",
    "$\\mathbf{\\hat{v}}_0$. This is our steady state or final distribution. \n",
    "\n",
    "We can relate this property to an observable like the mean energy.\n",
    "With the probabilty $\\mathbf{\\hat{w}}(t)$ (which in our case is the squared trial wave function) we\n",
    "can write the expectation values as"
   ]
  },
  {
   "cell_type": "markdown",
   "id": "e4acc351",
   "metadata": {},
   "source": [
    "$$\n",
    "\\langle \\mathbf{M}(t) \\rangle  = \\sum_{\\mu} \\mathbf{\\hat{w}}(t)_{\\mu}\\mathbf{M}_{\\mu},\n",
    "$$"
   ]
  },
  {
   "cell_type": "markdown",
   "id": "a7295cce",
   "metadata": {},
   "source": [
    "or as the scalar of a  vector product"
   ]
  },
  {
   "cell_type": "markdown",
   "id": "da230ebc",
   "metadata": {},
   "source": [
    "$$\n",
    "\\langle \\mathbf{M}(t) \\rangle  = \\mathbf{\\hat{w}}(t)\\mathbf{m},\n",
    "$$"
   ]
  },
  {
   "cell_type": "markdown",
   "id": "f9768d00",
   "metadata": {},
   "source": [
    "with $\\mathbf{m}$ being the vector whose elements are the values of $\\mathbf{M}_{\\mu}$ in its \n",
    "various microstates $\\mu$."
   ]
  },
  {
   "cell_type": "markdown",
   "id": "c0c5d310",
   "metadata": {},
   "source": [
    "## Time Auto-correlation Function\n",
    "We rewrite this relation  as"
   ]
  },
  {
   "cell_type": "markdown",
   "id": "dd1a09e9",
   "metadata": {},
   "source": [
    "$$\n",
    "\\langle \\mathbf{M}(t) \\rangle  = \\mathbf{\\hat{w}}(t)\\mathbf{m}=\\sum_i\\lambda_i^t\\alpha_i\\mathbf{\\hat{v}}_i\\mathbf{m}_i.\n",
    "$$"
   ]
  },
  {
   "cell_type": "markdown",
   "id": "82251b62",
   "metadata": {},
   "source": [
    "If we define $m_i=\\mathbf{\\hat{v}}_i\\mathbf{m}_i$ as the expectation value of\n",
    "$\\mathbf{M}$ in the $i^{\\mathrm{th}}$ eigenstate we can rewrite the last equation as"
   ]
  },
  {
   "cell_type": "markdown",
   "id": "95d1db80",
   "metadata": {},
   "source": [
    "$$\n",
    "\\langle \\mathbf{M}(t) \\rangle  = \\sum_i\\lambda_i^t\\alpha_im_i.\n",
    "$$"
   ]
  },
  {
   "cell_type": "markdown",
   "id": "c53c3a69",
   "metadata": {},
   "source": [
    "Since we have that in the limit $t\\rightarrow \\infty$ the mean value is dominated by the \n",
    "the largest eigenvalue $\\lambda_0$, we can rewrite the last equation as"
   ]
  },
  {
   "cell_type": "markdown",
   "id": "9b3ff199",
   "metadata": {},
   "source": [
    "$$\n",
    "\\langle \\mathbf{M}(t) \\rangle  = \\langle \\mathbf{M}(\\infty) \\rangle+\\sum_{i\\ne 0}\\lambda_i^t\\alpha_im_i.\n",
    "$$"
   ]
  },
  {
   "cell_type": "markdown",
   "id": "00025ba9",
   "metadata": {},
   "source": [
    "We define the quantity"
   ]
  },
  {
   "cell_type": "markdown",
   "id": "b649574b",
   "metadata": {},
   "source": [
    "$$\n",
    "\\tau_i=-\\frac{1}{log\\lambda_i},\n",
    "$$"
   ]
  },
  {
   "cell_type": "markdown",
   "id": "359105e8",
   "metadata": {},
   "source": [
    "and rewrite the last expectation value as"
   ]
  },
  {
   "cell_type": "markdown",
   "id": "74d46614",
   "metadata": {},
   "source": [
    "<!-- Equation labels as ordinary links -->\n",
    "<div id=\"eq:finalmeanm\"></div>\n",
    "\n",
    "$$\n",
    "\\langle \\mathbf{M}(t) \\rangle  = \\langle \\mathbf{M}(\\infty) \\rangle+\\sum_{i\\ne 0}\\alpha_im_ie^{-t/\\tau_i}.\n",
    "\\label{eq:finalmeanm} \\tag{21}\n",
    "$$"
   ]
  },
  {
   "cell_type": "markdown",
   "id": "9c9e06fa",
   "metadata": {},
   "source": [
    "## Time Auto-correlation Function\n",
    "\n",
    "The quantities $\\tau_i$ are the correlation times for the system. They control also the auto-correlation function \n",
    "discussed above.  The longest correlation time is obviously given by the second largest\n",
    "eigenvalue $\\tau_1$, which normally defines the correlation time discussed above. For large times, this is the \n",
    "only correlation time that survives. If higher eigenvalues of the transition matrix are well separated from \n",
    "$\\lambda_1$ and we simulate long enough,  $\\tau_1$ may well define the correlation time. \n",
    "In other cases we may not be able to extract a reliable result for $\\tau_1$. \n",
    "Coming back to the time correlation function $\\phi(t)$ we can present a more general definition in terms\n",
    "of the mean magnetizations $ \\langle \\mathbf{M}(t) \\rangle$. Recalling that the mean value is equal \n",
    "to $ \\langle \\mathbf{M}(\\infty) \\rangle$ we arrive at the expectation values"
   ]
  },
  {
   "cell_type": "markdown",
   "id": "c5c8b421",
   "metadata": {},
   "source": [
    "$$\n",
    "\\phi(t) =\\langle \\mathbf{M}(0)-\\mathbf{M}(\\infty)\\rangle \\langle \\mathbf{M}(t)-\\mathbf{M}(\\infty)\\rangle,\n",
    "$$"
   ]
  },
  {
   "cell_type": "markdown",
   "id": "fa83ff0a",
   "metadata": {},
   "source": [
    "resulting in"
   ]
  },
  {
   "cell_type": "markdown",
   "id": "d760b18b",
   "metadata": {},
   "source": [
    "$$\n",
    "\\phi(t) =\\sum_{i,j\\ne 0}m_i\\alpha_im_j\\alpha_je^{-t/\\tau_i},\n",
    "$$"
   ]
  },
  {
   "cell_type": "markdown",
   "id": "36121fd9",
   "metadata": {},
   "source": [
    "which is appropriate for all times."
   ]
  },
  {
   "cell_type": "markdown",
   "id": "20223146",
   "metadata": {},
   "source": [
    "## Correlation Time\n",
    "\n",
    "If the correlation function decays exponentially"
   ]
  },
  {
   "cell_type": "markdown",
   "id": "8f92c012",
   "metadata": {},
   "source": [
    "$$\n",
    "\\phi (t) \\sim \\exp{(-t/\\tau)}\n",
    "$$"
   ]
  },
  {
   "cell_type": "markdown",
   "id": "4dfe7bfb",
   "metadata": {},
   "source": [
    "then the exponential correlation time can be computed as the average"
   ]
  },
  {
   "cell_type": "markdown",
   "id": "3c751e7b",
   "metadata": {},
   "source": [
    "$$\n",
    "\\tau_{\\mathrm{exp}}  =  -\\langle  \\frac{t}{log|\\frac{\\phi(t)}{\\phi(0)}|} \\rangle.\n",
    "$$"
   ]
  },
  {
   "cell_type": "markdown",
   "id": "fecf3263",
   "metadata": {},
   "source": [
    "If the decay is exponential, then"
   ]
  },
  {
   "cell_type": "markdown",
   "id": "2723bbaa",
   "metadata": {},
   "source": [
    "$$\n",
    "\\int_0^{\\infty} dt \\phi(t)  = \\int_0^{\\infty} dt \\phi(0)\\exp{(-t/\\tau)}  = \\tau \\phi(0),\n",
    "$$"
   ]
  },
  {
   "cell_type": "markdown",
   "id": "b9c53ad1",
   "metadata": {},
   "source": [
    "which  suggests another measure of correlation"
   ]
  },
  {
   "cell_type": "markdown",
   "id": "1afb1f1d",
   "metadata": {},
   "source": [
    "$$\n",
    "\\tau_{\\mathrm{int}} = \\sum_k \\frac{\\phi(k)}{\\phi(0)},\n",
    "$$"
   ]
  },
  {
   "cell_type": "markdown",
   "id": "77a50bc1",
   "metadata": {},
   "source": [
    "called the integrated correlation time."
   ]
  },
  {
   "cell_type": "markdown",
   "id": "8e5d80d8",
   "metadata": {},
   "source": [
    "## Resampling methods: Jackknife and Bootstrap\n",
    "\n",
    "Two famous\n",
    "resampling methods are the **independent bootstrap** and **the jackknife**. \n",
    "\n",
    "The jackknife is a special case of the independent bootstrap. Still, the jackknife was made\n",
    "popular prior to the independent bootstrap. And as the popularity of\n",
    "the independent bootstrap soared, new variants, such as **the dependent bootstrap**.\n",
    "\n",
    "The Jackknife and independent bootstrap work for\n",
    "independent, identically distributed random variables.\n",
    "If these conditions are not\n",
    "satisfied, the methods will fail.  Yet, it should be said that if the data are\n",
    "independent, identically distributed, and we only want to estimate the\n",
    "variance of $\\overline{X}$ (which often is the case), then there is no\n",
    "need for bootstrapping."
   ]
  },
  {
   "cell_type": "markdown",
   "id": "a4ac5fbe",
   "metadata": {},
   "source": [
    "## Resampling methods: Jackknife\n",
    "\n",
    "The Jackknife works by making many replicas of the estimator $\\widehat{\\theta}$. \n",
    "The jackknife is a resampling method, we explained that this happens by scrambling the data in some way. When using the jackknife, this is done by systematically leaving out one observation from the vector of observed values $\\hat{x} = (x_1,x_2,\\cdots,X_n)$. \n",
    "Let $\\hat{x}_i$ denote the vector"
   ]
  },
  {
   "cell_type": "markdown",
   "id": "e748062d",
   "metadata": {},
   "source": [
    "$$\n",
    "\\hat{x}_i = (x_1,x_2,\\cdots,x_{i-1},x_{i+1},\\cdots,x_n),\n",
    "$$"
   ]
  },
  {
   "cell_type": "markdown",
   "id": "01a05082",
   "metadata": {},
   "source": [
    "which equals the vector $\\hat{x}$ with the exception that observation\n",
    "number $i$ is left out. Using this notation, define\n",
    "$\\widehat{\\theta}_i$ to be the estimator\n",
    "$\\widehat{\\theta}$ computed using $\\vec{X}_i$."
   ]
  },
  {
   "cell_type": "markdown",
   "id": "4d12bdc8",
   "metadata": {},
   "source": [
    "## Resampling methods: Jackknife estimator\n",
    "\n",
    "To get an estimate for the bias and\n",
    "standard error of $\\widehat{\\theta}$, use the following\n",
    "estimators for each component of $\\widehat{\\theta}$"
   ]
  },
  {
   "cell_type": "markdown",
   "id": "cef14695",
   "metadata": {},
   "source": [
    "$$\n",
    "\\widehat{\\mathrm{Bias}}(\\widehat \\theta,\\theta) = (n-1)\\left( - \\widehat{\\theta} + \\frac{1}{n}\\sum_{i=1}^{n} \\widehat \\theta_i \\right) \\qquad \\text{and} \\qquad \\widehat{\\sigma}^2_{\\widehat{\\theta} } = \\frac{n-1}{n}\\sum_{i=1}^{n}( \\widehat{\\theta}_i - \\frac{1}{n}\\sum_{j=1}^{n}\\widehat \\theta_j )^2.\n",
    "$$"
   ]
  },
  {
   "cell_type": "markdown",
   "id": "ddc411c7",
   "metadata": {},
   "source": [
    "## Jackknife code example"
   ]
  },
  {
   "cell_type": "code",
   "execution_count": 4,
   "id": "a596984d",
   "metadata": {},
   "outputs": [],
   "source": [
    "from numpy import *\n",
    "from numpy.random import randint, randn\n",
    "from time import time\n",
    "\n",
    "def jackknife(data, stat):\n",
    "    n = len(data);t = zeros(n); inds = arange(n); t0 = time()\n",
    "    ## 'jackknifing' by leaving out an observation for each i                                                                                                                      \n",
    "    for i in range(n):\n",
    "        t[i] = stat(delete(data,i) )\n",
    "\n",
    "    # analysis                                                                                                                                                                     \n",
    "    print(\"Runtime: %g sec\" % (time()-t0)); print(\"Jackknife Statistics :\")\n",
    "    print(\"original           bias      std. error\")\n",
    "    print(\"%8g %14g %15g\" % (stat(data),(n-1)*mean(t)/n, (n*var(t))**.5))\n",
    "\n",
    "    return t\n",
    "\n",
    "\n",
    "# Returns mean of data samples                                                                                                                                                     \n",
    "def stat(data):\n",
    "    return mean(data)\n",
    "\n",
    "\n",
    "mu, sigma = 100, 15\n",
    "datapoints = 10000\n",
    "x = mu + sigma*random.randn(datapoints)\n",
    "# jackknife returns the data sample                                                                                                                                                \n",
    "t = jackknife(x, stat)"
   ]
  },
  {
   "cell_type": "markdown",
   "id": "91e9c14e",
   "metadata": {},
   "source": [
    "## Resampling methods: Bootstrap\n",
    "Bootstrapping is a nonparametric approach to statistical inference\n",
    "that substitutes computation for more traditional distributional\n",
    "assumptions and asymptotic results. Bootstrapping offers a number of\n",
    "advantages: \n",
    "1. The bootstrap is quite general, although there are some cases in which it fails.  \n",
    "\n",
    "2. Because it does not require distributional assumptions (such as normally distributed errors), the bootstrap can provide more accurate inferences when the data are not well behaved or when the sample size is small.  \n",
    "\n",
    "3. It is possible to apply the bootstrap to statistics with sampling distributions that are difficult to derive, even asymptotically. \n",
    "\n",
    "4. It is relatively simple to apply the bootstrap to complex data-collection plans (such as stratified and clustered samples)."
   ]
  },
  {
   "cell_type": "markdown",
   "id": "0b7253b5",
   "metadata": {},
   "source": [
    "## Resampling methods: Bootstrap background\n",
    "\n",
    "Since $\\widehat{\\theta} = \\widehat{\\theta}(\\hat{X})$ is a function of random variables,\n",
    "$\\widehat{\\theta}$ itself must be a random variable. Thus it has\n",
    "a pdf, call this function $p(\\hat{t})$. The aim of the bootstrap is to\n",
    "estimate $p(\\hat{t})$ by the relative frequency of\n",
    "$\\widehat{\\theta}$. You can think of this as using a histogram\n",
    "in the place of $p(\\hat{t})$. If the relative frequency closely\n",
    "resembles $p(\\vec{t})$, then using numerics, it is straight forward to\n",
    "estimate all the interesting parameters of $p(\\hat{t})$ using point\n",
    "estimators."
   ]
  },
  {
   "cell_type": "markdown",
   "id": "1d122996",
   "metadata": {},
   "source": [
    "## Resampling methods: More Bootstrap background\n",
    "\n",
    "In the case that $\\widehat{\\theta}$ has\n",
    "more than one component, and the components are independent, we use the\n",
    "same estimator on each component separately.  If the probability\n",
    "density function of $X_i$, $p(x)$, had been known, then it would have\n",
    "been straight forward to do this by: \n",
    "1. Drawing lots of numbers from $p(x)$, suppose we call one such set of numbers $(X_1^*, X_2^*, \\cdots, X_n^*)$. \n",
    "\n",
    "2. Then using these numbers, we could compute a replica of $\\widehat{\\theta}$ called $\\widehat{\\theta}^*$. \n",
    "\n",
    "By repeated use of (1) and (2), many\n",
    "estimates of $\\widehat{\\theta}$ could have been obtained. The\n",
    "idea is to use the relative frequency of $\\widehat{\\theta}^*$\n",
    "(think of a histogram) as an estimate of $p(\\hat{t})$."
   ]
  },
  {
   "cell_type": "markdown",
   "id": "e873b4bf",
   "metadata": {},
   "source": [
    "## Resampling methods: Bootstrap approach\n",
    "\n",
    "But\n",
    "unless there is enough information available about the process that\n",
    "generated $X_1,X_2,\\cdots,X_n$, $p(x)$ is in general\n",
    "unknown. Therefore, [Efron in 1979](https://projecteuclid.org/euclid.aos/1176344552)  asked the\n",
    "question: What if we replace $p(x)$ by the relative frequency\n",
    "of the observation $X_i$; if we draw observations in accordance with\n",
    "the relative frequency of the observations, will we obtain the same\n",
    "result in some asymptotic sense? The answer is yes.\n",
    "\n",
    "Instead of generating the histogram for the relative\n",
    "frequency of the observation $X_i$, just draw the values\n",
    "$(X_1^*,X_2^*,\\cdots,X_n^*)$ with replacement from the vector\n",
    "$\\hat{X}$."
   ]
  },
  {
   "cell_type": "markdown",
   "id": "727b3796",
   "metadata": {},
   "source": [
    "## Resampling methods: Bootstrap steps\n",
    "\n",
    "The independent bootstrap works like this: \n",
    "\n",
    "1. Draw with replacement $n$ numbers for the observed variables $\\hat{x} = (x_1,x_2,\\cdots,x_n)$. \n",
    "\n",
    "2. Define a vector $\\hat{x}^*$ containing the values which were drawn from $\\hat{x}$. \n",
    "\n",
    "3. Using the vector $\\hat{x}^*$ compute $\\widehat{\\theta}^*$ by evaluating $\\widehat \\theta$ under the observations $\\hat{x}^*$. \n",
    "\n",
    "4. Repeat this process $k$ times. \n",
    "\n",
    "When you are done, you can draw a histogram of the relative frequency of $\\widehat \\theta^*$. This is your estimate of the probability distribution $p(t)$. Using this probability distribution you can estimate any statistics thereof. In principle you never draw the histogram of the relative frequency of $\\widehat{\\theta}^*$. Instead you use the estimators corresponding to the statistic of interest. For example, if you are interested in estimating the variance of $\\widehat \\theta$, apply the etsimator $\\widehat \\sigma^2$ to the values $\\widehat \\theta ^*$."
   ]
  },
  {
   "cell_type": "markdown",
   "id": "1ba3cb8c",
   "metadata": {},
   "source": [
    "## Code example for the Bootstrap method\n",
    "\n",
    "The following code starts with a Gaussian distribution with mean value $\\mu =100$ and variance $\\sigma=15$. We use this to generate the data used in the bootstrap analysis. The bootstrap analysis returns a data set after a given number of bootstrap operations (as many as we have data points). This data set consists of estimated mean values for each bootstrap operation. The histogram generated by the bootstrap method shows that the distribution for these mean values is also a Gaussian, centered around the mean value $\\mu=100$ but with standard deviation $\\sigma/\\sqrt{n}$, where $n$ is the number of bootstrap samples (in this case the same as the number of original data points). The value of the standard deviation is what we expect from the central limit theorem."
   ]
  },
  {
   "cell_type": "code",
   "execution_count": 6,
   "id": "42b523ac",
   "metadata": {},
   "outputs": [
    {
     "name": "stdout",
     "output_type": "stream",
     "text": [
      "Runtime: 1.40698 sec\n",
      "Bootstrap Statistics :\n",
      "original           bias      std. error\n",
      " 100.175  14.7841        100.173        0.146608\n"
     ]
    },
    {
     "data": {
      "image/png": "[encoded data removed]",
      "text/plain": [
       "<Figure size 640x480 with 1 Axes>"
      ]
     },
     "metadata": {},
     "output_type": "display_data"
    }
   ],
   "source": [
    "\n",
    "%matplotlib inline\n",
    "\n",
    "from numpy import *\n",
    "from numpy.random import randint, randn\n",
    "from time import time\n",
    "from scipy.stats import norm\n",
    "import matplotlib.pyplot as plt\n",
    "\n",
    "# Returns mean of bootstrap samples                                                                                                                                                \n",
    "def stat(data):\n",
    "    return mean(data)\n",
    "\n",
    "# Bootstrap algorithm                                                                                                                                                              \n",
    "def bootstrap(data, statistic, R):\n",
    "    t = zeros(R); n = len(data); inds = arange(n); t0 = time()\n",
    "\n",
    "    # non-parametric bootstrap                                                                                                                                                     \n",
    "    for i in range(R):\n",
    "        t[i] = statistic(data[randint(0,n,n)])\n",
    "\n",
    "    # analysis                                                                                                                                                                     \n",
    "    print(\"Runtime: %g sec\" % (time()-t0)); print(\"Bootstrap Statistics :\")\n",
    "    print(\"original           bias      std. error\")\n",
    "    print(\"%8g %8g %14g %15g\" % (statistic(data), std(data),\\\n",
    "                             mean(t), \\\n",
    "                             std(t)))\n",
    "    return t\n",
    "\n",
    "\n",
    "mu, sigma = 100, 15\n",
    "datapoints = 10000\n",
    "x = mu + sigma*random.randn(datapoints)\n",
    "# bootstrap returns the data sample                                                                                                          t = bootstrap(x, stat, datapoints)\n",
    "# the histogram of the bootstrapped  data  \n",
    "t = bootstrap(x, stat, datapoints)\n",
    "# the histogram of the bootstrapped  data                                            \n",
    "n, binsboot, patches = plt.hist(t, bins=50, density='true',histtype='bar', color='red', alpha=0.75)\n",
    "\n",
    "# add a 'best fit' line                                                                                                                                                          \n",
    "y = norm.pdf( binsboot, mean(t), std(t))\n",
    "lt = plt.plot(binsboot, y, 'r--', linewidth=1)\n",
    "plt.xlabel('Smarts')\n",
    "plt.ylabel('Probability')\n",
    "plt.axis([99.5, 100.6, 0, 3.0])\n",
    "plt.grid(True)\n",
    "\n",
    "plt.show()"
   ]
  },
  {
   "cell_type": "markdown",
   "id": "c37ca92a",
   "metadata": {},
   "source": [
    "## Resampling methods: Blocking\n",
    "\n",
    "The blocking method was made popular by [Flyvbjerg and Pedersen (1989)](https://aip.scitation.org/doi/10.1063/1.457480)\n",
    "and has become one of the standard ways to estimate\n",
    "$V(\\widehat{\\theta})$ for exactly one $\\widehat{\\theta}$, namely\n",
    "$\\widehat{\\theta} = \\overline{X}$. \n",
    "\n",
    "Assume $n = 2^d$ for some integer $d>1$ and $X_1,X_2,\\cdots, X_n$ is a stationary time series to begin with. \n",
    "Moreover, assume that the time series is asymptotically uncorrelated. We switch to vector notation by arranging $X_1,X_2,\\cdots,X_n$ in an $n$-tuple. Define:"
   ]
  },
  {
   "cell_type": "markdown",
   "id": "6e4b92c9",
   "metadata": {},
   "source": [
    "$$\n",
    "\\begin{align*}\n",
    "\\hat{X} = (X_1,X_2,\\cdots,X_n).\n",
    "\\end{align*}\n",
    "$$"
   ]
  },
  {
   "cell_type": "markdown",
   "id": "12e40b6e",
   "metadata": {},
   "source": [
    "The strength of the blocking method is when the number of\n",
    "observations, $n$ is large. For large $n$, the complexity of dependent\n",
    "bootstrapping scales poorly, but the blocking method does not,\n",
    "moreover, it becomes more accurate the larger $n$ is."
   ]
  },
  {
   "cell_type": "markdown",
   "id": "56fb73d2",
   "metadata": {},
   "source": [
    "## Blocking Transformations\n",
    " We now define\n",
    "blocking transformations. The idea is to take the mean of subsequent\n",
    "pair of elements from $\\vec{X}$ and form a new vector\n",
    "$\\vec{X}_1$. Continuing in the same way by taking the mean of\n",
    "subsequent pairs of elements of $\\vec{X}_1$ we obtain $\\vec{X}_2$, and\n",
    "so on. \n",
    "Define $\\vec{X}_i$ recursively by:"
   ]
  },
  {
   "cell_type": "markdown",
   "id": "23f70350",
   "metadata": {},
   "source": [
    "$$\n",
    "(\\vec{X}_0)_k \\equiv (\\vec{X})_k \\nonumber\n",
    "$$"
   ]
  },
  {
   "cell_type": "markdown",
   "id": "6d23a6a4",
   "metadata": {},
   "source": [
    "<!-- Equation labels as ordinary links -->\n",
    "<div id=\"_auto10\"></div>\n",
    "\n",
    "$$\n",
    "\\begin{equation} \n",
    "(\\vec{X}_{i+1})_k \\equiv \\frac{1}{2}\\Big( (\\vec{X}_i)_{2k-1} +\n",
    "(\\vec{X}_i)_{2k} \\Big) \\qquad \\text{for all} \\qquad 1 \\leq i \\leq d-1\n",
    "\\label{_auto10} \\tag{22}\n",
    "\\end{equation}\n",
    "$$"
   ]
  },
  {
   "cell_type": "markdown",
   "id": "b9015305",
   "metadata": {},
   "source": [
    "The quantity $\\vec{X}_k$ is\n",
    "subject to $k$ **blocking transformations**.  We now have $d$ vectors\n",
    "$\\vec{X}_0, \\vec{X}_1,\\cdots,\\vec X_{d-1}$ containing the subsequent\n",
    "averages of observations. It turns out that if the components of\n",
    "$\\vec{X}$ is a stationary time series, then the components of\n",
    "$\\vec{X}_i$ is a stationary time series for all $0 \\leq i \\leq d-1$\n",
    "\n",
    "We can then compute the autocovariance, the variance, sample mean, and\n",
    "number of observations for each $i$. \n",
    "Let $\\gamma_i, \\sigma_i^2,\n",
    "\\overline{X}_i$ denote the autocovariance, variance and average of the\n",
    "elements of $\\vec{X}_i$ and let $n_i$ be the number of elements of\n",
    "$\\vec{X}_i$. It follows by induction that $n_i = n/2^i$."
   ]
  },
  {
   "cell_type": "markdown",
   "id": "7d1622ca",
   "metadata": {},
   "source": [
    "## Blocking Transformations\n",
    "\n",
    "Using the\n",
    "definition of the blocking transformation and the distributive\n",
    "property of the covariance, it is clear that since $h =|i-j|$\n",
    "we can define"
   ]
  },
  {
   "cell_type": "markdown",
   "id": "7c0ed001",
   "metadata": {},
   "source": [
    "$$\n",
    "\\gamma_{k+1}(h) = cov\\left( ({X}_{k+1})_{i}, ({X}_{k+1})_{j} \\right) \\nonumber\n",
    "$$"
   ]
  },
  {
   "cell_type": "markdown",
   "id": "016d6d56",
   "metadata": {},
   "source": [
    "$$\n",
    "=  \\frac{1}{4}cov\\left( ({X}_{k})_{2i-1} + ({X}_{k})_{2i}, ({X}_{k})_{2j-1} + ({X}_{k})_{2j} \\right) \\nonumber\n",
    "$$"
   ]
  },
  {
   "cell_type": "markdown",
   "id": "100524fe",
   "metadata": {},
   "source": [
    "<!-- Equation labels as ordinary links -->\n",
    "<div id=\"_auto11\"></div>\n",
    "\n",
    "$$\n",
    "\\begin{equation} \n",
    "=  \\frac{1}{2}\\gamma_{k}(2h) + \\frac{1}{2}\\gamma_k(2h+1) \\hspace{0.1cm} \\mathrm{h = 0} \n",
    "\\label{_auto11} \\tag{23}\n",
    "\\end{equation}\n",
    "$$"
   ]
  },
  {
   "cell_type": "markdown",
   "id": "3363c758",
   "metadata": {},
   "source": [
    "<!-- Equation labels as ordinary links -->\n",
    "<div id=\"_auto12\"></div>\n",
    "\n",
    "$$\n",
    "\\begin{equation} \n",
    "=\\frac{1}{4}\\gamma_k(2h-1) + \\frac{1}{2}\\gamma_k(2h) + \\frac{1}{4}\\gamma_k(2h+1) \\quad \\mathrm{else}\n",
    "\\label{_auto12} \\tag{24}\n",
    "\\end{equation}\n",
    "$$"
   ]
  },
  {
   "cell_type": "markdown",
   "id": "88201b46",
   "metadata": {},
   "source": [
    "The quantity $\\hat{X}$ is asymptotic uncorrelated by assumption, $\\hat{X}_k$ is also asymptotic uncorrelated. Let's turn our attention to the variance of the sample mean $V(\\overline{X})$."
   ]
  },
  {
   "cell_type": "markdown",
   "id": "84a22036",
   "metadata": {},
   "source": [
    "## Blocking Transformations, getting there\n",
    "We have"
   ]
  },
  {
   "cell_type": "markdown",
   "id": "a77ad082",
   "metadata": {},
   "source": [
    "<!-- Equation labels as ordinary links -->\n",
    "<div id=\"_auto13\"></div>\n",
    "\n",
    "$$\n",
    "\\begin{equation}\n",
    "V(\\overline{X}_k) = \\frac{\\sigma_k^2}{n_k} + \\underbrace{\\frac{2}{n_k} \\sum_{h=1}^{n_k-1}\\left( 1 - \\frac{h}{n_k} \\right)\\gamma_k(h)}_{\\equiv e_k} = \\frac{\\sigma^2_k}{n_k} + e_k \\quad \\text{if} \\quad \\gamma_k(0) = \\sigma_k^2. \n",
    "\\label{_auto13} \\tag{25}\n",
    "\\end{equation}\n",
    "$$"
   ]
  },
  {
   "cell_type": "markdown",
   "id": "8012057c",
   "metadata": {},
   "source": [
    "The term $e_k$ is called the **truncation error**:"
   ]
  },
  {
   "cell_type": "markdown",
   "id": "f2f75ac2",
   "metadata": {},
   "source": [
    "<!-- Equation labels as ordinary links -->\n",
    "<div id=\"_auto14\"></div>\n",
    "\n",
    "$$\n",
    "\\begin{equation}\n",
    "e_k = \\frac{2}{n_k} \\sum_{h=1}^{n_k-1}\\left( 1 - \\frac{h}{n_k} \\right)\\gamma_k(h). \n",
    "\\label{_auto14} \\tag{26}\n",
    "\\end{equation}\n",
    "$$"
   ]
  },
  {
   "cell_type": "markdown",
   "id": "15983c1d",
   "metadata": {},
   "source": [
    "We can show that $V(\\overline{X}_i) = V(\\overline{X}_j)$ for all $0 \\leq i \\leq d-1$ and $0 \\leq j \\leq d-1$."
   ]
  },
  {
   "cell_type": "markdown",
   "id": "af657a76",
   "metadata": {},
   "source": [
    "## Blocking Transformations, final expressions\n",
    "\n",
    "We can then wrap up"
   ]
  },
  {
   "cell_type": "markdown",
   "id": "0b84e4d9",
   "metadata": {},
   "source": [
    "$$\n",
    "n_{j+1} \\overline{X}_{j+1}  = \\sum_{i=1}^{n_{j+1}} (\\hat{X}_{j+1})_i =  \\frac{1}{2}\\sum_{i=1}^{n_{j}/2} (\\hat{X}_{j})_{2i-1} + (\\hat{X}_{j})_{2i} \\nonumber\n",
    "$$"
   ]
  },
  {
   "cell_type": "markdown",
   "id": "4990451d",
   "metadata": {},
   "source": [
    "<!-- Equation labels as ordinary links -->\n",
    "<div id=\"_auto15\"></div>\n",
    "\n",
    "$$\n",
    "\\begin{equation} \n",
    "= \\frac{1}{2}\\left[ (\\hat{X}_j)_1 + (\\hat{X}_j)_2 + \\cdots + (\\hat{X}_j)_{n_j} \\right] = \\underbrace{\\frac{n_j}{2}}_{=n_{j+1}} \\overline{X}_j = n_{j+1}\\overline{X}_j. \n",
    "\\label{_auto15} \\tag{27}\n",
    "\\end{equation}\n",
    "$$"
   ]
  },
  {
   "cell_type": "markdown",
   "id": "57d29d31",
   "metadata": {},
   "source": [
    "By repeated use of this equation we get $V(\\overline{X}_i) = V(\\overline{X}_0) = V(\\overline{X})$ for all $0 \\leq i \\leq d-1$. This has the consequence that"
   ]
  },
  {
   "cell_type": "markdown",
   "id": "6f9d63aa",
   "metadata": {},
   "source": [
    "<!-- Equation labels as ordinary links -->\n",
    "<div id=\"eq:convergence\"></div>\n",
    "\n",
    "$$\n",
    "\\begin{equation}\n",
    "V(\\overline{X}) = \\frac{\\sigma_k^2}{n_k} + e_k \\qquad \\text{for all} \\qquad 0 \\leq k \\leq d-1. \\label{eq:convergence} \\tag{28}\n",
    "\\end{equation}\n",
    "$$"
   ]
  },
  {
   "cell_type": "markdown",
   "id": "7df3dc2b",
   "metadata": {},
   "source": [
    "Flyvbjerg and Petersen demonstrated that the sequence\n",
    "$\\{e_k\\}_{k=0}^{d-1}$ is decreasing, and conjecture that the term\n",
    "$e_k$ can be made as small as we would like by making $k$ (and hence\n",
    "$d$) sufficiently large. The sequence is decreasing (Master of Science thesis by Marius Jonsson, UiO 2018).\n",
    "It means we can apply blocking transformations until\n",
    "$e_k$ is sufficiently small, and then estimate $V(\\overline{X})$ by\n",
    "$\\widehat{\\sigma}^2_k/n_k$. \n",
    "\n",
    "For an elegant solution and proof of the blocking method, see the recent article of [Marius Jonsson (former MSc student of the Computational Physics group)](https://journals.aps.org/pre/abstract/10.1103/PhysRevE.98.043304)."
   ]
  }
 ],
 "metadata": {
  "kernelspec": {
   "display_name": "Python 3 (ipykernel)",
   "language": "python",
   "name": "python3"
  },
  "language_info": {
   "codemirror_mode": {
    "name": "ipython",
    "version": 3
   },
   "file_extension": ".py",
   "mimetype": "text/x-python",
   "name": "python",
   "nbconvert_exporter": "python",
   "pygments_lexer": "ipython3",
   "version": "3.9.18"
  }
 },
 "nbformat": 4,
 "nbformat_minor": 5
}
