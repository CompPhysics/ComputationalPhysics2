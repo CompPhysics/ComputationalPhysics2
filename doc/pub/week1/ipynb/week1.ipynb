{
 "cells": [
  {
   "cell_type": "markdown",
   "id": "b162bb70",
   "metadata": {},
   "source": [
    "<!-- HTML file automatically generated from DocOnce source (https://github.com/doconce/doconce/)\n",
    "doconce format html week1.do.txt --no_mako --no_abort -->\n",
    "<!-- dom:TITLE: Week 3 January 15-19: Introduction to the course and start Variational Monte Carlo -->"
   ]
  },
  {
   "cell_type": "markdown",
   "id": "f0b8bfae",
   "metadata": {},
   "source": [
    "# Week 3 January 15-19: Introduction to the course and start Variational Monte Carlo\n",
    "**Morten Hjorth-Jensen  Email morten.hjorth-jensen@fys.uio.no**, Department of Physics and Center fo Computing in Science Education, University of Oslo, Oslo, Norway and Department of Physics and Astronomy and Facility for Rare Ion Beams, Michigan State University, East Lansing, Michigan, USA\n",
    "\n",
    "Date: **Jan 19, 2024**\n",
    "\n",
    "Copyright 1999-2024, Morten Hjorth-Jensen  Email morten.hjorth-jensen@fys.uio.no. Released under CC Attribution-NonCommercial 4.0 license"
   ]
  },
  {
   "cell_type": "markdown",
   "id": "f8b9ff94",
   "metadata": {},
   "source": [
    "## Overview of first week, January 15-19\n",
    "**Topics.**\n",
    "\n",
    "* Introduction to the course and overview of topics to be covered\n",
    "\n",
    "* Introduction to Variational Monte Carlo methods, Metropolis Algorithm, statistics and Markov Chain theory\n",
    "\n",
    "* C++ and python programming\n",
    "\n",
    "**Teaching Material, videos and written material.**\n",
    "\n",
    "* Asynchronuous vidoes\n",
    "\n",
    "* Lecture notes and reading assignments\n",
    "\n",
    "* Additional (often recommended) background material"
   ]
  },
  {
   "cell_type": "markdown",
   "id": "b57f616e",
   "metadata": {},
   "source": [
    "## Material this week\n",
    "**Teaching Material, videos and written material (to be uploaded after lecture).**\n",
    "\n",
    "* [Video of lecture with subtitles tba](https://youtu.be/)\n",
    "\n",
    "* [Handwritten notes](https://github.com/CompPhysics/ComputationalPhysics2/blob/gh-pages/doc/HandWrittenNotes/2024/NotesJan19.pdf)\n",
    "\n",
    "* See also [Lectures from FYS3150/4150 on the Metropolis Algorithm](http://compphysics.github.io/ComputationalPhysics/doc/pub/rw/html/rw-bs.html)"
   ]
  },
  {
   "cell_type": "markdown",
   "id": "6d4d89b2",
   "metadata": {},
   "source": [
    "## Teaching team\n",
    "\n",
    "1. Daniel Haas Lima Beccatini, d.h.b.lima@fys.uio.no, office FØ454\n",
    "\n",
    "2. Håkon Kvernmoen, hakon.kvernmoen@fys.uio.no, office FØ456\n",
    "\n",
    "3. Morten Hjorth-Jensen, mhjensen@uio.no, office FØ470\n",
    "\n",
    "4. Ruben Guevara, ruben.guevara@fys.uio.no, office FØ375"
   ]
  },
  {
   "cell_type": "markdown",
   "id": "4f9dd807",
   "metadata": {},
   "source": [
    "## Textbooks\n",
    "\n",
    "There are no unique textbooks which cover the material to be\n",
    "discussed. For each week however, we will, in addition to our own\n",
    "lecture notes, send links to additional literature."
   ]
  },
  {
   "cell_type": "markdown",
   "id": "98d57ec3",
   "metadata": {},
   "source": [
    "## Lectures and ComputerLab\n",
    "\n",
    "  * Lectures: Friday (10.15am-12pm). First time January 19. Last lecture session May 10 (can be changed).\n",
    "\n",
    "  * Computerlab: Friday (12.15pm-3pm), first time January 19, last lab session May 10 (can be changed).\n",
    "\n",
    "  * Weekly plans and all other information are on the webpage of the course\n",
    "\n",
    "  * **First project to be handed in March 22**.\n",
    "\n",
    "  * **Second and final project to be handed in June 1.**\n",
    "\n",
    "  * There is no final exam, only project work."
   ]
  },
  {
   "cell_type": "markdown",
   "id": "824b4396",
   "metadata": {},
   "source": [
    "## Course Format\n",
    "\n",
    "  * Two  compulsory projects. Electronic reports only. You are free to choose your format. We use canvas.uio.no to hand in the projects.\n",
    "\n",
    "  * Evaluation and grading: The two  projects count 1/2 each of the final mark. \n",
    "\n",
    "  * The computer lab (room FØ434 in the Physics building) has no PCs, so please bring your own laptops. C/C++ and Python are the default programming language, but programming languages like Fortran2008, Rust, Julia and other can  also be used. All source codes discussed during the lectures can be found at the webpage of the course."
   ]
  },
  {
   "cell_type": "markdown",
   "id": "78af61f5",
   "metadata": {},
   "source": [
    "## Aims\n",
    "* Be able to apply central many-particle methods like the Variational Monte Carlo method to properties of many-fermion systems and many-boson systems.\n",
    "\n",
    "* Understand how to simulate quantum mechanical systems with many interacting particles. The methods are relevant for atomic, molecular, condensed matter physics, materials science, nanotechnology, quantum chemistry  and nuclear physics. \n",
    "\n",
    "* Learn to manage and structure larger projects, with unit tests, object orientation and writing clean code\n",
    "\n",
    "* Learn about a proper statistical analysis of large data sets"
   ]
  },
  {
   "cell_type": "markdown",
   "id": "70f7e3f1",
   "metadata": {},
   "source": [
    "## More aims\n",
    "* Learn to optimize with convex optimization methods functions that depend on many variables.\n",
    "\n",
    "* Parallelization and code optimizations\n",
    "\n",
    "* Depending on interests, the second project can focus on different topics. These can be **quantum computing for studies of quantum mechanical problems**, machine learning for solving quantum-mechanical problems, quantum machine learning and many-body methods like coupled cluster theory, Hartree-Fock theory and other."
   ]
  },
  {
   "cell_type": "markdown",
   "id": "46f3c2d4",
   "metadata": {},
   "source": [
    "## Topics covered in this course\n",
    "\n",
    "  * Parallelization (MPI and OpenMP), high-performance computing topics. Choose between Python, Fortran2008 and/or C++ as programming languages. \n",
    "\n",
    "  * Algorithms for Monte Carlo Simulations (multidimensional integrals), Metropolis-Hastings and importance sampling algorithms.  Improved Monte Carlo methods.\n",
    "\n",
    "  * Statistical analysis of data  from Monte Carlo calculations, bootstrapping, jackknife and blocking methods. \n",
    "\n",
    "  * Eigenvalue solvers"
   ]
  },
  {
   "cell_type": "markdown",
   "id": "a9cacbac",
   "metadata": {},
   "source": [
    "## More on topics covered in this course\n",
    "  * For project 2 there are several possibilities\n",
    "\n",
    "a. Variational Monte Carlo for fermions\n",
    "\n",
    "b. Hartree-Fock theory for fermions\n",
    "\n",
    "c. Coupled cluster theory for fermions (iterative methods)\n",
    "\n",
    "d. Neural networks and Machine Learning to solve the same problems as in project 1\n",
    "\n",
    "e. Eigenvalue problems with deep learning methods\n",
    "\n",
    "f. Possible project on quantum computing and quantum machine learning"
   ]
  },
  {
   "cell_type": "markdown",
   "id": "83e0ca22",
   "metadata": {},
   "source": [
    "## Other topics covered in this course\n",
    "  * Search for minima in multidimensional spaces (conjugate gradient method, steepest descent method, quasi-Newton-Raphson, Broyden-Jacobian). Convex optimization, gradient methods\n",
    "\n",
    "  * Iterative methods for solutions of non-linear equations.\n",
    "\n",
    "  * Object orientation\n",
    "\n",
    "  * Data analysis and resampling techniques\n",
    "\n",
    "  * Variational Monte Carlo (VMC) for **ab initio** studies of quantum mechanical many-body systems.\n",
    "\n",
    "  * Simulation of two- and three-dimensional systems like quantum dots or atoms and molecules or systems from solid state physics"
   ]
  },
  {
   "cell_type": "markdown",
   "id": "e4b50239",
   "metadata": {},
   "source": [
    "## Last (?) word on  topics covered in this course\n",
    "  * **Simulation of trapped bosons using VMC (project 1, default)**\n",
    "\n",
    "  * **Machine learning and neural networks (project 2, default, same system as in project 1)**\n",
    "\n",
    "  * Extension of project 1 to fermionic systems (project 2)\n",
    "\n",
    "  * Coupled cluster theory (project 2, depends on interest)\n",
    "\n",
    "  * Other quantum-mechanical methods and systems can be tailored to one's interests (Hartree-Fock Theory, Many-body perturbation theory, time-dependent theories and more)."
   ]
  },
  {
   "cell_type": "markdown",
   "id": "6cc2fa86",
   "metadata": {},
   "source": [
    "## Quantum Monte Carlo Motivation\n",
    "\n",
    "Most quantum mechanical  problems of interest in for example atomic, molecular, nuclear and solid state \n",
    "physics consist of a large number of interacting electrons and ions or nucleons. \n",
    "\n",
    "The total number of particles $N$ is usually sufficiently large\n",
    "that an exact solution cannot be found. \n",
    "\n",
    "Typically, \n",
    "the expectation value for a chosen hamiltonian for a system of  $N$ particles is"
   ]
  },
  {
   "cell_type": "markdown",
   "id": "396400b3",
   "metadata": {},
   "source": [
    "$$\n",
    "\\langle H \\rangle =\n",
    "   \\frac{\\int d\\boldsymbol{R}_1d\\boldsymbol{R}_2\\dots d\\boldsymbol{R}_N\n",
    "         \\Psi^{\\ast}(\\boldsymbol{R_1},\\boldsymbol{R}_2,\\dots,\\boldsymbol{R}_N)\n",
    "          H(\\boldsymbol{R_1},\\boldsymbol{R}_2,\\dots,\\boldsymbol{R}_N)\n",
    "          \\Psi(\\boldsymbol{R_1},\\boldsymbol{R}_2,\\dots,\\boldsymbol{R}_N)}\n",
    "        {\\int d\\boldsymbol{R}_1d\\boldsymbol{R}_2\\dots d\\boldsymbol{R}_N\n",
    "        \\Psi^{\\ast}(\\boldsymbol{R_1},\\boldsymbol{R}_2,\\dots,\\boldsymbol{R}_N)\n",
    "        \\Psi(\\boldsymbol{R_1},\\boldsymbol{R}_2,\\dots,\\boldsymbol{R}_N)},\n",
    "$$"
   ]
  },
  {
   "cell_type": "markdown",
   "id": "64ce318a",
   "metadata": {},
   "source": [
    "an in general intractable problem.\n",
    "\n",
    " This integral is actually the starting point in a Variational Monte Carlo calculation. **Gaussian quadrature: Forget it**! Given 10 particles and 10 mesh points for each degree of freedom\n",
    "and an\n",
    " ideal 1 Tflops machine (all operations take the same time), how long will it take to compute the above integral? The lifetime of the universe is of the order of $10^{17}$ s."
   ]
  },
  {
   "cell_type": "markdown",
   "id": "c21d7f5a",
   "metadata": {},
   "source": [
    "## Quantum Monte Carlo Motivation\n",
    "\n",
    "As an example from the nuclear many-body problem, we have Schroedinger's equation as a differential equation"
   ]
  },
  {
   "cell_type": "markdown",
   "id": "0715cc29",
   "metadata": {},
   "source": [
    "$$\n",
    "\\hat{H}\\Psi(\\boldsymbol{r}_1,..,\\boldsymbol{r}_A,\\alpha_1,..,\\alpha_A)=E\\Psi(\\boldsymbol{r}_1,..,\\boldsymbol{r}_A,\\alpha_1,..,\\alpha_A)\n",
    "$$"
   ]
  },
  {
   "cell_type": "markdown",
   "id": "2c421cb2",
   "metadata": {},
   "source": [
    "where"
   ]
  },
  {
   "cell_type": "markdown",
   "id": "3b54fedc",
   "metadata": {},
   "source": [
    "$$\n",
    "\\boldsymbol{r}_1,..,\\boldsymbol{r}_A,\n",
    "$$"
   ]
  },
  {
   "cell_type": "markdown",
   "id": "0bdc6840",
   "metadata": {},
   "source": [
    "are the coordinates and"
   ]
  },
  {
   "cell_type": "markdown",
   "id": "e68d69d2",
   "metadata": {},
   "source": [
    "$$\n",
    "\\alpha_1,..,\\alpha_A,\n",
    "$$"
   ]
  },
  {
   "cell_type": "markdown",
   "id": "4e6b98e9",
   "metadata": {},
   "source": [
    "are sets of relevant quantum numbers such as spin and isospin for a system of  $A$ nucleons ($A=N+Z$, $N$ being the number of neutrons and $Z$ the number of protons)."
   ]
  },
  {
   "cell_type": "markdown",
   "id": "b77647b9",
   "metadata": {},
   "source": [
    "## Quantum Monte Carlo Motivation\n",
    "\n",
    "There are"
   ]
  },
  {
   "cell_type": "markdown",
   "id": "1a7600f3",
   "metadata": {},
   "source": [
    "$$\n",
    "2^A\\times \\left(\\begin{array}{c} A\\\\ Z\\end{array}\\right)\n",
    "$$"
   ]
  },
  {
   "cell_type": "markdown",
   "id": "7778be2f",
   "metadata": {},
   "source": [
    "coupled second-order differential equations in $3A$ dimensions.\n",
    "\n",
    "For a nucleus like beryllium-10 this number is **215040**.\n",
    "This is a truely challenging many-body problem.\n",
    "\n",
    "Methods like partial differential equations can at most be used for 2-3 particles."
   ]
  },
  {
   "cell_type": "markdown",
   "id": "05583709",
   "metadata": {},
   "source": [
    "## Various many-body methods\n",
    "\n",
    "* Monte-Carlo methods\n",
    "\n",
    "* Renormalization group (RG) methods, in particular density matrix RG\n",
    "\n",
    "* Large-scale diagonalization (Iterative methods, Lanczo's method, dimensionalities  $10^{10}$ states)\n",
    "\n",
    "* Coupled cluster theory, favoured method in quantum chemistry, molecular and atomic physics. Applications to ab initio calculations in nuclear physics as well for large nuclei.\n",
    "\n",
    "* Perturbative many-body methods \n",
    "\n",
    "* Green's function methods\n",
    "\n",
    "* Density functional theory/Mean-field theory and Hartree-Fock theory\n",
    "\n",
    "The physics of the system hints at which many-body methods to use."
   ]
  },
  {
   "cell_type": "markdown",
   "id": "b58e8b3b",
   "metadata": {},
   "source": [
    "## Pros and Cons of Monte Carlo\n",
    "* Is physically intuitive.\n",
    "\n",
    "* Allows one to study systems with many degrees of freedom. Diffusion Monte Carlo (DMC) and Green's function Monte Carlo (GFMC) yield in principle the exact solution to Schroedinger's equation.\n",
    "\n",
    "* Variational Monte Carlo (VMC) is easy  to implement but needs a reliable trial wave function, can be difficult to obtain.  This is where we will use Hartree-Fock theory to construct an optimal basis.\n",
    "\n",
    "* DMC/GFMC for fermions (spin with half-integer values, electrons, baryons, neutrinos, quarks)  has a sign problem. Nature prefers an anti-symmetric wave function. The PDF in this case given distribution of random walkers."
   ]
  },
  {
   "cell_type": "markdown",
   "id": "283bc92d",
   "metadata": {},
   "source": [
    "## More on Pros and Cons of Monte Carlo\n",
    "\n",
    "* The solution has a statistical error, which can be large. \n",
    "\n",
    "* There is a limit for how large systems one can study, DMC needs a huge number of random walkers in order to achieve stable results. \n",
    "\n",
    "* Obtain only the lowest-lying states with a given symmetry. Can get excited states with extra labor."
   ]
  },
  {
   "cell_type": "markdown",
   "id": "fb67a42d",
   "metadata": {},
   "source": [
    "## Where and why do we use Monte Carlo Methods in Quantum Physics\n",
    "* Quantum systems with many particles at finite temperature: Path Integral Monte Carlo with applications to dense matter and quantum liquids (phase transitions from normal fluid to superfluid). Strong correlations.\n",
    "\n",
    "* Bose-Einstein condensation of dilute gases, method transition from  non-linear PDE to Diffusion Monte Carlo as density increases.\n",
    "\n",
    "* Light atoms, molecules, solids and nuclei. \n",
    "\n",
    "* Lattice Quantum-Chromo Dynamics. Impossible to solve without MC calculations. \n",
    "\n",
    "* Simulations of systems in solid state physics, from semiconductors to spin systems. Many electrons active and possibly strong correlations."
   ]
  },
  {
   "cell_type": "markdown",
   "id": "ea56974e",
   "metadata": {},
   "source": [
    "## Quantum Monte Carlo Motivation\n",
    "\n",
    "We start with the variational principle.\n",
    "Given a hamiltonian $H$ and a trial wave function $\\Psi_T$, the variational principle states that the expectation value of $\\langle H \\rangle$, defined through"
   ]
  },
  {
   "cell_type": "markdown",
   "id": "070ad564",
   "metadata": {},
   "source": [
    "$$\n",
    "E[H]= \\langle H \\rangle =\n",
    "   \\frac{\\int d\\boldsymbol{R}\\Psi^{\\ast}_T(\\boldsymbol{R})H(\\boldsymbol{R})\\Psi_T(\\boldsymbol{R})}\n",
    "        {\\int d\\boldsymbol{R}\\Psi^{\\ast}_T(\\boldsymbol{R})\\Psi_T(\\boldsymbol{R})},\n",
    "$$"
   ]
  },
  {
   "cell_type": "markdown",
   "id": "ac5422ce",
   "metadata": {},
   "source": [
    "is an upper bound to the ground state energy $E_0$ of the hamiltonian $H$, that is"
   ]
  },
  {
   "cell_type": "markdown",
   "id": "d77016a0",
   "metadata": {},
   "source": [
    "$$\n",
    "E_0 \\le \\langle H \\rangle .\n",
    "$$"
   ]
  },
  {
   "cell_type": "markdown",
   "id": "a5a7bf48",
   "metadata": {},
   "source": [
    "In general, the integrals involved in the calculation of various  expectation values  are multi-dimensional ones. Traditional integration methods such as the Gauss-Legendre will not be adequate for say the  computation of the energy of a many-body system."
   ]
  },
  {
   "cell_type": "markdown",
   "id": "bd404a9b",
   "metadata": {},
   "source": [
    "## Quantum Monte Carlo Motivation\n",
    "\n",
    "The trial wave function can be expanded in the eigenstates of the hamiltonian since they form a complete set, viz.,"
   ]
  },
  {
   "cell_type": "markdown",
   "id": "dad9f681",
   "metadata": {},
   "source": [
    "$$\n",
    "\\Psi_T(\\boldsymbol{R})=\\sum_i a_i\\Psi_i(\\boldsymbol{R}),\n",
    "$$"
   ]
  },
  {
   "cell_type": "markdown",
   "id": "6b4b7035",
   "metadata": {},
   "source": [
    "and assuming the set of eigenfunctions to be normalized one obtains"
   ]
  },
  {
   "cell_type": "markdown",
   "id": "88e25b3f",
   "metadata": {},
   "source": [
    "$$\n",
    "\\frac{\\sum_{nm}a^*_ma_n \\int d\\boldsymbol{R}\\Psi^{\\ast}_m(\\boldsymbol{R})H(\\boldsymbol{R})\\Psi_n(\\boldsymbol{R})}\n",
    "        {\\sum_{nm}a^*_ma_n \\int d\\boldsymbol{R}\\Psi^{\\ast}_m(\\boldsymbol{R})\\Psi_n(\\boldsymbol{R})} =\\frac{\\sum_{n}a^2_n E_n}\n",
    "        {\\sum_{n}a^2_n} \\ge E_0,\n",
    "$$"
   ]
  },
  {
   "cell_type": "markdown",
   "id": "96c60ed6",
   "metadata": {},
   "source": [
    "where we used that $H(\\boldsymbol{R})\\Psi_n(\\boldsymbol{R})=E_n\\Psi_n(\\boldsymbol{R})$.\n",
    "In general, the integrals involved in the calculation of various  expectation\n",
    "values  are multi-dimensional ones. \n",
    "The variational principle yields the lowest state of a given symmetry."
   ]
  },
  {
   "cell_type": "markdown",
   "id": "9fc5a38f",
   "metadata": {},
   "source": [
    "## Quantum Monte Carlo Motivation\n",
    "\n",
    "In most cases, a wave function has only small values in large parts of \n",
    "configuration space, and a straightforward procedure which uses\n",
    "homogenously distributed random points in configuration space \n",
    "will most likely lead to poor results. This may suggest that some kind\n",
    "of importance sampling combined with e.g., the Metropolis algorithm \n",
    "may be  a more efficient way of obtaining the ground state energy.\n",
    "The hope is then that those regions of configurations space where\n",
    "the wave function assumes appreciable values are sampled more \n",
    "efficiently."
   ]
  },
  {
   "cell_type": "markdown",
   "id": "f1d67915",
   "metadata": {},
   "source": [
    "## Quantum Monte Carlo Motivation\n",
    "\n",
    "The tedious part in a VMC calculation is the search for the variational\n",
    "minimum. A good knowledge of the system is required in order to carry out\n",
    "reasonable VMC calculations. This is not always the case, \n",
    "and often VMC calculations \n",
    "serve rather as the starting\n",
    "point for so-called diffusion Monte Carlo calculations (DMC). DMC is a way of\n",
    "solving exactly the many-body Schroedinger equation by means of \n",
    "a stochastic procedure. A good guess on the binding energy\n",
    "and its wave function is however necessary. \n",
    "A carefully performed VMC calculation can aid in this context."
   ]
  },
  {
   "cell_type": "markdown",
   "id": "c6aac14f",
   "metadata": {},
   "source": [
    "## Quantum Monte Carlo, ingredients and basic steps\n",
    "\n",
    "* Construct first a trial wave function $\\psi_T(\\boldsymbol{R},\\boldsymbol{\\alpha})$,  for a many-body system consisting of $N$ particles located at positions  $\\boldsymbol{R}=(\\boldsymbol{R}_1,\\dots ,\\boldsymbol{R}_N)$. The trial wave function depends on $\\alpha$ variational parameters $\\boldsymbol{\\alpha}=(\\alpha_1,\\dots ,\\alpha_M)$.\n",
    "\n",
    "* Then we evaluate the expectation value of the hamiltonian $H$"
   ]
  },
  {
   "cell_type": "markdown",
   "id": "7b983c41",
   "metadata": {},
   "source": [
    "$$\n",
    "E[H]=\\langle H \\rangle =\n",
    "   \\frac{\\int d\\boldsymbol{R}\\Psi^{\\ast}_{T}(\\boldsymbol{R},\\boldsymbol{\\alpha})H(\\boldsymbol{R})\\Psi_{T}(\\boldsymbol{R},\\boldsymbol{\\alpha})}\n",
    "        {\\int d\\boldsymbol{R}\\Psi^{\\ast}_{T}(\\boldsymbol{R},\\boldsymbol{\\alpha})\\Psi_{T}(\\boldsymbol{R},\\boldsymbol{\\alpha})}.\n",
    "$$"
   ]
  },
  {
   "cell_type": "markdown",
   "id": "99b2fbdb",
   "metadata": {},
   "source": [
    "* Thereafter we vary $\\alpha$ according to some minimization algorithm and return to the first step."
   ]
  },
  {
   "cell_type": "markdown",
   "id": "b238e90e",
   "metadata": {},
   "source": [
    "## Quantum Monte Carlo, basic steps, the probability distribution function (PDF)\n",
    "\n",
    "Choose a trial wave function\n",
    "$\\psi_T(\\boldsymbol{R})$."
   ]
  },
  {
   "cell_type": "markdown",
   "id": "dfec0a87",
   "metadata": {},
   "source": [
    "$$\n",
    "P(\\boldsymbol{R})= \\frac{\\left|\\psi_T(\\boldsymbol{R})\\right|^2}{\\int \\left|\\psi_T(\\boldsymbol{R})\\right|^2d\\boldsymbol{R}}.\n",
    "$$"
   ]
  },
  {
   "cell_type": "markdown",
   "id": "e35e3a83",
   "metadata": {},
   "source": [
    "This is our new probability distribution function  (PDF).\n",
    "The approximation to the expectation value of the Hamiltonian is now"
   ]
  },
  {
   "cell_type": "markdown",
   "id": "ad488d00",
   "metadata": {},
   "source": [
    "$$\n",
    "E[H(\\boldsymbol{\\alpha})] = \n",
    "   \\frac{\\int d\\boldsymbol{R}\\Psi^{\\ast}_T(\\boldsymbol{R},\\boldsymbol{\\alpha})H(\\boldsymbol{R})\\Psi_T(\\boldsymbol{R},\\boldsymbol{\\alpha})}\n",
    "        {\\int d\\boldsymbol{R}\\Psi^{\\ast}_T(\\boldsymbol{R},\\boldsymbol{\\alpha})\\Psi_T(\\boldsymbol{R},\\boldsymbol{\\alpha})}.\n",
    "$$"
   ]
  },
  {
   "cell_type": "markdown",
   "id": "0b3a1464",
   "metadata": {},
   "source": [
    "## Quantum Monte Carlo ingredients, the local energy\n",
    "\n",
    "Define a new quantity"
   ]
  },
  {
   "cell_type": "markdown",
   "id": "60b94d53",
   "metadata": {},
   "source": [
    "<!-- Equation labels as ordinary links -->\n",
    "<div id=\"eq:locale1\"></div>\n",
    "\n",
    "$$\n",
    "E_L(\\boldsymbol{R},\\boldsymbol{\\alpha})=\\frac{1}{\\psi_T(\\boldsymbol{R},\\boldsymbol{\\alpha})}H\\psi_T(\\boldsymbol{R},\\boldsymbol{\\alpha}),\n",
    "\\label{eq:locale1} \\tag{1}\n",
    "$$"
   ]
  },
  {
   "cell_type": "markdown",
   "id": "939a1801",
   "metadata": {},
   "source": [
    "called the local energy, which, together with our trial PDF yields"
   ]
  },
  {
   "cell_type": "markdown",
   "id": "658ae212",
   "metadata": {},
   "source": [
    "<!-- Equation labels as ordinary links -->\n",
    "<div id=\"eq:vmc1\"></div>\n",
    "\n",
    "$$\n",
    "E[H(\\boldsymbol{\\alpha})]=\\int P(\\boldsymbol{R})E_L(\\boldsymbol{R}) d\\boldsymbol{R}\\approx \\frac{1}{N}\\sum_{i=1}^N E_L(\\boldsymbol{R_i},\\boldsymbol{\\alpha})\n",
    "\\label{eq:vmc1} \\tag{2}\n",
    "$$"
   ]
  },
  {
   "cell_type": "markdown",
   "id": "1500875f",
   "metadata": {},
   "source": [
    "with $N$ being the number of Monte Carlo samples."
   ]
  },
  {
   "cell_type": "markdown",
   "id": "5c3680fc",
   "metadata": {},
   "source": [
    "## Quantum Monte Carlo algorithm\n",
    "The Algorithm for performing a variational Monte Carlo calculations runs thus as this\n",
    "\n",
    "   * Initialisation: Fix the number of Monte Carlo steps. Choose an initial $\\boldsymbol{R}$ and variational parameters $\\alpha$ and calculate $\\left|\\psi_T^{\\alpha}(\\boldsymbol{R})\\right|^2$. \n",
    "\n",
    "   * Initialise the energy and the variance and start the Monte Carlo calculation.\n",
    "\n",
    "      * Calculate  a trial position  $\\boldsymbol{R}_p=\\boldsymbol{R}+r*step$ where $r$ is a random variable $r \\in [0,1]$.\n",
    "\n",
    "      * Metropolis algorithm to accept or reject this move  $w = P(\\boldsymbol{R}_p)/P(\\boldsymbol{R})$.\n",
    "\n",
    "      * If the step is accepted, then we set $\\boldsymbol{R}=\\boldsymbol{R}_p$. \n",
    "\n",
    "      * Update averages\n",
    "\n",
    "   * Finish and compute final averages.\n",
    "\n",
    "Observe that the jumping in space is governed by the variable *step*. This is Called brute-force sampling.\n",
    "Need importance sampling to get more relevant sampling, see lectures below."
   ]
  },
  {
   "cell_type": "markdown",
   "id": "6a57d677",
   "metadata": {},
   "source": [
    "## Quantum Monte Carlo: hydrogen atom\n",
    "\n",
    "The radial Schroedinger equation for the hydrogen atom can be\n",
    "written as"
   ]
  },
  {
   "cell_type": "markdown",
   "id": "bb94972a",
   "metadata": {},
   "source": [
    "$$\n",
    "-\\frac{\\hbar^2}{2m}\\frac{\\partial^2 u(r)}{\\partial r^2}-\n",
    "\\left(\\frac{ke^2}{r}-\\frac{\\hbar^2l(l+1)}{2mr^2}\\right)u(r)=Eu(r),\n",
    "$$"
   ]
  },
  {
   "cell_type": "markdown",
   "id": "82d6d1b5",
   "metadata": {},
   "source": [
    "or with dimensionless variables"
   ]
  },
  {
   "cell_type": "markdown",
   "id": "83bd6c25",
   "metadata": {},
   "source": [
    "<!-- Equation labels as ordinary links -->\n",
    "<div id=\"eq:hydrodimless1\"></div>\n",
    "\n",
    "$$\n",
    "-\\frac{1}{2}\\frac{\\partial^2 u(\\rho)}{\\partial \\rho^2}-\n",
    "\\frac{u(\\rho)}{\\rho}+\\frac{l(l+1)}{2\\rho^2}u(\\rho)-\\lambda u(\\rho)=0,\n",
    "\\label{eq:hydrodimless1} \\tag{3}\n",
    "$$"
   ]
  },
  {
   "cell_type": "markdown",
   "id": "03f7568a",
   "metadata": {},
   "source": [
    "with the hamiltonian"
   ]
  },
  {
   "cell_type": "markdown",
   "id": "0c4fc3f5",
   "metadata": {},
   "source": [
    "$$\n",
    "H=-\\frac{1}{2}\\frac{\\partial^2 }{\\partial \\rho^2}-\n",
    "\\frac{1}{\\rho}+\\frac{l(l+1)}{2\\rho^2}.\n",
    "$$"
   ]
  },
  {
   "cell_type": "markdown",
   "id": "e1fc2715",
   "metadata": {},
   "source": [
    "## Introducing the variational parameters\n",
    "\n",
    "We introduce the variational parameter $\\alpha$ in the trial\n",
    "wave function"
   ]
  },
  {
   "cell_type": "markdown",
   "id": "5a8841d0",
   "metadata": {},
   "source": [
    "$$\n",
    "u_T^{\\alpha}(\\rho)=\\alpha\\rho e^{-\\alpha\\rho}.\n",
    "$$"
   ]
  },
  {
   "cell_type": "markdown",
   "id": "6e70a4de",
   "metadata": {},
   "source": [
    "## Quantum Monte Carlo: results for the hydrogen atom\n",
    "\n",
    "Inserting this wave function into the expression for the\n",
    "local energy $E_L$ gives"
   ]
  },
  {
   "cell_type": "markdown",
   "id": "567b04ba",
   "metadata": {},
   "source": [
    "$$\n",
    "E_L(\\rho)=-\\frac{1}{\\rho}-\n",
    "              \\frac{\\alpha}{2}\\left(\\alpha-\\frac{2}{\\rho}\\right).\n",
    "$$"
   ]
  },
  {
   "cell_type": "markdown",
   "id": "835d34ea",
   "metadata": {},
   "source": [
    "A simple variational Monte Carlo calculation results in\n",
    "<table class=\"dotable\" border=\"1\">\n",
    "<thead>\n",
    "<tr><th align=\"center\">  $\\alpha$ </th> <th align=\"center\">$\\langle H \\rangle $</th> <th align=\"center\"> $\\sigma^2$</th> <th align=\"center\">$\\sigma/\\sqrt{N}$</th> </tr>\n",
    "</thead>\n",
    "<tbody>\n",
    "<tr><td align=\"center\">   7.00000E-01    </td> <td align=\"center\">   -4.57759E-01            </td> <td align=\"center\">   4.51201E-02    </td> <td align=\"center\">   6.71715E-04          </td> </tr>\n",
    "<tr><td align=\"center\">   8.00000E-01    </td> <td align=\"center\">   -4.81461E-01            </td> <td align=\"center\">   3.05736E-02    </td> <td align=\"center\">   5.52934E-04          </td> </tr>\n",
    "<tr><td align=\"center\">   9.00000E-01    </td> <td align=\"center\">   -4.95899E-01            </td> <td align=\"center\">   8.20497E-03    </td> <td align=\"center\">   2.86443E-04          </td> </tr>\n",
    "<tr><td align=\"center\">   1.00000E-00    </td> <td align=\"center\">   -5.00000E-01            </td> <td align=\"center\">   0.00000E+00    </td> <td align=\"center\">   0.00000E+00          </td> </tr>\n",
    "<tr><td align=\"center\">   1.10000E+00    </td> <td align=\"center\">   -4.93738E-01            </td> <td align=\"center\">   1.16989E-02    </td> <td align=\"center\">   3.42036E-04          </td> </tr>\n",
    "<tr><td align=\"center\">   1.20000E+00    </td> <td align=\"center\">   -4.75563E-01            </td> <td align=\"center\">   8.85899E-02    </td> <td align=\"center\">   9.41222E-04          </td> </tr>\n",
    "<tr><td align=\"center\">   1.30000E+00    </td> <td align=\"center\">   -4.54341E-01            </td> <td align=\"center\">   1.45171E-01    </td> <td align=\"center\">   1.20487E-03          </td> </tr>\n",
    "</tbody>\n",
    "</table>"
   ]
  },
  {
   "cell_type": "markdown",
   "id": "0a0cda75",
   "metadata": {},
   "source": [
    "## Quantum Monte Carlo: interpreting the hydrogen atom results\n",
    "\n",
    "We note that at $\\alpha=1$ we obtain the exact\n",
    "result, and the variance is zero, as it should. The reason is that \n",
    "we then have the exact wave function, and the action of the hamiltionan\n",
    "on the wave function"
   ]
  },
  {
   "cell_type": "markdown",
   "id": "1c144262",
   "metadata": {},
   "source": [
    "$$\n",
    "H\\psi = \\mathrm{constant}\\times \\psi,\n",
    "$$"
   ]
  },
  {
   "cell_type": "markdown",
   "id": "c57a4d9a",
   "metadata": {},
   "source": [
    "yields just a constant. The integral which defines various \n",
    "expectation values involving moments of the hamiltonian becomes then"
   ]
  },
  {
   "cell_type": "markdown",
   "id": "3360febc",
   "metadata": {},
   "source": [
    "$$\n",
    "\\langle H^n \\rangle =\n",
    "   \\frac{\\int d\\boldsymbol{R}\\Psi^{\\ast}_T(\\boldsymbol{R})H^n(\\boldsymbol{R})\\Psi_T(\\boldsymbol{R})}\n",
    "        {\\int d\\boldsymbol{R}\\Psi^{\\ast}_T(\\boldsymbol{R})\\Psi_T(\\boldsymbol{R})}=\n",
    "\\mathrm{constant}\\times\\frac{\\int d\\boldsymbol{R}\\Psi^{\\ast}_T(\\boldsymbol{R})\\Psi_T(\\boldsymbol{R})}\n",
    "        {\\int d\\boldsymbol{R}\\Psi^{\\ast}_T(\\boldsymbol{R})\\Psi_T(\\boldsymbol{R})}=\\mathrm{constant}.\n",
    "$$"
   ]
  },
  {
   "cell_type": "markdown",
   "id": "e2a92de9",
   "metadata": {},
   "source": [
    "**This gives an important information: the exact wave function leads to zero variance!**\n",
    "Variation is then performed by minimizing both the energy and the variance."
   ]
  },
  {
   "cell_type": "markdown",
   "id": "5350a5db",
   "metadata": {},
   "source": [
    "## [Quantum Monte Carlo for bosons](https://github.com/mortele/variational-monte-carlo-fys4411)\n",
    "\n",
    "For bosons in a harmonic oscillator-like  trap we will use is a spherical (S)\n",
    " or an elliptical (E) harmonic trap in one, two and finally three\n",
    " dimensions, with the latter given by"
   ]
  },
  {
   "cell_type": "markdown",
   "id": "99535dea",
   "metadata": {},
   "source": [
    "<!-- Equation labels as ordinary links -->\n",
    "<div id=\"trap_eqn\"></div>\n",
    "\n",
    "$$\n",
    "\\begin{equation}\n",
    " V_{ext}(\\mathbf{r}) = \\Bigg\\{\n",
    " \\begin{array}{ll}\n",
    "\t \\frac{1}{2}m\\omega_{ho}^2r^2 & (S)\\\\\n",
    " \\strut\n",
    "\t \\frac{1}{2}m[\\omega_{ho}^2(x^2+y^2) + \\omega_z^2z^2] & (E)\n",
    "\\label{trap_eqn} \\tag{4}\n",
    " \\end{array}\n",
    " \\end{equation}\n",
    "$$"
   ]
  },
  {
   "cell_type": "markdown",
   "id": "98947712",
   "metadata": {},
   "source": [
    "where (S) stands for symmetric and"
   ]
  },
  {
   "cell_type": "markdown",
   "id": "4357c0f2",
   "metadata": {},
   "source": [
    "<!-- Equation labels as ordinary links -->\n",
    "<div id=\"_auto1\"></div>\n",
    "\n",
    "$$\n",
    "\\begin{equation}\n",
    "     \\hat{H} = \\sum_i^N \\left(\n",
    "\t \\frac{-\\hbar^2}{2m}\n",
    "\t { \\bigtriangledown }_{i}^2 +\n",
    "\t V_{ext}({\\bf{r}}_i)\\right)  +\n",
    "\t \\sum_{i<j}^{N} V_{int}({\\bf{r}}_i,{\\bf{r}}_j),\n",
    "\\label{_auto1} \\tag{5}\n",
    "\\end{equation}\n",
    "$$"
   ]
  },
  {
   "cell_type": "markdown",
   "id": "9eef55bd",
   "metadata": {},
   "source": [
    "as the two-body Hamiltonian of the system."
   ]
  },
  {
   "cell_type": "markdown",
   "id": "95920bbd",
   "metadata": {},
   "source": [
    "## [Quantum Monte Carlo for bosons](https://github.com/mortele/variational-monte-carlo-fys4411)\n",
    "\n",
    " We will represent the inter-boson interaction by a pairwise, repulsive potential"
   ]
  },
  {
   "cell_type": "markdown",
   "id": "a49668bc",
   "metadata": {},
   "source": [
    "<!-- Equation labels as ordinary links -->\n",
    "<div id=\"_auto2\"></div>\n",
    "\n",
    "$$\n",
    "\\begin{equation}\n",
    " V_{int}(|\\mathbf{r}_i-\\mathbf{r}_j|) =  \\Bigg\\{\n",
    " \\begin{array}{ll}\n",
    "\t \\infty & {|\\mathbf{r}_i-\\mathbf{r}_j|} \\leq {a}\\\\\n",
    "\t 0 & {|\\mathbf{r}_i-\\mathbf{r}_j|} > {a}\n",
    " \\end{array}\n",
    "\\label{_auto2} \\tag{6}\n",
    "\\end{equation}\n",
    "$$"
   ]
  },
  {
   "cell_type": "markdown",
   "id": "e2481b07",
   "metadata": {},
   "source": [
    "where $a$ is the so-called hard-core diameter of the bosons.\n",
    " Clearly, $V_{int}(|\\mathbf{r}_i-\\mathbf{r}_j|)$ is zero if the bosons are\n",
    " separated by a distance $|\\mathbf{r}_i-\\mathbf{r}_j|$ greater than $a$ but\n",
    " infinite if they attempt to come within a distance $|\\mathbf{r}_i-\\mathbf{r}_j| \\leq a$."
   ]
  },
  {
   "cell_type": "markdown",
   "id": "75b2e2ca",
   "metadata": {},
   "source": [
    "## [Quantum Monte Carlo for bosons](https://github.com/mortele/variational-monte-carlo-fys4411)\n",
    "\n",
    " Our trial wave function for the ground state with $N$ atoms is given by"
   ]
  },
  {
   "cell_type": "markdown",
   "id": "022cb4a4",
   "metadata": {},
   "source": [
    "<!-- Equation labels as ordinary links -->\n",
    "<div id=\"eq:trialwf\"></div>\n",
    "\n",
    "$$\n",
    "\\begin{equation}\n",
    " \\Psi_T(\\mathbf{R})=\\Psi_T(\\mathbf{r}_1, \\mathbf{r}_2, \\dots \\mathbf{r}_N,\\alpha,\\beta)=\\prod_i g(\\alpha,\\beta,\\mathbf{r}_i)\\prod_{i<j}f(a,|\\mathbf{r}_i-\\mathbf{r}_j|),\n",
    "\\label{eq:trialwf} \\tag{7}\n",
    " \\end{equation}\n",
    "$$"
   ]
  },
  {
   "cell_type": "markdown",
   "id": "8d74d9eb",
   "metadata": {},
   "source": [
    "where $\\alpha$ and $\\beta$ are variational parameters. The\n",
    " single-particle wave function is proportional to the harmonic\n",
    " oscillator function for the ground state"
   ]
  },
  {
   "cell_type": "markdown",
   "id": "86fcde1c",
   "metadata": {},
   "source": [
    "<!-- Equation labels as ordinary links -->\n",
    "<div id=\"_auto3\"></div>\n",
    "\n",
    "$$\n",
    "\\begin{equation}\n",
    "    g(\\alpha,\\beta,\\mathbf{r}_i)= \\exp{[-\\alpha(x_i^2+y_i^2+\\beta z_i^2)]}.\n",
    "\\label{_auto3} \\tag{8}\n",
    "\\end{equation}\n",
    "$$"
   ]
  },
  {
   "cell_type": "markdown",
   "id": "1467da38",
   "metadata": {},
   "source": [
    "## [Quantum Monte Carlo for bosons](https://github.com/mortele/variational-monte-carlo-fys4411)\n",
    "\n",
    "The rest of this material is best read using the jupyter-notebook\n",
    "\n",
    "For spherical traps we have $\\beta = 1$ and for non-interacting\n",
    "bosons ($a=0$) we have $\\alpha = 1/2a_{ho}^2$.  The correlation wave\n",
    " function is"
   ]
  },
  {
   "cell_type": "markdown",
   "id": "1abaf1ff",
   "metadata": {},
   "source": [
    "<!-- Equation labels as ordinary links -->\n",
    "<div id=\"_auto4\"></div>\n",
    "\n",
    "$$\n",
    "\\begin{equation}\n",
    "    f(a,|\\mathbf{r}_i-\\mathbf{r}_j|)=\\Bigg\\{\n",
    " \\begin{array}{ll}\n",
    "\t 0 & {|\\mathbf{r}_i-\\mathbf{r}_j|} \\leq {a}\\\\\n",
    "\t (1-\\frac{a}{|\\mathbf{r}_i-\\mathbf{r}_j|}) & {|\\mathbf{r}_i-\\mathbf{r}_j|} > {a}.\n",
    " \\end{array}\n",
    "\\label{_auto4} \\tag{9}\n",
    "\\end{equation}\n",
    "$$"
   ]
  },
  {
   "cell_type": "markdown",
   "id": "4187aece",
   "metadata": {},
   "source": [
    "### Simple example, the hydrogen atom\n",
    "\n",
    "The radial Schroedinger equation for the hydrogen atom can be\n",
    "written as (when we have gotten rid of the first derivative term in the kinetic energy and used $rR(r)=u(r)$)"
   ]
  },
  {
   "cell_type": "markdown",
   "id": "40ce920d",
   "metadata": {},
   "source": [
    "$$\n",
    "-\\frac{\\hbar^2}{2m}\\frac{d^2 u(r)}{d r^2}-\n",
    "\\left(\\frac{ke^2}{r}-\\frac{\\hbar^2l(l+1)}{2mr^2}\\right)u(r)=Eu(r).\n",
    "$$"
   ]
  },
  {
   "cell_type": "markdown",
   "id": "f221cf9a",
   "metadata": {},
   "source": [
    "We will specialize to the case with $l=0$ and end up with"
   ]
  },
  {
   "cell_type": "markdown",
   "id": "bba38ebf",
   "metadata": {},
   "source": [
    "$$\n",
    "-\\frac{\\hbar^2}{2m}\\frac{d^2 u(r)}{d r^2}-\n",
    "\\left(\\frac{ke^2}{r}\\right)u(r)=Eu(r).\n",
    "$$"
   ]
  },
  {
   "cell_type": "markdown",
   "id": "c145c60b",
   "metadata": {},
   "source": [
    "Then we introduce a dimensionless variable $\\rho=r/a$ where $a$ is a constant with dimension length.\n",
    "Multiplying with $ma^2/\\hbar^2$ we can rewrite our equations as"
   ]
  },
  {
   "cell_type": "markdown",
   "id": "ce2d8c41",
   "metadata": {},
   "source": [
    "$$\n",
    "-\\frac{1}{2}\\frac{d^2 u(\\rho)}{d \\rho^2}-\n",
    "\\frac{ke^2ma}{\\hbar^2}\\frac{u(\\rho)}{\\rho}-\\lambda u(\\rho)=0.\n",
    "$$"
   ]
  },
  {
   "cell_type": "markdown",
   "id": "9bb61566",
   "metadata": {},
   "source": [
    "Since $a$ is just a parameter we choose to set"
   ]
  },
  {
   "cell_type": "markdown",
   "id": "c4f1b5ba",
   "metadata": {},
   "source": [
    "$$\n",
    "\\frac{ke^2ma}{\\hbar^2}=1,\n",
    "$$"
   ]
  },
  {
   "cell_type": "markdown",
   "id": "fc466c35",
   "metadata": {},
   "source": [
    "which leads to $a=\\hbar^2/mke^2$, better known as the Bohr radius with value $0.053$ nm. Scaling the equations this way does not only render our numerical treatment simpler since we avoid carrying with us all physical parameters, but we obtain also a **natural** length scale. We will see this again and again. In our discussions below with a harmonic oscillator trap, the **natural** lentgh scale with be determined by the oscillator frequency, the mass of the particle and $\\hbar$. We have also defined a dimensionless 'energy' $\\lambda = Ema^2/\\hbar^2$. \n",
    "With the rescaled quantities, the ground state energy of the hydrogen atom is $1/2$. \n",
    "The equation we want to solve is now defined by the Hamiltonian"
   ]
  },
  {
   "cell_type": "markdown",
   "id": "4abee253",
   "metadata": {},
   "source": [
    "$$\n",
    "H=-\\frac{1}{2}\\frac{d^2 }{d \\rho^2}-\\frac{1}{\\rho}.\n",
    "$$"
   ]
  },
  {
   "cell_type": "markdown",
   "id": "7aff5161",
   "metadata": {},
   "source": [
    "As trial wave function we peep now into the analytical solution for\n",
    "the hydrogen atom and use (with $\\alpha$ as a variational parameter)"
   ]
  },
  {
   "cell_type": "markdown",
   "id": "79303435",
   "metadata": {},
   "source": [
    "$$\n",
    "u_T^{\\alpha}(\\rho)=\\alpha\\rho \\exp{-(\\alpha\\rho)}.\n",
    "$$"
   ]
  },
  {
   "cell_type": "markdown",
   "id": "195e98f6",
   "metadata": {},
   "source": [
    "Inserting this wave function into the expression for the\n",
    "local energy $E_L$ gives"
   ]
  },
  {
   "cell_type": "markdown",
   "id": "de36f37c",
   "metadata": {},
   "source": [
    "$$\n",
    "E_L(\\rho)=-\\frac{1}{\\rho}-\n",
    "              \\frac{\\alpha}{2}\\left(\\alpha-\\frac{2}{\\rho}\\right).\n",
    "$$"
   ]
  },
  {
   "cell_type": "markdown",
   "id": "33b12c8b",
   "metadata": {},
   "source": [
    "To have analytical local energies saves us from computing numerically\n",
    "the second derivative, a feature which often increases our numerical\n",
    "expenditure with a factor of three or more. Integratng up the local energy (recall to bring back the PDF in the integration) gives  $\\overline{E}[\\boldsymbol{\\alpha}]=\\alpha(\\alpha/2-1)$."
   ]
  },
  {
   "cell_type": "markdown",
   "id": "d4047e15",
   "metadata": {},
   "source": [
    "### Second example, the harmonic oscillator in one dimension\n",
    "\n",
    "We present here another well-known example, the harmonic oscillator in\n",
    "one dimension for one particle. This will also serve the aim of\n",
    "introducing our next model, namely that of interacting electrons in a\n",
    "harmonic oscillator trap.\n",
    "\n",
    "Here as well, we do have analytical solutions and the energy of the\n",
    "ground state, with $\\hbar=1$, is $1/2\\omega$, with $\\omega$ being the\n",
    "oscillator frequency. We use the following trial wave function"
   ]
  },
  {
   "cell_type": "markdown",
   "id": "91de8eb2",
   "metadata": {},
   "source": [
    "$$\n",
    "\\psi_T(x;\\alpha) = \\exp{-(\\frac{1}{2}\\alpha^2x^2)},\n",
    "$$"
   ]
  },
  {
   "cell_type": "markdown",
   "id": "39dcb260",
   "metadata": {},
   "source": [
    "which results in a local energy"
   ]
  },
  {
   "cell_type": "markdown",
   "id": "8d01c89f",
   "metadata": {},
   "source": [
    "$$\n",
    "\\frac{1}{2}\\left(\\alpha^2+x^2(1-\\alpha^4)\\right).\n",
    "$$"
   ]
  },
  {
   "cell_type": "markdown",
   "id": "60b3f899",
   "metadata": {},
   "source": [
    "We can compare our numerically calculated energies with the exact energy as function of $\\alpha$"
   ]
  },
  {
   "cell_type": "markdown",
   "id": "54ad3454",
   "metadata": {},
   "source": [
    "$$\n",
    "\\overline{E}[\\alpha] = \\frac{1}{4}\\left(\\alpha^2+\\frac{1}{\\alpha^2}\\right).\n",
    "$$"
   ]
  },
  {
   "cell_type": "markdown",
   "id": "4ce18882",
   "metadata": {},
   "source": [
    "Similarly, with the above ansatz, we can also compute the exact variance which reads"
   ]
  },
  {
   "cell_type": "markdown",
   "id": "d6d9a506",
   "metadata": {},
   "source": [
    "$$\n",
    "\\sigma^2[\\alpha]=\\frac{1}{4}\\left(1+(1-\\alpha^4)^2\\frac{3}{4\\alpha^4}\\right)-\\overline{E}^2.\n",
    "$$"
   ]
  },
  {
   "cell_type": "markdown",
   "id": "5675d423",
   "metadata": {},
   "source": [
    "Our code for computing the energy of the ground state of the harmonic oscillator follows here. We start by defining directories where we store various outputs."
   ]
  },
  {
   "cell_type": "code",
   "execution_count": 10,
   "id": "72ab329a",
   "metadata": {},
   "outputs": [],
   "source": [
    "# Common imports\n",
    "import os\n",
    "\n",
    "# Where to save the figures and data files\n",
    "PROJECT_ROOT_DIR = \"Results\"\n",
    "FIGURE_ID = \"Results/FigureFiles\"\n",
    "DATA_ID = \"Results/VMCHarmonic\"\n",
    "\n",
    "if not os.path.exists(PROJECT_ROOT_DIR):\n",
    "    os.mkdir(PROJECT_ROOT_DIR)\n",
    "\n",
    "if not os.path.exists(FIGURE_ID):\n",
    "    os.makedirs(FIGURE_ID)\n",
    "\n",
    "if not os.path.exists(DATA_ID):\n",
    "    os.makedirs(DATA_ID)\n",
    "\n",
    "def image_path(fig_id):\n",
    "    return os.path.join(FIGURE_ID, fig_id)\n",
    "\n",
    "def data_path(dat_id):\n",
    "    return os.path.join(DATA_ID, dat_id)\n",
    "\n",
    "def save_fig(fig_id):\n",
    "    plt.savefig(image_path(fig_id) + \".png\", format='png')\n",
    "\n",
    "outfile = open(data_path(\"VMCHarmonic.dat\"),'w')"
   ]
  },
  {
   "cell_type": "markdown",
   "id": "797dac03",
   "metadata": {},
   "source": [
    "We proceed with the implementation of the Monte Carlo algorithm but list first the ansatz for the wave function and the expression for the local energy"
   ]
  },
  {
   "cell_type": "code",
   "execution_count": 11,
   "id": "4d90006b",
   "metadata": {},
   "outputs": [],
   "source": [
    "%matplotlib inline\n",
    "\n",
    "# VMC for the one-dimensional harmonic oscillator\n",
    "# Brute force Metropolis, no importance sampling and no energy minimization\n",
    "from math import exp, sqrt\n",
    "from random import random, seed\n",
    "import numpy as np\n",
    "import matplotlib.pyplot as plt\n",
    "from decimal import *\n",
    "# Trial wave function for the Harmonic oscillator in one dimension\n",
    "def WaveFunction(r,alpha):\n",
    "    return exp(-0.5*alpha*alpha*r*r)\n",
    "\n",
    "# Local energy  for the Harmonic oscillator in one dimension\n",
    "def LocalEnergy(r,alpha):\n",
    "    return 0.5*r*r*(1-alpha**4) + 0.5*alpha*alpha"
   ]
  },
  {
   "cell_type": "markdown",
   "id": "520e74cc",
   "metadata": {},
   "source": [
    "Note that in the Metropolis algorithm there is no need to compute the\n",
    "trial wave function, mainly since we are just taking the ratio of two\n",
    "exponentials. It is then from a computational point view, more\n",
    "convenient to compute the argument from the ratio and then calculate\n",
    "the exponential. Here we have refrained from this purely of\n",
    "pedagogical reasons."
   ]
  },
  {
   "cell_type": "code",
   "execution_count": 12,
   "id": "50eba92c",
   "metadata": {},
   "outputs": [],
   "source": [
    "# The Monte Carlo sampling with the Metropolis algo\n",
    "# The jit decorator tells Numba to compile this function.\n",
    "# The argument types will be inferred by Numba when the function is called.\n",
    "def MonteCarloSampling():\n",
    "\n",
    "    NumberMCcycles= 1000000\n",
    "    StepSize = 1.0\n",
    "    # positions\n",
    "    PositionOld = 0.0\n",
    "    PositionNew = 0.0\n",
    "\n",
    "    # seed for rng generator\n",
    "    seed()\n",
    "    # start variational parameter\n",
    "    alpha = 0.4\n",
    "    for ia in range(MaxVariations):\n",
    "        alpha += .05\n",
    "        AlphaValues[ia] = alpha\n",
    "        energy = energy2 = 0.0\n",
    "        #Initial position\n",
    "        PositionOld = StepSize * (random() - .5)\n",
    "        wfold = WaveFunction(PositionOld,alpha)\n",
    "        #Loop over MC MCcycles\n",
    "        for MCcycle in range(NumberMCcycles):\n",
    "            #Trial position \n",
    "            PositionNew = PositionOld + StepSize*(random() - .5)\n",
    "            wfnew = WaveFunction(PositionNew,alpha)\n",
    "            #Metropolis test to see whether we accept the move\n",
    "            if random() <= wfnew**2 / wfold**2:\n",
    "                PositionOld = PositionNew\n",
    "                wfold = wfnew\n",
    "            DeltaE = LocalEnergy(PositionOld,alpha)\n",
    "            energy += DeltaE\n",
    "            energy2 += DeltaE**2\n",
    "        #We calculate mean, variance and error\n",
    "        energy /= NumberMCcycles\n",
    "        energy2 /= NumberMCcycles\n",
    "        variance = energy2 - energy**2\n",
    "        error = sqrt(variance/NumberMCcycles)\n",
    "        Energies[ia] = energy    \n",
    "        Variances[ia] = variance    \n",
    "        outfile.write('%f %f %f %f \\n' %(alpha,energy,variance,error))\n",
    "    return Energies, AlphaValues, Variances"
   ]
  },
  {
   "cell_type": "markdown",
   "id": "af665779",
   "metadata": {},
   "source": [
    "Finally, the results are presented here with the exact energies and variances as well."
   ]
  },
  {
   "cell_type": "code",
   "execution_count": 13,
   "id": "a3dde8d6",
   "metadata": {},
   "outputs": [
    {
     "data": {
      "image/png": "[encoded data removed]",
      "text/plain": [
       "<Figure size 640x480 with 2 Axes>"
      ]
     },
     "metadata": {},
     "output_type": "display_data"
    },
    {
     "name": "stdout",
     "output_type": "stream",
     "text": [
      "    Alpha    Energy  Exact Energy  Variance  Exact Variance\n",
      "0    0.45  1.288827      1.285193  2.768876        2.803442\n",
      "1    0.50  1.066011      1.062500  1.797574        1.757812\n",
      "2    0.55  0.907826      0.902071  1.165166        1.127465\n",
      "3    0.60  0.780534      0.784444  0.725115        0.730706\n",
      "4    0.65  0.703283      0.697341  0.483618        0.472569\n",
      "5    0.70  0.634518      0.632704  0.302555        0.300629\n",
      "6    0.75  0.583725      0.585069  0.181358        0.184613\n",
      "7    0.80  0.550006      0.550625  0.106075        0.106376\n",
      "8    0.85  0.527521      0.526646  0.054966        0.054712\n",
      "9    0.90  0.512522      0.511142  0.023093        0.022532\n",
      "10   0.95  0.502314      0.502633  0.005160        0.005280\n",
      "11   1.00  0.500000      0.500000  0.000000        0.000000\n",
      "12   1.05  0.502196      0.502382  0.004781        0.004776\n",
      "13   1.10  0.509595      0.509112  0.017966        0.018389\n",
      "14   1.15  0.518455      0.519661  0.040750        0.040095\n",
      "15   1.20  0.535569      0.533611  0.068459        0.069482\n",
      "16   1.25  0.550954      0.550625  0.106377        0.106376\n",
      "17   1.30  0.571624      0.570429  0.148720        0.150778\n",
      "18   1.35  0.592860      0.592799  0.202035        0.202822\n",
      "19   1.40  0.618850      0.617551  0.262832        0.262739\n"
     ]
    }
   ],
   "source": [
    "#Here starts the main program with variable declarations\n",
    "MaxVariations = 20\n",
    "Energies = np.zeros((MaxVariations))\n",
    "ExactEnergies = np.zeros((MaxVariations))\n",
    "ExactVariance = np.zeros((MaxVariations))\n",
    "Variances = np.zeros((MaxVariations))\n",
    "AlphaValues = np.zeros(MaxVariations)\n",
    "(Energies, AlphaValues, Variances) = MonteCarloSampling()\n",
    "outfile.close()\n",
    "ExactEnergies = 0.25*(AlphaValues*AlphaValues+1.0/(AlphaValues*AlphaValues))\n",
    "ExactVariance = 0.25*(1.0+((1.0-AlphaValues**4)**2)*3.0/(4*(AlphaValues**4)))-ExactEnergies*ExactEnergies\n",
    "\n",
    "#simple subplot\n",
    "plt.subplot(2, 1, 1)\n",
    "plt.plot(AlphaValues, Energies, 'o-',AlphaValues, ExactEnergies,'r-')\n",
    "plt.title('Energy and variance')\n",
    "plt.ylabel('Dimensionless energy')\n",
    "plt.subplot(2, 1, 2)\n",
    "plt.plot(AlphaValues, Variances, '.-',AlphaValues, ExactVariance,'r-')\n",
    "plt.xlabel(r'$\\alpha$', fontsize=15)\n",
    "plt.ylabel('Variance')\n",
    "save_fig(\"VMCHarmonic\")\n",
    "plt.show()\n",
    "#nice printout with Pandas\n",
    "import pandas as pd\n",
    "from pandas import DataFrame\n",
    "data ={'Alpha':AlphaValues, 'Energy':Energies,'Exact Energy':ExactEnergies,'Variance':Variances,'Exact Variance':ExactVariance,}\n",
    "frame = pd.DataFrame(data)\n",
    "print(frame)"
   ]
  },
  {
   "cell_type": "markdown",
   "id": "950eac4b",
   "metadata": {},
   "source": [
    "For $\\alpha=1$ we have the exact eigenpairs, as can be deduced from the\n",
    "table here. With $\\omega=1$, the exact energy is $1/2$ a.u. with zero\n",
    "variance, as it should. We see also that our computed variance follows rather well the exact variance.\n",
    "Increasing the number of Monte Carlo cycles will improve our statistics (try to increase the number of Monte Carlo cycles).\n",
    "\n",
    "The fact that the variance is exactly equal to zero when $\\alpha=1$ is that \n",
    "we then have the exact wave function, and the action of the hamiltionan\n",
    "on the wave function"
   ]
  },
  {
   "cell_type": "markdown",
   "id": "c04929c4",
   "metadata": {},
   "source": [
    "$$\n",
    "H\\psi = \\mathrm{constant}\\times \\psi,\n",
    "$$"
   ]
  },
  {
   "cell_type": "markdown",
   "id": "34b1be35",
   "metadata": {},
   "source": [
    "yields just a constant. The integral which defines various \n",
    "expectation values involving moments of the hamiltonian becomes then"
   ]
  },
  {
   "cell_type": "markdown",
   "id": "59d7c523",
   "metadata": {},
   "source": [
    "$$\n",
    "\\langle H^n \\rangle =\n",
    "   \\frac{\\int d\\boldsymbol{R}\\Psi^{\\ast}_T(\\boldsymbol{R})H^n(\\boldsymbol{R})\\Psi_T(\\boldsymbol{R})}\n",
    "        {\\int d\\boldsymbol{R}\\Psi^{\\ast}_T(\\boldsymbol{R})\\Psi_T(\\boldsymbol{R})}=\n",
    "\\mathrm{constant}\\times\\frac{\\int d\\boldsymbol{R}\\Psi^{\\ast}_T(\\boldsymbol{R})\\Psi_T(\\boldsymbol{R})}\n",
    "        {\\int d\\boldsymbol{R}\\Psi^{\\ast}_T(\\boldsymbol{R})\\Psi_T(\\boldsymbol{R})}=\\mathrm{constant}.\n",
    "$$"
   ]
  },
  {
   "cell_type": "markdown",
   "id": "1a60399a",
   "metadata": {},
   "source": [
    "**This gives an important information: the exact wave function leads to zero variance!**\n",
    "As we will see later, many practitioners perform a minimization on both the energy and the variance."
   ]
  }
 ],
 "metadata": {
  "kernelspec": {
   "display_name": "Python 3 (ipykernel)",
   "language": "python",
   "name": "python3"
  },
  "language_info": {
   "codemirror_mode": {
    "name": "ipython",
    "version": 3
   },
   "file_extension": ".py",
   "mimetype": "text/x-python",
   "name": "python",
   "nbconvert_exporter": "python",
   "pygments_lexer": "ipython3",
   "version": "3.9.10"
  }
 },
 "nbformat": 4,
 "nbformat_minor": 5
}
