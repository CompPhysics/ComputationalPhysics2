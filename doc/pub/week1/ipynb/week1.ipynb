{
 "cells": [
  {
   "cell_type": "markdown",
   "id": "db4462d5",
   "metadata": {},
   "source": [
    "<!-- HTML file automatically generated from DocOnce source (https://github.com/doconce/doconce/)\n",
    "doconce format html week1.do.txt --no_mako --no_abort -->\n",
    "<!-- dom:TITLE: Introduction to the course and start Variational Monte Carlo -->"
   ]
  },
  {
   "cell_type": "markdown",
   "id": "54cc0740",
   "metadata": {},
   "source": [
    "# Introduction to the course and start Variational Monte Carlo\n",
    "**Morten Hjorth-Jensen  Email morten.hjorth-jensen@fys.uio.no**, Department of Physics and Center fo Computing in Science Education, University of Oslo, Oslo, Norway\n",
    "\n",
    "Date: **January 24, 2025**"
   ]
  },
  {
   "cell_type": "markdown",
   "id": "3e33cb69",
   "metadata": {},
   "source": [
    "## Overview of first week January 20-24, 2025\n",
    "**Topics.**\n",
    "\n",
    "* Introduction to the course and overview of topics to be covered\n",
    "\n",
    "* Introduction to Variational Monte Carlo methods, Metropolis Algorithm, statistics and Markov Chain theory\n",
    "\n",
    "* C++ and python programming with discussion of  software examples\n",
    "\n",
    "* Test yourself, is my background ok for this course? (to be added)\n",
    "\n",
    "**Teaching Material, videos and written material.**\n",
    "\n",
    "* Asynchronuous vidoes\n",
    "\n",
    "* Lecture notes and reading assignments\n",
    "\n",
    "* Additional (often recommended) background material from the two textbooks listed below."
   ]
  },
  {
   "cell_type": "markdown",
   "id": "4f3625f4",
   "metadata": {},
   "source": [
    "## Material this week\n",
    "**Teaching Material, videos (to be uploaded after lecture) and other material.**\n",
    "\n",
    "* Video of lecture to be added at <https://youtu.be/>\n",
    "\n",
    "* Slides for first week at <http://compphysics.github.io/ComputationalPhysics2/doc/pub/week1/ipynb/week1.ipynb>"
   ]
  },
  {
   "cell_type": "markdown",
   "id": "98a1f5a1",
   "metadata": {},
   "source": [
    "## Links to code material and examples\n",
    "**Codes.**\n",
    "\n",
    "1. The C++ template  at <https://github.com/mortele/variational-monte-carlo-fys4411>\n",
    "\n",
    "2. The python template using JAX at <https://github.com/Daniel-Haas-B/FYS4411-Template>"
   ]
  },
  {
   "cell_type": "markdown",
   "id": "df0c2fd8",
   "metadata": {},
   "source": [
    "## Teaching team\n",
    "\n",
    "1. Morten Hjorth-Jensen, mhjensen@uio.no, office FØ470\n",
    "\n",
    "2. Ruben Guevara, ruben.guevara@fys.uio.no, office FØ375"
   ]
  },
  {
   "cell_type": "markdown",
   "id": "268a96e3",
   "metadata": {},
   "source": [
    "## Textbooks\n",
    "\n",
    "The textbooks we will use, in addition to our lecture notes, are \n",
    "1. Federico Becca and Sandro Sorella, Quantum Monte Carlo Approaches for Correlated Systems, see <https://www.cambridge.org/core/books/quantum-monte-carlo-approaches-for-correlated-systems/EB88C86BD9553A0738BDAE400D0B2900>. This book is fully accessible from the university of Oslo library, log in to <https://bibsys-almaprimo.hosted.exlibrisgroup.com/primo-explore/search?vid=BIBSYS>. This book is going to be our main text.\n",
    "\n",
    "2. B. L. Hammond, W. A. Lester, Jr., and P. J. Reynolds, Monte Carlo Methods in Ab Initio Quantum Chemistry, see <https://www.worldscientific.com/worldscibooks/10.1142/1170?srsltid=AfmBOorrVkCMZdlyIElZIyR5o4f59PKsCf-DN1DYqOFQ0nSWrEexSS9W#t=aboutBook>  and <https://drive.google.com/drive/folders/16BN8N4pHMLR7cJ-S5otvZ0cRo1J__3zC?ths=true>"
   ]
  },
  {
   "cell_type": "markdown",
   "id": "f789fd61",
   "metadata": {},
   "source": [
    "## Lectures and ComputerLab\n",
    "\n",
    "  * Lectures: Friday (10.15am-12pm). First time January 24. Last lecture session May 16 (can be changed).\n",
    "\n",
    "  * Computerlab: Friday (12.15pm-3pm), first time January 24, last lab session May 16 (can be changed).\n",
    "\n",
    "  * Weekly plans and all other information are on the webpage of the course\n",
    "\n",
    "  * **First project to be handed in March 21**.\n",
    "\n",
    "  * **Second and final project to be handed in June 1.**\n",
    "\n",
    "  * There is no final exam, only project work."
   ]
  },
  {
   "cell_type": "markdown",
   "id": "09ff1d33",
   "metadata": {},
   "source": [
    "## Course Format\n",
    "\n",
    "1. Two  compulsory projects. Electronic reports only. You are free to choose your format. We use canvas.uio.no to hand in the projects.\n",
    "\n",
    "2. Evaluation and grading: The two  projects count 1/2 each of the final mark. \n",
    "\n",
    "3. The computer lab (room FØ434 in the Physics building) has no PCs, so please bring your own laptops. C/C++ and Python are the default programming language, but programming languages like Fortran2008, Rust, Julia and other can  also be used. All source codes discussed during the lectures can be found at the webpage of the course."
   ]
  },
  {
   "cell_type": "markdown",
   "id": "072b3f1e",
   "metadata": {},
   "source": [
    "## Aims\n",
    "1. Be able to apply central many-particle methods like the Variational Monte Carlo method to properties of many-fermion systems and many-boson systems.\n",
    "\n",
    "2. Understand how to simulate quantum mechanical systems with many interacting particles. The methods are relevant for atomic, molecular, condensed matter physics, materials science, nanotechnology, quantum chemistry  and nuclear physics. \n",
    "\n",
    "3. Learn to manage and structure larger projects, with unit tests, object orientation and writing clean code\n",
    "\n",
    "4. Learn about a proper statistical analysis of large data sets"
   ]
  },
  {
   "cell_type": "markdown",
   "id": "21a847d7",
   "metadata": {},
   "source": [
    "## More aims\n",
    "1. Learn to optimize with convex optimization methods functions that depend on many variables.\n",
    "\n",
    "2. Parallelization and code optimizations\n",
    "\n",
    "3. Depending on interests, the second project can focus on different topics. These can be **quantum computing for studies of quantum mechanical problems**, machine learning for solving quantum-mechanical problems, quantum machine learning and many-body methods like coupled cluster theory, Hartree-Fock theory and other."
   ]
  },
  {
   "cell_type": "markdown",
   "id": "42de7210",
   "metadata": {},
   "source": [
    "## Topics covered in this course\n",
    "\n",
    "1. Parallelization (MPI and OpenMP), high-performance computing topics. Choose between Python, Fortran2008 and/or C++ as programming languages. \n",
    "\n",
    "2. Algorithms for Monte Carlo Simulations (multidimensional integrals), Metropolis-Hastings and importance sampling algorithms.  Improved Monte Carlo methods. Stochastic reconfiguration.\n",
    "\n",
    "3. Statistical analysis of data  from Monte Carlo calculations, bootstrapping, jackknife and blocking methods. \n",
    "\n",
    "4. Eigenvalue solvers"
   ]
  },
  {
   "cell_type": "markdown",
   "id": "8df98380",
   "metadata": {},
   "source": [
    "## More on topics covered in this course\n",
    "* For project 2 there are several possibilities\n",
    "\n",
    "a. Variational Monte Carlo for fermions\n",
    "\n",
    "b. Hartree-Fock theory for fermions with time dependence\n",
    "\n",
    "c. Coupled cluster theory for fermions (iterative methods)\n",
    "\n",
    "d. Neural networks and Machine Learning to solve the same problems as in project 1\n",
    "\n",
    "e. Eigenvalue problems with deep learning methods\n",
    "\n",
    "f. Possible project on quantum computing and quantum machine learning"
   ]
  },
  {
   "cell_type": "markdown",
   "id": "fb804339",
   "metadata": {},
   "source": [
    "## Other topics covered in this course\n",
    "  * Search for minima in multidimensional spaces (conjugate gradient method, steepest descent method, quasi-Newton-Raphson, Broyden-Jacobian). Convex optimization, gradient methods\n",
    "\n",
    "  * Iterative methods for solutions of non-linear equations.\n",
    "\n",
    "  * Object orientation\n",
    "\n",
    "  * Data analysis and resampling techniques\n",
    "\n",
    "  * Variational Monte Carlo (VMC) for **ab initio** studies of quantum mechanical many-body systems.\n",
    "\n",
    "  * Simulation of two- and three-dimensional systems like quantum dots or atoms and molecules or systems from solid state physics"
   ]
  },
  {
   "cell_type": "markdown",
   "id": "f21c4bb5",
   "metadata": {},
   "source": [
    "## Last (?) word on  topics covered in this course\n",
    "  * **Simulation of trapped bosons using VMC (project 1, default)**\n",
    "\n",
    "  * **Machine learning and neural networks (project 2, default, same system as in project 1)**\n",
    "\n",
    "  * Extension of project 1 to fermionic systems (project 2)\n",
    "\n",
    "  * Coupled cluster theory (project 2, depends on interest)\n",
    "\n",
    "  * Other quantum-mechanical methods and systems can be tailored to one's interests (Hartree-Fock Theory, Many-body perturbation theory, time-dependent theories and more)."
   ]
  },
  {
   "cell_type": "markdown",
   "id": "dd471cac",
   "metadata": {},
   "source": [
    "## Quantum Monte Carlo Motivation\n",
    "\n",
    "Most quantum mechanical  problems of interest in for example atomic, molecular, nuclear and solid state \n",
    "physics consist of a large number of interacting electrons and ions or nucleons. \n",
    "\n",
    "The total number of particles $N$ is usually sufficiently large\n",
    "that an exact solution cannot be found. \n",
    "\n",
    "Typically, \n",
    "the expectation value for a chosen hamiltonian for a system of  $N$ particles is"
   ]
  },
  {
   "cell_type": "markdown",
   "id": "335e4ac5",
   "metadata": {},
   "source": [
    "$$\n",
    "\\langle H \\rangle =\n",
    "   \\frac{\\int d\\boldsymbol{R}_1d\\boldsymbol{R}_2\\dots d\\boldsymbol{R}_N\n",
    "         \\Psi^{\\ast}(\\boldsymbol{R_1},\\boldsymbol{R}_2,\\dots,\\boldsymbol{R}_N)\n",
    "          H(\\boldsymbol{R_1},\\boldsymbol{R}_2,\\dots,\\boldsymbol{R}_N)\n",
    "          \\Psi(\\boldsymbol{R_1},\\boldsymbol{R}_2,\\dots,\\boldsymbol{R}_N)}\n",
    "        {\\int d\\boldsymbol{R}_1d\\boldsymbol{R}_2\\dots d\\boldsymbol{R}_N\n",
    "        \\Psi^{\\ast}(\\boldsymbol{R_1},\\boldsymbol{R}_2,\\dots,\\boldsymbol{R}_N)\n",
    "        \\Psi(\\boldsymbol{R_1},\\boldsymbol{R}_2,\\dots,\\boldsymbol{R}_N)},\n",
    "$$"
   ]
  },
  {
   "cell_type": "markdown",
   "id": "df2ced18",
   "metadata": {},
   "source": [
    "an in general intractable problem.\n",
    "\n",
    " This integral is actually the starting point in a Variational Monte\n",
    "Carlo calculation. **Gaussian quadrature: Forget it**! Given 10\n",
    "particles and 10 mesh points for each degree of freedom and an ideal 1\n",
    "Tflops machine (all operations take the same time), how long will it\n",
    "take to compute the above integral? The lifetime of the universe is of\n",
    "the order of $10^{17}$ s."
   ]
  },
  {
   "cell_type": "markdown",
   "id": "b0647f11",
   "metadata": {},
   "source": [
    "## Quantum Monte Carlo Motivation\n",
    "\n",
    "As an example from the nuclear many-body problem, we have Schroedinger's equation as a differential equation"
   ]
  },
  {
   "cell_type": "markdown",
   "id": "0ce9916e",
   "metadata": {},
   "source": [
    "$$\n",
    "\\hat{H}\\Psi(\\boldsymbol{r}_1,..,\\boldsymbol{r}_A,\\alpha_1,..,\\alpha_A)=E\\Psi(\\boldsymbol{r}_1,..,\\boldsymbol{r}_A,\\alpha_1,..,\\alpha_A)\n",
    "$$"
   ]
  },
  {
   "cell_type": "markdown",
   "id": "eebd12e7",
   "metadata": {},
   "source": [
    "where"
   ]
  },
  {
   "cell_type": "markdown",
   "id": "2e36e7fc",
   "metadata": {},
   "source": [
    "$$\n",
    "\\boldsymbol{r}_1,..,\\boldsymbol{r}_A,\n",
    "$$"
   ]
  },
  {
   "cell_type": "markdown",
   "id": "dbca98e5",
   "metadata": {},
   "source": [
    "are the coordinates and"
   ]
  },
  {
   "cell_type": "markdown",
   "id": "06336cb6",
   "metadata": {},
   "source": [
    "$$\n",
    "\\alpha_1,..,\\alpha_A,\n",
    "$$"
   ]
  },
  {
   "cell_type": "markdown",
   "id": "12bf5444",
   "metadata": {},
   "source": [
    "are sets of relevant quantum numbers such as spin and isospin for a system of  $A$ nucleons ($A=N+Z$, $N$ being the number of neutrons and $Z$ the number of protons)."
   ]
  },
  {
   "cell_type": "markdown",
   "id": "7e63f964",
   "metadata": {},
   "source": [
    "## Quantum Monte Carlo Motivation\n",
    "\n",
    "There are"
   ]
  },
  {
   "cell_type": "markdown",
   "id": "c929a0dc",
   "metadata": {},
   "source": [
    "$$\n",
    "2^A\\times \\left(\\begin{array}{c} A\\\\ Z\\end{array}\\right)\n",
    "$$"
   ]
  },
  {
   "cell_type": "markdown",
   "id": "8474774c",
   "metadata": {},
   "source": [
    "coupled second-order differential equations in $3A$ dimensions.\n",
    "\n",
    "For a nucleus like beryllium-10 this number is **215040**.\n",
    "This is a truely challenging many-body problem.\n",
    "\n",
    "Methods like partial differential equations can at most be used for 2-3 particles."
   ]
  },
  {
   "cell_type": "markdown",
   "id": "32101b04",
   "metadata": {},
   "source": [
    "## Various many-body methods\n",
    "\n",
    "* Monte-Carlo methods\n",
    "\n",
    "* Renormalization group (RG) methods, in particular density matrix RG\n",
    "\n",
    "* Large-scale diagonalization (Iterative methods, Lanczo's method, dimensionalities  $10^{10}$ states)\n",
    "\n",
    "* Coupled cluster theory, favoured method in quantum chemistry, molecular and atomic physics. Applications to ab initio calculations in nuclear physics as well for large nuclei.\n",
    "\n",
    "* Perturbative many-body methods \n",
    "\n",
    "* Green's function methods\n",
    "\n",
    "* Density functional theory/Mean-field theory and Hartree-Fock theory\n",
    "\n",
    "The physics of the system hints at which many-body methods to use."
   ]
  },
  {
   "cell_type": "markdown",
   "id": "31685db8",
   "metadata": {},
   "source": [
    "## Pros and Cons of Monte Carlo\n",
    "* Is physically intuitive.\n",
    "\n",
    "* Allows one to study systems with many degrees of freedom. Diffusion Monte Carlo (DMC) and Green's function Monte Carlo (GFMC) yield in principle the exact solution to Schroedinger's equation.\n",
    "\n",
    "* Variational Monte Carlo (VMC) is easy  to implement but needs a reliable trial wave function, can be difficult to obtain.  This is where we will use Hartree-Fock theory to construct an optimal basis.\n",
    "\n",
    "* DMC/GFMC for fermions (spin with half-integer values, electrons, baryons, neutrinos, quarks)  has a sign problem. Nature prefers an anti-symmetric wave function. The PDF in this case given distribution of random walkers."
   ]
  },
  {
   "cell_type": "markdown",
   "id": "8301a235",
   "metadata": {},
   "source": [
    "## More on Pros and Cons of Monte Carlo\n",
    "\n",
    "* The solution has a statistical error, which can be large. \n",
    "\n",
    "* There is a limit for how large systems one can study, DMC needs a huge number of random walkers in order to achieve stable results. \n",
    "\n",
    "* Obtain only the lowest-lying states with a given symmetry. Can get excited states with extra labor."
   ]
  },
  {
   "cell_type": "markdown",
   "id": "59124f4f",
   "metadata": {},
   "source": [
    "## Where and why do we use Monte Carlo Methods in Quantum Physics\n",
    "* Quantum systems with many particles at finite temperature: Path Integral Monte Carlo with applications to dense matter and quantum liquids (phase transitions from normal fluid to superfluid). Strong correlations.\n",
    "\n",
    "* Bose-Einstein condensation of dilute gases, method transition from  non-linear PDE to Diffusion Monte Carlo as density increases.\n",
    "\n",
    "* Light atoms, molecules, solids and nuclei. \n",
    "\n",
    "* Lattice Quantum-Chromo Dynamics. Impossible to solve without MC calculations. \n",
    "\n",
    "* Simulations of systems in solid state physics, from semiconductors to spin systems. Many electrons active and possibly strong correlations."
   ]
  },
  {
   "cell_type": "markdown",
   "id": "eb3c8a43",
   "metadata": {},
   "source": [
    "## Quantum Monte Carlo Motivation\n",
    "\n",
    "We start with the variational principle.\n",
    "Given a hamiltonian $H$ and a trial wave function $\\Psi_T$, the variational principle states that the expectation value of $\\langle H \\rangle$, defined through"
   ]
  },
  {
   "cell_type": "markdown",
   "id": "ae23f1b9",
   "metadata": {},
   "source": [
    "$$\n",
    "E[H]= \\langle H \\rangle =\n",
    "   \\frac{\\int d\\boldsymbol{R}\\Psi^{\\ast}_T(\\boldsymbol{R})H(\\boldsymbol{R})\\Psi_T(\\boldsymbol{R})}\n",
    "        {\\int d\\boldsymbol{R}\\Psi^{\\ast}_T(\\boldsymbol{R})\\Psi_T(\\boldsymbol{R})},\n",
    "$$"
   ]
  },
  {
   "cell_type": "markdown",
   "id": "62ab2ab7",
   "metadata": {},
   "source": [
    "is an upper bound to the ground state energy $E_0$ of the hamiltonian $H$, that is"
   ]
  },
  {
   "cell_type": "markdown",
   "id": "9360d7aa",
   "metadata": {},
   "source": [
    "$$\n",
    "E_0 \\le \\langle H \\rangle .\n",
    "$$"
   ]
  },
  {
   "cell_type": "markdown",
   "id": "5a5c052f",
   "metadata": {},
   "source": [
    "In general, the integrals involved in the calculation of various  expectation values  are multi-dimensional ones. Traditional integration methods such as the Gauss-Legendre will not be adequate for say the  computation of the energy of a many-body system."
   ]
  },
  {
   "cell_type": "markdown",
   "id": "c044205e",
   "metadata": {},
   "source": [
    "## Quantum Monte Carlo Motivation\n",
    "\n",
    "The trial wave function can be expanded in the eigenstates of the hamiltonian since they form a complete set, viz.,"
   ]
  },
  {
   "cell_type": "markdown",
   "id": "16aa5734",
   "metadata": {},
   "source": [
    "$$\n",
    "\\Psi_T(\\boldsymbol{R})=\\sum_i a_i\\Psi_i(\\boldsymbol{R}),\n",
    "$$"
   ]
  },
  {
   "cell_type": "markdown",
   "id": "73caa275",
   "metadata": {},
   "source": [
    "and assuming the set of eigenfunctions to be normalized one obtains"
   ]
  },
  {
   "cell_type": "markdown",
   "id": "5d6ed098",
   "metadata": {},
   "source": [
    "$$\n",
    "\\frac{\\sum_{nm}a^*_ma_n \\int d\\boldsymbol{R}\\Psi^{\\ast}_m(\\boldsymbol{R})H(\\boldsymbol{R})\\Psi_n(\\boldsymbol{R})}\n",
    "        {\\sum_{nm}a^*_ma_n \\int d\\boldsymbol{R}\\Psi^{\\ast}_m(\\boldsymbol{R})\\Psi_n(\\boldsymbol{R})} =\\frac{\\sum_{n}a^2_n E_n}\n",
    "        {\\sum_{n}a^2_n} \\ge E_0,\n",
    "$$"
   ]
  },
  {
   "cell_type": "markdown",
   "id": "ca5ce1ac",
   "metadata": {},
   "source": [
    "where we used that $H(\\boldsymbol{R})\\Psi_n(\\boldsymbol{R})=E_n\\Psi_n(\\boldsymbol{R})$.\n",
    "In general, the integrals involved in the calculation of various  expectation\n",
    "values  are multi-dimensional ones. \n",
    "The variational principle yields the lowest state of a given symmetry."
   ]
  },
  {
   "cell_type": "markdown",
   "id": "8ae5712c",
   "metadata": {},
   "source": [
    "## Quantum Monte Carlo Motivation\n",
    "\n",
    "In most cases, a wave function has only small values in large parts of \n",
    "configuration space, and a straightforward procedure which uses\n",
    "homogenously distributed random points in configuration space \n",
    "will most likely lead to poor results. This may suggest that some kind\n",
    "of importance sampling combined with e.g., the Metropolis algorithm \n",
    "may be  a more efficient way of obtaining the ground state energy.\n",
    "The hope is then that those regions of configurations space where\n",
    "the wave function assumes appreciable values are sampled more \n",
    "efficiently."
   ]
  },
  {
   "cell_type": "markdown",
   "id": "b0363014",
   "metadata": {},
   "source": [
    "## Quantum Monte Carlo Motivation\n",
    "\n",
    "The tedious part in a VMC calculation is the search for the variational\n",
    "minimum. A good knowledge of the system is required in order to carry out\n",
    "reasonable VMC calculations. This is not always the case, \n",
    "and often VMC calculations \n",
    "serve rather as the starting\n",
    "point for so-called diffusion Monte Carlo calculations (DMC). DMC is a way of\n",
    "solving exactly the many-body Schroedinger equation by means of \n",
    "a stochastic procedure. A good guess on the binding energy\n",
    "and its wave function is however necessary. \n",
    "A carefully performed VMC calculation can aid in this context."
   ]
  },
  {
   "cell_type": "markdown",
   "id": "878241e5",
   "metadata": {},
   "source": [
    "## Quantum Monte Carlo, ingredients and basic steps\n",
    "\n",
    "* Construct first a trial wave function $\\psi_T(\\boldsymbol{R},\\boldsymbol{\\alpha})$,  for a many-body system consisting of $N$ particles located at positions  $\\boldsymbol{R}=(\\boldsymbol{R}_1,\\dots ,\\boldsymbol{R}_N)$. The trial wave function depends on $\\alpha$ variational parameters $\\boldsymbol{\\alpha}=(\\alpha_1,\\dots ,\\alpha_M)$.\n",
    "\n",
    "* Then we evaluate the expectation value of the hamiltonian $H$"
   ]
  },
  {
   "cell_type": "markdown",
   "id": "a2578afd",
   "metadata": {},
   "source": [
    "$$\n",
    "E[H]=\\langle H \\rangle =\n",
    "   \\frac{\\int d\\boldsymbol{R}\\Psi^{\\ast}_{T}(\\boldsymbol{R},\\boldsymbol{\\alpha})H(\\boldsymbol{R})\\Psi_{T}(\\boldsymbol{R},\\boldsymbol{\\alpha})}\n",
    "        {\\int d\\boldsymbol{R}\\Psi^{\\ast}_{T}(\\boldsymbol{R},\\boldsymbol{\\alpha})\\Psi_{T}(\\boldsymbol{R},\\boldsymbol{\\alpha})}.\n",
    "$$"
   ]
  },
  {
   "cell_type": "markdown",
   "id": "49960a4c",
   "metadata": {},
   "source": [
    "* Thereafter we vary $\\alpha$ according to some minimization algorithm and return to the first step."
   ]
  },
  {
   "cell_type": "markdown",
   "id": "9cf8a9e2",
   "metadata": {},
   "source": [
    "## Quantum Monte Carlo, basic steps, the probability distribution function (PDF)\n",
    "\n",
    "Choose a trial wave function\n",
    "$\\psi_T(\\boldsymbol{R})$."
   ]
  },
  {
   "cell_type": "markdown",
   "id": "c6b35afd",
   "metadata": {},
   "source": [
    "$$\n",
    "P(\\boldsymbol{R})= \\frac{\\left|\\psi_T(\\boldsymbol{R})\\right|^2}{\\int \\left|\\psi_T(\\boldsymbol{R})\\right|^2d\\boldsymbol{R}}.\n",
    "$$"
   ]
  },
  {
   "cell_type": "markdown",
   "id": "75398842",
   "metadata": {},
   "source": [
    "This is our new probability distribution function  (PDF).\n",
    "The approximation to the expectation value of the Hamiltonian is now"
   ]
  },
  {
   "cell_type": "markdown",
   "id": "f79ddb59",
   "metadata": {},
   "source": [
    "$$\n",
    "E[H(\\boldsymbol{\\alpha})] = \n",
    "   \\frac{\\int d\\boldsymbol{R}\\Psi^{\\ast}_T(\\boldsymbol{R},\\boldsymbol{\\alpha})H(\\boldsymbol{R})\\Psi_T(\\boldsymbol{R},\\boldsymbol{\\alpha})}\n",
    "        {\\int d\\boldsymbol{R}\\Psi^{\\ast}_T(\\boldsymbol{R},\\boldsymbol{\\alpha})\\Psi_T(\\boldsymbol{R},\\boldsymbol{\\alpha})}.\n",
    "$$"
   ]
  },
  {
   "cell_type": "markdown",
   "id": "3fb43114",
   "metadata": {},
   "source": [
    "## Quantum Monte Carlo ingredients, the local energy\n",
    "\n",
    "Define a new quantity"
   ]
  },
  {
   "cell_type": "markdown",
   "id": "9eb66061",
   "metadata": {},
   "source": [
    "<!-- Equation labels as ordinary links -->\n",
    "<div id=\"eq:locale1\"></div>\n",
    "\n",
    "$$\n",
    "E_L(\\boldsymbol{R},\\boldsymbol{\\alpha})=\\frac{1}{\\psi_T(\\boldsymbol{R},\\boldsymbol{\\alpha})}H\\psi_T(\\boldsymbol{R},\\boldsymbol{\\alpha}),\n",
    "\\label{eq:locale1} \\tag{1}\n",
    "$$"
   ]
  },
  {
   "cell_type": "markdown",
   "id": "bfb62dfc",
   "metadata": {},
   "source": [
    "called the local energy, which, together with our trial PDF yields"
   ]
  },
  {
   "cell_type": "markdown",
   "id": "4d1cb493",
   "metadata": {},
   "source": [
    "<!-- Equation labels as ordinary links -->\n",
    "<div id=\"eq:vmc1\"></div>\n",
    "\n",
    "$$\n",
    "E[H(\\boldsymbol{\\alpha})]=\\int P(\\boldsymbol{R})E_L(\\boldsymbol{R}) d\\boldsymbol{R}\\approx \\frac{1}{N}\\sum_{i=1}^N E_L(\\boldsymbol{R_i},\\boldsymbol{\\alpha})\n",
    "\\label{eq:vmc1} \\tag{2}\n",
    "$$"
   ]
  },
  {
   "cell_type": "markdown",
   "id": "5df8bfff",
   "metadata": {},
   "source": [
    "with $N$ being the number of Monte Carlo samples."
   ]
  },
  {
   "cell_type": "markdown",
   "id": "eaa6eedb",
   "metadata": {},
   "source": [
    "## Quantum Monte Carlo algorithm\n",
    "The Algorithm for performing a variational Monte Carlo calculations runs thus as this\n",
    "\n",
    "   * Initialisation: Fix the number of Monte Carlo steps. Choose an initial $\\boldsymbol{R}$ and variational parameters $\\alpha$ and calculate $\\left|\\psi_T^{\\alpha}(\\boldsymbol{R})\\right|^2$. \n",
    "\n",
    "   * Initialise the energy and the variance and start the Monte Carlo calculation.\n",
    "\n",
    "      * Calculate  a trial position  $\\boldsymbol{R}_p=\\boldsymbol{R}+r*step$ where $r$ is a random variable $r \\in [0,1]$.\n",
    "\n",
    "      * Metropolis algorithm to accept or reject this move  $w = P(\\boldsymbol{R}_p)/P(\\boldsymbol{R})$.\n",
    "\n",
    "      * If the step is accepted, then we set $\\boldsymbol{R}=\\boldsymbol{R}_p$. \n",
    "\n",
    "      * Update averages\n",
    "\n",
    "   * Finish and compute final averages.\n",
    "\n",
    "Observe that the jumping in space is governed by the variable *step*. This is Called brute-force sampling.\n",
    "Need importance sampling to get more relevant sampling, see lectures below."
   ]
  },
  {
   "cell_type": "markdown",
   "id": "706b73ea",
   "metadata": {},
   "source": [
    "## Quantum Monte Carlo: hydrogen atom\n",
    "\n",
    "The radial Schroedinger equation for the hydrogen atom can be\n",
    "written as"
   ]
  },
  {
   "cell_type": "markdown",
   "id": "5d281db2",
   "metadata": {},
   "source": [
    "$$\n",
    "-\\frac{\\hbar^2}{2m}\\frac{\\partial^2 u(r)}{\\partial r^2}-\n",
    "\\left(\\frac{ke^2}{r}-\\frac{\\hbar^2l(l+1)}{2mr^2}\\right)u(r)=Eu(r),\n",
    "$$"
   ]
  },
  {
   "cell_type": "markdown",
   "id": "7f399647",
   "metadata": {},
   "source": [
    "or with dimensionless variables"
   ]
  },
  {
   "cell_type": "markdown",
   "id": "8eb021db",
   "metadata": {},
   "source": [
    "<!-- Equation labels as ordinary links -->\n",
    "<div id=\"eq:hydrodimless1\"></div>\n",
    "\n",
    "$$\n",
    "-\\frac{1}{2}\\frac{\\partial^2 u(\\rho)}{\\partial \\rho^2}-\n",
    "\\frac{u(\\rho)}{\\rho}+\\frac{l(l+1)}{2\\rho^2}u(\\rho)-\\lambda u(\\rho)=0,\n",
    "\\label{eq:hydrodimless1} \\tag{3}\n",
    "$$"
   ]
  },
  {
   "cell_type": "markdown",
   "id": "4e2211d2",
   "metadata": {},
   "source": [
    "with the hamiltonian"
   ]
  },
  {
   "cell_type": "markdown",
   "id": "60bef945",
   "metadata": {},
   "source": [
    "$$\n",
    "H=-\\frac{1}{2}\\frac{\\partial^2 }{\\partial \\rho^2}-\n",
    "\\frac{1}{\\rho}+\\frac{l(l+1)}{2\\rho^2}.\n",
    "$$"
   ]
  },
  {
   "cell_type": "markdown",
   "id": "cf0c3080",
   "metadata": {},
   "source": [
    "## Introducing the variational parameters\n",
    "\n",
    "We introduce the variational parameter $\\alpha$ in the trial\n",
    "wave function"
   ]
  },
  {
   "cell_type": "markdown",
   "id": "c388c7a4",
   "metadata": {},
   "source": [
    "$$\n",
    "u_T^{\\alpha}(\\rho)=\\alpha\\rho e^{-\\alpha\\rho}.\n",
    "$$"
   ]
  },
  {
   "cell_type": "markdown",
   "id": "2f370595",
   "metadata": {},
   "source": [
    "## Quantum Monte Carlo: results for the hydrogen atom\n",
    "\n",
    "Inserting this wave function into the expression for the\n",
    "local energy $E_L$ gives"
   ]
  },
  {
   "cell_type": "markdown",
   "id": "86fdad82",
   "metadata": {},
   "source": [
    "$$\n",
    "E_L(\\rho)=-\\frac{1}{\\rho}-\n",
    "              \\frac{\\alpha}{2}\\left(\\alpha-\\frac{2}{\\rho}\\right).\n",
    "$$"
   ]
  },
  {
   "cell_type": "markdown",
   "id": "e33f74da",
   "metadata": {},
   "source": [
    "A simple variational Monte Carlo calculation results in\n",
    "<table class=\"dotable\" border=\"1\">\n",
    "<thead>\n",
    "<tr><th align=\"center\">  $\\alpha$ </th> <th align=\"center\">$\\langle H \\rangle $</th> <th align=\"center\"> $\\sigma^2$</th> <th align=\"center\">$\\sigma/\\sqrt{N}$</th> </tr>\n",
    "</thead>\n",
    "<tbody>\n",
    "<tr><td align=\"center\">   7.00000E-01    </td> <td align=\"center\">   -4.57759E-01            </td> <td align=\"center\">   4.51201E-02    </td> <td align=\"center\">   6.71715E-04          </td> </tr>\n",
    "<tr><td align=\"center\">   8.00000E-01    </td> <td align=\"center\">   -4.81461E-01            </td> <td align=\"center\">   3.05736E-02    </td> <td align=\"center\">   5.52934E-04          </td> </tr>\n",
    "<tr><td align=\"center\">   9.00000E-01    </td> <td align=\"center\">   -4.95899E-01            </td> <td align=\"center\">   8.20497E-03    </td> <td align=\"center\">   2.86443E-04          </td> </tr>\n",
    "<tr><td align=\"center\">   1.00000E-00    </td> <td align=\"center\">   -5.00000E-01            </td> <td align=\"center\">   0.00000E+00    </td> <td align=\"center\">   0.00000E+00          </td> </tr>\n",
    "<tr><td align=\"center\">   1.10000E+00    </td> <td align=\"center\">   -4.93738E-01            </td> <td align=\"center\">   1.16989E-02    </td> <td align=\"center\">   3.42036E-04          </td> </tr>\n",
    "<tr><td align=\"center\">   1.20000E+00    </td> <td align=\"center\">   -4.75563E-01            </td> <td align=\"center\">   8.85899E-02    </td> <td align=\"center\">   9.41222E-04          </td> </tr>\n",
    "<tr><td align=\"center\">   1.30000E+00    </td> <td align=\"center\">   -4.54341E-01            </td> <td align=\"center\">   1.45171E-01    </td> <td align=\"center\">   1.20487E-03          </td> </tr>\n",
    "</tbody>\n",
    "</table>"
   ]
  },
  {
   "cell_type": "markdown",
   "id": "c1f5a689",
   "metadata": {},
   "source": [
    "## Quantum Monte Carlo: interpreting the hydrogen atom results\n",
    "\n",
    "We note that at $\\alpha=1$ we obtain the exact\n",
    "result, and the variance is zero, as it should. The reason is that \n",
    "we then have the exact wave function, and the action of the hamiltionan\n",
    "on the wave function"
   ]
  },
  {
   "cell_type": "markdown",
   "id": "7aa85ef6",
   "metadata": {},
   "source": [
    "$$\n",
    "H\\psi = \\mathrm{constant}\\times \\psi,\n",
    "$$"
   ]
  },
  {
   "cell_type": "markdown",
   "id": "c47da3cb",
   "metadata": {},
   "source": [
    "yields just a constant. The integral which defines various \n",
    "expectation values involving moments of the hamiltonian becomes then"
   ]
  },
  {
   "cell_type": "markdown",
   "id": "6383a7eb",
   "metadata": {},
   "source": [
    "$$\n",
    "\\langle H^n \\rangle =\n",
    "   \\frac{\\int d\\boldsymbol{R}\\Psi^{\\ast}_T(\\boldsymbol{R})H^n(\\boldsymbol{R})\\Psi_T(\\boldsymbol{R})}\n",
    "        {\\int d\\boldsymbol{R}\\Psi^{\\ast}_T(\\boldsymbol{R})\\Psi_T(\\boldsymbol{R})}=\n",
    "\\mathrm{constant}\\times\\frac{\\int d\\boldsymbol{R}\\Psi^{\\ast}_T(\\boldsymbol{R})\\Psi_T(\\boldsymbol{R})}\n",
    "        {\\int d\\boldsymbol{R}\\Psi^{\\ast}_T(\\boldsymbol{R})\\Psi_T(\\boldsymbol{R})}=\\mathrm{constant}.\n",
    "$$"
   ]
  },
  {
   "cell_type": "markdown",
   "id": "016f1187",
   "metadata": {},
   "source": [
    "**This gives an important information: the exact wave function leads to zero variance!**\n",
    "Variation is then performed by minimizing both the energy and the variance."
   ]
  },
  {
   "cell_type": "markdown",
   "id": "a9ef9586",
   "metadata": {},
   "source": [
    "## [Quantum Monte Carlo for bosons](https://github.com/mortele/variational-monte-carlo-fys4411)\n",
    "\n",
    "For bosons in a harmonic oscillator-like  trap we will use is a spherical (S)\n",
    " or an elliptical (E) harmonic trap in one, two and finally three\n",
    " dimensions, with the latter given by"
   ]
  },
  {
   "cell_type": "markdown",
   "id": "f8ef50e2",
   "metadata": {},
   "source": [
    "<!-- Equation labels as ordinary links -->\n",
    "<div id=\"trap_eqn\"></div>\n",
    "\n",
    "$$\n",
    "\\begin{equation}\n",
    " V_{ext}(\\mathbf{r}) = \\Bigg\\{\n",
    " \\begin{array}{ll}\n",
    "\t \\frac{1}{2}m\\omega_{ho}^2r^2 & (S)\\\\\n",
    " \\strut\n",
    "\t \\frac{1}{2}m[\\omega_{ho}^2(x^2+y^2) + \\omega_z^2z^2] & (E)\n",
    "\\label{trap_eqn} \\tag{4}\n",
    " \\end{array}\n",
    " \\end{equation}\n",
    "$$"
   ]
  },
  {
   "cell_type": "markdown",
   "id": "792774fc",
   "metadata": {},
   "source": [
    "where (S) stands for symmetric and"
   ]
  },
  {
   "cell_type": "markdown",
   "id": "d35c5ba4",
   "metadata": {},
   "source": [
    "<!-- Equation labels as ordinary links -->\n",
    "<div id=\"_auto1\"></div>\n",
    "\n",
    "$$\n",
    "\\begin{equation}\n",
    "     \\hat{H} = \\sum_i^N \\left(\n",
    "\t \\frac{-\\hbar^2}{2m}\n",
    "\t { \\bigtriangledown }_{i}^2 +\n",
    "\t V_{ext}({\\bf{r}}_i)\\right)  +\n",
    "\t \\sum_{i<j}^{N} V_{int}({\\bf{r}}_i,{\\bf{r}}_j),\n",
    "\\label{_auto1} \\tag{5}\n",
    "\\end{equation}\n",
    "$$"
   ]
  },
  {
   "cell_type": "markdown",
   "id": "f950832d",
   "metadata": {},
   "source": [
    "as the two-body Hamiltonian of the system."
   ]
  },
  {
   "cell_type": "markdown",
   "id": "1f70e058",
   "metadata": {},
   "source": [
    "## [Quantum Monte Carlo for bosons](https://github.com/mortele/variational-monte-carlo-fys4411)\n",
    "\n",
    " We will represent the inter-boson interaction by a pairwise, repulsive potential"
   ]
  },
  {
   "cell_type": "markdown",
   "id": "1a168a30",
   "metadata": {},
   "source": [
    "<!-- Equation labels as ordinary links -->\n",
    "<div id=\"_auto2\"></div>\n",
    "\n",
    "$$\n",
    "\\begin{equation}\n",
    " V_{int}(|\\mathbf{r}_i-\\mathbf{r}_j|) =  \\Bigg\\{\n",
    " \\begin{array}{ll}\n",
    "\t \\infty & {|\\mathbf{r}_i-\\mathbf{r}_j|} \\leq {a}\\\\\n",
    "\t 0 & {|\\mathbf{r}_i-\\mathbf{r}_j|} > {a}\n",
    " \\end{array}\n",
    "\\label{_auto2} \\tag{6}\n",
    "\\end{equation}\n",
    "$$"
   ]
  },
  {
   "cell_type": "markdown",
   "id": "a9ca1c92",
   "metadata": {},
   "source": [
    "where $a$ is the so-called hard-core diameter of the bosons.\n",
    " Clearly, $V_{int}(|\\mathbf{r}_i-\\mathbf{r}_j|)$ is zero if the bosons are\n",
    " separated by a distance $|\\mathbf{r}_i-\\mathbf{r}_j|$ greater than $a$ but\n",
    " infinite if they attempt to come within a distance $|\\mathbf{r}_i-\\mathbf{r}_j| \\leq a$."
   ]
  },
  {
   "cell_type": "markdown",
   "id": "fdd639ee",
   "metadata": {},
   "source": [
    "## [Quantum Monte Carlo for bosons](https://github.com/mortele/variational-monte-carlo-fys4411)\n",
    "\n",
    " Our trial wave function for the ground state with $N$ atoms is given by"
   ]
  },
  {
   "cell_type": "markdown",
   "id": "1144ad86",
   "metadata": {},
   "source": [
    "<!-- Equation labels as ordinary links -->\n",
    "<div id=\"eq:trialwf\"></div>\n",
    "\n",
    "$$\n",
    "\\begin{equation}\n",
    " \\Psi_T(\\mathbf{R})=\\Psi_T(\\mathbf{r}_1, \\mathbf{r}_2, \\dots \\mathbf{r}_N,\\alpha,\\beta)=\\prod_i g(\\alpha,\\beta,\\mathbf{r}_i)\\prod_{i<j}f(a,|\\mathbf{r}_i-\\mathbf{r}_j|),\n",
    "\\label{eq:trialwf} \\tag{7}\n",
    " \\end{equation}\n",
    "$$"
   ]
  },
  {
   "cell_type": "markdown",
   "id": "09dcd537",
   "metadata": {},
   "source": [
    "where $\\alpha$ and $\\beta$ are variational parameters. The\n",
    " single-particle wave function is proportional to the harmonic\n",
    " oscillator function for the ground state"
   ]
  },
  {
   "cell_type": "markdown",
   "id": "0459ab6c",
   "metadata": {},
   "source": [
    "<!-- Equation labels as ordinary links -->\n",
    "<div id=\"_auto3\"></div>\n",
    "\n",
    "$$\n",
    "\\begin{equation}\n",
    "    g(\\alpha,\\beta,\\mathbf{r}_i)= \\exp{[-\\alpha(x_i^2+y_i^2+\\beta z_i^2)]}.\n",
    "\\label{_auto3} \\tag{8}\n",
    "\\end{equation}\n",
    "$$"
   ]
  },
  {
   "cell_type": "markdown",
   "id": "c3e3ec95",
   "metadata": {},
   "source": [
    "## [Quantum Monte Carlo for bosons](https://github.com/mortele/variational-monte-carlo-fys4411)\n",
    "\n",
    "The rest of this material is best read using the jupyter-notebook\n",
    "\n",
    "For spherical traps we have $\\beta = 1$ and for non-interacting\n",
    "bosons ($a=0$) we have $\\alpha = 1/2a_{ho}^2$.  The correlation wave\n",
    " function is"
   ]
  },
  {
   "cell_type": "markdown",
   "id": "52d16bc8",
   "metadata": {},
   "source": [
    "<!-- Equation labels as ordinary links -->\n",
    "<div id=\"_auto4\"></div>\n",
    "\n",
    "$$\n",
    "\\begin{equation}\n",
    "    f(a,|\\mathbf{r}_i-\\mathbf{r}_j|)=\\Bigg\\{\n",
    " \\begin{array}{ll}\n",
    "\t 0 & {|\\mathbf{r}_i-\\mathbf{r}_j|} \\leq {a}\\\\\n",
    "\t (1-\\frac{a}{|\\mathbf{r}_i-\\mathbf{r}_j|}) & {|\\mathbf{r}_i-\\mathbf{r}_j|} > {a}.\n",
    " \\end{array}\n",
    "\\label{_auto4} \\tag{9}\n",
    "\\end{equation}\n",
    "$$"
   ]
  },
  {
   "cell_type": "markdown",
   "id": "7599a191",
   "metadata": {},
   "source": [
    "### Simple example, the hydrogen atom\n",
    "\n",
    "The radial Schroedinger equation for the hydrogen atom can be\n",
    "written as (when we have gotten rid of the first derivative term in the kinetic energy and used $rR(r)=u(r)$)"
   ]
  },
  {
   "cell_type": "markdown",
   "id": "47bd2eee",
   "metadata": {},
   "source": [
    "$$\n",
    "-\\frac{\\hbar^2}{2m}\\frac{d^2 u(r)}{d r^2}-\n",
    "\\left(\\frac{ke^2}{r}-\\frac{\\hbar^2l(l+1)}{2mr^2}\\right)u(r)=Eu(r).\n",
    "$$"
   ]
  },
  {
   "cell_type": "markdown",
   "id": "fdc81ad5",
   "metadata": {},
   "source": [
    "We will specialize to the case with $l=0$ and end up with"
   ]
  },
  {
   "cell_type": "markdown",
   "id": "3f6dcc4b",
   "metadata": {},
   "source": [
    "$$\n",
    "-\\frac{\\hbar^2}{2m}\\frac{d^2 u(r)}{d r^2}-\n",
    "\\left(\\frac{ke^2}{r}\\right)u(r)=Eu(r).\n",
    "$$"
   ]
  },
  {
   "cell_type": "markdown",
   "id": "fdedeaf2",
   "metadata": {},
   "source": [
    "Then we introduce a dimensionless variable $\\rho=r/a$ where $a$ is a constant with dimension length.\n",
    "Multiplying with $ma^2/\\hbar^2$ we can rewrite our equations as"
   ]
  },
  {
   "cell_type": "markdown",
   "id": "f33ee6e8",
   "metadata": {},
   "source": [
    "$$\n",
    "-\\frac{1}{2}\\frac{d^2 u(\\rho)}{d \\rho^2}-\n",
    "\\frac{ke^2ma}{\\hbar^2}\\frac{u(\\rho)}{\\rho}-\\lambda u(\\rho)=0.\n",
    "$$"
   ]
  },
  {
   "cell_type": "markdown",
   "id": "2c145f1f",
   "metadata": {},
   "source": [
    "Since $a$ is just a parameter we choose to set"
   ]
  },
  {
   "cell_type": "markdown",
   "id": "81907870",
   "metadata": {},
   "source": [
    "$$\n",
    "\\frac{ke^2ma}{\\hbar^2}=1,\n",
    "$$"
   ]
  },
  {
   "cell_type": "markdown",
   "id": "376d2fa2",
   "metadata": {},
   "source": [
    "which leads to $a=\\hbar^2/mke^2$, better known as the Bohr radius with value $0.053$ nm. Scaling the equations this way does not only render our numerical treatment simpler since we avoid carrying with us all physical parameters, but we obtain also a **natural** length scale. We will see this again and again. In our discussions below with a harmonic oscillator trap, the **natural** lentgh scale with be determined by the oscillator frequency, the mass of the particle and $\\hbar$. We have also defined a dimensionless 'energy' $\\lambda = Ema^2/\\hbar^2$. \n",
    "With the rescaled quantities, the ground state energy of the hydrogen atom is $1/2$. \n",
    "The equation we want to solve is now defined by the Hamiltonian"
   ]
  },
  {
   "cell_type": "markdown",
   "id": "93d127fb",
   "metadata": {},
   "source": [
    "$$\n",
    "H=-\\frac{1}{2}\\frac{d^2 }{d \\rho^2}-\\frac{1}{\\rho}.\n",
    "$$"
   ]
  },
  {
   "cell_type": "markdown",
   "id": "942e8bc7",
   "metadata": {},
   "source": [
    "As trial wave function we peep now into the analytical solution for\n",
    "the hydrogen atom and use (with $\\alpha$ as a variational parameter)"
   ]
  },
  {
   "cell_type": "markdown",
   "id": "b0685028",
   "metadata": {},
   "source": [
    "$$\n",
    "u_T^{\\alpha}(\\rho)=\\alpha\\rho \\exp{-(\\alpha\\rho)}.\n",
    "$$"
   ]
  },
  {
   "cell_type": "markdown",
   "id": "c8da7a0b",
   "metadata": {},
   "source": [
    "Inserting this wave function into the expression for the\n",
    "local energy $E_L$ gives"
   ]
  },
  {
   "cell_type": "markdown",
   "id": "440a4f8e",
   "metadata": {},
   "source": [
    "$$\n",
    "E_L(\\rho)=-\\frac{1}{\\rho}-\n",
    "              \\frac{\\alpha}{2}\\left(\\alpha-\\frac{2}{\\rho}\\right).\n",
    "$$"
   ]
  },
  {
   "cell_type": "markdown",
   "id": "26a33582",
   "metadata": {},
   "source": [
    "To have analytical local energies saves us from computing numerically\n",
    "the second derivative, a feature which often increases our numerical\n",
    "expenditure with a factor of three or more. Integratng up the local energy (recall to bring back the PDF in the integration) gives  $\\overline{E}[\\boldsymbol{\\alpha}]=\\alpha(\\alpha/2-1)$."
   ]
  },
  {
   "cell_type": "markdown",
   "id": "9cf2362e",
   "metadata": {},
   "source": [
    "### Second example, the harmonic oscillator in one dimension\n",
    "\n",
    "We present here another well-known example, the harmonic oscillator in\n",
    "one dimension for one particle. This will also serve the aim of\n",
    "introducing our next model, namely that of interacting electrons in a\n",
    "harmonic oscillator trap.\n",
    "\n",
    "Here as well, we do have analytical solutions and the energy of the\n",
    "ground state, with $\\hbar=1$, is $1/2\\omega$, with $\\omega$ being the\n",
    "oscillator frequency. We use the following trial wave function"
   ]
  },
  {
   "cell_type": "markdown",
   "id": "f33f9325",
   "metadata": {},
   "source": [
    "$$\n",
    "\\psi_T(x;\\alpha) = \\exp{-(\\frac{1}{2}\\alpha^2x^2)},\n",
    "$$"
   ]
  },
  {
   "cell_type": "markdown",
   "id": "2e463f7b",
   "metadata": {},
   "source": [
    "which results in a local energy"
   ]
  },
  {
   "cell_type": "markdown",
   "id": "f5c15d1f",
   "metadata": {},
   "source": [
    "$$\n",
    "\\frac{1}{2}\\left(\\alpha^2+x^2(1-\\alpha^4)\\right).\n",
    "$$"
   ]
  },
  {
   "cell_type": "markdown",
   "id": "67a2eb5a",
   "metadata": {},
   "source": [
    "We can compare our numerically calculated energies with the exact energy as function of $\\alpha$"
   ]
  },
  {
   "cell_type": "markdown",
   "id": "c9cf9740",
   "metadata": {},
   "source": [
    "$$\n",
    "\\overline{E}[\\alpha] = \\frac{1}{4}\\left(\\alpha^2+\\frac{1}{\\alpha^2}\\right).\n",
    "$$"
   ]
  },
  {
   "cell_type": "markdown",
   "id": "cb1c6bee",
   "metadata": {},
   "source": [
    "Similarly, with the above ansatz, we can also compute the exact variance which reads"
   ]
  },
  {
   "cell_type": "markdown",
   "id": "188a0634",
   "metadata": {},
   "source": [
    "$$\n",
    "\\sigma^2[\\alpha]=\\frac{1}{4}\\left(1+(1-\\alpha^4)^2\\frac{3}{4\\alpha^4}\\right)-\\overline{E}^2.\n",
    "$$"
   ]
  },
  {
   "cell_type": "markdown",
   "id": "da7365ba",
   "metadata": {},
   "source": [
    "Our code for computing the energy of the ground state of the harmonic oscillator follows here. We start by defining directories where we store various outputs."
   ]
  },
  {
   "cell_type": "code",
   "execution_count": 5,
   "id": "753afa74",
   "metadata": {},
   "outputs": [],
   "source": [
    "# Common imports\n",
    "import os\n",
    "\n",
    "# Where to save the figures and data files\n",
    "PROJECT_ROOT_DIR = \"Results\"\n",
    "FIGURE_ID = \"Results/FigureFiles\"\n",
    "DATA_ID = \"Results/VMCHarmonic\"\n",
    "\n",
    "if not os.path.exists(PROJECT_ROOT_DIR):\n",
    "    os.mkdir(PROJECT_ROOT_DIR)\n",
    "\n",
    "if not os.path.exists(FIGURE_ID):\n",
    "    os.makedirs(FIGURE_ID)\n",
    "\n",
    "if not os.path.exists(DATA_ID):\n",
    "    os.makedirs(DATA_ID)\n",
    "\n",
    "def image_path(fig_id):\n",
    "    return os.path.join(FIGURE_ID, fig_id)\n",
    "\n",
    "def data_path(dat_id):\n",
    "    return os.path.join(DATA_ID, dat_id)\n",
    "\n",
    "def save_fig(fig_id):\n",
    "    plt.savefig(image_path(fig_id) + \".png\", format='png')\n",
    "\n",
    "outfile = open(data_path(\"VMCHarmonic.dat\"),'w')"
   ]
  },
  {
   "cell_type": "markdown",
   "id": "e70b0109",
   "metadata": {},
   "source": [
    "We proceed with the implementation of the Monte Carlo algorithm but list first the ansatz for the wave function and the expression for the local energy"
   ]
  },
  {
   "cell_type": "code",
   "execution_count": 6,
   "id": "32863276",
   "metadata": {},
   "outputs": [],
   "source": [
    "%matplotlib inline\n",
    "\n",
    "# VMC for the one-dimensional harmonic oscillator\n",
    "# Brute force Metropolis, no importance sampling and no energy minimization\n",
    "from math import exp, sqrt\n",
    "from random import random, seed\n",
    "import numpy as np\n",
    "import matplotlib.pyplot as plt\n",
    "from decimal import *\n",
    "# Trial wave function for the Harmonic oscillator in one dimension\n",
    "def WaveFunction(r,alpha):\n",
    "    return exp(-0.5*(alpha*alpha)*0.5*r*r)\n",
    "\n",
    "# Local energy  for the Harmonic oscillator in one dimension\n",
    "def LocalEnergy(r,alpha):\n",
    "    return 0.5*r*r*(1-0.25*(alpha**4)) + 0.5*alpha*alpha*0.5"
   ]
  },
  {
   "cell_type": "markdown",
   "id": "a2bea7b4",
   "metadata": {},
   "source": [
    "Note that in the Metropolis algorithm there is no need to compute the\n",
    "trial wave function, mainly since we are just taking the ratio of two\n",
    "exponentials. It is then from a computational point view, more\n",
    "convenient to compute the argument from the ratio and then calculate\n",
    "the exponential. Here we have refrained from this purely of\n",
    "pedagogical reasons."
   ]
  },
  {
   "cell_type": "code",
   "execution_count": 7,
   "id": "1fca74e9",
   "metadata": {},
   "outputs": [],
   "source": [
    "# The Monte Carlo sampling with the Metropolis algo\n",
    "# The jit decorator tells Numba to compile this function.\n",
    "# The argument types will be inferred by Numba when the function is called.\n",
    "def MonteCarloSampling():\n",
    "\n",
    "    NumberMCcycles= 1000000\n",
    "    StepSize = 1.0\n",
    "    # positions\n",
    "    PositionOld = 0.0\n",
    "    PositionNew = 0.0\n",
    "\n",
    "    # seed for rng generator\n",
    "    seed()\n",
    "    # start variational parameter\n",
    "    alpha = 0.4\n",
    "    for ia in range(MaxVariations):\n",
    "        alpha += .05\n",
    "        AlphaValues[ia] = alpha\n",
    "        energy = energy2 = 0.0\n",
    "        #Initial position\n",
    "        PositionOld = StepSize * (random() - .5)\n",
    "        wfold = WaveFunction(PositionOld,alpha)\n",
    "        #Loop over MC MCcycles\n",
    "        for MCcycle in range(NumberMCcycles):\n",
    "            #Trial position \n",
    "            PositionNew = PositionOld + StepSize*(random() - .5)\n",
    "            wfnew = WaveFunction(PositionNew,alpha)\n",
    "            #Metropolis test to see whether we accept the move\n",
    "            if random() <= wfnew**2 / wfold**2:\n",
    "                PositionOld = PositionNew\n",
    "                wfold = wfnew\n",
    "            DeltaE = LocalEnergy(PositionOld,alpha)\n",
    "            energy += DeltaE\n",
    "            energy2 += DeltaE**2\n",
    "        #We calculate mean, variance and error\n",
    "        energy /= NumberMCcycles\n",
    "        energy2 /= NumberMCcycles\n",
    "        variance = energy2 - energy**2\n",
    "        error = sqrt(variance/NumberMCcycles)\n",
    "        Energies[ia] = energy    \n",
    "        Variances[ia] = variance    \n",
    "        outfile.write('%f %f %f %f \\n' %(alpha,energy,variance,error))\n",
    "    return Energies, AlphaValues, Variances"
   ]
  },
  {
   "cell_type": "markdown",
   "id": "c78bf884",
   "metadata": {},
   "source": [
    "Finally, the results are presented here with the exact energies and variances as well."
   ]
  },
  {
   "cell_type": "code",
   "execution_count": 8,
   "id": "d771d649",
   "metadata": {
    "scrolled": true
   },
   "outputs": [
    {
     "data": {
      "image/png": "[encoded data removed]",
      "text/plain": [
       "<Figure size 640x480 with 2 Axes>"
      ]
     },
     "metadata": {},
     "output_type": "display_data"
    },
    {
     "name": "stdout",
     "output_type": "stream",
     "text": [
      "    Alpha    Energy  Exact Energy   Variance  Exact Variance\n",
      "0    0.45  2.490267      1.285193  12.036268        2.803442\n",
      "1    0.50  2.034290      1.062500   7.818401        1.757812\n",
      "2    0.55  1.671209      0.902071   5.091538        1.127465\n",
      "3    0.60  1.465845      0.784444   3.842291        0.730706\n",
      "4    0.65  1.249979      0.697341   2.614716        0.472569\n",
      "5    0.70  1.083333      0.632704   1.844463        0.300629\n",
      "6    0.75  0.969485      0.585069   1.375476        0.184613\n",
      "7    0.80  0.853647      0.550625   0.953928        0.106376\n",
      "8    0.85  0.785415      0.526646   0.732783        0.054712\n",
      "9    0.90  0.718084      0.511142   0.536564        0.022532\n",
      "10   0.95  0.672813      0.502633   0.402206        0.005280\n",
      "11   1.00  0.626190      0.500000   0.281423        0.000000\n",
      "12   1.05  0.589599      0.502382   0.196998        0.004776\n",
      "13   1.10  0.564510      0.509112   0.136363        0.018389\n",
      "14   1.15  0.543428      0.519661   0.090839        0.040095\n",
      "15   1.20  0.526910      0.533611   0.055299        0.069482\n",
      "16   1.25  0.516839      0.550625   0.032017        0.106376\n",
      "17   1.30  0.506585      0.570429   0.013950        0.150778\n",
      "18   1.35  0.502159      0.592799   0.004298        0.202822\n",
      "19   1.40  0.500151      0.617551   0.000204        0.262739\n"
     ]
    }
   ],
   "source": [
    "#Here starts the main program with variable declarations\n",
    "MaxVariations = 20\n",
    "Energies = np.zeros((MaxVariations))\n",
    "ExactEnergies = np.zeros((MaxVariations))\n",
    "ExactVariance = np.zeros((MaxVariations))\n",
    "Variances = np.zeros((MaxVariations))\n",
    "AlphaValues = np.zeros(MaxVariations)\n",
    "(Energies, AlphaValues, Variances) = MonteCarloSampling()\n",
    "outfile.close()\n",
    "ExactEnergies = 0.25*(AlphaValues*AlphaValues+1.0/(AlphaValues*AlphaValues))\n",
    "ExactVariance = 0.25*(1.0+((1.0-AlphaValues**4)**2)*3.0/(4*(AlphaValues**4)))-ExactEnergies*ExactEnergies\n",
    "\n",
    "#simple subplot\n",
    "plt.subplot(2, 1, 1)\n",
    "plt.plot(AlphaValues, Energies, 'o-',AlphaValues, ExactEnergies,'r-')\n",
    "plt.title('Energy and variance')\n",
    "plt.ylabel('Dimensionless energy')\n",
    "plt.subplot(2, 1, 2)\n",
    "plt.plot(AlphaValues, Variances, '.-',AlphaValues, ExactVariance,'r-')\n",
    "plt.xlabel(r'$\\alpha$', fontsize=15)\n",
    "plt.ylabel('Variance')\n",
    "save_fig(\"VMCHarmonic\")\n",
    "plt.show()\n",
    "#nice printout with Pandas\n",
    "import pandas as pd\n",
    "from pandas import DataFrame\n",
    "data ={'Alpha':AlphaValues, 'Energy':Energies,'Exact Energy':ExactEnergies,'Variance':Variances,'Exact Variance':ExactVariance,}\n",
    "frame = pd.DataFrame(data)\n",
    "print(frame)"
   ]
  },
  {
   "cell_type": "markdown",
   "id": "d871bc59",
   "metadata": {},
   "source": [
    "For $\\alpha=1$ we have the exact eigenpairs, as can be deduced from the\n",
    "table here. With $\\omega=1$, the exact energy is $1/2$ a.u. with zero\n",
    "variance, as it should. We see also that our computed variance follows rather well the exact variance.\n",
    "Increasing the number of Monte Carlo cycles will improve our statistics (try to increase the number of Monte Carlo cycles).\n",
    "\n",
    "The fact that the variance is exactly equal to zero when $\\alpha=1$ is that \n",
    "we then have the exact wave function, and the action of the hamiltionan\n",
    "on the wave function"
   ]
  },
  {
   "cell_type": "markdown",
   "id": "8788488b",
   "metadata": {},
   "source": [
    "$$\n",
    "H\\psi = \\mathrm{constant}\\times \\psi,\n",
    "$$"
   ]
  },
  {
   "cell_type": "markdown",
   "id": "eaa54090",
   "metadata": {},
   "source": [
    "yields just a constant. The integral which defines various \n",
    "expectation values involving moments of the hamiltonian becomes then"
   ]
  },
  {
   "cell_type": "markdown",
   "id": "a2831901",
   "metadata": {},
   "source": [
    "$$\n",
    "\\langle H^n \\rangle =\n",
    "   \\frac{\\int d\\boldsymbol{R}\\Psi^{\\ast}_T(\\boldsymbol{R})H^n(\\boldsymbol{R})\\Psi_T(\\boldsymbol{R})}\n",
    "        {\\int d\\boldsymbol{R}\\Psi^{\\ast}_T(\\boldsymbol{R})\\Psi_T(\\boldsymbol{R})}=\n",
    "\\mathrm{constant}\\times\\frac{\\int d\\boldsymbol{R}\\Psi^{\\ast}_T(\\boldsymbol{R})\\Psi_T(\\boldsymbol{R})}\n",
    "        {\\int d\\boldsymbol{R}\\Psi^{\\ast}_T(\\boldsymbol{R})\\Psi_T(\\boldsymbol{R})}=\\mathrm{constant}.\n",
    "$$"
   ]
  },
  {
   "cell_type": "markdown",
   "id": "cfcd8f7b",
   "metadata": {},
   "source": [
    "**This gives an important information: the exact wave function leads to zero variance!**\n",
    "As we will see later, many practitioners perform a minimization on both the energy and the variance."
   ]
  }
 ],
 "metadata": {
  "kernelspec": {
   "display_name": "Python 3 (ipykernel)",
   "language": "python",
   "name": "python3"
  },
  "language_info": {
   "codemirror_mode": {
    "name": "ipython",
    "version": 3
   },
   "file_extension": ".py",
   "mimetype": "text/x-python",
   "name": "python",
   "nbconvert_exporter": "python",
   "pygments_lexer": "ipython3",
   "version": "3.9.15"
  }
 },
 "nbformat": 4,
 "nbformat_minor": 5
}
