{
 "cells": [
  {
   "cell_type": "markdown",
   "id": "0decf06b",
   "metadata": {
    "editable": true
   },
   "source": [
    "<!-- HTML file automatically generated from DocOnce source (https://github.com/doconce/doconce/)\n",
    "doconce format html week9.do.txt --no_mako --no_abort -->\n",
    "<!-- dom:TITLE: Week 11, March 11-15: Resampling Techniques, Bootstrap and Blocking -->"
   ]
  },
  {
   "cell_type": "markdown",
   "id": "6f048f8a",
   "metadata": {
    "editable": true
   },
   "source": [
    "# Week 11, March 11-15: Resampling Techniques, Bootstrap and Blocking\n",
    "**Morten Hjorth-Jensen  Email morten.hjorth-jensen@fys.uio.no**, Department of Physics and Center fo Computing in Science Education, University of Oslo, Oslo, Norway and Department of Physics and Astronomy and Facility for Rare Ion Beams, Michigan State University, East Lansing, Michigan, USA\n",
    "\n",
    "Date: **March 11-15**"
   ]
  },
  {
   "cell_type": "markdown",
   "id": "27a0e2e6",
   "metadata": {
    "editable": true
   },
   "source": [
    "## Overview of week 11, March 11-15\n",
    "**Topics.**\n",
    "\n",
    "1. Reminder from last week about statistical observables, the central limit theorem and bootstrapping, see notes from last week\n",
    "\n",
    "2. Resampling Techniques, emphasis on  Blocking \n",
    "\n",
    "3. Discussion of onebody densities (whiteboard notes)\n",
    "\n",
    "4. Start discussion on optimization and parallelization for Python and C++\n",
    "\n",
    "5. [Video of lecture](https://youtu.be/BApU9vheiTM)\n",
    "\n",
    "6. [Handwritten notes](https://github.com/CompPhysics/ComputationalPhysics2/blob/gh-pages/doc/HandWrittenNotes/2024/NotesMarch15.pdf)\n",
    "\n",
    "Note, these notes contain additional material om optimization and parallelization. Parts of this material will be discussed this week."
   ]
  },
  {
   "cell_type": "markdown",
   "id": "f6bdb0f2",
   "metadata": {
    "editable": true
   },
   "source": [
    "## Why resampling methods ?\n",
    "**Statistical analysis.**\n",
    "\n",
    "* Our simulations can be treated as *computer experiments*. This is particularly the case for Monte Carlo methods\n",
    "\n",
    "* The results can be analysed with the same statistical tools as we would use analysing experimental data.\n",
    "\n",
    "* As in all experiments, we are looking for expectation values and an estimate of how accurate they are, i.e., possible sources for errors."
   ]
  },
  {
   "cell_type": "markdown",
   "id": "4c923c3d",
   "metadata": {
    "editable": true
   },
   "source": [
    "## Statistical analysis\n",
    "* As in other experiments, many numerical  experiments have two classes of errors:\n",
    "\n",
    "a. Statistical errors\n",
    "\n",
    "b. Systematical errors\n",
    "\n",
    "* Statistical errors can be estimated using standard tools from statistics\n",
    "\n",
    "* Systematical errors are method specific and must be treated differently from case to case."
   ]
  },
  {
   "cell_type": "markdown",
   "id": "63738456",
   "metadata": {
    "editable": true
   },
   "source": [
    "## And why do we use such methods?\n",
    "\n",
    "As you will see below, due to correlations between various\n",
    "measurements, we need to evaluate the so-called covariance in order to\n",
    "establish a proper evaluation of the total variance and the thereby\n",
    "the standard deviation of a given expectation value.\n",
    "\n",
    "The covariance however, leads to an evaluation of a double sum over the various stochastic variables. This becomes computationally too expensive to evaluate.\n",
    "Methods like the Bootstrap, the Jackknife and/or Blocking allow us to circumvent this problem."
   ]
  },
  {
   "cell_type": "markdown",
   "id": "93f9cc93",
   "metadata": {
    "editable": true
   },
   "source": [
    "## Central limit theorem\n",
    "\n",
    "Last week we derived the central limit theorem with the following assumptions:\n",
    "\n",
    "**Measurement $i$.**\n",
    "\n",
    "We assumed that each individual measurement $x_{ij}$ is represented by stochastic variables which independent and identically distributed (iid).\n",
    "This defined the sample mean of of experiment $i$ with $n$ samples as"
   ]
  },
  {
   "cell_type": "markdown",
   "id": "57be91d3",
   "metadata": {
    "editable": true
   },
   "source": [
    "$$\n",
    "\\overline{x}_i=\\frac{1}{n}\\sum_{j} x_{ij}.\n",
    "$$"
   ]
  },
  {
   "cell_type": "markdown",
   "id": "2648e893",
   "metadata": {
    "editable": true
   },
   "source": [
    "and the sample variance"
   ]
  },
  {
   "cell_type": "markdown",
   "id": "e607b0bf",
   "metadata": {
    "editable": true
   },
   "source": [
    "$$\n",
    "\\sigma^2_i=\\frac{1}{n}\\sum_{j} \\left(x_{ij}-\\overline{x}_i\\right)^2.\n",
    "$$"
   ]
  },
  {
   "cell_type": "markdown",
   "id": "a8e176e3",
   "metadata": {
    "editable": true
   },
   "source": [
    "## Further remarks\n",
    "\n",
    "Note that we use $n$ instead of $n-1$ in the definition of\n",
    "variance. The sample variance and the sample mean are not necessarily equal to\n",
    "the exact values we would get if we knew the corresponding probability\n",
    "distribution."
   ]
  },
  {
   "cell_type": "markdown",
   "id": "631819cc",
   "metadata": {
    "editable": true
   },
   "source": [
    "## Running many measurements\n",
    "\n",
    "**Adding $m$ measurements $i$.**\n",
    "\n",
    "With the assumption that the average measurements $i$ are also defined as  iid stochastic variables and have the same probability function $p$,\n",
    "we defined the total average over $m$ experiments as"
   ]
  },
  {
   "cell_type": "markdown",
   "id": "7928fc89",
   "metadata": {
    "editable": true
   },
   "source": [
    "$$\n",
    "\\overline{X}=\\frac{1}{m}\\sum_{i} \\overline{x}_{i}.\n",
    "$$"
   ]
  },
  {
   "cell_type": "markdown",
   "id": "5c04d2f9",
   "metadata": {
    "editable": true
   },
   "source": [
    "and the total variance"
   ]
  },
  {
   "cell_type": "markdown",
   "id": "072ce76a",
   "metadata": {
    "editable": true
   },
   "source": [
    "$$\n",
    "\\sigma^2_{m}=\\frac{1}{m}\\sum_{i} \\left( \\overline{x}_{i}-\\overline{X}\\right)^2.\n",
    "$$"
   ]
  },
  {
   "cell_type": "markdown",
   "id": "f4c4521c",
   "metadata": {
    "editable": true
   },
   "source": [
    "These are the quantities we used in showing that if the individual mean values are iid stochastic variables, then in the limit $m\\rightarrow \\infty$, the distribution for $\\overline{X}$ is given by a Gaussian distribution with variance $\\sigma^2_m$."
   ]
  },
  {
   "cell_type": "markdown",
   "id": "4fddb7b6",
   "metadata": {
    "editable": true
   },
   "source": [
    "## Adding more definitions\n",
    "\n",
    "The total sample variance over the $mn$ measurements is defined as"
   ]
  },
  {
   "cell_type": "markdown",
   "id": "ad1e074c",
   "metadata": {
    "editable": true
   },
   "source": [
    "$$\n",
    "\\sigma^2=\\frac{1}{mn}\\sum_{i=1}^{m} \\sum_{j=1}^{n}\\left(x_{ij}-\\overline{X}\\right)^2.\n",
    "$$"
   ]
  },
  {
   "cell_type": "markdown",
   "id": "3bdab5a7",
   "metadata": {
    "editable": true
   },
   "source": [
    "We have from the equation for $\\sigma_m^2$"
   ]
  },
  {
   "cell_type": "markdown",
   "id": "fbfb3518",
   "metadata": {
    "editable": true
   },
   "source": [
    "$$\n",
    "\\overline{x}_i-\\overline{X}=\\frac{1}{n}\\sum_{j=1}^{n}\\left(x_{i}-\\overline{X}\\right),\n",
    "$$"
   ]
  },
  {
   "cell_type": "markdown",
   "id": "6b3cbc56",
   "metadata": {
    "editable": true
   },
   "source": [
    "and introducing the centered value $\\tilde{x}_{ij}=x_{ij}-\\overline{X}$, we can rewrite $\\sigma_m^2$ as"
   ]
  },
  {
   "cell_type": "markdown",
   "id": "62842d35",
   "metadata": {
    "editable": true
   },
   "source": [
    "$$\n",
    "\\sigma^2_{m}=\\frac{1}{m}\\sum_{i} \\left( \\overline{x}_{i}-\\overline{X}\\right)^2=\\frac{1}{m}\\sum_{i=1}^{m}\\left[ \\frac{i}{n}\\sum_{j=1}^{n}\\tilde{x}_{ij}\\right]^2.\n",
    "$$"
   ]
  },
  {
   "cell_type": "markdown",
   "id": "65f20a09",
   "metadata": {
    "editable": true
   },
   "source": [
    "## Further rewriting\n",
    "\n",
    "We can rewrite the latter in terms of a sum over diagonal elements only and another sum which contains the non-diagonal elements"
   ]
  },
  {
   "cell_type": "markdown",
   "id": "b3fc9ccc",
   "metadata": {
    "editable": true
   },
   "source": [
    "$$\n",
    "\\begin{align*}\n",
    "\\sigma^2_{m}& =\\frac{1}{m}\\sum_{i=1}^{m}\\left[ \\frac{i}{n}\\sum_{j=1}^{n}\\tilde{x}_{ij}\\right]^2 \\\\\n",
    "            & = \\frac{1}{mn^2}\\sum_{i=1}^{m} \\sum_{j=1}^{n}\\tilde{x}_{ij}^2+\\frac{2}{mn^2}\\sum_{i=1}^{m} \\sum_{j<k}^{n}\\tilde{x}_{ij}\\tilde{x}_{ik}.\n",
    "\\end{align*}\n",
    "$$"
   ]
  },
  {
   "cell_type": "markdown",
   "id": "c7409244",
   "metadata": {
    "editable": true
   },
   "source": [
    "The first term on the last rhs is nothing but the total sample variance $\\sigma^2$ divided by $m$. The second term represents the covariance."
   ]
  },
  {
   "cell_type": "markdown",
   "id": "4110a8f5",
   "metadata": {
    "editable": true
   },
   "source": [
    "## The covariance term\n",
    "\n",
    "Using the definition of the total sample variance we have"
   ]
  },
  {
   "cell_type": "markdown",
   "id": "3f332653",
   "metadata": {
    "editable": true
   },
   "source": [
    "$$\n",
    "\\begin{align*}\n",
    "\\sigma^2_{m}& = \\frac{\\sigma^2}{m}+\\frac{2}{mn^2}\\sum_{i=1}^{m} \\sum_{j<k}^{n}\\tilde{x}_{ij}\\tilde{x}_{ik}.\n",
    "\\end{align*}\n",
    "$$"
   ]
  },
  {
   "cell_type": "markdown",
   "id": "a5563e41",
   "metadata": {
    "editable": true
   },
   "source": [
    "The first term is what we have used till now in order to estimate the\n",
    "standard deviation. However, the second term which gives us a measure\n",
    "of the correlations between different stochastic events, can result in\n",
    "contributions which give rise to a larger standard deviation and\n",
    "variance $\\sigma_m^2$. Note also the evaluation of the second term\n",
    "leads to a double sum over all events. If we run a VMC calculation\n",
    "with say $10^9$ Monte carlo samples, the latter term would lead to\n",
    "$10^{18}$ function evaluations. We don't want to, by obvious reasons, to venture into that many evaluations.\n",
    "\n",
    "Note also that if our stochastic events are iid then the covariance terms is zero."
   ]
  },
  {
   "cell_type": "markdown",
   "id": "b585da3a",
   "metadata": {
    "editable": true
   },
   "source": [
    "## Rewriting the covariance term\n",
    "\n",
    "We introduce now a variable $d=\\vert j-k\\vert $ and rewrite"
   ]
  },
  {
   "cell_type": "markdown",
   "id": "620d0d9c",
   "metadata": {
    "editable": true
   },
   "source": [
    "$$\n",
    "\\frac{2}{mn^2}\\sum_{i=1}^{m} \\sum_{j<k}^{n}\\tilde{x}_{ij}\\tilde{x}_{ik},\n",
    "$$"
   ]
  },
  {
   "cell_type": "markdown",
   "id": "6ed19b2a",
   "metadata": {
    "editable": true
   },
   "source": [
    "in terms of a function"
   ]
  },
  {
   "cell_type": "markdown",
   "id": "30746f5e",
   "metadata": {
    "editable": true
   },
   "source": [
    "$$\n",
    "f_d=\\frac{2}{mn}\\sum_{i=1}^{m} \\sum_{k=1}^{n-d}\\tilde{x}_{ik}\\tilde{x}_{i(k+d)}.\n",
    "$$"
   ]
  },
  {
   "cell_type": "markdown",
   "id": "87254d7e",
   "metadata": {
    "editable": true
   },
   "source": [
    "We note that for $d=0$ we have"
   ]
  },
  {
   "cell_type": "markdown",
   "id": "f9722519",
   "metadata": {
    "editable": true
   },
   "source": [
    "$$\n",
    "f_0=\\frac{2}{mn}\\sum_{i=1}^{m} \\sum_{k=1}^{n}\\tilde{x}_{ik}\\tilde{x}_{i(k)}=\\sigma^2!\n",
    "$$"
   ]
  },
  {
   "cell_type": "markdown",
   "id": "e4208bd0",
   "metadata": {
    "editable": true
   },
   "source": [
    "## Introducing the correlation function\n",
    "\n",
    "We introduce then a correlation function $\\kappa_d=f_d/\\sigma^2$. Note that $\\kappa_0 =1$.  We rewrite the variance $\\sigma_m^2$ as"
   ]
  },
  {
   "cell_type": "markdown",
   "id": "71140404",
   "metadata": {
    "editable": true
   },
   "source": [
    "$$\n",
    "\\begin{align*}\n",
    "\\sigma^2_{m}& = \\frac{\\sigma^2}{m}\\left[1+2\\sum_{d=1}^{n-1} \\kappa_d\\right].\n",
    "\\end{align*}\n",
    "$$"
   ]
  },
  {
   "cell_type": "markdown",
   "id": "1840d902",
   "metadata": {
    "editable": true
   },
   "source": [
    "The code here shows the evolution of $\\kappa_d$ as a function of $d$\n",
    "for a series of random numbers. We see that the function $\\kappa_d$\n",
    "approaches $0$ as $d\\rightarrow \\infty$.\n",
    "\n",
    "In this case, our data are given by random numbers generated for the uniform distribution with $x\\in [0,1]$. Even with two random numbers being far away, we note that the correlation function is not zero."
   ]
  },
  {
   "cell_type": "markdown",
   "id": "4d013cd4",
   "metadata": {
    "editable": true
   },
   "source": [
    "## Computing the correlation function\n",
    "\n",
    "This code is best seen with the jupyter-notebook"
   ]
  },
  {
   "cell_type": "code",
   "execution_count": 1,
   "id": "b246b888",
   "metadata": {
    "collapsed": false,
    "editable": true
   },
   "outputs": [],
   "source": [
    "%matplotlib inline\n",
    "\n",
    "#!/usr/bin/env python\n",
    "import numpy as np\n",
    "import matplotlib.mlab as mlab\n",
    "import matplotlib.pyplot as plt\n",
    "import random\n",
    "\n",
    "# initialize the rng with a seed, simple uniform distribution\n",
    "random.seed() \n",
    "m = 10000\n",
    "samplefactor = 1.0/m\n",
    "x = np.zeros(m)   \n",
    "MeanValue = 0.\n",
    "VarValue = 0.\n",
    "for i in range (m):\n",
    "    value = random.random()\n",
    "    x[i] = value\n",
    "    MeanValue += value\n",
    "    VarValue += value*value\n",
    "\n",
    "MeanValue *= samplefactor\n",
    "VarValue *= samplefactor\n",
    "Variance = VarValue-MeanValue*MeanValue\n",
    "STDev = np.sqrt(Variance)\n",
    "print(\"MeanValue =\", MeanValue)\n",
    "print(\"Variance =\", Variance)\n",
    "print(\"Standard deviation =\", STDev)\n",
    "\n",
    "# Computing the autocorrelation function\n",
    "autocorrelation = np.zeros(m)\n",
    "darray = np.zeros(m)\n",
    "for j in range (m):\n",
    "    sum = 0.0\n",
    "    darray[j] = j\n",
    "    for k in range (m-j):\n",
    "        sum += (x[k]-MeanValue)*(x[k+j]-MeanValue ) \n",
    "    autocorrelation[j] = (sum/Variance)*samplefactor\n",
    "# Visualize results\n",
    "plt.plot(darray, autocorrelation,'ro')\n",
    "plt.axis([0,m,-0.2, 1.1])\n",
    "plt.xlabel(r'$d$')\n",
    "plt.ylabel(r'$\\kappa_d$')\n",
    "plt.title(r'autocorrelation function for RNG with uniform distribution')\n",
    "plt.show()"
   ]
  },
  {
   "cell_type": "markdown",
   "id": "e486df23",
   "metadata": {
    "editable": true
   },
   "source": [
    "## Resampling methods: Blocking\n",
    "\n",
    "The blocking method was made popular by [Flyvbjerg and Pedersen (1989)](https://aip.scitation.org/doi/10.1063/1.457480)\n",
    "and has become one of the standard ways to estimate the variance\n",
    "$\\mathrm{var}(\\widehat{\\theta})$ for exactly one estimator $\\widehat{\\theta}$, namely\n",
    "$\\widehat{\\theta} = \\overline{X}$, the mean value. \n",
    "\n",
    "Assume $n = 2^d$ for some integer $d>1$ and $X_1,X_2,\\cdots, X_n$ is a stationary time series to begin with. \n",
    "Moreover, assume that the series is asymptotically uncorrelated. We switch to vector notation by arranging $X_1,X_2,\\cdots,X_n$ in an $n$-tuple. Define:"
   ]
  },
  {
   "cell_type": "markdown",
   "id": "9573c95d",
   "metadata": {
    "editable": true
   },
   "source": [
    "$$\n",
    "\\begin{align*}\n",
    "\\hat{X} = (X_1,X_2,\\cdots,X_n).\n",
    "\\end{align*}\n",
    "$$"
   ]
  },
  {
   "cell_type": "markdown",
   "id": "6cddb371",
   "metadata": {
    "editable": true
   },
   "source": [
    "## Why blocking?\n",
    "\n",
    "The strength of the blocking method is when the number of\n",
    "observations, $n$ is large. For large $n$, the complexity of dependent\n",
    "bootstrapping scales poorly, but the blocking method does not,\n",
    "moreover, it becomes more accurate the larger $n$ is."
   ]
  },
  {
   "cell_type": "markdown",
   "id": "47b32760",
   "metadata": {
    "editable": true
   },
   "source": [
    "## Blocking Transformations\n",
    " We now define the blocking transformations. The idea is to take the mean of subsequent\n",
    "pair of elements from $\\boldsymbol{X}$ and form a new vector\n",
    "$\\boldsymbol{X}_1$. Continuing in the same way by taking the mean of\n",
    "subsequent pairs of elements of $\\boldsymbol{X}_1$ we obtain $\\boldsymbol{X}_2$, and\n",
    "so on. \n",
    "Define $\\boldsymbol{X}_i$ recursively by:"
   ]
  },
  {
   "cell_type": "markdown",
   "id": "a4b74fb1",
   "metadata": {
    "editable": true
   },
   "source": [
    "$$\n",
    "(\\boldsymbol{X}_0)_k \\equiv (\\boldsymbol{X})_k \\nonumber\n",
    "$$"
   ]
  },
  {
   "cell_type": "markdown",
   "id": "6ae07941",
   "metadata": {
    "editable": true
   },
   "source": [
    "<!-- Equation labels as ordinary links -->\n",
    "<div id=\"_auto1\"></div>\n",
    "\n",
    "$$\n",
    "\\begin{equation} \n",
    "(\\boldsymbol{X}_{i+1})_k \\equiv \\frac{1}{2}\\Big( (\\boldsymbol{X}_i)_{2k-1} +\n",
    "(\\boldsymbol{X}_i)_{2k} \\Big) \\qquad \\text{for all} \\qquad 1 \\leq i \\leq d-1\n",
    "\\label{_auto1} \\tag{1}\n",
    "\\end{equation}\n",
    "$$"
   ]
  },
  {
   "cell_type": "markdown",
   "id": "f7734fed",
   "metadata": {
    "editable": true
   },
   "source": [
    "## Blocking transformations\n",
    "\n",
    "The quantity $\\boldsymbol{X}_k$ is\n",
    "subject to $k$ **blocking transformations**.  We now have $d$ vectors\n",
    "$\\boldsymbol{X}_0, \\boldsymbol{X}_1,\\cdots,\\boldsymbol{X}_{d-1}$ containing the subsequent\n",
    "averages of observations. It turns out that if the components of\n",
    "$\\boldsymbol{X}$ is a stationary time series, then the components of\n",
    "$\\boldsymbol{X}_i$ is a stationary time series for all $0 \\leq i \\leq d-1$\n",
    "\n",
    "We can then compute the autocovariance (or just covariance), the variance, sample mean, and\n",
    "number of observations for each $i$. \n",
    "Let $\\gamma_i, \\sigma_i^2,\n",
    "\\overline{X}_i$ denote the covariance, variance and average of the\n",
    "elements of $\\boldsymbol{X}_i$ and let $n_i$ be the number of elements of\n",
    "$\\boldsymbol{X}_i$. It follows by induction that $n_i = n/2^i$."
   ]
  },
  {
   "cell_type": "markdown",
   "id": "fe3ed0b0",
   "metadata": {
    "editable": true
   },
   "source": [
    "## Blocking Transformations\n",
    "\n",
    "Using the\n",
    "definition of the blocking transformation and the distributive\n",
    "property of the covariance, it is clear that since $h =|i-j|$\n",
    "we can define"
   ]
  },
  {
   "cell_type": "markdown",
   "id": "5be3573d",
   "metadata": {
    "editable": true
   },
   "source": [
    "$$\n",
    "\\gamma_{k+1}(h) = cov\\left( ({X}_{k+1})_{i}, ({X}_{k+1})_{j} \\right) \\nonumber\n",
    "$$"
   ]
  },
  {
   "cell_type": "markdown",
   "id": "a86581a7",
   "metadata": {
    "editable": true
   },
   "source": [
    "$$\n",
    "=  \\frac{1}{4}cov\\left( ({X}_{k})_{2i-1} + ({X}_{k})_{2i}, ({X}_{k})_{2j-1} + ({X}_{k})_{2j} \\right) \\nonumber\n",
    "$$"
   ]
  },
  {
   "cell_type": "markdown",
   "id": "839fe918",
   "metadata": {
    "editable": true
   },
   "source": [
    "<!-- Equation labels as ordinary links -->\n",
    "<div id=\"_auto2\"></div>\n",
    "\n",
    "$$\n",
    "\\begin{equation} \n",
    "=  \\frac{1}{2}\\gamma_{k}(2h) + \\frac{1}{2}\\gamma_k(2h+1) \\hspace{0.1cm} \\mathrm{h = 0} \n",
    "\\label{_auto2} \\tag{2}\n",
    "\\end{equation}\n",
    "$$"
   ]
  },
  {
   "cell_type": "markdown",
   "id": "ca5f3965",
   "metadata": {
    "editable": true
   },
   "source": [
    "<!-- Equation labels as ordinary links -->\n",
    "<div id=\"_auto3\"></div>\n",
    "\n",
    "$$\n",
    "\\begin{equation} \n",
    "=\\frac{1}{4}\\gamma_k(2h-1) + \\frac{1}{2}\\gamma_k(2h) + \\frac{1}{4}\\gamma_k(2h+1) \\quad \\mathrm{else}\n",
    "\\label{_auto3} \\tag{3}\n",
    "\\end{equation}\n",
    "$$"
   ]
  },
  {
   "cell_type": "markdown",
   "id": "c33b51ea",
   "metadata": {
    "editable": true
   },
   "source": [
    "The quantity $\\hat{X}$ is asymptotically uncorrelated by assumption, $\\hat{X}_k$ is also asymptotic uncorrelated. Let's turn our attention to the variance of the sample\n",
    "mean $\\mathrm{var}(\\overline{X})$."
   ]
  },
  {
   "cell_type": "markdown",
   "id": "bf80c10f",
   "metadata": {
    "editable": true
   },
   "source": [
    "## Blocking Transformations, getting there\n",
    "We have"
   ]
  },
  {
   "cell_type": "markdown",
   "id": "87442912",
   "metadata": {
    "editable": true
   },
   "source": [
    "<!-- Equation labels as ordinary links -->\n",
    "<div id=\"_auto4\"></div>\n",
    "\n",
    "$$\n",
    "\\begin{equation}\n",
    "\\mathrm{var}(\\overline{X}_k) = \\frac{\\sigma_k^2}{n_k} + \\underbrace{\\frac{2}{n_k} \\sum_{h=1}^{n_k-1}\\left( 1 - \\frac{h}{n_k} \\right)\\gamma_k(h)}_{\\equiv e_k} = \\frac{\\sigma^2_k}{n_k} + e_k \\quad \\text{if} \\quad \\gamma_k(0) = \\sigma_k^2. \n",
    "\\label{_auto4} \\tag{4}\n",
    "\\end{equation}\n",
    "$$"
   ]
  },
  {
   "cell_type": "markdown",
   "id": "7be95121",
   "metadata": {
    "editable": true
   },
   "source": [
    "The term $e_k$ is called the **truncation error**:"
   ]
  },
  {
   "cell_type": "markdown",
   "id": "c113f13f",
   "metadata": {
    "editable": true
   },
   "source": [
    "<!-- Equation labels as ordinary links -->\n",
    "<div id=\"_auto5\"></div>\n",
    "\n",
    "$$\n",
    "\\begin{equation}\n",
    "e_k = \\frac{2}{n_k} \\sum_{h=1}^{n_k-1}\\left( 1 - \\frac{h}{n_k} \\right)\\gamma_k(h). \n",
    "\\label{_auto5} \\tag{5}\n",
    "\\end{equation}\n",
    "$$"
   ]
  },
  {
   "cell_type": "markdown",
   "id": "553a0c17",
   "metadata": {
    "editable": true
   },
   "source": [
    "We can show that $\\mathrm{var}(\\overline{X}_i) = \\mathrm{var}(\\overline{X}_j)$ for all $0 \\leq i \\leq d-1$ and $0 \\leq j \\leq d-1$."
   ]
  },
  {
   "cell_type": "markdown",
   "id": "e838eab1",
   "metadata": {
    "editable": true
   },
   "source": [
    "## Blocking Transformations, final expressions\n",
    "\n",
    "We can then wrap up"
   ]
  },
  {
   "cell_type": "markdown",
   "id": "554761bb",
   "metadata": {
    "editable": true
   },
   "source": [
    "$$\n",
    "n_{j+1} \\overline{X}_{j+1}  = \\sum_{i=1}^{n_{j+1}} (\\hat{X}_{j+1})_i =  \\frac{1}{2}\\sum_{i=1}^{n_{j}/2} (\\hat{X}_{j})_{2i-1} + (\\hat{X}_{j})_{2i} \\nonumber\n",
    "$$"
   ]
  },
  {
   "cell_type": "markdown",
   "id": "f28e13d3",
   "metadata": {
    "editable": true
   },
   "source": [
    "<!-- Equation labels as ordinary links -->\n",
    "<div id=\"_auto6\"></div>\n",
    "\n",
    "$$\n",
    "\\begin{equation} \n",
    "= \\frac{1}{2}\\left[ (\\hat{X}_j)_1 + (\\hat{X}_j)_2 + \\cdots + (\\hat{X}_j)_{n_j} \\right] = \\underbrace{\\frac{n_j}{2}}_{=n_{j+1}} \\overline{X}_j = n_{j+1}\\overline{X}_j. \n",
    "\\label{_auto6} \\tag{6}\n",
    "\\end{equation}\n",
    "$$"
   ]
  },
  {
   "cell_type": "markdown",
   "id": "a6c56fb4",
   "metadata": {
    "editable": true
   },
   "source": [
    "By repeated use of this equation we get $\\mathrm{var}(\\overline{X}_i) = \\mathrm{var}(\\overline{X}_0) = \\mathrm{var}(\\overline{X})$ for all $0 \\leq i \\leq d-1$. This has the consequence that"
   ]
  },
  {
   "cell_type": "markdown",
   "id": "a5ad2757",
   "metadata": {
    "editable": true
   },
   "source": [
    "<!-- Equation labels as ordinary links -->\n",
    "<div id=\"eq:convergence\"></div>\n",
    "\n",
    "$$\n",
    "\\begin{equation}\n",
    "\\mathrm{var}(\\overline{X}) = \\frac{\\sigma_k^2}{n_k} + e_k \\qquad \\text{for all} \\qquad 0 \\leq k \\leq d-1. \\label{eq:convergence} \\tag{7}\n",
    "\\end{equation}\n",
    "$$"
   ]
  },
  {
   "cell_type": "markdown",
   "id": "7e422136",
   "metadata": {
    "editable": true
   },
   "source": [
    "## More on the blocking method\n",
    "\n",
    "Flyvbjerg and Petersen demonstrated that the sequence\n",
    "$\\{e_k\\}_{k=0}^{d-1}$ is decreasing, and conjecture that the term\n",
    "$e_k$ can be made as small as we would like by making $k$ (and hence\n",
    "$d$) sufficiently large. The sequence is decreasing.\n",
    "It means we can apply blocking transformations until\n",
    "$e_k$ is sufficiently small, and then estimate $\\mathrm{var}(\\overline{X})$ by\n",
    "$\\widehat{\\sigma}^2_k/n_k$. \n",
    "\n",
    "For an elegant solution and proof of the blocking method, see the recent article of [Marius Jonsson (former MSc student of the Computational Physics group)](https://journals.aps.org/pre/abstract/10.1103/PhysRevE.98.043304)."
   ]
  },
  {
   "cell_type": "markdown",
   "id": "157ccc77",
   "metadata": {
    "editable": true
   },
   "source": [
    "## Example code form last week"
   ]
  },
  {
   "cell_type": "code",
   "execution_count": 2,
   "id": "0524d375",
   "metadata": {
    "collapsed": false,
    "editable": true
   },
   "outputs": [],
   "source": [
    "# 2-electron VMC code for 2dim quantum dot with importance sampling\n",
    "# Using gaussian rng for new positions and Metropolis- Hastings \n",
    "# Added energy minimization\n",
    "from math import exp, sqrt\n",
    "from random import random, seed, normalvariate\n",
    "import numpy as np\n",
    "import matplotlib.pyplot as plt\n",
    "from mpl_toolkits.mplot3d import Axes3D\n",
    "from matplotlib import cm\n",
    "from matplotlib.ticker import LinearLocator, FormatStrFormatter\n",
    "from scipy.optimize import minimize\n",
    "import sys\n",
    "import os\n",
    "\n",
    "# Where to save data files\n",
    "PROJECT_ROOT_DIR = \"Results\"\n",
    "DATA_ID = \"Results/EnergyMin\"\n",
    "\n",
    "if not os.path.exists(PROJECT_ROOT_DIR):\n",
    "    os.mkdir(PROJECT_ROOT_DIR)\n",
    "\n",
    "if not os.path.exists(DATA_ID):\n",
    "    os.makedirs(DATA_ID)\n",
    "\n",
    "def data_path(dat_id):\n",
    "    return os.path.join(DATA_ID, dat_id)\n",
    "\n",
    "outfile = open(data_path(\"Energies.dat\"),'w')\n",
    "\n",
    "\n",
    "# Trial wave function for the 2-electron quantum dot in two dims\n",
    "def WaveFunction(r,alpha,beta):\n",
    "    r1 = r[0,0]**2 + r[0,1]**2\n",
    "    r2 = r[1,0]**2 + r[1,1]**2\n",
    "    r12 = sqrt((r[0,0]-r[1,0])**2 + (r[0,1]-r[1,1])**2)\n",
    "    deno = r12/(1+beta*r12)\n",
    "    return exp(-0.5*alpha*(r1+r2)+deno)\n",
    "\n",
    "# Local energy  for the 2-electron quantum dot in two dims, using analytical local energy\n",
    "def LocalEnergy(r,alpha,beta):\n",
    "    \n",
    "    r1 = (r[0,0]**2 + r[0,1]**2)\n",
    "    r2 = (r[1,0]**2 + r[1,1]**2)\n",
    "    r12 = sqrt((r[0,0]-r[1,0])**2 + (r[0,1]-r[1,1])**2)\n",
    "    deno = 1.0/(1+beta*r12)\n",
    "    deno2 = deno*deno\n",
    "    return 0.5*(1-alpha*alpha)*(r1 + r2) +2.0*alpha + 1.0/r12+deno2*(alpha*r12-deno2+2*beta*deno-1.0/r12)\n",
    "\n",
    "# Derivate of wave function ansatz as function of variational parameters\n",
    "def DerivativeWFansatz(r,alpha,beta):\n",
    "    \n",
    "    WfDer  = np.zeros((2), np.double)\n",
    "    r1 = (r[0,0]**2 + r[0,1]**2)\n",
    "    r2 = (r[1,0]**2 + r[1,1]**2)\n",
    "    r12 = sqrt((r[0,0]-r[1,0])**2 + (r[0,1]-r[1,1])**2)\n",
    "    deno = 1.0/(1+beta*r12)\n",
    "    deno2 = deno*deno\n",
    "    WfDer[0] = -0.5*(r1+r2)\n",
    "    WfDer[1] = -r12*r12*deno2\n",
    "    return  WfDer\n",
    "\n",
    "# Setting up the quantum force for the two-electron quantum dot, recall that it is a vector\n",
    "def QuantumForce(r,alpha,beta):\n",
    "\n",
    "    qforce = np.zeros((NumberParticles,Dimension), np.double)\n",
    "    r12 = sqrt((r[0,0]-r[1,0])**2 + (r[0,1]-r[1,1])**2)\n",
    "    deno = 1.0/(1+beta*r12)\n",
    "    qforce[0,:] = -2*r[0,:]*alpha*(r[0,:]-r[1,:])*deno*deno/r12\n",
    "    qforce[1,:] = -2*r[1,:]*alpha*(r[1,:]-r[0,:])*deno*deno/r12\n",
    "    return qforce\n",
    "    \n",
    "\n",
    "# Computing the derivative of the energy and the energy \n",
    "def EnergyDerivative(x0):\n",
    "\n",
    "    \n",
    "    # Parameters in the Fokker-Planck simulation of the quantum force\n",
    "    D = 0.5\n",
    "    TimeStep = 0.05\n",
    "    # positions\n",
    "    PositionOld = np.zeros((NumberParticles,Dimension), np.double)\n",
    "    PositionNew = np.zeros((NumberParticles,Dimension), np.double)\n",
    "    # Quantum force\n",
    "    QuantumForceOld = np.zeros((NumberParticles,Dimension), np.double)\n",
    "    QuantumForceNew = np.zeros((NumberParticles,Dimension), np.double)\n",
    "\n",
    "    energy = 0.0\n",
    "    DeltaE = 0.0\n",
    "    alpha = x0[0]\n",
    "    beta = x0[1]\n",
    "    EnergyDer = 0.0\n",
    "    DeltaPsi = 0.0\n",
    "    DerivativePsiE = 0.0 \n",
    "    #Initial position\n",
    "    for i in range(NumberParticles):\n",
    "        for j in range(Dimension):\n",
    "            PositionOld[i,j] = normalvariate(0.0,1.0)*sqrt(TimeStep)\n",
    "    wfold = WaveFunction(PositionOld,alpha,beta)\n",
    "    QuantumForceOld = QuantumForce(PositionOld,alpha, beta)\n",
    "\n",
    "    #Loop over MC MCcycles\n",
    "    for MCcycle in range(NumberMCcycles):\n",
    "        #Trial position moving one particle at the time\n",
    "        for i in range(NumberParticles):\n",
    "            for j in range(Dimension):\n",
    "                PositionNew[i,j] = PositionOld[i,j]+normalvariate(0.0,1.0)*sqrt(TimeStep)+\\\n",
    "                                       QuantumForceOld[i,j]*TimeStep*D\n",
    "            wfnew = WaveFunction(PositionNew,alpha,beta)\n",
    "            QuantumForceNew = QuantumForce(PositionNew,alpha, beta)\n",
    "            GreensFunction = 0.0\n",
    "            for j in range(Dimension):\n",
    "                GreensFunction += 0.5*(QuantumForceOld[i,j]+QuantumForceNew[i,j])*\\\n",
    "\t                              (D*TimeStep*0.5*(QuantumForceOld[i,j]-QuantumForceNew[i,j])-\\\n",
    "                                      PositionNew[i,j]+PositionOld[i,j])\n",
    "      \n",
    "            GreensFunction = exp(GreensFunction)\n",
    "            ProbabilityRatio = GreensFunction*wfnew**2/wfold**2\n",
    "            #Metropolis-Hastings test to see whether we accept the move\n",
    "            if random() <= ProbabilityRatio:\n",
    "                for j in range(Dimension):\n",
    "                    PositionOld[i,j] = PositionNew[i,j]\n",
    "                    QuantumForceOld[i,j] = QuantumForceNew[i,j]\n",
    "                wfold = wfnew\n",
    "        DeltaE = LocalEnergy(PositionOld,alpha,beta)\n",
    "        DerPsi = DerivativeWFansatz(PositionOld,alpha,beta)\n",
    "        DeltaPsi += DerPsi\n",
    "        energy += DeltaE\n",
    "        DerivativePsiE += DerPsi*DeltaE\n",
    "            \n",
    "    # We calculate mean values\n",
    "    energy /= NumberMCcycles\n",
    "    DerivativePsiE /= NumberMCcycles\n",
    "    DeltaPsi /= NumberMCcycles\n",
    "    EnergyDer  = 2*(DerivativePsiE-DeltaPsi*energy)\n",
    "    return EnergyDer\n",
    "\n",
    "\n",
    "# Computing the expectation value of the local energy \n",
    "def Energy(x0):\n",
    "    # Parameters in the Fokker-Planck simulation of the quantum force\n",
    "    D = 0.5\n",
    "    TimeStep = 0.05\n",
    "    # positions\n",
    "    PositionOld = np.zeros((NumberParticles,Dimension), np.double)\n",
    "    PositionNew = np.zeros((NumberParticles,Dimension), np.double)\n",
    "    # Quantum force\n",
    "    QuantumForceOld = np.zeros((NumberParticles,Dimension), np.double)\n",
    "    QuantumForceNew = np.zeros((NumberParticles,Dimension), np.double)\n",
    "\n",
    "    energy = 0.0\n",
    "    DeltaE = 0.0\n",
    "    alpha = x0[0]\n",
    "    beta = x0[1]\n",
    "    #Initial position\n",
    "    for i in range(NumberParticles):\n",
    "        for j in range(Dimension):\n",
    "            PositionOld[i,j] = normalvariate(0.0,1.0)*sqrt(TimeStep)\n",
    "    wfold = WaveFunction(PositionOld,alpha,beta)\n",
    "    QuantumForceOld = QuantumForce(PositionOld,alpha, beta)\n",
    "\n",
    "    #Loop over MC MCcycles\n",
    "    for MCcycle in range(NumberMCcycles):\n",
    "        #Trial position moving one particle at the time\n",
    "        for i in range(NumberParticles):\n",
    "            for j in range(Dimension):\n",
    "                PositionNew[i,j] = PositionOld[i,j]+normalvariate(0.0,1.0)*sqrt(TimeStep)+\\\n",
    "                                       QuantumForceOld[i,j]*TimeStep*D\n",
    "            wfnew = WaveFunction(PositionNew,alpha,beta)\n",
    "            QuantumForceNew = QuantumForce(PositionNew,alpha, beta)\n",
    "            GreensFunction = 0.0\n",
    "            for j in range(Dimension):\n",
    "                GreensFunction += 0.5*(QuantumForceOld[i,j]+QuantumForceNew[i,j])*\\\n",
    "\t                              (D*TimeStep*0.5*(QuantumForceOld[i,j]-QuantumForceNew[i,j])-\\\n",
    "                                      PositionNew[i,j]+PositionOld[i,j])\n",
    "      \n",
    "            GreensFunction = exp(GreensFunction)\n",
    "            ProbabilityRatio = GreensFunction*wfnew**2/wfold**2\n",
    "            #Metropolis-Hastings test to see whether we accept the move\n",
    "            if random() <= ProbabilityRatio:\n",
    "                for j in range(Dimension):\n",
    "                    PositionOld[i,j] = PositionNew[i,j]\n",
    "                    QuantumForceOld[i,j] = QuantumForceNew[i,j]\n",
    "                wfold = wfnew\n",
    "        DeltaE = LocalEnergy(PositionOld,alpha,beta)\n",
    "        energy += DeltaE\n",
    "        if Printout: \n",
    "           outfile.write('%f\\n' %(energy/(MCcycle+1.0)))            \n",
    "    # We calculate mean values\n",
    "    energy /= NumberMCcycles\n",
    "    return energy\n",
    "\n",
    "#Here starts the main program with variable declarations\n",
    "NumberParticles = 2\n",
    "Dimension = 2\n",
    "# seed for rng generator \n",
    "seed()\n",
    "# Monte Carlo cycles for parameter optimization\n",
    "Printout = False\n",
    "NumberMCcycles= 10000\n",
    "# guess for variational parameters\n",
    "x0 = np.array([0.9,0.2])\n",
    "# Using Broydens method to find optimal parameters\n",
    "res = minimize(Energy, x0, method='BFGS', jac=EnergyDerivative, options={'gtol': 1e-4,'disp': True})\n",
    "x0 = res.x\n",
    "# Compute the energy again with the optimal parameters and increased number of Monte Cycles\n",
    "NumberMCcycles= 2**19\n",
    "Printout = True\n",
    "FinalEnergy = Energy(x0)\n",
    "EResult = np.array([FinalEnergy,FinalEnergy])\n",
    "outfile.close()\n",
    "#nice printout with Pandas\n",
    "import pandas as pd\n",
    "from pandas import DataFrame\n",
    "data ={'Optimal Parameters':x0, 'Final Energy':EResult}\n",
    "frame = pd.DataFrame(data)\n",
    "print(frame)"
   ]
  },
  {
   "cell_type": "markdown",
   "id": "49f82930",
   "metadata": {
    "editable": true
   },
   "source": [
    "## Resampling analysis\n",
    "\n",
    "The next step is then to use the above data sets and perform a\n",
    "resampling analysis using the blocking method\n",
    "The blocking code, based on the article of [Marius Jonsson](https://journals.aps.org/pre/abstract/10.1103/PhysRevE.98.043304) is given here"
   ]
  },
  {
   "cell_type": "code",
   "execution_count": 3,
   "id": "c4351920",
   "metadata": {
    "collapsed": false,
    "editable": true
   },
   "outputs": [],
   "source": [
    "# Common imports\n",
    "import os\n",
    "\n",
    "# Where to save the figures and data files\n",
    "DATA_ID = \"Results/EnergyMin\"\n",
    "\n",
    "def data_path(dat_id):\n",
    "    return os.path.join(DATA_ID, dat_id)\n",
    "\n",
    "infile = open(data_path(\"Energies.dat\"),'r')\n",
    "\n",
    "from numpy import log2, zeros, mean, var, sum, loadtxt, arange, array, cumsum, dot, transpose, diagonal, sqrt\n",
    "from numpy.linalg import inv\n",
    "\n",
    "def block(x):\n",
    "    # preliminaries\n",
    "    n = len(x)\n",
    "    d = int(log2(n))\n",
    "    s, gamma = zeros(d), zeros(d)\n",
    "    mu = mean(x)\n",
    "\n",
    "    # estimate the auto-covariance and variances \n",
    "    # for each blocking transformation\n",
    "    for i in arange(0,d):\n",
    "        n = len(x)\n",
    "        # estimate autocovariance of x\n",
    "        gamma[i] = (n)**(-1)*sum( (x[0:(n-1)]-mu)*(x[1:n]-mu) )\n",
    "        # estimate variance of x\n",
    "        s[i] = var(x)\n",
    "        # perform blocking transformation\n",
    "        x = 0.5*(x[0::2] + x[1::2])\n",
    "   \n",
    "    # generate the test observator M_k from the theorem\n",
    "    M = (cumsum( ((gamma/s)**2*2**arange(1,d+1)[::-1])[::-1] )  )[::-1]\n",
    "\n",
    "    # we need a list of magic numbers\n",
    "    q =array([6.634897,9.210340, 11.344867, 13.276704, 15.086272, 16.811894, 18.475307, 20.090235, 21.665994, 23.209251, 24.724970, 26.216967, 27.688250, 29.141238, 30.577914, 31.999927, 33.408664, 34.805306, 36.190869, 37.566235, 38.932173, 40.289360, 41.638398, 42.979820, 44.314105, 45.641683, 46.962942, 48.278236, 49.587884, 50.892181])\n",
    "\n",
    "    # use magic to determine when we should have stopped blocking\n",
    "    for k in arange(0,d):\n",
    "        if(M[k] < q[k]):\n",
    "            break\n",
    "    if (k >= d-1):\n",
    "        print(\"Warning: Use more data\")\n",
    "    return mu, s[k]/2**(d-k)\n",
    "\n",
    "\n",
    "x = loadtxt(infile)\n",
    "(mean, var) = block(x) \n",
    "std = sqrt(var)\n",
    "import pandas as pd\n",
    "from pandas import DataFrame\n",
    "data ={'Mean':[mean], 'STDev':[std]}\n",
    "frame = pd.DataFrame(data,index=['Values'])\n",
    "print(frame)"
   ]
  },
  {
   "cell_type": "markdown",
   "id": "38ca399b",
   "metadata": {
    "editable": true
   },
   "source": [
    "## Content\n",
    "* Simple compiler options \n",
    "\n",
    "* Tools to benchmark your code\n",
    "\n",
    "* Machine architectures\n",
    "\n",
    "* What is vectorization?\n",
    "\n",
    "* How to measure code performance\n",
    "\n",
    "* Parallelization with OpenMP\n",
    "\n",
    "* Parallelization with MPI\n",
    "\n",
    "* Vectorization and parallelization, examples"
   ]
  },
  {
   "cell_type": "markdown",
   "id": "22ccb702",
   "metadata": {
    "editable": true
   },
   "source": [
    "## Optimization and profiling\n",
    "\n",
    "Till now we have not paid much attention to speed and possible optimization possibilities\n",
    "inherent in the various compilers. We have compiled and linked as"
   ]
  },
  {
   "cell_type": "markdown",
   "id": "09cbfed2",
   "metadata": {
    "editable": true
   },
   "source": [
    "        c++  -c  mycode.cpp\n",
    "        c++  -o  mycode.exe  mycode.o\n"
   ]
  },
  {
   "cell_type": "markdown",
   "id": "47d2b9aa",
   "metadata": {
    "editable": true
   },
   "source": [
    "For Fortran replace with for example **gfortran** or **ifort**.\n",
    "This is what we call a flat compiler option and should be used when we develop the code.\n",
    "It produces normally a very large and slow code when translated to machine instructions.\n",
    "We use this option for debugging and for establishing the correct program output because\n",
    "every operation is done precisely as the user specified it.\n",
    "\n",
    "It is instructive to look up the compiler manual for further instructions by writing"
   ]
  },
  {
   "cell_type": "markdown",
   "id": "677749b6",
   "metadata": {
    "editable": true
   },
   "source": [
    "        man c++\n"
   ]
  },
  {
   "cell_type": "markdown",
   "id": "bafaed45",
   "metadata": {
    "editable": true
   },
   "source": [
    "## More on optimization\n",
    "We have additional compiler options for optimization. These may include procedure inlining where \n",
    "performance may be improved, moving constants inside loops outside the loop, \n",
    "identify potential parallelism, include automatic vectorization or replace a division with a reciprocal\n",
    "and a multiplication if this speeds up the code."
   ]
  },
  {
   "cell_type": "markdown",
   "id": "84b6a52d",
   "metadata": {
    "editable": true
   },
   "source": [
    "        c++  -O3 -c  mycode.cpp\n",
    "        c++  -O3 -o  mycode.exe  mycode.o\n"
   ]
  },
  {
   "cell_type": "markdown",
   "id": "a69448e4",
   "metadata": {
    "editable": true
   },
   "source": [
    "This (other options are -O2 or -Ofast) is the recommended option."
   ]
  },
  {
   "cell_type": "markdown",
   "id": "644e4f3c",
   "metadata": {
    "editable": true
   },
   "source": [
    "## Optimization and profiling\n",
    "It is also useful to profile your program under the development stage.\n",
    "You would then compile with"
   ]
  },
  {
   "cell_type": "markdown",
   "id": "ca7419b2",
   "metadata": {
    "editable": true
   },
   "source": [
    "        c++  -pg -O3 -c  mycode.cpp\n",
    "        c++  -pg -O3 -o  mycode.exe  mycode.o\n"
   ]
  },
  {
   "cell_type": "markdown",
   "id": "2a242817",
   "metadata": {
    "editable": true
   },
   "source": [
    "After you have run the code you can obtain the profiling information via"
   ]
  },
  {
   "cell_type": "markdown",
   "id": "09a400d2",
   "metadata": {
    "editable": true
   },
   "source": [
    "        gprof mycode.exe >  ProfileOutput\n"
   ]
  },
  {
   "cell_type": "markdown",
   "id": "670a23be",
   "metadata": {
    "editable": true
   },
   "source": [
    "When you have profiled properly your code, you must take out this option as it \n",
    "slows down performance.\n",
    "For memory tests use [valgrind](http://www.valgrind.org). An excellent environment for all these aspects, and much  more, is  Qt creator."
   ]
  },
  {
   "cell_type": "markdown",
   "id": "4d85a2e2",
   "metadata": {
    "editable": true
   },
   "source": [
    "## Optimization and debugging\n",
    "Adding debugging options is a very useful alternative under the development stage of a program.\n",
    "You would then compile with"
   ]
  },
  {
   "cell_type": "markdown",
   "id": "cefab375",
   "metadata": {
    "editable": true
   },
   "source": [
    "        c++  -g -O0 -c  mycode.cpp\n",
    "        c++  -g -O0 -o  mycode.exe  mycode.o\n"
   ]
  },
  {
   "cell_type": "markdown",
   "id": "0e4f3a15",
   "metadata": {
    "editable": true
   },
   "source": [
    "This option generates debugging information allowing you to trace for example if an array is properly allocated. Some compilers work best with the no optimization option **-O0**.\n",
    "\n",
    "**Other optimization flags.**\n",
    "\n",
    "Depending on the compiler, one can add flags which generate code that catches integer overflow errors. \n",
    "The flag **-ftrapv** does this for the CLANG compiler on OS X operating systems."
   ]
  },
  {
   "cell_type": "markdown",
   "id": "fddd0f46",
   "metadata": {
    "editable": true
   },
   "source": [
    "## Other hints\n",
    "In general, irrespective of compiler options, it is useful to\n",
    "* avoid if tests or call to functions inside loops, if possible. \n",
    "\n",
    "* avoid multiplication with constants inside loops if possible\n",
    "\n",
    "Here is an example of a part of a program where specific operations lead to a slower code"
   ]
  },
  {
   "cell_type": "markdown",
   "id": "bb4bce7d",
   "metadata": {
    "editable": true
   },
   "source": [
    "        k = n-1;\n",
    "        for (i = 0; i < n; i++){\n",
    "            a[i] = b[i] +c*d;\n",
    "            e = g[k];\n",
    "        }\n"
   ]
  },
  {
   "cell_type": "markdown",
   "id": "b6b6db97",
   "metadata": {
    "editable": true
   },
   "source": [
    "A better code is"
   ]
  },
  {
   "cell_type": "markdown",
   "id": "a94f13e0",
   "metadata": {
    "editable": true
   },
   "source": [
    "        temp = c*d;\n",
    "        for (i = 0; i < n; i++){\n",
    "            a[i] = b[i] + temp;\n",
    "        }\n",
    "        e = g[n-1];\n"
   ]
  },
  {
   "cell_type": "markdown",
   "id": "8ea26d04",
   "metadata": {
    "editable": true
   },
   "source": [
    "Here we avoid a repeated multiplication inside a loop. \n",
    "Most compilers, depending on compiler flags, identify and optimize such bottlenecks on their own, without requiring any particular action by the programmer. However, it is always useful to single out and avoid code examples like the first one discussed here."
   ]
  },
  {
   "cell_type": "markdown",
   "id": "dac9267e",
   "metadata": {
    "editable": true
   },
   "source": [
    "## Vectorization and the basic idea behind parallel computing\n",
    "Present CPUs are highly parallel processors with varying levels of parallelism. The typical situation can be described via the following three statements.\n",
    "* Pursuit of shorter computation time and larger simulation size gives rise to parallel computing.\n",
    "\n",
    "* Multiple processors are involved to solve a global problem.\n",
    "\n",
    "* The essence is to divide the entire computation evenly among collaborative processors.  Divide and conquer.\n",
    "\n",
    "Before we proceed with a more detailed discussion of topics like vectorization and parallelization, we need to remind ourselves about some basic features of different hardware models."
   ]
  },
  {
   "cell_type": "markdown",
   "id": "1d01d818",
   "metadata": {
    "editable": true
   },
   "source": [
    "## A rough classification of hardware models\n",
    "\n",
    "* Conventional single-processor computers are named SISD (single-instruction-single-data) machines.\n",
    "\n",
    "* SIMD (single-instruction-multiple-data) machines incorporate the idea of parallel processing, using a large number of processing units to execute the same instruction on different data.\n",
    "\n",
    "* Modern parallel computers are so-called MIMD (multiple-instruction-multiple-data) machines and can execute different instruction streams in parallel on different data."
   ]
  },
  {
   "cell_type": "markdown",
   "id": "3331f016",
   "metadata": {
    "editable": true
   },
   "source": [
    "## Shared memory and distributed memory\n",
    "One way of categorizing modern parallel computers is to look at the memory configuration.\n",
    "* In shared memory systems the CPUs share the same address space. Any CPU can access any data in the global memory.\n",
    "\n",
    "* In distributed memory systems each CPU has its own memory.\n",
    "\n",
    "The CPUs are connected by some network and may exchange messages."
   ]
  },
  {
   "cell_type": "markdown",
   "id": "70c2ff3b",
   "metadata": {
    "editable": true
   },
   "source": [
    "## Different parallel programming paradigms\n",
    "\n",
    "* **Task parallelism**:  the work of a global problem can be divided into a number of independent tasks, which rarely need to synchronize.  Monte Carlo simulations represent a typical situation. Integration is another. However this paradigm is of limited use.\n",
    "\n",
    "* **Data parallelism**:  use of multiple threads (e.g. one or more threads per processor) to dissect loops over arrays etc.  Communication and synchronization between processors are often hidden, thus easy to program. However, the user surrenders much control to a specialized compiler. Examples of data parallelism are compiler-based parallelization and OpenMP directives."
   ]
  },
  {
   "cell_type": "markdown",
   "id": "7eb27294",
   "metadata": {
    "editable": true
   },
   "source": [
    "## Different parallel programming paradigms\n",
    "\n",
    "* **Message passing**:  all involved processors have an independent memory address space. The user is responsible for  partitioning the data/work of a global problem and distributing the  subproblems to the processors. Collaboration between processors is achieved by explicit message passing, which is used for data transfer plus synchronization.\n",
    "\n",
    "* This paradigm is the most general one where the user has full control. Better parallel efficiency is usually achieved by explicit message passing. However, message-passing programming is more difficult."
   ]
  },
  {
   "cell_type": "markdown",
   "id": "6acfd797",
   "metadata": {
    "editable": true
   },
   "source": [
    "## What is vectorization?\n",
    "Vectorization is a special\n",
    "case of **Single Instructions Multiple Data** (SIMD) to denote a single\n",
    "instruction stream capable of operating on multiple data elements in\n",
    "parallel. \n",
    "We can think of vectorization as the unrolling of loops accompanied with SIMD instructions.\n",
    "\n",
    "Vectorization is the process of converting an algorithm that performs scalar operations\n",
    "(typically one operation at the time) to vector operations where a single operation can refer to many simultaneous operations.\n",
    "Consider the following example"
   ]
  },
  {
   "cell_type": "markdown",
   "id": "9a2d0f4b",
   "metadata": {
    "editable": true
   },
   "source": [
    "        for (i = 0; i < n; i++){\n",
    "            a[i] = b[i] + c[i];\n",
    "        }\n"
   ]
  },
  {
   "cell_type": "markdown",
   "id": "e6367fe0",
   "metadata": {
    "editable": true
   },
   "source": [
    "If the code is not vectorized, the compiler will simply start with the first element and \n",
    "then perform subsequent additions operating on one address in memory at the time."
   ]
  },
  {
   "cell_type": "markdown",
   "id": "fcdbfec6",
   "metadata": {
    "editable": true
   },
   "source": [
    "## Number of elements that can acted upon\n",
    "A SIMD instruction can operate  on multiple data elements in one single instruction.\n",
    "It uses the so-called 128-bit SIMD floating-point register. \n",
    "In this sense, vectorization adds some form of parallelism since one instruction is applied  \n",
    "to many parts of say a vector.\n",
    "\n",
    "The number of elements which can be operated on in parallel\n",
    "range from four single-precision floating point data elements in so-called \n",
    "Streaming SIMD Extensions and two double-precision floating-point data\n",
    "elements in Streaming SIMD Extensions 2 to sixteen byte operations in\n",
    "a 128-bit register in Streaming SIMD Extensions 2. Thus, vector-length\n",
    "ranges from 2 to 16, depending on the instruction extensions used and\n",
    "on the data type. \n",
    "\n",
    "IN summary, our instructions  operate on 128 bit (16 byte) operands\n",
    "* 4 floats or ints\n",
    "\n",
    "* 2 doubles\n",
    "\n",
    "* Data paths 128 bits vide for vector unit"
   ]
  },
  {
   "cell_type": "markdown",
   "id": "36ad5a6a",
   "metadata": {
    "editable": true
   },
   "source": [
    "## Number of elements that can acted upon, examples\n",
    "We start with the simple scalar operations given by"
   ]
  },
  {
   "cell_type": "markdown",
   "id": "e848ffd5",
   "metadata": {
    "editable": true
   },
   "source": [
    "        for (i = 0; i < n; i++){\n",
    "            a[i] = b[i] + c[i];\n",
    "        }\n"
   ]
  },
  {
   "cell_type": "markdown",
   "id": "6e30084c",
   "metadata": {
    "editable": true
   },
   "source": [
    "If the code is not vectorized  and we have a 128-bit register to store a 32 bits floating point number,\n",
    "it means that we have $3\\times 32$ bits that are not used. \n",
    "\n",
    "We have thus unused space in our SIMD registers. These registers could hold three additional integers."
   ]
  },
  {
   "cell_type": "markdown",
   "id": "40d18d18",
   "metadata": {
    "editable": true
   },
   "source": [
    "## Operation counts for scalar operation\n",
    "The code"
   ]
  },
  {
   "cell_type": "markdown",
   "id": "0374dab5",
   "metadata": {
    "editable": true
   },
   "source": [
    "        for (i = 0; i < n; i++){\n",
    "            a[i] = b[i] + c[i];\n",
    "        }\n"
   ]
  },
  {
   "cell_type": "markdown",
   "id": "dbbc63ac",
   "metadata": {
    "editable": true
   },
   "source": [
    "has for $n$ repeats\n",
    "1. one load for $c[i]$ in address 1\n",
    "\n",
    "2. one load for $b[i]$ in address 2\n",
    "\n",
    "3. add $c[i]$ and $b[i]$ to give $a[i]$\n",
    "\n",
    "4. store $a[i]$ in address 2"
   ]
  },
  {
   "cell_type": "markdown",
   "id": "8ebac7e8",
   "metadata": {
    "editable": true
   },
   "source": [
    "## Number of elements that can acted upon, examples\n",
    "If we vectorize the code, we can perform, with a 128-bit register four simultaneous operations, that is\n",
    "we have"
   ]
  },
  {
   "cell_type": "markdown",
   "id": "afa255b9",
   "metadata": {
    "editable": true
   },
   "source": [
    "        for (i = 0; i < n; i+=4){\n",
    "            a[i] = b[i] + c[i];\n",
    "            a[i+1] = b[i+1] + c[i+1];\n",
    "            a[i+2] = b[i+2] + c[i+2];\n",
    "            a[i+3] = b[i+3] + c[i+3];\n",
    "        }\n"
   ]
  },
  {
   "cell_type": "markdown",
   "id": "a636971c",
   "metadata": {
    "editable": true
   },
   "source": [
    "Four additions are now done in a single step."
   ]
  },
  {
   "cell_type": "markdown",
   "id": "99f79202",
   "metadata": {
    "editable": true
   },
   "source": [
    "## Number of operations when vectorized\n",
    "For $n/4$ repeats assuming floats or integers\n",
    "1. one vector load for $c[i]$ in address 1\n",
    "\n",
    "2. one load for $b[i]$ in address 2\n",
    "\n",
    "3. add $c[i]$ and $b[i]$ to give $a[i]$\n",
    "\n",
    "4. store $a[i]$ in address 2"
   ]
  },
  {
   "cell_type": "markdown",
   "id": "eb84cb24",
   "metadata": {
    "editable": true
   },
   "source": [
    "## [A simple test case with and without vectorization](https://github.com/CompPhysics/ComputationalPhysicsMSU/blob/master/doc/Programs/LecturePrograms/programs/Classes/cpp/program7.cpp)\n",
    "We implement these operations in a simple c++ program that computes at the end the norm of a vector."
   ]
  },
  {
   "cell_type": "markdown",
   "id": "3b8741a3",
   "metadata": {
    "editable": true
   },
   "source": [
    "        #include <cstdlib>\n",
    "        #include <iostream>\n",
    "        #include <cmath>\n",
    "        #include <iomanip>\n",
    "        #include \"time.h\"\n",
    "        \n",
    "        using namespace std; // note use of namespace\n",
    "        int main (int argc, char* argv[])\n",
    "        {\n",
    "          // read in dimension of square matrix\n",
    "          int n = atoi(argv[1]);\n",
    "          double s = 1.0/sqrt( (double) n);\n",
    "          double *a, *b, *c;\n",
    "          // Start timing\n",
    "          clock_t start, finish;\n",
    "          start = clock();\n",
    "        // Allocate space for the vectors to be used\n",
    "            a = new double [n]; b = new double [n]; c = new double [n];\n",
    "          // Define parallel region\n",
    "          // Set up values for vectors  a and b\n",
    "          for (int i = 0; i < n; i++){\n",
    "            double angle = 2.0*M_PI*i/ (( double ) n);\n",
    "            a[i] = s*(sin(angle) + cos(angle));\n",
    "            b[i] =  s*sin(2.0*angle);\n",
    "            c[i] = 0.0;\n",
    "          }\n",
    "          // Then perform the vector addition\n",
    "          for (int i = 0; i < n; i++){\n",
    "            c[i] += a[i]+b[i];\n",
    "          }\n",
    "          // Compute now the norm-2\n",
    "          double Norm2 = 0.0;\n",
    "          for (int i = 0; i < n; i++){\n",
    "            Norm2  += c[i]*c[i];\n",
    "          }\n",
    "          finish = clock();\n",
    "          double timeused = (double) (finish - start)/(CLOCKS_PER_SEC );\n",
    "          cout << setiosflags(ios::showpoint | ios::uppercase);\n",
    "          cout << setprecision(10) << setw(20) << \"Time used  for norm computation=\" << timeused  << endl;\n",
    "          cout << \"  Norm-2  = \" << Norm2 << endl;\n",
    "          // Free up space\n",
    "          delete[] a;\n",
    "          delete[] b;\n",
    "          delete[] c;\n",
    "          return 0;\n",
    "        }\n",
    "        \n",
    "        \n",
    "        \n",
    "        \n"
   ]
  },
  {
   "cell_type": "markdown",
   "id": "9a1b4af3",
   "metadata": {
    "editable": true
   },
   "source": [
    "## Compiling with and without vectorization\n",
    "We can compile and link without vectorization using the clang c++ compiler"
   ]
  },
  {
   "cell_type": "markdown",
   "id": "abf3c818",
   "metadata": {
    "editable": true
   },
   "source": [
    "        clang -o novec.x vecexample.cpp\n"
   ]
  },
  {
   "cell_type": "markdown",
   "id": "83daa2ce",
   "metadata": {
    "editable": true
   },
   "source": [
    "and with vectorization (and additional optimizations)"
   ]
  },
  {
   "cell_type": "markdown",
   "id": "66a70567",
   "metadata": {
    "editable": true
   },
   "source": [
    "        clang++ -O3 -Rpass=loop-vectorize -o  vec.x vecexample.cpp \n"
   ]
  },
  {
   "cell_type": "markdown",
   "id": "43328655",
   "metadata": {
    "editable": true
   },
   "source": [
    "The speedup depends on the size of the vectors. In the example here we have run with $10^7$ elements.\n",
    "The example here was run on an IMac17.1 with OSX El Capitan (10.11.4) as operating system and an Intel i5 3.3 GHz CPU."
   ]
  },
  {
   "cell_type": "markdown",
   "id": "cf52e2fa",
   "metadata": {
    "editable": true
   },
   "source": [
    "        Compphys:~ hjensen$ ./vec.x 10000000\n",
    "        Time used  for norm computation=0.04720500000\n",
    "        Compphys:~ hjensen$ ./novec.x 10000000\n",
    "        Time used  for norm computation=0.03311700000\n"
   ]
  },
  {
   "cell_type": "markdown",
   "id": "e2e94c01",
   "metadata": {
    "editable": true
   },
   "source": [
    "This particular C++ compiler speeds up the above loop operations with a factor of 1.5 \n",
    "Performing the same operations for $10^9$ elements results in a smaller speedup since reading from main memory is required. The non-vectorized code is seemingly faster."
   ]
  },
  {
   "cell_type": "markdown",
   "id": "ab087fb4",
   "metadata": {
    "editable": true
   },
   "source": [
    "        Compphys:~ hjensen$ ./vec.x 1000000000\n",
    "        Time used  for norm computation=58.41391100\n",
    "        Compphys:~ hjensen$ ./novec.x 1000000000\n",
    "        Time used  for norm computation=46.51295300\n"
   ]
  },
  {
   "cell_type": "markdown",
   "id": "5759812c",
   "metadata": {
    "editable": true
   },
   "source": [
    "We will discuss these issues further in the next slides."
   ]
  },
  {
   "cell_type": "markdown",
   "id": "46458764",
   "metadata": {
    "editable": true
   },
   "source": [
    "## Compiling with and without vectorization using clang\n",
    "We can compile and link without vectorization with clang compiler"
   ]
  },
  {
   "cell_type": "markdown",
   "id": "994945d1",
   "metadata": {
    "editable": true
   },
   "source": [
    "        clang++ -o -fno-vectorize novec.x vecexample.cpp\n"
   ]
  },
  {
   "cell_type": "markdown",
   "id": "cd94951a",
   "metadata": {
    "editable": true
   },
   "source": [
    "and with vectorization"
   ]
  },
  {
   "cell_type": "markdown",
   "id": "4b9d9883",
   "metadata": {
    "editable": true
   },
   "source": [
    "        clang++ -O3 -Rpass=loop-vectorize -o  vec.x vecexample.cpp \n"
   ]
  },
  {
   "cell_type": "markdown",
   "id": "487ca1c7",
   "metadata": {
    "editable": true
   },
   "source": [
    "We can also add vectorization analysis, see for example"
   ]
  },
  {
   "cell_type": "markdown",
   "id": "b806eff8",
   "metadata": {
    "editable": true
   },
   "source": [
    "        clang++ -O3 -Rpass-analysis=loop-vectorize -o  vec.x vecexample.cpp \n"
   ]
  },
  {
   "cell_type": "markdown",
   "id": "75198063",
   "metadata": {
    "editable": true
   },
   "source": [
    "or figure out if vectorization was missed"
   ]
  },
  {
   "cell_type": "markdown",
   "id": "85b07b6a",
   "metadata": {
    "editable": true
   },
   "source": [
    "        clang++ -O3 -Rpass-missed=loop-vectorize -o  vec.x vecexample.cpp \n"
   ]
  },
  {
   "cell_type": "markdown",
   "id": "f4406cf1",
   "metadata": {
    "editable": true
   },
   "source": [
    "## Automatic vectorization and vectorization inhibitors, criteria\n",
    "\n",
    "Not all loops can be vectorized, as discussed in [Intel's guide to vectorization](https://software.intel.com/en-us/articles/a-guide-to-auto-vectorization-with-intel-c-compilers)\n",
    "\n",
    "An important criteria is that the loop counter $n$ is known at the entry of the loop."
   ]
  },
  {
   "cell_type": "markdown",
   "id": "0e8569ab",
   "metadata": {
    "editable": true
   },
   "source": [
    "          for (int j = 0; j < n; j++) {\n",
    "            a[j] = cos(j*1.0);\n",
    "          }\n"
   ]
  },
  {
   "cell_type": "markdown",
   "id": "4c63ac33",
   "metadata": {
    "editable": true
   },
   "source": [
    "The variable $n$ does need to be known at compile time. However, this variable must stay the same for the entire duration of the loop. It implies that an exit statement inside the loop cannot be data dependent."
   ]
  },
  {
   "cell_type": "markdown",
   "id": "17848295",
   "metadata": {
    "editable": true
   },
   "source": [
    "## Automatic vectorization and vectorization inhibitors, exit criteria\n",
    "\n",
    "An exit statement should in general be avoided. \n",
    "If the exit statement contains data-dependent conditions, the loop cannot be vectorized. \n",
    "The following is an example of a non-vectorizable loop"
   ]
  },
  {
   "cell_type": "markdown",
   "id": "3c162085",
   "metadata": {
    "editable": true
   },
   "source": [
    "          for (int j = 0; j < n; j++) {\n",
    "            a[j] = cos(j*1.0);\n",
    "            if (a[j] < 0 ) break;\n",
    "          }\n"
   ]
  },
  {
   "cell_type": "markdown",
   "id": "eb253a92",
   "metadata": {
    "editable": true
   },
   "source": [
    "Avoid loop termination conditions and opt for a single entry loop variable $n$. The lower and upper bounds have to be kept fixed within the loop."
   ]
  },
  {
   "cell_type": "markdown",
   "id": "82721933",
   "metadata": {
    "editable": true
   },
   "source": [
    "## Automatic vectorization and vectorization inhibitors, straight-line code\n",
    "\n",
    "SIMD instructions perform the same type of operations multiple times. \n",
    "A **switch** statement leads thus to a non-vectorizable loop since different statemens cannot branch.\n",
    "The following code can however be vectorized since the **if** statement is implemented as a masked assignment."
   ]
  },
  {
   "cell_type": "markdown",
   "id": "0522a547",
   "metadata": {
    "editable": true
   },
   "source": [
    "          for (int j = 0; j < n; j++) {\n",
    "            double x  = cos(j*1.0);\n",
    "            if (x > 0 ) {\n",
    "               a[j] =  x*sin(j*2.0); \n",
    "            }\n",
    "            else {\n",
    "               a[j] = 0.0;\n",
    "            }\n",
    "          }\n"
   ]
  },
  {
   "cell_type": "markdown",
   "id": "69afb72a",
   "metadata": {
    "editable": true
   },
   "source": [
    "These operations can be performed for all data elements but only those elements which the mask evaluates as true are stored. In general, one should avoid branches such as **switch**, **go to**, or **return** statements or **if** constructs that cannot be treated as masked assignments."
   ]
  },
  {
   "cell_type": "markdown",
   "id": "1f5b6b5a",
   "metadata": {
    "editable": true
   },
   "source": [
    "## Automatic vectorization and vectorization inhibitors, nested loops\n",
    "\n",
    "Only the innermost loop of the following example is vectorized"
   ]
  },
  {
   "cell_type": "markdown",
   "id": "b75ae5a3",
   "metadata": {
    "editable": true
   },
   "source": [
    "          for (int i = 0; i < n; i++) {\n",
    "              for (int j = 0; j < n; j++) {\n",
    "                   a[i][j] += b[i][j];\n",
    "              }  \n",
    "          }\n"
   ]
  },
  {
   "cell_type": "markdown",
   "id": "ab1df2a5",
   "metadata": {
    "editable": true
   },
   "source": [
    "The exception is if an original outer loop is transformed into an inner loop as the result of compiler optimizations."
   ]
  },
  {
   "cell_type": "markdown",
   "id": "3c729550",
   "metadata": {
    "editable": true
   },
   "source": [
    "## Automatic vectorization and vectorization inhibitors, function calls\n",
    "\n",
    "Calls to programmer defined functions ruin vectorization. However, calls to intrinsic functions like\n",
    "$\\sin{x}$, $\\cos{x}$, $\\exp{x}$ etc are allowed since they are normally efficiently vectorized. \n",
    "The following example is fully vectorizable"
   ]
  },
  {
   "cell_type": "markdown",
   "id": "ca4955c4",
   "metadata": {
    "editable": true
   },
   "source": [
    "          for (int i = 0; i < n; i++) {\n",
    "              a[i] = log10(i)*cos(i);\n",
    "          }\n"
   ]
  },
  {
   "cell_type": "markdown",
   "id": "d67bfbf2",
   "metadata": {
    "editable": true
   },
   "source": [
    "Similarly, **inline** functions defined by the programmer, allow for vectorization since the function statements are glued into the actual place where the function is called."
   ]
  },
  {
   "cell_type": "markdown",
   "id": "16d054e0",
   "metadata": {
    "editable": true
   },
   "source": [
    "## Automatic vectorization and vectorization inhibitors, data dependencies\n",
    "\n",
    "One has to keep in mind that vectorization changes the order of operations inside a loop. A so-called\n",
    "read-after-write statement with an explicit flow dependency cannot be vectorized. The following code"
   ]
  },
  {
   "cell_type": "markdown",
   "id": "0cc5597a",
   "metadata": {
    "editable": true
   },
   "source": [
    "          double b = 15.;\n",
    "          for (int i = 1; i < n; i++) {\n",
    "              a[i] = a[i-1] + b;\n",
    "          }\n"
   ]
  },
  {
   "cell_type": "markdown",
   "id": "40c0d9b7",
   "metadata": {
    "editable": true
   },
   "source": [
    "is an example of flow dependency and results in wrong numerical results if vectorized. For a scalar operation, the value $a[i-1]$ computed during the iteration is loaded into the right-hand side and the results are fine. In vector mode however, with a vector length of four, the values $a[0]$, $a[1]$, $a[2]$ and $a[3]$ from the previous loop will be loaded into the right-hand side and produce wrong results. That is, we have"
   ]
  },
  {
   "cell_type": "markdown",
   "id": "810de375",
   "metadata": {
    "editable": true
   },
   "source": [
    "           a[1] = a[0] + b;\n",
    "           a[2] = a[1] + b;\n",
    "           a[3] = a[2] + b;\n",
    "           a[4] = a[3] + b;\n"
   ]
  },
  {
   "cell_type": "markdown",
   "id": "2f4a6a18",
   "metadata": {
    "editable": true
   },
   "source": [
    "and if the two first iterations are  executed at the same by the SIMD instruction, the value of say $a[1]$ could be used by the second iteration before it has been calculated by the first iteration, leading thereby to wrong results."
   ]
  },
  {
   "cell_type": "markdown",
   "id": "375d976e",
   "metadata": {
    "editable": true
   },
   "source": [
    "## Automatic vectorization and vectorization inhibitors, more data dependencies\n",
    "\n",
    "On the other hand,  a so-called \n",
    "write-after-read statement can be vectorized. The following code"
   ]
  },
  {
   "cell_type": "markdown",
   "id": "1b4eb3dd",
   "metadata": {
    "editable": true
   },
   "source": [
    "          double b = 15.;\n",
    "          for (int i = 1; i < n; i++) {\n",
    "              a[i-1] = a[i] + b;\n",
    "          }\n"
   ]
  },
  {
   "cell_type": "markdown",
   "id": "e74c0ee9",
   "metadata": {
    "editable": true
   },
   "source": [
    "is an example of flow dependency that can be vectorized since no iteration with a higher value of $i$\n",
    "can complete before an iteration with a lower value of $i$. However, such code leads to problems with parallelization."
   ]
  },
  {
   "cell_type": "markdown",
   "id": "d11ad462",
   "metadata": {
    "editable": true
   },
   "source": [
    "## Automatic vectorization and vectorization inhibitors, memory stride\n",
    "\n",
    "For C++ programmers  it is also worth keeping in mind that an array notation is preferred to the more compact use of pointers to access array elements. The compiler can often not tell if it is safe to vectorize the code. \n",
    "\n",
    "When dealing with arrays, you should also avoid memory stride, since this slows down considerably vectorization. When you access array element, write for example the inner loop to vectorize using unit stride, that is, access successively the next array element in memory, as shown here"
   ]
  },
  {
   "cell_type": "markdown",
   "id": "6a5de3c9",
   "metadata": {
    "editable": true
   },
   "source": [
    "          for (int i = 0; i < n; i++) {\n",
    "              for (int j = 0; j < n; j++) {\n",
    "                   a[i][j] += b[i][j];\n",
    "              }  \n",
    "          }\n"
   ]
  },
  {
   "cell_type": "markdown",
   "id": "24f61fa3",
   "metadata": {
    "editable": true
   },
   "source": [
    "## Memory management\n",
    "The main memory contains the program data\n",
    "1. Cache memory contains a copy of the main memory data\n",
    "\n",
    "2. Cache is faster but consumes more space and power. It is normally assumed to be much faster than main memory\n",
    "\n",
    "3. Registers contain working data only\n",
    "\n",
    " * Modern CPUs perform most or all operations only on data in register\n",
    "\n",
    "4. Multiple Cache memories contain a copy of the main memory data\n",
    "\n",
    " * Cache items accessed by their address in main memory\n",
    "\n",
    " * L1 cache is the fastest but has the least capacity\n",
    "\n",
    " * L2, L3 provide intermediate performance/size tradeoffs\n",
    "\n",
    "Loads and stores to memory can be as important as floating point operations when we measure performance."
   ]
  },
  {
   "cell_type": "markdown",
   "id": "6e139356",
   "metadata": {
    "editable": true
   },
   "source": [
    "## Memory and communication\n",
    "\n",
    "1. Most communication in a computer is carried out in chunks, blocks of bytes of data that move together\n",
    "\n",
    "2. In the memory hierarchy, data moves between memory and cache, and between different levels of cache, in groups called lines\n",
    "\n",
    " * Lines are typically 64-128 bytes, or 8-16 double precision words\n",
    "\n",
    " * Even if you do not use the data, it is moved and occupies space in the cache\n",
    "\n",
    "Many of these  performance features are not captured in most programming languages."
   ]
  },
  {
   "cell_type": "markdown",
   "id": "9f801653",
   "metadata": {
    "editable": true
   },
   "source": [
    "## Measuring performance\n",
    "\n",
    "How do we measure performance? What is wrong with this code to time a loop?"
   ]
  },
  {
   "cell_type": "markdown",
   "id": "ab7996e3",
   "metadata": {
    "editable": true
   },
   "source": [
    "          clock_t start, finish;\n",
    "          start = clock();\n",
    "          for (int j = 0; j < i; j++) {\n",
    "            a[j] = b[j]+b[j]*c[j];\n",
    "          }\n",
    "          finish = clock();\n",
    "          double timeused = (double) (finish - start)/(CLOCKS_PER_SEC );\n"
   ]
  },
  {
   "cell_type": "markdown",
   "id": "516ce3a2",
   "metadata": {
    "editable": true
   },
   "source": [
    "## Problems with measuring time\n",
    "1. Timers are not infinitely accurate\n",
    "\n",
    "2. All clocks have a granularity, the minimum time that they can measure\n",
    "\n",
    "3. The error in a time measurement, even if everything is perfect, may be the size of this granularity (sometimes called a clock tick)\n",
    "\n",
    "4. Always know what your clock granularity is\n",
    "\n",
    "5. Ensure that your measurement is for a long enough duration (say 100 times the **tick**)"
   ]
  },
  {
   "cell_type": "markdown",
   "id": "596b03e1",
   "metadata": {
    "editable": true
   },
   "source": [
    "## Problems with cold start\n",
    "\n",
    "What happens when the code is executed? The assumption is that the code is ready to\n",
    "execute. But\n",
    "1. Code may still be on disk, and not even read into memory.\n",
    "\n",
    "2. Data may be in slow memory rather than fast (which may be wrong or right for what you are measuring)\n",
    "\n",
    "3. Multiple tests often necessary to ensure that cold start effects are not present\n",
    "\n",
    "4. Special effort often required to ensure data in the intended part of the memory hierarchy."
   ]
  },
  {
   "cell_type": "markdown",
   "id": "a7825985",
   "metadata": {
    "editable": true
   },
   "source": [
    "## Problems with smart compilers\n",
    "\n",
    "1. If the result of the computation is not used, the compiler may eliminate the code\n",
    "\n",
    "2. Performance will look impossibly fantastic\n",
    "\n",
    "3. Even worse, eliminate some of the code so the performance looks plausible\n",
    "\n",
    "4. Ensure that the results are (or may be) used."
   ]
  },
  {
   "cell_type": "markdown",
   "id": "7200f14f",
   "metadata": {
    "editable": true
   },
   "source": [
    "## Problems with interference\n",
    "1. Other activities are sharing your processor\n",
    "\n",
    "  * Operating system, system demons, other users\n",
    "\n",
    "  * Some parts of the hardware do not always perform with exactly the same performance\n",
    "\n",
    "2. Make multiple tests and report\n",
    "\n",
    "3. Easy choices include\n",
    "\n",
    "  * Average tests represent what users might observe over time"
   ]
  },
  {
   "cell_type": "markdown",
   "id": "852dfb66",
   "metadata": {
    "editable": true
   },
   "source": [
    "## Problems with measuring performance\n",
    "1. Accurate, reproducible performance measurement is hard\n",
    "\n",
    "2. Think carefully about your experiment:\n",
    "\n",
    "3. What is it, precisely, that you want to measure?\n",
    "\n",
    "4. How representative is your test to the situation that you are trying to measure?"
   ]
  },
  {
   "cell_type": "markdown",
   "id": "bcea5877",
   "metadata": {
    "editable": true
   },
   "source": [
    "## Thomas algorithm for tridiagonal linear algebra equations"
   ]
  },
  {
   "cell_type": "markdown",
   "id": "5cf69a29",
   "metadata": {
    "editable": true
   },
   "source": [
    "$$\n",
    "\\left( \\begin{array}{ccccc}\n",
    "        b_0 & c_0 &        &         &         \\\\\n",
    "\ta_0 &  b_1 &  c_1    &         &         \\\\\n",
    "\t   &    & \\ddots  &         &         \\\\\n",
    "\t      &\t    & a_{m-3} & b_{m-2} & c_{m-2} \\\\\n",
    "\t         &    &         & a_{m-2} & b_{m-1}\n",
    "   \\end{array} \\right)\n",
    "\\left( \\begin{array}{c}\n",
    "       x_0     \\\\\n",
    "       x_1     \\\\\n",
    "       \\vdots  \\\\\n",
    "       x_{m-2} \\\\\n",
    "       x_{m-1}\n",
    "   \\end{array} \\right)=\\left( \\begin{array}{c}\n",
    "       f_0     \\\\\n",
    "       f_1     \\\\\n",
    "       \\vdots  \\\\\n",
    "       f_{m-2} \\\\\n",
    "       f_{m-1} \\\\\n",
    "   \\end{array} \\right)\n",
    "$$"
   ]
  },
  {
   "cell_type": "markdown",
   "id": "880fb4d2",
   "metadata": {
    "editable": true
   },
   "source": [
    "## Thomas algorithm, forward substitution\n",
    "The first step is to multiply the first row by $a_0/b_0$ and subtract it from the second row.  This is known as the forward substitution step. We obtain then"
   ]
  },
  {
   "cell_type": "markdown",
   "id": "13b9ec20",
   "metadata": {
    "editable": true
   },
   "source": [
    "$$\n",
    "a_i = 0,\n",
    "$$"
   ]
  },
  {
   "cell_type": "markdown",
   "id": "3c6bb3d0",
   "metadata": {
    "editable": true
   },
   "source": [
    "$$\n",
    "b_i = b_i - \\frac{a_{i-1}}{b_{i-1}}c_{i-1},\n",
    "$$"
   ]
  },
  {
   "cell_type": "markdown",
   "id": "9fad08be",
   "metadata": {
    "editable": true
   },
   "source": [
    "and"
   ]
  },
  {
   "cell_type": "markdown",
   "id": "be88fe54",
   "metadata": {
    "editable": true
   },
   "source": [
    "$$\n",
    "f_i = f_i - \\frac{a_{i-1}}{b_{i-1}}f_{i-1}.\n",
    "$$"
   ]
  },
  {
   "cell_type": "markdown",
   "id": "b3935cf7",
   "metadata": {
    "editable": true
   },
   "source": [
    "At this point the simplified equation, with only an upper triangular matrix takes the form"
   ]
  },
  {
   "cell_type": "markdown",
   "id": "f8150572",
   "metadata": {
    "editable": true
   },
   "source": [
    "$$\n",
    "\\left( \\begin{array}{ccccc}\n",
    "    b_0 & c_0 &        &         &         \\\\\n",
    "       & b_1 &  c_1    &         &         \\\\\n",
    "          &    & \\ddots &         &         \\\\\n",
    "\t     &     &        & b_{m-2} & c_{m-2} \\\\\n",
    "\t        &    &        &         & b_{m-1}\n",
    "   \\end{array} \\right)\\left( \\begin{array}{c}\n",
    "       x_0     \\\\\n",
    "       x_1     \\\\\n",
    "       \\vdots  \\\\\n",
    "       x_{m-2} \\\\\n",
    "       x_{m-1}\n",
    "   \\end{array} \\right)=\\left( \\begin{array}{c}\n",
    "       f_0     \\\\\n",
    "       f_1     \\\\\n",
    "       \\vdots  \\\\\n",
    "       f_{m-2} \\\\\n",
    "       f_{m-1} \\\\\n",
    "   \\end{array} \\right)\n",
    "$$"
   ]
  },
  {
   "cell_type": "markdown",
   "id": "5984a9d1",
   "metadata": {
    "editable": true
   },
   "source": [
    "## Thomas algorithm, backward substitution\n",
    "The next step is  the backward substitution step.  The last row is multiplied by $c_{N-3}/b_{N-2}$ and subtracted from the second to last row, thus eliminating $c_{N-3}$ from the last row.  The general backward substitution procedure is"
   ]
  },
  {
   "cell_type": "markdown",
   "id": "edf18d15",
   "metadata": {
    "editable": true
   },
   "source": [
    "$$\n",
    "c_i = 0,\n",
    "$$"
   ]
  },
  {
   "cell_type": "markdown",
   "id": "04f83216",
   "metadata": {
    "editable": true
   },
   "source": [
    "and"
   ]
  },
  {
   "cell_type": "markdown",
   "id": "aa87f50a",
   "metadata": {
    "editable": true
   },
   "source": [
    "$$\n",
    "f_{i-1} = f_{i-1} - \\frac{c_{i-1}}{b_i}f_i\n",
    "$$"
   ]
  },
  {
   "cell_type": "markdown",
   "id": "adff0d65",
   "metadata": {
    "editable": true
   },
   "source": [
    "All that ramains to be computed is the solution, which is the very straight forward process of"
   ]
  },
  {
   "cell_type": "markdown",
   "id": "7b8bf26e",
   "metadata": {
    "editable": true
   },
   "source": [
    "$$\n",
    "x_i = \\frac{f_i}{b_i}\n",
    "$$"
   ]
  },
  {
   "cell_type": "markdown",
   "id": "4c318fa2",
   "metadata": {
    "editable": true
   },
   "source": [
    "## Thomas algorithm and counting of operations (floating point and memory)\n",
    "\n",
    "We have in specific case the following operations with the floating operations\n",
    "\n",
    "* Memory Reads: $14(N-2)$;\n",
    "\n",
    "* Memory Writes: $4(N-2)$; \n",
    "\n",
    "* Subtractions: $3(N-2)$; \n",
    "\n",
    "* Multiplications: $3(N-2)$;\n",
    "\n",
    "* Divisions: $4(N-2)$."
   ]
  },
  {
   "cell_type": "markdown",
   "id": "cb8a1014",
   "metadata": {
    "editable": true
   },
   "source": [
    "        // Forward substitution    \n",
    "        // Note that we can simplify by precalculating a[i-1]/b[i-1]\n",
    "          for (int i=1; i < n; i++) {\n",
    "             b[i] = b[i] - (a[i-1]*c[i-1])/b[i-1];\n",
    "             f[i] = g[i] - (a[i-1]*f[i-1])/b[i-1];\n",
    "          }\n",
    "          x[n-1] = f[n-1] / b[n-1];\n",
    "          // Backwards substitution                                                           \n",
    "          for (int i = n-2; i >= 0; i--) {\n",
    "             f[i] = f[i] - c[i]*f[i+1]/b[i+1];\n",
    "             x[i] = f[i]/b[i];\n",
    "          }\n"
   ]
  },
  {
   "cell_type": "markdown",
   "id": "53cc5886",
   "metadata": {
    "editable": true
   },
   "source": [
    "## [Example: Transpose of a matrix](https://github.com/CompPhysics/ComputationalPhysicsMSU/blob/master/doc/Programs/LecturePrograms/programs/Classes/cpp/program8.cpp)"
   ]
  },
  {
   "cell_type": "markdown",
   "id": "9e9e6faf",
   "metadata": {
    "editable": true
   },
   "source": [
    "        #include <cstdlib>\n",
    "        #include <iostream>\n",
    "        #include <cmath>\n",
    "        #include <iomanip>\n",
    "        #include \"time.h\"\n",
    "        \n",
    "        using namespace std; // note use of namespace\n",
    "        int main (int argc, char* argv[])\n",
    "        {\n",
    "          // read in dimension of square matrix\n",
    "          int n = atoi(argv[1]);\n",
    "          double **A, **B;\n",
    "          // Allocate space for the two matrices\n",
    "          A = new double*[n]; B = new double*[n];\n",
    "          for (int i = 0; i < n; i++){\n",
    "            A[i] = new double[n];\n",
    "            B[i] = new double[n];\n",
    "          }\n",
    "          // Set up values for matrix A\n",
    "          for (int i = 0; i < n; i++){\n",
    "            for (int j = 0; j < n; j++) {\n",
    "              A[i][j] =  cos(i*1.0)*sin(j*3.0);\n",
    "            }\n",
    "          }\n",
    "          clock_t start, finish;\n",
    "          start = clock();\n",
    "          // Then compute the transpose\n",
    "          for (int i = 0; i < n; i++){\n",
    "            for (int j = 0; j < n; j++) {\n",
    "              B[i][j]= A[j][i];\n",
    "            }\n",
    "          }\n",
    "        \n",
    "          finish = clock();\n",
    "          double timeused = (double) (finish - start)/(CLOCKS_PER_SEC );\n",
    "          cout << setiosflags(ios::showpoint | ios::uppercase);\n",
    "          cout << setprecision(10) << setw(20) << \"Time used  for setting up transpose of matrix=\" << timeused  << endl;\n",
    "        \n",
    "          // Free up space\n",
    "          for (int i = 0; i < n; i++){\n",
    "            delete[] A[i];\n",
    "            delete[] B[i];\n",
    "          }\n",
    "          delete[] A;\n",
    "          delete[] B;\n",
    "          return 0;\n",
    "        }\n",
    "        \n"
   ]
  },
  {
   "cell_type": "markdown",
   "id": "f761c24d",
   "metadata": {
    "editable": true
   },
   "source": [
    "## [Matrix-matrix multiplication](https://github.com/CompPhysics/ComputationalPhysicsMSU/blob/master/doc/Programs/LecturePrograms/programs/Classes/cpp/program9.cpp)\n",
    "This the matrix-matrix multiplication code with plain c++ memory allocation. It computes at the end the Frobenius norm."
   ]
  },
  {
   "cell_type": "markdown",
   "id": "c6b34dfc",
   "metadata": {
    "editable": true
   },
   "source": [
    "        #include <cstdlib>\n",
    "        #include <iostream>\n",
    "        #include <cmath>\n",
    "        #include <iomanip>\n",
    "        #include \"time.h\"\n",
    "        \n",
    "        using namespace std; // note use of namespace\n",
    "        int main (int argc, char* argv[])\n",
    "        {\n",
    "          // read in dimension of square matrix\n",
    "          int n = atoi(argv[1]);\n",
    "          double s = 1.0/sqrt( (double) n);\n",
    "          double **A, **B, **C;\n",
    "          // Start timing\n",
    "          clock_t start, finish;\n",
    "          start = clock();\n",
    "          // Allocate space for the two matrices\n",
    "          A = new double*[n]; B = new double*[n]; C = new double*[n];\n",
    "          for (int i = 0; i < n; i++){\n",
    "            A[i] = new double[n];\n",
    "            B[i] = new double[n];\n",
    "            C[i] = new double[n];\n",
    "          }\n",
    "          // Set up values for matrix A and B and zero matrix C\n",
    "          for (int i = 0; i < n; i++){\n",
    "            for (int j = 0; j < n; j++) {\n",
    "              double angle = 2.0*M_PI*i*j/ (( double ) n);\n",
    "              A[i][j] = s * ( sin ( angle ) + cos ( angle ) );\n",
    "              B[j][i] =  A[i][j];\n",
    "            }\n",
    "          }\n",
    "          // Then perform the matrix-matrix multiplication\n",
    "          for (int i = 0; i < n; i++){\n",
    "            for (int j = 0; j < n; j++) {\n",
    "              double sum = 0.0;\n",
    "               for (int k = 0; k < n; k++) {\n",
    "                   sum += B[i][k]*A[k][j];\n",
    "               }\n",
    "               C[i][j] = sum;\n",
    "            }\n",
    "          }\n",
    "          // Compute now the Frobenius norm\n",
    "          double Fsum = 0.0;\n",
    "          for (int i = 0; i < n; i++){\n",
    "            for (int j = 0; j < n; j++) {\n",
    "              Fsum += C[i][j]*C[i][j];\n",
    "            }\n",
    "          }\n",
    "          Fsum = sqrt(Fsum);\n",
    "          finish = clock();\n",
    "          double timeused = (double) (finish - start)/(CLOCKS_PER_SEC );\n",
    "          cout << setiosflags(ios::showpoint | ios::uppercase);\n",
    "          cout << setprecision(10) << setw(20) << \"Time used  for matrix-matrix multiplication=\" << timeused  << endl;\n",
    "          cout << \"  Frobenius norm  = \" << Fsum << endl;\n",
    "          // Free up space\n",
    "          for (int i = 0; i < n; i++){\n",
    "            delete[] A[i];\n",
    "            delete[] B[i];\n",
    "            delete[] C[i];\n",
    "          }\n",
    "          delete[] A;\n",
    "          delete[] B;\n",
    "          delete[] C;\n",
    "          return 0;\n",
    "        }\n"
   ]
  },
  {
   "cell_type": "markdown",
   "id": "37a102f1",
   "metadata": {
    "editable": true
   },
   "source": [
    "## How do we define speedup? Simplest form\n",
    "* Speedup measures the ratio of performance between two objects\n",
    "\n",
    "* Versions of same code, with different number of processors\n",
    "\n",
    "* Serial and vector versions\n",
    "\n",
    "* Try different programing languages, c++ and Fortran\n",
    "\n",
    "* Two algorithms computing the **same** result"
   ]
  },
  {
   "cell_type": "markdown",
   "id": "bd137cc0",
   "metadata": {
    "editable": true
   },
   "source": [
    "## How do we define speedup? Correct baseline\n",
    "The key is choosing the correct baseline for comparison\n",
    "* For our serial vs. vectorization examples, using compiler-provided vectorization, the baseline is simple; the same code, with vectorization turned off\n",
    "\n",
    " * For parallel applications, this is much harder:\n",
    "\n",
    "  * Choice of algorithm, decomposition, performance of baseline case etc."
   ]
  },
  {
   "cell_type": "markdown",
   "id": "5b3c0a82",
   "metadata": {
    "editable": true
   },
   "source": [
    "## Parallel  speedup\n",
    "For parallel applications, speedup  is typically defined as\n",
    "* Speedup $=T_1/T_p$\n",
    "\n",
    "Here  $T_1$ is the time on one processor and $T_p$ is the time using $p$ processors.\n",
    " * Can the speedup become larger than  $p$? That means using $p$ processors is more than $p$ times faster than using one processor."
   ]
  },
  {
   "cell_type": "markdown",
   "id": "7e476216",
   "metadata": {
    "editable": true
   },
   "source": [
    "## Speedup and memory\n",
    "The speedup on $p$ processors can\n",
    "be greater than $p$ if memory usage is optimal!\n",
    "Consider the case of a memorybound computation with $M$ words of memory\n",
    " * If $M/p$ fits into cache while $M$ does not, the time to access memory will be different in the two cases:\n",
    "\n",
    " * $T_1$ uses the main memory bandwidth\n",
    "\n",
    " * $T_p$ uses the appropriate cache bandwidth"
   ]
  },
  {
   "cell_type": "markdown",
   "id": "42b456b5",
   "metadata": {
    "editable": true
   },
   "source": [
    "## Upper bounds on speedup\n",
    "Assume that almost all parts of a code are perfectly\n",
    "parallelizable (fraction $f$). The remainder,\n",
    "fraction $(1-f)$ cannot be parallelized at all.\n",
    "\n",
    "That is, there is work that takes time $W$ on one process; a fraction $f$ of that work will take\n",
    "time $Wf/p$ on $p$ processors. \n",
    "* What is the maximum possible speedup as a function of $f$?"
   ]
  },
  {
   "cell_type": "markdown",
   "id": "ad7afb2b",
   "metadata": {
    "editable": true
   },
   "source": [
    "## Amdahl's law\n",
    "On one processor we have"
   ]
  },
  {
   "cell_type": "markdown",
   "id": "1e06e481",
   "metadata": {
    "editable": true
   },
   "source": [
    "$$\n",
    "T_1 = (1-f)W + fW = W\n",
    "$$"
   ]
  },
  {
   "cell_type": "markdown",
   "id": "fa8dfdba",
   "metadata": {
    "editable": true
   },
   "source": [
    "On $p$ processors we have"
   ]
  },
  {
   "cell_type": "markdown",
   "id": "83c68842",
   "metadata": {
    "editable": true
   },
   "source": [
    "$$\n",
    "T_p = (1-f)W + \\frac{fW}{p},\n",
    "$$"
   ]
  },
  {
   "cell_type": "markdown",
   "id": "b2ed847f",
   "metadata": {
    "editable": true
   },
   "source": [
    "resulting in a speedup of"
   ]
  },
  {
   "cell_type": "markdown",
   "id": "c5ce502c",
   "metadata": {
    "editable": true
   },
   "source": [
    "$$\n",
    "\\frac{T_1}{T_p} = \\frac{W}{(1-f)W+fW/p}\n",
    "$$"
   ]
  },
  {
   "cell_type": "markdown",
   "id": "b9928a19",
   "metadata": {
    "editable": true
   },
   "source": [
    "As $p$ goes to infinity, $fW/p$ goes to zero, and the maximum speedup is"
   ]
  },
  {
   "cell_type": "markdown",
   "id": "d19b9660",
   "metadata": {
    "editable": true
   },
   "source": [
    "$$\n",
    "\\frac{1}{1-f},\n",
    "$$"
   ]
  },
  {
   "cell_type": "markdown",
   "id": "682d4e5e",
   "metadata": {
    "editable": true
   },
   "source": [
    "meaning that if \n",
    "if $f = 0.99$ (all but $1\\%$ parallelizable), the maximum speedup\n",
    "is $1/(1-.99)=100$!"
   ]
  },
  {
   "cell_type": "markdown",
   "id": "67ed1355",
   "metadata": {
    "editable": true
   },
   "source": [
    "## How much is parallelizable\n",
    "If any non-parallel code slips into the\n",
    "application, the parallel\n",
    "performance is limited. \n",
    "\n",
    "In many simulations, however, the fraction of non-parallelizable work\n",
    "is $10^{-6}$ or less due to large arrays or objects that are perfectly parallelizable."
   ]
  },
  {
   "cell_type": "markdown",
   "id": "dbc1460b",
   "metadata": {
    "editable": true
   },
   "source": [
    "## Today's situation of parallel computing\n",
    "\n",
    "* Distributed memory is the dominant hardware configuration. There is a large diversity in these machines, from  MPP (massively parallel processing) systems to clusters of off-the-shelf PCs, which are very cost-effective.\n",
    "\n",
    "* Message-passing is a mature programming paradigm and widely accepted. It often provides an efficient match to the hardware. It is primarily used for the distributed memory systems, but can also be used on shared memory systems.\n",
    "\n",
    "* Modern nodes have nowadays several cores, which makes it interesting to use both shared memory (the given node) and distributed memory (several nodes with communication). This leads often to codes which use both MPI and OpenMP.\n",
    "\n",
    "Our lectures will focus on both MPI and OpenMP."
   ]
  },
  {
   "cell_type": "markdown",
   "id": "3b55fe4b",
   "metadata": {
    "editable": true
   },
   "source": [
    "## Overhead present in parallel computing\n",
    "\n",
    "* **Uneven load balance**:  not all the processors can perform useful work at all time.\n",
    "\n",
    "* **Overhead of synchronization**\n",
    "\n",
    "* **Overhead of communication**\n",
    "\n",
    "* **Extra computation due to parallelization**\n",
    "\n",
    "Due to the above overhead and that certain parts of a sequential\n",
    "algorithm cannot be parallelized we may not achieve an optimal parallelization."
   ]
  },
  {
   "cell_type": "markdown",
   "id": "bec80e16",
   "metadata": {
    "editable": true
   },
   "source": [
    "## Parallelizing a sequential algorithm\n",
    "\n",
    "* Identify the part(s) of a sequential algorithm that can be  executed in parallel. This is the difficult part,\n",
    "\n",
    "* Distribute the global work and data among $P$ processors."
   ]
  },
  {
   "cell_type": "markdown",
   "id": "36949307",
   "metadata": {
    "editable": true
   },
   "source": [
    "## Strategies\n",
    "* Develop codes locally, run with some few processes and test your codes.  Do benchmarking, timing and so forth on local nodes, for example your laptop or PC. \n",
    "\n",
    "* When you are convinced that your codes run correctly, you can start your production runs on available supercomputers."
   ]
  },
  {
   "cell_type": "markdown",
   "id": "1c187233",
   "metadata": {
    "editable": true
   },
   "source": [
    "## How do I run MPI on a PC/Laptop? MPI\n",
    "To install MPI is rather easy on hardware running unix/linux as operating systems, follow simply the instructions from the [OpenMPI website](https://www.open-mpi.org/). See also subsequent slides.\n",
    "When you have made sure you have installed MPI on your PC/laptop, \n",
    "* Compile with mpicxx/mpic++ or mpif90"
   ]
  },
  {
   "cell_type": "markdown",
   "id": "475b1006",
   "metadata": {
    "editable": true
   },
   "source": [
    "          # Compile and link\n",
    "          mpic++ -O3 -o nameofprog.x nameofprog.cpp\n",
    "          #  run code with for example 8 processes using mpirun/mpiexec\n",
    "          mpiexec -n 8 ./nameofprog.x\n"
   ]
  },
  {
   "cell_type": "markdown",
   "id": "4eadea49",
   "metadata": {
    "editable": true
   },
   "source": [
    "## Can I do it on my own PC/laptop? OpenMP installation\n",
    "If you wish to install MPI and OpenMP \n",
    "on your laptop/PC, we recommend the following:\n",
    "\n",
    "* For OpenMP, the compile option **-fopenmp** is included automatically in recent versions of the C++ compiler and Fortran compilers. For users of different Linux distributions, simply use the available C++ or Fortran compilers and add the above compiler instructions, see also code examples below.\n",
    "\n",
    "* For OS X users however, install **libomp**"
   ]
  },
  {
   "cell_type": "markdown",
   "id": "097f0714",
   "metadata": {
    "editable": true
   },
   "source": [
    "          brew install libomp\n"
   ]
  },
  {
   "cell_type": "markdown",
   "id": "3a714824",
   "metadata": {
    "editable": true
   },
   "source": [
    "and compile and link as"
   ]
  },
  {
   "cell_type": "markdown",
   "id": "00bfd9ac",
   "metadata": {
    "editable": true
   },
   "source": [
    "        c++ -o <name executable> <name program.cpp>  -lomp\n"
   ]
  },
  {
   "cell_type": "markdown",
   "id": "420aa597",
   "metadata": {
    "editable": true
   },
   "source": [
    "## Installing MPI\n",
    "For linux/ubuntu users, you need to install two packages (alternatively use the synaptic package manager)"
   ]
  },
  {
   "cell_type": "markdown",
   "id": "9993af6f",
   "metadata": {
    "editable": true
   },
   "source": [
    "          sudo apt-get install libopenmpi-dev\n",
    "          sudo apt-get install openmpi-bin\n"
   ]
  },
  {
   "cell_type": "markdown",
   "id": "66f78143",
   "metadata": {
    "editable": true
   },
   "source": [
    "For OS X users, install brew (after having installed xcode and gcc, needed for the \n",
    "gfortran compiler of openmpi) and then install with brew"
   ]
  },
  {
   "cell_type": "markdown",
   "id": "71ec6e28",
   "metadata": {
    "editable": true
   },
   "source": [
    "           brew install openmpi\n"
   ]
  },
  {
   "cell_type": "markdown",
   "id": "9aabaa18",
   "metadata": {
    "editable": true
   },
   "source": [
    "When running an executable (code.x), run as"
   ]
  },
  {
   "cell_type": "markdown",
   "id": "3019eb6e",
   "metadata": {
    "editable": true
   },
   "source": [
    "          mpirun -n 10 ./code.x\n"
   ]
  },
  {
   "cell_type": "markdown",
   "id": "8a7747bf",
   "metadata": {
    "editable": true
   },
   "source": [
    "where we indicate that we want  the number of processes to be 10."
   ]
  },
  {
   "cell_type": "markdown",
   "id": "73d7903c",
   "metadata": {
    "editable": true
   },
   "source": [
    "## Installing MPI and using Qt\n",
    "With openmpi installed, when using Qt, add to your .pro file the instructions [here](http://dragly.org/2012/03/14/developing-mpi-applications-in-qt-creator/)\n",
    "\n",
    "You may need to tell Qt where openmpi is stored."
   ]
  },
  {
   "cell_type": "markdown",
   "id": "8b4f6fa0",
   "metadata": {
    "editable": true
   },
   "source": [
    "## What is Message Passing Interface (MPI)?\n",
    "\n",
    "**MPI** is a library, not a language. It specifies the names, calling sequences and results of functions\n",
    "or subroutines to be called from C/C++ or Fortran programs, and the classes and methods that make up the MPI C++\n",
    "library. The programs that users write in Fortran, C or C++ are compiled with ordinary compilers and linked\n",
    "with the MPI library.\n",
    "\n",
    "MPI programs should be able to run\n",
    "on all possible machines and run all MPI implementetations without change.\n",
    "\n",
    "An MPI computation is a collection of processes communicating with messages."
   ]
  },
  {
   "cell_type": "markdown",
   "id": "754dda02",
   "metadata": {
    "editable": true
   },
   "source": [
    "## Going Parallel with MPI\n",
    "**Task parallelism**: the work of a global problem can be divided\n",
    "into a number of independent tasks, which rarely need to synchronize. \n",
    "Monte Carlo simulations or numerical integration are examples of this.\n",
    "\n",
    "MPI is a message-passing library where all the routines\n",
    "have corresponding C/C++-binding"
   ]
  },
  {
   "cell_type": "markdown",
   "id": "b9bffe8e",
   "metadata": {
    "editable": true
   },
   "source": [
    "           MPI_Command_name\n"
   ]
  },
  {
   "cell_type": "markdown",
   "id": "87a1d460",
   "metadata": {
    "editable": true
   },
   "source": [
    "and Fortran-binding (routine names are in uppercase, but can also be in lower case)"
   ]
  },
  {
   "cell_type": "markdown",
   "id": "b18df0e3",
   "metadata": {
    "editable": true
   },
   "source": [
    "           MPI_COMMAND_NAME\n"
   ]
  },
  {
   "cell_type": "markdown",
   "id": "2cdc6106",
   "metadata": {
    "editable": true
   },
   "source": [
    "## MPI is a library\n",
    "MPI is a library specification for the message passing interface,\n",
    "proposed as a standard.\n",
    "\n",
    "* independent of hardware;\n",
    "\n",
    "* not a language or compiler specification;\n",
    "\n",
    "* not a specific implementation or product.\n",
    "\n",
    "A message passing standard for portability and ease-of-use. \n",
    "Designed for high performance.\n",
    "\n",
    "Insert communication and synchronization functions where necessary."
   ]
  },
  {
   "cell_type": "markdown",
   "id": "0992f9d5",
   "metadata": {
    "editable": true
   },
   "source": [
    "## Bindings to MPI routines\n",
    "\n",
    "MPI is a message-passing library where all the routines\n",
    "have corresponding C/C++-binding"
   ]
  },
  {
   "cell_type": "markdown",
   "id": "01fb79ee",
   "metadata": {
    "editable": true
   },
   "source": [
    "           MPI_Command_name\n"
   ]
  },
  {
   "cell_type": "markdown",
   "id": "6ae0db79",
   "metadata": {
    "editable": true
   },
   "source": [
    "and Fortran-binding (routine names are in uppercase, but can also be in lower case)"
   ]
  },
  {
   "cell_type": "markdown",
   "id": "b94f3335",
   "metadata": {
    "editable": true
   },
   "source": [
    "           MPI_COMMAND_NAME\n"
   ]
  },
  {
   "cell_type": "markdown",
   "id": "6621a772",
   "metadata": {
    "editable": true
   },
   "source": [
    "The discussion in these slides focuses on the C++ binding."
   ]
  },
  {
   "cell_type": "markdown",
   "id": "afcb7f95",
   "metadata": {
    "editable": true
   },
   "source": [
    "## Communicator\n",
    "* A group of MPI processes with a name (context).\n",
    "\n",
    "* Any process is identified by its rank. The rank is only meaningful within a particular communicator.\n",
    "\n",
    "* By default the communicator contains all the MPI processes."
   ]
  },
  {
   "cell_type": "markdown",
   "id": "414d1021",
   "metadata": {
    "editable": true
   },
   "source": [
    "          MPI_COMM_WORLD \n"
   ]
  },
  {
   "cell_type": "markdown",
   "id": "9feae72c",
   "metadata": {
    "editable": true
   },
   "source": [
    "* Mechanism to identify subset of processes.\n",
    "\n",
    "* Promotes modular design of parallel libraries."
   ]
  },
  {
   "cell_type": "markdown",
   "id": "0374beae",
   "metadata": {
    "editable": true
   },
   "source": [
    "## Some of the most  important MPI functions\n",
    "\n",
    "* $MPI\\_Init$ - initiate an MPI computation\n",
    "\n",
    "* $MPI\\_Finalize$ - terminate the MPI computation and clean up\n",
    "\n",
    "* $MPI\\_Comm\\_size$ - how many processes participate in a given MPI communicator?\n",
    "\n",
    "* $MPI\\_Comm\\_rank$ - which one am I? (A number between 0 and size-1.)\n",
    "\n",
    "* $MPI\\_Send$ - send a message to a particular process within an MPI communicator\n",
    "\n",
    "* $MPI\\_Recv$ - receive a message from a particular process within an MPI communicator\n",
    "\n",
    "* $MPI\\_reduce$  or $MPI\\_Allreduce$, send and receive messages"
   ]
  },
  {
   "cell_type": "markdown",
   "id": "8f685b7f",
   "metadata": {
    "editable": true
   },
   "source": [
    "## [The first MPI C/C++ program](https://github.com/CompPhysics/ComputationalPhysics2/blob/gh-pages/doc/Programs/LecturePrograms/programs/MPI/chapter07/program2.cpp)\n",
    "\n",
    "Let every process write \"Hello world\" (oh not this program again!!) on the standard output."
   ]
  },
  {
   "cell_type": "markdown",
   "id": "6805577c",
   "metadata": {
    "editable": true
   },
   "source": [
    "        using namespace std;\n",
    "        #include <mpi.h>\n",
    "        #include <iostream>\n",
    "        int main (int nargs, char* args[])\n",
    "        {\n",
    "        int numprocs, my_rank;\n",
    "        //   MPI initializations\n",
    "        MPI_Init (&nargs, &args);\n",
    "        MPI_Comm_size (MPI_COMM_WORLD, &numprocs);\n",
    "        MPI_Comm_rank (MPI_COMM_WORLD, &my_rank);\n",
    "        cout << \"Hello world, I have  rank \" << my_rank << \" out of \" \n",
    "             << numprocs << endl;\n",
    "        //  End MPI\n",
    "        MPI_Finalize ();\n"
   ]
  },
  {
   "cell_type": "markdown",
   "id": "1d4c7e4e",
   "metadata": {
    "editable": true
   },
   "source": [
    "## The Fortran program"
   ]
  },
  {
   "cell_type": "markdown",
   "id": "aa5e3001",
   "metadata": {
    "editable": true
   },
   "source": [
    "        PROGRAM hello\n",
    "        INCLUDE \"mpif.h\"\n",
    "        INTEGER:: size, my_rank, ierr\n",
    "        \n",
    "        CALL  MPI_INIT(ierr)\n",
    "        CALL MPI_COMM_SIZE(MPI_COMM_WORLD, size, ierr)\n",
    "        CALL MPI_COMM_RANK(MPI_COMM_WORLD, my_rank, ierr)\n",
    "        WRITE(*,*)\"Hello world, I've rank \",my_rank,\" out of \",size\n",
    "        CALL MPI_FINALIZE(ierr)\n",
    "        \n",
    "        END PROGRAM hello\n"
   ]
  },
  {
   "cell_type": "markdown",
   "id": "df6897b1",
   "metadata": {
    "editable": true
   },
   "source": [
    "## Note 1\n",
    "\n",
    "* The output to screen is not ordered since all processes are trying to write  to screen simultaneously.\n",
    "\n",
    "* It is the operating system which opts for an ordering.  \n",
    "\n",
    "* If we wish to have an organized output, starting from the first process, we may rewrite our program as in the next example."
   ]
  },
  {
   "cell_type": "markdown",
   "id": "41454433",
   "metadata": {
    "editable": true
   },
   "source": [
    "## [Ordered output with MPIBarrier](https://github.com/CompPhysics/ComputationalPhysics2/blob/gh-pages/doc/Programs/LecturePrograms/programs/MPI/chapter07/program3.cpp)"
   ]
  },
  {
   "cell_type": "markdown",
   "id": "862db1d6",
   "metadata": {
    "editable": true
   },
   "source": [
    "        int main (int nargs, char* args[])\n",
    "        {\n",
    "         int numprocs, my_rank, i;\n",
    "         MPI_Init (&nargs, &args);\n",
    "         MPI_Comm_size (MPI_COMM_WORLD, &numprocs);\n",
    "         MPI_Comm_rank (MPI_COMM_WORLD, &my_rank);\n",
    "         for (i = 0; i < numprocs; i++) {}\n",
    "         MPI_Barrier (MPI_COMM_WORLD);\n",
    "         if (i == my_rank) {\n",
    "         cout << \"Hello world, I have  rank \" << my_rank << \n",
    "                \" out of \" << numprocs << endl;}\n",
    "              MPI_Finalize ();\n"
   ]
  },
  {
   "cell_type": "markdown",
   "id": "f0c2ca04",
   "metadata": {
    "editable": true
   },
   "source": [
    "## Note 2\n",
    "* Here we have used the $MPI\\_Barrier$ function to ensure that that every process has completed  its set of instructions in  a particular order.\n",
    "\n",
    "* A barrier is a special collective operation that does not allow the processes to continue until all processes in the communicator (here $MPI\\_COMM\\_WORLD$) have called $MPI\\_Barrier$. \n",
    "\n",
    "* The barriers make sure that all processes have reached the same point in the code. Many of the collective operations like $MPI\\_ALLREDUCE$ to be discussed later, have the same property; that is, no process can exit the operation until all processes have started. \n",
    "\n",
    "However, this is slightly more time-consuming since the processes synchronize between themselves as many times as there\n",
    "are processes.  In the next Hello world example we use the send and receive functions in order to a have a synchronized\n",
    "action."
   ]
  },
  {
   "cell_type": "markdown",
   "id": "615e089a",
   "metadata": {
    "editable": true
   },
   "source": [
    "## [Ordered output](https://github.com/CompPhysics/ComputationalPhysics2/blob/gh-pages/doc/Programs/LecturePrograms/programs/MPI/chapter07/program4.cpp)"
   ]
  },
  {
   "cell_type": "markdown",
   "id": "1a2c482d",
   "metadata": {
    "editable": true
   },
   "source": [
    "        .....\n",
    "        int numprocs, my_rank, flag;\n",
    "        MPI_Status status;\n",
    "        MPI_Init (&nargs, &args);\n",
    "        MPI_Comm_size (MPI_COMM_WORLD, &numprocs);\n",
    "        MPI_Comm_rank (MPI_COMM_WORLD, &my_rank);\n",
    "        if (my_rank > 0)\n",
    "        MPI_Recv (&flag, 1, MPI_INT, my_rank-1, 100, \n",
    "                   MPI_COMM_WORLD, &status);\n",
    "        cout << \"Hello world, I have  rank \" << my_rank << \" out of \" \n",
    "        << numprocs << endl;\n",
    "        if (my_rank < numprocs-1)\n",
    "        MPI_Send (&my_rank, 1, MPI_INT, my_rank+1, \n",
    "                  100, MPI_COMM_WORLD);\n",
    "        MPI_Finalize ();\n"
   ]
  },
  {
   "cell_type": "markdown",
   "id": "d9a3656c",
   "metadata": {
    "editable": true
   },
   "source": [
    "## Note 3\n",
    "\n",
    "The basic sending of messages is given by the function $MPI\\_SEND$, which in C/C++\n",
    "is defined as"
   ]
  },
  {
   "cell_type": "markdown",
   "id": "dedb9838",
   "metadata": {
    "editable": true
   },
   "source": [
    "        int MPI_Send(void *buf, int count, \n",
    "                     MPI_Datatype datatype, \n",
    "                     int dest, int tag, MPI_Comm comm)}\n"
   ]
  },
  {
   "cell_type": "markdown",
   "id": "d7dfe19f",
   "metadata": {
    "editable": true
   },
   "source": [
    "This single command allows the passing of any kind of variable, even a large array, to any group of tasks. \n",
    "The variable **buf** is the variable we wish to send while **count**\n",
    "is the  number of variables we are passing. If we are passing only a single value, this should be 1. \n",
    "\n",
    "If we transfer an array, it is  the overall size of the array. \n",
    "For example, if we want to send a 10 by 10 array, count would be $10\\times 10=100$ \n",
    "since we are  actually passing 100 values."
   ]
  },
  {
   "cell_type": "markdown",
   "id": "7131432b",
   "metadata": {
    "editable": true
   },
   "source": [
    "## Note 4\n",
    "\n",
    "Once you have  sent a message, you must receive it on another task. The function $MPI\\_RECV$\n",
    "is similar to the send call."
   ]
  },
  {
   "cell_type": "markdown",
   "id": "56b48c62",
   "metadata": {
    "editable": true
   },
   "source": [
    "        int MPI_Recv( void *buf, int count, MPI_Datatype datatype, \n",
    "                    int source, \n",
    "                    int tag, MPI_Comm comm, MPI_Status *status )\n"
   ]
  },
  {
   "cell_type": "markdown",
   "id": "b43b7677",
   "metadata": {
    "editable": true
   },
   "source": [
    "The arguments that are different from those in MPI\\_SEND are\n",
    "**buf** which  is the name of the variable where you will  be storing the received data, \n",
    "**source** which  replaces the destination in the send command. This is the return ID of the sender.\n",
    "\n",
    "Finally,  we have used  $MPI\\_Status\\_status$,  \n",
    "where one can check if the receive was completed.\n",
    "\n",
    "The output of this code is the same as the previous example, but now\n",
    "process 0 sends a message to process 1, which forwards it further\n",
    "to process 2, and so forth."
   ]
  },
  {
   "cell_type": "markdown",
   "id": "fc414650",
   "metadata": {
    "editable": true
   },
   "source": [
    "## [Numerical integration in parallel](https://github.com/CompPhysics/ComputationalPhysics2/blob/gh-pages/doc/Programs/LecturePrograms/programs/MPI/chapter07/program6.cpp)\n",
    "**Integrating $\\pi$.**\n",
    "\n",
    "* The code example computes $\\pi$ using the trapezoidal rules.\n",
    "\n",
    "* The trapezoidal rule"
   ]
  },
  {
   "cell_type": "markdown",
   "id": "1d356b08",
   "metadata": {
    "editable": true
   },
   "source": [
    "$$\n",
    "I=\\int_a^bf(x) dx\\approx h\\left(f(a)/2 + f(a+h) +f(a+2h)+\\dots +f(b-h)+ f(b)/2\\right).\n",
    "$$"
   ]
  },
  {
   "cell_type": "markdown",
   "id": "f8f07ad3",
   "metadata": {
    "editable": true
   },
   "source": [
    "Click [on this link](https://github.com/CompPhysics/ComputationalPhysics2/blob/gh-pages/doc/Programs/LecturePrograms/programs/MPI/chapter07/program6.cpp) for the full program."
   ]
  },
  {
   "cell_type": "markdown",
   "id": "826d3c2a",
   "metadata": {
    "editable": true
   },
   "source": [
    "## Dissection of trapezoidal rule with $MPI\\_reduce$"
   ]
  },
  {
   "cell_type": "markdown",
   "id": "02270b3e",
   "metadata": {
    "editable": true
   },
   "source": [
    "        //    Trapezoidal rule and numerical integration usign MPI\n",
    "        using namespace std;\n",
    "        #include <mpi.h>\n",
    "        #include <iostream>\n",
    "        \n",
    "        //     Here we define various functions called by the main program\n",
    "        \n",
    "        double int_function(double );\n",
    "        double trapezoidal_rule(double , double , int , double (*)(double));\n",
    "        \n",
    "        //   Main function begins here\n",
    "        int main (int nargs, char* args[])\n",
    "        {\n",
    "          int n, local_n, numprocs, my_rank; \n",
    "          double a, b, h, local_a, local_b, total_sum, local_sum;   \n",
    "          double  time_start, time_end, total_time;\n"
   ]
  },
  {
   "cell_type": "markdown",
   "id": "bfd3a16b",
   "metadata": {
    "editable": true
   },
   "source": [
    "## Dissection of trapezoidal rule"
   ]
  },
  {
   "cell_type": "markdown",
   "id": "c3b37628",
   "metadata": {
    "editable": true
   },
   "source": [
    "          //  MPI initializations\n",
    "          MPI_Init (&nargs, &args);\n",
    "          MPI_Comm_size (MPI_COMM_WORLD, &numprocs);\n",
    "          MPI_Comm_rank (MPI_COMM_WORLD, &my_rank);\n",
    "          time_start = MPI_Wtime();\n",
    "          //  Fixed values for a, b and n \n",
    "          a = 0.0 ; b = 1.0;  n = 1000;\n",
    "          h = (b-a)/n;    // h is the same for all processes \n",
    "          local_n = n/numprocs;  \n",
    "          // make sure n > numprocs, else integer division gives zero\n",
    "          // Length of each process' interval of\n",
    "          // integration = local_n*h.  \n",
    "          local_a = a + my_rank*local_n*h;\n",
    "          local_b = local_a + local_n*h;\n"
   ]
  },
  {
   "cell_type": "markdown",
   "id": "c41e688a",
   "metadata": {
    "editable": true
   },
   "source": [
    "## Integrating with **MPI**"
   ]
  },
  {
   "cell_type": "markdown",
   "id": "b93ba037",
   "metadata": {
    "editable": true
   },
   "source": [
    "          total_sum = 0.0;\n",
    "          local_sum = trapezoidal_rule(local_a, local_b, local_n, \n",
    "                                       &int_function); \n",
    "          MPI_Reduce(&local_sum, &total_sum, 1, MPI_DOUBLE, \n",
    "                      MPI_SUM, 0, MPI_COMM_WORLD);\n",
    "          time_end = MPI_Wtime();\n",
    "          total_time = time_end-time_start;\n",
    "          if ( my_rank == 0) {\n",
    "            cout << \"Trapezoidal rule = \" <<  total_sum << endl;\n",
    "            cout << \"Time = \" <<  total_time  \n",
    "                 << \" on number of processors: \"  << numprocs  << endl;\n",
    "          }\n",
    "          // End MPI\n",
    "          MPI_Finalize ();  \n",
    "          return 0;\n",
    "        }  // end of main program\n"
   ]
  },
  {
   "cell_type": "markdown",
   "id": "1542178c",
   "metadata": {
    "editable": true
   },
   "source": [
    "## How do I use $MPI\\_reduce$?\n",
    "\n",
    "Here we have used"
   ]
  },
  {
   "cell_type": "markdown",
   "id": "09b59c6d",
   "metadata": {
    "editable": true
   },
   "source": [
    "        MPI_reduce( void *senddata, void* resultdata, int count, \n",
    "             MPI_Datatype datatype, MPI_Op, int root, MPI_Comm comm)\n"
   ]
  },
  {
   "cell_type": "markdown",
   "id": "54b31cbe",
   "metadata": {
    "editable": true
   },
   "source": [
    "The two variables $senddata$ and $resultdata$ are obvious, besides the fact that one sends the address\n",
    "of the variable or the first element of an array.  If they are arrays they need to have the same size. \n",
    "The variable $count$ represents the total dimensionality, 1 in case of just one variable, \n",
    "while $MPI\\_Datatype$ \n",
    "defines the type of variable which is sent and received.  \n",
    "\n",
    "The new feature is $MPI\\_Op$. It defines the type\n",
    "of operation we want to do."
   ]
  },
  {
   "cell_type": "markdown",
   "id": "e5075d35",
   "metadata": {
    "editable": true
   },
   "source": [
    "## More on $MPI\\_Reduce$\n",
    "In our case, since we are summing\n",
    "the rectangle  contributions from every process we define  $MPI\\_Op = MPI\\_SUM$.\n",
    "If we have an array or matrix we can search for the largest og smallest element by sending either $MPI\\_MAX$ or \n",
    "$MPI\\_MIN$.  If we want the location as well (which array element) we simply transfer \n",
    "$MPI\\_MAXLOC$ or $MPI\\_MINOC$. If we want the product we write $MPI\\_PROD$. \n",
    "\n",
    "$MPI\\_Allreduce$ is defined as"
   ]
  },
  {
   "cell_type": "markdown",
   "id": "dd9633d9",
   "metadata": {
    "editable": true
   },
   "source": [
    "        MPI_Allreduce( void *senddata, void* resultdata, int count, \n",
    "                  MPI_Datatype datatype, MPI_Op, MPI_Comm comm)        \n"
   ]
  },
  {
   "cell_type": "markdown",
   "id": "f670d704",
   "metadata": {
    "editable": true
   },
   "source": [
    "## Dissection of trapezoidal rule\n",
    "\n",
    "We use $MPI\\_reduce$ to collect data from each process. Note also the use of the function \n",
    "$MPI\\_Wtime$."
   ]
  },
  {
   "cell_type": "markdown",
   "id": "28cdeec3",
   "metadata": {
    "editable": true
   },
   "source": [
    "        //  this function defines the function to integrate\n",
    "        double int_function(double x)\n",
    "        {\n",
    "          double value = 4./(1.+x*x);\n",
    "          return value;\n",
    "        } // end of function to evaluate\n",
    "        \n"
   ]
  },
  {
   "cell_type": "markdown",
   "id": "9f263d87",
   "metadata": {
    "editable": true
   },
   "source": [
    "## Dissection of trapezoidal rule"
   ]
  },
  {
   "cell_type": "markdown",
   "id": "40d0e159",
   "metadata": {
    "editable": true
   },
   "source": [
    "        //  this function defines the trapezoidal rule\n",
    "        double trapezoidal_rule(double a, double b, int n, \n",
    "                                 double (*func)(double))\n",
    "        {\n",
    "          double trapez_sum;\n",
    "          double fa, fb, x, step;\n",
    "          int    j;\n",
    "          step=(b-a)/((double) n);\n",
    "          fa=(*func)(a)/2. ;\n",
    "          fb=(*func)(b)/2. ;\n",
    "          trapez_sum=0.;\n",
    "          for (j=1; j <= n-1; j++){\n",
    "            x=j*step+a;\n",
    "            trapez_sum+=(*func)(x);\n",
    "          }\n",
    "          trapez_sum=(trapez_sum+fb+fa)*step;\n",
    "          return trapez_sum;\n",
    "        }  // end trapezoidal_rule \n"
   ]
  },
  {
   "cell_type": "markdown",
   "id": "aed0584f",
   "metadata": {
    "editable": true
   },
   "source": [
    "## [The quantum dot program for two electrons](https://github.com/CompPhysics/ComputationalPhysics2/blob/master/doc/Programs/ParallelizationMPI/MPIvmcqdot.cpp)"
   ]
  },
  {
   "cell_type": "markdown",
   "id": "636f6f6d",
   "metadata": {
    "editable": true
   },
   "source": [
    "        // Variational Monte Carlo for atoms with importance sampling, slater det\n",
    "        // Test case for 2-electron quantum dot, no classes using Mersenne-Twister RNG\n",
    "        #include \"mpi.h\"\n",
    "        #include <cmath>\n",
    "        #include <random>\n",
    "        #include <string>\n",
    "        #include <iostream>\n",
    "        #include <fstream>\n",
    "        #include <iomanip>\n",
    "        #include \"vectormatrixclass.h\"\n",
    "        \n",
    "        using namespace  std;\n",
    "        // output file as global variable\n",
    "        ofstream ofile;  \n",
    "        // the step length and its squared inverse for the second derivative \n",
    "        //  Here we define global variables  used in various functions\n",
    "        //  These can be changed by using classes\n",
    "        int Dimension = 2; \n",
    "        int NumberParticles  = 2;  //  we fix also the number of electrons to be 2\n",
    "        \n",
    "        // declaration of functions \n",
    "        \n",
    "        // The Mc sampling for the variational Monte Carlo \n",
    "        void  MonteCarloSampling(int, double &, double &, Vector &);\n",
    "        \n",
    "        // The variational wave function\n",
    "        double  WaveFunction(Matrix &, Vector &);\n",
    "        \n",
    "        // The local energy \n",
    "        double  LocalEnergy(Matrix &, Vector &);\n",
    "        \n",
    "        // The quantum force\n",
    "        void  QuantumForce(Matrix &, Matrix &, Vector &);\n",
    "        \n",
    "        \n",
    "        // inline function for single-particle wave function\n",
    "        inline double SPwavefunction(double r, double alpha) { \n",
    "           return exp(-alpha*r*0.5);\n",
    "        }\n",
    "        \n",
    "        // inline function for derivative of single-particle wave function\n",
    "        inline double DerivativeSPwavefunction(double r, double alpha) { \n",
    "          return -r*alpha;\n",
    "        }\n",
    "        \n",
    "        // function for absolute value of relative distance\n",
    "        double RelativeDistance(Matrix &r, int i, int j) { \n",
    "              double r_ij = 0;  \n",
    "              for (int k = 0; k < Dimension; k++) { \n",
    "        \tr_ij += (r(i,k)-r(j,k))*(r(i,k)-r(j,k));\n",
    "              }\n",
    "              return sqrt(r_ij); \n",
    "        }\n",
    "        \n",
    "        // inline function for derivative of Jastrow factor\n",
    "        inline double JastrowDerivative(Matrix &r, double beta, int i, int j, int k){\n",
    "          return (r(i,k)-r(j,k))/(RelativeDistance(r, i, j)*pow(1.0+beta*RelativeDistance(r, i, j),2));\n",
    "        }\n",
    "        \n",
    "        // function for square of position of single particle\n",
    "        double singleparticle_pos2(Matrix &r, int i) { \n",
    "            double r_single_particle = 0;\n",
    "            for (int j = 0; j < Dimension; j++) { \n",
    "              r_single_particle  += r(i,j)*r(i,j);\n",
    "            }\n",
    "            return r_single_particle;\n",
    "        }\n",
    "        \n",
    "        void lnsrch(int n, Vector &xold, double fold, Vector &g, Vector &p, Vector &x,\n",
    "        \t\t double *f, double stpmax, int *check, double (*func)(Vector &p));\n",
    "        \n",
    "        void dfpmin(Vector &p, int n, double gtol, int *iter, double *fret,\n",
    "        \t    double(*func)(Vector &p), void (*dfunc)(Vector &p, Vector &g));\n",
    "        \n",
    "        static double sqrarg;\n",
    "        #define SQR(a) ((sqrarg=(a)) == 0.0 ? 0.0 : sqrarg*sqrarg)\n",
    "        \n",
    "        \n",
    "        static double maxarg1,maxarg2;\n",
    "        #define FMAX(a,b) (maxarg1=(a),maxarg2=(b),(maxarg1) > (maxarg2) ?\\\n",
    "                (maxarg1) : (maxarg2))\n",
    "        \n",
    "        \n",
    "        // Begin of main program   \n",
    "        \n",
    "        int main(int argc, char* argv[])\n",
    "        {\n",
    "        \n",
    "          //  MPI initializations\n",
    "          int NumberProcesses, MyRank, NumberMCsamples;\n",
    "          MPI_Init (&argc, &argv);\n",
    "          MPI_Comm_size (MPI_COMM_WORLD, &NumberProcesses);\n",
    "          MPI_Comm_rank (MPI_COMM_WORLD, &MyRank);\n",
    "          double StartTime = MPI_Wtime();\n",
    "          if (MyRank == 0 && argc <= 1) {\n",
    "            cout << \"Bad Usage: \" << argv[0] << \n",
    "              \" Read also output file on same line and number of Monte Carlo cycles\" << endl;\n",
    "          }\n",
    "          // Read filename and number of Monte Carlo cycles from the command line\n",
    "          if (MyRank == 0 && argc > 2) {\n",
    "            string filename = argv[1]; // first command line argument after name of program\n",
    "            NumberMCsamples  = atoi(argv[2]);\n",
    "            string fileout = filename;\n",
    "            string argument = to_string(NumberMCsamples);\n",
    "            // Final filename as filename+NumberMCsamples\n",
    "            fileout.append(argument);\n",
    "            ofile.open(fileout);\n",
    "          }\n",
    "          // broadcast the number of  Monte Carlo samples\n",
    "          MPI_Bcast (&NumberMCsamples, 1, MPI_INT, 0, MPI_COMM_WORLD);\n",
    "          // Two variational parameters only\n",
    "          Vector VariationalParameters(2);\n",
    "          int TotalNumberMCsamples = NumberMCsamples*NumberProcesses; \n",
    "          // Loop over variational parameters\n",
    "          for (double alpha = 0.5; alpha <= 1.5; alpha +=0.1){\n",
    "            for (double beta = 0.1; beta <= 0.5; beta +=0.05){\n",
    "              VariationalParameters(0) = alpha;  // value of alpha\n",
    "              VariationalParameters(1) = beta;  // value of beta\n",
    "              //  Do the mc sampling  and accumulate data with MPI_Reduce\n",
    "              double TotalEnergy, TotalEnergySquared, LocalProcessEnergy, LocalProcessEnergy2;\n",
    "              LocalProcessEnergy = LocalProcessEnergy2 = 0.0;\n",
    "              MonteCarloSampling(NumberMCsamples, LocalProcessEnergy, LocalProcessEnergy2, VariationalParameters);\n",
    "              //  Collect data in total averages\n",
    "              MPI_Reduce(&LocalProcessEnergy, &TotalEnergy, 1, MPI_DOUBLE, MPI_SUM, 0, MPI_COMM_WORLD);\n",
    "              MPI_Reduce(&LocalProcessEnergy2, &TotalEnergySquared, 1, MPI_DOUBLE, MPI_SUM, 0, MPI_COMM_WORLD);\n",
    "              // Print out results  in case of Master node, set to MyRank = 0\n",
    "              if ( MyRank == 0) {\n",
    "        \tdouble Energy = TotalEnergy/( (double)NumberProcesses);\n",
    "        \tdouble Variance = TotalEnergySquared/( (double)NumberProcesses)-Energy*Energy;\n",
    "        \tdouble StandardDeviation = sqrt(Variance/((double)TotalNumberMCsamples)); // over optimistic error\n",
    "        \tofile << setiosflags(ios::showpoint | ios::uppercase);\n",
    "        \tofile << setw(15) << setprecision(8) << VariationalParameters(0);\n",
    "        \tofile << setw(15) << setprecision(8) << VariationalParameters(1);\n",
    "        \tofile << setw(15) << setprecision(8) << Energy;\n",
    "        \tofile << setw(15) << setprecision(8) << Variance;\n",
    "        \tofile << setw(15) << setprecision(8) << StandardDeviation << endl;\n",
    "              }\n",
    "            }\n",
    "          }\n",
    "          double EndTime = MPI_Wtime();\n",
    "          double TotalTime = EndTime-StartTime;\n",
    "          if ( MyRank == 0 )  cout << \"Time = \" <<  TotalTime  << \" on number of processors: \"  << NumberProcesses  << endl;\n",
    "          if (MyRank == 0)  ofile.close();  // close output file\n",
    "          // End MPI\n",
    "          MPI_Finalize ();  \n",
    "          return 0;\n",
    "        }  //  end of main function\n",
    "        \n",
    "        \n",
    "        // Monte Carlo sampling with the Metropolis algorithm  \n",
    "        \n",
    "        void MonteCarloSampling(int NumberMCsamples, double &cumulative_e, double &cumulative_e2, Vector &VariationalParameters)\n",
    "        {\n",
    "        \n",
    "         // Initialize the seed and call the Mersienne algo\n",
    "          std::random_device rd;\n",
    "          std::mt19937_64 gen(rd());\n",
    "          // Set up the uniform distribution for x \\in [[0, 1]\n",
    "          std::uniform_real_distribution<double> UniformNumberGenerator(0.0,1.0);\n",
    "          std::normal_distribution<double> Normaldistribution(0.0,1.0);\n",
    "          // diffusion constant from Schroedinger equation\n",
    "          double D = 0.5; \n",
    "          double timestep = 0.05;  //  we fix the time step  for the gaussian deviate\n",
    "          // allocate matrices which contain the position of the particles  \n",
    "          Matrix OldPosition( NumberParticles, Dimension), NewPosition( NumberParticles, Dimension);\n",
    "          Matrix OldQuantumForce(NumberParticles, Dimension), NewQuantumForce(NumberParticles, Dimension);\n",
    "          double Energy = 0.0; double EnergySquared = 0.0; double DeltaE = 0.0;\n",
    "          //  initial trial positions\n",
    "          for (int i = 0; i < NumberParticles; i++) { \n",
    "            for (int j = 0; j < Dimension; j++) {\n",
    "              OldPosition(i,j) = Normaldistribution(gen)*sqrt(timestep);\n",
    "            }\n",
    "          }\n",
    "          double OldWaveFunction = WaveFunction(OldPosition, VariationalParameters);\n",
    "          QuantumForce(OldPosition, OldQuantumForce, VariationalParameters);\n",
    "          // loop over monte carlo cycles \n",
    "          for (int cycles = 1; cycles <= NumberMCsamples; cycles++){ \n",
    "            // new position \n",
    "            for (int i = 0; i < NumberParticles; i++) { \n",
    "              for (int j = 0; j < Dimension; j++) {\n",
    "        \t// gaussian deviate to compute new positions using a given timestep\n",
    "        \tNewPosition(i,j) = OldPosition(i,j) + Normaldistribution(gen)*sqrt(timestep)+OldQuantumForce(i,j)*timestep*D;\n",
    "        \t//\tNewPosition(i,j) = OldPosition(i,j) + gaussian_deviate(&idum)*sqrt(timestep)+OldQuantumForce(i,j)*timestep*D;\n",
    "              }  \n",
    "              //  for the other particles we need to set the position to the old position since\n",
    "              //  we move only one particle at the time\n",
    "              for (int k = 0; k < NumberParticles; k++) {\n",
    "        \tif ( k != i) {\n",
    "        \t  for (int j = 0; j < Dimension; j++) {\n",
    "        \t    NewPosition(k,j) = OldPosition(k,j);\n",
    "        \t  }\n",
    "        \t} \n",
    "              }\n",
    "              double NewWaveFunction = WaveFunction(NewPosition, VariationalParameters); \n",
    "              QuantumForce(NewPosition, NewQuantumForce, VariationalParameters);\n",
    "              //  we compute the log of the ratio of the greens functions to be used in the \n",
    "              //  Metropolis-Hastings algorithm\n",
    "              double GreensFunction = 0.0;            \n",
    "              for (int j = 0; j < Dimension; j++) {\n",
    "        \tGreensFunction += 0.5*(OldQuantumForce(i,j)+NewQuantumForce(i,j))*\n",
    "        \t  (D*timestep*0.5*(OldQuantumForce(i,j)-NewQuantumForce(i,j))-NewPosition(i,j)+OldPosition(i,j));\n",
    "              }\n",
    "              GreensFunction = exp(GreensFunction);\n",
    "              // The Metropolis test is performed by moving one particle at the time\n",
    "              if(UniformNumberGenerator(gen) <= GreensFunction*NewWaveFunction*NewWaveFunction/OldWaveFunction/OldWaveFunction ) { \n",
    "        \tfor (int  j = 0; j < Dimension; j++) {\n",
    "        \t  OldPosition(i,j) = NewPosition(i,j);\n",
    "        \t  OldQuantumForce(i,j) = NewQuantumForce(i,j);\n",
    "        \t}\n",
    "        \tOldWaveFunction = NewWaveFunction;\n",
    "              }\n",
    "            }  //  end of loop over particles\n",
    "            // compute local energy  \n",
    "            double DeltaE = LocalEnergy(OldPosition, VariationalParameters);\n",
    "            // update energies\n",
    "            Energy += DeltaE;\n",
    "            EnergySquared += DeltaE*DeltaE;\n",
    "          }   // end of loop over MC trials   \n",
    "          // update the energy average and its squared \n",
    "          cumulative_e = Energy/NumberMCsamples;\n",
    "          cumulative_e2 = EnergySquared/NumberMCsamples;\n",
    "        }   // end MonteCarloSampling function  \n",
    "        \n",
    "        \n",
    "        // Function to compute the squared wave function and the quantum force\n",
    "        \n",
    "        double  WaveFunction(Matrix &r, Vector &VariationalParameters)\n",
    "        {\n",
    "          double wf = 0.0;\n",
    "          // full Slater determinant for two particles, replace with Slater det for more particles \n",
    "          wf  = SPwavefunction(singleparticle_pos2(r, 0), VariationalParameters(0))*SPwavefunction(singleparticle_pos2(r, 1),VariationalParameters(0));\n",
    "          // contribution from Jastrow factor\n",
    "          for (int i = 0; i < NumberParticles-1; i++) { \n",
    "            for (int j = i+1; j < NumberParticles; j++) {\n",
    "              wf *= exp(RelativeDistance(r, i, j)/((1.0+VariationalParameters(1)*RelativeDistance(r, i, j))));\n",
    "            }\n",
    "          }\n",
    "          return wf;\n",
    "        }\n",
    "        \n",
    "        // Function to calculate the local energy without numerical derivation of kinetic energy\n",
    "        \n",
    "        double  LocalEnergy(Matrix &r, Vector &VariationalParameters)\n",
    "        {\n",
    "        \n",
    "          // compute the kinetic and potential energy from the single-particle part\n",
    "          // for a many-electron system this has to be replaced by a Slater determinant\n",
    "          // The absolute value of the interparticle length\n",
    "          Matrix length( NumberParticles, NumberParticles);\n",
    "          // Set up interparticle distance\n",
    "          for (int i = 0; i < NumberParticles-1; i++) { \n",
    "            for(int j = i+1; j < NumberParticles; j++){\n",
    "              length(i,j) = RelativeDistance(r, i, j);\n",
    "              length(j,i) =  length(i,j);\n",
    "            }\n",
    "          }\n",
    "          double KineticEnergy = 0.0;\n",
    "          // Set up kinetic energy from Slater and Jastrow terms\n",
    "          for (int i = 0; i < NumberParticles; i++) { \n",
    "            for (int k = 0; k < Dimension; k++) {\n",
    "              double sum1 = 0.0; \n",
    "              for(int j = 0; j < NumberParticles; j++){\n",
    "        \tif ( j != i) {\n",
    "        \t  sum1 += JastrowDerivative(r, VariationalParameters(1), i, j, k);\n",
    "        \t}\n",
    "              }\n",
    "              KineticEnergy += (sum1+DerivativeSPwavefunction(r(i,k),VariationalParameters(0)))*(sum1+DerivativeSPwavefunction(r(i,k),VariationalParameters(0)));\n",
    "            }\n",
    "          }\n",
    "          KineticEnergy += -2*VariationalParameters(0)*NumberParticles;\n",
    "          for (int i = 0; i < NumberParticles-1; i++) {\n",
    "              for (int j = i+1; j < NumberParticles; j++) {\n",
    "                KineticEnergy += 2.0/(pow(1.0 + VariationalParameters(1)*length(i,j),2))*(1.0/length(i,j)-2*VariationalParameters(1)/(1+VariationalParameters(1)*length(i,j)) );\n",
    "              }\n",
    "          }\n",
    "          KineticEnergy *= -0.5;\n",
    "          // Set up potential energy, external potential + eventual electron-electron repulsion\n",
    "          double PotentialEnergy = 0;\n",
    "          for (int i = 0; i < NumberParticles; i++) { \n",
    "            double DistanceSquared = singleparticle_pos2(r, i);\n",
    "            PotentialEnergy += 0.5*DistanceSquared;  // sp energy HO part, note it has the oscillator frequency set to 1!\n",
    "          }\n",
    "          // Add the electron-electron repulsion\n",
    "          for (int i = 0; i < NumberParticles-1; i++) { \n",
    "            for (int j = i+1; j < NumberParticles; j++) {\n",
    "              PotentialEnergy += 1.0/length(i,j);          \n",
    "            }\n",
    "          }\n",
    "          double LocalE = KineticEnergy+PotentialEnergy;\n",
    "          return LocalE;\n",
    "        }\n",
    "        \n",
    "        // Compute the analytical expression for the quantum force\n",
    "        void  QuantumForce(Matrix &r, Matrix &qforce, Vector &VariationalParameters)\n",
    "        {\n",
    "          // compute the first derivative \n",
    "          for (int i = 0; i < NumberParticles; i++) {\n",
    "            for (int k = 0; k < Dimension; k++) {\n",
    "              // single-particle part, replace with Slater det for larger systems\n",
    "              double sppart = DerivativeSPwavefunction(r(i,k),VariationalParameters(0));\n",
    "              //  Jastrow factor contribution\n",
    "              double Jsum = 0.0;\n",
    "              for (int j = 0; j < NumberParticles; j++) {\n",
    "        \tif ( j != i) {\n",
    "        \t  Jsum += JastrowDerivative(r, VariationalParameters(1), i, j, k);\n",
    "        \t}\n",
    "              }\n",
    "              qforce(i,k) = 2.0*(Jsum+sppart);\n",
    "            }\n",
    "          }\n",
    "        } // end of QuantumForce function\n",
    "        \n",
    "        \n",
    "        #define ITMAX 200\n",
    "        #define EPS 3.0e-8\n",
    "        #define TOLX (4*EPS)\n",
    "        #define STPMX 100.0\n",
    "        \n",
    "        void dfpmin(Vector &p, int n, double gtol, int *iter, double *fret,\n",
    "        \t    double(*func)(Vector &p), void (*dfunc)(Vector &p, Vector &g))\n",
    "        {\n",
    "        \n",
    "          int check,i,its,j;\n",
    "          double den,fac,fad,fae,fp,stpmax,sum=0.0,sumdg,sumxi,temp,test;\n",
    "          Vector dg(n), g(n), hdg(n), pnew(n), xi(n);\n",
    "          Matrix hessian(n,n);\n",
    "        \n",
    "          fp=(*func)(p);\n",
    "          (*dfunc)(p,g);\n",
    "          for (i = 0;i < n;i++) {\n",
    "            for (j = 0; j< n;j++) hessian(i,j)=0.0;\n",
    "            hessian(i,i)=1.0;\n",
    "            xi(i) = -g(i);\n",
    "            sum += p(i)*p(i);\n",
    "          }\n",
    "          stpmax=STPMX*FMAX(sqrt(sum),(double)n);\n",
    "          for (its=1;its<=ITMAX;its++) {\n",
    "            *iter=its;\n",
    "            lnsrch(n,p,fp,g,xi,pnew,fret,stpmax,&check,func);\n",
    "            fp = *fret;\n",
    "            for (i = 0; i< n;i++) {\n",
    "              xi(i)=pnew(i)-p(i);\n",
    "              p(i)=pnew(i);\n",
    "            }\n",
    "            test=0.0;\n",
    "            for (i = 0;i< n;i++) {\n",
    "              temp=fabs(xi(i))/FMAX(fabs(p(i)),1.0);\n",
    "              if (temp > test) test=temp;\n",
    "            }\n",
    "            if (test < TOLX) {\n",
    "              return;\n",
    "            }\n",
    "            for (i=0;i<n;i++) dg(i)=g(i);\n",
    "            (*dfunc)(p,g);\n",
    "            test=0.0;\n",
    "            den=FMAX(*fret,1.0);\n",
    "            for (i=0;i<n;i++) {\n",
    "              temp=fabs(g(i))*FMAX(fabs(p(i)),1.0)/den;\n",
    "              if (temp > test) test=temp;\n",
    "            }\n",
    "            if (test < gtol) {\n",
    "              return;\n",
    "            }\n",
    "            for (i=0;i<n;i++) dg(i)=g(i)-dg(i);\n",
    "            for (i=0;i<n;i++) {\n",
    "              hdg(i)=0.0;\n",
    "              for (j=0;j<n;j++) hdg(i) += hessian(i,j)*dg(j);\n",
    "            }\n",
    "            fac=fae=sumdg=sumxi=0.0;\n",
    "            for (i=0;i<n;i++) {\n",
    "              fac += dg(i)*xi(i);\n",
    "              fae += dg(i)*hdg(i);\n",
    "              sumdg += SQR(dg(i));\n",
    "              sumxi += SQR(xi(i));\n",
    "            }\n",
    "            if (fac*fac > EPS*sumdg*sumxi) {\n",
    "              fac=1.0/fac;\n",
    "              fad=1.0/fae;\n",
    "              for (i=0;i<n;i++) dg(i)=fac*xi(i)-fad*hdg(i);\n",
    "              for (i=0;i<n;i++) {\n",
    "        \tfor (j=0;j<n;j++) {\n",
    "        \t  hessian(i,j) += fac*xi(i)*xi(j)\n",
    "        \t    -fad*hdg(i)*hdg(j)+fae*dg(i)*dg(j);\n",
    "        \t}\n",
    "              }\n",
    "            }\n",
    "            for (i=0;i<n;i++) {\n",
    "              xi(i)=0.0;\n",
    "              for (j=0;j<n;j++) xi(i) -= hessian(i,j)*g(j);\n",
    "            }\n",
    "          }\n",
    "          cout << \"too many iterations in dfpmin\" << endl;\n",
    "        }\n",
    "        #undef ITMAX\n",
    "        #undef EPS\n",
    "        #undef TOLX\n",
    "        #undef STPMX\n",
    "        \n",
    "        #define ALF 1.0e-4\n",
    "        #define TOLX 1.0e-7\n",
    "        \n",
    "        void lnsrch(int n, Vector &xold, double fold, Vector &g, Vector &p, Vector &x,\n",
    "        \t    double *f, double stpmax, int *check, double (*func)(Vector &p))\n",
    "        {\n",
    "          int i;\n",
    "          double a,alam,alam2,alamin,b,disc,f2,fold2,rhs1,rhs2,slope,sum,temp,\n",
    "            test,tmplam;\n",
    "        \n",
    "          *check=0;\n",
    "          for (sum=0.0,i=0;i<n;i++) sum += p(i)*p(i);\n",
    "          sum=sqrt(sum);\n",
    "          if (sum > stpmax)\n",
    "            for (i=0;i<n;i++) p(i) *= stpmax/sum;\n",
    "          for (slope=0.0,i=0;i<n;i++)\n",
    "            slope += g(i)*p(i);\n",
    "          test=0.0;\n",
    "          for (i=0;i<n;i++) {\n",
    "            temp=fabs(p(i))/FMAX(fabs(xold(i)),1.0);\n",
    "            if (temp > test) test=temp;\n",
    "          }\n",
    "          alamin=TOLX/test;\n",
    "          alam=1.0;\n",
    "          for (;;) {\n",
    "            for (i=0;i<n;i++) x(i)=xold(i)+alam*p(i);\n",
    "            *f=(*func)(x);\n",
    "            if (alam < alamin) {\n",
    "              for (i=0;i<n;i++) x(i)=xold(i);\n",
    "              *check=1;\n",
    "              return;\n",
    "            } else if (*f <= fold+ALF*alam*slope) return;\n",
    "            else {\n",
    "              if (alam == 1.0)\n",
    "        \ttmplam = -slope/(2.0*(*f-fold-slope));\n",
    "              else {\n",
    "        \trhs1 = *f-fold-alam*slope;\n",
    "        \trhs2=f2-fold2-alam2*slope;\n",
    "        \ta=(rhs1/(alam*alam)-rhs2/(alam2*alam2))/(alam-alam2);\n",
    "        \tb=(-alam2*rhs1/(alam*alam)+alam*rhs2/(alam2*alam2))/(alam-alam2);\n",
    "        \tif (a == 0.0) tmplam = -slope/(2.0*b);\n",
    "        \telse {\n",
    "        \t  disc=b*b-3.0*a*slope;\n",
    "        \t  if (disc<0.0) cout << \"Roundoff problem in lnsrch.\" << endl;\n",
    "        \t  else tmplam=(-b+sqrt(disc))/(3.0*a);\n",
    "        \t}\n",
    "        \tif (tmplam>0.5*alam)\n",
    "        \t  tmplam=0.5*alam;\n",
    "              }\n",
    "            }\n",
    "            alam2=alam;\n",
    "            f2 = *f;\n",
    "            fold2=fold;\n",
    "            alam=FMAX(tmplam,0.1*alam);\n",
    "          }\n",
    "        }\n",
    "        #undef ALF\n",
    "        #undef TOLX\n",
    "        \n"
   ]
  },
  {
   "cell_type": "markdown",
   "id": "7fba47e1",
   "metadata": {
    "editable": true
   },
   "source": [
    "## What is OpenMP\n",
    "* OpenMP provides high-level thread programming\n",
    "\n",
    "* Multiple cooperating threads are allowed to run simultaneously\n",
    "\n",
    "* Threads are created and destroyed dynamically in a fork-join pattern\n",
    "\n",
    "   * An OpenMP program consists of a number of parallel regions\n",
    "\n",
    "   * Between two parallel regions there is only one master thread\n",
    "\n",
    "   * In the beginning of a parallel region, a team of new threads is spawned\n",
    "\n",
    "  * The newly spawned threads work simultaneously with the master thread\n",
    "\n",
    "  * At the end of a parallel region, the new threads are destroyed\n",
    "\n",
    "Many good tutorials online and excellent textbook\n",
    "1. [Using OpenMP, by B. Chapman, G. Jost, and A. van der Pas](http://mitpress.mit.edu/books/using-openmp)\n",
    "\n",
    "2. Many tutorials online like [OpenMP official site](http://www.openmp.org)"
   ]
  },
  {
   "cell_type": "markdown",
   "id": "ec78f811",
   "metadata": {
    "editable": true
   },
   "source": [
    "## Getting started, things to remember\n",
    " * Remember the header file"
   ]
  },
  {
   "cell_type": "markdown",
   "id": "c6a64751",
   "metadata": {
    "editable": true
   },
   "source": [
    "        #include <omp.h>\n"
   ]
  },
  {
   "cell_type": "markdown",
   "id": "f3ea984b",
   "metadata": {
    "editable": true
   },
   "source": [
    "* Insert compiler directives in C++ syntax as"
   ]
  },
  {
   "cell_type": "markdown",
   "id": "1f80b5f3",
   "metadata": {
    "editable": true
   },
   "source": [
    "        #pragma omp...\n"
   ]
  },
  {
   "cell_type": "markdown",
   "id": "540577c2",
   "metadata": {
    "editable": true
   },
   "source": [
    "* Compile with for example *c++ -fopenmp code.cpp*\n",
    "\n",
    "* Execute\n",
    "\n",
    "  * Remember to assign the environment variable **OMP NUM THREADS**\n",
    "\n",
    "  * It specifies the total number of threads inside a parallel region, if not otherwise overwritten"
   ]
  },
  {
   "cell_type": "markdown",
   "id": "9fcc1986",
   "metadata": {
    "editable": true
   },
   "source": [
    "## OpenMP syntax\n",
    "* Mostly directives"
   ]
  },
  {
   "cell_type": "markdown",
   "id": "2880d46d",
   "metadata": {
    "editable": true
   },
   "source": [
    "        #pragma omp construct [ clause ...]\n"
   ]
  },
  {
   "cell_type": "markdown",
   "id": "29704ef7",
   "metadata": {
    "editable": true
   },
   "source": [
    "* Some functions and types"
   ]
  },
  {
   "cell_type": "markdown",
   "id": "681de4b9",
   "metadata": {
    "editable": true
   },
   "source": [
    "        #include <omp.h>\n"
   ]
  },
  {
   "cell_type": "markdown",
   "id": "10dc09db",
   "metadata": {
    "editable": true
   },
   "source": [
    "* Most apply to a block of code\n",
    "\n",
    " * Specifically, a **structured block**\n",
    "\n",
    " * Enter at top, exit at bottom only, exit(), abort() permitted"
   ]
  },
  {
   "cell_type": "markdown",
   "id": "a2bddc53",
   "metadata": {
    "editable": true
   },
   "source": [
    "## Different OpenMP styles of parallelism\n",
    "OpenMP supports several different ways to specify thread parallelism\n",
    "\n",
    "* General parallel regions: All threads execute the code, roughly as if you made a routine of that region and created a thread to run that code\n",
    "\n",
    "* Parallel loops: Special case for loops, simplifies data parallel code\n",
    "\n",
    "* Task parallelism, new in OpenMP 3\n",
    "\n",
    "* Several ways to manage thread coordination, including Master regions and Locks\n",
    "\n",
    "* Memory model for shared data"
   ]
  },
  {
   "cell_type": "markdown",
   "id": "fdf521e9",
   "metadata": {
    "editable": true
   },
   "source": [
    "## General code structure"
   ]
  },
  {
   "cell_type": "markdown",
   "id": "2c8c07a4",
   "metadata": {
    "editable": true
   },
   "source": [
    "        #include <omp.h>\n",
    "        main ()\n",
    "        {\n",
    "        int var1, var2, var3;\n",
    "        /* serial code */\n",
    "        /* ... */\n",
    "        /* start of a parallel region */\n",
    "        #pragma omp parallel private(var1, var2) shared(var3)\n",
    "        {\n",
    "        /* ... */\n",
    "        }\n",
    "        /* more serial code */\n",
    "        /* ... */\n",
    "        /* another parallel region */\n",
    "        #pragma omp parallel\n",
    "        {\n",
    "        /* ... */\n",
    "        }\n",
    "        }\n"
   ]
  },
  {
   "cell_type": "markdown",
   "id": "1641f8a0",
   "metadata": {
    "editable": true
   },
   "source": [
    "## Parallel region\n",
    "* A parallel region is a block of code that is executed by a team of threads\n",
    "\n",
    "* The following compiler directive creates a parallel region"
   ]
  },
  {
   "cell_type": "markdown",
   "id": "5b6c5e1e",
   "metadata": {
    "editable": true
   },
   "source": [
    "        #pragma omp parallel { ... }\n"
   ]
  },
  {
   "cell_type": "markdown",
   "id": "9a2768c7",
   "metadata": {
    "editable": true
   },
   "source": [
    "* Clauses can be added at the end of the directive\n",
    "\n",
    "* Most often used clauses:\n",
    "\n",
    " * **default(shared)** or **default(none)**\n",
    "\n",
    " * **public(list of variables)**\n",
    "\n",
    " * **private(list of variables)**"
   ]
  },
  {
   "cell_type": "markdown",
   "id": "924f4e71",
   "metadata": {
    "editable": true
   },
   "source": [
    "## Hello world, not again, please!"
   ]
  },
  {
   "cell_type": "markdown",
   "id": "f3c039c0",
   "metadata": {
    "editable": true
   },
   "source": [
    "        #include <omp.h>\n",
    "        #include <cstdio>\n",
    "        int main (int argc, char *argv[])\n",
    "        {\n",
    "        int th_id, nthreads;\n",
    "        #pragma omp parallel private(th_id) shared(nthreads)\n",
    "        {\n",
    "        th_id = omp_get_thread_num();\n",
    "        printf(\"Hello World from thread %d\\n\", th_id);\n",
    "        #pragma omp barrier\n",
    "        if ( th_id == 0 ) {\n",
    "        nthreads = omp_get_num_threads();\n",
    "        printf(\"There are %d threads\\n\",nthreads);\n",
    "        }\n",
    "        }\n",
    "        return 0;\n",
    "        }\n"
   ]
  },
  {
   "cell_type": "markdown",
   "id": "f918fd31",
   "metadata": {
    "editable": true
   },
   "source": [
    "## Hello world, yet another variant"
   ]
  },
  {
   "cell_type": "markdown",
   "id": "ed12f81b",
   "metadata": {
    "editable": true
   },
   "source": [
    "        #include <cstdio>\n",
    "        #include <omp.h>\n",
    "        int main(int argc, char *argv[]) \n",
    "        {\n",
    "         omp_set_num_threads(4); \n",
    "        #pragma omp parallel\n",
    "         {\n",
    "           int id = omp_get_thread_num();\n",
    "           int nproc = omp_get_num_threads(); \n",
    "           cout << \"Hello world with id number and processes \" <<  id <<  nproc << endl;\n",
    "         } \n",
    "        return 0;\n",
    "        }\n"
   ]
  },
  {
   "cell_type": "markdown",
   "id": "3d0ad18c",
   "metadata": {
    "editable": true
   },
   "source": [
    "Variables declared outside of the parallel region are shared by all threads\n",
    "If a variable like **id** is  declared outside of the"
   ]
  },
  {
   "cell_type": "markdown",
   "id": "90dfc391",
   "metadata": {
    "editable": true
   },
   "source": [
    "        #pragma omp parallel, \n"
   ]
  },
  {
   "cell_type": "markdown",
   "id": "64cf0c48",
   "metadata": {
    "editable": true
   },
   "source": [
    "it would have been shared by various the threads, possibly causing erroneous output\n",
    " * Why? What would go wrong? Why do we add  possibly?"
   ]
  },
  {
   "cell_type": "markdown",
   "id": "efcdd153",
   "metadata": {
    "editable": true
   },
   "source": [
    "## Important OpenMP library routines\n",
    "\n",
    "* **int omp get num threads ()**, returns the number of threads inside a parallel region\n",
    "\n",
    "* **int omp get thread num ()**,  returns the  a thread for each thread inside a parallel region\n",
    "\n",
    "* **void omp set num threads (int)**, sets the number of threads to be used\n",
    "\n",
    "* **void omp set nested (int)**,  turns nested parallelism on/off"
   ]
  },
  {
   "cell_type": "markdown",
   "id": "da13b5af",
   "metadata": {
    "editable": true
   },
   "source": [
    "## Private variables\n",
    "Private clause can be used to make thread- private versions of such variables:"
   ]
  },
  {
   "cell_type": "markdown",
   "id": "eab2210f",
   "metadata": {
    "editable": true
   },
   "source": [
    "        #pragma omp parallel private(id)\n",
    "        {\n",
    "         int id = omp_get_thread_num();\n",
    "         cout << \"My thread num\" << id << endl; \n",
    "        }\n"
   ]
  },
  {
   "cell_type": "markdown",
   "id": "2108080c",
   "metadata": {
    "editable": true
   },
   "source": [
    "* What is their value on entry? Exit?\n",
    "\n",
    "* OpenMP provides ways to control that\n",
    "\n",
    "* Can use default(none) to require the sharing of each variable to be described"
   ]
  },
  {
   "cell_type": "markdown",
   "id": "8268bf36",
   "metadata": {
    "editable": true
   },
   "source": [
    "## Master region\n",
    "It is often useful to have only one thread execute some of the code in a parallel region. I/O statements are a common example"
   ]
  },
  {
   "cell_type": "markdown",
   "id": "7dc26170",
   "metadata": {
    "editable": true
   },
   "source": [
    "        #pragma omp parallel \n",
    "        {\n",
    "          #pragma omp master\n",
    "           {\n",
    "              int id = omp_get_thread_num();\n",
    "              cout << \"My thread num\" << id << endl; \n",
    "           } \n",
    "        }\n"
   ]
  },
  {
   "cell_type": "markdown",
   "id": "c625b419",
   "metadata": {
    "editable": true
   },
   "source": [
    "## Parallel for loop\n",
    " * Inside a parallel region, the following compiler directive can be used to parallelize a for-loop:"
   ]
  },
  {
   "cell_type": "markdown",
   "id": "19724ae1",
   "metadata": {
    "editable": true
   },
   "source": [
    "        #pragma omp for\n"
   ]
  },
  {
   "cell_type": "markdown",
   "id": "d1dc732d",
   "metadata": {
    "editable": true
   },
   "source": [
    "* Clauses can be added, such as\n",
    "\n",
    "  * **schedule(static, chunk size)**\n",
    "\n",
    "  * **schedule(dynamic, chunk size)** \n",
    "\n",
    "  * **schedule(guided, chunk size)** (non-deterministic allocation)\n",
    "\n",
    "  * **schedule(runtime)**\n",
    "\n",
    "  * **private(list of variables)**\n",
    "\n",
    "  * **reduction(operator:variable)**\n",
    "\n",
    "  * **nowait**"
   ]
  },
  {
   "cell_type": "markdown",
   "id": "444957ee",
   "metadata": {
    "editable": true
   },
   "source": [
    "## Parallel computations and loops\n",
    "\n",
    "OpenMP provides an easy way to parallelize a loop"
   ]
  },
  {
   "cell_type": "markdown",
   "id": "2f81a513",
   "metadata": {
    "editable": true
   },
   "source": [
    "        #pragma omp parallel for\n",
    "          for (i=0; i<n; i++) c[i] = a[i];\n"
   ]
  },
  {
   "cell_type": "markdown",
   "id": "67dcbaeb",
   "metadata": {
    "editable": true
   },
   "source": [
    "OpenMP handles index variable (no need to declare in for loop or make private)\n",
    "\n",
    "Which thread does which values?  Several options."
   ]
  },
  {
   "cell_type": "markdown",
   "id": "b90b2746",
   "metadata": {
    "editable": true
   },
   "source": [
    "## Scheduling of  loop computations\n",
    "\n",
    "We can let  the OpenMP runtime decide. The decision is about how the loop iterates are scheduled\n",
    "and  OpenMP defines three choices of loop scheduling:\n",
    "1. Static: Predefined at compile time. Lowest overhead, predictable\n",
    "\n",
    "2. Dynamic: Selection made at runtime \n",
    "\n",
    "3. Guided: Special case of dynamic; attempts to reduce overhead"
   ]
  },
  {
   "cell_type": "markdown",
   "id": "552da2e2",
   "metadata": {
    "editable": true
   },
   "source": [
    "## Example code for loop scheduling"
   ]
  },
  {
   "cell_type": "markdown",
   "id": "f1506b0e",
   "metadata": {
    "editable": true
   },
   "source": [
    "        #include <omp.h>\n",
    "        #define CHUNKSIZE 100\n",
    "        #define N 1000\n",
    "        int main (int argc, char *argv[])\n",
    "        {\n",
    "        int i, chunk;\n",
    "        float a[N], b[N], c[N];\n",
    "        for (i=0; i < N; i++) a[i] = b[i] = i * 1.0;\n",
    "        chunk = CHUNKSIZE;\n",
    "        #pragma omp parallel shared(a,b,c,chunk) private(i)\n",
    "        {\n",
    "        #pragma omp for schedule(dynamic,chunk)\n",
    "        for (i=0; i < N; i++) c[i] = a[i] + b[i];\n",
    "        } /* end of parallel region */\n",
    "        }\n"
   ]
  },
  {
   "cell_type": "markdown",
   "id": "d8395b7d",
   "metadata": {
    "editable": true
   },
   "source": [
    "## Example code for loop scheduling, guided instead of dynamic"
   ]
  },
  {
   "cell_type": "markdown",
   "id": "4e82eb14",
   "metadata": {
    "editable": true
   },
   "source": [
    "        #include <omp.h>\n",
    "        #define CHUNKSIZE 100\n",
    "        #define N 1000\n",
    "        int main (int argc, char *argv[])\n",
    "        {\n",
    "        int i, chunk;\n",
    "        float a[N], b[N], c[N];\n",
    "        for (i=0; i < N; i++) a[i] = b[i] = i * 1.0;\n",
    "        chunk = CHUNKSIZE;\n",
    "        #pragma omp parallel shared(a,b,c,chunk) private(i)\n",
    "        {\n",
    "        #pragma omp for schedule(guided,chunk)\n",
    "        for (i=0; i < N; i++) c[i] = a[i] + b[i];\n",
    "        } /* end of parallel region */\n",
    "        }\n"
   ]
  },
  {
   "cell_type": "markdown",
   "id": "f7dafef8",
   "metadata": {
    "editable": true
   },
   "source": [
    "## More on Parallel for loop\n",
    "* The number of loop iterations cannot be non-deterministic; break, return, exit, goto not allowed inside the for-loop\n",
    "\n",
    "* The loop index is private to each thread\n",
    "\n",
    "* A reduction variable is special\n",
    "\n",
    "  * During the for-loop there is a local private copy in each thread\n",
    "\n",
    "  * At the end of the for-loop, all the local copies are combined together by the reduction operation\n",
    "\n",
    "* Unless the nowait clause is used, an implicit barrier synchronization will be added at the end by the compiler"
   ]
  },
  {
   "cell_type": "markdown",
   "id": "462373cc",
   "metadata": {
    "editable": true
   },
   "source": [
    "        // #pragma omp parallel and #pragma omp for\n"
   ]
  },
  {
   "cell_type": "markdown",
   "id": "35898e00",
   "metadata": {
    "editable": true
   },
   "source": [
    "can be combined into"
   ]
  },
  {
   "cell_type": "markdown",
   "id": "94635d59",
   "metadata": {
    "editable": true
   },
   "source": [
    "        #pragma omp parallel for\n"
   ]
  },
  {
   "cell_type": "markdown",
   "id": "b0466f20",
   "metadata": {
    "editable": true
   },
   "source": [
    "## What can happen with this loop?\n",
    "\n",
    "What happens with code like this"
   ]
  },
  {
   "cell_type": "markdown",
   "id": "51c6381e",
   "metadata": {
    "editable": true
   },
   "source": [
    "        #pragma omp parallel for\n",
    "        for (i=0; i<n; i++) sum += a[i]*a[i];\n"
   ]
  },
  {
   "cell_type": "markdown",
   "id": "9d72b75f",
   "metadata": {
    "editable": true
   },
   "source": [
    "All threads can access the **sum** variable, but the addition is not atomic! It is important to avoid race between threads. So-called reductions in OpenMP are thus important for performance and for obtaining correct results.  OpenMP lets us indicate that a variable is used for a reduction with a particular operator. The above code becomes"
   ]
  },
  {
   "cell_type": "markdown",
   "id": "7300db0b",
   "metadata": {
    "editable": true
   },
   "source": [
    "        sum = 0.0;\n",
    "        #pragma omp parallel for reduction(+:sum)\n",
    "        for (i=0; i<n; i++) sum += a[i]*a[i];\n"
   ]
  },
  {
   "cell_type": "markdown",
   "id": "3fd5a7d2",
   "metadata": {
    "editable": true
   },
   "source": [
    "## Inner product"
   ]
  },
  {
   "cell_type": "markdown",
   "id": "5dbc18a4",
   "metadata": {
    "editable": true
   },
   "source": [
    "$$\n",
    "\\sum_{i=0}^{n-1} a_ib_i\n",
    "$$"
   ]
  },
  {
   "cell_type": "markdown",
   "id": "6d359814",
   "metadata": {
    "editable": true
   },
   "source": [
    "        int i;\n",
    "        double sum = 0.;\n",
    "        /* allocating and initializing arrays */\n",
    "        /* ... */\n",
    "        #pragma omp parallel for default(shared) private(i) reduction(+:sum)\n",
    "         for (i=0; i<N; i++) sum += a[i]*b[i];\n",
    "        }\n"
   ]
  },
  {
   "cell_type": "markdown",
   "id": "142f333f",
   "metadata": {
    "editable": true
   },
   "source": [
    "## Different threads do different tasks\n",
    "\n",
    "Different threads do different tasks independently, each section is executed by one thread."
   ]
  },
  {
   "cell_type": "markdown",
   "id": "0b9bbef6",
   "metadata": {
    "editable": true
   },
   "source": [
    "        #pragma omp parallel\n",
    "        {\n",
    "        #pragma omp sections\n",
    "        {\n",
    "        #pragma omp section\n",
    "        funcA ();\n",
    "        #pragma omp section\n",
    "        funcB ();\n",
    "        #pragma omp section\n",
    "        funcC ();\n",
    "        }\n",
    "        }\n"
   ]
  },
  {
   "cell_type": "markdown",
   "id": "17c4b819",
   "metadata": {
    "editable": true
   },
   "source": [
    "## Single execution"
   ]
  },
  {
   "cell_type": "markdown",
   "id": "d6c3377f",
   "metadata": {
    "editable": true
   },
   "source": [
    "        #pragma omp single { ... }\n"
   ]
  },
  {
   "cell_type": "markdown",
   "id": "989ec63b",
   "metadata": {
    "editable": true
   },
   "source": [
    "The code is executed by one thread only, no guarantee which thread\n",
    "\n",
    "Can introduce an implicit barrier at the end"
   ]
  },
  {
   "cell_type": "markdown",
   "id": "f0b66ee5",
   "metadata": {
    "editable": true
   },
   "source": [
    "        #pragma omp master { ... }\n"
   ]
  },
  {
   "cell_type": "markdown",
   "id": "9946d20c",
   "metadata": {
    "editable": true
   },
   "source": [
    "Code executed by the master thread, guaranteed and no implicit barrier at the end."
   ]
  },
  {
   "cell_type": "markdown",
   "id": "6f70d773",
   "metadata": {
    "editable": true
   },
   "source": [
    "## Coordination and synchronization"
   ]
  },
  {
   "cell_type": "markdown",
   "id": "3cdf10bb",
   "metadata": {
    "editable": true
   },
   "source": [
    "        #pragma omp barrier\n"
   ]
  },
  {
   "cell_type": "markdown",
   "id": "cf07e8b2",
   "metadata": {
    "editable": true
   },
   "source": [
    "Synchronization, must be encountered by all threads in a team (or none)"
   ]
  },
  {
   "cell_type": "markdown",
   "id": "a2bce153",
   "metadata": {
    "editable": true
   },
   "source": [
    "        #pragma omp ordered { a block of codes }\n"
   ]
  },
  {
   "cell_type": "markdown",
   "id": "72006334",
   "metadata": {
    "editable": true
   },
   "source": [
    "is another form of synchronization (in sequential order).\n",
    "The form"
   ]
  },
  {
   "cell_type": "markdown",
   "id": "0078e3d9",
   "metadata": {
    "editable": true
   },
   "source": [
    "        #pragma omp critical { a block of codes }\n"
   ]
  },
  {
   "cell_type": "markdown",
   "id": "efd26e6f",
   "metadata": {
    "editable": true
   },
   "source": [
    "and"
   ]
  },
  {
   "cell_type": "markdown",
   "id": "d2a286e6",
   "metadata": {
    "editable": true
   },
   "source": [
    "        #pragma omp atomic { single assignment statement }\n"
   ]
  },
  {
   "cell_type": "markdown",
   "id": "e39195b1",
   "metadata": {
    "editable": true
   },
   "source": [
    "is  more efficient than"
   ]
  },
  {
   "cell_type": "markdown",
   "id": "c5bffc01",
   "metadata": {
    "editable": true
   },
   "source": [
    "        #pragma omp critical\n"
   ]
  },
  {
   "cell_type": "markdown",
   "id": "17ffcb2b",
   "metadata": {
    "editable": true
   },
   "source": [
    "## Data scope\n",
    "* OpenMP data scope attribute clauses:\n",
    "\n",
    " * **shared**\n",
    "\n",
    " * **private**\n",
    "\n",
    " * **firstprivate**\n",
    "\n",
    " * **lastprivate**\n",
    "\n",
    " * **reduction**\n",
    "\n",
    "What are the purposes of these attributes\n",
    "* define how and which variables are transferred to a parallel region (and back)\n",
    "\n",
    "* define which variables are visible to all threads in a parallel region, and which variables are privately allocated to each thread"
   ]
  },
  {
   "cell_type": "markdown",
   "id": "cec0d438",
   "metadata": {
    "editable": true
   },
   "source": [
    "## Some remarks\n",
    "\n",
    "* When entering a parallel region, the **private** clause ensures each thread having its own new variable instances. The new variables are assumed to be uninitialized.\n",
    "\n",
    "* A shared variable exists in only one memory location and all threads can read and write to that address. It is the programmer's responsibility to ensure that multiple threads properly access a shared variable.\n",
    "\n",
    "* The **firstprivate** clause combines the behavior of the private clause with automatic initialization.\n",
    "\n",
    "* The **lastprivate** clause combines the behavior of the private clause with a copy back (from the last loop iteration or section) to the original variable outside the parallel region."
   ]
  },
  {
   "cell_type": "markdown",
   "id": "6da0283f",
   "metadata": {
    "editable": true
   },
   "source": [
    "## Parallelizing nested for-loops\n",
    "\n",
    " * Serial code"
   ]
  },
  {
   "cell_type": "markdown",
   "id": "1150e007",
   "metadata": {
    "editable": true
   },
   "source": [
    "        for (i=0; i<100; i++)\n",
    "            for (j=0; j<100; j++)\n",
    "                a[i][j] = b[i][j] + c[i][j];\n",
    "            }\n",
    "        }\n"
   ]
  },
  {
   "cell_type": "markdown",
   "id": "6496891d",
   "metadata": {
    "editable": true
   },
   "source": [
    "* Parallelization"
   ]
  },
  {
   "cell_type": "markdown",
   "id": "374c0720",
   "metadata": {
    "editable": true
   },
   "source": [
    "        #pragma omp parallel for private(j)\n",
    "        for (i=0; i<100; i++)\n",
    "            for (j=0; j<100; j++)\n",
    "               a[i][j] = b[i][j] + c[i][j];\n",
    "            }\n",
    "        }\n"
   ]
  },
  {
   "cell_type": "markdown",
   "id": "b90e07e1",
   "metadata": {
    "editable": true
   },
   "source": [
    "* Why not parallelize the inner loop? to save overhead of repeated thread forks-joins\n",
    "\n",
    "* Why must **j** be private? To avoid race condition among the threads"
   ]
  },
  {
   "cell_type": "markdown",
   "id": "fff81a74",
   "metadata": {
    "editable": true
   },
   "source": [
    "## Nested parallelism\n",
    "When a thread in a parallel region encounters another parallel construct, it\n",
    "may create a new team of threads and become the master of the new\n",
    "team."
   ]
  },
  {
   "cell_type": "markdown",
   "id": "356e7bbb",
   "metadata": {
    "editable": true
   },
   "source": [
    "        #pragma omp parallel num_threads(4)\n",
    "        {\n",
    "        /* .... */\n",
    "        #pragma omp parallel num_threads(2)\n",
    "        {\n",
    "        //  \n",
    "        }\n",
    "        }\n"
   ]
  },
  {
   "cell_type": "markdown",
   "id": "a9529fd7",
   "metadata": {
    "editable": true
   },
   "source": [
    "## Parallel tasks"
   ]
  },
  {
   "cell_type": "markdown",
   "id": "0a9c253c",
   "metadata": {
    "editable": true
   },
   "source": [
    "        #pragma omp task \n",
    "        #pragma omp parallel shared(p_vec) private(i)\n",
    "        {\n",
    "        #pragma omp single\n",
    "        {\n",
    "        for (i=0; i<N; i++) {\n",
    "          double r = random_number();\n",
    "          if (p_vec[i] > r) {\n",
    "        #pragma omp task\n",
    "           do_work (p_vec[i]);\n"
   ]
  },
  {
   "cell_type": "markdown",
   "id": "fab281a1",
   "metadata": {
    "editable": true
   },
   "source": [
    "## Common mistakes\n",
    "Race condition"
   ]
  },
  {
   "cell_type": "markdown",
   "id": "e3435764",
   "metadata": {
    "editable": true
   },
   "source": [
    "        int nthreads;\n",
    "        #pragma omp parallel shared(nthreads)\n",
    "        {\n",
    "        nthreads = omp_get_num_threads();\n",
    "        }\n"
   ]
  },
  {
   "cell_type": "markdown",
   "id": "98a1b57f",
   "metadata": {
    "editable": true
   },
   "source": [
    "Deadlock"
   ]
  },
  {
   "cell_type": "markdown",
   "id": "8284d9a6",
   "metadata": {
    "editable": true
   },
   "source": [
    "        #pragma omp parallel\n",
    "        {\n",
    "        ...\n",
    "        #pragma omp critical\n",
    "        {\n",
    "        ...\n",
    "        #pragma omp barrier\n",
    "        }\n",
    "        }\n"
   ]
  },
  {
   "cell_type": "markdown",
   "id": "a791d41b",
   "metadata": {
    "editable": true
   },
   "source": [
    "## Not all computations are simple\n",
    "Not all computations are simple loops where the data can be evenly \n",
    "divided among threads without any dependencies between threads\n",
    "\n",
    "An example is finding the location and value of the largest element in an array"
   ]
  },
  {
   "cell_type": "markdown",
   "id": "b6d9d06e",
   "metadata": {
    "editable": true
   },
   "source": [
    "        for (i=0; i<n; i++) { \n",
    "           if (x[i] > maxval) {\n",
    "              maxval = x[i];\n",
    "              maxloc = i; \n",
    "           }\n",
    "        }\n"
   ]
  },
  {
   "cell_type": "markdown",
   "id": "712d4eba",
   "metadata": {
    "editable": true
   },
   "source": [
    "## Not all computations are simple, competing threads\n",
    "All threads are potentially accessing and changing the same values, **maxloc** and **maxval**.\n",
    "1. OpenMP provides several ways to coordinate access to shared values"
   ]
  },
  {
   "cell_type": "markdown",
   "id": "8ade48fc",
   "metadata": {
    "editable": true
   },
   "source": [
    "        #pragma omp atomic\n"
   ]
  },
  {
   "cell_type": "markdown",
   "id": "8edcf446",
   "metadata": {
    "editable": true
   },
   "source": [
    "1. Only one thread at a time can execute the following statement (not block). We can use the critical option"
   ]
  },
  {
   "cell_type": "markdown",
   "id": "76c51b3e",
   "metadata": {
    "editable": true
   },
   "source": [
    "        #pragma omp critical\n"
   ]
  },
  {
   "cell_type": "markdown",
   "id": "0f645082",
   "metadata": {
    "editable": true
   },
   "source": [
    "1. Only one thread at a time can execute the following block\n",
    "\n",
    "Atomic may be faster than critical but depends on hardware"
   ]
  },
  {
   "cell_type": "markdown",
   "id": "4dd09c35",
   "metadata": {
    "editable": true
   },
   "source": [
    "## How to find the max value using OpenMP\n",
    "Write down the simplest algorithm and look carefully for race conditions. How would you handle them? \n",
    "The first step would be to parallelize as"
   ]
  },
  {
   "cell_type": "markdown",
   "id": "3cd44519",
   "metadata": {
    "editable": true
   },
   "source": [
    "        #pragma omp parallel for\n",
    "         for (i=0; i<n; i++) {\n",
    "            if (x[i] > maxval) {\n",
    "              maxval = x[i];\n",
    "              maxloc = i; \n",
    "            }\n",
    "        }\n"
   ]
  },
  {
   "cell_type": "markdown",
   "id": "bc824a55",
   "metadata": {
    "editable": true
   },
   "source": [
    "## Then deal with the race conditions\n",
    "Write down the simplest algorithm and look carefully for race conditions. How would you handle them? \n",
    "The first step would be to parallelize as"
   ]
  },
  {
   "cell_type": "markdown",
   "id": "c5aacbfb",
   "metadata": {
    "editable": true
   },
   "source": [
    "        #pragma omp parallel for\n",
    "         for (i=0; i<n; i++) {\n",
    "        #pragma omp critical\n",
    "          {\n",
    "             if (x[i] > maxval) {\n",
    "               maxval = x[i];\n",
    "               maxloc = i; \n",
    "             }\n",
    "          }\n",
    "        } \n"
   ]
  },
  {
   "cell_type": "markdown",
   "id": "9d3e1003",
   "metadata": {
    "editable": true
   },
   "source": [
    "Exercise: write a code which implements this and give an estimate on performance. Perform several runs,\n",
    "with a serial code only with and without vectorization and compare the serial code with the one that  uses OpenMP. Run on different archictectures if you can."
   ]
  },
  {
   "cell_type": "markdown",
   "id": "3a046461",
   "metadata": {
    "editable": true
   },
   "source": [
    "## What can slow down OpenMP performance?\n",
    "Give it a thought!"
   ]
  },
  {
   "cell_type": "markdown",
   "id": "5dd087c2",
   "metadata": {
    "editable": true
   },
   "source": [
    "## What can slow down OpenMP performance?\n",
    "Performance poor because we insisted on keeping track of the maxval and location during the execution of the loop.\n",
    " * We do not care about the value during the execution of the loop, just the value at the end.\n",
    "\n",
    "This is a common source of performance issues, namely the description of the method used to compute a value imposes additional, unnecessary requirements or properties\n",
    "\n",
    "**Idea: Have each thread find the maxloc in its own data, then combine and use temporary arrays indexed by thread number to hold the values found by each thread**"
   ]
  },
  {
   "cell_type": "markdown",
   "id": "1555a8fa",
   "metadata": {
    "editable": true
   },
   "source": [
    "## Find the max location for each thread"
   ]
  },
  {
   "cell_type": "markdown",
   "id": "54e08988",
   "metadata": {
    "editable": true
   },
   "source": [
    "        int maxloc[MAX_THREADS], mloc;\n",
    "        double maxval[MAX_THREADS], mval; \n",
    "        #pragma omp parallel shared(maxval,maxloc)\n",
    "        {\n",
    "          int id = omp_get_thread_num(); \n",
    "          maxval[id] = -1.0e30;\n",
    "        #pragma omp for\n",
    "           for (int i=0; i<n; i++) {\n",
    "               if (x[i] > maxval[id]) { \n",
    "                   maxloc[id] = i;\n",
    "                   maxval[id] = x[i]; \n",
    "               }\n",
    "            }\n",
    "        }\n"
   ]
  },
  {
   "cell_type": "markdown",
   "id": "07cf9be0",
   "metadata": {
    "editable": true
   },
   "source": [
    "## Combine the values from each thread"
   ]
  },
  {
   "cell_type": "markdown",
   "id": "bbbb659c",
   "metadata": {
    "editable": true
   },
   "source": [
    "        #pragma omp flush (maxloc,maxval)\n",
    "        #pragma omp master\n",
    "          {\n",
    "            int nt = omp_get_num_threads(); \n",
    "            mloc = maxloc[0]; \n",
    "            mval = maxval[0]; \n",
    "            for (int i=1; i<nt; i++) {\n",
    "                if (maxval[i] > mval) { \n",
    "                   mval = maxval[i]; \n",
    "                   mloc = maxloc[i];\n",
    "                } \n",
    "             }\n",
    "           }\n"
   ]
  },
  {
   "cell_type": "markdown",
   "id": "cb409f84",
   "metadata": {
    "editable": true
   },
   "source": [
    "Note that we let the master process perform the last operation."
   ]
  },
  {
   "cell_type": "markdown",
   "id": "66385718",
   "metadata": {
    "editable": true
   },
   "source": [
    "## [Matrix-matrix multiplication](https://github.com/CompPhysics/ComputationalPhysicsMSU/blob/master/doc/Programs/ParallelizationOpenMP/OpenMPvectornorm.cpp)\n",
    "This code computes the norm of a vector using OpenMp"
   ]
  },
  {
   "cell_type": "markdown",
   "id": "3dbbeb06",
   "metadata": {
    "editable": true
   },
   "source": [
    "        //  OpenMP program to compute vector norm by adding two other vectors\n",
    "        #include <cstdlib>\n",
    "        #include <iostream>\n",
    "        #include <cmath>\n",
    "        #include <iomanip>\n",
    "        #include  <omp.h>\n",
    "        # include <ctime>\n",
    "        \n",
    "        using namespace std; // note use of namespace\n",
    "        int main (int argc, char* argv[])\n",
    "        {\n",
    "          // read in dimension of vector\n",
    "          int n = atoi(argv[1]);\n",
    "          double *a, *b, *c;\n",
    "          int i;\n",
    "          int thread_num;\n",
    "          double wtime, Norm2, s, angle;\n",
    "          cout << \"  Perform addition of two vectors and compute the norm-2.\" << endl;\n",
    "          omp_set_num_threads(4);\n",
    "          thread_num = omp_get_max_threads ();\n",
    "          cout << \"  The number of processors available = \" << omp_get_num_procs () << endl ;\n",
    "          cout << \"  The number of threads available    = \" << thread_num <<  endl;\n",
    "          cout << \"  The matrix order n                 = \" << n << endl;\n",
    "        \n",
    "          s = 1.0/sqrt( (double) n);\n",
    "          wtime = omp_get_wtime ( );\n",
    "          // Allocate space for the vectors to be used\n",
    "          a = new double [n]; b = new double [n]; c = new double [n];\n",
    "          // Define parallel region\n",
    "        # pragma omp parallel for default(shared) private (angle, i) reduction(+:Norm2)\n",
    "          // Set up values for vectors  a and b\n",
    "          for (i = 0; i < n; i++){\n",
    "              angle = 2.0*M_PI*i/ (( double ) n);\n",
    "              a[i] = s*(sin(angle) + cos(angle));\n",
    "              b[i] =  s*sin(2.0*angle);\n",
    "              c[i] = 0.0;\n",
    "          }\n",
    "          // Then perform the vector addition\n",
    "          for (i = 0; i < n; i++){\n",
    "             c[i] += a[i]+b[i];\n",
    "          }\n",
    "          // Compute now the norm-2\n",
    "          Norm2 = 0.0;\n",
    "          for (i = 0; i < n; i++){\n",
    "             Norm2  += c[i]*c[i];\n",
    "          }\n",
    "        // end parallel region\n",
    "          wtime = omp_get_wtime ( ) - wtime;\n",
    "          cout << setiosflags(ios::showpoint | ios::uppercase);\n",
    "          cout << setprecision(10) << setw(20) << \"Time used  for norm-2 computation=\" << wtime  << endl;\n",
    "          cout << \" Norm-2  = \" << Norm2 << endl;\n",
    "          // Free up space\n",
    "          delete[] a;\n",
    "          delete[] b;\n",
    "          delete[] c;\n",
    "          return 0;\n",
    "        }\n"
   ]
  },
  {
   "cell_type": "markdown",
   "id": "f01a4173",
   "metadata": {
    "editable": true
   },
   "source": [
    "## [Matrix-matrix multiplication](https://github.com/CompPhysics/ComputationalPhysicsMSU/blob/master/doc/Programs/ParallelizationOpenMP/OpenMPmatrixmatrixmult.cpp)\n",
    "This the matrix-matrix multiplication code with plain c++ memory allocation using OpenMP"
   ]
  },
  {
   "cell_type": "markdown",
   "id": "4909b1a9",
   "metadata": {
    "editable": true
   },
   "source": [
    "        //  Matrix-matrix multiplication and Frobenius norm of a matrix with OpenMP\n",
    "        #include <cstdlib>\n",
    "        #include <iostream>\n",
    "        #include <cmath>\n",
    "        #include <iomanip>\n",
    "        #include  <omp.h>\n",
    "        # include <ctime>\n",
    "        \n",
    "        using namespace std; // note use of namespace\n",
    "        int main (int argc, char* argv[])\n",
    "        {\n",
    "          // read in dimension of square matrix\n",
    "          int n = atoi(argv[1]);\n",
    "          double **A, **B, **C;\n",
    "          int i, j, k;\n",
    "          int thread_num;\n",
    "          double wtime, Fsum, s, angle;\n",
    "          cout << \"  Compute matrix product C = A * B and Frobenius norm.\" << endl;\n",
    "          omp_set_num_threads(4);\n",
    "          thread_num = omp_get_max_threads ();\n",
    "          cout << \"  The number of processors available = \" << omp_get_num_procs () << endl ;\n",
    "          cout << \"  The number of threads available    = \" << thread_num <<  endl;\n",
    "          cout << \"  The matrix order n                 = \" << n << endl;\n",
    "        \n",
    "          s = 1.0/sqrt( (double) n);\n",
    "          wtime = omp_get_wtime ( );\n",
    "          // Allocate space for the two matrices\n",
    "          A = new double*[n]; B = new double*[n]; C = new double*[n];\n",
    "          for (i = 0; i < n; i++){\n",
    "            A[i] = new double[n];\n",
    "            B[i] = new double[n];\n",
    "            C[i] = new double[n];\n",
    "          }\n",
    "          // Define parallel region\n",
    "        # pragma omp parallel for default(shared) private (angle, i, j, k) reduction(+:Fsum)\n",
    "          // Set up values for matrix A and B and zero matrix C\n",
    "          for (i = 0; i < n; i++){\n",
    "            for (j = 0; j < n; j++) {\n",
    "              angle = 2.0*M_PI*i*j/ (( double ) n);\n",
    "              A[i][j] = s * ( sin ( angle ) + cos ( angle ) );\n",
    "              B[j][i] =  A[i][j];\n",
    "            }\n",
    "          }\n",
    "          // Then perform the matrix-matrix multiplication\n",
    "          for (i = 0; i < n; i++){\n",
    "            for (j = 0; j < n; j++) {\n",
    "               C[i][j] =  0.0;    \n",
    "               for (k = 0; k < n; k++) {\n",
    "                    C[i][j] += A[i][k]*B[k][j];\n",
    "               }\n",
    "            }\n",
    "          }\n",
    "          // Compute now the Frobenius norm\n",
    "          Fsum = 0.0;\n",
    "          for (i = 0; i < n; i++){\n",
    "            for (j = 0; j < n; j++) {\n",
    "              Fsum += C[i][j]*C[i][j];\n",
    "            }\n",
    "          }\n",
    "          Fsum = sqrt(Fsum);\n",
    "        // end parallel region and letting only one thread perform I/O\n",
    "          wtime = omp_get_wtime ( ) - wtime;\n",
    "          cout << setiosflags(ios::showpoint | ios::uppercase);\n",
    "          cout << setprecision(10) << setw(20) << \"Time used  for matrix-matrix multiplication=\" << wtime  << endl;\n",
    "          cout << \"  Frobenius norm  = \" << Fsum << endl;\n",
    "          // Free up space\n",
    "          for (int i = 0; i < n; i++){\n",
    "            delete[] A[i];\n",
    "            delete[] B[i];\n",
    "            delete[] C[i];\n",
    "          }\n",
    "          delete[] A;\n",
    "          delete[] B;\n",
    "          delete[] C;\n",
    "          return 0;\n",
    "        }\n",
    "        \n",
    "        \n"
   ]
  }
 ],
 "metadata": {},
 "nbformat": 4,
 "nbformat_minor": 5
}
