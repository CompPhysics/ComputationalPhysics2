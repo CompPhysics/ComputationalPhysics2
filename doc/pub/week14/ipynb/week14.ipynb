{
 "cells": [
  {
   "cell_type": "markdown",
   "id": "bad20270",
   "metadata": {
    "editable": true
   },
   "source": [
    "<!-- HTML file automatically generated from DocOnce source (https://github.com/doconce/doconce/)\n",
    "doconce format html week14.do.txt --no_mako --no_abort -->\n",
    "<!-- dom:TITLE: To be determined -->"
   ]
  },
  {
   "cell_type": "markdown",
   "id": "d05361eb",
   "metadata": {
    "editable": true
   },
   "source": [
    "# To be determined\n",
    "**Morten Hjorth-Jensen  Email morten.hjorth-jensen@fys.uio.no**, Department of Physics and Center fo Computing in Science Education, University of Oslo, Oslo, Norway\n",
    "\n",
    "Date: **May 2**"
   ]
  },
  {
   "cell_type": "markdown",
   "id": "1982a21c",
   "metadata": {
    "editable": true
   },
   "source": [
    "## Overview of week April 28- May 2\n",
    "\n",
    "1. TBD\n",
    "<!-- o Reading recommendation: Goodfellow et al chapters 17, 18 and  20.1-20.7 -->\n",
    "\n",
    "* [Video of lecture TBA](https://youtu.be/)\n",
    "<!-- * [Handwritten notes](https://github.com/CompPhysics/ComputationalPhysics2/blob/gh-pages/doc/HandWrittenNotes/2023/NotesApril27.pdf) -->"
   ]
  }
 ],
 "metadata": {},
 "nbformat": 4,
 "nbformat_minor": 5
}
