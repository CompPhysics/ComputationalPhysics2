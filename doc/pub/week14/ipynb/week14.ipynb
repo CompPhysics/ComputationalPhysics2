{
 "cells": [
  {
   "cell_type": "markdown",
   "id": "6165ea13",
   "metadata": {
    "editable": true
   },
   "source": [
    "<!-- HTML file automatically generated from DocOnce source (https://github.com/doconce/doconce/)\n",
    "doconce format html week14.do.txt --no_mako --no_abort -->\n",
    "<!-- dom:TITLE: Week 14 April 18-22: Work in Groups on Project 2 -->"
   ]
  },
  {
   "cell_type": "markdown",
   "id": "95ef24b7",
   "metadata": {
    "editable": true
   },
   "source": [
    "# Week 14 April 18-22: Work in Groups on Project 2\n",
    "**Morten Hjorth-Jensen  Email morten.hjorth-jensen@fys.uio.no**, Department of Physics and Center fo Computing in Science Education, University of Oslo, Oslo, Norway and Department of Physics and Astronomy and Facility for Rare Isotope Beams, Michigan State University, East Lansing, Michigan, USA\n",
    "\n",
    "Date: **Apr 21, 2022**\n",
    "\n",
    "Copyright 1999-2022, Morten Hjorth-Jensen  Email morten.hjorth-jensen@fys.uio.no. Released under CC Attribution-NonCommercial 4.0 license"
   ]
  },
  {
   "cell_type": "markdown",
   "id": "db83056b",
   "metadata": {
    "editable": true
   },
   "source": [
    "## Overview of week 15, April 18-22\n",
    "* We have two main project groups based on the selection below\n",
    "\n",
    "a. Neural Networks and Boltzmann Machines with [material](http://compphysics.github.io/ComputationalPhysics2/doc/LectureNotes/_build/html/boltzmannmachines.html)\n",
    "\n",
    "b. Quantum Path Integrals"
   ]
  }
 ],
 "metadata": {},
 "nbformat": 4,
 "nbformat_minor": 5
}
