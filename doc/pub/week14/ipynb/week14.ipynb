{
 "cells": [
  {
   "cell_type": "markdown",
   "id": "bb18d46b",
   "metadata": {
    "editable": true
   },
   "source": [
    "<!-- HTML file automatically generated from DocOnce source (https://github.com/doconce/doconce/)\n",
    "doconce format html week14.do.txt --no_mako --no_abort -->\n",
    "<!-- dom:TITLE: Week 16 April 18-22: Work in Groups on Project 2 -->"
   ]
  },
  {
   "cell_type": "markdown",
   "id": "178ea743",
   "metadata": {
    "editable": true
   },
   "source": [
    "# Week 16 April 18-22: Work in Groups on Project 2\n",
    "**Morten Hjorth-Jensen  Email morten.hjorth-jensen@fys.uio.no**, Department of Physics and Center fo Computing in Science Education, University of Oslo, Oslo, Norway and Department of Physics and Astronomy and Facility for Rare Isotope Beams, Michigan State University, East Lansing, Michigan, USA\n",
    "\n",
    "Date: **Apr 21, 2022**\n",
    "\n",
    "Copyright 1999-2022, Morten Hjorth-Jensen  Email morten.hjorth-jensen@fys.uio.no. Released under CC Attribution-NonCommercial 4.0 license"
   ]
  },
  {
   "cell_type": "markdown",
   "id": "63e643d9",
   "metadata": {
    "editable": true
   },
   "source": [
    "## Overview of week 16, April 18-22\n",
    "* We have two main project groups based on the selection below\n",
    "\n",
    "a. Neural Networks and Boltzmann Machines with [material](http://compphysics.github.io/ComputationalPhysics2/doc/LectureNotes/_build/html/boltzmannmachines.html)\n",
    "\n",
    "b. Quantum Path Integrals\n",
    "\n",
    "c. [Video of Lecture](https://youtu.be/76aKChpUwOk)\n",
    "\n",
    "d. [Handwritten notes](https://github.com/CompPhysics/ComputationalPhysics2/blob/gh-pages/doc/HandWrittenNotes/2022/NotesApril21.pdf)"
   ]
  }
 ],
 "metadata": {},
 "nbformat": 4,
 "nbformat_minor": 5
}
