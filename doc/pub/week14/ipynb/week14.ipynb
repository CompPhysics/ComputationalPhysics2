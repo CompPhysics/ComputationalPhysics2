{
 "cells": [
  {
   "cell_type": "markdown",
   "id": "a9ff2dca",
   "metadata": {
    "editable": true
   },
   "source": [
    "<!-- HTML file automatically generated from DocOnce source (https://github.com/doconce/doconce/)\n",
    "doconce format html week14.do.txt --no_mako --no_abort -->\n",
    "<!-- dom:TITLE: Week 17, April 22-26. TBA -->"
   ]
  },
  {
   "cell_type": "markdown",
   "id": "cd6e7ff2",
   "metadata": {
    "editable": true
   },
   "source": [
    "# Week 17, April 22-26. TBA\n",
    "**Morten Hjorth-Jensen  Email morten.hjorth-jensen@fys.uio.no**, Department of Physics and Center fo Computing in Science Education, University of Oslo, Oslo, Norway and Department of Physics and Astronomy and Facility for Rare Isotope Beams, Michigan State University, East Lansing, Michigan, USA\n",
    "\n",
    "Date: **April 24-28**"
   ]
  },
  {
   "cell_type": "markdown",
   "id": "c37b5771",
   "metadata": {
    "editable": true
   },
   "source": [
    "## Overview of week 17, April 22-26\n",
    "\n",
    "1. Neural Networks and Boltzmann Machines, introduction to Boltzmann machines\n",
    "\n",
    "2. Reading recommendation: Goodfellow et al chapters 17, 18 and  20.1-20.7\n",
    "\n",
    "* [Video of lecture TBA](https://youtu.be/)\n",
    "\n",
    "* [Handwritten notes](https://github.com/CompPhysics/ComputationalPhysics2/blob/gh-pages/doc/HandWrittenNotes/2023/NotesApril27.pdf)"
   ]
  }
 ],
 "metadata": {},
 "nbformat": 4,
 "nbformat_minor": 5
}
