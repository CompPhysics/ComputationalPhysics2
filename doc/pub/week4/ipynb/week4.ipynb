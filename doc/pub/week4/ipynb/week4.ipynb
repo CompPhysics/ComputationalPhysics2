{
 "cells": [
  {
   "cell_type": "markdown",
   "id": "bfb04f0c",
   "metadata": {
    "editable": true
   },
   "source": [
    "<!-- HTML file automatically generated from DocOnce source (https://github.com/doconce/doconce/)\n",
    "doconce format html week4.do.txt --no_mako --no_abort -->\n",
    "<!-- dom:TITLE: Importance Sampling and Metropolis-Hastings' algorithm -->"
   ]
  },
  {
   "cell_type": "markdown",
   "id": "a3d90656",
   "metadata": {
    "editable": true
   },
   "source": [
    "# Importance Sampling and Metropolis-Hastings' algorithm\n",
    "**Morten Hjorth-Jensen  Email morten.hjorth-jensen@fys.uio.no**, Department of Physics and Center fo Computing in Science Education, University of Oslo, Oslo, Norway\n",
    "\n",
    "Date: **February 14, 2025**"
   ]
  },
  {
   "cell_type": "markdown",
   "id": "77175f0e",
   "metadata": {
    "editable": true
   },
   "source": [
    "## Overview of week February 10-14, 2025\n",
    "**Topics.**\n",
    "\n",
    "* Short repetition from last week\n",
    "\n",
    "* Mathematical and computational details of importance sampling and Fokker-Planck and Langevin equations\n",
    "\n",
    "**Teaching Material, videos and written material.**\n",
    "\n",
    "* Reading suggestions:\n",
    "\n",
    "* [Video of lecture TBA](https://youtu.be/)\n",
    "<!-- * [Whiteboard notes](https://github.com/CompPhysics/ComputationalPhysics2/blob/gh-pages/doc/HandWrittenNotes/2024/NotesFebruary9.pdf) -->"
   ]
  },
  {
   "cell_type": "markdown",
   "id": "c4fdd65d",
   "metadata": {
    "editable": true
   },
   "source": [
    "## Importance sampling and  overview of what needs to be coded, reminder from last week\n",
    "\n",
    "For a diffusion process characterized by a time-dependent probability density $P(x,t)$ in one dimension the Fokker-Planck\n",
    "equation reads (for one particle /walker)"
   ]
  },
  {
   "cell_type": "markdown",
   "id": "9ea4dc8a",
   "metadata": {
    "editable": true
   },
   "source": [
    "$$\n",
    "\\frac{\\partial P}{\\partial t} = D\\frac{\\partial }{\\partial x}\\left(\\frac{\\partial }{\\partial x} -F\\right)P(x,t),\n",
    "$$"
   ]
  },
  {
   "cell_type": "markdown",
   "id": "8c6b176e",
   "metadata": {
    "editable": true
   },
   "source": [
    "where $F$ is a drift term and $D$ is the diffusion coefficient."
   ]
  },
  {
   "cell_type": "markdown",
   "id": "84043763",
   "metadata": {
    "editable": true
   },
   "source": [
    "## Importance sampling\n",
    "The new positions in coordinate space are given as the solutions of the Langevin equation using Euler's method, namely,\n",
    "we go from the Langevin equation"
   ]
  },
  {
   "cell_type": "markdown",
   "id": "ded4beb2",
   "metadata": {
    "editable": true
   },
   "source": [
    "$$\n",
    "\\frac{\\partial x(t)}{\\partial t} = DF(x(t)) +\\eta,\n",
    "$$"
   ]
  },
  {
   "cell_type": "markdown",
   "id": "ae93f422",
   "metadata": {
    "editable": true
   },
   "source": [
    "with $\\eta$ a random variable,\n",
    "yielding a new position"
   ]
  },
  {
   "cell_type": "markdown",
   "id": "6dd96738",
   "metadata": {
    "editable": true
   },
   "source": [
    "$$\n",
    "y = x+DF(x)\\Delta t +\\xi\\sqrt{\\Delta t},\n",
    "$$"
   ]
  },
  {
   "cell_type": "markdown",
   "id": "cfcf21d2",
   "metadata": {
    "editable": true
   },
   "source": [
    "where $\\xi$ is gaussian random variable and $\\Delta t$ is a chosen time step. \n",
    "The quantity $D$ is, in atomic units, equal to $1/2$ and comes from the factor $1/2$ in the kinetic energy operator. Note that $\\Delta t$ is to be viewed as a parameter. Values of $\\Delta t \\in [0.001,0.01]$ yield in general rather stable values of the ground state energy."
   ]
  },
  {
   "cell_type": "markdown",
   "id": "1ef3dca9",
   "metadata": {
    "editable": true
   },
   "source": [
    "## Importance sampling\n",
    "The process of isotropic diffusion characterized by a time-dependent probability density $P(\\mathbf{x},t)$ obeys (as an approximation) the so-called Fokker-Planck equation"
   ]
  },
  {
   "cell_type": "markdown",
   "id": "641ffca5",
   "metadata": {
    "editable": true
   },
   "source": [
    "$$\n",
    "\\frac{\\partial P}{\\partial t} = \\sum_i D\\frac{\\partial }{\\partial \\mathbf{x_i}}\\left(\\frac{\\partial }{\\partial \\mathbf{x_i}} -\\mathbf{F_i}\\right)P(\\mathbf{x},t),\n",
    "$$"
   ]
  },
  {
   "cell_type": "markdown",
   "id": "f5780462",
   "metadata": {
    "editable": true
   },
   "source": [
    "where $\\mathbf{F_i}$ is the $i^{th}$ component of the drift term (drift velocity) caused by an external potential, and $D$ is the diffusion coefficient. The convergence to a stationary probability density can be obtained by setting the left hand side to zero. The resulting equation will be satisfied if and only if all the terms of the sum are equal zero,"
   ]
  },
  {
   "cell_type": "markdown",
   "id": "664a4a98",
   "metadata": {
    "editable": true
   },
   "source": [
    "$$\n",
    "\\frac{\\partial^2 P}{\\partial {\\mathbf{x_i}^2}} = P\\frac{\\partial}{\\partial {\\mathbf{x_i}}}\\mathbf{F_i} + \\mathbf{F_i}\\frac{\\partial}{\\partial {\\mathbf{x_i}}}P.\n",
    "$$"
   ]
  },
  {
   "cell_type": "markdown",
   "id": "471a2a2d",
   "metadata": {
    "editable": true
   },
   "source": [
    "## Importance sampling\n",
    "The drift vector should be of the form $\\mathbf{F} = g(\\mathbf{x}) \\frac{\\partial P}{\\partial \\mathbf{x}}$. Then,"
   ]
  },
  {
   "cell_type": "markdown",
   "id": "242d100a",
   "metadata": {
    "editable": true
   },
   "source": [
    "$$\n",
    "\\frac{\\partial^2 P}{\\partial {\\mathbf{x_i}^2}} = P\\frac{\\partial g}{\\partial P}\\left( \\frac{\\partial P}{\\partial {\\mathbf{x}_i}}  \\right)^2 + P g \\frac{\\partial ^2 P}{\\partial {\\mathbf{x}_i^2}}  + g \\left( \\frac{\\partial P}{\\partial {\\mathbf{x}_i}}  \\right)^2.\n",
    "$$"
   ]
  },
  {
   "cell_type": "markdown",
   "id": "15cc01c0",
   "metadata": {
    "editable": true
   },
   "source": [
    "The condition of stationary density means that the left hand side equals zero. In other words, the terms containing first and second derivatives have to cancel each other. It is possible only if $g = \\frac{1}{P}$, which yields"
   ]
  },
  {
   "cell_type": "markdown",
   "id": "1757cf86",
   "metadata": {
    "editable": true
   },
   "source": [
    "$$\n",
    "\\mathbf{F} = 2\\frac{1}{\\Psi_T}\\nabla\\Psi_T,\n",
    "$$"
   ]
  },
  {
   "cell_type": "markdown",
   "id": "5a1e15df",
   "metadata": {
    "editable": true
   },
   "source": [
    "which is known as the so-called *quantum force*. This term is responsible for pushing the walker towards regions of configuration space where the trial wave function is large, increasing the efficiency of the simulation in contrast to the Metropolis algorithm where the walker has the same probability of moving in every direction."
   ]
  },
  {
   "cell_type": "markdown",
   "id": "e835ab91",
   "metadata": {
    "editable": true
   },
   "source": [
    "## Importance sampling\n",
    "The Fokker-Planck equation yields a (the solution to the equation) transition probability given by the Green's function"
   ]
  },
  {
   "cell_type": "markdown",
   "id": "08b4e810",
   "metadata": {
    "editable": true
   },
   "source": [
    "$$\n",
    "G(y,x,\\Delta t) = \\frac{1}{(4\\pi D\\Delta t)^{3N/2}} \\exp{\\left(-(y-x-D\\Delta t F(x))^2/4D\\Delta t\\right)}\n",
    "$$"
   ]
  },
  {
   "cell_type": "markdown",
   "id": "67ab1703",
   "metadata": {
    "editable": true
   },
   "source": [
    "which in turn means that our brute force Metropolis algorithm"
   ]
  },
  {
   "cell_type": "markdown",
   "id": "07d15fb8",
   "metadata": {
    "editable": true
   },
   "source": [
    "$$\n",
    "A(y,x) = \\mathrm{min}(1,q(y,x))),\n",
    "$$"
   ]
  },
  {
   "cell_type": "markdown",
   "id": "62af348a",
   "metadata": {
    "editable": true
   },
   "source": [
    "with $q(y,x) = |\\Psi_T(y)|^2/|\\Psi_T(x)|^2$ is now replaced by the [Metropolis-Hastings algorithm](http://scitation.aip.org/content/aip/journal/jcp/21/6/10.1063/1.1699114) as well as [Hasting's article](http://biomet.oxfordjournals.org/content/57/1/97.abstract),"
   ]
  },
  {
   "cell_type": "markdown",
   "id": "e1ed5588",
   "metadata": {
    "editable": true
   },
   "source": [
    "$$\n",
    "q(y,x) = \\frac{G(x,y,\\Delta t)|\\Psi_T(y)|^2}{G(y,x,\\Delta t)|\\Psi_T(x)|^2}\n",
    "$$"
   ]
  },
  {
   "cell_type": "markdown",
   "id": "de20c446",
   "metadata": {
    "editable": true
   },
   "source": [
    "## Code example for the interacting case with importance sampling\n",
    "\n",
    "We are now ready to implement importance sampling. This is done here for the two-electron case with the Coulomb interaction, as in the previous example. We have two variational parameters $\\alpha$ and $\\beta$. After the set up of files"
   ]
  },
  {
   "cell_type": "code",
   "execution_count": 1,
   "id": "7ff4a026",
   "metadata": {
    "collapsed": false,
    "editable": true
   },
   "outputs": [],
   "source": [
    "# Common imports\n",
    "import os\n",
    "\n",
    "# Where to save the figures and data files\n",
    "PROJECT_ROOT_DIR = \"Results\"\n",
    "FIGURE_ID = \"Results/FigureFiles\"\n",
    "DATA_ID = \"Results/VMCQdotImportance\"\n",
    "\n",
    "if not os.path.exists(PROJECT_ROOT_DIR):\n",
    "    os.mkdir(PROJECT_ROOT_DIR)\n",
    "\n",
    "if not os.path.exists(FIGURE_ID):\n",
    "    os.makedirs(FIGURE_ID)\n",
    "\n",
    "if not os.path.exists(DATA_ID):\n",
    "    os.makedirs(DATA_ID)\n",
    "\n",
    "def image_path(fig_id):\n",
    "    return os.path.join(FIGURE_ID, fig_id)\n",
    "\n",
    "def data_path(dat_id):\n",
    "    return os.path.join(DATA_ID, dat_id)\n",
    "\n",
    "def save_fig(fig_id):\n",
    "    plt.savefig(image_path(fig_id) + \".png\", format='png')\n",
    "\n",
    "outfile = open(data_path(\"VMCQdotImportance.dat\"),'w')"
   ]
  },
  {
   "cell_type": "markdown",
   "id": "3437ced1",
   "metadata": {
    "editable": true
   },
   "source": [
    "we move on to the set up of the trial wave function, the analytical expression for the local energy and the analytical expression for the quantum force."
   ]
  },
  {
   "cell_type": "code",
   "execution_count": 2,
   "id": "bef2d81a",
   "metadata": {
    "collapsed": false,
    "editable": true
   },
   "outputs": [],
   "source": [
    "%matplotlib inline\n",
    "\n",
    "# 2-electron VMC code for 2dim quantum dot with importance sampling\n",
    "# Using gaussian rng for new positions and Metropolis- Hastings \n",
    "# No energy minimization\n",
    "from math import exp, sqrt\n",
    "from random import random, seed, normalvariate\n",
    "import numpy as np\n",
    "import matplotlib.pyplot as plt\n",
    "from mpl_toolkits.mplot3d import Axes3D\n",
    "from matplotlib import cm\n",
    "from matplotlib.ticker import LinearLocator, FormatStrFormatter\n",
    "import sys\n",
    "from numba import jit,njit\n",
    "\n",
    "\n",
    "# Trial wave function for the 2-electron quantum dot in two dims\n",
    "def WaveFunction(r,alpha,beta):\n",
    "    r1 = r[0,0]**2 + r[0,1]**2\n",
    "    r2 = r[1,0]**2 + r[1,1]**2\n",
    "    r12 = sqrt((r[0,0]-r[1,0])**2 + (r[0,1]-r[1,1])**2)\n",
    "    deno = r12/(1+beta*r12)\n",
    "    return exp(-0.5*alpha*(r1+r2)+deno)\n",
    "\n",
    "# Local energy  for the 2-electron quantum dot in two dims, using analytical local energy\n",
    "def LocalEnergy(r,alpha,beta):\n",
    "    \n",
    "    r1 = (r[0,0]**2 + r[0,1]**2)\n",
    "    r2 = (r[1,0]**2 + r[1,1]**2)\n",
    "    r12 = sqrt((r[0,0]-r[1,0])**2 + (r[0,1]-r[1,1])**2)\n",
    "    deno = 1.0/(1+beta*r12)\n",
    "    deno2 = deno*deno\n",
    "    return 0.5*(1-alpha*alpha)*(r1 + r2) +2.0*alpha + 1.0/r12+deno2*(alpha*r12-deno2+2*beta*deno-1.0/r12)\n",
    "\n",
    "# Setting up the quantum force for the two-electron quantum dot, recall that it is a vector\n",
    "def QuantumForce(r,alpha,beta):\n",
    "\n",
    "    qforce = np.zeros((NumberParticles,Dimension), np.double)\n",
    "    r12 = sqrt((r[0,0]-r[1,0])**2 + (r[0,1]-r[1,1])**2)\n",
    "    deno = 1.0/(1+beta*r12)\n",
    "    qforce[0,:] = -2*r[0,:]*alpha*(r[0,:]-r[1,:])*deno*deno/r12\n",
    "    qforce[1,:] = -2*r[1,:]*alpha*(r[1,:]-r[0,:])*deno*deno/r12\n",
    "    return qforce"
   ]
  },
  {
   "cell_type": "markdown",
   "id": "e110f50d",
   "metadata": {
    "editable": true
   },
   "source": [
    "The Monte Carlo sampling includes now the Metropolis-Hastings algorithm, with the additional complication of having to evaluate the **quantum force** and the Green's function which is the solution of the Fokker-Planck equation."
   ]
  },
  {
   "cell_type": "code",
   "execution_count": 3,
   "id": "c650a54a",
   "metadata": {
    "collapsed": false,
    "editable": true
   },
   "outputs": [],
   "source": [
    "# The Monte Carlo sampling with the Metropolis algo\n",
    "# jit decorator tells Numba to compile this function.\n",
    "# The argument types will be inferred by Numba when function is called.\n",
    "@jit()\n",
    "def MonteCarloSampling():\n",
    "\n",
    "    NumberMCcycles= 100000\n",
    "    # Parameters in the Fokker-Planck simulation of the quantum force\n",
    "    D = 0.5\n",
    "    TimeStep = 0.05\n",
    "    # positions\n",
    "    PositionOld = np.zeros((NumberParticles,Dimension), np.double)\n",
    "    PositionNew = np.zeros((NumberParticles,Dimension), np.double)\n",
    "    # Quantum force\n",
    "    QuantumForceOld = np.zeros((NumberParticles,Dimension), np.double)\n",
    "    QuantumForceNew = np.zeros((NumberParticles,Dimension), np.double)\n",
    "\n",
    "    # seed for rng generator \n",
    "    seed()\n",
    "    # start variational parameter  loops, two parameters here\n",
    "    alpha = 0.9\n",
    "    for ia in range(MaxVariations):\n",
    "        alpha += .025\n",
    "        AlphaValues[ia] = alpha\n",
    "        beta = 0.2 \n",
    "        for jb in range(MaxVariations):\n",
    "            beta += .01\n",
    "            BetaValues[jb] = beta\n",
    "            energy = energy2 = 0.0\n",
    "            DeltaE = 0.0\n",
    "            #Initial position\n",
    "            for i in range(NumberParticles):\n",
    "                for j in range(Dimension):\n",
    "                    PositionOld[i,j] = normalvariate(0.0,1.0)*sqrt(TimeStep)\n",
    "            wfold = WaveFunction(PositionOld,alpha,beta)\n",
    "            QuantumForceOld = QuantumForce(PositionOld,alpha, beta)\n",
    "\n",
    "            #Loop over MC MCcycles\n",
    "            for MCcycle in range(NumberMCcycles):\n",
    "                #Trial position moving one particle at the time\n",
    "                for i in range(NumberParticles):\n",
    "                    for j in range(Dimension):\n",
    "                        PositionNew[i,j] = PositionOld[i,j]+normalvariate(0.0,1.0)*sqrt(TimeStep)+\\\n",
    "                                           QuantumForceOld[i,j]*TimeStep*D\n",
    "                    wfnew = WaveFunction(PositionNew,alpha,beta)\n",
    "                    QuantumForceNew = QuantumForce(PositionNew,alpha, beta)\n",
    "                    GreensFunction = 0.0\n",
    "                    for j in range(Dimension):\n",
    "                        GreensFunction += 0.5*(QuantumForceOld[i,j]+QuantumForceNew[i,j])*\\\n",
    "\t                              (D*TimeStep*0.5*(QuantumForceOld[i,j]-QuantumForceNew[i,j])-\\\n",
    "                                      PositionNew[i,j]+PositionOld[i,j])\n",
    "      \n",
    "                    GreensFunction = exp(GreensFunction)\n",
    "                    ProbabilityRatio = GreensFunction*wfnew**2/wfold**2\n",
    "                    #Metropolis-Hastings test to see whether we accept the move\n",
    "                    if random() <= ProbabilityRatio:\n",
    "                       for j in range(Dimension):\n",
    "                           PositionOld[i,j] = PositionNew[i,j]\n",
    "                           QuantumForceOld[i,j] = QuantumForceNew[i,j]\n",
    "                       wfold = wfnew\n",
    "                DeltaE = LocalEnergy(PositionOld,alpha,beta)\n",
    "                energy += DeltaE\n",
    "                energy2 += DeltaE**2\n",
    "            # We calculate mean, variance and error (no blocking applied)\n",
    "            energy /= NumberMCcycles\n",
    "            energy2 /= NumberMCcycles\n",
    "            variance = energy2 - energy**2\n",
    "            error = sqrt(variance/NumberMCcycles)\n",
    "            Energies[ia,jb] = energy    \n",
    "            outfile.write('%f %f %f %f %f\\n' %(alpha,beta,energy,variance,error))\n",
    "    return Energies, AlphaValues, BetaValues"
   ]
  },
  {
   "cell_type": "markdown",
   "id": "a4a605f9",
   "metadata": {
    "editable": true
   },
   "source": [
    "The main part here contains the setup of the variational parameters, the energies and the variance."
   ]
  },
  {
   "cell_type": "code",
   "execution_count": 4,
   "id": "886eff49",
   "metadata": {
    "collapsed": false,
    "editable": true
   },
   "outputs": [],
   "source": [
    "#Here starts the main program with variable declarations\n",
    "NumberParticles = 2\n",
    "Dimension = 2\n",
    "MaxVariations = 10\n",
    "Energies = np.zeros((MaxVariations,MaxVariations))\n",
    "AlphaValues = np.zeros(MaxVariations)\n",
    "BetaValues = np.zeros(MaxVariations)\n",
    "(Energies, AlphaValues, BetaValues) = MonteCarloSampling()\n",
    "outfile.close()\n",
    "# Prepare for plots\n",
    "fig = plt.figure()\n",
    "ax = fig.gca(projection='3d')\n",
    "# Plot the surface.\n",
    "X, Y = np.meshgrid(AlphaValues, BetaValues)\n",
    "surf = ax.plot_surface(X, Y, Energies,cmap=cm.coolwarm,linewidth=0, antialiased=False)\n",
    "# Customize the z axis.\n",
    "zmin = np.matrix(Energies).min()\n",
    "zmax = np.matrix(Energies).max()\n",
    "ax.set_zlim(zmin, zmax)\n",
    "ax.set_xlabel(r'$\\alpha$')\n",
    "ax.set_ylabel(r'$\\beta$')\n",
    "ax.set_zlabel(r'$\\langle E \\rangle$')\n",
    "ax.zaxis.set_major_locator(LinearLocator(10))\n",
    "ax.zaxis.set_major_formatter(FormatStrFormatter('%.02f'))\n",
    "# Add a color bar which maps values to colors.\n",
    "fig.colorbar(surf, shrink=0.5, aspect=5)\n",
    "save_fig(\"QdotImportance\")\n",
    "plt.show()"
   ]
  },
  {
   "cell_type": "markdown",
   "id": "478e775a",
   "metadata": {
    "editable": true
   },
   "source": [
    "## Importance sampling, Fokker-Planck and Langevin equations\n",
    "\n",
    "A stochastic process is simply a function of two variables, one is the\n",
    "time, the other is a stochastic variable $X$, defined by specifying\n",
    "\n",
    "1. the set $\\left\\{x\\right\\}$ of possible values for $X$;\n",
    "\n",
    "2. the probability distribution, $w_X(x)$,  over this set, or briefly $w(x)$\n",
    "\n",
    "The set of values $\\left\\{x\\right\\}$ for $X$ may be discrete, or\n",
    "continuous. If the set of values is continuous, then $w_X (x)$ is a\n",
    "probability density so that $w_X (x)dx$ is the probability that one\n",
    "finds the stochastic variable $X$ to have values in the range $[x, x +dx]$ ."
   ]
  },
  {
   "cell_type": "markdown",
   "id": "3460fb75",
   "metadata": {
    "editable": true
   },
   "source": [
    "## Importance sampling, Fokker-Planck and Langevin equations\n",
    "\n",
    "An arbitrary number of other stochastic variables may be derived from\n",
    "$X$. For example, any $Y$ given by a mapping of $X$, is also a\n",
    "stochastic variable. The mapping may also be time-dependent, that is,\n",
    "the mapping depends on an additional variable $t$"
   ]
  },
  {
   "cell_type": "markdown",
   "id": "b39f6111",
   "metadata": {
    "editable": true
   },
   "source": [
    "$$\n",
    "Y_X (t) = f(X, t).\n",
    "$$"
   ]
  },
  {
   "cell_type": "markdown",
   "id": "098b89ed",
   "metadata": {
    "editable": true
   },
   "source": [
    "The quantity $Y_X (t)$ is called a random function,\n",
    "or, since $t$ often is time, a stochastic process. A stochastic\n",
    "process is a function of two variables, one is the time, the other is\n",
    "a stochastic variable $X$. Let $x$ be one of the possible values of\n",
    "$X$ then"
   ]
  },
  {
   "cell_type": "markdown",
   "id": "874269be",
   "metadata": {
    "editable": true
   },
   "source": [
    "$$\n",
    "y(t) = f (x, t),\n",
    "$$"
   ]
  },
  {
   "cell_type": "markdown",
   "id": "8b8d5a00",
   "metadata": {
    "editable": true
   },
   "source": [
    "is a function of $t$, called a\n",
    "sample function or realization of the process.  In physics one\n",
    "considers the stochastic process to be an ensemble of such sample\n",
    "functions."
   ]
  },
  {
   "cell_type": "markdown",
   "id": "23f0d195",
   "metadata": {
    "editable": true
   },
   "source": [
    "## Importance sampling, Fokker-Planck and Langevin equations\n",
    "\n",
    "For many physical systems initial distributions of a stochastic\n",
    "variable $y$ tend to equilibrium distributions: $w(y, t)\\rightarrow\n",
    "w_0(y)$ as $t\\rightarrow\\infty$. In equilibrium detailed balance\n",
    "constrains the transition rates"
   ]
  },
  {
   "cell_type": "markdown",
   "id": "d517da81",
   "metadata": {
    "editable": true
   },
   "source": [
    "$$\n",
    "W(y\\rightarrow y')w(y ) = W(y'\\rightarrow y)w_0 (y),\n",
    "$$"
   ]
  },
  {
   "cell_type": "markdown",
   "id": "e52839c0",
   "metadata": {
    "editable": true
   },
   "source": [
    "where $W(y'\\rightarrow y)$ is the probability, per unit time, that the\n",
    "system changes from a state $|y\\rangle$ , characterized by the value\n",
    "$y$ for the stochastic variable $Y$ , to a state $|y'\\rangle$.\n",
    "\n",
    "Note that for a system in equilibrium the transition rate\n",
    "$W(y'\\rightarrow y)$ and the reverse $W(y\\rightarrow y')$ may be very\n",
    "different."
   ]
  },
  {
   "cell_type": "markdown",
   "id": "5d8687ff",
   "metadata": {
    "editable": true
   },
   "source": [
    "## Importance sampling, Fokker-Planck and Langevin equations\n",
    "\n",
    "Consider, for instance, a simple system that has only two energy\n",
    "levels $\\epsilon_0 = 0$ and $\\epsilon_1 = \\Delta E$.\n",
    "\n",
    "For a system governed by the Boltzmann distribution we find (the partition function has been taken out)"
   ]
  },
  {
   "cell_type": "markdown",
   "id": "fcf0e605",
   "metadata": {
    "editable": true
   },
   "source": [
    "$$\n",
    "W(0\\rightarrow 1)\\exp{-(\\epsilon_0/kT)} = W(1\\rightarrow 0)\\exp{-(\\epsilon_1/kT)}.\n",
    "$$"
   ]
  },
  {
   "cell_type": "markdown",
   "id": "5b21702b",
   "metadata": {
    "editable": true
   },
   "source": [
    "We get then"
   ]
  },
  {
   "cell_type": "markdown",
   "id": "d9908736",
   "metadata": {
    "editable": true
   },
   "source": [
    "$$\n",
    "\\frac{W(1\\rightarrow 0)}{W(0 \\rightarrow 1)}=\\exp{-(\\Delta E/kT)},\n",
    "$$"
   ]
  },
  {
   "cell_type": "markdown",
   "id": "675dd1fc",
   "metadata": {
    "editable": true
   },
   "source": [
    "which goes to zero when $T$ tends to zero."
   ]
  },
  {
   "cell_type": "markdown",
   "id": "da77f8f1",
   "metadata": {
    "editable": true
   },
   "source": [
    "## Importance sampling, Fokker-Planck and Langevin equations\n",
    "\n",
    "If we assume a discrete set of events,\n",
    "our initial probability\n",
    "distribution function can be  given by"
   ]
  },
  {
   "cell_type": "markdown",
   "id": "ced8238d",
   "metadata": {
    "editable": true
   },
   "source": [
    "$$\n",
    "w_i(0) = \\delta_{i,0},\n",
    "$$"
   ]
  },
  {
   "cell_type": "markdown",
   "id": "20d8afdf",
   "metadata": {
    "editable": true
   },
   "source": [
    "and its time-development after a given time step $\\Delta t=\\epsilon$ is"
   ]
  },
  {
   "cell_type": "markdown",
   "id": "612eaced",
   "metadata": {
    "editable": true
   },
   "source": [
    "$$\n",
    "w_i(t) = \\sum_{j}W(j\\rightarrow i)w_j(t=0).\n",
    "$$"
   ]
  },
  {
   "cell_type": "markdown",
   "id": "7b514ad0",
   "metadata": {
    "editable": true
   },
   "source": [
    "The continuous analog to $w_i(0)$ is"
   ]
  },
  {
   "cell_type": "markdown",
   "id": "33358494",
   "metadata": {
    "editable": true
   },
   "source": [
    "$$\n",
    "w(\\mathbf{x})\\rightarrow \\delta(\\mathbf{x}),\n",
    "$$"
   ]
  },
  {
   "cell_type": "markdown",
   "id": "9f3c0eca",
   "metadata": {
    "editable": true
   },
   "source": [
    "where we now have generalized the one-dimensional position $x$ to a generic-dimensional  \n",
    "vector $\\mathbf{x}$. The Kroenecker $\\delta$ function is replaced by the $\\delta$ distribution\n",
    "function $\\delta(\\mathbf{x})$ at  $t=0$."
   ]
  },
  {
   "cell_type": "markdown",
   "id": "b7f1fdf1",
   "metadata": {
    "editable": true
   },
   "source": [
    "## Importance sampling, Fokker-Planck and Langevin equations\n",
    "\n",
    "The transition from a state $j$ to a state $i$ is now replaced by a transition\n",
    "to a state with position $\\mathbf{y}$ from a state with position $\\mathbf{x}$. \n",
    "The discrete sum of transition probabilities can then be replaced by an integral\n",
    "and we obtain the new distribution at a time $t+\\Delta t$ as"
   ]
  },
  {
   "cell_type": "markdown",
   "id": "aec21194",
   "metadata": {
    "editable": true
   },
   "source": [
    "$$\n",
    "w(\\mathbf{y},t+\\Delta t)= \\int W(\\mathbf{y},t+\\Delta t| \\mathbf{x},t)w(\\mathbf{x},t)d\\mathbf{x},\n",
    "$$"
   ]
  },
  {
   "cell_type": "markdown",
   "id": "dccd7e88",
   "metadata": {
    "editable": true
   },
   "source": [
    "and after $m$ time steps we have"
   ]
  },
  {
   "cell_type": "markdown",
   "id": "1437e098",
   "metadata": {
    "editable": true
   },
   "source": [
    "$$\n",
    "w(\\mathbf{y},t+m\\Delta t)= \\int W(\\mathbf{y},t+m\\Delta t| \\mathbf{x},t)w(\\mathbf{x},t)d\\mathbf{x}.\n",
    "$$"
   ]
  },
  {
   "cell_type": "markdown",
   "id": "11dd1c7b",
   "metadata": {
    "editable": true
   },
   "source": [
    "When equilibrium is reached we have"
   ]
  },
  {
   "cell_type": "markdown",
   "id": "1f7a6b00",
   "metadata": {
    "editable": true
   },
   "source": [
    "$$\n",
    "w(\\mathbf{y})= \\int W(\\mathbf{y}|\\mathbf{x}, t)w(\\mathbf{x})d\\mathbf{x},\n",
    "$$"
   ]
  },
  {
   "cell_type": "markdown",
   "id": "4124b24b",
   "metadata": {
    "editable": true
   },
   "source": [
    "that is no time-dependence. Note our change of notation for $W$"
   ]
  },
  {
   "cell_type": "markdown",
   "id": "40a20c14",
   "metadata": {
    "editable": true
   },
   "source": [
    "## Importance sampling, Fokker-Planck and Langevin equations\n",
    "\n",
    "We can solve the equation for $w(\\mathbf{y},t)$ by making a Fourier transform to\n",
    "momentum space. \n",
    "The PDF $w(\\mathbf{x},t)$ is related to its Fourier transform\n",
    "$\\tilde{w}(\\mathbf{k},t)$ through"
   ]
  },
  {
   "cell_type": "markdown",
   "id": "36dc8aab",
   "metadata": {
    "editable": true
   },
   "source": [
    "$$\n",
    "w(\\mathbf{x},t) = \\int_{-\\infty}^{\\infty}d\\mathbf{k} \\exp{(i\\mathbf{kx})}\\tilde{w}(\\mathbf{k},t),\n",
    "$$"
   ]
  },
  {
   "cell_type": "markdown",
   "id": "a0d834d6",
   "metadata": {
    "editable": true
   },
   "source": [
    "and using the definition of the \n",
    "$\\delta$-function"
   ]
  },
  {
   "cell_type": "markdown",
   "id": "bd8f208c",
   "metadata": {
    "editable": true
   },
   "source": [
    "$$\n",
    "\\delta(\\mathbf{x}) = \\frac{1}{2\\pi} \\int_{-\\infty}^{\\infty}d\\mathbf{k} \\exp{(i\\mathbf{kx})},\n",
    "$$"
   ]
  },
  {
   "cell_type": "markdown",
   "id": "c7df9492",
   "metadata": {
    "editable": true
   },
   "source": [
    "we see that"
   ]
  },
  {
   "cell_type": "markdown",
   "id": "fcb74a20",
   "metadata": {
    "editable": true
   },
   "source": [
    "$$\n",
    "\\tilde{w}(\\mathbf{k},0)=1/2\\pi.\n",
    "$$"
   ]
  },
  {
   "cell_type": "markdown",
   "id": "84e5276b",
   "metadata": {
    "editable": true
   },
   "source": [
    "## Importance sampling, Fokker-Planck and Langevin equations\n",
    "\n",
    "We can then use the Fourier-transformed diffusion equation"
   ]
  },
  {
   "cell_type": "markdown",
   "id": "85b835c4",
   "metadata": {
    "editable": true
   },
   "source": [
    "$$\n",
    "\\frac{\\partial \\tilde{w}(\\mathbf{k},t)}{\\partial t} = -D\\mathbf{k}^2\\tilde{w}(\\mathbf{k},t),\n",
    "$$"
   ]
  },
  {
   "cell_type": "markdown",
   "id": "d33b8f7c",
   "metadata": {
    "editable": true
   },
   "source": [
    "with the obvious solution"
   ]
  },
  {
   "cell_type": "markdown",
   "id": "ccb33975",
   "metadata": {
    "editable": true
   },
   "source": [
    "$$\n",
    "\\tilde{w}(\\mathbf{k},t)=\\tilde{w}(\\mathbf{k},0)\\exp{\\left[-(D\\mathbf{k}^2t)\\right)}=\n",
    "    \\frac{1}{2\\pi}\\exp{\\left[-(D\\mathbf{k}^2t)\\right]}.\n",
    "$$"
   ]
  },
  {
   "cell_type": "markdown",
   "id": "4315114b",
   "metadata": {
    "editable": true
   },
   "source": [
    "## Importance sampling, Fokker-Planck and Langevin equations\n",
    "\n",
    "With the Fourier transform we obtain"
   ]
  },
  {
   "cell_type": "markdown",
   "id": "af728a89",
   "metadata": {
    "editable": true
   },
   "source": [
    "$$\n",
    "w(\\mathbf{x},t)=\\int_{-\\infty}^{\\infty}d\\mathbf{k} \\exp{\\left[i\\mathbf{kx}\\right]}\\frac{1}{2\\pi}\\exp{\\left[-(D\\mathbf{k}^2t)\\right]}=\n",
    "    \\frac{1}{\\sqrt{4\\pi Dt}}\\exp{\\left[-(\\mathbf{x}^2/4Dt)\\right]},\n",
    "$$"
   ]
  },
  {
   "cell_type": "markdown",
   "id": "3fcbbb71",
   "metadata": {
    "editable": true
   },
   "source": [
    "with the normalization condition"
   ]
  },
  {
   "cell_type": "markdown",
   "id": "2bfbe9ef",
   "metadata": {
    "editable": true
   },
   "source": [
    "$$\n",
    "\\int_{-\\infty}^{\\infty}w(\\mathbf{x},t)d\\mathbf{x}=1.\n",
    "$$"
   ]
  },
  {
   "cell_type": "markdown",
   "id": "7aaf1488",
   "metadata": {
    "editable": true
   },
   "source": [
    "## Importance sampling, Fokker-Planck and Langevin equations\n",
    "\n",
    "The solution represents the probability of finding\n",
    "our random walker at position $\\mathbf{x}$ at time $t$ if the initial distribution \n",
    "was placed at $\\mathbf{x}=0$ at $t=0$. \n",
    "\n",
    "There is another interesting feature worth observing. The discrete transition probability $W$\n",
    "itself is given by a binomial distribution.\n",
    "The results from the central limit theorem state that \n",
    "transition probability in the limit $n\\rightarrow \\infty$ converges to the normal \n",
    "distribution. It is then possible to show that"
   ]
  },
  {
   "cell_type": "markdown",
   "id": "cdb2a2cf",
   "metadata": {
    "editable": true
   },
   "source": [
    "$$\n",
    "W(il-jl,n\\epsilon)\\rightarrow W(\\mathbf{y},t+\\Delta t|\\mathbf{x},t)=\n",
    "    \\frac{1}{\\sqrt{4\\pi D\\Delta t}}\\exp{\\left[-((\\mathbf{y}-\\mathbf{x})^2/4D\\Delta t)\\right]},\n",
    "$$"
   ]
  },
  {
   "cell_type": "markdown",
   "id": "197ea1de",
   "metadata": {
    "editable": true
   },
   "source": [
    "and that it satisfies the normalization condition and is itself a solution\n",
    "to the diffusion equation."
   ]
  },
  {
   "cell_type": "markdown",
   "id": "3c11b0ed",
   "metadata": {
    "editable": true
   },
   "source": [
    "## Importance sampling, Fokker-Planck and Langevin equations\n",
    "\n",
    "Let us now assume that we have three PDFs for times $t_0 < t' < t$, that is\n",
    "$w(\\mathbf{x}_0,t_0)$, $w(\\mathbf{x}',t')$ and $w(\\mathbf{x},t)$.\n",
    "We have then"
   ]
  },
  {
   "cell_type": "markdown",
   "id": "2a1706ed",
   "metadata": {
    "editable": true
   },
   "source": [
    "$$\n",
    "w(\\mathbf{x},t)= \\int_{-\\infty}^{\\infty} W(\\mathbf{x}.t|\\mathbf{x}'.t')w(\\mathbf{x}',t')d\\mathbf{x}',\n",
    "$$"
   ]
  },
  {
   "cell_type": "markdown",
   "id": "c327165d",
   "metadata": {
    "editable": true
   },
   "source": [
    "and"
   ]
  },
  {
   "cell_type": "markdown",
   "id": "310283bd",
   "metadata": {
    "editable": true
   },
   "source": [
    "$$\n",
    "w(\\mathbf{x},t)= \\int_{-\\infty}^{\\infty} W(\\mathbf{x}.t|\\mathbf{x}_0.t_0)w(\\mathbf{x}_0,t_0)d\\mathbf{x}_0,\n",
    "$$"
   ]
  },
  {
   "cell_type": "markdown",
   "id": "630c1119",
   "metadata": {
    "editable": true
   },
   "source": [
    "and"
   ]
  },
  {
   "cell_type": "markdown",
   "id": "bb99a291",
   "metadata": {
    "editable": true
   },
   "source": [
    "$$\n",
    "w(\\mathbf{x}',t')= \\int_{-\\infty}^{\\infty} W(\\mathbf{x}'.t'|\\mathbf{x}_0,t_0)w(\\mathbf{x}_0,t_0)d\\mathbf{x}_0.\n",
    "$$"
   ]
  },
  {
   "cell_type": "markdown",
   "id": "9b185154",
   "metadata": {
    "editable": true
   },
   "source": [
    "## Importance sampling, Fokker-Planck and Langevin equations\n",
    "\n",
    "We can combine these equations and arrive at the famous Einstein-Smoluchenski-Kolmogorov-Chapman (ESKC) relation"
   ]
  },
  {
   "cell_type": "markdown",
   "id": "66ab84c2",
   "metadata": {
    "editable": true
   },
   "source": [
    "$$\n",
    "W(\\mathbf{x}t|\\mathbf{x}_0t_0)  = \\int_{-\\infty}^{\\infty} W(\\mathbf{x},t|\\mathbf{x}',t')W(\\mathbf{x}',t'|\\mathbf{x}_0,t_0)d\\mathbf{x}'.\n",
    "$$"
   ]
  },
  {
   "cell_type": "markdown",
   "id": "96579bf6",
   "metadata": {
    "editable": true
   },
   "source": [
    "We can replace the spatial dependence with a dependence upon say the velocity\n",
    "(or momentum), that is we have"
   ]
  },
  {
   "cell_type": "markdown",
   "id": "e1444284",
   "metadata": {
    "editable": true
   },
   "source": [
    "$$\n",
    "W(\\mathbf{v},t|\\mathbf{v}_0,t_0)  = \\int_{-\\infty}^{\\infty} W(\\mathbf{v},t|\\mathbf{v}',t')W(\\mathbf{v}',t'|\\mathbf{v}_0,t_0)d\\mathbf{x}'.\n",
    "$$"
   ]
  },
  {
   "cell_type": "markdown",
   "id": "3008933b",
   "metadata": {
    "editable": true
   },
   "source": [
    "## Importance sampling, Fokker-Planck and Langevin equations\n",
    "\n",
    "We will now derive the Fokker-Planck equation. \n",
    "We start from the ESKC equation"
   ]
  },
  {
   "cell_type": "markdown",
   "id": "3a1dd823",
   "metadata": {
    "editable": true
   },
   "source": [
    "$$\n",
    "W(\\mathbf{x},t|\\mathbf{x}_0,t_0)  = \\int_{-\\infty}^{\\infty} W(\\mathbf{x},t|\\mathbf{x}',t')W(\\mathbf{x}',t'|\\mathbf{x}_0,t_0)d\\mathbf{x}'.\n",
    "$$"
   ]
  },
  {
   "cell_type": "markdown",
   "id": "ee728156",
   "metadata": {
    "editable": true
   },
   "source": [
    "Define $s=t'-t_0$, $\\tau=t-t'$ and $t-t_0=s+\\tau$. We have then"
   ]
  },
  {
   "cell_type": "markdown",
   "id": "1fe367ab",
   "metadata": {
    "editable": true
   },
   "source": [
    "$$\n",
    "W(\\mathbf{x},s+\\tau|\\mathbf{x}_0)  = \\int_{-\\infty}^{\\infty} W(\\mathbf{x},\\tau|\\mathbf{x}')W(\\mathbf{x}',s|\\mathbf{x}_0)d\\mathbf{x}'.\n",
    "$$"
   ]
  },
  {
   "cell_type": "markdown",
   "id": "0646b450",
   "metadata": {
    "editable": true
   },
   "source": [
    "## Importance sampling, Fokker-Planck and Langevin equations\n",
    "\n",
    "Assume now that $\\tau$ is very small so that we can make an expansion in terms of a small step $xi$, with $\\mathbf{x}'=\\mathbf{x}-\\xi$, that is"
   ]
  },
  {
   "cell_type": "markdown",
   "id": "db33050b",
   "metadata": {
    "editable": true
   },
   "source": [
    "$$\n",
    "W(\\mathbf{x},s|\\mathbf{x}_0)+\\frac{\\partial W}{\\partial s}\\tau +O(\\tau^2) = \\int_{-\\infty}^{\\infty} W(\\mathbf{x},\\tau|\\mathbf{x}-\\xi)W(\\mathbf{x}-\\xi,s|\\mathbf{x}_0)d\\mathbf{x}'.\n",
    "$$"
   ]
  },
  {
   "cell_type": "markdown",
   "id": "b6512aa2",
   "metadata": {
    "editable": true
   },
   "source": [
    "We assume that $W(\\mathbf{x},\\tau|\\mathbf{x}-\\xi)$ takes non-negligible values only when $\\xi$ is small. This is just another way of stating the Master equation!!"
   ]
  },
  {
   "cell_type": "markdown",
   "id": "c6c7d4a4",
   "metadata": {
    "editable": true
   },
   "source": [
    "## Importance sampling, Fokker-Planck and Langevin equations\n",
    "\n",
    "We say thus that $\\mathbf{x}$ changes only by a small amount in the time interval $\\tau$. \n",
    "This means that we can make a Taylor expansion in terms of $\\xi$, that is we\n",
    "expand"
   ]
  },
  {
   "cell_type": "markdown",
   "id": "89b3d155",
   "metadata": {
    "editable": true
   },
   "source": [
    "$$\n",
    "W(\\mathbf{x},\\tau|\\mathbf{x}-\\xi)W(\\mathbf{x}-\\xi,s|\\mathbf{x}_0) =\n",
    "\\sum_{n=0}^{\\infty}\\frac{(-\\xi)^n}{n!}\\frac{\\partial^n}{\\partial x^n}\\left[W(\\mathbf{x}+\\xi,\\tau|\\mathbf{x})W(\\mathbf{x},s|\\mathbf{x}_0)\n",
    "\\right].\n",
    "$$"
   ]
  },
  {
   "cell_type": "markdown",
   "id": "9d9bf31b",
   "metadata": {
    "editable": true
   },
   "source": [
    "## Importance sampling, Fokker-Planck and Langevin equations\n",
    "\n",
    "We can then rewrite the ESKC equation as"
   ]
  },
  {
   "cell_type": "markdown",
   "id": "9313bc10",
   "metadata": {
    "editable": true
   },
   "source": [
    "$$\n",
    "\\frac{\\partial W}{\\partial s}\\tau=-W(\\mathbf{x},s|\\mathbf{x}_0)+\n",
    "\\sum_{n=0}^{\\infty}\\frac{(-\\xi)^n}{n!}\\frac{\\partial^n}{\\partial x^n}\n",
    "\\left[W(\\mathbf{x},s|\\mathbf{x}_0)\\int_{-\\infty}^{\\infty} \\xi^nW(\\mathbf{x}+\\xi,\\tau|\\mathbf{x})d\\xi\\right].\n",
    "$$"
   ]
  },
  {
   "cell_type": "markdown",
   "id": "91ccc2fe",
   "metadata": {
    "editable": true
   },
   "source": [
    "We have neglected higher powers of $\\tau$ and have used that for $n=0$ \n",
    "we get simply $W(\\mathbf{x},s|\\mathbf{x}_0)$ due to normalization."
   ]
  },
  {
   "cell_type": "markdown",
   "id": "72890ff1",
   "metadata": {
    "editable": true
   },
   "source": [
    "## Importance sampling, Fokker-Planck and Langevin equations\n",
    "\n",
    "We say thus that $\\mathbf{x}$ changes only by a small amount in the time interval $\\tau$. \n",
    "This means that we can make a Taylor expansion in terms of $\\xi$, that is we\n",
    "expand"
   ]
  },
  {
   "cell_type": "markdown",
   "id": "80a372fa",
   "metadata": {
    "editable": true
   },
   "source": [
    "$$\n",
    "W(\\mathbf{x},\\tau|\\mathbf{x}-\\xi)W(\\mathbf{x}-\\xi,s|\\mathbf{x}_0) =\n",
    "\\sum_{n=0}^{\\infty}\\frac{(-\\xi)^n}{n!}\\frac{\\partial^n}{\\partial x^n}\\left[W(\\mathbf{x}+\\xi,\\tau|\\mathbf{x})W(\\mathbf{x},s|\\mathbf{x}_0)\n",
    "\\right].\n",
    "$$"
   ]
  },
  {
   "cell_type": "markdown",
   "id": "dabd3e9f",
   "metadata": {
    "editable": true
   },
   "source": [
    "## Importance sampling, Fokker-Planck and Langevin equations\n",
    "We can then rewrite the ESKC equation as"
   ]
  },
  {
   "cell_type": "markdown",
   "id": "85ecbdf2",
   "metadata": {
    "editable": true
   },
   "source": [
    "$$\n",
    "\\frac{\\partial W(\\mathbf{x},s|\\mathbf{x}_0)}{\\partial s}\\tau=-W(\\mathbf{x},s|\\mathbf{x}_0)+\n",
    "\\sum_{n=0}^{\\infty}\\frac{(-\\xi)^n}{n!}\\frac{\\partial^n}{\\partial x^n}\n",
    "\\left[W(\\mathbf{x},s|\\mathbf{x}_0)\\int_{-\\infty}^{\\infty} \\xi^nW(\\mathbf{x}+\\xi,\\tau|\\mathbf{x})d\\xi\\right].\n",
    "$$"
   ]
  },
  {
   "cell_type": "markdown",
   "id": "9bf13681",
   "metadata": {
    "editable": true
   },
   "source": [
    "We have neglected higher powers of $\\tau$ and have used that for $n=0$ \n",
    "we get simply $W(\\mathbf{x},s|\\mathbf{x}_0)$ due to normalization."
   ]
  },
  {
   "cell_type": "markdown",
   "id": "8d197bf8",
   "metadata": {
    "editable": true
   },
   "source": [
    "## Importance sampling, Fokker-Planck and Langevin equations\n",
    "We simplify the above by introducing the moments"
   ]
  },
  {
   "cell_type": "markdown",
   "id": "d98e572c",
   "metadata": {
    "editable": true
   },
   "source": [
    "$$\n",
    "M_n=\\frac{1}{\\tau}\\int_{-\\infty}^{\\infty} \\xi^nW(\\mathbf{x}+\\xi,\\tau|\\mathbf{x})d\\xi=\n",
    "\\frac{\\langle [\\Delta x(\\tau)]^n\\rangle}{\\tau},\n",
    "$$"
   ]
  },
  {
   "cell_type": "markdown",
   "id": "4ede7fbb",
   "metadata": {
    "editable": true
   },
   "source": [
    "resulting in"
   ]
  },
  {
   "cell_type": "markdown",
   "id": "e2a7eeb7",
   "metadata": {
    "editable": true
   },
   "source": [
    "$$\n",
    "\\frac{\\partial W(\\mathbf{x},s|\\mathbf{x}_0)}{\\partial s}=\n",
    "\\sum_{n=1}^{\\infty}\\frac{(-\\xi)^n}{n!}\\frac{\\partial^n}{\\partial x^n}\n",
    "\\left[W(\\mathbf{x},s|\\mathbf{x}_0)M_n\\right].\n",
    "$$"
   ]
  },
  {
   "cell_type": "markdown",
   "id": "ede08a9b",
   "metadata": {
    "editable": true
   },
   "source": [
    "## Importance sampling, Fokker-Planck and Langevin equations\n",
    "When $\\tau \\rightarrow 0$ we assume that $\\langle [\\Delta x(\\tau)]^n\\rangle \\rightarrow 0$ more rapidly than $\\tau$ itself if $n > 2$. \n",
    "When $\\tau$ is much larger than the standard correlation time of \n",
    "system then $M_n$ for $n > 2$ can normally be neglected.\n",
    "This means that fluctuations become negligible at large time scales.\n",
    "\n",
    "If we neglect such terms we can rewrite the ESKC equation as"
   ]
  },
  {
   "cell_type": "markdown",
   "id": "1af36447",
   "metadata": {
    "editable": true
   },
   "source": [
    "$$\n",
    "\\frac{\\partial W(\\mathbf{x},s|\\mathbf{x}_0)}{\\partial s}=\n",
    "-\\frac{\\partial M_1W(\\mathbf{x},s|\\mathbf{x}_0)}{\\partial x}+\n",
    "\\frac{1}{2}\\frac{\\partial^2 M_2W(\\mathbf{x},s|\\mathbf{x}_0)}{\\partial x^2}.\n",
    "$$"
   ]
  },
  {
   "cell_type": "markdown",
   "id": "2bf85bd7",
   "metadata": {
    "editable": true
   },
   "source": [
    "## Importance sampling, Fokker-Planck and Langevin equations\n",
    "In a more compact form we have"
   ]
  },
  {
   "cell_type": "markdown",
   "id": "f358965e",
   "metadata": {
    "editable": true
   },
   "source": [
    "$$\n",
    "\\frac{\\partial W}{\\partial s}=\n",
    "-\\frac{\\partial M_1W}{\\partial x}+\n",
    "\\frac{1}{2}\\frac{\\partial^2 M_2W}{\\partial x^2},\n",
    "$$"
   ]
  },
  {
   "cell_type": "markdown",
   "id": "993cc959",
   "metadata": {
    "editable": true
   },
   "source": [
    "which is the Fokker-Planck equation!  It is trivial to replace \n",
    "position with velocity (momentum)."
   ]
  },
  {
   "cell_type": "markdown",
   "id": "12a679be",
   "metadata": {
    "editable": true
   },
   "source": [
    "## Importance sampling, Fokker-Planck and Langevin equations\n",
    "**Langevin equation.**\n",
    "\n",
    "Consider a particle  suspended in a liquid. On its path through the liquid it will continuously collide with the liquid molecules. Because on average the particle  will collide more often on the front side than on the back side, it will experience a systematic force proportional with its velocity, and directed opposite to its velocity. Besides this systematic force the particle  will experience a stochastic force  $\\mathbf{F}(t)$. \n",
    "The equations of motion are \n",
    "* $\\frac{d\\mathbf{r}}{dt}=\\mathbf{v}$ and \n",
    "\n",
    "* $\\frac{d\\mathbf{v}}{dt}=-\\xi \\mathbf{v}+\\mathbf{F}$."
   ]
  },
  {
   "cell_type": "markdown",
   "id": "346078f8",
   "metadata": {
    "editable": true
   },
   "source": [
    "## Importance sampling, Fokker-Planck and Langevin equations\n",
    "**Langevin equation.**\n",
    "\n",
    "From hydrodynamics  we know that the friction constant  $\\xi$ is given by"
   ]
  },
  {
   "cell_type": "markdown",
   "id": "c1ac6c5d",
   "metadata": {
    "editable": true
   },
   "source": [
    "$$\n",
    "\\xi =6\\pi \\eta a/m\n",
    "$$"
   ]
  },
  {
   "cell_type": "markdown",
   "id": "8d11e829",
   "metadata": {
    "editable": true
   },
   "source": [
    "where $\\eta$ is the viscosity  of the solvent and a is the radius of the particle .\n",
    "\n",
    "Solving the second equation in the previous slide we get"
   ]
  },
  {
   "cell_type": "markdown",
   "id": "ec528722",
   "metadata": {
    "editable": true
   },
   "source": [
    "$$\n",
    "\\mathbf{v}(t)=\\mathbf{v}_{0}e^{-\\xi t}+\\int_{0}^{t}d\\tau e^{-\\xi (t-\\tau )}\\mathbf{F }(\\tau ).\n",
    "$$"
   ]
  },
  {
   "cell_type": "markdown",
   "id": "4bb08b0f",
   "metadata": {
    "editable": true
   },
   "source": [
    "## Importance sampling, Fokker-Planck and Langevin equations\n",
    "**Langevin equation.**\n",
    "\n",
    "If we want to get some useful information out of this, we have to average over all possible realizations of \n",
    "$\\mathbf{F}(t)$, with the initial velocity as a condition. A useful quantity for example is"
   ]
  },
  {
   "cell_type": "markdown",
   "id": "0e5401bf",
   "metadata": {
    "editable": true
   },
   "source": [
    "$$\n",
    "\\langle \\mathbf{v}(t)\\cdot \\mathbf{v}(t)\\rangle_{\\mathbf{v}_{0}}=v_{0}^{-\\xi 2t}\n",
    "+2\\int_{0}^{t}d\\tau e^{-\\xi (2t-\\tau)}\\mathbf{v}_{0}\\cdot \\langle \\mathbf{F}(\\tau )\\rangle_{\\mathbf{v}_{0}}\n",
    "$$"
   ]
  },
  {
   "cell_type": "markdown",
   "id": "3dbdd1dc",
   "metadata": {
    "editable": true
   },
   "source": [
    "$$\n",
    "+\\int_{0}^{t}d\\tau ^{\\prime }\\int_{0}^{t}d\\tau e^{-\\xi (2t-\\tau -\\tau ^{\\prime })}\n",
    "\\langle \\mathbf{F}(\\tau )\\cdot \\mathbf{F}(\\tau ^{\\prime })\\rangle_{ \\mathbf{v}_{0}}.\n",
    "$$"
   ]
  },
  {
   "cell_type": "markdown",
   "id": "a961800e",
   "metadata": {
    "editable": true
   },
   "source": [
    "## Importance sampling, Fokker-Planck and Langevin equations\n",
    "**Langevin equation.**\n",
    "\n",
    "In order to continue we have to make some assumptions about the conditional averages of the stochastic forces. \n",
    "In view of the chaotic character of the stochastic forces the following \n",
    "assumptions seem to be appropriate"
   ]
  },
  {
   "cell_type": "markdown",
   "id": "5b485c9c",
   "metadata": {
    "editable": true
   },
   "source": [
    "$$\n",
    "\\langle \\mathbf{F}(t)\\rangle=0,\n",
    "$$"
   ]
  },
  {
   "cell_type": "markdown",
   "id": "96c25b0d",
   "metadata": {
    "editable": true
   },
   "source": [
    "and"
   ]
  },
  {
   "cell_type": "markdown",
   "id": "66fe1fab",
   "metadata": {
    "editable": true
   },
   "source": [
    "$$\n",
    "\\langle \\mathbf{F}(t)\\cdot \\mathbf{F}(t^{\\prime })\\rangle_{\\mathbf{v}_{0}}=  C_{\\mathbf{v}_{0}}\\delta (t-t^{\\prime }).\n",
    "$$"
   ]
  },
  {
   "cell_type": "markdown",
   "id": "ee5ccdf1",
   "metadata": {
    "editable": true
   },
   "source": [
    "We omit the subscript $\\mathbf{v}_{0}$, when the quantity of interest turns out to be independent of $\\mathbf{v}_{0}$. Using the last three equations we get"
   ]
  },
  {
   "cell_type": "markdown",
   "id": "4af306ea",
   "metadata": {
    "editable": true
   },
   "source": [
    "$$\n",
    "\\langle \\mathbf{v}(t)\\cdot \\mathbf{v}(t)\\rangle_{\\mathbf{v}_{0}}=v_{0}^{2}e^{-2\\xi t}+\\frac{C_{\\mathbf{v}_{0}}}{2\\xi }(1-e^{-2\\xi t}).\n",
    "$$"
   ]
  },
  {
   "cell_type": "markdown",
   "id": "d37939e2",
   "metadata": {
    "editable": true
   },
   "source": [
    "For large t this should be equal to 3kT/m, from which it follows that"
   ]
  },
  {
   "cell_type": "markdown",
   "id": "1ba4f1ea",
   "metadata": {
    "editable": true
   },
   "source": [
    "$$\n",
    "\\langle \\mathbf{F}(t)\\cdot \\mathbf{F}(t^{\\prime })\\rangle =6\\frac{kT}{m}\\xi \\delta (t-t^{\\prime }).\n",
    "$$"
   ]
  },
  {
   "cell_type": "markdown",
   "id": "c568ea42",
   "metadata": {
    "editable": true
   },
   "source": [
    "This result is called the fluctuation-dissipation theorem ."
   ]
  },
  {
   "cell_type": "markdown",
   "id": "ccb3efc4",
   "metadata": {
    "editable": true
   },
   "source": [
    "## Importance sampling, Fokker-Planck and Langevin equations\n",
    "**Langevin equation.**\n",
    "\n",
    "Integrating"
   ]
  },
  {
   "cell_type": "markdown",
   "id": "ddfdd60a",
   "metadata": {
    "editable": true
   },
   "source": [
    "$$\n",
    "\\mathbf{v}(t)=\\mathbf{v}_{0}e^{-\\xi t}+\\int_{0}^{t}d\\tau e^{-\\xi (t-\\tau )}\\mathbf{F }(\\tau ),\n",
    "$$"
   ]
  },
  {
   "cell_type": "markdown",
   "id": "f7793294",
   "metadata": {
    "editable": true
   },
   "source": [
    "we get"
   ]
  },
  {
   "cell_type": "markdown",
   "id": "cf668ba3",
   "metadata": {
    "editable": true
   },
   "source": [
    "$$\n",
    "\\mathbf{r}(t)=\\mathbf{r}_{0}+\\mathbf{v}_{0}\\frac{1}{\\xi }(1-e^{-\\xi t})+\n",
    "\\int_0^td\\tau \\int_0^{\\tau}\\tau ^{\\prime } e^{-\\xi (\\tau -\\tau ^{\\prime })}\\mathbf{F}(\\tau ^{\\prime }),\n",
    "$$"
   ]
  },
  {
   "cell_type": "markdown",
   "id": "47c3ac7d",
   "metadata": {
    "editable": true
   },
   "source": [
    "from which we calculate the mean square displacement"
   ]
  },
  {
   "cell_type": "markdown",
   "id": "c1aa1306",
   "metadata": {
    "editable": true
   },
   "source": [
    "$$\n",
    "\\langle ( \\mathbf{r}(t)-\\mathbf{r}_{0})^{2}\\rangle _{\\mathbf{v}_{0}}=\\frac{v_0^2}{\\xi}(1-e^{-\\xi t})^{2}+\\frac{3kT}{m\\xi ^{2}}(2\\xi t-3+4e^{-\\xi t}-e^{-2\\xi t}).\n",
    "$$"
   ]
  },
  {
   "cell_type": "markdown",
   "id": "e51b0318",
   "metadata": {
    "editable": true
   },
   "source": [
    "## Importance sampling, Fokker-Planck and Langevin equations\n",
    "**Langevin equation.**\n",
    "\n",
    "For very large $t$ this becomes"
   ]
  },
  {
   "cell_type": "markdown",
   "id": "8812ff3c",
   "metadata": {
    "editable": true
   },
   "source": [
    "$$\n",
    "\\langle (\\mathbf{r}(t)-\\mathbf{r}_{0})^{2}\\rangle =\\frac{6kT}{m\\xi }t\n",
    "$$"
   ]
  },
  {
   "cell_type": "markdown",
   "id": "6c4a0431",
   "metadata": {
    "editable": true
   },
   "source": [
    "from which we get the Einstein relation"
   ]
  },
  {
   "cell_type": "markdown",
   "id": "e4645135",
   "metadata": {
    "editable": true
   },
   "source": [
    "$$\n",
    "D= \\frac{kT}{m\\xi }\n",
    "$$"
   ]
  },
  {
   "cell_type": "markdown",
   "id": "f1a42168",
   "metadata": {
    "editable": true
   },
   "source": [
    "where we have used $\\langle (\\mathbf{r}(t)-\\mathbf{r}_{0})^{2}\\rangle =6Dt$."
   ]
  },
  {
   "cell_type": "markdown",
   "id": "514663b6",
   "metadata": {
    "editable": true
   },
   "source": [
    "## Importance sampling, programming elements\n",
    "\n",
    "The general derivative formula of the Jastrow factor (or the ansatz for the correlated part of the wave function) is (the subscript $C$ stands for Correlation)"
   ]
  },
  {
   "cell_type": "markdown",
   "id": "d91a242d",
   "metadata": {
    "editable": true
   },
   "source": [
    "$$\n",
    "\\frac{1}{\\Psi_C}\\frac{\\partial \\Psi_C}{\\partial x_k} =\n",
    "\\sum_{i=1}^{k-1}\\frac{\\partial g_{ik}}{\\partial x_k}\n",
    "+\n",
    "\\sum_{i=k+1}^{N}\\frac{\\partial g_{ki}}{\\partial x_k}\n",
    "$$"
   ]
  },
  {
   "cell_type": "markdown",
   "id": "792b9acc",
   "metadata": {
    "editable": true
   },
   "source": [
    "However, \n",
    "with our written in way which can be reused later as"
   ]
  },
  {
   "cell_type": "markdown",
   "id": "96c030f4",
   "metadata": {
    "editable": true
   },
   "source": [
    "$$\n",
    "\\Psi_C=\\prod_{i< j}g(r_{ij})= \\exp{\\left\\{\\sum_{i<j}f(r_{ij})\\right\\}},\n",
    "$$"
   ]
  },
  {
   "cell_type": "markdown",
   "id": "cab48561",
   "metadata": {
    "editable": true
   },
   "source": [
    "the gradient needed for the quantum force and local energy is easy to compute.  \n",
    "The function $f(r_{ij})$ will depends on the system under study. In the equations below we will keep this general form."
   ]
  },
  {
   "cell_type": "markdown",
   "id": "a82fae0a",
   "metadata": {
    "editable": true
   },
   "source": [
    "## Importance sampling, program elements\n",
    "\n",
    "In the Metropolis/Hasting algorithm, the *acceptance ratio* determines the probability for a particle  to be accepted at a new position. The ratio of the trial wave functions evaluated at the new and current positions is given by ($OB$ for the onebody  part)"
   ]
  },
  {
   "cell_type": "markdown",
   "id": "641fab9c",
   "metadata": {
    "editable": true
   },
   "source": [
    "$$\n",
    "R \\equiv \\frac{\\Psi_{T}^{new}}{\\Psi_{T}^{old}} = \n",
    "\\frac{\\Psi_{OB}^{new}}{\\Psi_{OB}^{old}}\\frac{\\Psi_{C}^{new}}{\\Psi_{C}^{old}}\n",
    "$$"
   ]
  },
  {
   "cell_type": "markdown",
   "id": "58c4e875",
   "metadata": {
    "editable": true
   },
   "source": [
    "Here $\\Psi_{OB}$ is our onebody part (Slater determinant or product of boson single-particle states)  while $\\Psi_{C}$ is our correlation function, or Jastrow factor. \n",
    "We need to optimize the $\\nabla \\Psi_T / \\Psi_T$ ratio and the second derivative as well, that is\n",
    "the $\\mathbf{\\nabla}^2 \\Psi_T/\\Psi_T$ ratio. The first is needed when we compute the so-called quantum force in importance sampling.\n",
    "The second is needed when we compute the kinetic energy term of the local energy."
   ]
  },
  {
   "cell_type": "markdown",
   "id": "466e99c2",
   "metadata": {
    "editable": true
   },
   "source": [
    "$$\n",
    "\\frac{\\mathbf{\\mathbf{\\nabla}}  \\Psi}{\\Psi}  = \\frac{\\mathbf{\\nabla}  (\\Psi_{OB} \\, \\Psi_{C})}{\\Psi_{OB} \\, \\Psi_{C}}  =  \\frac{ \\Psi_C \\mathbf{\\nabla}  \\Psi_{OB} + \\Psi_{OB} \\mathbf{\\nabla}  \\Psi_{C}}{\\Psi_{OB} \\Psi_{C}} = \\frac{\\mathbf{\\nabla}  \\Psi_{OB}}{\\Psi_{OB}} + \\frac{\\mathbf{\\nabla}   \\Psi_C}{ \\Psi_C}\n",
    "$$"
   ]
  },
  {
   "cell_type": "markdown",
   "id": "d9acb8f2",
   "metadata": {
    "editable": true
   },
   "source": [
    "## Importance sampling\n",
    "\n",
    "The expectation value of the kinetic energy expressed in scaled units  for particle  $i$ is"
   ]
  },
  {
   "cell_type": "markdown",
   "id": "f0fab092",
   "metadata": {
    "editable": true
   },
   "source": [
    "$$\n",
    "\\langle \\hat{K}_i \\rangle = -\\frac{1}{2}\\frac{\\langle\\Psi|\\mathbf{\\nabla}_{i}^2|\\Psi \\rangle}{\\langle\\Psi|\\Psi \\rangle},\n",
    "$$"
   ]
  },
  {
   "cell_type": "markdown",
   "id": "8390ebc9",
   "metadata": {
    "editable": true
   },
   "source": [
    "$$\n",
    "\\hat{K}_i = -\\frac{1}{2}\\frac{\\mathbf{\\nabla}_{i}^{2} \\Psi}{\\Psi}.\n",
    "$$"
   ]
  },
  {
   "cell_type": "markdown",
   "id": "52632bee",
   "metadata": {
    "editable": true
   },
   "source": [
    "## Importance sampling\n",
    "\n",
    "The second derivative which enters the definition of the local energy is"
   ]
  },
  {
   "cell_type": "markdown",
   "id": "d90948f4",
   "metadata": {
    "editable": true
   },
   "source": [
    "$$\n",
    "\\frac{\\mathbf{\\nabla}^2 \\Psi}{\\Psi}=\\frac{\\mathbf{\\nabla}^2 \\Psi_{OB}}{\\Psi_{OB}} + \\frac{\\mathbf{\\nabla}^2  \\Psi_C}{ \\Psi_C} + 2 \\frac{\\mathbf{\\nabla}  \\Psi_{OB}}{\\Psi_{OB}}\\cdot\\frac{\\mathbf{\\nabla}   \\Psi_C}{ \\Psi_C}\n",
    "$$"
   ]
  },
  {
   "cell_type": "markdown",
   "id": "bb782834",
   "metadata": {
    "editable": true
   },
   "source": [
    "We discuss here how to calculate these quantities in an optimal way."
   ]
  },
  {
   "cell_type": "markdown",
   "id": "706275a3",
   "metadata": {
    "editable": true
   },
   "source": [
    "## Importance sampling\n",
    "\n",
    "We have defined the correlated function as"
   ]
  },
  {
   "cell_type": "markdown",
   "id": "8f06e9d7",
   "metadata": {
    "editable": true
   },
   "source": [
    "$$\n",
    "\\Psi_C=\\prod_{i< j}g(r_{ij})=\\prod_{i< j}^Ng(r_{ij})= \\prod_{i=1}^N\\prod_{j=i+1}^Ng(r_{ij}),\n",
    "$$"
   ]
  },
  {
   "cell_type": "markdown",
   "id": "a4ac5c44",
   "metadata": {
    "editable": true
   },
   "source": [
    "with \n",
    "$r_{ij}=|\\mathbf{r}_i-\\mathbf{r}_j|=\\sqrt{(x_i-x_j)^2+(y_i-y_j)^2+(z_i-z_j)^2}$ in three dimensions or\n",
    "$r_{ij}=|\\mathbf{r}_i-\\mathbf{r}_j|=\\sqrt{(x_i-x_j)^2+(y_i-y_j)^2}$ if we work with two-dimensional systems.\n",
    "\n",
    "In our particular case we have"
   ]
  },
  {
   "cell_type": "markdown",
   "id": "765d1653",
   "metadata": {
    "editable": true
   },
   "source": [
    "$$\n",
    "\\Psi_C=\\prod_{i< j}g(r_{ij})=\\exp{\\left\\{\\sum_{i<j}f(r_{ij})\\right\\}}.\n",
    "$$"
   ]
  },
  {
   "cell_type": "markdown",
   "id": "a6f35c8c",
   "metadata": {
    "editable": true
   },
   "source": [
    "## Importance sampling\n",
    "\n",
    "The total number of different relative distances $r_{ij}$ is $N(N-1)/2$. In a matrix storage format, the relative distances  form a strictly upper triangular matrix"
   ]
  },
  {
   "cell_type": "markdown",
   "id": "0ffdd04b",
   "metadata": {
    "editable": true
   },
   "source": [
    "$$\n",
    "\\mathbf{r} \\equiv \\begin{pmatrix}\n",
    "  0 & r_{1,2} & r_{1,3} & \\cdots & r_{1,N} \\\\\n",
    "  \\vdots & 0       & r_{2,3} & \\cdots & r_{2,N} \\\\\n",
    "  \\vdots & \\vdots  & 0  & \\ddots & \\vdots  \\\\\n",
    "  \\vdots & \\vdots  & \\vdots  & \\ddots  & r_{N-1,N} \\\\\n",
    "  0 & 0  & 0  & \\cdots  & 0\n",
    " \\end{pmatrix}.\n",
    "$$"
   ]
  },
  {
   "cell_type": "markdown",
   "id": "30251524",
   "metadata": {
    "editable": true
   },
   "source": [
    "This applies to  $\\mathbf{g} = \\mathbf{g}(r_{ij})$ as well. \n",
    "\n",
    "In our algorithm we will move one particle  at the time, say the $kth$-particle.  This sampling will be seen to be particularly efficient when we are going to compute a Slater determinant."
   ]
  },
  {
   "cell_type": "markdown",
   "id": "bf960fc4",
   "metadata": {
    "editable": true
   },
   "source": [
    "## Importance sampling\n",
    "\n",
    "We have that the ratio between Jastrow factors $R_C$ is given by"
   ]
  },
  {
   "cell_type": "markdown",
   "id": "9e9b2a9f",
   "metadata": {
    "editable": true
   },
   "source": [
    "$$\n",
    "R_{C} = \\frac{\\Psi_{C}^\\mathrm{new}}{\\Psi_{C}^\\mathrm{cur}} =\n",
    "\\prod_{i=1}^{k-1}\\frac{g_{ik}^\\mathrm{new}}{g_{ik}^\\mathrm{cur}}\n",
    "\\prod_{i=k+1}^{N}\\frac{ g_{ki}^\\mathrm{new}} {g_{ki}^\\mathrm{cur}}.\n",
    "$$"
   ]
  },
  {
   "cell_type": "markdown",
   "id": "61540bbf",
   "metadata": {
    "editable": true
   },
   "source": [
    "For the Pade-Jastrow form"
   ]
  },
  {
   "cell_type": "markdown",
   "id": "0425101e",
   "metadata": {
    "editable": true
   },
   "source": [
    "$$\n",
    "R_{C} = \\frac{\\Psi_{C}^\\mathrm{new}}{\\Psi_{C}^\\mathrm{cur}} = \n",
    "\\frac{\\exp{U_{new}}}{\\exp{U_{cur}}} = \\exp{\\Delta U},\n",
    "$$"
   ]
  },
  {
   "cell_type": "markdown",
   "id": "1ca28d63",
   "metadata": {
    "editable": true
   },
   "source": [
    "where"
   ]
  },
  {
   "cell_type": "markdown",
   "id": "e352aa7f",
   "metadata": {
    "editable": true
   },
   "source": [
    "$$\n",
    "\\Delta U =\n",
    "\\sum_{i=1}^{k-1}\\big(f_{ik}^\\mathrm{new}-f_{ik}^\\mathrm{cur}\\big)\n",
    "+\n",
    "\\sum_{i=k+1}^{N}\\big(f_{ki}^\\mathrm{new}-f_{ki}^\\mathrm{cur}\\big)\n",
    "$$"
   ]
  },
  {
   "cell_type": "markdown",
   "id": "bc6558e5",
   "metadata": {
    "editable": true
   },
   "source": [
    "## Importance sampling\n",
    "\n",
    "One needs to develop a special algorithm \n",
    "that runs only through the elements of the upper triangular\n",
    "matrix $\\mathbf{g}$ and have $k$ as an index. \n",
    "\n",
    "The expression to be derived in the following is of interest when computing the quantum force and the kinetic energy. It has the form"
   ]
  },
  {
   "cell_type": "markdown",
   "id": "3afc671f",
   "metadata": {
    "editable": true
   },
   "source": [
    "$$\n",
    "\\frac{\\mathbf{\\nabla}_i\\Psi_C}{\\Psi_C} = \\frac{1}{\\Psi_C}\\frac{\\partial \\Psi_C}{\\partial x_i},\n",
    "$$"
   ]
  },
  {
   "cell_type": "markdown",
   "id": "4314dd46",
   "metadata": {
    "editable": true
   },
   "source": [
    "for all dimensions and with $i$ running over all particles."
   ]
  },
  {
   "cell_type": "markdown",
   "id": "158432cb",
   "metadata": {
    "editable": true
   },
   "source": [
    "## Importance sampling\n",
    "\n",
    "For the first derivative only $N-1$ terms survive the ratio because the $g$-terms that are not differentiated cancel with their corresponding ones in the denominator. Then,"
   ]
  },
  {
   "cell_type": "markdown",
   "id": "17f93275",
   "metadata": {
    "editable": true
   },
   "source": [
    "$$\n",
    "\\frac{1}{\\Psi_C}\\frac{\\partial \\Psi_C}{\\partial x_k} =\n",
    "\\sum_{i=1}^{k-1}\\frac{1}{g_{ik}}\\frac{\\partial g_{ik}}{\\partial x_k}\n",
    "+\n",
    "\\sum_{i=k+1}^{N}\\frac{1}{g_{ki}}\\frac{\\partial g_{ki}}{\\partial x_k}.\n",
    "$$"
   ]
  },
  {
   "cell_type": "markdown",
   "id": "58a1a835",
   "metadata": {
    "editable": true
   },
   "source": [
    "An equivalent equation is obtained for the exponential form after replacing $g_{ij}$ by $\\exp(f_{ij})$, yielding:"
   ]
  },
  {
   "cell_type": "markdown",
   "id": "e332df3f",
   "metadata": {
    "editable": true
   },
   "source": [
    "$$\n",
    "\\frac{1}{\\Psi_C}\\frac{\\partial \\Psi_C}{\\partial x_k} =\n",
    "\\sum_{i=1}^{k-1}\\frac{\\partial g_{ik}}{\\partial x_k}\n",
    "+\n",
    "\\sum_{i=k+1}^{N}\\frac{\\partial g_{ki}}{\\partial x_k},\n",
    "$$"
   ]
  },
  {
   "cell_type": "markdown",
   "id": "08fa1a16",
   "metadata": {
    "editable": true
   },
   "source": [
    "with both expressions scaling as $\\mathcal{O}(N)$."
   ]
  },
  {
   "cell_type": "markdown",
   "id": "f5fb08a1",
   "metadata": {
    "editable": true
   },
   "source": [
    "## Importance sampling\n",
    "\n",
    "Using the identity"
   ]
  },
  {
   "cell_type": "markdown",
   "id": "4b1bdcdc",
   "metadata": {
    "editable": true
   },
   "source": [
    "$$\n",
    "\\frac{\\partial}{\\partial x_i}g_{ij} = -\\frac{\\partial}{\\partial x_j}g_{ij},\n",
    "$$"
   ]
  },
  {
   "cell_type": "markdown",
   "id": "4e4f26ee",
   "metadata": {
    "editable": true
   },
   "source": [
    "we get expressions where all the derivatives acting on the particle  are represented by the *second* index of $g$:"
   ]
  },
  {
   "cell_type": "markdown",
   "id": "982f27df",
   "metadata": {
    "editable": true
   },
   "source": [
    "$$\n",
    "\\frac{1}{\\Psi_C}\\frac{\\partial \\Psi_C}{\\partial x_k} =\n",
    "\\sum_{i=1}^{k-1}\\frac{1}{g_{ik}}\\frac{\\partial g_{ik}}{\\partial x_k}\n",
    "-\\sum_{i=k+1}^{N}\\frac{1}{g_{ki}}\\frac{\\partial g_{ki}}{\\partial x_i},\n",
    "$$"
   ]
  },
  {
   "cell_type": "markdown",
   "id": "73919ac4",
   "metadata": {
    "editable": true
   },
   "source": [
    "and for the exponential case:"
   ]
  },
  {
   "cell_type": "markdown",
   "id": "1afce8f3",
   "metadata": {
    "editable": true
   },
   "source": [
    "$$\n",
    "\\frac{1}{\\Psi_C}\\frac{\\partial \\Psi_C}{\\partial x_k} =\n",
    "\\sum_{i=1}^{k-1}\\frac{\\partial g_{ik}}{\\partial x_k}\n",
    "-\\sum_{i=k+1}^{N}\\frac{\\partial g_{ki}}{\\partial x_i}.\n",
    "$$"
   ]
  },
  {
   "cell_type": "markdown",
   "id": "90260fe2",
   "metadata": {
    "editable": true
   },
   "source": [
    "## Importance sampling\n",
    "\n",
    "For correlation forms depending only on the scalar distances $r_{ij}$ we can use the chain rule. Noting that"
   ]
  },
  {
   "cell_type": "markdown",
   "id": "eb8a4d41",
   "metadata": {
    "editable": true
   },
   "source": [
    "$$\n",
    "\\frac{\\partial g_{ij}}{\\partial x_j} = \\frac{\\partial g_{ij}}{\\partial r_{ij}} \\frac{\\partial r_{ij}}{\\partial x_j} = \\frac{x_j - x_i}{r_{ij}} \\frac{\\partial g_{ij}}{\\partial r_{ij}},\n",
    "$$"
   ]
  },
  {
   "cell_type": "markdown",
   "id": "d947bdb5",
   "metadata": {
    "editable": true
   },
   "source": [
    "we arrive at"
   ]
  },
  {
   "cell_type": "markdown",
   "id": "d93cc772",
   "metadata": {
    "editable": true
   },
   "source": [
    "$$\n",
    "\\frac{1}{\\Psi_C}\\frac{\\partial \\Psi_C}{\\partial x_k} = \n",
    "\\sum_{i=1}^{k-1}\\frac{1}{g_{ik}} \\frac{\\mathbf{r_{ik}}}{r_{ik}} \\frac{\\partial g_{ik}}{\\partial r_{ik}}\n",
    "-\\sum_{i=k+1}^{N}\\frac{1}{g_{ki}}\\frac{\\mathbf{r_{ki}}}{r_{ki}}\\frac{\\partial g_{ki}}{\\partial r_{ki}}.\n",
    "$$"
   ]
  },
  {
   "cell_type": "markdown",
   "id": "77b4c243",
   "metadata": {
    "editable": true
   },
   "source": [
    "## Importance sampling\n",
    "\n",
    "Note that for the Pade-Jastrow form we can set $g_{ij} \\equiv g(r_{ij}) = e^{f(r_{ij})} = e^{f_{ij}}$ and"
   ]
  },
  {
   "cell_type": "markdown",
   "id": "ded3c40d",
   "metadata": {
    "editable": true
   },
   "source": [
    "$$\n",
    "\\frac{\\partial g_{ij}}{\\partial r_{ij}} = g_{ij} \\frac{\\partial f_{ij}}{\\partial r_{ij}}.\n",
    "$$"
   ]
  },
  {
   "cell_type": "markdown",
   "id": "3d5092ec",
   "metadata": {
    "editable": true
   },
   "source": [
    "Therefore,"
   ]
  },
  {
   "cell_type": "markdown",
   "id": "636b3633",
   "metadata": {
    "editable": true
   },
   "source": [
    "$$\n",
    "\\frac{1}{\\Psi_{C}}\\frac{\\partial \\Psi_{C}}{\\partial x_k} =\n",
    "\\sum_{i=1}^{k-1}\\frac{\\mathbf{r_{ik}}}{r_{ik}}\\frac{\\partial f_{ik}}{\\partial r_{ik}}\n",
    "-\\sum_{i=k+1}^{N}\\frac{\\mathbf{r_{ki}}}{r_{ki}}\\frac{\\partial f_{ki}}{\\partial r_{ki}},\n",
    "$$"
   ]
  },
  {
   "cell_type": "markdown",
   "id": "1bce8667",
   "metadata": {
    "editable": true
   },
   "source": [
    "where"
   ]
  },
  {
   "cell_type": "markdown",
   "id": "16345234",
   "metadata": {
    "editable": true
   },
   "source": [
    "$$\n",
    "\\mathbf{r}_{ij} = |\\mathbf{r}_j - \\mathbf{r}_i| = (x_j - x_i)\\mathbf{e}_1 + (y_j - y_i)\\mathbf{e}_2 + (z_j - z_i)\\mathbf{e}_3\n",
    "$$"
   ]
  },
  {
   "cell_type": "markdown",
   "id": "2a8c9a2e",
   "metadata": {
    "editable": true
   },
   "source": [
    "is the relative distance."
   ]
  },
  {
   "cell_type": "markdown",
   "id": "e2518621",
   "metadata": {
    "editable": true
   },
   "source": [
    "## Importance sampling\n",
    "\n",
    "The second derivative of the Jastrow factor divided by the Jastrow factor (the way it enters the kinetic energy) is"
   ]
  },
  {
   "cell_type": "markdown",
   "id": "44fcb9f7",
   "metadata": {
    "editable": true
   },
   "source": [
    "$$\n",
    "\\left[\\frac{\\mathbf{\\nabla}^2 \\Psi_C}{\\Psi_C}\\right]_x =\\  \n",
    "2\\sum_{k=1}^{N}\n",
    "\\sum_{i=1}^{k-1}\\frac{\\partial^2 g_{ik}}{\\partial x_k^2}\\ +\\ \n",
    "\\sum_{k=1}^N\n",
    "\\left(\n",
    "\\sum_{i=1}^{k-1}\\frac{\\partial g_{ik}}{\\partial x_k} -\n",
    "\\sum_{i=k+1}^{N}\\frac{\\partial g_{ki}}{\\partial x_i}\n",
    "\\right)^2\n",
    "$$"
   ]
  },
  {
   "cell_type": "markdown",
   "id": "11f8bb1a",
   "metadata": {
    "editable": true
   },
   "source": [
    "## Importance sampling\n",
    "\n",
    "But we have a simple form for the function, namely"
   ]
  },
  {
   "cell_type": "markdown",
   "id": "10a47ffe",
   "metadata": {
    "editable": true
   },
   "source": [
    "$$\n",
    "\\Psi_{C}=\\prod_{i< j}\\exp{f(r_{ij})},\n",
    "$$"
   ]
  },
  {
   "cell_type": "markdown",
   "id": "16070349",
   "metadata": {
    "editable": true
   },
   "source": [
    "and it is easy to see that for particle  $k$\n",
    "we have"
   ]
  },
  {
   "cell_type": "markdown",
   "id": "8bcf2478",
   "metadata": {
    "editable": true
   },
   "source": [
    "$$\n",
    "\\frac{\\mathbf{\\nabla}^2_k \\Psi_C}{\\Psi_C }=\n",
    "\\sum_{ij\\ne k}\\frac{(\\mathbf{r}_k-\\mathbf{r}_i)(\\mathbf{r}_k-\\mathbf{r}_j)}{r_{ki}r_{kj}}f'(r_{ki})f'(r_{kj})+\n",
    "\\sum_{j\\ne k}\\left( f''(r_{kj})+\\frac{2}{r_{kj}}f'(r_{kj})\\right)\n",
    "$$"
   ]
  }
 ],
 "metadata": {},
 "nbformat": 4,
 "nbformat_minor": 5
}
