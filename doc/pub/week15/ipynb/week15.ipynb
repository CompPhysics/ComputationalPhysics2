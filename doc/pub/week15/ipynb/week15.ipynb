{
 "cells": [
  {
   "cell_type": "markdown",
   "id": "47600620",
   "metadata": {
    "editable": true
   },
   "source": [
    "<!-- HTML file automatically generated from DocOnce source (https://github.com/doconce/doconce/)\n",
    "doconce format html week15.do.txt --no_mako --no_abort -->\n",
    "<!-- dom:TITLE: Week 18 April 29-May 3; TBA -->"
   ]
  },
  {
   "cell_type": "markdown",
   "id": "0369dfbb",
   "metadata": {
    "editable": true
   },
   "source": [
    "# Week 18 April 29-May 3; TBA\n",
    "**Morten Hjorth-Jensen  Email morten.hjorth-jensen@fys.uio.no**, Department of Physics and Center fo Computing in Science Education, University of Oslo, Oslo, Norway and Department of Physics and Astronomy and Facility for Rare Ion Beams, Michigan State University, East Lansing, Michigan, USA\n",
    "\n",
    "Date: **Jan 6, 2024**\n",
    "\n",
    "Copyright 1999-2024, Morten Hjorth-Jensen  Email morten.hjorth-jensen@fys.uio.no. Released under CC Attribution-NonCommercial 4.0 license"
   ]
  },
  {
   "cell_type": "markdown",
   "id": "34a3c376",
   "metadata": {
    "editable": true
   },
   "source": [
    "## Overview of week 18\n",
    "* Neural networks and project 2\n",
    "\n",
    "a. Discussions of neural network and solution of project 2"
   ]
  }
 ],
 "metadata": {},
 "nbformat": 4,
 "nbformat_minor": 5
}
