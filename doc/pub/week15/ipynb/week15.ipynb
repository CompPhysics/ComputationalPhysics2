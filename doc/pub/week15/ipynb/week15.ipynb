{
 "cells": [
  {
   "cell_type": "markdown",
   "id": "f1522c02",
   "metadata": {
    "editable": true
   },
   "source": [
    "<!-- HTML file automatically generated from DocOnce source (https://github.com/doconce/doconce/)\n",
    "doconce format html week15.do.txt --no_mako --no_abort -->\n",
    "<!-- dom:TITLE: Week 18 May 1-5: Neural networks and project 2 -->"
   ]
  },
  {
   "cell_type": "markdown",
   "id": "dfa5ed4b",
   "metadata": {
    "editable": true
   },
   "source": [
    "# Week 18 May 1-5: Neural networks and project 2\n",
    "**Morten Hjorth-Jensen  Email morten.hjorth-jensen@fys.uio.no**, Department of Physics and Center fo Computing in Science Education, University of Oslo, Oslo, Norway and Department of Physics and Astronomy and Facility for Rare Ion Beams, Michigan State University, East Lansing, Michigan, USA\n",
    "\n",
    "Date: **May 4, 2023**\n",
    "\n",
    "Copyright 1999-2023, Morten Hjorth-Jensen  Email morten.hjorth-jensen@fys.uio.no. Released under CC Attribution-NonCommercial 4.0 license"
   ]
  },
  {
   "cell_type": "markdown",
   "id": "abe29c94",
   "metadata": {
    "editable": true
   },
   "source": [
    "## Overview of week 18, May 1-5\n",
    "* Neural networks and project 2\n",
    "\n",
    "a. Discussions of neural network and solution of project 2\n",
    "\n",
    "b. [Discussion of codes](https://github.com/CompPhysics/ComputationalPhysics2/tree/gh-pages/doc/Programs/NeuralNetworks). See also code for Boltzmann machine included in the notes here."
   ]
  },
  {
   "cell_type": "markdown",
   "id": "5994dc33",
   "metadata": {
    "editable": true
   },
   "source": [
    "## Neural networks and Boltzmann machines (BMs)\n",
    "\n",
    "We have introduced Boltzmann machines as generative models where we\n",
    "train a neural network with a probability distribution, which in our\n",
    "case is the Boltzmann distribution. This distribution is used as an\n",
    "ansatz for the trial wave function to be used in a Variational Monte\n",
    "Carlo calculation\n",
    "\n",
    "An important benefit of using BMs is that we can reuse or VMC codes with the Metropolis family of sampling methods and our basic Markov-chain Monte Carlo machinery."
   ]
  },
  {
   "cell_type": "markdown",
   "id": "956dba9b",
   "metadata": {
    "editable": true
   },
   "source": [
    "## Cost function\n",
    "\n",
    "**But we do not optmize the maximum likelihod (log).**\n",
    "\n",
    "The function we optimize is the expectation value of the energy which depends on the parameters that define the Boltzmann distribution.\n",
    "This is where we deviate from what is common in machine\n",
    "learning. Rather than defining a cost function based on some dataset,\n",
    "our cost function is the energy of the quantum mechanical system. From\n",
    "the variational principle we know that minizing this energy should\n",
    "lead to the ground state wavefunction. \n",
    "\n",
    "That is"
   ]
  },
  {
   "cell_type": "markdown",
   "id": "b8a4793c",
   "metadata": {
    "editable": true
   },
   "source": [
    "<!-- Equation labels as ordinary links -->\n",
    "<div id=\"_auto1\"></div>\n",
    "\n",
    "$$\n",
    "\\begin{equation}\n",
    "\t\\langle E_L\\rangle  = \\langle \\frac{1}{\\Psi} \\hat{\\mathbf{H}} \\Psi\\rangle.\n",
    "\\label{_auto1} \\tag{1}\n",
    "\\end{equation}\n",
    "$$"
   ]
  },
  {
   "cell_type": "markdown",
   "id": "8c8c1ba6",
   "metadata": {
    "editable": true
   },
   "source": [
    "Irrespective of whether we use Boltzmann machines or neural networks, this is the function we end up optmizing."
   ]
  },
  {
   "cell_type": "markdown",
   "id": "54404401",
   "metadata": {
    "editable": true
   },
   "source": [
    "## Calculating gradients\n",
    "\n",
    "And as was done in our VMC code, the gradient we need to evaluate is"
   ]
  },
  {
   "cell_type": "markdown",
   "id": "ed331feb",
   "metadata": {
    "editable": true
   },
   "source": [
    "<!-- Equation labels as ordinary links -->\n",
    "<div id=\"_auto2\"></div>\n",
    "\n",
    "$$\n",
    "\\begin{equation}\n",
    "\tg_i = \\frac{\\partial \\langle E_L \\rangle}{\\partial \\theta_i}\n",
    "\t= 2(\\langle E_L \\frac{1}{\\Psi}\\frac{\\partial \\Psi}{\\partial \\theta_i} \\rangle - \\langle E_L \\rangle \\langle \\frac{1}{\\Psi}\\frac{\\partial \\Psi}{\\partial \\theta_i} \\rangle ),\n",
    "\\label{_auto2} \\tag{2}\n",
    "\\end{equation}\n",
    "$$"
   ]
  },
  {
   "cell_type": "markdown",
   "id": "333e31e5",
   "metadata": {
    "editable": true
   },
   "source": [
    "where $\\theta_i$ are the biases and weights of a neural network.\n",
    "\n",
    "In order to exploit that the trial wave function is often on an exponential form, it is convenient to use that"
   ]
  },
  {
   "cell_type": "markdown",
   "id": "aae26d2e",
   "metadata": {
    "editable": true
   },
   "source": [
    "$$\n",
    "\\frac{1}{\\Psi}\\frac{\\partial \\Psi}{\\partial \\theta_i} = \\frac{\\partial \\ln{\\Psi}}{\\partial \\theta_i}.\n",
    "$$"
   ]
  },
  {
   "cell_type": "markdown",
   "id": "8204ab60",
   "metadata": {
    "editable": true
   },
   "source": [
    "## Python version for the two non-interacting particles"
   ]
  },
  {
   "cell_type": "code",
   "execution_count": 1,
   "id": "638cf5eb",
   "metadata": {
    "collapsed": false,
    "editable": true
   },
   "outputs": [],
   "source": [
    "%matplotlib inline\n",
    "\n",
    "# 2-electron VMC code for 2dim quantum dot with importance sampling\n",
    "# Using gaussian rng for new positions and Metropolis- Hastings \n",
    "# Added restricted boltzmann machine method for dealing with the wavefunction\n",
    "# RBM code based heavily off of:\n",
    "# https://github.com/CompPhysics/ComputationalPhysics2/tree/gh-pages/doc/Programs/BoltzmannMachines/MLcpp/src/CppCode/ob\n",
    "from math import exp, sqrt\n",
    "from random import random, seed, normalvariate\n",
    "import numpy as np\n",
    "import matplotlib.pyplot as plt\n",
    "from mpl_toolkits.mplot3d import Axes3D\n",
    "from matplotlib import cm\n",
    "from matplotlib.ticker import LinearLocator, FormatStrFormatter\n",
    "import sys\n",
    "\n",
    "\n",
    "\n",
    "# Trial wave function for the 2-electron quantum dot in two dims\n",
    "def WaveFunction(r,a,b,w):\n",
    "    sigma=1.0\n",
    "    sig2 = sigma**2\n",
    "    Psi1 = 0.0\n",
    "    Psi2 = 1.0\n",
    "    Q = Qfac(r,b,w)\n",
    "    \n",
    "    for iq in range(NumberParticles):\n",
    "        for ix in range(Dimension):\n",
    "            Psi1 += (r[iq,ix]-a[iq,ix])**2\n",
    "            \n",
    "    for ih in range(NumberHidden):\n",
    "        Psi2 *= (1.0 + np.exp(Q[ih]))\n",
    "        \n",
    "    Psi1 = np.exp(-Psi1/(2*sig2))\n",
    "\n",
    "    return Psi1*Psi2\n",
    "\n",
    "# Local energy  for the 2-electron quantum dot in two dims, using analytical local energy\n",
    "def LocalEnergy(r,a,b,w):\n",
    "    sigma=1.0\n",
    "    sig2 = sigma**2\n",
    "    locenergy = 0.0\n",
    "    \n",
    "    Q = Qfac(r,b,w)\n",
    "\n",
    "    for iq in range(NumberParticles):\n",
    "        for ix in range(Dimension):\n",
    "            sum1 = 0.0\n",
    "            sum2 = 0.0\n",
    "            for ih in range(NumberHidden):\n",
    "                sum1 += w[iq,ix,ih]/(1+np.exp(-Q[ih]))\n",
    "                sum2 += w[iq,ix,ih]**2 * np.exp(Q[ih]) / (1.0 + np.exp(Q[ih]))**2\n",
    "    \n",
    "            dlnpsi1 = -(r[iq,ix] - a[iq,ix]) /sig2 + sum1/sig2\n",
    "            dlnpsi2 = -1/sig2 + sum2/sig2**2\n",
    "            locenergy += 0.5*(-dlnpsi1*dlnpsi1 - dlnpsi2 + r[iq,ix]**2)\n",
    "            \n",
    "    if(interaction==True):\n",
    "        for iq1 in range(NumberParticles):\n",
    "            for iq2 in range(iq1):\n",
    "                distance = 0.0\n",
    "                for ix in range(Dimension):\n",
    "                    distance += (r[iq1,ix] - r[iq2,ix])**2\n",
    "                    \n",
    "                locenergy += 1/sqrt(distance)\n",
    "                \n",
    "    return locenergy\n",
    "\n",
    "# Derivate of wave function ansatz as function of variational parameters\n",
    "def DerivativeWFansatz(r,a,b,w):\n",
    "    \n",
    "    sigma=1.0\n",
    "    sig2 = sigma**2\n",
    "    \n",
    "    Q = Qfac(r,b,w)\n",
    "    \n",
    "    WfDer = np.empty((3,),dtype=object)\n",
    "    WfDer = [np.copy(a),np.copy(b),np.copy(w)]\n",
    "    \n",
    "    WfDer[0] = (r-a)/sig2\n",
    "    WfDer[1] = 1 / (1 + np.exp(-Q))\n",
    "    \n",
    "    for ih in range(NumberHidden):\n",
    "        WfDer[2][:,:,ih] = w[:,:,ih] / (sig2*(1+np.exp(-Q[ih])))\n",
    "            \n",
    "    return  WfDer\n",
    "\n",
    "# Setting up the quantum force for the two-electron quantum dot, recall that it is a vector\n",
    "def QuantumForce(r,a,b,w):\n",
    "\n",
    "    sigma=1.0\n",
    "    sig2 = sigma**2\n",
    "    \n",
    "    qforce = np.zeros((NumberParticles,Dimension), np.double)\n",
    "    sum1 = np.zeros((NumberParticles,Dimension), np.double)\n",
    "    \n",
    "    Q = Qfac(r,b,w)\n",
    "    \n",
    "    for ih in range(NumberHidden):\n",
    "        sum1 += w[:,:,ih]/(1+np.exp(-Q[ih]))\n",
    "    \n",
    "    qforce = 2*(-(r-a)/sig2 + sum1/sig2)\n",
    "    \n",
    "    return qforce\n",
    "    \n",
    "def Qfac(r,b,w):\n",
    "    Q = np.zeros((NumberHidden), np.double)\n",
    "    temp = np.zeros((NumberHidden), np.double)\n",
    "    \n",
    "    for ih in range(NumberHidden):\n",
    "        temp[ih] = (r*w[:,:,ih]).sum()\n",
    "        \n",
    "    Q = b + temp\n",
    "    \n",
    "    return Q\n",
    "    \n",
    "# Computing the derivative of the energy and the energy \n",
    "def EnergyMinimization(a,b,w):\n",
    "\n",
    "    NumberMCcycles= 10000\n",
    "    # Parameters in the Fokker-Planck simulation of the quantum force\n",
    "    D = 0.5\n",
    "    TimeStep = 0.05\n",
    "    # positions\n",
    "    PositionOld = np.zeros((NumberParticles,Dimension), np.double)\n",
    "    PositionNew = np.zeros((NumberParticles,Dimension), np.double)\n",
    "    # Quantum force\n",
    "    QuantumForceOld = np.zeros((NumberParticles,Dimension), np.double)\n",
    "    QuantumForceNew = np.zeros((NumberParticles,Dimension), np.double)\n",
    "\n",
    "    # seed for rng generator \n",
    "    seed()\n",
    "    energy = 0.0\n",
    "    DeltaE = 0.0\n",
    "\n",
    "    EnergyDer = np.empty((3,),dtype=object)\n",
    "    DeltaPsi = np.empty((3,),dtype=object)\n",
    "    DerivativePsiE = np.empty((3,),dtype=object)\n",
    "    EnergyDer = [np.copy(a),np.copy(b),np.copy(w)]\n",
    "    DeltaPsi = [np.copy(a),np.copy(b),np.copy(w)]\n",
    "    DerivativePsiE = [np.copy(a),np.copy(b),np.copy(w)]\n",
    "    for i in range(3): EnergyDer[i].fill(0.0)\n",
    "    for i in range(3): DeltaPsi[i].fill(0.0)\n",
    "    for i in range(3): DerivativePsiE[i].fill(0.0)\n",
    "\n",
    "    \n",
    "    #Initial position\n",
    "    for i in range(NumberParticles):\n",
    "        for j in range(Dimension):\n",
    "            PositionOld[i,j] = normalvariate(0.0,1.0)*sqrt(TimeStep)\n",
    "    wfold = WaveFunction(PositionOld,a,b,w)\n",
    "    QuantumForceOld = QuantumForce(PositionOld,a,b,w)\n",
    "\n",
    "    #Loop over MC MCcycles\n",
    "    for MCcycle in range(NumberMCcycles):\n",
    "        #Trial position moving one particle at the time\n",
    "        for i in range(NumberParticles):\n",
    "            for j in range(Dimension):\n",
    "                PositionNew[i,j] = PositionOld[i,j]+normalvariate(0.0,1.0)*sqrt(TimeStep)+\\\n",
    "                                       QuantumForceOld[i,j]*TimeStep*D\n",
    "            wfnew = WaveFunction(PositionNew,a,b,w)\n",
    "            QuantumForceNew = QuantumForce(PositionNew,a,b,w)\n",
    "            \n",
    "            GreensFunction = 0.0\n",
    "            for j in range(Dimension):\n",
    "                GreensFunction += 0.5*(QuantumForceOld[i,j]+QuantumForceNew[i,j])*\\\n",
    "                                      (D*TimeStep*0.5*(QuantumForceOld[i,j]-QuantumForceNew[i,j])-\\\n",
    "                                      PositionNew[i,j]+PositionOld[i,j])\n",
    "      \n",
    "            GreensFunction = exp(GreensFunction)\n",
    "            ProbabilityRatio = GreensFunction*wfnew**2/wfold**2\n",
    "            #Metropolis-Hastings test to see whether we accept the move\n",
    "            if random() <= ProbabilityRatio:\n",
    "                for j in range(Dimension):\n",
    "                    PositionOld[i,j] = PositionNew[i,j]\n",
    "                    QuantumForceOld[i,j] = QuantumForceNew[i,j]\n",
    "                wfold = wfnew\n",
    "        #print(\"wf new:        \", wfnew)\n",
    "        #print(\"force on 1 new:\", QuantumForceNew[0,:])\n",
    "        #print(\"pos of 1 new:  \", PositionNew[0,:])\n",
    "        #print(\"force on 2 new:\", QuantumForceNew[1,:])\n",
    "        #print(\"pos of 2 new:  \", PositionNew[1,:])\n",
    "        DeltaE = LocalEnergy(PositionOld,a,b,w)\n",
    "        DerPsi = DerivativeWFansatz(PositionOld,a,b,w)\n",
    "        \n",
    "        DeltaPsi[0] += DerPsi[0]\n",
    "        DeltaPsi[1] += DerPsi[1]\n",
    "        DeltaPsi[2] += DerPsi[2]\n",
    "        \n",
    "        energy += DeltaE\n",
    "\n",
    "        DerivativePsiE[0] += DerPsi[0]*DeltaE\n",
    "        DerivativePsiE[1] += DerPsi[1]*DeltaE\n",
    "        DerivativePsiE[2] += DerPsi[2]*DeltaE\n",
    "            \n",
    "    # We calculate mean values\n",
    "    energy /= NumberMCcycles\n",
    "    DerivativePsiE[0] /= NumberMCcycles\n",
    "    DerivativePsiE[1] /= NumberMCcycles\n",
    "    DerivativePsiE[2] /= NumberMCcycles\n",
    "    DeltaPsi[0] /= NumberMCcycles\n",
    "    DeltaPsi[1] /= NumberMCcycles\n",
    "    DeltaPsi[2] /= NumberMCcycles\n",
    "    EnergyDer[0]  = 2*(DerivativePsiE[0]-DeltaPsi[0]*energy)\n",
    "    EnergyDer[1]  = 2*(DerivativePsiE[1]-DeltaPsi[1]*energy)\n",
    "    EnergyDer[2]  = 2*(DerivativePsiE[2]-DeltaPsi[2]*energy)\n",
    "    return energy, EnergyDer\n",
    "\n",
    "\n",
    "#Here starts the main program with variable declarations\n",
    "NumberParticles = 2\n",
    "Dimension = 2\n",
    "NumberHidden = 2\n",
    "\n",
    "interaction=False\n",
    "\n",
    "# guess for parameters\n",
    "a=np.random.normal(loc=0.0, scale=0.001, size=(NumberParticles,Dimension))\n",
    "b=np.random.normal(loc=0.0, scale=0.001, size=(NumberHidden))\n",
    "w=np.random.normal(loc=0.0, scale=0.001, size=(NumberParticles,Dimension,NumberHidden))\n",
    "# Set up iteration using stochastic gradient method\n",
    "Energy = 0\n",
    "EDerivative = np.empty((3,),dtype=object)\n",
    "EDerivative = [np.copy(a),np.copy(b),np.copy(w)]\n",
    "# Learning rate eta, max iterations, need to change to adaptive learning rate\n",
    "eta = 0.001\n",
    "MaxIterations = 50\n",
    "iter = 0\n",
    "np.seterr(invalid='raise')\n",
    "Energies = np.zeros(MaxIterations)\n",
    "EnergyDerivatives1 = np.zeros(MaxIterations)\n",
    "EnergyDerivatives2 = np.zeros(MaxIterations)\n",
    "\n",
    "while iter < MaxIterations:\n",
    "    Energy, EDerivative = EnergyMinimization(a,b,w)\n",
    "    agradient = EDerivative[0]\n",
    "    bgradient = EDerivative[1]\n",
    "    wgradient = EDerivative[2]\n",
    "    a -= eta*agradient\n",
    "    b -= eta*bgradient \n",
    "    w -= eta*wgradient \n",
    "    Energies[iter] = Energy\n",
    "    print(\"Energy:\",Energy)\n",
    "    #EnergyDerivatives1[iter] = EDerivative[0] \n",
    "    #EnergyDerivatives2[iter] = EDerivative[1]\n",
    "    #EnergyDerivatives3[iter] = EDerivative[2] \n",
    "\n",
    "\n",
    "    iter += 1\n",
    "\n",
    "#nice printout with Pandas\n",
    "import pandas as pd\n",
    "from pandas import DataFrame\n",
    "pd.set_option('max_columns', 6)\n",
    "data ={'Energy':Energies}#,'A Derivative':EnergyDerivatives1,'B Derivative':EnergyDerivatives2,'Weights Derivative':EnergyDerivatives3}\n",
    "\n",
    "frame = pd.DataFrame(data)\n",
    "print(frame)"
   ]
  },
  {
   "cell_type": "markdown",
   "id": "34d1d59a",
   "metadata": {
    "editable": true
   },
   "source": [
    "## Neural networks\n",
    "\n",
    "To implement a standard neural network (feed forward NN), the function\n",
    "we will optimize is the same as for Boltzmann machines, except that\n",
    "now the ansatz for the trial wave function is the neural network\n",
    "itself, with its parameters and architecture given by\n",
    "\n",
    "1. Number of hidden layers and nodes in each layer;\n",
    "\n",
    "2. Actitvation functions for the various nodes;\n",
    "\n",
    "3. Hyperparamters of the type from an $l_2$-norm or $l_1$-norm or a mix of various norms;\n",
    "\n",
    "4. Gradient algorithms for optimization with various ways to optimize  the **learning rate**;\n",
    "\n",
    "5. Back propagation algorithm and automatic differentiation for computing the updates of the various parameters $\\theta_i$;\n",
    "\n",
    "6. The cost/loss function to be optimized;\n",
    "\n",
    "In this lecture we will review briefly the structure of neural\n",
    "networks. These notes are taken from the course on Machine Learning\n",
    "[FYS-STK4155](https://compphysics.github.io/MachineLearning/doc/web/course.html).\n",
    "\n",
    "In particular we will review the material from weeks 40 and 41."
   ]
  },
  {
   "cell_type": "markdown",
   "id": "054bed8b",
   "metadata": {
    "editable": true
   },
   "source": [
    "## Developing a code for Neural Networks\n",
    "\n",
    "We have seen that Boltzmann machines are straightforward to implement,\n",
    "however due to the ansatz made in the construction of the so-called\n",
    "energy function, they are at the end less flexible if we need to\n",
    "change the way we describe the visible and hidden layers. Computing\n",
    "the final marginal probability which defines the trial wave function\n",
    "grows extremely complicated with other ways of defining the variables\n",
    "of the hidden and visible layers."
   ]
  },
  {
   "cell_type": "markdown",
   "id": "334d4fdb",
   "metadata": {
    "editable": true
   },
   "source": [
    "## Neural networks as alternatives\n",
    "\n",
    "A neural network on the other hand offers much more flexibility in the\n",
    "training. The price we have to pay is however an additional\n",
    "computational cost due to the many more parameters to train (hidden\n",
    "layers and nodes) and the implementation of the back propagation\n",
    "algorithm and automatic differentiation."
   ]
  },
  {
   "cell_type": "markdown",
   "id": "81f930cd",
   "metadata": {
    "editable": true
   },
   "source": [
    "## Basic elements in codes\n",
    "\n",
    "We consider an unpolarized gas of fermions in $d=3$ dimensions, whose dynamics is modeled by the nonrelativistic Hamiltonian"
   ]
  },
  {
   "cell_type": "markdown",
   "id": "f0033063",
   "metadata": {
    "editable": true
   },
   "source": [
    "<!-- Equation labels as ordinary links -->\n",
    "<div id=\"_auto3\"></div>\n",
    "\n",
    "$$\n",
    "\\begin{equation}\n",
    "H=-\\frac{\\hbar^2}{2m}\\sum_i \\nabla_i^2+\\sum_{ij} v_{ij} \\,,\n",
    "\\label{_auto3} \\tag{3}\n",
    "\\end{equation}\n",
    "$$"
   ]
  },
  {
   "cell_type": "markdown",
   "id": "3833c561",
   "metadata": {
    "editable": true
   },
   "source": [
    "where the attractive two-body interaction could be a Coulomb interaction or any other type of interaction. A popular example is"
   ]
  },
  {
   "cell_type": "markdown",
   "id": "047c5a09",
   "metadata": {
    "editable": true
   },
   "source": [
    "<!-- Equation labels as ordinary links -->\n",
    "<div id=\"_auto4\"></div>\n",
    "\n",
    "$$\n",
    "\\begin{equation}\n",
    "v_{ij} = -2v_0 \\frac{\\hbar^2}{m} \\frac{\\mu^2}{\\cosh^2(\\mu r_{ij})},\n",
    "\\label{_auto4} \\tag{4}\n",
    "\\end{equation}\n",
    "$$"
   ]
  },
  {
   "cell_type": "markdown",
   "id": "5e4c9655",
   "metadata": {
    "editable": true
   },
   "source": [
    "which  acts only between opposite-spin pairs. We will use $\\boldsymbol{r}_i \\in \\mathbb{R}^d$ and $s_i \\in \\{-1,1\\}$ to denote the spatial coordinates and spin projection on the $z$-axis of the $i$-th particle. The parameters $v_0$ and $\\mu$ tune the scattering length $a$ and effective range $r_e$ of the potential. \n",
    "The interaction above, called P\\\"oschl-Teller, has been employed in several previous QMC calculation.\n",
    "It provides an analytic solution of the two-body problem, and the unitary limit corresponding to the zero-energy ground state between two particles is with $v_0=1$ and $r_{e}=2/\\mu$."
   ]
  },
  {
   "cell_type": "markdown",
   "id": "5fd383f3",
   "metadata": {
    "editable": true
   },
   "source": [
    "## Neural-network quantum states\n",
    "\n",
    "The codes we link to are tailored to problems with fermions only.\n",
    "\n",
    "We can solve the Schr\\\"odinger equation associated with the above\n",
    "Hamiltonian using various different families of neural-network quantum\n",
    "states that respect periodic boundary conditions  by construction. All ans\"atzes have the\n",
    "general form"
   ]
  },
  {
   "cell_type": "markdown",
   "id": "97172e0c",
   "metadata": {
    "editable": true
   },
   "source": [
    "<!-- Equation labels as ordinary links -->\n",
    "<div id=\"_auto5\"></div>\n",
    "\n",
    "$$\n",
    "\\begin{equation}\n",
    "\\Psi (X) = e^{J(X)} \\Phi(X),\n",
    "\\label{_auto5} \\tag{5}\n",
    "\\end{equation}\n",
    "$$"
   ]
  },
  {
   "cell_type": "markdown",
   "id": "5fee3505",
   "metadata": {
    "editable": true
   },
   "source": [
    "where the Jastrow correlator $J(X)$ is symmetric under particle\n",
    "exchange and $\\Phi(X)$ is antisymmetric. In the above equation, we\n",
    "used $X=\\{ \\boldsymbol{x}_1, \\dots, \\boldsymbol{x}_N \\} $ with $\\boldsymbol{x}_i = (\\boldsymbol{r}_i,\n",
    "s_i)$ to compactly represent the set of all single-particle positions\n",
    "and spins.\n",
    "\n",
    "The antisymmetric part of the Slater-Jastrow (SJ) family of states can be written as"
   ]
  },
  {
   "cell_type": "markdown",
   "id": "4904fbc6",
   "metadata": {
    "editable": true
   },
   "source": [
    "<!-- Equation labels as ordinary links -->\n",
    "<div id=\"_auto6\"></div>\n",
    "\n",
    "$$\n",
    "\\begin{equation}\n",
    "\\Phi_{SJ}(X) = \\det\n",
    "\\begin{bmatrix}\n",
    "  \\phi_1(\\boldsymbol{x}_1) & \\phi_1(\\boldsymbol{x}_2) & \\cdots & \\phi_1(\\boldsymbol{x}_N) \\\\\n",
    "  \\phi_2(\\boldsymbol{x}_1) & \\phi_2(\\boldsymbol{x}_2) & \\cdots & \\phi_2(\\boldsymbol{x}_N) \\\\  \n",
    "   \\vdots & \\vdots & \\ddots & \\vdots \\\\\n",
    " \\phi_N(\\boldsymbol{x}_1) & \\phi_N(\\boldsymbol{x}_2) & \\cdots & \\phi_N(\\boldsymbol{x}_N) \\\\\n",
    "  \\end{bmatrix}\n",
    "  .\n",
    "\\label{_auto6} \\tag{6}\n",
    "\\end{equation}\n",
    "$$"
   ]
  },
  {
   "cell_type": "markdown",
   "id": "5e191acc",
   "metadata": {
    "editable": true
   },
   "source": [
    "In the fixed-node approximation, we take the single-particle states to be products of spin eigenstates and plane wave (PW) orbitals"
   ]
  },
  {
   "cell_type": "markdown",
   "id": "fb462eb0",
   "metadata": {
    "editable": true
   },
   "source": [
    "<!-- Equation labels as ordinary links -->\n",
    "<div id=\"_auto7\"></div>\n",
    "\n",
    "$$\n",
    "\\begin{equation}\n",
    "\\phi_i^{PW}(\\boldsymbol{x}_j) = {\\rm e}^{i\\boldsymbol{k}_i\\cdot\\boldsymbol{r}_j} \\delta_{s_i, s_j} \\, ,\n",
    "\\label{_auto7} \\tag{7}\n",
    "\\end{equation}\n",
    "$$"
   ]
  },
  {
   "cell_type": "markdown",
   "id": "d2b7a91f",
   "metadata": {
    "editable": true
   },
   "source": [
    "with discrete momenta $\\boldsymbol{k}=2\\pi \\boldsymbol{n} /L$,   $\\boldsymbol{n}\\in\\mathbb{Z}^d$, and spin states $s_i \\in \\{-1, 1 \\}$. \n",
    "\n",
    "The nodal structure of the above Slater determinant can be improved by\n",
    "means of backflow (BF) transformations. For brevity, we will use the\n",
    "notation $\\tilde{\\boldsymbol{x}_i} \\equiv ( \\boldsymbol{x}_i, \\{ \\boldsymbol{x}_j \\}_{j\\neq\n",
    "i})$ to indicate dependency on a specific particle $i$, and\n",
    "permutation invariance over all other particles $j \\neq i$."
   ]
  },
  {
   "cell_type": "markdown",
   "id": "26937764",
   "metadata": {
    "editable": true
   },
   "source": [
    "## Inputs to neural networks\n",
    "\n",
    "It is possible to implement the aforementioned neural quantum state\n",
    "(NQS) using $X$ as direct inputs to the appropriate NN, but it is\n",
    "advantageous to devise new inputs that already capture a large portion\n",
    "of the correlations. One approach is to  employ a permutation-equivariant message-passing neural\n",
    "network (MPNN) to iteratively build correlations into new one-body and\n",
    "two-body features from the original “visible” features. The visible\n",
    "features are chosen to be"
   ]
  },
  {
   "cell_type": "markdown",
   "id": "51a34376",
   "metadata": {
    "editable": true
   },
   "source": [
    "<!-- Equation labels as ordinary links -->\n",
    "<div id=\"_auto8\"></div>\n",
    "\n",
    "$$\n",
    "\\begin{equation}\n",
    "\\boldsymbol{v}_i = (s_i) \\, ,\n",
    "\\label{_auto8} \\tag{8}\n",
    "\\end{equation}\n",
    "$$"
   ]
  },
  {
   "cell_type": "markdown",
   "id": "79eba48a",
   "metadata": {
    "editable": true
   },
   "source": [
    "<!-- Equation labels as ordinary links -->\n",
    "<div id=\"_auto9\"></div>\n",
    "\n",
    "$$\n",
    "\\begin{equation} \n",
    "\\boldsymbol{v}_{ij} = \\left( \\boldsymbol{r}_{ij}, \\| \\boldsymbol{r}_{ij} \\| , s_i s_j \\right) ,\n",
    "\\label{_auto9} \\tag{9}\n",
    "\\end{equation}\n",
    "$$"
   ]
  },
  {
   "cell_type": "markdown",
   "id": "bee30311",
   "metadata": {
    "editable": true
   },
   "source": [
    "with the separation vectors $\\boldsymbol{r}_{ij} = \\boldsymbol{r}_i - \\boldsymbol{r}_j$ and distances $\\| \\boldsymbol{r}_{ij} \\|=r_{ij}$ replaced by their $L$-periodic surrogates"
   ]
  },
  {
   "cell_type": "markdown",
   "id": "7f3e5a86",
   "metadata": {
    "editable": true
   },
   "source": [
    "<!-- Equation labels as ordinary links -->\n",
    "<div id=\"_auto10\"></div>\n",
    "\n",
    "$$\n",
    "\\begin{equation}\n",
    "\\boldsymbol{r}_{ij} \\mapsto \\left( \\cos(2 \\pi \\boldsymbol{r}_{ij}/ L), \\sin(2 \\pi \\boldsymbol{r}_{ij}/ L) \\right)\\, ,\n",
    "\\label{_auto10} \\tag{10}\n",
    "\\end{equation}\n",
    "$$"
   ]
  },
  {
   "cell_type": "markdown",
   "id": "e37c4373",
   "metadata": {
    "editable": true
   },
   "source": [
    "<!-- Equation labels as ordinary links -->\n",
    "<div id=\"_auto11\"></div>\n",
    "\n",
    "$$\n",
    "\\begin{equation} \n",
    "\\| \\boldsymbol{r}_{ij} \\| \\mapsto \\| \\sin( \\pi \\boldsymbol{r}_{ij} / L) \\|.\n",
    "\\label{_auto11} \\tag{11}\n",
    "\\end{equation}\n",
    "$$"
   ]
  },
  {
   "cell_type": "markdown",
   "id": "b4e91751",
   "metadata": {
    "editable": true
   },
   "source": [
    "## More information\n",
    "\n",
    "Note that we have excluded explicit dependence on the particle\n",
    "positions $\\boldsymbol{r}_i$ in the visible one-body features, thereby\n",
    "enforcing translational invariance in the new features. Linear\n",
    "transformations are applied to and concatenated with each feature to\n",
    "obtain the initial hidden features"
   ]
  },
  {
   "cell_type": "markdown",
   "id": "75c7f1ec",
   "metadata": {
    "editable": true
   },
   "source": [
    "<!-- Equation labels as ordinary links -->\n",
    "<div id=\"_auto12\"></div>\n",
    "\n",
    "$$\n",
    "\\begin{equation}\n",
    "\\boldsymbol{h}_i^{(0)} = (\\boldsymbol{v}_i, A \\boldsymbol{v}_i),\n",
    "\\label{_auto12} \\tag{12}\n",
    "\\end{equation}\n",
    "$$"
   ]
  },
  {
   "cell_type": "markdown",
   "id": "8674c784",
   "metadata": {
    "editable": true
   },
   "source": [
    "<!-- Equation labels as ordinary links -->\n",
    "<div id=\"_auto13\"></div>\n",
    "\n",
    "$$\n",
    "\\begin{equation} \n",
    "\\boldsymbol{h}_{ij}^{(0)} = (\\boldsymbol{v}_{ij}, B \\boldsymbol{v}_{ij}).\n",
    "\\label{_auto13} \\tag{13}\n",
    "\\end{equation}\n",
    "$$"
   ]
  },
  {
   "cell_type": "markdown",
   "id": "52d499ef",
   "metadata": {
    "editable": true
   },
   "source": [
    "## Codes on neural networks applied to many-body problems\n",
    "\n",
    "In addition to the above mentioned codes we have several popular available code sets\n",
    "1. [Neural network quantum states](https://data-ens.github.io/slides/2021_04_28_Carleo.pdf) and [NetKet](http://www.netket.org/)\n",
    "\n",
    "2. [Ferminet](https://github.com/deepmind/ferminet)"
   ]
  }
 ],
 "metadata": {},
 "nbformat": 4,
 "nbformat_minor": 5
}
