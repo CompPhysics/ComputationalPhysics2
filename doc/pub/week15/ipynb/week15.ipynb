{
 "cells": [
  {
   "cell_type": "markdown",
   "id": "70882568",
   "metadata": {
    "editable": true
   },
   "source": [
    "<!-- HTML file automatically generated from DocOnce source (https://github.com/doconce/doconce/)\n",
    "doconce format html week15.do.txt --no_mako --no_abort -->\n",
    "<!-- dom:TITLE: Computational Physics 2 -->"
   ]
  },
  {
   "cell_type": "markdown",
   "id": "c7569c58",
   "metadata": {
    "editable": true
   },
   "source": [
    "# Computational Physics 2\n",
    "**Morten Hjorth-Jensen  Email morten.hjorth-jensen@fys.uio.no**, Department of Physics and Center fo Computing in Science Education, University of Oslo, Oslo, Norway\n",
    "\n",
    "Date: **May 9**"
   ]
  },
  {
   "cell_type": "markdown",
   "id": "19f42be4",
   "metadata": {
    "editable": true
   },
   "source": [
    "## Overview of week of May 5-9\n",
    "1. Discussion of project 2"
   ]
  }
 ],
 "metadata": {},
 "nbformat": 4,
 "nbformat_minor": 5
}
