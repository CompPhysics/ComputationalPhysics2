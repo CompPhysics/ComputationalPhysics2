{
 "cells": [
  {
   "cell_type": "markdown",
   "id": "ead68569",
   "metadata": {
    "editable": true
   },
   "source": [
    "<!-- HTML file automatically generated from DocOnce source (https://github.com/doconce/doconce/)\n",
    "doconce format html week15.do.txt --no_mako --no_abort -->\n",
    "<!-- dom:TITLE: Week 18 May 1-5: Neural networks and project 2 -->"
   ]
  },
  {
   "cell_type": "markdown",
   "id": "7de2dd0c",
   "metadata": {
    "editable": true
   },
   "source": [
    "# Week 18 May 1-5: Neural networks and project 2\n",
    "**Morten Hjorth-Jensen  Email morten.hjorth-jensen@fys.uio.no**, Department of Physics and Center fo Computing in Science Education, University of Oslo, Oslo, Norway and Department of Physics and Astronomy and Facility for Rare Ion Beams, Michigan State University, East Lansing, Michigan, USA\n",
    "\n",
    "Date: **Apr 28, 2023**\n",
    "\n",
    "Copyright 1999-2023, Morten Hjorth-Jensen  Email morten.hjorth-jensen@fys.uio.no. Released under CC Attribution-NonCommercial 4.0 license"
   ]
  },
  {
   "cell_type": "markdown",
   "id": "56e6da65",
   "metadata": {
    "editable": true
   },
   "source": [
    "## Overview of week 18, May 1-5\n",
    "* Neural networks and project 2\n",
    "\n",
    "a. Discussions of neural network and solution of project 2\n",
    "\n",
    "b. Presentation of codes"
   ]
  }
 ],
 "metadata": {},
 "nbformat": 4,
 "nbformat_minor": 5
}
