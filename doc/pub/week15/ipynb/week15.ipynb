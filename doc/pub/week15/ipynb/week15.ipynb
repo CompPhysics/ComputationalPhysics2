{
 "cells": [
  {
   "cell_type": "markdown",
   "id": "0c797c93",
   "metadata": {
    "editable": true
   },
   "source": [
    "<!-- HTML file automatically generated from DocOnce source (https://github.com/doconce/doconce/)\n",
    "doconce format html week15.do.txt --no_mako --no_abort -->\n",
    "<!-- dom:TITLE: Deep learning and many-body problems -->"
   ]
  },
  {
   "cell_type": "markdown",
   "id": "feb71364",
   "metadata": {
    "editable": true
   },
   "source": [
    "# Deep learning and many-body problems\n",
    "**Morten Hjorth-Jensen  Email morten.hjorth-jensen@fys.uio.no**, Department of Physics and Center fo Computing in Science Education, University of Oslo, Oslo, Norway\n",
    "\n",
    "Date: **May 9**"
   ]
  },
  {
   "cell_type": "markdown",
   "id": "37e3bc11",
   "metadata": {
    "editable": true
   },
   "source": [
    "## Overview of week of May 5-9\n",
    "* Neural networks and project 2\n",
    "\n",
    "a. Discussions of neural network and solution of project 2"
   ]
  }
 ],
 "metadata": {},
 "nbformat": 4,
 "nbformat_minor": 5
}
