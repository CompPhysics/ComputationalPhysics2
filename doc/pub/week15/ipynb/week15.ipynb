{
 "cells": [
  {
   "cell_type": "markdown",
   "id": "23f82a0a",
   "metadata": {
    "editable": true
   },
   "source": [
    "<!-- HTML file automatically generated from DocOnce source (https://github.com/doconce/doconce/)\n",
    "doconce format html week15.do.txt --no_mako --no_abort -->\n",
    "<!-- dom:TITLE: To be determined -->"
   ]
  },
  {
   "cell_type": "markdown",
   "id": "37478140",
   "metadata": {
    "editable": true
   },
   "source": [
    "# To be determined\n",
    "**Morten Hjorth-Jensen  Email morten.hjorth-jensen@fys.uio.no**, Department of Physics and Center fo Computing in Science Education, University of Oslo, Oslo, Norway\n",
    "\n",
    "Date: **May 9**"
   ]
  },
  {
   "cell_type": "markdown",
   "id": "9558bf58",
   "metadata": {
    "editable": true
   },
   "source": [
    "## Overview of week of May 5-9\n",
    "1. Topics to be determined"
   ]
  }
 ],
 "metadata": {},
 "nbformat": 4,
 "nbformat_minor": 5
}
