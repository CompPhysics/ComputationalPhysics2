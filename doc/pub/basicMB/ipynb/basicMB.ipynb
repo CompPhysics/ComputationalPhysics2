{
 "cells": [
  {
   "cell_type": "markdown",
   "metadata": {},
   "source": [
    "<!-- dom:TITLE: Computational Physics:  Hartree-Fock methods and introduction to Many-body Theory -->\n",
    "# Computational Physics:  Hartree-Fock methods and introduction to Many-body Theory\n",
    "<!-- dom:AUTHOR: Morten Hjorth-Jensen at [National Superconducting Cyclotron Laboratory](http://www.nscl.msu.edu/) and [Department of Physics and Astronomy](https://www.pa.msu.edu/), [Michigan State University](http://www.msu.edu/), East Lansing, MI 48824, USA & Department of Physics, University of Oslo, Oslo, Norway -->\n",
    "<!-- Author: --> **Morten Hjorth-Jensen**, [National Superconducting Cyclotron Laboratory](http://www.nscl.msu.edu/) and [Department of Physics and Astronomy](https://www.pa.msu.edu/), [Michigan State University](http://www.msu.edu/), East Lansing, MI 48824, USA and Department of Physics, University of Oslo, Oslo, Norway\n",
    "\n",
    "Date: **Spring 2017**\n",
    "\n",
    "## Why Hartree-Fock?\n",
    "\n",
    "Hartree-Fock (HF) theory is an algorithm for finding an approximative expression for the ground state of a given Hamiltonian. The basic ingredients are\n",
    "  * Define a single-particle basis $\\{\\psi_{\\alpha}\\}$ so that"
   ]
  },
  {
   "cell_type": "markdown",
   "metadata": {},
   "source": [
    "$$\n",
    "\\hat{h}^{\\mathrm{HF}}\\psi_{\\alpha} = \\varepsilon_{\\alpha}\\psi_{\\alpha}\n",
    "$$"
   ]
  },
  {
   "cell_type": "markdown",
   "metadata": {},
   "source": [
    "with the Hartree-Fock Hamiltonian defined as"
   ]
  },
  {
   "cell_type": "markdown",
   "metadata": {},
   "source": [
    "$$\n",
    "\\hat{h}^{\\mathrm{HF}}=\\hat{t}+\\hat{u}_{\\mathrm{ext}}+\\hat{u}^{\\mathrm{HF}}\n",
    "$$"
   ]
  },
  {
   "cell_type": "markdown",
   "metadata": {},
   "source": [
    "* The term  $\\hat{u}^{\\mathrm{HF}}$ is a single-particle potential to be determined by the HF algorithm.\n",
    "\n",
    "  * The HF algorithm means to choose $\\hat{u}^{\\mathrm{HF}}$ in order to have"
   ]
  },
  {
   "cell_type": "markdown",
   "metadata": {},
   "source": [
    "$$\n",
    "\\langle \\hat{H} \\rangle = E^{\\mathrm{HF}}= \\langle \\Phi_0 | \\hat{H}|\\Phi_0 \\rangle\n",
    "$$"
   ]
  },
  {
   "cell_type": "markdown",
   "metadata": {},
   "source": [
    "that is to find a local minimum with a Slater determinant $\\Phi_0$ being the ansatz for the ground state. \n",
    "  * The variational principle ensures that $E^{\\mathrm{HF}} \\ge E_0$, with $E_0$ the exact ground state energy.\n",
    "\n",
    "## Why Hartree-Fock?\n",
    "\n",
    "We will show that the Hartree-Fock Hamiltonian $\\hat{h}^{\\mathrm{HF}}$ equals our definition of the operator $\\hat{f}$ discussed in connection with the new definition of the normal-ordered Hamiltonian (see later lectures), that is we have, for a specific matrix element"
   ]
  },
  {
   "cell_type": "markdown",
   "metadata": {},
   "source": [
    "$$\n",
    "\\langle p |\\hat{h}^{\\mathrm{HF}}| q \\rangle =\\langle p |\\hat{f}| q \\rangle=\\langle p|\\hat{t}+\\hat{u}_{\\mathrm{ext}}|q \\rangle +\\sum_{i\\le F} \\langle pi | \\hat{V} | qi\\rangle_{AS},\n",
    "$$"
   ]
  },
  {
   "cell_type": "markdown",
   "metadata": {},
   "source": [
    "meaning that"
   ]
  },
  {
   "cell_type": "markdown",
   "metadata": {},
   "source": [
    "$$\n",
    "\\langle p|\\hat{u}^{\\mathrm{HF}}|q\\rangle = \\sum_{i\\le F} \\langle pi | \\hat{V} | qi\\rangle_{AS}.\n",
    "$$"
   ]
  },
  {
   "cell_type": "markdown",
   "metadata": {},
   "source": [
    "The so-called Hartree-Fock potential $\\hat{u}^{\\mathrm{HF}}$ brings an explicit medium dependence due to the summation over all single-particle states below the Fermi level $F$. It brings also in an explicit dependence on the two-body interaction (in nuclear physics we can also have complicated three- or higher-body forces). The two-body interaction, with its contribution from the other bystanding fermions, creates an effective mean field in which a given fermion moves, in addition to the external potential $\\hat{u}_{\\mathrm{ext}}$ which confines the motion of the fermion. For systems like nuclei, there is no external confining potential. Nuclei are examples of self-bound systems, where the binding arises due to the intrinsic nature of the strong force. For nuclear systems thus, there would be no external one-body potential in the Hartree-Fock Hamiltonian. \n",
    "\n",
    "\n",
    "## Quantum Many-particle Methods\n",
    "\n",
    "* Large-scale diagonalization (Iterative methods, Lanczo's method, dimensionalities $10^{10}$ states)\n",
    "\n",
    "* Coupled cluster theory, favoured method in quantum chemistry, molecular and atomic physics. Applications to ab initio calculations in nuclear physics as well for large nuclei\n",
    "\n",
    "* Perturbative many-body methods\n",
    "\n",
    "* Density functional theories/Mean-field theory and Hartree-Fock theory\n",
    "\n",
    "* Monte-Carlo methods (Only in FYS4411, Computational quantum mechanics)\n",
    "\n",
    "* Green's function theories\n",
    "\n",
    "* and other. The physics of the system hints at which many-body methods to use.\n",
    "\n",
    "## Selected Texts and Many-body theory\n",
    "\n",
    "* Blaizot and Ripka, *Quantum Theory of Finite systems*, MIT press 1986\n",
    "\n",
    "* Negele and Orland, *Quantum Many-Particle Systems*, Addison-Wesley, 1987.\n",
    "\n",
    "* Fetter and Walecka, *Quantum Theory of Many-Particle Systems*, McGraw-Hill, 1971.\n",
    "\n",
    "* Helgaker, Jorgensen and Olsen, *Molecular Electronic Structure Theory*, Wiley, 2001.\n",
    "\n",
    "* Mattuck, *Guide to Feynman Diagrams in the Many-Body Problem*, Dover, 1971.\n",
    "\n",
    "* Dickhoff and Van Neck, *Many-Body Theory Exposed*, World Scientific, 2006.\n",
    "\n",
    "<!-- !split  -->\n",
    "## Definitions\n",
    "\n",
    "An operator is defined as $\\hat{O}$ throughout. Unless otherwise specified the number of particles is\n",
    "always $N$ and $d$ is the dimension of the system.  In nuclear physics\n",
    "we normally define the total number of particles to be $A=N+Z$, where\n",
    "$N$ is total number of neutrons and $Z$ the total number of\n",
    "protons. In case of other baryons such isobars $\\Delta$ or various\n",
    "hyperons such as $\\Lambda$ or $\\Sigma$, one needs to add their\n",
    "definitions.  Hereafter, $N$ is reserved for the total number of\n",
    "particles, unless otherwise specificied. \n",
    "\n",
    "\n",
    "## Definitions\n",
    "\n",
    "The quantum numbers of a single-particle state in coordinate space are\n",
    "defined by the variable"
   ]
  },
  {
   "cell_type": "markdown",
   "metadata": {},
   "source": [
    "$$\n",
    "x=(\\boldsymbol{r},\\sigma),\n",
    "$$"
   ]
  },
  {
   "cell_type": "markdown",
   "metadata": {},
   "source": [
    "where"
   ]
  },
  {
   "cell_type": "markdown",
   "metadata": {},
   "source": [
    "$$\n",
    "\\boldsymbol{r}\\in {\\mathbb{R}}^{d},\n",
    "$$"
   ]
  },
  {
   "cell_type": "markdown",
   "metadata": {},
   "source": [
    "with $d=1,2,3$ represents the spatial coordinates and $\\sigma$ is the eigenspin of the particle. For fermions with eigenspin $1/2$ this means that"
   ]
  },
  {
   "cell_type": "markdown",
   "metadata": {},
   "source": [
    "$$\n",
    "x\\in {\\mathbb{R}}^{d}\\oplus (\\frac{1}{2}),\n",
    "$$"
   ]
  },
  {
   "cell_type": "markdown",
   "metadata": {},
   "source": [
    "and the integral $\\int dx = \\sum_{\\sigma}\\int d^dr = \\sum_{\\sigma}\\int d\\boldsymbol{r}$,\n",
    "and"
   ]
  },
  {
   "cell_type": "markdown",
   "metadata": {},
   "source": [
    "$$\n",
    "\\int d^Nx= \\int dx_1\\int dx_2\\dots\\int dx_N.\n",
    "$$"
   ]
  },
  {
   "cell_type": "markdown",
   "metadata": {},
   "source": [
    "## Definitions\n",
    "\n",
    "The quantum mechanical wave function of a given state with quantum numbers $\\lambda$ (encompassing all quantum numbers needed to specify the system), ignoring time, is"
   ]
  },
  {
   "cell_type": "markdown",
   "metadata": {},
   "source": [
    "$$\n",
    "\\Psi_{\\lambda}=\\Psi_{\\lambda}(x_1,x_2,\\dots,x_N),\n",
    "$$"
   ]
  },
  {
   "cell_type": "markdown",
   "metadata": {},
   "source": [
    "with $x_i=(\\boldsymbol{r}_i,\\sigma_i)$ and the projection of $\\sigma_i$ takes the values\n",
    "$\\{-1/2,+1/2\\}$ for particles with spin $1/2$. \n",
    "We will hereafter always refer to $\\Psi_{\\lambda}$ as the exact wave function, and if the ground state is not degenerate we label it as"
   ]
  },
  {
   "cell_type": "markdown",
   "metadata": {},
   "source": [
    "$$\n",
    "\\Psi_0=\\Psi_0(x_1,x_2,\\dots,x_N).\n",
    "$$"
   ]
  },
  {
   "cell_type": "markdown",
   "metadata": {},
   "source": [
    "## Definitions\n",
    "\n",
    "Since the solution $\\Psi_{\\lambda}$ seldomly can be found in closed form, approximations are sought. Here we define an approximative wave function or an ansatz to the exact wave function as"
   ]
  },
  {
   "cell_type": "markdown",
   "metadata": {},
   "source": [
    "$$\n",
    "\\Phi_{\\lambda}=\\Phi_{\\lambda}(x_1,x_2,\\dots,x_N),\n",
    "$$"
   ]
  },
  {
   "cell_type": "markdown",
   "metadata": {},
   "source": [
    "with"
   ]
  },
  {
   "cell_type": "markdown",
   "metadata": {},
   "source": [
    "$$\n",
    "\\Phi_0=\\Phi_0(x_1,x_2,\\dots,x_N),\n",
    "$$"
   ]
  },
  {
   "cell_type": "markdown",
   "metadata": {},
   "source": [
    "being the ansatz to the ground state.  \n",
    "\n",
    "\n",
    "\n",
    "## Definitions\n",
    "\n",
    "The wave function $\\Psi_{\\lambda}$ is sought in the Hilbert space of either symmetric or anti-symmetric $N$-body functions, namely"
   ]
  },
  {
   "cell_type": "markdown",
   "metadata": {},
   "source": [
    "$$\n",
    "\\Psi_{\\lambda}\\in {\\cal H}_N:= {\\cal H}_1\\oplus{\\cal H}_1\\oplus\\dots\\oplus{\\cal H}_1,\n",
    "$$"
   ]
  },
  {
   "cell_type": "markdown",
   "metadata": {},
   "source": [
    "where the single-particle Hilbert space $\\hat{H}_1$ is the space of square integrable functions over\n",
    "$\\in {\\mathbb{R}}^{d}\\oplus (\\sigma)$\n",
    "resulting in"
   ]
  },
  {
   "cell_type": "markdown",
   "metadata": {},
   "source": [
    "$$\n",
    "{\\cal H}_1:= L^2(\\mathbb{R}^{d}\\oplus (\\sigma)).\n",
    "$$"
   ]
  },
  {
   "cell_type": "markdown",
   "metadata": {},
   "source": [
    "## Definitions\n",
    "\n",
    "Our Hamiltonian is invariant under the permutation (interchange) of two particles.\n",
    "Since we deal with fermions however, the total wave function is antisymmetric.\n",
    "Let $\\hat{P}$ be an operator which interchanges two particles.\n",
    "Due to the symmetries we have ascribed to our Hamiltonian, this operator commutes with the total Hamiltonian,"
   ]
  },
  {
   "cell_type": "markdown",
   "metadata": {},
   "source": [
    "$$\n",
    "[\\hat{H},\\hat{P}] = 0,\n",
    "$$"
   ]
  },
  {
   "cell_type": "markdown",
   "metadata": {},
   "source": [
    "meaning that $\\Psi_{\\lambda}(x_1, x_2, \\dots , x_N)$ is an eigenfunction of \n",
    "$\\hat{P}$ as well, that is"
   ]
  },
  {
   "cell_type": "markdown",
   "metadata": {},
   "source": [
    "$$\n",
    "\\hat{P}_{ij}\\Psi_{\\lambda}(x_1, x_2, \\dots,x_i,\\dots,x_j,\\dots,x_N)=\n",
    "\\beta\\Psi_{\\lambda}(x_1, x_2, \\dots,x_j,\\dots,x_i,\\dots,x_N),\n",
    "$$"
   ]
  },
  {
   "cell_type": "markdown",
   "metadata": {},
   "source": [
    "where $\\beta$ is the eigenvalue of $\\hat{P}$. We have introduced the suffix $ij$ in order to indicate that we permute particles $i$ and $j$.\n",
    "The Pauli principle tells us that the total wave function for a system of fermions\n",
    "has to be antisymmetric, resulting in the eigenvalue $\\beta = -1$.   \n",
    "\n",
    "\n",
    "\n",
    "## Definitions and notations\n",
    "\n",
    "The Schrodinger equation reads"
   ]
  },
  {
   "cell_type": "markdown",
   "metadata": {},
   "source": [
    "<!-- Equation labels as ordinary links -->\n",
    "<div id=\"eq:basicSE1\"></div>\n",
    "\n",
    "$$\n",
    "\\begin{equation}\n",
    "\\hat{H}(x_1, x_2, \\dots , x_N) \\Psi_{\\lambda}(x_1, x_2, \\dots , x_N) = \n",
    "E_\\lambda  \\Psi_\\lambda(x_1, x_2, \\dots , x_N), \\label{eq:basicSE1} \\tag{1}\n",
    "\\end{equation}\n",
    "$$"
   ]
  },
  {
   "cell_type": "markdown",
   "metadata": {},
   "source": [
    "where the vector $x_i$ represents the coordinates (spatial and spin) of particle $i$, $\\lambda$ stands  for all the quantum\n",
    "numbers needed to classify a given $N$-particle state and $\\Psi_{\\lambda}$ is the pertaining eigenfunction.  Throughout this course,\n",
    "$\\Psi$ refers to the exact eigenfunction, unless otherwise stated.\n",
    "\n",
    "\n",
    "## Definitions and notations\n",
    "\n",
    "We write the Hamilton operator, or Hamiltonian,  in a generic way"
   ]
  },
  {
   "cell_type": "markdown",
   "metadata": {},
   "source": [
    "$$\n",
    "\\hat{H} = \\hat{T} + \\hat{V}\n",
    "$$"
   ]
  },
  {
   "cell_type": "markdown",
   "metadata": {},
   "source": [
    "where $\\hat{T}$  represents the kinetic energy of the system"
   ]
  },
  {
   "cell_type": "markdown",
   "metadata": {},
   "source": [
    "$$\n",
    "\\hat{T} = \\sum_{i=1}^N \\frac{\\mathbf{p}_i^2}{2m_i} = \\sum_{i=1}^N \\left( -\\frac{\\hbar^2}{2m_i} \\mathbf{\\nabla_i}^2 \\right) =\n",
    "\t\t\\sum_{i=1}^N t(x_i)\n",
    "$$"
   ]
  },
  {
   "cell_type": "markdown",
   "metadata": {},
   "source": [
    "while the operator $\\hat{V}$ for the potential energy is given by"
   ]
  },
  {
   "cell_type": "markdown",
   "metadata": {},
   "source": [
    "<!-- Equation labels as ordinary links -->\n",
    "<div id=\"eq:firstv\"></div>\n",
    "\n",
    "$$\n",
    "\\begin{equation}\n",
    "\t\\hat{V} = \\sum_{i=1}^N \\hat{u}_{\\mathrm{ext}}(x_i) + \\sum_{j < i=1}^N v(x_i,x_j)+\\sum_{i< j < k=1}^Nv(x_i,x_j,x_k)+\\dots\n",
    "\\label{eq:firstv} \\tag{2}\n",
    "\\end{equation}\n",
    "$$"
   ]
  },
  {
   "cell_type": "markdown",
   "metadata": {},
   "source": [
    "Hereafter we use natural units, viz. $\\hbar=c=e=1$, with $e$ the elementary charge and $c$ the speed of light. This means that momenta and masses\n",
    "have dimension energy. \n",
    "\n",
    "\n",
    "\n",
    "## Definitions and notations\n",
    "\n",
    "If one does quantum chemistry, after having introduced the  Born-Oppenheimer approximation which effectively freezes out the nucleonic degrees of freedom, the Hamiltonian for $N=n_e$ electrons takes the following form"
   ]
  },
  {
   "cell_type": "markdown",
   "metadata": {},
   "source": [
    "$$\n",
    "\\hat{H} = \\sum_{i=1}^{n_e} t(x_i) - \\sum_{i=1}^{n_e} k\\frac{Z}{r_i} + \\sum_{i < j}^{n_e} \\frac{k}{r_{ij}},\n",
    "$$"
   ]
  },
  {
   "cell_type": "markdown",
   "metadata": {},
   "source": [
    "with $k=1.44$ eVnm\n",
    "\n",
    "\n",
    "\n",
    "## Definitions and notations\n",
    "\n",
    "We can rewrite this as"
   ]
  },
  {
   "cell_type": "markdown",
   "metadata": {},
   "source": [
    "<!-- Equation labels as ordinary links -->\n",
    "<div id=\"H1H2\"></div>\n",
    "\n",
    "$$\n",
    "\\begin{equation}\n",
    "    \\hat{H} = \\hat{H}_0 + \\hat{H}_I \n",
    "    = \\sum_{i=1}^{n_e}\\hat{h}_0(x_i) + \\sum_{i < j}^{n_e}\\frac{1}{r_{ij}},\n",
    "\\label{H1H2} \\tag{3}\n",
    "\\end{equation}\n",
    "$$"
   ]
  },
  {
   "cell_type": "markdown",
   "metadata": {},
   "source": [
    "where  we have defined"
   ]
  },
  {
   "cell_type": "markdown",
   "metadata": {},
   "source": [
    "$$\n",
    "r_{ij}=| \\boldsymbol{r}_i-\\boldsymbol{r}_j|,\n",
    "$$"
   ]
  },
  {
   "cell_type": "markdown",
   "metadata": {},
   "source": [
    "and"
   ]
  },
  {
   "cell_type": "markdown",
   "metadata": {},
   "source": [
    "<!-- Equation labels as ordinary links -->\n",
    "<div id=\"hi\"></div>\n",
    "\n",
    "$$\n",
    "\\begin{equation}\n",
    "  \\hat{h}_0(x_i) =  \\hat{t}(x_i) - \\frac{Z}{x_i}.\n",
    "\\label{hi} \\tag{4}\n",
    "\\end{equation}\n",
    "$$"
   ]
  },
  {
   "cell_type": "markdown",
   "metadata": {},
   "source": [
    "The first term of Eq. ([H1H2](#H1H2)), $H_0$, is the sum of the $N$\n",
    "*one-body* Hamiltonians $\\hat{h}_0$. Each individual\n",
    "Hamiltonian $\\hat{h}_0$ contains the kinetic energy operator of an\n",
    "electron and its potential energy due to the attraction of the\n",
    "nucleus. The second term, $H_I$, is the sum of the $n_e(n_e-1)/2$\n",
    "two-body interactions between each pair of electrons. Note that the double sum carries a restriction $i < j$.\n",
    "\n",
    "\n",
    "\n",
    "## Definitions and notations\n",
    "\n",
    "The potential energy term due to the attraction of the nucleus defines the onebody field $u_i=u_{\\mathrm{ext}}(x_i)$ of Eq. ([eq:firstv](#eq:firstv)).\n",
    "We have moved this term into the $\\hat{H}_0$ part of the Hamiltonian, instead of keeping  it in $\\hat{V}$ as in  Eq. ([eq:firstv](#eq:firstv)).\n",
    "The reason is that we will hereafter treat $\\hat{H}_0$ as our non-interacting  Hamiltonian. For a many-body wavefunction $\\Phi_{\\lambda}$ defined by an  \n",
    "appropriate single-particle basis, we may solve exactly the non-interacting eigenvalue problem"
   ]
  },
  {
   "cell_type": "markdown",
   "metadata": {},
   "source": [
    "$$\n",
    "\\hat{H}_0\\Phi_{\\lambda}= w_{\\lambda}\\Phi_{\\lambda},\n",
    "$$"
   ]
  },
  {
   "cell_type": "markdown",
   "metadata": {},
   "source": [
    "with $w_{\\lambda}$ being the non-interacting energy. This energy is defined by the sum over single-particle energies to be defined below.\n",
    "For atoms the single-particle energies could be the hydrogen-like single-particle energies corrected for the charge $Z$. For nuclei and quantum\n",
    "dots, these energies could be given by the harmonic oscillator in three and two dimensions, respectively.\n",
    "\n",
    "\n",
    "## Definitions and notations\n",
    "\n",
    "We will assume that the interacting part of the Hamiltonian\n",
    "can be approximated by a two-body interaction.\n",
    "This means that our Hamiltonian is written as"
   ]
  },
  {
   "cell_type": "markdown",
   "metadata": {},
   "source": [
    "<!-- Equation labels as ordinary links -->\n",
    "<div id=\"Hnuclei\"></div>\n",
    "\n",
    "$$\n",
    "\\begin{equation}\n",
    "    \\hat{H} = \\hat{H}_0 + \\hat{H}_I \n",
    "    = \\sum_{i=1}^N \\hat{h}_0(x_i) + \\sum_{i < j}^N V(r_{ij}),\n",
    "\\label{Hnuclei} \\tag{5}\n",
    "\\end{equation}\n",
    "$$"
   ]
  },
  {
   "cell_type": "markdown",
   "metadata": {},
   "source": [
    "with"
   ]
  },
  {
   "cell_type": "markdown",
   "metadata": {},
   "source": [
    "<!-- Equation labels as ordinary links -->\n",
    "<div id=\"hinuclei\"></div>\n",
    "\n",
    "$$\n",
    "\\begin{equation}\n",
    "  H_0=\\sum_{i=1}^N \\hat{h}_0(x_i) =  \\sum_{i=1}^N\\left(\\hat{t}(x_i) + \\hat{u}_{\\mathrm{ext}}(x_i)\\right).\n",
    "\\label{hinuclei} \\tag{6}\n",
    "\\end{equation}\n",
    "$$"
   ]
  },
  {
   "cell_type": "markdown",
   "metadata": {},
   "source": [
    "The onebody part $u_{\\mathrm{ext}}(x_i)$ is normally approximated by a harmonic oscillator potential or the Coulomb interaction an electron feels from the nucleus. However, other potentials are fully possible, such as \n",
    "one derived from the self-consistent solution of the Hartree-Fock equations.\n",
    "\n",
    "\n",
    "\n",
    "## Definitions and notations\n",
    "\n",
    "Our Hamiltonian is invariant under the permutation (interchange) of two particles. % (exercise here, prove it)\n",
    "Since we deal with fermions however, the total wave function is antisymmetric.\n",
    "Let $\\hat{P}$ be an operator which interchanges two particles.\n",
    "Due to the symmetries we have ascribed to our Hamiltonian, this operator commutes with the total Hamiltonian,"
   ]
  },
  {
   "cell_type": "markdown",
   "metadata": {},
   "source": [
    "$$\n",
    "[\\hat{H},\\hat{P}] = 0,\n",
    "$$"
   ]
  },
  {
   "cell_type": "markdown",
   "metadata": {},
   "source": [
    "meaning that $\\Psi_{\\lambda}(x_1, x_2, \\dots , x_N)$ is an eigenfunction of \n",
    "$\\hat{P}$ as well, that is"
   ]
  },
  {
   "cell_type": "markdown",
   "metadata": {},
   "source": [
    "$$\n",
    "\\hat{P}_{ij}\\Psi_{\\lambda}(x_1, x_2, \\dots,x_i,\\dots,x_j,\\dots,x_N)=\n",
    "\\beta\\Psi_{\\lambda}(x_1, x_2, \\dots,x_i,\\dots,x_j,\\dots,x_N),\n",
    "$$"
   ]
  },
  {
   "cell_type": "markdown",
   "metadata": {},
   "source": [
    "where $\\beta$ is the eigenvalue of $\\hat{P}$. We have introduced the suffix $ij$ in order to indicate that we permute particles $i$ and $j$.\n",
    "The Pauli principle tells us that the total wave function for a system of fermions\n",
    "has to be antisymmetric, resulting in the eigenvalue $\\beta = -1$.   \n",
    "\n",
    "\n",
    "## Definitions and notations\n",
    "\n",
    "In our case we assume that  we can approximate the exact eigenfunction with a Slater determinant"
   ]
  },
  {
   "cell_type": "markdown",
   "metadata": {},
   "source": [
    "<!-- Equation labels as ordinary links -->\n",
    "<div id=\"eq:HartreeFockDet\"></div>\n",
    "\n",
    "$$\n",
    "\\begin{equation}\n",
    "   \\Phi(x_1, x_2,\\dots ,x_N,\\alpha,\\beta,\\dots, \\sigma)=\\frac{1}{\\sqrt{N!}}\n",
    "\\left| \\begin{array}{ccccc} \\psi_{\\alpha}(x_1)& \\psi_{\\alpha}(x_2)& \\dots & \\dots & \\psi_{\\alpha}(x_N)\\\\\n",
    "                            \\psi_{\\beta}(x_1)&\\psi_{\\beta}(x_2)& \\dots & \\dots & \\psi_{\\beta}(x_N)\\\\  \n",
    "                            \\dots & \\dots & \\dots & \\dots & \\dots \\\\\n",
    "                            \\dots & \\dots & \\dots & \\dots & \\dots \\\\\n",
    "                     \\psi_{\\sigma}(x_1)&\\psi_{\\sigma}(x_2)& \\dots & \\dots & \\psi_{\\sigma}(x_N)\\end{array} \\right|, \\label{eq:HartreeFockDet} \\tag{7}\n",
    "\\end{equation}\n",
    "$$"
   ]
  },
  {
   "cell_type": "markdown",
   "metadata": {},
   "source": [
    "where  $x_i$  stand for the coordinates and spin values of a particle $i$ and $\\alpha,\\beta,\\dots, \\gamma$ \n",
    "are quantum numbers needed to describe remaining quantum numbers.  \n",
    "\n",
    "\n",
    "## Definitions and notations\n",
    "\n",
    "The single-particle function $\\psi_{\\alpha}(x_i)$  are eigenfunctions of the onebody\n",
    "Hamiltonian $h_i$, that is"
   ]
  },
  {
   "cell_type": "markdown",
   "metadata": {},
   "source": [
    "$$\n",
    "\\hat{h}_0(x_i)=\\hat{t}(x_i) + \\hat{u}_{\\mathrm{ext}}(x_i),\n",
    "$$"
   ]
  },
  {
   "cell_type": "markdown",
   "metadata": {},
   "source": [
    "with eigenvalues"
   ]
  },
  {
   "cell_type": "markdown",
   "metadata": {},
   "source": [
    "$$\n",
    "\\hat{h}_0(x_i) \\psi_{\\alpha}(x_i)=\\left(\\hat{t}(x_i) + \\hat{u}_{\\mathrm{ext}}(x_i)\\right)\\psi_{\\alpha}(x_i)=\\varepsilon_{\\alpha}\\psi_{\\alpha}(x_i).\n",
    "$$"
   ]
  },
  {
   "cell_type": "markdown",
   "metadata": {},
   "source": [
    "The energies $\\varepsilon_{\\alpha}$ are the so-called non-interacting single-particle energies, or unperturbed energies. \n",
    "The total energy is in this case the sum over all  single-particle energies, if no two-body or more complicated\n",
    "many-body interactions are present.\n",
    "\n",
    "\n",
    "## Definitions and notations\n",
    "\n",
    "Let us denote the ground state energy by $E_0$. According to the\n",
    "variational principle we have"
   ]
  },
  {
   "cell_type": "markdown",
   "metadata": {},
   "source": [
    "$$\n",
    "E_0 \\le E[\\Phi] = \\int \\Phi^*\\hat{H}\\Phi d\\mathbf{\\tau}\n",
    "$$"
   ]
  },
  {
   "cell_type": "markdown",
   "metadata": {},
   "source": [
    "where $\\Phi$ is a trial function which we assume to be normalized"
   ]
  },
  {
   "cell_type": "markdown",
   "metadata": {},
   "source": [
    "$$\n",
    "\\int \\Phi^*\\Phi d\\mathbf{\\tau} = 1,\n",
    "$$"
   ]
  },
  {
   "cell_type": "markdown",
   "metadata": {},
   "source": [
    "where we have used the shorthand $d\\mathbf{\\tau}=d\\mathbf{r}_1d\\mathbf{r}_2\\dots d\\mathbf{r}_N$.\n",
    "\n",
    "\n",
    "\n",
    "## Brief reminder on some linear algebra properties\n",
    "\n",
    "Before we proceed with a more compact representation of a Slater determinant, we would like to repeat some linear algebra properties which will be useful for our derivations of the energy as function of a Slater determinant, Hartree-Fock theory and later the nuclear shell model.\n",
    "\n",
    "The inverse of a matrix is defined by"
   ]
  },
  {
   "cell_type": "markdown",
   "metadata": {},
   "source": [
    "$$\n",
    "\\mathbf{A}^{-1} \\cdot \\mathbf{A} = I\n",
    "$$"
   ]
  },
  {
   "cell_type": "markdown",
   "metadata": {},
   "source": [
    "A unitary matrix $\\mathbf{A}$ is one whose inverse is its adjoint"
   ]
  },
  {
   "cell_type": "markdown",
   "metadata": {},
   "source": [
    "$$\n",
    "\\mathbf{A}^{-1}=\\mathbf{A}^{\\dagger}\n",
    "$$"
   ]
  },
  {
   "cell_type": "markdown",
   "metadata": {},
   "source": [
    "A real unitary matrix is called orthogonal and its inverse is equal to its transpose.\n",
    "A hermitian matrix is its own self-adjoint, that  is"
   ]
  },
  {
   "cell_type": "markdown",
   "metadata": {},
   "source": [
    "$$\n",
    "\\mathbf{A}=\\mathbf{A}^{\\dagger}.\n",
    "$$"
   ]
  },
  {
   "cell_type": "markdown",
   "metadata": {},
   "source": [
    "## Basic Matrix Features\n",
    "\n",
    " Matrix Properties Reminder\n",
    "\n",
    "<table border=\"1\">\n",
    "<thead>\n",
    "<tr><th align=\"center\">              Relations               </th> <th align=\"center\">      Name     </th> <th align=\"center\">                            matrix elements                            </th> </tr>\n",
    "</thead>\n",
    "<tbody>\n",
    "<tr><td align=\"center\">   $A = A^{T}$                               </td> <td align=\"center\">   symmetric          </td> <td align=\"center\">   $a_{ij} = a_{ji}$                                                          </td> </tr>\n",
    "<tr><td align=\"center\">   $A = \\left (A^{T} \\right )^{-1}$          </td> <td align=\"center\">   real orthogonal    </td> <td align=\"center\">   $\\sum_k a_{ik} a_{jk} = \\sum_k a_{ki} a_{kj} = \\delta_{ij}$                </td> </tr>\n",
    "<tr><td align=\"center\">   $A = A^{ * }$                             </td> <td align=\"center\">   real matrix        </td> <td align=\"center\">   $a_{ij} = a_{ij}^{ * }$                                                    </td> </tr>\n",
    "<tr><td align=\"center\">   $A = A^{\\dagger}$                         </td> <td align=\"center\">   hermitian          </td> <td align=\"center\">   $a_{ij} = a_{ji}^{ * }$                                                    </td> </tr>\n",
    "<tr><td align=\"center\">   $A = \\left (A^{\\dagger} \\right )^{-1}$    </td> <td align=\"center\">   unitary            </td> <td align=\"center\">   $\\sum_k a_{ik} a_{jk}^{ * } = \\sum_k a_{ki}^{ * } a_{kj} = \\delta_{ij}$    </td> </tr>\n",
    "</tbody>\n",
    "</table>\n",
    "\n",
    "\n",
    "\n",
    "\n",
    "## Basic Matrix Features\n",
    "\n",
    "Since we will deal with Fermions (identical and indistinguishable particles) we will \n",
    "form an ansatz for a given state in terms of so-called Slater determinants determined\n",
    "by a chosen basis of single-particle functions. \n",
    "\n",
    "For a given $n\\times n$ matrix $\\mathbf{A}$ we can write its determinant"
   ]
  },
  {
   "cell_type": "markdown",
   "metadata": {},
   "source": [
    "$$\n",
    "det(\\mathbf{A})=|\\mathbf{A}|=\n",
    "\\left| \\begin{array}{ccccc} a_{11}& a_{12}& \\dots & \\dots & a_{1n}\\\\\n",
    "                            a_{21}&a_{22}& \\dots & \\dots & a_{2n}\\\\  \n",
    "                            \\dots & \\dots & \\dots & \\dots & \\dots \\\\\n",
    "                            \\dots & \\dots & \\dots & \\dots & \\dots \\\\\n",
    "                            a_{n1}& a_{n2}& \\dots & \\dots & a_{nn}\\end{array} \\right|,\n",
    "$$"
   ]
  },
  {
   "cell_type": "markdown",
   "metadata": {},
   "source": [
    "in a more compact form as"
   ]
  },
  {
   "cell_type": "markdown",
   "metadata": {},
   "source": [
    "$$\n",
    "|\\mathbf{A}|= \\sum_{i=1}^{n!}(-1)^{p_i}\\hat{P}_i a_{11}a_{22}\\dots a_{nn},\n",
    "$$"
   ]
  },
  {
   "cell_type": "markdown",
   "metadata": {},
   "source": [
    "where $\\hat{P}_i$ is a permutation operator which permutes the column indices $1,2,3,\\dots,n$\n",
    "and the sum runs over all $n!$ permutations.  The quantity $p_i$ represents the number of transpositions of column indices that are needed in order to bring a given permutation back to its initial ordering, in our case given by $a_{11}a_{22}\\dots a_{nn}$ here.\n",
    "\n",
    "\n",
    "\n",
    "## Basic Matrix Features, simple $2 \\times 2$ determinant\n",
    "\n",
    "A simple $2\\times 2$ determinant illustrates this. We have"
   ]
  },
  {
   "cell_type": "markdown",
   "metadata": {},
   "source": [
    "$$\n",
    "det(\\mathbf{A})=\n",
    "\\left| \\begin{array}{cc} a_{11}& a_{12}\\\\\n",
    "                            a_{21}&a_{22}\\end{array} \\right|= (-1)^0a_{11}a_{22}+(-1)^1a_{12}a_{21},\n",
    "$$"
   ]
  },
  {
   "cell_type": "markdown",
   "metadata": {},
   "source": [
    "where in the last term we have interchanged the column indices $1$ and $2$. The natural ordering we have chosen is $a_{11}a_{22}$. \n",
    "\n",
    "\n",
    "\n",
    "\n",
    "## Definitions and notations\n",
    "\n",
    "With the above we can rewrite our Slater determinant in a more compact form.\n",
    "In the Hartree-Fock method the trial function is the Slater\n",
    "determinant of Eq. ([eq:HartreeFockDet](#eq:HartreeFockDet)) which can be rewritten as"
   ]
  },
  {
   "cell_type": "markdown",
   "metadata": {},
   "source": [
    "$$\n",
    "\\Phi(x_1,x_2,\\dots,x_N,\\alpha,\\beta,\\dots,\\nu) = \\frac{1}{\\sqrt{N!}}\\sum_{P} (-)^P\\hat{P}\\psi_{\\alpha}(x_1)\n",
    "    \\psi_{\\beta}(x_2)\\dots\\psi_{\\nu}(x_N)=\\sqrt{N!}\\hat{A}\\Phi_H,\n",
    "$$"
   ]
  },
  {
   "cell_type": "markdown",
   "metadata": {},
   "source": [
    "where we have introduced the antisymmetrization operator $\\hat{A}$ defined by the \n",
    "summation over all possible permutations of two particles.\n",
    "\n",
    "\n",
    "## Definitions and notations\n",
    "\n",
    "It is defined as"
   ]
  },
  {
   "cell_type": "markdown",
   "metadata": {},
   "source": [
    "<!-- Equation labels as ordinary links -->\n",
    "<div id=\"antiSymmetryOperator\"></div>\n",
    "\n",
    "$$\n",
    "\\begin{equation}\n",
    "  \\hat{A} = \\frac{1}{N!}\\sum_{p} (-)^p\\hat{P},\n",
    "\\label{antiSymmetryOperator} \\tag{8}\n",
    "\\end{equation}\n",
    "$$"
   ]
  },
  {
   "cell_type": "markdown",
   "metadata": {},
   "source": [
    "with $p$ standing for the number of permutations. We have introduced for later use the so-called\n",
    "Hartree-function, defined by the simple product of all possible single-particle functions"
   ]
  },
  {
   "cell_type": "markdown",
   "metadata": {},
   "source": [
    "$$\n",
    "\\Phi_H(x_1,x_2,\\dots,x_N,\\alpha,\\beta,\\dots,\\nu) =\n",
    "  \\psi_{\\alpha}(x_1)\n",
    "    \\psi_{\\beta}(x_2)\\dots\\psi_{\\nu}(x_N).\n",
    "$$"
   ]
  },
  {
   "cell_type": "markdown",
   "metadata": {},
   "source": [
    "## Definitions and notations\n",
    "\n",
    "Both $\\hat{H}_0$ and $\\hat{H}_I$ are invariant under all possible permutations of any two particles\n",
    "and hence commute with $\\hat{A}$"
   ]
  },
  {
   "cell_type": "markdown",
   "metadata": {},
   "source": [
    "<!-- Equation labels as ordinary links -->\n",
    "<div id=\"commutionAntiSym\"></div>\n",
    "\n",
    "$$\n",
    "\\begin{equation}\n",
    "  [H_0,\\hat{A}] = [H_I,\\hat{A}] = 0. \\label{commutionAntiSym} \\tag{9}\n",
    "\\end{equation}\n",
    "$$"
   ]
  },
  {
   "cell_type": "markdown",
   "metadata": {},
   "source": [
    "Furthermore, $\\hat{A}$ satisfies"
   ]
  },
  {
   "cell_type": "markdown",
   "metadata": {},
   "source": [
    "<!-- Equation labels as ordinary links -->\n",
    "<div id=\"AntiSymSquared\"></div>\n",
    "\n",
    "$$\n",
    "\\begin{equation}\n",
    "  \\hat{A}^2 = \\hat{A},  \\label{AntiSymSquared} \\tag{10}\n",
    "\\end{equation}\n",
    "$$"
   ]
  },
  {
   "cell_type": "markdown",
   "metadata": {},
   "source": [
    "since every permutation of the Slater\n",
    "determinant reproduces it. \n",
    "\n",
    "\n",
    "## Definitions and notations\n",
    "\n",
    "The expectation value of $\\hat{H}_0$"
   ]
  },
  {
   "cell_type": "markdown",
   "metadata": {},
   "source": [
    "$$\n",
    "\\int \\Phi^*\\hat{H}_0\\Phi d\\mathbf{\\tau} \n",
    "  = N! \\int \\Phi_H^*\\hat{A}\\hat{H}_0\\hat{A}\\Phi_H d\\mathbf{\\tau}\n",
    "$$"
   ]
  },
  {
   "cell_type": "markdown",
   "metadata": {},
   "source": [
    "is readily reduced to"
   ]
  },
  {
   "cell_type": "markdown",
   "metadata": {},
   "source": [
    "$$\n",
    "\\int \\Phi^*\\hat{H}_0\\Phi d\\mathbf{\\tau} \n",
    "  = N! \\int \\Phi_H^*\\hat{H}_0\\hat{A}\\Phi_H d\\mathbf{\\tau},\n",
    "$$"
   ]
  },
  {
   "cell_type": "markdown",
   "metadata": {},
   "source": [
    "where we have used Eqs. ([commutionAntiSym](#commutionAntiSym)) and\n",
    "([AntiSymSquared](#AntiSymSquared)). The next step is to replace the antisymmetrization\n",
    "operator by its definition and to\n",
    "replace $\\hat{H}_0$ with the sum of one-body operators"
   ]
  },
  {
   "cell_type": "markdown",
   "metadata": {},
   "source": [
    "$$\n",
    "\\int \\Phi^*\\hat{H}_0\\Phi  d\\mathbf{\\tau}\n",
    "  = \\sum_{i=1}^N \\sum_{p} (-)^p\\int \n",
    "  \\Phi_H^*\\hat{h}_0\\hat{P}\\Phi_H d\\mathbf{\\tau}.\n",
    "$$"
   ]
  },
  {
   "cell_type": "markdown",
   "metadata": {},
   "source": [
    "## Definitions and notations\n",
    "\n",
    "The integral vanishes if two or more particles are permuted in only one\n",
    "of the Hartree-functions $\\Phi_H$ because the individual single-particle wave functions are\n",
    "orthogonal. We obtain then"
   ]
  },
  {
   "cell_type": "markdown",
   "metadata": {},
   "source": [
    "$$\n",
    "\\int \\Phi^*\\hat{H}_0\\Phi  d\\mathbf{\\tau}= \\sum_{i=1}^N \\int \\Phi_H^*\\hat{h}_0\\Phi_H  d\\mathbf{\\tau}.\n",
    "$$"
   ]
  },
  {
   "cell_type": "markdown",
   "metadata": {},
   "source": [
    "Orthogonality of the single-particle functions allows us to further simplify the integral, and we\n",
    "arrive at the following expression for the expectation values of the\n",
    "sum of one-body Hamiltonians"
   ]
  },
  {
   "cell_type": "markdown",
   "metadata": {},
   "source": [
    "<!-- Equation labels as ordinary links -->\n",
    "<div id=\"H1Expectation\"></div>\n",
    "\n",
    "$$\n",
    "\\begin{equation}\n",
    "  \\int \\Phi^*\\hat{H}_0\\Phi  d\\mathbf{\\tau}\n",
    "  = \\sum_{\\mu=1}^N \\int \\psi_{\\mu}^*(\\mathbf{r})\\hat{h}_0\\psi_{\\mu}(\\mathbf{r})\n",
    "  d\\mathbf{r}.\n",
    "\\label{H1Expectation} \\tag{11}\n",
    "\\end{equation}\n",
    "$$"
   ]
  },
  {
   "cell_type": "markdown",
   "metadata": {},
   "source": [
    "## Definitions and notations\n",
    "\n",
    "We introduce the following shorthand for the above integral"
   ]
  },
  {
   "cell_type": "markdown",
   "metadata": {},
   "source": [
    "$$\n",
    "\\langle \\mu | \\hat{h}_0 | \\mu \\rangle = \\int \\psi_{\\mu}^*(\\mathbf{r})\\hat{h}_0\\psi_{\\mu}(\\mathbf{r})  d\\mathbf{r},\n",
    "$$"
   ]
  },
  {
   "cell_type": "markdown",
   "metadata": {},
   "source": [
    "and rewrite Eq. ([H1Expectation](#H1Expectation)) as"
   ]
  },
  {
   "cell_type": "markdown",
   "metadata": {},
   "source": [
    "<!-- Equation labels as ordinary links -->\n",
    "<div id=\"H1Expectation1\"></div>\n",
    "\n",
    "$$\n",
    "\\begin{equation}\n",
    "  \\int \\Phi^*\\hat{H}_0\\Phi  d\\mathbf{\\tau}\n",
    "  = \\sum_{\\mu=1}^N \\langle \\mu | \\hat{h}_0 | \\mu \\rangle.\n",
    "\\label{H1Expectation1} \\tag{12}\n",
    "\\end{equation}\n",
    "$$"
   ]
  },
  {
   "cell_type": "markdown",
   "metadata": {},
   "source": [
    "## Definitions and notations\n",
    "\n",
    "The expectation value of the two-body part of the Hamiltonian is obtained in a\n",
    "similar manner. We have"
   ]
  },
  {
   "cell_type": "markdown",
   "metadata": {},
   "source": [
    "$$\n",
    "\\int \\Phi^*\\hat{H}_I\\Phi d\\mathbf{\\tau} \n",
    "  = N! \\int \\Phi_H^*\\hat{A}\\hat{H}_I\\hat{A}\\Phi_H d\\mathbf{\\tau},\n",
    "$$"
   ]
  },
  {
   "cell_type": "markdown",
   "metadata": {},
   "source": [
    "which reduces to"
   ]
  },
  {
   "cell_type": "markdown",
   "metadata": {},
   "source": [
    "$$\n",
    "\\int \\Phi^*\\hat{H}_I\\Phi d\\mathbf{\\tau} \n",
    "  = \\sum_{i\\le j=1}^N \\sum_{p} (-)^p\\int \n",
    "  \\Phi_H^*V(r_{ij})\\hat{P}\\Phi_H d\\mathbf{\\tau},\n",
    "$$"
   ]
  },
  {
   "cell_type": "markdown",
   "metadata": {},
   "source": [
    "by following the same arguments as for the one-body\n",
    "Hamiltonian. \n",
    "\n",
    "\n",
    "## Definitions and notations\n",
    "\n",
    "Because of the dependence on the inter-particle distance $r_{ij}$,  permutations of\n",
    "any two particles no longer vanish, and we get"
   ]
  },
  {
   "cell_type": "markdown",
   "metadata": {},
   "source": [
    "$$\n",
    "\\int \\Phi^*\\hat{H}_I\\Phi d\\mathbf{\\tau} \n",
    "  = \\sum_{i < j=1}^N \\int  \n",
    "  \\Phi_H^*V(r_{ij})(1-P_{ij})\\Phi_H d\\mathbf{\\tau}.\n",
    "$$"
   ]
  },
  {
   "cell_type": "markdown",
   "metadata": {},
   "source": [
    "where $P_{ij}$ is the permutation operator that interchanges\n",
    "particle $i$ and particle $j$. Again we use the assumption that the single-particle wave functions\n",
    "are orthogonal. \n",
    "\n",
    "\n",
    "\n",
    "## Definitions and notations\n",
    "\n",
    "We obtain"
   ]
  },
  {
   "cell_type": "markdown",
   "metadata": {},
   "source": [
    "<!-- Equation labels as ordinary links -->\n",
    "<div id=\"_auto1\"></div>\n",
    "\n",
    "$$\n",
    "\\begin{equation}\n",
    "  \\int \\Phi^*\\hat{H}_I\\Phi d\\mathbf{\\tau} \n",
    "  = \\frac{1}{2}\\sum_{\\mu=1}^N\\sum_{\\nu=1}^N\n",
    "    \\left[ \\int \\psi_{\\mu}^*(x_i)\\psi_{\\nu}^*(x_j)V(r_{ij})\\psi_{\\mu}(x_i)\\psi_{\\nu}(x_j)\n",
    "    dx_idx_j \\right.\n",
    "\\label{_auto1} \\tag{13}\n",
    "\\end{equation}\n",
    "$$"
   ]
  },
  {
   "cell_type": "markdown",
   "metadata": {},
   "source": [
    "<!-- Equation labels as ordinary links -->\n",
    "<div id=\"H2Expectation\"></div>\n",
    "\n",
    "$$\n",
    "\\begin{equation} \n",
    "  \\left.\n",
    "  - \\int \\psi_{\\mu}^*(x_i)\\psi_{\\nu}^*(x_j)\n",
    "  V(r_{ij})\\psi_{\\nu}(x_i)\\psi_{\\mu}(x_j)\n",
    "  dx_idx_j\n",
    "  \\right]. \\label{H2Expectation} \\tag{14}\n",
    "\\end{equation}\n",
    "$$"
   ]
  },
  {
   "cell_type": "markdown",
   "metadata": {},
   "source": [
    "The first term is the so-called direct term. It is frequently also called the  Hartree term, \n",
    "while the second is due to the Pauli principle and is called\n",
    "the exchange term or just the Fock term.\n",
    "The factor  $1/2$ is introduced because we now run over\n",
    "all pairs twice. \n",
    "\n",
    "\n",
    "## Definitions and notations\n",
    "\n",
    "The last equation allows us to  introduce some further definitions.  \n",
    "The single-particle wave functions $\\psi_{\\mu}(x)$, defined by the quantum numbers $\\mu$ and $x$\n",
    "are defined as the overlap"
   ]
  },
  {
   "cell_type": "markdown",
   "metadata": {},
   "source": [
    "$$\n",
    "\\psi_{\\alpha}(x)  = \\langle x | \\alpha \\rangle .\n",
    "$$"
   ]
  },
  {
   "cell_type": "markdown",
   "metadata": {},
   "source": [
    "## Definitions and notations\n",
    "\n",
    "We introduce the following shorthands for the above two integrals"
   ]
  },
  {
   "cell_type": "markdown",
   "metadata": {},
   "source": [
    "$$\n",
    "\\langle \\mu\\nu|\\hat{v}|\\mu\\nu\\rangle =  \\int \\psi_{\\mu}^*(x_i)\\psi_{\\nu}^*(x_j)V(r_{ij})\\psi_{\\mu}(x_i)\\psi_{\\nu}(x_j)\n",
    "    dx_idx_j,\n",
    "$$"
   ]
  },
  {
   "cell_type": "markdown",
   "metadata": {},
   "source": [
    "and"
   ]
  },
  {
   "cell_type": "markdown",
   "metadata": {},
   "source": [
    "$$\n",
    "\\langle \\mu\\nu|\\hat{v}|\\nu\\mu\\rangle = \\int \\psi_{\\mu}^*(x_i)\\psi_{\\nu}^*(x_j)\n",
    "  V(r_{ij})\\psi_{\\nu}(x_i)\\psi_{\\mu}(x_j)\n",
    "  dx_idx_j.\n",
    "$$"
   ]
  },
  {
   "cell_type": "markdown",
   "metadata": {},
   "source": [
    "## Definitions and notations\n",
    "\n",
    "The direct and exchange matrix elements can be  brought together if we define the antisymmetrized matrix element"
   ]
  },
  {
   "cell_type": "markdown",
   "metadata": {},
   "source": [
    "$$\n",
    "\\langle \\mu\\nu|\\hat{v}|\\mu\\nu\\rangle_{\\mathrm{AS}}= \\langle \\mu\\nu|\\hat{v}|\\mu\\nu\\rangle-\\langle \\mu\\nu|\\hat{v}|\\nu\\mu\\rangle,\n",
    "$$"
   ]
  },
  {
   "cell_type": "markdown",
   "metadata": {},
   "source": [
    "or for a general matrix element"
   ]
  },
  {
   "cell_type": "markdown",
   "metadata": {},
   "source": [
    "$$\n",
    "\\langle \\mu\\nu|\\hat{v}|\\sigma\\tau\\rangle_{\\mathrm{AS}}= \\langle \\mu\\nu|\\hat{v}|\\sigma\\tau\\rangle-\\langle \\mu\\nu|\\hat{v}|\\tau\\sigma\\rangle.\n",
    "$$"
   ]
  },
  {
   "cell_type": "markdown",
   "metadata": {},
   "source": [
    "It has the symmetry property"
   ]
  },
  {
   "cell_type": "markdown",
   "metadata": {},
   "source": [
    "$$\n",
    "\\langle \\mu\\nu|\\hat{v}|\\sigma\\tau\\rangle_{\\mathrm{AS}}= -\\langle \\mu\\nu|\\hat{v}|\\tau\\sigma\\rangle_{\\mathrm{AS}}=-\\langle \\nu\\mu|\\hat{v}|\\sigma\\tau\\rangle_{\\mathrm{AS}}.\n",
    "$$"
   ]
  },
  {
   "cell_type": "markdown",
   "metadata": {},
   "source": [
    "## Definitions and notations\n",
    "\n",
    "The antisymmetric matrix element is also hermitian, implying"
   ]
  },
  {
   "cell_type": "markdown",
   "metadata": {},
   "source": [
    "$$\n",
    "\\langle \\mu\\nu|\\hat{v}|\\sigma\\tau\\rangle_{\\mathrm{AS}}= \\langle \\sigma\\tau|\\hat{v}|\\mu\\nu\\rangle_{\\mathrm{AS}}.\n",
    "$$"
   ]
  },
  {
   "cell_type": "markdown",
   "metadata": {},
   "source": [
    "With these notations we rewrite Eq. ([H2Expectation](#H2Expectation)) as"
   ]
  },
  {
   "cell_type": "markdown",
   "metadata": {},
   "source": [
    "<!-- Equation labels as ordinary links -->\n",
    "<div id=\"H2Expectation2\"></div>\n",
    "\n",
    "$$\n",
    "\\begin{equation}\n",
    "  \\int \\Phi^*\\hat{H}_I\\Phi d\\mathbf{\\tau} \n",
    "  = \\frac{1}{2}\\sum_{\\mu=1}^N\\sum_{\\nu=1}^N \\langle \\mu\\nu|\\hat{v}|\\mu\\nu\\rangle_{\\mathrm{AS}}.\n",
    "\\label{H2Expectation2} \\tag{15}\n",
    "\\end{equation}\n",
    "$$"
   ]
  },
  {
   "cell_type": "markdown",
   "metadata": {},
   "source": [
    "## Definitions and notations\n",
    "\n",
    "Combining Eqs. ([H1Expectation1](#H1Expectation1)) and\n",
    "([H2Expectation2](#H2Expectation2)) we obtain the energy functional"
   ]
  },
  {
   "cell_type": "markdown",
   "metadata": {},
   "source": [
    "<!-- Equation labels as ordinary links -->\n",
    "<div id=\"FunctionalEPhi\"></div>\n",
    "\n",
    "$$\n",
    "\\begin{equation}\n",
    "  E[\\Phi] \n",
    "  = \\sum_{\\mu=1}^N \\langle \\mu | \\hat{h}_0 | \\mu \\rangle +\n",
    "  \\frac{1}{2}\\sum_{{\\mu}=1}^N\\sum_{{\\nu}=1}^N \\langle \\mu\\nu|\\hat{v}|\\mu\\nu\\rangle_{\\mathrm{AS}}.\n",
    "\\label{FunctionalEPhi} \\tag{16}\n",
    "\\end{equation}\n",
    "$$"
   ]
  },
  {
   "cell_type": "markdown",
   "metadata": {},
   "source": [
    "which we will use as our starting point for the Hartree-Fock calculations. \n",
    "\n",
    "\n",
    "\n",
    "\n",
    "\n",
    "## Our system, quantum dots\n",
    "\n",
    "We will deal only with systems where all possible single-particle states below a certain level are filled up. Such systems are called closed shell systems, a naming inspired from atomic and nuclear physics. These closed shell systems define what is frequently named **magic numbers**. Quantum dots exhibit also magic numbers, meaning that the addition or removal of one eletron requires more energy than systems where the lowest-lying shells are not filled. Using the harmonic oscillator in two dimensions as basis functions (with degenerate single-particle energies) the magic numbers are $N=2$, $N=6$, $N=12$, $N=20$ etc, where $N$ is the number of electrons. See the table below for more details. \n",
    "\n",
    "We write our Hamiltonian as a one-body part"
   ]
  },
  {
   "cell_type": "markdown",
   "metadata": {},
   "source": [
    "$$\n",
    "\\hat{H}_0=\\sum_{i=1}^{N_e}\\left(-{\\frac{1}{2}}\\nabla^2_{i}+\\frac{ \\omega^2}{2}r^2_{i} \\right),\n",
    "$$"
   ]
  },
  {
   "cell_type": "markdown",
   "metadata": {},
   "source": [
    "and an interacting part"
   ]
  },
  {
   "cell_type": "markdown",
   "metadata": {},
   "source": [
    "$$\n",
    "\\hat{V}=\\sum_{i < j}^{N_e}\\frac{1}{|\\boldsymbol{r}_i-\\boldsymbol{r}_j|}.\n",
    "$$"
   ]
  },
  {
   "cell_type": "markdown",
   "metadata": {},
   "source": [
    "The unperturbed part of the Hamiltonian yields the  single-particle energies"
   ]
  },
  {
   "cell_type": "markdown",
   "metadata": {},
   "source": [
    "$$\n",
    "\\epsilon_i = \\omega\\left(2n+|m| + 1\\right),\n",
    "$$"
   ]
  },
  {
   "cell_type": "markdown",
   "metadata": {},
   "source": [
    "where $n = 0,1,2,3,..$ and $m = 0, \\pm 1, \\pm 2,..$. The index $i$ runs from $0,1,2,\\dots$.\n",
    "\n",
    "\n",
    "\n",
    "\n",
    "## First tasks\n",
    "\n",
    "\n",
    "The first project deals with setting up a Hartree-Fock program that is flexible enough to handle different magic numbers. Hartree-Fock is the simplest possible many-body method. We will use the harmonic oscillator functions as basis functions and via the Hartree-Fock method modify the potential which confines the motion of the electrons by accounting for the Coulomb repulsion between electrons. The Hartree-Fock method leads to a set of coupled single-particle equations. If properly written, the system can easily be extended to three-dimensional electronic systems or other fermionic many-body systems. \n",
    "\n",
    "\n",
    "\n",
    "## First tasks, single-particle basis\n",
    "\n",
    "\n",
    "If only the harmonic oscillator part of the Hamiltonian,\n",
    "the so-called unperturbed part is given by"
   ]
  },
  {
   "cell_type": "markdown",
   "metadata": {},
   "source": [
    "$$\n",
    "\\hat{H}_0=\\sum_{i=1}^{N} \\left(  -\\frac{1}{2} \\nabla_i^2 + \\frac{1}{2} \\omega^2r_i^2  \\right).\n",
    "$$"
   ]
  },
  {
   "cell_type": "markdown",
   "metadata": {},
   "source": [
    "The wave function for one electron in an oscillator potential in two dimensions is"
   ]
  },
  {
   "cell_type": "markdown",
   "metadata": {},
   "source": [
    "$$\n",
    "\\phi_{n_x,n_y}(x,y) = A H_{n_x}(\\sqrt{\\omega}x)H_{n_y}(\\sqrt{\\omega}y)\\exp{(-\\omega(x^2+y^2)/2}.\n",
    "$$"
   ]
  },
  {
   "cell_type": "markdown",
   "metadata": {},
   "source": [
    "The functions $H_{n_x}(\\sqrt{\\omega}x)$ are so-called Hermite polynomials, discussed in the appendix while $A$ is a normalization constant. \n",
    "For the lowest-lying state we have $n_x=n_y=0$ and an energy $\\epsilon_{n_x,n_y}=\\omega(n_x+n_y+1) = \\omega$.\n",
    "\n",
    "\n",
    "\n",
    "## Project 1 a): getting started\n",
    "\n",
    "Make a program that sets up all the quantum numbers for the single-particle basis using a harmonic oscillator in two dimensions. The list should contain the quantum numbers $n_x$ and $n_y$, spin and its projection and the single particle energies in atomic units. Define a cutoff in the list according to the harmonic oscillator excitation energy. \n",
    "The table here lists the first four harmonic oscillator shells, with its pertinent degeneracies, and the total number of electrons which can be accomodated up to a given energy. These numbers are the so-called *magic numbers* for a two-dimensional quantum dot. The degeneracies take into account the two spin values an electron can take. Convince yourself about the correctness of this table and use it to check that your code is running correctly.\n",
    "\n",
    "<table border=\"1\">\n",
    "<thead>\n",
    "<tr><th align=\"center\">Shell number</th> <th align=\"center\">           $(n_x, n_y)$           </th> <th align=\"center\">    Energy    </th> <th align=\"center\">Degeneracy</th> <th align=\"center\">$N$</th> </tr>\n",
    "</thead>\n",
    "<tbody>\n",
    "<tr><td align=\"center\">   1               </td> <td align=\"center\">   $(0,0)$                               </td> <td align=\"center\">   $\\hbar\\omega$     </td> <td align=\"center\">   2             </td> <td align=\"center\">   2      </td> </tr>\n",
    "<tr><td align=\"center\">   2               </td> <td align=\"center\">   $(1,0)$, $(0,1)$                      </td> <td align=\"center\">   $2\\hbar\\omega$    </td> <td align=\"center\">   4             </td> <td align=\"center\">   6      </td> </tr>\n",
    "<tr><td align=\"center\">   3               </td> <td align=\"center\">   $(2,0)$, $(0,2)$, $(1,1)$             </td> <td align=\"center\">   $3\\hbar\\omega$    </td> <td align=\"center\">   6             </td> <td align=\"center\">   12     </td> </tr>\n",
    "<tr><td align=\"center\">   3               </td> <td align=\"center\">   $(3,0)$, $(0,3)$, $(2,1)$, $(1,2)$    </td> <td align=\"center\">   $4\\hbar\\omega$    </td> <td align=\"center\">   8             </td> <td align=\"center\">   20     </td> </tr>\n",
    "</tbody>\n",
    "</table>\n",
    "\n",
    "\n",
    "## Project 1 b): Setting up the single-particle basis\n",
    "\n",
    "\n",
    "With the single-particle basis from the previous step, you should now write a class which encodes the information about the harmonic oscillator single-particle basis. This should include the single-particle energies, spin and its projections as well as the harmonic oscillator  functions that depend on $n_x$ and $n_y$. This class can then used for both the Monte Carlo and the Hartree-Fock calculations. \n",
    "\n",
    "\n",
    "<!-- !split  -->\n",
    "## Project 1 c): Computing the two-body matrix elements\n",
    "\n",
    "In the Hartree-Fock project we need to be able to compute the two-electron matrix elements of the two-body Coulomb interaction. \n",
    "In order to set up the two-body matrix elements, we need to define the so-called direct and exchange matrix elements. This leads to what we call an anti-symmetrized matrix element.\n",
    "\n",
    "We introduce the following shorthands for the  integrals"
   ]
  },
  {
   "cell_type": "markdown",
   "metadata": {},
   "source": [
    "$$\n",
    "\\langle pq|\\hat{v}|rs\\rangle =  \\int \\psi_{p}^*(x_i)\\psi_{q}^*(x_j)V(r_{ij})\\psi_{r}(x_i)\\psi_{s}(x_j)\n",
    "    dx_idx_j,\n",
    "$$"
   ]
  },
  {
   "cell_type": "markdown",
   "metadata": {},
   "source": [
    "which defines the so-called direct matrix element \n",
    "and"
   ]
  },
  {
   "cell_type": "markdown",
   "metadata": {},
   "source": [
    "$$\n",
    "\\langle pq|\\hat{v}|sr\\rangle = \\int \\psi_{p}^*(x_i)\\psi_{q}^*(x_j)\n",
    "  V(r_{ij})\\psi_{s}(x_i)\\psi_{r}(x_j)\n",
    "  dx_idx_j,\n",
    "$$"
   ]
  },
  {
   "cell_type": "markdown",
   "metadata": {},
   "source": [
    "which defines the exchange element. The variables $pqrs$ define all the single-particle quantum numbers. In our case these are $n_x$, $n_y$ and spin and its projections.\n",
    "\n",
    "\n",
    "\n",
    "## Two-body matrix elements\n",
    "\n",
    "\n",
    "These matrix elements are defined in terms of two-body quantum numbers. Which quantum numbers are conserved?\n",
    "Which are  the possible values the total spin of a two-body state can have?\n",
    "\n",
    "The direct and exchange matrix elements can be  brought together if we define the anti-symmetrized matrix element"
   ]
  },
  {
   "cell_type": "markdown",
   "metadata": {},
   "source": [
    "$$\n",
    "\\langle pq|\\hat{v}|rs\\rangle_{\\mathrm{AS}}= \\langle pq|\\hat{v}|rs\\rangle-\\langle pq|\\hat{v}|sr\\rangle.\n",
    "$$"
   ]
  },
  {
   "cell_type": "markdown",
   "metadata": {},
   "source": [
    "It has the symmetry property"
   ]
  },
  {
   "cell_type": "markdown",
   "metadata": {},
   "source": [
    "$$\n",
    "\\langle pq|\\hat{v}|rs\\rangle_{\\mathrm{AS}}= -\\langle pq|\\hat{v}|sr\\rangle_{\\mathrm{AS}}=-\\langle qp|\\hat{v}|rs\\rangle_{\\mathrm{AS}},\n",
    "$$"
   ]
  },
  {
   "cell_type": "markdown",
   "metadata": {},
   "source": [
    "and"
   ]
  },
  {
   "cell_type": "markdown",
   "metadata": {},
   "source": [
    "$$\n",
    "\\langle pq|\\hat{v}|rs\\rangle_{\\mathrm{AS}}= \\langle qp|\\hat{v}|sr\\rangle_{\\mathrm{AS}}.\n",
    "$$"
   ]
  },
  {
   "cell_type": "markdown",
   "metadata": {},
   "source": [
    "Your task is to write a function which calculates the integral"
   ]
  },
  {
   "cell_type": "markdown",
   "metadata": {},
   "source": [
    "$$\n",
    "\\langle pq|\\hat{v}|rs\\rangle =  \\int \\psi_{p}^*(x_i)\\psi_{q}^*(x_j)V(r_{ij})\\psi_{r}(x_i)\\psi_{s}(x_j)\n",
    "    dx_idx_j,\n",
    "$$"
   ]
  },
  {
   "cell_type": "markdown",
   "metadata": {},
   "source": [
    "and then assemble the direct and exchange terms in order to construct the anti-symmetrized matrix elements to be used in the Hartree-Fock calculations. The integral is four-dimensional but can eventually be simplified. Your task is to figure out how. You should also consider whether it is appropriate to store the matrix elements for the Hartree-Fock calculations.  [Chapter five](https://github.com/CompPhysics/ComputationalPhysics2/blob/gh-pages/doc/Literature/lectures2015.pdf) of the lecture notes discusses Gaussian quadrature. You may find it convenient to use Hermite   polynomials in order to set up the integration points ad weights as well parallelizing the calculations of the integrals. \n",
    "\n",
    "\n",
    "\n",
    "## [Program example for numerical integration](https://github.com/CompPhysics/ComputationalPhysics2/tree/gh-pages/doc/Programs/ParallelizationOpenMP/Project1Integration.cpp)\n",
    "The following program shows the integration of a first-order Hermite polynomial for\n",
    "the four-dimensional case. The Hermite polynomials have the following norm"
   ]
  },
  {
   "cell_type": "markdown",
   "metadata": {},
   "source": [
    "7\n",
    "8\n",
    " \n",
    "<\n",
    "<\n",
    "<\n",
    "!\n",
    "!\n",
    "M\n",
    "A\n",
    "T\n",
    "H\n",
    "_\n",
    "B\n",
    "L\n",
    "O\n",
    "C\n",
    "K"
   ]
  },
  {
   "cell_type": "markdown",
   "metadata": {},
   "source": [
    "        // OpenMP code for numerical integration with Gauss-Hermite quadrature\n",
    "        #include <cstdlib>\n",
    "        #include <iostream>\n",
    "        #include <cmath>\n",
    "        #include <iomanip>\n",
    "        #include  <omp.h>\n",
    "        using namespace std; \n",
    "        \n",
    "        // The integrand in Cartesian coordinates\n",
    "        double Integrand(double, double,double, double);\n",
    "        // The Gauss Hermite integration function\n",
    "        double  GaussHermiteIntegration(int);\n",
    "        // Getting the Gaussian quadrature weights and integration points\n",
    "        void GaussHermiteQuadrature(double *, double *, int);\n",
    "        // Start main program\n",
    "        int main (int argc, char* argv[])\n",
    "        {\n",
    "          // read from terminal the number of integration points\n",
    "          int n = atoi(argv[1]);\n",
    "          int thread_num;\n",
    "        \n",
    "          double wtime;\n",
    "          cout << \"  Compute 4d-integral using Gaussian quadrature with Hermite quadrature.\" << endl;\n",
    "          omp_set_num_threads(4);\n",
    "          thread_num = omp_get_max_threads ();\n",
    "          cout << \"  The number of processors available = \" << omp_get_num_procs () << endl ;\n",
    "          cout << \"  The number of threads available    = \" << thread_num <<  endl;\n",
    "          cout << \"  The number of integration points                 = \" << n << endl;\n",
    "          wtime = omp_get_wtime ( );\n",
    "          double Integral = GaussHermiteIntegration(n);\n",
    "          wtime = omp_get_wtime ( ) - wtime;\n",
    "          cout << setiosflags(ios::showpoint | ios::uppercase);\n",
    "          cout << setprecision(15) << setw(20) << \"Time used  integration=\" << wtime  << endl;\n",
    "          cout << \"Final Integral    = \" << Integral << endl;\n",
    "          return 0;\n",
    "        } // end main function\n",
    "        \n",
    "        // The integrand, here a first order Hermite polynomial for x1 only\n",
    "        // The other variables are given by zeroth-order Hermite polynomials.\n",
    "        double Integrand(double x1, double y1, double x2, double y2)\n",
    "        {\n",
    "          return (2*x1)*(2*x1);\n",
    "        }\n",
    "        \n",
    "        //Plain Gauss-Hermite integration with cartesian variables, brute force\n",
    "        double  GaussHermiteIntegration(int n)\n",
    "        {\n",
    "          double *x = new double [n+1];\n",
    "          double *w = new double [n];\n",
    "          GaussHermiteQuadrature(x, w, n);\n",
    "          double Integral = 0.0;\n",
    "          int i, j, k, l;\n",
    "        # pragma omp parallel default(shared) private (i, j, k, l) reduction(+:Integral)\n",
    "          {\n",
    "        # pragma omp for\n",
    "            for (i = 0;  i < n; i++){\n",
    "              for (j = 0;  j < n; j++){\n",
    "        \tfor (k = 0;  k < n; k++){\n",
    "        \t  for (l = 0;  l < n; l++){\n",
    "        \t    Integral += w[i]*w[j]*w[k]*w[l]*Integrand(x[i],x[j],x[k],x[l]);\n",
    "        \t  }\n",
    "        \t}\n",
    "              }\n",
    "            }\n",
    "          } // end parallel region\n",
    "          delete [] x;\n",
    "          delete [] w;\n",
    "          return Integral;\n",
    "        }\n",
    "        \n",
    "        \n",
    "        // Setting Gaussian quadrature weights and integration points\n",
    "        void GaussHermiteQuadrature(double *x, double *w, int n)\n",
    "        {\n",
    "          int i,its,j,m;\n",
    "          double p1,p2,p3,pp,z,z1;\n",
    "          double Epsilon = 3.0e-14, PIM4 = 0.7511255444649425;\n",
    "          int MaxIterations = 10;\n",
    "          m=(n+1)/2;\n",
    "          for (i=1;i<=m;i++) {\n",
    "            if (i == 1) {\n",
    "              z=sqrt((double)(2*n+1))-1.85575*pow((double)(2*n+1),-0.16667);\n",
    "            } else if (i == 2) {\n",
    "              z -= 1.14*pow((double)n,0.426)/z;\n",
    "            } else if (i == 3) {\n",
    "              z=1.86*z-0.86*x[0];\n",
    "            } else if (i == 4) {\n",
    "              z=1.91*z-0.91*x[1];\n",
    "            } else {\n",
    "              z=2.0*z-x[i-3];\n",
    "            }\n",
    "            for (its=1;its<=MaxIterations;its++) {\n",
    "              p1=PIM4;\n",
    "              p2=0.0;\n",
    "              for (j=1;j<=n;j++) {\n",
    "        \tp3=p2;\n",
    "        \tp2=p1;\n",
    "        \tp1=z*sqrt(2.0/j)*p2-sqrt(((double)(j-1))/j)*p3;\n",
    "              }\n",
    "              pp=sqrt((double)2*n)*p2;\n",
    "              z1=z;\n",
    "              z=z1-p1/pp;\n",
    "              if (fabs(z-z1) <= Epsilon) break;\n",
    "            }\n",
    "            if (its > MaxIterations) cout << \"too many iterations in Hermite quadrature\" << endl;\n",
    "            x[i-1]=z;\n",
    "            x[n-i] = -z;\n",
    "            w[i-1]=2.0/(pp*pp);\n",
    "            w[n-i]=w[i-1];\n",
    "          }\n",
    "        } // Gaussian quadrature weights and integration points\n",
    "        \n",
    "        \n",
    "        \n",
    "        \n",
    "        \n"
   ]
  },
  {
   "cell_type": "markdown",
   "metadata": {},
   "source": [
    "## Gaussian Quadrature, main idea\n",
    "\n",
    "In general, an integration formula which is based on a Taylor series using $N$ points,\n",
    "will integrate exactly a polynomial $P$ of degree $N-1$. That is, the $N$ weights\n",
    "$\\omega_n$ can be chosen to satisfy $N$ linear equations, see chapter 3 of Ref.\\ [3]. \n",
    "A greater precision for a given amount of numerical work can  be achieved\n",
    "if we are willing to give up the requirement of equally spaced integration points.  \n",
    "In Gaussian quadrature (hereafter GQ), both the mesh points and the weights are to\n",
    "be determined. The points will not be equally spaced.\n",
    "\n",
    "The theory behind GQ is to obtain an arbitrary weight $\\omega$ through the use of\n",
    "so-called orthogonal polynomials. These polynomials are orthogonal in some\n",
    "interval say e.g., [-1,1]. Our points $x_i$ are chosen in some optimal sense subject\n",
    "only to the constraint that they should lie in this interval. Together with the weights\n",
    "we have then $2N$ ($N$ the number of points) parameters at our disposal.  \n",
    "\n",
    "\n",
    "\n",
    "## Gaussian Quadrature\n",
    "\n",
    "Even though the integrand is not smooth, we could render it smooth by extracting\n",
    "from it the weight function of an orthogonal polynomial, i.e.,\n",
    "we are rewriting"
   ]
  },
  {
   "cell_type": "markdown",
   "metadata": {},
   "source": [
    "<!-- Equation labels as ordinary links -->\n",
    "<div id=\"eq:generalint\"></div>\n",
    "\n",
    "$$\n",
    "\\begin{equation}\n",
    "   I= \\int_a^b f(x)dx =\\int_a^b W(x)g(x)dx \\approx \\sum_{i=1}^N\\omega_ig(x_i),  \n",
    "\\label{eq:generalint} \\tag{17}\n",
    "\\end{equation}\n",
    "$$"
   ]
  },
  {
   "cell_type": "markdown",
   "metadata": {},
   "source": [
    "where $g$ is smooth and $W$ is the weight function, which is to  be associated with a given \n",
    "orthogonal polynomial. Note that with a given weight function we end up evaluating the integrand\n",
    "for the function $g(x_i)$.\n",
    "\n",
    "\n",
    "## Gaussian Quadrature, weight function\n",
    "\n",
    "The weight function $W$ is non-negative in the integration interval \n",
    "$x\\in [a,b]$ such that\n",
    "for any $n \\ge 0$, the integral $\\int_a^b |x|^n W(x) dx$ is integrable. The naming\n",
    "weight function arises from the fact that it may be used to give more emphasis\n",
    "to one part of the interval than another. \n",
    "A quadrature formula"
   ]
  },
  {
   "cell_type": "markdown",
   "metadata": {},
   "source": [
    "<!-- Equation labels as ordinary links -->\n",
    "<div id=\"_auto2\"></div>\n",
    "\n",
    "$$\n",
    "\\begin{equation} \n",
    "   \\int_a^b W(x)f(x)dx \\approx \\sum_{i=1}^N\\omega_if(x_i), \n",
    "\\label{_auto2} \\tag{18}\n",
    "\\end{equation}\n",
    "$$"
   ]
  },
  {
   "cell_type": "markdown",
   "metadata": {},
   "source": [
    "with $N$ distinct quadrature points (mesh points) is a called a Gaussian quadrature \n",
    "formula if it integrates all polynomials $p\\in P_{2N-1}$ exactly, that is"
   ]
  },
  {
   "cell_type": "markdown",
   "metadata": {},
   "source": [
    "<!-- Equation labels as ordinary links -->\n",
    "<div id=\"_auto3\"></div>\n",
    "\n",
    "$$\n",
    "\\begin{equation} \n",
    "\\int_a^bW(x)p(x)dx =\\sum_{i=1}^N\\omega_ip(x_i), \n",
    "\\label{_auto3} \\tag{19}\n",
    "\\end{equation}\n",
    "$$"
   ]
  },
  {
   "cell_type": "markdown",
   "metadata": {},
   "source": [
    "It is assumed that $W(x)$ is continuous and positive and that the integral"
   ]
  },
  {
   "cell_type": "markdown",
   "metadata": {},
   "source": [
    "$$\n",
    "\\int_a^bW(x)dx\n",
    "$$"
   ]
  },
  {
   "cell_type": "markdown",
   "metadata": {},
   "source": [
    "exists. Note that the replacement of $f\\rightarrow Wg$ is normally a better approximation\n",
    "due to the fact that we may isolate possible singularities of $W$ and its \n",
    "derivatives at the endpoints of the interval. \n",
    "\n",
    "\n",
    "\n",
    "## Gaussian Quadrature weights and integration points\n",
    "\n",
    "The quadrature weights or just weights (not to be confused with the weight function) \n",
    "are positive and the sequence of Gaussian quadrature formulae is convergent \n",
    "if the sequence $Q_N$ of quadrature formulae"
   ]
  },
  {
   "cell_type": "markdown",
   "metadata": {},
   "source": [
    "$$\n",
    "Q_N(f)\\rightarrow Q(f)=\\int_a^bf(x)dx,\n",
    "$$"
   ]
  },
  {
   "cell_type": "markdown",
   "metadata": {},
   "source": [
    "in the limit $N\\rightarrow \\infty$. \n",
    "\n",
    "\n",
    "## Gaussian Quadrature\n",
    "\n",
    "Then  we say that the sequence"
   ]
  },
  {
   "cell_type": "markdown",
   "metadata": {},
   "source": [
    "$$\n",
    "Q_N(f) = \\sum_{i=1}^N\\omega_i^{(N)}f(x_i^{(N)}),\n",
    "$$"
   ]
  },
  {
   "cell_type": "markdown",
   "metadata": {},
   "source": [
    "is convergent for all polynomials $p$, that is"
   ]
  },
  {
   "cell_type": "markdown",
   "metadata": {},
   "source": [
    "$$\n",
    "Q_N(p) = Q(p)\n",
    "$$"
   ]
  },
  {
   "cell_type": "markdown",
   "metadata": {},
   "source": [
    "if there exits a constant $C$ such that"
   ]
  },
  {
   "cell_type": "markdown",
   "metadata": {},
   "source": [
    "$$\n",
    "\\sum_{i=1}^N|\\omega_i^{(N)}| \\le C,\n",
    "$$"
   ]
  },
  {
   "cell_type": "markdown",
   "metadata": {},
   "source": [
    "for all $N$ which are natural numbers.\n",
    "\n",
    "\n",
    "## Error in Gaussian Quadrature\n",
    "\n",
    "The error for the Gaussian quadrature formulae of order $N$ is given\n",
    "by"
   ]
  },
  {
   "cell_type": "markdown",
   "metadata": {},
   "source": [
    "$$\n",
    "\\int_a^bW(x)f(x)dx-\\sum_{k=1}^Nw_kf(x_k)=\\frac{f^{2N}(\\xi)}{(2N)!}\\int_a^bW(x)[q_{N}(x)]^2dx\n",
    "$$"
   ]
  },
  {
   "cell_type": "markdown",
   "metadata": {},
   "source": [
    "where $q_{N}$ is the chosen orthogonal polynomial and $\\xi$ is a number in the interval $[a,b]$.\n",
    "We have assumed that $f\\in C^{2N}[a,b]$, viz. the space of all real or complex  $2N$ times continuously\n",
    "differentiable functions. \n",
    "\n",
    "\n",
    "## Important polynomials in Gaussian Quadrature\n",
    "\n",
    "In science there are several important orthogonal polynomials which arise\n",
    "from the solution of differential equations. Well-known examples are the  \n",
    "Legendre, Hermite, Laguerre and Chebyshev polynomials. They have the following weight functions\n",
    "\n",
    "<table border=\"1\">\n",
    "<thead>\n",
    "<tr><th align=\"center\">    Weight function    </th> <th align=\"center\">         Interval         </th> <th align=\"center\">Polynomial</th> </tr>\n",
    "</thead>\n",
    "<tbody>\n",
    "<tr><td align=\"right\">   $W(x)=1$                   </td> <td align=\"right\">   $x\\in [-1,1]$                 </td> <td align=\"right\">   Legendre      </td> </tr>\n",
    "<tr><td align=\"right\">   $W(x)=e^{-x^2}$            </td> <td align=\"right\">   $-\\infty \\le x \\le \\infty$    </td> <td align=\"right\">   Hermite       </td> </tr>\n",
    "<tr><td align=\"right\">   $W(x)=x^{\\alpha}e^{-x}$    </td> <td align=\"right\">   $0 \\le x \\le \\infty$          </td> <td align=\"right\">   Laguerre      </td> </tr>\n",
    "<tr><td align=\"right\">   $W(x)=1/(\\sqrt{1-x^2})$    </td> <td align=\"right\">   $-1 \\le x \\le 1$              </td> <td align=\"right\">   Chebyshev     </td> </tr>\n",
    "</tbody>\n",
    "</table>\n",
    "\n",
    "The importance of the use of orthogonal polynomials in the evaluation\n",
    "of integrals can be summarized as follows.\n",
    "\n",
    "\n",
    "## Gaussian Quadrature, win-win situation\n",
    "\n",
    "\n",
    "Methods based on Taylor series using $N$ points will  integrate exactly a polynomial $P$ of degree $N-1$. If a function $f(x)$ can be approximated with a polynomial of degree $N-1$"
   ]
  },
  {
   "cell_type": "markdown",
   "metadata": {},
   "source": [
    "$$\n",
    "f(x)\\approx P_{N-1}(x),\n",
    "$$"
   ]
  },
  {
   "cell_type": "markdown",
   "metadata": {},
   "source": [
    "with $N$ mesh points we should be able to integrate exactly the polynomial $P_{N-1}$. \n",
    "\n",
    "Gaussian quadrature methods promise more than this. We can get a better          polynomial approximation with order greater than $N$  to $f(x)$ and still          get away with only $N$ mesh points. More precisely, we approximate"
   ]
  },
  {
   "cell_type": "markdown",
   "metadata": {},
   "source": [
    "$$\n",
    "f(x) \\approx P_{2N-1}(x),\n",
    "$$"
   ]
  },
  {
   "cell_type": "markdown",
   "metadata": {},
   "source": [
    "and with only $N$ mesh points these methods promise that"
   ]
  },
  {
   "cell_type": "markdown",
   "metadata": {},
   "source": [
    "$$\n",
    "\\int f(x)dx \\approx \\int P_{2N-1}(x)dx=\\sum_{i=0}^{N-1} P_{2N-1}(x_i)\\omega_i,\n",
    "$$"
   ]
  },
  {
   "cell_type": "markdown",
   "metadata": {},
   "source": [
    "## Gaussian Quadrature, determining mesh points and weights\n",
    "\n",
    "\n",
    "The reason why we can represent a function $f(x)$ with a polynomial of degree\n",
    "$2N-1$ is due to the fact that we have $2N$ equations, $N$ for the mesh points and $N$\n",
    "for the weights. \n",
    "\n",
    "*The mesh points are the zeros  of the chosen  orthogonal polynomial* of\n",
    "order $N$, and the weights are determined from the inverse of a matrix.\n",
    "An orthogonal polynomials of degree $N$ defined in an interval $[a,b]$\n",
    "has precisely $N$ distinct zeros on the open interval $(a,b)$. \n",
    "\n",
    "Before we detail how to obtain mesh points and weights with orthogonal \n",
    "polynomials, let us revisit some features of orthogonal polynomials\n",
    "by specializing to Legendre polynomials. In the text below, we reserve \n",
    "hereafter the labelling\n",
    "$L_N$ for a Legendre polynomial of order $N$, while $P_N$ is an arbitrary polynomial\n",
    "of order $N$. \n",
    "These polynomials form then the basis for the Gauss-Legendre method. \n",
    "\n",
    "\n",
    "## Orthogonal polynomials, Legendre\n",
    "\n",
    "\n",
    "The Legendre polynomials are the solutions of an important\n",
    "differential equation in Science, namely"
   ]
  },
  {
   "cell_type": "markdown",
   "metadata": {},
   "source": [
    "$$\n",
    "C(1-x^2)P-m_l^2P+(1-x^2)\\frac{d}{dx}\\left((1-x^2)\\frac{dP}{dx}\\right)=0.\n",
    "$$"
   ]
  },
  {
   "cell_type": "markdown",
   "metadata": {},
   "source": [
    "Here $C$ is a constant. For $m_l=0$ we obtain the Legendre polynomials\n",
    "as solutions, whereas $m_l \\ne 0$ yields the so-called associated Legendre\n",
    "polynomials. This differential equation arises in for example the solution\n",
    "of the angular dependence of Schroedinger's \n",
    "equation with spherically symmetric potentials such as\n",
    "the Coulomb potential. \n",
    "\n",
    "\n",
    "## Orthogonal polynomials, Legendre\n",
    "The corresponding polynomials $P$ are"
   ]
  },
  {
   "cell_type": "markdown",
   "metadata": {},
   "source": [
    "$$\n",
    "L_k(x)=\\frac{1}{2^kk!}\\frac{d^k}{dx^k}(x^2-1)^k \\hspace{1cm} k=0,1,2,\\dots,\n",
    "$$"
   ]
  },
  {
   "cell_type": "markdown",
   "metadata": {},
   "source": [
    "which, up to a factor, are the Legendre polynomials $L_k$. \n",
    "The latter fulfil the orthogonality relation"
   ]
  },
  {
   "cell_type": "markdown",
   "metadata": {},
   "source": [
    "<!-- Equation labels as ordinary links -->\n",
    "<div id=\"eq:ortholeg\"></div>\n",
    "\n",
    "$$\n",
    "\\begin{equation} \n",
    "  \\int_{-1}^1L_i(x)L_j(x)dx=\\frac{2}{2i+1}\\delta_{ij},\n",
    "\\label{eq:ortholeg} \\tag{20}\n",
    "\\end{equation}\n",
    "$$"
   ]
  },
  {
   "cell_type": "markdown",
   "metadata": {},
   "source": [
    "and the recursion relation"
   ]
  },
  {
   "cell_type": "markdown",
   "metadata": {},
   "source": [
    "<!-- Equation labels as ordinary links -->\n",
    "<div id=\"eq:legrecur\"></div>\n",
    "\n",
    "$$\n",
    "\\begin{equation} \n",
    "  (j+1)L_{j+1}(x)+jL_{j-1}(x)-(2j+1)xL_j(x)=0.\n",
    "\\label{eq:legrecur} \\tag{21}\n",
    "\\end{equation}\n",
    "$$"
   ]
  },
  {
   "cell_type": "markdown",
   "metadata": {},
   "source": [
    "## Orthogonal polynomials, Legendre\n",
    "It is common to choose the normalization condition"
   ]
  },
  {
   "cell_type": "markdown",
   "metadata": {},
   "source": [
    "$$\n",
    "L_N(1)=1.\n",
    "$$"
   ]
  },
  {
   "cell_type": "markdown",
   "metadata": {},
   "source": [
    "With these equations we can determine a Legendre polynomial of arbitrary order\n",
    "with input polynomials of order $N-1$ and $N-2$. \n",
    "\n",
    "As an example, consider the determination of $L_0$, $L_1$ and $L_2$. \n",
    "We have that"
   ]
  },
  {
   "cell_type": "markdown",
   "metadata": {},
   "source": [
    "$$\n",
    "L_0(x) = c,\n",
    "$$"
   ]
  },
  {
   "cell_type": "markdown",
   "metadata": {},
   "source": [
    "with $c$ a constant. Using the normalization equation $L_0(1)=1$\n",
    "we get that"
   ]
  },
  {
   "cell_type": "markdown",
   "metadata": {},
   "source": [
    "$$\n",
    "L_0(x) = 1.\n",
    "$$"
   ]
  },
  {
   "cell_type": "markdown",
   "metadata": {},
   "source": [
    "## Orthogonal polynomials, Legendre\n",
    "For $L_1(x)$ we have the general expression"
   ]
  },
  {
   "cell_type": "markdown",
   "metadata": {},
   "source": [
    "$$\n",
    "L_1(x) = a+bx,\n",
    "$$"
   ]
  },
  {
   "cell_type": "markdown",
   "metadata": {},
   "source": [
    "and using the orthogonality relation"
   ]
  },
  {
   "cell_type": "markdown",
   "metadata": {},
   "source": [
    "$$\n",
    "\\int_{-1}^1L_0(x)L_1(x)dx=0,\n",
    "$$"
   ]
  },
  {
   "cell_type": "markdown",
   "metadata": {},
   "source": [
    "we obtain $a=0$ and with the condition $L_1(1)=1$, we obtain $b=1$, yielding"
   ]
  },
  {
   "cell_type": "markdown",
   "metadata": {},
   "source": [
    "$$\n",
    "L_1(x) = x.\n",
    "$$"
   ]
  },
  {
   "cell_type": "markdown",
   "metadata": {},
   "source": [
    "## Orthogonal polynomials, Legendre\n",
    "We can proceed in a similar fashion in order to determine\n",
    "the coefficients of $L_2$"
   ]
  },
  {
   "cell_type": "markdown",
   "metadata": {},
   "source": [
    "$$\n",
    "L_2(x) = a+bx+cx^2,\n",
    "$$"
   ]
  },
  {
   "cell_type": "markdown",
   "metadata": {},
   "source": [
    "using the orthogonality relations"
   ]
  },
  {
   "cell_type": "markdown",
   "metadata": {},
   "source": [
    "$$\n",
    "\\int_{-1}^1L_0(x)L_2(x)dx=0,\n",
    "$$"
   ]
  },
  {
   "cell_type": "markdown",
   "metadata": {},
   "source": [
    "and"
   ]
  },
  {
   "cell_type": "markdown",
   "metadata": {},
   "source": [
    "$$\n",
    "\\int_{-1}^1L_1(x)L_2(x)dx=0,\n",
    "$$"
   ]
  },
  {
   "cell_type": "markdown",
   "metadata": {},
   "source": [
    "and the condition\n",
    "$L_2(1)=1$ we would get"
   ]
  },
  {
   "cell_type": "markdown",
   "metadata": {},
   "source": [
    "<!-- Equation labels as ordinary links -->\n",
    "<div id=\"eq:l2\"></div>\n",
    "\n",
    "$$\n",
    "\\begin{equation}\n",
    "   L_2(x) = \\frac{1}{2}\\left(3x^2-1\\right).\n",
    "\\label{eq:l2} \\tag{22}\n",
    "\\end{equation}\n",
    "$$"
   ]
  },
  {
   "cell_type": "markdown",
   "metadata": {},
   "source": [
    "## Orthogonal polynomials, Legendre\n",
    "We note that we have three equations to determine the three coefficients\n",
    "$a$, $b$ and $c$.\n",
    "\n",
    "Alternatively, we could have \n",
    "employed the recursion relation of Eq. ([eq:legrecur](#eq:legrecur)), resulting in"
   ]
  },
  {
   "cell_type": "markdown",
   "metadata": {},
   "source": [
    "$$\n",
    "2L_2(x)=3xL_1(x)-L_0,\n",
    "$$"
   ]
  },
  {
   "cell_type": "markdown",
   "metadata": {},
   "source": [
    "which leads to Eq. ([eq:l2](#eq:l2)).\n",
    "\n",
    "\n",
    "## Orthogonal polynomials, Legendre\n",
    "The orthogonality relation above is important in our discussion\n",
    "on how to obtain the weights and mesh points. Suppose we have an arbitrary\n",
    "polynomial $Q_{N-1}$ of order $N-1$ and a Legendre polynomial $L_N(x)$ of\n",
    "order $N$. We could represent $Q_{N-1}$ \n",
    "by the Legendre polynomials through"
   ]
  },
  {
   "cell_type": "markdown",
   "metadata": {},
   "source": [
    "<!-- Equation labels as ordinary links -->\n",
    "<div id=\"eq:legexpansion\"></div>\n",
    "\n",
    "$$\n",
    "\\begin{equation}\n",
    "   Q_{N-1}(x)=\\sum_{k=0}^{N-1}\\alpha_kL_{k}(x),\n",
    "\\label{eq:legexpansion} \\tag{23}\n",
    "\\end{equation}\n",
    "$$"
   ]
  },
  {
   "cell_type": "markdown",
   "metadata": {},
   "source": [
    "where $\\alpha_k$'s are constants.  \n",
    "\n",
    "Using the orthogonality relation of Eq. ([eq:ortholeg](#eq:ortholeg)) we see that"
   ]
  },
  {
   "cell_type": "markdown",
   "metadata": {},
   "source": [
    "<!-- Equation labels as ordinary links -->\n",
    "<div id=\"eq:ortholeg2\"></div>\n",
    "\n",
    "$$\n",
    "\\begin{equation}\n",
    "  \\int_{-1}^1L_N(x)Q_{N-1}(x)dx=\\sum_{k=0}^{N-1} \\int_{-1}^1L_N(x) \\alpha_kL_{k}(x)dx=0.\n",
    "\\label{eq:ortholeg2} \\tag{24}\n",
    "\\end{equation}\n",
    "$$"
   ]
  },
  {
   "cell_type": "markdown",
   "metadata": {},
   "source": [
    "We will use this result in our construction of mesh points and weights \n",
    "in the next subsection.\n",
    "\n",
    "## Orthogonal polynomials, Legendre\n",
    "In summary, the first few Legendre polynomials are"
   ]
  },
  {
   "cell_type": "markdown",
   "metadata": {},
   "source": [
    "1\n",
    "0\n",
    "8\n",
    " \n",
    "<\n",
    "<\n",
    "<\n",
    "!\n",
    "!\n",
    "M\n",
    "A\n",
    "T\n",
    "H\n",
    "_\n",
    "B\n",
    "L\n",
    "O\n",
    "C\n",
    "K"
   ]
  },
  {
   "cell_type": "markdown",
   "metadata": {},
   "source": [
    "1\n",
    "0\n",
    "9\n",
    " \n",
    "<\n",
    "<\n",
    "<\n",
    "!\n",
    "!\n",
    "M\n",
    "A\n",
    "T\n",
    "H\n",
    "_\n",
    "B\n",
    "L\n",
    "O\n",
    "C\n",
    "K"
   ]
  },
  {
   "cell_type": "markdown",
   "metadata": {},
   "source": [
    "1\n",
    "1\n",
    "0\n",
    " \n",
    "<\n",
    "<\n",
    "<\n",
    "!\n",
    "!\n",
    "M\n",
    "A\n",
    "T\n",
    "H\n",
    "_\n",
    "B\n",
    "L\n",
    "O\n",
    "C\n",
    "K"
   ]
  },
  {
   "cell_type": "markdown",
   "metadata": {},
   "source": [
    "$$\n",
    "L_3(x) = (5x^3-3x)/2,\n",
    "$$"
   ]
  },
  {
   "cell_type": "markdown",
   "metadata": {},
   "source": [
    "and"
   ]
  },
  {
   "cell_type": "markdown",
   "metadata": {},
   "source": [
    "$$\n",
    "L_4(x) = (35x^4-30x^2+3)/8.\n",
    "$$"
   ]
  },
  {
   "cell_type": "markdown",
   "metadata": {},
   "source": [
    "## Orthogonal polynomials, simple code for Legendre polynomials\n",
    "The following simple function implements the above recursion relation\n",
    "of Eq. ([eq:legrecur](#eq:legrecur)).\n",
    "for computing Legendre polynomials of order $N$."
   ]
  },
  {
   "cell_type": "markdown",
   "metadata": {},
   "source": [
    "        //  This function computes the Legendre polynomial of degree N\n",
    "        \n",
    "        double Legendre( int n, double x) \n",
    "        {\n",
    "               double r, s, t;\n",
    "               int m;\n",
    "               r = 0; s = 1.;\n",
    "               //  Use recursion relation to generate p1 and p2\n",
    "               for (m=0; m < n; m++ )  \n",
    "               {\n",
    "                  t = r; r = s; \n",
    "                  s = (2*m+1)*x*r - m*t;\n",
    "                  s /= (m+1);\n",
    "        \t} // end of do loop \n",
    "                return s;\n",
    "        }   // end of function Legendre\n"
   ]
  },
  {
   "cell_type": "markdown",
   "metadata": {},
   "source": [
    "The variable $s$ represents $L_{j+1}(x)$, while $r$ holds\n",
    "$L_j(x)$ and $t$ the value $L_{j-1}(x)$.\n",
    "\n",
    "\n",
    "\n",
    "## Other orthogonal polynomials, Laguerre polynomials\n",
    "\n",
    "If we are able to rewrite our integral of Eq.  ([eq:generalint](#eq:generalint)) with a\n",
    "weight function $W(x)=x^{\\alpha}e^{-x}$ with integration limits \n",
    "$[0,\\infty)$, we could then use the Laguerre polynomials.\n",
    "The polynomials form then the basis for the Gauss-Laguerre method which can be applied\n",
    "to integrals of the form"
   ]
  },
  {
   "cell_type": "markdown",
   "metadata": {},
   "source": [
    "$$\n",
    "I=\\int_0^{\\infty}f(x)dx =\\int_0^{\\infty}x^{\\alpha}e^{-x}g(x)dx.\n",
    "$$"
   ]
  },
  {
   "cell_type": "markdown",
   "metadata": {},
   "source": [
    "## Other orthogonal polynomials, Laguerre polynomials\n",
    "These polynomials arise from the solution of the differential\n",
    "equation"
   ]
  },
  {
   "cell_type": "markdown",
   "metadata": {},
   "source": [
    "$$\n",
    "\\left(\\frac{d^2 }{dx^2}-\\frac{d }{dx}+\\frac{\\lambda}{x}-\\frac{l(l+1)}{x^2}\\right){\\cal L}(x)=0,\n",
    "$$"
   ]
  },
  {
   "cell_type": "markdown",
   "metadata": {},
   "source": [
    "where $l$ is an integer $l\\ge 0$ and $\\lambda$ a constant. This equation\n",
    "arises for example from the solution of the radial Schr\\\"odinger equation with \n",
    "a centrally symmetric potential such as the Coulomb potential.\n",
    "\n",
    "\n",
    "## Other orthogonal polynomials, Laguerre polynomials\n",
    "The first few polynomials are"
   ]
  },
  {
   "cell_type": "markdown",
   "metadata": {},
   "source": [
    "1\n",
    "1\n",
    "5\n",
    " \n",
    "<\n",
    "<\n",
    "<\n",
    "!\n",
    "!\n",
    "M\n",
    "A\n",
    "T\n",
    "H\n",
    "_\n",
    "B\n",
    "L\n",
    "O\n",
    "C\n",
    "K"
   ]
  },
  {
   "cell_type": "markdown",
   "metadata": {},
   "source": [
    "1\n",
    "1\n",
    "6\n",
    " \n",
    "<\n",
    "<\n",
    "<\n",
    "!\n",
    "!\n",
    "M\n",
    "A\n",
    "T\n",
    "H\n",
    "_\n",
    "B\n",
    "L\n",
    "O\n",
    "C\n",
    "K"
   ]
  },
  {
   "cell_type": "markdown",
   "metadata": {},
   "source": [
    "1\n",
    "1\n",
    "7\n",
    " \n",
    "<\n",
    "<\n",
    "<\n",
    "!\n",
    "!\n",
    "M\n",
    "A\n",
    "T\n",
    "H\n",
    "_\n",
    "B\n",
    "L\n",
    "O\n",
    "C\n",
    "K"
   ]
  },
  {
   "cell_type": "markdown",
   "metadata": {},
   "source": [
    "$$\n",
    "{\\cal L}_3(x)=6-18x+9x^2-x^3,\n",
    "$$"
   ]
  },
  {
   "cell_type": "markdown",
   "metadata": {},
   "source": [
    "and"
   ]
  },
  {
   "cell_type": "markdown",
   "metadata": {},
   "source": [
    "$$\n",
    "{\\cal L}_4(x)=x^4-16x^3+72x^2-96x+24.\n",
    "$$"
   ]
  },
  {
   "cell_type": "markdown",
   "metadata": {},
   "source": [
    "## Other orthogonal polynomials, Laguerre polynomials\n",
    "They fulfil the orthogonality relation"
   ]
  },
  {
   "cell_type": "markdown",
   "metadata": {},
   "source": [
    "$$\n",
    "\\int_{0}^{\\infty}e^{-x}{\\cal L}_n(x)^2dx=1,\n",
    "$$"
   ]
  },
  {
   "cell_type": "markdown",
   "metadata": {},
   "source": [
    "and the recursion relation"
   ]
  },
  {
   "cell_type": "markdown",
   "metadata": {},
   "source": [
    "$$\n",
    "(n+1){\\cal L}_{n+1}(x)=(2n+1-x){\\cal L}_{n}(x)-n{\\cal L}_{n-1}(x).\n",
    "$$"
   ]
  },
  {
   "cell_type": "markdown",
   "metadata": {},
   "source": [
    "## Other orthogonal polynomials, Hermite polynomials\n",
    "\n",
    "In a similar way, for an integral which goes like"
   ]
  },
  {
   "cell_type": "markdown",
   "metadata": {},
   "source": [
    "$$\n",
    "I=\\int_{-\\infty}^{\\infty}f(x)dx =\\int_{-\\infty}^{\\infty}e^{-x^2}g(x)dx.\n",
    "$$"
   ]
  },
  {
   "cell_type": "markdown",
   "metadata": {},
   "source": [
    "we could use the Hermite polynomials in order to extract weights and mesh points.\n",
    "The Hermite polynomials are the solutions of the following differential\n",
    "equation"
   ]
  },
  {
   "cell_type": "markdown",
   "metadata": {},
   "source": [
    "<!-- Equation labels as ordinary links -->\n",
    "<div id=\"eq:hermite\"></div>\n",
    "\n",
    "$$\n",
    "\\begin{equation}\n",
    "   \\frac{d^2H(x)}{dx^2}-2x\\frac{dH(x)}{dx}+\n",
    "       (\\lambda-1)H(x)=0.\n",
    "\\label{eq:hermite} \\tag{25}\n",
    "\\end{equation}\n",
    "$$"
   ]
  },
  {
   "cell_type": "markdown",
   "metadata": {},
   "source": [
    "## Other orthogonal polynomials, Hermite polynomials\n",
    "A typical example is again the solution of Schrodinger's\n",
    "equation, but this time with a harmonic oscillator potential.\n",
    "The first few polynomials are"
   ]
  },
  {
   "cell_type": "markdown",
   "metadata": {},
   "source": [
    "1\n",
    "2\n",
    "4\n",
    " \n",
    "<\n",
    "<\n",
    "<\n",
    "!\n",
    "!\n",
    "M\n",
    "A\n",
    "T\n",
    "H\n",
    "_\n",
    "B\n",
    "L\n",
    "O\n",
    "C\n",
    "K"
   ]
  },
  {
   "cell_type": "markdown",
   "metadata": {},
   "source": [
    "1\n",
    "2\n",
    "5\n",
    " \n",
    "<\n",
    "<\n",
    "<\n",
    "!\n",
    "!\n",
    "M\n",
    "A\n",
    "T\n",
    "H\n",
    "_\n",
    "B\n",
    "L\n",
    "O\n",
    "C\n",
    "K"
   ]
  },
  {
   "cell_type": "markdown",
   "metadata": {},
   "source": [
    "1\n",
    "2\n",
    "6\n",
    " \n",
    "<\n",
    "<\n",
    "<\n",
    "!\n",
    "!\n",
    "M\n",
    "A\n",
    "T\n",
    "H\n",
    "_\n",
    "B\n",
    "L\n",
    "O\n",
    "C\n",
    "K"
   ]
  },
  {
   "cell_type": "markdown",
   "metadata": {},
   "source": [
    "$$\n",
    "H_3(x)=8x^3-12,\n",
    "$$"
   ]
  },
  {
   "cell_type": "markdown",
   "metadata": {},
   "source": [
    "and"
   ]
  },
  {
   "cell_type": "markdown",
   "metadata": {},
   "source": [
    "$$\n",
    "H_4(x)=16x^4-48x^2+12.\n",
    "$$"
   ]
  },
  {
   "cell_type": "markdown",
   "metadata": {},
   "source": [
    "They fulfil the orthogonality relation"
   ]
  },
  {
   "cell_type": "markdown",
   "metadata": {},
   "source": [
    "$$\n",
    "\\int_{-\\infty}^{\\infty}e^{-x^2}H_n(x)^2dx=2^nn!\\sqrt{\\pi},\n",
    "$$"
   ]
  },
  {
   "cell_type": "markdown",
   "metadata": {},
   "source": [
    "and the recursion relation"
   ]
  },
  {
   "cell_type": "markdown",
   "metadata": {},
   "source": [
    "$$\n",
    "H_{n+1}(x)=2xH_{n}(x)-2nH_{n-1}(x).\n",
    "$$"
   ]
  },
  {
   "cell_type": "markdown",
   "metadata": {},
   "source": [
    "## Integration points and weights with orthogonal polynomials\n",
    "\n",
    "To understand how the weights and the mesh points are generated, we define first\n",
    "a polynomial of degree $2N-1$ (since we have $2N$ variables at hand, the mesh points\n",
    "and weights for $N$ points). This polynomial can be represented through polynomial\n",
    "division by"
   ]
  },
  {
   "cell_type": "markdown",
   "metadata": {},
   "source": [
    "$$\n",
    "P_{2N-1}(x)=L_N(x)P_{N-1}(x)+Q_{N-1}(x),\n",
    "$$"
   ]
  },
  {
   "cell_type": "markdown",
   "metadata": {},
   "source": [
    "where $P_{N-1}(x)$ and $Q_{N-1}(x)$ are some polynomials of degree $N-1$ or less.\n",
    "The function $L_N(x)$ is a Legendre polynomial of order $N$. \n",
    "\n",
    "Recall that we wanted to approximate  an arbitrary function $f(x)$ with a\n",
    "polynomial $P_{2N-1}$ in order to evaluate"
   ]
  },
  {
   "cell_type": "markdown",
   "metadata": {},
   "source": [
    "$$\n",
    "\\int_{-1}^1f(x)dx\\approx \\int_{-1}^1P_{2N-1}(x)dx.\n",
    "$$"
   ]
  },
  {
   "cell_type": "markdown",
   "metadata": {},
   "source": [
    "## Integration points and weights with orthogonal polynomials\n",
    "We can use Eq. ([eq:ortholeg2](#eq:ortholeg2))\n",
    "to rewrite the above integral as"
   ]
  },
  {
   "cell_type": "markdown",
   "metadata": {},
   "source": [
    "$$\n",
    "\\int_{-1}^1P_{2N-1}(x)dx=\\int_{-1}^1(L_N(x)P_{N-1}(x)+Q_{N-1}(x))dx=\\int_{-1}^1Q_{N-1}(x)dx,\n",
    "$$"
   ]
  },
  {
   "cell_type": "markdown",
   "metadata": {},
   "source": [
    "due to the orthogonality properties of the Legendre polynomials. We see that it suffices\n",
    "to evaluate the integral over $\\int_{-1}^1Q_{N-1}(x)dx$ in order to evaluate \n",
    "$\\int_{-1}^1P_{2N-1}(x)dx$. In addition, at the points $x_k$ where $L_N$ is zero, we have"
   ]
  },
  {
   "cell_type": "markdown",
   "metadata": {},
   "source": [
    "$$\n",
    "P_{2N-1}(x_k)=Q_{N-1}(x_k)\\hspace{1cm} k=0,1,\\dots, N-1,\n",
    "$$"
   ]
  },
  {
   "cell_type": "markdown",
   "metadata": {},
   "source": [
    "and we see that through these $N$ points we can fully define $Q_{N-1}(x)$  and thereby the \n",
    "integral. Note that we have chosen to let the numbering of the points run from $0$ to $N-1$.\n",
    "The reason for this choice is that we wish to have the same numbering as the order of a \n",
    "polynomial of degree $N-1$.  This numbering will be useful below when  we introduce the matrix\n",
    "elements  which define the integration weights $w_i$.\n",
    "\n",
    "\n",
    "\n",
    "## Integration points and weights with orthogonal polynomials\n",
    "We develope then $Q_{N-1}(x)$ in terms of Legendre polynomials,\n",
    "as done in Eq. ([eq:legexpansion](#eq:legexpansion)),"
   ]
  },
  {
   "cell_type": "markdown",
   "metadata": {},
   "source": [
    "<!-- Equation labels as ordinary links -->\n",
    "<div id=\"eq:lsum1\"></div>\n",
    "\n",
    "$$\n",
    "\\begin{equation} \n",
    "  Q_{N-1}(x)=\\sum_{i=0}^{N-1}\\alpha_iL_i(x).\n",
    "\\label{eq:lsum1} \\tag{26}\n",
    "\\end{equation}\n",
    "$$"
   ]
  },
  {
   "cell_type": "markdown",
   "metadata": {},
   "source": [
    "Using the orthogonality property of the Legendre polynomials we have"
   ]
  },
  {
   "cell_type": "markdown",
   "metadata": {},
   "source": [
    "$$\n",
    "\\int_{-1}^1Q_{N-1}(x)dx=\\sum_{i=0}^{N-1}\\alpha_i\\int_{-1}^1L_0(x)L_i(x)dx=2\\alpha_0,\n",
    "$$"
   ]
  },
  {
   "cell_type": "markdown",
   "metadata": {},
   "source": [
    "where we have just inserted $L_0(x)=1$!\n",
    "\n",
    "## Integration points and weights with orthogonal polynomials\n",
    "Instead of an integration problem we need now to define the coefficient $\\alpha_0$.\n",
    "Since we know the values of $Q_{N-1}$ at the zeros of $L_N$, we may rewrite  \n",
    "Eq.  ([eq:lsum1](#eq:lsum1)) as"
   ]
  },
  {
   "cell_type": "markdown",
   "metadata": {},
   "source": [
    "<!-- Equation labels as ordinary links -->\n",
    "<div id=\"eq:lsum2\"></div>\n",
    "\n",
    "$$\n",
    "\\begin{equation} \n",
    "  Q_{N-1}(x_k)=\\sum_{i=0}^{N-1}\\alpha_iL_i(x_k)=\\sum_{i=0}^{N-1}\\alpha_iL_{ik} \\hspace{1cm} k=0,1,\\dots, N-1.\n",
    "\\label{eq:lsum2} \\tag{27}\n",
    "\\end{equation}\n",
    "$$"
   ]
  },
  {
   "cell_type": "markdown",
   "metadata": {},
   "source": [
    "Since the Legendre polynomials are linearly independent of each other, none \n",
    "of the columns in the matrix $L_{ik}$ are linear combinations of the others. \n",
    "\n",
    "\n",
    "## Integration points and weights with orthogonal polynomials\n",
    "This means that the matrix $L_{ik}$ has an inverse with the properties"
   ]
  },
  {
   "cell_type": "markdown",
   "metadata": {},
   "source": [
    "$$\n",
    "\\hat{L}^{-1}\\hat{L} = \\hat{I}.\n",
    "$$"
   ]
  },
  {
   "cell_type": "markdown",
   "metadata": {},
   "source": [
    "Multiplying both sides of Eq. ([eq:lsum2](#eq:lsum2)) with $\\sum_{j=0}^{N-1}L_{ji}^{-1}$ results in"
   ]
  },
  {
   "cell_type": "markdown",
   "metadata": {},
   "source": [
    "<!-- Equation labels as ordinary links -->\n",
    "<div id=\"eq:lsum3\"></div>\n",
    "\n",
    "$$\n",
    "\\begin{equation}\n",
    "  \\sum_{i=0}^{N-1}(L^{-1})_{ki}Q_{N-1}(x_i)=\\alpha_k.\n",
    "\\label{eq:lsum3} \\tag{28}\n",
    "\\end{equation}\n",
    "$$"
   ]
  },
  {
   "cell_type": "markdown",
   "metadata": {},
   "source": [
    "## Integration points and weights with orthogonal polynomials\n",
    "We can derive this result in an alternative way by defining the vectors"
   ]
  },
  {
   "cell_type": "markdown",
   "metadata": {},
   "source": [
    "$$\n",
    "\\hat{x}_k=\\left(\\begin{array} {c} x_0\\\\\n",
    "                                x_1\\\\\n",
    "                                .\\\\\n",
    "                                .\\\\\n",
    "                                x_{N-1}\\end{array}\\right) \\hspace{0.5cm}\n",
    "\\hat{\\alpha}=\\left(\\begin{array} {c} \\alpha_0\\\\\n",
    "                                \\alpha_1\\\\\n",
    "                                .\\\\\n",
    "                                .\\\\\n",
    "                                \\alpha_{N-1}\\end{array}\\right),\n",
    "$$"
   ]
  },
  {
   "cell_type": "markdown",
   "metadata": {},
   "source": [
    "and the matrix"
   ]
  },
  {
   "cell_type": "markdown",
   "metadata": {},
   "source": [
    "$$\n",
    "\\hat{L}=\\left(\\begin{array} {cccc} L_0(x_0)  & L_1(x_0) &\\dots &L_{N-1}(x_0)\\\\\n",
    "                                   L_0(x_1)  & L_1(x_1) &\\dots &L_{N-1}(x_1)\\\\\n",
    "                                   \\dots  & \\dots &\\dots &\\dots\\\\\n",
    "L_0(x_{N-1})  & L_1(x_{N-1}) &\\dots &L_{N-1}(x_{N-1})\n",
    "\\end{array}\\right).\n",
    "$$"
   ]
  },
  {
   "cell_type": "markdown",
   "metadata": {},
   "source": [
    "## Integration points and weights with orthogonal polynomials\n",
    "We have then"
   ]
  },
  {
   "cell_type": "markdown",
   "metadata": {},
   "source": [
    "$$\n",
    "Q_{N-1}(\\hat{x}_k) = \\hat{L}\\hat{\\alpha},\n",
    "$$"
   ]
  },
  {
   "cell_type": "markdown",
   "metadata": {},
   "source": [
    "yielding (if $\\hat{L}$ has an inverse)"
   ]
  },
  {
   "cell_type": "markdown",
   "metadata": {},
   "source": [
    "$$\n",
    "\\hat{L}^{-1}Q_{N-1}(\\hat{x}_k) = \\hat{\\alpha},\n",
    "$$"
   ]
  },
  {
   "cell_type": "markdown",
   "metadata": {},
   "source": [
    "which is Eq. ([eq:lsum3](#eq:lsum3)).\n",
    "\n",
    "## Integration points and weights with orthogonal polynomials\n",
    "Using the above results and the fact that"
   ]
  },
  {
   "cell_type": "markdown",
   "metadata": {},
   "source": [
    "$$\n",
    "\\int_{-1}^1P_{2N-1}(x)dx=\\int_{-1}^1Q_{N-1}(x)dx,\n",
    "$$"
   ]
  },
  {
   "cell_type": "markdown",
   "metadata": {},
   "source": [
    "we get"
   ]
  },
  {
   "cell_type": "markdown",
   "metadata": {},
   "source": [
    "$$\n",
    "\\int_{-1}^1P_{2N-1}(x)dx=\\int_{-1}^1Q_{N-1}(x)dx=2\\alpha_0=\n",
    "   2\\sum_{i=0}^{N-1}(L^{-1})_{0i}P_{2N-1}(x_i).\n",
    "$$"
   ]
  },
  {
   "cell_type": "markdown",
   "metadata": {},
   "source": [
    "## Integration points and weights with orthogonal polynomials\n",
    "If we identify the weights with $2(L^{-1})_{0i}$, where the points $x_i$ are\n",
    "the zeros of $L_N$, we have an integration formula of the type"
   ]
  },
  {
   "cell_type": "markdown",
   "metadata": {},
   "source": [
    "$$\n",
    "\\int_{-1}^1P_{2N-1}(x)dx=\\sum_{i=0}^{N-1}\\omega_iP_{2N-1}(x_i)\n",
    "$$"
   ]
  },
  {
   "cell_type": "markdown",
   "metadata": {},
   "source": [
    "and if our function $f(x)$  can be approximated by a polynomial $P$ of degree\n",
    "$2N-1$, we have finally that"
   ]
  },
  {
   "cell_type": "markdown",
   "metadata": {},
   "source": [
    "$$\n",
    "\\int_{-1}^1f(x)dx\\approx \\int_{-1}^1P_{2N-1}(x)dx=\\sum_{i=0}^{N-1}\\omega_iP_{2N-1}(x_i)  .\n",
    "$$"
   ]
  },
  {
   "cell_type": "markdown",
   "metadata": {},
   "source": [
    "In summary, the mesh points $x_i$ are defined by the zeros of an orthogonal polynomial of degree $N$, that is \n",
    "$L_N$, while the weights are\n",
    "given by $2(L^{-1})_{0i}$. \n",
    "\n",
    "\n",
    "## Application to the case $N=2$\n",
    "\n",
    "Let us apply the above formal results to the case $N=2$. \n",
    "This means that we can approximate a function $f(x)$ with a\n",
    "polynomial $P_3(x)$ of order $2N-1=3$. \n",
    "\n",
    "The mesh points are the zeros of $L_2(x)=1/2(3x^2-1)$. \n",
    "These points are $x_0=-1/\\sqrt{3}$ and $x_1=1/\\sqrt{3}$.\n",
    "\n",
    "Specializing Eq. ([eq:lsum2](#eq:lsum2))"
   ]
  },
  {
   "cell_type": "markdown",
   "metadata": {},
   "source": [
    "$$\n",
    "Q_{N-1}(x_k)=\\sum_{i=0}^{N-1}\\alpha_iL_i(x_k) \\hspace{1cm} k=0,1,\\dots, N-1.\n",
    "$$"
   ]
  },
  {
   "cell_type": "markdown",
   "metadata": {},
   "source": [
    "to $N=2$ yields"
   ]
  },
  {
   "cell_type": "markdown",
   "metadata": {},
   "source": [
    "$$\n",
    "Q_1(x_0)=\\alpha_0-\\alpha_1\\frac{1}{\\sqrt{3}},\n",
    "$$"
   ]
  },
  {
   "cell_type": "markdown",
   "metadata": {},
   "source": [
    "and"
   ]
  },
  {
   "cell_type": "markdown",
   "metadata": {},
   "source": [
    "$$\n",
    "Q_1(x_1)=\\alpha_0+\\alpha_1\\frac{1}{\\sqrt{3}},\n",
    "$$"
   ]
  },
  {
   "cell_type": "markdown",
   "metadata": {},
   "source": [
    "since $L_0(x=\\pm 1/\\sqrt{3})=1$ and $L_1(x=\\pm 1/\\sqrt{3})=\\pm 1/\\sqrt{3}$. \n",
    "\n",
    "\n",
    "## Application to the case $N=2$\n",
    "The matrix $L_{ik}$ defined in Eq. ([eq:lsum2](#eq:lsum2)) is then"
   ]
  },
  {
   "cell_type": "markdown",
   "metadata": {},
   "source": [
    "$$\n",
    "\\hat{L}=\\left(\\begin{array} {cc} 1  & -\\frac{1}{\\sqrt{3}}\\\\\n",
    "                                   1  & \\frac{1}{\\sqrt{3}}\\end{array}\\right),\n",
    "$$"
   ]
  },
  {
   "cell_type": "markdown",
   "metadata": {},
   "source": [
    "with an inverse given by"
   ]
  },
  {
   "cell_type": "markdown",
   "metadata": {},
   "source": [
    "$$\n",
    "\\hat{L}^{-1}=\\frac{\\sqrt{3}}{2}\\left(\\begin{array} {cc} \\frac{1}{\\sqrt{3}}  & \\frac{1}{\\sqrt{3}}\\\\\n",
    "                                   -1  & 1\\end{array}\\right).\n",
    "$$"
   ]
  },
  {
   "cell_type": "markdown",
   "metadata": {},
   "source": [
    "The weights are given by the matrix elements $2(L_{0k})^{-1}$. We have thence\n",
    "$\\omega_0=1$ and $\\omega_1=1$. \n",
    "\n",
    "## Application to the case $N=2$\n",
    "Obviously, there is no problem in changing the numbering of the matrix elements $i,k=0,1,2,\\dots,N-1$ to\n",
    "$i,k=1,2,\\dots,N$.  We have chosen to start from zero, since we deal with polynomials of degree $N-1$.\n",
    "\n",
    "Summarizing, for Legendre polynomials with $N=2$ we have\n",
    "weights"
   ]
  },
  {
   "cell_type": "markdown",
   "metadata": {},
   "source": [
    "$$\n",
    "\\omega : \\left\\{1,1\\right\\},\n",
    "$$"
   ]
  },
  {
   "cell_type": "markdown",
   "metadata": {},
   "source": [
    "and mesh points"
   ]
  },
  {
   "cell_type": "markdown",
   "metadata": {},
   "source": [
    "$$\n",
    "x : \\left\\{-\\frac{1}{\\sqrt{3}},\\frac{1}{\\sqrt{3}}\\right\\}.\n",
    "$$"
   ]
  },
  {
   "cell_type": "markdown",
   "metadata": {},
   "source": [
    "## Application to the case $N=2$\n",
    "If we wish to integrate"
   ]
  },
  {
   "cell_type": "markdown",
   "metadata": {},
   "source": [
    "$$\n",
    "\\int_{-1}^1f(x)dx,\n",
    "$$"
   ]
  },
  {
   "cell_type": "markdown",
   "metadata": {},
   "source": [
    "with $f(x)=x^2$, we approximate"
   ]
  },
  {
   "cell_type": "markdown",
   "metadata": {},
   "source": [
    "$$\n",
    "I=\\int_{-1}^1x^2dx \\approx \\sum_{i=0}^{N-1}\\omega_ix_i^2.\n",
    "$$"
   ]
  },
  {
   "cell_type": "markdown",
   "metadata": {},
   "source": [
    "## Application to the case $N=2$\n",
    "The exact answer is $2/3$. Using $N=2$ with the above two weights \n",
    "and mesh points we get"
   ]
  },
  {
   "cell_type": "markdown",
   "metadata": {},
   "source": [
    "$$\n",
    "I=\\int_{-1}^1x^2dx =\\sum_{i=0}^{1}\\omega_ix_i^2=\\frac{1}{3}+\\frac{1}{3}=\\frac{2}{3},\n",
    "$$"
   ]
  },
  {
   "cell_type": "markdown",
   "metadata": {},
   "source": [
    "the exact answer!\n",
    "\n",
    "If we were to emply the trapezoidal rule we would get"
   ]
  },
  {
   "cell_type": "markdown",
   "metadata": {},
   "source": [
    "$$\n",
    "I=\\int_{-1}^1x^2dx =\\frac{b-a}{2}\\left((a)^2+(b)^2\\right)/2=\n",
    "                       \\frac{1-(-1)}{2}\\left((-1)^2+(1)^2\\right)/2=1!\n",
    "$$"
   ]
  },
  {
   "cell_type": "markdown",
   "metadata": {},
   "source": [
    "With just two points we can calculate exactly the integral for a second-order\n",
    "polynomial since our methods approximates the exact function with higher\n",
    "order polynomial. \n",
    "How many points do you need with the trapezoidal rule in order to achieve a\n",
    "similar accuracy?\n",
    "\n",
    "\n",
    "## Back to Hermite polynomials and our type of integrals\n",
    "\n",
    "Our type of integrals will involve expressions on the form (in one dimension as an example)"
   ]
  },
  {
   "cell_type": "markdown",
   "metadata": {},
   "source": [
    "$$\n",
    "I = \\int_{-\\infty}^{\\infty}\\exp{(-x^2/2)}f(x)dx.\n",
    "$$"
   ]
  },
  {
   "cell_type": "markdown",
   "metadata": {},
   "source": [
    "When we use Gauss-Hermite quadrature, the exponential function is absorbed into the weight points. We need however to keep in mind that the basic form is given by"
   ]
  },
  {
   "cell_type": "markdown",
   "metadata": {},
   "source": [
    "$$\n",
    "I = \\int_{-\\infty}^{\\infty}\\exp{(-x^2)}g(x)dx\\approx \\sum_{i=1}^nw_ig(x_i).\n",
    "$$"
   ]
  },
  {
   "cell_type": "markdown",
   "metadata": {},
   "source": [
    "This means that we need to make a change of variables $u^2=x^2/2$ in the first equation so that we end up with"
   ]
  },
  {
   "cell_type": "markdown",
   "metadata": {},
   "source": [
    "$$\n",
    "I = \\int_{-\\infty}^{\\infty}\\exp{(-x^2/2)}f(x)dx=\\sqrt{2}\\int_{-\\infty}^{\\infty}\\exp{(-u^2)}f(\\sqrt{2}u)du\\approx \\sqrt{2}\\sum_{i=1}^nw_if(\\sqrt{2}u_i).\n",
    "$$"
   ]
  },
  {
   "cell_type": "markdown",
   "metadata": {},
   "source": [
    "For Gauss-Hermite quadrature, the weights have a simple analytic expression in terms of Hermite polynomials"
   ]
  },
  {
   "cell_type": "markdown",
   "metadata": {},
   "source": [
    "$$\n",
    "w_i = \\frac{2^{n1}n!\\sqrt{\\pi}}{n^2[H_{n-1}(x_i)]^2}.\n",
    "$$"
   ]
  },
  {
   "cell_type": "markdown",
   "metadata": {},
   "source": [
    "## Our integrals\n",
    "\n",
    "We will need to deal with following type of four dimensional integrals"
   ]
  },
  {
   "cell_type": "markdown",
   "metadata": {},
   "source": [
    "$$\n",
    "\\langle pq \\vert \\hat{v} \\vert rs \\rangle = A\\int_{-\\infty}^{\\infty}\\int_{-\\infty}^{\\infty}\\int_{-\\infty}^{\\infty}\\int_{-\\infty}^{\\infty} \\exp{[-(x_1^2+x_2^2+y_1^2+y_2^2)/2]}f(x_1,y_1,x_2,y_2)dx_1dy_1dx_2dy_2,\n",
    "$$"
   ]
  },
  {
   "cell_type": "markdown",
   "metadata": {},
   "source": [
    "where $A$ is a normalization constant and"
   ]
  },
  {
   "cell_type": "markdown",
   "metadata": {},
   "source": [
    "$$\n",
    "f(x_1,y_1,x_2,y_2) = H_{n_{x_p}}(x_1)H_{n_{y_p}}(y_1)H_{n_{x_q}}(x_2)H_{n_{y_r}}(y_2)H_{n_{x_r}}(x_1)H_{n_{y_r}}(y_1)H_{n_{x_s}}(x_2)H_{n_{y_s}}(y_2)\\frac{1}{\\sqrt{(x_1-x_2)^2+(y_1-y_2)^2}},\n",
    "$$"
   ]
  },
  {
   "cell_type": "markdown",
   "metadata": {},
   "source": [
    "where $H_n$ are the various Hermite polynomials. \n",
    "For the case where all $n_{x,y}=0$ the above integral simplifies to"
   ]
  },
  {
   "cell_type": "markdown",
   "metadata": {},
   "source": [
    "$$\n",
    "\\langle pq \\vert \\hat{v} \\vert rs \\rangle = A\\int_{-\\infty}^{\\infty}\\int_{-\\infty}^{\\infty}\\int_{-\\infty}^{\\infty}\\int_{-\\infty}^{\\infty} \\frac{\\exp{[-(x_1^2+x_2^2+y_1^2+y_2^2)/2]} }{\\sqrt{(x_1-x_2)^2+(y_1-y_2)^2}}dx_1dy_1dx_2dy_2.\n",
    "$$"
   ]
  },
  {
   "cell_type": "markdown",
   "metadata": {},
   "source": [
    "Changing from the laboratory frame to the relative and center of mass frame, with"
   ]
  },
  {
   "cell_type": "markdown",
   "metadata": {},
   "source": [
    "$$\n",
    "\\boldsymbol{R} = \\frac{\\bf{r}_1+\\boldsymbol{r}_2}{2} \\hspace{1cm} \\boldsymbol{r} = \\bf{r}_1-\\boldsymbol{r}_2\n",
    "$$"
   ]
  },
  {
   "cell_type": "markdown",
   "metadata": {},
   "source": [
    "and introducing polar coordinates the above integral can be written as"
   ]
  },
  {
   "cell_type": "markdown",
   "metadata": {},
   "source": [
    "$$\n",
    "I = 4\\pi^2 A\\int_{0}^{\\infty}\\exp{(-R^2)}RdR \\int_{0}^{\\infty} \\exp{(-r^2)}rdr\\frac{1}{r}=2A\\pi^{5/2}.\n",
    "$$"
   ]
  },
  {
   "cell_type": "markdown",
   "metadata": {},
   "source": [
    "This provides a useful check of our program. \n",
    "\n",
    "\n",
    "\n",
    "\n",
    "## Our integrals\n",
    "\n",
    "The integral"
   ]
  },
  {
   "cell_type": "markdown",
   "metadata": {},
   "source": [
    "$$\n",
    "\\langle pq \\vert \\hat{v} \\vert rs \\rangle = A\\int_{-\\infty}^{\\infty}\\int_{-\\infty}^{\\infty}\\int_{-\\infty}^{\\infty}\\int_{-\\infty}^{\\infty} \\exp{[-(x_1^2+x_2^2+y_1^2+y_2^2)/2]}f(x_1,y_1,x_2,y_2)dx_1dy_1dx_2dy_2,\n",
    "$$"
   ]
  },
  {
   "cell_type": "markdown",
   "metadata": {},
   "source": [
    "can be calculate in analytical form if we switch to polar coordinates. \n",
    "\n",
    "\n",
    "\n",
    "\n",
    "## Single-particle functions in polar coordinates\n",
    "\n",
    "Instead of Hermite polynomials which we will need for the Variational Monte Carlo, it is more convenient for the Hartree-Fock calculations to use polar coordinates.\n",
    "\n",
    "\n",
    "Using polar coordinates"
   ]
  },
  {
   "cell_type": "markdown",
   "metadata": {},
   "source": [
    "<!-- Equation labels as ordinary links -->\n",
    "<div id=\"_auto4\"></div>\n",
    "\n",
    "$$\n",
    "\\begin{equation}\n",
    "x = r \\cos \\theta \n",
    "\\label{_auto4} \\tag{29}\n",
    "\\end{equation}\n",
    "$$"
   ]
  },
  {
   "cell_type": "markdown",
   "metadata": {},
   "source": [
    "<!-- Equation labels as ordinary links -->\n",
    "<div id=\"_auto5\"></div>\n",
    "\n",
    "$$\n",
    "\\begin{equation} \n",
    "y = r \\sin \\theta \n",
    "\\label{_auto5} \\tag{30}\n",
    "\\end{equation}\n",
    "$$"
   ]
  },
  {
   "cell_type": "markdown",
   "metadata": {},
   "source": [
    "<!-- Equation labels as ordinary links -->\n",
    "<div id=\"_auto6\"></div>\n",
    "\n",
    "$$\n",
    "\\begin{equation} \n",
    "r = \\sqrt{x^2 + y^2},\n",
    "\\label{_auto6} \\tag{31}\n",
    "\\end{equation}\n",
    "$$"
   ]
  },
  {
   "cell_type": "markdown",
   "metadata": {},
   "source": [
    "the normalized solution for the angular part in two dimensions is"
   ]
  },
  {
   "cell_type": "markdown",
   "metadata": {},
   "source": [
    "<!-- Equation labels as ordinary links -->\n",
    "<div id=\"normalized angular part\"></div>\n",
    "\n",
    "$$\n",
    "Y(\\theta) = \\frac{1}{\\sqrt{2\\pi}} e^{im\\theta}\n",
    "  \\label{normalized angular part} \\tag{32}\n",
    "$$"
   ]
  },
  {
   "cell_type": "markdown",
   "metadata": {},
   "source": [
    "The total wavefunction must satisfy the physical condition that $\\psi(r,\\theta) = \\psi(r,\\theta+2\\pi)$ This makes a restriction on the quantum number $m$ which can take integral values"
   ]
  },
  {
   "cell_type": "markdown",
   "metadata": {},
   "source": [
    "$$\n",
    "m = 0, \\pm 1, \\pm 2, ...\n",
    "$$"
   ]
  },
  {
   "cell_type": "markdown",
   "metadata": {},
   "source": [
    "<!-- !split  -->\n",
    "## Eigenfunctions in two dimensions\n",
    "\n",
    "The time-independent part of the wave function  is separated in an angular and a radial part"
   ]
  },
  {
   "cell_type": "markdown",
   "metadata": {},
   "source": [
    "$$\n",
    "\\psi(r,\\theta) = R(r) \\frac{1}{\\sqrt{2\\pi}} e^{im\\theta}, \\qquad m=0,\\pm 1, \\pm 2,...\n",
    "$$"
   ]
  },
  {
   "cell_type": "markdown",
   "metadata": {},
   "source": [
    "The solution of the radial equation is"
   ]
  },
  {
   "cell_type": "markdown",
   "metadata": {},
   "source": [
    "$$\n",
    "R_{nm}(r) = \\sqrt{\\frac{2n!}{(n+|m|)!}}\\beta^{\\frac{1}{2}(|m|+1)}r^{|m|}e^{-\\frac{1}{2}\\beta r^2} L_n^{|m|} (\\beta r^2)\n",
    "$$"
   ]
  },
  {
   "cell_type": "markdown",
   "metadata": {},
   "source": [
    "Here the subscript $n$ denote the principal quantum number, and $m$ is the angular momentum number"
   ]
  },
  {
   "cell_type": "markdown",
   "metadata": {},
   "source": [
    "<!-- Equation labels as ordinary links -->\n",
    "<div id=\"_auto7\"></div>\n",
    "\n",
    "$$\n",
    "\\begin{equation}\n",
    "  n = 0, 1, 2, 3, .... \n",
    "\\label{_auto7} \\tag{33}\n",
    "\\end{equation}\n",
    "$$"
   ]
  },
  {
   "cell_type": "markdown",
   "metadata": {},
   "source": [
    "<!-- Equation labels as ordinary links -->\n",
    "<div id=\"_auto8\"></div>\n",
    "\n",
    "$$\n",
    "\\begin{equation} \n",
    "  m = 0, \\pm 1, \\pm, 2, \\pm 3,...\n",
    "\\label{_auto8} \\tag{34}\n",
    "\\end{equation}\n",
    "$$"
   ]
  },
  {
   "cell_type": "markdown",
   "metadata": {},
   "source": [
    "$L_n^{|m|}$ is the associated Laguerre polynomials discussed above, and $\\beta$ is defined as"
   ]
  },
  {
   "cell_type": "markdown",
   "metadata": {},
   "source": [
    "$$\n",
    "\\beta = \\frac{m\\omega}{\\hbar}\n",
    "$$"
   ]
  },
  {
   "cell_type": "markdown",
   "metadata": {},
   "source": [
    "## Final expression for the eigenfunction\n",
    "\n",
    "The final eigenfunction for an electron moving in a two-dimensional harmonic oscillator is then"
   ]
  },
  {
   "cell_type": "markdown",
   "metadata": {},
   "source": [
    "$$\n",
    "\\psi(r,\\theta) = \\sqrt{\\frac{n!}{\\pi(n+|m|)!}}\\beta^{\\frac{1}{2}(|m|+1)}r^{|m|}e^{-\\frac{1}{2}\\beta r^2} L_n^{|m|} (\\beta r^2) e^{im\\theta},\n",
    "$$"
   ]
  },
  {
   "cell_type": "markdown",
   "metadata": {},
   "source": [
    "with the  eigenvalue"
   ]
  },
  {
   "cell_type": "markdown",
   "metadata": {},
   "source": [
    "$$\n",
    "E = \\hbar \\omega(2n+|m|+1)\n",
    "$$"
   ]
  },
  {
   "cell_type": "markdown",
   "metadata": {},
   "source": [
    "which is the same as the energy with cartesian coordinates but now in terms of $n_x$ and $n_y$, that is"
   ]
  },
  {
   "cell_type": "markdown",
   "metadata": {},
   "source": [
    "$$\n",
    "E = \\hbar \\omega(n_x+n_y+1).\n",
    "$$"
   ]
  },
  {
   "cell_type": "markdown",
   "metadata": {},
   "source": [
    "## [Program for computing the Coulomb interaction in polar coordinates](https://github.com/CompPhysics/ComputationalPhysics2/tree/gh-pages/doc/Programs/QDCoulombPotential)\n",
    "\n",
    "The program is based on the analytical expression given by [Anisimova and Matulis](http://iopscience.iop.org/article/10.1088/0953-8984/10/3/013/pdf). It returns the value of the integral (without checking for spin values, you need to add this test) using as input the quantum numbers\n",
    "$n_i$ and $m_i$, that is"
   ]
  },
  {
   "cell_type": "markdown",
   "metadata": {},
   "source": [
    "$$\n",
    "\\langle pq \\vert \\hat{v} \\vert rs \\rangle =\\langle (n_pm_p)(n_qm_q) \\vert \\hat{v} \\vert (n_rm_r)(n_sm_s) \\rangle,\n",
    "$$"
   ]
  },
  {
   "cell_type": "markdown",
   "metadata": {},
   "source": [
    "and the main code is (click on the above link for the full code)"
   ]
  },
  {
   "cell_type": "markdown",
   "metadata": {},
   "source": [
    "        #include \"Coulomb_Functions.hpp\"\n",
    "        \n",
    "        int main(int argc, char * argv[])\n",
    "        {\n",
    "          if(argc != 10){ std::cerr << \"Wrong Input: should be ./QD_Coulomb  hw  n1  ml1  n2  ml2  n3  ml3  n4  ml4\" << std::endl; exit(1); }\n",
    "          double hw = std::atof(argv[1]);\n",
    "          int n1 = std::atoi(argv[2]);\n",
    "          int ml1 = std::atoi(argv[3]);\n",
    "          int n2 = std::atoi(argv[4]);\n",
    "          int ml2 = std::atoi(argv[5]);\n",
    "          int n3 = std::atoi(argv[6]);\n",
    "          int ml3 = std::atoi(argv[7]);\n",
    "          int n4 = std::atoi(argv[8]);\n",
    "          int ml4 = std::atoi(argv[9]);\n",
    "        \n",
    "          double TBME = Coulomb_HO(hw, n1, ml1, n2, ml2, n3, ml3, n4, ml4);\n",
    "          std::cout << std::setprecision(12);\n",
    "          std::cout << \"< \" << n1 << \",\" << ml1 << \" ; \" << n2 << \",\" << ml2 << \" || V || \" << n3 << \",\" << ml3 << \" ; \" << n4 << \",\" << ml4 << \" > = \" << TBME << std::endl;\n",
    "          \n",
    "          return 0;\n",
    "        }\n"
   ]
  },
  {
   "cell_type": "markdown",
   "metadata": {},
   "source": [
    "## Conserved quantum numbers\n",
    "\n",
    "When setting up the matrix elements"
   ]
  },
  {
   "cell_type": "markdown",
   "metadata": {},
   "source": [
    "$$\n",
    "\\langle pq \\vert \\hat{v} \\vert rs \\rangle =\\langle (n_pm_p)(n_qm_q) \\vert \\hat{v} \\vert (n_rm_r)(n_sm_s) \\rangle,\n",
    "$$"
   ]
  },
  {
   "cell_type": "markdown",
   "metadata": {},
   "source": [
    "you need to take into account that there are conserved two-electron quantum numbers since the Hamiltonian is invariant under rotations, namely"
   ]
  },
  {
   "cell_type": "markdown",
   "metadata": {},
   "source": [
    "$$\n",
    "m_p+m_q = M = m_r+m_s,\n",
    "$$"
   ]
  },
  {
   "cell_type": "markdown",
   "metadata": {},
   "source": [
    "and the total spin projection which is not included in the above code. You need to add this as a test, that is check that"
   ]
  },
  {
   "cell_type": "markdown",
   "metadata": {},
   "source": [
    "$$\n",
    "\\sigma_p+\\sigma_q = S_z = \\sigma_r+\\sigma_s.\n",
    "$$"
   ]
  },
  {
   "cell_type": "markdown",
   "metadata": {},
   "source": [
    "Finally, you need to ensure that the single-particle spinors satisfy  $\\sigma_p=\\sigma_r$ \n",
    "and $\\sigma_q=\\sigma_s$. Pay in particular attention to this when you compute the exchange matrix elements. \n",
    "\n",
    "## Reminder on Variational Calculus and Lagrangian Multipliers\n",
    "\n",
    "The calculus of variations involves \n",
    "problems where the quantity to be minimized or maximized is an integral. \n",
    "\n",
    "In the general case we have an integral of the type"
   ]
  },
  {
   "cell_type": "markdown",
   "metadata": {},
   "source": [
    "$$\n",
    "E[\\Phi]= \\int_a^b f(\\Phi(x),\\frac{\\partial \\Phi}{\\partial x},x)dx,\n",
    "$$"
   ]
  },
  {
   "cell_type": "markdown",
   "metadata": {},
   "source": [
    "where $E$ is the quantity which is sought minimized or maximized.\n",
    "The problem is that although $f$ is a function of the variables $\\Phi$, $\\partial \\Phi/\\partial x$ and $x$, the exact dependence of\n",
    "$\\Phi$ on $x$ is not known.  This means again that even though the integral has fixed limits $a$ and $b$, the path of integration is\n",
    "not known. In our case the unknown quantities are the single-particle wave functions and we wish to choose an integration path which makes\n",
    "the functional $E[\\Phi]$ stationary. This means that we want to find minima, or maxima or saddle points. In physics we search normally for minima.\n",
    "Our task is therefore to find the minimum of $E[\\Phi]$ so that its variation $\\delta E$ is zero  subject to specific\n",
    "constraints. In our case the constraints appear as the integral which expresses the orthogonality of the  single-particle wave functions.\n",
    "The constraints can be treated via the technique of Lagrangian multipliers\n",
    "\n",
    "\n",
    "\n",
    "## Variational Calculus and Lagrangian Multipliers, simple example\n",
    "\n",
    "Let us specialize to the expectation value of the energy for one particle in three-dimensions.\n",
    "This expectation value reads"
   ]
  },
  {
   "cell_type": "markdown",
   "metadata": {},
   "source": [
    "$$\n",
    "E=\\int dxdydz \\psi^*(x,y,z) \\hat{H} \\psi(x,y,z),\n",
    "$$"
   ]
  },
  {
   "cell_type": "markdown",
   "metadata": {},
   "source": [
    "with the constraint"
   ]
  },
  {
   "cell_type": "markdown",
   "metadata": {},
   "source": [
    "$$\n",
    "\\int dxdydz \\psi^*(x,y,z) \\psi(x,y,z)=1,\n",
    "$$"
   ]
  },
  {
   "cell_type": "markdown",
   "metadata": {},
   "source": [
    "and a Hamiltonian"
   ]
  },
  {
   "cell_type": "markdown",
   "metadata": {},
   "source": [
    "$$\n",
    "\\hat{H}=-\\frac{1}{2}\\nabla^2+V(x,y,z).\n",
    "$$"
   ]
  },
  {
   "cell_type": "markdown",
   "metadata": {},
   "source": [
    "We will, for the sake of notational convenience,  skip the variables $x,y,z$ below, and write for example $V(x,y,z)=V$.\n",
    "\n",
    "\n",
    "## Manipulating terms\n",
    "\n",
    "The integral involving the kinetic energy can be written as, with the function $\\psi$ vanishing\n",
    "strongly for large values of $x,y,z$ (given here by the limits $a$ and $b$),"
   ]
  },
  {
   "cell_type": "markdown",
   "metadata": {},
   "source": [
    "$$\n",
    "\\int_a^b dxdydz \\psi^* \\left(-\\frac{1}{2}\\nabla^2\\right) \\psi dxdydz = \\psi^*\\nabla\\psi|_a^b+\\int_a^b dxdydz\\frac{1}{2}\\nabla\\psi^*\\nabla\\psi.\n",
    "$$"
   ]
  },
  {
   "cell_type": "markdown",
   "metadata": {},
   "source": [
    "We will drop the limits $a$ and $b$ in the remaining discussion. \n",
    "Inserting this expression into the expectation value for the energy and taking the variational minimum  we obtain"
   ]
  },
  {
   "cell_type": "markdown",
   "metadata": {},
   "source": [
    "$$\n",
    "\\delta E = \\delta \\left\\{\\int dxdydz\\left( \\frac{1}{2}\\nabla\\psi^*\\nabla\\psi+V\\psi^*\\psi\\right)\\right\\} = 0.\n",
    "$$"
   ]
  },
  {
   "cell_type": "markdown",
   "metadata": {},
   "source": [
    "## Adding the Lagrangian multiplier\n",
    "\n",
    "The constraint appears in integral form as"
   ]
  },
  {
   "cell_type": "markdown",
   "metadata": {},
   "source": [
    "$$\n",
    "\\int dxdydz \\psi^* \\psi=\\mathrm{constant},\n",
    "$$"
   ]
  },
  {
   "cell_type": "markdown",
   "metadata": {},
   "source": [
    "and multiplying with a Lagrangian multiplier $\\lambda$ and taking the variational minimum we obtain the final variational equation"
   ]
  },
  {
   "cell_type": "markdown",
   "metadata": {},
   "source": [
    "$$\n",
    "\\delta \\left\\{\\int dxdydz\\left( \\frac{1}{2}\\nabla\\psi^*\\nabla\\psi+V\\psi^*\\psi-\\lambda\\psi^*\\psi\\right)\\right\\} = 0.\n",
    "$$"
   ]
  },
  {
   "cell_type": "markdown",
   "metadata": {},
   "source": [
    "We introduce the function  $f$"
   ]
  },
  {
   "cell_type": "markdown",
   "metadata": {},
   "source": [
    "$$\n",
    "f =  \\frac{1}{2}\\nabla\\psi^*\\nabla\\psi+V\\psi^*\\psi-\\lambda\\psi^*\\psi=\n",
    "\\frac{1}{2}(\\psi^*_x\\psi_x+\\psi^*_y\\psi_y+\\psi^*_z\\psi_z)+V\\psi^*\\psi-\\lambda\\psi^*\\psi,\n",
    "$$"
   ]
  },
  {
   "cell_type": "markdown",
   "metadata": {},
   "source": [
    "where we have skipped the dependence on $x,y,z$ and introduced the shorthand $\\psi_x$, $\\psi_y$ and $\\psi_z$  for the various derivatives.\n",
    "\n",
    "\n",
    "## And with the Euler-Lagrange equations we get\n",
    "\n",
    "For $\\psi^*$ the Euler-Lagrange  equations yield"
   ]
  },
  {
   "cell_type": "markdown",
   "metadata": {},
   "source": [
    "$$\n",
    "\\frac{\\partial f}{\\partial \\psi^*}- \\frac{\\partial }{\\partial x}\\frac{\\partial f}{\\partial \\psi^*_x}-\\frac{\\partial }{\\partial y}\\frac{\\partial f}{\\partial \\psi^*_y}-\\frac{\\partial }{\\partial z}\\frac{\\partial f}{\\partial \\psi^*_z}=0,\n",
    "$$"
   ]
  },
  {
   "cell_type": "markdown",
   "metadata": {},
   "source": [
    "which results in"
   ]
  },
  {
   "cell_type": "markdown",
   "metadata": {},
   "source": [
    "$$\n",
    "-\\frac{1}{2}(\\psi_{xx}+\\psi_{yy}+\\psi_{zz})+V\\psi=\\lambda \\psi.\n",
    "$$"
   ]
  },
  {
   "cell_type": "markdown",
   "metadata": {},
   "source": [
    "We can then identify the  Lagrangian multiplier as the energy of the system. The last equation is \n",
    "nothing but the standard \n",
    "Schroedinger equation and the variational  approach discussed here provides \n",
    "a powerful method for obtaining approximate solutions of the wave function.\n",
    "\n",
    "\n",
    "\n",
    "\n",
    "## Hartree-Fock by varying the coefficients of a wave function expansion\n",
    "\n",
    "In deriving the Hartree-Fock equations, we  will expand the single-particle functions in a known basis  and vary the coefficients, \n",
    "that is, the new single-particle wave function is written as a linear expansion\n",
    "in terms of a fixed chosen orthogonal basis (for example the well-known harmonic oscillator functions or the hydrogen-like functions etc).\n",
    "We define our new Hartree-Fock single-particle basis by performing a unitary transformation \n",
    "on our previous basis (labelled with greek indices) as"
   ]
  },
  {
   "cell_type": "markdown",
   "metadata": {},
   "source": [
    "<!-- Equation labels as ordinary links -->\n",
    "<div id=\"eq:newbasis\"></div>\n",
    "\n",
    "$$\n",
    "\\begin{equation}\n",
    "\\psi_p^{HF}  = \\sum_{\\lambda} C_{p\\lambda}\\phi_{\\lambda}. \\label{eq:newbasis} \\tag{35}\n",
    "\\end{equation}\n",
    "$$"
   ]
  },
  {
   "cell_type": "markdown",
   "metadata": {},
   "source": [
    "In this case we vary the coefficients $C_{p\\lambda}$. If the basis has infinitely many solutions, we need\n",
    "to truncate the above sum.  We assume that the basis $\\phi_{\\lambda}$ is orthogonal. A unitary transformation keeps the orthogonality, as discussed in exercise 1 below.  \n",
    "\n",
    "\n",
    "## More on linear algebra\n",
    "\n",
    "In the previous slide we stated that a unitary transformation keeps the orthogonality, as discussed in exercise 1 below.  To see this consider first a basis of vectors $\\mathbf{v}_i$,"
   ]
  },
  {
   "cell_type": "markdown",
   "metadata": {},
   "source": [
    "$$\n",
    "\\mathbf{v}_i = \\begin{bmatrix} v_{i1} \\\\ \\dots \\\\ \\dots \\\\v_{in} \\end{bmatrix}\n",
    "$$"
   ]
  },
  {
   "cell_type": "markdown",
   "metadata": {},
   "source": [
    "We assume that the basis is orthogonal, that is"
   ]
  },
  {
   "cell_type": "markdown",
   "metadata": {},
   "source": [
    "$$\n",
    "\\mathbf{v}_j^T\\mathbf{v}_i = \\delta_{ij}.\n",
    "$$"
   ]
  },
  {
   "cell_type": "markdown",
   "metadata": {},
   "source": [
    "An orthogonal or unitary transformation"
   ]
  },
  {
   "cell_type": "markdown",
   "metadata": {},
   "source": [
    "$$\n",
    "\\mathbf{w}_i=\\mathbf{U}\\mathbf{v}_i,\n",
    "$$"
   ]
  },
  {
   "cell_type": "markdown",
   "metadata": {},
   "source": [
    "preserves the dot product and orthogonality since"
   ]
  },
  {
   "cell_type": "markdown",
   "metadata": {},
   "source": [
    "$$\n",
    "\\mathbf{w}_j^T\\mathbf{w}_i=(\\mathbf{U}\\mathbf{v}_j)^T\\mathbf{U}\\mathbf{v}_i=\\mathbf{v}_j^T\\mathbf{U}^T\\mathbf{U}\\mathbf{v}_i= \\mathbf{v}_j^T\\mathbf{v}_i = \\delta_{ij}.\n",
    "$$"
   ]
  },
  {
   "cell_type": "markdown",
   "metadata": {},
   "source": [
    "## Coefficients of a wave function expansion\n",
    "\n",
    "This means that if the coefficients $C_{p\\lambda}$ belong to a unitary or orthogonal trasformation (using the Dirac bra-ket notation)"
   ]
  },
  {
   "cell_type": "markdown",
   "metadata": {},
   "source": [
    "$$\n",
    "\\vert p\\rangle  = \\sum_{\\lambda} C_{p\\lambda}\\vert\\lambda\\rangle,\n",
    "$$"
   ]
  },
  {
   "cell_type": "markdown",
   "metadata": {},
   "source": [
    "orthogonality is preserved, that is $\\langle \\alpha \\vert \\beta\\rangle = \\delta_{\\alpha\\beta}$\n",
    "and $\\langle p \\vert q\\rangle = \\delta_{pq}$. \n",
    "\n",
    "This propertry is extremely useful when we build up a basis of many-body Stater determinant based states. \n",
    "\n",
    "**Note also that although a basis $\\vert \\alpha\\rangle$ contains an infinity of states, for practical calculations we have always to make some truncations.** \n",
    "\n",
    "\n",
    "\n",
    "\n",
    "## More Basic Matrix Features, simple $2 \\times 2$ determinant, useful property of determinants\n",
    "\n",
    "Before we develop the Hartree-Fock equations, there is another very useful property of determinants that we will use both in connection with Hartree-Fock calculations and later shell-model calculations.  \n",
    "\n",
    "Consider the following determinant"
   ]
  },
  {
   "cell_type": "markdown",
   "metadata": {},
   "source": [
    "$$\n",
    "\\left| \\begin{array}{cc} \\alpha_1b_{11}+\\alpha_2sb_{12}& a_{12}\\\\\n",
    "                         \\alpha_1b_{21}+\\alpha_2b_{22}&a_{22}\\end{array} \\right|=\\alpha_1\\left|\\begin{array}{cc} b_{11}& a_{12}\\\\\n",
    "                         b_{21}&a_{22}\\end{array} \\right|+\\alpha_2\\left| \\begin{array}{cc} b_{12}& a_{12}\\\\b_{22}&a_{22}\\end{array} \\right|\n",
    "$$"
   ]
  },
  {
   "cell_type": "markdown",
   "metadata": {},
   "source": [
    "## More Basic Matrix Features, $n \\times n$ determinant\n",
    "\n",
    "We can generalize this to  an $n\\times n$ matrix and have"
   ]
  },
  {
   "cell_type": "markdown",
   "metadata": {},
   "source": [
    "$$\n",
    "\\left| \\begin{array}{cccccc} a_{11}& a_{12} & \\dots & \\sum_{k=1}^n c_k b_{1k} &\\dots & a_{1n}\\\\\n",
    "a_{21}& a_{22} & \\dots & \\sum_{k=1}^n c_k b_{2k} &\\dots & a_{2n}\\\\\n",
    "\\dots & \\dots & \\dots & \\dots & \\dots & \\dots \\\\\n",
    "\\dots & \\dots & \\dots & \\dots & \\dots & \\dots \\\\\n",
    "a_{n1}& a_{n2} & \\dots & \\sum_{k=1}^n c_k b_{nk} &\\dots & a_{nn}\\end{array} \\right|=\n",
    "\\sum_{k=1}^n c_k\\left| \\begin{array}{cccccc} a_{11}& a_{12} & \\dots &  b_{1k} &\\dots & a_{1n}\\\\\n",
    "a_{21}& a_{22} & \\dots &  b_{2k} &\\dots & a_{2n}\\\\\n",
    "\\dots & \\dots & \\dots & \\dots & \\dots & \\dots\\\\\n",
    "\\dots & \\dots & \\dots & \\dots & \\dots & \\dots\\\\\n",
    "a_{n1}& a_{n2} & \\dots &  b_{nk} &\\dots & a_{nn}\\end{array} \\right| .\n",
    "$$"
   ]
  },
  {
   "cell_type": "markdown",
   "metadata": {},
   "source": [
    "This is a property we will use in our Hartree-Fock discussions. \n",
    "\n",
    "\n",
    "\n",
    "\n",
    "\n",
    "\n",
    "## More Basic Matrix Features, a general $n \\times n$ determinant\n",
    "\n",
    "We can generalize the previous results, now \n",
    "with all elements $a_{ij}$  being given as functions of \n",
    "linear combinations  of various coefficients $c$ and elements $b_{ij}$,"
   ]
  },
  {
   "cell_type": "markdown",
   "metadata": {},
   "source": [
    "$$\n",
    "\\left| \\begin{array}{cccccc} \\sum_{k=1}^n b_{1k}c_{k1}& \\sum_{k=1}^n b_{1k}c_{k2} & \\dots & \\sum_{k=1}^n b_{1k}c_{kj}  &\\dots & \\sum_{k=1}^n b_{1k}c_{kn}\\\\\n",
    "\\sum_{k=1}^n b_{2k}c_{k1}& \\sum_{k=1}^n b_{2k}c_{k2} & \\dots & \\sum_{k=1}^n b_{2k}c_{kj} &\\dots & \\sum_{k=1}^n b_{2k}c_{kn}\\\\\n",
    "\\dots & \\dots & \\dots & \\dots & \\dots & \\dots \\\\\n",
    "\\dots & \\dots & \\dots & \\dots & \\dots &\\dots \\\\\n",
    "\\sum_{k=1}^n b_{nk}c_{k1}& \\sum_{k=1}^n b_{nk}c_{k2} & \\dots & \\sum_{k=1}^n b_{nk}c_{kj} &\\dots & \\sum_{k=1}^n b_{nk}c_{kn}\\end{array} \\right|=det(\\mathbf{C})det(\\mathbf{B}),\n",
    "$$"
   ]
  },
  {
   "cell_type": "markdown",
   "metadata": {},
   "source": [
    "where $det(\\mathbf{C})$ and $det(\\mathbf{B})$ are the determinants of $n\\times n$ matrices\n",
    "with elements $c_{ij}$ and $b_{ij}$ respectively.  \n",
    "This is a property we will use in our Hartree-Fock discussions. Convince yourself about the correctness of the above expression by setting $n=2$. \n",
    "\n",
    "\n",
    "\n",
    "\n",
    "\n",
    "## A general Slater determinant\n",
    "\n",
    "With our definition of the new basis in terms of an orthogonal basis we have"
   ]
  },
  {
   "cell_type": "markdown",
   "metadata": {},
   "source": [
    "$$\n",
    "\\psi_p(x)  = \\sum_{\\lambda} C_{p\\lambda}\\phi_{\\lambda}(x).\n",
    "$$"
   ]
  },
  {
   "cell_type": "markdown",
   "metadata": {},
   "source": [
    "If the coefficients $C_{p\\lambda}$ belong to an orthogonal or unitary matrix, the new basis\n",
    "is also orthogonal. \n",
    "Our Slater determinant in the new basis $\\psi_p(x)$ is written as"
   ]
  },
  {
   "cell_type": "markdown",
   "metadata": {},
   "source": [
    "$$\n",
    "\\frac{1}{\\sqrt{A!}}\n",
    "\\left| \\begin{array}{ccccc} \\psi_{p}(x_1)& \\psi_{p}(x_2)& \\dots & \\dots & \\psi_{p}(x_A)\\\\\n",
    "                            \\psi_{q}(x_1)&\\psi_{q}(x_2)& \\dots & \\dots & \\psi_{q}(x_A)\\\\  \n",
    "                            \\dots & \\dots & \\dots & \\dots & \\dots \\\\\n",
    "                            \\dots & \\dots & \\dots & \\dots & \\dots \\\\\n",
    "                     \\psi_{t}(x_1)&\\psi_{t}(x_2)& \\dots & \\dots & \\psi_{t}(x_A)\\end{array} \\right|=\\frac{1}{\\sqrt{A!}}\n",
    "\\left| \\begin{array}{ccccc} \\sum_{\\lambda} C_{p\\lambda}\\phi_{\\lambda}(x_1)& \\sum_{\\lambda} C_{p\\lambda}\\phi_{\\lambda}(x_2)& \\dots & \\dots & \\sum_{\\lambda} C_{p\\lambda}\\phi_{\\lambda}(x_A)\\\\\n",
    "                            \\sum_{\\lambda} C_{q\\lambda}\\phi_{\\lambda}(x_1)&\\sum_{\\lambda} C_{q\\lambda}\\phi_{\\lambda}(x_2)& \\dots & \\dots & \\sum_{\\lambda} C_{q\\lambda}\\phi_{\\lambda}(x_A)\\\\  \n",
    "                            \\dots & \\dots & \\dots & \\dots & \\dots \\\\\n",
    "                            \\dots & \\dots & \\dots & \\dots & \\dots \\\\\n",
    "                     \\sum_{\\lambda} C_{t\\lambda}\\phi_{\\lambda}(x_1)&\\sum_{\\lambda} C_{t\\lambda}\\phi_{\\lambda}(x_2)& \\dots & \\dots & \\sum_{\\lambda} C_{t\\lambda}\\phi_{\\lambda}(x_A)\\end{array} \\right|,\n",
    "$$"
   ]
  },
  {
   "cell_type": "markdown",
   "metadata": {},
   "source": [
    "which is nothing but $det(\\mathbf{C})det(\\Phi)$, with $det(\\Phi)$ being the determinant given by the basis functions $\\phi_{\\lambda}(x)$. \n",
    "\n",
    "\n",
    "\n",
    "\n",
    "\n",
    "## Hartree-Fock by varying the coefficients of a wave function expansion\n",
    "\n",
    "It is normal to choose a single-particle basis defined as the eigenfunctions\n",
    "of parts of the full Hamiltonian. The typical situation consists of the solutions of the one-body part of the Hamiltonian, that is we have"
   ]
  },
  {
   "cell_type": "markdown",
   "metadata": {},
   "source": [
    "$$\n",
    "\\hat{h}_0\\phi_{\\lambda}=\\epsilon_{\\lambda}\\phi_{\\lambda}.\n",
    "$$"
   ]
  },
  {
   "cell_type": "markdown",
   "metadata": {},
   "source": [
    "The single-particle wave functions $\\phi_{\\lambda}(\\boldsymbol{r})$, defined by the quantum numbers $\\lambda$ and $\\boldsymbol{r}$\n",
    "are defined as the overlap"
   ]
  },
  {
   "cell_type": "markdown",
   "metadata": {},
   "source": [
    "$$\n",
    "\\phi_{\\lambda}(\\boldsymbol{r})  = \\langle \\boldsymbol{r} | \\lambda \\rangle .\n",
    "$$"
   ]
  },
  {
   "cell_type": "markdown",
   "metadata": {},
   "source": [
    "## Hartree-Fock by varying the coefficients of a wave function expansion\n",
    "\n",
    "In our discussions hereafter we will use our definitions of single-particle states above and below the Fermi ($F$) level given by the labels\n",
    "$ijkl\\dots \\le F$ for so-called single-hole states and $abcd\\dots > F$ for so-called particle states.\n",
    "For general single-particle states we employ the labels $pqrs\\dots$. \n",
    "\n",
    "\n",
    "\n",
    "## Hartree-Fock by varying the coefficients of a wave function expansion\n",
    "\n",
    "In Eq. ([FunctionalEPhi](#FunctionalEPhi)), restated here"
   ]
  },
  {
   "cell_type": "markdown",
   "metadata": {},
   "source": [
    "$$\n",
    "E[\\Phi] \n",
    "  = \\sum_{\\mu=1}^A \\langle \\mu | h | \\mu \\rangle +\n",
    "  \\frac{1}{2}\\sum_{{\\mu}=1}^A\\sum_{{\\nu}=1}^A \\langle \\mu\\nu|\\hat{v}|\\mu\\nu\\rangle_{AS},\n",
    "$$"
   ]
  },
  {
   "cell_type": "markdown",
   "metadata": {},
   "source": [
    "we found the expression for the energy functional in terms of the basis function $\\phi_{\\lambda}(\\boldsymbol{r})$. We then  varied the above energy functional with respect to the basis functions $|\\mu \\rangle$. \n",
    "Now we are interested in defining a new basis defined in terms of\n",
    "a chosen basis as defined in Eq. ([eq:newbasis](#eq:newbasis)). We can then rewrite the energy functional as"
   ]
  },
  {
   "cell_type": "markdown",
   "metadata": {},
   "source": [
    "<!-- Equation labels as ordinary links -->\n",
    "<div id=\"FunctionalEPhi2\"></div>\n",
    "\n",
    "$$\n",
    "\\begin{equation}\n",
    "  E[\\Phi^{HF}] \n",
    "  = \\sum_{i=1}^A \\langle i | h | i \\rangle +\n",
    "  \\frac{1}{2}\\sum_{ij=1}^A\\langle ij|\\hat{v}|ij\\rangle_{AS}, \\label{FunctionalEPhi2} \\tag{36}\n",
    "\\end{equation}\n",
    "$$"
   ]
  },
  {
   "cell_type": "markdown",
   "metadata": {},
   "source": [
    "where $\\Phi^{HF}$ is the new Slater determinant defined by the new basis of Eq. ([eq:newbasis](#eq:newbasis)). \n",
    "\n",
    "\n",
    "## Hartree-Fock by varying the coefficients of a wave function expansion\n",
    "\n",
    "Using Eq. ([eq:newbasis](#eq:newbasis)) we can rewrite Eq. ([FunctionalEPhi2](#FunctionalEPhi2)) as"
   ]
  },
  {
   "cell_type": "markdown",
   "metadata": {},
   "source": [
    "<!-- Equation labels as ordinary links -->\n",
    "<div id=\"FunctionalEPhi3\"></div>\n",
    "\n",
    "$$\n",
    "\\begin{equation}\n",
    "  E[\\Psi] \n",
    "  = \\sum_{i=1}^A \\sum_{\\alpha\\beta} C^*_{i\\alpha}C_{i\\beta}\\langle \\alpha | h | \\beta \\rangle +\n",
    "  \\frac{1}{2}\\sum_{ij=1}^A\\sum_{{\\alpha\\beta\\gamma\\delta}} C^*_{i\\alpha}C^*_{j\\beta}C_{i\\gamma}C_{j\\delta}\\langle \\alpha\\beta|\\hat{v}|\\gamma\\delta\\rangle_{AS}. \\label{FunctionalEPhi3} \\tag{37}\n",
    "\\end{equation}\n",
    "$$"
   ]
  },
  {
   "cell_type": "markdown",
   "metadata": {},
   "source": [
    "## Hartree-Fock by varying the coefficients of a wave function expansion\n",
    "\n",
    "We wish now to minimize the above functional. We introduce again a set of Lagrange multipliers, noting that\n",
    "since $\\langle i | j \\rangle = \\delta_{i,j}$ and $\\langle \\alpha | \\beta \\rangle = \\delta_{\\alpha,\\beta}$, \n",
    "the coefficients $C_{i\\gamma}$ obey the relation"
   ]
  },
  {
   "cell_type": "markdown",
   "metadata": {},
   "source": [
    "$$\n",
    "\\langle i | j \\rangle=\\delta_{i,j}=\\sum_{\\alpha\\beta} C^*_{i\\alpha}C_{i\\beta}\\langle \\alpha | \\beta \\rangle=\n",
    "\\sum_{\\alpha} C^*_{i\\alpha}C_{i\\alpha},\n",
    "$$"
   ]
  },
  {
   "cell_type": "markdown",
   "metadata": {},
   "source": [
    "which allows us to define a functional to be minimized that reads"
   ]
  },
  {
   "cell_type": "markdown",
   "metadata": {},
   "source": [
    "<!-- Equation labels as ordinary links -->\n",
    "<div id=\"_auto9\"></div>\n",
    "\n",
    "$$\n",
    "\\begin{equation}\n",
    "  F[\\Phi^{HF}]=E[\\Phi^{HF}] - \\sum_{i=1}^A\\epsilon_i\\sum_{\\alpha} C^*_{i\\alpha}C_{i\\alpha}.\n",
    "\\label{_auto9} \\tag{38}\n",
    "\\end{equation}\n",
    "$$"
   ]
  },
  {
   "cell_type": "markdown",
   "metadata": {},
   "source": [
    "## Hartree-Fock by varying the coefficients of a wave function expansion\n",
    "\n",
    "Minimizing with respect to $C^*_{i\\alpha}$, remembering that the equations for $C^*_{i\\alpha}$ and $C_{i\\alpha}$\n",
    "can be written as two  independent equations, we obtain"
   ]
  },
  {
   "cell_type": "markdown",
   "metadata": {},
   "source": [
    "$$\n",
    "\\frac{d}{dC^*_{i\\alpha}}\\left[  E[\\Phi^{HF}] - \\sum_{j}\\epsilon_j\\sum_{\\alpha} C^*_{j\\alpha}C_{j\\alpha}\\right]=0,\n",
    "$$"
   ]
  },
  {
   "cell_type": "markdown",
   "metadata": {},
   "source": [
    "which yields for every single-particle state $i$ and index $\\alpha$ (recalling that the coefficients $C_{i\\alpha}$ are matrix elements of a unitary (or orthogonal for a real symmetric matrix) matrix)\n",
    "the following Hartree-Fock equations"
   ]
  },
  {
   "cell_type": "markdown",
   "metadata": {},
   "source": [
    "$$\n",
    "\\sum_{\\beta} C_{i\\beta}\\langle \\alpha | h | \\beta \\rangle+\n",
    "\\sum_{j=1}^A\\sum_{\\beta\\gamma\\delta} C^*_{j\\beta}C_{j\\delta}C_{i\\gamma}\\langle \\alpha\\beta|\\hat{v}|\\gamma\\delta\\rangle_{AS}=\\epsilon_i^{HF}C_{i\\alpha}.\n",
    "$$"
   ]
  },
  {
   "cell_type": "markdown",
   "metadata": {},
   "source": [
    "## Hartree-Fock by varying the coefficients of a wave function expansion\n",
    "\n",
    "We can rewrite this equation as (changing dummy variables)"
   ]
  },
  {
   "cell_type": "markdown",
   "metadata": {},
   "source": [
    "$$\n",
    "\\sum_{\\beta} \\left\\{\\langle \\alpha | h | \\beta \\rangle+\n",
    "\\sum_{j}^A\\sum_{\\gamma\\delta} C^*_{j\\gamma}C_{j\\delta}\\langle \\alpha\\gamma|\\hat{v}|\\beta\\delta\\rangle_{AS}\\right\\}C_{i\\beta}=\\epsilon_i^{HF}C_{i\\alpha}.\n",
    "$$"
   ]
  },
  {
   "cell_type": "markdown",
   "metadata": {},
   "source": [
    "Note that the sums over greek indices run over the number of basis set functions (in principle an infinite number).\n",
    "\n",
    "\n",
    "## Hartree-Fock by varying the coefficients of a wave function expansion\n",
    "\n",
    "Defining"
   ]
  },
  {
   "cell_type": "markdown",
   "metadata": {},
   "source": [
    "$$\n",
    "h_{\\alpha\\beta}^{HF}=\\langle \\alpha | h | \\beta \\rangle+\n",
    "\\sum_{j=1}^A\\sum_{\\gamma\\delta} C^*_{j\\gamma}C_{j\\delta}\\langle \\alpha\\gamma|\\hat{v}|\\beta\\delta\\rangle_{AS},\n",
    "$$"
   ]
  },
  {
   "cell_type": "markdown",
   "metadata": {},
   "source": [
    "we can rewrite the new equations as"
   ]
  },
  {
   "cell_type": "markdown",
   "metadata": {},
   "source": [
    "<!-- Equation labels as ordinary links -->\n",
    "<div id=\"eq:newhf\"></div>\n",
    "\n",
    "$$\n",
    "\\begin{equation}\n",
    "\\sum_{\\gamma}h_{\\alpha\\beta}^{HF}C_{i\\beta}=\\epsilon_i^{HF}C_{i\\alpha}. \\label{eq:newhf} \\tag{39}\n",
    "\\end{equation}\n",
    "$$"
   ]
  },
  {
   "cell_type": "markdown",
   "metadata": {},
   "source": [
    "The latter is nothing but a standard eigenvalue problem. \n",
    "\n",
    "It suffices to tabulate the matrix elements $\\langle \\alpha | h | \\beta \\rangle$ and $\\langle \\alpha\\gamma|\\hat{v}|\\beta\\delta\\rangle_{AS}$ once and for all. Successive iterations require thus only a look-up in tables over one-body and two-body matrix elements. These details will be discussed below when we solve the Hartree-Fock equations numerically. \n",
    "\n",
    "\n",
    "## Hartree-Fock algorithm\n",
    "\n",
    "Our Hartree-Fock matrix  is thus"
   ]
  },
  {
   "cell_type": "markdown",
   "metadata": {},
   "source": [
    "$$\n",
    "\\hat{h}_{\\alpha\\beta}^{HF}=\\langle \\alpha | \\hat{h}_0 | \\beta \\rangle+\n",
    "\\sum_{j=1}^A\\sum_{\\gamma\\delta} C^*_{j\\gamma}C_{j\\delta}\\langle \\alpha\\gamma|\\hat{v}|\\beta\\delta\\rangle_{AS}.\n",
    "$$"
   ]
  },
  {
   "cell_type": "markdown",
   "metadata": {},
   "source": [
    "The Hartree-Fock equations are solved in an iterative waym starting with a guess for the coefficients $C_{j\\gamma}=\\delta_{j,\\gamma}$ and solving the equations by diagonalization till the new single-particle energies\n",
    "$\\epsilon_i^{\\mathrm{HF}}$ do not change anymore by a prefixed quantity. \n",
    "\n",
    "\n",
    "## Hartree-Fock algorithm\n",
    "\n",
    "Normally we assume that the single-particle basis $|\\beta\\rangle$ forms an eigenbasis for the operator\n",
    "$\\hat{h}_0$, meaning that the Hartree-Fock matrix becomes"
   ]
  },
  {
   "cell_type": "markdown",
   "metadata": {},
   "source": [
    "$$\n",
    "\\hat{h}_{\\alpha\\beta}^{HF}=\\epsilon_{\\alpha}\\delta_{\\alpha,\\beta}+\n",
    "\\sum_{j=1}^A\\sum_{\\gamma\\delta} C^*_{j\\gamma}C_{j\\delta}\\langle \\alpha\\gamma|\\hat{v}|\\beta\\delta\\rangle_{AS}.\n",
    "$$"
   ]
  },
  {
   "cell_type": "markdown",
   "metadata": {},
   "source": [
    "The Hartree-Fock eigenvalue problem"
   ]
  },
  {
   "cell_type": "markdown",
   "metadata": {},
   "source": [
    "$$\n",
    "\\sum_{\\beta}\\hat{h}_{\\alpha\\beta}^{HF}C_{i\\beta}=\\epsilon_i^{\\mathrm{HF}}C_{i\\alpha},\n",
    "$$"
   ]
  },
  {
   "cell_type": "markdown",
   "metadata": {},
   "source": [
    "can be written out in a more compact form as"
   ]
  },
  {
   "cell_type": "markdown",
   "metadata": {},
   "source": [
    "$$\n",
    "\\hat{h}^{HF}\\hat{C}=\\epsilon^{\\mathrm{HF}}\\hat{C}.\n",
    "$$"
   ]
  },
  {
   "cell_type": "markdown",
   "metadata": {},
   "source": [
    "## Hartree-Fock algorithm\n",
    "\n",
    "The Hartree-Fock equations are, in their simplest form, solved in an iterative way, starting with a guess for the\n",
    "coefficients $C_{i\\alpha}$. We label the coefficients as $C_{i\\alpha}^{(n)}$, where the subscript $n$ stands for iteration $n$.\n",
    "To set up the algorithm we can proceed as follows:\n",
    "\n",
    " * We start with a guess $C_{i\\alpha}^{(0)}=\\delta_{i,\\alpha}$. Alternatively, we could have used random starting values as long as the vectors are normalized. Another possibility is to give states below the Fermi level a larger weight.\n",
    "\n",
    " * The Hartree-Fock matrix simplifies then to (assuming that the coefficients $C_{i\\alpha} $  are real)"
   ]
  },
  {
   "cell_type": "markdown",
   "metadata": {},
   "source": [
    "$$\n",
    "\\hat{h}_{\\alpha\\beta}^{HF}=\\epsilon_{\\alpha}\\delta_{\\alpha,\\beta}+\n",
    "\\sum_{j = 1}^A\\sum_{\\gamma\\delta} C_{j\\gamma}^{(0)}C_{j\\delta}^{(0)}\\langle \\alpha\\gamma|\\hat{v}|\\beta\\delta\\rangle_{AS}.\n",
    "$$"
   ]
  },
  {
   "cell_type": "markdown",
   "metadata": {},
   "source": [
    "## Hartree-Fock algorithm\n",
    "\n",
    "Solving the Hartree-Fock eigenvalue problem yields then new eigenvectors $C_{i\\alpha}^{(1)}$ and eigenvalues\n",
    "$\\epsilon_i^{HF(1)}$. \n",
    " * With the new eigenvalues we can set up a new Hartree-Fock potential"
   ]
  },
  {
   "cell_type": "markdown",
   "metadata": {},
   "source": [
    "$$\n",
    "\\sum_{j = 1}^A\\sum_{\\gamma\\delta} C_{j\\gamma}^{(1)}C_{j\\delta}^{(1)}\\langle \\alpha\\gamma|\\hat{v}|\\beta\\delta\\rangle_{AS}.\n",
    "$$"
   ]
  },
  {
   "cell_type": "markdown",
   "metadata": {},
   "source": [
    "The diagonalization with the new Hartree-Fock potential yields new eigenvectors and eigenvalues.\n",
    "This process is continued till for example"
   ]
  },
  {
   "cell_type": "markdown",
   "metadata": {},
   "source": [
    "$$\n",
    "\\frac{\\sum_{p} |\\epsilon_i^{(n)}-\\epsilon_i^{(n-1)}|}{m} \\le \\lambda,\n",
    "$$"
   ]
  },
  {
   "cell_type": "markdown",
   "metadata": {},
   "source": [
    "where $\\lambda$ is a user prefixed quantity ($\\lambda \\sim 10^{-8}$ or smaller) and $p$ runs over all calculated single-particle\n",
    "energies and $m$ is the number of single-particle states.\n",
    "\n",
    "\n",
    "## Analysis of Hartree-Fock equations and Koopman's theorem\n",
    "\n",
    "We can rewrite the ground state energy by adding and subtracting $\\hat{u}^{HF}(x_i)$"
   ]
  },
  {
   "cell_type": "markdown",
   "metadata": {},
   "source": [
    "$$\n",
    "E_0^{HF} =\\langle \\Phi_0 | \\hat{H} | \\Phi_0\\rangle = \n",
    "\\sum_{i\\le F}^A \\langle i | \\hat{h}_0 +\\hat{u}^{HF}| j\\rangle+ \\frac{1}{2}\\sum_{i\\le F}^A\\sum_{j \\le F}^A\\left[\\langle ij |\\hat{v}|ij \\rangle-\\langle ij|\\hat{v}|ji\\rangle\\right]-\\sum_{i\\le F}^A \\langle i |\\hat{u}^{HF}| i\\rangle,\n",
    "$$"
   ]
  },
  {
   "cell_type": "markdown",
   "metadata": {},
   "source": [
    "which results in"
   ]
  },
  {
   "cell_type": "markdown",
   "metadata": {},
   "source": [
    "$$\n",
    "E_0^{HF}\n",
    "  = \\sum_{i\\le F}^A \\varepsilon_i^{HF} + \\frac{1}{2}\\sum_{i\\le F}^A\\sum_{j \\le F}^A\\left[\\langle ij |\\hat{v}|ij \\rangle-\\langle ij|\\hat{v}|ji\\rangle\\right]-\\sum_{i\\le F}^A \\langle i |\\hat{u}^{HF}| i\\rangle.\n",
    "$$"
   ]
  },
  {
   "cell_type": "markdown",
   "metadata": {},
   "source": [
    "Our single-particle states $ijk\\dots$ are now single-particle states obtained from the solution of the Hartree-Fock equations.\n",
    "\n",
    "\n",
    "## Analysis of Hartree-Fock equations and Koopman's theorem\n",
    "\n",
    "Using our definition of the Hartree-Fock single-particle energies we obtain then the following expression for the total ground-state energy"
   ]
  },
  {
   "cell_type": "markdown",
   "metadata": {},
   "source": [
    "$$\n",
    "E_0^{HF}\n",
    "  = \\sum_{i\\le F}^A \\varepsilon_i - \\frac{1}{2}\\sum_{i\\le F}^A\\sum_{j \\le F}^A\\left[\\langle ij |\\hat{v}|ij \\rangle-\\langle ij|\\hat{v}|ji\\rangle\\right].\n",
    "$$"
   ]
  },
  {
   "cell_type": "markdown",
   "metadata": {},
   "source": [
    "This form will be used in our discussion of Koopman's theorem.\n",
    "\n",
    "\n",
    "## Analysis of Hartree-Fock equations and Koopman's theorem\n",
    "  Atomic physics case\n",
    "We have"
   ]
  },
  {
   "cell_type": "markdown",
   "metadata": {},
   "source": [
    "$$\n",
    "E[\\Phi^{\\mathrm{HF}}(N)] \n",
    "  = \\sum_{i=1}^H \\langle i | \\hat{h}_0 | i \\rangle +\n",
    "  \\frac{1}{2}\\sum_{ij=1}^N\\langle ij|\\hat{v}|ij\\rangle_{AS},\n",
    "$$"
   ]
  },
  {
   "cell_type": "markdown",
   "metadata": {},
   "source": [
    "where $\\Phi^{\\mathrm{HF}}(N)$ is the new Slater determinant defined by the new basis of Eq. ([eq:newbasis](#eq:newbasis))\n",
    "for $N$ electrons (same $Z$).  If we assume that the single-particle wave functions in the new basis do not change \n",
    "when we remove one electron or add one electron, we can then define the corresponding energy for the $N-1$ systems as"
   ]
  },
  {
   "cell_type": "markdown",
   "metadata": {},
   "source": [
    "$$\n",
    "E[\\Phi^{\\mathrm{HF}}(N-1)] \n",
    "  = \\sum_{i=1; i\\ne k}^N \\langle i | \\hat{h}_0 | i \\rangle +\n",
    "  \\frac{1}{2}\\sum_{ij=1;i,j\\ne k}^N\\langle ij|\\hat{v}|ij\\rangle_{AS},\n",
    "$$"
   ]
  },
  {
   "cell_type": "markdown",
   "metadata": {},
   "source": [
    "where we have removed a single-particle state $k\\le F$, that is a state below the Fermi level.  \n",
    "\n",
    "\n",
    "## Analysis of Hartree-Fock equations and Koopman's theorem\n",
    "\n",
    "Calculating the difference"
   ]
  },
  {
   "cell_type": "markdown",
   "metadata": {},
   "source": [
    "$$\n",
    "E[\\Phi^{\\mathrm{HF}}(N)]-   E[\\Phi^{\\mathrm{HF}}(N-1)] = \\langle k | \\hat{h}_0 | k \\rangle +\n",
    "  \\frac{1}{2}\\sum_{i=1;i\\ne k}^N\\langle ik|\\hat{v}|ik\\rangle_{AS}  \\frac{1}{2}\\sum_{j=1;j\\ne k}^N\\langle kj|\\hat{v}|kj\\rangle_{AS},\n",
    "$$"
   ]
  },
  {
   "cell_type": "markdown",
   "metadata": {},
   "source": [
    "we obtain"
   ]
  },
  {
   "cell_type": "markdown",
   "metadata": {},
   "source": [
    "$$\n",
    "E[\\Phi^{\\mathrm{HF}}(N)]-   E[\\Phi^{\\mathrm{HF}}(N-1)] = \\langle k | \\hat{h}_0 | k \\rangle +\n",
    "  \\frac{1}{2}\\sum_{j=1}^N\\langle kj|\\hat{v}|kj\\rangle_{AS}\n",
    "$$"
   ]
  },
  {
   "cell_type": "markdown",
   "metadata": {},
   "source": [
    "which is just our definition of the Hartree-Fock single-particle energy"
   ]
  },
  {
   "cell_type": "markdown",
   "metadata": {},
   "source": [
    "$$\n",
    "E[\\Phi^{\\mathrm{HF}}(N)]-   E[\\Phi^{\\mathrm{HF}}(N-1)] = \\epsilon_k^{\\mathrm{HF}}\n",
    "$$"
   ]
  },
  {
   "cell_type": "markdown",
   "metadata": {},
   "source": [
    "## Analysis of Hartree-Fock equations and Koopman's theorem\n",
    "\n",
    "Similarly, we can now compute the difference (we label the single-particle states above the Fermi level as $abcd > F$)"
   ]
  },
  {
   "cell_type": "markdown",
   "metadata": {},
   "source": [
    "$$\n",
    "E[\\Phi^{\\mathrm{HF}}(N+1)]-   E[\\Phi^{\\mathrm{HF}}(N)]= \\epsilon_a^{\\mathrm{HF}}.\n",
    "$$"
   ]
  },
  {
   "cell_type": "markdown",
   "metadata": {},
   "source": [
    "These two equations can thus be used to the electron affinity or ionization energies, respectively. \n",
    "Koopman's theorem states that for example the ionization energy of a closed-shell system is given by the energy of the highest occupied single-particle state.  If we assume that changing the number of electrons from $N$ to $N+1$ does not change the Hartree-Fock single-particle energies and eigenfunctions, then Koopman's theorem simply states that the ionization energy of an atom is given by the single-particle energy of the last bound state. In a similar way, we can also define the electron affinities. \n",
    "\n",
    "\n",
    "## Analysis of Hartree-Fock equations and Koopman's theorem\n",
    "\n",
    "As an example, consider a simple model for atomic sodium, Na. Neutral sodium has eleven electrons, \n",
    "with the weakest bound one being confined the $3s$ single-particle quantum numbers. The energy needed to remove an electron from neutral sodium is rather small, 5.1391 eV, a feature which pertains to all alkali metals.\n",
    "Having performed a  Hartree-Fock calculation for neutral sodium would then allows us to compute the\n",
    "ionization energy by using the single-particle energy for the $3s$ states, namely $\\epsilon_{3s}^{\\mathrm{HF}}$. \n",
    "\n",
    "From these considerations, we see that Hartree-Fock theory allows us to make a connection between experimental \n",
    "observables (here ionization and affinity energies) and the underlying interactions between particles.  \n",
    "In this sense, we are now linking the dynamics and structure of a many-body system with the laws of motion which govern the system. Our approach is a reductionistic one, meaning that we want to understand the laws of motion \n",
    "in terms of the particles or degrees of freedom which we believe are the fundamental ones. Our Slater determinant, being constructed as the product of various single-particle functions, follows this philosophy.\n",
    "\n",
    "\n",
    "\n",
    "\n",
    "\n",
    "<!-- --- begin exercise --- -->\n",
    "\n",
    "## Exercise 1: Hartree-Fock Slater determinant\n",
    "\n",
    "Consider a Slater determinant built up of orthogonal single-particle orbitals $\\psi_{\\lambda}$, \n",
    "with $\\lambda = 1,2,\\dots,A$.\n",
    "\n",
    "The unitary transformation"
   ]
  },
  {
   "cell_type": "markdown",
   "metadata": {},
   "source": [
    "$$\n",
    "\\psi_a  = \\sum_{\\lambda} C_{a\\lambda}\\phi_{\\lambda},\n",
    "$$"
   ]
  },
  {
   "cell_type": "markdown",
   "metadata": {},
   "source": [
    "brings us into the new basis.  \n",
    "The new basis has quantum numbers $a=1,2,\\dots,A$.\n",
    "\n",
    "\n",
    "**a)**\n",
    "Show that the new basis is orthogonal.\n",
    "\n",
    "**b)**\n",
    "Show that the new Slater determinant constructed from the new single-particle wave functions can be\n",
    "written as the determinant based on the previous basis and the determinant of the matrix $C$.\n",
    "\n",
    "**c)**\n",
    "Show that the old and the new Slater determinants are equal up to a complex constant with absolute value unity.\n",
    "\n",
    "<!-- --- begin hint in exercise --- -->\n",
    "\n",
    "**Hint.**\n",
    "Hint: $C$ is a unitary matrix.\n",
    "\n",
    "<!-- --- end hint in exercise --- -->\n",
    "\n",
    "\n",
    "\n",
    "\n",
    "<!-- --- end exercise --- -->\n",
    "\n",
    "\n",
    "\n",
    "\n",
    "<!-- --- begin exercise --- -->\n",
    "\n",
    "## Exercise 2: Matrix elements for the Hartree-Fock method and the nuclear shell model\n",
    "\n",
    "We will assume that we can build various Slater determinants using an orthogonal  single-particle basis $\\psi_{\\lambda}$, \n",
    "with $\\lambda = 1,2,\\dots,A$. \n",
    "\n",
    "\n",
    "The aim of this exercise is to set up specific matrix elements that will turn useful when we start our discussions of the nuclear shell model. In particular you will notice, depending on the character of the operator, that many matrix elements will actually be zero.\n",
    "\n",
    "Consider three $A$-particle  Slater determinants  $|\\Phi_0$, $|\\Phi_i^a\\rangle$ and $|\\Phi_{ij}^{ab}\\rangle$, where the notation means that \n",
    "Slater determinant $|\\Phi_i^a\\rangle$ differs from $|\\Phi_0\\rangle$ by one single-particle state, that is a single-particle\n",
    "state $\\psi_i$ is replaced by a single-particle state $\\psi_a$. \n",
    "It will later be interpreted as a so-called one-particle-one-hole excitation.\n",
    "Similarly, the Slater determinant $|\\Phi_{ij}^{ab}\\rangle$\n",
    "differs by two single-particle states from $|\\Phi_0\\rangle$ and is normally thought of as a two-particle-two-hole excitation.\n",
    "\n",
    "Define a general onebody operator $\\hat{F} = \\sum_{i}^A\\hat{f}(x_{i})$ and a general  twobody operator $\\hat{G}=\\sum_{i>j}^A\\hat{g}(x_{i},x_{j})$ with $g$ being invariant under the interchange of the coordinates of particles $i$ and $j$. You can use here the results from the second exercise set, exercise 3.\n",
    "\n",
    "\n",
    "**a)**\n",
    "Calculate"
   ]
  },
  {
   "cell_type": "markdown",
   "metadata": {},
   "source": [
    "$$\n",
    "\\langle \\Phi_0 \\vert\\hat{F}\\vert\\Phi_0\\rangle,\n",
    "$$"
   ]
  },
  {
   "cell_type": "markdown",
   "metadata": {},
   "source": [
    "and"
   ]
  },
  {
   "cell_type": "markdown",
   "metadata": {},
   "source": [
    "$$\n",
    "\\langle \\Phi_0\\vert\\hat{G}|\\Phi_0\\rangle.\n",
    "$$"
   ]
  },
  {
   "cell_type": "markdown",
   "metadata": {},
   "source": [
    "**b)**\n",
    "Find thereafter"
   ]
  },
  {
   "cell_type": "markdown",
   "metadata": {},
   "source": [
    "$$\n",
    "\\langle \\Phi_0 |\\hat{F}|\\Phi_i^a\\rangle,\n",
    "$$"
   ]
  },
  {
   "cell_type": "markdown",
   "metadata": {},
   "source": [
    "and"
   ]
  },
  {
   "cell_type": "markdown",
   "metadata": {},
   "source": [
    "$$\n",
    "\\langle \\Phi_0|\\hat{G}|\\Phi_i^a\\rangle,\n",
    "$$"
   ]
  },
  {
   "cell_type": "markdown",
   "metadata": {},
   "source": [
    "**c)**\n",
    "Finally, find"
   ]
  },
  {
   "cell_type": "markdown",
   "metadata": {},
   "source": [
    "$$\n",
    "\\langle \\Phi_0 |\\hat{F}|\\Phi_{ij}^{ab}\\rangle,\n",
    "$$"
   ]
  },
  {
   "cell_type": "markdown",
   "metadata": {},
   "source": [
    "and"
   ]
  },
  {
   "cell_type": "markdown",
   "metadata": {},
   "source": [
    "$$\n",
    "\\langle \\Phi_0|\\hat{G}|\\Phi_{ij}^{ab}\\rangle.\n",
    "$$"
   ]
  },
  {
   "cell_type": "markdown",
   "metadata": {},
   "source": [
    "What happens with the two-body operator if we have a transition probability  of the type"
   ]
  },
  {
   "cell_type": "markdown",
   "metadata": {},
   "source": [
    "$$\n",
    "\\langle \\Phi_0|\\hat{G}|\\Phi_{ijk}^{abc}\\rangle,\n",
    "$$"
   ]
  },
  {
   "cell_type": "markdown",
   "metadata": {},
   "source": [
    "where the Slater determinant to the right of the operator differs by more than two single-particle states?\n",
    "\n",
    "**d)**\n",
    "With an orthogonal basis of Slater determinants $\\Phi_{\\lambda}$, we can now construct an exact many-body state as a linear expansion of Slater determinants, that is, a given exact state"
   ]
  },
  {
   "cell_type": "markdown",
   "metadata": {},
   "source": [
    "$$\n",
    "\\Psi_i = \\sum_{\\lambda =0}^{\\infty}C_{i\\lambda}\\Phi_{\\lambda}.\n",
    "$$"
   ]
  },
  {
   "cell_type": "markdown",
   "metadata": {},
   "source": [
    "In all practical calculations the infinity is replaced by a given truncation in the sum. \n",
    "\n",
    "If you are to compute the expectation value of (at most) a two-body Hamiltonian for the above\n",
    "exact state"
   ]
  },
  {
   "cell_type": "markdown",
   "metadata": {},
   "source": [
    "$$\n",
    "\\langle \\Psi_i \\vert \\hat{H} \\vert \\Psi_i\\rangle,\n",
    "$$"
   ]
  },
  {
   "cell_type": "markdown",
   "metadata": {},
   "source": [
    "based on the calculations above, which are the only elements which will contribute?  (there is no need to perform any calculation here, use your results from exercises a), b), and c)).\n",
    "\n",
    "These results simplify to a large extent shell-model calculations.\n",
    "\n",
    "\n",
    "<!-- --- end exercise --- -->\n",
    "\n",
    "\n",
    "## Developing a  Hartree-Fock program\n",
    "\n",
    "\n",
    "The Hamiltonian for a system of $N$ electrons confined in a\n",
    "harmonic potential reads"
   ]
  },
  {
   "cell_type": "markdown",
   "metadata": {},
   "source": [
    "$$\n",
    "\\hat{H} = \\sum_{i=1}^{N} \\frac{\\hat{p}_{i}^{2}}{2m}+\\sum_{i=1}^{N} \\frac{1}{2} m\\omega {r}_{i}^{2}+\\sum_{i<j} \\hat{V}_{ij},\n",
    "$$"
   ]
  },
  {
   "cell_type": "markdown",
   "metadata": {},
   "source": [
    "with  $\\hat{V}_{ij}$ is the two-body potential whose \n",
    "matrix elements are calculated on fly in your program. See expression below.\n",
    "\n",
    "The Hartree-Fock algorithm can be broken down as follows. We recall that  our Hartree-Fock matrix  is"
   ]
  },
  {
   "cell_type": "markdown",
   "metadata": {},
   "source": [
    "$$\n",
    "\\hat{h}_{\\alpha\\beta}^{HF}=\\langle \\alpha \\vert\\hat{h}_0 \\vert \\beta \\rangle+\n",
    "\\sum_{j=1}^N\\sum_{\\gamma\\delta} C^*_{j\\gamma}C_{j\\delta}\\langle \\alpha\\gamma|V|\\beta\\delta\\rangle_{AS}.\n",
    "$$"
   ]
  },
  {
   "cell_type": "markdown",
   "metadata": {},
   "source": [
    "Normally we assume that the single-particle basis $\\vert\\beta\\rangle$\n",
    "forms an eigenbasis for the operator $\\hat{h}_0$ (this is our case), meaning that the\n",
    "Hartree-Fock matrix becomes"
   ]
  },
  {
   "cell_type": "markdown",
   "metadata": {},
   "source": [
    "$$\n",
    "\\hat{h}_{\\alpha\\beta}^{HF}=\\epsilon_{\\alpha}\\delta_{\\alpha,\\beta}+\n",
    "\\sum_{j=1}^N\\sum_{\\gamma\\delta} C^*_{j\\gamma}C_{j\\delta}\\langle \\alpha\\gamma|V|\\beta\\delta\\rangle_{AS}.\n",
    "$$"
   ]
  },
  {
   "cell_type": "markdown",
   "metadata": {},
   "source": [
    "The Hartree-Fock eigenvalue problem"
   ]
  },
  {
   "cell_type": "markdown",
   "metadata": {},
   "source": [
    "$$\n",
    "\\sum_{\\beta}\\hat{h}_{\\alpha\\beta}^{HF}C_{i\\beta}=\\epsilon_i^{\\mathrm{HF}}C_{i\\alpha},\n",
    "$$"
   ]
  },
  {
   "cell_type": "markdown",
   "metadata": {},
   "source": [
    "can be written out in a more compact form as"
   ]
  },
  {
   "cell_type": "markdown",
   "metadata": {},
   "source": [
    "$$\n",
    "\\hat{h}^{HF}\\hat{C}=\\epsilon^{\\mathrm{HF}}\\hat{C}.\n",
    "$$"
   ]
  },
  {
   "cell_type": "markdown",
   "metadata": {},
   "source": [
    "The equations are often rewritten in terms of a so-called density matrix,\n",
    "which is defined as"
   ]
  },
  {
   "cell_type": "markdown",
   "metadata": {},
   "source": [
    "<!-- Equation labels as ordinary links -->\n",
    "<div id=\"_auto10\"></div>\n",
    "\n",
    "$$\n",
    "\\begin{equation}\n",
    "\\rho_{\\gamma\\delta}=\\sum_{i=1}^{N}\\langle\\gamma|i\\rangle\\langle i|\\delta\\rangle = \\sum_{i=1}^{N}C_{i\\gamma}C^*_{i\\delta}.\n",
    "\\label{_auto10} \\tag{40}\n",
    "\\end{equation}\n",
    "$$"
   ]
  },
  {
   "cell_type": "markdown",
   "metadata": {},
   "source": [
    "It means that we can rewrite the Hartree-Fock Hamiltonian as"
   ]
  },
  {
   "cell_type": "markdown",
   "metadata": {},
   "source": [
    "$$\n",
    "\\hat{h}_{\\alpha\\beta}^{HF}=\\epsilon_{\\alpha}\\delta_{\\alpha,\\beta}+\n",
    "\\sum_{\\gamma\\delta} \\rho_{\\gamma\\delta}\\langle \\alpha\\gamma|V|\\beta\\delta\\rangle_{AS}.\n",
    "$$"
   ]
  },
  {
   "cell_type": "markdown",
   "metadata": {},
   "source": [
    "It is convenient to use the density matrix since we can precalculate in every iteration the product of two eigenvector components $C$. \n",
    "\n",
    "\n",
    "## [Program for computing the Coulomb interaction in polar coordinates](https://github.com/CompPhysics/ComputationalPhysics2/tree/gh-pages/doc/Programs/HFcode/python/hf.py)\n",
    "\n",
    "Here we show a simple code in python for a Hartree-Fock calculation using precalculated matrix elements."
   ]
  },
  {
   "cell_type": "code",
   "execution_count": 1,
   "metadata": {
    "collapsed": false
   },
   "outputs": [],
   "source": [
    "import numpy as np \n",
    "from decimal import Decimal\n",
    "# expectation value for the one body part, Harmonic oscillator in three dimensions\n",
    "def onebody(i, n, l):\n",
    "\thomega = 10.0\n",
    "\treturn homega*(2*n[i] + l[i] + 1.5)\n",
    "\n",
    "if __name__ == '__main__':\n",
    "\t\n",
    "        Nparticles = 16\n",
    "\t\"\"\" Read quantum numbers from file \"\"\"\n",
    "        index = []\n",
    "\tn = []\n",
    "        l = []\n",
    "        j = []\t\n",
    "        mj = []\n",
    "        tz = []\n",
    "\tspOrbitals = 0\n",
    "\twith open(\"nucleispnumbers.dat\", \"r\") as qnumfile:\n",
    "\t\tfor line in qnumfile:\n",
    "\t\t\tnums = line.split()\n",
    "\t\t\tif len(nums) != 0:\n",
    "\t\t\t\tindex.append(int(nums[0]))\n",
    "\t\t\t\tn.append(int(nums[1]))\n",
    "\t\t\t\tl.append(int(nums[2]))\n",
    "\t\t\t\tj.append(int(nums[3]))\n",
    "\t\t\t\tmj.append(int(nums[4]))\n",
    "\t\t\t\ttz.append(int(nums[5]))\n",
    "\t\t\t\tspOrbitals += 1\n",
    "\n",
    "\n",
    "\t\"\"\" Read two-nucleon interaction elements (integrals) from file, brute force 4-dim array \"\"\"\n",
    "\tnninteraction = np.zeros([spOrbitals, spOrbitals, spOrbitals, spOrbitals])\n",
    "\twith open(\"nucleitwobody.dat\", \"r\") as infile:\n",
    "\t\tfor line in infile:\n",
    "\t\t\tnumber = line.split()\n",
    "\t\t\ta = int(number[0]) - 1\n",
    "\t\t\tb = int(number[1]) - 1\n",
    "\t\t\tc = int(number[2]) - 1\n",
    "\t\t\td = int(number[3]) - 1\n",
    "\t\t\t#print a, b, c, d, float(l[4])\n",
    "\t\t\tnninteraction[a][b][c][d] = Decimal(number[4])\n",
    "\t\"\"\" Set up single-particle integral \"\"\"\n",
    "\tsingleparticleH = np.zeros(spOrbitals)\n",
    "\tfor i in range(spOrbitals):\n",
    "\t\tsingleparticleH[i] = Decimal(onebody(i, n, l))\n",
    "\t\n",
    "\t\"\"\" Star HF-iterations, preparing variables and density matrix \"\"\"\n",
    "\n",
    "        \"\"\" Coefficients for setting up density matrix, assuming only one along the diagonals \"\"\"\n",
    "\tC = np.eye(spOrbitals) # HF coefficients\n",
    "        DensityMatrix = np.zeros([spOrbitals,spOrbitals])\n",
    "        for gamma in range(spOrbitals):\n",
    "            for delta in range(spOrbitals):\n",
    "                sum = 0.0\n",
    "                for i in range(Nparticles):\n",
    "                    sum += C[gamma][i]*C[delta][i]\n",
    "                DensityMatrix[gamma][delta] = Decimal(sum)\n",
    "        maxHFiter = 100\n",
    "        epsilon =  1.0e-5 \n",
    "        difference = 1.0\n",
    "\thf_count = 0\n",
    "\toldenergies = np.zeros(spOrbitals)\n",
    "\tnewenergies = np.zeros(spOrbitals)\n",
    "\twhile hf_count < maxHFiter and difference > epsilon:\n",
    "\t\tprint \"############### Iteration %i ###############\" % hf_count\n",
    "   \t        HFmatrix = np.zeros([spOrbitals,spOrbitals])\t\t\n",
    "\t\tfor alpha in range(spOrbitals):\n",
    "\t\t\tfor beta in range(spOrbitals):\n",
    "                            \"\"\"  If tests for three-dimensional systems, including isospin conservation \"\"\"\n",
    "                            if l[alpha] != l[beta] and j[alpha] != j[beta] and mj[alpha] != mj[beta] and tz[alpha] != tz[beta]: continue\n",
    "                            \"\"\"  Setting up the Fock matrix using the density matrix and antisymmetrized NN interaction in m-scheme \"\"\"\n",
    "     \t\t            sumFockTerm = 0.0\n",
    "                            for gamma in range(spOrbitals):\n",
    "                                for delta in range(spOrbitals):\n",
    "                                    if (mj[alpha]+mj[gamma]) != (mj[beta]+mj[delta]) and (tz[alpha]+tz[gamma]) != (tz[beta]+tz[delta]): continue\n",
    "                                    sumFockTerm += DensityMatrix[gamma][delta]*nninteraction[alpha][gamma][beta][delta]\n",
    "                            HFmatrix[alpha][beta] = Decimal(sumFockTerm)\n",
    "                            \"\"\"  Adding the one-body term, here plain harmonic oscillator \"\"\"\n",
    "                            if beta == alpha:   HFmatrix[alpha][alpha] += singleparticleH[alpha]\n",
    "\t\tspenergies, C = np.linalg.eigh(HFmatrix)\n",
    "                \"\"\" Setting up new density matrix in m-scheme \"\"\"\n",
    "                DensityMatrix = np.zeros([spOrbitals,spOrbitals])\n",
    "                for gamma in range(spOrbitals):\n",
    "                    for delta in range(spOrbitals):\n",
    "                        sum = 0.0\n",
    "                        for i in range(Nparticles):\n",
    "                            sum += C[gamma][i]*C[delta][i]\n",
    "                        DensityMatrix[gamma][delta] = Decimal(sum)\n",
    "\t\tnewenergies = spenergies\n",
    "                \"\"\" Brute force computation of difference between previous and new sp HF energies \"\"\"\n",
    "                sum =0.0\n",
    "                for i in range(spOrbitals):\n",
    "                    sum += (abs(newenergies[i]-oldenergies[i]))/spOrbitals\n",
    "                difference = sum\n",
    "                oldenergies = newenergies\n",
    "                print \"Single-particle energies, ordering may have changed \"\n",
    "                for i in range(spOrbitals):\n",
    "                    print('{0:4d}  {1:.4f}'.format(i, Decimal(oldenergies[i])))\n",
    "\t\thf_count += 1"
   ]
  },
  {
   "cell_type": "markdown",
   "metadata": {},
   "source": [
    "<!-- !split  -->\n",
    "## Practicalities with the Hartree-Fock code development, basis construction\n",
    "When  setting up the Hartree-Fock algorithm you will find it convenient to number the basis states\n",
    "by filling the lowest subshells. For the first two shells we could then have the following mapping."
   ]
  },
  {
   "cell_type": "markdown",
   "metadata": {},
   "source": [
    "$$\n",
    "\\begin{align*}\n",
    "  \\vert 0\\rangle & = \\{n=0, m=0, m_s = -0.5\\} \\\\ \n",
    "  \\vert 1\\rangle & = \\{n=0, m=0, m_s = 0.5\\} \\\\\n",
    "  \\vert 2\\rangle & = \\{n=0, m=-1, m_s = -0.5\\} \\\\\n",
    "  \\vert 3\\rangle & = \\{n=0, m=-1, m_s = 0.5\\} \\\\\n",
    "  \\vert 4\\rangle & = \\{n=0, m=+1, m_s = -0.5\\} \\\\\n",
    "  \\vert 5\\rangle & = \\{n=0, m=+1, m_s = 0.5\\}   \n",
    "\\end{align*}\n",
    "$$"
   ]
  },
  {
   "cell_type": "markdown",
   "metadata": {},
   "source": [
    "<!-- !split  -->\n",
    "## Practicalities with the Hartree-Fock code development, two-body basis construction, brute force\n",
    "In the setup of the two-body matrix elements we can typically opt between two alternatives. We can read the matrix elements from file or calculate the matrix elements on the fly. The latter requires simply that we \n",
    "call the abovementioned function for setting up the two-body matrix elements when we run our Hartree-Fock code. \n",
    "\n",
    "If we however wish to read from file, we can store the matrix elements in two ways:\n",
    "* Brute force\n",
    "\n",
    "* Organize according to conserved two-body quantum numbers\n",
    "\n",
    "The brute force way is easy to implement. \n",
    "\n",
    "<!-- !split  -->\n",
    "## Two-body interaction, brute force part I\n",
    "We can read in from file the two-body interaction matrix elements or compute once and for all and store in\n",
    "memory.\n",
    "The elements are"
   ]
  },
  {
   "cell_type": "markdown",
   "metadata": {},
   "source": [
    "$$\n",
    "\\langle pr | \\hat{v}|qs\\rangle.\n",
    "$$"
   ]
  },
  {
   "cell_type": "markdown",
   "metadata": {},
   "source": [
    "The time-consuming part in the Hartree-Fock calculations\n",
    "involves the calculation of the two-body matrix. Furthermore, the\n",
    "storage of these matrix elements plays also an important role, in\n",
    "particular we wish to access the table of matrix elements as fast as\n",
    "possible.  \n",
    "\n",
    "<!-- !split  -->\n",
    "## Two-body interaction, brute force part II\n",
    "In a brute force algorithm for storing the matrix elements, if we have $d$ basis functions, we end up with the need of storing \n",
    "$d^4$ matrix elements. We can reduce this considerably by the following considerations.\n",
    "In the calculation of the two-body matrix elements $\\langle pr | \\hat{v}|qs\\rangle$ we have the following symmetries\n",
    "\n",
    "1. Invariance under permutations, that is"
   ]
  },
  {
   "cell_type": "markdown",
   "metadata": {},
   "source": [
    "$$\n",
    "\\langle pq | \\hat{v}|rs\\rangle = \\langle qp | \\hat{v}|sr\\rangle.\n",
    "$$"
   ]
  },
  {
   "cell_type": "markdown",
   "metadata": {},
   "source": [
    "1. The functions entering the evaluation of the integrals are all real, meaning that if we interchange $p\\leftrightarrow q$ or  $r\\leftrightarrow s$, we end up with the same matrix element.\n",
    "\n",
    "This reduces by a factor of eight the total number of matrix elements to be stored if we also use that \n",
    "we can store only for $p < q$ and $ r < s$. \n",
    "\n",
    "\n",
    "<!-- !split  -->\n",
    "## Two-body interaction, brute force part III\n",
    "\n",
    "Furthermore, in setting up a table for the two-body matrix elements we can convert the need of using four indices $pqrs$ of"
   ]
  },
  {
   "cell_type": "markdown",
   "metadata": {},
   "source": [
    "$$\n",
    "\\langle pr | \\hat{v}|qs\\rangle,\n",
    "$$"
   ]
  },
  {
   "cell_type": "markdown",
   "metadata": {},
   "source": [
    "which in a brute forces way could be coded as a four-dimensional array, to \n",
    "a two-dimensional array $V_{lm}$, where $l$ and $m$ stand for all possible two-body configurations $pq$.\n",
    "\n",
    "Each number $l$ and $m$ in $V_{lm}$  should then point to a set of single-particle  states $(p,q)$ and $(r,s)$.  \n",
    "\n",
    "In our case, since we have \n",
    "symmetries which allow us to set $p\\le q$, we have, with $d$ single particle states a total of $d(d+1)/2$ two-body configurations.\n",
    "\n",
    "<!-- !split  -->\n",
    "## Two-body interaction, brute force part IV\n",
    "\n",
    "How do we store such a matrix? The simplest thing to do is to convert it into a one-dimensional array. How do we achieve that? \n",
    "\n",
    "We now have a matrix $V$ of dimension $n\\times n$ and we want to store the elements $V_{lm}$ as a one-dimensional array $A$ using\n",
    "$0 \\le l \\le m \\le n-1$. For\n",
    "1. $l=0$ we have $n$ elements\n",
    "\n",
    "2. $l=1$ we have $n-1$ elements\n",
    "\n",
    "3. $\\dots$\n",
    "\n",
    "4. $l=\\nu$ we have $n-\\nu$ elements\n",
    "\n",
    "5. $\\dots$\n",
    "\n",
    "6. $l=n-1$ we have $1$ element,\n",
    "\n",
    "and the total number is"
   ]
  },
  {
   "cell_type": "markdown",
   "metadata": {},
   "source": [
    "$$\n",
    "\\sum_{\\nu =0}^{n-1}\\left(n-\\nu\\right)=\\frac{n(n+1)}{2}.\n",
    "$$"
   ]
  },
  {
   "cell_type": "markdown",
   "metadata": {},
   "source": [
    "<!-- !split  -->\n",
    "## Two-body interaction, brute force part V\n",
    "\n",
    "To find the number ($\\mathrm{number}(l,m)$) in a one-dimensional array $A$ which corresponds to a matrix element $V_{lm}$, we note that"
   ]
  },
  {
   "cell_type": "markdown",
   "metadata": {},
   "source": [
    "$$\n",
    "\\mathrm{number}(l,m)=\\sum_{\\nu =0}^{l-1}\\left(n-\\nu\\right)+m-l=\\frac{l(2n-l-1)}{2}+m.\n",
    "$$"
   ]
  },
  {
   "cell_type": "markdown",
   "metadata": {},
   "source": [
    "The first matrix element $V(0,0)$ is obviously given by the element $A(0)$. \n",
    "\n",
    "We have thus reduced a four dimensional array to a one-dimensional array, where the given pairs $(p,q)$ and $(r,s)$ point to the matrix indices $l$\n",
    "and $m$, respectively. The latter are used to find the explicit number $\\mathrm{number}(l,m)$ which points to the desired matrix element stored \n",
    "in a one-dimensional array.\n",
    "\n",
    "\n",
    "<!-- !split  -->\n",
    "## Practicalities with the Hartree-Fock code development, two-body basis construction\n",
    "\n",
    "Another way to store the matrix elements is to organize the matrix elements according to conserved quantum numbers.\n",
    "This means setting up a block structure and to look up matrix elements using two-body conserved quantum numbers.\n",
    "For quantum dots, the two-body quantum numbers that are conserved are\n",
    "The total orbital momentum projection"
   ]
  },
  {
   "cell_type": "markdown",
   "metadata": {},
   "source": [
    "$$\n",
    "M = m_1 + m_2,\n",
    "$$"
   ]
  },
  {
   "cell_type": "markdown",
   "metadata": {},
   "source": [
    "and the total spin projection"
   ]
  },
  {
   "cell_type": "markdown",
   "metadata": {},
   "source": [
    "$$\n",
    "M_s = m_{s_1} + m_{s_2}\n",
    "$$"
   ]
  },
  {
   "cell_type": "markdown",
   "metadata": {},
   "source": [
    "<!-- !split  -->\n",
    "## Two-body basis construction\n",
    "\n",
    "For 2 shells we have\n",
    "\n",
    "<table border=\"1\">\n",
    "<thead>\n",
    "<tr><th align=\"center\">$M$</th> <th align=\"center\">$M_s$</th> <th align=\"center\">$\\alpha$</th> <th align=\"center\">      State       </th> </tr>\n",
    "</thead>\n",
    "<tbody>\n",
    "<tr><td align=\"center\">   -2     </td> <td align=\"center\">   0        </td> <td align=\"center\">   1           </td> <td align=\"center\">   $\\vert 3,2\\rangle$    </td> </tr>\n",
    "<tr><td align=\"center\">   -1     </td> <td align=\"center\">   -1       </td> <td align=\"center\">   3           </td> <td align=\"center\">   $\\vert 2,0\\rangle$    </td> </tr>\n",
    "<tr><td align=\"center\">   -1     </td> <td align=\"center\">   0        </td> <td align=\"center\">   4           </td> <td align=\"center\">   $\\vert 3,0\\rangle$    </td> </tr>\n",
    "<tr><td align=\"center\">   -1     </td> <td align=\"center\">   0        </td> <td align=\"center\">   4           </td> <td align=\"center\">   $\\vert 2,1\\rangle$    </td> </tr>\n",
    "<tr><td align=\"center\">   -1     </td> <td align=\"center\">   1        </td> <td align=\"center\">   5           </td> <td align=\"center\">   $\\vert 3,1\\rangle$    </td> </tr>\n",
    "<tr><td align=\"center\">   0      </td> <td align=\"center\">   -1       </td> <td align=\"center\">   6           </td> <td align=\"center\">   $\\vert 4,2\\rangle$    </td> </tr>\n",
    "<tr><td align=\"center\">   0      </td> <td align=\"center\">   0        </td> <td align=\"center\">   7           </td> <td align=\"center\">   $\\vert 1,0\\rangle$    </td> </tr>\n",
    "<tr><td align=\"center\">   0      </td> <td align=\"center\">   0        </td> <td align=\"center\">   7           </td> <td align=\"center\">   $\\vert 5,2\\rangle$    </td> </tr>\n",
    "<tr><td align=\"center\">   0      </td> <td align=\"center\">   0        </td> <td align=\"center\">   7           </td> <td align=\"center\">   $\\vert 4,3\\rangle$    </td> </tr>\n",
    "<tr><td align=\"center\">   0      </td> <td align=\"center\">   1        </td> <td align=\"center\">   8           </td> <td align=\"center\">   $\\vert 5,3\\rangle$    </td> </tr>\n",
    "<tr><td align=\"center\">   1      </td> <td align=\"center\">   -1       </td> <td align=\"center\">   9           </td> <td align=\"center\">   $\\vert 4,0\\rangle$    </td> </tr>\n",
    "<tr><td align=\"center\">   1      </td> <td align=\"center\">   0        </td> <td align=\"center\">   10          </td> <td align=\"center\">   $\\vert 5,0\\rangle$    </td> </tr>\n",
    "<tr><td align=\"center\">   1      </td> <td align=\"center\">   0        </td> <td align=\"center\">   10          </td> <td align=\"center\">   $\\vert 4,1\\rangle$    </td> </tr>\n",
    "<tr><td align=\"center\">   1      </td> <td align=\"center\">   1        </td> <td align=\"center\">   11          </td> <td align=\"center\">   $\\vert 5,1\\rangle$    </td> </tr>\n",
    "<tr><td align=\"center\">   2      </td> <td align=\"center\">   0        </td> <td align=\"center\">   13          </td> <td align=\"center\">   $\\vert 5,4\\rangle$    </td> </tr>\n",
    "</tbody>\n",
    "</table>\n",
    "In this table we have paired orbitals with same $M$ and $M_s$. Where $\\alpha \\in \\{0,...,N\\}$ and $N$ is the number of pairs $\\{M,M_s\\}$. Notice that for $\\alpha = 1$ we only have one pair, and for $\\alpha = 4$, we have two pairs.\n",
    "\n",
    "\n",
    "\n",
    "<!-- !split  -->\n",
    "## Hartree-Fock code\n",
    "In developing our Hartree-Fock code, we can define a configuration class with the following mapping for a single-particle state"
   ]
  },
  {
   "cell_type": "markdown",
   "metadata": {},
   "source": [
    "$$\n",
    "\\vert \\alpha\\rangle \\rightarrow \\vert n m m_s\\rangle,\n",
    "$$"
   ]
  },
  {
   "cell_type": "markdown",
   "metadata": {},
   "source": [
    "and a similar mapping for a two-body state"
   ]
  },
  {
   "cell_type": "markdown",
   "metadata": {},
   "source": [
    "$$\n",
    "\\vert \\alpha \\beta\\rangle \\rightarrow \\vert M M_s\\rangle,\n",
    "$$"
   ]
  },
  {
   "cell_type": "markdown",
   "metadata": {},
   "source": [
    "where $M$ is the total angualar momentum"
   ]
  },
  {
   "cell_type": "markdown",
   "metadata": {},
   "source": [
    "$$\n",
    "M = m_\\alpha + m_\\beta,\n",
    "$$"
   ]
  },
  {
   "cell_type": "markdown",
   "metadata": {},
   "source": [
    "and the $M_s$ is the total spin"
   ]
  },
  {
   "cell_type": "markdown",
   "metadata": {},
   "source": [
    "$$\n",
    "M_s = m_{s_1} + m_{s_2}.\n",
    "$$"
   ]
  },
  {
   "cell_type": "markdown",
   "metadata": {},
   "source": [
    "<!-- !split  -->\n",
    "## Hartree-Fock code, setting up tables of matrix elements\n",
    "The single-particle part is diagonal for the harmonic oscillator basis, that is"
   ]
  },
  {
   "cell_type": "markdown",
   "metadata": {},
   "source": [
    "$$\n",
    "\\langle \\alpha\\vert \\hat{h}_0\\vert \\beta\\rangle = \\delta_{\\alpha \\beta} \\epsilon_\\alpha\n",
    "$$"
   ]
  },
  {
   "cell_type": "markdown",
   "metadata": {},
   "source": [
    "with"
   ]
  },
  {
   "cell_type": "markdown",
   "metadata": {},
   "source": [
    "$$\n",
    "\\epsilon_\\alpha  = \\hbar\\omega (2n_{\\alpha}+\\vert m_{\\alpha}\\vert +1).\n",
    "$$"
   ]
  },
  {
   "cell_type": "markdown",
   "metadata": {},
   "source": [
    "The two-body matrix elements are diagonal in the $M$ and $M_s$, that is"
   ]
  },
  {
   "cell_type": "markdown",
   "metadata": {},
   "source": [
    "$$\n",
    "\\langle M M_s\\vert \\hat{v}\\vert M' M_s'\\rangle = \\delta_{M,M'}\\delta_{M_s,M_s'}\\langle MM_s\\vert \\hat{v}\\vert MM_s\\rangle.\n",
    "$$"
   ]
  },
  {
   "cell_type": "markdown",
   "metadata": {},
   "source": [
    "<!-- !split  -->\n",
    "## Example calculations, $N=6$ and $\\omega =1.0$ a.u.\n",
    "\n",
    "We list here some selected Hartree-Fock results for $N=6$ electrons as function of the number of major shells $R$\n",
    "included. Here we have $\\omega =1$ a.u.\n",
    "\n",
    "<table border=\"1\">\n",
    "<thead>\n",
    "<tr><th align=\"center\">$R$</th> <th align=\"center\">$E_0^{HF}$</th> </tr>\n",
    "</thead>\n",
    "<tbody>\n",
    "<tr><td align=\"center\">   3      </td> <td align=\"center\">   21.59320      </td> </tr>\n",
    "<tr><td align=\"center\">   4      </td> <td align=\"center\">   20.76692      </td> </tr>\n",
    "<tr><td align=\"center\">   5      </td> <td align=\"center\">   20.7484       </td> </tr>\n",
    "<tr><td align=\"center\">   6      </td> <td align=\"center\">   20.72026      </td> </tr>\n",
    "<tr><td align=\"center\">   7      </td> <td align=\"center\">   20.72013      </td> </tr>\n",
    "<tr><td align=\"center\">   8      </td> <td align=\"center\">   20.71925      </td> </tr>\n",
    "<tr><td align=\"center\">   9      </td> <td align=\"center\">   20.71925      </td> </tr>\n",
    "<tr><td align=\"center\">   10     </td> <td align=\"center\">   20.71922      </td> </tr>\n",
    "<tr><td align=\"center\">   11     </td> <td align=\"center\">   20.71922      </td> </tr>\n",
    "<tr><td align=\"center\">   12     </td> <td align=\"center\">   20.71922      </td> </tr>\n",
    "<tr><td align=\"center\">   13     </td> <td align=\"center\">   20.71922      </td> </tr>\n",
    "</tbody>\n",
    "</table>\n",
    "The results are practically converged for approximately $R=10-13$. \n",
    "\n",
    "\n",
    "\n",
    "<!-- !split  -->\n",
    "## Example calculations, $N=6$ and $\\omega =0.1$ a.u.\n",
    "\n",
    "We list here some selected Hartree-Fock results for $N=6$ electrons as function of the number of major shells $R$\n",
    "included. Here we have $\\omega =0.1$ a.u.\n",
    "\n",
    "<table border=\"1\">\n",
    "<thead>\n",
    "<tr><th align=\"center\">$R$</th> <th align=\"center\">$E_0^{HF}$</th> </tr>\n",
    "</thead>\n",
    "<tbody>\n",
    "<tr><td align=\"center\">   4      </td> <td align=\"center\">   4.01979       </td> </tr>\n",
    "<tr><td align=\"center\">   5      </td> <td align=\"center\">   3.96315       </td> </tr>\n",
    "<tr><td align=\"center\">   6      </td> <td align=\"center\">   3.87062       </td> </tr>\n",
    "<tr><td align=\"center\">   7      </td> <td align=\"center\">   3.86314       </td> </tr>\n",
    "<tr><td align=\"center\">   8      </td> <td align=\"center\">   3.85288       </td> </tr>\n",
    "<tr><td align=\"center\">   9      </td> <td align=\"center\">   3.85259       </td> </tr>\n",
    "<tr><td align=\"center\">   10     </td> <td align=\"center\">   3.85239       </td> </tr>\n",
    "<tr><td align=\"center\">   11     </td> <td align=\"center\">   3.85239       </td> </tr>\n",
    "<tr><td align=\"center\">   12     </td> <td align=\"center\">   3.85238       </td> </tr>\n",
    "<tr><td align=\"center\">   13     </td> <td align=\"center\">   3.85238       </td> </tr>\n",
    "</tbody>\n",
    "</table>\n",
    "Again, the results are practically converged for approximately $R=10-13$."
   ]
  }
 ],
 "metadata": {},
 "nbformat": 4,
 "nbformat_minor": 0
}
