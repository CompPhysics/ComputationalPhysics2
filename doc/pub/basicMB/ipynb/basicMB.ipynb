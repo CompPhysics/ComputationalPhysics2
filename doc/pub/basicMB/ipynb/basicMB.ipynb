{
 "cells": [
  {
   "cell_type": "markdown",
   "metadata": {},
   "source": [
    "<!-- dom:TITLE: Computational Physics:  Introduction to Many-body Theory and Hartree-Fock theory -->\n",
    "# Computational Physics:  Introduction to Many-body Theory and Hartree-Fock theory\n",
    "<!-- dom:AUTHOR: Morten Hjorth-Jensen at [National Superconducting Cyclotron Laboratory](http://www.nscl.msu.edu/) and [Department of Physics and Astronomy](https://www.pa.msu.edu/), [Michigan State University](http://www.msu.edu/), East Lansing, MI 48824, USA & Department of Physics, University of Oslo, Oslo, Norway -->\n",
    "<!-- Author: -->  \n",
    "**Morten Hjorth-Jensen**, [National Superconducting Cyclotron Laboratory](http://www.nscl.msu.edu/) and [Department of Physics and Astronomy](https://www.pa.msu.edu/), [Michigan State University](http://www.msu.edu/), East Lansing, MI 48824, USA and Department of Physics, University of Oslo, Oslo, Norway\n",
    "\n",
    "Date: **Jan 17, 2018**\n",
    "\n",
    "Copyright 2013-2018, Morten Hjorth-Jensen. Released under CC Attribution-NonCommercial 4.0 license\n",
    "\n",
    "\n",
    "\n",
    "## Quantum Many-particle Methods\n",
    "\n",
    "* Large-scale diagonalization (Iterative methods, Lanczo's method, dimensionalities $10^{10}$ states)\n",
    "\n",
    "* Coupled cluster theory, favoured method in quantum chemistry, molecular and atomic physics. Applications to ab initio calculations in nuclear physics as well for large nuclei\n",
    "\n",
    "* Perturbative many-body methods\n",
    "\n",
    "* Density functional theories/Mean-field theory and Hartree-Fock theory\n",
    "\n",
    "* Monte-Carlo methods (Only in FYS4411, Computational quantum mechanics)\n",
    "\n",
    "* Green's function theories\n",
    "\n",
    "* and other. The physics of the system hints at which many-body methods to use.\n",
    "\n",
    "## Selected Texts and Many-body theory\n",
    "\n",
    "* Blaizot and Ripka, *Quantum Theory of Finite systems*, MIT press 1986\n",
    "\n",
    "* Negele and Orland, *Quantum Many-Particle Systems*, Addison-Wesley, 1987.\n",
    "\n",
    "* Fetter and Walecka, *Quantum Theory of Many-Particle Systems*, McGraw-Hill, 1971.\n",
    "\n",
    "* Helgaker, Jorgensen and Olsen, *Molecular Electronic Structure Theory*, Wiley, 2001.\n",
    "\n",
    "* Mattuck, *Guide to Feynman Diagrams in the Many-Body Problem*, Dover, 1971.\n",
    "\n",
    "* Dickhoff and Van Neck, *Many-Body Theory Exposed*, World Scientific, 2006.\n",
    "\n",
    "<!-- !split  -->\n",
    "## Definitions\n",
    "\n",
    "An operator is defined as $\\hat{O}$ throughout. Unless otherwise specified the number of particles is\n",
    "always $N$ and $d$ is the dimension of the system.  In nuclear physics\n",
    "we normally define the total number of particles to be $A=N+Z$, where\n",
    "$N$ is total number of neutrons and $Z$ the total number of\n",
    "protons. In case of other baryons such isobars $\\Delta$ or various\n",
    "hyperons such as $\\Lambda$ or $\\Sigma$, one needs to add their\n",
    "definitions.  Hereafter, $N$ is reserved for the total number of\n",
    "particles, unless otherwise specificied. \n",
    "\n",
    "\n",
    "## Definitions\n",
    "\n",
    "The quantum numbers of a single-particle state in coordinate space are\n",
    "defined by the variable"
   ]
  },
  {
   "cell_type": "markdown",
   "metadata": {},
   "source": [
    "$$\n",
    "x=(\\boldsymbol{r},\\sigma),\n",
    "$$"
   ]
  },
  {
   "cell_type": "markdown",
   "metadata": {},
   "source": [
    "where"
   ]
  },
  {
   "cell_type": "markdown",
   "metadata": {},
   "source": [
    "$$\n",
    "\\boldsymbol{r}\\in {\\mathbb{R}}^{d},\n",
    "$$"
   ]
  },
  {
   "cell_type": "markdown",
   "metadata": {},
   "source": [
    "with $d=1,2,3$ represents the spatial coordinates and $\\sigma$ is the eigenspin of the particle. For fermions with eigenspin $1/2$ this means that"
   ]
  },
  {
   "cell_type": "markdown",
   "metadata": {},
   "source": [
    "$$\n",
    "x\\in {\\mathbb{R}}^{d}\\oplus (\\frac{1}{2}),\n",
    "$$"
   ]
  },
  {
   "cell_type": "markdown",
   "metadata": {},
   "source": [
    "and the integral $\\int dx = \\sum_{\\sigma}\\int d^dr = \\sum_{\\sigma}\\int d\\boldsymbol{r}$,\n",
    "and"
   ]
  },
  {
   "cell_type": "markdown",
   "metadata": {},
   "source": [
    "$$\n",
    "\\int d^Nx= \\int dx_1\\int dx_2\\dots\\int dx_N.\n",
    "$$"
   ]
  },
  {
   "cell_type": "markdown",
   "metadata": {},
   "source": [
    "## Definitions\n",
    "\n",
    "The quantum mechanical wave function of a given state with quantum numbers $\\lambda$ (encompassing all quantum numbers needed to specify the system), ignoring time, is"
   ]
  },
  {
   "cell_type": "markdown",
   "metadata": {},
   "source": [
    "$$\n",
    "\\Psi_{\\lambda}=\\Psi_{\\lambda}(x_1,x_2,\\dots,x_N),\n",
    "$$"
   ]
  },
  {
   "cell_type": "markdown",
   "metadata": {},
   "source": [
    "with $x_i=(\\boldsymbol{r}_i,\\sigma_i)$ and the projection of $\\sigma_i$ takes the values\n",
    "$\\{-1/2,+1/2\\}$ for particles with spin $1/2$. \n",
    "We will hereafter always refer to $\\Psi_{\\lambda}$ as the exact wave function, and if the ground state is not degenerate we label it as"
   ]
  },
  {
   "cell_type": "markdown",
   "metadata": {},
   "source": [
    "$$\n",
    "\\Psi_0=\\Psi_0(x_1,x_2,\\dots,x_N).\n",
    "$$"
   ]
  },
  {
   "cell_type": "markdown",
   "metadata": {},
   "source": [
    "## Definitions\n",
    "\n",
    "Since the solution $\\Psi_{\\lambda}$ seldomly can be found in closed form, approximations are sought. Here we define an approximative wave function or an ansatz to the exact wave function as"
   ]
  },
  {
   "cell_type": "markdown",
   "metadata": {},
   "source": [
    "$$\n",
    "\\Phi_{\\lambda}=\\Phi_{\\lambda}(x_1,x_2,\\dots,x_N),\n",
    "$$"
   ]
  },
  {
   "cell_type": "markdown",
   "metadata": {},
   "source": [
    "with"
   ]
  },
  {
   "cell_type": "markdown",
   "metadata": {},
   "source": [
    "$$\n",
    "\\Phi_0=\\Phi_0(x_1,x_2,\\dots,x_N),\n",
    "$$"
   ]
  },
  {
   "cell_type": "markdown",
   "metadata": {},
   "source": [
    "being the ansatz to the ground state.  \n",
    "\n",
    "\n",
    "\n",
    "## Definitions\n",
    "\n",
    "The wave function $\\Psi_{\\lambda}$ is sought in the Hilbert space of either symmetric or anti-symmetric $N$-body functions, namely"
   ]
  },
  {
   "cell_type": "markdown",
   "metadata": {},
   "source": [
    "$$\n",
    "\\Psi_{\\lambda}\\in {\\cal H}_N:= {\\cal H}_1\\oplus{\\cal H}_1\\oplus\\dots\\oplus{\\cal H}_1,\n",
    "$$"
   ]
  },
  {
   "cell_type": "markdown",
   "metadata": {},
   "source": [
    "where the single-particle Hilbert space $\\hat{H}_1$ is the space of square integrable functions over\n",
    "$\\in {\\mathbb{R}}^{d}\\oplus (\\sigma)$\n",
    "resulting in"
   ]
  },
  {
   "cell_type": "markdown",
   "metadata": {},
   "source": [
    "$$\n",
    "{\\cal H}_1:= L^2(\\mathbb{R}^{d}\\oplus (\\sigma)).\n",
    "$$"
   ]
  },
  {
   "cell_type": "markdown",
   "metadata": {},
   "source": [
    "## Definitions\n",
    "\n",
    "Our Hamiltonian is invariant under the permutation (interchange) of two particles.\n",
    "Since we deal with fermions however, the total wave function is antisymmetric.\n",
    "Let $\\hat{P}$ be an operator which interchanges two particles.\n",
    "Due to the symmetries we have ascribed to our Hamiltonian, this operator commutes with the total Hamiltonian,"
   ]
  },
  {
   "cell_type": "markdown",
   "metadata": {},
   "source": [
    "$$\n",
    "[\\hat{H},\\hat{P}] = 0,\n",
    "$$"
   ]
  },
  {
   "cell_type": "markdown",
   "metadata": {},
   "source": [
    "meaning that $\\Psi_{\\lambda}(x_1, x_2, \\dots , x_N)$ is an eigenfunction of \n",
    "$\\hat{P}$ as well, that is"
   ]
  },
  {
   "cell_type": "markdown",
   "metadata": {},
   "source": [
    "$$\n",
    "\\hat{P}_{ij}\\Psi_{\\lambda}(x_1, x_2, \\dots,x_i,\\dots,x_j,\\dots,x_N)=\n",
    "\\beta\\Psi_{\\lambda}(x_1, x_2, \\dots,x_j,\\dots,x_i,\\dots,x_N),\n",
    "$$"
   ]
  },
  {
   "cell_type": "markdown",
   "metadata": {},
   "source": [
    "where $\\beta$ is the eigenvalue of $\\hat{P}$. We have introduced the suffix $ij$ in order to indicate that we permute particles $i$ and $j$.\n",
    "The Pauli principle tells us that the total wave function for a system of fermions\n",
    "has to be antisymmetric, resulting in the eigenvalue $\\beta = -1$.   \n",
    "\n",
    "\n",
    "\n",
    "## Definitions and notations\n",
    "\n",
    "The Schrodinger equation reads"
   ]
  },
  {
   "cell_type": "markdown",
   "metadata": {},
   "source": [
    "<!-- Equation labels as ordinary links -->\n",
    "<div id=\"eq:basicSE1\"></div>\n",
    "\n",
    "$$\n",
    "\\begin{equation}\n",
    "\\hat{H}(x_1, x_2, \\dots , x_N) \\Psi_{\\lambda}(x_1, x_2, \\dots , x_N) = \n",
    "E_\\lambda  \\Psi_\\lambda(x_1, x_2, \\dots , x_N), \\label{eq:basicSE1} \\tag{1}\n",
    "\\end{equation}\n",
    "$$"
   ]
  },
  {
   "cell_type": "markdown",
   "metadata": {},
   "source": [
    "where the vector $x_i$ represents the coordinates (spatial and spin) of particle $i$, $\\lambda$ stands  for all the quantum\n",
    "numbers needed to classify a given $N$-particle state and $\\Psi_{\\lambda}$ is the pertaining eigenfunction.  Throughout this course,\n",
    "$\\Psi$ refers to the exact eigenfunction, unless otherwise stated.\n",
    "\n",
    "\n",
    "## Definitions and notations\n",
    "\n",
    "We write the Hamilton operator, or Hamiltonian,  in a generic way"
   ]
  },
  {
   "cell_type": "markdown",
   "metadata": {},
   "source": [
    "$$\n",
    "\\hat{H} = \\hat{T} + \\hat{V}\n",
    "$$"
   ]
  },
  {
   "cell_type": "markdown",
   "metadata": {},
   "source": [
    "where $\\hat{T}$  represents the kinetic energy of the system"
   ]
  },
  {
   "cell_type": "markdown",
   "metadata": {},
   "source": [
    "$$\n",
    "\\hat{T} = \\sum_{i=1}^N \\frac{\\mathbf{p}_i^2}{2m_i} = \\sum_{i=1}^N \\left( -\\frac{\\hbar^2}{2m_i} \\mathbf{\\nabla_i}^2 \\right) =\n",
    "\t\t\\sum_{i=1}^N t(x_i)\n",
    "$$"
   ]
  },
  {
   "cell_type": "markdown",
   "metadata": {},
   "source": [
    "while the operator $\\hat{V}$ for the potential energy is given by"
   ]
  },
  {
   "cell_type": "markdown",
   "metadata": {},
   "source": [
    "<!-- Equation labels as ordinary links -->\n",
    "<div id=\"eq:firstv\"></div>\n",
    "\n",
    "$$\n",
    "\\begin{equation}\n",
    "\t\\hat{V} = \\sum_{i=1}^N \\hat{u}_{\\mathrm{ext}}(x_i) + \\sum_{j < i=1}^N v(x_i,x_j)+\\sum_{i< j < k=1}^Nv(x_i,x_j,x_k)+\\dots\n",
    "\\label{eq:firstv} \\tag{2}\n",
    "\\end{equation}\n",
    "$$"
   ]
  },
  {
   "cell_type": "markdown",
   "metadata": {},
   "source": [
    "Hereafter we use natural units, viz. $\\hbar=c=e=1$, with $e$ the elementary charge and $c$ the speed of light. This means that momenta and masses\n",
    "have dimension energy. \n",
    "\n",
    "\n",
    "\n",
    "## Definitions and notations\n",
    "\n",
    "If one does quantum chemistry, after having introduced the  Born-Oppenheimer approximation which effectively freezes out the nucleonic degrees of freedom, the Hamiltonian for $N=n_e$ electrons takes the following form"
   ]
  },
  {
   "cell_type": "markdown",
   "metadata": {},
   "source": [
    "$$\n",
    "\\hat{H} = \\sum_{i=1}^{n_e} t(x_i) - \\sum_{i=1}^{n_e} k\\frac{Z}{r_i} + \\sum_{i < j}^{n_e} \\frac{k}{r_{ij}},\n",
    "$$"
   ]
  },
  {
   "cell_type": "markdown",
   "metadata": {},
   "source": [
    "with $k=1.44$ eVnm\n",
    "\n",
    "\n",
    "\n",
    "## Definitions and notations\n",
    "\n",
    "We can rewrite this as"
   ]
  },
  {
   "cell_type": "markdown",
   "metadata": {},
   "source": [
    "<!-- Equation labels as ordinary links -->\n",
    "<div id=\"H1H2\"></div>\n",
    "\n",
    "$$\n",
    "\\begin{equation}\n",
    "    \\hat{H} = \\hat{H}_0 + \\hat{H}_I \n",
    "    = \\sum_{i=1}^{n_e}\\hat{h}_0(x_i) + \\sum_{i < j}^{n_e}\\frac{1}{r_{ij}},\n",
    "\\label{H1H2} \\tag{3}\n",
    "\\end{equation}\n",
    "$$"
   ]
  },
  {
   "cell_type": "markdown",
   "metadata": {},
   "source": [
    "where  we have defined"
   ]
  },
  {
   "cell_type": "markdown",
   "metadata": {},
   "source": [
    "$$\n",
    "r_{ij}=| \\boldsymbol{r}_i-\\boldsymbol{r}_j|,\n",
    "$$"
   ]
  },
  {
   "cell_type": "markdown",
   "metadata": {},
   "source": [
    "and"
   ]
  },
  {
   "cell_type": "markdown",
   "metadata": {},
   "source": [
    "<!-- Equation labels as ordinary links -->\n",
    "<div id=\"hi\"></div>\n",
    "\n",
    "$$\n",
    "\\begin{equation}\n",
    "  \\hat{h}_0(x_i) =  \\hat{t}(x_i) - \\frac{Z}{x_i}.\n",
    "\\label{hi} \\tag{4}\n",
    "\\end{equation}\n",
    "$$"
   ]
  },
  {
   "cell_type": "markdown",
   "metadata": {},
   "source": [
    "The first term of Eq. ([H1H2](#H1H2)), $H_0$, is the sum of the $N$\n",
    "*one-body* Hamiltonians $\\hat{h}_0$. Each individual\n",
    "Hamiltonian $\\hat{h}_0$ contains the kinetic energy operator of an\n",
    "electron and its potential energy due to the attraction of the\n",
    "nucleus. The second term, $H_I$, is the sum of the $n_e(n_e-1)/2$\n",
    "two-body interactions between each pair of electrons. Note that the double sum carries a restriction $i < j$.\n",
    "\n",
    "\n",
    "\n",
    "## Definitions and notations\n",
    "\n",
    "The potential energy term due to the attraction of the nucleus defines the onebody field $u_i=u_{\\mathrm{ext}}(x_i)$ of Eq. ([eq:firstv](#eq:firstv)).\n",
    "We have moved this term into the $\\hat{H}_0$ part of the Hamiltonian, instead of keeping  it in $\\hat{V}$ as in  Eq. ([eq:firstv](#eq:firstv)).\n",
    "The reason is that we will hereafter treat $\\hat{H}_0$ as our non-interacting  Hamiltonian. For a many-body wavefunction $\\Phi_{\\lambda}$ defined by an  \n",
    "appropriate single-particle basis, we may solve exactly the non-interacting eigenvalue problem"
   ]
  },
  {
   "cell_type": "markdown",
   "metadata": {},
   "source": [
    "$$\n",
    "\\hat{H}_0\\Phi_{\\lambda}= w_{\\lambda}\\Phi_{\\lambda},\n",
    "$$"
   ]
  },
  {
   "cell_type": "markdown",
   "metadata": {},
   "source": [
    "with $w_{\\lambda}$ being the non-interacting energy. This energy is defined by the sum over single-particle energies to be defined below.\n",
    "For atoms the single-particle energies could be the hydrogen-like single-particle energies corrected for the charge $Z$. For nuclei and quantum\n",
    "dots, these energies could be given by the harmonic oscillator in three and two dimensions, respectively.\n",
    "\n",
    "\n",
    "## Definitions and notations\n",
    "\n",
    "We will assume that the interacting part of the Hamiltonian\n",
    "can be approximated by a two-body interaction.\n",
    "This means that our Hamiltonian is written as"
   ]
  },
  {
   "cell_type": "markdown",
   "metadata": {},
   "source": [
    "<!-- Equation labels as ordinary links -->\n",
    "<div id=\"Hnuclei\"></div>\n",
    "\n",
    "$$\n",
    "\\begin{equation}\n",
    "    \\hat{H} = \\hat{H}_0 + \\hat{H}_I \n",
    "    = \\sum_{i=1}^N \\hat{h}_0(x_i) + \\sum_{i < j}^N V(r_{ij}),\n",
    "\\label{Hnuclei} \\tag{5}\n",
    "\\end{equation}\n",
    "$$"
   ]
  },
  {
   "cell_type": "markdown",
   "metadata": {},
   "source": [
    "with"
   ]
  },
  {
   "cell_type": "markdown",
   "metadata": {},
   "source": [
    "<!-- Equation labels as ordinary links -->\n",
    "<div id=\"hinuclei\"></div>\n",
    "\n",
    "$$\n",
    "\\begin{equation}\n",
    "  H_0=\\sum_{i=1}^N \\hat{h}_0(x_i) =  \\sum_{i=1}^N\\left(\\hat{t}(x_i) + \\hat{u}_{\\mathrm{ext}}(x_i)\\right).\n",
    "\\label{hinuclei} \\tag{6}\n",
    "\\end{equation}\n",
    "$$"
   ]
  },
  {
   "cell_type": "markdown",
   "metadata": {},
   "source": [
    "The onebody part $u_{\\mathrm{ext}}(x_i)$ is normally approximated by a harmonic oscillator potential or the Coulomb interaction an electron feels from the nucleus. However, other potentials are fully possible, such as \n",
    "one derived from the self-consistent solution of the Hartree-Fock equations.\n",
    "\n",
    "\n",
    "\n",
    "## Definitions and notations\n",
    "\n",
    "Our Hamiltonian is invariant under the permutation (interchange) of two particles. % (exercise here, prove it)\n",
    "Since we deal with fermions however, the total wave function is antisymmetric.\n",
    "Let $\\hat{P}$ be an operator which interchanges two particles.\n",
    "Due to the symmetries we have ascribed to our Hamiltonian, this operator commutes with the total Hamiltonian,"
   ]
  },
  {
   "cell_type": "markdown",
   "metadata": {},
   "source": [
    "$$\n",
    "[\\hat{H},\\hat{P}] = 0,\n",
    "$$"
   ]
  },
  {
   "cell_type": "markdown",
   "metadata": {},
   "source": [
    "meaning that $\\Psi_{\\lambda}(x_1, x_2, \\dots , x_N)$ is an eigenfunction of \n",
    "$\\hat{P}$ as well, that is"
   ]
  },
  {
   "cell_type": "markdown",
   "metadata": {},
   "source": [
    "$$\n",
    "\\hat{P}_{ij}\\Psi_{\\lambda}(x_1, x_2, \\dots,x_i,\\dots,x_j,\\dots,x_N)=\n",
    "\\beta\\Psi_{\\lambda}(x_1, x_2, \\dots,x_i,\\dots,x_j,\\dots,x_N),\n",
    "$$"
   ]
  },
  {
   "cell_type": "markdown",
   "metadata": {},
   "source": [
    "where $\\beta$ is the eigenvalue of $\\hat{P}$. We have introduced the suffix $ij$ in order to indicate that we permute particles $i$ and $j$.\n",
    "The Pauli principle tells us that the total wave function for a system of fermions\n",
    "has to be antisymmetric, resulting in the eigenvalue $\\beta = -1$.   \n",
    "\n",
    "\n",
    "## Definitions and notations\n",
    "\n",
    "In our case we assume that  we can approximate the exact eigenfunction with a Slater determinant"
   ]
  },
  {
   "cell_type": "markdown",
   "metadata": {},
   "source": [
    "<!-- Equation labels as ordinary links -->\n",
    "<div id=\"eq:HartreeFockDet\"></div>\n",
    "\n",
    "$$\n",
    "\\begin{equation}\n",
    "   \\Phi(x_1, x_2,\\dots ,x_N,\\alpha,\\beta,\\dots, \\sigma)=\\frac{1}{\\sqrt{N!}}\n",
    "\\left| \\begin{array}{ccccc} \\psi_{\\alpha}(x_1)& \\psi_{\\alpha}(x_2)& \\dots & \\dots & \\psi_{\\alpha}(x_N)\\\\\n",
    "                            \\psi_{\\beta}(x_1)&\\psi_{\\beta}(x_2)& \\dots & \\dots & \\psi_{\\beta}(x_N)\\\\  \n",
    "                            \\dots & \\dots & \\dots & \\dots & \\dots \\\\\n",
    "                            \\dots & \\dots & \\dots & \\dots & \\dots \\\\\n",
    "                     \\psi_{\\sigma}(x_1)&\\psi_{\\sigma}(x_2)& \\dots & \\dots & \\psi_{\\sigma}(x_N)\\end{array} \\right|, \\label{eq:HartreeFockDet} \\tag{7}\n",
    "\\end{equation}\n",
    "$$"
   ]
  },
  {
   "cell_type": "markdown",
   "metadata": {},
   "source": [
    "where  $x_i$  stand for the coordinates and spin values of a particle $i$ and $\\alpha,\\beta,\\dots, \\gamma$ \n",
    "are quantum numbers needed to describe remaining quantum numbers.  \n",
    "\n",
    "\n",
    "## Definitions and notations\n",
    "\n",
    "The single-particle function $\\psi_{\\alpha}(x_i)$  are eigenfunctions of the onebody\n",
    "Hamiltonian $h_i$, that is"
   ]
  },
  {
   "cell_type": "markdown",
   "metadata": {},
   "source": [
    "$$\n",
    "\\hat{h}_0(x_i)=\\hat{t}(x_i) + \\hat{u}_{\\mathrm{ext}}(x_i),\n",
    "$$"
   ]
  },
  {
   "cell_type": "markdown",
   "metadata": {},
   "source": [
    "with eigenvalues"
   ]
  },
  {
   "cell_type": "markdown",
   "metadata": {},
   "source": [
    "$$\n",
    "\\hat{h}_0(x_i) \\psi_{\\alpha}(x_i)=\\left(\\hat{t}(x_i) + \\hat{u}_{\\mathrm{ext}}(x_i)\\right)\\psi_{\\alpha}(x_i)=\\varepsilon_{\\alpha}\\psi_{\\alpha}(x_i).\n",
    "$$"
   ]
  },
  {
   "cell_type": "markdown",
   "metadata": {},
   "source": [
    "The energies $\\varepsilon_{\\alpha}$ are the so-called non-interacting single-particle energies, or unperturbed energies. \n",
    "The total energy is in this case the sum over all  single-particle energies, if no two-body or more complicated\n",
    "many-body interactions are present.\n",
    "\n",
    "\n",
    "## Definitions and notations\n",
    "\n",
    "Let us denote the ground state energy by $E_0$. According to the\n",
    "variational principle we have"
   ]
  },
  {
   "cell_type": "markdown",
   "metadata": {},
   "source": [
    "$$\n",
    "E_0 \\le E[\\Phi] = \\int \\Phi^*\\hat{H}\\Phi d\\mathbf{\\tau}\n",
    "$$"
   ]
  },
  {
   "cell_type": "markdown",
   "metadata": {},
   "source": [
    "where $\\Phi$ is a trial function which we assume to be normalized"
   ]
  },
  {
   "cell_type": "markdown",
   "metadata": {},
   "source": [
    "$$\n",
    "\\int \\Phi^*\\Phi d\\mathbf{\\tau} = 1,\n",
    "$$"
   ]
  },
  {
   "cell_type": "markdown",
   "metadata": {},
   "source": [
    "where we have used the shorthand $d\\mathbf{\\tau}=d\\mathbf{r}_1d\\mathbf{r}_2\\dots d\\mathbf{r}_N$.\n",
    "\n",
    "\n",
    "\n",
    "## Brief reminder on some linear algebra properties\n",
    "\n",
    "Before we proceed with a more compact representation of a Slater determinant, we would like to repeat some linear algebra properties which will be useful for our derivations of the energy as function of a Slater determinant, Hartree-Fock theory and later the nuclear shell model.\n",
    "\n",
    "The inverse of a matrix is defined by"
   ]
  },
  {
   "cell_type": "markdown",
   "metadata": {},
   "source": [
    "$$\n",
    "\\mathbf{A}^{-1} \\cdot \\mathbf{A} = I\n",
    "$$"
   ]
  },
  {
   "cell_type": "markdown",
   "metadata": {},
   "source": [
    "A unitary matrix $\\mathbf{A}$ is one whose inverse is its adjoint"
   ]
  },
  {
   "cell_type": "markdown",
   "metadata": {},
   "source": [
    "$$\n",
    "\\mathbf{A}^{-1}=\\mathbf{A}^{\\dagger}\n",
    "$$"
   ]
  },
  {
   "cell_type": "markdown",
   "metadata": {},
   "source": [
    "A real unitary matrix is called orthogonal and its inverse is equal to its transpose.\n",
    "A hermitian matrix is its own self-adjoint, that  is"
   ]
  },
  {
   "cell_type": "markdown",
   "metadata": {},
   "source": [
    "$$\n",
    "\\mathbf{A}=\\mathbf{A}^{\\dagger}.\n",
    "$$"
   ]
  },
  {
   "cell_type": "markdown",
   "metadata": {},
   "source": [
    "## Basic Matrix Features\n",
    "\n",
    " Matrix Properties Reminder\n",
    "\n",
    "<table border=\"1\">\n",
    "<thead>\n",
    "<tr><th align=\"center\">              Relations               </th> <th align=\"center\">      Name     </th> <th align=\"center\">                            matrix elements                            </th> </tr>\n",
    "</thead>\n",
    "<tbody>\n",
    "<tr><td align=\"center\">   $A = A^{T}$                               </td> <td align=\"center\">   symmetric          </td> <td align=\"center\">   $a_{ij} = a_{ji}$                                                          </td> </tr>\n",
    "<tr><td align=\"center\">   $A = \\left (A^{T} \\right )^{-1}$          </td> <td align=\"center\">   real orthogonal    </td> <td align=\"center\">   $\\sum_k a_{ik} a_{jk} = \\sum_k a_{ki} a_{kj} = \\delta_{ij}$                </td> </tr>\n",
    "<tr><td align=\"center\">   $A = A^{ * }$                             </td> <td align=\"center\">   real matrix        </td> <td align=\"center\">   $a_{ij} = a_{ij}^{ * }$                                                    </td> </tr>\n",
    "<tr><td align=\"center\">   $A = A^{\\dagger}$                         </td> <td align=\"center\">   hermitian          </td> <td align=\"center\">   $a_{ij} = a_{ji}^{ * }$                                                    </td> </tr>\n",
    "<tr><td align=\"center\">   $A = \\left (A^{\\dagger} \\right )^{-1}$    </td> <td align=\"center\">   unitary            </td> <td align=\"center\">   $\\sum_k a_{ik} a_{jk}^{ * } = \\sum_k a_{ki}^{ * } a_{kj} = \\delta_{ij}$    </td> </tr>\n",
    "</tbody>\n",
    "</table>\n",
    "\n",
    "\n",
    "\n",
    "\n",
    "## Basic Matrix Features\n",
    "\n",
    "If we deal with Fermions (identical and indistinguishable particles) we will \n",
    "form an ansatz for a given state in terms of so-called Slater determinants determined\n",
    "by a chosen basis of single-particle functions. \n",
    "\n",
    "For a given $n\\times n$ matrix $\\mathbf{A}$ we can write its determinant"
   ]
  },
  {
   "cell_type": "markdown",
   "metadata": {},
   "source": [
    "$$\n",
    "det(\\mathbf{A})=|\\mathbf{A}|=\n",
    "\\left| \\begin{array}{ccccc} a_{11}& a_{12}& \\dots & \\dots & a_{1n}\\\\\n",
    "                            a_{21}&a_{22}& \\dots & \\dots & a_{2n}\\\\  \n",
    "                            \\dots & \\dots & \\dots & \\dots & \\dots \\\\\n",
    "                            \\dots & \\dots & \\dots & \\dots & \\dots \\\\\n",
    "                            a_{n1}& a_{n2}& \\dots & \\dots & a_{nn}\\end{array} \\right|,\n",
    "$$"
   ]
  },
  {
   "cell_type": "markdown",
   "metadata": {},
   "source": [
    "in a more compact form as"
   ]
  },
  {
   "cell_type": "markdown",
   "metadata": {},
   "source": [
    "$$\n",
    "|\\mathbf{A}|= \\sum_{i=1}^{n!}(-1)^{p_i}\\hat{P}_i a_{11}a_{22}\\dots a_{nn},\n",
    "$$"
   ]
  },
  {
   "cell_type": "markdown",
   "metadata": {},
   "source": [
    "where $\\hat{P}_i$ is a permutation operator which permutes the column indices $1,2,3,\\dots,n$\n",
    "and the sum runs over all $n!$ permutations.  The quantity $p_i$ represents the number of transpositions of column indices that are needed in order to bring a given permutation back to its initial ordering, in our case given by $a_{11}a_{22}\\dots a_{nn}$ here.\n",
    "\n",
    "\n",
    "\n",
    "## Basic Matrix Features, simple $2 \\times 2$ determinant\n",
    "\n",
    "A simple $2\\times 2$ determinant illustrates this. We have"
   ]
  },
  {
   "cell_type": "markdown",
   "metadata": {},
   "source": [
    "$$\n",
    "det(\\mathbf{A})=\n",
    "\\left| \\begin{array}{cc} a_{11}& a_{12}\\\\\n",
    "                            a_{21}&a_{22}\\end{array} \\right|= (-1)^0a_{11}a_{22}+(-1)^1a_{12}a_{21},\n",
    "$$"
   ]
  },
  {
   "cell_type": "markdown",
   "metadata": {},
   "source": [
    "where in the last term we have interchanged the column indices $1$ and $2$. The natural ordering we have chosen is $a_{11}a_{22}$. \n",
    "\n",
    "\n",
    "\n",
    "\n",
    "## Definitions and notations\n",
    "\n",
    "With the above we can rewrite our Slater determinant in a more compact form.\n",
    "In the Hartree-Fock method the trial function is the Slater\n",
    "determinant of Eq. ([eq:HartreeFockDet](#eq:HartreeFockDet)) which can be rewritten as"
   ]
  },
  {
   "cell_type": "markdown",
   "metadata": {},
   "source": [
    "$$\n",
    "\\Phi(x_1,x_2,\\dots,x_N,\\alpha,\\beta,\\dots,\\nu) = \\frac{1}{\\sqrt{N!}}\\sum_{P} (-)^P\\hat{P}\\psi_{\\alpha}(x_1)\n",
    "    \\psi_{\\beta}(x_2)\\dots\\psi_{\\nu}(x_N)=\\sqrt{N!}\\hat{A}\\Phi_H,\n",
    "$$"
   ]
  },
  {
   "cell_type": "markdown",
   "metadata": {},
   "source": [
    "where we have introduced the antisymmetrization operator $\\hat{A}$ defined by the \n",
    "summation over all possible permutations of two particles.\n",
    "\n",
    "\n",
    "## Definitions and notations\n",
    "\n",
    "It is defined as"
   ]
  },
  {
   "cell_type": "markdown",
   "metadata": {},
   "source": [
    "<!-- Equation labels as ordinary links -->\n",
    "<div id=\"antiSymmetryOperator\"></div>\n",
    "\n",
    "$$\n",
    "\\begin{equation}\n",
    "  \\hat{A} = \\frac{1}{N!}\\sum_{p} (-)^p\\hat{P},\n",
    "\\label{antiSymmetryOperator} \\tag{8}\n",
    "\\end{equation}\n",
    "$$"
   ]
  },
  {
   "cell_type": "markdown",
   "metadata": {},
   "source": [
    "with $p$ standing for the number of permutations. We have introduced for later use the so-called\n",
    "Hartree-function, defined by the simple product of all possible single-particle functions"
   ]
  },
  {
   "cell_type": "markdown",
   "metadata": {},
   "source": [
    "$$\n",
    "\\Phi_H(x_1,x_2,\\dots,x_N,\\alpha,\\beta,\\dots,\\nu) =\n",
    "  \\psi_{\\alpha}(x_1)\n",
    "    \\psi_{\\beta}(x_2)\\dots\\psi_{\\nu}(x_N).\n",
    "$$"
   ]
  },
  {
   "cell_type": "markdown",
   "metadata": {},
   "source": [
    "## Definitions and notations\n",
    "\n",
    "Both $\\hat{H}_0$ and $\\hat{H}_I$ are invariant under all possible permutations of any two particles\n",
    "and hence commute with $\\hat{A}$"
   ]
  },
  {
   "cell_type": "markdown",
   "metadata": {},
   "source": [
    "<!-- Equation labels as ordinary links -->\n",
    "<div id=\"commutionAntiSym\"></div>\n",
    "\n",
    "$$\n",
    "\\begin{equation}\n",
    "  [H_0,\\hat{A}] = [H_I,\\hat{A}] = 0. \\label{commutionAntiSym} \\tag{9}\n",
    "\\end{equation}\n",
    "$$"
   ]
  },
  {
   "cell_type": "markdown",
   "metadata": {},
   "source": [
    "Furthermore, $\\hat{A}$ satisfies"
   ]
  },
  {
   "cell_type": "markdown",
   "metadata": {},
   "source": [
    "<!-- Equation labels as ordinary links -->\n",
    "<div id=\"AntiSymSquared\"></div>\n",
    "\n",
    "$$\n",
    "\\begin{equation}\n",
    "  \\hat{A}^2 = \\hat{A},  \\label{AntiSymSquared} \\tag{10}\n",
    "\\end{equation}\n",
    "$$"
   ]
  },
  {
   "cell_type": "markdown",
   "metadata": {},
   "source": [
    "since every permutation of the Slater\n",
    "determinant reproduces it. \n",
    "\n",
    "\n",
    "## Definitions and notations\n",
    "\n",
    "The expectation value of $\\hat{H}_0$"
   ]
  },
  {
   "cell_type": "markdown",
   "metadata": {},
   "source": [
    "$$\n",
    "\\int \\Phi^*\\hat{H}_0\\Phi d\\mathbf{\\tau} \n",
    "  = N! \\int \\Phi_H^*\\hat{A}\\hat{H}_0\\hat{A}\\Phi_H d\\mathbf{\\tau}\n",
    "$$"
   ]
  },
  {
   "cell_type": "markdown",
   "metadata": {},
   "source": [
    "is readily reduced to"
   ]
  },
  {
   "cell_type": "markdown",
   "metadata": {},
   "source": [
    "$$\n",
    "\\int \\Phi^*\\hat{H}_0\\Phi d\\mathbf{\\tau} \n",
    "  = N! \\int \\Phi_H^*\\hat{H}_0\\hat{A}\\Phi_H d\\mathbf{\\tau},\n",
    "$$"
   ]
  },
  {
   "cell_type": "markdown",
   "metadata": {},
   "source": [
    "where we have used Eqs. ([commutionAntiSym](#commutionAntiSym)) and\n",
    "([AntiSymSquared](#AntiSymSquared)). The next step is to replace the antisymmetrization\n",
    "operator by its definition and to\n",
    "replace $\\hat{H}_0$ with the sum of one-body operators"
   ]
  },
  {
   "cell_type": "markdown",
   "metadata": {},
   "source": [
    "$$\n",
    "\\int \\Phi^*\\hat{H}_0\\Phi  d\\mathbf{\\tau}\n",
    "  = \\sum_{i=1}^N \\sum_{p} (-)^p\\int \n",
    "  \\Phi_H^*\\hat{h}_0\\hat{P}\\Phi_H d\\mathbf{\\tau}.\n",
    "$$"
   ]
  },
  {
   "cell_type": "markdown",
   "metadata": {},
   "source": [
    "## Definitions and notations\n",
    "\n",
    "The integral vanishes if two or more particles are permuted in only one\n",
    "of the Hartree-functions $\\Phi_H$ because the individual single-particle wave functions are\n",
    "orthogonal. We obtain then"
   ]
  },
  {
   "cell_type": "markdown",
   "metadata": {},
   "source": [
    "$$\n",
    "\\int \\Phi^*\\hat{H}_0\\Phi  d\\mathbf{\\tau}= \\sum_{i=1}^N \\int \\Phi_H^*\\hat{h}_0\\Phi_H  d\\mathbf{\\tau}.\n",
    "$$"
   ]
  },
  {
   "cell_type": "markdown",
   "metadata": {},
   "source": [
    "Orthogonality of the single-particle functions allows us to further simplify the integral, and we\n",
    "arrive at the following expression for the expectation values of the\n",
    "sum of one-body Hamiltonians"
   ]
  },
  {
   "cell_type": "markdown",
   "metadata": {},
   "source": [
    "<!-- Equation labels as ordinary links -->\n",
    "<div id=\"H1Expectation\"></div>\n",
    "\n",
    "$$\n",
    "\\begin{equation}\n",
    "  \\int \\Phi^*\\hat{H}_0\\Phi  d\\mathbf{\\tau}\n",
    "  = \\sum_{\\mu=1}^N \\int \\psi_{\\mu}^*(\\mathbf{r})\\hat{h}_0\\psi_{\\mu}(\\mathbf{r})\n",
    "  d\\mathbf{r}.\n",
    "\\label{H1Expectation} \\tag{11}\n",
    "\\end{equation}\n",
    "$$"
   ]
  },
  {
   "cell_type": "markdown",
   "metadata": {},
   "source": [
    "## Definitions and notations\n",
    "\n",
    "We introduce the following shorthand for the above integral"
   ]
  },
  {
   "cell_type": "markdown",
   "metadata": {},
   "source": [
    "$$\n",
    "\\langle \\mu | \\hat{h}_0 | \\mu \\rangle = \\int \\psi_{\\mu}^*(\\mathbf{r})\\hat{h}_0\\psi_{\\mu}(\\mathbf{r})  d\\mathbf{r},\n",
    "$$"
   ]
  },
  {
   "cell_type": "markdown",
   "metadata": {},
   "source": [
    "and rewrite Eq. ([H1Expectation](#H1Expectation)) as"
   ]
  },
  {
   "cell_type": "markdown",
   "metadata": {},
   "source": [
    "<!-- Equation labels as ordinary links -->\n",
    "<div id=\"H1Expectation1\"></div>\n",
    "\n",
    "$$\n",
    "\\begin{equation}\n",
    "  \\int \\Phi^*\\hat{H}_0\\Phi  d\\mathbf{\\tau}\n",
    "  = \\sum_{\\mu=1}^N \\langle \\mu | \\hat{h}_0 | \\mu \\rangle.\n",
    "\\label{H1Expectation1} \\tag{12}\n",
    "\\end{equation}\n",
    "$$"
   ]
  },
  {
   "cell_type": "markdown",
   "metadata": {},
   "source": [
    "## Definitions and notations\n",
    "\n",
    "The expectation value of the two-body part of the Hamiltonian is obtained in a\n",
    "similar manner. We have"
   ]
  },
  {
   "cell_type": "markdown",
   "metadata": {},
   "source": [
    "$$\n",
    "\\int \\Phi^*\\hat{H}_I\\Phi d\\mathbf{\\tau} \n",
    "  = N! \\int \\Phi_H^*\\hat{A}\\hat{H}_I\\hat{A}\\Phi_H d\\mathbf{\\tau},\n",
    "$$"
   ]
  },
  {
   "cell_type": "markdown",
   "metadata": {},
   "source": [
    "which reduces to"
   ]
  },
  {
   "cell_type": "markdown",
   "metadata": {},
   "source": [
    "$$\n",
    "\\int \\Phi^*\\hat{H}_I\\Phi d\\mathbf{\\tau} \n",
    "  = \\sum_{i\\le j=1}^N \\sum_{p} (-)^p\\int \n",
    "  \\Phi_H^*V(r_{ij})\\hat{P}\\Phi_H d\\mathbf{\\tau},\n",
    "$$"
   ]
  },
  {
   "cell_type": "markdown",
   "metadata": {},
   "source": [
    "by following the same arguments as for the one-body\n",
    "Hamiltonian. \n",
    "\n",
    "\n",
    "## Definitions and notations\n",
    "\n",
    "Because of the dependence on the inter-particle distance $r_{ij}$,  permutations of\n",
    "any two particles no longer vanish, and we get"
   ]
  },
  {
   "cell_type": "markdown",
   "metadata": {},
   "source": [
    "$$\n",
    "\\int \\Phi^*\\hat{H}_I\\Phi d\\mathbf{\\tau} \n",
    "  = \\sum_{i < j=1}^N \\int  \n",
    "  \\Phi_H^*V(r_{ij})(1-P_{ij})\\Phi_H d\\mathbf{\\tau}.\n",
    "$$"
   ]
  },
  {
   "cell_type": "markdown",
   "metadata": {},
   "source": [
    "where $P_{ij}$ is the permutation operator that interchanges\n",
    "particle $i$ and particle $j$. Again we use the assumption that the single-particle wave functions\n",
    "are orthogonal. \n",
    "\n",
    "\n",
    "\n",
    "## Definitions and notations\n",
    "\n",
    "We obtain"
   ]
  },
  {
   "cell_type": "markdown",
   "metadata": {},
   "source": [
    "<!-- Equation labels as ordinary links -->\n",
    "<div id=\"_auto1\"></div>\n",
    "\n",
    "$$\n",
    "\\begin{equation}\n",
    "  \\int \\Phi^*\\hat{H}_I\\Phi d\\mathbf{\\tau} \n",
    "  = \\frac{1}{2}\\sum_{\\mu=1}^N\\sum_{\\nu=1}^N\n",
    "    \\left[ \\int \\psi_{\\mu}^*(x_i)\\psi_{\\nu}^*(x_j)V(r_{ij})\\psi_{\\mu}(x_i)\\psi_{\\nu}(x_j)\n",
    "    dx_idx_j \\right.\n",
    "\\label{_auto1} \\tag{13}\n",
    "\\end{equation}\n",
    "$$"
   ]
  },
  {
   "cell_type": "markdown",
   "metadata": {},
   "source": [
    "<!-- Equation labels as ordinary links -->\n",
    "<div id=\"H2Expectation\"></div>\n",
    "\n",
    "$$\n",
    "\\begin{equation} \n",
    "  \\left.\n",
    "  - \\int \\psi_{\\mu}^*(x_i)\\psi_{\\nu}^*(x_j)\n",
    "  V(r_{ij})\\psi_{\\nu}(x_i)\\psi_{\\mu}(x_j)\n",
    "  dx_idx_j\n",
    "  \\right]. \\label{H2Expectation} \\tag{14}\n",
    "\\end{equation}\n",
    "$$"
   ]
  },
  {
   "cell_type": "markdown",
   "metadata": {},
   "source": [
    "The first term is the so-called direct term. It is frequently also called the  Hartree term, \n",
    "while the second is due to the Pauli principle and is called\n",
    "the exchange term or just the Fock term.\n",
    "The factor  $1/2$ is introduced because we now run over\n",
    "all pairs twice. \n",
    "\n",
    "\n",
    "## Definitions and notations\n",
    "\n",
    "The last equation allows us to  introduce some further definitions.  \n",
    "The single-particle wave functions $\\psi_{\\mu}(x)$, defined by the quantum numbers $\\mu$ and $x$\n",
    "are defined as the overlap"
   ]
  },
  {
   "cell_type": "markdown",
   "metadata": {},
   "source": [
    "$$\n",
    "\\psi_{\\alpha}(x)  = \\langle x | \\alpha \\rangle .\n",
    "$$"
   ]
  },
  {
   "cell_type": "markdown",
   "metadata": {},
   "source": [
    "## Definitions and notations\n",
    "\n",
    "We introduce the following shorthands for the above two integrals"
   ]
  },
  {
   "cell_type": "markdown",
   "metadata": {},
   "source": [
    "$$\n",
    "\\langle \\mu\\nu|\\hat{v}|\\mu\\nu\\rangle =  \\int \\psi_{\\mu}^*(x_i)\\psi_{\\nu}^*(x_j)V(r_{ij})\\psi_{\\mu}(x_i)\\psi_{\\nu}(x_j)\n",
    "    dx_idx_j,\n",
    "$$"
   ]
  },
  {
   "cell_type": "markdown",
   "metadata": {},
   "source": [
    "and"
   ]
  },
  {
   "cell_type": "markdown",
   "metadata": {},
   "source": [
    "$$\n",
    "\\langle \\mu\\nu|\\hat{v}|\\nu\\mu\\rangle = \\int \\psi_{\\mu}^*(x_i)\\psi_{\\nu}^*(x_j)\n",
    "  V(r_{ij})\\psi_{\\nu}(x_i)\\psi_{\\mu}(x_j)\n",
    "  dx_idx_j.\n",
    "$$"
   ]
  },
  {
   "cell_type": "markdown",
   "metadata": {},
   "source": [
    "## Definitions and notations\n",
    "\n",
    "The direct and exchange matrix elements can be  brought together if we define the antisymmetrized matrix element"
   ]
  },
  {
   "cell_type": "markdown",
   "metadata": {},
   "source": [
    "$$\n",
    "\\langle \\mu\\nu|\\hat{v}|\\mu\\nu\\rangle_{\\mathrm{AS}}= \\langle \\mu\\nu|\\hat{v}|\\mu\\nu\\rangle-\\langle \\mu\\nu|\\hat{v}|\\nu\\mu\\rangle,\n",
    "$$"
   ]
  },
  {
   "cell_type": "markdown",
   "metadata": {},
   "source": [
    "or for a general matrix element"
   ]
  },
  {
   "cell_type": "markdown",
   "metadata": {},
   "source": [
    "$$\n",
    "\\langle \\mu\\nu|\\hat{v}|\\sigma\\tau\\rangle_{\\mathrm{AS}}= \\langle \\mu\\nu|\\hat{v}|\\sigma\\tau\\rangle-\\langle \\mu\\nu|\\hat{v}|\\tau\\sigma\\rangle.\n",
    "$$"
   ]
  },
  {
   "cell_type": "markdown",
   "metadata": {},
   "source": [
    "It has the symmetry property"
   ]
  },
  {
   "cell_type": "markdown",
   "metadata": {},
   "source": [
    "$$\n",
    "\\langle \\mu\\nu|\\hat{v}|\\sigma\\tau\\rangle_{\\mathrm{AS}}= -\\langle \\mu\\nu|\\hat{v}|\\tau\\sigma\\rangle_{\\mathrm{AS}}=-\\langle \\nu\\mu|\\hat{v}|\\sigma\\tau\\rangle_{\\mathrm{AS}}.\n",
    "$$"
   ]
  },
  {
   "cell_type": "markdown",
   "metadata": {},
   "source": [
    "## Definitions and notations\n",
    "\n",
    "The antisymmetric matrix element is also hermitian, implying"
   ]
  },
  {
   "cell_type": "markdown",
   "metadata": {},
   "source": [
    "$$\n",
    "\\langle \\mu\\nu|\\hat{v}|\\sigma\\tau\\rangle_{\\mathrm{AS}}= \\langle \\sigma\\tau|\\hat{v}|\\mu\\nu\\rangle_{\\mathrm{AS}}.\n",
    "$$"
   ]
  },
  {
   "cell_type": "markdown",
   "metadata": {},
   "source": [
    "With these notations we rewrite Eq. ([H2Expectation](#H2Expectation)) as"
   ]
  },
  {
   "cell_type": "markdown",
   "metadata": {},
   "source": [
    "<!-- Equation labels as ordinary links -->\n",
    "<div id=\"H2Expectation2\"></div>\n",
    "\n",
    "$$\n",
    "\\begin{equation}\n",
    "  \\int \\Phi^*\\hat{H}_I\\Phi d\\mathbf{\\tau} \n",
    "  = \\frac{1}{2}\\sum_{\\mu=1}^N\\sum_{\\nu=1}^N \\langle \\mu\\nu|\\hat{v}|\\mu\\nu\\rangle_{\\mathrm{AS}}.\n",
    "\\label{H2Expectation2} \\tag{15}\n",
    "\\end{equation}\n",
    "$$"
   ]
  },
  {
   "cell_type": "markdown",
   "metadata": {},
   "source": [
    "## Definitions and notations\n",
    "\n",
    "Combining Eqs. ([H1Expectation1](#H1Expectation1)) and\n",
    "([H2Expectation2](#H2Expectation2)) we obtain the energy functional"
   ]
  },
  {
   "cell_type": "markdown",
   "metadata": {},
   "source": [
    "<!-- Equation labels as ordinary links -->\n",
    "<div id=\"FunctionalEPhi\"></div>\n",
    "\n",
    "$$\n",
    "\\begin{equation}\n",
    "  E[\\Phi] \n",
    "  = \\sum_{\\mu=1}^N \\langle \\mu | \\hat{h}_0 | \\mu \\rangle +\n",
    "  \\frac{1}{2}\\sum_{{\\mu}=1}^N\\sum_{{\\nu}=1}^N \\langle \\mu\\nu|\\hat{v}|\\mu\\nu\\rangle_{\\mathrm{AS}}.\n",
    "\\label{FunctionalEPhi} \\tag{16}\n",
    "\\end{equation}\n",
    "$$"
   ]
  },
  {
   "cell_type": "markdown",
   "metadata": {},
   "source": [
    "which we will use as our starting point for the Hartree-Fock calculations. \n",
    "\n",
    "\n",
    "\n",
    "\n",
    "## Why Hartree-Fock?\n",
    "\n",
    "Hartree-Fock (HF) theory is an algorithm for finding an approximative expression for the ground state of a given Hamiltonian. The basic ingredients are\n",
    "  * Define a single-particle basis $\\{\\psi_{\\alpha}\\}$ so that"
   ]
  },
  {
   "cell_type": "markdown",
   "metadata": {},
   "source": [
    "$$\n",
    "\\hat{h}^{\\mathrm{HF}}\\psi_{\\alpha} = \\varepsilon_{\\alpha}\\psi_{\\alpha}\n",
    "$$"
   ]
  },
  {
   "cell_type": "markdown",
   "metadata": {},
   "source": [
    "with the Hartree-Fock Hamiltonian defined as"
   ]
  },
  {
   "cell_type": "markdown",
   "metadata": {},
   "source": [
    "$$\n",
    "\\hat{h}^{\\mathrm{HF}}=\\hat{t}+\\hat{u}_{\\mathrm{ext}}+\\hat{u}^{\\mathrm{HF}}\n",
    "$$"
   ]
  },
  {
   "cell_type": "markdown",
   "metadata": {},
   "source": [
    "* The term  $\\hat{u}^{\\mathrm{HF}}$ is a single-particle potential to be determined by the HF algorithm.\n",
    "\n",
    "  * The HF algorithm means to choose $\\hat{u}^{\\mathrm{HF}}$ in order to have"
   ]
  },
  {
   "cell_type": "markdown",
   "metadata": {},
   "source": [
    "$$\n",
    "\\langle \\hat{H} \\rangle = E^{\\mathrm{HF}}= \\langle \\Phi_0 | \\hat{H}|\\Phi_0 \\rangle\n",
    "$$"
   ]
  },
  {
   "cell_type": "markdown",
   "metadata": {},
   "source": [
    "that is to find a local minimum with a Slater determinant $\\Phi_0$ being the ansatz for the ground state. \n",
    "  * The variational principle ensures that $E^{\\mathrm{HF}} \\ge E_0$, with $E_0$ the exact ground state energy.\n",
    "\n",
    "## Why Hartree-Fock?\n",
    "\n",
    "We will show that the Hartree-Fock Hamiltonian $\\hat{h}^{\\mathrm{HF}}$ equals our definition of the operator $\\hat{f}$ discussed in connection with the new definition of the normal-ordered Hamiltonian (see later lectures), that is we have, for a specific matrix element"
   ]
  },
  {
   "cell_type": "markdown",
   "metadata": {},
   "source": [
    "$$\n",
    "\\langle p |\\hat{h}^{\\mathrm{HF}}| q \\rangle =\\langle p |\\hat{f}| q \\rangle=\\langle p|\\hat{t}+\\hat{u}_{\\mathrm{ext}}|q \\rangle +\\sum_{i\\le F} \\langle pi | \\hat{V} | qi\\rangle_{AS},\n",
    "$$"
   ]
  },
  {
   "cell_type": "markdown",
   "metadata": {},
   "source": [
    "meaning that"
   ]
  },
  {
   "cell_type": "markdown",
   "metadata": {},
   "source": [
    "$$\n",
    "\\langle p|\\hat{u}^{\\mathrm{HF}}|q\\rangle = \\sum_{i\\le F} \\langle pi | \\hat{V} | qi\\rangle_{AS}.\n",
    "$$"
   ]
  },
  {
   "cell_type": "markdown",
   "metadata": {},
   "source": [
    "The so-called Hartree-Fock potential $\\hat{u}^{\\mathrm{HF}}$ brings an explicit medium dependence due to the summation over all single-particle states below the Fermi level $F$. It brings also in an explicit dependence on the two-body interaction (in nuclear physics we can also have complicated three- or higher-body forces). The two-body interaction, with its contribution from the other bystanding fermions, creates an effective mean field in which a given fermion moves, in addition to the external potential $\\hat{u}_{\\mathrm{ext}}$ which confines the motion of the fermion. For systems like nuclei, there is no external confining potential. Nuclei are examples of self-bound systems, where the binding arises due to the intrinsic nature of the strong force. For nuclear systems thus, there would be no external one-body potential in the Hartree-Fock Hamiltonian. \n",
    "\n",
    "\n",
    "\n",
    "## Example system for fermions:  quantum dots\n",
    "\n",
    "We will deal only with systems where all possible single-particle states below a certain level are filled up. Such systems are called closed shell systems, a naming inspired from atomic and nuclear physics. These closed shell systems define what is frequently named **magic numbers**. Quantum dots exhibit also magic numbers, meaning that the addition or removal of one eletron requires more energy than systems where the lowest-lying shells are not filled. Using the harmonic oscillator in two dimensions as basis functions (with degenerate single-particle energies) the magic numbers are $N=2$, $N=6$, $N=12$, $N=20$ etc, where $N$ is the number of electrons. See the table below for more details. \n",
    "\n",
    "We write our Hamiltonian as a one-body part"
   ]
  },
  {
   "cell_type": "markdown",
   "metadata": {},
   "source": [
    "$$\n",
    "\\hat{H}_0=\\sum_{i=1}^{N_e}\\left(-{\\frac{1}{2}}\\nabla^2_{i}+\\frac{ \\omega^2}{2}r^2_{i} \\right),\n",
    "$$"
   ]
  },
  {
   "cell_type": "markdown",
   "metadata": {},
   "source": [
    "and an interacting part"
   ]
  },
  {
   "cell_type": "markdown",
   "metadata": {},
   "source": [
    "$$\n",
    "\\hat{V}=\\sum_{i < j}^{N_e}\\frac{1}{|\\boldsymbol{r}_i-\\boldsymbol{r}_j|}.\n",
    "$$"
   ]
  },
  {
   "cell_type": "markdown",
   "metadata": {},
   "source": [
    "The unperturbed part of the Hamiltonian yields the  single-particle energies"
   ]
  },
  {
   "cell_type": "markdown",
   "metadata": {},
   "source": [
    "$$\n",
    "\\epsilon_i = \\omega\\left(2n+|m| + 1\\right),\n",
    "$$"
   ]
  },
  {
   "cell_type": "markdown",
   "metadata": {},
   "source": [
    "where $n = 0,1,2,3,..$ and $m = 0, \\pm 1, \\pm 2,..$. The index $i$ runs from $0,1,2,\\dots$.\n",
    "\n",
    "\n",
    "\n",
    "\n",
    "\n",
    "\n",
    "\n",
    "## Our integrals\n",
    "\n",
    "The integral"
   ]
  },
  {
   "cell_type": "markdown",
   "metadata": {},
   "source": [
    "$$\n",
    "\\langle pq \\vert \\hat{v} \\vert rs \\rangle = A\\int_{-\\infty}^{\\infty}\\int_{-\\infty}^{\\infty}\\int_{-\\infty}^{\\infty}\\int_{-\\infty}^{\\infty} \\exp{[-(x_1^2+x_2^2+y_1^2+y_2^2)/2]}f(x_1,y_1,x_2,y_2)dx_1dy_1dx_2dy_2,\n",
    "$$"
   ]
  },
  {
   "cell_type": "markdown",
   "metadata": {},
   "source": [
    "can be calculate in analytical form if we switch to polar coordinates. \n",
    "\n",
    "\n",
    "\n",
    "\n",
    "## Single-particle functions in polar coordinates\n",
    "\n",
    "Instead of Hermite polynomials it is convenient for the Hartree-Fock calculations to use polar coordinates.\n",
    "\n",
    "\n",
    "Using polar coordinates"
   ]
  },
  {
   "cell_type": "markdown",
   "metadata": {},
   "source": [
    "<!-- Equation labels as ordinary links -->\n",
    "<div id=\"_auto2\"></div>\n",
    "\n",
    "$$\n",
    "\\begin{equation}\n",
    "x = r \\cos \\theta \n",
    "\\label{_auto2} \\tag{17}\n",
    "\\end{equation}\n",
    "$$"
   ]
  },
  {
   "cell_type": "markdown",
   "metadata": {},
   "source": [
    "<!-- Equation labels as ordinary links -->\n",
    "<div id=\"_auto3\"></div>\n",
    "\n",
    "$$\n",
    "\\begin{equation} \n",
    "y = r \\sin \\theta \n",
    "\\label{_auto3} \\tag{18}\n",
    "\\end{equation}\n",
    "$$"
   ]
  },
  {
   "cell_type": "markdown",
   "metadata": {},
   "source": [
    "<!-- Equation labels as ordinary links -->\n",
    "<div id=\"_auto4\"></div>\n",
    "\n",
    "$$\n",
    "\\begin{equation} \n",
    "r = \\sqrt{x^2 + y^2},\n",
    "\\label{_auto4} \\tag{19}\n",
    "\\end{equation}\n",
    "$$"
   ]
  },
  {
   "cell_type": "markdown",
   "metadata": {},
   "source": [
    "the normalized solution for the angular part in two dimensions is"
   ]
  },
  {
   "cell_type": "markdown",
   "metadata": {},
   "source": [
    "<!-- Equation labels as ordinary links -->\n",
    "<div id=\"normalized angular part\"></div>\n",
    "\n",
    "$$\n",
    "Y(\\theta) = \\frac{1}{\\sqrt{2\\pi}} e^{im\\theta}\n",
    "  \\label{normalized angular part} \\tag{20}\n",
    "$$"
   ]
  },
  {
   "cell_type": "markdown",
   "metadata": {},
   "source": [
    "The total wavefunction must satisfy the physical condition that $\\psi(r,\\theta) = \\psi(r,\\theta+2\\pi)$ This makes a restriction on the quantum number $m$ which can take integral values"
   ]
  },
  {
   "cell_type": "markdown",
   "metadata": {},
   "source": [
    "$$\n",
    "m = 0, \\pm 1, \\pm 2, ...\n",
    "$$"
   ]
  },
  {
   "cell_type": "markdown",
   "metadata": {},
   "source": [
    "<!-- !split  -->\n",
    "## Eigenfunctions in two dimensions\n",
    "\n",
    "The time-independent part of the wave function  is separated in an angular and a radial part"
   ]
  },
  {
   "cell_type": "markdown",
   "metadata": {},
   "source": [
    "$$\n",
    "\\psi(r,\\theta) = R(r) \\frac{1}{\\sqrt{2\\pi}} e^{im\\theta}, \\qquad m=0,\\pm 1, \\pm 2,...\n",
    "$$"
   ]
  },
  {
   "cell_type": "markdown",
   "metadata": {},
   "source": [
    "The solution of the radial equation is"
   ]
  },
  {
   "cell_type": "markdown",
   "metadata": {},
   "source": [
    "$$\n",
    "R_{nm}(r) = \\sqrt{\\frac{2n!}{(n+|m|)!}}\\beta^{\\frac{1}{2}(|m|+1)}r^{|m|}e^{-\\frac{1}{2}\\beta r^2} L_n^{|m|} (\\beta r^2)\n",
    "$$"
   ]
  },
  {
   "cell_type": "markdown",
   "metadata": {},
   "source": [
    "Here the subscript $n$ denote the principal quantum number, and $m$ is the angular momentum number"
   ]
  },
  {
   "cell_type": "markdown",
   "metadata": {},
   "source": [
    "<!-- Equation labels as ordinary links -->\n",
    "<div id=\"_auto5\"></div>\n",
    "\n",
    "$$\n",
    "\\begin{equation}\n",
    "  n = 0, 1, 2, 3, .... \n",
    "\\label{_auto5} \\tag{21}\n",
    "\\end{equation}\n",
    "$$"
   ]
  },
  {
   "cell_type": "markdown",
   "metadata": {},
   "source": [
    "<!-- Equation labels as ordinary links -->\n",
    "<div id=\"_auto6\"></div>\n",
    "\n",
    "$$\n",
    "\\begin{equation} \n",
    "  m = 0, \\pm 1, \\pm, 2, \\pm 3,...\n",
    "\\label{_auto6} \\tag{22}\n",
    "\\end{equation}\n",
    "$$"
   ]
  },
  {
   "cell_type": "markdown",
   "metadata": {},
   "source": [
    "$L_n^{|m|}$ is the associated Laguerre polynomials discussed above, and $\\beta$ is defined as"
   ]
  },
  {
   "cell_type": "markdown",
   "metadata": {},
   "source": [
    "$$\n",
    "\\beta = \\frac{m\\omega}{\\hbar}\n",
    "$$"
   ]
  },
  {
   "cell_type": "markdown",
   "metadata": {},
   "source": [
    "## Final expression for the eigenfunction\n",
    "\n",
    "The final eigenfunction for an electron moving in a two-dimensional harmonic oscillator is then"
   ]
  },
  {
   "cell_type": "markdown",
   "metadata": {},
   "source": [
    "$$\n",
    "\\psi(r,\\theta) = \\sqrt{\\frac{n!}{\\pi(n+|m|)!}}\\beta^{\\frac{1}{2}(|m|+1)}r^{|m|}e^{-\\frac{1}{2}\\beta r^2} L_n^{|m|} (\\beta r^2) e^{im\\theta},\n",
    "$$"
   ]
  },
  {
   "cell_type": "markdown",
   "metadata": {},
   "source": [
    "with the  eigenvalue"
   ]
  },
  {
   "cell_type": "markdown",
   "metadata": {},
   "source": [
    "$$\n",
    "E = \\hbar \\omega(2n+|m|+1)\n",
    "$$"
   ]
  },
  {
   "cell_type": "markdown",
   "metadata": {},
   "source": [
    "which is the same as the energy with cartesian coordinates but now in terms of $n_x$ and $n_y$, that is"
   ]
  },
  {
   "cell_type": "markdown",
   "metadata": {},
   "source": [
    "$$\n",
    "E = \\hbar \\omega(n_x+n_y+1).\n",
    "$$"
   ]
  },
  {
   "cell_type": "markdown",
   "metadata": {},
   "source": [
    "## [Program for computing the Coulomb interaction in polar coordinates](https://github.com/CompPhysics/ComputationalPhysics2/tree/gh-pages/doc/Programs/QDCoulombPotential)\n",
    "\n",
    "The program is based on the analytical expression given by [Anisimova and Matulis](http://iopscience.iop.org/article/10.1088/0953-8984/10/3/013/pdf). It returns the value of the integral (without checking for spin values, you need to add this test) using as input the quantum numbers\n",
    "$n_i$ and $m_i$, that is"
   ]
  },
  {
   "cell_type": "markdown",
   "metadata": {},
   "source": [
    "$$\n",
    "\\langle pq \\vert \\hat{v} \\vert rs \\rangle =\\langle (n_pm_p)(n_qm_q) \\vert \\hat{v} \\vert (n_rm_r)(n_sm_s) \\rangle,\n",
    "$$"
   ]
  },
  {
   "cell_type": "markdown",
   "metadata": {},
   "source": [
    "and the main code is (click on the above link for the full code)"
   ]
  },
  {
   "cell_type": "markdown",
   "metadata": {},
   "source": [
    "        #include \"Coulomb_Functions.hpp\"\n",
    "        \n",
    "        int main(int argc, char * argv[])\n",
    "        {\n",
    "          if(argc != 10){ std::cerr << \"Wrong Input: should be ./QD_Coulomb  hw  n1  ml1  n2  ml2  n3  ml3  n4  ml4\" << std::endl; exit(1); }\n",
    "          double hw = std::atof(argv[1]);\n",
    "          int n1 = std::atoi(argv[2]);\n",
    "          int ml1 = std::atoi(argv[3]);\n",
    "          int n2 = std::atoi(argv[4]);\n",
    "          int ml2 = std::atoi(argv[5]);\n",
    "          int n3 = std::atoi(argv[6]);\n",
    "          int ml3 = std::atoi(argv[7]);\n",
    "          int n4 = std::atoi(argv[8]);\n",
    "          int ml4 = std::atoi(argv[9]);\n",
    "        \n",
    "          double TBME = Coulomb_HO(hw, n1, ml1, n2, ml2, n3, ml3, n4, ml4);\n",
    "          std::cout << std::setprecision(12);\n",
    "          std::cout << \"< \" << n1 << \",\" << ml1 << \" ; \" << n2 << \",\" << ml2 << \" || V || \" << n3 << \",\" << ml3 << \" ; \" << n4 << \",\" << ml4 << \" > = \" << TBME << std::endl;\n",
    "          \n",
    "          return 0;\n",
    "        }\n"
   ]
  },
  {
   "cell_type": "markdown",
   "metadata": {},
   "source": [
    "## Conserved quantum numbers\n",
    "\n",
    "When setting up the matrix elements"
   ]
  },
  {
   "cell_type": "markdown",
   "metadata": {},
   "source": [
    "$$\n",
    "\\langle pq \\vert \\hat{v} \\vert rs \\rangle =\\langle (n_pm_p)(n_qm_q) \\vert \\hat{v} \\vert (n_rm_r)(n_sm_s) \\rangle,\n",
    "$$"
   ]
  },
  {
   "cell_type": "markdown",
   "metadata": {},
   "source": [
    "you need to take into account that there are conserved two-electron quantum numbers since the Hamiltonian is invariant under rotations, namely"
   ]
  },
  {
   "cell_type": "markdown",
   "metadata": {},
   "source": [
    "$$\n",
    "m_p+m_q = M = m_r+m_s,\n",
    "$$"
   ]
  },
  {
   "cell_type": "markdown",
   "metadata": {},
   "source": [
    "and the total spin projection which is not included in the above code. You need to add this as a test, that is check that"
   ]
  },
  {
   "cell_type": "markdown",
   "metadata": {},
   "source": [
    "$$\n",
    "\\sigma_p+\\sigma_q = S_z = \\sigma_r+\\sigma_s.\n",
    "$$"
   ]
  },
  {
   "cell_type": "markdown",
   "metadata": {},
   "source": [
    "Finally, you need to ensure that the single-particle spinors satisfy  $\\sigma_p=\\sigma_r$ \n",
    "and $\\sigma_q=\\sigma_s$. Pay in particular attention to this when you compute the exchange matrix elements. \n",
    "\n",
    "## Reminder on Variational Calculus and Lagrangian Multipliers\n",
    "\n",
    "The calculus of variations involves \n",
    "problems where the quantity to be minimized or maximized is an integral. \n",
    "\n",
    "In the general case we have an integral of the type"
   ]
  },
  {
   "cell_type": "markdown",
   "metadata": {},
   "source": [
    "$$\n",
    "E[\\Phi]= \\int_a^b f(\\Phi(x),\\frac{\\partial \\Phi}{\\partial x},x)dx,\n",
    "$$"
   ]
  },
  {
   "cell_type": "markdown",
   "metadata": {},
   "source": [
    "where $E$ is the quantity which is sought minimized or maximized.\n",
    "The problem is that although $f$ is a function of the variables $\\Phi$, $\\partial \\Phi/\\partial x$ and $x$, the exact dependence of\n",
    "$\\Phi$ on $x$ is not known.  This means again that even though the integral has fixed limits $a$ and $b$, the path of integration is\n",
    "not known. In our case the unknown quantities are the single-particle wave functions and we wish to choose an integration path which makes\n",
    "the functional $E[\\Phi]$ stationary. This means that we want to find minima, or maxima or saddle points. In physics we search normally for minima.\n",
    "Our task is therefore to find the minimum of $E[\\Phi]$ so that its variation $\\delta E$ is zero  subject to specific\n",
    "constraints. In our case the constraints appear as the integral which expresses the orthogonality of the  single-particle wave functions.\n",
    "The constraints can be treated via the technique of Lagrangian multipliers\n",
    "\n",
    "\n",
    "\n",
    "## Variational Calculus and Lagrangian Multipliers, simple example\n",
    "\n",
    "Let us specialize to the expectation value of the energy for one particle in three-dimensions.\n",
    "This expectation value reads"
   ]
  },
  {
   "cell_type": "markdown",
   "metadata": {},
   "source": [
    "$$\n",
    "E=\\int dxdydz \\psi^*(x,y,z) \\hat{H} \\psi(x,y,z),\n",
    "$$"
   ]
  },
  {
   "cell_type": "markdown",
   "metadata": {},
   "source": [
    "with the constraint"
   ]
  },
  {
   "cell_type": "markdown",
   "metadata": {},
   "source": [
    "$$\n",
    "\\int dxdydz \\psi^*(x,y,z) \\psi(x,y,z)=1,\n",
    "$$"
   ]
  },
  {
   "cell_type": "markdown",
   "metadata": {},
   "source": [
    "and a Hamiltonian"
   ]
  },
  {
   "cell_type": "markdown",
   "metadata": {},
   "source": [
    "$$\n",
    "\\hat{H}=-\\frac{1}{2}\\nabla^2+V(x,y,z).\n",
    "$$"
   ]
  },
  {
   "cell_type": "markdown",
   "metadata": {},
   "source": [
    "We will, for the sake of notational convenience,  skip the variables $x,y,z$ below, and write for example $V(x,y,z)=V$.\n",
    "\n",
    "\n",
    "## Manipulating terms\n",
    "\n",
    "The integral involving the kinetic energy can be written as, with the function $\\psi$ vanishing\n",
    "strongly for large values of $x,y,z$ (given here by the limits $a$ and $b$),"
   ]
  },
  {
   "cell_type": "markdown",
   "metadata": {},
   "source": [
    "$$\n",
    "\\int_a^b dxdydz \\psi^* \\left(-\\frac{1}{2}\\nabla^2\\right) \\psi dxdydz = \\psi^*\\nabla\\psi|_a^b+\\int_a^b dxdydz\\frac{1}{2}\\nabla\\psi^*\\nabla\\psi.\n",
    "$$"
   ]
  },
  {
   "cell_type": "markdown",
   "metadata": {},
   "source": [
    "We will drop the limits $a$ and $b$ in the remaining discussion. \n",
    "Inserting this expression into the expectation value for the energy and taking the variational minimum  we obtain"
   ]
  },
  {
   "cell_type": "markdown",
   "metadata": {},
   "source": [
    "$$\n",
    "\\delta E = \\delta \\left\\{\\int dxdydz\\left( \\frac{1}{2}\\nabla\\psi^*\\nabla\\psi+V\\psi^*\\psi\\right)\\right\\} = 0.\n",
    "$$"
   ]
  },
  {
   "cell_type": "markdown",
   "metadata": {},
   "source": [
    "## Adding the Lagrangian multiplier\n",
    "\n",
    "The constraint appears in integral form as"
   ]
  },
  {
   "cell_type": "markdown",
   "metadata": {},
   "source": [
    "$$\n",
    "\\int dxdydz \\psi^* \\psi=\\mathrm{constant},\n",
    "$$"
   ]
  },
  {
   "cell_type": "markdown",
   "metadata": {},
   "source": [
    "and multiplying with a Lagrangian multiplier $\\lambda$ and taking the variational minimum we obtain the final variational equation"
   ]
  },
  {
   "cell_type": "markdown",
   "metadata": {},
   "source": [
    "$$\n",
    "\\delta \\left\\{\\int dxdydz\\left( \\frac{1}{2}\\nabla\\psi^*\\nabla\\psi+V\\psi^*\\psi-\\lambda\\psi^*\\psi\\right)\\right\\} = 0.\n",
    "$$"
   ]
  },
  {
   "cell_type": "markdown",
   "metadata": {},
   "source": [
    "We introduce the function  $f$"
   ]
  },
  {
   "cell_type": "markdown",
   "metadata": {},
   "source": [
    "$$\n",
    "f =  \\frac{1}{2}\\nabla\\psi^*\\nabla\\psi+V\\psi^*\\psi-\\lambda\\psi^*\\psi=\n",
    "\\frac{1}{2}(\\psi^*_x\\psi_x+\\psi^*_y\\psi_y+\\psi^*_z\\psi_z)+V\\psi^*\\psi-\\lambda\\psi^*\\psi,\n",
    "$$"
   ]
  },
  {
   "cell_type": "markdown",
   "metadata": {},
   "source": [
    "where we have skipped the dependence on $x,y,z$ and introduced the shorthand $\\psi_x$, $\\psi_y$ and $\\psi_z$  for the various derivatives.\n",
    "\n",
    "\n",
    "## And with the Euler-Lagrange equations we get\n",
    "\n",
    "For $\\psi^*$ the Euler-Lagrange  equations yield"
   ]
  },
  {
   "cell_type": "markdown",
   "metadata": {},
   "source": [
    "$$\n",
    "\\frac{\\partial f}{\\partial \\psi^*}- \\frac{\\partial }{\\partial x}\\frac{\\partial f}{\\partial \\psi^*_x}-\\frac{\\partial }{\\partial y}\\frac{\\partial f}{\\partial \\psi^*_y}-\\frac{\\partial }{\\partial z}\\frac{\\partial f}{\\partial \\psi^*_z}=0,\n",
    "$$"
   ]
  },
  {
   "cell_type": "markdown",
   "metadata": {},
   "source": [
    "which results in"
   ]
  },
  {
   "cell_type": "markdown",
   "metadata": {},
   "source": [
    "$$\n",
    "-\\frac{1}{2}(\\psi_{xx}+\\psi_{yy}+\\psi_{zz})+V\\psi=\\lambda \\psi.\n",
    "$$"
   ]
  },
  {
   "cell_type": "markdown",
   "metadata": {},
   "source": [
    "We can then identify the  Lagrangian multiplier as the energy of the system. The last equation is \n",
    "nothing but the standard \n",
    "Schroedinger equation and the variational  approach discussed here provides \n",
    "a powerful method for obtaining approximate solutions of the wave function.\n",
    "\n",
    "\n",
    "\n",
    "\n",
    "## Hartree-Fock by varying the coefficients of a wave function expansion\n",
    "\n",
    "In deriving the Hartree-Fock equations, we  will expand the single-particle functions in a known basis  and vary the coefficients, \n",
    "that is, the new single-particle wave function is written as a linear expansion\n",
    "in terms of a fixed chosen orthogonal basis (for example the well-known harmonic oscillator functions or the hydrogen-like functions etc).\n",
    "We define our new Hartree-Fock single-particle basis by performing a unitary transformation \n",
    "on our previous basis (labelled with greek indices) as"
   ]
  },
  {
   "cell_type": "markdown",
   "metadata": {},
   "source": [
    "<!-- Equation labels as ordinary links -->\n",
    "<div id=\"eq:newbasis\"></div>\n",
    "\n",
    "$$\n",
    "\\begin{equation}\n",
    "\\psi_p^{HF}  = \\sum_{\\lambda} C_{p\\lambda}\\phi_{\\lambda}. \\label{eq:newbasis} \\tag{23}\n",
    "\\end{equation}\n",
    "$$"
   ]
  },
  {
   "cell_type": "markdown",
   "metadata": {},
   "source": [
    "In this case we vary the coefficients $C_{p\\lambda}$. If the basis has infinitely many solutions, we need\n",
    "to truncate the above sum.  We assume that the basis $\\phi_{\\lambda}$ is orthogonal. A unitary transformation keeps the orthogonality, as discussed in exercise 1 below.  \n",
    "\n",
    "\n",
    "## More on linear algebra\n",
    "\n",
    "In the previous slide we stated that a unitary transformation keeps the orthogonality, as discussed in exercise 1 below.  To see this consider first a basis of vectors $\\mathbf{v}_i$,"
   ]
  },
  {
   "cell_type": "markdown",
   "metadata": {},
   "source": [
    "$$\n",
    "\\mathbf{v}_i = \\begin{bmatrix} v_{i1} \\\\ \\dots \\\\ \\dots \\\\v_{in} \\end{bmatrix}\n",
    "$$"
   ]
  },
  {
   "cell_type": "markdown",
   "metadata": {},
   "source": [
    "We assume that the basis is orthogonal, that is"
   ]
  },
  {
   "cell_type": "markdown",
   "metadata": {},
   "source": [
    "$$\n",
    "\\mathbf{v}_j^T\\mathbf{v}_i = \\delta_{ij}.\n",
    "$$"
   ]
  },
  {
   "cell_type": "markdown",
   "metadata": {},
   "source": [
    "An orthogonal or unitary transformation"
   ]
  },
  {
   "cell_type": "markdown",
   "metadata": {},
   "source": [
    "$$\n",
    "\\mathbf{w}_i=\\mathbf{U}\\mathbf{v}_i,\n",
    "$$"
   ]
  },
  {
   "cell_type": "markdown",
   "metadata": {},
   "source": [
    "preserves the dot product and orthogonality since"
   ]
  },
  {
   "cell_type": "markdown",
   "metadata": {},
   "source": [
    "$$\n",
    "\\mathbf{w}_j^T\\mathbf{w}_i=(\\mathbf{U}\\mathbf{v}_j)^T\\mathbf{U}\\mathbf{v}_i=\\mathbf{v}_j^T\\mathbf{U}^T\\mathbf{U}\\mathbf{v}_i= \\mathbf{v}_j^T\\mathbf{v}_i = \\delta_{ij}.\n",
    "$$"
   ]
  },
  {
   "cell_type": "markdown",
   "metadata": {},
   "source": [
    "## Coefficients of a wave function expansion\n",
    "\n",
    "This means that if the coefficients $C_{p\\lambda}$ belong to a unitary or orthogonal trasformation (using the Dirac bra-ket notation)"
   ]
  },
  {
   "cell_type": "markdown",
   "metadata": {},
   "source": [
    "$$\n",
    "\\vert p\\rangle  = \\sum_{\\lambda} C_{p\\lambda}\\vert\\lambda\\rangle,\n",
    "$$"
   ]
  },
  {
   "cell_type": "markdown",
   "metadata": {},
   "source": [
    "orthogonality is preserved, that is $\\langle \\alpha \\vert \\beta\\rangle = \\delta_{\\alpha\\beta}$\n",
    "and $\\langle p \\vert q\\rangle = \\delta_{pq}$. \n",
    "\n",
    "This propertry is extremely useful when we build up a basis of many-body Stater determinant based states. \n",
    "\n",
    "**Note also that although a basis $\\vert \\alpha\\rangle$ contains an infinity of states, for practical calculations we have always to make some truncations.** \n",
    "\n",
    "\n",
    "\n",
    "\n",
    "## More Basic Matrix Features, simple $2 \\times 2$ determinant, useful property of determinants\n",
    "\n",
    "Before we develop the Hartree-Fock equations, there is another very useful property of determinants that we will use both in connection with Hartree-Fock calculations and later shell-model calculations.  \n",
    "\n",
    "Consider the following determinant"
   ]
  },
  {
   "cell_type": "markdown",
   "metadata": {},
   "source": [
    "$$\n",
    "\\left| \\begin{array}{cc} \\alpha_1b_{11}+\\alpha_2sb_{12}& a_{12}\\\\\n",
    "                         \\alpha_1b_{21}+\\alpha_2b_{22}&a_{22}\\end{array} \\right|=\\alpha_1\\left|\\begin{array}{cc} b_{11}& a_{12}\\\\\n",
    "                         b_{21}&a_{22}\\end{array} \\right|+\\alpha_2\\left| \\begin{array}{cc} b_{12}& a_{12}\\\\b_{22}&a_{22}\\end{array} \\right|\n",
    "$$"
   ]
  },
  {
   "cell_type": "markdown",
   "metadata": {},
   "source": [
    "## More Basic Matrix Features, $n \\times n$ determinant\n",
    "\n",
    "We can generalize this to  an $n\\times n$ matrix and have"
   ]
  },
  {
   "cell_type": "markdown",
   "metadata": {},
   "source": [
    "$$\n",
    "\\left| \\begin{array}{cccccc} a_{11}& a_{12} & \\dots & \\sum_{k=1}^n c_k b_{1k} &\\dots & a_{1n}\\\\\n",
    "a_{21}& a_{22} & \\dots & \\sum_{k=1}^n c_k b_{2k} &\\dots & a_{2n}\\\\\n",
    "\\dots & \\dots & \\dots & \\dots & \\dots & \\dots \\\\\n",
    "\\dots & \\dots & \\dots & \\dots & \\dots & \\dots \\\\\n",
    "a_{n1}& a_{n2} & \\dots & \\sum_{k=1}^n c_k b_{nk} &\\dots & a_{nn}\\end{array} \\right|=\n",
    "\\sum_{k=1}^n c_k\\left| \\begin{array}{cccccc} a_{11}& a_{12} & \\dots &  b_{1k} &\\dots & a_{1n}\\\\\n",
    "a_{21}& a_{22} & \\dots &  b_{2k} &\\dots & a_{2n}\\\\\n",
    "\\dots & \\dots & \\dots & \\dots & \\dots & \\dots\\\\\n",
    "\\dots & \\dots & \\dots & \\dots & \\dots & \\dots\\\\\n",
    "a_{n1}& a_{n2} & \\dots &  b_{nk} &\\dots & a_{nn}\\end{array} \\right| .\n",
    "$$"
   ]
  },
  {
   "cell_type": "markdown",
   "metadata": {},
   "source": [
    "This is a property we will use in our Hartree-Fock discussions. \n",
    "\n",
    "\n",
    "\n",
    "\n",
    "\n",
    "\n",
    "## More Basic Matrix Features, a general $n \\times n$ determinant\n",
    "\n",
    "We can generalize the previous results, now \n",
    "with all elements $a_{ij}$  being given as functions of \n",
    "linear combinations  of various coefficients $c$ and elements $b_{ij}$,"
   ]
  },
  {
   "cell_type": "markdown",
   "metadata": {},
   "source": [
    "$$\n",
    "\\left| \\begin{array}{cccccc} \\sum_{k=1}^n b_{1k}c_{k1}& \\sum_{k=1}^n b_{1k}c_{k2} & \\dots & \\sum_{k=1}^n b_{1k}c_{kj}  &\\dots & \\sum_{k=1}^n b_{1k}c_{kn}\\\\\n",
    "\\sum_{k=1}^n b_{2k}c_{k1}& \\sum_{k=1}^n b_{2k}c_{k2} & \\dots & \\sum_{k=1}^n b_{2k}c_{kj} &\\dots & \\sum_{k=1}^n b_{2k}c_{kn}\\\\\n",
    "\\dots & \\dots & \\dots & \\dots & \\dots & \\dots \\\\\n",
    "\\dots & \\dots & \\dots & \\dots & \\dots &\\dots \\\\\n",
    "\\sum_{k=1}^n b_{nk}c_{k1}& \\sum_{k=1}^n b_{nk}c_{k2} & \\dots & \\sum_{k=1}^n b_{nk}c_{kj} &\\dots & \\sum_{k=1}^n b_{nk}c_{kn}\\end{array} \\right|=det(\\mathbf{C})det(\\mathbf{B}),\n",
    "$$"
   ]
  },
  {
   "cell_type": "markdown",
   "metadata": {},
   "source": [
    "where $det(\\mathbf{C})$ and $det(\\mathbf{B})$ are the determinants of $n\\times n$ matrices\n",
    "with elements $c_{ij}$ and $b_{ij}$ respectively.  \n",
    "This is a property we will use in our Hartree-Fock discussions. Convince yourself about the correctness of the above expression by setting $n=2$. \n",
    "\n",
    "\n",
    "\n",
    "\n",
    "\n",
    "## A general Slater determinant\n",
    "\n",
    "With our definition of the new basis in terms of an orthogonal basis we have"
   ]
  },
  {
   "cell_type": "markdown",
   "metadata": {},
   "source": [
    "$$\n",
    "\\psi_p(x)  = \\sum_{\\lambda} C_{p\\lambda}\\phi_{\\lambda}(x).\n",
    "$$"
   ]
  },
  {
   "cell_type": "markdown",
   "metadata": {},
   "source": [
    "If the coefficients $C_{p\\lambda}$ belong to an orthogonal or unitary matrix, the new basis\n",
    "is also orthogonal. \n",
    "Our Slater determinant in the new basis $\\psi_p(x)$ is written as"
   ]
  },
  {
   "cell_type": "markdown",
   "metadata": {},
   "source": [
    "$$\n",
    "\\frac{1}{\\sqrt{A!}}\n",
    "\\left| \\begin{array}{ccccc} \\psi_{p}(x_1)& \\psi_{p}(x_2)& \\dots & \\dots & \\psi_{p}(x_A)\\\\\n",
    "                            \\psi_{q}(x_1)&\\psi_{q}(x_2)& \\dots & \\dots & \\psi_{q}(x_A)\\\\  \n",
    "                            \\dots & \\dots & \\dots & \\dots & \\dots \\\\\n",
    "                            \\dots & \\dots & \\dots & \\dots & \\dots \\\\\n",
    "                     \\psi_{t}(x_1)&\\psi_{t}(x_2)& \\dots & \\dots & \\psi_{t}(x_A)\\end{array} \\right|=\\frac{1}{\\sqrt{A!}}\n",
    "\\left| \\begin{array}{ccccc} \\sum_{\\lambda} C_{p\\lambda}\\phi_{\\lambda}(x_1)& \\sum_{\\lambda} C_{p\\lambda}\\phi_{\\lambda}(x_2)& \\dots & \\dots & \\sum_{\\lambda} C_{p\\lambda}\\phi_{\\lambda}(x_A)\\\\\n",
    "                            \\sum_{\\lambda} C_{q\\lambda}\\phi_{\\lambda}(x_1)&\\sum_{\\lambda} C_{q\\lambda}\\phi_{\\lambda}(x_2)& \\dots & \\dots & \\sum_{\\lambda} C_{q\\lambda}\\phi_{\\lambda}(x_A)\\\\  \n",
    "                            \\dots & \\dots & \\dots & \\dots & \\dots \\\\\n",
    "                            \\dots & \\dots & \\dots & \\dots & \\dots \\\\\n",
    "                     \\sum_{\\lambda} C_{t\\lambda}\\phi_{\\lambda}(x_1)&\\sum_{\\lambda} C_{t\\lambda}\\phi_{\\lambda}(x_2)& \\dots & \\dots & \\sum_{\\lambda} C_{t\\lambda}\\phi_{\\lambda}(x_A)\\end{array} \\right|,\n",
    "$$"
   ]
  },
  {
   "cell_type": "markdown",
   "metadata": {},
   "source": [
    "which is nothing but $det(\\mathbf{C})det(\\Phi)$, with $det(\\Phi)$ being the determinant given by the basis functions $\\phi_{\\lambda}(x)$. \n",
    "\n",
    "\n",
    "\n",
    "\n",
    "\n",
    "## Hartree-Fock by varying the coefficients of a wave function expansion\n",
    "\n",
    "It is normal to choose a single-particle basis defined as the eigenfunctions\n",
    "of parts of the full Hamiltonian. The typical situation consists of the solutions of the one-body part of the Hamiltonian, that is we have"
   ]
  },
  {
   "cell_type": "markdown",
   "metadata": {},
   "source": [
    "$$\n",
    "\\hat{h}_0\\phi_{\\lambda}=\\epsilon_{\\lambda}\\phi_{\\lambda}.\n",
    "$$"
   ]
  },
  {
   "cell_type": "markdown",
   "metadata": {},
   "source": [
    "The single-particle wave functions $\\phi_{\\lambda}(\\boldsymbol{r})$, defined by the quantum numbers $\\lambda$ and $\\boldsymbol{r}$\n",
    "are defined as the overlap"
   ]
  },
  {
   "cell_type": "markdown",
   "metadata": {},
   "source": [
    "$$\n",
    "\\phi_{\\lambda}(\\boldsymbol{r})  = \\langle \\boldsymbol{r} | \\lambda \\rangle .\n",
    "$$"
   ]
  },
  {
   "cell_type": "markdown",
   "metadata": {},
   "source": [
    "## Hartree-Fock by varying the coefficients of a wave function expansion\n",
    "\n",
    "In our discussions hereafter we will use our definitions of single-particle states above and below the Fermi ($F$) level given by the labels\n",
    "$ijkl\\dots \\le F$ for so-called single-hole states and $abcd\\dots > F$ for so-called particle states.\n",
    "For general single-particle states we employ the labels $pqrs\\dots$. \n",
    "\n",
    "\n",
    "\n",
    "## Hartree-Fock by varying the coefficients of a wave function expansion\n",
    "\n",
    "In Eq. ([FunctionalEPhi](#FunctionalEPhi)), restated here"
   ]
  },
  {
   "cell_type": "markdown",
   "metadata": {},
   "source": [
    "$$\n",
    "E[\\Phi] \n",
    "  = \\sum_{\\mu=1}^A \\langle \\mu | h | \\mu \\rangle +\n",
    "  \\frac{1}{2}\\sum_{{\\mu}=1}^A\\sum_{{\\nu}=1}^A \\langle \\mu\\nu|\\hat{v}|\\mu\\nu\\rangle_{AS},\n",
    "$$"
   ]
  },
  {
   "cell_type": "markdown",
   "metadata": {},
   "source": [
    "we found the expression for the energy functional in terms of the basis function $\\phi_{\\lambda}(\\boldsymbol{r})$. We then  varied the above energy functional with respect to the basis functions $|\\mu \\rangle$. \n",
    "Now we are interested in defining a new basis defined in terms of\n",
    "a chosen basis as defined in Eq. ([eq:newbasis](#eq:newbasis)). We can then rewrite the energy functional as"
   ]
  },
  {
   "cell_type": "markdown",
   "metadata": {},
   "source": [
    "<!-- Equation labels as ordinary links -->\n",
    "<div id=\"FunctionalEPhi2\"></div>\n",
    "\n",
    "$$\n",
    "\\begin{equation}\n",
    "  E[\\Phi^{HF}] \n",
    "  = \\sum_{i=1}^A \\langle i | h | i \\rangle +\n",
    "  \\frac{1}{2}\\sum_{ij=1}^A\\langle ij|\\hat{v}|ij\\rangle_{AS}, \\label{FunctionalEPhi2} \\tag{24}\n",
    "\\end{equation}\n",
    "$$"
   ]
  },
  {
   "cell_type": "markdown",
   "metadata": {},
   "source": [
    "where $\\Phi^{HF}$ is the new Slater determinant defined by the new basis of Eq. ([eq:newbasis](#eq:newbasis)). \n",
    "\n",
    "\n",
    "## Hartree-Fock by varying the coefficients of a wave function expansion\n",
    "\n",
    "Using Eq. ([eq:newbasis](#eq:newbasis)) we can rewrite Eq. ([FunctionalEPhi2](#FunctionalEPhi2)) as"
   ]
  },
  {
   "cell_type": "markdown",
   "metadata": {},
   "source": [
    "<!-- Equation labels as ordinary links -->\n",
    "<div id=\"FunctionalEPhi3\"></div>\n",
    "\n",
    "$$\n",
    "\\begin{equation}\n",
    "  E[\\Psi] \n",
    "  = \\sum_{i=1}^A \\sum_{\\alpha\\beta} C^*_{i\\alpha}C_{i\\beta}\\langle \\alpha | h | \\beta \\rangle +\n",
    "  \\frac{1}{2}\\sum_{ij=1}^A\\sum_{{\\alpha\\beta\\gamma\\delta}} C^*_{i\\alpha}C^*_{j\\beta}C_{i\\gamma}C_{j\\delta}\\langle \\alpha\\beta|\\hat{v}|\\gamma\\delta\\rangle_{AS}. \\label{FunctionalEPhi3} \\tag{25}\n",
    "\\end{equation}\n",
    "$$"
   ]
  },
  {
   "cell_type": "markdown",
   "metadata": {},
   "source": [
    "## Hartree-Fock by varying the coefficients of a wave function expansion\n",
    "\n",
    "We wish now to minimize the above functional. We introduce again a set of Lagrange multipliers, noting that\n",
    "since $\\langle i | j \\rangle = \\delta_{i,j}$ and $\\langle \\alpha | \\beta \\rangle = \\delta_{\\alpha,\\beta}$, \n",
    "the coefficients $C_{i\\gamma}$ obey the relation"
   ]
  },
  {
   "cell_type": "markdown",
   "metadata": {},
   "source": [
    "$$\n",
    "\\langle i | j \\rangle=\\delta_{i,j}=\\sum_{\\alpha\\beta} C^*_{i\\alpha}C_{i\\beta}\\langle \\alpha | \\beta \\rangle=\n",
    "\\sum_{\\alpha} C^*_{i\\alpha}C_{i\\alpha},\n",
    "$$"
   ]
  },
  {
   "cell_type": "markdown",
   "metadata": {},
   "source": [
    "which allows us to define a functional to be minimized that reads"
   ]
  },
  {
   "cell_type": "markdown",
   "metadata": {},
   "source": [
    "<!-- Equation labels as ordinary links -->\n",
    "<div id=\"_auto7\"></div>\n",
    "\n",
    "$$\n",
    "\\begin{equation}\n",
    "  F[\\Phi^{HF}]=E[\\Phi^{HF}] - \\sum_{i=1}^A\\epsilon_i\\sum_{\\alpha} C^*_{i\\alpha}C_{i\\alpha}.\n",
    "\\label{_auto7} \\tag{26}\n",
    "\\end{equation}\n",
    "$$"
   ]
  },
  {
   "cell_type": "markdown",
   "metadata": {},
   "source": [
    "## Hartree-Fock by varying the coefficients of a wave function expansion\n",
    "\n",
    "Minimizing with respect to $C^*_{i\\alpha}$, remembering that the equations for $C^*_{i\\alpha}$ and $C_{i\\alpha}$\n",
    "can be written as two  independent equations, we obtain"
   ]
  },
  {
   "cell_type": "markdown",
   "metadata": {},
   "source": [
    "$$\n",
    "\\frac{d}{dC^*_{i\\alpha}}\\left[  E[\\Phi^{HF}] - \\sum_{j}\\epsilon_j\\sum_{\\alpha} C^*_{j\\alpha}C_{j\\alpha}\\right]=0,\n",
    "$$"
   ]
  },
  {
   "cell_type": "markdown",
   "metadata": {},
   "source": [
    "which yields for every single-particle state $i$ and index $\\alpha$ (recalling that the coefficients $C_{i\\alpha}$ are matrix elements of a unitary (or orthogonal for a real symmetric matrix) matrix)\n",
    "the following Hartree-Fock equations"
   ]
  },
  {
   "cell_type": "markdown",
   "metadata": {},
   "source": [
    "$$\n",
    "\\sum_{\\beta} C_{i\\beta}\\langle \\alpha | h | \\beta \\rangle+\n",
    "\\sum_{j=1}^A\\sum_{\\beta\\gamma\\delta} C^*_{j\\beta}C_{j\\delta}C_{i\\gamma}\\langle \\alpha\\beta|\\hat{v}|\\gamma\\delta\\rangle_{AS}=\\epsilon_i^{HF}C_{i\\alpha}.\n",
    "$$"
   ]
  },
  {
   "cell_type": "markdown",
   "metadata": {},
   "source": [
    "## Hartree-Fock by varying the coefficients of a wave function expansion\n",
    "\n",
    "We can rewrite this equation as (changing dummy variables)"
   ]
  },
  {
   "cell_type": "markdown",
   "metadata": {},
   "source": [
    "$$\n",
    "\\sum_{\\beta} \\left\\{\\langle \\alpha | h | \\beta \\rangle+\n",
    "\\sum_{j}^A\\sum_{\\gamma\\delta} C^*_{j\\gamma}C_{j\\delta}\\langle \\alpha\\gamma|\\hat{v}|\\beta\\delta\\rangle_{AS}\\right\\}C_{i\\beta}=\\epsilon_i^{HF}C_{i\\alpha}.\n",
    "$$"
   ]
  },
  {
   "cell_type": "markdown",
   "metadata": {},
   "source": [
    "Note that the sums over greek indices run over the number of basis set functions (in principle an infinite number).\n",
    "\n",
    "\n",
    "## Hartree-Fock by varying the coefficients of a wave function expansion\n",
    "\n",
    "Defining"
   ]
  },
  {
   "cell_type": "markdown",
   "metadata": {},
   "source": [
    "$$\n",
    "h_{\\alpha\\beta}^{HF}=\\langle \\alpha | h | \\beta \\rangle+\n",
    "\\sum_{j=1}^A\\sum_{\\gamma\\delta} C^*_{j\\gamma}C_{j\\delta}\\langle \\alpha\\gamma|\\hat{v}|\\beta\\delta\\rangle_{AS},\n",
    "$$"
   ]
  },
  {
   "cell_type": "markdown",
   "metadata": {},
   "source": [
    "we can rewrite the new equations as"
   ]
  },
  {
   "cell_type": "markdown",
   "metadata": {},
   "source": [
    "<!-- Equation labels as ordinary links -->\n",
    "<div id=\"eq:newhf\"></div>\n",
    "\n",
    "$$\n",
    "\\begin{equation}\n",
    "\\sum_{\\gamma}h_{\\alpha\\beta}^{HF}C_{i\\beta}=\\epsilon_i^{HF}C_{i\\alpha}. \\label{eq:newhf} \\tag{27}\n",
    "\\end{equation}\n",
    "$$"
   ]
  },
  {
   "cell_type": "markdown",
   "metadata": {},
   "source": [
    "The latter is nothing but a standard eigenvalue problem. \n",
    "\n",
    "It suffices to tabulate the matrix elements $\\langle \\alpha | h | \\beta \\rangle$ and $\\langle \\alpha\\gamma|\\hat{v}|\\beta\\delta\\rangle_{AS}$ once and for all. Successive iterations require thus only a look-up in tables over one-body and two-body matrix elements. These details will be discussed below when we solve the Hartree-Fock equations numerically. \n",
    "\n",
    "\n",
    "## Hartree-Fock algorithm\n",
    "\n",
    "Our Hartree-Fock matrix  is thus"
   ]
  },
  {
   "cell_type": "markdown",
   "metadata": {},
   "source": [
    "$$\n",
    "\\hat{h}_{\\alpha\\beta}^{HF}=\\langle \\alpha | \\hat{h}_0 | \\beta \\rangle+\n",
    "\\sum_{j=1}^A\\sum_{\\gamma\\delta} C^*_{j\\gamma}C_{j\\delta}\\langle \\alpha\\gamma|\\hat{v}|\\beta\\delta\\rangle_{AS}.\n",
    "$$"
   ]
  },
  {
   "cell_type": "markdown",
   "metadata": {},
   "source": [
    "The Hartree-Fock equations are solved in an iterative waym starting with a guess for the coefficients $C_{j\\gamma}=\\delta_{j,\\gamma}$ and solving the equations by diagonalization till the new single-particle energies\n",
    "$\\epsilon_i^{\\mathrm{HF}}$ do not change anymore by a prefixed quantity. \n",
    "\n",
    "\n",
    "## Hartree-Fock algorithm\n",
    "\n",
    "Normally we assume that the single-particle basis $|\\beta\\rangle$ forms an eigenbasis for the operator\n",
    "$\\hat{h}_0$, meaning that the Hartree-Fock matrix becomes"
   ]
  },
  {
   "cell_type": "markdown",
   "metadata": {},
   "source": [
    "$$\n",
    "\\hat{h}_{\\alpha\\beta}^{HF}=\\epsilon_{\\alpha}\\delta_{\\alpha,\\beta}+\n",
    "\\sum_{j=1}^A\\sum_{\\gamma\\delta} C^*_{j\\gamma}C_{j\\delta}\\langle \\alpha\\gamma|\\hat{v}|\\beta\\delta\\rangle_{AS}.\n",
    "$$"
   ]
  },
  {
   "cell_type": "markdown",
   "metadata": {},
   "source": [
    "The Hartree-Fock eigenvalue problem"
   ]
  },
  {
   "cell_type": "markdown",
   "metadata": {},
   "source": [
    "$$\n",
    "\\sum_{\\beta}\\hat{h}_{\\alpha\\beta}^{HF}C_{i\\beta}=\\epsilon_i^{\\mathrm{HF}}C_{i\\alpha},\n",
    "$$"
   ]
  },
  {
   "cell_type": "markdown",
   "metadata": {},
   "source": [
    "can be written out in a more compact form as"
   ]
  },
  {
   "cell_type": "markdown",
   "metadata": {},
   "source": [
    "$$\n",
    "\\hat{h}^{HF}\\hat{C}=\\epsilon^{\\mathrm{HF}}\\hat{C}.\n",
    "$$"
   ]
  },
  {
   "cell_type": "markdown",
   "metadata": {},
   "source": [
    "## Hartree-Fock algorithm\n",
    "\n",
    "The Hartree-Fock equations are, in their simplest form, solved in an iterative way, starting with a guess for the\n",
    "coefficients $C_{i\\alpha}$. We label the coefficients as $C_{i\\alpha}^{(n)}$, where the subscript $n$ stands for iteration $n$.\n",
    "To set up the algorithm we can proceed as follows:\n",
    "\n",
    " * We start with a guess $C_{i\\alpha}^{(0)}=\\delta_{i,\\alpha}$. Alternatively, we could have used random starting values as long as the vectors are normalized. Another possibility is to give states below the Fermi level a larger weight.\n",
    "\n",
    " * The Hartree-Fock matrix simplifies then to (assuming that the coefficients $C_{i\\alpha} $  are real)"
   ]
  },
  {
   "cell_type": "markdown",
   "metadata": {},
   "source": [
    "$$\n",
    "\\hat{h}_{\\alpha\\beta}^{HF}=\\epsilon_{\\alpha}\\delta_{\\alpha,\\beta}+\n",
    "\\sum_{j = 1}^A\\sum_{\\gamma\\delta} C_{j\\gamma}^{(0)}C_{j\\delta}^{(0)}\\langle \\alpha\\gamma|\\hat{v}|\\beta\\delta\\rangle_{AS}.\n",
    "$$"
   ]
  },
  {
   "cell_type": "markdown",
   "metadata": {},
   "source": [
    "## Hartree-Fock algorithm\n",
    "\n",
    "Solving the Hartree-Fock eigenvalue problem yields then new eigenvectors $C_{i\\alpha}^{(1)}$ and eigenvalues\n",
    "$\\epsilon_i^{HF(1)}$. \n",
    " * With the new eigenvalues we can set up a new Hartree-Fock potential"
   ]
  },
  {
   "cell_type": "markdown",
   "metadata": {},
   "source": [
    "$$\n",
    "\\sum_{j = 1}^A\\sum_{\\gamma\\delta} C_{j\\gamma}^{(1)}C_{j\\delta}^{(1)}\\langle \\alpha\\gamma|\\hat{v}|\\beta\\delta\\rangle_{AS}.\n",
    "$$"
   ]
  },
  {
   "cell_type": "markdown",
   "metadata": {},
   "source": [
    "The diagonalization with the new Hartree-Fock potential yields new eigenvectors and eigenvalues.\n",
    "This process is continued till for example"
   ]
  },
  {
   "cell_type": "markdown",
   "metadata": {},
   "source": [
    "$$\n",
    "\\frac{\\sum_{p} |\\epsilon_i^{(n)}-\\epsilon_i^{(n-1)}|}{m} \\le \\lambda,\n",
    "$$"
   ]
  },
  {
   "cell_type": "markdown",
   "metadata": {},
   "source": [
    "where $\\lambda$ is a user prefixed quantity ($\\lambda \\sim 10^{-8}$ or smaller) and $p$ runs over all calculated single-particle\n",
    "energies and $m$ is the number of single-particle states.\n",
    "\n",
    "\n",
    "## Analysis of Hartree-Fock equations and Koopman's theorem\n",
    "\n",
    "We can rewrite the ground state energy by adding and subtracting $\\hat{u}^{HF}(x_i)$"
   ]
  },
  {
   "cell_type": "markdown",
   "metadata": {},
   "source": [
    "$$\n",
    "E_0^{HF} =\\langle \\Phi_0 | \\hat{H} | \\Phi_0\\rangle = \n",
    "\\sum_{i\\le F}^A \\langle i | \\hat{h}_0 +\\hat{u}^{HF}| j\\rangle+ \\frac{1}{2}\\sum_{i\\le F}^A\\sum_{j \\le F}^A\\left[\\langle ij |\\hat{v}|ij \\rangle-\\langle ij|\\hat{v}|ji\\rangle\\right]-\\sum_{i\\le F}^A \\langle i |\\hat{u}^{HF}| i\\rangle,\n",
    "$$"
   ]
  },
  {
   "cell_type": "markdown",
   "metadata": {},
   "source": [
    "which results in"
   ]
  },
  {
   "cell_type": "markdown",
   "metadata": {},
   "source": [
    "$$\n",
    "E_0^{HF}\n",
    "  = \\sum_{i\\le F}^A \\varepsilon_i^{HF} + \\frac{1}{2}\\sum_{i\\le F}^A\\sum_{j \\le F}^A\\left[\\langle ij |\\hat{v}|ij \\rangle-\\langle ij|\\hat{v}|ji\\rangle\\right]-\\sum_{i\\le F}^A \\langle i |\\hat{u}^{HF}| i\\rangle.\n",
    "$$"
   ]
  },
  {
   "cell_type": "markdown",
   "metadata": {},
   "source": [
    "Our single-particle states $ijk\\dots$ are now single-particle states obtained from the solution of the Hartree-Fock equations.\n",
    "\n",
    "\n",
    "## Analysis of Hartree-Fock equations and Koopman's theorem\n",
    "\n",
    "Using our definition of the Hartree-Fock single-particle energies we obtain then the following expression for the total ground-state energy"
   ]
  },
  {
   "cell_type": "markdown",
   "metadata": {},
   "source": [
    "$$\n",
    "E_0^{HF}\n",
    "  = \\sum_{i\\le F}^A \\varepsilon_i - \\frac{1}{2}\\sum_{i\\le F}^A\\sum_{j \\le F}^A\\left[\\langle ij |\\hat{v}|ij \\rangle-\\langle ij|\\hat{v}|ji\\rangle\\right].\n",
    "$$"
   ]
  },
  {
   "cell_type": "markdown",
   "metadata": {},
   "source": [
    "This form will be used in our discussion of Koopman's theorem.\n",
    "\n",
    "\n",
    "## Analysis of Hartree-Fock equations and Koopman's theorem\n",
    "  Atomic physics case\n",
    "We have"
   ]
  },
  {
   "cell_type": "markdown",
   "metadata": {},
   "source": [
    "$$\n",
    "E[\\Phi^{\\mathrm{HF}}(N)] \n",
    "  = \\sum_{i=1}^H \\langle i | \\hat{h}_0 | i \\rangle +\n",
    "  \\frac{1}{2}\\sum_{ij=1}^N\\langle ij|\\hat{v}|ij\\rangle_{AS},\n",
    "$$"
   ]
  },
  {
   "cell_type": "markdown",
   "metadata": {},
   "source": [
    "where $\\Phi^{\\mathrm{HF}}(N)$ is the new Slater determinant defined by the new basis of Eq. ([eq:newbasis](#eq:newbasis))\n",
    "for $N$ electrons (same $Z$).  If we assume that the single-particle wave functions in the new basis do not change \n",
    "when we remove one electron or add one electron, we can then define the corresponding energy for the $N-1$ systems as"
   ]
  },
  {
   "cell_type": "markdown",
   "metadata": {},
   "source": [
    "$$\n",
    "E[\\Phi^{\\mathrm{HF}}(N-1)] \n",
    "  = \\sum_{i=1; i\\ne k}^N \\langle i | \\hat{h}_0 | i \\rangle +\n",
    "  \\frac{1}{2}\\sum_{ij=1;i,j\\ne k}^N\\langle ij|\\hat{v}|ij\\rangle_{AS},\n",
    "$$"
   ]
  },
  {
   "cell_type": "markdown",
   "metadata": {},
   "source": [
    "where we have removed a single-particle state $k\\le F$, that is a state below the Fermi level.  \n",
    "\n",
    "\n",
    "## Analysis of Hartree-Fock equations and Koopman's theorem\n",
    "\n",
    "Calculating the difference"
   ]
  },
  {
   "cell_type": "markdown",
   "metadata": {},
   "source": [
    "$$\n",
    "E[\\Phi^{\\mathrm{HF}}(N)]-   E[\\Phi^{\\mathrm{HF}}(N-1)] = \\langle k | \\hat{h}_0 | k \\rangle +\n",
    "  \\frac{1}{2}\\sum_{i=1;i\\ne k}^N\\langle ik|\\hat{v}|ik\\rangle_{AS}  \\frac{1}{2}\\sum_{j=1;j\\ne k}^N\\langle kj|\\hat{v}|kj\\rangle_{AS},\n",
    "$$"
   ]
  },
  {
   "cell_type": "markdown",
   "metadata": {},
   "source": [
    "we obtain"
   ]
  },
  {
   "cell_type": "markdown",
   "metadata": {},
   "source": [
    "$$\n",
    "E[\\Phi^{\\mathrm{HF}}(N)]-   E[\\Phi^{\\mathrm{HF}}(N-1)] = \\langle k | \\hat{h}_0 | k \\rangle +\n",
    "  \\frac{1}{2}\\sum_{j=1}^N\\langle kj|\\hat{v}|kj\\rangle_{AS}\n",
    "$$"
   ]
  },
  {
   "cell_type": "markdown",
   "metadata": {},
   "source": [
    "which is just our definition of the Hartree-Fock single-particle energy"
   ]
  },
  {
   "cell_type": "markdown",
   "metadata": {},
   "source": [
    "$$\n",
    "E[\\Phi^{\\mathrm{HF}}(N)]-   E[\\Phi^{\\mathrm{HF}}(N-1)] = \\epsilon_k^{\\mathrm{HF}}\n",
    "$$"
   ]
  },
  {
   "cell_type": "markdown",
   "metadata": {},
   "source": [
    "## Analysis of Hartree-Fock equations and Koopman's theorem\n",
    "\n",
    "Similarly, we can now compute the difference (we label the single-particle states above the Fermi level as $abcd > F$)"
   ]
  },
  {
   "cell_type": "markdown",
   "metadata": {},
   "source": [
    "$$\n",
    "E[\\Phi^{\\mathrm{HF}}(N+1)]-   E[\\Phi^{\\mathrm{HF}}(N)]= \\epsilon_a^{\\mathrm{HF}}.\n",
    "$$"
   ]
  },
  {
   "cell_type": "markdown",
   "metadata": {},
   "source": [
    "These two equations can thus be used to the electron affinity or ionization energies, respectively. \n",
    "Koopman's theorem states that for example the ionization energy of a closed-shell system is given by the energy of the highest occupied single-particle state.  If we assume that changing the number of electrons from $N$ to $N+1$ does not change the Hartree-Fock single-particle energies and eigenfunctions, then Koopman's theorem simply states that the ionization energy of an atom is given by the single-particle energy of the last bound state. In a similar way, we can also define the electron affinities. \n",
    "\n",
    "\n",
    "## Analysis of Hartree-Fock equations and Koopman's theorem\n",
    "\n",
    "As an example, consider a simple model for atomic sodium, Na. Neutral sodium has eleven electrons, \n",
    "with the weakest bound one being confined the $3s$ single-particle quantum numbers. The energy needed to remove an electron from neutral sodium is rather small, 5.1391 eV, a feature which pertains to all alkali metals.\n",
    "Having performed a  Hartree-Fock calculation for neutral sodium would then allows us to compute the\n",
    "ionization energy by using the single-particle energy for the $3s$ states, namely $\\epsilon_{3s}^{\\mathrm{HF}}$. \n",
    "\n",
    "From these considerations, we see that Hartree-Fock theory allows us to make a connection between experimental \n",
    "observables (here ionization and affinity energies) and the underlying interactions between particles.  \n",
    "In this sense, we are now linking the dynamics and structure of a many-body system with the laws of motion which govern the system. Our approach is a reductionistic one, meaning that we want to understand the laws of motion \n",
    "in terms of the particles or degrees of freedom which we believe are the fundamental ones. Our Slater determinant, being constructed as the product of various single-particle functions, follows this philosophy.\n",
    "\n",
    "\n",
    "\n",
    "\n",
    "\n",
    "## Developing a  Hartree-Fock program\n",
    "\n",
    "\n",
    "The Hamiltonian for a system of $N$ electrons confined in a\n",
    "harmonic potential reads"
   ]
  },
  {
   "cell_type": "markdown",
   "metadata": {},
   "source": [
    "$$\n",
    "\\hat{H} = \\sum_{i=1}^{N} \\frac{\\hat{p}_{i}^{2}}{2m}+\\sum_{i=1}^{N} \\frac{1}{2} m\\omega {r}_{i}^{2}+\\sum_{i<j} \\hat{V}_{ij},\n",
    "$$"
   ]
  },
  {
   "cell_type": "markdown",
   "metadata": {},
   "source": [
    "with  $\\hat{V}_{ij}$ is the two-body potential whose \n",
    "matrix elements are calculated on fly in your program. See expression below.\n",
    "\n",
    "The Hartree-Fock algorithm can be broken down as follows. We recall that  our Hartree-Fock matrix  is"
   ]
  },
  {
   "cell_type": "markdown",
   "metadata": {},
   "source": [
    "$$\n",
    "\\hat{h}_{\\alpha\\beta}^{HF}=\\langle \\alpha \\vert\\hat{h}_0 \\vert \\beta \\rangle+\n",
    "\\sum_{j=1}^N\\sum_{\\gamma\\delta} C^*_{j\\gamma}C_{j\\delta}\\langle \\alpha\\gamma|V|\\beta\\delta\\rangle_{AS}.\n",
    "$$"
   ]
  },
  {
   "cell_type": "markdown",
   "metadata": {},
   "source": [
    "Normally we assume that the single-particle basis $\\vert\\beta\\rangle$\n",
    "forms an eigenbasis for the operator $\\hat{h}_0$ (this is our case), meaning that the\n",
    "Hartree-Fock matrix becomes"
   ]
  },
  {
   "cell_type": "markdown",
   "metadata": {},
   "source": [
    "$$\n",
    "\\hat{h}_{\\alpha\\beta}^{HF}=\\epsilon_{\\alpha}\\delta_{\\alpha,\\beta}+\n",
    "\\sum_{j=1}^N\\sum_{\\gamma\\delta} C^*_{j\\gamma}C_{j\\delta}\\langle \\alpha\\gamma|V|\\beta\\delta\\rangle_{AS}.\n",
    "$$"
   ]
  },
  {
   "cell_type": "markdown",
   "metadata": {},
   "source": [
    "The Hartree-Fock eigenvalue problem"
   ]
  },
  {
   "cell_type": "markdown",
   "metadata": {},
   "source": [
    "$$\n",
    "\\sum_{\\beta}\\hat{h}_{\\alpha\\beta}^{HF}C_{i\\beta}=\\epsilon_i^{\\mathrm{HF}}C_{i\\alpha},\n",
    "$$"
   ]
  },
  {
   "cell_type": "markdown",
   "metadata": {},
   "source": [
    "can be written out in a more compact form as"
   ]
  },
  {
   "cell_type": "markdown",
   "metadata": {},
   "source": [
    "$$\n",
    "\\hat{h}^{HF}\\hat{C}=\\epsilon^{\\mathrm{HF}}\\hat{C}.\n",
    "$$"
   ]
  },
  {
   "cell_type": "markdown",
   "metadata": {},
   "source": [
    "The equations are often rewritten in terms of a so-called density matrix,\n",
    "which is defined as"
   ]
  },
  {
   "cell_type": "markdown",
   "metadata": {},
   "source": [
    "<!-- Equation labels as ordinary links -->\n",
    "<div id=\"_auto8\"></div>\n",
    "\n",
    "$$\n",
    "\\begin{equation}\n",
    "\\rho_{\\gamma\\delta}=\\sum_{i=1}^{N}\\langle\\gamma|i\\rangle\\langle i|\\delta\\rangle = \\sum_{i=1}^{N}C_{i\\gamma}C^*_{i\\delta}.\n",
    "\\label{_auto8} \\tag{28}\n",
    "\\end{equation}\n",
    "$$"
   ]
  },
  {
   "cell_type": "markdown",
   "metadata": {},
   "source": [
    "It means that we can rewrite the Hartree-Fock Hamiltonian as"
   ]
  },
  {
   "cell_type": "markdown",
   "metadata": {},
   "source": [
    "$$\n",
    "\\hat{h}_{\\alpha\\beta}^{HF}=\\epsilon_{\\alpha}\\delta_{\\alpha,\\beta}+\n",
    "\\sum_{\\gamma\\delta} \\rho_{\\gamma\\delta}\\langle \\alpha\\gamma|V|\\beta\\delta\\rangle_{AS}.\n",
    "$$"
   ]
  },
  {
   "cell_type": "markdown",
   "metadata": {},
   "source": [
    "It is convenient to use the density matrix since we can precalculate in every iteration the product of two eigenvector components $C$. \n",
    "\n",
    "\n",
    "## [Program for computing the Coulomb interaction in polar coordinates](https://github.com/CompPhysics/ComputationalPhysics2/tree/gh-pages/doc/Programs/HFcode/python/hf.py)\n",
    "\n",
    "Here we show a simple code in python for a Hartree-Fock calculation using precalculated matrix elements."
   ]
  },
  {
   "cell_type": "code",
   "execution_count": 1,
   "metadata": {
    "collapsed": false
   },
   "outputs": [],
   "source": [
    "import numpy as np \n",
    "from decimal import Decimal\n",
    "# expectation value for the one body part, Harmonic oscillator in three dimensions\n",
    "def onebody(i, n, l):\n",
    "\thomega = 10.0\n",
    "\treturn homega*(2*n[i] + l[i] + 1.5)\n",
    "\n",
    "if __name__ == '__main__':\n",
    "\t\n",
    "        Nparticles = 16\n",
    "\t\"\"\" Read quantum numbers from file \"\"\"\n",
    "        index = []\n",
    "\tn = []\n",
    "        l = []\n",
    "        j = []\t\n",
    "        mj = []\n",
    "        tz = []\n",
    "\tspOrbitals = 0\n",
    "\twith open(\"nucleispnumbers.dat\", \"r\") as qnumfile:\n",
    "\t\tfor line in qnumfile:\n",
    "\t\t\tnums = line.split()\n",
    "\t\t\tif len(nums) != 0:\n",
    "\t\t\t\tindex.append(int(nums[0]))\n",
    "\t\t\t\tn.append(int(nums[1]))\n",
    "\t\t\t\tl.append(int(nums[2]))\n",
    "\t\t\t\tj.append(int(nums[3]))\n",
    "\t\t\t\tmj.append(int(nums[4]))\n",
    "\t\t\t\ttz.append(int(nums[5]))\n",
    "\t\t\t\tspOrbitals += 1\n",
    "\n",
    "\n",
    "\t\"\"\" Read two-nucleon interaction elements (integrals) from file, brute force 4-dim array \"\"\"\n",
    "\tnninteraction = np.zeros([spOrbitals, spOrbitals, spOrbitals, spOrbitals])\n",
    "\twith open(\"nucleitwobody.dat\", \"r\") as infile:\n",
    "\t\tfor line in infile:\n",
    "\t\t\tnumber = line.split()\n",
    "\t\t\ta = int(number[0]) - 1\n",
    "\t\t\tb = int(number[1]) - 1\n",
    "\t\t\tc = int(number[2]) - 1\n",
    "\t\t\td = int(number[3]) - 1\n",
    "\t\t\t#print a, b, c, d, float(l[4])\n",
    "\t\t\tnninteraction[a][b][c][d] = Decimal(number[4])\n",
    "\t\"\"\" Set up single-particle integral \"\"\"\n",
    "\tsingleparticleH = np.zeros(spOrbitals)\n",
    "\tfor i in range(spOrbitals):\n",
    "\t\tsingleparticleH[i] = Decimal(onebody(i, n, l))\n",
    "\t\n",
    "\t\"\"\" Star HF-iterations, preparing variables and density matrix \"\"\"\n",
    "\n",
    "        \"\"\" Coefficients for setting up density matrix, assuming only one along the diagonals \"\"\"\n",
    "\tC = np.eye(spOrbitals) # HF coefficients\n",
    "        DensityMatrix = np.zeros([spOrbitals,spOrbitals])\n",
    "        for gamma in range(spOrbitals):\n",
    "            for delta in range(spOrbitals):\n",
    "                sum = 0.0\n",
    "                for i in range(Nparticles):\n",
    "                    sum += C[gamma][i]*C[delta][i]\n",
    "                DensityMatrix[gamma][delta] = Decimal(sum)\n",
    "        maxHFiter = 100\n",
    "        epsilon =  1.0e-5 \n",
    "        difference = 1.0\n",
    "\thf_count = 0\n",
    "\toldenergies = np.zeros(spOrbitals)\n",
    "\tnewenergies = np.zeros(spOrbitals)\n",
    "\twhile hf_count < maxHFiter and difference > epsilon:\n",
    "\t\tprint \"############### Iteration %i ###############\" % hf_count\n",
    "   \t        HFmatrix = np.zeros([spOrbitals,spOrbitals])\t\t\n",
    "\t\tfor alpha in range(spOrbitals):\n",
    "\t\t\tfor beta in range(spOrbitals):\n",
    "                            \"\"\"  If tests for three-dimensional systems, including isospin conservation \"\"\"\n",
    "                            if l[alpha] != l[beta] and j[alpha] != j[beta] and mj[alpha] != mj[beta] and tz[alpha] != tz[beta]: continue\n",
    "                            \"\"\"  Setting up the Fock matrix using the density matrix and antisymmetrized NN interaction in m-scheme \"\"\"\n",
    "     \t\t            sumFockTerm = 0.0\n",
    "                            for gamma in range(spOrbitals):\n",
    "                                for delta in range(spOrbitals):\n",
    "                                    if (mj[alpha]+mj[gamma]) != (mj[beta]+mj[delta]) and (tz[alpha]+tz[gamma]) != (tz[beta]+tz[delta]): continue\n",
    "                                    sumFockTerm += DensityMatrix[gamma][delta]*nninteraction[alpha][gamma][beta][delta]\n",
    "                            HFmatrix[alpha][beta] = Decimal(sumFockTerm)\n",
    "                            \"\"\"  Adding the one-body term, here plain harmonic oscillator \"\"\"\n",
    "                            if beta == alpha:   HFmatrix[alpha][alpha] += singleparticleH[alpha]\n",
    "\t\tspenergies, C = np.linalg.eigh(HFmatrix)\n",
    "                \"\"\" Setting up new density matrix in m-scheme \"\"\"\n",
    "                DensityMatrix = np.zeros([spOrbitals,spOrbitals])\n",
    "                for gamma in range(spOrbitals):\n",
    "                    for delta in range(spOrbitals):\n",
    "                        sum = 0.0\n",
    "                        for i in range(Nparticles):\n",
    "                            sum += C[gamma][i]*C[delta][i]\n",
    "                        DensityMatrix[gamma][delta] = Decimal(sum)\n",
    "\t\tnewenergies = spenergies\n",
    "                \"\"\" Brute force computation of difference between previous and new sp HF energies \"\"\"\n",
    "                sum =0.0\n",
    "                for i in range(spOrbitals):\n",
    "                    sum += (abs(newenergies[i]-oldenergies[i]))/spOrbitals\n",
    "                difference = sum\n",
    "                oldenergies = newenergies\n",
    "                print \"Single-particle energies, ordering may have changed \"\n",
    "                for i in range(spOrbitals):\n",
    "                    print('{0:4d}  {1:.4f}'.format(i, Decimal(oldenergies[i])))\n",
    "\t\thf_count += 1"
   ]
  },
  {
   "cell_type": "markdown",
   "metadata": {},
   "source": [
    "<!-- !split  -->\n",
    "## Practicalities with the Hartree-Fock code development, basis construction\n",
    "When  setting up the Hartree-Fock algorithm you will find it convenient to number the basis states\n",
    "by filling the lowest subshells. For the first two shells we could then have the following mapping."
   ]
  },
  {
   "cell_type": "markdown",
   "metadata": {},
   "source": [
    "$$\n",
    "\\begin{align*}\n",
    "  \\vert 0\\rangle & = \\{n=0, m=0, m_s = -0.5\\} \\\\ \n",
    "  \\vert 1\\rangle & = \\{n=0, m=0, m_s = 0.5\\} \\\\\n",
    "  \\vert 2\\rangle & = \\{n=0, m=-1, m_s = -0.5\\} \\\\\n",
    "  \\vert 3\\rangle & = \\{n=0, m=-1, m_s = 0.5\\} \\\\\n",
    "  \\vert 4\\rangle & = \\{n=0, m=+1, m_s = -0.5\\} \\\\\n",
    "  \\vert 5\\rangle & = \\{n=0, m=+1, m_s = 0.5\\}   \n",
    "\\end{align*}\n",
    "$$"
   ]
  },
  {
   "cell_type": "markdown",
   "metadata": {},
   "source": [
    "<!-- !split  -->\n",
    "## Practicalities with the Hartree-Fock code development, two-body basis construction, brute force\n",
    "In the setup of the two-body matrix elements we can typically opt between two alternatives. We can read the matrix elements from file or calculate the matrix elements on the fly. The latter requires simply that we \n",
    "call the abovementioned function for setting up the two-body matrix elements when we run our Hartree-Fock code. \n",
    "\n",
    "If we however wish to read from file, we can store the matrix elements in two ways:\n",
    "* Brute force\n",
    "\n",
    "* Organize according to conserved two-body quantum numbers\n",
    "\n",
    "The brute force way is easy to implement. \n",
    "\n",
    "<!-- !split  -->\n",
    "## Two-body interaction, brute force part I\n",
    "We can read in from file the two-body interaction matrix elements or compute once and for all and store in\n",
    "memory.\n",
    "The elements are"
   ]
  },
  {
   "cell_type": "markdown",
   "metadata": {},
   "source": [
    "$$\n",
    "\\langle pr | \\hat{v}|qs\\rangle.\n",
    "$$"
   ]
  },
  {
   "cell_type": "markdown",
   "metadata": {},
   "source": [
    "The time-consuming part in the Hartree-Fock calculations\n",
    "involves the calculation of the two-body matrix. Furthermore, the\n",
    "storage of these matrix elements plays also an important role, in\n",
    "particular we wish to access the table of matrix elements as fast as\n",
    "possible.  \n",
    "\n",
    "<!-- !split  -->\n",
    "## Two-body interaction, brute force part II\n",
    "In a brute force algorithm for storing the matrix elements, if we have $d$ basis functions, we end up with the need of storing \n",
    "$d^4$ matrix elements. We can reduce this considerably by the following considerations.\n",
    "In the calculation of the two-body matrix elements $\\langle pr | \\hat{v}|qs\\rangle$ we have the following symmetries\n",
    "\n",
    "1. Invariance under permutations, that is"
   ]
  },
  {
   "cell_type": "markdown",
   "metadata": {},
   "source": [
    "$$\n",
    "\\langle pq | \\hat{v}|rs\\rangle = \\langle qp | \\hat{v}|sr\\rangle.\n",
    "$$"
   ]
  },
  {
   "cell_type": "markdown",
   "metadata": {},
   "source": [
    "1. The functions entering the evaluation of the integrals are all real, meaning that if we interchange $p\\leftrightarrow q$ or  $r\\leftrightarrow s$, we end up with the same matrix element.\n",
    "\n",
    "This reduces by a factor of eight the total number of matrix elements to be stored if we also use that \n",
    "we can store only for $p < q$ and $ r < s$. \n",
    "\n",
    "\n",
    "<!-- !split  -->\n",
    "## Two-body interaction, brute force part III\n",
    "\n",
    "Furthermore, in setting up a table for the two-body matrix elements we can convert the need of using four indices $pqrs$ of"
   ]
  },
  {
   "cell_type": "markdown",
   "metadata": {},
   "source": [
    "$$\n",
    "\\langle pr | \\hat{v}|qs\\rangle,\n",
    "$$"
   ]
  },
  {
   "cell_type": "markdown",
   "metadata": {},
   "source": [
    "which in a brute forces way could be coded as a four-dimensional array, to \n",
    "a two-dimensional array $V_{lm}$, where $l$ and $m$ stand for all possible two-body configurations $pq$.\n",
    "\n",
    "Each number $l$ and $m$ in $V_{lm}$  should then point to a set of single-particle  states $(p,q)$ and $(r,s)$.  \n",
    "\n",
    "In our case, since we have \n",
    "symmetries which allow us to set $p\\le q$, we have, with $d$ single particle states a total of $d(d+1)/2$ two-body configurations.\n",
    "\n",
    "<!-- !split  -->\n",
    "## Two-body interaction, brute force part IV\n",
    "\n",
    "How do we store such a matrix? The simplest thing to do is to convert it into a one-dimensional array. How do we achieve that? \n",
    "\n",
    "We now have a matrix $V$ of dimension $n\\times n$ and we want to store the elements $V_{lm}$ as a one-dimensional array $A$ using\n",
    "$0 \\le l \\le m \\le n-1$. For\n",
    "1. $l=0$ we have $n$ elements\n",
    "\n",
    "2. $l=1$ we have $n-1$ elements\n",
    "\n",
    "3. $\\dots$\n",
    "\n",
    "4. $l=\\nu$ we have $n-\\nu$ elements\n",
    "\n",
    "5. $\\dots$\n",
    "\n",
    "6. $l=n-1$ we have $1$ element,\n",
    "\n",
    "and the total number is"
   ]
  },
  {
   "cell_type": "markdown",
   "metadata": {},
   "source": [
    "$$\n",
    "\\sum_{\\nu =0}^{n-1}\\left(n-\\nu\\right)=\\frac{n(n+1)}{2}.\n",
    "$$"
   ]
  },
  {
   "cell_type": "markdown",
   "metadata": {},
   "source": [
    "<!-- !split  -->\n",
    "## Two-body interaction, brute force part V\n",
    "\n",
    "To find the number ($\\mathrm{number}(l,m)$) in a one-dimensional array $A$ which corresponds to a matrix element $V_{lm}$, we note that"
   ]
  },
  {
   "cell_type": "markdown",
   "metadata": {},
   "source": [
    "$$\n",
    "\\mathrm{number}(l,m)=\\sum_{\\nu =0}^{l-1}\\left(n-\\nu\\right)+m-l=\\frac{l(2n-l-1)}{2}+m.\n",
    "$$"
   ]
  },
  {
   "cell_type": "markdown",
   "metadata": {},
   "source": [
    "The first matrix element $V(0,0)$ is obviously given by the element $A(0)$. \n",
    "\n",
    "We have thus reduced a four dimensional array to a one-dimensional array, where the given pairs $(p,q)$ and $(r,s)$ point to the matrix indices $l$\n",
    "and $m$, respectively. The latter are used to find the explicit number $\\mathrm{number}(l,m)$ which points to the desired matrix element stored \n",
    "in a one-dimensional array.\n",
    "\n",
    "\n",
    "<!-- !split  -->\n",
    "## Practicalities with the Hartree-Fock code development, two-body basis construction\n",
    "\n",
    "Another way to store the matrix elements is to organize the matrix elements according to conserved quantum numbers.\n",
    "This means setting up a block structure and to look up matrix elements using two-body conserved quantum numbers.\n",
    "For quantum dots, the two-body quantum numbers that are conserved are\n",
    "The total orbital momentum projection"
   ]
  },
  {
   "cell_type": "markdown",
   "metadata": {},
   "source": [
    "$$\n",
    "M = m_1 + m_2,\n",
    "$$"
   ]
  },
  {
   "cell_type": "markdown",
   "metadata": {},
   "source": [
    "and the total spin projection"
   ]
  },
  {
   "cell_type": "markdown",
   "metadata": {},
   "source": [
    "$$\n",
    "M_s = m_{s_1} + m_{s_2}\n",
    "$$"
   ]
  },
  {
   "cell_type": "markdown",
   "metadata": {},
   "source": [
    "<!-- !split  -->\n",
    "## Two-body basis construction\n",
    "\n",
    "For 2 shells we have\n",
    "\n",
    "<table border=\"1\">\n",
    "<thead>\n",
    "<tr><th align=\"center\">$M$</th> <th align=\"center\">$M_s$</th> <th align=\"center\">$\\alpha$</th> <th align=\"center\">      State       </th> </tr>\n",
    "</thead>\n",
    "<tbody>\n",
    "<tr><td align=\"center\">   -2     </td> <td align=\"center\">   0        </td> <td align=\"center\">   1           </td> <td align=\"center\">   $\\vert 3,2\\rangle$    </td> </tr>\n",
    "<tr><td align=\"center\">   -1     </td> <td align=\"center\">   -1       </td> <td align=\"center\">   3           </td> <td align=\"center\">   $\\vert 2,0\\rangle$    </td> </tr>\n",
    "<tr><td align=\"center\">   -1     </td> <td align=\"center\">   0        </td> <td align=\"center\">   4           </td> <td align=\"center\">   $\\vert 3,0\\rangle$    </td> </tr>\n",
    "<tr><td align=\"center\">   -1     </td> <td align=\"center\">   0        </td> <td align=\"center\">   4           </td> <td align=\"center\">   $\\vert 2,1\\rangle$    </td> </tr>\n",
    "<tr><td align=\"center\">   -1     </td> <td align=\"center\">   1        </td> <td align=\"center\">   5           </td> <td align=\"center\">   $\\vert 3,1\\rangle$    </td> </tr>\n",
    "<tr><td align=\"center\">   0      </td> <td align=\"center\">   -1       </td> <td align=\"center\">   6           </td> <td align=\"center\">   $\\vert 4,2\\rangle$    </td> </tr>\n",
    "<tr><td align=\"center\">   0      </td> <td align=\"center\">   0        </td> <td align=\"center\">   7           </td> <td align=\"center\">   $\\vert 1,0\\rangle$    </td> </tr>\n",
    "<tr><td align=\"center\">   0      </td> <td align=\"center\">   0        </td> <td align=\"center\">   7           </td> <td align=\"center\">   $\\vert 5,2\\rangle$    </td> </tr>\n",
    "<tr><td align=\"center\">   0      </td> <td align=\"center\">   0        </td> <td align=\"center\">   7           </td> <td align=\"center\">   $\\vert 4,3\\rangle$    </td> </tr>\n",
    "<tr><td align=\"center\">   0      </td> <td align=\"center\">   1        </td> <td align=\"center\">   8           </td> <td align=\"center\">   $\\vert 5,3\\rangle$    </td> </tr>\n",
    "<tr><td align=\"center\">   1      </td> <td align=\"center\">   -1       </td> <td align=\"center\">   9           </td> <td align=\"center\">   $\\vert 4,0\\rangle$    </td> </tr>\n",
    "<tr><td align=\"center\">   1      </td> <td align=\"center\">   0        </td> <td align=\"center\">   10          </td> <td align=\"center\">   $\\vert 5,0\\rangle$    </td> </tr>\n",
    "<tr><td align=\"center\">   1      </td> <td align=\"center\">   0        </td> <td align=\"center\">   10          </td> <td align=\"center\">   $\\vert 4,1\\rangle$    </td> </tr>\n",
    "<tr><td align=\"center\">   1      </td> <td align=\"center\">   1        </td> <td align=\"center\">   11          </td> <td align=\"center\">   $\\vert 5,1\\rangle$    </td> </tr>\n",
    "<tr><td align=\"center\">   2      </td> <td align=\"center\">   0        </td> <td align=\"center\">   13          </td> <td align=\"center\">   $\\vert 5,4\\rangle$    </td> </tr>\n",
    "</tbody>\n",
    "</table>\n",
    "In this table we have paired orbitals with same $M$ and $M_s$. Where $\\alpha \\in \\{0,...,N\\}$ and $N$ is the number of pairs $\\{M,M_s\\}$. Notice that for $\\alpha = 1$ we only have one pair, and for $\\alpha = 4$, we have two pairs.\n",
    "\n",
    "\n",
    "\n",
    "<!-- !split  -->\n",
    "## Hartree-Fock code\n",
    "In developing our Hartree-Fock code, we can define a configuration class with the following mapping for a single-particle state"
   ]
  },
  {
   "cell_type": "markdown",
   "metadata": {},
   "source": [
    "$$\n",
    "\\vert \\alpha\\rangle \\rightarrow \\vert n m m_s\\rangle,\n",
    "$$"
   ]
  },
  {
   "cell_type": "markdown",
   "metadata": {},
   "source": [
    "and a similar mapping for a two-body state"
   ]
  },
  {
   "cell_type": "markdown",
   "metadata": {},
   "source": [
    "$$\n",
    "\\vert \\alpha \\beta\\rangle \\rightarrow \\vert M M_s\\rangle,\n",
    "$$"
   ]
  },
  {
   "cell_type": "markdown",
   "metadata": {},
   "source": [
    "where $M$ is the total angualar momentum"
   ]
  },
  {
   "cell_type": "markdown",
   "metadata": {},
   "source": [
    "$$\n",
    "M = m_\\alpha + m_\\beta,\n",
    "$$"
   ]
  },
  {
   "cell_type": "markdown",
   "metadata": {},
   "source": [
    "and the $M_s$ is the total spin"
   ]
  },
  {
   "cell_type": "markdown",
   "metadata": {},
   "source": [
    "$$\n",
    "M_s = m_{s_1} + m_{s_2}.\n",
    "$$"
   ]
  },
  {
   "cell_type": "markdown",
   "metadata": {},
   "source": [
    "<!-- !split  -->\n",
    "## Hartree-Fock code, setting up tables of matrix elements\n",
    "The single-particle part is diagonal for the harmonic oscillator basis, that is"
   ]
  },
  {
   "cell_type": "markdown",
   "metadata": {},
   "source": [
    "$$\n",
    "\\langle \\alpha\\vert \\hat{h}_0\\vert \\beta\\rangle = \\delta_{\\alpha \\beta} \\epsilon_\\alpha\n",
    "$$"
   ]
  },
  {
   "cell_type": "markdown",
   "metadata": {},
   "source": [
    "with"
   ]
  },
  {
   "cell_type": "markdown",
   "metadata": {},
   "source": [
    "$$\n",
    "\\epsilon_\\alpha  = \\hbar\\omega (2n_{\\alpha}+\\vert m_{\\alpha}\\vert +1).\n",
    "$$"
   ]
  },
  {
   "cell_type": "markdown",
   "metadata": {},
   "source": [
    "The two-body matrix elements are diagonal in the $M$ and $M_s$, that is"
   ]
  },
  {
   "cell_type": "markdown",
   "metadata": {},
   "source": [
    "$$\n",
    "\\langle M M_s\\vert \\hat{v}\\vert M' M_s'\\rangle = \\delta_{M,M'}\\delta_{M_s,M_s'}\\langle MM_s\\vert \\hat{v}\\vert MM_s\\rangle.\n",
    "$$"
   ]
  },
  {
   "cell_type": "markdown",
   "metadata": {},
   "source": [
    "<!-- !split  -->\n",
    "## Example calculations, $N=6$ and $\\omega =1.0$ a.u.\n",
    "\n",
    "We list here some selected Hartree-Fock results for $N=6$ electrons as function of the number of major shells $R$\n",
    "included. Here we have $\\omega =1$ a.u.\n",
    "\n",
    "<table border=\"1\">\n",
    "<thead>\n",
    "<tr><th align=\"center\">$R$</th> <th align=\"center\">$E_0^{HF}$</th> </tr>\n",
    "</thead>\n",
    "<tbody>\n",
    "<tr><td align=\"center\">   3      </td> <td align=\"center\">   21.59320      </td> </tr>\n",
    "<tr><td align=\"center\">   4      </td> <td align=\"center\">   20.76692      </td> </tr>\n",
    "<tr><td align=\"center\">   5      </td> <td align=\"center\">   20.7484       </td> </tr>\n",
    "<tr><td align=\"center\">   6      </td> <td align=\"center\">   20.72026      </td> </tr>\n",
    "<tr><td align=\"center\">   7      </td> <td align=\"center\">   20.72013      </td> </tr>\n",
    "<tr><td align=\"center\">   8      </td> <td align=\"center\">   20.71925      </td> </tr>\n",
    "<tr><td align=\"center\">   9      </td> <td align=\"center\">   20.71925      </td> </tr>\n",
    "<tr><td align=\"center\">   10     </td> <td align=\"center\">   20.71922      </td> </tr>\n",
    "<tr><td align=\"center\">   11     </td> <td align=\"center\">   20.71922      </td> </tr>\n",
    "<tr><td align=\"center\">   12     </td> <td align=\"center\">   20.71922      </td> </tr>\n",
    "<tr><td align=\"center\">   13     </td> <td align=\"center\">   20.71922      </td> </tr>\n",
    "</tbody>\n",
    "</table>\n",
    "The results are practically converged for approximately $R=10-13$. \n",
    "\n",
    "\n",
    "\n",
    "<!-- !split  -->\n",
    "## Example calculations, $N=6$ and $\\omega =0.1$ a.u.\n",
    "\n",
    "We list here some selected Hartree-Fock results for $N=6$ electrons as function of the number of major shells $R$\n",
    "included. Here we have $\\omega =0.1$ a.u.\n",
    "\n",
    "<table border=\"1\">\n",
    "<thead>\n",
    "<tr><th align=\"center\">$R$</th> <th align=\"center\">$E_0^{HF}$</th> </tr>\n",
    "</thead>\n",
    "<tbody>\n",
    "<tr><td align=\"center\">   4      </td> <td align=\"center\">   4.01979       </td> </tr>\n",
    "<tr><td align=\"center\">   5      </td> <td align=\"center\">   3.96315       </td> </tr>\n",
    "<tr><td align=\"center\">   6      </td> <td align=\"center\">   3.87062       </td> </tr>\n",
    "<tr><td align=\"center\">   7      </td> <td align=\"center\">   3.86314       </td> </tr>\n",
    "<tr><td align=\"center\">   8      </td> <td align=\"center\">   3.85288       </td> </tr>\n",
    "<tr><td align=\"center\">   9      </td> <td align=\"center\">   3.85259       </td> </tr>\n",
    "<tr><td align=\"center\">   10     </td> <td align=\"center\">   3.85239       </td> </tr>\n",
    "<tr><td align=\"center\">   11     </td> <td align=\"center\">   3.85239       </td> </tr>\n",
    "<tr><td align=\"center\">   12     </td> <td align=\"center\">   3.85238       </td> </tr>\n",
    "<tr><td align=\"center\">   13     </td> <td align=\"center\">   3.85238       </td> </tr>\n",
    "</tbody>\n",
    "</table>\n",
    "Again, the results are practically converged for approximately $R=10-13$."
   ]
  }
 ],
 "metadata": {},
 "nbformat": 4,
 "nbformat_minor": 2
}
