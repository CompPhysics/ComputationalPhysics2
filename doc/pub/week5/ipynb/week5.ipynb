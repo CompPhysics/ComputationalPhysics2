{
 "cells": [
  {
   "cell_type": "markdown",
   "id": "54f7b922",
   "metadata": {},
   "source": [
    "<!-- HTML file automatically generated from DocOnce source (https://github.com/doconce/doconce/)\n",
    "doconce format html week5.do.txt --no_mako --no_abort -->\n",
    "<!-- dom:TITLE: Optimization and gradient methods -->"
   ]
  },
  {
   "cell_type": "markdown",
   "id": "1aa1ec34",
   "metadata": {},
   "source": [
    "# Optimization and gradient methods\n",
    "**Morten Hjorth-Jensen**, Department of Physics and Center fo Computing in Science Education, University of Oslo, Oslo, Norway\n",
    "\n",
    "Date: **February 21, 2025**\n",
    "\n",
    "<!-- stochastic reconfiguration (see Sorella, PRB 2011, add material later). -->"
   ]
  },
  {
   "cell_type": "markdown",
   "id": "e8496508",
   "metadata": {},
   "source": [
    "## Plans for the week of February 17-21, 2025\n",
    "* Reminder on Fokker-Planck equation and Langevin equations (partly from last week)\n",
    "\n",
    "* Programming elements of correlation function\n",
    "\n",
    "* Start optimization: Expressions for derivatives as functions of the variational parameters\n",
    "\n",
    "* Newton's method, gradient descent, Steepest descent and Conjugate Gradient Descent \n",
    "\n",
    "* [Video of Lecture](https://youtu.be/QOGtGBzmCyY)\n",
    "\n",
    "* [Handwritten notes](https://github.com/CompPhysics/ComputationalPhysics2/blob/gh-pages/doc/HandWrittenNotes/2025/NotesFebruary21.pdf)\n",
    "\n",
    "**Teaching Material, videos and written material.**\n",
    "\n",
    "* These lecture notes\n",
    "\n",
    "* [Video on the Conjugate Gradient methods](https://www.youtube.com/watch?v=eAYohMUpPMA&ab_channel=TomCarlone)\n",
    "\n",
    "* Recommended background literature, [Convex Optimization](https://web.stanford.edu/~boyd/cvxbook/) by Boyd and Vandenberghe. Their [lecture slides](https://web.stanford.edu/~boyd/cvxbook/bv_cvxslides.pdf) are very useful (warning, these are some 300 pages)."
   ]
  },
  {
   "cell_type": "markdown",
   "id": "adeb0d5e",
   "metadata": {},
   "source": [
    "## Importance sampling, Fokker-Planck and Langevin equations\n",
    "\n",
    "If we assume a discrete set of events,\n",
    "our initial probability\n",
    "distribution function can be  given by"
   ]
  },
  {
   "cell_type": "markdown",
   "id": "9983b8b3",
   "metadata": {},
   "source": [
    "$$\n",
    "w_i(0) = \\delta_{i,0},\n",
    "$$"
   ]
  },
  {
   "cell_type": "markdown",
   "id": "da612717",
   "metadata": {},
   "source": [
    "and its time-development after a given time step $\\Delta t=\\epsilon$ is"
   ]
  },
  {
   "cell_type": "markdown",
   "id": "de9cf7d1",
   "metadata": {},
   "source": [
    "$$\n",
    "w_i(t) = \\sum_{j}W(j\\rightarrow i)w_j(t=0).\n",
    "$$"
   ]
  },
  {
   "cell_type": "markdown",
   "id": "6a8566e1",
   "metadata": {},
   "source": [
    "The continuous analog to $w_i(0)$ is"
   ]
  },
  {
   "cell_type": "markdown",
   "id": "269ad216",
   "metadata": {},
   "source": [
    "$$\n",
    "w(\\mathbf{x})\\rightarrow \\delta(\\mathbf{x}),\n",
    "$$"
   ]
  },
  {
   "cell_type": "markdown",
   "id": "2dcc37c1",
   "metadata": {},
   "source": [
    "where we now have generalized the one-dimensional position $x$ to a generic-dimensional  \n",
    "vector $\\mathbf{x}$. The Kroenecker $\\delta$ function is replaced by the $\\delta$ distribution\n",
    "function $\\delta(\\mathbf{x})$ at  $t=0$."
   ]
  },
  {
   "cell_type": "markdown",
   "id": "7073614b",
   "metadata": {},
   "source": [
    "## Importance sampling, Fokker-Planck and Langevin equations\n",
    "\n",
    "The transition from a state $j$ to a state $i$ is now replaced by a transition\n",
    "to a state with position $\\mathbf{y}$ from a state with position $\\mathbf{x}$. \n",
    "The discrete sum of transition probabilities can then be replaced by an integral\n",
    "and we obtain the new distribution at a time $t+\\Delta t$ as"
   ]
  },
  {
   "cell_type": "markdown",
   "id": "91bca241",
   "metadata": {},
   "source": [
    "$$\n",
    "w(\\mathbf{y},t+\\Delta t)= \\int W(\\mathbf{y},t+\\Delta t| \\mathbf{x},t)w(\\mathbf{x},t)d\\mathbf{x},\n",
    "$$"
   ]
  },
  {
   "cell_type": "markdown",
   "id": "f3d5df17",
   "metadata": {},
   "source": [
    "and after $m$ time steps we have"
   ]
  },
  {
   "cell_type": "markdown",
   "id": "c4a57ec5",
   "metadata": {},
   "source": [
    "$$\n",
    "w(\\mathbf{y},t+m\\Delta t)= \\int W(\\mathbf{y},t+m\\Delta t| \\mathbf{x},t)w(\\mathbf{x},t)d\\mathbf{x}.\n",
    "$$"
   ]
  },
  {
   "cell_type": "markdown",
   "id": "6d4caaad",
   "metadata": {},
   "source": [
    "When equilibrium is reached we have"
   ]
  },
  {
   "cell_type": "markdown",
   "id": "3219e469",
   "metadata": {},
   "source": [
    "$$\n",
    "w(\\mathbf{y})= \\int W(\\mathbf{y}|\\mathbf{x}, t)w(\\mathbf{x})d\\mathbf{x},\n",
    "$$"
   ]
  },
  {
   "cell_type": "markdown",
   "id": "5060d8f2",
   "metadata": {},
   "source": [
    "that is no time-dependence. Note our change of notation for $W$"
   ]
  },
  {
   "cell_type": "markdown",
   "id": "38f70478",
   "metadata": {},
   "source": [
    "## Importance sampling, Fokker-Planck and Langevin equations\n",
    "\n",
    "We can solve the equation for $w(\\mathbf{y},t)$ by making a Fourier transform to\n",
    "momentum space. \n",
    "The PDF $w(\\mathbf{x},t)$ is related to its Fourier transform\n",
    "$\\tilde{w}(\\mathbf{k},t)$ through"
   ]
  },
  {
   "cell_type": "markdown",
   "id": "15599517",
   "metadata": {},
   "source": [
    "$$\n",
    "w(\\mathbf{x},t) = \\int_{-\\infty}^{\\infty}d\\mathbf{k} \\exp{(i\\mathbf{kx})}\\tilde{w}(\\mathbf{k},t),\n",
    "$$"
   ]
  },
  {
   "cell_type": "markdown",
   "id": "8a16f785",
   "metadata": {},
   "source": [
    "and using the definition of the \n",
    "$\\delta$-function"
   ]
  },
  {
   "cell_type": "markdown",
   "id": "8299f562",
   "metadata": {},
   "source": [
    "$$\n",
    "\\delta(\\mathbf{x}) = \\frac{1}{2\\pi} \\int_{-\\infty}^{\\infty}d\\mathbf{k} \\exp{(i\\mathbf{kx})},\n",
    "$$"
   ]
  },
  {
   "cell_type": "markdown",
   "id": "0f98ceba",
   "metadata": {},
   "source": [
    "we see that"
   ]
  },
  {
   "cell_type": "markdown",
   "id": "a09bf6db",
   "metadata": {},
   "source": [
    "$$\n",
    "\\tilde{w}(\\mathbf{k},0)=1/2\\pi.\n",
    "$$"
   ]
  },
  {
   "cell_type": "markdown",
   "id": "f60f6d0f",
   "metadata": {},
   "source": [
    "## Importance sampling, Fokker-Planck and Langevin equations\n",
    "\n",
    "We can then use the Fourier-transformed diffusion equation"
   ]
  },
  {
   "cell_type": "markdown",
   "id": "c021c278",
   "metadata": {},
   "source": [
    "$$\n",
    "\\frac{\\partial \\tilde{w}(\\mathbf{k},t)}{\\partial t} = -D\\mathbf{k}^2\\tilde{w}(\\mathbf{k},t),\n",
    "$$"
   ]
  },
  {
   "cell_type": "markdown",
   "id": "9873d279",
   "metadata": {},
   "source": [
    "with the obvious solution"
   ]
  },
  {
   "cell_type": "markdown",
   "id": "e729695a",
   "metadata": {},
   "source": [
    "$$\n",
    "\\tilde{w}(\\mathbf{k},t)=\\tilde{w}(\\mathbf{k},0)\\exp{\\left[-(D\\mathbf{k}^2t)\\right)}=\n",
    "    \\frac{1}{2\\pi}\\exp{\\left[-(D\\mathbf{k}^2t)\\right]}.\n",
    "$$"
   ]
  },
  {
   "cell_type": "markdown",
   "id": "ccf80180",
   "metadata": {},
   "source": [
    "## Importance sampling, Fokker-Planck and Langevin equations\n",
    "\n",
    "With the Fourier transform we obtain"
   ]
  },
  {
   "cell_type": "markdown",
   "id": "078d3a52",
   "metadata": {},
   "source": [
    "$$\n",
    "w(\\mathbf{x},t)=\\int_{-\\infty}^{\\infty}d\\mathbf{k} \\exp{\\left[i\\mathbf{kx}\\right]}\\frac{1}{2\\pi}\\exp{\\left[-(D\\mathbf{k}^2t)\\right]}=\n",
    "    \\frac{1}{\\sqrt{4\\pi Dt}}\\exp{\\left[-(\\mathbf{x}^2/4Dt)\\right]},\n",
    "$$"
   ]
  },
  {
   "cell_type": "markdown",
   "id": "c12ae8b5",
   "metadata": {},
   "source": [
    "with the normalization condition"
   ]
  },
  {
   "cell_type": "markdown",
   "id": "230a9359",
   "metadata": {},
   "source": [
    "$$\n",
    "\\int_{-\\infty}^{\\infty}w(\\mathbf{x},t)d\\mathbf{x}=1.\n",
    "$$"
   ]
  },
  {
   "cell_type": "markdown",
   "id": "ccfe5bc3",
   "metadata": {},
   "source": [
    "## Importance sampling, Fokker-Planck and Langevin equations\n",
    "\n",
    "The solution represents the probability of finding\n",
    "our random walker at position $\\mathbf{x}$ at time $t$ if the initial distribution \n",
    "was placed at $\\mathbf{x}=0$ at $t=0$. \n",
    "\n",
    "There is another interesting feature worth observing. The discrete transition probability $W$\n",
    "itself is given by a binomial distribution.\n",
    "The results from the central limit theorem state that \n",
    "transition probability in the limit $n\\rightarrow \\infty$ converges to the normal \n",
    "distribution. It is then possible to show that"
   ]
  },
  {
   "cell_type": "markdown",
   "id": "6e75770b",
   "metadata": {},
   "source": [
    "$$\n",
    "W(il-jl,n\\epsilon)\\rightarrow W(\\mathbf{y},t+\\Delta t|\\mathbf{x},t)=\n",
    "    \\frac{1}{\\sqrt{4\\pi D\\Delta t}}\\exp{\\left[-((\\mathbf{y}-\\mathbf{x})^2/4D\\Delta t)\\right]},\n",
    "$$"
   ]
  },
  {
   "cell_type": "markdown",
   "id": "7d103e12",
   "metadata": {},
   "source": [
    "and that it satisfies the normalization condition and is itself a solution\n",
    "to the diffusion equation."
   ]
  },
  {
   "cell_type": "markdown",
   "id": "aad84838",
   "metadata": {},
   "source": [
    "## Importance sampling, Fokker-Planck and Langevin equations\n",
    "\n",
    "Let us now assume that we have three PDFs for times $t_0 < t' < t$, that is\n",
    "$w(\\mathbf{x}_0,t_0)$, $w(\\mathbf{x}',t')$ and $w(\\mathbf{x},t)$.\n",
    "We have then"
   ]
  },
  {
   "cell_type": "markdown",
   "id": "f6667f9c",
   "metadata": {},
   "source": [
    "$$\n",
    "w(\\mathbf{x},t)= \\int_{-\\infty}^{\\infty} W(\\mathbf{x}.t|\\mathbf{x}'.t')w(\\mathbf{x}',t')d\\mathbf{x}',\n",
    "$$"
   ]
  },
  {
   "cell_type": "markdown",
   "id": "f2d3aa0f",
   "metadata": {},
   "source": [
    "and"
   ]
  },
  {
   "cell_type": "markdown",
   "id": "a97c938c",
   "metadata": {},
   "source": [
    "$$\n",
    "w(\\mathbf{x},t)= \\int_{-\\infty}^{\\infty} W(\\mathbf{x}.t|\\mathbf{x}_0.t_0)w(\\mathbf{x}_0,t_0)d\\mathbf{x}_0,\n",
    "$$"
   ]
  },
  {
   "cell_type": "markdown",
   "id": "dbbfae2f",
   "metadata": {},
   "source": [
    "and"
   ]
  },
  {
   "cell_type": "markdown",
   "id": "fa78069a",
   "metadata": {},
   "source": [
    "$$\n",
    "w(\\mathbf{x}',t')= \\int_{-\\infty}^{\\infty} W(\\mathbf{x}'.t'|\\mathbf{x}_0,t_0)w(\\mathbf{x}_0,t_0)d\\mathbf{x}_0.\n",
    "$$"
   ]
  },
  {
   "cell_type": "markdown",
   "id": "355faf0d",
   "metadata": {},
   "source": [
    "## Importance sampling, Fokker-Planck and Langevin equations\n",
    "\n",
    "We can combine these equations and arrive at the famous Einstein-Smoluchenski-Kolmogorov-Chapman (ESKC) relation"
   ]
  },
  {
   "cell_type": "markdown",
   "id": "933b4c12",
   "metadata": {},
   "source": [
    "$$\n",
    "W(\\mathbf{x}t|\\mathbf{x}_0t_0)  = \\int_{-\\infty}^{\\infty} W(\\mathbf{x},t|\\mathbf{x}',t')W(\\mathbf{x}',t'|\\mathbf{x}_0,t_0)d\\mathbf{x}'.\n",
    "$$"
   ]
  },
  {
   "cell_type": "markdown",
   "id": "4f4c86da",
   "metadata": {},
   "source": [
    "We can replace the spatial dependence with a dependence upon say the velocity\n",
    "(or momentum), that is we have"
   ]
  },
  {
   "cell_type": "markdown",
   "id": "d9cfeb9e",
   "metadata": {},
   "source": [
    "$$\n",
    "W(\\mathbf{v},t|\\mathbf{v}_0,t_0)  = \\int_{-\\infty}^{\\infty} W(\\mathbf{v},t|\\mathbf{v}',t')W(\\mathbf{v}',t'|\\mathbf{v}_0,t_0)d\\mathbf{x}'.\n",
    "$$"
   ]
  },
  {
   "cell_type": "markdown",
   "id": "85b49c92",
   "metadata": {},
   "source": [
    "## Importance sampling, Fokker-Planck and Langevin equations\n",
    "\n",
    "We will now derive the Fokker-Planck equation. \n",
    "We start from the ESKC equation"
   ]
  },
  {
   "cell_type": "markdown",
   "id": "d113a787",
   "metadata": {},
   "source": [
    "$$\n",
    "W(\\mathbf{x},t|\\mathbf{x}_0,t_0)  = \\int_{-\\infty}^{\\infty} W(\\mathbf{x},t|\\mathbf{x}',t')W(\\mathbf{x}',t'|\\mathbf{x}_0,t_0)d\\mathbf{x}'.\n",
    "$$"
   ]
  },
  {
   "cell_type": "markdown",
   "id": "f234878a",
   "metadata": {},
   "source": [
    "Define $s=t'-t_0$, $\\tau=t-t'$ and $t-t_0=s+\\tau$. We have then"
   ]
  },
  {
   "cell_type": "markdown",
   "id": "54476f8c",
   "metadata": {},
   "source": [
    "$$\n",
    "W(\\mathbf{x},s+\\tau|\\mathbf{x}_0)  = \\int_{-\\infty}^{\\infty} W(\\mathbf{x},\\tau|\\mathbf{x}')W(\\mathbf{x}',s|\\mathbf{x}_0)d\\mathbf{x}'.\n",
    "$$"
   ]
  },
  {
   "cell_type": "markdown",
   "id": "32504fe4",
   "metadata": {},
   "source": [
    "## Importance sampling, Fokker-Planck and Langevin equations\n",
    "\n",
    "Assume now that $\\tau$ is very small so that we can make an expansion in terms of a small step $\\xi$, with $\\mathbf{x}'=\\mathbf{x}-\\xi$, that is"
   ]
  },
  {
   "cell_type": "markdown",
   "id": "404d92cc",
   "metadata": {},
   "source": [
    "$$\n",
    "W(\\mathbf{x},s|\\mathbf{x}_0)+\\frac{\\partial W}{\\partial s}\\tau +O(\\tau^2) = \\int_{-\\infty}^{\\infty} W(\\mathbf{x},\\tau|\\mathbf{x}-\\xi)W(\\mathbf{x}-\\xi,s|\\mathbf{x}_0)d\\mathbf{x}'.\n",
    "$$"
   ]
  },
  {
   "cell_type": "markdown",
   "id": "e8765b59",
   "metadata": {},
   "source": [
    "We assume that $W(\\mathbf{x},\\tau|\\mathbf{x}-\\xi)$ takes non-negligible values only when $\\xi$ is small. This is just another way of stating the Master equation!!"
   ]
  },
  {
   "cell_type": "markdown",
   "id": "b0da189d",
   "metadata": {},
   "source": [
    "## Importance sampling, Fokker-Planck and Langevin equations\n",
    "\n",
    "We say thus that $\\mathbf{x}$ changes only by a small amount in the time interval $\\tau$. \n",
    "This means that we can make a Taylor expansion in terms of $\\xi$, that is we\n",
    "expand"
   ]
  },
  {
   "cell_type": "markdown",
   "id": "1656597e",
   "metadata": {},
   "source": [
    "$$\n",
    "W(\\mathbf{x},\\tau|\\mathbf{x}-\\xi)W(\\mathbf{x}-\\xi,s|\\mathbf{x}_0) =\n",
    "\\sum_{n=0}^{\\infty}\\frac{(-\\xi)^n}{n!}\\frac{\\partial^n}{\\partial x^n}\\left[W(\\mathbf{x}+\\xi,\\tau|\\mathbf{x})W(\\mathbf{x},s|\\mathbf{x}_0)\n",
    "\\right].\n",
    "$$"
   ]
  },
  {
   "cell_type": "markdown",
   "id": "8a29ba36",
   "metadata": {},
   "source": [
    "## Importance sampling, Fokker-Planck and Langevin equations\n",
    "\n",
    "We can then rewrite the ESKC equation as"
   ]
  },
  {
   "cell_type": "markdown",
   "id": "3c820203",
   "metadata": {},
   "source": [
    "$$\n",
    "\\frac{\\partial W}{\\partial s}\\tau=-W(\\mathbf{x},s|\\mathbf{x}_0)+\n",
    "\\sum_{n=0}^{\\infty}\\frac{(-\\xi)^n}{n!}\\frac{\\partial^n}{\\partial x^n}\n",
    "\\left[W(\\mathbf{x},s|\\mathbf{x}_0)\\int_{-\\infty}^{\\infty} \\xi^nW(\\mathbf{x}+\\right.\n",
    "$$"
   ]
  },
  {
   "cell_type": "markdown",
   "id": "df2d77e6",
   "metadata": {},
   "source": [
    "$$\n",
    "\\left. \\xi,\\tau|\\mathbf{x})d\\xi\\right].\n",
    "$$"
   ]
  },
  {
   "cell_type": "markdown",
   "id": "e690192c",
   "metadata": {},
   "source": [
    "We have neglected higher powers of $\\tau$ and have used that for $n=0$ \n",
    "we get simply $W(\\mathbf{x},s|\\mathbf{x}_0)$ due to normalization."
   ]
  },
  {
   "cell_type": "markdown",
   "id": "3efc0bc3",
   "metadata": {},
   "source": [
    "## Importance sampling, Fokker-Planck and Langevin equations\n",
    "\n",
    "We say thus that $\\mathbf{x}$ changes only by a small amount in the time interval $\\tau$. \n",
    "This means that we can make a Taylor expansion in terms of $\\xi$, that is we\n",
    "expand"
   ]
  },
  {
   "cell_type": "markdown",
   "id": "6edeaba2",
   "metadata": {},
   "source": [
    "$$\n",
    "W(\\mathbf{x},\\tau|\\mathbf{x}-\\xi)W(\\mathbf{x}-\\xi,s|\\mathbf{x}_0) =\n",
    "\\sum_{n=0}^{\\infty}\\frac{(-\\xi)^n}{n!}\\frac{\\partial^n}{\\partial x^n}\\left[W(\\mathbf{x}+\\xi,\\tau|\\mathbf{x})W(\\mathbf{x},s|\\mathbf{x}_0)\n",
    "\\right].\n",
    "$$"
   ]
  },
  {
   "cell_type": "markdown",
   "id": "7e9e68f0",
   "metadata": {},
   "source": [
    "## Importance sampling, Fokker-Planck and Langevin equations\n",
    "We can then rewrite the ESKC equation as"
   ]
  },
  {
   "cell_type": "markdown",
   "id": "96053996",
   "metadata": {},
   "source": [
    "$$\n",
    "\\frac{\\partial W(\\mathbf{x},s|\\mathbf{x}_0)}{\\partial s}\\tau=-W(\\mathbf{x},s|\\mathbf{x}_0)+\n",
    "\\sum_{n=0}^{\\infty}\\frac{(-\\xi)^n}{n!}\\frac{\\partial^n}{\\partial x^n}\n",
    "$$"
   ]
  },
  {
   "cell_type": "markdown",
   "id": "3cd19630",
   "metadata": {},
   "source": [
    "$$\n",
    "\\left[W(\\mathbf{x},s|\\mathbf{x}_0)\\int_{-\\infty}^{\\infty} \\xi^nW(\\mathbf{x}+\\xi,\\tau|\\mathbf{x})d\\xi\\right].\n",
    "$$"
   ]
  },
  {
   "cell_type": "markdown",
   "id": "14bd04f3",
   "metadata": {},
   "source": [
    "We have neglected higher powers of $\\tau$ and have used that for $n=0$ \n",
    "we get simply $W(\\mathbf{x},s|\\mathbf{x}_0)$ due to normalization."
   ]
  },
  {
   "cell_type": "markdown",
   "id": "490d1682",
   "metadata": {},
   "source": [
    "## Importance sampling, Fokker-Planck and Langevin equations\n",
    "We simplify the above by introducing the moments"
   ]
  },
  {
   "cell_type": "markdown",
   "id": "4e391029",
   "metadata": {},
   "source": [
    "$$\n",
    "M_n=\\frac{1}{\\tau}\\int_{-\\infty}^{\\infty} \\xi^nW(\\mathbf{x}+\\xi,\\tau|\\mathbf{x})d\\xi=\n",
    "\\frac{\\langle [\\Delta x(\\tau)]^n\\rangle}{\\tau},\n",
    "$$"
   ]
  },
  {
   "cell_type": "markdown",
   "id": "9e6554e0",
   "metadata": {},
   "source": [
    "resulting in"
   ]
  },
  {
   "cell_type": "markdown",
   "id": "02565c35",
   "metadata": {},
   "source": [
    "$$\n",
    "\\frac{\\partial W(\\mathbf{x},s|\\mathbf{x}_0)}{\\partial s}=\n",
    "\\sum_{n=1}^{\\infty}\\frac{(-\\xi)^n}{n!}\\frac{\\partial^n}{\\partial x^n}\n",
    "\\left[W(\\mathbf{x},s|\\mathbf{x}_0)M_n\\right].\n",
    "$$"
   ]
  },
  {
   "cell_type": "markdown",
   "id": "4c0f0a2c",
   "metadata": {},
   "source": [
    "## Importance sampling, Fokker-Planck and Langevin equations\n",
    "When $\\tau \\rightarrow 0$ we assume that $\\langle [\\Delta x(\\tau)]^n\\rangle \\rightarrow 0$ more rapidly than $\\tau$ itself if $n > 2$. \n",
    "When $\\tau$ is much larger than the standard correlation time of \n",
    "system then $M_n$ for $n > 2$ can normally be neglected.\n",
    "This means that fluctuations become negligible at large time scales.\n",
    "\n",
    "If we neglect such terms we can rewrite the ESKC equation as"
   ]
  },
  {
   "cell_type": "markdown",
   "id": "799c8611",
   "metadata": {},
   "source": [
    "$$\n",
    "\\frac{\\partial W(\\mathbf{x},s|\\mathbf{x}_0)}{\\partial s}=\n",
    "-\\frac{\\partial M_1W(\\mathbf{x},s|\\mathbf{x}_0)}{\\partial x}+\n",
    "\\frac{1}{2}\\frac{\\partial^2 M_2W(\\mathbf{x},s|\\mathbf{x}_0)}{\\partial x^2}.\n",
    "$$"
   ]
  },
  {
   "cell_type": "markdown",
   "id": "db3d1297",
   "metadata": {},
   "source": [
    "## Importance sampling, Fokker-Planck and Langevin equations\n",
    "In a more compact form we have"
   ]
  },
  {
   "cell_type": "markdown",
   "id": "fe64a479",
   "metadata": {},
   "source": [
    "$$\n",
    "\\frac{\\partial W}{\\partial s}=\n",
    "-\\frac{\\partial M_1W}{\\partial x}+\n",
    "\\frac{1}{2}\\frac{\\partial^2 M_2W}{\\partial x^2},\n",
    "$$"
   ]
  },
  {
   "cell_type": "markdown",
   "id": "69175025",
   "metadata": {},
   "source": [
    "which is the Fokker-Planck equation!  It is trivial to replace \n",
    "position with velocity (momentum)."
   ]
  },
  {
   "cell_type": "markdown",
   "id": "afcecb71",
   "metadata": {},
   "source": [
    "## Importance sampling, Fokker-Planck and Langevin equations\n",
    "**Langevin equation.**\n",
    "\n",
    "Consider a particle  suspended in a liquid. On its path through the liquid it will continuously collide with the liquid molecules. Because on average the particle  will collide more often on the front side than on the back side, it will experience a systematic force proportional with its velocity, and directed opposite to its velocity. Besides this systematic force the particle  will experience a stochastic force  $\\mathbf{F}(t)$. \n",
    "The equations of motion are \n",
    "* $\\frac{d\\mathbf{r}}{dt}=\\mathbf{v}$ and \n",
    "\n",
    "* $\\frac{d\\mathbf{v}}{dt}=-\\xi \\mathbf{v}+\\mathbf{F}$."
   ]
  },
  {
   "cell_type": "markdown",
   "id": "1d0ee8e7",
   "metadata": {},
   "source": [
    "## Importance sampling, Fokker-Planck and Langevin equations\n",
    "**Langevin equation.**\n",
    "\n",
    "From hydrodynamics  we know that the friction constant  $\\xi$ is given by"
   ]
  },
  {
   "cell_type": "markdown",
   "id": "be580c22",
   "metadata": {},
   "source": [
    "$$\n",
    "\\xi =6\\pi \\eta a/m\n",
    "$$"
   ]
  },
  {
   "cell_type": "markdown",
   "id": "45d4bd57",
   "metadata": {},
   "source": [
    "where $\\eta$ is the viscosity  of the solvent and a is the radius of the particle .\n",
    "\n",
    "Solving the second equation in the previous slide we get"
   ]
  },
  {
   "cell_type": "markdown",
   "id": "6be6ce87",
   "metadata": {},
   "source": [
    "$$\n",
    "\\mathbf{v}(t)=\\mathbf{v}_{0}e^{-\\xi t}+\\int_{0}^{t}d\\tau e^{-\\xi (t-\\tau )}\\mathbf{F }(\\tau ).\n",
    "$$"
   ]
  },
  {
   "cell_type": "markdown",
   "id": "1e90119b",
   "metadata": {},
   "source": [
    "## Importance sampling, Fokker-Planck and Langevin equations\n",
    "**Langevin equation.**\n",
    "\n",
    "If we want to get some useful information out of this, we have to average over all possible realizations of \n",
    "$\\mathbf{F}(t)$, with the initial velocity as a condition. A useful quantity for example is"
   ]
  },
  {
   "cell_type": "markdown",
   "id": "13748229",
   "metadata": {},
   "source": [
    "$$\n",
    "\\langle \\mathbf{v}(t)\\cdot \\mathbf{v}(t)\\rangle_{\\mathbf{v}_{0}}=v_{0}^{-\\xi 2t}\n",
    "+2\\int_{0}^{t}d\\tau e^{-\\xi (2t-\\tau)}\\mathbf{v}_{0}\\cdot \\langle \\mathbf{F}(\\tau )\\rangle_{\\mathbf{v}_{0}}\n",
    "$$"
   ]
  },
  {
   "cell_type": "markdown",
   "id": "441750a4",
   "metadata": {},
   "source": [
    "$$\n",
    "+\\int_{0}^{t}d\\tau ^{\\prime }\\int_{0}^{t}d\\tau e^{-\\xi (2t-\\tau -\\tau ^{\\prime })}\n",
    "\\langle \\mathbf{F}(\\tau )\\cdot \\mathbf{F}(\\tau ^{\\prime })\\rangle_{ \\mathbf{v}_{0}}.\n",
    "$$"
   ]
  },
  {
   "cell_type": "markdown",
   "id": "6b806fc1",
   "metadata": {},
   "source": [
    "## Importance sampling, Fokker-Planck and Langevin equations\n",
    "**Langevin equation.**\n",
    "\n",
    "In order to continue we have to make some assumptions about the conditional averages of the stochastic forces. \n",
    "In view of the chaotic character of the stochastic forces the following \n",
    "assumptions seem to be appropriate"
   ]
  },
  {
   "cell_type": "markdown",
   "id": "1d54a047",
   "metadata": {},
   "source": [
    "$$\n",
    "\\langle \\mathbf{F}(t)\\rangle=0,\n",
    "$$"
   ]
  },
  {
   "cell_type": "markdown",
   "id": "967ae344",
   "metadata": {},
   "source": [
    "and"
   ]
  },
  {
   "cell_type": "markdown",
   "id": "184110ad",
   "metadata": {},
   "source": [
    "$$\n",
    "\\langle \\mathbf{F}(t)\\cdot \\mathbf{F}(t^{\\prime })\\rangle_{\\mathbf{v}_{0}}=  C_{\\mathbf{v}_{0}}\\delta (t-t^{\\prime }).\n",
    "$$"
   ]
  },
  {
   "cell_type": "markdown",
   "id": "ee9a103a",
   "metadata": {},
   "source": [
    "We omit the subscript $\\mathbf{v}_{0}$, when the quantity of interest turns out to be independent of $\\mathbf{v}_{0}$. Using the last three equations we get"
   ]
  },
  {
   "cell_type": "markdown",
   "id": "b9074215",
   "metadata": {},
   "source": [
    "$$\n",
    "\\langle \\mathbf{v}(t)\\cdot \\mathbf{v}(t)\\rangle_{\\mathbf{v}_{0}}=v_{0}^{2}e^{-2\\xi t}+\\frac{C_{\\mathbf{v}_{0}}}{2\\xi }(1-e^{-2\\xi t}).\n",
    "$$"
   ]
  },
  {
   "cell_type": "markdown",
   "id": "b253419c",
   "metadata": {},
   "source": [
    "For large t this should be equal to 3kT/m, from which it follows that"
   ]
  },
  {
   "cell_type": "markdown",
   "id": "10c1e75b",
   "metadata": {},
   "source": [
    "$$\n",
    "\\langle \\mathbf{F}(t)\\cdot \\mathbf{F}(t^{\\prime })\\rangle =6\\frac{kT}{m}\\xi \\delta (t-t^{\\prime }).\n",
    "$$"
   ]
  },
  {
   "cell_type": "markdown",
   "id": "31c9fd9f",
   "metadata": {},
   "source": [
    "This result is called the fluctuation-dissipation theorem ."
   ]
  },
  {
   "cell_type": "markdown",
   "id": "570b5b14",
   "metadata": {},
   "source": [
    "## Importance sampling, Fokker-Planck and Langevin equations\n",
    "**Langevin equation.**\n",
    "\n",
    "Integrating"
   ]
  },
  {
   "cell_type": "markdown",
   "id": "cab887a8",
   "metadata": {},
   "source": [
    "$$\n",
    "\\mathbf{v}(t)=\\mathbf{v}_{0}e^{-\\xi t}+\\int_{0}^{t}d\\tau e^{-\\xi (t-\\tau )}\\mathbf{F }(\\tau ),\n",
    "$$"
   ]
  },
  {
   "cell_type": "markdown",
   "id": "6d99927e",
   "metadata": {},
   "source": [
    "we get"
   ]
  },
  {
   "cell_type": "markdown",
   "id": "4d9d39ff",
   "metadata": {},
   "source": [
    "$$\n",
    "\\mathbf{r}(t)=\\mathbf{r}_{0}+\\mathbf{v}_{0}\\frac{1}{\\xi }(1-e^{-\\xi t})+\n",
    "\\int_0^td\\tau \\int_0^{\\tau}\\tau ^{\\prime } e^{-\\xi (\\tau -\\tau ^{\\prime })}\\mathbf{F}(\\tau ^{\\prime }),\n",
    "$$"
   ]
  },
  {
   "cell_type": "markdown",
   "id": "4085be2f",
   "metadata": {},
   "source": [
    "from which we calculate the mean square displacement"
   ]
  },
  {
   "cell_type": "markdown",
   "id": "f1c366bb",
   "metadata": {},
   "source": [
    "$$\n",
    "\\langle ( \\mathbf{r}(t)-\\mathbf{r}_{0})^{2}\\rangle _{\\mathbf{v}_{0}}=\\frac{v_0^2}{\\xi}(1-e^{-\\xi t})^{2}+\\frac{3kT}{m\\xi ^{2}}(2\\xi t-3+4e^{-\\xi t}-e^{-2\\xi t}).\n",
    "$$"
   ]
  },
  {
   "cell_type": "markdown",
   "id": "a091b262",
   "metadata": {},
   "source": [
    "## Importance sampling, Fokker-Planck and Langevin equations\n",
    "**Langevin equation.**\n",
    "\n",
    "For very large $t$ this becomes"
   ]
  },
  {
   "cell_type": "markdown",
   "id": "703efb29",
   "metadata": {},
   "source": [
    "$$\n",
    "\\langle (\\mathbf{r}(t)-\\mathbf{r}_{0})^{2}\\rangle =\\frac{6kT}{m\\xi }t\n",
    "$$"
   ]
  },
  {
   "cell_type": "markdown",
   "id": "894fa9d4",
   "metadata": {},
   "source": [
    "from which we get the Einstein relation"
   ]
  },
  {
   "cell_type": "markdown",
   "id": "cff056fd",
   "metadata": {},
   "source": [
    "$$\n",
    "D= \\frac{kT}{m\\xi }\n",
    "$$"
   ]
  },
  {
   "cell_type": "markdown",
   "id": "9803b641",
   "metadata": {},
   "source": [
    "where we have used $\\langle (\\mathbf{r}(t)-\\mathbf{r}_{0})^{2}\\rangle =6Dt$."
   ]
  },
  {
   "cell_type": "markdown",
   "id": "b46a1edc",
   "metadata": {},
   "source": [
    "## Importance sampling, programming elements\n",
    "\n",
    "The general derivative formula of the Jastrow factor (or the ansatz for the correlated part of the wave function) is (the subscript $C$ stands for Correlation)"
   ]
  },
  {
   "cell_type": "markdown",
   "id": "1291ddbc",
   "metadata": {},
   "source": [
    "$$\n",
    "\\frac{1}{\\Psi_C}\\frac{\\partial \\Psi_C}{\\partial x_k} =\n",
    "\\sum_{i=1}^{k-1}\\frac{\\partial g_{ik}}{\\partial x_k}\n",
    "+\n",
    "\\sum_{i=k+1}^{N}\\frac{\\partial g_{ki}}{\\partial x_k}\n",
    "$$"
   ]
  },
  {
   "cell_type": "markdown",
   "id": "ad544845",
   "metadata": {},
   "source": [
    "However, \n",
    "with our written in way which can be reused later as"
   ]
  },
  {
   "cell_type": "markdown",
   "id": "831dc172",
   "metadata": {},
   "source": [
    "$$\n",
    "\\Psi_C=\\prod_{i< j}g(r_{ij})= \\exp{\\left\\{\\sum_{i<j}f(r_{ij})\\right\\}},\n",
    "$$"
   ]
  },
  {
   "cell_type": "markdown",
   "id": "5d1aa7bd",
   "metadata": {},
   "source": [
    "the gradient needed for the quantum force and local energy is easy to compute.  \n",
    "The function $f(r_{ij})$ will depends on the system under study. In the equations below we will keep this general form."
   ]
  },
  {
   "cell_type": "markdown",
   "id": "da06f0dc",
   "metadata": {},
   "source": [
    "## Importance sampling, program elements\n",
    "\n",
    "In the Metropolis/Hasting algorithm, the *acceptance ratio* determines the probability for a particle  to be accepted at a new position. The ratio of the trial wave functions evaluated at the new and current positions is given by ($OB$ for the onebody  part)"
   ]
  },
  {
   "cell_type": "markdown",
   "id": "64024235",
   "metadata": {},
   "source": [
    "$$\n",
    "R \\equiv \\frac{\\Psi_{T}^{new}}{\\Psi_{T}^{old}} = \n",
    "\\frac{\\Psi_{OB}^{new}}{\\Psi_{OB}^{old}}\\frac{\\Psi_{C}^{new}}{\\Psi_{C}^{old}}\n",
    "$$"
   ]
  },
  {
   "cell_type": "markdown",
   "id": "310bef33",
   "metadata": {},
   "source": [
    "Here $\\Psi_{OB}$ is our onebody part (Slater determinant or product of boson single-particle states)  while $\\Psi_{C}$ is our correlation function, or Jastrow factor. \n",
    "We need to optimize the $\\nabla \\Psi_T / \\Psi_T$ ratio and the second derivative as well, that is\n",
    "the $\\mathbf{\\nabla}^2 \\Psi_T/\\Psi_T$ ratio. The first is needed when we compute the so-called quantum force in importance sampling.\n",
    "The second is needed when we compute the kinetic energy term of the local energy."
   ]
  },
  {
   "cell_type": "markdown",
   "id": "96f4e441",
   "metadata": {},
   "source": [
    "$$\n",
    "\\frac{\\mathbf{\\mathbf{\\nabla}}  \\Psi}{\\Psi}  = \\frac{\\mathbf{\\nabla}  (\\Psi_{OB} \\, \\Psi_{C})}{\\Psi_{OB} \\, \\Psi_{C}}  =  \\frac{ \\Psi_C \\mathbf{\\nabla}  \\Psi_{OB} + \\Psi_{OB} \\mathbf{\\nabla}  \\Psi_{C}}{\\Psi_{OB} \\Psi_{C}} = \\frac{\\mathbf{\\nabla}  \\Psi_{OB}}{\\Psi_{OB}} + \\frac{\\mathbf{\\nabla}   \\Psi_C}{ \\Psi_C}\n",
    "$$"
   ]
  },
  {
   "cell_type": "markdown",
   "id": "642e030c",
   "metadata": {},
   "source": [
    "## Importance sampling\n",
    "\n",
    "The expectation value of the kinetic energy expressed in scaled units  for particle  $i$ is"
   ]
  },
  {
   "cell_type": "markdown",
   "id": "59d1ca48",
   "metadata": {},
   "source": [
    "$$\n",
    "\\langle \\hat{K}_i \\rangle = -\\frac{1}{2}\\frac{\\langle\\Psi|\\mathbf{\\nabla}_{i}^2|\\Psi \\rangle}{\\langle\\Psi|\\Psi \\rangle},\n",
    "$$"
   ]
  },
  {
   "cell_type": "markdown",
   "id": "251c5d19",
   "metadata": {},
   "source": [
    "$$\n",
    "\\hat{K}_i = -\\frac{1}{2}\\frac{\\mathbf{\\nabla}_{i}^{2} \\Psi}{\\Psi}.\n",
    "$$"
   ]
  },
  {
   "cell_type": "markdown",
   "id": "17e365fe",
   "metadata": {},
   "source": [
    "## Importance sampling\n",
    "\n",
    "The second derivative which enters the definition of the local energy is"
   ]
  },
  {
   "cell_type": "markdown",
   "id": "4d455a59",
   "metadata": {},
   "source": [
    "$$\n",
    "\\frac{\\mathbf{\\nabla}^2 \\Psi}{\\Psi}=\\frac{\\mathbf{\\nabla}^2 \\Psi_{OB}}{\\Psi_{OB}} + \\frac{\\mathbf{\\nabla}^2  \\Psi_C}{ \\Psi_C} + 2 \\frac{\\mathbf{\\nabla}  \\Psi_{OB}}{\\Psi_{OB}}\\cdot\\frac{\\mathbf{\\nabla}   \\Psi_C}{ \\Psi_C}\n",
    "$$"
   ]
  },
  {
   "cell_type": "markdown",
   "id": "e9080412",
   "metadata": {},
   "source": [
    "We discuss here how to calculate these quantities in an optimal way."
   ]
  },
  {
   "cell_type": "markdown",
   "id": "e8f6f97f",
   "metadata": {},
   "source": [
    "## Importance sampling\n",
    "\n",
    "We have defined the correlated function as"
   ]
  },
  {
   "cell_type": "markdown",
   "id": "3b99c2cc",
   "metadata": {},
   "source": [
    "$$\n",
    "\\Psi_C=\\prod_{i< j}g(r_{ij})=\\prod_{i< j}^Ng(r_{ij})= \\prod_{i=1}^N\\prod_{j=i+1}^Ng(r_{ij}),\n",
    "$$"
   ]
  },
  {
   "cell_type": "markdown",
   "id": "9aecebac",
   "metadata": {},
   "source": [
    "with \n",
    "$r_{ij}=|\\mathbf{r}_i-\\mathbf{r}_j|=\\sqrt{(x_i-x_j)^2+(y_i-y_j)^2+(z_i-z_j)^2}$ in three dimensions or\n",
    "$r_{ij}=|\\mathbf{r}_i-\\mathbf{r}_j|=\\sqrt{(x_i-x_j)^2+(y_i-y_j)^2}$ if we work with two-dimensional systems.\n",
    "\n",
    "In our particular case we have"
   ]
  },
  {
   "cell_type": "markdown",
   "id": "204e0368",
   "metadata": {},
   "source": [
    "$$\n",
    "\\Psi_C=\\prod_{i< j}g(r_{ij})=\\exp{\\left\\{\\sum_{i<j}f(r_{ij})\\right\\}}.\n",
    "$$"
   ]
  },
  {
   "cell_type": "markdown",
   "id": "b1ecddb4",
   "metadata": {},
   "source": [
    "## Importance sampling\n",
    "\n",
    "The total number of different relative distances $r_{ij}$ is $N(N-1)/2$. In a matrix storage format, the relative distances  form a strictly upper triangular matrix"
   ]
  },
  {
   "cell_type": "markdown",
   "id": "449325e6",
   "metadata": {},
   "source": [
    "$$\n",
    "\\mathbf{r} \\equiv \\begin{pmatrix}\n",
    "  0 & r_{1,2} & r_{1,3} & \\cdots & r_{1,N} \\\\\n",
    "  \\vdots & 0       & r_{2,3} & \\cdots & r_{2,N} \\\\\n",
    "  \\vdots & \\vdots  & 0  & \\ddots & \\vdots  \\\\\n",
    "  \\vdots & \\vdots  & \\vdots  & \\ddots  & r_{N-1,N} \\\\\n",
    "  0 & 0  & 0  & \\cdots  & 0\n",
    " \\end{pmatrix}.\n",
    "$$"
   ]
  },
  {
   "cell_type": "markdown",
   "id": "def82da7",
   "metadata": {},
   "source": [
    "This applies to  $\\mathbf{g} = \\mathbf{g}(r_{ij})$ as well. \n",
    "\n",
    "In our algorithm we will move one particle  at the time, say the $kth$-particle.  This sampling will be seen to be particularly efficient when we are going to compute a Slater determinant."
   ]
  },
  {
   "cell_type": "markdown",
   "id": "2963b1af",
   "metadata": {},
   "source": [
    "## Importance sampling\n",
    "\n",
    "We have that the ratio between Jastrow factors $R_C$ is given by"
   ]
  },
  {
   "cell_type": "markdown",
   "id": "adfb7d02",
   "metadata": {},
   "source": [
    "$$\n",
    "R_{C} = \\frac{\\Psi_{C}^\\mathrm{new}}{\\Psi_{C}^\\mathrm{cur}} =\n",
    "\\prod_{i=1}^{k-1}\\frac{g_{ik}^\\mathrm{new}}{g_{ik}^\\mathrm{cur}}\n",
    "\\prod_{i=k+1}^{N}\\frac{ g_{ki}^\\mathrm{new}} {g_{ki}^\\mathrm{cur}}.\n",
    "$$"
   ]
  },
  {
   "cell_type": "markdown",
   "id": "2d022059",
   "metadata": {},
   "source": [
    "For the Pade-Jastrow form"
   ]
  },
  {
   "cell_type": "markdown",
   "id": "1c2c8e7f",
   "metadata": {},
   "source": [
    "$$\n",
    "R_{C} = \\frac{\\Psi_{C}^\\mathrm{new}}{\\Psi_{C}^\\mathrm{cur}} = \n",
    "\\frac{\\exp{U_{new}}}{\\exp{U_{cur}}} = \\exp{\\Delta U},\n",
    "$$"
   ]
  },
  {
   "cell_type": "markdown",
   "id": "92f6c73d",
   "metadata": {},
   "source": [
    "where"
   ]
  },
  {
   "cell_type": "markdown",
   "id": "a307a53f",
   "metadata": {},
   "source": [
    "$$\n",
    "\\Delta U =\n",
    "\\sum_{i=1}^{k-1}\\big(f_{ik}^\\mathrm{new}-f_{ik}^\\mathrm{cur}\\big)\n",
    "+\n",
    "\\sum_{i=k+1}^{N}\\big(f_{ki}^\\mathrm{new}-f_{ki}^\\mathrm{cur}\\big)\n",
    "$$"
   ]
  },
  {
   "cell_type": "markdown",
   "id": "d4bdb398",
   "metadata": {},
   "source": [
    "## Importance sampling\n",
    "\n",
    "One needs to develop a special algorithm \n",
    "that runs only through the elements of the upper triangular\n",
    "matrix $\\mathbf{g}$ and have $k$ as an index. \n",
    "\n",
    "The expression to be derived in the following is of interest when computing the quantum force and the kinetic energy. It has the form"
   ]
  },
  {
   "cell_type": "markdown",
   "id": "78cf6517",
   "metadata": {},
   "source": [
    "$$\n",
    "\\frac{\\mathbf{\\nabla}_i\\Psi_C}{\\Psi_C} = \\frac{1}{\\Psi_C}\\frac{\\partial \\Psi_C}{\\partial x_i},\n",
    "$$"
   ]
  },
  {
   "cell_type": "markdown",
   "id": "6a502718",
   "metadata": {},
   "source": [
    "for all dimensions and with $i$ running over all particles."
   ]
  },
  {
   "cell_type": "markdown",
   "id": "ad20592d",
   "metadata": {},
   "source": [
    "## Importance sampling\n",
    "\n",
    "For the first derivative only $N-1$ terms survive the ratio because the $g$-terms that are not differentiated cancel with their corresponding ones in the denominator. Then,"
   ]
  },
  {
   "cell_type": "markdown",
   "id": "d6d38248",
   "metadata": {},
   "source": [
    "$$\n",
    "\\frac{1}{\\Psi_C}\\frac{\\partial \\Psi_C}{\\partial x_k} =\n",
    "\\sum_{i=1}^{k-1}\\frac{1}{g_{ik}}\\frac{\\partial g_{ik}}{\\partial x_k}\n",
    "+\n",
    "\\sum_{i=k+1}^{N}\\frac{1}{g_{ki}}\\frac{\\partial g_{ki}}{\\partial x_k}.\n",
    "$$"
   ]
  },
  {
   "cell_type": "markdown",
   "id": "45ababd9",
   "metadata": {},
   "source": [
    "An equivalent equation is obtained for the exponential form after replacing $g_{ij}$ by $\\exp(f_{ij})$, yielding:"
   ]
  },
  {
   "cell_type": "markdown",
   "id": "9622ec46",
   "metadata": {},
   "source": [
    "$$\n",
    "\\frac{1}{\\Psi_C}\\frac{\\partial \\Psi_C}{\\partial x_k} =\n",
    "\\sum_{i=1}^{k-1}\\frac{\\partial g_{ik}}{\\partial x_k}\n",
    "+\n",
    "\\sum_{i=k+1}^{N}\\frac{\\partial g_{ki}}{\\partial x_k},\n",
    "$$"
   ]
  },
  {
   "cell_type": "markdown",
   "id": "e6ea9876",
   "metadata": {},
   "source": [
    "with both expressions scaling as $\\mathcal{O}(N)$."
   ]
  },
  {
   "cell_type": "markdown",
   "id": "ea7af5cd",
   "metadata": {},
   "source": [
    "## Importance sampling\n",
    "\n",
    "Using the identity"
   ]
  },
  {
   "cell_type": "markdown",
   "id": "862ded58",
   "metadata": {},
   "source": [
    "$$\n",
    "\\frac{\\partial}{\\partial x_i}g_{ij} = -\\frac{\\partial}{\\partial x_j}g_{ij},\n",
    "$$"
   ]
  },
  {
   "cell_type": "markdown",
   "id": "b9a7a5b2",
   "metadata": {},
   "source": [
    "we get expressions where all the derivatives acting on the particle  are represented by the *second* index of $g$:"
   ]
  },
  {
   "cell_type": "markdown",
   "id": "5272402b",
   "metadata": {},
   "source": [
    "$$\n",
    "\\frac{1}{\\Psi_C}\\frac{\\partial \\Psi_C}{\\partial x_k} =\n",
    "\\sum_{i=1}^{k-1}\\frac{1}{g_{ik}}\\frac{\\partial g_{ik}}{\\partial x_k}\n",
    "-\\sum_{i=k+1}^{N}\\frac{1}{g_{ki}}\\frac{\\partial g_{ki}}{\\partial x_i},\n",
    "$$"
   ]
  },
  {
   "cell_type": "markdown",
   "id": "7a4f56fe",
   "metadata": {},
   "source": [
    "and for the exponential case:"
   ]
  },
  {
   "cell_type": "markdown",
   "id": "a4b456d1",
   "metadata": {},
   "source": [
    "$$\n",
    "\\frac{1}{\\Psi_C}\\frac{\\partial \\Psi_C}{\\partial x_k} =\n",
    "\\sum_{i=1}^{k-1}\\frac{\\partial g_{ik}}{\\partial x_k}\n",
    "-\\sum_{i=k+1}^{N}\\frac{\\partial g_{ki}}{\\partial x_i}.\n",
    "$$"
   ]
  },
  {
   "cell_type": "markdown",
   "id": "d574fda3",
   "metadata": {},
   "source": [
    "## Importance sampling\n",
    "\n",
    "For correlation forms depending only on the scalar distances $r_{ij}$ we can use the chain rule. Noting that"
   ]
  },
  {
   "cell_type": "markdown",
   "id": "13ebe076",
   "metadata": {},
   "source": [
    "$$\n",
    "\\frac{\\partial g_{ij}}{\\partial x_j} = \\frac{\\partial g_{ij}}{\\partial r_{ij}} \\frac{\\partial r_{ij}}{\\partial x_j} = \\frac{x_j - x_i}{r_{ij}} \\frac{\\partial g_{ij}}{\\partial r_{ij}},\n",
    "$$"
   ]
  },
  {
   "cell_type": "markdown",
   "id": "f813eb20",
   "metadata": {},
   "source": [
    "we arrive at"
   ]
  },
  {
   "cell_type": "markdown",
   "id": "7fea64ea",
   "metadata": {},
   "source": [
    "$$\n",
    "\\frac{1}{\\Psi_C}\\frac{\\partial \\Psi_C}{\\partial x_k} = \n",
    "\\sum_{i=1}^{k-1}\\frac{1}{g_{ik}} \\frac{\\mathbf{r_{ik}}}{r_{ik}} \\frac{\\partial g_{ik}}{\\partial r_{ik}}\n",
    "-\\sum_{i=k+1}^{N}\\frac{1}{g_{ki}}\\frac{\\mathbf{r_{ki}}}{r_{ki}}\\frac{\\partial g_{ki}}{\\partial r_{ki}}.\n",
    "$$"
   ]
  },
  {
   "cell_type": "markdown",
   "id": "c9cc2298",
   "metadata": {},
   "source": [
    "## Importance sampling\n",
    "\n",
    "Note that for the Pade-Jastrow form we can set $g_{ij} \\equiv g(r_{ij}) = e^{f(r_{ij})} = e^{f_{ij}}$ and"
   ]
  },
  {
   "cell_type": "markdown",
   "id": "9f0de7c3",
   "metadata": {},
   "source": [
    "$$\n",
    "\\frac{\\partial g_{ij}}{\\partial r_{ij}} = g_{ij} \\frac{\\partial f_{ij}}{\\partial r_{ij}}.\n",
    "$$"
   ]
  },
  {
   "cell_type": "markdown",
   "id": "424e164c",
   "metadata": {},
   "source": [
    "Therefore,"
   ]
  },
  {
   "cell_type": "markdown",
   "id": "22a9e886",
   "metadata": {},
   "source": [
    "$$\n",
    "\\frac{1}{\\Psi_{C}}\\frac{\\partial \\Psi_{C}}{\\partial x_k} =\n",
    "\\sum_{i=1}^{k-1}\\frac{\\mathbf{r_{ik}}}{r_{ik}}\\frac{\\partial f_{ik}}{\\partial r_{ik}}\n",
    "-\\sum_{i=k+1}^{N}\\frac{\\mathbf{r_{ki}}}{r_{ki}}\\frac{\\partial f_{ki}}{\\partial r_{ki}},\n",
    "$$"
   ]
  },
  {
   "cell_type": "markdown",
   "id": "fb1116a7",
   "metadata": {},
   "source": [
    "where"
   ]
  },
  {
   "cell_type": "markdown",
   "id": "b456e10a",
   "metadata": {},
   "source": [
    "$$\n",
    "\\mathbf{r}_{ij} = |\\mathbf{r}_j - \\mathbf{r}_i| = (x_j - x_i)\\mathbf{e}_1 + (y_j - y_i)\\mathbf{e}_2 + (z_j - z_i)\\mathbf{e}_3\n",
    "$$"
   ]
  },
  {
   "cell_type": "markdown",
   "id": "65004df6",
   "metadata": {},
   "source": [
    "is the relative distance."
   ]
  },
  {
   "cell_type": "markdown",
   "id": "7db2c585",
   "metadata": {},
   "source": [
    "## Importance sampling\n",
    "\n",
    "The second derivative of the Jastrow factor divided by the Jastrow factor (the way it enters the kinetic energy) is"
   ]
  },
  {
   "cell_type": "markdown",
   "id": "6c8fddd0",
   "metadata": {},
   "source": [
    "$$\n",
    "\\left[\\frac{\\mathbf{\\nabla}^2 \\Psi_C}{\\Psi_C}\\right]_x =\\  \n",
    "2\\sum_{k=1}^{N}\n",
    "\\sum_{i=1}^{k-1}\\frac{\\partial^2 g_{ik}}{\\partial x_k^2}\\ +\\ \n",
    "\\sum_{k=1}^N\n",
    "\\left(\n",
    "\\sum_{i=1}^{k-1}\\frac{\\partial g_{ik}}{\\partial x_k} -\n",
    "\\sum_{i=k+1}^{N}\\frac{\\partial g_{ki}}{\\partial x_i}\n",
    "\\right)^2\n",
    "$$"
   ]
  },
  {
   "cell_type": "markdown",
   "id": "0909b074",
   "metadata": {},
   "source": [
    "## Importance sampling\n",
    "\n",
    "But we have a simple form for the function, namely"
   ]
  },
  {
   "cell_type": "markdown",
   "id": "b3f8acc5",
   "metadata": {},
   "source": [
    "$$\n",
    "\\Psi_{C}=\\prod_{i< j}\\exp{f(r_{ij})},\n",
    "$$"
   ]
  },
  {
   "cell_type": "markdown",
   "id": "8765e245",
   "metadata": {},
   "source": [
    "and it is easy to see that for particle  $k$\n",
    "we have"
   ]
  },
  {
   "cell_type": "markdown",
   "id": "2195ed65",
   "metadata": {},
   "source": [
    "$$\n",
    "\\frac{\\mathbf{\\nabla}^2_k \\Psi_C}{\\Psi_C }=\n",
    "\\sum_{ij\\ne k}\\frac{(\\mathbf{r}_k-\\mathbf{r}_i)(\\mathbf{r}_k-\\mathbf{r}_j)}{r_{ki}r_{kj}}f'(r_{ki})f'(r_{kj})+\n",
    "\\sum_{j\\ne k}\\left( f''(r_{kj})+\\frac{2}{r_{kj}}f'(r_{kj})\\right)\n",
    "$$"
   ]
  },
  {
   "cell_type": "markdown",
   "id": "87757732",
   "metadata": {},
   "source": [
    "## Top-down optimization view\n",
    "\n",
    "* We will start with a top-down view, with a simple harmonic oscillator problem in one dimension as case.\n",
    "\n",
    "* Thereafter we continue with implementing the simplest possible steepest descent approach to our two-electron problem with an electrostatic (Coulomb) interaction. Our code includes also importance sampling. The simple Python code here illustrates the basic elements which need to be included in our own code.\n",
    "\n",
    "* Then we move on to the mathematical description of various gradient methods."
   ]
  },
  {
   "cell_type": "markdown",
   "id": "c6b89944",
   "metadata": {},
   "source": [
    "## Motivation\n",
    "Our aim with this part of the project is to be able to\n",
    "* find an optimal value for the variational parameters using only some few Monte Carlo cycles\n",
    "\n",
    "* use these optimal values for the variational parameters to perform a large-scale Monte Carlo calculation\n",
    "\n",
    "To achieve this will look at methods like the simplest possible *gradient descent*, *Steepest descent*, the *conjugate gradient method* and stochastic gradient descent.\n",
    "These methods allow us to find\n",
    "the minima of a multivariable  function like our energy (function of several variational parameters). \n",
    "Alternatively, you can always use Newton's method. In particular, since we will normally have one variational parameter,\n",
    "Newton's method can be easily used in finding the minimum of the local energy."
   ]
  },
  {
   "cell_type": "markdown",
   "id": "aa831aa8",
   "metadata": {},
   "source": [
    "## Simple example and demonstration\n",
    "\n",
    "Let us illustrate what is needed in our calculations using a simple example, the harmonic oscillator in one dimension.\n",
    "For the harmonic oscillator in one-dimension we have a  trial wave function and probability"
   ]
  },
  {
   "cell_type": "markdown",
   "id": "fc4a0d80",
   "metadata": {},
   "source": [
    "$$\n",
    "\\psi_T(x;\\alpha) = \\exp{-(\\frac{1}{2}\\alpha^2x^2)},\n",
    "$$"
   ]
  },
  {
   "cell_type": "markdown",
   "id": "c37e065c",
   "metadata": {},
   "source": [
    "which results in a local energy"
   ]
  },
  {
   "cell_type": "markdown",
   "id": "e49bbed3",
   "metadata": {},
   "source": [
    "$$\n",
    "\\frac{1}{2}\\left(\\alpha^2+x^2(1-\\alpha^4)\\right).\n",
    "$$"
   ]
  },
  {
   "cell_type": "markdown",
   "id": "71919daf",
   "metadata": {},
   "source": [
    "We can compare our numerically calculated energies with the exact energy as function of $\\alpha$"
   ]
  },
  {
   "cell_type": "markdown",
   "id": "8248ff55",
   "metadata": {},
   "source": [
    "$$\n",
    "\\overline{E}[\\alpha] = \\frac{1}{4}\\left(\\alpha^2+\\frac{1}{\\alpha^2}\\right).\n",
    "$$"
   ]
  },
  {
   "cell_type": "markdown",
   "id": "70b3094a",
   "metadata": {},
   "source": [
    "## Simple example and demonstration\n",
    "The derivative of the energy with respect to $\\alpha$ gives"
   ]
  },
  {
   "cell_type": "markdown",
   "id": "7e492520",
   "metadata": {},
   "source": [
    "$$\n",
    "\\frac{d\\langle  E_L[\\alpha]\\rangle}{d\\alpha} = \\frac{1}{2}\\alpha-\\frac{1}{2\\alpha^3}\n",
    "$$"
   ]
  },
  {
   "cell_type": "markdown",
   "id": "1cf2bb2f",
   "metadata": {},
   "source": [
    "and a second derivative which is always positive (meaning that we find a minimum)"
   ]
  },
  {
   "cell_type": "markdown",
   "id": "34430980",
   "metadata": {},
   "source": [
    "$$\n",
    "\\frac{d^2\\langle  E_L[\\alpha]\\rangle}{d\\alpha^2} = \\frac{1}{2}+\\frac{3}{2\\alpha^4}\n",
    "$$"
   ]
  },
  {
   "cell_type": "markdown",
   "id": "d86faadb",
   "metadata": {},
   "source": [
    "The condition"
   ]
  },
  {
   "cell_type": "markdown",
   "id": "cf67c2a4",
   "metadata": {},
   "source": [
    "$$\n",
    "\\frac{d\\langle  E_L[\\alpha]\\rangle}{d\\alpha} = 0,\n",
    "$$"
   ]
  },
  {
   "cell_type": "markdown",
   "id": "eaf7e179",
   "metadata": {},
   "source": [
    "gives the optimal $\\alpha=1$, as expected."
   ]
  },
  {
   "cell_type": "markdown",
   "id": "ad8b4aec",
   "metadata": {},
   "source": [
    "## Exercise 1: Find the local energy for the harmonic oscillator"
   ]
  },
  {
   "cell_type": "markdown",
   "id": "bef2e99f",
   "metadata": {},
   "source": [
    "**a)**\n",
    "Derive the local energy for the harmonic oscillator in one dimension and find its expectation value."
   ]
  },
  {
   "cell_type": "markdown",
   "id": "64548432",
   "metadata": {},
   "source": [
    "**b)**\n",
    "Show also that the optimal value of optimal $\\alpha=1$"
   ]
  },
  {
   "cell_type": "markdown",
   "id": "7db44256",
   "metadata": {},
   "source": [
    "**c)**\n",
    "Repeat the above steps in two dimensions for $N$ bosons or electrons. What is the optimal value of $\\alpha$?"
   ]
  },
  {
   "cell_type": "markdown",
   "id": "aacc6752",
   "metadata": {},
   "source": [
    "## Variance in the simple model\n",
    "We can also minimize the variance. In our simple model the variance is"
   ]
  },
  {
   "cell_type": "markdown",
   "id": "a8ef99fc",
   "metadata": {},
   "source": [
    "$$\n",
    "\\sigma^2[\\alpha]=\\frac{1}{4}\\left(1+(1-\\alpha^4)^2\\frac{3}{4\\alpha^4}\\right)-\\overline{E}^2.\n",
    "$$"
   ]
  },
  {
   "cell_type": "markdown",
   "id": "2410b46b",
   "metadata": {},
   "source": [
    "which yields a second derivative which is always positive."
   ]
  },
  {
   "cell_type": "markdown",
   "id": "9cc2f9ff",
   "metadata": {},
   "source": [
    "## Computing the derivatives\n",
    "\n",
    "In general we end up computing the expectation value of the energy in terms \n",
    "of some parameters $\\alpha_0,\\alpha_1,\\dots,\\alpha_n$\n",
    "and we search for a minimum in this multi-variable parameter space.  \n",
    "This leads to an energy minimization problem *where we need the derivative of the energy as a function of the variational parameters*.\n",
    "\n",
    "In the above example this was easy and we were able to find the expression for the derivative by simple derivations. \n",
    "However, in our actual calculations the energy is represented by a multi-dimensional integral with several variational parameters.\n",
    "How can we can then obtain the derivatives of the energy with respect to the variational parameters without having \n",
    "to resort to expensive numerical derivations?"
   ]
  },
  {
   "cell_type": "markdown",
   "id": "bd4549c5",
   "metadata": {},
   "source": [
    "## Expressions for finding the derivatives of the local energy\n",
    "\n",
    "To find the derivatives of the local energy expectation value as function of the variational parameters, we can use the chain rule and the hermiticity of the Hamiltonian.  \n",
    "\n",
    "Let us define"
   ]
  },
  {
   "cell_type": "markdown",
   "id": "0800bb07",
   "metadata": {},
   "source": [
    "$$\n",
    "\\bar{E}_{\\alpha}=\\frac{d\\langle  E_L[\\alpha]\\rangle}{d\\alpha}.\n",
    "$$"
   ]
  },
  {
   "cell_type": "markdown",
   "id": "2de3e658",
   "metadata": {},
   "source": [
    "as the derivative of the energy with respect to the variational parameter $\\alpha$ (we limit ourselves to one parameter only).\n",
    "In the above example this was easy and we obtain a simple expression for the derivative.\n",
    "We define also the derivative of the trial function (skipping the subindex $T$) as"
   ]
  },
  {
   "cell_type": "markdown",
   "id": "3e2f15b4",
   "metadata": {},
   "source": [
    "$$\n",
    "\\bar{\\psi}_{\\alpha}=\\frac{d\\psi[\\alpha]\\rangle}{d\\alpha}.\n",
    "$$"
   ]
  },
  {
   "cell_type": "markdown",
   "id": "5bbda1d1",
   "metadata": {},
   "source": [
    "## Derivatives of the local energy\n",
    "The elements of the gradient of the local energy are then (using the chain rule and the hermiticity of the Hamiltonian)"
   ]
  },
  {
   "cell_type": "markdown",
   "id": "23375275",
   "metadata": {},
   "source": [
    "$$\n",
    "\\bar{E}_{\\alpha} = 2\\left( \\langle \\frac{\\bar{\\psi}_{\\alpha}}{\\psi[\\alpha]}E_L[\\alpha]\\rangle -\\langle \\frac{\\bar{\\psi}_{\\alpha}}{\\psi[\\alpha]}\\rangle\\langle E_L[\\alpha] \\rangle\\right).\n",
    "$$"
   ]
  },
  {
   "cell_type": "markdown",
   "id": "63bf368f",
   "metadata": {},
   "source": [
    "From a computational point of view it means that you need to compute the expectation values of"
   ]
  },
  {
   "cell_type": "markdown",
   "id": "9f790a99",
   "metadata": {},
   "source": [
    "$$\n",
    "\\langle \\frac{\\bar{\\psi}_{\\alpha}}{\\psi[\\alpha]}E_L[\\alpha]\\rangle,\n",
    "$$"
   ]
  },
  {
   "cell_type": "markdown",
   "id": "b4dfcb19",
   "metadata": {},
   "source": [
    "and"
   ]
  },
  {
   "cell_type": "markdown",
   "id": "e52f1120",
   "metadata": {},
   "source": [
    "$$\n",
    "\\langle \\frac{\\bar{\\psi}_{\\alpha}}{\\psi[\\alpha]}\\rangle\\langle E_L[\\alpha]\\rangle\n",
    "$$"
   ]
  },
  {
   "cell_type": "markdown",
   "id": "5a339227",
   "metadata": {},
   "source": [
    "## Exercise 2: General expression for the derivative of the energy"
   ]
  },
  {
   "cell_type": "markdown",
   "id": "0e62479b",
   "metadata": {},
   "source": [
    "**a)**\n",
    "Show that"
   ]
  },
  {
   "cell_type": "markdown",
   "id": "3322d9db",
   "metadata": {},
   "source": [
    "$$\n",
    "\\bar{E}_{\\alpha} = 2\\left( \\langle \\frac{\\bar{\\psi}_{\\alpha}}{\\psi[\\alpha]}E_L[\\alpha]\\rangle -\\langle \\frac{\\bar{\\psi}_{\\alpha}}{\\psi[\\alpha]}\\rangle\\langle E_L[\\alpha] \\rangle\\right).\n",
    "$$"
   ]
  },
  {
   "cell_type": "markdown",
   "id": "44b69a3a",
   "metadata": {},
   "source": [
    "**b)**\n",
    "Find the corresponding expression for the variance."
   ]
  },
  {
   "cell_type": "markdown",
   "id": "6c68ad14",
   "metadata": {},
   "source": [
    "## Python program for 2-electrons in 2 dimensions"
   ]
  },
  {
   "cell_type": "code",
   "execution_count": 1,
   "id": "a6791ef1",
   "metadata": {},
   "outputs": [],
   "source": [
    "%matplotlib inline\n",
    "\n",
    "# 2-electron VMC code for 2dim quantum dot with importance sampling\n",
    "# Using gaussian rng for new positions and Metropolis- Hastings \n",
    "# Added energy minimization with gradient descent using fixed step size\n",
    "# To do: replace with optimization codes from scipy and/or use stochastic gradient descent\n",
    "from math import exp, sqrt\n",
    "from random import random, seed, normalvariate\n",
    "import numpy as np\n",
    "import matplotlib.pyplot as plt\n",
    "from mpl_toolkits.mplot3d import Axes3D\n",
    "from matplotlib import cm\n",
    "from matplotlib.ticker import LinearLocator, FormatStrFormatter\n",
    "import sys\n",
    "\n",
    "\n",
    "\n",
    "# Trial wave function for the 2-electron quantum dot in two dims\n",
    "def WaveFunction(r,alpha,beta):\n",
    "    r1 = r[0,0]**2 + r[0,1]**2\n",
    "    r2 = r[1,0]**2 + r[1,1]**2\n",
    "    r12 = sqrt((r[0,0]-r[1,0])**2 + (r[0,1]-r[1,1])**2)\n",
    "    deno = r12/(1+beta*r12)\n",
    "    return exp(-0.5*alpha*(r1+r2)+deno)\n",
    "\n",
    "# Local energy  for the 2-electron quantum dot in two dims, using analytical local energy\n",
    "def LocalEnergy(r,alpha,beta):\n",
    "    \n",
    "    r1 = (r[0,0]**2 + r[0,1]**2)\n",
    "    r2 = (r[1,0]**2 + r[1,1]**2)\n",
    "    r12 = sqrt((r[0,0]-r[1,0])**2 + (r[0,1]-r[1,1])**2)\n",
    "    deno = 1.0/(1+beta*r12)\n",
    "    deno2 = deno*deno\n",
    "    return 0.5*(1-alpha*alpha)*(r1 + r2) +2.0*alpha + 1.0/r12+deno2*(alpha*r12-deno2+2*beta*deno-1.0/r12)\n",
    "\n",
    "# Derivate of wave function ansatz as function of variational parameters\n",
    "def DerivativeWFansatz(r,alpha,beta):\n",
    "    \n",
    "    WfDer  = np.zeros((2), np.double)\n",
    "    r1 = (r[0,0]**2 + r[0,1]**2)\n",
    "    r2 = (r[1,0]**2 + r[1,1]**2)\n",
    "    r12 = sqrt((r[0,0]-r[1,0])**2 + (r[0,1]-r[1,1])**2)\n",
    "    deno = 1.0/(1+beta*r12)\n",
    "    deno2 = deno*deno\n",
    "    WfDer[0] = -0.5*(r1+r2)\n",
    "    WfDer[1] = -r12*r12*deno2\n",
    "    return  WfDer\n",
    "\n",
    "# Setting up the quantum force for the two-electron quantum dot, recall that it is a vector\n",
    "def QuantumForce(r,alpha,beta):\n",
    "\n",
    "    qforce = np.zeros((NumberParticles,Dimension), np.double)\n",
    "    r12 = sqrt((r[0,0]-r[1,0])**2 + (r[0,1]-r[1,1])**2)\n",
    "    deno = 1.0/(1+beta*r12)\n",
    "    qforce[0,:] = -2*r[0,:]*alpha*(r[0,:]-r[1,:])*deno*deno/r12\n",
    "    qforce[1,:] = -2*r[1,:]*alpha*(r[1,:]-r[0,:])*deno*deno/r12\n",
    "    return qforce\n",
    "    \n",
    "\n",
    "# Computing the derivative of the energy and the energy \n",
    "def EnergyMinimization(alpha, beta):\n",
    "\n",
    "    NumberMCcycles= 10000\n",
    "    # Parameters in the Fokker-Planck simulation of the quantum force\n",
    "    D = 0.5\n",
    "    TimeStep = 0.05\n",
    "    # positions\n",
    "    PositionOld = np.zeros((NumberParticles,Dimension), np.double)\n",
    "    PositionNew = np.zeros((NumberParticles,Dimension), np.double)\n",
    "    # Quantum force\n",
    "    QuantumForceOld = np.zeros((NumberParticles,Dimension), np.double)\n",
    "    QuantumForceNew = np.zeros((NumberParticles,Dimension), np.double)\n",
    "\n",
    "    # seed for rng generator \n",
    "    seed()\n",
    "    energy = 0.0\n",
    "    DeltaE = 0.0\n",
    "    EnergyDer = np.zeros((2), np.double)\n",
    "    DeltaPsi = np.zeros((2), np.double)\n",
    "    DerivativePsiE = np.zeros((2), np.double)\n",
    "    #Initial position\n",
    "    for i in range(NumberParticles):\n",
    "        for j in range(Dimension):\n",
    "            PositionOld[i,j] = normalvariate(0.0,1.0)*sqrt(TimeStep)\n",
    "    wfold = WaveFunction(PositionOld,alpha,beta)\n",
    "    QuantumForceOld = QuantumForce(PositionOld,alpha, beta)\n",
    "\n",
    "    #Loop over MC MCcycles\n",
    "    for MCcycle in range(NumberMCcycles):\n",
    "        #Trial position moving one particle at the time\n",
    "        for i in range(NumberParticles):\n",
    "            for j in range(Dimension):\n",
    "                PositionNew[i,j] = PositionOld[i,j]+normalvariate(0.0,1.0)*sqrt(TimeStep)+\\\n",
    "                                       QuantumForceOld[i,j]*TimeStep*D\n",
    "            wfnew = WaveFunction(PositionNew,alpha,beta)\n",
    "            QuantumForceNew = QuantumForce(PositionNew,alpha, beta)\n",
    "            GreensFunction = 0.0\n",
    "            for j in range(Dimension):\n",
    "                GreensFunction += 0.5*(QuantumForceOld[i,j]+QuantumForceNew[i,j])*\\\n",
    "\t                              (D*TimeStep*0.5*(QuantumForceOld[i,j]-QuantumForceNew[i,j])-\\\n",
    "                                      PositionNew[i,j]+PositionOld[i,j])\n",
    "      \n",
    "            GreensFunction = exp(GreensFunction)\n",
    "            ProbabilityRatio = GreensFunction*wfnew**2/wfold**2\n",
    "            #Metropolis-Hastings test to see whether we accept the move\n",
    "            if random() <= ProbabilityRatio:\n",
    "                for j in range(Dimension):\n",
    "                    PositionOld[i,j] = PositionNew[i,j]\n",
    "                    QuantumForceOld[i,j] = QuantumForceNew[i,j]\n",
    "                wfold = wfnew\n",
    "        DeltaE = LocalEnergy(PositionOld,alpha,beta)\n",
    "        DerPsi = DerivativeWFansatz(PositionOld,alpha,beta)\n",
    "        DeltaPsi += DerPsi\n",
    "        energy += DeltaE\n",
    "        DerivativePsiE += DerPsi*DeltaE\n",
    "            \n",
    "    # We calculate mean values\n",
    "    energy /= NumberMCcycles\n",
    "    DerivativePsiE /= NumberMCcycles\n",
    "    DeltaPsi /= NumberMCcycles\n",
    "    EnergyDer  = 2*(DerivativePsiE-DeltaPsi*energy)\n",
    "    return energy, EnergyDer\n",
    "\n",
    "\n",
    "#Here starts the main program with variable declarations\n",
    "NumberParticles = 2\n",
    "Dimension = 2\n",
    "# guess for variational parameters\n",
    "alpha = 0.9\n",
    "beta = 0.2\n",
    "# Set up iteration using gradient descent method\n",
    "Energy = 0\n",
    "EDerivative = np.zeros((2), np.double)\n",
    "eta = 0.01\n",
    "Niterations = 50\n",
    "# \n",
    "for iter in range(Niterations):\n",
    "    Energy, EDerivative = EnergyMinimization(alpha,beta)\n",
    "    alphagradient = EDerivative[0]\n",
    "    betagradient = EDerivative[1]\n",
    "    alpha -= eta*alphagradient\n",
    "    beta -= eta*betagradient \n",
    "\n",
    "print(alpha, beta)\n",
    "print(Energy, EDerivative[0], EDerivative[1])"
   ]
  },
  {
   "cell_type": "markdown",
   "id": "31afe7be",
   "metadata": {},
   "source": [
    "## Using Broyden's algorithm in scipy\n",
    "The following function uses the above described BFGS algorithm. Here we have defined a function which calculates the energy and a function which computes the first derivative."
   ]
  },
  {
   "cell_type": "code",
   "execution_count": 2,
   "id": "49560eee",
   "metadata": {},
   "outputs": [],
   "source": [
    "# 2-electron VMC code for 2dim quantum dot with importance sampling\n",
    "# Using gaussian rng for new positions and Metropolis- Hastings \n",
    "# Added energy minimization using the BFGS algorithm, see p. 136 of https://www.springer.com/it/book/9780387303031\n",
    "from math import exp, sqrt\n",
    "from random import random, seed, normalvariate\n",
    "import numpy as np\n",
    "import matplotlib.pyplot as plt\n",
    "from mpl_toolkits.mplot3d import Axes3D\n",
    "from matplotlib import cm\n",
    "from matplotlib.ticker import LinearLocator, FormatStrFormatter\n",
    "from scipy.optimize import minimize\n",
    "import sys\n",
    "\n",
    "\n",
    "# Trial wave function for the 2-electron quantum dot in two dims\n",
    "def WaveFunction(r,alpha,beta):\n",
    "    r1 = r[0,0]**2 + r[0,1]**2\n",
    "    r2 = r[1,0]**2 + r[1,1]**2\n",
    "    r12 = sqrt((r[0,0]-r[1,0])**2 + (r[0,1]-r[1,1])**2)\n",
    "    deno = r12/(1+beta*r12)\n",
    "    return exp(-0.5*alpha*(r1+r2)+deno)\n",
    "\n",
    "# Local energy  for the 2-electron quantum dot in two dims, using analytical local energy\n",
    "def LocalEnergy(r,alpha,beta):\n",
    "    \n",
    "    r1 = (r[0,0]**2 + r[0,1]**2)\n",
    "    r2 = (r[1,0]**2 + r[1,1]**2)\n",
    "    r12 = sqrt((r[0,0]-r[1,0])**2 + (r[0,1]-r[1,1])**2)\n",
    "    deno = 1.0/(1+beta*r12)\n",
    "    deno2 = deno*deno\n",
    "    return 0.5*(1-alpha*alpha)*(r1 + r2) +2.0*alpha + 1.0/r12+deno2*(alpha*r12-deno2+2*beta*deno-1.0/r12)\n",
    "\n",
    "# Derivate of wave function ansatz as function of variational parameters\n",
    "def DerivativeWFansatz(r,alpha,beta):\n",
    "    \n",
    "    WfDer  = np.zeros((2), np.double)\n",
    "    r1 = (r[0,0]**2 + r[0,1]**2)\n",
    "    r2 = (r[1,0]**2 + r[1,1]**2)\n",
    "    r12 = sqrt((r[0,0]-r[1,0])**2 + (r[0,1]-r[1,1])**2)\n",
    "    deno = 1.0/(1+beta*r12)\n",
    "    deno2 = deno*deno\n",
    "    WfDer[0] = -0.5*(r1+r2)\n",
    "    WfDer[1] = -r12*r12*deno2\n",
    "    return  WfDer\n",
    "\n",
    "# Setting up the quantum force for the two-electron quantum dot, recall that it is a vector\n",
    "def QuantumForce(r,alpha,beta):\n",
    "\n",
    "    qforce = np.zeros((NumberParticles,Dimension), np.double)\n",
    "    r12 = sqrt((r[0,0]-r[1,0])**2 + (r[0,1]-r[1,1])**2)\n",
    "    deno = 1.0/(1+beta*r12)\n",
    "    qforce[0,:] = -2*r[0,:]*alpha*(r[0,:]-r[1,:])*deno*deno/r12\n",
    "    qforce[1,:] = -2*r[1,:]*alpha*(r[1,:]-r[0,:])*deno*deno/r12\n",
    "    return qforce\n",
    "    \n",
    "\n",
    "# Computing the derivative of the energy and the energy \n",
    "def EnergyDerivative(x0):\n",
    "\n",
    "    \n",
    "    # Parameters in the Fokker-Planck simulation of the quantum force\n",
    "    D = 0.5\n",
    "    TimeStep = 0.05\n",
    "    NumberMCcycles= 10000\n",
    "    # positions\n",
    "    PositionOld = np.zeros((NumberParticles,Dimension), np.double)\n",
    "    PositionNew = np.zeros((NumberParticles,Dimension), np.double)\n",
    "    # Quantum force\n",
    "    QuantumForceOld = np.zeros((NumberParticles,Dimension), np.double)\n",
    "    QuantumForceNew = np.zeros((NumberParticles,Dimension), np.double)\n",
    "\n",
    "    energy = 0.0\n",
    "    DeltaE = 0.0\n",
    "    alpha = x0[0]\n",
    "    beta = x0[1]\n",
    "    EnergyDer = 0.0\n",
    "    DeltaPsi = 0.0\n",
    "    DerivativePsiE = 0.0 \n",
    "    #Initial position\n",
    "    for i in range(NumberParticles):\n",
    "        for j in range(Dimension):\n",
    "            PositionOld[i,j] = normalvariate(0.0,1.0)*sqrt(TimeStep)\n",
    "    wfold = WaveFunction(PositionOld,alpha,beta)\n",
    "    QuantumForceOld = QuantumForce(PositionOld,alpha, beta)\n",
    "\n",
    "    #Loop over MC MCcycles\n",
    "    for MCcycle in range(NumberMCcycles):\n",
    "        #Trial position moving one particle at the time\n",
    "        for i in range(NumberParticles):\n",
    "            for j in range(Dimension):\n",
    "                PositionNew[i,j] = PositionOld[i,j]+normalvariate(0.0,1.0)*sqrt(TimeStep)+\\\n",
    "                                       QuantumForceOld[i,j]*TimeStep*D\n",
    "            wfnew = WaveFunction(PositionNew,alpha,beta)\n",
    "            QuantumForceNew = QuantumForce(PositionNew,alpha, beta)\n",
    "            GreensFunction = 0.0\n",
    "            for j in range(Dimension):\n",
    "                GreensFunction += 0.5*(QuantumForceOld[i,j]+QuantumForceNew[i,j])*\\\n",
    "\t                              (D*TimeStep*0.5*(QuantumForceOld[i,j]-QuantumForceNew[i,j])-\\\n",
    "                                      PositionNew[i,j]+PositionOld[i,j])\n",
    "      \n",
    "            GreensFunction = exp(GreensFunction)\n",
    "            ProbabilityRatio = GreensFunction*wfnew**2/wfold**2\n",
    "            #Metropolis-Hastings test to see whether we accept the move\n",
    "            if random() <= ProbabilityRatio:\n",
    "                for j in range(Dimension):\n",
    "                    PositionOld[i,j] = PositionNew[i,j]\n",
    "                    QuantumForceOld[i,j] = QuantumForceNew[i,j]\n",
    "                wfold = wfnew\n",
    "        DeltaE = LocalEnergy(PositionOld,alpha,beta)\n",
    "        DerPsi = DerivativeWFansatz(PositionOld,alpha,beta)\n",
    "        DeltaPsi += DerPsi\n",
    "        energy += DeltaE\n",
    "        DerivativePsiE += DerPsi*DeltaE\n",
    "            \n",
    "    # We calculate mean values\n",
    "    energy /= NumberMCcycles\n",
    "    DerivativePsiE /= NumberMCcycles\n",
    "    DeltaPsi /= NumberMCcycles\n",
    "    EnergyDer  = 2*(DerivativePsiE-DeltaPsi*energy)\n",
    "    return EnergyDer\n",
    "\n",
    "\n",
    "# Computing the expectation value of the local energy \n",
    "def Energy(x0):\n",
    "    # Parameters in the Fokker-Planck simulation of the quantum force\n",
    "    D = 0.5\n",
    "    TimeStep = 0.05\n",
    "    # positions\n",
    "    PositionOld = np.zeros((NumberParticles,Dimension), np.double)\n",
    "    PositionNew = np.zeros((NumberParticles,Dimension), np.double)\n",
    "    # Quantum force\n",
    "    QuantumForceOld = np.zeros((NumberParticles,Dimension), np.double)\n",
    "    QuantumForceNew = np.zeros((NumberParticles,Dimension), np.double)\n",
    "\n",
    "    energy = 0.0\n",
    "    DeltaE = 0.0\n",
    "    alpha = x0[0]\n",
    "    beta = x0[1]\n",
    "    NumberMCcycles= 10000\n",
    "    #Initial position\n",
    "    for i in range(NumberParticles):\n",
    "        for j in range(Dimension):\n",
    "            PositionOld[i,j] = normalvariate(0.0,1.0)*sqrt(TimeStep)\n",
    "    wfold = WaveFunction(PositionOld,alpha,beta)\n",
    "    QuantumForceOld = QuantumForce(PositionOld,alpha, beta)\n",
    "\n",
    "    #Loop over MC MCcycles\n",
    "    for MCcycle in range(NumberMCcycles):\n",
    "        #Trial position moving one particle at the time\n",
    "        for i in range(NumberParticles):\n",
    "            for j in range(Dimension):\n",
    "                PositionNew[i,j] = PositionOld[i,j]+normalvariate(0.0,1.0)*sqrt(TimeStep)+\\\n",
    "                                       QuantumForceOld[i,j]*TimeStep*D\n",
    "            wfnew = WaveFunction(PositionNew,alpha,beta)\n",
    "            QuantumForceNew = QuantumForce(PositionNew,alpha, beta)\n",
    "            GreensFunction = 0.0\n",
    "            for j in range(Dimension):\n",
    "                GreensFunction += 0.5*(QuantumForceOld[i,j]+QuantumForceNew[i,j])*\\\n",
    "\t                              (D*TimeStep*0.5*(QuantumForceOld[i,j]-QuantumForceNew[i,j])-\\\n",
    "                                      PositionNew[i,j]+PositionOld[i,j])\n",
    "      \n",
    "            GreensFunction = exp(GreensFunction)\n",
    "            ProbabilityRatio = GreensFunction*wfnew**2/wfold**2\n",
    "            #Metropolis-Hastings test to see whether we accept the move\n",
    "            if random() <= ProbabilityRatio:\n",
    "                for j in range(Dimension):\n",
    "                    PositionOld[i,j] = PositionNew[i,j]\n",
    "                    QuantumForceOld[i,j] = QuantumForceNew[i,j]\n",
    "                wfold = wfnew\n",
    "        DeltaE = LocalEnergy(PositionOld,alpha,beta)\n",
    "        energy += DeltaE\n",
    "            \n",
    "    # We calculate mean values\n",
    "    energy /= NumberMCcycles\n",
    "    return energy\n",
    "\n",
    "\n",
    "\n",
    "\n",
    "#Here starts the main program with variable declarations\n",
    "NumberParticles = 2\n",
    "Dimension = 2\n",
    "# seed for rng generator \n",
    "seed()\n",
    "# guess for variational parameters\n",
    "x0 = np.array([0.9,0.2])\n",
    "# Using Broydens method\n",
    "res = minimize(Energy, x0, method='BFGS', jac=EnergyDerivative, options={'gtol': 1e-4,'disp': True})\n",
    "print(res.x)"
   ]
  },
  {
   "cell_type": "markdown",
   "id": "970d9260",
   "metadata": {},
   "source": [
    "Note that the **minimize** function returns the finale values for the variable $\\alpha=x0[0]$ and $\\beta=x0[1]$ in the array $x$."
   ]
  },
  {
   "cell_type": "markdown",
   "id": "42d54dd2",
   "metadata": {},
   "source": [
    "## Brief reminder on Newton-Raphson's method\n",
    "\n",
    "Let us quickly remind ourselves how we derive the above method.\n",
    "\n",
    "Perhaps the most celebrated of all one-dimensional root-finding\n",
    "routines is Newton's method, also called the Newton-Raphson\n",
    "method. This method  requires the evaluation of both the\n",
    "function $f$ and its derivative $f'$ at arbitrary points. \n",
    "If you can only calculate the derivative\n",
    "numerically and/or your function is not of the smooth type, we\n",
    "normally discourage the use of this method."
   ]
  },
  {
   "cell_type": "markdown",
   "id": "ad6e2d96",
   "metadata": {},
   "source": [
    "## The equations\n",
    "\n",
    "The Newton-Raphson formula consists geometrically of extending the\n",
    "tangent line at a current point until it crosses zero, then setting\n",
    "the next guess to the abscissa of that zero-crossing.  The mathematics\n",
    "behind this method is rather simple. Employing a Taylor expansion for\n",
    "$x$ sufficiently close to the solution $s$, we have"
   ]
  },
  {
   "cell_type": "markdown",
   "id": "c9df829c",
   "metadata": {},
   "source": [
    "<!-- Equation labels as ordinary links -->\n",
    "<div id=\"eq:taylornr\"></div>\n",
    "\n",
    "$$\n",
    "f(s)=0=f(x)+(s-x)f'(x)+\\frac{(s-x)^2}{2}f''(x) +\\dots.\n",
    "    \\label{eq:taylornr} \\tag{1}\n",
    "$$"
   ]
  },
  {
   "cell_type": "markdown",
   "id": "cf04eb36",
   "metadata": {},
   "source": [
    "For small enough values of the function and for well-behaved\n",
    "functions, the terms beyond linear are unimportant, hence we obtain"
   ]
  },
  {
   "cell_type": "markdown",
   "id": "5d55d96f",
   "metadata": {},
   "source": [
    "$$\n",
    "f(x)+(s-x)f'(x)\\approx 0,\n",
    "$$"
   ]
  },
  {
   "cell_type": "markdown",
   "id": "357eec62",
   "metadata": {},
   "source": [
    "yielding"
   ]
  },
  {
   "cell_type": "markdown",
   "id": "e993045f",
   "metadata": {},
   "source": [
    "$$\n",
    "s\\approx x-\\frac{f(x)}{f'(x)}.\n",
    "$$"
   ]
  },
  {
   "cell_type": "markdown",
   "id": "bbf6d2cb",
   "metadata": {},
   "source": [
    "Having in mind an iterative procedure, it is natural to start iterating with"
   ]
  },
  {
   "cell_type": "markdown",
   "id": "626555b3",
   "metadata": {},
   "source": [
    "$$\n",
    "x_{n+1}=x_n-\\frac{f(x_n)}{f'(x_n)}.\n",
    "$$"
   ]
  },
  {
   "cell_type": "markdown",
   "id": "e993ded6",
   "metadata": {},
   "source": [
    "## Simple geometric interpretation\n",
    "\n",
    "The above is Newton-Raphson's method. It has a simple geometric\n",
    "interpretation, namely $x_{n+1}$ is the point where the tangent from\n",
    "$(x_n,f(x_n))$ crosses the $x$-axis.  Close to the solution,\n",
    "Newton-Raphson converges fast to the desired result. However, if we\n",
    "are far from a root, where the higher-order terms in the series are\n",
    "important, the Newton-Raphson formula can give grossly inaccurate\n",
    "results. For instance, the initial guess for the root might be so far\n",
    "from the true root as to let the search interval include a local\n",
    "maximum or minimum of the function.  If an iteration places a trial\n",
    "guess near such a local extremum, so that the first derivative nearly\n",
    "vanishes, then Newton-Raphson may fail totally"
   ]
  },
  {
   "cell_type": "markdown",
   "id": "d0b3cfb1",
   "metadata": {},
   "source": [
    "## Extending to more than one variable\n",
    "\n",
    "Newton's method can be generalized to systems of several non-linear equations\n",
    "and variables. Consider the case with two equations"
   ]
  },
  {
   "cell_type": "markdown",
   "id": "94de9e92",
   "metadata": {},
   "source": [
    "$$\n",
    "\\begin{array}{cc} f_1(x_1,x_2) &=0\\\\\n",
    "                     f_2(x_1,x_2) &=0,\\end{array}.\n",
    "$$"
   ]
  },
  {
   "cell_type": "markdown",
   "id": "4552dc8a",
   "metadata": {},
   "source": [
    "## Taylor expansion\n",
    "We Taylor expand to obtain"
   ]
  },
  {
   "cell_type": "markdown",
   "id": "b3bb7790",
   "metadata": {},
   "source": [
    "$$\n",
    "\\begin{array}{cc} 0=f_1(x_1+h_1,x_2+h_2)=&f_1(x_1,x_2)+h_1\n",
    "                     \\partial f_1/\\partial x_1+h_2\n",
    "                     \\partial f_1/\\partial x_2+\\dots\\\\\n",
    "                     0=f_2(x_1+h_1,x_2+h_2)=&f_2(x_1,x_2)+h_1\n",
    "                     \\partial f_2/\\partial x_1+h_2\n",
    "                     \\partial f_2/\\partial x_2+\\dots\n",
    "                       \\end{array}.\n",
    "$$"
   ]
  },
  {
   "cell_type": "markdown",
   "id": "703ec37e",
   "metadata": {},
   "source": [
    "## Jacobian\n",
    "Defining the Jacobian matrix $\\hat{J}$ we have"
   ]
  },
  {
   "cell_type": "markdown",
   "id": "dfe13f9b",
   "metadata": {},
   "source": [
    "$$\n",
    "\\hat{J}=\\left( \\begin{array}{cc}\n",
    "                         \\partial f_1/\\partial x_1  & \\partial f_1/\\partial x_2 \\\\\n",
    "                          \\partial f_2/\\partial x_1     &\\partial f_2/\\partial x_2\n",
    "             \\end{array} \\right),\n",
    "$$"
   ]
  },
  {
   "cell_type": "markdown",
   "id": "71389573",
   "metadata": {},
   "source": [
    "we can rephrase Newton's method as"
   ]
  },
  {
   "cell_type": "markdown",
   "id": "e73df8e0",
   "metadata": {},
   "source": [
    "$$\n",
    "\\left(\\begin{array}{c} x_1^{n+1} \\\\ x_2^{n+1} \\end{array} \\right)=\n",
    "\\left(\\begin{array}{c} x_1^{n} \\\\ x_2^{n} \\end{array} \\right)+\n",
    "\\left(\\begin{array}{c} h_1^{n} \\\\ h_2^{n} \\end{array} \\right),\n",
    "$$"
   ]
  },
  {
   "cell_type": "markdown",
   "id": "b0810bfd",
   "metadata": {},
   "source": [
    "where we have defined"
   ]
  },
  {
   "cell_type": "markdown",
   "id": "4583ea7d",
   "metadata": {},
   "source": [
    "$$\n",
    "\\left(\\begin{array}{c} h_1^{n} \\\\ h_2^{n} \\end{array} \\right)=\n",
    "   -{\\bf \\hat{J}}^{-1}\n",
    "   \\left(\\begin{array}{c} f_1(x_1^{n},x_2^{n}) \\\\ f_2(x_1^{n},x_2^{n}) \\end{array} \\right).\n",
    "$$"
   ]
  },
  {
   "cell_type": "markdown",
   "id": "57ded445",
   "metadata": {},
   "source": [
    "## Inverse of Jacobian\n",
    "\n",
    "We need thus to compute the inverse of the Jacobian matrix and it\n",
    "is to understand that difficulties  may\n",
    "arise in case $\\hat{J}$ is nearly singular.\n",
    "\n",
    "It is rather straightforward to extend the above scheme to systems of\n",
    "more than two non-linear equations. In our case, the Jacobian matrix is given by the Hessian that represents the second derivative of cost function."
   ]
  }
 ],
 "metadata": {
  "kernelspec": {
   "display_name": "Python 3 (ipykernel)",
   "language": "python",
   "name": "python3"
  },
  "language_info": {
   "codemirror_mode": {
    "name": "ipython",
    "version": 3
   },
   "file_extension": ".py",
   "mimetype": "text/x-python",
   "name": "python",
   "nbconvert_exporter": "python",
   "pygments_lexer": "ipython3",
   "version": "3.9.15"
  }
 },
 "nbformat": 4,
 "nbformat_minor": 5
}
