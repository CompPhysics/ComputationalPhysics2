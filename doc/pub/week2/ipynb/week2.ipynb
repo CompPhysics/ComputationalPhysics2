{
 "cells": [
  {
   "cell_type": "markdown",
   "id": "bebe8c68",
   "metadata": {
    "editable": true
   },
   "source": [
    "<!-- HTML file automatically generated from DocOnce source (https://github.com/doconce/doconce/)\n",
    "doconce format html week2.do.txt --no_mako --no_abort -->\n",
    "<!-- dom:TITLE: Building a Variational Monte Carlo program  -->"
   ]
  },
  {
   "cell_type": "markdown",
   "id": "64ddc99d",
   "metadata": {
    "editable": true
   },
   "source": [
    "# Building a Variational Monte Carlo program \n",
    "**Morten Hjorth-Jensen  Email mhjensen@uio.no**, Department of Physics and Center fo Computing in Science Education, University of Oslo, Oslo, Norway\n",
    "\n",
    "Date: **January 31**"
   ]
  },
  {
   "cell_type": "markdown",
   "id": "c51a639a",
   "metadata": {
    "editable": true
   },
   "source": [
    "## Overview of week January 27-31\n",
    "**Topics.**\n",
    "\n",
    "* Repetition from last week and discussions of  code templates in python and C++\n",
    "\n",
    "* Essential ingredients: Variational Monte Carlo methods, Metropolis Algorithm, statistics and Markov Chain theory\n",
    "\n",
    "* How to structure the VMC code\n",
    "\n",
    "**Teaching Material, videos and written material.**\n",
    "\n",
    "* Reading suggestions: \n",
    "\n",
    "* [Video of lecture to be added](https://youtu.be/)\n",
    "<!-- * [Handwritten note](https://github.com/CompPhysics/ComputationalPhysics2/blob/gh-pages/doc/HandWrittenNotes/2024/NotesJanuary26.pdf) -->"
   ]
  },
  {
   "cell_type": "markdown",
   "id": "78e8692e",
   "metadata": {
    "editable": true
   },
   "source": [
    "## Code templates for first project\n",
    "\n",
    "1. [The C++ template](https://github.com/mortele/variational-monte-carlo-fys4411)\n",
    "\n",
    "2. [The python template, using JAX](https://github.com/Daniel-Haas-B/FYS4411-Template)"
   ]
  },
  {
   "cell_type": "markdown",
   "id": "f16de310",
   "metadata": {
    "editable": true
   },
   "source": [
    "## Basic Quantum Monte Carlo, repetition from last week\n",
    "\n",
    "We start with the variational principle.\n",
    "Given a hamiltonian $H$ and a trial wave function $\\Psi_T(\\boldsymbol{R};\\boldsymbol{\\alpha})$, the variational principle states that the expectation value of $\\cal{E}[H]$, defined through"
   ]
  },
  {
   "cell_type": "markdown",
   "id": "78541db6",
   "metadata": {
    "editable": true
   },
   "source": [
    "$$\n",
    "\\cal {E}[H] =\n",
    "   \\frac{\\int d\\boldsymbol{R}\\Psi^{\\ast}_T(\\boldsymbol{R};\\boldsymbol{\\alpha})H(\\boldsymbol{R})\\Psi_T(\\boldsymbol{R};\\boldsymbol{\\alpha})}\n",
    "        {\\int d\\boldsymbol{R}\\Psi^{\\ast}_T(\\boldsymbol{R};\\boldsymbol{\\alpha})\\Psi_T(\\boldsymbol{R};\\boldsymbol{\\alpha})},\n",
    "$$"
   ]
  },
  {
   "cell_type": "markdown",
   "id": "fae04b38",
   "metadata": {
    "editable": true
   },
   "source": [
    "is an upper bound to the ground state energy $E_0$ of the hamiltonian $H$, that is"
   ]
  },
  {
   "cell_type": "markdown",
   "id": "5a7f35bb",
   "metadata": {
    "editable": true
   },
   "source": [
    "$$\n",
    "E_0 \\le {\\cal E}[H].\n",
    "$$"
   ]
  },
  {
   "cell_type": "markdown",
   "id": "3969564a",
   "metadata": {
    "editable": true
   },
   "source": [
    "## Multi-dimensional integrals\n",
    "\n",
    "In general, the integrals involved in the calculation of various\n",
    "expectation values are multi-dimensional ones. Traditional integration\n",
    "methods such as Gauss-Legendre quadrature will not be adequate for say the\n",
    "computation of the energy of a many-body system.\n",
    "\n",
    "Here we have defined the vector $\\boldsymbol{R} = [\\boldsymbol{r}_1,\\boldsymbol{r}_2,\\dots,\\boldsymbol{r}_n]$  as an array that contains the positions of all particles $n$ while the vector $\\boldsymbol{\\alpha} = [\\alpha_1,\\alpha_2,\\dots,\\alpha_m]$ contains the variational parameters of the model, $m$ in total."
   ]
  },
  {
   "cell_type": "markdown",
   "id": "d1419b38",
   "metadata": {
    "editable": true
   },
   "source": [
    "## Trail functions\n",
    "\n",
    "The trial wave function can be expanded in the eigenstates $\\Psi_i(\\boldsymbol{R})$ \n",
    "of the hamiltonian since they form a complete set, viz.,"
   ]
  },
  {
   "cell_type": "markdown",
   "id": "3b3b65a2",
   "metadata": {
    "editable": true
   },
   "source": [
    "$$\n",
    "\\Psi_T(\\boldsymbol{R};\\boldsymbol{\\alpha})=\\sum_i a_i\\Psi_i(\\boldsymbol{R}),\n",
    "$$"
   ]
  },
  {
   "cell_type": "markdown",
   "id": "334ffbb0",
   "metadata": {
    "editable": true
   },
   "source": [
    "and assuming that the set of eigenfunctions are normalized, one obtains"
   ]
  },
  {
   "cell_type": "markdown",
   "id": "d5be3542",
   "metadata": {
    "editable": true
   },
   "source": [
    "$$\n",
    "\\frac{\\sum_{nm}a^*_ma_n \\int d\\boldsymbol{R}\\Psi^{\\ast}_m(\\boldsymbol{R})H(\\boldsymbol{R})\\Psi_n(\\boldsymbol{R})}\n",
    "        {\\sum_{nm}a^*_ma_n \\int d\\boldsymbol{R}\\Psi^{\\ast}_m(\\boldsymbol{R})\\Psi_n(\\boldsymbol{R})} =\\frac{\\sum_{n}a^2_n E_n}\n",
    "        {\\sum_{n}a^2_n} \\ge E_0,\n",
    "$$"
   ]
  },
  {
   "cell_type": "markdown",
   "id": "90fc465d",
   "metadata": {
    "editable": true
   },
   "source": [
    "where we used that $H(\\boldsymbol{R})\\Psi_n(\\boldsymbol{R})=E_n\\Psi_n(\\boldsymbol{R})$."
   ]
  },
  {
   "cell_type": "markdown",
   "id": "112c234f",
   "metadata": {
    "editable": true
   },
   "source": [
    "## Variational principle\n",
    "The variational principle yields the lowest energy of states with a  given symmetry.\n",
    "\n",
    "In most cases, a wave function has only small values in large parts of \n",
    "configuration space, and a straightforward procedure which uses\n",
    "homogenously distributed random points in configuration space \n",
    "will most likely lead to poor results. This may suggest that some kind\n",
    "of importance sampling combined with e.g., the Metropolis algorithm \n",
    "may be  a more efficient way of obtaining the ground state energy.\n",
    "The hope is then that those regions of configurations space where\n",
    "the wave function assumes appreciable values are sampled more \n",
    "efficiently."
   ]
  },
  {
   "cell_type": "markdown",
   "id": "98d3e228",
   "metadata": {
    "editable": true
   },
   "source": [
    "## Tedious parts of VMC calculations\n",
    "\n",
    "The tedious part in a VMC calculation is the search for the variational\n",
    "minimum. A good knowledge of the system is required in order to carry out\n",
    "reasonable VMC calculations. This is not always the case, \n",
    "and often VMC calculations \n",
    "serve rather as the starting\n",
    "point for so-called diffusion Monte Carlo calculations (DMC). Diffusion Monte Carlo  is a way of\n",
    "solving exactly the many-body Schroedinger equation by means of \n",
    "a stochastic procedure. A good guess on the binding energy\n",
    "and its wave function is however necessary. \n",
    "A carefully performed VMC calculation can aid in this context."
   ]
  },
  {
   "cell_type": "markdown",
   "id": "11700004",
   "metadata": {
    "editable": true
   },
   "source": [
    "## Bird's eye view  on Variational MC\n",
    "\n",
    "The basic procedure of a Variational Monte Carlo calculations consists thus of \n",
    "\n",
    "1. Construct first a trial wave function $\\psi_T(\\boldsymbol{R};\\boldsymbol{\\alpha})$,  for a many-body system consisting of $n$ particles located at positions  $\\boldsymbol{R}=(\\boldsymbol{R}_1,\\dots ,\\boldsymbol{R}_n)$. The trial wave function depends on $\\alpha$ variational parameters $\\boldsymbol{\\alpha}=(\\alpha_1,\\dots ,\\alpha_M)$.\n",
    "\n",
    "2. Then we evaluate the expectation value of the hamiltonian $H$"
   ]
  },
  {
   "cell_type": "markdown",
   "id": "5de889ce",
   "metadata": {
    "editable": true
   },
   "source": [
    "$$\n",
    "\\overline{E}[\\boldsymbol{\\alpha}]=\\frac{\\int d\\boldsymbol{R}\\Psi^{\\ast}_{T}(\\boldsymbol{R},\\boldsymbol{\\alpha})H(\\boldsymbol{R})\\Psi_{T}(\\boldsymbol{R},\\boldsymbol{\\alpha})}\n",
    "        {\\int d\\boldsymbol{R}\\Psi^{\\ast}_{T}(\\boldsymbol{R},\\boldsymbol{\\alpha})\\Psi_{T}(\\boldsymbol{R},\\boldsymbol{\\alpha})}.\n",
    "$$"
   ]
  },
  {
   "cell_type": "markdown",
   "id": "4693d619",
   "metadata": {
    "editable": true
   },
   "source": [
    "1. Thereafter we vary $\\boldsymbol{\\alpha}$ according to some minimization algorithm and return eventually to the first step if we are not satisfied with the results.\n",
    "\n",
    "Here we have used the notation $\\overline{E}$ to label the expectation value of the energy."
   ]
  },
  {
   "cell_type": "markdown",
   "id": "aaee9c5c",
   "metadata": {
    "editable": true
   },
   "source": [
    "## Linking with standard statistical expressions for expectation values\n",
    "\n",
    "In order to bring in the Monte Carlo machinery, we define first a likelihood distribution, or probability density distribution (PDF). Using our ansatz for the trial wave function $\\psi_T(\\boldsymbol{R};\\boldsymbol{\\alpha})$ we define a PDF"
   ]
  },
  {
   "cell_type": "markdown",
   "id": "0915b960",
   "metadata": {
    "editable": true
   },
   "source": [
    "$$\n",
    "P(\\boldsymbol{R})= \\frac{\\left|\\psi_T(\\boldsymbol{R};\\boldsymbol{\\alpha})\\right|^2}{\\int \\left|\\psi_T(\\boldsymbol{R};\\boldsymbol{\\alpha})\\right|^2d\\boldsymbol{R}}.\n",
    "$$"
   ]
  },
  {
   "cell_type": "markdown",
   "id": "1e7385b1",
   "metadata": {
    "editable": true
   },
   "source": [
    "This is our model for  probability distribution function.\n",
    "The approximation to the expectation value of the Hamiltonian is now"
   ]
  },
  {
   "cell_type": "markdown",
   "id": "78393250",
   "metadata": {
    "editable": true
   },
   "source": [
    "$$\n",
    "\\overline{E}[\\boldsymbol{\\alpha}] = \n",
    "   \\frac{\\int d\\boldsymbol{R}\\Psi^{\\ast}_T(\\boldsymbol{R};\\boldsymbol{\\alpha})H(\\boldsymbol{R})\\Psi_T(\\boldsymbol{R};\\boldsymbol{\\alpha})}\n",
    "        {\\int d\\boldsymbol{R}\\Psi^{\\ast}_T(\\boldsymbol{R};\\boldsymbol{\\alpha})\\Psi_T(\\boldsymbol{R};\\boldsymbol{\\alpha})}.\n",
    "$$"
   ]
  },
  {
   "cell_type": "markdown",
   "id": "ae3e9300",
   "metadata": {
    "editable": true
   },
   "source": [
    "## The local energy\n",
    "We define a new quantity"
   ]
  },
  {
   "cell_type": "markdown",
   "id": "4d1e2604",
   "metadata": {
    "editable": true
   },
   "source": [
    "<!-- Equation labels as ordinary links -->\n",
    "<div id=\"eq:locale1\"></div>\n",
    "\n",
    "$$\n",
    "E_L(\\boldsymbol{R};\\boldsymbol{\\alpha})=\\frac{1}{\\psi_T(\\boldsymbol{R};\\boldsymbol{\\alpha})}H\\psi_T(\\boldsymbol{R};\\boldsymbol{\\alpha}),\n",
    "\\label{eq:locale1} \\tag{1}\n",
    "$$"
   ]
  },
  {
   "cell_type": "markdown",
   "id": "604a7bad",
   "metadata": {
    "editable": true
   },
   "source": [
    "called the local energy, which, together with our trial PDF yields a new expression (and which look simlar to the the expressions for moments in statistics)"
   ]
  },
  {
   "cell_type": "markdown",
   "id": "4a8c44df",
   "metadata": {
    "editable": true
   },
   "source": [
    "<!-- Equation labels as ordinary links -->\n",
    "<div id=\"eq:vmc1\"></div>\n",
    "\n",
    "$$\n",
    "\\overline{E}[\\boldsymbol{\\alpha}]=\\int P(\\boldsymbol{R})E_L(\\boldsymbol{R};\\boldsymbol{\\alpha}) d\\boldsymbol{R}\\approx \\frac{1}{N}\\sum_{i=1}^NE_L(\\boldsymbol{R_i};\\boldsymbol{\\alpha})\n",
    "\\label{eq:vmc1} \\tag{2}\n",
    "$$"
   ]
  },
  {
   "cell_type": "markdown",
   "id": "72e97b11",
   "metadata": {
    "editable": true
   },
   "source": [
    "with $N$ being the number of Monte Carlo samples. The expression on the right hand side follows from Bernoulli's law of large numbers, which states that the sample mean, in the limit $N\\rightarrow \\infty$ approaches the true mean"
   ]
  },
  {
   "cell_type": "markdown",
   "id": "a3a08195",
   "metadata": {
    "editable": true
   },
   "source": [
    "## The Monte Carlo algorithm\n",
    "\n",
    "The Algorithm for performing a variational Monte Carlo calculations runs as this\n",
    "\n",
    "   * Initialisation: Fix the number of Monte Carlo steps. Choose an initial $\\boldsymbol{R}$ and variational parameters $\\alpha$ and calculate $\\left|\\psi_T^{\\alpha}(\\boldsymbol{R})\\right|^2$. \n",
    "\n",
    "   * Initialise the energy and the variance and start the Monte Carlo calculation.\n",
    "\n",
    "      * Calculate  a trial position  $\\boldsymbol{R}_p=\\boldsymbol{R}+r*step$ where $r$ is a random variable $r \\in [0,1]$.\n",
    "\n",
    "      * Metropolis algorithm to accept or reject this move  $w = P(\\boldsymbol{R}_p)/P(\\boldsymbol{R})$.\n",
    "\n",
    "      * If the step is accepted, then we set $\\boldsymbol{R}=\\boldsymbol{R}_p$. \n",
    "\n",
    "      * Update averages\n",
    "\n",
    "   * Finish and compute final averages.\n",
    "\n",
    "Observe that the jumping in space is governed by the variable *step*. This is often referred to as the  **brute-force** sampling and is normally replaced by what is called **importance sampling**, discussed in more detail next week.."
   ]
  },
  {
   "cell_type": "markdown",
   "id": "c9456761",
   "metadata": {
    "editable": true
   },
   "source": [
    "## Example from last week, the harmonic oscillator in one dimension (best seen with jupyter-notebook)\n",
    "\n",
    "We present here a well-known example, the harmonic oscillator in\n",
    "one dimension for one particle. This will also serve the aim of\n",
    "introducing our next model, namely that of interacting electrons in a\n",
    "harmonic oscillator trap.\n",
    "\n",
    "Here as well, we do have analytical solutions and the energy of the\n",
    "ground state, with $\\hbar=1$, is $1/2\\omega$, with $\\omega$ being the\n",
    "oscillator frequency. We use the following trial wave function"
   ]
  },
  {
   "cell_type": "markdown",
   "id": "dda7479b",
   "metadata": {
    "editable": true
   },
   "source": [
    "$$\n",
    "\\psi_T(x;\\alpha) = \\exp{-(\\frac{1}{2}\\alpha^2x^2)},\n",
    "$$"
   ]
  },
  {
   "cell_type": "markdown",
   "id": "31a4ca0f",
   "metadata": {
    "editable": true
   },
   "source": [
    "which results in a local energy"
   ]
  },
  {
   "cell_type": "markdown",
   "id": "6e0faef4",
   "metadata": {
    "editable": true
   },
   "source": [
    "$$\n",
    "\\frac{1}{2}\\left(\\alpha^2+x^2(1-\\alpha^4)\\right).\n",
    "$$"
   ]
  },
  {
   "cell_type": "markdown",
   "id": "bb8b5c20",
   "metadata": {
    "editable": true
   },
   "source": [
    "We can compare our numerically calculated energies with the exact energy as function of $\\alpha$"
   ]
  },
  {
   "cell_type": "markdown",
   "id": "75435e6a",
   "metadata": {
    "editable": true
   },
   "source": [
    "$$\n",
    "\\overline{E}[\\alpha] = \\frac{1}{4}\\left(\\alpha^2+\\frac{1}{\\alpha^2}\\right).\n",
    "$$"
   ]
  },
  {
   "cell_type": "markdown",
   "id": "b20ac50c",
   "metadata": {
    "editable": true
   },
   "source": [
    "Similarly, with the above ansatz, we can also compute the exact variance which reads"
   ]
  },
  {
   "cell_type": "markdown",
   "id": "a5479f9b",
   "metadata": {
    "editable": true
   },
   "source": [
    "$$\n",
    "\\sigma^2[\\alpha]=\\frac{1}{4}\\left(1+(1-\\alpha^4)^2\\frac{3}{4\\alpha^4}\\right)-\\overline{E}.\n",
    "$$"
   ]
  },
  {
   "cell_type": "markdown",
   "id": "9188ddd2",
   "metadata": {
    "editable": true
   },
   "source": [
    "Our code for computing the energy of the ground state of the harmonic oscillator follows here. We start by defining directories where we store various outputs."
   ]
  },
  {
   "cell_type": "code",
   "execution_count": 1,
   "id": "2b239ce7",
   "metadata": {
    "collapsed": false,
    "editable": true
   },
   "outputs": [],
   "source": [
    "# Common imports\n",
    "import os\n",
    "\n",
    "# Where to save the figures and data files\n",
    "PROJECT_ROOT_DIR = \"Results\"\n",
    "FIGURE_ID = \"Results/FigureFiles\"\n",
    "DATA_ID = \"Results/VMCHarmonic\"\n",
    "\n",
    "if not os.path.exists(PROJECT_ROOT_DIR):\n",
    "    os.mkdir(PROJECT_ROOT_DIR)\n",
    "\n",
    "if not os.path.exists(FIGURE_ID):\n",
    "    os.makedirs(FIGURE_ID)\n",
    "\n",
    "if not os.path.exists(DATA_ID):\n",
    "    os.makedirs(DATA_ID)\n",
    "\n",
    "def image_path(fig_id):\n",
    "    return os.path.join(FIGURE_ID, fig_id)\n",
    "\n",
    "def data_path(dat_id):\n",
    "    return os.path.join(DATA_ID, dat_id)\n",
    "\n",
    "def save_fig(fig_id):\n",
    "    plt.savefig(image_path(fig_id) + \".png\", format='png')\n",
    "\n",
    "outfile = open(data_path(\"VMCHarmonic.dat\"),'w')"
   ]
  },
  {
   "cell_type": "markdown",
   "id": "d4ad4b5e",
   "metadata": {
    "editable": true
   },
   "source": [
    "We proceed with the implementation of the Monte Carlo algorithm but list first the ansatz for the wave function and the expression for the local energy"
   ]
  },
  {
   "cell_type": "code",
   "execution_count": 2,
   "id": "cd3c4241",
   "metadata": {
    "collapsed": false,
    "editable": true
   },
   "outputs": [],
   "source": [
    "%matplotlib inline\n",
    "\n",
    "# VMC for the one-dimensional harmonic oscillator\n",
    "# Brute force Metropolis, no importance sampling and no energy minimization\n",
    "from math import exp, sqrt\n",
    "from random import random, seed\n",
    "import numpy as np\n",
    "import matplotlib.pyplot as plt\n",
    "from decimal import *\n",
    "# Trial wave function for the Harmonic oscillator in one dimension\n",
    "def WaveFunction(r,alpha):\n",
    "    return exp(-0.5*alpha*alpha*r*r)\n",
    "\n",
    "# Local energy  for the Harmonic oscillator in one dimension\n",
    "def LocalEnergy(r,alpha):\n",
    "    return 0.5*r*r*(1-alpha**4) + 0.5*alpha*alpha"
   ]
  },
  {
   "cell_type": "markdown",
   "id": "3fbaa258",
   "metadata": {
    "editable": true
   },
   "source": [
    "Note that in the Metropolis algorithm there is no need to compute the\n",
    "trial wave function, mainly since we are just taking the ratio of two\n",
    "exponentials. It is then from a computational point view, more\n",
    "convenient to compute the argument from the ratio and then calculate\n",
    "the exponential. Here we have refrained from this purely of\n",
    "pedagogical reasons."
   ]
  },
  {
   "cell_type": "code",
   "execution_count": 3,
   "id": "f30a2d9b",
   "metadata": {
    "collapsed": false,
    "editable": true
   },
   "outputs": [],
   "source": [
    "# The Monte Carlo sampling with the Metropolis algo\n",
    "def MonteCarloSampling():\n",
    "\n",
    "    NumberMCcycles= 100000\n",
    "    StepSize = 1.0\n",
    "    # positions\n",
    "    PositionOld = 0.0\n",
    "    PositionNew = 0.0\n",
    "\n",
    "    # seed for rng generator\n",
    "    seed()\n",
    "    # start variational parameter\n",
    "    alpha = 0.4\n",
    "    for ia in range(MaxVariations):\n",
    "        alpha += .05\n",
    "        AlphaValues[ia] = alpha\n",
    "        energy = energy2 = 0.0\n",
    "        #Initial position\n",
    "        PositionOld = StepSize * (random() - .5)\n",
    "        wfold = WaveFunction(PositionOld,alpha)\n",
    "        #Loop over MC MCcycles\n",
    "        for MCcycle in range(NumberMCcycles):\n",
    "            #Trial position \n",
    "            PositionNew = PositionOld + StepSize*(random() - .5)\n",
    "            wfnew = WaveFunction(PositionNew,alpha)\n",
    "            #Metropolis test to see whether we accept the move\n",
    "            if random() <= wfnew**2 / wfold**2:\n",
    "                PositionOld = PositionNew\n",
    "                wfold = wfnew\n",
    "            DeltaE = LocalEnergy(PositionOld,alpha)\n",
    "            energy += DeltaE\n",
    "            energy2 += DeltaE**2\n",
    "        #We calculate mean, variance and error\n",
    "        energy /= NumberMCcycles\n",
    "        energy2 /= NumberMCcycles\n",
    "        variance = energy2 - energy**2\n",
    "        error = sqrt(variance/NumberMCcycles)\n",
    "        Energies[ia] = energy    \n",
    "        Variances[ia] = variance    \n",
    "        outfile.write('%f %f %f %f \\n' %(alpha,energy,variance,error))\n",
    "    return Energies, AlphaValues, Variances"
   ]
  },
  {
   "cell_type": "markdown",
   "id": "89e4a751",
   "metadata": {
    "editable": true
   },
   "source": [
    "Finally, the results are presented here with the exact energies and variances as well."
   ]
  },
  {
   "cell_type": "code",
   "execution_count": 4,
   "id": "91bdfe48",
   "metadata": {
    "collapsed": false,
    "editable": true
   },
   "outputs": [],
   "source": [
    "#Here starts the main program with variable declarations\n",
    "MaxVariations = 20\n",
    "Energies = np.zeros((MaxVariations))\n",
    "ExactEnergies = np.zeros((MaxVariations))\n",
    "ExactVariance = np.zeros((MaxVariations))\n",
    "Variances = np.zeros((MaxVariations))\n",
    "AlphaValues = np.zeros(MaxVariations)\n",
    "(Energies, AlphaValues, Variances) = MonteCarloSampling()\n",
    "outfile.close()\n",
    "ExactEnergies = 0.25*(AlphaValues*AlphaValues+1.0/(AlphaValues*AlphaValues))\n",
    "ExactVariance = 0.25*(1.0+((1.0-AlphaValues**4)**2)*3.0/(4*(AlphaValues**4)))-ExactEnergies*ExactEnergies\n",
    "\n",
    "#simple subplot\n",
    "plt.subplot(2, 1, 1)\n",
    "plt.plot(AlphaValues, Energies, 'o-',AlphaValues, ExactEnergies,'r-')\n",
    "plt.title('Energy and variance')\n",
    "plt.ylabel('Dimensionless energy')\n",
    "plt.subplot(2, 1, 2)\n",
    "plt.plot(AlphaValues, Variances, '.-',AlphaValues, ExactVariance,'r-')\n",
    "plt.xlabel(r'$\\alpha$', fontsize=15)\n",
    "plt.ylabel('Variance')\n",
    "save_fig(\"VMCHarmonic\")\n",
    "plt.show()\n",
    "#nice printout with Pandas\n",
    "import pandas as pd\n",
    "from pandas import DataFrame\n",
    "data ={'Alpha':AlphaValues, 'Energy':Energies,'Exact Energy':ExactEnergies,'Variance':Variances,'Exact Variance':ExactVariance,}\n",
    "frame = pd.DataFrame(data)\n",
    "print(frame)"
   ]
  },
  {
   "cell_type": "markdown",
   "id": "93470ef2",
   "metadata": {
    "editable": true
   },
   "source": [
    "For $\\alpha=1$ we have the exact eigenpairs, as can be deduced from the\n",
    "table here. With $\\omega=1$, the exact energy is $1/2$ a.u. with zero\n",
    "variance, as it should. We see also that our computed variance follows rather well the exact variance.\n",
    "Increasing the number of Monte Carlo cycles will improve our statistics (try to increase the number of Monte Carlo cycles).\n",
    "\n",
    "The fact that the variance is exactly equal to zero when $\\alpha=1$ is that \n",
    "we then have the exact wave function, and the action of the hamiltionan\n",
    "on the wave function"
   ]
  },
  {
   "cell_type": "markdown",
   "id": "d8c76dcd",
   "metadata": {
    "editable": true
   },
   "source": [
    "$$\n",
    "H\\psi = \\mathrm{constant}\\times \\psi,\n",
    "$$"
   ]
  },
  {
   "cell_type": "markdown",
   "id": "a43a9fa5",
   "metadata": {
    "editable": true
   },
   "source": [
    "yields just a constant. The integral which defines various \n",
    "expectation values involving moments of the hamiltonian becomes then"
   ]
  },
  {
   "cell_type": "markdown",
   "id": "c9b191bb",
   "metadata": {
    "editable": true
   },
   "source": [
    "$$\n",
    "\\langle H^n \\rangle =\n",
    "   \\frac{\\int d\\boldsymbol{R}\\Psi^{\\ast}_T(\\boldsymbol{R})H^n(\\boldsymbol{R})\\Psi_T(\\boldsymbol{R})}\n",
    "        {\\int d\\boldsymbol{R}\\Psi^{\\ast}_T(\\boldsymbol{R})\\Psi_T(\\boldsymbol{R})}=\n",
    "\\mathrm{constant}\\times\\frac{\\int d\\boldsymbol{R}\\Psi^{\\ast}_T(\\boldsymbol{R})\\Psi_T(\\boldsymbol{R})}\n",
    "        {\\int d\\boldsymbol{R}\\Psi^{\\ast}_T(\\boldsymbol{R})\\Psi_T(\\boldsymbol{R})}=\\mathrm{constant}.\n",
    "$$"
   ]
  },
  {
   "cell_type": "markdown",
   "id": "d73c9942",
   "metadata": {
    "editable": true
   },
   "source": [
    "**This gives an important information: the exact wave function leads to zero variance!**\n",
    "As we will see below, many practitioners perform a minimization on both the energy and the variance."
   ]
  },
  {
   "cell_type": "markdown",
   "id": "3ac0f7e8",
   "metadata": {
    "editable": true
   },
   "source": [
    "## Why Markov chains, Brownian motion and the Metropolis algorithm\n",
    "\n",
    "* We want to study a physical system which evolves towards equilibrium, from given  initial conditions.\n",
    "\n",
    "* We start with a PDF $w(x_0,t_0)$  and we want to understand how the system evolves with time.\n",
    "\n",
    "* We want to reach a situation where after a given number of time steps we obtain a steady state. This means that the system reaches its most likely state (equilibrium situation)\n",
    "\n",
    "* Our PDF is normally a multidimensional object whose normalization constant is impossible to find.\n",
    "\n",
    "* Analytical calculations from $w(x,t)$ are not possible.\n",
    "\n",
    "* To sample directly from from $w(x,t)$ is not possible/difficult.\n",
    "\n",
    "* The transition probability $W$ is also not  known.\n",
    "\n",
    "* How can we establish that we have reached a steady state?   Sounds impossible!\n",
    "\n",
    "**Use Markov chain Monte Carlo**"
   ]
  },
  {
   "cell_type": "markdown",
   "id": "b1de49b5",
   "metadata": {
    "editable": true
   },
   "source": [
    "## Brownian motion and Markov processes\n",
    "A Markov process is a random walk with a selected probability for making a\n",
    "move. The new move is independent of the previous history of the system.\n",
    "\n",
    "The Markov process is used repeatedly in Monte Carlo simulations in order to generate\n",
    "new random states.\n",
    "\n",
    "The reason for choosing a Markov process is that when it is run for a\n",
    "long enough time starting with a random state, we will eventually reach the most likely state of the system.\n",
    "\n",
    "In thermodynamics, this means that after a certain number of Markov processes\n",
    "we reach an equilibrium distribution.\n",
    "\n",
    "This mimicks the way a real system reaches\n",
    "its most likely state at a given temperature of the surroundings."
   ]
  },
  {
   "cell_type": "markdown",
   "id": "1fa87a7a",
   "metadata": {
    "editable": true
   },
   "source": [
    "## Brownian motion and Markov processes, Ergodicity and Detailed balance\n",
    "\n",
    "To reach this distribution, the Markov process needs to obey two important conditions, that of\n",
    "**ergodicity** and **detailed balance**. These conditions impose then constraints on our algorithms\n",
    "for accepting or rejecting new random states.\n",
    "\n",
    "The Metropolis algorithm discussed here\n",
    "abides to both these constraints.\n",
    "\n",
    "The Metropolis algorithm is widely used in Monte Carlo\n",
    "simulations and the understanding of it rests within\n",
    "the interpretation of random walks and Markov processes.\n",
    "\n",
    "For a proof the ergodic theorem see <https://www.pnas.org/doi/10.1073/pnas.17.2.656>."
   ]
  },
  {
   "cell_type": "markdown",
   "id": "5cf6cb34",
   "metadata": {
    "editable": true
   },
   "source": [
    "## Brownian motion and Markov processes, jargon\n",
    "\n",
    "In a random walk one defines a mathematical entity called a **walker**, \n",
    "whose  attributes\n",
    "completely define the state of the system in question. \n",
    "\n",
    "The state of the system  can refer to any physical quantities,\n",
    "from the vibrational state of a molecule specified by a set of quantum numbers, \n",
    "to the brands of coffee in your favourite supermarket.\n",
    "\n",
    "The walker moves in an appropriate state space by a combination of \n",
    "deterministic and random displacements from its previous\n",
    "position.\n",
    "\n",
    "This sequence of steps forms a **chain**."
   ]
  },
  {
   "cell_type": "markdown",
   "id": "03f0072d",
   "metadata": {
    "editable": true
   },
   "source": [
    "## Brownian motion and Markov processes, sequence of ingredients\n",
    "\n",
    "* We want to study a physical system which evolves towards equilibrium, from given  initial conditions.\n",
    "\n",
    "* Markov chains are intimately linked with the physical process of diffusion. \n",
    "\n",
    "* From a Markov chain we can then derive the conditions for detailed balance and ergodicity. These are the conditions needed for obtaining a steady state.\n",
    "\n",
    "* The widely used algorithm for doing this is the so-called Metropolis algorithm, in its refined form the Metropolis-Hastings algorithm."
   ]
  },
  {
   "cell_type": "markdown",
   "id": "ac7e67f7",
   "metadata": {
    "editable": true
   },
   "source": [
    "## Applications: almost every field in science\n",
    "\n",
    "* Financial engineering, see for example Patriarca *et al*, Physica **340**, [page 334 (2004)](http://www.sciencedirect.com/science/article/pii/S0378437104004327).\n",
    "\n",
    "* Neuroscience, see for example Lipinski, Physics Medical Biology **35**, [page 441 (1990)](http://iopscience.iop.org/article/10.1088/0031-9155/35/3/012/meta;jsessionid=FA91B191036E1F10948F7C42B6A6D295.c1) or Farnell and Gibson, Journal of Computational Physics **208**, [page 253 (2005)](http://www.sciencedirect.com/science/article/pii/S0021999105001087)\n",
    "\n",
    "* Tons of applications in physics\n",
    "\n",
    "* and chemistry\n",
    "\n",
    "* and biology, medicine\n",
    "\n",
    "* Nobel prize in economy to Black and Scholes"
   ]
  },
  {
   "cell_type": "markdown",
   "id": "83c168e4",
   "metadata": {
    "editable": true
   },
   "source": [
    "$$\n",
    "\\frac{\\partial V}{\\partial t}+\\frac{1}{2}\\sigma^{2}S^{2}\\frac{\\partial^{2} V}{\\partial S^{2}}+rS\\frac{\\partial V}{\\partial S}-rV=0.\n",
    "$$"
   ]
  },
  {
   "cell_type": "markdown",
   "id": "a3a6a543",
   "metadata": {
    "editable": true
   },
   "source": [
    "The Black and Scholes equation is a partial differential equation, which describes the price\n",
    "of the option over time. It is a diffusion equation with a random term.\n",
    "\n",
    "The list of applications is endless"
   ]
  },
  {
   "cell_type": "markdown",
   "id": "387ec7de",
   "metadata": {
    "editable": true
   },
   "source": [
    "## Markov processes\n",
    "A Markov process allows in principle for a microscopic description of Brownian motion.\n",
    "As with the random walk studied in the previous section, we consider a particle \n",
    "which moves along the  $x$-axis in the form of a series of jumps with step length \n",
    "$\\Delta x = l$. Time and space are discretized and the subsequent moves are\n",
    "statistically independent, i.e., the new move depends only on the previous step\n",
    "and not on the results from earlier trials. \n",
    "We start at a position $x=jl=j\\Delta x$ and move to \n",
    "a new position $x =i\\Delta x$ during a step $\\Delta t=\\epsilon$, where \n",
    "$i\\ge  0$ and $j\\ge 0$ are integers. \n",
    "The original probability distribution function (PDF) of the particles is given by  \n",
    "$w_i(t=0)$ where $i$ refers to a specific position on the grid in\n",
    "\n",
    "The function $w_i(t=0)$ is now the discretized version of $w(x,t)$.\n",
    "We can regard the discretized PDF as a vector."
   ]
  },
  {
   "cell_type": "markdown",
   "id": "397a993f",
   "metadata": {
    "editable": true
   },
   "source": [
    "## Markov processes\n",
    "For the Markov process we have a transition probability from a position\n",
    "$x=jl$ to a position $x=il$ given by"
   ]
  },
  {
   "cell_type": "markdown",
   "id": "a063a101",
   "metadata": {
    "editable": true
   },
   "source": [
    "$$\n",
    "W_{ij}(\\epsilon)=W(il-jl,\\epsilon)=\\left\\{\\begin{array}{cc}\\frac{1}{2} & |i-j| = 1\\\\\n",
    "             0 & \\mathrm{else} \\end{array} \\right. ,\n",
    "$$"
   ]
  },
  {
   "cell_type": "markdown",
   "id": "ccf39920",
   "metadata": {
    "editable": true
   },
   "source": [
    "where $W_{ij}$ is normally called \n",
    "the transition probability and we can represent it, see below,\n",
    "as a matrix. \n",
    "**Here we have specialized to a case where the transition probability is known**.\n",
    "\n",
    "Our new PDF $w_i(t=\\epsilon)$ is now related to the PDF at\n",
    "$t=0$ through the relation"
   ]
  },
  {
   "cell_type": "markdown",
   "id": "7974c636",
   "metadata": {
    "editable": true
   },
   "source": [
    "$$\n",
    "w_i(t=\\epsilon) =\\sum_{j} W(j\\rightarrow i)w_j(t=0).\n",
    "$$"
   ]
  },
  {
   "cell_type": "markdown",
   "id": "1fbc83bd",
   "metadata": {
    "editable": true
   },
   "source": [
    "This equation represents the discretized time-development of an original \n",
    "PDF with equal probability of jumping left or right."
   ]
  },
  {
   "cell_type": "markdown",
   "id": "0d9df871",
   "metadata": {
    "editable": true
   },
   "source": [
    "## Markov processes, the probabilities\n",
    "\n",
    "Since both $\\boldsymbol{W}$ and $\\boldsymbol{w}$ represent probabilities, they have to be normalized, i.e., we require\n",
    "that at each time step we have"
   ]
  },
  {
   "cell_type": "markdown",
   "id": "f3590ded",
   "metadata": {
    "editable": true
   },
   "source": [
    "$$\n",
    "\\sum_i w_i(t) = 1,\n",
    "$$"
   ]
  },
  {
   "cell_type": "markdown",
   "id": "cad072db",
   "metadata": {
    "editable": true
   },
   "source": [
    "and"
   ]
  },
  {
   "cell_type": "markdown",
   "id": "b2e9391c",
   "metadata": {
    "editable": true
   },
   "source": [
    "$$\n",
    "\\sum_j W(j\\rightarrow i) = 1,\n",
    "$$"
   ]
  },
  {
   "cell_type": "markdown",
   "id": "ef56b929",
   "metadata": {
    "editable": true
   },
   "source": [
    "which applies for all $j$-values.\n",
    "The further constraints are\n",
    "$0 \\le W_{ij} \\le 1$  and  $0 \\le w_{j} \\le 1$.\n",
    "Note that the probability for remaining at the same place is in general \n",
    "not necessarily equal zero."
   ]
  },
  {
   "cell_type": "markdown",
   "id": "cf2a4f4c",
   "metadata": {
    "editable": true
   },
   "source": [
    "## Markov processes\n",
    "The time development of our initial PDF can now be represented through the action of\n",
    "the transition probability matrix applied $n$ times. At a \n",
    "time  $t_n=n\\epsilon$ our initial distribution has developed into"
   ]
  },
  {
   "cell_type": "markdown",
   "id": "84385d5c",
   "metadata": {
    "editable": true
   },
   "source": [
    "$$\n",
    "w_i(t_n) = \\sum_jW_{ij}(t_n)w_j(0),\n",
    "$$"
   ]
  },
  {
   "cell_type": "markdown",
   "id": "107dc2eb",
   "metadata": {
    "editable": true
   },
   "source": [
    "and defining"
   ]
  },
  {
   "cell_type": "markdown",
   "id": "bb3fce09",
   "metadata": {
    "editable": true
   },
   "source": [
    "$$\n",
    "W(il-jl,n\\epsilon)=(W^n(\\epsilon))_{ij}\n",
    "$$"
   ]
  },
  {
   "cell_type": "markdown",
   "id": "a636e59a",
   "metadata": {
    "editable": true
   },
   "source": [
    "we obtain"
   ]
  },
  {
   "cell_type": "markdown",
   "id": "11dc18c5",
   "metadata": {
    "editable": true
   },
   "source": [
    "$$\n",
    "w_i(n\\epsilon) = \\sum_j(W^n(\\epsilon))_{ij}w_j(0),\n",
    "$$"
   ]
  },
  {
   "cell_type": "markdown",
   "id": "685f9c3b",
   "metadata": {
    "editable": true
   },
   "source": [
    "or in matrix form"
   ]
  },
  {
   "cell_type": "markdown",
   "id": "23ab5f89",
   "metadata": {
    "editable": true
   },
   "source": [
    "<!-- Equation labels as ordinary links -->\n",
    "<div id=\"eq:wfinal\"></div>\n",
    "\n",
    "$$\n",
    "\\begin{equation} \\label{eq:wfinal} \\tag{3}\n",
    "   \\boldsymbol{w}(n\\epsilon) = \\boldsymbol{W}^n(\\epsilon)\\boldsymbol{w}(0).\n",
    "\\end{equation}\n",
    "$$"
   ]
  },
  {
   "cell_type": "markdown",
   "id": "dcd8d33a",
   "metadata": {
    "editable": true
   },
   "source": [
    "## An Illustrative Example\n",
    "\n",
    "The following simple example may help in understanding the meaning of \n",
    "the transition matrix $\\hat{W}$ and the vector $\\hat{w}$.\n",
    "Consider the $4\\times 4$ matrix $\\hat{W}$"
   ]
  },
  {
   "cell_type": "markdown",
   "id": "dfacc591",
   "metadata": {
    "editable": true
   },
   "source": [
    "$$\n",
    "\\boldsymbol{W} = \\left(\\begin{array}{cccc} 1/4 & 1/9 & 3/8 & 1/3 \\\\                   \n",
    "                                       2/4 & 2/9 & 0 & 1/3\\\\                   \n",
    "                                       0   & 1/9 & 3/8 & 0\\\\\n",
    "                                       1/4 & 5/9&  2/8 & 1/3 \\end{array} \\right),\n",
    "$$"
   ]
  },
  {
   "cell_type": "markdown",
   "id": "4884746a",
   "metadata": {
    "editable": true
   },
   "source": [
    "and we choose our initial state as"
   ]
  },
  {
   "cell_type": "markdown",
   "id": "c5a43c4d",
   "metadata": {
    "editable": true
   },
   "source": [
    "$$\n",
    "\\boldsymbol{w}(t=0)=  \\left(\\begin{array}{c} 1\\\\                   \n",
    "                                 0\\\\\n",
    "                                 0 \\\\                   \n",
    "                                 0 \\end{array} \\right).\n",
    "$$"
   ]
  },
  {
   "cell_type": "markdown",
   "id": "72fa5bca",
   "metadata": {
    "editable": true
   },
   "source": [
    "## An Illustrative Example\n",
    "We note that both the vector and the matrix are properly normalized. Summing the vector elements gives one and\n",
    "summing over columns for the matrix results also in one.  Furthermore, the largest eigenvalue is one.\n",
    "We act then on $\\boldsymbol{w}$ with $\\boldsymbol{W}$.\n",
    "The first iteration is"
   ]
  },
  {
   "cell_type": "markdown",
   "id": "0b8e32ec",
   "metadata": {
    "editable": true
   },
   "source": [
    "$$\n",
    "\\boldsymbol{w}(t=\\epsilon) = \\boldsymbol{W}\\boldsymbol{w}(t=0),\n",
    "$$"
   ]
  },
  {
   "cell_type": "markdown",
   "id": "bbf1fc20",
   "metadata": {
    "editable": true
   },
   "source": [
    "resulting in"
   ]
  },
  {
   "cell_type": "markdown",
   "id": "cef98a2b",
   "metadata": {
    "editable": true
   },
   "source": [
    "$$\n",
    "\\boldsymbol{w}(t=\\epsilon)=  \\left(\\begin{array}{c} 1/4\\\\                   \n",
    "                                1/2 \\\\\n",
    "                                0 \\\\                   \n",
    "                                1/4 \\end{array} \\right).\n",
    "$$"
   ]
  },
  {
   "cell_type": "markdown",
   "id": "5280286e",
   "metadata": {
    "editable": true
   },
   "source": [
    "## An Illustrative Example, next step\n",
    "\n",
    "The next iteration results in"
   ]
  },
  {
   "cell_type": "markdown",
   "id": "5fa5a46c",
   "metadata": {
    "editable": true
   },
   "source": [
    "$$\n",
    "\\boldsymbol{w}(t=2\\epsilon) = \\boldsymbol{W}\\boldsymbol{w}(t=\\epsilon),\n",
    "$$"
   ]
  },
  {
   "cell_type": "markdown",
   "id": "f31c436d",
   "metadata": {
    "editable": true
   },
   "source": [
    "resulting in"
   ]
  },
  {
   "cell_type": "markdown",
   "id": "b4fd594f",
   "metadata": {
    "editable": true
   },
   "source": [
    "$$\n",
    "\\boldsymbol{w}(t=2\\epsilon)=  \\left(\\begin{array}{c} 0.201389\\\\\n",
    "   0.319444 \\\\\n",
    "   0.055556 \\\\\n",
    "   0.423611 \\end{array} \\right).\n",
    "$$"
   ]
  },
  {
   "cell_type": "markdown",
   "id": "12f5697f",
   "metadata": {
    "editable": true
   },
   "source": [
    "Note that the vector $\\boldsymbol{w}$ is always normalized to $1$."
   ]
  },
  {
   "cell_type": "markdown",
   "id": "1277ced2",
   "metadata": {
    "editable": true
   },
   "source": [
    "## An Illustrative Example, the steady state\n",
    "We find the steady state of the system by solving the set of equations"
   ]
  },
  {
   "cell_type": "markdown",
   "id": "536382a7",
   "metadata": {
    "editable": true
   },
   "source": [
    "$$\n",
    "w(t=\\infty) = Ww(t=\\infty),\n",
    "$$"
   ]
  },
  {
   "cell_type": "markdown",
   "id": "99cbb624",
   "metadata": {
    "editable": true
   },
   "source": [
    "which is an eigenvalue problem with eigenvalue equal to **one**!\n",
    "This set of equations reads"
   ]
  },
  {
   "cell_type": "markdown",
   "id": "ac6c3808",
   "metadata": {
    "editable": true
   },
   "source": [
    "$$\n",
    "W_{11}w_1(t=\\infty) +W_{12}w_2(t=\\infty) +W_{13}w_3(t=\\infty)+ W_{14}w_4(t=\\infty)=w_1(t=\\infty) \\nonumber\n",
    "$$"
   ]
  },
  {
   "cell_type": "markdown",
   "id": "d521be43",
   "metadata": {
    "editable": true
   },
   "source": [
    "$$\n",
    "W_{21}w_1(t=\\infty) + W_{22}w_2(t=\\infty) + W_{23}w_3(t=\\infty)+ W_{24}w_4(t=\\infty)=w_2(t=\\infty) \\nonumber\n",
    "$$"
   ]
  },
  {
   "cell_type": "markdown",
   "id": "6ada99cc",
   "metadata": {
    "editable": true
   },
   "source": [
    "$$\n",
    "W_{31}w_1(t=\\infty) + W_{32}w_2(t=\\infty) + W_{33}w_3(t=\\infty)+ W_{34}w_4(t=\\infty)=w_3(t=\\infty) \\nonumber\n",
    "$$"
   ]
  },
  {
   "cell_type": "markdown",
   "id": "ae52aba9",
   "metadata": {
    "editable": true
   },
   "source": [
    "$$\n",
    "W_{41}w_1(t=\\infty) + W_{42}w_2(t=\\infty) + W_{43}w_3(t=\\infty)+ W_{44}w_4(t=\\infty)=w_4(t=\\infty) \\nonumber\n",
    "$$"
   ]
  },
  {
   "cell_type": "markdown",
   "id": "49b1c39a",
   "metadata": {
    "editable": true
   },
   "source": [
    "<!-- Equation labels as ordinary links -->\n",
    "<div id=\"_auto1\"></div>\n",
    "\n",
    "$$\n",
    "\\begin{equation} \n",
    "\\label{_auto1} \\tag{4}\n",
    "\\end{equation}\n",
    "$$"
   ]
  },
  {
   "cell_type": "markdown",
   "id": "a09848c3",
   "metadata": {
    "editable": true
   },
   "source": [
    "with the constraint that"
   ]
  },
  {
   "cell_type": "markdown",
   "id": "6748d56f",
   "metadata": {
    "editable": true
   },
   "source": [
    "$$\n",
    "\\sum_i w_i(t=\\infty) = 1,\n",
    "$$"
   ]
  },
  {
   "cell_type": "markdown",
   "id": "5ab25c96",
   "metadata": {
    "editable": true
   },
   "source": [
    "yielding as solution"
   ]
  },
  {
   "cell_type": "markdown",
   "id": "70c39fd3",
   "metadata": {
    "editable": true
   },
   "source": [
    "$$\n",
    "\\boldsymbol{w}(t=\\infty)=  \\left(\\begin{array}{c}0.244318 \\\\                   \n",
    "                                 0.319602 \\\\  0.056818 \\\\  0.379261 \\end{array} \\right).\n",
    "$$"
   ]
  },
  {
   "cell_type": "markdown",
   "id": "cea5d995",
   "metadata": {
    "editable": true
   },
   "source": [
    "## Code for the iterative process"
   ]
  },
  {
   "cell_type": "code",
   "execution_count": 5,
   "id": "a709e644",
   "metadata": {
    "collapsed": false,
    "editable": true
   },
   "outputs": [],
   "source": [
    "from  matplotlib import pyplot as plt\n",
    "import numpy as np\n",
    "\n",
    "# Define dimension of matrix and vectors\n",
    "Dim = 4\n",
    "#Setting up a transition probability matrix\n",
    "TransitionMatrix = np.matrix('0.25 0.1111 0.375 0.3333; 0.5 0.2222 0.0 0.3333; 0.0 0.1111 0.375 0.0; 0.25 0.5556 0.25 0.3334')\n",
    "# Making a copy of the transition matrix\n",
    "W = TransitionMatrix\n",
    "print(W)\n",
    "# our first state\n",
    "wold = np.zeros(Dim)\n",
    "wold[0] = 1.0\n",
    "wnew = np.zeros(Dim)\n",
    "\n",
    "# diagonalize and obtain eigenvalues, not necessarily sorted\n",
    "EigValues, EigVectors = np.linalg.eig(TransitionMatrix)\n",
    "# sort eigenvectors and eigenvalues\n",
    "permute = EigValues.argsort()\n",
    "EigValues = EigValues[permute]\n",
    "EigVectors = EigVectors[:,permute]\n",
    "for i in range(Dim):\n",
    "    print(EigValues[i])\n",
    "\n",
    "\n",
    "count = 0\n",
    "while count < 20:\n",
    "      for i in range(Dim):\n",
    "          wnew[i] = W[i,:] @ wold\n",
    "      count = count + 1\n",
    "      print(count, wnew)\n",
    "      wold = wnew"
   ]
  },
  {
   "cell_type": "markdown",
   "id": "8e410d61",
   "metadata": {
    "editable": true
   },
   "source": [
    "## Small exercise\n",
    "\n",
    "Write a small code which diagonalized the matrix $\\boldsymbol{W}$ and find the eigenpairs anc ompare the coefficients $w_i$.\n",
    "**Note:** You may need to normalize the eigenvectors from the diagonalization procedure. What is the largest eigenvalue?"
   ]
  },
  {
   "cell_type": "markdown",
   "id": "e34157ba",
   "metadata": {
    "editable": true
   },
   "source": [
    "## What do the results mean?\n",
    "\n",
    "We have after $t$-steps"
   ]
  },
  {
   "cell_type": "markdown",
   "id": "cd06ea58",
   "metadata": {
    "editable": true
   },
   "source": [
    "$$\n",
    "\\boldsymbol{w}(t) = \\boldsymbol{W}^t\\boldsymbol{w}(0),\n",
    "$$"
   ]
  },
  {
   "cell_type": "markdown",
   "id": "48d16f38",
   "metadata": {
    "editable": true
   },
   "source": [
    "with $\\boldsymbol{w}(0)$ the distribution at $t=0$ and $\\boldsymbol{W}$ representing the \n",
    "transition probability matrix."
   ]
  },
  {
   "cell_type": "markdown",
   "id": "3949eb4b",
   "metadata": {
    "editable": true
   },
   "source": [
    "## Understanding the basics\n",
    "\n",
    "We can always expand $\\boldsymbol{w}(0)$ in terms of the right eigenvectors \n",
    "$\\boldsymbol{v}$ of $\\boldsymbol{W}$ as"
   ]
  },
  {
   "cell_type": "markdown",
   "id": "42e8033d",
   "metadata": {
    "editable": true
   },
   "source": [
    "$$\n",
    "\\boldsymbol{w}(0)  = \\sum_i\\alpha_i\\boldsymbol{v}_i,\n",
    "$$"
   ]
  },
  {
   "cell_type": "markdown",
   "id": "b4addbd7",
   "metadata": {
    "editable": true
   },
   "source": [
    "resulting in"
   ]
  },
  {
   "cell_type": "markdown",
   "id": "dbd9f354",
   "metadata": {
    "editable": true
   },
   "source": [
    "$$\n",
    "\\boldsymbol{w}(t) = \\boldsymbol{W}^t\\boldsymbol{w}(0)=\\boldsymbol{W}^t\\sum_i\\alpha_i\\boldsymbol{v}_i=\n",
    "\\sum_i\\lambda_i^t\\alpha_i\\boldsymbol{v}_i,\n",
    "$$"
   ]
  },
  {
   "cell_type": "markdown",
   "id": "2f4d8b63",
   "metadata": {
    "editable": true
   },
   "source": [
    "with $\\lambda_i$ the $i^{\\mathrm{th}}$ eigenvalue corresponding to  \n",
    "the eigenvector $\\boldsymbol{v}_i$. \n",
    "\n",
    "If we assume that $\\lambda_0$ is the largest eigenvector we see that in the limit $t\\rightarrow \\infty$,\n",
    "$\\boldsymbol{w}(t)$ becomes proportional to the corresponding eigenvector \n",
    "$\\boldsymbol{v}_0$. This is our steady state or final distribution."
   ]
  },
  {
   "cell_type": "markdown",
   "id": "1300508f",
   "metadata": {
    "editable": true
   },
   "source": [
    "## Basics of the Metropolis Algorithm\n",
    "\n",
    "The Metropolis\n",
    "algorithm is a method to sample a normalized probability\n",
    "distribution by a stochastic process. We define ${\\cal w}_i^{(n)}$ to\n",
    "be the probability for finding the system in the state $i$ at step $n$.\n",
    "\n",
    "In the simulations, our assumption is that we have a model for ${\\cal w}_i^{(n)}$, but we do not know $W$.\n",
    "We will hence model $W$ in terms of a likelihood for making transition $T$ and a likelihood for accepting a transition.\n",
    "That is"
   ]
  },
  {
   "cell_type": "markdown",
   "id": "cdc882c9",
   "metadata": {
    "editable": true
   },
   "source": [
    "$$\n",
    "W_{i\\rightarrow j}=A_{i\\rightarrow j}T_{i\\rightarrow j}\n",
    "$$"
   ]
  },
  {
   "cell_type": "markdown",
   "id": "5b1703ee",
   "metadata": {
    "editable": true
   },
   "source": [
    "## The basic of the Metropolis Algorithm\n",
    "\n",
    "* Sample a possible new state $j$ with some probability $T_{i\\rightarrow j}$.\n",
    "\n",
    "* Accept the new state $j$ with probability $A_{i \\rightarrow j}$ and use it as the next sample.\n",
    "\n",
    "* With probability $1-A_{i\\rightarrow j}$ the move is rejected and the original state $i$ is used again as a sample.\n",
    "\n",
    "We wish to derive the required properties of $T$ and $A$ such that\n",
    "${\\cal w}_i^{(n\\rightarrow \\infty)} \\rightarrow p_i$ so that starting\n",
    "from any distribution, the method converges to the correct distribution.\n",
    "Note that the description here is for a discrete probability distribution.\n",
    "Replacing probabilities $p_i$ with expressions like $p(x_i)dx_i$ will\n",
    "take all of these over to the corresponding continuum expressions."
   ]
  },
  {
   "cell_type": "markdown",
   "id": "dfeeadc8",
   "metadata": {
    "editable": true
   },
   "source": [
    "## More on the Metropolis\n",
    "\n",
    "The dynamical equation for ${\\cal w}_i^{(n)}$ can be written directly from\n",
    "the description above. The probability of being in the state $i$ at step $n$\n",
    "is given by the probability of being in any state $j$ at the previous step,\n",
    "and making an accepted transition to $i$ added to the probability of\n",
    "being in the state $i$, making a transition to any state $j$ and\n",
    "rejecting the move:"
   ]
  },
  {
   "cell_type": "markdown",
   "id": "2d37edde",
   "metadata": {
    "editable": true
   },
   "source": [
    "<!-- Equation labels as ordinary links -->\n",
    "<div id=\"eq:eq1\"></div>\n",
    "\n",
    "$$\n",
    "\\begin{equation}\n",
    "\\label{eq:eq1} \\tag{5}\n",
    "{\\cal w}^{(n)}_i = \\sum_j \\left [\n",
    "{\\cal w}^{(n-1)}_jT_{j\\rightarrow i} A_{j\\rightarrow i} \n",
    "+{\\cal w}^{(n-1)}_iT_{i\\rightarrow j}\\left ( 1- A_{i\\rightarrow j} \\right)\n",
    "\\right ] \\,.\n",
    "\\end{equation}\n",
    "$$"
   ]
  },
  {
   "cell_type": "markdown",
   "id": "611c89cf",
   "metadata": {
    "editable": true
   },
   "source": [
    "## Metropolis algorithm, setting it up\n",
    "Since the probability of making some transition must be 1,\n",
    "$\\sum_j T_{i\\rightarrow j} = 1$, and Eq. ([5](#eq:eq1)) becomes"
   ]
  },
  {
   "cell_type": "markdown",
   "id": "88b2cbc6",
   "metadata": {
    "editable": true
   },
   "source": [
    "<!-- Equation labels as ordinary links -->\n",
    "<div id=\"_auto2\"></div>\n",
    "\n",
    "$$\n",
    "\\begin{equation}\n",
    "{\\cal w}^{(n)}_i = {\\cal w}^{(n-1)}_i +\n",
    " \\sum_j \\left [\n",
    "{\\cal w}^{(n-1)}_jT_{j\\rightarrow i} A_{j\\rightarrow i} \n",
    "-{\\cal w}^{(n-1)}_iT_{i\\rightarrow j}A_{i\\rightarrow j}\n",
    "\\right ] \\,.\n",
    "\\label{_auto2} \\tag{6}\n",
    "\\end{equation}\n",
    "$$"
   ]
  },
  {
   "cell_type": "markdown",
   "id": "b3ba65a7",
   "metadata": {
    "editable": true
   },
   "source": [
    "## Metropolis continues\n",
    "\n",
    "For large $n$ we require that ${\\cal w}^{(n\\rightarrow \\infty)}_i = p_i$,\n",
    "the desired probability distribution. Taking this limit, gives the\n",
    "balance requirement"
   ]
  },
  {
   "cell_type": "markdown",
   "id": "a140e981",
   "metadata": {
    "editable": true
   },
   "source": [
    "<!-- Equation labels as ordinary links -->\n",
    "<div id=\"_auto3\"></div>\n",
    "\n",
    "$$\n",
    "\\begin{equation}\n",
    "\\sum_j \\left [p_jT_{j\\rightarrow i} A_{j\\rightarrow i}-p_iT_{i\\rightarrow j}A_{i\\rightarrow j}\n",
    "\\right ] = 0,\n",
    "\\label{_auto3} \\tag{7}\n",
    "\\end{equation}\n",
    "$$"
   ]
  },
  {
   "cell_type": "markdown",
   "id": "8deb5446",
   "metadata": {
    "editable": true
   },
   "source": [
    "## Detailed Balance\n",
    "\n",
    "The balance requirement is very weak. Typically the much stronger detailed\n",
    "balance requirement is enforced, that is rather than the sum being\n",
    "set to zero, we set each term separately to zero and use this\n",
    "to determine the acceptance probabilities. Rearranging, the result is"
   ]
  },
  {
   "cell_type": "markdown",
   "id": "82f99cd6",
   "metadata": {
    "editable": true
   },
   "source": [
    "<!-- Equation labels as ordinary links -->\n",
    "<div id=\"_auto4\"></div>\n",
    "\n",
    "$$\n",
    "\\begin{equation}\n",
    "\\frac{ A_{j\\rightarrow i}}{A_{i\\rightarrow j}}\n",
    "= \\frac{p_iT_{i\\rightarrow j}}{ p_jT_{j\\rightarrow i}} \\,.\n",
    "\\label{_auto4} \\tag{8}\n",
    "\\end{equation}\n",
    "$$"
   ]
  },
  {
   "cell_type": "markdown",
   "id": "70dc17f5",
   "metadata": {
    "editable": true
   },
   "source": [
    "This is the [detailed balance requirement](https://cims.nyu.edu/~holmes/teaching/asa19/handout_Lecture3_2019.pdf)"
   ]
  },
  {
   "cell_type": "markdown",
   "id": "f00ee62e",
   "metadata": {
    "editable": true
   },
   "source": [
    "## More on Detailed Balance\n",
    "\n",
    "The Metropolis choice is to maximize the $A$ values, that is"
   ]
  },
  {
   "cell_type": "markdown",
   "id": "29c36f68",
   "metadata": {
    "editable": true
   },
   "source": [
    "<!-- Equation labels as ordinary links -->\n",
    "<div id=\"_auto5\"></div>\n",
    "\n",
    "$$\n",
    "\\begin{equation}\n",
    "A_{j \\rightarrow i} = \\min \\left ( 1,\n",
    "\\frac{p_iT_{i\\rightarrow j}}{ p_jT_{j\\rightarrow i}}\\right ).\n",
    "\\label{_auto5} \\tag{9}\n",
    "\\end{equation}\n",
    "$$"
   ]
  },
  {
   "cell_type": "markdown",
   "id": "dd41853e",
   "metadata": {
    "editable": true
   },
   "source": [
    "Other choices are possible, but they all correspond to multilplying\n",
    "$A_{i\\rightarrow j}$ and $A_{j\\rightarrow i}$ by the same constant\n",
    "smaller than unity. The penalty function method uses just such\n",
    "a factor to compensate for $p_i$ that are evaluated stochastically\n",
    "and are therefore noisy.\n",
    "\n",
    "Having chosen the acceptance probabilities, we have guaranteed that\n",
    "if the  ${\\cal w}_i^{(n)}$ has equilibrated, that is if it is equal to $p_i$,\n",
    "it will remain equilibrated. Next we need to find the circumstances for\n",
    "convergence to equilibrium."
   ]
  },
  {
   "cell_type": "markdown",
   "id": "7e99c930",
   "metadata": {
    "editable": true
   },
   "source": [
    "## Dynamical Equation\n",
    "\n",
    "The dynamical equation can be written as"
   ]
  },
  {
   "cell_type": "markdown",
   "id": "1dd9610c",
   "metadata": {
    "editable": true
   },
   "source": [
    "<!-- Equation labels as ordinary links -->\n",
    "<div id=\"_auto6\"></div>\n",
    "\n",
    "$$\n",
    "\\begin{equation}\n",
    "{\\cal w}^{(n)}_i = \\sum_j M_{ij}{\\cal w}^{(n-1)}_j\n",
    "\\label{_auto6} \\tag{10}\n",
    "\\end{equation}\n",
    "$$"
   ]
  },
  {
   "cell_type": "markdown",
   "id": "fc4e3fca",
   "metadata": {
    "editable": true
   },
   "source": [
    "with the matrix $M$ given by"
   ]
  },
  {
   "cell_type": "markdown",
   "id": "c7cbe9ff",
   "metadata": {
    "editable": true
   },
   "source": [
    "<!-- Equation labels as ordinary links -->\n",
    "<div id=\"_auto7\"></div>\n",
    "\n",
    "$$\n",
    "\\begin{equation}\n",
    "M_{ij} = \\delta_{ij}\\left [ 1 -\\sum_k T_{i\\rightarrow k} A_{i \\rightarrow k}\n",
    "\\right ] + T_{j\\rightarrow i} A_{j\\rightarrow i} \\,.\n",
    "\\label{_auto7} \\tag{11}\n",
    "\\end{equation}\n",
    "$$"
   ]
  },
  {
   "cell_type": "markdown",
   "id": "7ad98411",
   "metadata": {
    "editable": true
   },
   "source": [
    "Summing over $i$ shows that $\\sum_i M_{ij} = 1$, and since\n",
    "$\\sum_k T_{i\\rightarrow k} = 1$, and $A_{i \\rightarrow k} \\leq 1$, the\n",
    "elements of the matrix satisfy $M_{ij} \\geq 0$. The matrix $M$ is therefore\n",
    "a stochastic matrix."
   ]
  },
  {
   "cell_type": "markdown",
   "id": "28122d0e",
   "metadata": {
    "editable": true
   },
   "source": [
    "## Interpreting the Metropolis Algorithm\n",
    "\n",
    "The Metropolis method is simply the power method for computing the\n",
    "right eigenvector of $\\boldsymbol{M}$ with the largest magnitude eigenvalue.\n",
    "By construction, the correct probability distribution is a right eigenvector\n",
    "with eigenvalue 1. Therefore, for the Metropolis method to converge\n",
    "to this result, we must show that $\\boldsymbol{M}$ has only one eigenvalue with this\n",
    "magnitude, and all other eigenvalues are smaller.\n",
    "\n",
    "Even a defective matrix has at least one left and right eigenvector for\n",
    "each eigenvalue. An example of a defective matrix is"
   ]
  },
  {
   "cell_type": "markdown",
   "id": "2d742c68",
   "metadata": {
    "editable": true
   },
   "source": [
    "$$\n",
    "\\begin{bmatrix}\n",
    "0 & 1\\\\\n",
    "0 & 0 \\\\\n",
    "\\end{bmatrix},\n",
    "$$"
   ]
  },
  {
   "cell_type": "markdown",
   "id": "b666852a",
   "metadata": {
    "editable": true
   },
   "source": [
    "with two zero eigenvalues, only one right eigenvector"
   ]
  },
  {
   "cell_type": "markdown",
   "id": "dae38c77",
   "metadata": {
    "editable": true
   },
   "source": [
    "$$\n",
    "\\begin{bmatrix}\n",
    "1 \\\\\n",
    "0\\\\\n",
    "\\end{bmatrix}\n",
    "$$"
   ]
  },
  {
   "cell_type": "markdown",
   "id": "c4c4fd72",
   "metadata": {
    "editable": true
   },
   "source": [
    "and only one left eigenvector $(0\\ 1)$."
   ]
  },
  {
   "cell_type": "markdown",
   "id": "873376b4",
   "metadata": {
    "editable": true
   },
   "source": [
    "## Gershgorin bounds and Metropolis\n",
    "\n",
    "The Gershgorin bounds for the eigenvalues can be derived by multiplying on\n",
    "the left with the eigenvector with the maximum and minimum eigenvalues,"
   ]
  },
  {
   "cell_type": "markdown",
   "id": "e80b313a",
   "metadata": {
    "editable": true
   },
   "source": [
    "$$\n",
    "\\sum_i \\psi^{\\rm max}_i M_{ij} = \\lambda_{\\rm max}  \\psi^{\\rm max}_j\n",
    "\\nonumber\n",
    "$$"
   ]
  },
  {
   "cell_type": "markdown",
   "id": "82fecb54",
   "metadata": {
    "editable": true
   },
   "source": [
    "<!-- Equation labels as ordinary links -->\n",
    "<div id=\"_auto8\"></div>\n",
    "\n",
    "$$\n",
    "\\begin{equation} \n",
    "\\sum_i \\psi^{\\rm min}_i M_{ij} = \\lambda_{\\rm min}  \\psi^{\\rm min}_j\n",
    "\\label{_auto8} \\tag{12}\n",
    "\\end{equation}\n",
    "$$"
   ]
  },
  {
   "cell_type": "markdown",
   "id": "9cc6a840",
   "metadata": {
    "editable": true
   },
   "source": [
    "## Normalizing the Eigenvectors\n",
    "\n",
    "Next we choose the normalization of these eigenvectors so that the\n",
    "largest element (or one of the equally largest elements)\n",
    "has value 1. Let's call this element $k$, and\n",
    "we can therefore bound the magnitude of the other elements to be less\n",
    "than or equal to 1.\n",
    "This leads to the inequalities, using the property that $M_{ij}\\geq 0$,"
   ]
  },
  {
   "cell_type": "markdown",
   "id": "8e854fb9",
   "metadata": {
    "editable": true
   },
   "source": [
    "$$\n",
    "\\begin{eqnarray}\n",
    "\\sum_i M_{ik} \\leq \\lambda_{\\rm max}\n",
    "\\nonumber\\\\\n",
    "M_{kk}-\\sum_{i \\neq k} M_{ik} \\geq \\lambda_{\\rm min}\n",
    "\\end{eqnarray}\n",
    "$$"
   ]
  },
  {
   "cell_type": "markdown",
   "id": "15ec33a0",
   "metadata": {
    "editable": true
   },
   "source": [
    "where the equality from the maximum\n",
    "will occur only if the eigenvector takes the value 1 for all values of\n",
    "$i$ where $M_{ik} \\neq 0$, and the equality for the minimum will\n",
    "occur only if the eigenvector takes the value -1 for all values of $i\\neq k$\n",
    "where $M_{ik} \\neq 0$."
   ]
  },
  {
   "cell_type": "markdown",
   "id": "0c53b1f0",
   "metadata": {
    "editable": true
   },
   "source": [
    "## More Metropolis analysis\n",
    "\n",
    "That the maximum eigenvalue is 1 follows immediately from the property\n",
    "that $\\sum_i M_{ik} = 1$. Similarly the minimum eigenvalue can be -1,\n",
    "but only if $M_{kk} = 0$ and the magnitude of all the other elements\n",
    "$\\psi_i^{\\rm min}$ of\n",
    "the eigenvector that multiply nonzero elements $M_{ik}$ are -1.\n",
    "\n",
    "Let's first see what the properties of $M$ must be\n",
    "to eliminate any -1 eigenvalues. \n",
    "To have a -1 eigenvalue, the left eigenvector must contain only $\\pm 1$\n",
    "and $0$ values. Taking in turn each $\\pm 1$ value as the maximum, so that\n",
    "it corresponds to the index $k$, the nonzero $M_{ik}$ values must\n",
    "correspond to $i$ index values of the eigenvector which have opposite\n",
    "sign elements. That is, the $M$ matrix must break up into sets of\n",
    "states that always make transitions from set A to set B ... back to set A.\n",
    "In particular, there can be no rejections of these moves in the cycle\n",
    "since the -1 eigenvalue requires $M_{kk}=0$. To guarantee no eigenvalues\n",
    "with eigenvalue -1, we simply have to make sure that there are no\n",
    "cycles among states. Notice that this is generally trivial since such\n",
    "cycles cannot have any rejections at any stage. An example of such\n",
    "a cycle is sampling a noninteracting Ising spin. If the transition is\n",
    "taken to flip the spin, and the energy difference is zero, the Boltzmann\n",
    "factor will not change and the move will always be accepted. The system\n",
    "will simply flip from up to down to up to down ad infinitum. Including\n",
    "a rejection probability or using a heat bath algorithm\n",
    "immediately fixes the problem."
   ]
  },
  {
   "cell_type": "markdown",
   "id": "95431bea",
   "metadata": {
    "editable": true
   },
   "source": [
    "## Final Considerations I\n",
    "\n",
    "Next we need to make sure that there is only one left eigenvector\n",
    "with eigenvalue 1. To get an eigenvalue 1, the left eigenvector must be \n",
    "constructed from only ones and zeroes. It is straightforward to\n",
    "see that a vector made up of\n",
    "ones and zeroes can only be an eigenvector with eigenvalue 1 if the \n",
    "matrix element $M_{ij} = 0$ for all cases where $\\psi_i \\neq \\psi_j$.\n",
    "That is we can choose an index $i$ and take $\\psi_i = 1$.\n",
    "We require all elements $\\psi_j$ where $M_{ij} \\neq 0$ to also have\n",
    "the value $1$. Continuing we then require all elements $\\psi_\\ell$ $M_{j\\ell}$\n",
    "to have value $1$. Only if the matrix $M$ can be put into block diagonal\n",
    "form can there be more than one choice for the left eigenvector with\n",
    "eigenvalue 1. We therefore require that the transition matrix not\n",
    "be in block diagonal form. This simply means that we must choose\n",
    "the transition probability so that we can get from any allowed state\n",
    "to any other in a series of transitions."
   ]
  },
  {
   "cell_type": "markdown",
   "id": "c2125bce",
   "metadata": {
    "editable": true
   },
   "source": [
    "## Final Considerations II\n",
    "\n",
    "Finally, we note that for a defective matrix, with more eigenvalues\n",
    "than independent eigenvectors for eigenvalue 1,\n",
    "the left and right\n",
    "eigenvectors of eigenvalue 1 would be orthogonal.\n",
    "Here the left eigenvector is all 1\n",
    "except for states that can never be reached, and the right eigenvector\n",
    "is $p_i > 0$ except for states that give zero probability. We already\n",
    "require that we can reach\n",
    "all states that contribute to $p_i$. Therefore the left and right\n",
    "eigenvectors with eigenvalue 1 do not correspond to a defective sector\n",
    "of the matrix and they are unique. The Metropolis algorithm therefore\n",
    "converges exponentially to the desired distribution."
   ]
  },
  {
   "cell_type": "markdown",
   "id": "5ff25b53",
   "metadata": {
    "editable": true
   },
   "source": [
    "## Final Considerations III\n",
    "\n",
    "The requirements for the transition $T_{i \\rightarrow j}$ are\n",
    "* A series of transitions must let us to get from any allowed state to any other by a finite series of transitions.\n",
    "\n",
    "* The transitions cannot be grouped into sets of states, A, B, C ,... such that transitions from $A$ go to $B$, $B$ to $C$ etc and finally back to $A$. With condition (a) satisfied, this condition will always be satisfied if either $T_{i \\rightarrow i} \\neq 0$ or there are some rejected moves."
   ]
  },
  {
   "cell_type": "markdown",
   "id": "b541a5ab",
   "metadata": {
    "editable": true
   },
   "source": [
    "## The system: two particles (fermions normally) in a harmonic oscillator trap in two dimensions\n",
    "\n",
    "The Hamiltonian of the quantum dot is given by"
   ]
  },
  {
   "cell_type": "markdown",
   "id": "9364b8c8",
   "metadata": {
    "editable": true
   },
   "source": [
    "$$\n",
    "\\hat{H} = \\hat{H}_0 + \\hat{V},\n",
    "$$"
   ]
  },
  {
   "cell_type": "markdown",
   "id": "04442e92",
   "metadata": {
    "editable": true
   },
   "source": [
    "where $\\hat{H}_0$ is the many-body HO Hamiltonian, and $\\hat{V}$ is the\n",
    "inter-electron Coulomb interactions. In dimensionless units,"
   ]
  },
  {
   "cell_type": "markdown",
   "id": "033b7e83",
   "metadata": {
    "editable": true
   },
   "source": [
    "$$\n",
    "\\hat{V}= \\sum_{i < j}^N \\frac{1}{r_{ij}},\n",
    "$$"
   ]
  },
  {
   "cell_type": "markdown",
   "id": "5999e031",
   "metadata": {
    "editable": true
   },
   "source": [
    "with $r_{ij}=\\sqrt{\\mathbf{r}_i^2 - \\mathbf{r}_j^2}$."
   ]
  },
  {
   "cell_type": "markdown",
   "id": "cfbfc36a",
   "metadata": {
    "editable": true
   },
   "source": [
    "## Separating the degrees of freedom\n",
    "\n",
    "This leads to the  separable Hamiltonian, with the relative motion part given by ($r_{ij}=r$)"
   ]
  },
  {
   "cell_type": "markdown",
   "id": "5a986625",
   "metadata": {
    "editable": true
   },
   "source": [
    "$$\n",
    "\\hat{H}_r=-\\nabla^2_r + \\frac{1}{4}\\omega^2r^2+ \\frac{1}{r},\n",
    "$$"
   ]
  },
  {
   "cell_type": "markdown",
   "id": "04c7eedb",
   "metadata": {
    "editable": true
   },
   "source": [
    "plus a standard Harmonic Oscillator problem  for the center-of-mass motion.\n",
    "This system has analytical solutions in two and three dimensions ([M. Taut 1993 and 1994](https://journals.aps.org/pra/abstract/10.1103/PhysRevA.48.3561))."
   ]
  },
  {
   "cell_type": "markdown",
   "id": "d589b1f4",
   "metadata": {
    "editable": true
   },
   "source": [
    "## Variational Monte Carlo code (best seen with jupyter-notebook)\n",
    "We want to perform  a Variational Monte Carlo calculation of the ground state of two electrons in a quantum dot well with different oscillator energies, assuming total spin $S=0$.\n",
    "Our trial wave function has the following form"
   ]
  },
  {
   "cell_type": "markdown",
   "id": "6f5f24f0",
   "metadata": {
    "editable": true
   },
   "source": [
    "<!-- Equation labels as ordinary links -->\n",
    "<div id=\"eq:trial\"></div>\n",
    "\n",
    "$$\n",
    "\\begin{equation}\n",
    "   \\psi_{T}(\\boldsymbol{r}_1,\\boldsymbol{r}_2) = \n",
    "   C\\exp{\\left(-\\alpha_1\\omega(r_1^2+r_2^2)/2\\right)}\n",
    "   \\exp{\\left(\\frac{r_{12}}{(1+\\alpha_2 r_{12})}\\right)}, \n",
    "\\label{eq:trial} \\tag{13}\n",
    "\\end{equation}\n",
    "$$"
   ]
  },
  {
   "cell_type": "markdown",
   "id": "eb23ec6d",
   "metadata": {
    "editable": true
   },
   "source": [
    "where the $\\alpha$s represent our variational parameters, two in this case.\n",
    "\n",
    "Why does the trial function look like this? How did we get there?\n",
    "**This will be one of our main motivations** for switching to Machine Learning later.\n",
    "\n",
    "To find an ansatz for the correlated part of the wave function, it is\n",
    "useful to rewrite the two-particle local energy in terms of the\n",
    "relative and center-of-mass motion.  \n",
    "Let us denote the relative distance\n",
    "between the two electrons as $r_{12}$. We omit the center-of-mass\n",
    "motion since we are only interested in the case when $r_{12}\n",
    "\\rightarrow 0$. The contribution from the center-of-mass (CoM)\n",
    "variable $\\boldsymbol{R}_{\\mathrm{CoM}}$ gives only a finite contribution.  We\n",
    "focus only on the terms that are relevant for $r_{12}$ and for three\n",
    "dimensions. \n",
    "\n",
    "The relevant local energy becomes then"
   ]
  },
  {
   "cell_type": "markdown",
   "id": "d96e3996",
   "metadata": {
    "editable": true
   },
   "source": [
    "$$\n",
    "\\lim_{r_{12} \\rightarrow 0}E_L(R)= \\frac{1}{{\\cal R}_T(r_{12})}\\left(2\\frac{d^2}{dr_{ij}^2}+\\frac{4}{r_{ij}}\\frac{d}{dr_{ij}}+\\frac{2}{r_{ij}}-\\frac{l(l+1)}{r_{ij}^2}+2E \\right){\\cal R}_T(r_{12})\n",
    "= 0.\n",
    "$$"
   ]
  },
  {
   "cell_type": "markdown",
   "id": "a416c531",
   "metadata": {
    "editable": true
   },
   "source": [
    "Set $l=0$ and we have the so-called **cusp** condition"
   ]
  },
  {
   "cell_type": "markdown",
   "id": "f80f0984",
   "metadata": {
    "editable": true
   },
   "source": [
    "$$\n",
    "\\frac{d {\\cal R}_T(r_{12})}{dr_{12}} = -\\frac{1}{2(l+1)} {\\cal R}_T(r_{12})\\qquad r_{12}\\to 0\n",
    "$$"
   ]
  },
  {
   "cell_type": "markdown",
   "id": "447e8698",
   "metadata": {
    "editable": true
   },
   "source": [
    "The above  results in"
   ]
  },
  {
   "cell_type": "markdown",
   "id": "1b8f3284",
   "metadata": {
    "editable": true
   },
   "source": [
    "$$\n",
    "{\\cal R}_T  \\propto \\exp{(r_{ij}/2)},\n",
    "$$"
   ]
  },
  {
   "cell_type": "markdown",
   "id": "adef56cc",
   "metadata": {
    "editable": true
   },
   "source": [
    "for anti-parallel spins and"
   ]
  },
  {
   "cell_type": "markdown",
   "id": "395c0ace",
   "metadata": {
    "editable": true
   },
   "source": [
    "$$\n",
    "{\\cal R}_T  \\propto \\exp{(r_{ij}/4)},\n",
    "$$"
   ]
  },
  {
   "cell_type": "markdown",
   "id": "4a7074c7",
   "metadata": {
    "editable": true
   },
   "source": [
    "for anti-parallel spins. \n",
    "This is the so-called cusp condition for the relative motion, resulting in a minimal requirement\n",
    "for the correlation part of the wave fuction.\n",
    "For general systems containing more than say two electrons, we have this\n",
    "condition for each electron pair $ij$."
   ]
  },
  {
   "cell_type": "markdown",
   "id": "0b791c61",
   "metadata": {
    "editable": true
   },
   "source": [
    "## First code attempt for the two-electron case\n",
    "\n",
    "First, as with the hydrogen case, we declare where to store files."
   ]
  },
  {
   "cell_type": "code",
   "execution_count": 6,
   "id": "63fd2c10",
   "metadata": {
    "collapsed": false,
    "editable": true
   },
   "outputs": [],
   "source": [
    "# Common imports\n",
    "import os\n",
    "\n",
    "# Where to save the figures and data files\n",
    "PROJECT_ROOT_DIR = \"Results\"\n",
    "FIGURE_ID = \"Results/FigureFiles\"\n",
    "DATA_ID = \"Results/VMCQdotMetropolis\"\n",
    "\n",
    "if not os.path.exists(PROJECT_ROOT_DIR):\n",
    "    os.mkdir(PROJECT_ROOT_DIR)\n",
    "\n",
    "if not os.path.exists(FIGURE_ID):\n",
    "    os.makedirs(FIGURE_ID)\n",
    "\n",
    "if not os.path.exists(DATA_ID):\n",
    "    os.makedirs(DATA_ID)\n",
    "\n",
    "def image_path(fig_id):\n",
    "    return os.path.join(FIGURE_ID, fig_id)\n",
    "\n",
    "def data_path(dat_id):\n",
    "    return os.path.join(DATA_ID, dat_id)\n",
    "\n",
    "def save_fig(fig_id):\n",
    "    plt.savefig(image_path(fig_id) + \".png\", format='png')\n",
    "\n",
    "outfile = open(data_path(\"VMCQdotMetropolis.dat\"),'w')"
   ]
  },
  {
   "cell_type": "markdown",
   "id": "d9668c86",
   "metadata": {
    "editable": true
   },
   "source": [
    "Thereafter we set up the analytical expressions for the wave functions and the local energy"
   ]
  },
  {
   "cell_type": "code",
   "execution_count": 7,
   "id": "d1d0e251",
   "metadata": {
    "collapsed": false,
    "editable": true
   },
   "outputs": [],
   "source": [
    "# 2-electron VMC for quantum dot system in two dimensions\n",
    "# Brute force Metropolis, no importance sampling and no energy minimization\n",
    "from math import exp, sqrt\n",
    "from random import random, seed\n",
    "import numpy as np\n",
    "import matplotlib.pyplot as plt\n",
    "from mpl_toolkits.mplot3d import Axes3D\n",
    "from matplotlib import cm\n",
    "from matplotlib.ticker import LinearLocator, FormatStrFormatter\n",
    "import sys\n",
    "\n",
    "\n",
    "# Trial wave function for the 2-electron quantum dot in two dims\n",
    "def WaveFunction(r,alpha,beta):\n",
    "    r1 = r[0,0]**2 + r[0,1]**2\n",
    "    r2 = r[1,0]**2 + r[1,1]**2\n",
    "    r12 = sqrt((r[0,0]-r[1,0])**2 + (r[0,1]-r[1,1])**2)\n",
    "    deno = r12/(1+beta*r12)\n",
    "    return exp(-0.5*alpha*(r1+r2)+deno)\n",
    "\n",
    "# Local energy  for the 2-electron quantum dot in two dims, using analytical local energy\n",
    "def LocalEnergy(r,alpha,beta):\n",
    "    \n",
    "    r1 = (r[0,0]**2 + r[0,1]**2)\n",
    "    r2 = (r[1,0]**2 + r[1,1]**2)\n",
    "    r12 = sqrt((r[0,0]-r[1,0])**2 + (r[0,1]-r[1,1])**2)\n",
    "    deno = 1.0/(1+beta*r12)\n",
    "    deno2 = deno*deno\n",
    "    return 0.5*(1-alpha*alpha)*(r1 + r2) +2.0*alpha + 1.0/r12+deno2*(alpha*r12-deno2+2*beta*deno-1.0/r12)"
   ]
  },
  {
   "cell_type": "markdown",
   "id": "773b13f9",
   "metadata": {
    "editable": true
   },
   "source": [
    "The Monte Carlo sampling without importance sampling is set up here."
   ]
  },
  {
   "cell_type": "code",
   "execution_count": 8,
   "id": "cfcefbac",
   "metadata": {
    "collapsed": false,
    "editable": true
   },
   "outputs": [],
   "source": [
    "# The Monte Carlo sampling with the Metropolis algo\n",
    "def MonteCarloSampling():\n",
    "\n",
    "    NumberMCcycles= 10000\n",
    "    StepSize = 1.0\n",
    "    # positions\n",
    "    PositionOld = np.zeros((NumberParticles,Dimension), np.double)\n",
    "    PositionNew = np.zeros((NumberParticles,Dimension), np.double)\n",
    "\n",
    "    # seed for rng generator\n",
    "    seed()\n",
    "    # start variational parameter\n",
    "    alpha = 0.9\n",
    "    for ia in range(MaxVariations):\n",
    "        alpha += .025\n",
    "        AlphaValues[ia] = alpha\n",
    "        beta = 0.2 \n",
    "        for jb in range(MaxVariations):\n",
    "            beta += .01\n",
    "            BetaValues[jb] = beta\n",
    "            energy = energy2 = 0.0\n",
    "            DeltaE = 0.0\n",
    "            #Initial position\n",
    "            for i in range(NumberParticles):\n",
    "                for j in range(Dimension):\n",
    "                    PositionOld[i,j] = StepSize * (random() - .5)\n",
    "            wfold = WaveFunction(PositionOld,alpha,beta)\n",
    "\n",
    "            #Loop over MC MCcycles\n",
    "            for MCcycle in range(NumberMCcycles):\n",
    "                #Trial position moving one particle at the time\n",
    "                for i in range(NumberParticles):\n",
    "                    for j in range(Dimension):\n",
    "                        PositionNew[i,j] = PositionOld[i,j] + StepSize * (random() - .5)\n",
    "                    wfnew = WaveFunction(PositionNew,alpha,beta)\n",
    "\n",
    "                    #Metropolis test to see whether we accept the move\n",
    "                    if random() < wfnew**2 / wfold**2:\n",
    "                       for j in range(Dimension):\n",
    "                           PositionOld[i,j] = PositionNew[i,j]\n",
    "                       wfold = wfnew\n",
    "                DeltaE = LocalEnergy(PositionOld,alpha,beta)\n",
    "                energy += DeltaE\n",
    "                energy2 += DeltaE**2\n",
    "            #We calculate mean, variance and error ...\n",
    "            energy /= NumberMCcycles\n",
    "            energy2 /= NumberMCcycles\n",
    "            variance = energy2 - energy**2\n",
    "            error = sqrt(variance/NumberMCcycles)\n",
    "            Energies[ia,jb] = energy    \n",
    "            Variances[ia,jb] = variance    \n",
    "            outfile.write('%f %f %f %f %f\\n' %(alpha,beta,energy,variance,error))\n",
    "    return Energies, Variances, AlphaValues, BetaValues"
   ]
  },
  {
   "cell_type": "markdown",
   "id": "bf3c997c",
   "metadata": {
    "editable": true
   },
   "source": [
    "And finally comes the main part with the plots as well."
   ]
  },
  {
   "cell_type": "code",
   "execution_count": 9,
   "id": "7a990acd",
   "metadata": {
    "collapsed": false,
    "editable": true
   },
   "outputs": [],
   "source": [
    "#Here starts the main program with variable declarations\n",
    "NumberParticles = 2\n",
    "Dimension = 2\n",
    "MaxVariations = 10\n",
    "Energies = np.zeros((MaxVariations,MaxVariations))\n",
    "Variances = np.zeros((MaxVariations,MaxVariations))\n",
    "AlphaValues = np.zeros(MaxVariations)\n",
    "BetaValues = np.zeros(MaxVariations)\n",
    "(Energies, Variances, AlphaValues, BetaValues) = MonteCarloSampling()\n",
    "outfile.close()\n",
    "\n",
    "# Prepare for plots\n",
    "fig = plt.figure()\n",
    "ax = fig.gca(projection='3d')\n",
    "# Plot the surface.\n",
    "X, Y = np.meshgrid(AlphaValues, BetaValues)\n",
    "surf = ax.plot_surface(X, Y, Energies,cmap=cm.coolwarm,linewidth=0, antialiased=False)\n",
    "# Customize the z axis.\n",
    "zmin = np.matrix(Energies).min()\n",
    "zmax = np.matrix(Energies).max()\n",
    "ax.set_zlim(zmin, zmax)\n",
    "ax.set_xlabel(r'$\\alpha$')\n",
    "ax.set_ylabel(r'$\\beta$')\n",
    "ax.set_zlabel(r'$\\langle E \\rangle$')\n",
    "ax.zaxis.set_major_locator(LinearLocator(10))\n",
    "ax.zaxis.set_major_formatter(FormatStrFormatter('%.02f'))\n",
    "# Add a color bar which maps values to colors.\n",
    "fig.colorbar(surf, shrink=0.5, aspect=5)\n",
    "save_fig(\"QdotMetropolis\")\n",
    "plt.show()"
   ]
  }
 ],
 "metadata": {},
 "nbformat": 4,
 "nbformat_minor": 5
}
