{
 "cells": [
  {
   "cell_type": "markdown",
   "id": "d6eff1d9",
   "metadata": {},
   "source": [
    "<!-- HTML file automatically generated from DocOnce source (https://github.com/doconce/doconce/)\n",
    "doconce format html week2.do.txt --no_mako --no_abort -->\n",
    "<!-- dom:TITLE: Week 4 January 22-26, Building a Variational Monte Carlo program  -->"
   ]
  },
  {
   "cell_type": "markdown",
   "id": "684bbe5c",
   "metadata": {},
   "source": [
    "# Week 4 January 22-26, Building a Variational Monte Carlo program \n",
    "**Morten Hjorth-Jensen  Email morten.hjorth-jensen@fys.uio.no**, Department of Physics and Center fo Computing in Science Education, University of Oslo, Oslo, Norway and Department of Physics and Astronomy and Facility for Rare Ion Beams, Michigan State University, East Lansing, Michigan, USA\n",
    "\n",
    "Date: **January 26**"
   ]
  },
  {
   "cell_type": "markdown",
   "id": "a20009a8",
   "metadata": {},
   "source": [
    "## Overview of week 4, January 22-26\n",
    "**Topics.**\n",
    "\n",
    "* Repetition from last week and links to code templates in python and C++\n",
    "\n",
    "* Essential ingredients: Variational Monte Carlo methods, Metropolis Algorithm, statistics and Markov Chain theory\n",
    "\n",
    "* How to structure the VMC code\n",
    "\n",
    "**Teaching Material, videos and written material.**\n",
    "\n",
    "* These notes\n",
    "\n",
    "* [Video of lecture tba](https://www.youtube.com/)\n",
    "\n",
    "* [Handwritten note tba](https://github.com/CompPhysics/ComputationalPhysics2/blob/gh-pages/doc/HandWrittenNotes/2024/NotesJanuary26.pdf)"
   ]
  },
  {
   "cell_type": "markdown",
   "id": "f9c0217e",
   "metadata": {},
   "source": [
    "## Code templates for first project\n",
    "\n",
    "1. [The C++ template](https://github.com/mortele/variational-monte-carlo-fys4411)\n",
    "\n",
    "2. [The python template, using JAX](https://github.com/Daniel-Haas-B/FYS4411-Template)"
   ]
  },
  {
   "cell_type": "markdown",
   "id": "3e71907a",
   "metadata": {},
   "source": [
    "## Basic Quantum Monte Carlo, repetition from last week\n",
    "\n",
    "We start with the variational principle.\n",
    "Given a hamiltonian $H$ and a trial wave function $\\Psi_T(\\boldsymbol{R};\\boldsymbol{\\alpha})$, the variational principle states that the expectation value of $\\cal{E}[H]$, defined through"
   ]
  },
  {
   "cell_type": "markdown",
   "id": "93e92f48",
   "metadata": {},
   "source": [
    "$$\n",
    "\\cal {E}[H] =\n",
    "   \\frac{\\int d\\boldsymbol{R}\\Psi^{\\ast}_T(\\boldsymbol{R};\\boldsymbol{\\alpha})H(\\boldsymbol{R})\\Psi_T(\\boldsymbol{R};\\boldsymbol{\\alpha})}\n",
    "        {\\int d\\boldsymbol{R}\\Psi^{\\ast}_T(\\boldsymbol{R};\\boldsymbol{\\alpha})\\Psi_T(\\boldsymbol{R};\\boldsymbol{\\alpha})},\n",
    "$$"
   ]
  },
  {
   "cell_type": "markdown",
   "id": "700488c7",
   "metadata": {},
   "source": [
    "is an upper bound to the ground state energy $E_0$ of the hamiltonian $H$, that is"
   ]
  },
  {
   "cell_type": "markdown",
   "id": "40948096",
   "metadata": {},
   "source": [
    "$$\n",
    "E_0 \\le {\\cal E}[H].\n",
    "$$"
   ]
  },
  {
   "cell_type": "markdown",
   "id": "7893f2ac",
   "metadata": {},
   "source": [
    "## Multi-dimensional integrals\n",
    "\n",
    "In general, the integrals involved in the calculation of various\n",
    "expectation values are multi-dimensional ones. Traditional integration\n",
    "methods such as Gauss-Legendre quadrature will not be adequate for say the\n",
    "computation of the energy of a many-body system.\n",
    "\n",
    "Here we have defined the vector $\\boldsymbol{R} = [\\boldsymbol{r}_1,\\boldsymbol{r}_2,\\dots,\\boldsymbol{r}_n]$  as an array that contains the positions of all particles $n$ while the vector $\\boldsymbol{\\alpha} = [\\alpha_1,\\alpha_2,\\dots,\\alpha_m]$ contains the variational parameters of the model, $m$ in total."
   ]
  },
  {
   "cell_type": "markdown",
   "id": "5ce6b038",
   "metadata": {},
   "source": [
    "## Trail functions\n",
    "\n",
    "The trial wave function can be expanded in the eigenstates $\\Psi_i(\\boldsymbol{R})$ \n",
    "of the hamiltonian since they form a complete set, viz.,"
   ]
  },
  {
   "cell_type": "markdown",
   "id": "7504aac9",
   "metadata": {},
   "source": [
    "$$\n",
    "\\Psi_T(\\boldsymbol{R};\\boldsymbol{\\alpha})=\\sum_i a_i\\Psi_i(\\boldsymbol{R}),\n",
    "$$"
   ]
  },
  {
   "cell_type": "markdown",
   "id": "cbf0c076",
   "metadata": {},
   "source": [
    "and assuming that the set of eigenfunctions are normalized, one obtains"
   ]
  },
  {
   "cell_type": "markdown",
   "id": "3e343e67",
   "metadata": {},
   "source": [
    "$$\n",
    "\\frac{\\sum_{nm}a^*_ma_n \\int d\\boldsymbol{R}\\Psi^{\\ast}_m(\\boldsymbol{R})H(\\boldsymbol{R})\\Psi_n(\\boldsymbol{R})}\n",
    "        {\\sum_{nm}a^*_ma_n \\int d\\boldsymbol{R}\\Psi^{\\ast}_m(\\boldsymbol{R})\\Psi_n(\\boldsymbol{R})} =\\frac{\\sum_{n}a^2_n E_n}\n",
    "        {\\sum_{n}a^2_n} \\ge E_0,\n",
    "$$"
   ]
  },
  {
   "cell_type": "markdown",
   "id": "c73d40f1",
   "metadata": {},
   "source": [
    "where we used that $H(\\boldsymbol{R})\\Psi_n(\\boldsymbol{R})=E_n\\Psi_n(\\boldsymbol{R})$."
   ]
  },
  {
   "cell_type": "markdown",
   "id": "c5eb2752",
   "metadata": {},
   "source": [
    "## Variational principle\n",
    "The variational principle yields the lowest energy of states with a  given symmetry.\n",
    "\n",
    "In most cases, a wave function has only small values in large parts of \n",
    "configuration space, and a straightforward procedure which uses\n",
    "homogenously distributed random points in configuration space \n",
    "will most likely lead to poor results. This may suggest that some kind\n",
    "of importance sampling combined with e.g., the Metropolis algorithm \n",
    "may be  a more efficient way of obtaining the ground state energy.\n",
    "The hope is then that those regions of configurations space where\n",
    "the wave function assumes appreciable values are sampled more \n",
    "efficiently."
   ]
  },
  {
   "cell_type": "markdown",
   "id": "4ecad58d",
   "metadata": {},
   "source": [
    "## Tedious parts of VMC calculations\n",
    "\n",
    "The tedious part in a VMC calculation is the search for the variational\n",
    "minimum. A good knowledge of the system is required in order to carry out\n",
    "reasonable VMC calculations. This is not always the case, \n",
    "and often VMC calculations \n",
    "serve rather as the starting\n",
    "point for so-called diffusion Monte Carlo calculations (DMC). Diffusion Monte Carlo  is a way of\n",
    "solving exactly the many-body Schroedinger equation by means of \n",
    "a stochastic procedure. A good guess on the binding energy\n",
    "and its wave function is however necessary. \n",
    "A carefully performed VMC calculation can aid in this context."
   ]
  },
  {
   "cell_type": "markdown",
   "id": "1d25bbf8",
   "metadata": {},
   "source": [
    "## Bird's eye view  on Variational MC\n",
    "\n",
    "The basic procedure of a Variational Monte Carlo calculations consists thus of \n",
    "\n",
    "1. Construct first a trial wave function $\\psi_T(\\boldsymbol{R};\\boldsymbol{\\alpha})$,  for a many-body system consisting of $n$ particles located at positions  $\\boldsymbol{R}=(\\boldsymbol{R}_1,\\dots ,\\boldsymbol{R}_n)$. The trial wave function depends on $\\alpha$ variational parameters $\\boldsymbol{\\alpha}=(\\alpha_1,\\dots ,\\alpha_M)$.\n",
    "\n",
    "2. Then we evaluate the expectation value of the hamiltonian $H$"
   ]
  },
  {
   "cell_type": "markdown",
   "id": "aebf840c",
   "metadata": {},
   "source": [
    "$$\n",
    "\\overline{E}[\\boldsymbol{\\alpha}]=\\frac{\\int d\\boldsymbol{R}\\Psi^{\\ast}_{T}(\\boldsymbol{R},\\boldsymbol{\\alpha})H(\\boldsymbol{R})\\Psi_{T}(\\boldsymbol{R},\\boldsymbol{\\alpha})}\n",
    "        {\\int d\\boldsymbol{R}\\Psi^{\\ast}_{T}(\\boldsymbol{R},\\boldsymbol{\\alpha})\\Psi_{T}(\\boldsymbol{R},\\boldsymbol{\\alpha})}.\n",
    "$$"
   ]
  },
  {
   "cell_type": "markdown",
   "id": "bce8403c",
   "metadata": {},
   "source": [
    "1. Thereafter we vary $\\boldsymbol{\\alpha}$ according to some minimization algorithm and return eventually to the first step if we are not satisfied with the results.\n",
    "\n",
    "Here we have used the notation $\\overline{E}$ to label the expectation value of the energy."
   ]
  },
  {
   "cell_type": "markdown",
   "id": "e8245e89",
   "metadata": {},
   "source": [
    "## Linking with standard statistical expressions for expectation values\n",
    "\n",
    "In order to bring in the Monte Carlo machinery, we define first a likelihood distribution, or probability density distribution (PDF). Using our ansatz for the trial wave function $\\psi_T(\\boldsymbol{R};\\boldsymbol{\\alpha})$ we define a PDF"
   ]
  },
  {
   "cell_type": "markdown",
   "id": "c1a1d604",
   "metadata": {},
   "source": [
    "$$\n",
    "P(\\boldsymbol{R})= \\frac{\\left|\\psi_T(\\boldsymbol{R};\\boldsymbol{\\alpha})\\right|^2}{\\int \\left|\\psi_T(\\boldsymbol{R};\\boldsymbol{\\alpha})\\right|^2d\\boldsymbol{R}}.\n",
    "$$"
   ]
  },
  {
   "cell_type": "markdown",
   "id": "7536d3a7",
   "metadata": {},
   "source": [
    "This is our model for  probability distribution function.\n",
    "The approximation to the expectation value of the Hamiltonian is now"
   ]
  },
  {
   "cell_type": "markdown",
   "id": "9e9b119e",
   "metadata": {},
   "source": [
    "$$\n",
    "\\overline{E}[\\boldsymbol{\\alpha}] = \n",
    "   \\frac{\\int d\\boldsymbol{R}\\Psi^{\\ast}_T(\\boldsymbol{R};\\boldsymbol{\\alpha})H(\\boldsymbol{R})\\Psi_T(\\boldsymbol{R};\\boldsymbol{\\alpha})}\n",
    "        {\\int d\\boldsymbol{R}\\Psi^{\\ast}_T(\\boldsymbol{R};\\boldsymbol{\\alpha})\\Psi_T(\\boldsymbol{R};\\boldsymbol{\\alpha})}.\n",
    "$$"
   ]
  },
  {
   "cell_type": "markdown",
   "id": "79367e25",
   "metadata": {},
   "source": [
    "## The local energy\n",
    "We define a new quantity"
   ]
  },
  {
   "cell_type": "markdown",
   "id": "d7e591d8",
   "metadata": {},
   "source": [
    "<!-- Equation labels as ordinary links -->\n",
    "<div id=\"eq:locale1\"></div>\n",
    "\n",
    "$$\n",
    "E_L(\\boldsymbol{R};\\boldsymbol{\\alpha})=\\frac{1}{\\psi_T(\\boldsymbol{R};\\boldsymbol{\\alpha})}H\\psi_T(\\boldsymbol{R};\\boldsymbol{\\alpha}),\n",
    "\\label{eq:locale1} \\tag{1}\n",
    "$$"
   ]
  },
  {
   "cell_type": "markdown",
   "id": "3471badb",
   "metadata": {},
   "source": [
    "called the local energy, which, together with our trial PDF yields a new expression (and which look simlar to the the expressions for moments in statistics)"
   ]
  },
  {
   "cell_type": "markdown",
   "id": "d674a852",
   "metadata": {},
   "source": [
    "<!-- Equation labels as ordinary links -->\n",
    "<div id=\"eq:vmc1\"></div>\n",
    "\n",
    "$$\n",
    "\\overline{E}[\\boldsymbol{\\alpha}]=\\int P(\\boldsymbol{R})E_L(\\boldsymbol{R};\\boldsymbol{\\alpha}) d\\boldsymbol{R}\\approx \\frac{1}{N}\\sum_{i=1}^NE_L(\\boldsymbol{R_i};\\boldsymbol{\\alpha})\n",
    "\\label{eq:vmc1} \\tag{2}\n",
    "$$"
   ]
  },
  {
   "cell_type": "markdown",
   "id": "83fb79e5",
   "metadata": {},
   "source": [
    "with $N$ being the number of Monte Carlo samples. The expression on the right hand side follows from Bernoulli's law of large numbers, which states that the sample mean, in the limit $N\\rightarrow \\infty$ approaches the true mean"
   ]
  },
  {
   "cell_type": "markdown",
   "id": "d823a042",
   "metadata": {},
   "source": [
    "## The Monte Carlo algorithm\n",
    "\n",
    "The Algorithm for performing a variational Monte Carlo calculations runs as this\n",
    "\n",
    "   * Initialisation: Fix the number of Monte Carlo steps. Choose an initial $\\boldsymbol{R}$ and variational parameters $\\alpha$ and calculate $\\left|\\psi_T^{\\alpha}(\\boldsymbol{R})\\right|^2$. \n",
    "\n",
    "   * Initialise the energy and the variance and start the Monte Carlo calculation.\n",
    "\n",
    "      * Calculate  a trial position  $\\boldsymbol{R}_p=\\boldsymbol{R}+r*step$ where $r$ is a random variable $r \\in [0,1]$.\n",
    "\n",
    "      * Metropolis algorithm to accept or reject this move  $w = P(\\boldsymbol{R}_p)/P(\\boldsymbol{R})$.\n",
    "\n",
    "      * If the step is accepted, then we set $\\boldsymbol{R}=\\boldsymbol{R}_p$. \n",
    "\n",
    "      * Update averages\n",
    "\n",
    "   * Finish and compute final averages.\n",
    "\n",
    "Observe that the jumping in space is governed by the variable *step*. This is often referred to as the  **brute-force** sampling and is normally replaced by what is called **importance sampling**, discussed in more detail next week.."
   ]
  },
  {
   "cell_type": "markdown",
   "id": "d2310e67",
   "metadata": {},
   "source": [
    "## Example from last week, the harmonic oscillator in one dimension (best seen with jupyter-notebook)\n",
    "\n",
    "We present here a well-known example, the harmonic oscillator in\n",
    "one dimension for one particle. This will also serve the aim of\n",
    "introducing our next model, namely that of interacting electrons in a\n",
    "harmonic oscillator trap.\n",
    "\n",
    "Here as well, we do have analytical solutions and the energy of the\n",
    "ground state, with $\\hbar=1$, is $1/2\\omega$, with $\\omega$ being the\n",
    "oscillator frequency. We use the following trial wave function"
   ]
  },
  {
   "cell_type": "markdown",
   "id": "6ce44d38",
   "metadata": {},
   "source": [
    "$$\n",
    "\\psi_T(x;\\alpha) = \\exp{-(\\frac{1}{2}\\alpha^2x^2)},\n",
    "$$"
   ]
  },
  {
   "cell_type": "markdown",
   "id": "d3a90c0d",
   "metadata": {},
   "source": [
    "which results in a local energy"
   ]
  },
  {
   "cell_type": "markdown",
   "id": "7265610e",
   "metadata": {},
   "source": [
    "$$\n",
    "\\frac{1}{2}\\left(\\alpha^2+x^2(1-\\alpha^4)\\right).\n",
    "$$"
   ]
  },
  {
   "cell_type": "markdown",
   "id": "829a7cda",
   "metadata": {},
   "source": [
    "We can compare our numerically calculated energies with the exact energy as function of $\\alpha$"
   ]
  },
  {
   "cell_type": "markdown",
   "id": "193f46cc",
   "metadata": {},
   "source": [
    "$$\n",
    "\\overline{E}[\\alpha] = \\frac{1}{4}\\left(\\alpha^2+\\frac{1}{\\alpha^2}\\right).\n",
    "$$"
   ]
  },
  {
   "cell_type": "markdown",
   "id": "e530a70c",
   "metadata": {},
   "source": [
    "Similarly, with the above ansatz, we can also compute the exact variance which reads"
   ]
  },
  {
   "cell_type": "markdown",
   "id": "063231f1",
   "metadata": {},
   "source": [
    "$$\n",
    "\\sigma^2[\\alpha]=\\frac{1}{4}\\left(1+(1-\\alpha^4)^2\\frac{3}{4\\alpha^4}\\right)-\\overline{E}.\n",
    "$$"
   ]
  },
  {
   "cell_type": "markdown",
   "id": "1fad9d90",
   "metadata": {},
   "source": [
    "Our code for computing the energy of the ground state of the harmonic oscillator follows here. We start by defining directories where we store various outputs."
   ]
  },
  {
   "cell_type": "code",
   "execution_count": 1,
   "id": "584282b5",
   "metadata": {},
   "outputs": [],
   "source": [
    "# Common imports\n",
    "import os\n",
    "\n",
    "# Where to save the figures and data files\n",
    "PROJECT_ROOT_DIR = \"Results\"\n",
    "FIGURE_ID = \"Results/FigureFiles\"\n",
    "DATA_ID = \"Results/VMCHarmonic\"\n",
    "\n",
    "if not os.path.exists(PROJECT_ROOT_DIR):\n",
    "    os.mkdir(PROJECT_ROOT_DIR)\n",
    "\n",
    "if not os.path.exists(FIGURE_ID):\n",
    "    os.makedirs(FIGURE_ID)\n",
    "\n",
    "if not os.path.exists(DATA_ID):\n",
    "    os.makedirs(DATA_ID)\n",
    "\n",
    "def image_path(fig_id):\n",
    "    return os.path.join(FIGURE_ID, fig_id)\n",
    "\n",
    "def data_path(dat_id):\n",
    "    return os.path.join(DATA_ID, dat_id)\n",
    "\n",
    "def save_fig(fig_id):\n",
    "    plt.savefig(image_path(fig_id) + \".png\", format='png')\n",
    "\n",
    "outfile = open(data_path(\"VMCHarmonic.dat\"),'w')"
   ]
  },
  {
   "cell_type": "markdown",
   "id": "3f5bdfc9",
   "metadata": {},
   "source": [
    "We proceed with the implementation of the Monte Carlo algorithm but list first the ansatz for the wave function and the expression for the local energy"
   ]
  },
  {
   "cell_type": "code",
   "execution_count": 2,
   "id": "2f5baced",
   "metadata": {},
   "outputs": [],
   "source": [
    "%matplotlib inline\n",
    "\n",
    "# VMC for the one-dimensional harmonic oscillator\n",
    "# Brute force Metropolis, no importance sampling and no energy minimization\n",
    "from math import exp, sqrt\n",
    "from random import random, seed\n",
    "import numpy as np\n",
    "import matplotlib.pyplot as plt\n",
    "from decimal import *\n",
    "# Trial wave function for the Harmonic oscillator in one dimension\n",
    "def WaveFunction(r,alpha):\n",
    "    return exp(-0.5*alpha*alpha*r*r)\n",
    "\n",
    "# Local energy  for the Harmonic oscillator in one dimension\n",
    "def LocalEnergy(r,alpha):\n",
    "    return 0.5*r*r*(1-alpha**4) + 0.5*alpha*alpha"
   ]
  },
  {
   "cell_type": "markdown",
   "id": "34fc14b6",
   "metadata": {},
   "source": [
    "Note that in the Metropolis algorithm there is no need to compute the\n",
    "trial wave function, mainly since we are just taking the ratio of two\n",
    "exponentials. It is then from a computational point view, more\n",
    "convenient to compute the argument from the ratio and then calculate\n",
    "the exponential. Here we have refrained from this purely of\n",
    "pedagogical reasons."
   ]
  },
  {
   "cell_type": "code",
   "execution_count": 3,
   "id": "a34f2811",
   "metadata": {},
   "outputs": [],
   "source": [
    "# The Monte Carlo sampling with the Metropolis algo\n",
    "def MonteCarloSampling():\n",
    "\n",
    "    NumberMCcycles= 100000\n",
    "    StepSize = 1.0\n",
    "    # positions\n",
    "    PositionOld = 0.0\n",
    "    PositionNew = 0.0\n",
    "\n",
    "    # seed for rng generator\n",
    "    seed()\n",
    "    # start variational parameter\n",
    "    alpha = 0.4\n",
    "    for ia in range(MaxVariations):\n",
    "        alpha += .05\n",
    "        AlphaValues[ia] = alpha\n",
    "        energy = energy2 = 0.0\n",
    "        #Initial position\n",
    "        PositionOld = StepSize * (random() - .5)\n",
    "        wfold = WaveFunction(PositionOld,alpha)\n",
    "        #Loop over MC MCcycles\n",
    "        for MCcycle in range(NumberMCcycles):\n",
    "            #Trial position \n",
    "            PositionNew = PositionOld + StepSize*(random() - .5)\n",
    "            wfnew = WaveFunction(PositionNew,alpha)\n",
    "            #Metropolis test to see whether we accept the move\n",
    "            if random() <= wfnew**2 / wfold**2:\n",
    "                PositionOld = PositionNew\n",
    "                wfold = wfnew\n",
    "            DeltaE = LocalEnergy(PositionOld,alpha)\n",
    "            energy += DeltaE\n",
    "            energy2 += DeltaE**2\n",
    "        #We calculate mean, variance and error\n",
    "        energy /= NumberMCcycles\n",
    "        energy2 /= NumberMCcycles\n",
    "        variance = energy2 - energy**2\n",
    "        error = sqrt(variance/NumberMCcycles)\n",
    "        Energies[ia] = energy    \n",
    "        Variances[ia] = variance    \n",
    "        outfile.write('%f %f %f %f \\n' %(alpha,energy,variance,error))\n",
    "    return Energies, AlphaValues, Variances"
   ]
  },
  {
   "cell_type": "markdown",
   "id": "42215fbe",
   "metadata": {},
   "source": [
    "Finally, the results are presented here with the exact energies and variances as well."
   ]
  },
  {
   "cell_type": "code",
   "execution_count": 4,
   "id": "459af09b",
   "metadata": {},
   "outputs": [
    {
     "data": {
      "image/png": "[encoded data removed]",
      "text/plain": [
       "<Figure size 640x480 with 2 Axes>"
      ]
     },
     "metadata": {},
     "output_type": "display_data"
    },
    {
     "name": "stdout",
     "output_type": "stream",
     "text": [
      "    Alpha    Energy  Exact Energy  Variance  Exact Variance\n",
      "0    0.45  1.180614      1.285193  2.365134        2.803442\n",
      "1    0.50  1.102708      1.062500  1.897733        1.757812\n",
      "2    0.55  0.894354      0.902071  1.098958        1.127465\n",
      "3    0.60  0.803621      0.784444  0.810480        0.730706\n",
      "4    0.65  0.704845      0.697341  0.474894        0.472569\n",
      "5    0.70  0.641836      0.632704  0.314429        0.300629\n",
      "6    0.75  0.588947      0.585069  0.195473        0.184613\n",
      "7    0.80  0.554685      0.550625  0.108195        0.106376\n",
      "8    0.85  0.529034      0.526646  0.056878        0.054712\n",
      "9    0.90  0.509911      0.511142  0.022084        0.022532\n",
      "10   0.95  0.503576      0.502633  0.005542        0.005280\n",
      "11   1.00  0.500000      0.500000  0.000000        0.000000\n",
      "12   1.05  0.502961      0.502382  0.004645        0.004776\n",
      "13   1.10  0.510123      0.509112  0.017847        0.018389\n",
      "14   1.15  0.519669      0.519661  0.040372        0.040095\n",
      "15   1.20  0.536026      0.533611  0.070729        0.069482\n",
      "16   1.25  0.548244      0.550625  0.107160        0.106376\n",
      "17   1.30  0.572471      0.570429  0.158318        0.150778\n",
      "18   1.35  0.601695      0.592799  0.195857        0.202822\n",
      "19   1.40  0.622979      0.617551  0.258030        0.262739\n"
     ]
    }
   ],
   "source": [
    "#Here starts the main program with variable declarations\n",
    "MaxVariations = 20\n",
    "Energies = np.zeros((MaxVariations))\n",
    "ExactEnergies = np.zeros((MaxVariations))\n",
    "ExactVariance = np.zeros((MaxVariations))\n",
    "Variances = np.zeros((MaxVariations))\n",
    "AlphaValues = np.zeros(MaxVariations)\n",
    "(Energies, AlphaValues, Variances) = MonteCarloSampling()\n",
    "outfile.close()\n",
    "ExactEnergies = 0.25*(AlphaValues*AlphaValues+1.0/(AlphaValues*AlphaValues))\n",
    "ExactVariance = 0.25*(1.0+((1.0-AlphaValues**4)**2)*3.0/(4*(AlphaValues**4)))-ExactEnergies*ExactEnergies\n",
    "\n",
    "#simple subplot\n",
    "plt.subplot(2, 1, 1)\n",
    "plt.plot(AlphaValues, Energies, 'o-',AlphaValues, ExactEnergies,'r-')\n",
    "plt.title('Energy and variance')\n",
    "plt.ylabel('Dimensionless energy')\n",
    "plt.subplot(2, 1, 2)\n",
    "plt.plot(AlphaValues, Variances, '.-',AlphaValues, ExactVariance,'r-')\n",
    "plt.xlabel(r'$\\alpha$', fontsize=15)\n",
    "plt.ylabel('Variance')\n",
    "save_fig(\"VMCHarmonic\")\n",
    "plt.show()\n",
    "#nice printout with Pandas\n",
    "import pandas as pd\n",
    "from pandas import DataFrame\n",
    "data ={'Alpha':AlphaValues, 'Energy':Energies,'Exact Energy':ExactEnergies,'Variance':Variances,'Exact Variance':ExactVariance,}\n",
    "frame = pd.DataFrame(data)\n",
    "print(frame)"
   ]
  },
  {
   "cell_type": "markdown",
   "id": "a0b0cdd7",
   "metadata": {},
   "source": [
    "For $\\alpha=1$ we have the exact eigenpairs, as can be deduced from the\n",
    "table here. With $\\omega=1$, the exact energy is $1/2$ a.u. with zero\n",
    "variance, as it should. We see also that our computed variance follows rather well the exact variance.\n",
    "Increasing the number of Monte Carlo cycles will improve our statistics (try to increase the number of Monte Carlo cycles).\n",
    "\n",
    "The fact that the variance is exactly equal to zero when $\\alpha=1$ is that \n",
    "we then have the exact wave function, and the action of the hamiltionan\n",
    "on the wave function"
   ]
  },
  {
   "cell_type": "markdown",
   "id": "1faa89c7",
   "metadata": {},
   "source": [
    "$$\n",
    "H\\psi = \\mathrm{constant}\\times \\psi,\n",
    "$$"
   ]
  },
  {
   "cell_type": "markdown",
   "id": "fe0ce30f",
   "metadata": {},
   "source": [
    "yields just a constant. The integral which defines various \n",
    "expectation values involving moments of the hamiltonian becomes then"
   ]
  },
  {
   "cell_type": "markdown",
   "id": "51a2b471",
   "metadata": {},
   "source": [
    "$$\n",
    "\\langle H^n \\rangle =\n",
    "   \\frac{\\int d\\boldsymbol{R}\\Psi^{\\ast}_T(\\boldsymbol{R})H^n(\\boldsymbol{R})\\Psi_T(\\boldsymbol{R})}\n",
    "        {\\int d\\boldsymbol{R}\\Psi^{\\ast}_T(\\boldsymbol{R})\\Psi_T(\\boldsymbol{R})}=\n",
    "\\mathrm{constant}\\times\\frac{\\int d\\boldsymbol{R}\\Psi^{\\ast}_T(\\boldsymbol{R})\\Psi_T(\\boldsymbol{R})}\n",
    "        {\\int d\\boldsymbol{R}\\Psi^{\\ast}_T(\\boldsymbol{R})\\Psi_T(\\boldsymbol{R})}=\\mathrm{constant}.\n",
    "$$"
   ]
  },
  {
   "cell_type": "markdown",
   "id": "0df2875c",
   "metadata": {},
   "source": [
    "**This gives an important information: the exact wave function leads to zero variance!**\n",
    "As we will see below, many practitioners perform a minimization on both the energy and the variance."
   ]
  },
  {
   "cell_type": "markdown",
   "id": "9915b8ae",
   "metadata": {},
   "source": [
    "## Why Markov chains, Brownian motion and the Metropolis algorithm\n",
    "\n",
    "* We want to study a physical system which evolves towards equilibrium, from given  initial conditions.\n",
    "\n",
    "* We start with a PDF $w(x_0,t_0)$  and we want to understand how the system evolves with time.\n",
    "\n",
    "* We want to reach a situation where after a given number of time steps we obtain a steady state. This means that the system reaches its most likely state (equilibrium situation)\n",
    "\n",
    "* Our PDF is normally a multidimensional object whose normalization constant is impossible to find.\n",
    "\n",
    "* Analytical calculations from $w(x,t)$ are not possible.\n",
    "\n",
    "* To sample directly from from $w(x,t)$ is not possible/difficult.\n",
    "\n",
    "* The transition probability $W$ is also not  known.\n",
    "\n",
    "* How can we establish that we have reached a steady state?   Sounds impossible!\n",
    "\n",
    "**Use Markov chain Monte Carlo**"
   ]
  },
  {
   "cell_type": "markdown",
   "id": "0752750d",
   "metadata": {},
   "source": [
    "## Brownian motion and Markov processes\n",
    "A Markov process is a random walk with a selected probability for making a\n",
    "move. The new move is independent of the previous history of the system.\n",
    "\n",
    "The Markov process is used repeatedly in Monte Carlo simulations in order to generate\n",
    "new random states.\n",
    "\n",
    "The reason for choosing a Markov process is that when it is run for a\n",
    "long enough time starting with a random state, we will eventually reach the most likely state of the system.\n",
    "\n",
    "In thermodynamics, this means that after a certain number of Markov processes\n",
    "we reach an equilibrium distribution.\n",
    "\n",
    "This mimicks the way a real system reaches\n",
    "its most likely state at a given temperature of the surroundings."
   ]
  },
  {
   "cell_type": "markdown",
   "id": "8ac7e624",
   "metadata": {},
   "source": [
    "## Brownian motion and Markov processes, Ergodicity and Detailed balance\n",
    "\n",
    "To reach this distribution, the Markov process needs to obey two important conditions, that of\n",
    "**ergodicity** and **detailed balance**. These conditions impose then constraints on our algorithms\n",
    "for accepting or rejecting new random states.\n",
    "\n",
    "The Metropolis algorithm discussed here\n",
    "abides to both these constraints.\n",
    "\n",
    "The Metropolis algorithm is widely used in Monte Carlo\n",
    "simulations and the understanding of it rests within\n",
    "the interpretation of random walks and Markov processes.\n",
    "\n",
    "For a proof the ergodic theorem see <https://www.pnas.org/doi/10.1073/pnas.17.2.656>."
   ]
  },
  {
   "cell_type": "markdown",
   "id": "19638b7c",
   "metadata": {},
   "source": [
    "## Brownian motion and Markov processes, jargon\n",
    "\n",
    "In a random walk one defines a mathematical entity called a **walker**, \n",
    "whose  attributes\n",
    "completely define the state of the system in question. \n",
    "\n",
    "The state of the system  can refer to any physical quantities,\n",
    "from the vibrational state of a molecule specified by a set of quantum numbers, \n",
    "to the brands of coffee in your favourite supermarket.\n",
    "\n",
    "The walker moves in an appropriate state space by a combination of \n",
    "deterministic and random displacements from its previous\n",
    "position.\n",
    "\n",
    "This sequence of steps forms a **chain**."
   ]
  },
  {
   "cell_type": "markdown",
   "id": "d2773988",
   "metadata": {},
   "source": [
    "## Brownian motion and Markov processes, sequence of ingredients\n",
    "\n",
    "* We want to study a physical system which evolves towards equilibrium, from given  initial conditions.\n",
    "\n",
    "* Markov chains are intimately linked with the physical process of diffusion. \n",
    "\n",
    "* From a Markov chain we can then derive the conditions for detailed balance and ergodicity. These are the conditions needed for obtaining a steady state.\n",
    "\n",
    "* The widely used algorithm for doing this is the so-called Metropolis algorithm, in its refined form the Metropolis-Hastings algorithm."
   ]
  },
  {
   "cell_type": "markdown",
   "id": "534f3ac3",
   "metadata": {},
   "source": [
    "## Applications: almost every field in science\n",
    "\n",
    "* Financial engineering, see for example Patriarca *et al*, Physica **340**, [page 334 (2004)](http://www.sciencedirect.com/science/article/pii/S0378437104004327).\n",
    "\n",
    "* Neuroscience, see for example Lipinski, Physics Medical Biology **35**, [page 441 (1990)](http://iopscience.iop.org/article/10.1088/0031-9155/35/3/012/meta;jsessionid=FA91B191036E1F10948F7C42B6A6D295.c1) or Farnell and Gibson, Journal of Computational Physics **208**, [page 253 (2005)](http://www.sciencedirect.com/science/article/pii/S0021999105001087)\n",
    "\n",
    "* Tons of applications in physics\n",
    "\n",
    "* and chemistry\n",
    "\n",
    "* and biology, medicine\n",
    "\n",
    "* Nobel prize in economy to Black and Scholes"
   ]
  },
  {
   "cell_type": "markdown",
   "id": "afeb55e0",
   "metadata": {},
   "source": [
    "$$\n",
    "\\frac{\\partial V}{\\partial t}+\\frac{1}{2}\\sigma^{2}S^{2}\\frac{\\partial^{2} V}{\\partial S^{2}}+rS\\frac{\\partial V}{\\partial S}-rV=0.\n",
    "$$"
   ]
  },
  {
   "cell_type": "markdown",
   "id": "60aed4de",
   "metadata": {},
   "source": [
    "The Black and Scholes equation is a partial differential equation, which describes the price\n",
    "of the option over time. It is a diffusion equation with a random term.\n",
    "\n",
    "The list of applications is endless"
   ]
  },
  {
   "cell_type": "markdown",
   "id": "3c2e21c5",
   "metadata": {},
   "source": [
    "## Markov processes\n",
    "A Markov process allows in principle for a microscopic description of Brownian motion.\n",
    "As with the random walk studied in the previous section, we consider a particle \n",
    "which moves along the  $x$-axis in the form of a series of jumps with step length \n",
    "$\\Delta x = l$. Time and space are discretized and the subsequent moves are\n",
    "statistically independent, i.e., the new move depends only on the previous step\n",
    "and not on the results from earlier trials. \n",
    "We start at a position $x=jl=j\\Delta x$ and move to \n",
    "a new position $x =i\\Delta x$ during a step $\\Delta t=\\epsilon$, where \n",
    "$i\\ge  0$ and $j\\ge 0$ are integers. \n",
    "The original probability distribution function (PDF) of the particles is given by  \n",
    "$w_i(t=0)$ where $i$ refers to a specific position on the grid in\n",
    "\n",
    "The function $w_i(t=0)$ is now the discretized version of $w(x,t)$.\n",
    "We can regard the discretized PDF as a vector."
   ]
  },
  {
   "cell_type": "markdown",
   "id": "d27e5372",
   "metadata": {},
   "source": [
    "## Markov processes\n",
    "For the Markov process we have a transition probability from a position\n",
    "$x=jl$ to a position $x=il$ given by"
   ]
  },
  {
   "cell_type": "markdown",
   "id": "56a62906",
   "metadata": {},
   "source": [
    "$$\n",
    "W_{ij}(\\epsilon)=W(il-jl,\\epsilon)=\\left\\{\\begin{array}{cc}\\frac{1}{2} & |i-j| = 1\\\\\n",
    "             0 & \\mathrm{else} \\end{array} \\right. ,\n",
    "$$"
   ]
  },
  {
   "cell_type": "markdown",
   "id": "fcfc2556",
   "metadata": {},
   "source": [
    "where $W_{ij}$ is normally called \n",
    "the transition probability and we can represent it, see below,\n",
    "as a matrix. \n",
    "**Here we have specialized to a case where the transition probability is known**.\n",
    "\n",
    "Our new PDF $w_i(t=\\epsilon)$ is now related to the PDF at\n",
    "$t=0$ through the relation"
   ]
  },
  {
   "cell_type": "markdown",
   "id": "d41153cb",
   "metadata": {},
   "source": [
    "$$\n",
    "w_i(t=\\epsilon) =\\sum_{j} W(j\\rightarrow i)w_j(t=0).\n",
    "$$"
   ]
  },
  {
   "cell_type": "markdown",
   "id": "67999f19",
   "metadata": {},
   "source": [
    "This equation represents the discretized time-development of an original \n",
    "PDF with equal probability of jumping left or right."
   ]
  },
  {
   "cell_type": "markdown",
   "id": "0303f5d2",
   "metadata": {},
   "source": [
    "## Markov processes, the probabilities\n",
    "\n",
    "Since both $\\boldsymbol{W}$ and $\\boldsymbol{w}$ represent probabilities, they have to be normalized, i.e., we require\n",
    "that at each time step we have"
   ]
  },
  {
   "cell_type": "markdown",
   "id": "20993a49",
   "metadata": {},
   "source": [
    "$$\n",
    "\\sum_i w_i(t) = 1,\n",
    "$$"
   ]
  },
  {
   "cell_type": "markdown",
   "id": "4224b1dc",
   "metadata": {},
   "source": [
    "and"
   ]
  },
  {
   "cell_type": "markdown",
   "id": "316dc936",
   "metadata": {},
   "source": [
    "$$\n",
    "\\sum_j W(j\\rightarrow i) = 1,\n",
    "$$"
   ]
  },
  {
   "cell_type": "markdown",
   "id": "a16c3643",
   "metadata": {},
   "source": [
    "which applies for all $j$-values.\n",
    "The further constraints are\n",
    "$0 \\le W_{ij} \\le 1$  and  $0 \\le w_{j} \\le 1$.\n",
    "Note that the probability for remaining at the same place is in general \n",
    "not necessarily equal zero."
   ]
  },
  {
   "cell_type": "markdown",
   "id": "73e96509",
   "metadata": {},
   "source": [
    "## Markov processes\n",
    "The time development of our initial PDF can now be represented through the action of\n",
    "the transition probability matrix applied $n$ times. At a \n",
    "time  $t_n=n\\epsilon$ our initial distribution has developed into"
   ]
  },
  {
   "cell_type": "markdown",
   "id": "ec6b839b",
   "metadata": {},
   "source": [
    "$$\n",
    "w_i(t_n) = \\sum_jW_{ij}(t_n)w_j(0),\n",
    "$$"
   ]
  },
  {
   "cell_type": "markdown",
   "id": "8b156588",
   "metadata": {},
   "source": [
    "and defining"
   ]
  },
  {
   "cell_type": "markdown",
   "id": "13109786",
   "metadata": {},
   "source": [
    "$$\n",
    "W(il-jl,n\\epsilon)=(W^n(\\epsilon))_{ij}\n",
    "$$"
   ]
  },
  {
   "cell_type": "markdown",
   "id": "3602b37c",
   "metadata": {},
   "source": [
    "we obtain"
   ]
  },
  {
   "cell_type": "markdown",
   "id": "4b87a404",
   "metadata": {},
   "source": [
    "$$\n",
    "w_i(n\\epsilon) = \\sum_j(W^n(\\epsilon))_{ij}w_j(0),\n",
    "$$"
   ]
  },
  {
   "cell_type": "markdown",
   "id": "96dff053",
   "metadata": {},
   "source": [
    "or in matrix form"
   ]
  },
  {
   "cell_type": "markdown",
   "id": "fae2135f",
   "metadata": {},
   "source": [
    "<!-- Equation labels as ordinary links -->\n",
    "<div id=\"eq:wfinal\"></div>\n",
    "\n",
    "$$\n",
    "\\begin{equation} \\label{eq:wfinal} \\tag{3}\n",
    "   \\boldsymbol{w}(n\\epsilon) = \\boldsymbol{W}^n(\\epsilon)\\boldsymbol{w}(0).\n",
    "\\end{equation}\n",
    "$$"
   ]
  },
  {
   "cell_type": "markdown",
   "id": "c91eb5ac",
   "metadata": {},
   "source": [
    "## An Illustrative Example\n",
    "\n",
    "The following simple example may help in understanding the meaning of \n",
    "the transition matrix $\\hat{W}$ and the vector $\\hat{w}$.\n",
    "Consider the $4\\times 4$ matrix $\\hat{W}$"
   ]
  },
  {
   "cell_type": "markdown",
   "id": "fe8139d2",
   "metadata": {},
   "source": [
    "$$\n",
    "\\boldsymbol{W} = \\left(\\begin{array}{cccc} 1/4 & 1/9 & 3/8 & 1/3 \\\\                   \n",
    "                                       2/4 & 2/9 & 0 & 1/3\\\\                   \n",
    "                                       0   & 1/9 & 3/8 & 0\\\\\n",
    "                                       1/4 & 5/9&  2/8 & 1/3 \\end{array} \\right),\n",
    "$$"
   ]
  },
  {
   "cell_type": "markdown",
   "id": "899d577a",
   "metadata": {},
   "source": [
    "and we choose our initial state as"
   ]
  },
  {
   "cell_type": "markdown",
   "id": "b9a0b9ef",
   "metadata": {},
   "source": [
    "$$\n",
    "\\boldsymbol{w}(t=0)=  \\left(\\begin{array}{c} 1\\\\                   \n",
    "                                 0\\\\\n",
    "                                 0 \\\\                   \n",
    "                                 0 \\end{array} \\right).\n",
    "$$"
   ]
  },
  {
   "cell_type": "markdown",
   "id": "90e01a86",
   "metadata": {},
   "source": [
    "## An Illustrative Example\n",
    "We note that both the vector and the matrix are properly normalized. Summing the vector elements gives one and\n",
    "summing over columns for the matrix results also in one.  Furthermore, the largest eigenvalue is one.\n",
    "We act then on $\\boldsymbol{w}$ with $\\boldsymbol{W}$.\n",
    "The first iteration is"
   ]
  },
  {
   "cell_type": "markdown",
   "id": "25d945a6",
   "metadata": {},
   "source": [
    "$$\n",
    "\\boldsymbol{w}(t=\\epsilon) = \\boldsymbol{W}\\boldsymbol{w}(t=0),\n",
    "$$"
   ]
  },
  {
   "cell_type": "markdown",
   "id": "550e5d57",
   "metadata": {},
   "source": [
    "resulting in"
   ]
  },
  {
   "cell_type": "markdown",
   "id": "2e51ec6d",
   "metadata": {},
   "source": [
    "$$\n",
    "\\boldsymbol{w}(t=\\epsilon)=  \\left(\\begin{array}{c} 1/4\\\\                   \n",
    "                                1/2 \\\\\n",
    "                                0 \\\\                   \n",
    "                                1/4 \\end{array} \\right).\n",
    "$$"
   ]
  },
  {
   "cell_type": "markdown",
   "id": "720eeab1",
   "metadata": {},
   "source": [
    "## An Illustrative Example, next step\n",
    "\n",
    "The next iteration results in"
   ]
  },
  {
   "cell_type": "markdown",
   "id": "508daab5",
   "metadata": {},
   "source": [
    "$$\n",
    "\\boldsymbol{w}(t=2\\epsilon) = \\boldsymbol{W}\\boldsymbol{w}(t=\\epsilon),\n",
    "$$"
   ]
  },
  {
   "cell_type": "markdown",
   "id": "482347f0",
   "metadata": {},
   "source": [
    "resulting in"
   ]
  },
  {
   "cell_type": "markdown",
   "id": "fab9aaca",
   "metadata": {},
   "source": [
    "$$\n",
    "\\boldsymbol{w}(t=2\\epsilon)=  \\left(\\begin{array}{c} 0.201389\\\\\n",
    "   0.319444 \\\\\n",
    "   0.055556 \\\\\n",
    "   0.423611 \\end{array} \\right).\n",
    "$$"
   ]
  },
  {
   "cell_type": "markdown",
   "id": "0a1ec98f",
   "metadata": {},
   "source": [
    "Note that the vector $\\boldsymbol{w}$ is always normalized to $1$."
   ]
  },
  {
   "cell_type": "markdown",
   "id": "094ab7c3",
   "metadata": {},
   "source": [
    "## An Illustrative Example, the steady state\n",
    "We find the steady state of the system by solving the set of equations"
   ]
  },
  {
   "cell_type": "markdown",
   "id": "c1bb0432",
   "metadata": {},
   "source": [
    "$$\n",
    "w(t=\\infty) = Ww(t=\\infty),\n",
    "$$"
   ]
  },
  {
   "cell_type": "markdown",
   "id": "3245c69b",
   "metadata": {},
   "source": [
    "which is an eigenvalue problem with eigenvalue equal to **one**!\n",
    "This set of equations reads"
   ]
  },
  {
   "cell_type": "markdown",
   "id": "e7d3e060",
   "metadata": {},
   "source": [
    "$$\n",
    "W_{11}w_1(t=\\infty) +W_{12}w_2(t=\\infty) +W_{13}w_3(t=\\infty)+ W_{14}w_4(t=\\infty)=w_1(t=\\infty) \\nonumber\n",
    "$$"
   ]
  },
  {
   "cell_type": "markdown",
   "id": "b7034c3b",
   "metadata": {},
   "source": [
    "$$\n",
    "W_{21}w_1(t=\\infty) + W_{22}w_2(t=\\infty) + W_{23}w_3(t=\\infty)+ W_{24}w_4(t=\\infty)=w_2(t=\\infty) \\nonumber\n",
    "$$"
   ]
  },
  {
   "cell_type": "markdown",
   "id": "c6a4331e",
   "metadata": {},
   "source": [
    "$$\n",
    "W_{31}w_1(t=\\infty) + W_{32}w_2(t=\\infty) + W_{33}w_3(t=\\infty)+ W_{34}w_4(t=\\infty)=w_3(t=\\infty) \\nonumber\n",
    "$$"
   ]
  },
  {
   "cell_type": "markdown",
   "id": "0aa09ce3",
   "metadata": {},
   "source": [
    "$$\n",
    "W_{41}w_1(t=\\infty) + W_{42}w_2(t=\\infty) + W_{43}w_3(t=\\infty)+ W_{44}w_4(t=\\infty)=w_4(t=\\infty) \\nonumber\n",
    "$$"
   ]
  },
  {
   "cell_type": "markdown",
   "id": "367517c0",
   "metadata": {},
   "source": [
    "<!-- Equation labels as ordinary links -->\n",
    "<div id=\"_auto1\"></div>\n",
    "\n",
    "$$\n",
    "\\begin{equation} \n",
    "\\label{_auto1} \\tag{4}\n",
    "\\end{equation}\n",
    "$$"
   ]
  },
  {
   "cell_type": "markdown",
   "id": "44dbb01e",
   "metadata": {},
   "source": [
    "with the constraint that"
   ]
  },
  {
   "cell_type": "markdown",
   "id": "2ade0ce1",
   "metadata": {},
   "source": [
    "$$\n",
    "\\sum_i w_i(t=\\infty) = 1,\n",
    "$$"
   ]
  },
  {
   "cell_type": "markdown",
   "id": "656a7f2f",
   "metadata": {},
   "source": [
    "yielding as solution"
   ]
  },
  {
   "cell_type": "markdown",
   "id": "b67fc303",
   "metadata": {},
   "source": [
    "$$\n",
    "\\boldsymbol{w}(t=\\infty)=  \\left(\\begin{array}{c}0.244318 \\\\                   \n",
    "                                 0.319602 \\\\  0.056818 \\\\  0.379261 \\end{array} \\right).\n",
    "$$"
   ]
  },
  {
   "cell_type": "markdown",
   "id": "f7f05092",
   "metadata": {},
   "source": [
    "## Code for the iterative process"
   ]
  },
  {
   "cell_type": "code",
   "execution_count": 7,
   "id": "413e4029",
   "metadata": {},
   "outputs": [
    {
     "name": "stdout",
     "output_type": "stream",
     "text": [
      "[[0.25   0.1111 0.375  0.3333]\n",
      " [0.5    0.2222 0.     0.3333]\n",
      " [0.     0.1111 0.375  0.    ]\n",
      " [0.25   0.5556 0.25   0.3333]]\n",
      "(-0.06304544821513006-0.2123618950858686j)\n",
      "(-0.06304544821513006+0.2123618950858686j)\n",
      "(0.30662882408582764+0j)\n",
      "(0.9999620723444322+0j)\n",
      "1 [0.25 0.5  0.   0.25]\n",
      "2 [0.201375  0.2951125 0.032787  0.30583  ]\n",
      "3 [0.19735901 0.26618664 0.04186846 0.30963331]\n",
      "4 [0.19781454 0.26125473 0.04472607 0.30898906]\n",
      "5 [0.19823737 0.26015554 0.04567556 0.3085067 ]\n",
      "6 [0.19841624 0.25983997 0.04599655 0.30829557]\n",
      "7 [0.1984759  0.2597293  0.04610463 0.30820565]\n",
      "8 [0.19848908 0.25968133 0.04613983 0.30816112]\n",
      "9 [0.19848541 0.259654   0.04615    0.30813271]\n",
      "10 [0.19847579 0.25963365 0.04615155 0.30810992]\n",
      "11 [0.19846411 0.25961569 0.04615013 0.30808908]\n",
      "12 [0.19845172 0.25959856 0.0461477  0.3080689 ]\n",
      "13 [0.19843908 0.2595817  0.04614491 0.30804896]\n",
      "14 [0.19842636 0.25956495 0.04614201 0.3080291 ]\n",
      "15 [0.19841361 0.25954823 0.04613906 0.30800926]\n",
      "16 [0.19840085 0.25953153 0.0461361  0.30798944]\n",
      "17 [0.19838808 0.25951483 0.04613314 0.30796963]\n",
      "18 [0.19837532 0.25949813 0.04613017 0.30794981]\n",
      "19 [0.19836256 0.25948143 0.0461272  0.30793   ]\n",
      "20 [0.19834979 0.25946474 0.04612423 0.30791018]\n",
      "21 [0.19833703 0.25944805 0.04612127 0.30789037]\n",
      "22 [0.19832427 0.25943135 0.0461183  0.30787056]\n",
      "23 [0.19831151 0.25941466 0.04611533 0.30785076]\n",
      "24 [0.19829875 0.25939797 0.04611236 0.30783095]\n",
      "25 [0.19828599 0.25938128 0.0461094  0.30781114]\n",
      "26 [0.19827324 0.25936459 0.04610643 0.30779134]\n",
      "27 [0.19826048 0.25934791 0.04610346 0.30777154]\n",
      "28 [0.19824772 0.25933122 0.0461005  0.30775173]\n",
      "29 [0.19823497 0.25931453 0.04609753 0.30773193]\n",
      "30 [0.19822221 0.25929785 0.04609457 0.30771213]\n",
      "31 [0.19820946 0.25928117 0.0460916  0.30769234]\n",
      "32 [0.19819671 0.25926448 0.04608863 0.30767254]\n",
      "33 [0.19818396 0.2592478  0.04608567 0.30765274]\n",
      "34 [0.1981712  0.25923112 0.0460827  0.30763295]\n",
      "35 [0.19815845 0.25921444 0.04607974 0.30761316]\n",
      "36 [0.19814571 0.25919777 0.04607677 0.30759336]\n",
      "37 [0.19813296 0.25918109 0.04607381 0.30757357]\n",
      "38 [0.19812021 0.25916441 0.04607084 0.30755378]\n",
      "39 [0.19810746 0.25914774 0.04606788 0.307534  ]\n",
      "40 [0.19809472 0.25913107 0.04606492 0.30751421]\n",
      "41 [0.19808197 0.25911439 0.04606195 0.30749442]\n",
      "42 [0.19806923 0.25909772 0.04605899 0.30747464]\n",
      "43 [0.19805648 0.25908105 0.04605603 0.30745486]\n",
      "44 [0.19804374 0.25906438 0.04605306 0.30743508]\n",
      "45 [0.198031   0.25904772 0.0460501  0.3074153 ]\n",
      "46 [0.19801826 0.25903105 0.04604714 0.30739552]\n",
      "47 [0.19800552 0.25901438 0.04604417 0.30737574]\n",
      "48 [0.19799278 0.25899772 0.04604121 0.30735596]\n",
      "49 [0.19798004 0.25898105 0.04603825 0.30733619]\n",
      "50 [0.1979673  0.25896439 0.04603529 0.30731641]\n"
     ]
    }
   ],
   "source": [
    "from  matplotlib import pyplot as plt\n",
    "import numpy as np\n",
    "\n",
    "# Define dimension of matrix and vectors\n",
    "Dim = 4\n",
    "#Setting up a transition probability matrix\n",
    "TransitionMatrix = np.matrix('0.25 0.1111 0.375 0.3333; 0.5 0.2222 0.0 0.3333; 0.0 0.1111 0.375 0.0; 0.25 0.5556 0.25 0.3333')\n",
    "# Making a copy of the transition matrix\n",
    "W = TransitionMatrix\n",
    "print(W)\n",
    "# our first state\n",
    "wold = np.zeros(Dim)\n",
    "wold[0] = 1.0\n",
    "wnew = np.zeros(Dim)\n",
    "\n",
    "# diagonalize and obtain eigenvalues, not necessarily sorted\n",
    "EigValues, EigVectors = np.linalg.eig(TransitionMatrix)\n",
    "# sort eigenvectors and eigenvalues\n",
    "permute = EigValues.argsort()\n",
    "EigValues = EigValues[permute]\n",
    "EigVectors = EigVectors[:,permute]\n",
    "for i in range(Dim):\n",
    "    print(EigValues[i])\n",
    "\n",
    "\n",
    "count = 0\n",
    "while count < 50:\n",
    "      for i in range(Dim):\n",
    "          wnew[i] = W[i,:] @ wold\n",
    "      count = count + 1\n",
    "      print(count, wnew)\n",
    "      wold = wnew"
   ]
  },
  {
   "cell_type": "markdown",
   "id": "c8b4ab1d",
   "metadata": {},
   "source": [
    "## Small exercise\n",
    "\n",
    "Write a small code which diagonalized the matrix $\\boldsymbol{W}$ and find the eigenpairs anc ompare the coefficients $w_i$.\n",
    "**Note:** You may need to normalize the eigenvectors from the diagonalization procedure. What is the largest eigenvalue?"
   ]
  },
  {
   "cell_type": "markdown",
   "id": "93afb638",
   "metadata": {},
   "source": [
    "## What do the results mean?\n",
    "\n",
    "We have after $t$-steps"
   ]
  },
  {
   "cell_type": "markdown",
   "id": "9c66adeb",
   "metadata": {},
   "source": [
    "$$\n",
    "\\boldsymbol{w}(t) = \\boldsymbol{W}^t\\boldsymbol{w}(0),\n",
    "$$"
   ]
  },
  {
   "cell_type": "markdown",
   "id": "4deac604",
   "metadata": {},
   "source": [
    "with $\\boldsymbol{w}(0)$ the distribution at $t=0$ and $\\boldsymbol{W}$ representing the \n",
    "transition probability matrix."
   ]
  },
  {
   "cell_type": "markdown",
   "id": "fb09ebf3",
   "metadata": {},
   "source": [
    "## Understanding the basics\n",
    "\n",
    "We can always expand $\\boldsymbol{w}(0)$ in terms of the right eigenvectors \n",
    "$\\boldsymbol{v}$ of $\\boldsymbol{W}$ as"
   ]
  },
  {
   "cell_type": "markdown",
   "id": "4207439b",
   "metadata": {},
   "source": [
    "$$\n",
    "\\boldsymbol{w}(0)  = \\sum_i\\alpha_i\\boldsymbol{v}_i,\n",
    "$$"
   ]
  },
  {
   "cell_type": "markdown",
   "id": "654b9cf0",
   "metadata": {},
   "source": [
    "resulting in"
   ]
  },
  {
   "cell_type": "markdown",
   "id": "9774d42c",
   "metadata": {},
   "source": [
    "$$\n",
    "\\boldsymbol{w}(t) = \\boldsymbol{W}^t\\boldsymbol{w}(0)=\\boldsymbol{W}^t\\sum_i\\alpha_i\\boldsymbol{v}_i=\n",
    "\\sum_i\\lambda_i^t\\alpha_i\\boldsymbol{v}_i,\n",
    "$$"
   ]
  },
  {
   "cell_type": "markdown",
   "id": "3222a11b",
   "metadata": {},
   "source": [
    "with $\\lambda_i$ the $i^{\\mathrm{th}}$ eigenvalue corresponding to  \n",
    "the eigenvector $\\boldsymbol{v}_i$. \n",
    "\n",
    "If we assume that $\\lambda_0$ is the largest eigenvector we see that in the limit $t\\rightarrow \\infty$,\n",
    "$\\boldsymbol{w}(t)$ becomes proportional to the corresponding eigenvector \n",
    "$\\boldsymbol{v}_0$. This is our steady state or final distribution."
   ]
  },
  {
   "cell_type": "markdown",
   "id": "f84ca4d5",
   "metadata": {},
   "source": [
    "## Basics of the Metropolis Algorithm\n",
    "\n",
    "The Metropolis\n",
    "algorithm is a method to sample a normalized probability\n",
    "distribution by a stochastic process. We define ${\\cal w}_i^{(n)}$ to\n",
    "be the probability for finding the system in the state $i$ at step $n$.\n",
    "\n",
    "In the simulations, our assumption is that we have a model for ${\\cal w}_i^{(n)}$, but we do not know $W$.\n",
    "We will hence model $W$ in terms of a likelihood for making transition $T$ and a likelihood for accepting a transition.\n",
    "That is"
   ]
  },
  {
   "cell_type": "markdown",
   "id": "d636b6bb",
   "metadata": {},
   "source": [
    "$$\n",
    "W_{i\\rightarrow j}=A_{i\\rightarrow j}T_{i\\rightarrow j}\n",
    "$$"
   ]
  },
  {
   "cell_type": "markdown",
   "id": "cef6b16f",
   "metadata": {},
   "source": [
    "## The basic of the Metropolis Algorithm\n",
    "\n",
    "* Sample a possible new state $j$ with some probability $T_{i\\rightarrow j}$.\n",
    "\n",
    "* Accept the new state $j$ with probability $A_{i \\rightarrow j}$ and use it as the next sample.\n",
    "\n",
    "* With probability $1-A_{i\\rightarrow j}$ the move is rejected and the original state $i$ is used again as a sample.\n",
    "\n",
    "We wish to derive the required properties of $T$ and $A$ such that\n",
    "${\\cal w}_i^{(n\\rightarrow \\infty)} \\rightarrow p_i$ so that starting\n",
    "from any distribution, the method converges to the correct distribution.\n",
    "Note that the description here is for a discrete probability distribution.\n",
    "Replacing probabilities $p_i$ with expressions like $p(x_i)dx_i$ will\n",
    "take all of these over to the corresponding continuum expressions."
   ]
  },
  {
   "cell_type": "markdown",
   "id": "354a0610",
   "metadata": {},
   "source": [
    "## More on the Metropolis\n",
    "\n",
    "The dynamical equation for ${\\cal w}_i^{(n)}$ can be written directly from\n",
    "the description above. The probability of being in the state $i$ at step $n$\n",
    "is given by the probability of being in any state $j$ at the previous step,\n",
    "and making an accepted transition to $i$ added to the probability of\n",
    "being in the state $i$, making a transition to any state $j$ and\n",
    "rejecting the move:"
   ]
  },
  {
   "cell_type": "markdown",
   "id": "23dd30a5",
   "metadata": {},
   "source": [
    "<!-- Equation labels as ordinary links -->\n",
    "<div id=\"eq:eq1\"></div>\n",
    "\n",
    "$$\n",
    "\\begin{equation}\n",
    "\\label{eq:eq1} \\tag{5}\n",
    "{\\cal w}^{(n)}_i = \\sum_j \\left [\n",
    "{\\cal w}^{(n-1)}_jT_{j\\rightarrow i} A_{j\\rightarrow i} \n",
    "+{\\cal w}^{(n-1)}_iT_{i\\rightarrow j}\\left ( 1- A_{i\\rightarrow j} \\right)\n",
    "\\right ] \\,.\n",
    "\\end{equation}\n",
    "$$"
   ]
  },
  {
   "cell_type": "markdown",
   "id": "f3449aa5",
   "metadata": {},
   "source": [
    "## Metropolis algorithm, setting it up\n",
    "Since the probability of making some transition must be 1,\n",
    "$\\sum_j T_{i\\rightarrow j} = 1$, and Eq. ([5](#eq:eq1)) becomes"
   ]
  },
  {
   "cell_type": "markdown",
   "id": "7d552ba6",
   "metadata": {},
   "source": [
    "<!-- Equation labels as ordinary links -->\n",
    "<div id=\"_auto2\"></div>\n",
    "\n",
    "$$\n",
    "\\begin{equation}\n",
    "{\\cal w}^{(n)}_i = {\\cal w}^{(n-1)}_i +\n",
    " \\sum_j \\left [\n",
    "{\\cal w}^{(n-1)}_jT_{j\\rightarrow i} A_{j\\rightarrow i} \n",
    "-{\\cal w}^{(n-1)}_iT_{i\\rightarrow j}A_{i\\rightarrow j}\n",
    "\\right ] \\,.\n",
    "\\label{_auto2} \\tag{6}\n",
    "\\end{equation}\n",
    "$$"
   ]
  },
  {
   "cell_type": "markdown",
   "id": "d1a7c254",
   "metadata": {},
   "source": [
    "## Metropolis continues\n",
    "\n",
    "For large $n$ we require that ${\\cal w}^{(n\\rightarrow \\infty)}_i = p_i$,\n",
    "the desired probability distribution. Taking this limit, gives the\n",
    "balance requirement"
   ]
  },
  {
   "cell_type": "markdown",
   "id": "8a8ccc44",
   "metadata": {},
   "source": [
    "<!-- Equation labels as ordinary links -->\n",
    "<div id=\"_auto3\"></div>\n",
    "\n",
    "$$\n",
    "\\begin{equation}\n",
    "\\sum_j \\left [p_jT_{j\\rightarrow i} A_{j\\rightarrow i}-p_iT_{i\\rightarrow j}A_{i\\rightarrow j}\n",
    "\\right ] = 0,\n",
    "\\label{_auto3} \\tag{7}\n",
    "\\end{equation}\n",
    "$$"
   ]
  },
  {
   "cell_type": "markdown",
   "id": "21c3265d",
   "metadata": {},
   "source": [
    "## Detailed Balance\n",
    "\n",
    "The balance requirement is very weak. Typically the much stronger detailed\n",
    "balance requirement is enforced, that is rather than the sum being\n",
    "set to zero, we set each term separately to zero and use this\n",
    "to determine the acceptance probabilities. Rearranging, the result is"
   ]
  },
  {
   "cell_type": "markdown",
   "id": "7078b31c",
   "metadata": {},
   "source": [
    "<!-- Equation labels as ordinary links -->\n",
    "<div id=\"_auto4\"></div>\n",
    "\n",
    "$$\n",
    "\\begin{equation}\n",
    "\\frac{ A_{j\\rightarrow i}}{A_{i\\rightarrow j}}\n",
    "= \\frac{p_iT_{i\\rightarrow j}}{ p_jT_{j\\rightarrow i}} \\,.\n",
    "\\label{_auto4} \\tag{8}\n",
    "\\end{equation}\n",
    "$$"
   ]
  },
  {
   "cell_type": "markdown",
   "id": "5d6a5ccc",
   "metadata": {},
   "source": [
    "This is the [detailed balance requirement](https://cims.nyu.edu/~holmes/teaching/asa19/handout_Lecture3_2019.pdf)"
   ]
  },
  {
   "cell_type": "markdown",
   "id": "2ea82a09",
   "metadata": {},
   "source": [
    "## More on Detailed Balance\n",
    "\n",
    "The Metropolis choice is to maximize the $A$ values, that is"
   ]
  },
  {
   "cell_type": "markdown",
   "id": "eb9b0739",
   "metadata": {},
   "source": [
    "<!-- Equation labels as ordinary links -->\n",
    "<div id=\"_auto5\"></div>\n",
    "\n",
    "$$\n",
    "\\begin{equation}\n",
    "A_{j \\rightarrow i} = \\min \\left ( 1,\n",
    "\\frac{p_iT_{i\\rightarrow j}}{ p_jT_{j\\rightarrow i}}\\right ).\n",
    "\\label{_auto5} \\tag{9}\n",
    "\\end{equation}\n",
    "$$"
   ]
  },
  {
   "cell_type": "markdown",
   "id": "adeb7edd",
   "metadata": {},
   "source": [
    "Other choices are possible, but they all correspond to multilplying\n",
    "$A_{i\\rightarrow j}$ and $A_{j\\rightarrow i}$ by the same constant\n",
    "smaller than unity. The penalty function method uses just such\n",
    "a factor to compensate for $p_i$ that are evaluated stochastically\n",
    "and are therefore noisy.\n",
    "\n",
    "Having chosen the acceptance probabilities, we have guaranteed that\n",
    "if the  ${\\cal w}_i^{(n)}$ has equilibrated, that is if it is equal to $p_i$,\n",
    "it will remain equilibrated. Next we need to find the circumstances for\n",
    "convergence to equilibrium."
   ]
  },
  {
   "cell_type": "markdown",
   "id": "56176ec1",
   "metadata": {},
   "source": [
    "## Dynamical Equation\n",
    "\n",
    "The dynamical equation can be written as"
   ]
  },
  {
   "cell_type": "markdown",
   "id": "bca23e81",
   "metadata": {},
   "source": [
    "<!-- Equation labels as ordinary links -->\n",
    "<div id=\"_auto6\"></div>\n",
    "\n",
    "$$\n",
    "\\begin{equation}\n",
    "{\\cal w}^{(n)}_i = \\sum_j M_{ij}{\\cal w}^{(n-1)}_j\n",
    "\\label{_auto6} \\tag{10}\n",
    "\\end{equation}\n",
    "$$"
   ]
  },
  {
   "cell_type": "markdown",
   "id": "8514d2e0",
   "metadata": {},
   "source": [
    "with the matrix $M$ given by"
   ]
  },
  {
   "cell_type": "markdown",
   "id": "2b21c68d",
   "metadata": {},
   "source": [
    "<!-- Equation labels as ordinary links -->\n",
    "<div id=\"_auto7\"></div>\n",
    "\n",
    "$$\n",
    "\\begin{equation}\n",
    "M_{ij} = \\delta_{ij}\\left [ 1 -\\sum_k T_{i\\rightarrow k} A_{i \\rightarrow k}\n",
    "\\right ] + T_{j\\rightarrow i} A_{j\\rightarrow i} \\,.\n",
    "\\label{_auto7} \\tag{11}\n",
    "\\end{equation}\n",
    "$$"
   ]
  },
  {
   "cell_type": "markdown",
   "id": "6a88eddc",
   "metadata": {},
   "source": [
    "Summing over $i$ shows that $\\sum_i M_{ij} = 1$, and since\n",
    "$\\sum_k T_{i\\rightarrow k} = 1$, and $A_{i \\rightarrow k} \\leq 1$, the\n",
    "elements of the matrix satisfy $M_{ij} \\geq 0$. The matrix $M$ is therefore\n",
    "a stochastic matrix."
   ]
  },
  {
   "cell_type": "markdown",
   "id": "8e995141",
   "metadata": {},
   "source": [
    "## Interpreting the Metropolis Algorithm\n",
    "\n",
    "The Metropolis method is simply the power method for computing the\n",
    "right eigenvector of $\\boldsymbol{M}$ with the largest magnitude eigenvalue.\n",
    "By construction, the correct probability distribution is a right eigenvector\n",
    "with eigenvalue 1. Therefore, for the Metropolis method to converge\n",
    "to this result, we must show that $\\boldsymbol{M}$ has only one eigenvalue with this\n",
    "magnitude, and all other eigenvalues are smaller.\n",
    "\n",
    "Even a defective matrix has at least one left and right eigenvector for\n",
    "each eigenvalue. An example of a defective matrix is"
   ]
  },
  {
   "cell_type": "markdown",
   "id": "0e2d8998",
   "metadata": {},
   "source": [
    "$$\n",
    "\\begin{bmatrix}\n",
    "0 & 1\\\\\n",
    "0 & 0 \\\\\n",
    "\\end{bmatrix},\n",
    "$$"
   ]
  },
  {
   "cell_type": "markdown",
   "id": "1209fe58",
   "metadata": {},
   "source": [
    "with two zero eigenvalues, only one right eigenvector"
   ]
  },
  {
   "cell_type": "markdown",
   "id": "021c8bbb",
   "metadata": {},
   "source": [
    "$$\n",
    "\\begin{bmatrix}\n",
    "1 \\\\\n",
    "0\\\\\n",
    "\\end{bmatrix}\n",
    "$$"
   ]
  },
  {
   "cell_type": "markdown",
   "id": "46207463",
   "metadata": {},
   "source": [
    "and only one left eigenvector $(0\\ 1)$."
   ]
  },
  {
   "cell_type": "markdown",
   "id": "4ca7c7ef",
   "metadata": {},
   "source": [
    "## Gershgorin bounds and Metropolis\n",
    "\n",
    "The Gershgorin bounds for the eigenvalues can be derived by multiplying on\n",
    "the left with the eigenvector with the maximum and minimum eigenvalues,"
   ]
  },
  {
   "cell_type": "markdown",
   "id": "982ad5cf",
   "metadata": {},
   "source": [
    "$$\n",
    "\\sum_i \\psi^{\\rm max}_i M_{ij} = \\lambda_{\\rm max}  \\psi^{\\rm max}_j\n",
    "\\nonumber\n",
    "$$"
   ]
  },
  {
   "cell_type": "markdown",
   "id": "f219d0c3",
   "metadata": {},
   "source": [
    "<!-- Equation labels as ordinary links -->\n",
    "<div id=\"_auto8\"></div>\n",
    "\n",
    "$$\n",
    "\\begin{equation} \n",
    "\\sum_i \\psi^{\\rm min}_i M_{ij} = \\lambda_{\\rm min}  \\psi^{\\rm min}_j\n",
    "\\label{_auto8} \\tag{12}\n",
    "\\end{equation}\n",
    "$$"
   ]
  },
  {
   "cell_type": "markdown",
   "id": "e6609f13",
   "metadata": {},
   "source": [
    "## Normalizing the Eigenvectors\n",
    "\n",
    "Next we choose the normalization of these eigenvectors so that the\n",
    "largest element (or one of the equally largest elements)\n",
    "has value 1. Let's call this element $k$, and\n",
    "we can therefore bound the magnitude of the other elements to be less\n",
    "than or equal to 1.\n",
    "This leads to the inequalities, using the property that $M_{ij}\\geq 0$,"
   ]
  },
  {
   "cell_type": "markdown",
   "id": "c52c084a",
   "metadata": {},
   "source": [
    "$$\n",
    "\\begin{eqnarray}\n",
    "\\sum_i M_{ik} \\leq \\lambda_{\\rm max}\n",
    "\\nonumber\\\\\n",
    "M_{kk}-\\sum_{i \\neq k} M_{ik} \\geq \\lambda_{\\rm min}\n",
    "\\end{eqnarray}\n",
    "$$"
   ]
  },
  {
   "cell_type": "markdown",
   "id": "202f50db",
   "metadata": {},
   "source": [
    "where the equality from the maximum\n",
    "will occur only if the eigenvector takes the value 1 for all values of\n",
    "$i$ where $M_{ik} \\neq 0$, and the equality for the minimum will\n",
    "occur only if the eigenvector takes the value -1 for all values of $i\\neq k$\n",
    "where $M_{ik} \\neq 0$."
   ]
  },
  {
   "cell_type": "markdown",
   "id": "62d25051",
   "metadata": {},
   "source": [
    "## More Metropolis analysis\n",
    "\n",
    "That the maximum eigenvalue is 1 follows immediately from the property\n",
    "that $\\sum_i M_{ik} = 1$. Similarly the minimum eigenvalue can be -1,\n",
    "but only if $M_{kk} = 0$ and the magnitude of all the other elements\n",
    "$\\psi_i^{\\rm min}$ of\n",
    "the eigenvector that multiply nonzero elements $M_{ik}$ are -1.\n",
    "\n",
    "Let's first see what the properties of $M$ must be\n",
    "to eliminate any -1 eigenvalues. \n",
    "To have a -1 eigenvalue, the left eigenvector must contain only $\\pm 1$\n",
    "and $0$ values. Taking in turn each $\\pm 1$ value as the maximum, so that\n",
    "it corresponds to the index $k$, the nonzero $M_{ik}$ values must\n",
    "correspond to $i$ index values of the eigenvector which have opposite\n",
    "sign elements. That is, the $M$ matrix must break up into sets of\n",
    "states that always make transitions from set A to set B ... back to set A.\n",
    "In particular, there can be no rejections of these moves in the cycle\n",
    "since the -1 eigenvalue requires $M_{kk}=0$. To guarantee no eigenvalues\n",
    "with eigenvalue -1, we simply have to make sure that there are no\n",
    "cycles among states. Notice that this is generally trivial since such\n",
    "cycles cannot have any rejections at any stage. An example of such\n",
    "a cycle is sampling a noninteracting Ising spin. If the transition is\n",
    "taken to flip the spin, and the energy difference is zero, the Boltzmann\n",
    "factor will not change and the move will always be accepted. The system\n",
    "will simply flip from up to down to up to down ad infinitum. Including\n",
    "a rejection probability or using a heat bath algorithm\n",
    "immediately fixes the problem."
   ]
  },
  {
   "cell_type": "markdown",
   "id": "3ecca8e3",
   "metadata": {},
   "source": [
    "## Final Considerations I\n",
    "\n",
    "Next we need to make sure that there is only one left eigenvector\n",
    "with eigenvalue 1. To get an eigenvalue 1, the left eigenvector must be \n",
    "constructed from only ones and zeroes. It is straightforward to\n",
    "see that a vector made up of\n",
    "ones and zeroes can only be an eigenvector with eigenvalue 1 if the \n",
    "matrix element $M_{ij} = 0$ for all cases where $\\psi_i \\neq \\psi_j$.\n",
    "That is we can choose an index $i$ and take $\\psi_i = 1$.\n",
    "We require all elements $\\psi_j$ where $M_{ij} \\neq 0$ to also have\n",
    "the value $1$. Continuing we then require all elements $\\psi_\\ell$ $M_{j\\ell}$\n",
    "to have value $1$. Only if the matrix $M$ can be put into block diagonal\n",
    "form can there be more than one choice for the left eigenvector with\n",
    "eigenvalue 1. We therefore require that the transition matrix not\n",
    "be in block diagonal form. This simply means that we must choose\n",
    "the transition probability so that we can get from any allowed state\n",
    "to any other in a series of transitions."
   ]
  },
  {
   "cell_type": "markdown",
   "id": "d5e7f5e9",
   "metadata": {},
   "source": [
    "## Final Considerations II\n",
    "\n",
    "Finally, we note that for a defective matrix, with more eigenvalues\n",
    "than independent eigenvectors for eigenvalue 1,\n",
    "the left and right\n",
    "eigenvectors of eigenvalue 1 would be orthogonal.\n",
    "Here the left eigenvector is all 1\n",
    "except for states that can never be reached, and the right eigenvector\n",
    "is $p_i > 0$ except for states that give zero probability. We already\n",
    "require that we can reach\n",
    "all states that contribute to $p_i$. Therefore the left and right\n",
    "eigenvectors with eigenvalue 1 do not correspond to a defective sector\n",
    "of the matrix and they are unique. The Metropolis algorithm therefore\n",
    "converges exponentially to the desired distribution."
   ]
  },
  {
   "cell_type": "markdown",
   "id": "62c3d753",
   "metadata": {},
   "source": [
    "## Final Considerations III\n",
    "\n",
    "The requirements for the transition $T_{i \\rightarrow j}$ are\n",
    "* A series of transitions must let us to get from any allowed state to any other by a finite series of transitions.\n",
    "\n",
    "* The transitions cannot be grouped into sets of states, A, B, C ,... such that transitions from $A$ go to $B$, $B$ to $C$ etc and finally back to $A$. With condition (a) satisfied, this condition will always be satisfied if either $T_{i \\rightarrow i} \\neq 0$ or there are some rejected moves."
   ]
  },
  {
   "cell_type": "markdown",
   "id": "d98633ba",
   "metadata": {},
   "source": [
    "## The system: two particles (fermions normally) in a harmonic oscillator trap in two dimensions\n",
    "\n",
    "The Hamiltonian of the quantum dot is given by"
   ]
  },
  {
   "cell_type": "markdown",
   "id": "db87ca29",
   "metadata": {},
   "source": [
    "$$\n",
    "\\hat{H} = \\hat{H}_0 + \\hat{V},\n",
    "$$"
   ]
  },
  {
   "cell_type": "markdown",
   "id": "d64d5565",
   "metadata": {},
   "source": [
    "where $\\hat{H}_0$ is the many-body HO Hamiltonian, and $\\hat{V}$ is the\n",
    "inter-electron Coulomb interactions. In dimensionless units,"
   ]
  },
  {
   "cell_type": "markdown",
   "id": "e9d6df49",
   "metadata": {},
   "source": [
    "$$\n",
    "\\hat{V}= \\sum_{i < j}^N \\frac{1}{r_{ij}},\n",
    "$$"
   ]
  },
  {
   "cell_type": "markdown",
   "id": "d3f83ff4",
   "metadata": {},
   "source": [
    "with $r_{ij}=\\sqrt{\\mathbf{r}_i^2 - \\mathbf{r}_j^2}$."
   ]
  },
  {
   "cell_type": "markdown",
   "id": "39433dea",
   "metadata": {},
   "source": [
    "## Separating the degrees of freedom\n",
    "\n",
    "This leads to the  separable Hamiltonian, with the relative motion part given by ($r_{ij}=r$)"
   ]
  },
  {
   "cell_type": "markdown",
   "id": "5e83ed07",
   "metadata": {},
   "source": [
    "$$\n",
    "\\hat{H}_r=-\\nabla^2_r + \\frac{1}{4}\\omega^2r^2+ \\frac{1}{r},\n",
    "$$"
   ]
  },
  {
   "cell_type": "markdown",
   "id": "14e056f3",
   "metadata": {},
   "source": [
    "plus a standard Harmonic Oscillator problem  for the center-of-mass motion.\n",
    "This system has analytical solutions in two and three dimensions ([M. Taut 1993 and 1994](https://journals.aps.org/pra/abstract/10.1103/PhysRevA.48.3561))."
   ]
  },
  {
   "cell_type": "markdown",
   "id": "d70ec898",
   "metadata": {},
   "source": [
    "## Variational Monte Carlo code (best seen with jupyter-notebook)\n",
    "We want to perform  a Variational Monte Carlo calculation of the ground state of two electrons in a quantum dot well with different oscillator energies, assuming total spin $S=0$.\n",
    "Our trial wave function has the following form"
   ]
  },
  {
   "cell_type": "markdown",
   "id": "24dd8dbb",
   "metadata": {},
   "source": [
    "<!-- Equation labels as ordinary links -->\n",
    "<div id=\"eq:trial\"></div>\n",
    "\n",
    "$$\n",
    "\\begin{equation}\n",
    "   \\psi_{T}(\\boldsymbol{r}_1,\\boldsymbol{r}_2) = \n",
    "   C\\exp{\\left(-\\alpha_1\\omega(r_1^2+r_2^2)/2\\right)}\n",
    "   \\exp{\\left(\\frac{r_{12}}{(1+\\alpha_2 r_{12})}\\right)}, \n",
    "\\label{eq:trial} \\tag{13}\n",
    "\\end{equation}\n",
    "$$"
   ]
  },
  {
   "cell_type": "markdown",
   "id": "dc797c78",
   "metadata": {},
   "source": [
    "where the $\\alpha$s represent our variational parameters, two in this case.\n",
    "\n",
    "Why does the trial function look like this? How did we get there?\n",
    "**This will be one of our main motivations** for switching to Machine Learning later.\n",
    "\n",
    "To find an ansatz for the correlated part of the wave function, it is\n",
    "useful to rewrite the two-particle local energy in terms of the\n",
    "relative and center-of-mass motion.  \n",
    "Let us denote the relative distance\n",
    "between the two electrons as $r_{12}$. We omit the center-of-mass\n",
    "motion since we are only interested in the case when $r_{12}\n",
    "\\rightarrow 0$. The contribution from the center-of-mass (CoM)\n",
    "variable $\\boldsymbol{R}_{\\mathrm{CoM}}$ gives only a finite contribution.  We\n",
    "focus only on the terms that are relevant for $r_{12}$ and for three\n",
    "dimensions. \n",
    "\n",
    "The relevant local energy becomes then"
   ]
  },
  {
   "cell_type": "markdown",
   "id": "9be00231",
   "metadata": {},
   "source": [
    "$$\n",
    "\\lim_{r_{12} \\rightarrow 0}E_L(R)= \\frac{1}{{\\cal R}_T(r_{12})}\\left(2\\frac{d^2}{dr_{ij}^2}+\\frac{4}{r_{ij}}\\frac{d}{dr_{ij}}+\\frac{2}{r_{ij}}-\\frac{l(l+1)}{r_{ij}^2}+2E \\right){\\cal R}_T(r_{12})\n",
    "= 0.\n",
    "$$"
   ]
  },
  {
   "cell_type": "markdown",
   "id": "513c8f5c",
   "metadata": {},
   "source": [
    "Set $l=0$ and we have the so-called **cusp** condition"
   ]
  },
  {
   "cell_type": "markdown",
   "id": "13975f54",
   "metadata": {},
   "source": [
    "$$\n",
    "\\frac{d {\\cal R}_T(r_{12})}{dr_{12}} = -\\frac{1}{2(l+1)} {\\cal R}_T(r_{12})\\qquad r_{12}\\to 0\n",
    "$$"
   ]
  },
  {
   "cell_type": "markdown",
   "id": "03832e2c",
   "metadata": {},
   "source": [
    "The above  results in"
   ]
  },
  {
   "cell_type": "markdown",
   "id": "d1ca0b37",
   "metadata": {},
   "source": [
    "$$\n",
    "{\\cal R}_T  \\propto \\exp{(r_{ij}/2)},\n",
    "$$"
   ]
  },
  {
   "cell_type": "markdown",
   "id": "27d5151c",
   "metadata": {},
   "source": [
    "for anti-parallel spins and"
   ]
  },
  {
   "cell_type": "markdown",
   "id": "0c321422",
   "metadata": {},
   "source": [
    "$$\n",
    "{\\cal R}_T  \\propto \\exp{(r_{ij}/4)},\n",
    "$$"
   ]
  },
  {
   "cell_type": "markdown",
   "id": "92961e64",
   "metadata": {},
   "source": [
    "for anti-parallel spins. \n",
    "This is the so-called cusp condition for the relative motion, resulting in a minimal requirement\n",
    "for the correlation part of the wave fuction.\n",
    "For general systems containing more than say two electrons, we have this\n",
    "condition for each electron pair $ij$."
   ]
  },
  {
   "cell_type": "markdown",
   "id": "5910b15d",
   "metadata": {},
   "source": [
    "## First code attempt for the two-electron case\n",
    "\n",
    "First, as with the hydrogen case, we declare where to store files."
   ]
  },
  {
   "cell_type": "code",
   "execution_count": 14,
   "id": "b9c29278",
   "metadata": {},
   "outputs": [],
   "source": [
    "# Common imports\n",
    "import os\n",
    "\n",
    "# Where to save the figures and data files\n",
    "PROJECT_ROOT_DIR = \"Results\"\n",
    "FIGURE_ID = \"Results/FigureFiles\"\n",
    "DATA_ID = \"Results/VMCQdotMetropolis\"\n",
    "\n",
    "if not os.path.exists(PROJECT_ROOT_DIR):\n",
    "    os.mkdir(PROJECT_ROOT_DIR)\n",
    "\n",
    "if not os.path.exists(FIGURE_ID):\n",
    "    os.makedirs(FIGURE_ID)\n",
    "\n",
    "if not os.path.exists(DATA_ID):\n",
    "    os.makedirs(DATA_ID)\n",
    "\n",
    "def image_path(fig_id):\n",
    "    return os.path.join(FIGURE_ID, fig_id)\n",
    "\n",
    "def data_path(dat_id):\n",
    "    return os.path.join(DATA_ID, dat_id)\n",
    "\n",
    "def save_fig(fig_id):\n",
    "    plt.savefig(image_path(fig_id) + \".png\", format='png')\n",
    "\n",
    "outfile = open(data_path(\"VMCQdotMetropolis.dat\"),'w')"
   ]
  },
  {
   "cell_type": "markdown",
   "id": "e3eec721",
   "metadata": {},
   "source": [
    "Thereafter we set up the analytical expressions for the wave functions and the local energy"
   ]
  },
  {
   "cell_type": "code",
   "execution_count": 15,
   "id": "d5f43c44",
   "metadata": {},
   "outputs": [],
   "source": [
    "# 2-electron VMC for quantum dot system in two dimensions\n",
    "# Brute force Metropolis, no importance sampling and no energy minimization\n",
    "from math import exp, sqrt\n",
    "from random import random, seed\n",
    "import numpy as np\n",
    "import matplotlib.pyplot as plt\n",
    "from mpl_toolkits.mplot3d import Axes3D\n",
    "from matplotlib import cm\n",
    "from matplotlib.ticker import LinearLocator, FormatStrFormatter\n",
    "import sys\n",
    "\n",
    "\n",
    "# Trial wave function for the 2-electron quantum dot in two dims\n",
    "def WaveFunction(r,alpha,beta):\n",
    "    r1 = r[0,0]**2 + r[0,1]**2\n",
    "    r2 = r[1,0]**2 + r[1,1]**2\n",
    "    r12 = sqrt((r[0,0]-r[1,0])**2 + (r[0,1]-r[1,1])**2)\n",
    "    deno = r12/(1+beta*r12)\n",
    "    return exp(-0.5*alpha*(r1+r2)+deno)\n",
    "\n",
    "# Local energy  for the 2-electron quantum dot in two dims, using analytical local energy\n",
    "def LocalEnergy(r,alpha,beta):\n",
    "    \n",
    "    r1 = (r[0,0]**2 + r[0,1]**2)\n",
    "    r2 = (r[1,0]**2 + r[1,1]**2)\n",
    "    r12 = sqrt((r[0,0]-r[1,0])**2 + (r[0,1]-r[1,1])**2)\n",
    "    deno = 1.0/(1+beta*r12)\n",
    "    deno2 = deno*deno\n",
    "    return 0.5*(1-alpha*alpha)*(r1 + r2) +2.0*alpha + 1.0/r12+deno2*(alpha*r12-deno2+2*beta*deno-1.0/r12)"
   ]
  },
  {
   "cell_type": "markdown",
   "id": "afe1a752",
   "metadata": {},
   "source": [
    "The Monte Carlo sampling without importance sampling is set up here."
   ]
  },
  {
   "cell_type": "code",
   "execution_count": 16,
   "id": "1eda1b57",
   "metadata": {},
   "outputs": [],
   "source": [
    "# The Monte Carlo sampling with the Metropolis algo\n",
    "def MonteCarloSampling():\n",
    "\n",
    "    NumberMCcycles= 1000000\n",
    "    StepSize = 1.0\n",
    "    # positions\n",
    "    PositionOld = np.zeros((NumberParticles,Dimension), np.double)\n",
    "    PositionNew = np.zeros((NumberParticles,Dimension), np.double)\n",
    "\n",
    "    # seed for rng generator\n",
    "    seed()\n",
    "    # start variational parameter\n",
    "    alpha = 0.9\n",
    "    for ia in range(MaxVariations):\n",
    "        alpha += .025\n",
    "        AlphaValues[ia] = alpha\n",
    "        beta = 0.2 \n",
    "        for jb in range(MaxVariations):\n",
    "            beta += .01\n",
    "            BetaValues[jb] = beta\n",
    "            energy = energy2 = 0.0\n",
    "            DeltaE = 0.0\n",
    "            #Initial position\n",
    "            for i in range(NumberParticles):\n",
    "                for j in range(Dimension):\n",
    "                    PositionOld[i,j] = StepSize * (random() - .5)\n",
    "            wfold = WaveFunction(PositionOld,alpha,beta)\n",
    "\n",
    "            #Loop over MC MCcycles\n",
    "            for MCcycle in range(NumberMCcycles):\n",
    "                #Trial position moving one particle at the time\n",
    "                for i in range(NumberParticles):\n",
    "                    for j in range(Dimension):\n",
    "                        PositionNew[i,j] = PositionOld[i,j] + StepSize * (random() - .5)\n",
    "                    wfnew = WaveFunction(PositionNew,alpha,beta)\n",
    "\n",
    "                    #Metropolis test to see whether we accept the move\n",
    "                    if random() < wfnew**2 / wfold**2:\n",
    "                       for j in range(Dimension):\n",
    "                           PositionOld[i,j] = PositionNew[i,j]\n",
    "                       wfold = wfnew\n",
    "                DeltaE = LocalEnergy(PositionOld,alpha,beta)\n",
    "                energy += DeltaE\n",
    "                energy2 += DeltaE**2\n",
    "            #We calculate mean, variance and error ...\n",
    "            energy /= NumberMCcycles\n",
    "            energy2 /= NumberMCcycles\n",
    "            variance = energy2 - energy**2\n",
    "            error = sqrt(variance/NumberMCcycles)\n",
    "            Energies[ia,jb] = energy    \n",
    "            Variances[ia,jb] = variance    \n",
    "            outfile.write('%f %f %f %f %f\\n' %(alpha,beta,energy,variance,error))\n",
    "    return Energies, Variances, AlphaValues, BetaValues"
   ]
  },
  {
   "cell_type": "markdown",
   "id": "0b40241b",
   "metadata": {},
   "source": [
    "And finally comes the main part with the plots as well."
   ]
  },
  {
   "cell_type": "code",
   "execution_count": 17,
   "id": "36d99104",
   "metadata": {},
   "outputs": [
    {
     "name": "stderr",
     "output_type": "stream",
     "text": [
      "/var/folders/td/3yk470mj5p931p9dtkk0y6jw0000gn/T/ipykernel_78935/1086845008.py:14: MatplotlibDeprecationWarning: Calling gca() with keyword arguments was deprecated in Matplotlib 3.4. Starting two minor releases later, gca() will take no keyword arguments. The gca() function should only be used to get the current axes, or if no axes exist, create new axes with default keyword arguments. To create a new axes with non-default arguments, use plt.axes() or plt.subplot().\n",
      "  ax = fig.gca(projection='3d')\n"
     ]
    },
    {
     "data": {
      "image/png": "[encoded data removed]",
      "text/plain": [
       "<Figure size 640x480 with 2 Axes>"
      ]
     },
     "metadata": {},
     "output_type": "display_data"
    }
   ],
   "source": [
    "#Here starts the main program with variable declarations\n",
    "NumberParticles = 2\n",
    "Dimension = 2\n",
    "MaxVariations = 10\n",
    "Energies = np.zeros((MaxVariations,MaxVariations))\n",
    "Variances = np.zeros((MaxVariations,MaxVariations))\n",
    "AlphaValues = np.zeros(MaxVariations)\n",
    "BetaValues = np.zeros(MaxVariations)\n",
    "(Energies, Variances, AlphaValues, BetaValues) = MonteCarloSampling()\n",
    "outfile.close()\n",
    "\n",
    "# Prepare for plots\n",
    "fig = plt.figure()\n",
    "ax = fig.gca(projection='3d')\n",
    "# Plot the surface.\n",
    "X, Y = np.meshgrid(AlphaValues, BetaValues)\n",
    "surf = ax.plot_surface(X, Y, Energies,cmap=cm.coolwarm,linewidth=0, antialiased=False)\n",
    "# Customize the z axis.\n",
    "zmin = np.matrix(Energies).min()\n",
    "zmax = np.matrix(Energies).max()\n",
    "ax.set_zlim(zmin, zmax)\n",
    "ax.set_xlabel(r'$\\alpha$')\n",
    "ax.set_ylabel(r'$\\beta$')\n",
    "ax.set_zlabel(r'$\\langle E \\rangle$')\n",
    "ax.zaxis.set_major_locator(LinearLocator(10))\n",
    "ax.zaxis.set_major_formatter(FormatStrFormatter('%.02f'))\n",
    "# Add a color bar which maps values to colors.\n",
    "fig.colorbar(surf, shrink=0.5, aspect=5)\n",
    "save_fig(\"QdotMetropolis\")\n",
    "plt.show()"
   ]
  },
  {
   "cell_type": "code",
   "execution_count": null,
   "id": "09e0464c",
   "metadata": {},
   "outputs": [],
   "source": []
  }
 ],
 "metadata": {
  "kernelspec": {
   "display_name": "Python 3 (ipykernel)",
   "language": "python",
   "name": "python3"
  },
  "language_info": {
   "codemirror_mode": {
    "name": "ipython",
    "version": 3
   },
   "file_extension": ".py",
   "mimetype": "text/x-python",
   "name": "python",
   "nbconvert_exporter": "python",
   "pygments_lexer": "ipython3",
   "version": "3.9.10"
  }
 },
 "nbformat": 4,
 "nbformat_minor": 5
}
