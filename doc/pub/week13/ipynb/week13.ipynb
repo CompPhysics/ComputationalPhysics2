{
 "cells": [
  {
   "cell_type": "markdown",
   "id": "3536b6d9",
   "metadata": {
    "editable": true
   },
   "source": [
    "<!-- HTML file automatically generated from DocOnce source (https://github.com/doconce/doconce/)\n",
    "doconce format html week13.do.txt --no_mako --no_abort -->\n",
    "<!-- dom:TITLE: Discussion of Slater determinants and project 2 -->"
   ]
  },
  {
   "cell_type": "markdown",
   "id": "2ad9e214",
   "metadata": {
    "editable": true
   },
   "source": [
    "# Discussion of Slater determinants and project 2\n",
    "**Morten Hjorth-Jensen  Email morten.hjorth-jensen@fys.uio.no**, Department of Physics and Center fo Computing in Science Education, University of Oslo, Oslo, Norway and Department of Physics and Astronomy and Facility for Rare Ion Beams, Michigan State University, East Lansing, Michigan, USA\n",
    "\n",
    "Date: **April 15-19**"
   ]
  },
  {
   "cell_type": "markdown",
   "id": "120e87a1",
   "metadata": {
    "editable": true
   },
   "source": [
    "## Overview of week April 15-19\n",
    "\n",
    "1. Discussion of Slater determinants and project 2\n",
    "\n",
    "<!-- !bblock -->\n",
    "<!-- * [Video of lecture TBA](https://youtu.be/SibaquLChg8) -->\n",
    "<!-- * [Handwritten notes](https://github.com/CompPhysics/ComputationalPhysics2/blob/gh-pages/doc/HandWrittenNotes/2023/NotesApril20.pdf) -->\n",
    "<!-- !eblock -->"
   ]
  },
  {
   "cell_type": "markdown",
   "id": "8795d626",
   "metadata": {
    "editable": true
   },
   "source": [
    "## Project 2, VMC for fermions: Efficient calculation of Slater determinants\n",
    "The potentially most time-consuming part is the\n",
    "evaluation of the gradient and the Laplacian of an $N$-particle  Slater\n",
    "determinant. \n",
    "\n",
    "We have to differentiate the determinant with respect to\n",
    "all spatial coordinates of all particles. A brute force\n",
    "differentiation would involve $N\\cdot d$ evaluations of the entire\n",
    "determinant which would even worsen the already undesirable time\n",
    "scaling, making it $Nd\\cdot O(N^3)\\sim O(d\\cdot N^4)$.\n",
    "\n",
    "This poses serious hindrances to the overall efficiency of our code."
   ]
  },
  {
   "cell_type": "markdown",
   "id": "0c10281a",
   "metadata": {
    "editable": true
   },
   "source": [
    "## Matrix elements of Slater determinants\n",
    "The efficiency can be improved however if we move only one electron at the time.\n",
    "The Slater determinant matrix $\\hat{D}$ is defined by the matrix elements"
   ]
  },
  {
   "cell_type": "markdown",
   "id": "2e43a3bd",
   "metadata": {
    "editable": true
   },
   "source": [
    "$$\n",
    "d_{ij}=\\phi_j(x_i)\n",
    "$$"
   ]
  },
  {
   "cell_type": "markdown",
   "id": "c092f46d",
   "metadata": {
    "editable": true
   },
   "source": [
    "where $\\phi_j(\\mathbf{r}_i)$ is a single particle  wave function.\n",
    "The columns correspond to the position of a given particle \n",
    "while the rows stand for the various quantum numbers."
   ]
  },
  {
   "cell_type": "markdown",
   "id": "d2ee65bd",
   "metadata": {
    "editable": true
   },
   "source": [
    "## Efficient calculation of Slater determinants\n",
    "\n",
    "What we need to realize is that when differentiating a Slater\n",
    "determinant with respect to some given coordinate, only one row of the\n",
    "corresponding Slater matrix is changed. \n",
    "\n",
    "Therefore, by recalculating\n",
    "the whole determinant we risk producing redundant information. The\n",
    "solution turns out to be an algorithm that requires to keep track of\n",
    "the *inverse* of the Slater matrix."
   ]
  },
  {
   "cell_type": "markdown",
   "id": "d8313682",
   "metadata": {
    "editable": true
   },
   "source": [
    "## Efficient calculation of Slater determinants\n",
    "\n",
    "Let the current position in phase space be represented by the $(N\\cdot d)$-element \n",
    "vector $\\mathbf{r}^{\\mathrm{old}}$ and the new suggested\n",
    "position by the vector $\\mathbf{r}^{\\mathrm{new}}$.\n",
    "\n",
    "The inverse of $\\hat{D}$ can be expressed in terms of its\n",
    "cofactors $C_{ij}$ and its determinant (this our notation for a determinant) $\\vert\\hat{D}\\vert$:"
   ]
  },
  {
   "cell_type": "markdown",
   "id": "92eed6a8",
   "metadata": {
    "editable": true
   },
   "source": [
    "<!-- Equation labels as ordinary links -->\n",
    "<div id=\"eq:inverse_cofactor\"></div>\n",
    "\n",
    "$$\n",
    "\\begin{equation}\n",
    "d_{ij}^{-1} = \\frac{C_{ji}}{\\vert\\hat{D}\\vert}\n",
    "\\label{eq:inverse_cofactor} \\tag{1}\n",
    "\\end{equation}\n",
    "$$"
   ]
  },
  {
   "cell_type": "markdown",
   "id": "88a46a7b",
   "metadata": {
    "editable": true
   },
   "source": [
    "Notice that the interchanged indices indicate that the matrix of cofactors is to be transposed."
   ]
  },
  {
   "cell_type": "markdown",
   "id": "d19dcca5",
   "metadata": {
    "editable": true
   },
   "source": [
    "## Efficient calculation of Slater determinants\n",
    "If $\\hat{D}$ is invertible, then we must obviously have $\\hat{D}^{-1}\\hat{D}= \\mathbf{1}$, or explicitly in terms of the individual\n",
    "elements of $\\hat{D}$ and $\\hat{D}^{-1}$:"
   ]
  },
  {
   "cell_type": "markdown",
   "id": "beecbcea",
   "metadata": {
    "editable": true
   },
   "source": [
    "<!-- Equation labels as ordinary links -->\n",
    "<div id=\"eq:unity_explicitely\"></div>\n",
    "\n",
    "$$\n",
    "\\begin{equation}\n",
    "\\sum_{k=1}^N d_{ik}^{\\phantom X}d_{kj}^{-1} = \\delta_{ij}^{\\phantom X}\n",
    "\\label{eq:unity_explicitely} \\tag{2}\n",
    "\\end{equation}\n",
    "$$"
   ]
  },
  {
   "cell_type": "markdown",
   "id": "de454401",
   "metadata": {
    "editable": true
   },
   "source": [
    "## Efficient calculation of Slater determinants\n",
    "Consider the ratio, which we shall call $R$, between $\\vert\\hat{D}(\\mathbf{r}^{\\mathrm{new}})\\vert$ and $\\vert\\hat{D}(\\mathbf{r}^{\\mathrm{old}})\\vert$. \n",
    "By definition, each of these determinants can\n",
    "individually be expressed in terms of the *i*-th row of its cofactor\n",
    "matrix"
   ]
  },
  {
   "cell_type": "markdown",
   "id": "6766f6f3",
   "metadata": {
    "editable": true
   },
   "source": [
    "<!-- Equation labels as ordinary links -->\n",
    "<div id=\"eq:detratio_cofactors\"></div>\n",
    "\n",
    "$$\n",
    "\\begin{equation}\n",
    "R\\equiv\\frac{\\vert\\hat{D}(\\mathbf{r}^{\\mathrm{new}})\\vert}\n",
    "{\\vert\\hat{D}(\\mathbf{r}^{\\mathrm{old}})\\vert} =\n",
    "\\frac{\\sum_{j=1}^N d_{ij}(\\mathbf{r}^{\\mathrm{new}})\\,\n",
    "C_{ij}(\\mathbf{r}^{\\mathrm{new}})}\n",
    "{\\sum_{j=1}^N d_{ij}(\\mathbf{r}^{\\mathrm{old}})\\,\n",
    "C_{ij}(\\mathbf{r}^{\\mathrm{old}})}\n",
    "\\label{eq:detratio_cofactors} \\tag{3}\n",
    "\\end{equation}\n",
    "$$"
   ]
  },
  {
   "cell_type": "markdown",
   "id": "37634a99",
   "metadata": {
    "editable": true
   },
   "source": [
    "## Efficient calculation of Slater determinants\n",
    "Suppose now that we move only one particle  at a time, meaning that\n",
    "$\\mathbf{r}^{\\mathrm{new}}$ differs from $\\mathbf{r}^{\\mathrm{old}}$ by the\n",
    "position of only one, say the *i*-th, particle . This means that $\\hat{D}(\\mathbf{r}^{\\mathrm{new}})$ and $\\hat{D}(\\mathbf{r}^{\\mathrm{old}})$ differ\n",
    "only by the entries of the *i*-th row.  Recall also that the *i*-th row\n",
    "of a cofactor matrix $\\hat{C}$ is independent of the entries of the\n",
    "*i*-th row of its corresponding matrix $\\hat{D}$. In this particular\n",
    "case we therefore get that the *i*-th row of $\\hat{C}(\\mathbf{r}^{\\mathrm{new}})$ \n",
    "and $\\hat{C}(\\mathbf{r}^{\\mathrm{old}})$ must be\n",
    "equal. Explicitly, we have:"
   ]
  },
  {
   "cell_type": "markdown",
   "id": "eaffa218",
   "metadata": {
    "editable": true
   },
   "source": [
    "$$\n",
    "C_{ij}(\\mathbf{r}^{\\mathrm{new}}) = C_{ij}(\\mathbf{r}^{\\mathrm{old}})\\quad\n",
    "\\forall\\ j\\in\\{1,\\dots,N\\}\n",
    "$$"
   ]
  },
  {
   "cell_type": "markdown",
   "id": "fcd98813",
   "metadata": {
    "editable": true
   },
   "source": [
    "## Efficient calculation of Slater determinants\n",
    "Inserting this into the numerator of eq. ([3](#eq:detratio_cofactors))\n",
    "and using eq. ([1](#eq:inverse_cofactor)) to substitute the cofactors\n",
    "with the elements of the inverse matrix, we get:"
   ]
  },
  {
   "cell_type": "markdown",
   "id": "3a41a314",
   "metadata": {
    "editable": true
   },
   "source": [
    "$$\n",
    "R =\\frac{\\sum_{j=1}^N d_{ij}(\\mathbf{r}^{\\mathrm{new}})\\,\n",
    "C_{ij}(\\mathbf{r}^{\\mathrm{old}})}\n",
    "{\\sum_{j=1}^N d_{ij}(\\mathbf{r}^{\\mathrm{old}})\\,\n",
    "C_{ij}(\\mathbf{r}^{\\mathrm{old}})} =\n",
    "\\frac{\\sum_{j=1}^N d_{ij}(\\mathbf{r}^{\\mathrm{new}})\\,\n",
    "d_{ji}^{-1}(\\mathbf{r}^{\\mathrm{old}})}\n",
    "{\\sum_{j=1}^N d_{ij}(\\mathbf{r}^{\\mathrm{old}})\\,\n",
    "d_{ji}^{-1}(\\mathbf{r}^{\\mathrm{old}})}\n",
    "$$"
   ]
  },
  {
   "cell_type": "markdown",
   "id": "2d784ec4",
   "metadata": {
    "editable": true
   },
   "source": [
    "## Efficient calculation of Slater determinants\n",
    "\n",
    "Now by eq. ([2](#eq:unity_explicitely)) the denominator of the rightmost\n",
    "expression must be unity, so that we finally arrive at:"
   ]
  },
  {
   "cell_type": "markdown",
   "id": "39c1be07",
   "metadata": {
    "editable": true
   },
   "source": [
    "<!-- Equation labels as ordinary links -->\n",
    "<div id=\"eq:detratio_inverse\"></div>\n",
    "\n",
    "$$\n",
    "\\begin{equation}\n",
    "R =\n",
    "\\sum_{j=1}^N d_{ij}(\\mathbf{r}^{\\mathrm{new}})\\,\n",
    "d_{ji}^{-1}(\\mathbf{r}^{\\mathrm{old}}) = \n",
    "\\sum_{j=1}^N \\phi_j(\\mathbf{r}_i^{\\mathrm{new}})\\,\n",
    "d_{ji}^{-1}(\\mathbf{r}^{\\mathrm{old}})\n",
    "\\label{eq:detratio_inverse} \\tag{4}\n",
    "\\end{equation}\n",
    "$$"
   ]
  },
  {
   "cell_type": "markdown",
   "id": "face8880",
   "metadata": {
    "editable": true
   },
   "source": [
    "What this means is that in order to get the ratio when only the *i*-th\n",
    "particle  has been moved, we only need to calculate the dot\n",
    "product of the vector $\\left(\\phi_1(\\mathbf{r}_i^\\mathrm{new}),\\,\\dots,\\,\\phi_N(\\mathbf{r}_i^\\mathrm{new})\\right)$ of single particle  wave functions\n",
    "evaluated at this new position with the *i*-th column of the inverse\n",
    "matrix $\\hat{D}^{-1}$ evaluated at the original position. Such\n",
    "an operation has a time scaling of $O(N)$. The only extra thing we\n",
    "need to do is to maintain the inverse matrix $\\hat{D}^{-1}(\\mathbf{x}^{\\mathrm{old}})$."
   ]
  },
  {
   "cell_type": "markdown",
   "id": "61caef18",
   "metadata": {
    "editable": true
   },
   "source": [
    "## Efficient calculation of Slater determinants\n",
    "If the new position $\\mathbf{r}^{\\mathrm{new}}$ is accepted, then the\n",
    "inverse matrix can by suitably updated by an algorithm having a time\n",
    "scaling of $O(N^2)$.  This algorithm goes as\n",
    "follows. First we update all but the *i*-th column of $\\hat{D}^{-1}$. For each column $j\\neq i$, we first calculate the quantity:"
   ]
  },
  {
   "cell_type": "markdown",
   "id": "60939096",
   "metadata": {
    "editable": true
   },
   "source": [
    "<!-- Equation labels as ordinary links -->\n",
    "<div id=\"eq:inverse_update_1\"></div>\n",
    "\n",
    "$$\n",
    "S_j =\n",
    "(\\hat{D}(\\mathbf{r}^{\\mathrm{new}})\\times\n",
    "\\hat{D}^{-1}(\\mathbf{r}^{\\mathrm{old}}))_{ij} =\n",
    "\\sum_{l=1}^N d_{il}(\\mathbf{r}^{\\mathrm{new}})\\,\n",
    "d^{-1}_{lj}(\\mathbf{r}^{\\mathrm{old}})\n",
    "\\label{eq:inverse_update_1} \\tag{5}\n",
    "$$"
   ]
  },
  {
   "cell_type": "markdown",
   "id": "fbec2d64",
   "metadata": {
    "editable": true
   },
   "source": [
    "## Efficient calculation of Slater determinants\n",
    "The new elements of the *j*-th column of $\\hat{D}^{-1}$ are then given\n",
    "by:"
   ]
  },
  {
   "cell_type": "markdown",
   "id": "76c8dd12",
   "metadata": {
    "editable": true
   },
   "source": [
    "<!-- Equation labels as ordinary links -->\n",
    "<div id=\"eq:inverse_update_2\"></div>\n",
    "\n",
    "$$\n",
    "d_{kj}^{-1}(\\mathbf{r}^{\\mathrm{new}}) =\n",
    "d_{kj}^{-1}(\\mathbf{r}^{\\mathrm{old}}) -\n",
    "\\frac{S_j}{R}\\,d_{ki}^{-1}(\\mathbf{r}^{\\mathrm{old}})\\quad\n",
    "\\begin{array}{ll}\n",
    "\\forall\\ \\ k\\in\\{1,\\dots,N\\}\\\\j\\neq i\n",
    "\\end{array}\n",
    "\\label{eq:inverse_update_2} \\tag{6}\n",
    "$$"
   ]
  },
  {
   "cell_type": "markdown",
   "id": "7756950f",
   "metadata": {
    "editable": true
   },
   "source": [
    "## Efficient calculation of Slater determinants\n",
    "\n",
    "Finally the elements of the *i*-th column of $\\hat{D}^{-1}$ are updated\n",
    "simply as follows:"
   ]
  },
  {
   "cell_type": "markdown",
   "id": "40a72711",
   "metadata": {
    "editable": true
   },
   "source": [
    "<!-- Equation labels as ordinary links -->\n",
    "<div id=\"eq:inverse_update_3\"></div>\n",
    "\n",
    "$$\n",
    "d_{ki}^{-1}(\\mathbf{r}^{\\mathrm{new}}) =\n",
    "\\frac{1}{R}\\,d_{ki}^{-1}(\\mathbf{r}^{\\mathrm{old}})\\quad\n",
    "\\forall\\ \\ k\\in\\{1,\\dots,N\\}\n",
    "\\label{eq:inverse_update_3} \\tag{7}\n",
    "$$"
   ]
  },
  {
   "cell_type": "markdown",
   "id": "ed6a80b2",
   "metadata": {
    "editable": true
   },
   "source": [
    "We see from these formulas that the time scaling of an update of\n",
    "$\\hat{D}^{-1}$ after changing one row of $\\hat{D}$ is $O(N^2)$.\n",
    "\n",
    "The scheme is also applicable for the calculation of the ratios\n",
    "involving derivatives. It turns\n",
    "out that differentiating the Slater determinant with respect\n",
    "to the coordinates of a single particle  $\\mathbf{r}_i$ changes only the\n",
    "*i*-th row of the corresponding Slater matrix."
   ]
  },
  {
   "cell_type": "markdown",
   "id": "fc66e7cb",
   "metadata": {
    "editable": true
   },
   "source": [
    "## The gradient and the Laplacian\n",
    "The gradient and the Laplacian can therefore be calculated as follows:"
   ]
  },
  {
   "cell_type": "markdown",
   "id": "ce6c3664",
   "metadata": {
    "editable": true
   },
   "source": [
    "$$\n",
    "\\frac{\\vec\\nabla_i\\vert\\hat{D}(\\mathbf{r})\\vert}{\\vert\\hat{D}(\\mathbf{r})\\vert} =\n",
    "\\sum_{j=1}^N \\vec\\nabla_i d_{ij}(\\mathbf{r})d_{ji}^{-1}(\\mathbf{r}) =\n",
    "\\sum_{j=1}^N \\vec\\nabla_i \\phi_j(\\mathbf{r}_i)d_{ji}^{-1}(\\mathbf{r})\n",
    "$$"
   ]
  },
  {
   "cell_type": "markdown",
   "id": "05f882fd",
   "metadata": {
    "editable": true
   },
   "source": [
    "and"
   ]
  },
  {
   "cell_type": "markdown",
   "id": "ec9b4c26",
   "metadata": {
    "editable": true
   },
   "source": [
    "$$\n",
    "\\frac{\\nabla^2_i\\vert\\hat{D}(\\mathbf{r})\\vert}{\\vert\\hat{D}(\\mathbf{r})\\vert} =\n",
    "\\sum_{j=1}^N \\nabla^2_i d_{ij}(\\mathbf{r})d_{ji}^{-1}(\\mathbf{r}) =\n",
    "\\sum_{j=1}^N \\nabla^2_i \\phi_j(\\mathbf{r}_i)\\,d_{ji}^{-1}(\\mathbf{r})\n",
    "$$"
   ]
  },
  {
   "cell_type": "markdown",
   "id": "f5dc7d81",
   "metadata": {
    "editable": true
   },
   "source": [
    "## How to compute the derivates of the Slater determinant\n",
    "\n",
    "Thus, to calculate all the derivatives of the Slater determinant, we\n",
    "only need the derivatives of the single particle  wave functions\n",
    "($\\vec\\nabla_i \\phi_j(\\mathbf{r}_i)$ and $\\nabla^2_i \\phi_j(\\mathbf{r}_i)$)\n",
    "and the elements of the corresponding inverse Slater matrix ($\\hat{D}^{-1}(\\mathbf{r}_i)$). A calculation of a single derivative is by the\n",
    "above result an $O(N)$ operation. Since there are $d\\cdot N$\n",
    "derivatives, the time scaling of the total evaluation becomes\n",
    "$O(d\\cdot N^2)$. With an $O(N^2)$ updating algorithm for the\n",
    "inverse matrix, the total scaling is no worse, which is far better\n",
    "than the brute force approach yielding $O(d\\cdot N^4)$.\n",
    "\n",
    "**Important note**: In most cases you end with closed form expressions for the single-particle  wave functions. It is then useful to calculate the various derivatives and make separate functions\n",
    "for them."
   ]
  },
  {
   "cell_type": "markdown",
   "id": "eddbdb3f",
   "metadata": {
    "editable": true
   },
   "source": [
    "## The Slater determinant, example\n",
    "\n",
    "The Slater determinant for atomic Beryllium could for example take the form"
   ]
  },
  {
   "cell_type": "markdown",
   "id": "68528517",
   "metadata": {
    "editable": true
   },
   "source": [
    "$$\n",
    "\\Phi(\\mathbf{r}_1,\\mathbf{r}_2,,\\mathbf{r}_3,\\mathbf{r}_4, \\alpha,\\beta,\\gamma,\\delta)=\\frac{1}{\\sqrt{4!}}\n",
    "\\left| \\begin{array}{cccc} \\psi_{100\\uparrow}(\\mathbf{r}_1)& \\psi_{100\\uparrow}(\\mathbf{r}_2)& \\psi_{100\\uparrow}(\\mathbf{r}_3)&\\psi_{100\\uparrow}(\\mathbf{r}_4) \\\\\n",
    "\\psi_{100\\downarrow}(\\mathbf{r}_1)& \\psi_{100\\downarrow}(\\mathbf{r}_2)& \\psi_{100\\downarrow}(\\mathbf{r}_3)&\\psi_{100\\downarrow}(\\mathbf{r}_4) \\\\\n",
    "\\psi_{200\\uparrow}(\\mathbf{r}_1)& \\psi_{200\\uparrow}(\\mathbf{r}_2)& \\psi_{200\\uparrow}(\\mathbf{r}_3)&\\psi_{200\\uparrow}(\\mathbf{r}_4) \\\\\n",
    "\\psi_{200\\downarrow}(\\mathbf{r}_1)& \\psi_{200\\downarrow}(\\mathbf{r}_2)& \\psi_{200\\downarrow}(\\mathbf{r}_3)&\\psi_{200\\downarrow}(\\mathbf{r}_4) \\end{array} \\right|.\n",
    "$$"
   ]
  },
  {
   "cell_type": "markdown",
   "id": "4a8f64b3",
   "metadata": {
    "editable": true
   },
   "source": [
    "This expression can lead to problems when we omit the spin degrees of freedom, as is common in for example many atomic physics calculations. \n",
    "Leaving out the spin degrees of freedom, the problem we may encounter is that of zero determinants.\n",
    "But we can rewrite it as the product of two Slater determinants, one for spin up and one for spin down."
   ]
  },
  {
   "cell_type": "markdown",
   "id": "8f764708",
   "metadata": {
    "editable": true
   },
   "source": [
    "## Rewriting the Slater determinant\n",
    "We can rewrite it as"
   ]
  },
  {
   "cell_type": "markdown",
   "id": "2ea33e20",
   "metadata": {
    "editable": true
   },
   "source": [
    "$$\n",
    "\\Phi(\\mathbf{r}_1,\\mathbf{r}_2,,\\mathbf{r}_3,\\mathbf{r}_4, \\alpha,\\beta,\\gamma,\\delta)=\\det\\uparrow(1,2)\\det\\downarrow(3,4)-\\det\\uparrow(1,3)\\det\\downarrow(2,4)\n",
    "$$"
   ]
  },
  {
   "cell_type": "markdown",
   "id": "9f8bff4e",
   "metadata": {
    "editable": true
   },
   "source": [
    "$$\n",
    "-\\det\\uparrow(1,4)\\det\\downarrow(3,2)+\\det\\uparrow(2,3)\\det\\downarrow(1,4)-\\det\\uparrow(2,4)\\det\\downarrow(1,3)\n",
    "$$"
   ]
  },
  {
   "cell_type": "markdown",
   "id": "6758c998",
   "metadata": {
    "editable": true
   },
   "source": [
    "$$\n",
    "+\\det\\uparrow(3,4)\\det\\downarrow(1,2),\n",
    "$$"
   ]
  },
  {
   "cell_type": "markdown",
   "id": "cc68b300",
   "metadata": {
    "editable": true
   },
   "source": [
    "where we have defined"
   ]
  },
  {
   "cell_type": "markdown",
   "id": "e36c72da",
   "metadata": {
    "editable": true
   },
   "source": [
    "$$\n",
    "\\det\\uparrow(1,2)=\\frac{1}{\\sqrt{2}}\\left| \\begin{array}{cc} \\psi_{100\\uparrow}(\\mathbf{r}_1)& \\psi_{100\\uparrow}(\\mathbf{r}_2)\\\\\n",
    "\\psi_{200\\uparrow}(\\mathbf{r}_1)& \\psi_{200\\uparrow}(\\mathbf{r}_2) \\end{array} \\right|,\n",
    "$$"
   ]
  },
  {
   "cell_type": "markdown",
   "id": "9d9b4fdc",
   "metadata": {
    "editable": true
   },
   "source": [
    "and"
   ]
  },
  {
   "cell_type": "markdown",
   "id": "57fb189d",
   "metadata": {
    "editable": true
   },
   "source": [
    "$$\n",
    "\\det\\downarrow(3,4)=\\frac{1}{\\sqrt{2}}\\left| \\begin{array}{cc} \\psi_{100\\downarrow}(\\mathbf{r}_3)& \\psi_{100\\downarrow}(\\mathbf{r}_4)\\\\\n",
    "\\psi_{200\\downarrow}(\\mathbf{r}_3)& \\psi_{200\\downarrow}(\\mathbf{r}_4) \\end{array} \\right|.\n",
    "$$"
   ]
  },
  {
   "cell_type": "markdown",
   "id": "28e72c3c",
   "metadata": {
    "editable": true
   },
   "source": [
    "Note that if we again leave out the spin degrees of freedom, the  determinant is still zero!"
   ]
  },
  {
   "cell_type": "markdown",
   "id": "6a2a9b12",
   "metadata": {
    "editable": true
   },
   "source": [
    "## Splitting the Slater determinant\n",
    "\n",
    "We want to avoid to sum over spin variables, in particular when the interaction does not depend on spin.\n",
    "\n",
    "It can be shown, see for example Moskowitz and Kalos, [Int. J. Quantum Chem. **20** 1107 (1981)](http://onlinelibrary.wiley.com/doi/10.1002/qua.560200508/abstract), that for the variational energy\n",
    "we can approximate the Slater determinant as"
   ]
  },
  {
   "cell_type": "markdown",
   "id": "bcd332b1",
   "metadata": {
    "editable": true
   },
   "source": [
    "$$\n",
    "\\Phi(\\mathbf{r}_1,\\mathbf{r}_2,,\\mathbf{r}_3,\\mathbf{r}_4, \\alpha,\\beta,\\gamma,\\delta) \\propto \\det\\uparrow(1,2)\\det\\downarrow(3,4),\n",
    "$$"
   ]
  },
  {
   "cell_type": "markdown",
   "id": "843e824c",
   "metadata": {
    "editable": true
   },
   "source": [
    "or more generally as"
   ]
  },
  {
   "cell_type": "markdown",
   "id": "31134795",
   "metadata": {
    "editable": true
   },
   "source": [
    "$$\n",
    "\\Phi(\\mathbf{r}_1,\\mathbf{r}_2,\\dots \\mathbf{r}_N) \\propto \\det\\uparrow \\det\\downarrow,\n",
    "$$"
   ]
  },
  {
   "cell_type": "markdown",
   "id": "afd2ceb9",
   "metadata": {
    "editable": true
   },
   "source": [
    "where we have the Slater determinant as the product of a spin up part involving the number of electrons with spin up only (2 for beryllium and 5 for neon) and a spin down part involving the electrons with spin down."
   ]
  },
  {
   "cell_type": "markdown",
   "id": "e1f78bbb",
   "metadata": {
    "editable": true
   },
   "source": [
    "## Not respecting the symmetry\n",
    "\n",
    "This ansatz is not antisymmetric under the exchange of electrons with\n",
    "opposite spins but it can be shown (show this) that it gives the same\n",
    "expectation value for the energy as the full Slater determinant.\n",
    "\n",
    "As long as the Hamiltonian is spin independent, the above approach\n",
    "gives us the same expectation value for the energy. It is rather\n",
    "straightforward to see this if you go back to the equations for the\n",
    "energy. We leave this as an exercise to the eager reader.\n",
    "\n",
    "Can you think of observables where not respecting the symmetry can have consequences?"
   ]
  },
  {
   "cell_type": "markdown",
   "id": "ac2d3178",
   "metadata": {
    "editable": true
   },
   "source": [
    "## Omitting or not omitting spin degrees of freedom\n",
    "\n",
    "If we keep the spin degrees of freedom, which obviously leads to a\n",
    "more general code, we would need to flip spins as well and deal with\n",
    "the full Slater determinant.  The above recipe is just a mere\n",
    "simplification to a case where we have identical particles, the same\n",
    "spatial single-particle functions and the same number of spin-up and\n",
    "spin-down fermions."
   ]
  },
  {
   "cell_type": "markdown",
   "id": "18ae04c4",
   "metadata": {
    "editable": true
   },
   "source": [
    "## Restricted versus unrestricted\n",
    "\n",
    "This is a situation which one encounters in for example a fermionic\n",
    "system like a closed-shell nucleus like oxygen-16 or a neutral noble\n",
    "gas like helium or neon with the same number of spin-up and spin-down\n",
    "orbitals and the same spatial single-particle functions. The example\n",
    "discussed above for neutral Beryllium where we fill the hydrogen-like\n",
    "states $1s$ and $2s$, is yet another case.\n",
    "\n",
    "For those of you familiar with Hartree-Fock theory, this is often\n",
    "referred to as **restricted** Hartree-Fock theory. Unrestricted\n",
    "Hartree-Fock theory represents then the more general case."
   ]
  },
  {
   "cell_type": "markdown",
   "id": "5d4e3c17",
   "metadata": {
    "editable": true
   },
   "source": [
    "## Spin up and spin down parts\n",
    "\n",
    "The systems we will limit ourselves to, are all systems which can be described by a restricted basis set,\n",
    "We will thus\n",
    "factorize the full determinant $\\vert\\hat{D}\\vert$ into two smaller ones, where \n",
    "each can be identified with $\\uparrow$ and $\\downarrow$\n",
    "respectively:"
   ]
  },
  {
   "cell_type": "markdown",
   "id": "8118f1c8",
   "metadata": {
    "editable": true
   },
   "source": [
    "$$\n",
    "\\vert\\hat{D}\\vert = \\vert\\hat{D}\\vert_\\uparrow\\cdot \\vert\\hat{D}\\vert_\\downarrow\n",
    "$$"
   ]
  },
  {
   "cell_type": "markdown",
   "id": "9cd93491",
   "metadata": {
    "editable": true
   },
   "source": [
    "## Factorization\n",
    "The combined dimensionality of the two smaller determinants equals the\n",
    "dimensionality of the full determinant. Such a factorization is\n",
    "advantageous in that it makes it possible to perform the calculation\n",
    "of the ratio $R$ and the updating of the inverse matrix separately for\n",
    "$\\vert\\hat{D}\\vert_\\uparrow$ and $\\vert\\hat{D}\\vert_\\downarrow$:"
   ]
  },
  {
   "cell_type": "markdown",
   "id": "4ee31eab",
   "metadata": {
    "editable": true
   },
   "source": [
    "$$\n",
    "\\frac{\\vert\\hat{D}\\vert^\\mathrm{new}}{\\vert\\hat{D}\\vert^\\mathrm{old}} =\n",
    "\\frac{\\vert\\hat{D}\\vert^\\mathrm{new}_\\uparrow}\n",
    "{\\vert\\hat{D}\\vert^\\mathrm{old}_\\uparrow}\\cdot\n",
    "\\frac{\\vert\\hat{D}\\vert^\\mathrm{new}_\\downarrow\n",
    "}{\\vert\\hat{D}\\vert^\\mathrm{old}_\\downarrow}\n",
    "$$"
   ]
  },
  {
   "cell_type": "markdown",
   "id": "f6fce12d",
   "metadata": {
    "editable": true
   },
   "source": [
    "This reduces the calculation time by a constant factor. The maximal\n",
    "time reduction happens in a system of equal numbers of $\\uparrow$ and\n",
    "$\\downarrow$ particles, so that the two factorized determinants are\n",
    "half the size of the original one."
   ]
  },
  {
   "cell_type": "markdown",
   "id": "7d2ceb04",
   "metadata": {
    "editable": true
   },
   "source": [
    "## Number of operations\n",
    "Consider the case of moving only one particle  at a time which\n",
    "originally had the following time scaling for one transition:"
   ]
  },
  {
   "cell_type": "markdown",
   "id": "253813ad",
   "metadata": {
    "editable": true
   },
   "source": [
    "$$\n",
    "O_R(N)+O_\\mathrm{inverse}(N^2)\n",
    "$$"
   ]
  },
  {
   "cell_type": "markdown",
   "id": "fbf7400a",
   "metadata": {
    "editable": true
   },
   "source": [
    "For the factorized determinants one of the two determinants is\n",
    "obviously unaffected by the change so that it cancels from the ratio\n",
    "$R$."
   ]
  },
  {
   "cell_type": "markdown",
   "id": "88f789f3",
   "metadata": {
    "editable": true
   },
   "source": [
    "## Counting the number of FLOPS\n",
    "Therefore, only one determinant of size $N/2$ is involved in each\n",
    "calculation of $R$ and update of the inverse matrix. The scaling of\n",
    "each transition then becomes:"
   ]
  },
  {
   "cell_type": "markdown",
   "id": "603723af",
   "metadata": {
    "editable": true
   },
   "source": [
    "$$\n",
    "O_R(N/2)+O_\\mathrm{inverse}(N^2/4)\n",
    "$$"
   ]
  },
  {
   "cell_type": "markdown",
   "id": "155f0437",
   "metadata": {
    "editable": true
   },
   "source": [
    "and the time scaling when the transitions for all $N$ particles are\n",
    "put together:"
   ]
  },
  {
   "cell_type": "markdown",
   "id": "08c8b321",
   "metadata": {
    "editable": true
   },
   "source": [
    "$$\n",
    "O_R(N^2/2)+O_\\mathrm{inverse}(N^3/4)\n",
    "$$"
   ]
  },
  {
   "cell_type": "markdown",
   "id": "a9cf41e2",
   "metadata": {
    "editable": true
   },
   "source": [
    "which gives the same reduction as in the case of moving all particles\n",
    "at once."
   ]
  },
  {
   "cell_type": "markdown",
   "id": "27697650",
   "metadata": {
    "editable": true
   },
   "source": [
    "## Computation of ratios\n",
    "\n",
    "Computing the ratios discussed above requires that we maintain \n",
    "the inverse of the Slater matrix evaluated at the current position. \n",
    "Each time a trial position is accepted, the row number $i$ of the Slater \n",
    "matrix changes and updating its inverse has to be carried out. \n",
    "Getting the inverse of an $N \\times N$ matrix by Gaussian elimination has a \n",
    "complexity of order of $\\mathcal{O}(N^3)$ operations, a luxury that we \n",
    "cannot afford for each time a particle  move is accepted.\n",
    "We will use the expression"
   ]
  },
  {
   "cell_type": "markdown",
   "id": "98ab61ea",
   "metadata": {
    "editable": true
   },
   "source": [
    "<!-- Equation labels as ordinary links -->\n",
    "<div id=\"updatingInverse\"></div>\n",
    "\n",
    "$$\n",
    "\\label{updatingInverse} \\tag{8}\n",
    "d^{-1}_{kj}(\\mathbf{x^{new}}) = \\left\\{\\begin{array}{l l}\n",
    "  d^{-1}_{kj}(\\mathbf{x^{old}}) - \\frac{d^{-1}_{ki}(\\mathbf{x^{old}})}{R} \\sum_{l=1}^{N} d_{il}(\\mathbf{x^{new}})  d^{-1}_{lj}(\\mathbf{x^{old}}) & \\mbox{if $j \\neq i$}\\nonumber \\\\ \\\\\n",
    " \\frac{d^{-1}_{ki}(\\mathbf{x^{old}})}{R} \\sum_{l=1}^{N} d_{il}(\\mathbf{x^{old}}) d^{-1}_{lj}(\\mathbf{x^{old}}) & \\mbox{if $j=i$}\n",
    "\\end{array} \\right.\n",
    "$$"
   ]
  },
  {
   "cell_type": "markdown",
   "id": "fb729f2e",
   "metadata": {
    "editable": true
   },
   "source": [
    "## Scaling properties\n",
    "This equation scales as $O(N^2)$.\n",
    "The evaluation of the determinant of an $N \\times N$ matrix by standard Gaussian elimination \n",
    "requires $\\mathbf{O}(N^3)$\n",
    "calculations. \n",
    "As there are $Nd$ independent coordinates we need to evaluate $Nd$ Slater determinants \n",
    "for the gradient (quantum force) and $Nd$ for the Laplacian (kinetic energy). \n",
    "With the updating algorithm we need only to invert the Slater \n",
    "determinant matrix once. This can be done by standard LU decomposition methods."
   ]
  },
  {
   "cell_type": "markdown",
   "id": "0a926074",
   "metadata": {
    "editable": true
   },
   "source": [
    "## How to get the determinant\n",
    "Determining a determinant of an $N \\times N$ matrix by\n",
    "standard Gaussian elimination is of the order of $\\mathbf{O}(N^3)$\n",
    "calculations. As there are $N\\cdot d$ independent coordinates we need\n",
    "to evaluate $Nd$ Slater determinants for the gradient (quantum force) and\n",
    "$N\\cdot d$ for the Laplacian (kinetic energy)\n",
    "\n",
    "With the updating algorithm we need only to invert the Slater determinant matrix once.\n",
    "This is done by calling standard LU decomposition methods."
   ]
  },
  {
   "cell_type": "markdown",
   "id": "c8e43961",
   "metadata": {
    "editable": true
   },
   "source": [
    "## Expectation value of the kinetic energy\n",
    "The expectation value of the kinetic energy expressed in atomic units for electron $i$ is"
   ]
  },
  {
   "cell_type": "markdown",
   "id": "e235466a",
   "metadata": {
    "editable": true
   },
   "source": [
    "$$\n",
    "\\langle \\hat{K}_i \\rangle = -\\frac{1}{2}\\frac{\\langle\\Psi|\\nabla_{i}^2|\\Psi \\rangle}{\\langle\\Psi|\\Psi \\rangle},\n",
    "$$"
   ]
  },
  {
   "cell_type": "markdown",
   "id": "9e0e94bc",
   "metadata": {
    "editable": true
   },
   "source": [
    "<!-- Equation labels as ordinary links -->\n",
    "<div id=\"kineticE\"></div>\n",
    "\n",
    "$$\n",
    "\\label{kineticE} \\tag{9}\n",
    "K_i = -\\frac{1}{2}\\frac{\\nabla_{i}^{2} \\Psi}{\\Psi}.\n",
    "$$"
   ]
  },
  {
   "cell_type": "markdown",
   "id": "8fc072e4",
   "metadata": {
    "editable": true
   },
   "source": [
    "$$\n",
    "\\frac{\\nabla^2 \\Psi}{\\Psi}  =  \\frac{\\nabla^2 ({\\Psi_{D} \\,  \\Psi_C})}{\\Psi_{D} \\,  \\Psi_C} = \\frac{\\nabla  \\cdot [\\nabla  {(\\Psi_{D} \\,  \\Psi_C)}]}{\\Psi_{D} \\,  \\Psi_C} = \\frac{\\nabla  \\cdot [ \\Psi_C \\nabla  \\Psi_{D} + \\Psi_{D} \\nabla   \\Psi_C]}{\\Psi_{D} \\,  \\Psi_C}\\nonumber\n",
    "$$"
   ]
  },
  {
   "cell_type": "markdown",
   "id": "e1ea1b39",
   "metadata": {
    "editable": true
   },
   "source": [
    "$$\n",
    "=  \\frac{\\nabla   \\Psi_C \\cdot \\nabla  \\Psi_{D} +  \\Psi_C \\nabla^2 \\Psi_{D} + \\nabla  \\Psi_{D} \\cdot \\nabla   \\Psi_C + \\Psi_{D} \\nabla^2  \\Psi_C}{\\Psi_{D} \\,  \\Psi_C}\\nonumber\n",
    "$$"
   ]
  },
  {
   "cell_type": "markdown",
   "id": "f9db72c1",
   "metadata": {
    "editable": true
   },
   "source": [
    "<!-- Equation labels as ordinary links -->\n",
    "<div id=\"_auto1\"></div>\n",
    "\n",
    "$$\n",
    "\\begin{equation} \n",
    "\\label{_auto1} \\tag{10}\n",
    "\\end{equation}\n",
    "$$"
   ]
  },
  {
   "cell_type": "markdown",
   "id": "86a1565f",
   "metadata": {
    "editable": true
   },
   "source": [
    "<!-- Equation labels as ordinary links -->\n",
    "<div id=\"_auto2\"></div>\n",
    "\n",
    "$$\n",
    "\\begin{equation}\n",
    "\\frac{\\nabla^2 \\Psi}{\\Psi}\n",
    " =  \\frac{\\nabla^2 \\Psi_{D}}{\\Psi_{D}} + \\frac{\\nabla^2  \\Psi_C}{ \\Psi_C} + 2 \\frac{\\nabla  \\Psi_{D}}{\\Psi_{D}}\\cdot\\frac{\\nabla   \\Psi_C}{ \\Psi_C}\n",
    "\\label{_auto2} \\tag{11}\n",
    "\\end{equation}\n",
    "$$"
   ]
  },
  {
   "cell_type": "markdown",
   "id": "07c6f907",
   "metadata": {
    "editable": true
   },
   "source": [
    "## Second derivative of the Jastrow factor\n",
    "\n",
    "The second derivative of the Jastrow factor divided by the Jastrow factor (the way it enters the kinetic energy) is"
   ]
  },
  {
   "cell_type": "markdown",
   "id": "d0b9a1fc",
   "metadata": {
    "editable": true
   },
   "source": [
    "$$\n",
    "\\left[\\frac{\\nabla^2 \\Psi_C}{\\Psi_C}\\right]_x =\\  \n",
    "2\\sum_{k=1}^{N}\n",
    "\\sum_{i=1}^{k-1}\\frac{\\partial^2 g_{ik}}{\\partial x_k^2}\\ +\\ \n",
    "\\sum_{k=1}^N\n",
    "\\left(\n",
    "\\sum_{i=1}^{k-1}\\frac{\\partial g_{ik}}{\\partial x_k} -\n",
    "\\sum_{i=k+1}^{N}\\frac{\\partial g_{ki}}{\\partial x_i}\n",
    "\\right)^2\n",
    "$$"
   ]
  },
  {
   "cell_type": "markdown",
   "id": "223cf120",
   "metadata": {
    "editable": true
   },
   "source": [
    "## Functional form\n",
    "But we have a simple form for the function, namely"
   ]
  },
  {
   "cell_type": "markdown",
   "id": "a98ee78f",
   "metadata": {
    "editable": true
   },
   "source": [
    "$$\n",
    "\\Psi_{C}=\\prod_{i< j}\\exp{f(r_{ij})}= \\exp{\\left\\{\\sum_{i<j}\\frac{ar_{ij}}{1+\\beta r_{ij}}\\right\\}},\n",
    "$$"
   ]
  },
  {
   "cell_type": "markdown",
   "id": "f7feb8f2",
   "metadata": {
    "editable": true
   },
   "source": [
    "and it is easy to see that for particle  $k$\n",
    "we have"
   ]
  },
  {
   "cell_type": "markdown",
   "id": "d1678087",
   "metadata": {
    "editable": true
   },
   "source": [
    "$$\n",
    "\\frac{\\nabla^2_k \\Psi_C}{\\Psi_C }=\n",
    "\\sum_{ij\\ne k}\\frac{(\\mathbf{r}_k-\\mathbf{r}_i)(\\mathbf{r}_k-\\mathbf{r}_j)}{r_{ki}r_{kj}}f'(r_{ki})f'(r_{kj})+\n",
    "\\sum_{j\\ne k}\\left( f''(r_{kj})+\\frac{2}{r_{kj}}f'(r_{kj})\\right)\n",
    "$$"
   ]
  },
  {
   "cell_type": "markdown",
   "id": "b23983fc",
   "metadata": {
    "editable": true
   },
   "source": [
    "## Second derivative of the Jastrow factor\n",
    "Using"
   ]
  },
  {
   "cell_type": "markdown",
   "id": "eb8daa5f",
   "metadata": {
    "editable": true
   },
   "source": [
    "$$\n",
    "f(r_{ij})= \\frac{ar_{ij}}{1+\\beta r_{ij}},\n",
    "$$"
   ]
  },
  {
   "cell_type": "markdown",
   "id": "e70a4e32",
   "metadata": {
    "editable": true
   },
   "source": [
    "and $g'(r_{kj})=dg(r_{kj})/dr_{kj}$ and \n",
    "$g''(r_{kj})=d^2g(r_{kj})/dr_{kj}^2$  we find that for particle  $k$\n",
    "we have"
   ]
  },
  {
   "cell_type": "markdown",
   "id": "d8f2ba92",
   "metadata": {
    "editable": true
   },
   "source": [
    "$$\n",
    "\\frac{\\nabla^2_k \\Psi_C}{\\Psi_C }=\n",
    "\\sum_{ij\\ne k}\\frac{(\\mathbf{r}_k-\\mathbf{r}_i)(\\mathbf{r}_k-\\mathbf{r}_j)}{r_{ki}r_{kj}}\\frac{a}{(1+\\beta r_{ki})^2}\n",
    "\\frac{a}{(1+\\beta r_{kj})^2}+\n",
    "\\sum_{j\\ne k}\\left(\\frac{2a}{r_{kj}(1+\\beta r_{kj})^2}-\\frac{2a\\beta}{(1+\\beta r_{kj})^3}\\right)\n",
    "$$"
   ]
  },
  {
   "cell_type": "markdown",
   "id": "18f39541",
   "metadata": {
    "editable": true
   },
   "source": [
    "## Gradient and Laplacian\n",
    "The gradient and\n",
    "Laplacian can be calculated as follows:"
   ]
  },
  {
   "cell_type": "markdown",
   "id": "d40e1184",
   "metadata": {
    "editable": true
   },
   "source": [
    "$$\n",
    "\\frac{\\mathbf{\\nabla}_i\\vert\\hat{D}(\\mathbf{r})\\vert}\n",
    "{\\vert\\hat{D}(\\mathbf{r})\\vert} =\n",
    "\\sum_{j=1}^N \\vec\\nabla_i d_{ij}(\\mathbf{r})\\,\n",
    "d_{ji}^{-1}(\\mathbf{r}) =\n",
    "\\sum_{j=1}^N \\vec\\nabla_i \\phi_j(\\mathbf{r}_i)\\,\n",
    "d_{ji}^{-1}(\\mathbf{r})\n",
    "$$"
   ]
  },
  {
   "cell_type": "markdown",
   "id": "e7bee80c",
   "metadata": {
    "editable": true
   },
   "source": [
    "and"
   ]
  },
  {
   "cell_type": "markdown",
   "id": "6549c11c",
   "metadata": {
    "editable": true
   },
   "source": [
    "$$\n",
    "\\frac{\\nabla^2_i\\vert\\hat{D}(\\mathbf{r})\\vert}\n",
    "{\\vert\\hat{D}(\\mathbf{r})\\vert} =\n",
    "\\sum_{j=1}^N \\nabla^2_i d_{ij}(\\mathbf{r})\\,\n",
    "d_{ji}^{-1}(\\mathbf{r}) =\n",
    "\\sum_{j=1}^N \\nabla^2_i \\phi_j(\\mathbf{r}_i)\\,\n",
    "d_{ji}^{-1}(\\mathbf{r})\n",
    "$$"
   ]
  },
  {
   "cell_type": "markdown",
   "id": "a331326b",
   "metadata": {
    "editable": true
   },
   "source": [
    "## The gradient for the determinant\n",
    "The gradient for the determinant is"
   ]
  },
  {
   "cell_type": "markdown",
   "id": "a9ae6666",
   "metadata": {
    "editable": true
   },
   "source": [
    "$$\n",
    "\\frac{\\mathbf{\\nabla}_i\\vert\\hat{D}(\\mathbf{r})\\vert}\n",
    "{\\vert\\hat{D}(\\mathbf{r})\\vert} =\n",
    "\\sum_{j=1}^N \\mathbf{\\nabla}_i d_{ij}(\\mathbf{r})\\,\n",
    "d_{ji}^{-1}(\\mathbf{r}) =\n",
    "\\sum_{j=1}^N \\mathbf{\\nabla}_i \\phi_j(\\mathbf{r}_i)\\,\n",
    "d_{ji}^{-1}(\\mathbf{r}).\n",
    "$$"
   ]
  },
  {
   "cell_type": "markdown",
   "id": "fc03fd38",
   "metadata": {
    "editable": true
   },
   "source": [
    "## Jastrow gradient in quantum force\n",
    "We have"
   ]
  },
  {
   "cell_type": "markdown",
   "id": "2e444cad",
   "metadata": {
    "editable": true
   },
   "source": [
    "$$\n",
    "\\Psi_C=\\prod_{i< j}g(r_{ij})= \\exp{\\left\\{\\sum_{i<j}\\frac{ar_{ij}}{1+\\beta r_{ij}}\\right\\}},\n",
    "$$"
   ]
  },
  {
   "cell_type": "markdown",
   "id": "0d34049a",
   "metadata": {
    "editable": true
   },
   "source": [
    "the gradient needed for the quantum force and local energy is easy to compute.  \n",
    "We get for particle  $k$"
   ]
  },
  {
   "cell_type": "markdown",
   "id": "0110a8fc",
   "metadata": {
    "editable": true
   },
   "source": [
    "$$\n",
    "\\frac{ \\nabla_k \\Psi_C}{ \\Psi_C }= \\sum_{j\\ne k}\\frac{\\mathbf{r}_{kj}}{r_{kj}}\\frac{a}{(1+\\beta r_{kj})^2},\n",
    "$$"
   ]
  },
  {
   "cell_type": "markdown",
   "id": "5334cc8d",
   "metadata": {
    "editable": true
   },
   "source": [
    "which is rather easy to code.  Remember to sum over all particles  when you compute the local energy."
   ]
  },
  {
   "cell_type": "markdown",
   "id": "80e82880",
   "metadata": {
    "editable": true
   },
   "source": [
    "## Metropolis Hastings part\n",
    "We need to compute the ratio between wave functions, in particular  for the Slater determinants."
   ]
  },
  {
   "cell_type": "markdown",
   "id": "8bd704f6",
   "metadata": {
    "editable": true
   },
   "source": [
    "$$\n",
    "R =\\sum_{j=1}^N d_{ij}(\\mathbf{r}^{\\mathrm{new}})\\,\n",
    "d_{ji}^{-1}(\\mathbf{r}^{\\mathrm{old}}) = \n",
    "\\sum_{j=1}^N \\phi_j(\\mathbf{r}_i^{\\mathrm{new}})\\,\n",
    "d_{ji}^{-1}(\\mathbf{r}^{\\mathrm{old}})\n",
    "$$"
   ]
  },
  {
   "cell_type": "markdown",
   "id": "dd4ee685",
   "metadata": {
    "editable": true
   },
   "source": [
    "What this means is that in order to get the ratio when only the *i*-th\n",
    "particle  has been moved, we only need to calculate the dot\n",
    "product of the vector $\\left(\\phi_1(\\mathbf{r}_i^\\mathrm{new}),\\,\\dots,\\,\n",
    "\\phi_N(\\mathbf{r}_i^\\mathrm{new})\\right)$ of single particle  wave functions\n",
    "evaluated at this new position with the *i*-th column of the inverse\n",
    "matrix $\\hat{D}^{-1}$ evaluated at the original position. Such\n",
    "an operation has a time scaling of $O(N)$. The only extra thing we\n",
    "need to do is to maintain the inverse matrix \n",
    "$\\hat{D}^{-1}(\\mathbf{x}^{\\mathrm{old}})$."
   ]
  },
  {
   "cell_type": "markdown",
   "id": "1c2fe744",
   "metadata": {
    "editable": true
   },
   "source": [
    "## Proof for updating algorithm for Slater determinant\n",
    "As a starting point we may consider that each time a new position is suggested in the Metropolis algorithm, a row of the current Slater matrix experiences some kind of perturbation. Hence, the Slater matrix with its orbitals evaluated at the new position equals the old Slater matrix plus a perturbation matrix,"
   ]
  },
  {
   "cell_type": "markdown",
   "id": "a80b7c0d",
   "metadata": {
    "editable": true
   },
   "source": [
    "<!-- Equation labels as ordinary links -->\n",
    "<div id=\"oldSM\"></div>\n",
    "\n",
    "$$\n",
    "\\label{oldSM} \\tag{12}\n",
    "d_{jk}(\\mathbf{x^{new}}) = d_{jk}(\\mathbf{x^{old}}) + \\Delta_{jk},\n",
    "$$"
   ]
  },
  {
   "cell_type": "markdown",
   "id": "bdf4798b",
   "metadata": {
    "editable": true
   },
   "source": [
    "where"
   ]
  },
  {
   "cell_type": "markdown",
   "id": "e268d07f",
   "metadata": {
    "editable": true
   },
   "source": [
    "<!-- Equation labels as ordinary links -->\n",
    "<div id=\"pertMatrix\"></div>\n",
    "\n",
    "$$\n",
    "\\label{pertMatrix} \\tag{13}\n",
    "\\Delta_{jk} = \\delta_{ik}[\\phi_j(\\mathbf{x_{i}^{new}}) - \\phi_j(\\mathbf{x_{i}^{old}})] = \\delta_{ik}(\\Delta\\phi)_j .\n",
    "$$"
   ]
  },
  {
   "cell_type": "markdown",
   "id": "ccf1e64f",
   "metadata": {
    "editable": true
   },
   "source": [
    "## Proof for updating algorithm for Slater determinant\n",
    "Computing the inverse of the transposed matrix we arrive at"
   ]
  },
  {
   "cell_type": "markdown",
   "id": "5223a76a",
   "metadata": {
    "editable": true
   },
   "source": [
    "<!-- Equation labels as ordinary links -->\n",
    "<div id=\"invDkj\"></div>\n",
    "\n",
    "$$\n",
    "\\begin{equation}\n",
    "\\label{invDkj} \\tag{14}\n",
    " d_{kj}(\\mathbf{x^{new}})^{-1} = [d_{kj}(\\mathbf{x^{old}}) + \\Delta_{kj}]^{-1}.\n",
    "\\end{equation}\n",
    "$$"
   ]
  },
  {
   "cell_type": "markdown",
   "id": "ab618bc9",
   "metadata": {
    "editable": true
   },
   "source": [
    "## Proof for updating algorithm for Slater determinant\n",
    "The evaluation of the right hand side (rhs) term above is carried out by applying the identity $(A +  B)^{-1} = A^{-1} - (A + B)^{-1} B A^{-1}$. In compact notation it yields"
   ]
  },
  {
   "cell_type": "markdown",
   "id": "996b79c9",
   "metadata": {
    "editable": true
   },
   "source": [
    "$$\n",
    "\\begin{eqnarray*}\n",
    " [\\mathbf{D}^{T}(\\mathbf{x^{new}})]^{-1} & = & [\\mathbf{D}^{T}(\\mathbf{x^{old}}) + \\Delta^T]^{-1}\\\\\n",
    "& = & [\\mathbf{D}^{T}(\\mathbf{x^{old}})]^{-1} - [\\mathbf{D}^{T}(\\mathbf{x^{old}}) + \\Delta^T]^{-1} \\Delta^T [\\mathbf{D}^{T}(\\mathbf{x^{old}})]^{-1}\\\\\n",
    "& = & [\\mathbf{D}^{T}(\\mathbf{x^{old}})]^{-1} - \\underbrace{{[\\mathbf{D}^{T}(\\mathbf{x^{new}})]^{-1}}}_{\\text{By Eq.}{\\ref{invDkj}}}  \\Delta^T [\\mathbf{D}^{T}(\\mathbf{x^{old}})]^{-1}.\n",
    "\\end{eqnarray*}\n",
    "$$"
   ]
  },
  {
   "cell_type": "markdown",
   "id": "cd04af61",
   "metadata": {
    "editable": true
   },
   "source": [
    "## Proof for updating algorithm for Slater determinant\n",
    "Using index notation, the last result may be expanded by"
   ]
  },
  {
   "cell_type": "markdown",
   "id": "3db79250",
   "metadata": {
    "editable": true
   },
   "source": [
    "$$\n",
    "\\begin{eqnarray*}\n",
    "d^{-1}_{kj}(\\mathbf{x^{new}}) & = & d^{-1}_{kj}(\\mathbf{x^{old}}) -  \\sum_{l} \\sum_{m} d^{-1}_{km}(\\mathbf{x^{new}}) \\Delta^{T}_{ml}  d^{-1}_{lj}(\\mathbf{x^{old}})\\\\\n",
    "& = & d^{-1}_{kj}(\\mathbf{x^{old}}) -  \\sum_{l} \\sum_{m} d^{-1}_{km}(\\mathbf{x^{new}}) \\Delta_{lm}  d^{-1}_{lj}(\\mathbf{x^{cur}})\\\\\n",
    "& = & d^{-1}_{kj}(\\mathbf{x^{old}}) -  \\sum_{l} \\sum_{m} d^{-1}_{km}(\\mathbf{x^{new}}) \\delta_{im} (\\Delta \\phi)_{l} d^{-1}_{lj}(\\mathbf{x^{old}})\\\\\n",
    "& = & d^{-1}_{kj}(\\mathbf{x^{old}}) - d^{-1}_{ki}(\\mathbf{x^{new}}) \\sum_{l=1}^{N}(\\Delta \\phi)_{l}  d^{-1}_{lj}(\\mathbf{x^{old}})\\\\\n",
    "& = & d^{-1}_{kj}(\\mathbf{x^{old}}) - d^{-1}_{ki}(\\mathbf{x^{new}}) \\sum_{l=1}^{N}[\\phi_{l}(\\mathbf{r_{i}^{new}}) - \\phi_{l}(\\mathbf{r_{i}^{old}})]  D^{-1}_{lj}(\\mathbf{x^{old}}).\n",
    "\\end{eqnarray*}\n",
    "$$"
   ]
  },
  {
   "cell_type": "markdown",
   "id": "191bd290",
   "metadata": {
    "editable": true
   },
   "source": [
    "## Proof for updating algorithm for Slater determinant\n",
    "Using \n",
    "$$\\mathbf{D}^{-1}(\\mathbf{x^{old}}) = \\frac{adj \\mathbf{D}}{|\\mathbf{D}(\\mathbf{x^{old}})|} \\, \\quad \\text{and} \\, \\quad \\mathbf{D}^{-1}(\\mathbf{x^{new}}) = \\frac{adj \\mathbf{D}}{|\\mathbf{D}(\\mathbf{x^{new}})|},$$\n",
    "and dividing these two equations we get\n",
    "$$\\frac{\\mathbf{D}^{-1}(\\mathbf{x^{old}})}{\\mathbf{D}^{-1}(\\mathbf{x^{new}})} = \\frac{|\\mathbf{D}(\\mathbf{x^{new}})|}{|\\mathbf{D}(\\mathbf{x^{old}})|} = R \\Rightarrow d^{-1}_{ki}(\\mathbf{x^{new}}) = \\frac{d^{-1}_{ki}(\\mathbf{x^{old}})}{R}.$$"
   ]
  },
  {
   "cell_type": "markdown",
   "id": "271cc2ec",
   "metadata": {
    "editable": true
   },
   "source": [
    "## Proof for updating algorithm for Slater determinant\n",
    "We have $$d^{-1}_{kj}(\\mathbf{x^{new}})  =  d^{-1}_{kj}(\\mathbf{x^{old}}) - \\frac{d^{-1}_{ki}(\\mathbf{x^{old}})}{R} \\sum_{l=1}^{N}[\\phi_{l}(\\mathbf{r_{i}^{new}}) - \\phi_{l}(\\mathbf{r_{i}^{old}})]  d^{-1}_{lj}(\\mathbf{x^{old}}),$$\n",
    "or"
   ]
  },
  {
   "cell_type": "markdown",
   "id": "fdbcdc50",
   "metadata": {
    "editable": true
   },
   "source": [
    "$$\n",
    "d^{-1}_{kj}(\\mathbf{x^{new}})  =  d^{-1}_{kj}(\\mathbf{x^{old}}) \\qquad  -  \\frac{d^{-1}_{ki}(\\mathbf{x^{old}})}{R} \\sum_{l=1}^{N}\\phi_{l}(\\mathbf{r_{i}^{new}})  d^{-1}_{lj}(\\mathbf{x^{old}}) \\nonumber\n",
    "$$"
   ]
  },
  {
   "cell_type": "markdown",
   "id": "30216f18",
   "metadata": {
    "editable": true
   },
   "source": [
    "$$\n",
    "+   \\frac{d^{-1}_{ki}(\\mathbf{x^{old}})}{R} \\sum_{l=1}^{N}\\phi_{l}(\\mathbf{r_{i}^{old}})  d^{-1}_{lj}(\\mathbf{x^{old}})\\nonumber\n",
    "$$"
   ]
  },
  {
   "cell_type": "markdown",
   "id": "e3b30858",
   "metadata": {
    "editable": true
   },
   "source": [
    "$$\n",
    "=  d^{-1}_{kj}(\\mathbf{x^{old}}) \\qquad  -  \\frac{d^{-1}_{ki}(\\mathbf{x^{old}})}{R} \\sum_{l=1}^{N} d_{il}(\\mathbf{x^{new}})  d^{-1}_{lj}(\\mathbf{x^{old}}) \\nonumber\n",
    "$$"
   ]
  },
  {
   "cell_type": "markdown",
   "id": "e3d8ae60",
   "metadata": {
    "editable": true
   },
   "source": [
    "$$\n",
    "+   \\frac{d^{-1}_{ki}(\\mathbf{x^{old}})}{R} \\sum_{l=1}^{N} d_{il}(\\mathbf{x^{old}}) d^{-1}_{lj}(\\mathbf{x^{old}}).\\nonumber\n",
    "$$"
   ]
  },
  {
   "cell_type": "markdown",
   "id": "e1830f7b",
   "metadata": {
    "editable": true
   },
   "source": [
    "## Proof for updating algorithm for Slater determinant\n",
    "In this equation, the first line becomes zero for $j=i$ and the second for $j \\neq i$. Therefore, the update of the inverse for the new Slater matrix is given by"
   ]
  },
  {
   "cell_type": "markdown",
   "id": "43c9ac53",
   "metadata": {
    "editable": true
   },
   "source": [
    "$$\n",
    "\\begin{eqnarray}\n",
    "\\boxed{d^{-1}_{kj}(\\mathbf{x^{new}})  = \\left\\{ \n",
    "\\begin{array}{l l}\n",
    "  d^{-1}_{kj}(\\mathbf{x^{old}}) - \\frac{d^{-1}_{ki}(\\mathbf{x^{old}})}{R} \\sum_{l=1}^{N} d_{il}(\\mathbf{x^{new}})  d^{-1}_{lj}(\\mathbf{x^{old}}) & \\mbox{if $j \\neq i$}\\nonumber \\\\ \\\\\n",
    " \\frac{d^{-1}_{ki}(\\mathbf{x^{old}})}{R} \\sum_{l=1}^{N} d_{il}(\\mathbf{x^{old}}) d^{-1}_{lj}(\\mathbf{x^{old}}) & \\mbox{if $j=i$}\n",
    "\\end{array} \\right.}\n",
    "\\end{eqnarray}\n",
    "$$"
   ]
  }
 ],
 "metadata": {},
 "nbformat": 4,
 "nbformat_minor": 5
}
