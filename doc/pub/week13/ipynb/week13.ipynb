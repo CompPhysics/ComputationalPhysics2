{
 "cells": [
  {
   "cell_type": "markdown",
   "id": "24a2cd59",
   "metadata": {
    "editable": true
   },
   "source": [
    "<!-- HTML file automatically generated from DocOnce source (https://github.com/doconce/doconce/)\n",
    "doconce format html week13.do.txt --no_mako --no_abort -->\n",
    "<!-- dom:TITLE: April 8-12: Neural networks and project 2 -->"
   ]
  },
  {
   "cell_type": "markdown",
   "id": "3f225938",
   "metadata": {
    "editable": true
   },
   "source": [
    "# April 8-12: Neural networks and project 2\n",
    "**Morten Hjorth-Jensen  Email morten.hjorth-jensen@fys.uio.no**, Department of Physics and Center fo Computing in Science Education, University of Oslo, Oslo, Norway and Department of Physics and Astronomy and Facility for Rare Ion Beams, Michigan State University, East Lansing, Michigan, USA\n",
    "\n",
    "Date: **April 12**"
   ]
  },
  {
   "cell_type": "markdown",
   "id": "0d891bdd",
   "metadata": {
    "editable": true
   },
   "source": [
    "## Overview of week April 12-18\n",
    "\n",
    "1. Neural Networks and Boltzmann Machines, introduction to Boltzmann machines\n",
    "\n",
    "* [Video of lecture TBA](https://youtu.be/SibaquLChg8)\n",
    "\n",
    "* [Handwritten notes](https://github.com/CompPhysics/ComputationalPhysics2/blob/gh-pages/doc/HandWrittenNotes/2023/NotesApril20.pdf)"
   ]
  }
 ],
 "metadata": {},
 "nbformat": 4,
 "nbformat_minor": 5
}
